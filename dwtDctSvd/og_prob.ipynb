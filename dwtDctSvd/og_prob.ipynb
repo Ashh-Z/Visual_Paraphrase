{
 "cells": [
  {
   "cell_type": "code",
   "execution_count": 1,
   "metadata": {},
   "outputs": [],
   "source": [
    "import cv2\n",
    "from imwatermark import WatermarkEncoder\n",
    "from imwatermark import WatermarkDecoder\n",
    "import numpy as np \n",
    "import os \n",
    "import json \n",
    "import pywt\n",
    "from tqdm import tqdm \n",
    "from PIL import Image, ImageEnhance\n",
    "from skimage.util import random_noise\n",
    "from collections import defaultdict\n",
    "import hashlib"
   ]
  },
  {
   "cell_type": "code",
   "execution_count": 2,
   "metadata": {},
   "outputs": [],
   "source": [
    "wm_imgs_path = '/raid/home/ashhar21137/watermarking/dwtDctSvd/dwtDctSvd_watermarked_images'"
   ]
  },
  {
   "cell_type": "code",
   "execution_count": 3,
   "metadata": {},
   "outputs": [],
   "source": [
    "wm_imgs = os.listdir(wm_imgs_path)"
   ]
  },
  {
   "cell_type": "code",
   "execution_count": 6,
   "metadata": {},
   "outputs": [
    {
     "name": "stdout",
     "output_type": "stream",
     "text": [
      "['Image_79481.jpg', 'Image_96557.jpg', 'Image_280260.jpg', 'Image_62279.jpg', 'Image_170558.jpg', 'Image_215481.jpg', 'Image_520208.jpg', 'Image_95989.jpg', 'Image_504616.jpg', 'Image_309322.jpg', 'Image_239728.jpg', 'Image_341550.jpg', 'Image_405613.jpg', 'Image_441488.jpg', 'Image_420721.jpg', 'Image_18885.jpg', 'Image_399956.jpg', 'Image_93785.jpg', 'Image_570246.jpg', 'Image_262845.jpg', 'Image_49183.jpg', 'Image_142088.jpg', 'Image_394326.jpg', 'Image_524068.jpg', 'Image_352884.jpg', 'Image_199628.jpg', 'Image_160559.jpg', 'Image_57870.jpg', 'Image_398494.jpg', 'Image_241364.jpg', 'Image_84427.jpg', 'Image_393493.jpg', 'Image_483008.jpg', 'Image_469605.jpg', 'Image_348850.jpg', 'Image_387083.jpg', 'Image_77375.jpg', 'Image_122108.jpg', 'Image_540162.jpg', 'Image_19380.jpg', 'Image_44404.jpg', 'Image_345781.jpg', 'Image_405207.jpg', 'Image_153946.jpg', 'Image_457732.jpg', 'Image_153674.jpg', 'Image_472925.jpg', 'Image_388754.jpg', 'Image_170850.jpg', 'Image_384029.jpg', 'Image_62604.jpg', 'Image_570608.jpg', 'Image_317237.jpg', 'Image_299411.jpg', 'Image_109424.jpg', 'Image_581674.jpg', 'Image_239811.jpg', 'Image_318189.jpg', 'Image_278347.jpg', 'Image_90570.jpg', 'Image_374114.jpg', 'Image_505126.jpg', 'Image_8649.jpg', 'Image_145179.jpg', 'Image_66514.jpg', 'Image_462559.jpg', 'Image_4428.jpg', 'Image_210932.jpg', 'Image_257350.jpg', 'Image_122688.jpg', 'Image_377694.jpg', 'Image_438422.jpg', 'Image_161919.jpg', 'Image_354444.jpg', 'Image_287541.jpg', 'Image_556801.jpg', 'Image_186233.jpg', 'Image_95133.jpg', 'Image_496939.jpg', 'Image_71631.jpg', 'Image_371029.jpg', 'Image_259446.jpg', 'Image_55627.jpg', 'Image_334080.jpg', 'Image_150867.jpg', 'Image_470072.jpg', 'Image_181104.jpg', 'Image_559527.jpg', 'Image_209967.jpg', 'Image_444546.jpg', 'Image_409513.jpg', 'Image_165499.jpg', 'Image_351430.jpg', 'Image_36633.jpg', 'Image_147303.jpg', 'Image_474882.jpg', 'Image_318574.jpg', 'Image_222016.jpg', 'Image_236772.jpg', 'Image_486320.jpg', 'Image_551125.jpg', 'Image_70868.jpg', 'Image_378710.jpg', 'Image_536587.jpg', 'Image_167613.jpg', 'Image_392136.jpg', 'Image_287927.jpg', 'Image_217306.jpg', 'Image_560459.jpg', 'Image_496283.jpg', 'Image_212091.jpg', 'Image_483751.jpg', 'Image_223726.jpg', 'Image_560628.jpg', 'Image_108627.jpg', 'Image_246804.jpg', 'Image_365363.jpg', 'Image_64460.jpg', 'Image_225750.jpg', 'Image_446014.jpg', 'Image_157032.jpg', 'Image_96997.jpg', 'Image_302389.jpg', 'Image_574001.jpg', 'Image_525589.jpg', 'Image_280980.jpg', 'Image_316676.jpg', 'Image_412535.jpg', 'Image_445528.jpg', 'Image_576757.jpg', 'Image_313932.jpg', 'Image_477797.jpg', 'Image_98760.jpg', 'Image_513541.jpg', 'Image_136461.jpg', 'Image_85685.jpg', 'Image_356702.jpg', 'Image_424102.jpg', 'Image_467311.jpg', 'Image_540988.jpg', 'Image_301778.jpg', 'Image_388911.jpg', 'Image_409382.jpg', 'Image_292835.jpg', 'Image_311914.jpg', 'Image_492386.jpg', 'Image_69675.jpg', 'Image_189993.jpg', 'Image_265709.jpg', 'Image_269829.jpg', 'Image_326511.jpg', 'Image_353139.jpg', 'Image_309093.jpg', 'Image_277854.jpg', 'Image_546451.jpg', 'Image_344806.jpg', 'Image_413746.jpg', 'Image_279108.jpg', 'Image_576801.jpg', 'Image_246446.jpg', 'Image_520950.jpg', 'Image_155845.jpg', 'Image_448698.jpg', 'Image_2024.jpg', 'Image_357684.jpg', 'Image_101418.jpg', 'Image_219025.jpg', 'Image_547471.jpg', 'Image_70000.jpg', 'Image_289019.jpg', 'Image_270912.jpg', 'Image_485894.jpg', 'Image_535786.jpg', 'Image_147016.jpg', 'Image_343322.jpg', 'Image_412198.jpg', 'Image_77806.jpg', 'Image_168194.jpg', 'Image_303291.jpg', 'Image_491269.jpg', 'Image_530683.jpg', 'Image_172899.jpg', 'Image_267688.jpg', 'Image_523617.jpg', 'Image_426038.jpg', 'Image_214704.jpg', 'Image_497616.jpg', 'Image_179620.jpg', 'Image_42493.jpg', 'Image_62426.jpg', 'Image_543877.jpg', 'Image_160163.jpg', 'Image_167603.jpg', 'Image_218956.jpg', 'Image_147170.jpg', 'Image_283524.jpg', 'Image_37015.jpg', 'Image_213546.jpg', 'Image_528906.jpg', 'Image_454325.jpg']\n"
     ]
    }
   ],
   "source": [
    "print(wm_imgs)"
   ]
  },
  {
   "cell_type": "code",
   "execution_count": 20,
   "metadata": {},
   "outputs": [],
   "source": [
    "detection = defaultdict(lambda: defaultdict(dict))"
   ]
  },
  {
   "cell_type": "code",
   "execution_count": 21,
   "metadata": {},
   "outputs": [],
   "source": [
    "def get_watermark_probability(image_path, expected_watermark, scale=32):\n",
    "    try:\n",
    "        # Read the image\n",
    "        bgr = cv2.imread(image_path)\n",
    "        \n",
    "        # Create the decoder\n",
    "        decoder = WatermarkDecoder('bytes', scale)\n",
    "        # Decode the watermark\n",
    "        decoded_watermark_bytes = decoder.decode(bgr, 'dwtDctSvd')\n",
    "        decoded_watermark = decoded_watermark_bytes.decode('utf-8')\n",
    "        \n",
    "        # Compare the decoded watermark with the expected watermark\n",
    "        if decoded_watermark:\n",
    "            correct_chars = sum([1 for i, j in zip(decoded_watermark, expected_watermark) if i == j])\n",
    "            total_chars = max(len(decoded_watermark), len(expected_watermark))\n",
    "            confidence_score = correct_chars / total_chars\n",
    "        else:\n",
    "            decoded_watermark = ''\n",
    "            confidence_score = 0\n",
    "    except Exception as e:\n",
    "        # Handle any decoding errors\n",
    "        decoded_watermark = ''\n",
    "        confidence_score = 0\n",
    "    \n",
    "    return decoded_watermark, confidence_score"
   ]
  },
  {
   "cell_type": "code",
   "execution_count": 22,
   "metadata": {},
   "outputs": [],
   "source": [
    "wm = 'test'"
   ]
  },
  {
   "cell_type": "code",
   "execution_count": 23,
   "metadata": {},
   "outputs": [
    {
     "name": "stdout",
     "output_type": "stream",
     "text": [
      "----------------- Generating detection results ------------------\n"
     ]
    },
    {
     "name": "stderr",
     "output_type": "stream",
     "text": [
      "  1%|          | 2/200 [00:00<00:14, 13.48it/s]"
     ]
    },
    {
     "name": "stdout",
     "output_type": "stream",
     "text": [
      "----- Count : 1 -----\n",
      " *** Image : Image_79481.jpg ***\n",
      "Detection Probability :  1.0\n",
      "----- Count : 2 -----\n",
      " *** Image : Image_96557.jpg ***\n",
      "Detection Probability :  1.0\n",
      "----- Count : 3 -----\n",
      " *** Image : Image_280260.jpg ***\n"
     ]
    },
    {
     "name": "stderr",
     "output_type": "stream",
     "text": [
      "  2%|▏         | 4/200 [00:00<00:15, 12.92it/s]"
     ]
    },
    {
     "name": "stdout",
     "output_type": "stream",
     "text": [
      "Detection Probability :  1.0\n",
      "----- Count : 4 -----\n",
      " *** Image : Image_62279.jpg ***\n",
      "Detection Probability :  1.0\n",
      "----- Count : 5 -----\n",
      " *** Image : Image_170558.jpg ***\n",
      "Detection Probability :  1.0\n",
      "----- Count : 6 -----\n",
      " *** Image : Image_215481.jpg ***\n"
     ]
    },
    {
     "name": "stderr",
     "output_type": "stream",
     "text": [
      "  4%|▍         | 8/200 [00:00<00:15, 12.61it/s]"
     ]
    },
    {
     "name": "stdout",
     "output_type": "stream",
     "text": [
      "Detection Probability :  1.0\n",
      "----- Count : 7 -----\n",
      " *** Image : Image_520208.jpg ***\n",
      "Detection Probability :  1.0\n",
      "----- Count : 8 -----\n",
      " *** Image : Image_95989.jpg ***\n",
      "Detection Probability :  1.0\n",
      "----- Count : 9 -----\n",
      " *** Image : Image_504616.jpg ***\n"
     ]
    },
    {
     "name": "stderr",
     "output_type": "stream",
     "text": [
      "  5%|▌         | 10/200 [00:00<00:15, 12.53it/s]"
     ]
    },
    {
     "name": "stdout",
     "output_type": "stream",
     "text": [
      "Detection Probability :  1.0\n",
      "----- Count : 10 -----\n",
      " *** Image : Image_309322.jpg ***\n",
      "Detection Probability :  1.0\n",
      "----- Count : 11 -----\n",
      " *** Image : Image_239728.jpg ***\n",
      "Detection Probability :  1.0\n",
      "----- Count : 12 -----\n",
      " *** Image : Image_341550.jpg ***\n"
     ]
    },
    {
     "name": "stderr",
     "output_type": "stream",
     "text": [
      "  7%|▋         | 14/200 [00:01<00:14, 12.60it/s]"
     ]
    },
    {
     "name": "stdout",
     "output_type": "stream",
     "text": [
      "Detection Probability :  1.0\n",
      "----- Count : 13 -----\n",
      " *** Image : Image_405613.jpg ***\n",
      "Detection Probability :  1.0\n",
      "----- Count : 14 -----\n",
      " *** Image : Image_441488.jpg ***\n",
      "Detection Probability :  1.0\n",
      "----- Count : 15 -----\n",
      " *** Image : Image_420721.jpg ***\n"
     ]
    },
    {
     "name": "stderr",
     "output_type": "stream",
     "text": [
      "  8%|▊         | 16/200 [00:01<00:14, 13.03it/s]"
     ]
    },
    {
     "name": "stdout",
     "output_type": "stream",
     "text": [
      "Detection Probability :  1.0\n",
      "----- Count : 16 -----\n",
      " *** Image : Image_18885.jpg ***\n",
      "Detection Probability :  1.0\n",
      "----- Count : 17 -----\n",
      " *** Image : Image_399956.jpg ***\n",
      "Detection Probability :  1.0\n",
      "----- Count : 18 -----\n",
      " *** Image : Image_93785.jpg ***\n"
     ]
    },
    {
     "name": "stderr",
     "output_type": "stream",
     "text": [
      " 10%|█         | 20/200 [00:01<00:13, 12.89it/s]"
     ]
    },
    {
     "name": "stdout",
     "output_type": "stream",
     "text": [
      "Detection Probability :  1.0\n",
      "----- Count : 19 -----\n",
      " *** Image : Image_570246.jpg ***\n",
      "Detection Probability :  1.0\n",
      "----- Count : 20 -----\n",
      " *** Image : Image_262845.jpg ***\n",
      "Detection Probability :  1.0\n",
      "----- Count : 21 -----\n",
      " *** Image : Image_49183.jpg ***\n"
     ]
    },
    {
     "name": "stderr",
     "output_type": "stream",
     "text": [
      " 11%|█         | 22/200 [00:01<00:13, 12.94it/s]"
     ]
    },
    {
     "name": "stdout",
     "output_type": "stream",
     "text": [
      "Detection Probability :  1.0\n",
      "----- Count : 22 -----\n",
      " *** Image : Image_142088.jpg ***\n",
      "Detection Probability :  1.0\n",
      "----- Count : 23 -----\n",
      " *** Image : Image_394326.jpg ***\n",
      "Detection Probability :  1.0\n",
      "----- Count : 24 -----\n",
      " *** Image : Image_524068.jpg ***\n"
     ]
    },
    {
     "name": "stderr",
     "output_type": "stream",
     "text": [
      " 13%|█▎        | 26/200 [00:01<00:12, 13.53it/s]"
     ]
    },
    {
     "name": "stdout",
     "output_type": "stream",
     "text": [
      "Detection Probability :  1.0\n",
      "----- Count : 25 -----\n",
      " *** Image : Image_352884.jpg ***\n",
      "Detection Probability :  1.0\n",
      "----- Count : 26 -----\n",
      " *** Image : Image_199628.jpg ***\n",
      "Detection Probability :  1.0\n",
      "----- Count : 27 -----\n",
      " *** Image : Image_160559.jpg ***\n"
     ]
    },
    {
     "name": "stderr",
     "output_type": "stream",
     "text": [
      " 14%|█▍        | 28/200 [00:02<00:12, 13.62it/s]"
     ]
    },
    {
     "name": "stdout",
     "output_type": "stream",
     "text": [
      "Detection Probability :  1.0\n",
      "----- Count : 28 -----\n",
      " *** Image : Image_57870.jpg ***\n",
      "Detection Probability :  1.0\n",
      "----- Count : 29 -----\n",
      " *** Image : Image_398494.jpg ***\n",
      "Detection Probability :  1.0\n",
      "----- Count : 30 -----\n",
      " *** Image : Image_241364.jpg ***\n"
     ]
    },
    {
     "name": "stderr",
     "output_type": "stream",
     "text": [
      " 16%|█▌        | 32/200 [00:02<00:12, 13.71it/s]"
     ]
    },
    {
     "name": "stdout",
     "output_type": "stream",
     "text": [
      "Detection Probability :  1.0\n",
      "----- Count : 31 -----\n",
      " *** Image : Image_84427.jpg ***\n",
      "Detection Probability :  1.0\n",
      "----- Count : 32 -----\n",
      " *** Image : Image_393493.jpg ***\n",
      "Detection Probability :  1.0\n",
      "----- Count : 33 -----\n",
      " *** Image : Image_483008.jpg ***\n"
     ]
    },
    {
     "name": "stderr",
     "output_type": "stream",
     "text": [
      " 17%|█▋        | 34/200 [00:02<00:12, 13.18it/s]"
     ]
    },
    {
     "name": "stdout",
     "output_type": "stream",
     "text": [
      "Detection Probability :  1.0\n",
      "----- Count : 34 -----\n",
      " *** Image : Image_469605.jpg ***\n",
      "Detection Probability :  1.0\n",
      "----- Count : 35 -----\n",
      " *** Image : Image_348850.jpg ***\n",
      "Detection Probability :  1.0\n",
      "----- Count : 36 -----\n",
      " *** Image : Image_387083.jpg ***\n"
     ]
    },
    {
     "name": "stderr",
     "output_type": "stream",
     "text": [
      " 19%|█▉        | 38/200 [00:02<00:12, 13.15it/s]"
     ]
    },
    {
     "name": "stdout",
     "output_type": "stream",
     "text": [
      "Detection Probability :  1.0\n",
      "----- Count : 37 -----\n",
      " *** Image : Image_77375.jpg ***\n",
      "Detection Probability :  1.0\n",
      "----- Count : 38 -----\n",
      " *** Image : Image_122108.jpg ***\n",
      "Detection Probability :  1.0\n",
      "----- Count : 39 -----\n",
      " *** Image : Image_540162.jpg ***\n"
     ]
    },
    {
     "name": "stderr",
     "output_type": "stream",
     "text": [
      " 20%|██        | 40/200 [00:03<00:12, 12.86it/s]"
     ]
    },
    {
     "name": "stdout",
     "output_type": "stream",
     "text": [
      "Detection Probability :  1.0\n",
      "----- Count : 40 -----\n",
      " *** Image : Image_19380.jpg ***\n",
      "Detection Probability :  1.0\n",
      "----- Count : 41 -----\n",
      " *** Image : Image_44404.jpg ***\n",
      "Detection Probability :  1.0\n",
      "----- Count : 42 -----\n",
      " *** Image : Image_345781.jpg ***\n"
     ]
    },
    {
     "name": "stderr",
     "output_type": "stream",
     "text": [
      " 22%|██▏       | 44/200 [00:03<00:12, 12.90it/s]"
     ]
    },
    {
     "name": "stdout",
     "output_type": "stream",
     "text": [
      "Detection Probability :  1.0\n",
      "----- Count : 43 -----\n",
      " *** Image : Image_405207.jpg ***\n",
      "Detection Probability :  1.0\n",
      "----- Count : 44 -----\n",
      " *** Image : Image_153946.jpg ***\n",
      "Detection Probability :  1.0\n",
      "----- Count : 45 -----\n",
      " *** Image : Image_457732.jpg ***\n"
     ]
    },
    {
     "name": "stderr",
     "output_type": "stream",
     "text": [
      " 23%|██▎       | 46/200 [00:03<00:11, 13.18it/s]"
     ]
    },
    {
     "name": "stdout",
     "output_type": "stream",
     "text": [
      "Detection Probability :  1.0\n",
      "----- Count : 46 -----\n",
      " *** Image : Image_153674.jpg ***\n",
      "Detection Probability :  1.0\n",
      "----- Count : 47 -----\n",
      " *** Image : Image_472925.jpg ***\n",
      "Detection Probability :  1.0\n",
      "----- Count : 48 -----\n",
      " *** Image : Image_388754.jpg ***\n"
     ]
    },
    {
     "name": "stderr",
     "output_type": "stream",
     "text": [
      " 25%|██▌       | 50/200 [00:03<00:11, 13.28it/s]"
     ]
    },
    {
     "name": "stdout",
     "output_type": "stream",
     "text": [
      "Detection Probability :  1.0\n",
      "----- Count : 49 -----\n",
      " *** Image : Image_170850.jpg ***\n",
      "Detection Probability :  1.0\n",
      "----- Count : 50 -----\n",
      " *** Image : Image_384029.jpg ***\n",
      "Detection Probability :  1.0\n",
      "----- Count : 51 -----\n",
      " *** Image : Image_62604.jpg ***\n"
     ]
    },
    {
     "name": "stderr",
     "output_type": "stream",
     "text": [
      " 26%|██▌       | 52/200 [00:03<00:11, 13.37it/s]"
     ]
    },
    {
     "name": "stdout",
     "output_type": "stream",
     "text": [
      "Detection Probability :  1.0\n",
      "----- Count : 52 -----\n",
      " *** Image : Image_570608.jpg ***\n",
      "Detection Probability :  1.0\n",
      "----- Count : 53 -----\n",
      " *** Image : Image_317237.jpg ***\n",
      "Detection Probability :  1.0\n",
      "----- Count : 54 -----\n",
      " *** Image : Image_299411.jpg ***\n"
     ]
    },
    {
     "name": "stderr",
     "output_type": "stream",
     "text": [
      " 28%|██▊       | 56/200 [00:04<00:11, 12.70it/s]"
     ]
    },
    {
     "name": "stdout",
     "output_type": "stream",
     "text": [
      "Detection Probability :  1.0\n",
      "----- Count : 55 -----\n",
      " *** Image : Image_109424.jpg ***\n",
      "Detection Probability :  1.0\n",
      "----- Count : 56 -----\n",
      " *** Image : Image_581674.jpg ***\n",
      "Detection Probability :  1.0\n",
      "----- Count : 57 -----\n",
      " *** Image : Image_239811.jpg ***\n"
     ]
    },
    {
     "name": "stderr",
     "output_type": "stream",
     "text": [
      " 29%|██▉       | 58/200 [00:04<00:11, 12.11it/s]"
     ]
    },
    {
     "name": "stdout",
     "output_type": "stream",
     "text": [
      "Detection Probability :  1.0\n",
      "----- Count : 58 -----\n",
      " *** Image : Image_318189.jpg ***\n",
      "Detection Probability :  1.0\n",
      "----- Count : 59 -----\n",
      " *** Image : Image_278347.jpg ***\n",
      "Detection Probability :  1.0\n",
      "----- Count : 60 -----\n",
      " *** Image : Image_90570.jpg ***\n"
     ]
    },
    {
     "name": "stderr",
     "output_type": "stream",
     "text": [
      " 31%|███       | 62/200 [00:04<00:10, 12.80it/s]"
     ]
    },
    {
     "name": "stdout",
     "output_type": "stream",
     "text": [
      "Detection Probability :  1.0\n",
      "----- Count : 61 -----\n",
      " *** Image : Image_374114.jpg ***\n",
      "Detection Probability :  1.0\n",
      "----- Count : 62 -----\n",
      " *** Image : Image_505126.jpg ***\n",
      "Detection Probability :  1.0\n",
      "----- Count : 63 -----\n",
      " *** Image : Image_8649.jpg ***\n"
     ]
    },
    {
     "name": "stderr",
     "output_type": "stream",
     "text": [
      " 32%|███▏      | 64/200 [00:04<00:10, 12.89it/s]"
     ]
    },
    {
     "name": "stdout",
     "output_type": "stream",
     "text": [
      "Detection Probability :  1.0\n",
      "----- Count : 64 -----\n",
      " *** Image : Image_145179.jpg ***\n",
      "Detection Probability :  1.0\n",
      "----- Count : 65 -----\n",
      " *** Image : Image_66514.jpg ***\n",
      "Detection Probability :  1.0\n",
      "----- Count : 66 -----\n",
      " *** Image : Image_462559.jpg ***\n"
     ]
    },
    {
     "name": "stderr",
     "output_type": "stream",
     "text": [
      " 34%|███▍      | 68/200 [00:05<00:09, 13.56it/s]"
     ]
    },
    {
     "name": "stdout",
     "output_type": "stream",
     "text": [
      "Detection Probability :  1.0\n",
      "----- Count : 67 -----\n",
      " *** Image : Image_4428.jpg ***\n",
      "Detection Probability :  1.0\n",
      "----- Count : 68 -----\n",
      " *** Image : Image_210932.jpg ***\n",
      "Detection Probability :  1.0\n",
      "----- Count : 69 -----\n",
      " *** Image : Image_257350.jpg ***\n"
     ]
    },
    {
     "name": "stderr",
     "output_type": "stream",
     "text": [
      " 35%|███▌      | 70/200 [00:05<00:09, 13.66it/s]"
     ]
    },
    {
     "name": "stdout",
     "output_type": "stream",
     "text": [
      "Detection Probability :  1.0\n",
      "----- Count : 70 -----\n",
      " *** Image : Image_122688.jpg ***\n",
      "Detection Probability :  1.0\n",
      "----- Count : 71 -----\n",
      " *** Image : Image_377694.jpg ***\n",
      "Detection Probability :  1.0\n",
      "----- Count : 72 -----\n",
      " *** Image : Image_438422.jpg ***\n"
     ]
    },
    {
     "name": "stderr",
     "output_type": "stream",
     "text": [
      " 37%|███▋      | 74/200 [00:05<00:09, 12.81it/s]"
     ]
    },
    {
     "name": "stdout",
     "output_type": "stream",
     "text": [
      "Detection Probability :  1.0\n",
      "----- Count : 73 -----\n",
      " *** Image : Image_161919.jpg ***\n",
      "Detection Probability :  1.0\n",
      "----- Count : 74 -----\n",
      " *** Image : Image_354444.jpg ***\n",
      "Detection Probability :  1.0\n",
      "----- Count : 75 -----\n",
      " *** Image : Image_287541.jpg ***\n"
     ]
    },
    {
     "name": "stderr",
     "output_type": "stream",
     "text": [
      " 38%|███▊      | 76/200 [00:05<00:09, 13.14it/s]"
     ]
    },
    {
     "name": "stdout",
     "output_type": "stream",
     "text": [
      "Detection Probability :  1.0\n",
      "----- Count : 76 -----\n",
      " *** Image : Image_556801.jpg ***\n",
      "Detection Probability :  1.0\n",
      "----- Count : 77 -----\n",
      " *** Image : Image_186233.jpg ***\n",
      "Detection Probability :  1.0\n",
      "----- Count : 78 -----\n",
      " *** Image : Image_95133.jpg ***\n"
     ]
    },
    {
     "name": "stderr",
     "output_type": "stream",
     "text": [
      " 40%|████      | 80/200 [00:06<00:09, 13.27it/s]"
     ]
    },
    {
     "name": "stdout",
     "output_type": "stream",
     "text": [
      "Detection Probability :  1.0\n",
      "----- Count : 79 -----\n",
      " *** Image : Image_496939.jpg ***\n",
      "Detection Probability :  1.0\n",
      "----- Count : 80 -----\n",
      " *** Image : Image_71631.jpg ***\n",
      "Detection Probability :  1.0\n",
      "----- Count : 81 -----\n",
      " *** Image : Image_371029.jpg ***\n"
     ]
    },
    {
     "name": "stderr",
     "output_type": "stream",
     "text": [
      " 41%|████      | 82/200 [00:06<00:08, 13.41it/s]"
     ]
    },
    {
     "name": "stdout",
     "output_type": "stream",
     "text": [
      "Detection Probability :  1.0\n",
      "----- Count : 82 -----\n",
      " *** Image : Image_259446.jpg ***\n",
      "Detection Probability :  1.0\n",
      "----- Count : 83 -----\n",
      " *** Image : Image_55627.jpg ***\n",
      "Detection Probability :  1.0\n",
      "----- Count : 84 -----\n",
      " *** Image : Image_334080.jpg ***\n"
     ]
    },
    {
     "name": "stderr",
     "output_type": "stream",
     "text": [
      " 43%|████▎     | 86/200 [00:06<00:08, 13.75it/s]"
     ]
    },
    {
     "name": "stdout",
     "output_type": "stream",
     "text": [
      "Detection Probability :  1.0\n",
      "----- Count : 85 -----\n",
      " *** Image : Image_150867.jpg ***\n",
      "Detection Probability :  1.0\n",
      "----- Count : 86 -----\n",
      " *** Image : Image_470072.jpg ***\n",
      "Detection Probability :  1.0\n",
      "----- Count : 87 -----\n",
      " *** Image : Image_181104.jpg ***\n"
     ]
    },
    {
     "name": "stderr",
     "output_type": "stream",
     "text": [
      " 44%|████▍     | 88/200 [00:06<00:08, 13.80it/s]"
     ]
    },
    {
     "name": "stdout",
     "output_type": "stream",
     "text": [
      "Detection Probability :  1.0\n",
      "----- Count : 88 -----\n",
      " *** Image : Image_559527.jpg ***\n",
      "Detection Probability :  1.0\n",
      "----- Count : 89 -----\n",
      " *** Image : Image_209967.jpg ***\n",
      "Detection Probability :  1.0\n",
      "----- Count : 90 -----\n",
      " *** Image : Image_444546.jpg ***\n"
     ]
    },
    {
     "name": "stderr",
     "output_type": "stream",
     "text": [
      " 46%|████▌     | 92/200 [00:06<00:07, 13.57it/s]"
     ]
    },
    {
     "name": "stdout",
     "output_type": "stream",
     "text": [
      "Detection Probability :  1.0\n",
      "----- Count : 91 -----\n",
      " *** Image : Image_409513.jpg ***\n",
      "Detection Probability :  1.0\n",
      "----- Count : 92 -----\n",
      " *** Image : Image_165499.jpg ***\n",
      "Detection Probability :  1.0\n",
      "----- Count : 93 -----\n",
      " *** Image : Image_351430.jpg ***\n"
     ]
    },
    {
     "name": "stderr",
     "output_type": "stream",
     "text": [
      " 47%|████▋     | 94/200 [00:07<00:07, 13.59it/s]"
     ]
    },
    {
     "name": "stdout",
     "output_type": "stream",
     "text": [
      "Detection Probability :  1.0\n",
      "----- Count : 94 -----\n",
      " *** Image : Image_36633.jpg ***\n",
      "Detection Probability :  1.0\n",
      "----- Count : 95 -----\n",
      " *** Image : Image_147303.jpg ***\n",
      "Detection Probability :  1.0\n",
      "----- Count : 96 -----\n",
      " *** Image : Image_474882.jpg ***\n"
     ]
    },
    {
     "name": "stderr",
     "output_type": "stream",
     "text": [
      " 49%|████▉     | 98/200 [00:07<00:07, 13.17it/s]"
     ]
    },
    {
     "name": "stdout",
     "output_type": "stream",
     "text": [
      "Detection Probability :  1.0\n",
      "----- Count : 97 -----\n",
      " *** Image : Image_318574.jpg ***\n",
      "Detection Probability :  1.0\n",
      "----- Count : 98 -----\n",
      " *** Image : Image_222016.jpg ***\n",
      "Detection Probability :  1.0\n",
      "----- Count : 99 -----\n",
      " *** Image : Image_236772.jpg ***\n"
     ]
    },
    {
     "name": "stderr",
     "output_type": "stream",
     "text": [
      " 50%|█████     | 100/200 [00:07<00:07, 12.81it/s]"
     ]
    },
    {
     "name": "stdout",
     "output_type": "stream",
     "text": [
      "Detection Probability :  1.0\n",
      "----- Count : 100 -----\n",
      " *** Image : Image_486320.jpg ***\n",
      "Detection Probability :  1.0\n",
      "----- Count : 101 -----\n",
      " *** Image : Image_551125.jpg ***\n",
      "Detection Probability :  1.0\n",
      "----- Count : 102 -----\n",
      " *** Image : Image_70868.jpg ***\n"
     ]
    },
    {
     "name": "stderr",
     "output_type": "stream",
     "text": [
      " 52%|█████▏    | 104/200 [00:07<00:07, 13.48it/s]"
     ]
    },
    {
     "name": "stdout",
     "output_type": "stream",
     "text": [
      "Detection Probability :  1.0\n",
      "----- Count : 103 -----\n",
      " *** Image : Image_378710.jpg ***\n",
      "Detection Probability :  1.0\n",
      "----- Count : 104 -----\n",
      " *** Image : Image_536587.jpg ***\n",
      "Detection Probability :  1.0\n",
      "----- Count : 105 -----\n",
      " *** Image : Image_167613.jpg ***\n"
     ]
    },
    {
     "name": "stderr",
     "output_type": "stream",
     "text": [
      " 53%|█████▎    | 106/200 [00:08<00:06, 13.60it/s]"
     ]
    },
    {
     "name": "stdout",
     "output_type": "stream",
     "text": [
      "Detection Probability :  1.0\n",
      "----- Count : 106 -----\n",
      " *** Image : Image_392136.jpg ***\n",
      "Detection Probability :  1.0\n",
      "----- Count : 107 -----\n",
      " *** Image : Image_287927.jpg ***\n",
      "Detection Probability :  1.0\n",
      "----- Count : 108 -----\n",
      " *** Image : Image_217306.jpg ***\n"
     ]
    },
    {
     "name": "stderr",
     "output_type": "stream",
     "text": [
      " 55%|█████▌    | 110/200 [00:08<00:06, 13.66it/s]"
     ]
    },
    {
     "name": "stdout",
     "output_type": "stream",
     "text": [
      "Detection Probability :  1.0\n",
      "----- Count : 109 -----\n",
      " *** Image : Image_560459.jpg ***\n",
      "Detection Probability :  1.0\n",
      "----- Count : 110 -----\n",
      " *** Image : Image_496283.jpg ***\n",
      "Detection Probability :  1.0\n",
      "----- Count : 111 -----\n",
      " *** Image : Image_212091.jpg ***\n"
     ]
    },
    {
     "name": "stderr",
     "output_type": "stream",
     "text": [
      " 56%|█████▌    | 112/200 [00:08<00:06, 13.85it/s]"
     ]
    },
    {
     "name": "stdout",
     "output_type": "stream",
     "text": [
      "Detection Probability :  0.75\n",
      "----- Count : 112 -----\n",
      " *** Image : Image_483751.jpg ***\n",
      "Detection Probability :  1.0\n",
      "----- Count : 113 -----\n",
      " *** Image : Image_223726.jpg ***\n",
      "Detection Probability :  1.0\n",
      "----- Count : 114 -----\n",
      " *** Image : Image_560628.jpg ***\n"
     ]
    },
    {
     "name": "stderr",
     "output_type": "stream",
     "text": [
      " 58%|█████▊    | 116/200 [00:08<00:06, 13.41it/s]"
     ]
    },
    {
     "name": "stdout",
     "output_type": "stream",
     "text": [
      "Detection Probability :  1.0\n",
      "----- Count : 115 -----\n",
      " *** Image : Image_108627.jpg ***\n",
      "Detection Probability :  1.0\n",
      "----- Count : 116 -----\n",
      " *** Image : Image_246804.jpg ***\n",
      "Detection Probability :  1.0\n",
      "----- Count : 117 -----\n",
      " *** Image : Image_365363.jpg ***\n"
     ]
    },
    {
     "name": "stderr",
     "output_type": "stream",
     "text": [
      " 59%|█████▉    | 118/200 [00:08<00:06, 13.55it/s]"
     ]
    },
    {
     "name": "stdout",
     "output_type": "stream",
     "text": [
      "Detection Probability :  0.0\n",
      "----- Count : 118 -----\n",
      " *** Image : Image_64460.jpg ***\n",
      "Detection Probability :  1.0\n",
      "----- Count : 119 -----\n",
      " *** Image : Image_225750.jpg ***\n",
      "Detection Probability :  1.0\n",
      "----- Count : 120 -----\n",
      " *** Image : Image_446014.jpg ***\n"
     ]
    },
    {
     "name": "stderr",
     "output_type": "stream",
     "text": [
      " 61%|██████    | 122/200 [00:09<00:05, 13.36it/s]"
     ]
    },
    {
     "name": "stdout",
     "output_type": "stream",
     "text": [
      "Detection Probability :  1.0\n",
      "----- Count : 121 -----\n",
      " *** Image : Image_157032.jpg ***\n",
      "Detection Probability :  1.0\n",
      "----- Count : 122 -----\n",
      " *** Image : Image_96997.jpg ***\n",
      "Detection Probability :  1.0\n",
      "----- Count : 123 -----\n",
      " *** Image : Image_302389.jpg ***\n"
     ]
    },
    {
     "name": "stderr",
     "output_type": "stream",
     "text": [
      " 62%|██████▏   | 124/200 [00:09<00:06, 11.51it/s]"
     ]
    },
    {
     "name": "stdout",
     "output_type": "stream",
     "text": [
      "Detection Probability :  1.0\n",
      "----- Count : 124 -----\n",
      " *** Image : Image_574001.jpg ***\n",
      "Detection Probability :  1.0\n",
      "----- Count : 125 -----\n",
      " *** Image : Image_525589.jpg ***\n"
     ]
    },
    {
     "name": "stderr",
     "output_type": "stream",
     "text": [
      " 63%|██████▎   | 126/200 [00:09<00:06, 10.67it/s]"
     ]
    },
    {
     "name": "stdout",
     "output_type": "stream",
     "text": [
      "Detection Probability :  1.0\n",
      "----- Count : 126 -----\n",
      " *** Image : Image_280980.jpg ***\n",
      "Detection Probability :  1.0\n",
      "----- Count : 127 -----\n",
      " *** Image : Image_316676.jpg ***\n",
      "Detection Probability :  1.0\n",
      "----- Count : 128 -----\n",
      " *** Image : Image_412535.jpg ***\n"
     ]
    },
    {
     "name": "stderr",
     "output_type": "stream",
     "text": [
      " 65%|██████▌   | 130/200 [00:09<00:06, 11.51it/s]"
     ]
    },
    {
     "name": "stdout",
     "output_type": "stream",
     "text": [
      "Detection Probability :  1.0\n",
      "----- Count : 129 -----\n",
      " *** Image : Image_445528.jpg ***\n",
      "Detection Probability :  1.0\n",
      "----- Count : 130 -----\n",
      " *** Image : Image_576757.jpg ***\n",
      "Detection Probability :  1.0\n",
      "----- Count : 131 -----\n",
      " *** Image : Image_313932.jpg ***\n"
     ]
    },
    {
     "name": "stderr",
     "output_type": "stream",
     "text": [
      " 66%|██████▌   | 132/200 [00:10<00:05, 12.15it/s]"
     ]
    },
    {
     "name": "stdout",
     "output_type": "stream",
     "text": [
      "Detection Probability :  1.0\n",
      "----- Count : 132 -----\n",
      " *** Image : Image_477797.jpg ***\n",
      "Detection Probability :  1.0\n",
      "----- Count : 133 -----\n",
      " *** Image : Image_98760.jpg ***\n",
      "Detection Probability :  1.0\n",
      "----- Count : 134 -----\n",
      " *** Image : Image_513541.jpg ***\n"
     ]
    },
    {
     "name": "stderr",
     "output_type": "stream",
     "text": [
      " 68%|██████▊   | 136/200 [00:10<00:05, 11.86it/s]"
     ]
    },
    {
     "name": "stdout",
     "output_type": "stream",
     "text": [
      "Detection Probability :  1.0\n",
      "----- Count : 135 -----\n",
      " *** Image : Image_136461.jpg ***\n",
      "Detection Probability :  1.0\n",
      "----- Count : 136 -----\n",
      " *** Image : Image_85685.jpg ***\n",
      "Detection Probability :  1.0\n",
      "----- Count : 137 -----\n",
      " *** Image : Image_356702.jpg ***\n"
     ]
    },
    {
     "name": "stderr",
     "output_type": "stream",
     "text": [
      " 69%|██████▉   | 138/200 [00:10<00:05, 12.02it/s]"
     ]
    },
    {
     "name": "stdout",
     "output_type": "stream",
     "text": [
      "Detection Probability :  1.0\n",
      "----- Count : 138 -----\n",
      " *** Image : Image_424102.jpg ***\n",
      "Detection Probability :  1.0\n",
      "----- Count : 139 -----\n",
      " *** Image : Image_467311.jpg ***\n",
      "Detection Probability :  1.0\n",
      "----- Count : 140 -----\n",
      " *** Image : Image_540988.jpg ***\n"
     ]
    },
    {
     "name": "stderr",
     "output_type": "stream",
     "text": [
      " 71%|███████   | 142/200 [00:10<00:04, 12.27it/s]"
     ]
    },
    {
     "name": "stdout",
     "output_type": "stream",
     "text": [
      "Detection Probability :  1.0\n",
      "----- Count : 141 -----\n",
      " *** Image : Image_301778.jpg ***\n",
      "Detection Probability :  1.0\n",
      "----- Count : 142 -----\n",
      " *** Image : Image_388911.jpg ***\n",
      "Detection Probability :  1.0\n",
      "----- Count : 143 -----\n",
      " *** Image : Image_409382.jpg ***\n"
     ]
    },
    {
     "name": "stderr",
     "output_type": "stream",
     "text": [
      " 72%|███████▏  | 144/200 [00:11<00:04, 11.32it/s]"
     ]
    },
    {
     "name": "stdout",
     "output_type": "stream",
     "text": [
      "Detection Probability :  1.0\n",
      "----- Count : 144 -----\n",
      " *** Image : Image_292835.jpg ***\n",
      "Detection Probability :  1.0\n",
      "----- Count : 145 -----\n",
      " *** Image : Image_311914.jpg ***\n",
      "Detection Probability :  1.0\n",
      "----- Count : 146 -----\n",
      " *** Image : Image_492386.jpg ***\n"
     ]
    },
    {
     "name": "stderr",
     "output_type": "stream",
     "text": [
      " 74%|███████▍  | 148/200 [00:11<00:04, 11.11it/s]"
     ]
    },
    {
     "name": "stdout",
     "output_type": "stream",
     "text": [
      "Detection Probability :  1.0\n",
      "----- Count : 147 -----\n",
      " *** Image : Image_69675.jpg ***\n",
      "Detection Probability :  1.0\n",
      "----- Count : 148 -----\n",
      " *** Image : Image_189993.jpg ***\n",
      "Detection Probability :  1.0\n",
      "----- Count : 149 -----\n",
      " *** Image : Image_265709.jpg ***\n"
     ]
    },
    {
     "name": "stderr",
     "output_type": "stream",
     "text": [
      " 75%|███████▌  | 150/200 [00:11<00:04, 11.27it/s]"
     ]
    },
    {
     "name": "stdout",
     "output_type": "stream",
     "text": [
      "Detection Probability :  1.0\n",
      "----- Count : 150 -----\n",
      " *** Image : Image_269829.jpg ***\n",
      "Detection Probability :  1.0\n",
      "----- Count : 151 -----\n",
      " *** Image : Image_326511.jpg ***\n",
      "Detection Probability :  1.0\n",
      "----- Count : 152 -----\n",
      " *** Image : Image_353139.jpg ***\n"
     ]
    },
    {
     "name": "stderr",
     "output_type": "stream",
     "text": [
      " 77%|███████▋  | 154/200 [00:11<00:03, 12.55it/s]"
     ]
    },
    {
     "name": "stdout",
     "output_type": "stream",
     "text": [
      "Detection Probability :  1.0\n",
      "----- Count : 153 -----\n",
      " *** Image : Image_309093.jpg ***\n",
      "Detection Probability :  1.0\n",
      "----- Count : 154 -----\n",
      " *** Image : Image_277854.jpg ***\n",
      "Detection Probability :  1.0\n",
      "----- Count : 155 -----\n",
      " *** Image : Image_546451.jpg ***\n"
     ]
    },
    {
     "name": "stderr",
     "output_type": "stream",
     "text": [
      " 78%|███████▊  | 156/200 [00:12<00:03, 12.54it/s]"
     ]
    },
    {
     "name": "stdout",
     "output_type": "stream",
     "text": [
      "Detection Probability :  1.0\n",
      "----- Count : 156 -----\n",
      " *** Image : Image_344806.jpg ***\n",
      "Detection Probability :  1.0\n",
      "----- Count : 157 -----\n",
      " *** Image : Image_413746.jpg ***\n",
      "Detection Probability :  1.0\n",
      "----- Count : 158 -----\n",
      " *** Image : Image_279108.jpg ***\n"
     ]
    },
    {
     "name": "stderr",
     "output_type": "stream",
     "text": [
      " 80%|████████  | 160/200 [00:12<00:03, 12.64it/s]"
     ]
    },
    {
     "name": "stdout",
     "output_type": "stream",
     "text": [
      "Detection Probability :  1.0\n",
      "----- Count : 159 -----\n",
      " *** Image : Image_576801.jpg ***\n",
      "Detection Probability :  1.0\n",
      "----- Count : 160 -----\n",
      " *** Image : Image_246446.jpg ***\n",
      "Detection Probability :  1.0\n",
      "----- Count : 161 -----\n",
      " *** Image : Image_520950.jpg ***\n"
     ]
    },
    {
     "name": "stderr",
     "output_type": "stream",
     "text": [
      " 81%|████████  | 162/200 [00:12<00:02, 12.85it/s]"
     ]
    },
    {
     "name": "stdout",
     "output_type": "stream",
     "text": [
      "Detection Probability :  1.0\n",
      "----- Count : 162 -----\n",
      " *** Image : Image_155845.jpg ***\n",
      "Detection Probability :  1.0\n",
      "----- Count : 163 -----\n",
      " *** Image : Image_448698.jpg ***\n",
      "Detection Probability :  1.0\n",
      "----- Count : 164 -----\n",
      " *** Image : Image_2024.jpg ***\n"
     ]
    },
    {
     "name": "stderr",
     "output_type": "stream",
     "text": [
      " 83%|████████▎ | 166/200 [00:12<00:02, 12.91it/s]"
     ]
    },
    {
     "name": "stdout",
     "output_type": "stream",
     "text": [
      "Detection Probability :  1.0\n",
      "----- Count : 165 -----\n",
      " *** Image : Image_357684.jpg ***\n",
      "Detection Probability :  1.0\n",
      "----- Count : 166 -----\n",
      " *** Image : Image_101418.jpg ***\n",
      "Detection Probability :  1.0\n",
      "----- Count : 167 -----\n",
      " *** Image : Image_219025.jpg ***\n"
     ]
    },
    {
     "name": "stderr",
     "output_type": "stream",
     "text": [
      " 84%|████████▍ | 168/200 [00:13<00:02, 12.53it/s]"
     ]
    },
    {
     "name": "stdout",
     "output_type": "stream",
     "text": [
      "Detection Probability :  1.0\n",
      "----- Count : 168 -----\n",
      " *** Image : Image_547471.jpg ***\n",
      "Detection Probability :  1.0\n",
      "----- Count : 169 -----\n",
      " *** Image : Image_70000.jpg ***\n",
      "Detection Probability :  1.0\n",
      "----- Count : 170 -----\n",
      " *** Image : Image_289019.jpg ***\n"
     ]
    },
    {
     "name": "stderr",
     "output_type": "stream",
     "text": [
      " 86%|████████▌ | 172/200 [00:13<00:02, 12.87it/s]"
     ]
    },
    {
     "name": "stdout",
     "output_type": "stream",
     "text": [
      "Detection Probability :  1.0\n",
      "----- Count : 171 -----\n",
      " *** Image : Image_270912.jpg ***\n",
      "Detection Probability :  1.0\n",
      "----- Count : 172 -----\n",
      " *** Image : Image_485894.jpg ***\n",
      "Detection Probability :  1.0\n",
      "----- Count : 173 -----\n",
      " *** Image : Image_535786.jpg ***\n"
     ]
    },
    {
     "name": "stderr",
     "output_type": "stream",
     "text": [
      " 87%|████████▋ | 174/200 [00:13<00:02, 12.86it/s]"
     ]
    },
    {
     "name": "stdout",
     "output_type": "stream",
     "text": [
      "Detection Probability :  1.0\n",
      "----- Count : 174 -----\n",
      " *** Image : Image_147016.jpg ***\n",
      "Detection Probability :  1.0\n",
      "----- Count : 175 -----\n",
      " *** Image : Image_343322.jpg ***\n",
      "Detection Probability :  1.0\n",
      "----- Count : 176 -----\n",
      " *** Image : Image_412198.jpg ***\n"
     ]
    },
    {
     "name": "stderr",
     "output_type": "stream",
     "text": [
      " 89%|████████▉ | 178/200 [00:13<00:01, 12.56it/s]"
     ]
    },
    {
     "name": "stdout",
     "output_type": "stream",
     "text": [
      "Detection Probability :  1.0\n",
      "----- Count : 177 -----\n",
      " *** Image : Image_77806.jpg ***\n",
      "Detection Probability :  1.0\n",
      "----- Count : 178 -----\n",
      " *** Image : Image_168194.jpg ***\n",
      "Detection Probability :  1.0\n",
      "----- Count : 179 -----\n",
      " *** Image : Image_303291.jpg ***\n"
     ]
    },
    {
     "name": "stderr",
     "output_type": "stream",
     "text": [
      " 90%|█████████ | 180/200 [00:14<00:01, 12.46it/s]"
     ]
    },
    {
     "name": "stdout",
     "output_type": "stream",
     "text": [
      "Detection Probability :  1.0\n",
      "----- Count : 180 -----\n",
      " *** Image : Image_491269.jpg ***\n",
      "Detection Probability :  1.0\n",
      "----- Count : 181 -----\n",
      " *** Image : Image_530683.jpg ***\n",
      "Detection Probability :  1.0\n",
      "----- Count : 182 -----\n",
      " *** Image : Image_172899.jpg ***\n"
     ]
    },
    {
     "name": "stderr",
     "output_type": "stream",
     "text": [
      " 92%|█████████▏| 184/200 [00:14<00:01, 12.84it/s]"
     ]
    },
    {
     "name": "stdout",
     "output_type": "stream",
     "text": [
      "Detection Probability :  1.0\n",
      "----- Count : 183 -----\n",
      " *** Image : Image_267688.jpg ***\n",
      "Detection Probability :  1.0\n",
      "----- Count : 184 -----\n",
      " *** Image : Image_523617.jpg ***\n",
      "Detection Probability :  1.0\n",
      "----- Count : 185 -----\n",
      " *** Image : Image_426038.jpg ***\n"
     ]
    },
    {
     "name": "stderr",
     "output_type": "stream",
     "text": [
      " 93%|█████████▎| 186/200 [00:14<00:01, 12.18it/s]"
     ]
    },
    {
     "name": "stdout",
     "output_type": "stream",
     "text": [
      "Detection Probability :  1.0\n",
      "----- Count : 186 -----\n",
      " *** Image : Image_214704.jpg ***\n",
      "Detection Probability :  1.0\n",
      "----- Count : 187 -----\n",
      " *** Image : Image_497616.jpg ***\n",
      "Detection Probability :  1.0\n",
      "----- Count : 188 -----\n",
      " *** Image : Image_179620.jpg ***\n"
     ]
    },
    {
     "name": "stderr",
     "output_type": "stream",
     "text": [
      " 95%|█████████▌| 190/200 [00:14<00:00, 12.58it/s]"
     ]
    },
    {
     "name": "stdout",
     "output_type": "stream",
     "text": [
      "Detection Probability :  1.0\n",
      "----- Count : 189 -----\n",
      " *** Image : Image_42493.jpg ***\n",
      "Detection Probability :  1.0\n",
      "----- Count : 190 -----\n",
      " *** Image : Image_62426.jpg ***\n",
      "Detection Probability :  1.0\n",
      "----- Count : 191 -----\n",
      " *** Image : Image_543877.jpg ***\n"
     ]
    },
    {
     "name": "stderr",
     "output_type": "stream",
     "text": [
      " 96%|█████████▌| 192/200 [00:14<00:00, 12.83it/s]"
     ]
    },
    {
     "name": "stdout",
     "output_type": "stream",
     "text": [
      "Detection Probability :  1.0\n",
      "----- Count : 192 -----\n",
      " *** Image : Image_160163.jpg ***\n",
      "Detection Probability :  0.5\n",
      "----- Count : 193 -----\n",
      " *** Image : Image_167603.jpg ***\n",
      "Detection Probability :  1.0\n",
      "----- Count : 194 -----\n",
      " *** Image : Image_218956.jpg ***\n"
     ]
    },
    {
     "name": "stderr",
     "output_type": "stream",
     "text": [
      " 98%|█████████▊| 196/200 [00:15<00:00, 12.04it/s]"
     ]
    },
    {
     "name": "stdout",
     "output_type": "stream",
     "text": [
      "Detection Probability :  1.0\n",
      "----- Count : 195 -----\n",
      " *** Image : Image_147170.jpg ***\n",
      "Detection Probability :  0.25\n",
      "----- Count : 196 -----\n",
      " *** Image : Image_283524.jpg ***\n",
      "Detection Probability :  1.0\n",
      "----- Count : 197 -----\n",
      " *** Image : Image_37015.jpg ***\n"
     ]
    },
    {
     "name": "stderr",
     "output_type": "stream",
     "text": [
      " 99%|█████████▉| 198/200 [00:15<00:00, 12.44it/s]"
     ]
    },
    {
     "name": "stdout",
     "output_type": "stream",
     "text": [
      "Detection Probability :  1.0\n",
      "----- Count : 198 -----\n",
      " *** Image : Image_213546.jpg ***\n",
      "Detection Probability :  1.0\n",
      "----- Count : 199 -----\n",
      " *** Image : Image_528906.jpg ***\n",
      "Detection Probability :  1.0\n",
      "----- Count : 200 -----\n",
      " *** Image : Image_454325.jpg ***\n"
     ]
    },
    {
     "name": "stderr",
     "output_type": "stream",
     "text": [
      "100%|██████████| 200/200 [00:15<00:00, 12.79it/s]"
     ]
    },
    {
     "name": "stdout",
     "output_type": "stream",
     "text": [
      "Detection Probability :  1.0\n"
     ]
    },
    {
     "name": "stderr",
     "output_type": "stream",
     "text": [
      "\n"
     ]
    }
   ],
   "source": [
    "print(\"----------------- Generating detection results ------------------\")\n",
    "count = 1 \n",
    "for img in tqdm(wm_imgs) :\n",
    "    print(f\"----- Count : {count} -----\")\n",
    "    print(f\" *** Image : {img} ***\")\n",
    "    # l = img.split('_')\n",
    "    # print(l)\n",
    "\n",
    "    # if attack == \"gaussian_noise\" : \n",
    "    #     id = f\"{l[2]}_{l[3]}\"\n",
    "    # else : \n",
    "    #     id = f\"{l[1]}_{l[2]}\"\n",
    "\n",
    "    # id = f\"{l[1]}_{l[2]}\"\n",
    "\n",
    "    # print(\"Image id : \",id)\n",
    "    \n",
    "    image_path = os.path.join(wm_imgs_path,img)\n",
    "    # print(image_path)\n",
    "\n",
    "    decoded_watermark, confidence_score = get_watermark_probability(image_path, wm)\n",
    "\n",
    "    # bgr = cv2.imread(image_path)\n",
    "    # decoder = WatermarkDecoder('bytes', 32)\n",
    "    # watermark = decoder.decode(bgr, 'dwtDctSvd')\n",
    "    # print(watermark.decode('utf-8'))\n",
    "\n",
    "\n",
    "    print(\"Detection Probability : \", confidence_score)\n",
    "\n",
    "    detection[img][f\"det_prob\"] = confidence_score\n",
    "    detection[img][f\"decoded\"] = decoded_watermark\n",
    "\n",
    "    count += 1 \n",
    "\n",
    "\n",
    "    # id_prob = 0 \n",
    "    # detection = 0 \n",
    "        \n",
    "        \n"
   ]
  },
  {
   "cell_type": "code",
   "execution_count": 24,
   "metadata": {},
   "outputs": [
    {
     "data": {
      "text/plain": [
       "defaultdict(<function __main__.<lambda>()>,\n",
       "            {'Image_79481.jpg': defaultdict(dict,\n",
       "                         {'det_prob': 1.0, 'decoded': 'test'}),\n",
       "             'Image_96557.jpg': defaultdict(dict,\n",
       "                         {'det_prob': 1.0, 'decoded': 'test'}),\n",
       "             'Image_280260.jpg': defaultdict(dict,\n",
       "                         {'det_prob': 1.0, 'decoded': 'test'}),\n",
       "             'Image_62279.jpg': defaultdict(dict,\n",
       "                         {'det_prob': 1.0, 'decoded': 'test'}),\n",
       "             'Image_170558.jpg': defaultdict(dict,\n",
       "                         {'det_prob': 1.0, 'decoded': 'test'}),\n",
       "             'Image_215481.jpg': defaultdict(dict,\n",
       "                         {'det_prob': 1.0, 'decoded': 'test'}),\n",
       "             'Image_520208.jpg': defaultdict(dict,\n",
       "                         {'det_prob': 1.0, 'decoded': 'test'}),\n",
       "             'Image_95989.jpg': defaultdict(dict,\n",
       "                         {'det_prob': 1.0, 'decoded': 'test'}),\n",
       "             'Image_504616.jpg': defaultdict(dict,\n",
       "                         {'det_prob': 1.0, 'decoded': 'test'}),\n",
       "             'Image_309322.jpg': defaultdict(dict,\n",
       "                         {'det_prob': 1.0, 'decoded': 'test'}),\n",
       "             'Image_239728.jpg': defaultdict(dict,\n",
       "                         {'det_prob': 1.0, 'decoded': 'test'}),\n",
       "             'Image_341550.jpg': defaultdict(dict,\n",
       "                         {'det_prob': 1.0, 'decoded': 'test'}),\n",
       "             'Image_405613.jpg': defaultdict(dict,\n",
       "                         {'det_prob': 1.0, 'decoded': 'test'}),\n",
       "             'Image_441488.jpg': defaultdict(dict,\n",
       "                         {'det_prob': 1.0, 'decoded': 'test'}),\n",
       "             'Image_420721.jpg': defaultdict(dict,\n",
       "                         {'det_prob': 1.0, 'decoded': 'test'}),\n",
       "             'Image_18885.jpg': defaultdict(dict,\n",
       "                         {'det_prob': 1.0, 'decoded': 'test'}),\n",
       "             'Image_399956.jpg': defaultdict(dict,\n",
       "                         {'det_prob': 1.0, 'decoded': 'test'}),\n",
       "             'Image_93785.jpg': defaultdict(dict,\n",
       "                         {'det_prob': 1.0, 'decoded': 'test'}),\n",
       "             'Image_570246.jpg': defaultdict(dict,\n",
       "                         {'det_prob': 1.0, 'decoded': 'test'}),\n",
       "             'Image_262845.jpg': defaultdict(dict,\n",
       "                         {'det_prob': 1.0, 'decoded': 'test'}),\n",
       "             'Image_49183.jpg': defaultdict(dict,\n",
       "                         {'det_prob': 1.0, 'decoded': 'test'}),\n",
       "             'Image_142088.jpg': defaultdict(dict,\n",
       "                         {'det_prob': 1.0, 'decoded': 'test'}),\n",
       "             'Image_394326.jpg': defaultdict(dict,\n",
       "                         {'det_prob': 1.0, 'decoded': 'test'}),\n",
       "             'Image_524068.jpg': defaultdict(dict,\n",
       "                         {'det_prob': 1.0, 'decoded': 'test'}),\n",
       "             'Image_352884.jpg': defaultdict(dict,\n",
       "                         {'det_prob': 1.0, 'decoded': 'test'}),\n",
       "             'Image_199628.jpg': defaultdict(dict,\n",
       "                         {'det_prob': 1.0, 'decoded': 'test'}),\n",
       "             'Image_160559.jpg': defaultdict(dict,\n",
       "                         {'det_prob': 1.0, 'decoded': 'test'}),\n",
       "             'Image_57870.jpg': defaultdict(dict,\n",
       "                         {'det_prob': 1.0, 'decoded': 'test'}),\n",
       "             'Image_398494.jpg': defaultdict(dict,\n",
       "                         {'det_prob': 1.0, 'decoded': 'test'}),\n",
       "             'Image_241364.jpg': defaultdict(dict,\n",
       "                         {'det_prob': 1.0, 'decoded': 'test'}),\n",
       "             'Image_84427.jpg': defaultdict(dict,\n",
       "                         {'det_prob': 1.0, 'decoded': 'test'}),\n",
       "             'Image_393493.jpg': defaultdict(dict,\n",
       "                         {'det_prob': 1.0, 'decoded': 'test'}),\n",
       "             'Image_483008.jpg': defaultdict(dict,\n",
       "                         {'det_prob': 1.0, 'decoded': 'test'}),\n",
       "             'Image_469605.jpg': defaultdict(dict,\n",
       "                         {'det_prob': 1.0, 'decoded': 'test'}),\n",
       "             'Image_348850.jpg': defaultdict(dict,\n",
       "                         {'det_prob': 1.0, 'decoded': 'test'}),\n",
       "             'Image_387083.jpg': defaultdict(dict,\n",
       "                         {'det_prob': 1.0, 'decoded': 'test'}),\n",
       "             'Image_77375.jpg': defaultdict(dict,\n",
       "                         {'det_prob': 1.0, 'decoded': 'test'}),\n",
       "             'Image_122108.jpg': defaultdict(dict,\n",
       "                         {'det_prob': 1.0, 'decoded': 'test'}),\n",
       "             'Image_540162.jpg': defaultdict(dict,\n",
       "                         {'det_prob': 1.0, 'decoded': 'test'}),\n",
       "             'Image_19380.jpg': defaultdict(dict,\n",
       "                         {'det_prob': 1.0, 'decoded': 'test'}),\n",
       "             'Image_44404.jpg': defaultdict(dict,\n",
       "                         {'det_prob': 1.0, 'decoded': 'test'}),\n",
       "             'Image_345781.jpg': defaultdict(dict,\n",
       "                         {'det_prob': 1.0, 'decoded': 'test'}),\n",
       "             'Image_405207.jpg': defaultdict(dict,\n",
       "                         {'det_prob': 1.0, 'decoded': 'test'}),\n",
       "             'Image_153946.jpg': defaultdict(dict,\n",
       "                         {'det_prob': 1.0, 'decoded': 'test'}),\n",
       "             'Image_457732.jpg': defaultdict(dict,\n",
       "                         {'det_prob': 1.0, 'decoded': 'test'}),\n",
       "             'Image_153674.jpg': defaultdict(dict,\n",
       "                         {'det_prob': 1.0, 'decoded': 'test'}),\n",
       "             'Image_472925.jpg': defaultdict(dict,\n",
       "                         {'det_prob': 1.0, 'decoded': 'test'}),\n",
       "             'Image_388754.jpg': defaultdict(dict,\n",
       "                         {'det_prob': 1.0, 'decoded': 'test'}),\n",
       "             'Image_170850.jpg': defaultdict(dict,\n",
       "                         {'det_prob': 1.0, 'decoded': 'test'}),\n",
       "             'Image_384029.jpg': defaultdict(dict,\n",
       "                         {'det_prob': 1.0, 'decoded': 'test'}),\n",
       "             'Image_62604.jpg': defaultdict(dict,\n",
       "                         {'det_prob': 1.0, 'decoded': 'test'}),\n",
       "             'Image_570608.jpg': defaultdict(dict,\n",
       "                         {'det_prob': 1.0, 'decoded': 'test'}),\n",
       "             'Image_317237.jpg': defaultdict(dict,\n",
       "                         {'det_prob': 1.0, 'decoded': 'test'}),\n",
       "             'Image_299411.jpg': defaultdict(dict,\n",
       "                         {'det_prob': 1.0, 'decoded': 'test'}),\n",
       "             'Image_109424.jpg': defaultdict(dict,\n",
       "                         {'det_prob': 1.0, 'decoded': 'test'}),\n",
       "             'Image_581674.jpg': defaultdict(dict,\n",
       "                         {'det_prob': 1.0, 'decoded': 'test'}),\n",
       "             'Image_239811.jpg': defaultdict(dict,\n",
       "                         {'det_prob': 1.0, 'decoded': 'test'}),\n",
       "             'Image_318189.jpg': defaultdict(dict,\n",
       "                         {'det_prob': 1.0, 'decoded': 'test'}),\n",
       "             'Image_278347.jpg': defaultdict(dict,\n",
       "                         {'det_prob': 1.0, 'decoded': 'test'}),\n",
       "             'Image_90570.jpg': defaultdict(dict,\n",
       "                         {'det_prob': 1.0, 'decoded': 'test'}),\n",
       "             'Image_374114.jpg': defaultdict(dict,\n",
       "                         {'det_prob': 1.0, 'decoded': 'test'}),\n",
       "             'Image_505126.jpg': defaultdict(dict,\n",
       "                         {'det_prob': 1.0, 'decoded': 'test'}),\n",
       "             'Image_8649.jpg': defaultdict(dict,\n",
       "                         {'det_prob': 1.0, 'decoded': 'test'}),\n",
       "             'Image_145179.jpg': defaultdict(dict,\n",
       "                         {'det_prob': 1.0, 'decoded': 'test'}),\n",
       "             'Image_66514.jpg': defaultdict(dict,\n",
       "                         {'det_prob': 1.0, 'decoded': 'test'}),\n",
       "             'Image_462559.jpg': defaultdict(dict,\n",
       "                         {'det_prob': 1.0, 'decoded': 'test'}),\n",
       "             'Image_4428.jpg': defaultdict(dict,\n",
       "                         {'det_prob': 1.0, 'decoded': 'test'}),\n",
       "             'Image_210932.jpg': defaultdict(dict,\n",
       "                         {'det_prob': 1.0, 'decoded': 'test'}),\n",
       "             'Image_257350.jpg': defaultdict(dict,\n",
       "                         {'det_prob': 1.0, 'decoded': 'test'}),\n",
       "             'Image_122688.jpg': defaultdict(dict,\n",
       "                         {'det_prob': 1.0, 'decoded': 'test'}),\n",
       "             'Image_377694.jpg': defaultdict(dict,\n",
       "                         {'det_prob': 1.0, 'decoded': 'test'}),\n",
       "             'Image_438422.jpg': defaultdict(dict,\n",
       "                         {'det_prob': 1.0, 'decoded': 'test'}),\n",
       "             'Image_161919.jpg': defaultdict(dict,\n",
       "                         {'det_prob': 1.0, 'decoded': 'test'}),\n",
       "             'Image_354444.jpg': defaultdict(dict,\n",
       "                         {'det_prob': 1.0, 'decoded': 'test'}),\n",
       "             'Image_287541.jpg': defaultdict(dict,\n",
       "                         {'det_prob': 1.0, 'decoded': 'test'}),\n",
       "             'Image_556801.jpg': defaultdict(dict,\n",
       "                         {'det_prob': 1.0, 'decoded': 'test'}),\n",
       "             'Image_186233.jpg': defaultdict(dict,\n",
       "                         {'det_prob': 1.0, 'decoded': 'test'}),\n",
       "             'Image_95133.jpg': defaultdict(dict,\n",
       "                         {'det_prob': 1.0, 'decoded': 'test'}),\n",
       "             'Image_496939.jpg': defaultdict(dict,\n",
       "                         {'det_prob': 1.0, 'decoded': 'test'}),\n",
       "             'Image_71631.jpg': defaultdict(dict,\n",
       "                         {'det_prob': 1.0, 'decoded': 'test'}),\n",
       "             'Image_371029.jpg': defaultdict(dict,\n",
       "                         {'det_prob': 1.0, 'decoded': 'test'}),\n",
       "             'Image_259446.jpg': defaultdict(dict,\n",
       "                         {'det_prob': 1.0, 'decoded': 'test'}),\n",
       "             'Image_55627.jpg': defaultdict(dict,\n",
       "                         {'det_prob': 1.0, 'decoded': 'test'}),\n",
       "             'Image_334080.jpg': defaultdict(dict,\n",
       "                         {'det_prob': 1.0, 'decoded': 'test'}),\n",
       "             'Image_150867.jpg': defaultdict(dict,\n",
       "                         {'det_prob': 1.0, 'decoded': 'test'}),\n",
       "             'Image_470072.jpg': defaultdict(dict,\n",
       "                         {'det_prob': 1.0, 'decoded': 'test'}),\n",
       "             'Image_181104.jpg': defaultdict(dict,\n",
       "                         {'det_prob': 1.0, 'decoded': 'test'}),\n",
       "             'Image_559527.jpg': defaultdict(dict,\n",
       "                         {'det_prob': 1.0, 'decoded': 'test'}),\n",
       "             'Image_209967.jpg': defaultdict(dict,\n",
       "                         {'det_prob': 1.0, 'decoded': 'test'}),\n",
       "             'Image_444546.jpg': defaultdict(dict,\n",
       "                         {'det_prob': 1.0, 'decoded': 'test'}),\n",
       "             'Image_409513.jpg': defaultdict(dict,\n",
       "                         {'det_prob': 1.0, 'decoded': 'test'}),\n",
       "             'Image_165499.jpg': defaultdict(dict,\n",
       "                         {'det_prob': 1.0, 'decoded': 'test'}),\n",
       "             'Image_351430.jpg': defaultdict(dict,\n",
       "                         {'det_prob': 1.0, 'decoded': 'test'}),\n",
       "             'Image_36633.jpg': defaultdict(dict,\n",
       "                         {'det_prob': 1.0, 'decoded': 'test'}),\n",
       "             'Image_147303.jpg': defaultdict(dict,\n",
       "                         {'det_prob': 1.0, 'decoded': 'test'}),\n",
       "             'Image_474882.jpg': defaultdict(dict,\n",
       "                         {'det_prob': 1.0, 'decoded': 'test'}),\n",
       "             'Image_318574.jpg': defaultdict(dict,\n",
       "                         {'det_prob': 1.0, 'decoded': 'test'}),\n",
       "             'Image_222016.jpg': defaultdict(dict,\n",
       "                         {'det_prob': 1.0, 'decoded': 'test'}),\n",
       "             'Image_236772.jpg': defaultdict(dict,\n",
       "                         {'det_prob': 1.0, 'decoded': 'test'}),\n",
       "             'Image_486320.jpg': defaultdict(dict,\n",
       "                         {'det_prob': 1.0, 'decoded': 'test'}),\n",
       "             'Image_551125.jpg': defaultdict(dict,\n",
       "                         {'det_prob': 1.0, 'decoded': 'test'}),\n",
       "             'Image_70868.jpg': defaultdict(dict,\n",
       "                         {'det_prob': 1.0, 'decoded': 'test'}),\n",
       "             'Image_378710.jpg': defaultdict(dict,\n",
       "                         {'det_prob': 1.0, 'decoded': 'test'}),\n",
       "             'Image_536587.jpg': defaultdict(dict,\n",
       "                         {'det_prob': 1.0, 'decoded': 'test'}),\n",
       "             'Image_167613.jpg': defaultdict(dict,\n",
       "                         {'det_prob': 1.0, 'decoded': 'test'}),\n",
       "             'Image_392136.jpg': defaultdict(dict,\n",
       "                         {'det_prob': 1.0, 'decoded': 'test'}),\n",
       "             'Image_287927.jpg': defaultdict(dict,\n",
       "                         {'det_prob': 1.0, 'decoded': 'test'}),\n",
       "             'Image_217306.jpg': defaultdict(dict,\n",
       "                         {'det_prob': 1.0, 'decoded': 'test'}),\n",
       "             'Image_560459.jpg': defaultdict(dict,\n",
       "                         {'det_prob': 1.0, 'decoded': 'test'}),\n",
       "             'Image_496283.jpg': defaultdict(dict,\n",
       "                         {'det_prob': 1.0, 'decoded': 'test'}),\n",
       "             'Image_212091.jpg': defaultdict(dict,\n",
       "                         {'det_prob': 0.75, 'decoded': 'tes\\x04'}),\n",
       "             'Image_483751.jpg': defaultdict(dict,\n",
       "                         {'det_prob': 1.0, 'decoded': 'test'}),\n",
       "             'Image_223726.jpg': defaultdict(dict,\n",
       "                         {'det_prob': 1.0, 'decoded': 'test'}),\n",
       "             'Image_560628.jpg': defaultdict(dict,\n",
       "                         {'det_prob': 1.0, 'decoded': 'test'}),\n",
       "             'Image_108627.jpg': defaultdict(dict,\n",
       "                         {'det_prob': 1.0, 'decoded': 'test'}),\n",
       "             'Image_246804.jpg': defaultdict(dict,\n",
       "                         {'det_prob': 1.0, 'decoded': 'test'}),\n",
       "             'Image_365363.jpg': defaultdict(dict,\n",
       "                         {'det_prob': 0.0, 'decoded': '0\\x00\\x0f3'}),\n",
       "             'Image_64460.jpg': defaultdict(dict,\n",
       "                         {'det_prob': 1.0, 'decoded': 'test'}),\n",
       "             'Image_225750.jpg': defaultdict(dict,\n",
       "                         {'det_prob': 1.0, 'decoded': 'test'}),\n",
       "             'Image_446014.jpg': defaultdict(dict,\n",
       "                         {'det_prob': 1.0, 'decoded': 'test'}),\n",
       "             'Image_157032.jpg': defaultdict(dict,\n",
       "                         {'det_prob': 1.0, 'decoded': 'test'}),\n",
       "             'Image_96997.jpg': defaultdict(dict,\n",
       "                         {'det_prob': 1.0, 'decoded': 'test'}),\n",
       "             'Image_302389.jpg': defaultdict(dict,\n",
       "                         {'det_prob': 1.0, 'decoded': 'test'}),\n",
       "             'Image_574001.jpg': defaultdict(dict,\n",
       "                         {'det_prob': 1.0, 'decoded': 'test'}),\n",
       "             'Image_525589.jpg': defaultdict(dict,\n",
       "                         {'det_prob': 1.0, 'decoded': 'test'}),\n",
       "             'Image_280980.jpg': defaultdict(dict,\n",
       "                         {'det_prob': 1.0, 'decoded': 'test'}),\n",
       "             'Image_316676.jpg': defaultdict(dict,\n",
       "                         {'det_prob': 1.0, 'decoded': 'test'}),\n",
       "             'Image_412535.jpg': defaultdict(dict,\n",
       "                         {'det_prob': 1.0, 'decoded': 'test'}),\n",
       "             'Image_445528.jpg': defaultdict(dict,\n",
       "                         {'det_prob': 1.0, 'decoded': 'test'}),\n",
       "             'Image_576757.jpg': defaultdict(dict,\n",
       "                         {'det_prob': 1.0, 'decoded': 'test'}),\n",
       "             'Image_313932.jpg': defaultdict(dict,\n",
       "                         {'det_prob': 1.0, 'decoded': 'test'}),\n",
       "             'Image_477797.jpg': defaultdict(dict,\n",
       "                         {'det_prob': 1.0, 'decoded': 'test'}),\n",
       "             'Image_98760.jpg': defaultdict(dict,\n",
       "                         {'det_prob': 1.0, 'decoded': 'test'}),\n",
       "             'Image_513541.jpg': defaultdict(dict,\n",
       "                         {'det_prob': 1.0, 'decoded': 'test'}),\n",
       "             'Image_136461.jpg': defaultdict(dict,\n",
       "                         {'det_prob': 1.0, 'decoded': 'test'}),\n",
       "             'Image_85685.jpg': defaultdict(dict,\n",
       "                         {'det_prob': 1.0, 'decoded': 'test'}),\n",
       "             'Image_356702.jpg': defaultdict(dict,\n",
       "                         {'det_prob': 1.0, 'decoded': 'test'}),\n",
       "             'Image_424102.jpg': defaultdict(dict,\n",
       "                         {'det_prob': 1.0, 'decoded': 'test'}),\n",
       "             'Image_467311.jpg': defaultdict(dict,\n",
       "                         {'det_prob': 1.0, 'decoded': 'test'}),\n",
       "             'Image_540988.jpg': defaultdict(dict,\n",
       "                         {'det_prob': 1.0, 'decoded': 'test'}),\n",
       "             'Image_301778.jpg': defaultdict(dict,\n",
       "                         {'det_prob': 1.0, 'decoded': 'test'}),\n",
       "             'Image_388911.jpg': defaultdict(dict,\n",
       "                         {'det_prob': 1.0, 'decoded': 'test'}),\n",
       "             'Image_409382.jpg': defaultdict(dict,\n",
       "                         {'det_prob': 1.0, 'decoded': 'test'}),\n",
       "             'Image_292835.jpg': defaultdict(dict,\n",
       "                         {'det_prob': 1.0, 'decoded': 'test'}),\n",
       "             'Image_311914.jpg': defaultdict(dict,\n",
       "                         {'det_prob': 1.0, 'decoded': 'test'}),\n",
       "             'Image_492386.jpg': defaultdict(dict,\n",
       "                         {'det_prob': 1.0, 'decoded': 'test'}),\n",
       "             'Image_69675.jpg': defaultdict(dict,\n",
       "                         {'det_prob': 1.0, 'decoded': 'test'}),\n",
       "             'Image_189993.jpg': defaultdict(dict,\n",
       "                         {'det_prob': 1.0, 'decoded': 'test'}),\n",
       "             'Image_265709.jpg': defaultdict(dict,\n",
       "                         {'det_prob': 1.0, 'decoded': 'test'}),\n",
       "             'Image_269829.jpg': defaultdict(dict,\n",
       "                         {'det_prob': 1.0, 'decoded': 'test'}),\n",
       "             'Image_326511.jpg': defaultdict(dict,\n",
       "                         {'det_prob': 1.0, 'decoded': 'test'}),\n",
       "             'Image_353139.jpg': defaultdict(dict,\n",
       "                         {'det_prob': 1.0, 'decoded': 'test'}),\n",
       "             'Image_309093.jpg': defaultdict(dict,\n",
       "                         {'det_prob': 1.0, 'decoded': 'test'}),\n",
       "             'Image_277854.jpg': defaultdict(dict,\n",
       "                         {'det_prob': 1.0, 'decoded': 'test'}),\n",
       "             'Image_546451.jpg': defaultdict(dict,\n",
       "                         {'det_prob': 1.0, 'decoded': 'test'}),\n",
       "             'Image_344806.jpg': defaultdict(dict,\n",
       "                         {'det_prob': 1.0, 'decoded': 'test'}),\n",
       "             'Image_413746.jpg': defaultdict(dict,\n",
       "                         {'det_prob': 1.0, 'decoded': 'test'}),\n",
       "             'Image_279108.jpg': defaultdict(dict,\n",
       "                         {'det_prob': 1.0, 'decoded': 'test'}),\n",
       "             'Image_576801.jpg': defaultdict(dict,\n",
       "                         {'det_prob': 1.0, 'decoded': 'test'}),\n",
       "             'Image_246446.jpg': defaultdict(dict,\n",
       "                         {'det_prob': 1.0, 'decoded': 'test'}),\n",
       "             'Image_520950.jpg': defaultdict(dict,\n",
       "                         {'det_prob': 1.0, 'decoded': 'test'}),\n",
       "             'Image_155845.jpg': defaultdict(dict,\n",
       "                         {'det_prob': 1.0, 'decoded': 'test'}),\n",
       "             'Image_448698.jpg': defaultdict(dict,\n",
       "                         {'det_prob': 1.0, 'decoded': 'test'}),\n",
       "             'Image_2024.jpg': defaultdict(dict,\n",
       "                         {'det_prob': 1.0, 'decoded': 'test'}),\n",
       "             'Image_357684.jpg': defaultdict(dict,\n",
       "                         {'det_prob': 1.0, 'decoded': 'test'}),\n",
       "             'Image_101418.jpg': defaultdict(dict,\n",
       "                         {'det_prob': 1.0, 'decoded': 'test'}),\n",
       "             'Image_219025.jpg': defaultdict(dict,\n",
       "                         {'det_prob': 1.0, 'decoded': 'test'}),\n",
       "             'Image_547471.jpg': defaultdict(dict,\n",
       "                         {'det_prob': 1.0, 'decoded': 'test'}),\n",
       "             'Image_70000.jpg': defaultdict(dict,\n",
       "                         {'det_prob': 1.0, 'decoded': 'test'}),\n",
       "             'Image_289019.jpg': defaultdict(dict,\n",
       "                         {'det_prob': 1.0, 'decoded': 'test'}),\n",
       "             'Image_270912.jpg': defaultdict(dict,\n",
       "                         {'det_prob': 1.0, 'decoded': 'test'}),\n",
       "             'Image_485894.jpg': defaultdict(dict,\n",
       "                         {'det_prob': 1.0, 'decoded': 'test'}),\n",
       "             'Image_535786.jpg': defaultdict(dict,\n",
       "                         {'det_prob': 1.0, 'decoded': 'test'}),\n",
       "             'Image_147016.jpg': defaultdict(dict,\n",
       "                         {'det_prob': 1.0, 'decoded': 'test'}),\n",
       "             'Image_343322.jpg': defaultdict(dict,\n",
       "                         {'det_prob': 1.0, 'decoded': 'test'}),\n",
       "             'Image_412198.jpg': defaultdict(dict,\n",
       "                         {'det_prob': 1.0, 'decoded': 'test'}),\n",
       "             'Image_77806.jpg': defaultdict(dict,\n",
       "                         {'det_prob': 1.0, 'decoded': 'test'}),\n",
       "             'Image_168194.jpg': defaultdict(dict,\n",
       "                         {'det_prob': 1.0, 'decoded': 'test'}),\n",
       "             'Image_303291.jpg': defaultdict(dict,\n",
       "                         {'det_prob': 1.0, 'decoded': 'test'}),\n",
       "             'Image_491269.jpg': defaultdict(dict,\n",
       "                         {'det_prob': 1.0, 'decoded': 'test'}),\n",
       "             'Image_530683.jpg': defaultdict(dict,\n",
       "                         {'det_prob': 1.0, 'decoded': 'test'}),\n",
       "             'Image_172899.jpg': defaultdict(dict,\n",
       "                         {'det_prob': 1.0, 'decoded': 'test'}),\n",
       "             'Image_267688.jpg': defaultdict(dict,\n",
       "                         {'det_prob': 1.0, 'decoded': 'test'}),\n",
       "             'Image_523617.jpg': defaultdict(dict,\n",
       "                         {'det_prob': 1.0, 'decoded': 'test'}),\n",
       "             'Image_426038.jpg': defaultdict(dict,\n",
       "                         {'det_prob': 1.0, 'decoded': 'test'}),\n",
       "             'Image_214704.jpg': defaultdict(dict,\n",
       "                         {'det_prob': 1.0, 'decoded': 'test'}),\n",
       "             'Image_497616.jpg': defaultdict(dict,\n",
       "                         {'det_prob': 1.0, 'decoded': 'test'}),\n",
       "             'Image_179620.jpg': defaultdict(dict,\n",
       "                         {'det_prob': 1.0, 'decoded': 'test'}),\n",
       "             'Image_42493.jpg': defaultdict(dict,\n",
       "                         {'det_prob': 1.0, 'decoded': 'test'}),\n",
       "             'Image_62426.jpg': defaultdict(dict,\n",
       "                         {'det_prob': 1.0, 'decoded': 'test'}),\n",
       "             'Image_543877.jpg': defaultdict(dict,\n",
       "                         {'det_prob': 1.0, 'decoded': 'test'}),\n",
       "             'Image_160163.jpg': defaultdict(dict,\n",
       "                         {'det_prob': 0.5, 'decoded': 'te@T'}),\n",
       "             'Image_167603.jpg': defaultdict(dict,\n",
       "                         {'det_prob': 1.0, 'decoded': 'test'}),\n",
       "             'Image_218956.jpg': defaultdict(dict,\n",
       "                         {'det_prob': 1.0, 'decoded': 'test'}),\n",
       "             'Image_147170.jpg': defaultdict(dict,\n",
       "                         {'det_prob': 0.25, 'decoded': 'De`D'}),\n",
       "             'Image_283524.jpg': defaultdict(dict,\n",
       "                         {'det_prob': 1.0, 'decoded': 'test'}),\n",
       "             'Image_37015.jpg': defaultdict(dict,\n",
       "                         {'det_prob': 1.0, 'decoded': 'test'}),\n",
       "             'Image_213546.jpg': defaultdict(dict,\n",
       "                         {'det_prob': 1.0, 'decoded': 'test'}),\n",
       "             'Image_528906.jpg': defaultdict(dict,\n",
       "                         {'det_prob': 1.0, 'decoded': 'test'}),\n",
       "             'Image_454325.jpg': defaultdict(dict,\n",
       "                         {'det_prob': 1.0, 'decoded': 'test'})})"
      ]
     },
     "execution_count": 24,
     "metadata": {},
     "output_type": "execute_result"
    }
   ],
   "source": [
    "detection"
   ]
  },
  {
   "cell_type": "code",
   "execution_count": 25,
   "metadata": {},
   "outputs": [
    {
     "data": {
      "text/plain": [
       "200"
      ]
     },
     "execution_count": 25,
     "metadata": {},
     "output_type": "execute_result"
    }
   ],
   "source": [
    "len(detection)"
   ]
  },
  {
   "cell_type": "code",
   "execution_count": 26,
   "metadata": {},
   "outputs": [],
   "source": [
    "with open(\"dwtdctsvd_original.json\",\"w\") as file : \n",
    "    json.dump(detection,file,indent=4)\n"
   ]
  },
  {
   "cell_type": "code",
   "execution_count": null,
   "metadata": {},
   "outputs": [],
   "source": []
  },
  {
   "cell_type": "code",
   "execution_count": null,
   "metadata": {},
   "outputs": [],
   "source": []
  },
  {
   "cell_type": "code",
   "execution_count": null,
   "metadata": {},
   "outputs": [],
   "source": []
  },
  {
   "cell_type": "code",
   "execution_count": null,
   "metadata": {},
   "outputs": [],
   "source": []
  },
  {
   "cell_type": "code",
   "execution_count": null,
   "metadata": {},
   "outputs": [],
   "source": []
  },
  {
   "cell_type": "code",
   "execution_count": null,
   "metadata": {},
   "outputs": [],
   "source": []
  },
  {
   "cell_type": "code",
   "execution_count": null,
   "metadata": {},
   "outputs": [],
   "source": []
  },
  {
   "cell_type": "code",
   "execution_count": null,
   "metadata": {},
   "outputs": [],
   "source": []
  }
 ],
 "metadata": {
  "kernelspec": {
   "display_name": "zodiac",
   "language": "python",
   "name": "python3"
  },
  "language_info": {
   "codemirror_mode": {
    "name": "ipython",
    "version": 3
   },
   "file_extension": ".py",
   "mimetype": "text/x-python",
   "name": "python",
   "nbconvert_exporter": "python",
   "pygments_lexer": "ipython3",
   "version": "3.10.13"
  }
 },
 "nbformat": 4,
 "nbformat_minor": 2
}
