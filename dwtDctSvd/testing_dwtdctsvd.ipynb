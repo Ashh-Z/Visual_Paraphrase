{
 "cells": [
  {
   "cell_type": "code",
   "execution_count": 1,
   "metadata": {},
   "outputs": [],
   "source": [
    "import cv2\n",
    "from imwatermark import WatermarkEncoder\n",
    "from imwatermark import WatermarkDecoder\n",
    "import numpy as np \n",
    "import os \n",
    "import json \n",
    "import pywt\n",
    "from tqdm import tqdm \n",
    "from PIL import Image, ImageEnhance\n",
    "from skimage.util import random_noise\n",
    "from collections import defaultdict\n",
    "import hashlib"
   ]
  },
  {
   "cell_type": "code",
   "execution_count": 2,
   "metadata": {},
   "outputs": [],
   "source": [
    "def brightness_attack(img_path, out_path, multi=False):\n",
    "    brightness = 2.5\n",
    "    if os.path.exists(out_path) and not multi:\n",
    "        return\n",
    "    \n",
    "    img = Image.open(img_path)\n",
    "    enhancer = ImageEnhance.Brightness(img)\n",
    "    img = enhancer.enhance(brightness)\n",
    "    img.save(out_path)\n"
   ]
  },
  {
   "cell_type": "code",
   "execution_count": 3,
   "metadata": {},
   "outputs": [],
   "source": [
    "def gaussian_noise_attack(img_path, out_path, multi=False):\n",
    "        std = 0.1\n",
    "        \n",
    "        if os.path.exists(out_path) and not multi:\n",
    "            return \n",
    "        \n",
    "        image = cv2.imread(img_path)\n",
    "        image = image / 255.0\n",
    "        # Add Gaussian noise to the image\n",
    "        noise_sigma = std  # Vary this to change the amount of noise\n",
    "        noisy_image = random_noise(image, mode='gaussian', var=noise_sigma ** 2)\n",
    "        # Clip the values to [0, 1] range after adding the noise\n",
    "        noisy_image = np.clip(noisy_image, 0, 1)\n",
    "        noisy_image = np.array(255 * noisy_image, dtype='uint8')\n",
    "        cv2.imwrite(out_path, noisy_image)\n"
   ]
  },
  {
   "cell_type": "code",
   "execution_count": 4,
   "metadata": {},
   "outputs": [],
   "source": [
    "def rotate_attack(img_path, out_path, multi=False):\n",
    "    degree = 30\n",
    "    expand = 0\n",
    "    if os.path.exists(out_path) and not multi:\n",
    "        return \n",
    "    \n",
    "    img = Image.open(img_path)\n",
    "    img = img.rotate(degree, expand=expand)\n",
    "    img = img.resize((512,512))\n",
    "    img.save(out_path)\n"
   ]
  },
  {
   "cell_type": "code",
   "execution_count": 5,
   "metadata": {},
   "outputs": [],
   "source": [
    "def jpeg_attack(img_path, out_path, multi=False):\n",
    "    quality = 50\n",
    "    if os.path.exists(out_path) and not multi:\n",
    "        return \n",
    "    \n",
    "    img = Image.open(img_path)\n",
    "    img.save(out_path, \"JPEG\", quality=quality)"
   ]
  },
  {
   "cell_type": "code",
   "execution_count": 6,
   "metadata": {},
   "outputs": [],
   "source": [
    "wm_imgs_path = '/raid/home/ashhar21137/watermarking/dwtDctSvd/dwtDctSvd_watermarked_images'"
   ]
  },
  {
   "cell_type": "code",
   "execution_count": 7,
   "metadata": {},
   "outputs": [],
   "source": [
    "wm_imgs = os.listdir(wm_imgs_path)"
   ]
  },
  {
   "cell_type": "code",
   "execution_count": 8,
   "metadata": {},
   "outputs": [],
   "source": [
    "attacks = [\"brightness\",\"gaussian_noise\",\"jpeg\",\"rotation\"]\n"
   ]
  },
  {
   "cell_type": "code",
   "execution_count": 9,
   "metadata": {},
   "outputs": [],
   "source": [
    "attacked_dir = '/raid/home/ashhar21137/watermarking/dwtDctSvd/attacked'"
   ]
  },
  {
   "cell_type": "code",
   "execution_count": 10,
   "metadata": {},
   "outputs": [],
   "source": [
    "attack_detection = defaultdict(lambda: defaultdict(dict))"
   ]
  },
  {
   "cell_type": "code",
   "execution_count": 11,
   "metadata": {},
   "outputs": [],
   "source": [
    "# for img in wm_imgs : \n",
    "#     img_path = os.path.join(wm_imgs_path,img) \n",
    "    \n"
   ]
  },
  {
   "cell_type": "code",
   "execution_count": 12,
   "metadata": {},
   "outputs": [
    {
     "name": "stdout",
     "output_type": "stream",
     "text": [
      "----------------- Performing Attacks ------------------\n"
     ]
    },
    {
     "name": "stderr",
     "output_type": "stream",
     "text": [
      "100%|██████████| 200/200 [00:00<00:00, 13461.19it/s]\n"
     ]
    }
   ],
   "source": [
    "print(\"----------------- Performing Attacks ------------------\")\n",
    "# count = 0 \n",
    "for img in tqdm(wm_imgs):\n",
    "    # if count > 0 : break \n",
    "    # if \".png\" in image : \n",
    "    img_pth = os.path.join(wm_imgs_path, img)\n",
    "    \n",
    "    # print(\"img_pth : \", img_pth)\n",
    "    \n",
    "    img_name, img_ext = os.path.splitext(img)\n",
    "    \n",
    "    # print(\"img_name : \",img_name)\n",
    "    # print(\"img_ext : \",img_ext)\n",
    "\n",
    "    for attack in attacks: \n",
    "        output_path = os.path.join(f\"{attacked_dir}/{attack}\", f\"{attack}_{img_name + img_ext}\")\n",
    "        # print(\"output path : \",output_path)\n",
    "        \n",
    "        # Ensure the output directory exists\n",
    "        os.makedirs(os.path.dirname(output_path), exist_ok=True)\n",
    "        \n",
    "        if attack == \"brightness\":\n",
    "            brightness_attack(img_pth, output_path)  # Pass individual paths\n",
    "\n",
    "        elif attack == \"gaussian_noise\":\n",
    "            gaussian_noise_attack(img_pth, output_path)\n",
    "\n",
    "        elif attack == \"rotation\" :\n",
    "            rotate_attack(img_pth,output_path)\n",
    "\n",
    "        elif attack == \"jpeg\" : \n",
    "            jpeg_attack(img_pth,output_path)\n",
    "        \n",
    "\n",
    "    # count += 1\n"
   ]
  },
  {
   "cell_type": "code",
   "execution_count": 13,
   "metadata": {},
   "outputs": [],
   "source": [
    "paraphrase_detection = defaultdict(lambda: defaultdict(dict))\n",
    "attack_detection = defaultdict(lambda: defaultdict(dict))\n"
   ]
  },
  {
   "cell_type": "code",
   "execution_count": 14,
   "metadata": {},
   "outputs": [],
   "source": [
    "import json \n"
   ]
  },
  {
   "cell_type": "code",
   "execution_count": 15,
   "metadata": {},
   "outputs": [],
   "source": [
    "attacks_op_parent = '/raid/home/ashhar21137/watermarking/dwtDctSvd/attacked'"
   ]
  },
  {
   "cell_type": "code",
   "execution_count": 16,
   "metadata": {},
   "outputs": [],
   "source": [
    "wm = 'test'"
   ]
  },
  {
   "cell_type": "code",
   "execution_count": 17,
   "metadata": {},
   "outputs": [],
   "source": [
    "def get_watermark_probability(image_path, expected_watermark, scale=32):\n",
    "    try:\n",
    "        # Read the image\n",
    "        bgr = cv2.imread(image_path)\n",
    "        \n",
    "        # Create the decoder\n",
    "        decoder = WatermarkDecoder('bytes', scale)\n",
    "        # Decode the watermark\n",
    "        decoded_watermark_bytes = decoder.decode(bgr, 'dwtDctSvd')\n",
    "        decoded_watermark = decoded_watermark_bytes.decode('utf-8')\n",
    "        \n",
    "        # Compare the decoded watermark with the expected watermark\n",
    "        if decoded_watermark:\n",
    "            correct_chars = sum([1 for i, j in zip(decoded_watermark, expected_watermark) if i == j])\n",
    "            total_chars = max(len(decoded_watermark), len(expected_watermark))\n",
    "            confidence_score = correct_chars / total_chars\n",
    "        else:\n",
    "            decoded_watermark = ''\n",
    "            confidence_score = 0\n",
    "    except Exception as e:\n",
    "        # Handle any decoding errors\n",
    "        decoded_watermark = ''\n",
    "        confidence_score = 0\n",
    "    \n",
    "    return decoded_watermark, confidence_score"
   ]
  },
  {
   "cell_type": "code",
   "execution_count": 18,
   "metadata": {},
   "outputs": [
    {
     "name": "stdout",
     "output_type": "stream",
     "text": [
      "----------------- Generating detection results ------------------\n",
      " ----- Attack : brightness -----\n"
     ]
    },
    {
     "name": "stderr",
     "output_type": "stream",
     "text": [
      "  0%|          | 0/200 [00:00<?, ?it/s]"
     ]
    },
    {
     "name": "stdout",
     "output_type": "stream",
     "text": [
      "----- Count : 1 -----\n",
      " *** Image : brightness_Image_426038.jpg ***\n",
      "Image id :  Image_426038.jpg\n"
     ]
    },
    {
     "name": "stderr",
     "output_type": "stream",
     "text": [
      "  1%|          | 2/200 [00:00<00:29,  6.68it/s]"
     ]
    },
    {
     "name": "stdout",
     "output_type": "stream",
     "text": [
      "Detection Probability :  0\n",
      "----- Count : 2 -----\n",
      " *** Image : brightness_Image_167603.jpg ***\n",
      "Image id :  Image_167603.jpg\n",
      "Detection Probability :  0\n",
      "----- Count : 3 -----\n",
      " *** Image : brightness_Image_311914.jpg ***\n",
      "Image id :  Image_311914.jpg\n"
     ]
    },
    {
     "name": "stderr",
     "output_type": "stream",
     "text": [
      "  2%|▏         | 4/200 [00:00<00:24,  7.97it/s]"
     ]
    },
    {
     "name": "stdout",
     "output_type": "stream",
     "text": [
      "Detection Probability :  0\n",
      "----- Count : 4 -----\n",
      " *** Image : brightness_Image_4428.jpg ***\n",
      "Image id :  Image_4428.jpg\n",
      "Detection Probability :  0.0\n",
      "----- Count : 5 -----\n",
      " *** Image : brightness_Image_560628.jpg ***\n",
      "Image id :  Image_560628.jpg\n"
     ]
    },
    {
     "name": "stderr",
     "output_type": "stream",
     "text": [
      "  3%|▎         | 6/200 [00:00<00:20,  9.33it/s]"
     ]
    },
    {
     "name": "stdout",
     "output_type": "stream",
     "text": [
      "Detection Probability :  0.0\n",
      "----- Count : 6 -----\n",
      " *** Image : brightness_Image_543877.jpg ***\n",
      "Image id :  Image_543877.jpg\n",
      "Detection Probability :  0.0\n",
      "----- Count : 7 -----\n",
      " *** Image : brightness_Image_259446.jpg ***\n",
      "Image id :  Image_259446.jpg\n",
      "Detection Probability :  0\n",
      "----- Count : 8 -----\n",
      " *** Image : brightness_Image_334080.jpg ***\n",
      "Image id :  Image_334080.jpg\n"
     ]
    },
    {
     "name": "stderr",
     "output_type": "stream",
     "text": [
      "  4%|▍         | 9/200 [00:01<00:20,  9.54it/s]"
     ]
    },
    {
     "name": "stdout",
     "output_type": "stream",
     "text": [
      "Detection Probability :  0.0\n",
      "----- Count : 9 -----\n",
      " *** Image : brightness_Image_62279.jpg ***\n",
      "Image id :  Image_62279.jpg\n",
      "Detection Probability :  0.0\n",
      "----- Count : 10 -----\n",
      " *** Image : brightness_Image_122688.jpg ***\n",
      "Image id :  Image_122688.jpg\n",
      "Detection Probability :  0.0\n",
      "----- Count : 11 -----\n",
      " *** Image : brightness_Image_145179.jpg ***\n",
      "Image id :  Image_145179.jpg\n"
     ]
    },
    {
     "name": "stderr",
     "output_type": "stream",
     "text": [
      "  6%|▌         | 12/200 [00:01<00:19,  9.44it/s]"
     ]
    },
    {
     "name": "stdout",
     "output_type": "stream",
     "text": [
      "Detection Probability :  0.0\n",
      "----- Count : 12 -----\n",
      " *** Image : brightness_Image_267688.jpg ***\n",
      "Image id :  Image_267688.jpg\n",
      "Detection Probability :  0.0\n",
      "----- Count : 13 -----\n",
      " *** Image : brightness_Image_64460.jpg ***\n",
      "Image id :  Image_64460.jpg\n",
      "Detection Probability :  0.0\n",
      "----- Count : 14 -----\n",
      " *** Image : brightness_Image_377694.jpg ***\n",
      "Image id :  Image_377694.jpg\n"
     ]
    },
    {
     "name": "stderr",
     "output_type": "stream",
     "text": [
      "  8%|▊         | 15/200 [00:01<00:21,  8.53it/s]"
     ]
    },
    {
     "name": "stdout",
     "output_type": "stream",
     "text": [
      "Detection Probability :  0.0\n",
      "----- Count : 15 -----\n",
      " *** Image : brightness_Image_170850.jpg ***\n",
      "Image id :  Image_170850.jpg\n",
      "Detection Probability :  0.0\n",
      "----- Count : 16 -----\n",
      " *** Image : brightness_Image_265709.jpg ***\n",
      "Image id :  Image_265709.jpg\n"
     ]
    },
    {
     "name": "stderr",
     "output_type": "stream",
     "text": [
      "  8%|▊         | 17/200 [00:01<00:20,  8.96it/s]"
     ]
    },
    {
     "name": "stdout",
     "output_type": "stream",
     "text": [
      "Detection Probability :  0\n",
      "----- Count : 17 -----\n",
      " *** Image : brightness_Image_246446.jpg ***\n",
      "Image id :  Image_246446.jpg\n",
      "Detection Probability :  0.0\n",
      "----- Count : 18 -----\n",
      " *** Image : brightness_Image_62604.jpg ***\n",
      "Image id :  Image_62604.jpg\n"
     ]
    },
    {
     "name": "stderr",
     "output_type": "stream",
     "text": [
      " 10%|▉         | 19/200 [00:02<00:18,  9.76it/s]"
     ]
    },
    {
     "name": "stdout",
     "output_type": "stream",
     "text": [
      "Detection Probability :  0\n",
      "----- Count : 19 -----\n",
      " *** Image : brightness_Image_496939.jpg ***\n",
      "Image id :  Image_496939.jpg\n",
      "Detection Probability :  0.0\n",
      "----- Count : 20 -----\n",
      " *** Image : brightness_Image_279108.jpg ***\n",
      "Image id :  Image_279108.jpg\n",
      "Detection Probability :  0\n",
      "----- Count : 21 -----\n",
      " *** Image : brightness_Image_303291.jpg ***\n",
      "Image id :  Image_303291.jpg\n"
     ]
    },
    {
     "name": "stderr",
     "output_type": "stream",
     "text": [
      " 11%|█         | 22/200 [00:02<00:19,  9.11it/s]"
     ]
    },
    {
     "name": "stdout",
     "output_type": "stream",
     "text": [
      "Detection Probability :  0.0\n",
      "----- Count : 22 -----\n",
      " *** Image : brightness_Image_441488.jpg ***\n",
      "Image id :  Image_441488.jpg\n",
      "Detection Probability :  0.0\n",
      "----- Count : 23 -----\n",
      " *** Image : brightness_Image_239728.jpg ***\n",
      "Image id :  Image_239728.jpg\n"
     ]
    },
    {
     "name": "stderr",
     "output_type": "stream",
     "text": [
      " 12%|█▏        | 24/200 [00:02<00:23,  7.55it/s]"
     ]
    },
    {
     "name": "stdout",
     "output_type": "stream",
     "text": [
      "Detection Probability :  0.0\n",
      "----- Count : 24 -----\n",
      " *** Image : brightness_Image_457732.jpg ***\n",
      "Image id :  Image_457732.jpg\n",
      "Detection Probability :  0\n",
      "----- Count : 25 -----\n",
      " *** Image : brightness_Image_157032.jpg ***\n",
      "Image id :  Image_157032.jpg\n"
     ]
    },
    {
     "name": "stderr",
     "output_type": "stream",
     "text": [
      " 14%|█▎        | 27/200 [00:03<00:19,  8.76it/s]"
     ]
    },
    {
     "name": "stdout",
     "output_type": "stream",
     "text": [
      "Detection Probability :  0.0\n",
      "----- Count : 26 -----\n",
      " *** Image : brightness_Image_165499.jpg ***\n",
      "Image id :  Image_165499.jpg\n",
      "Detection Probability :  0.0\n",
      "----- Count : 27 -----\n",
      " *** Image : brightness_Image_318574.jpg ***\n",
      "Image id :  Image_318574.jpg\n",
      "Detection Probability :  0\n",
      "----- Count : 28 -----\n",
      " *** Image : brightness_Image_570246.jpg ***\n",
      "Image id :  Image_570246.jpg\n"
     ]
    },
    {
     "name": "stderr",
     "output_type": "stream",
     "text": [
      " 14%|█▍        | 29/200 [00:03<00:17,  9.60it/s]"
     ]
    },
    {
     "name": "stdout",
     "output_type": "stream",
     "text": [
      "Detection Probability :  0.0\n",
      "----- Count : 29 -----\n",
      " *** Image : brightness_Image_525589.jpg ***\n",
      "Image id :  Image_525589.jpg\n",
      "Detection Probability :  0\n",
      "----- Count : 30 -----\n",
      " *** Image : brightness_Image_309093.jpg ***\n",
      "Image id :  Image_309093.jpg\n"
     ]
    },
    {
     "name": "stderr",
     "output_type": "stream",
     "text": [
      " 16%|█▌        | 32/200 [00:03<00:18,  9.26it/s]"
     ]
    },
    {
     "name": "stdout",
     "output_type": "stream",
     "text": [
      "Detection Probability :  0.0\n",
      "----- Count : 31 -----\n",
      " *** Image : brightness_Image_470072.jpg ***\n",
      "Image id :  Image_470072.jpg\n",
      "Detection Probability :  0\n",
      "----- Count : 32 -----\n",
      " *** Image : brightness_Image_420721.jpg ***\n",
      "Image id :  Image_420721.jpg\n",
      "Detection Probability :  0\n"
     ]
    },
    {
     "name": "stderr",
     "output_type": "stream",
     "text": [
      " 16%|█▋        | 33/200 [00:03<00:19,  8.53it/s]"
     ]
    },
    {
     "name": "stdout",
     "output_type": "stream",
     "text": [
      "----- Count : 33 -----\n",
      " *** Image : brightness_Image_150867.jpg ***\n",
      "Image id :  Image_150867.jpg\n",
      "Detection Probability :  0.0\n",
      "----- Count : 34 -----\n",
      " *** Image : brightness_Image_270912.jpg ***\n",
      "Image id :  Image_270912.jpg\n"
     ]
    },
    {
     "name": "stderr",
     "output_type": "stream",
     "text": [
      " 17%|█▋        | 34/200 [00:03<00:19,  8.68it/s]"
     ]
    },
    {
     "name": "stdout",
     "output_type": "stream",
     "text": [
      "Detection Probability :  0.0\n",
      "----- Count : 35 -----\n",
      " *** Image : brightness_Image_147170.jpg ***\n",
      "Image id :  Image_147170.jpg\n",
      "Detection Probability :  0.0\n",
      "----- Count : 36 -----\n",
      " *** Image : brightness_Image_37015.jpg ***\n",
      "Image id :  Image_37015.jpg\n"
     ]
    },
    {
     "name": "stderr",
     "output_type": "stream",
     "text": [
      " 19%|█▉        | 38/200 [00:04<00:16,  9.56it/s]"
     ]
    },
    {
     "name": "stdout",
     "output_type": "stream",
     "text": [
      "Detection Probability :  0.0\n",
      "----- Count : 37 -----\n",
      " *** Image : brightness_Image_189993.jpg ***\n",
      "Image id :  Image_189993.jpg\n",
      "Detection Probability :  0.0\n",
      "----- Count : 38 -----\n",
      " *** Image : brightness_Image_170558.jpg ***\n",
      "Image id :  Image_170558.jpg\n",
      "Detection Probability :  0\n",
      "----- Count : 39 -----\n",
      " *** Image : brightness_Image_147016.jpg ***\n",
      "Image id :  Image_147016.jpg\n"
     ]
    },
    {
     "name": "stderr",
     "output_type": "stream",
     "text": [
      " 20%|█▉        | 39/200 [00:04<00:19,  8.27it/s]"
     ]
    },
    {
     "name": "stdout",
     "output_type": "stream",
     "text": [
      "Detection Probability :  0.0\n",
      "----- Count : 40 -----\n",
      " *** Image : brightness_Image_535786.jpg ***\n",
      "Image id :  Image_535786.jpg\n",
      "Detection Probability :  0\n",
      "----- Count : 41 -----\n",
      " *** Image : brightness_Image_371029.jpg ***\n",
      "Image id :  Image_371029.jpg\n"
     ]
    },
    {
     "name": "stderr",
     "output_type": "stream",
     "text": [
      " 22%|██▏       | 43/200 [00:04<00:16,  9.42it/s]"
     ]
    },
    {
     "name": "stdout",
     "output_type": "stream",
     "text": [
      "Detection Probability :  0.0\n",
      "----- Count : 42 -----\n",
      " *** Image : brightness_Image_316676.jpg ***\n",
      "Image id :  Image_316676.jpg\n",
      "Detection Probability :  0.0\n",
      "----- Count : 43 -----\n",
      " *** Image : brightness_Image_289019.jpg ***\n",
      "Image id :  Image_289019.jpg\n",
      "Detection Probability :  0.0\n",
      "----- Count : 44 -----\n",
      " *** Image : brightness_Image_393493.jpg ***\n",
      "Image id :  Image_393493.jpg\n",
      "Detection Probability :  0.0\n",
      "----- Count : 45 -----\n",
      " *** Image : brightness_Image_142088.jpg ***\n",
      "Image id :  Image_142088.jpg\n"
     ]
    },
    {
     "name": "stderr",
     "output_type": "stream",
     "text": [
      " 23%|██▎       | 46/200 [00:05<00:18,  8.33it/s]"
     ]
    },
    {
     "name": "stdout",
     "output_type": "stream",
     "text": [
      "Detection Probability :  0.0\n",
      "----- Count : 46 -----\n",
      " *** Image : brightness_Image_318189.jpg ***\n",
      "Image id :  Image_318189.jpg\n",
      "Detection Probability :  0.0\n",
      "----- Count : 47 -----\n",
      " *** Image : brightness_Image_530683.jpg ***\n",
      "Image id :  Image_530683.jpg\n"
     ]
    },
    {
     "name": "stderr",
     "output_type": "stream",
     "text": [
      " 24%|██▍       | 48/200 [00:05<00:19,  7.82it/s]"
     ]
    },
    {
     "name": "stdout",
     "output_type": "stream",
     "text": [
      "Detection Probability :  0.0\n",
      "----- Count : 48 -----\n",
      " *** Image : brightness_Image_155845.jpg ***\n",
      "Image id :  Image_155845.jpg\n",
      "Detection Probability :  0.0\n",
      "----- Count : 49 -----\n",
      " *** Image : brightness_Image_225750.jpg ***\n",
      "Image id :  Image_225750.jpg\n"
     ]
    },
    {
     "name": "stderr",
     "output_type": "stream",
     "text": [
      " 25%|██▌       | 50/200 [00:05<00:17,  8.43it/s]"
     ]
    },
    {
     "name": "stdout",
     "output_type": "stream",
     "text": [
      "Detection Probability :  0.0\n",
      "----- Count : 50 -----\n",
      " *** Image : brightness_Image_387083.jpg ***\n",
      "Image id :  Image_387083.jpg\n",
      "Detection Probability :  0.0\n",
      "----- Count : 51 -----\n",
      " *** Image : brightness_Image_462559.jpg ***\n",
      "Image id :  Image_462559.jpg\n"
     ]
    },
    {
     "name": "stderr",
     "output_type": "stream",
     "text": [
      " 26%|██▌       | 52/200 [00:05<00:17,  8.62it/s]"
     ]
    },
    {
     "name": "stdout",
     "output_type": "stream",
     "text": [
      "Detection Probability :  0.0\n",
      "----- Count : 52 -----\n",
      " *** Image : brightness_Image_412535.jpg ***\n",
      "Image id :  Image_412535.jpg\n",
      "Detection Probability :  0\n",
      "----- Count : 53 -----\n",
      " *** Image : brightness_Image_326511.jpg ***\n",
      "Image id :  Image_326511.jpg\n"
     ]
    },
    {
     "name": "stderr",
     "output_type": "stream",
     "text": [
      " 27%|██▋       | 54/200 [00:06<00:19,  7.53it/s]"
     ]
    },
    {
     "name": "stdout",
     "output_type": "stream",
     "text": [
      "Detection Probability :  0\n",
      "----- Count : 54 -----\n",
      " *** Image : brightness_Image_210932.jpg ***\n",
      "Image id :  Image_210932.jpg\n",
      "Detection Probability :  0.0\n",
      "----- Count : 55 -----\n",
      " *** Image : brightness_Image_219025.jpg ***\n",
      "Image id :  Image_219025.jpg\n"
     ]
    },
    {
     "name": "stderr",
     "output_type": "stream",
     "text": [
      " 28%|██▊       | 57/200 [00:06<00:15,  8.99it/s]"
     ]
    },
    {
     "name": "stdout",
     "output_type": "stream",
     "text": [
      "Detection Probability :  0.0\n",
      "----- Count : 56 -----\n",
      " *** Image : brightness_Image_497616.jpg ***\n",
      "Image id :  Image_497616.jpg\n",
      "Detection Probability :  0\n",
      "----- Count : 57 -----\n",
      " *** Image : brightness_Image_153946.jpg ***\n",
      "Image id :  Image_153946.jpg\n",
      "Detection Probability :  0\n",
      "----- Count : 58 -----\n",
      " *** Image : brightness_Image_262845.jpg ***\n",
      "Image id :  Image_262845.jpg\n"
     ]
    },
    {
     "name": "stderr",
     "output_type": "stream",
     "text": [
      " 30%|██▉       | 59/200 [00:06<00:14,  9.80it/s]"
     ]
    },
    {
     "name": "stdout",
     "output_type": "stream",
     "text": [
      "Detection Probability :  0.0\n",
      "----- Count : 59 -----\n",
      " *** Image : brightness_Image_214704.jpg ***\n",
      "Image id :  Image_214704.jpg\n",
      "Detection Probability :  0\n",
      "----- Count : 60 -----\n",
      " *** Image : brightness_Image_474882.jpg ***\n",
      "Image id :  Image_474882.jpg\n"
     ]
    },
    {
     "name": "stderr",
     "output_type": "stream",
     "text": [
      " 30%|███       | 61/200 [00:07<00:15,  8.69it/s]"
     ]
    },
    {
     "name": "stdout",
     "output_type": "stream",
     "text": [
      "Detection Probability :  0.0\n",
      "----- Count : 61 -----\n",
      " *** Image : brightness_Image_136461.jpg ***\n",
      "Image id :  Image_136461.jpg\n",
      "Detection Probability :  0.0\n",
      "----- Count : 62 -----\n",
      " *** Image : brightness_Image_84427.jpg ***\n",
      "Image id :  Image_84427.jpg\n"
     ]
    },
    {
     "name": "stderr",
     "output_type": "stream",
     "text": [
      " 32%|███▏      | 63/200 [00:07<00:14,  9.42it/s]"
     ]
    },
    {
     "name": "stdout",
     "output_type": "stream",
     "text": [
      "Detection Probability :  0\n",
      "----- Count : 63 -----\n",
      " *** Image : brightness_Image_392136.jpg ***\n",
      "Image id :  Image_392136.jpg\n",
      "Detection Probability :  0.0\n",
      "----- Count : 64 -----\n",
      " *** Image : brightness_Image_66514.jpg ***\n",
      "Image id :  Image_66514.jpg\n"
     ]
    },
    {
     "name": "stderr",
     "output_type": "stream",
     "text": [
      " 32%|███▎      | 65/200 [00:07<00:14,  9.04it/s]"
     ]
    },
    {
     "name": "stdout",
     "output_type": "stream",
     "text": [
      "Detection Probability :  0.0\n",
      "----- Count : 65 -----\n",
      " *** Image : brightness_Image_168194.jpg ***\n",
      "Image id :  Image_168194.jpg\n",
      "Detection Probability :  0\n",
      "----- Count : 66 -----\n",
      " *** Image : brightness_Image_2024.jpg ***\n",
      "Image id :  Image_2024.jpg\n",
      "Detection Probability :  0.0\n",
      "----- Count : 67 -----\n",
      " *** Image : brightness_Image_186233.jpg ***\n",
      "Image id :  Image_186233.jpg\n"
     ]
    },
    {
     "name": "stderr",
     "output_type": "stream",
     "text": [
      " 34%|███▎      | 67/200 [00:07<00:12, 10.33it/s]"
     ]
    },
    {
     "name": "stdout",
     "output_type": "stream",
     "text": [
      "Detection Probability :  0\n",
      "----- Count : 68 -----\n",
      " *** Image : brightness_Image_520208.jpg ***\n",
      "Image id :  Image_520208.jpg\n",
      "Detection Probability :  0\n",
      "----- Count : 69 -----\n",
      " *** Image : brightness_Image_351430.jpg ***\n",
      "Image id :  Image_351430.jpg\n"
     ]
    },
    {
     "name": "stderr",
     "output_type": "stream",
     "text": [
      " 35%|███▌      | 70/200 [00:07<00:13,  9.59it/s]"
     ]
    },
    {
     "name": "stdout",
     "output_type": "stream",
     "text": [
      "Detection Probability :  0\n",
      "----- Count : 70 -----\n",
      " *** Image : brightness_Image_109424.jpg ***\n",
      "Image id :  Image_109424.jpg\n",
      "Detection Probability :  0\n",
      "----- Count : 71 -----\n",
      " *** Image : brightness_Image_98760.jpg ***\n",
      "Image id :  Image_98760.jpg\n",
      "Detection Probability :  0.0\n",
      "----- Count : 72 -----\n",
      " *** Image : brightness_Image_257350.jpg ***\n",
      "Image id :  Image_257350.jpg\n"
     ]
    },
    {
     "name": "stderr",
     "output_type": "stream",
     "text": [
      " 36%|███▋      | 73/200 [00:08<00:13,  9.68it/s]"
     ]
    },
    {
     "name": "stdout",
     "output_type": "stream",
     "text": [
      "Detection Probability :  0\n",
      "----- Count : 73 -----\n",
      " *** Image : brightness_Image_353139.jpg ***\n",
      "Image id :  Image_353139.jpg\n",
      "Detection Probability :  0.0\n",
      "----- Count : 74 -----\n",
      " *** Image : brightness_Image_77806.jpg ***\n",
      "Image id :  Image_77806.jpg\n"
     ]
    },
    {
     "name": "stderr",
     "output_type": "stream",
     "text": [
      " 38%|███▊      | 75/200 [00:08<00:15,  7.88it/s]"
     ]
    },
    {
     "name": "stdout",
     "output_type": "stream",
     "text": [
      "Detection Probability :  0.0\n",
      "----- Count : 75 -----\n",
      " *** Image : brightness_Image_79481.jpg ***\n",
      "Image id :  Image_79481.jpg\n",
      "Detection Probability :  0\n"
     ]
    },
    {
     "name": "stderr",
     "output_type": "stream",
     "text": [
      " 38%|███▊      | 77/200 [00:08<00:13,  8.96it/s]"
     ]
    },
    {
     "name": "stdout",
     "output_type": "stream",
     "text": [
      "----- Count : 76 -----\n",
      " *** Image : brightness_Image_523617.jpg ***\n",
      "Image id :  Image_523617.jpg\n",
      "Detection Probability :  0\n",
      "----- Count : 77 -----\n",
      " *** Image : brightness_Image_236772.jpg ***\n",
      "Image id :  Image_236772.jpg\n",
      "Detection Probability :  0.0\n",
      "----- Count : 78 -----\n",
      " *** Image : brightness_Image_209967.jpg ***\n",
      "Image id :  Image_209967.jpg\n"
     ]
    },
    {
     "name": "stderr",
     "output_type": "stream",
     "text": [
      " 40%|███▉      | 79/200 [00:08<00:14,  8.46it/s]"
     ]
    },
    {
     "name": "stdout",
     "output_type": "stream",
     "text": [
      "Detection Probability :  0.0\n",
      "----- Count : 79 -----\n",
      " *** Image : brightness_Image_483008.jpg ***\n",
      "Image id :  Image_483008.jpg\n",
      "Detection Probability :  0\n",
      "----- Count : 80 -----\n",
      " *** Image : brightness_Image_446014.jpg ***\n",
      "Image id :  Image_446014.jpg\n",
      "Detection Probability :  0.0\n",
      "----- Count : 81 -----\n",
      " *** Image : brightness_Image_570608.jpg ***\n",
      "Image id :  Image_570608.jpg\n"
     ]
    },
    {
     "name": "stderr",
     "output_type": "stream",
     "text": [
      " 41%|████      | 82/200 [00:09<00:13,  9.08it/s]"
     ]
    },
    {
     "name": "stdout",
     "output_type": "stream",
     "text": [
      "Detection Probability :  0\n",
      "----- Count : 82 -----\n",
      " *** Image : brightness_Image_448698.jpg ***\n",
      "Image id :  Image_448698.jpg\n",
      "Detection Probability :  0.0\n",
      "----- Count : 83 -----\n",
      " *** Image : brightness_Image_96997.jpg ***\n",
      "Image id :  Image_96997.jpg\n"
     ]
    },
    {
     "name": "stderr",
     "output_type": "stream",
     "text": [
      " 42%|████▏     | 84/200 [00:09<00:12,  9.09it/s]"
     ]
    },
    {
     "name": "stdout",
     "output_type": "stream",
     "text": [
      "Detection Probability :  0\n",
      "----- Count : 84 -----\n",
      " *** Image : brightness_Image_69675.jpg ***\n",
      "Image id :  Image_69675.jpg\n",
      "Detection Probability :  0\n",
      "----- Count : 85 -----\n",
      " *** Image : brightness_Image_222016.jpg ***\n",
      "Image id :  Image_222016.jpg\n"
     ]
    },
    {
     "name": "stderr",
     "output_type": "stream",
     "text": [
      " 43%|████▎     | 86/200 [00:09<00:13,  8.36it/s]"
     ]
    },
    {
     "name": "stdout",
     "output_type": "stream",
     "text": [
      "Detection Probability :  0.0\n",
      "----- Count : 86 -----\n",
      " *** Image : brightness_Image_556801.jpg ***\n",
      "Image id :  Image_556801.jpg\n",
      "Detection Probability :  0\n",
      "----- Count : 87 -----\n",
      " *** Image : brightness_Image_424102.jpg ***\n",
      "Image id :  Image_424102.jpg\n"
     ]
    },
    {
     "name": "stderr",
     "output_type": "stream",
     "text": [
      " 44%|████▍     | 88/200 [00:10<00:16,  6.67it/s]"
     ]
    },
    {
     "name": "stdout",
     "output_type": "stream",
     "text": [
      "Detection Probability :  0.0\n",
      "----- Count : 88 -----\n",
      " *** Image : brightness_Image_551125.jpg ***\n",
      "Image id :  Image_551125.jpg\n",
      "Detection Probability :  0.0\n"
     ]
    },
    {
     "name": "stderr",
     "output_type": "stream",
     "text": [
      " 44%|████▍     | 89/200 [00:10<00:16,  6.81it/s]"
     ]
    },
    {
     "name": "stdout",
     "output_type": "stream",
     "text": [
      "----- Count : 89 -----\n",
      " *** Image : brightness_Image_504616.jpg ***\n",
      "Image id :  Image_504616.jpg\n",
      "Detection Probability :  0.0\n",
      "----- Count : 90 -----\n",
      " *** Image : brightness_Image_365363.jpg ***\n",
      "Image id :  Image_365363.jpg\n"
     ]
    },
    {
     "name": "stderr",
     "output_type": "stream",
     "text": [
      " 46%|████▌     | 91/200 [00:10<00:13,  8.01it/s]"
     ]
    },
    {
     "name": "stdout",
     "output_type": "stream",
     "text": [
      "Detection Probability :  0.0\n",
      "----- Count : 91 -----\n",
      " *** Image : brightness_Image_44404.jpg ***\n",
      "Image id :  Image_44404.jpg\n",
      "Detection Probability :  0\n",
      "----- Count : 92 -----\n",
      " *** Image : brightness_Image_42493.jpg ***\n",
      "Image id :  Image_42493.jpg\n"
     ]
    },
    {
     "name": "stderr",
     "output_type": "stream",
     "text": [
      " 47%|████▋     | 94/200 [00:10<00:10,  9.82it/s]"
     ]
    },
    {
     "name": "stdout",
     "output_type": "stream",
     "text": [
      "Detection Probability :  0.0\n",
      "----- Count : 93 -----\n",
      " *** Image : brightness_Image_540162.jpg ***\n",
      "Image id :  Image_540162.jpg\n",
      "Detection Probability :  0.0\n",
      "----- Count : 94 -----\n",
      " *** Image : brightness_Image_287541.jpg ***\n",
      "Image id :  Image_287541.jpg\n",
      "Detection Probability :  0.0\n",
      "----- Count : 95 -----\n",
      " *** Image : brightness_Image_179620.jpg ***\n",
      "Image id :  Image_179620.jpg\n"
     ]
    },
    {
     "name": "stderr",
     "output_type": "stream",
     "text": [
      " 48%|████▊     | 96/200 [00:10<00:09, 10.48it/s]"
     ]
    },
    {
     "name": "stdout",
     "output_type": "stream",
     "text": [
      "Detection Probability :  0.0\n",
      "----- Count : 96 -----\n",
      " *** Image : brightness_Image_547471.jpg ***\n",
      "Image id :  Image_547471.jpg\n",
      "Detection Probability :  0\n",
      "----- Count : 97 -----\n",
      " *** Image : brightness_Image_181104.jpg ***\n",
      "Image id :  Image_181104.jpg\n",
      "Detection Probability :  0\n",
      "----- Count : 98 -----\n",
      " *** Image : brightness_Image_302389.jpg ***\n",
      "Image id :  Image_302389.jpg\n"
     ]
    },
    {
     "name": "stderr",
     "output_type": "stream",
     "text": [
      " 49%|████▉     | 98/200 [00:11<00:09, 10.61it/s]"
     ]
    },
    {
     "name": "stdout",
     "output_type": "stream",
     "text": [
      "Detection Probability :  0\n",
      "----- Count : 99 -----\n",
      " *** Image : brightness_Image_101418.jpg ***\n",
      "Image id :  Image_101418.jpg\n",
      "Detection Probability :  0\n",
      "----- Count : 100 -----\n",
      " *** Image : brightness_Image_472925.jpg ***\n",
      "Image id :  Image_472925.jpg\n"
     ]
    },
    {
     "name": "stderr",
     "output_type": "stream",
     "text": [
      " 51%|█████     | 102/200 [00:11<00:10,  9.57it/s]"
     ]
    },
    {
     "name": "stdout",
     "output_type": "stream",
     "text": [
      "Detection Probability :  0\n",
      "----- Count : 101 -----\n",
      " *** Image : brightness_Image_505126.jpg ***\n",
      "Image id :  Image_505126.jpg\n",
      "Detection Probability :  0.25\n",
      "----- Count : 102 -----\n",
      " *** Image : brightness_Image_49183.jpg ***\n",
      "Image id :  Image_49183.jpg\n",
      "Detection Probability :  0.0\n",
      "----- Count : 103 -----\n",
      " *** Image : brightness_Image_317237.jpg ***\n",
      "Image id :  Image_317237.jpg\n"
     ]
    },
    {
     "name": "stderr",
     "output_type": "stream",
     "text": [
      " 52%|█████▏    | 104/200 [00:11<00:10,  9.53it/s]"
     ]
    },
    {
     "name": "stdout",
     "output_type": "stream",
     "text": [
      "Detection Probability :  0.0\n",
      "----- Count : 104 -----\n",
      " *** Image : brightness_Image_513541.jpg ***\n",
      "Image id :  Image_513541.jpg\n",
      "Detection Probability :  0.0\n",
      "----- Count : 105 -----\n",
      " *** Image : brightness_Image_536587.jpg ***\n",
      "Image id :  Image_536587.jpg\n"
     ]
    },
    {
     "name": "stderr",
     "output_type": "stream",
     "text": [
      " 52%|█████▎    | 105/200 [00:11<00:10,  9.12it/s]"
     ]
    },
    {
     "name": "stdout",
     "output_type": "stream",
     "text": [
      "Detection Probability :  0.0\n",
      "----- Count : 106 -----\n",
      " *** Image : brightness_Image_352884.jpg ***\n",
      "Image id :  Image_352884.jpg\n",
      "Detection Probability :  0\n",
      "----- Count : 107 -----\n",
      " *** Image : brightness_Image_199628.jpg ***\n",
      "Image id :  Image_199628.jpg\n"
     ]
    },
    {
     "name": "stderr",
     "output_type": "stream",
     "text": [
      " 54%|█████▍    | 108/200 [00:12<00:10,  8.60it/s]"
     ]
    },
    {
     "name": "stdout",
     "output_type": "stream",
     "text": [
      "Detection Probability :  0.0\n",
      "----- Count : 108 -----\n",
      " *** Image : brightness_Image_348850.jpg ***\n",
      "Image id :  Image_348850.jpg\n",
      "Detection Probability :  0\n",
      "----- Count : 109 -----\n",
      " *** Image : brightness_Image_540988.jpg ***\n",
      "Image id :  Image_540988.jpg\n"
     ]
    },
    {
     "name": "stderr",
     "output_type": "stream",
     "text": [
      " 55%|█████▌    | 110/200 [00:12<00:10,  8.94it/s]"
     ]
    },
    {
     "name": "stdout",
     "output_type": "stream",
     "text": [
      "Detection Probability :  0.0\n",
      "----- Count : 110 -----\n",
      " *** Image : brightness_Image_388754.jpg ***\n",
      "Image id :  Image_388754.jpg\n",
      "Detection Probability :  0.0\n",
      "----- Count : 111 -----\n",
      " *** Image : brightness_Image_212091.jpg ***\n",
      "Image id :  Image_212091.jpg\n"
     ]
    },
    {
     "name": "stderr",
     "output_type": "stream",
     "text": [
      " 56%|█████▋    | 113/200 [00:12<00:09,  9.59it/s]"
     ]
    },
    {
     "name": "stdout",
     "output_type": "stream",
     "text": [
      "Detection Probability :  0.0\n",
      "----- Count : 112 -----\n",
      " *** Image : brightness_Image_356702.jpg ***\n",
      "Image id :  Image_356702.jpg\n",
      "Detection Probability :  0.0\n",
      "----- Count : 113 -----\n",
      " *** Image : brightness_Image_528906.jpg ***\n",
      "Image id :  Image_528906.jpg\n",
      "Detection Probability :  0.0\n",
      "----- Count : 114 -----\n",
      " *** Image : brightness_Image_161919.jpg ***\n",
      "Image id :  Image_161919.jpg\n"
     ]
    },
    {
     "name": "stderr",
     "output_type": "stream",
     "text": [
      " 57%|█████▊    | 115/200 [00:13<00:10,  8.40it/s]"
     ]
    },
    {
     "name": "stdout",
     "output_type": "stream",
     "text": [
      "Detection Probability :  0\n",
      "----- Count : 115 -----\n",
      " *** Image : brightness_Image_55627.jpg ***\n",
      "Image id :  Image_55627.jpg\n",
      "Detection Probability :  0.0\n",
      "----- Count : 116 -----\n",
      " *** Image : brightness_Image_160163.jpg ***\n",
      "Image id :  Image_160163.jpg\n"
     ]
    },
    {
     "name": "stderr",
     "output_type": "stream",
     "text": [
      " 58%|█████▊    | 117/200 [00:13<00:08,  9.38it/s]"
     ]
    },
    {
     "name": "stdout",
     "output_type": "stream",
     "text": [
      "Detection Probability :  0.0\n",
      "----- Count : 117 -----\n",
      " *** Image : brightness_Image_399956.jpg ***\n",
      "Image id :  Image_399956.jpg\n",
      "Detection Probability :  0\n",
      "----- Count : 118 -----\n",
      " *** Image : brightness_Image_444546.jpg ***\n",
      "Image id :  Image_444546.jpg\n"
     ]
    },
    {
     "name": "stderr",
     "output_type": "stream",
     "text": [
      " 60%|█████▉    | 119/200 [00:13<00:09,  8.99it/s]"
     ]
    },
    {
     "name": "stdout",
     "output_type": "stream",
     "text": [
      "Detection Probability :  0\n",
      "----- Count : 119 -----\n",
      " *** Image : brightness_Image_491269.jpg ***\n",
      "Image id :  Image_491269.jpg\n",
      "Detection Probability :  0\n",
      "----- Count : 120 -----\n",
      " *** Image : brightness_Image_576757.jpg ***\n",
      "Image id :  Image_576757.jpg\n"
     ]
    },
    {
     "name": "stderr",
     "output_type": "stream",
     "text": [
      " 60%|██████    | 121/200 [00:13<00:09,  8.47it/s]"
     ]
    },
    {
     "name": "stdout",
     "output_type": "stream",
     "text": [
      "Detection Probability :  0.0\n",
      "----- Count : 121 -----\n",
      " *** Image : brightness_Image_309322.jpg ***\n",
      "Image id :  Image_309322.jpg\n",
      "Detection Probability :  0.0\n",
      "----- Count : 122 -----\n",
      " *** Image : brightness_Image_90570.jpg ***\n",
      "Image id :  Image_90570.jpg\n"
     ]
    },
    {
     "name": "stderr",
     "output_type": "stream",
     "text": [
      " 62%|██████▏   | 123/200 [00:13<00:08,  8.69it/s]"
     ]
    },
    {
     "name": "stdout",
     "output_type": "stream",
     "text": [
      "Detection Probability :  0.0\n",
      "----- Count : 123 -----\n",
      " *** Image : brightness_Image_546451.jpg ***\n",
      "Image id :  Image_546451.jpg\n",
      "Detection Probability :  0.0\n",
      "----- Count : 124 -----\n",
      " *** Image : brightness_Image_438422.jpg ***\n",
      "Image id :  Image_438422.jpg\n"
     ]
    },
    {
     "name": "stderr",
     "output_type": "stream",
     "text": [
      " 63%|██████▎   | 126/200 [00:14<00:08,  9.20it/s]"
     ]
    },
    {
     "name": "stdout",
     "output_type": "stream",
     "text": [
      "Detection Probability :  0.0\n",
      "----- Count : 125 -----\n",
      " *** Image : brightness_Image_559527.jpg ***\n",
      "Image id :  Image_559527.jpg\n",
      "Detection Probability :  0\n",
      "----- Count : 126 -----\n",
      " *** Image : brightness_Image_301778.jpg ***\n",
      "Image id :  Image_301778.jpg\n",
      "Detection Probability :  0.0\n",
      "----- Count : 127 -----\n",
      " *** Image : brightness_Image_581674.jpg ***\n",
      "Image id :  Image_581674.jpg\n"
     ]
    },
    {
     "name": "stderr",
     "output_type": "stream",
     "text": [
      " 64%|██████▍   | 129/200 [00:14<00:07,  9.94it/s]"
     ]
    },
    {
     "name": "stdout",
     "output_type": "stream",
     "text": [
      "Detection Probability :  0\n",
      "----- Count : 128 -----\n",
      " *** Image : brightness_Image_388911.jpg ***\n",
      "Image id :  Image_388911.jpg\n",
      "Detection Probability :  0.0\n",
      "----- Count : 129 -----\n",
      " *** Image : brightness_Image_374114.jpg ***\n",
      "Image id :  Image_374114.jpg\n",
      "Detection Probability :  0.0\n",
      "----- Count : 130 -----\n",
      " *** Image : brightness_Image_147303.jpg ***\n",
      "Image id :  Image_147303.jpg\n"
     ]
    },
    {
     "name": "stderr",
     "output_type": "stream",
     "text": [
      " 66%|██████▌   | 131/200 [00:14<00:07,  9.54it/s]"
     ]
    },
    {
     "name": "stdout",
     "output_type": "stream",
     "text": [
      "Detection Probability :  0.0\n",
      "----- Count : 131 -----\n",
      " *** Image : brightness_Image_246804.jpg ***\n",
      "Image id :  Image_246804.jpg\n",
      "Detection Probability :  0.0\n",
      "----- Count : 132 -----\n",
      " *** Image : brightness_Image_483751.jpg ***\n",
      "Image id :  Image_483751.jpg\n"
     ]
    },
    {
     "name": "stderr",
     "output_type": "stream",
     "text": [
      " 66%|██████▋   | 133/200 [00:14<00:07,  9.56it/s]"
     ]
    },
    {
     "name": "stdout",
     "output_type": "stream",
     "text": [
      "Detection Probability :  0\n",
      "----- Count : 133 -----\n",
      " *** Image : brightness_Image_70000.jpg ***\n",
      "Image id :  Image_70000.jpg\n",
      "Detection Probability :  0.25\n",
      "----- Count : 134 -----\n",
      " *** Image : brightness_Image_71631.jpg ***\n",
      "Image id :  Image_71631.jpg\n"
     ]
    },
    {
     "name": "stderr",
     "output_type": "stream",
     "text": [
      " 67%|██████▋   | 134/200 [00:15<00:07,  9.33it/s]"
     ]
    },
    {
     "name": "stdout",
     "output_type": "stream",
     "text": [
      "Detection Probability :  0\n",
      "----- Count : 135 -----\n",
      " *** Image : brightness_Image_280260.jpg ***\n",
      "Image id :  Image_280260.jpg\n",
      "Detection Probability :  0.0\n",
      "----- Count : 136 -----\n",
      " *** Image : brightness_Image_357684.jpg ***\n",
      "Image id :  Image_357684.jpg\n"
     ]
    },
    {
     "name": "stderr",
     "output_type": "stream",
     "text": [
      " 69%|██████▉   | 138/200 [00:15<00:06,  9.93it/s]"
     ]
    },
    {
     "name": "stdout",
     "output_type": "stream",
     "text": [
      "Detection Probability :  0.0\n",
      "----- Count : 137 -----\n",
      " *** Image : brightness_Image_412198.jpg ***\n",
      "Image id :  Image_412198.jpg\n",
      "Detection Probability :  0.0\n",
      "----- Count : 138 -----\n",
      " *** Image : brightness_Image_354444.jpg ***\n",
      "Image id :  Image_354444.jpg\n",
      "Detection Probability :  0.0\n",
      "----- Count : 139 -----\n",
      " *** Image : brightness_Image_239811.jpg ***\n",
      "Image id :  Image_239811.jpg\n"
     ]
    },
    {
     "name": "stderr",
     "output_type": "stream",
     "text": [
      " 70%|███████   | 140/200 [00:15<00:06,  9.46it/s]"
     ]
    },
    {
     "name": "stdout",
     "output_type": "stream",
     "text": [
      "Detection Probability :  0\n",
      "----- Count : 140 -----\n",
      " *** Image : brightness_Image_345781.jpg ***\n",
      "Image id :  Image_345781.jpg\n",
      "Detection Probability :  0.0\n",
      "----- Count : 141 -----\n",
      " *** Image : brightness_Image_70868.jpg ***\n",
      "Image id :  Image_70868.jpg\n"
     ]
    },
    {
     "name": "stderr",
     "output_type": "stream",
     "text": [
      " 71%|███████   | 142/200 [00:16<00:06,  8.65it/s]"
     ]
    },
    {
     "name": "stdout",
     "output_type": "stream",
     "text": [
      "Detection Probability :  0\n",
      "----- Count : 142 -----\n",
      " *** Image : brightness_Image_8649.jpg ***\n",
      "Image id :  Image_8649.jpg\n",
      "Detection Probability :  0.0\n",
      "----- Count : 143 -----\n",
      " *** Image : brightness_Image_496283.jpg ***\n",
      "Image id :  Image_496283.jpg\n"
     ]
    },
    {
     "name": "stderr",
     "output_type": "stream",
     "text": [
      " 72%|███████▏  | 144/200 [00:16<00:05,  9.82it/s]"
     ]
    },
    {
     "name": "stdout",
     "output_type": "stream",
     "text": [
      "Detection Probability :  0.0\n",
      "----- Count : 144 -----\n",
      " *** Image : brightness_Image_95133.jpg ***\n",
      "Image id :  Image_95133.jpg\n",
      "Detection Probability :  0.0\n",
      "----- Count : 145 -----\n",
      " *** Image : brightness_Image_520950.jpg ***\n",
      "Image id :  Image_520950.jpg\n",
      "Detection Probability :  0.0\n",
      "----- Count : 146 -----\n",
      " *** Image : brightness_Image_122108.jpg ***\n",
      "Image id :  Image_122108.jpg\n"
     ]
    },
    {
     "name": "stderr",
     "output_type": "stream",
     "text": [
      " 74%|███████▍  | 148/200 [00:16<00:04, 10.76it/s]"
     ]
    },
    {
     "name": "stdout",
     "output_type": "stream",
     "text": [
      "Detection Probability :  0.0\n",
      "----- Count : 147 -----\n",
      " *** Image : brightness_Image_223726.jpg ***\n",
      "Image id :  Image_223726.jpg\n",
      "Detection Probability :  0\n",
      "----- Count : 148 -----\n",
      " *** Image : brightness_Image_413746.jpg ***\n",
      "Image id :  Image_413746.jpg\n",
      "Detection Probability :  0\n",
      "----- Count : 149 -----\n",
      " *** Image : brightness_Image_384029.jpg ***\n",
      "Image id :  Image_384029.jpg\n"
     ]
    },
    {
     "name": "stderr",
     "output_type": "stream",
     "text": [
      " 75%|███████▌  | 150/200 [00:16<00:04, 11.51it/s]"
     ]
    },
    {
     "name": "stdout",
     "output_type": "stream",
     "text": [
      "Detection Probability :  0\n",
      "----- Count : 150 -----\n",
      " *** Image : brightness_Image_18885.jpg ***\n",
      "Image id :  Image_18885.jpg\n",
      "Detection Probability :  0\n",
      "----- Count : 151 -----\n",
      " *** Image : brightness_Image_409513.jpg ***\n",
      "Image id :  Image_409513.jpg\n",
      "Detection Probability :  0.0\n",
      "----- Count : 152 -----\n",
      " *** Image : brightness_Image_215481.jpg ***\n",
      "Image id :  Image_215481.jpg\n"
     ]
    },
    {
     "name": "stderr",
     "output_type": "stream",
     "text": [
      " 77%|███████▋  | 154/200 [00:16<00:03, 12.73it/s]"
     ]
    },
    {
     "name": "stdout",
     "output_type": "stream",
     "text": [
      "Detection Probability :  0.0\n",
      "----- Count : 153 -----\n",
      " *** Image : brightness_Image_36633.jpg ***\n",
      "Image id :  Image_36633.jpg\n",
      "Detection Probability :  0\n",
      "----- Count : 154 -----\n",
      " *** Image : brightness_Image_287927.jpg ***\n",
      "Image id :  Image_287927.jpg\n",
      "Detection Probability :  0.0\n",
      "----- Count : 155 -----\n",
      " *** Image : brightness_Image_560459.jpg ***\n",
      "Image id :  Image_560459.jpg\n"
     ]
    },
    {
     "name": "stderr",
     "output_type": "stream",
     "text": [
      " 78%|███████▊  | 156/200 [00:17<00:03, 11.63it/s]"
     ]
    },
    {
     "name": "stdout",
     "output_type": "stream",
     "text": [
      "Detection Probability :  0.0\n",
      "----- Count : 156 -----\n",
      " *** Image : brightness_Image_269829.jpg ***\n",
      "Image id :  Image_269829.jpg\n",
      "Detection Probability :  0.0\n",
      "----- Count : 157 -----\n",
      " *** Image : brightness_Image_313932.jpg ***\n",
      "Image id :  Image_313932.jpg\n"
     ]
    },
    {
     "name": "stderr",
     "output_type": "stream",
     "text": [
      " 79%|███████▉  | 158/200 [00:17<00:04, 10.43it/s]"
     ]
    },
    {
     "name": "stdout",
     "output_type": "stream",
     "text": [
      "Detection Probability :  0\n",
      "----- Count : 158 -----\n",
      " *** Image : brightness_Image_486320.jpg ***\n",
      "Image id :  Image_486320.jpg\n",
      "Detection Probability :  0.0\n",
      "----- Count : 159 -----\n",
      " *** Image : brightness_Image_378710.jpg ***\n",
      "Image id :  Image_378710.jpg\n",
      "Detection Probability :  0.0\n",
      "----- Count : 160 -----\n",
      " *** Image : brightness_Image_153674.jpg ***\n",
      "Image id :  Image_153674.jpg\n"
     ]
    },
    {
     "name": "stderr",
     "output_type": "stream",
     "text": [
      " 80%|████████  | 160/200 [00:17<00:04,  9.77it/s]"
     ]
    },
    {
     "name": "stdout",
     "output_type": "stream",
     "text": [
      "Detection Probability :  0\n",
      "----- Count : 161 -----\n",
      " *** Image : brightness_Image_344806.jpg ***\n",
      "Image id :  Image_344806.jpg\n",
      "Detection Probability :  0.0\n",
      "----- Count : 162 -----\n",
      " *** Image : brightness_Image_57870.jpg ***\n",
      "Image id :  Image_57870.jpg\n"
     ]
    },
    {
     "name": "stderr",
     "output_type": "stream",
     "text": [
      " 82%|████████▏ | 163/200 [00:17<00:03,  9.39it/s]"
     ]
    },
    {
     "name": "stdout",
     "output_type": "stream",
     "text": [
      "Detection Probability :  0.0\n",
      "----- Count : 163 -----\n",
      " *** Image : brightness_Image_477797.jpg ***\n",
      "Image id :  Image_477797.jpg\n",
      "Detection Probability :  0.0\n",
      "----- Count : 164 -----\n",
      " *** Image : brightness_Image_467311.jpg ***\n",
      "Image id :  Image_467311.jpg\n"
     ]
    },
    {
     "name": "stderr",
     "output_type": "stream",
     "text": [
      " 82%|████████▎ | 165/200 [00:18<00:03,  9.43it/s]"
     ]
    },
    {
     "name": "stdout",
     "output_type": "stream",
     "text": [
      "Detection Probability :  0\n",
      "----- Count : 165 -----\n",
      " *** Image : brightness_Image_85685.jpg ***\n",
      "Image id :  Image_85685.jpg\n",
      "Detection Probability :  0\n",
      "----- Count : 166 -----\n",
      " *** Image : brightness_Image_485894.jpg ***\n",
      "Image id :  Image_485894.jpg\n",
      "Detection Probability :  0.0\n",
      "----- Count : 167 -----\n",
      " *** Image : brightness_Image_160559.jpg ***\n",
      "Image id :  Image_160559.jpg\n"
     ]
    },
    {
     "name": "stderr",
     "output_type": "stream",
     "text": [
      " 84%|████████▎ | 167/200 [00:18<00:03, 10.20it/s]"
     ]
    },
    {
     "name": "stdout",
     "output_type": "stream",
     "text": [
      "Detection Probability :  0.0\n",
      "----- Count : 168 -----\n",
      " *** Image : brightness_Image_218956.jpg ***\n",
      "Image id :  Image_218956.jpg\n",
      "Detection Probability :  0\n",
      "----- Count : 169 -----\n",
      " *** Image : brightness_Image_62426.jpg ***\n",
      "Image id :  Image_62426.jpg\n"
     ]
    },
    {
     "name": "stderr",
     "output_type": "stream",
     "text": [
      " 85%|████████▌ | 170/200 [00:18<00:03,  8.95it/s]"
     ]
    },
    {
     "name": "stdout",
     "output_type": "stream",
     "text": [
      "Detection Probability :  0.0\n",
      "----- Count : 170 -----\n",
      " *** Image : brightness_Image_77375.jpg ***\n",
      "Image id :  Image_77375.jpg\n",
      "Detection Probability :  0.0\n",
      "----- Count : 171 -----\n",
      " *** Image : brightness_Image_394326.jpg ***\n",
      "Image id :  Image_394326.jpg\n"
     ]
    },
    {
     "name": "stderr",
     "output_type": "stream",
     "text": [
      " 86%|████████▌ | 172/200 [00:18<00:02,  9.78it/s]"
     ]
    },
    {
     "name": "stdout",
     "output_type": "stream",
     "text": [
      "Detection Probability :  0\n",
      "----- Count : 172 -----\n",
      " *** Image : brightness_Image_292835.jpg ***\n",
      "Image id :  Image_292835.jpg\n",
      "Detection Probability :  0\n",
      "----- Count : 173 -----\n",
      " *** Image : brightness_Image_96557.jpg ***\n",
      "Image id :  Image_96557.jpg\n",
      "Detection Probability :  0.0\n",
      "----- Count : 174 -----\n",
      " *** Image : brightness_Image_405613.jpg ***\n",
      "Image id :  Image_405613.jpg\n"
     ]
    },
    {
     "name": "stderr",
     "output_type": "stream",
     "text": [
      " 88%|████████▊ | 176/200 [00:19<00:02, 10.83it/s]"
     ]
    },
    {
     "name": "stdout",
     "output_type": "stream",
     "text": [
      "Detection Probability :  0.0\n",
      "----- Count : 175 -----\n",
      " *** Image : brightness_Image_283524.jpg ***\n",
      "Image id :  Image_283524.jpg\n",
      "Detection Probability :  0.25\n",
      "----- Count : 176 -----\n",
      " *** Image : brightness_Image_277854.jpg ***\n",
      "Image id :  Image_277854.jpg\n",
      "Detection Probability :  0\n",
      "----- Count : 177 -----\n",
      " *** Image : brightness_Image_217306.jpg ***\n",
      "Image id :  Image_217306.jpg\n"
     ]
    },
    {
     "name": "stderr",
     "output_type": "stream",
     "text": [
      " 89%|████████▉ | 178/200 [00:19<00:02,  9.74it/s]"
     ]
    },
    {
     "name": "stdout",
     "output_type": "stream",
     "text": [
      "Detection Probability :  0.0\n",
      "----- Count : 178 -----\n",
      " *** Image : brightness_Image_398494.jpg ***\n",
      "Image id :  Image_398494.jpg\n",
      "Detection Probability :  0\n",
      "----- Count : 179 -----\n",
      " *** Image : brightness_Image_524068.jpg ***\n",
      "Image id :  Image_524068.jpg\n"
     ]
    },
    {
     "name": "stderr",
     "output_type": "stream",
     "text": [
      " 90%|█████████ | 180/200 [00:19<00:01, 10.63it/s]"
     ]
    },
    {
     "name": "stdout",
     "output_type": "stream",
     "text": [
      "Detection Probability :  0.0\n",
      "----- Count : 180 -----\n",
      " *** Image : brightness_Image_213546.jpg ***\n",
      "Image id :  Image_213546.jpg\n",
      "Detection Probability :  0\n",
      "----- Count : 181 -----\n",
      " *** Image : brightness_Image_405207.jpg ***\n",
      "Image id :  Image_405207.jpg\n",
      "Detection Probability :  0.0\n",
      "----- Count : 182 -----\n",
      " *** Image : brightness_Image_341550.jpg ***\n",
      "Image id :  Image_341550.jpg\n"
     ]
    },
    {
     "name": "stderr",
     "output_type": "stream",
     "text": [
      " 92%|█████████▏| 184/200 [00:20<00:01, 10.59it/s]"
     ]
    },
    {
     "name": "stdout",
     "output_type": "stream",
     "text": [
      "Detection Probability :  0\n",
      "----- Count : 183 -----\n",
      " *** Image : brightness_Image_445528.jpg ***\n",
      "Image id :  Image_445528.jpg\n",
      "Detection Probability :  0\n",
      "----- Count : 184 -----\n",
      " *** Image : brightness_Image_172899.jpg ***\n",
      "Image id :  Image_172899.jpg\n",
      "Detection Probability :  0.0\n",
      "----- Count : 185 -----\n",
      " *** Image : brightness_Image_469605.jpg ***\n",
      "Image id :  Image_469605.jpg\n"
     ]
    },
    {
     "name": "stderr",
     "output_type": "stream",
     "text": [
      " 93%|█████████▎| 186/200 [00:20<00:01, 11.20it/s]"
     ]
    },
    {
     "name": "stdout",
     "output_type": "stream",
     "text": [
      "Detection Probability :  0\n",
      "----- Count : 186 -----\n",
      " *** Image : brightness_Image_454325.jpg ***\n",
      "Image id :  Image_454325.jpg\n",
      "Detection Probability :  0.0\n",
      "----- Count : 187 -----\n",
      " *** Image : brightness_Image_93785.jpg ***\n",
      "Image id :  Image_93785.jpg\n",
      "Detection Probability :  0.0\n",
      "----- Count : 188 -----\n",
      " *** Image : brightness_Image_19380.jpg ***\n",
      "Image id :  Image_19380.jpg\n"
     ]
    },
    {
     "name": "stderr",
     "output_type": "stream",
     "text": [
      " 94%|█████████▍| 188/200 [00:20<00:01, 11.69it/s]"
     ]
    },
    {
     "name": "stdout",
     "output_type": "stream",
     "text": [
      "Detection Probability :  0\n",
      "----- Count : 189 -----\n",
      " *** Image : brightness_Image_278347.jpg ***\n",
      "Image id :  Image_278347.jpg\n",
      "Detection Probability :  0.0\n",
      "----- Count : 190 -----\n",
      " *** Image : brightness_Image_343322.jpg ***\n",
      "Image id :  Image_343322.jpg\n"
     ]
    },
    {
     "name": "stderr",
     "output_type": "stream",
     "text": [
      " 96%|█████████▌| 192/200 [00:20<00:00, 11.22it/s]"
     ]
    },
    {
     "name": "stdout",
     "output_type": "stream",
     "text": [
      "Detection Probability :  0.0\n",
      "----- Count : 191 -----\n",
      " *** Image : brightness_Image_492386.jpg ***\n",
      "Image id :  Image_492386.jpg\n",
      "Detection Probability :  0.0\n",
      "----- Count : 192 -----\n",
      " *** Image : brightness_Image_299411.jpg ***\n",
      "Image id :  Image_299411.jpg\n",
      "Detection Probability :  0.0\n",
      "----- Count : 193 -----\n",
      " *** Image : brightness_Image_574001.jpg ***\n",
      "Image id :  Image_574001.jpg\n"
     ]
    },
    {
     "name": "stderr",
     "output_type": "stream",
     "text": [
      " 97%|█████████▋| 194/200 [00:20<00:00, 10.99it/s]"
     ]
    },
    {
     "name": "stdout",
     "output_type": "stream",
     "text": [
      "Detection Probability :  0.0\n",
      "----- Count : 194 -----\n",
      " *** Image : brightness_Image_576801.jpg ***\n",
      "Image id :  Image_576801.jpg\n",
      "Detection Probability :  0.0\n",
      "----- Count : 195 -----\n",
      " *** Image : brightness_Image_167613.jpg ***\n",
      "Image id :  Image_167613.jpg\n",
      "Detection Probability :  1.0\n",
      "----- Count : 196 -----\n",
      " *** Image : brightness_Image_95989.jpg ***\n",
      "Image id :  Image_95989.jpg\n"
     ]
    },
    {
     "name": "stderr",
     "output_type": "stream",
     "text": [
      " 99%|█████████▉| 198/200 [00:21<00:00, 10.33it/s]"
     ]
    },
    {
     "name": "stdout",
     "output_type": "stream",
     "text": [
      "Detection Probability :  0.0\n",
      "----- Count : 197 -----\n",
      " *** Image : brightness_Image_280980.jpg ***\n",
      "Image id :  Image_280980.jpg\n",
      "Detection Probability :  0.0\n",
      "----- Count : 198 -----\n",
      " *** Image : brightness_Image_108627.jpg ***\n",
      "Image id :  Image_108627.jpg\n",
      "Detection Probability :  0.0\n",
      "----- Count : 199 -----\n",
      " *** Image : brightness_Image_409382.jpg ***\n",
      "Image id :  Image_409382.jpg\n"
     ]
    },
    {
     "name": "stderr",
     "output_type": "stream",
     "text": [
      "100%|██████████| 200/200 [00:21<00:00,  9.32it/s]\n"
     ]
    },
    {
     "name": "stdout",
     "output_type": "stream",
     "text": [
      "Detection Probability :  0.0\n",
      "----- Count : 200 -----\n",
      " *** Image : brightness_Image_241364.jpg ***\n",
      "Image id :  Image_241364.jpg\n",
      "Detection Probability :  0.0\n",
      " ----- Attack : gaussian_noise -----\n"
     ]
    },
    {
     "name": "stderr",
     "output_type": "stream",
     "text": [
      "  0%|          | 1/200 [00:00<00:21,  9.25it/s]"
     ]
    },
    {
     "name": "stdout",
     "output_type": "stream",
     "text": [
      "----- Count : 201 -----\n",
      " *** Image : gaussian_noise_Image_246446.jpg ***\n",
      "Image id :  Image_246446.jpg\n",
      "Detection Probability :  0\n",
      "----- Count : 202 -----\n",
      " *** Image : gaussian_noise_Image_496939.jpg ***\n",
      "Image id :  Image_496939.jpg\n"
     ]
    },
    {
     "name": "stderr",
     "output_type": "stream",
     "text": [
      "  2%|▏         | 4/200 [00:00<00:18, 10.55it/s]"
     ]
    },
    {
     "name": "stdout",
     "output_type": "stream",
     "text": [
      "Detection Probability :  0.25\n",
      "----- Count : 203 -----\n",
      " *** Image : gaussian_noise_Image_77806.jpg ***\n",
      "Image id :  Image_77806.jpg\n",
      "Detection Probability :  0.5\n",
      "----- Count : 204 -----\n",
      " *** Image : gaussian_noise_Image_574001.jpg ***\n",
      "Image id :  Image_574001.jpg\n",
      "Detection Probability :  0\n",
      "----- Count : 205 -----\n",
      " *** Image : gaussian_noise_Image_426038.jpg ***\n",
      "Image id :  Image_426038.jpg\n"
     ]
    },
    {
     "name": "stderr",
     "output_type": "stream",
     "text": [
      "  4%|▎         | 7/200 [00:00<00:19,  9.86it/s]"
     ]
    },
    {
     "name": "stdout",
     "output_type": "stream",
     "text": [
      "Detection Probability :  0.5\n",
      "----- Count : 206 -----\n",
      " *** Image : gaussian_noise_Image_167603.jpg ***\n",
      "Image id :  Image_167603.jpg\n",
      "Detection Probability :  0\n",
      "----- Count : 207 -----\n",
      " *** Image : gaussian_noise_Image_160163.jpg ***\n",
      "Image id :  Image_160163.jpg\n",
      "Detection Probability :  0.0\n",
      "----- Count : 208 -----\n",
      " *** Image : gaussian_noise_Image_559527.jpg ***\n",
      "Image id :  Image_559527.jpg\n"
     ]
    },
    {
     "name": "stderr",
     "output_type": "stream",
     "text": [
      "  5%|▌         | 10/200 [00:01<00:19,  9.51it/s]"
     ]
    },
    {
     "name": "stdout",
     "output_type": "stream",
     "text": [
      "Detection Probability :  0\n",
      "----- Count : 209 -----\n",
      " *** Image : gaussian_noise_Image_560628.jpg ***\n",
      "Image id :  Image_560628.jpg\n",
      "Detection Probability :  0.25\n",
      "----- Count : 210 -----\n",
      " *** Image : gaussian_noise_Image_189993.jpg ***\n",
      "Image id :  Image_189993.jpg\n",
      "Detection Probability :  0\n"
     ]
    },
    {
     "name": "stderr",
     "output_type": "stream",
     "text": [
      "  6%|▌         | 12/200 [00:01<00:19,  9.59it/s]"
     ]
    },
    {
     "name": "stdout",
     "output_type": "stream",
     "text": [
      "----- Count : 211 -----\n",
      " *** Image : gaussian_noise_Image_77375.jpg ***\n",
      "Image id :  Image_77375.jpg\n",
      "Detection Probability :  0\n",
      "----- Count : 212 -----\n",
      " *** Image : gaussian_noise_Image_352884.jpg ***\n",
      "Image id :  Image_352884.jpg\n",
      "Detection Probability :  0.0\n",
      "----- Count : 213 -----\n",
      " *** Image : gaussian_noise_Image_172899.jpg ***\n",
      "Image id :  Image_172899.jpg\n"
     ]
    },
    {
     "name": "stderr",
     "output_type": "stream",
     "text": [
      "  7%|▋         | 14/200 [00:01<00:22,  8.43it/s]"
     ]
    },
    {
     "name": "stdout",
     "output_type": "stream",
     "text": [
      "Detection Probability :  0.25\n",
      "----- Count : 214 -----\n",
      " *** Image : gaussian_noise_Image_147016.jpg ***\n",
      "Image id :  Image_147016.jpg\n",
      "Detection Probability :  0\n",
      "----- Count : 215 -----\n",
      " *** Image : gaussian_noise_Image_540162.jpg ***\n",
      "Image id :  Image_540162.jpg\n"
     ]
    },
    {
     "name": "stderr",
     "output_type": "stream",
     "text": [
      "  8%|▊         | 16/200 [00:01<00:20,  9.14it/s]"
     ]
    },
    {
     "name": "stdout",
     "output_type": "stream",
     "text": [
      "Detection Probability :  0.25\n",
      "----- Count : 216 -----\n",
      " *** Image : gaussian_noise_Image_576757.jpg ***\n",
      "Image id :  Image_576757.jpg\n",
      "Detection Probability :  0\n",
      "----- Count : 217 -----\n",
      " *** Image : gaussian_noise_Image_153946.jpg ***\n",
      "Image id :  Image_153946.jpg\n",
      "Detection Probability :  0.75\n",
      "----- Count : 218 -----\n",
      " *** Image : gaussian_noise_Image_279108.jpg ***\n",
      "Image id :  Image_279108.jpg\n"
     ]
    },
    {
     "name": "stderr",
     "output_type": "stream",
     "text": [
      " 10%|▉         | 19/200 [00:02<00:18,  9.56it/s]"
     ]
    },
    {
     "name": "stdout",
     "output_type": "stream",
     "text": [
      "Detection Probability :  0.75\n",
      "----- Count : 219 -----\n",
      " *** Image : gaussian_noise_Image_581674.jpg ***\n",
      "Image id :  Image_581674.jpg\n",
      "Detection Probability :  0.75\n",
      "----- Count : 220 -----\n",
      " *** Image : gaussian_noise_Image_259446.jpg ***\n",
      "Image id :  Image_259446.jpg\n",
      "Detection Probability :  0\n",
      "----- Count : 221 -----\n",
      " *** Image : gaussian_noise_Image_413746.jpg ***\n",
      "Image id :  Image_413746.jpg\n"
     ]
    },
    {
     "name": "stderr",
     "output_type": "stream",
     "text": [
      " 11%|█         | 22/200 [00:02<00:19,  9.07it/s]"
     ]
    },
    {
     "name": "stdout",
     "output_type": "stream",
     "text": [
      "Detection Probability :  0\n",
      "----- Count : 222 -----\n",
      " *** Image : gaussian_noise_Image_485894.jpg ***\n",
      "Image id :  Image_485894.jpg\n",
      "Detection Probability :  0.0\n",
      "----- Count : 223 -----\n",
      " *** Image : gaussian_noise_Image_551125.jpg ***\n",
      "Image id :  Image_551125.jpg\n"
     ]
    },
    {
     "name": "stderr",
     "output_type": "stream",
     "text": [
      " 12%|█▏        | 24/200 [00:02<00:18,  9.40it/s]"
     ]
    },
    {
     "name": "stdout",
     "output_type": "stream",
     "text": [
      "Detection Probability :  0.0\n",
      "----- Count : 224 -----\n",
      " *** Image : gaussian_noise_Image_147303.jpg ***\n",
      "Image id :  Image_147303.jpg\n",
      "Detection Probability :  0.0\n",
      "----- Count : 225 -----\n",
      " *** Image : gaussian_noise_Image_420721.jpg ***\n",
      "Image id :  Image_420721.jpg\n"
     ]
    },
    {
     "name": "stderr",
     "output_type": "stream",
     "text": [
      " 13%|█▎        | 26/200 [00:02<00:19,  8.85it/s]"
     ]
    },
    {
     "name": "stdout",
     "output_type": "stream",
     "text": [
      "Detection Probability :  0\n",
      "----- Count : 226 -----\n",
      " *** Image : gaussian_noise_Image_62279.jpg ***\n",
      "Image id :  Image_62279.jpg\n",
      "Detection Probability :  0\n",
      "----- Count : 227 -----\n",
      " *** Image : gaussian_noise_Image_19380.jpg ***\n",
      "Image id :  Image_19380.jpg\n"
     ]
    },
    {
     "name": "stderr",
     "output_type": "stream",
     "text": [
      " 14%|█▍        | 28/200 [00:03<00:23,  7.37it/s]"
     ]
    },
    {
     "name": "stdout",
     "output_type": "stream",
     "text": [
      "Detection Probability :  0\n",
      "----- Count : 228 -----\n",
      " *** Image : gaussian_noise_Image_318189.jpg ***\n",
      "Image id :  Image_318189.jpg\n",
      "Detection Probability :  0.25\n"
     ]
    },
    {
     "name": "stderr",
     "output_type": "stream",
     "text": [
      " 14%|█▍        | 29/200 [00:03<00:23,  7.38it/s]"
     ]
    },
    {
     "name": "stdout",
     "output_type": "stream",
     "text": [
      "----- Count : 229 -----\n",
      " *** Image : gaussian_noise_Image_467311.jpg ***\n",
      "Image id :  Image_467311.jpg\n",
      "Detection Probability :  0\n",
      "----- Count : 230 -----\n",
      " *** Image : gaussian_noise_Image_543877.jpg ***\n",
      "Image id :  Image_543877.jpg\n"
     ]
    },
    {
     "name": "stderr",
     "output_type": "stream",
     "text": [
      " 16%|█▌        | 31/200 [00:03<00:22,  7.63it/s]"
     ]
    },
    {
     "name": "stdout",
     "output_type": "stream",
     "text": [
      "Detection Probability :  0\n",
      "----- Count : 231 -----\n",
      " *** Image : gaussian_noise_Image_69675.jpg ***\n",
      "Image id :  Image_69675.jpg\n",
      "Detection Probability :  0\n",
      "----- Count : 232 -----\n",
      " *** Image : gaussian_noise_Image_4428.jpg ***\n",
      "Image id :  Image_4428.jpg\n"
     ]
    },
    {
     "name": "stderr",
     "output_type": "stream",
     "text": [
      " 16%|█▋        | 33/200 [00:03<00:20,  8.11it/s]"
     ]
    },
    {
     "name": "stdout",
     "output_type": "stream",
     "text": [
      "Detection Probability :  0.0\n",
      "----- Count : 233 -----\n",
      " *** Image : gaussian_noise_Image_504616.jpg ***\n",
      "Image id :  Image_504616.jpg\n",
      "Detection Probability :  0\n",
      "----- Count : 234 -----\n",
      " *** Image : gaussian_noise_Image_218956.jpg ***\n",
      "Image id :  Image_218956.jpg\n",
      "Detection Probability :  0\n",
      "----- Count : 235 -----\n",
      " *** Image : gaussian_noise_Image_70868.jpg ***\n",
      "Image id :  Image_70868.jpg\n"
     ]
    },
    {
     "name": "stderr",
     "output_type": "stream",
     "text": [
      " 18%|█▊        | 37/200 [00:04<00:17,  9.12it/s]"
     ]
    },
    {
     "name": "stdout",
     "output_type": "stream",
     "text": [
      "Detection Probability :  0.25\n",
      "----- Count : 236 -----\n",
      " *** Image : gaussian_noise_Image_486320.jpg ***\n",
      "Image id :  Image_486320.jpg\n",
      "Detection Probability :  0\n",
      "----- Count : 237 -----\n",
      " *** Image : gaussian_noise_Image_36633.jpg ***\n",
      "Image id :  Image_36633.jpg\n",
      "Detection Probability :  0.25\n",
      "----- Count : 238 -----\n",
      " *** Image : gaussian_noise_Image_277854.jpg ***\n",
      "Image id :  Image_277854.jpg\n"
     ]
    },
    {
     "name": "stderr",
     "output_type": "stream",
     "text": [
      " 20%|█▉        | 39/200 [00:04<00:19,  8.08it/s]"
     ]
    },
    {
     "name": "stdout",
     "output_type": "stream",
     "text": [
      "Detection Probability :  0.0\n",
      "----- Count : 239 -----\n",
      " *** Image : gaussian_noise_Image_270912.jpg ***\n",
      "Image id :  Image_270912.jpg\n",
      "Detection Probability :  0.25\n",
      "----- Count : 240 -----\n",
      " *** Image : gaussian_noise_Image_57870.jpg ***\n",
      "Image id :  Image_57870.jpg\n"
     ]
    },
    {
     "name": "stderr",
     "output_type": "stream",
     "text": [
      " 20%|██        | 41/200 [00:04<00:21,  7.39it/s]"
     ]
    },
    {
     "name": "stdout",
     "output_type": "stream",
     "text": [
      "Detection Probability :  0.0\n",
      "----- Count : 241 -----\n",
      " *** Image : gaussian_noise_Image_513541.jpg ***\n",
      "Image id :  Image_513541.jpg\n",
      "Detection Probability :  0.25\n",
      "----- Count : 242 -----\n",
      " *** Image : gaussian_noise_Image_334080.jpg ***\n",
      "Image id :  Image_334080.jpg\n"
     ]
    },
    {
     "name": "stderr",
     "output_type": "stream",
     "text": [
      " 22%|██▏       | 43/200 [00:04<00:18,  8.52it/s]"
     ]
    },
    {
     "name": "stdout",
     "output_type": "stream",
     "text": [
      "Detection Probability :  0.0\n",
      "----- Count : 243 -----\n",
      " *** Image : gaussian_noise_Image_398494.jpg ***\n",
      "Image id :  Image_398494.jpg\n",
      "Detection Probability :  0\n",
      "----- Count : 244 -----\n",
      " *** Image : gaussian_noise_Image_469605.jpg ***\n",
      "Image id :  Image_469605.jpg\n"
     ]
    },
    {
     "name": "stderr",
     "output_type": "stream",
     "text": [
      " 22%|██▎       | 45/200 [00:05<00:19,  7.87it/s]"
     ]
    },
    {
     "name": "stdout",
     "output_type": "stream",
     "text": [
      "Detection Probability :  0\n",
      "----- Count : 245 -----\n",
      " *** Image : gaussian_noise_Image_142088.jpg ***\n",
      "Image id :  Image_142088.jpg\n",
      "Detection Probability :  0.0\n",
      "----- Count : 246 -----\n",
      " *** Image : gaussian_noise_Image_122688.jpg ***\n",
      "Image id :  Image_122688.jpg\n"
     ]
    },
    {
     "name": "stderr",
     "output_type": "stream",
     "text": [
      " 24%|██▎       | 47/200 [00:05<00:20,  7.43it/s]"
     ]
    },
    {
     "name": "stdout",
     "output_type": "stream",
     "text": [
      "Detection Probability :  0\n",
      "----- Count : 247 -----\n",
      " *** Image : gaussian_noise_Image_145179.jpg ***\n",
      "Image id :  Image_145179.jpg\n",
      "Detection Probability :  0.25\n",
      "----- Count : 248 -----\n",
      " *** Image : gaussian_noise_Image_388754.jpg ***\n",
      "Image id :  Image_388754.jpg\n"
     ]
    },
    {
     "name": "stderr",
     "output_type": "stream",
     "text": [
      " 24%|██▍       | 48/200 [00:05<00:19,  7.80it/s]"
     ]
    },
    {
     "name": "stdout",
     "output_type": "stream",
     "text": [
      "Detection Probability :  0\n",
      "----- Count : 249 -----\n",
      " *** Image : gaussian_noise_Image_222016.jpg ***\n",
      "Image id :  Image_222016.jpg\n",
      "Detection Probability :  0.25\n",
      "----- Count : 250 -----\n",
      " *** Image : gaussian_noise_Image_409382.jpg ***\n",
      "Image id :  Image_409382.jpg\n"
     ]
    },
    {
     "name": "stderr",
     "output_type": "stream",
     "text": [
      " 26%|██▌       | 51/200 [00:05<00:18,  8.03it/s]"
     ]
    },
    {
     "name": "stdout",
     "output_type": "stream",
     "text": [
      "Detection Probability :  0.75\n",
      "----- Count : 251 -----\n",
      " *** Image : gaussian_noise_Image_269829.jpg ***\n",
      "Image id :  Image_269829.jpg\n",
      "Detection Probability :  0.0\n",
      "----- Count : 252 -----\n",
      " *** Image : gaussian_noise_Image_157032.jpg ***\n",
      "Image id :  Image_157032.jpg\n"
     ]
    },
    {
     "name": "stderr",
     "output_type": "stream",
     "text": [
      " 26%|██▋       | 53/200 [00:06<00:19,  7.65it/s]"
     ]
    },
    {
     "name": "stdout",
     "output_type": "stream",
     "text": [
      "Detection Probability :  0\n",
      "----- Count : 253 -----\n",
      " *** Image : gaussian_noise_Image_44404.jpg ***\n",
      "Image id :  Image_44404.jpg\n",
      "Detection Probability :  0\n",
      "----- Count : 254 -----\n",
      " *** Image : gaussian_noise_Image_477797.jpg ***\n",
      "Image id :  Image_477797.jpg\n"
     ]
    },
    {
     "name": "stderr",
     "output_type": "stream",
     "text": [
      " 28%|██▊       | 55/200 [00:06<00:17,  8.41it/s]"
     ]
    },
    {
     "name": "stdout",
     "output_type": "stream",
     "text": [
      "Detection Probability :  0.25\n",
      "----- Count : 255 -----\n",
      " *** Image : gaussian_noise_Image_446014.jpg ***\n",
      "Image id :  Image_446014.jpg\n",
      "Detection Probability :  0.25\n",
      "----- Count : 256 -----\n",
      " *** Image : gaussian_noise_Image_445528.jpg ***\n",
      "Image id :  Image_445528.jpg\n"
     ]
    },
    {
     "name": "stderr",
     "output_type": "stream",
     "text": [
      " 28%|██▊       | 56/200 [00:06<00:16,  8.61it/s]"
     ]
    },
    {
     "name": "stdout",
     "output_type": "stream",
     "text": [
      "Detection Probability :  0\n",
      "----- Count : 257 -----\n",
      " *** Image : gaussian_noise_Image_62604.jpg ***\n",
      "Image id :  Image_62604.jpg\n",
      "Detection Probability :  0\n",
      "----- Count : 258 -----\n",
      " *** Image : gaussian_noise_Image_95989.jpg ***\n",
      "Image id :  Image_95989.jpg\n"
     ]
    },
    {
     "name": "stderr",
     "output_type": "stream",
     "text": [
      " 30%|███       | 60/200 [00:06<00:14,  9.81it/s]"
     ]
    },
    {
     "name": "stdout",
     "output_type": "stream",
     "text": [
      "Detection Probability :  0\n",
      "----- Count : 259 -----\n",
      " *** Image : gaussian_noise_Image_351430.jpg ***\n",
      "Image id :  Image_351430.jpg\n",
      "Detection Probability :  0.0\n",
      "----- Count : 260 -----\n",
      " *** Image : gaussian_noise_Image_317237.jpg ***\n",
      "Image id :  Image_317237.jpg\n",
      "Detection Probability :  0\n",
      "----- Count : 261 -----\n",
      " *** Image : gaussian_noise_Image_239811.jpg ***\n",
      "Image id :  Image_239811.jpg\n"
     ]
    },
    {
     "name": "stderr",
     "output_type": "stream",
     "text": [
      " 32%|███▏      | 63/200 [00:07<00:12, 10.82it/s]"
     ]
    },
    {
     "name": "stdout",
     "output_type": "stream",
     "text": [
      "Detection Probability :  0.5\n",
      "----- Count : 262 -----\n",
      " *** Image : gaussian_noise_Image_209967.jpg ***\n",
      "Image id :  Image_209967.jpg\n",
      "Detection Probability :  0\n",
      "----- Count : 263 -----\n",
      " *** Image : gaussian_noise_Image_109424.jpg ***\n",
      "Image id :  Image_109424.jpg\n",
      "Detection Probability :  0\n",
      "----- Count : 264 -----\n",
      " *** Image : gaussian_noise_Image_90570.jpg ***\n",
      "Image id :  Image_90570.jpg\n"
     ]
    },
    {
     "name": "stderr",
     "output_type": "stream",
     "text": [
      " 32%|███▎      | 65/200 [00:07<00:12, 11.20it/s]"
     ]
    },
    {
     "name": "stdout",
     "output_type": "stream",
     "text": [
      "Detection Probability :  0.25\n",
      "----- Count : 265 -----\n",
      " *** Image : gaussian_noise_Image_523617.jpg ***\n",
      "Image id :  Image_523617.jpg\n",
      "Detection Probability :  0.25\n",
      "----- Count : 266 -----\n",
      " *** Image : gaussian_noise_Image_344806.jpg ***\n",
      "Image id :  Image_344806.jpg\n",
      "Detection Probability :  0\n",
      "----- Count : 267 -----\n",
      " *** Image : gaussian_noise_Image_448698.jpg ***\n",
      "Image id :  Image_448698.jpg\n"
     ]
    },
    {
     "name": "stderr",
     "output_type": "stream",
     "text": [
      " 34%|███▍      | 69/200 [00:07<00:12, 10.90it/s]"
     ]
    },
    {
     "name": "stdout",
     "output_type": "stream",
     "text": [
      "Detection Probability :  0\n",
      "----- Count : 268 -----\n",
      " *** Image : gaussian_noise_Image_95133.jpg ***\n",
      "Image id :  Image_95133.jpg\n",
      "Detection Probability :  0\n",
      "----- Count : 269 -----\n",
      " *** Image : gaussian_noise_Image_530683.jpg ***\n",
      "Image id :  Image_530683.jpg\n",
      "Detection Probability :  0\n",
      "----- Count : 270 -----\n",
      " *** Image : gaussian_noise_Image_186233.jpg ***\n",
      "Image id :  Image_186233.jpg\n"
     ]
    },
    {
     "name": "stderr",
     "output_type": "stream",
     "text": [
      " 36%|███▌      | 71/200 [00:07<00:11, 11.47it/s]"
     ]
    },
    {
     "name": "stdout",
     "output_type": "stream",
     "text": [
      "Detection Probability :  0.5\n",
      "----- Count : 271 -----\n",
      " *** Image : gaussian_noise_Image_357684.jpg ***\n",
      "Image id :  Image_357684.jpg\n",
      "Detection Probability :  0.25\n",
      "----- Count : 272 -----\n",
      " *** Image : gaussian_noise_Image_267688.jpg ***\n",
      "Image id :  Image_267688.jpg\n",
      "Detection Probability :  0.75\n",
      "----- Count : 273 -----\n",
      " *** Image : gaussian_noise_Image_384029.jpg ***\n",
      "Image id :  Image_384029.jpg\n"
     ]
    },
    {
     "name": "stderr",
     "output_type": "stream",
     "text": [
      " 38%|███▊      | 75/200 [00:08<00:10, 11.81it/s]"
     ]
    },
    {
     "name": "stdout",
     "output_type": "stream",
     "text": [
      "Detection Probability :  0\n",
      "----- Count : 274 -----\n",
      " *** Image : gaussian_noise_Image_239728.jpg ***\n",
      "Image id :  Image_239728.jpg\n",
      "Detection Probability :  0\n",
      "----- Count : 275 -----\n",
      " *** Image : gaussian_noise_Image_496283.jpg ***\n",
      "Image id :  Image_496283.jpg\n",
      "Detection Probability :  0\n",
      "----- Count : 276 -----\n",
      " *** Image : gaussian_noise_Image_217306.jpg ***\n",
      "Image id :  Image_217306.jpg\n"
     ]
    },
    {
     "name": "stderr",
     "output_type": "stream",
     "text": [
      " 38%|███▊      | 77/200 [00:08<00:10, 11.78it/s]"
     ]
    },
    {
     "name": "stdout",
     "output_type": "stream",
     "text": [
      "Detection Probability :  0.5\n",
      "----- Count : 277 -----\n",
      " *** Image : gaussian_noise_Image_236772.jpg ***\n",
      "Image id :  Image_236772.jpg\n",
      "Detection Probability :  0.25\n",
      "----- Count : 278 -----\n",
      " *** Image : gaussian_noise_Image_301778.jpg ***\n",
      "Image id :  Image_301778.jpg\n",
      "Detection Probability :  0\n",
      "----- Count : 279 -----\n",
      " *** Image : gaussian_noise_Image_497616.jpg ***\n",
      "Image id :  Image_497616.jpg\n"
     ]
    },
    {
     "name": "stderr",
     "output_type": "stream",
     "text": [
      " 40%|████      | 81/200 [00:08<00:10, 11.73it/s]"
     ]
    },
    {
     "name": "stdout",
     "output_type": "stream",
     "text": [
      "Detection Probability :  0\n",
      "----- Count : 280 -----\n",
      " *** Image : gaussian_noise_Image_472925.jpg ***\n",
      "Image id :  Image_472925.jpg\n",
      "Detection Probability :  0\n",
      "----- Count : 281 -----\n",
      " *** Image : gaussian_noise_Image_153674.jpg ***\n",
      "Image id :  Image_153674.jpg\n",
      "Detection Probability :  0.5\n",
      "----- Count : 282 -----\n",
      " *** Image : gaussian_noise_Image_546451.jpg ***\n",
      "Image id :  Image_546451.jpg\n"
     ]
    },
    {
     "name": "stderr",
     "output_type": "stream",
     "text": [
      " 42%|████▏     | 83/200 [00:08<00:09, 11.80it/s]"
     ]
    },
    {
     "name": "stdout",
     "output_type": "stream",
     "text": [
      "Detection Probability :  0\n",
      "----- Count : 283 -----\n",
      " *** Image : gaussian_noise_Image_393493.jpg ***\n",
      "Image id :  Image_393493.jpg\n",
      "Detection Probability :  0.25\n",
      "----- Count : 284 -----\n",
      " *** Image : gaussian_noise_Image_547471.jpg ***\n",
      "Image id :  Image_547471.jpg\n",
      "Detection Probability :  0.5\n",
      "----- Count : 285 -----\n",
      " *** Image : gaussian_noise_Image_292835.jpg ***\n",
      "Image id :  Image_292835.jpg\n"
     ]
    },
    {
     "name": "stderr",
     "output_type": "stream",
     "text": [
      " 44%|████▎     | 87/200 [00:09<00:10, 11.24it/s]"
     ]
    },
    {
     "name": "stdout",
     "output_type": "stream",
     "text": [
      "Detection Probability :  0\n",
      "----- Count : 286 -----\n",
      " *** Image : gaussian_noise_Image_444546.jpg ***\n",
      "Image id :  Image_444546.jpg\n",
      "Detection Probability :  0.0\n",
      "----- Count : 287 -----\n",
      " *** Image : gaussian_noise_Image_412198.jpg ***\n",
      "Image id :  Image_412198.jpg\n",
      "Detection Probability :  0\n",
      "----- Count : 288 -----\n",
      " *** Image : gaussian_noise_Image_265709.jpg ***\n",
      "Image id :  Image_265709.jpg\n"
     ]
    },
    {
     "name": "stderr",
     "output_type": "stream",
     "text": [
      " 44%|████▍     | 89/200 [00:09<00:09, 11.68it/s]"
     ]
    },
    {
     "name": "stdout",
     "output_type": "stream",
     "text": [
      "Detection Probability :  0\n",
      "----- Count : 289 -----\n",
      " *** Image : gaussian_noise_Image_576801.jpg ***\n",
      "Image id :  Image_576801.jpg\n",
      "Detection Probability :  0.0\n",
      "----- Count : 290 -----\n",
      " *** Image : gaussian_noise_Image_540988.jpg ***\n",
      "Image id :  Image_540988.jpg\n",
      "Detection Probability :  0.25\n",
      "----- Count : 291 -----\n",
      " *** Image : gaussian_noise_Image_520950.jpg ***\n",
      "Image id :  Image_520950.jpg\n"
     ]
    },
    {
     "name": "stderr",
     "output_type": "stream",
     "text": [
      " 46%|████▋     | 93/200 [00:09<00:08, 11.92it/s]"
     ]
    },
    {
     "name": "stdout",
     "output_type": "stream",
     "text": [
      "Detection Probability :  0\n",
      "----- Count : 292 -----\n",
      " *** Image : gaussian_noise_Image_287541.jpg ***\n",
      "Image id :  Image_287541.jpg\n",
      "Detection Probability :  0.25\n",
      "----- Count : 293 -----\n",
      " *** Image : gaussian_noise_Image_299411.jpg ***\n",
      "Image id :  Image_299411.jpg\n",
      "Detection Probability :  0.25\n",
      "----- Count : 294 -----\n",
      " *** Image : gaussian_noise_Image_108627.jpg ***\n",
      "Image id :  Image_108627.jpg\n"
     ]
    },
    {
     "name": "stderr",
     "output_type": "stream",
     "text": [
      " 48%|████▊     | 95/200 [00:09<00:08, 12.00it/s]"
     ]
    },
    {
     "name": "stdout",
     "output_type": "stream",
     "text": [
      "Detection Probability :  0\n",
      "----- Count : 295 -----\n",
      " *** Image : gaussian_noise_Image_356702.jpg ***\n",
      "Image id :  Image_356702.jpg\n",
      "Detection Probability :  0.0\n",
      "----- Count : 296 -----\n",
      " *** Image : gaussian_noise_Image_560459.jpg ***\n",
      "Image id :  Image_560459.jpg\n",
      "Detection Probability :  0\n",
      "----- Count : 297 -----\n",
      " *** Image : gaussian_noise_Image_55627.jpg ***\n",
      "Image id :  Image_55627.jpg\n"
     ]
    },
    {
     "name": "stderr",
     "output_type": "stream",
     "text": [
      " 48%|████▊     | 97/200 [00:10<00:09, 11.30it/s]"
     ]
    },
    {
     "name": "stdout",
     "output_type": "stream",
     "text": [
      "Detection Probability :  0.0\n",
      "----- Count : 298 -----\n",
      " *** Image : gaussian_noise_Image_462559.jpg ***\n",
      "Image id :  Image_462559.jpg\n",
      "Detection Probability :  0.75\n",
      "----- Count : 299 -----\n",
      " *** Image : gaussian_noise_Image_483751.jpg ***\n",
      "Image id :  Image_483751.jpg\n"
     ]
    },
    {
     "name": "stderr",
     "output_type": "stream",
     "text": [
      " 50%|████▉     | 99/200 [00:10<00:09, 10.67it/s]"
     ]
    },
    {
     "name": "stdout",
     "output_type": "stream",
     "text": [
      "Detection Probability :  0\n",
      "----- Count : 300 -----\n",
      " *** Image : gaussian_noise_Image_96997.jpg ***\n",
      "Image id :  Image_96997.jpg\n",
      "Detection Probability :  0\n",
      "----- Count : 301 -----\n",
      " *** Image : gaussian_noise_Image_536587.jpg ***\n",
      "Image id :  Image_536587.jpg\n"
     ]
    },
    {
     "name": "stderr",
     "output_type": "stream",
     "text": [
      " 52%|█████▏    | 103/200 [00:10<00:08, 10.85it/s]"
     ]
    },
    {
     "name": "stdout",
     "output_type": "stream",
     "text": [
      "Detection Probability :  0\n",
      "----- Count : 302 -----\n",
      " *** Image : gaussian_noise_Image_214704.jpg ***\n",
      "Image id :  Image_214704.jpg\n",
      "Detection Probability :  0\n",
      "----- Count : 303 -----\n",
      " *** Image : gaussian_noise_Image_491269.jpg ***\n",
      "Image id :  Image_491269.jpg\n",
      "Detection Probability :  0\n",
      "----- Count : 304 -----\n",
      " *** Image : gaussian_noise_Image_280980.jpg ***\n",
      "Image id :  Image_280980.jpg\n"
     ]
    },
    {
     "name": "stderr",
     "output_type": "stream",
     "text": [
      " 52%|█████▎    | 105/200 [00:10<00:08, 11.41it/s]"
     ]
    },
    {
     "name": "stdout",
     "output_type": "stream",
     "text": [
      "Detection Probability :  0.0\n",
      "----- Count : 305 -----\n",
      " *** Image : gaussian_noise_Image_215481.jpg ***\n",
      "Image id :  Image_215481.jpg\n",
      "Detection Probability :  0\n",
      "----- Count : 306 -----\n",
      " *** Image : gaussian_noise_Image_96557.jpg ***\n",
      "Image id :  Image_96557.jpg\n",
      "Detection Probability :  0\n",
      "----- Count : 307 -----\n",
      " *** Image : gaussian_noise_Image_371029.jpg ***\n",
      "Image id :  Image_371029.jpg\n"
     ]
    },
    {
     "name": "stderr",
     "output_type": "stream",
     "text": [
      " 55%|█████▍    | 109/200 [00:11<00:07, 12.10it/s]"
     ]
    },
    {
     "name": "stdout",
     "output_type": "stream",
     "text": [
      "Detection Probability :  0.25\n",
      "----- Count : 308 -----\n",
      " *** Image : gaussian_noise_Image_147170.jpg ***\n",
      "Image id :  Image_147170.jpg\n",
      "Detection Probability :  0.0\n",
      "----- Count : 309 -----\n",
      " *** Image : gaussian_noise_Image_341550.jpg ***\n",
      "Image id :  Image_341550.jpg\n",
      "Detection Probability :  0\n",
      "----- Count : 310 -----\n",
      " *** Image : gaussian_noise_Image_283524.jpg ***\n",
      "Image id :  Image_283524.jpg\n"
     ]
    },
    {
     "name": "stderr",
     "output_type": "stream",
     "text": [
      " 56%|█████▌    | 111/200 [00:11<00:07, 12.13it/s]"
     ]
    },
    {
     "name": "stdout",
     "output_type": "stream",
     "text": [
      "Detection Probability :  0.5\n",
      "----- Count : 311 -----\n",
      " *** Image : gaussian_noise_Image_570246.jpg ***\n",
      "Image id :  Image_570246.jpg\n",
      "Detection Probability :  0\n",
      "----- Count : 312 -----\n",
      " *** Image : gaussian_noise_Image_354444.jpg ***\n",
      "Image id :  Image_354444.jpg\n",
      "Detection Probability :  0.5\n",
      "----- Count : 313 -----\n",
      " *** Image : gaussian_noise_Image_280260.jpg ***\n",
      "Image id :  Image_280260.jpg\n"
     ]
    },
    {
     "name": "stderr",
     "output_type": "stream",
     "text": [
      " 57%|█████▊    | 115/200 [00:11<00:06, 12.35it/s]"
     ]
    },
    {
     "name": "stdout",
     "output_type": "stream",
     "text": [
      "Detection Probability :  0\n",
      "----- Count : 314 -----\n",
      " *** Image : gaussian_noise_Image_343322.jpg ***\n",
      "Image id :  Image_343322.jpg\n",
      "Detection Probability :  0.25\n",
      "----- Count : 315 -----\n",
      " *** Image : gaussian_noise_Image_524068.jpg ***\n",
      "Image id :  Image_524068.jpg\n",
      "Detection Probability :  0\n",
      "----- Count : 316 -----\n",
      " *** Image : gaussian_noise_Image_474882.jpg ***\n",
      "Image id :  Image_474882.jpg\n"
     ]
    },
    {
     "name": "stderr",
     "output_type": "stream",
     "text": [
      " 58%|█████▊    | 117/200 [00:11<00:06, 12.13it/s]"
     ]
    },
    {
     "name": "stdout",
     "output_type": "stream",
     "text": [
      "Detection Probability :  0.0\n",
      "----- Count : 317 -----\n",
      " *** Image : gaussian_noise_Image_309093.jpg ***\n",
      "Image id :  Image_309093.jpg\n",
      "Detection Probability :  0.75\n",
      "----- Count : 318 -----\n",
      " *** Image : gaussian_noise_Image_181104.jpg ***\n",
      "Image id :  Image_181104.jpg\n",
      "Detection Probability :  0.5\n",
      "----- Count : 319 -----\n",
      " *** Image : gaussian_noise_Image_70000.jpg ***\n",
      "Image id :  Image_70000.jpg\n"
     ]
    },
    {
     "name": "stderr",
     "output_type": "stream",
     "text": [
      " 60%|█████▉    | 119/200 [00:12<00:07, 11.46it/s]"
     ]
    },
    {
     "name": "stdout",
     "output_type": "stream",
     "text": [
      "Detection Probability :  0\n",
      "----- Count : 320 -----\n",
      " *** Image : gaussian_noise_Image_388911.jpg ***\n",
      "Image id :  Image_388911.jpg\n",
      "Detection Probability :  0\n",
      "----- Count : 321 -----\n",
      " *** Image : gaussian_noise_Image_165499.jpg ***\n",
      "Image id :  Image_165499.jpg\n"
     ]
    },
    {
     "name": "stderr",
     "output_type": "stream",
     "text": [
      " 62%|██████▏   | 123/200 [00:12<00:07, 10.57it/s]"
     ]
    },
    {
     "name": "stdout",
     "output_type": "stream",
     "text": [
      "Detection Probability :  0\n",
      "----- Count : 322 -----\n",
      " *** Image : gaussian_noise_Image_49183.jpg ***\n",
      "Image id :  Image_49183.jpg\n",
      "Detection Probability :  0.25\n",
      "----- Count : 323 -----\n",
      " *** Image : gaussian_noise_Image_64460.jpg ***\n",
      "Image id :  Image_64460.jpg\n",
      "Detection Probability :  0\n",
      "----- Count : 324 -----\n",
      " *** Image : gaussian_noise_Image_122108.jpg ***\n",
      "Image id :  Image_122108.jpg\n",
      "Detection Probability :  0\n",
      "----- Count : 325 -----\n",
      " *** Image : gaussian_noise_Image_525589.jpg ***\n",
      "Image id :  Image_525589.jpg\n"
     ]
    },
    {
     "name": "stderr",
     "output_type": "stream",
     "text": [
      " 62%|██████▎   | 125/200 [00:12<00:07, 10.05it/s]"
     ]
    },
    {
     "name": "stdout",
     "output_type": "stream",
     "text": [
      "Detection Probability :  0.0\n",
      "----- Count : 326 -----\n",
      " *** Image : gaussian_noise_Image_85685.jpg ***\n",
      "Image id :  Image_85685.jpg\n",
      "Detection Probability :  0.25\n",
      "----- Count : 327 -----\n",
      " *** Image : gaussian_noise_Image_520208.jpg ***\n",
      "Image id :  Image_520208.jpg\n"
     ]
    },
    {
     "name": "stderr",
     "output_type": "stream",
     "text": [
      " 64%|██████▍   | 129/200 [00:13<00:06, 10.34it/s]"
     ]
    },
    {
     "name": "stdout",
     "output_type": "stream",
     "text": [
      "Detection Probability :  0\n",
      "----- Count : 328 -----\n",
      " *** Image : gaussian_noise_Image_98760.jpg ***\n",
      "Image id :  Image_98760.jpg\n",
      "Detection Probability :  0\n",
      "----- Count : 329 -----\n",
      " *** Image : gaussian_noise_Image_313932.jpg ***\n",
      "Image id :  Image_313932.jpg\n",
      "Detection Probability :  0\n",
      "----- Count : 330 -----\n",
      " *** Image : gaussian_noise_Image_62426.jpg ***\n",
      "Image id :  Image_62426.jpg\n"
     ]
    },
    {
     "name": "stderr",
     "output_type": "stream",
     "text": [
      " 66%|██████▌   | 131/200 [00:13<00:06, 10.90it/s]"
     ]
    },
    {
     "name": "stdout",
     "output_type": "stream",
     "text": [
      "Detection Probability :  0\n",
      "----- Count : 331 -----\n",
      " *** Image : gaussian_noise_Image_570608.jpg ***\n",
      "Image id :  Image_570608.jpg\n",
      "Detection Probability :  0.25\n",
      "----- Count : 332 -----\n",
      " *** Image : gaussian_noise_Image_71631.jpg ***\n",
      "Image id :  Image_71631.jpg\n",
      "Detection Probability :  0\n",
      "----- Count : 333 -----\n",
      " *** Image : gaussian_noise_Image_556801.jpg ***\n",
      "Image id :  Image_556801.jpg\n"
     ]
    },
    {
     "name": "stderr",
     "output_type": "stream",
     "text": [
      " 68%|██████▊   | 135/200 [00:13<00:05, 11.20it/s]"
     ]
    },
    {
     "name": "stdout",
     "output_type": "stream",
     "text": [
      "Detection Probability :  0.25\n",
      "----- Count : 334 -----\n",
      " *** Image : gaussian_noise_Image_412535.jpg ***\n",
      "Image id :  Image_412535.jpg\n",
      "Detection Probability :  0\n",
      "----- Count : 335 -----\n",
      " *** Image : gaussian_noise_Image_326511.jpg ***\n",
      "Image id :  Image_326511.jpg\n",
      "Detection Probability :  0\n",
      "----- Count : 336 -----\n",
      " *** Image : gaussian_noise_Image_535786.jpg ***\n",
      "Image id :  Image_535786.jpg\n"
     ]
    },
    {
     "name": "stderr",
     "output_type": "stream",
     "text": [
      " 68%|██████▊   | 137/200 [00:13<00:06, 10.48it/s]"
     ]
    },
    {
     "name": "stdout",
     "output_type": "stream",
     "text": [
      "Detection Probability :  0.25\n",
      "----- Count : 337 -----\n",
      " *** Image : gaussian_noise_Image_2024.jpg ***\n",
      "Image id :  Image_2024.jpg\n",
      "Detection Probability :  0.0\n",
      "----- Count : 338 -----\n",
      " *** Image : gaussian_noise_Image_170558.jpg ***\n",
      "Image id :  Image_170558.jpg\n"
     ]
    },
    {
     "name": "stderr",
     "output_type": "stream",
     "text": [
      " 70%|██████▉   | 139/200 [00:13<00:05, 10.42it/s]"
     ]
    },
    {
     "name": "stdout",
     "output_type": "stream",
     "text": [
      "Detection Probability :  0.0\n",
      "----- Count : 339 -----\n",
      " *** Image : gaussian_noise_Image_42493.jpg ***\n",
      "Image id :  Image_42493.jpg\n",
      "Detection Probability :  0.0\n",
      "----- Count : 340 -----\n",
      " *** Image : gaussian_noise_Image_378710.jpg ***\n",
      "Image id :  Image_378710.jpg\n",
      "Detection Probability :  0\n",
      "----- Count : 341 -----\n",
      " *** Image : gaussian_noise_Image_353139.jpg ***\n",
      "Image id :  Image_353139.jpg\n"
     ]
    },
    {
     "name": "stderr",
     "output_type": "stream",
     "text": [
      " 72%|███████▏  | 143/200 [00:14<00:05, 10.27it/s]"
     ]
    },
    {
     "name": "stdout",
     "output_type": "stream",
     "text": [
      "Detection Probability :  0\n",
      "----- Count : 342 -----\n",
      " *** Image : gaussian_noise_Image_289019.jpg ***\n",
      "Image id :  Image_289019.jpg\n",
      "Detection Probability :  0.75\n",
      "----- Count : 343 -----\n",
      " *** Image : gaussian_noise_Image_278347.jpg ***\n",
      "Image id :  Image_278347.jpg\n",
      "Detection Probability :  0.75\n",
      "----- Count : 344 -----\n",
      " *** Image : gaussian_noise_Image_311914.jpg ***\n",
      "Image id :  Image_311914.jpg\n"
     ]
    },
    {
     "name": "stderr",
     "output_type": "stream",
     "text": [
      " 72%|███████▎  | 145/200 [00:14<00:05, 10.85it/s]"
     ]
    },
    {
     "name": "stdout",
     "output_type": "stream",
     "text": [
      "Detection Probability :  0.5\n",
      "----- Count : 345 -----\n",
      " *** Image : gaussian_noise_Image_93785.jpg ***\n",
      "Image id :  Image_93785.jpg\n",
      "Detection Probability :  0.5\n",
      "----- Count : 346 -----\n",
      " *** Image : gaussian_noise_Image_405207.jpg ***\n",
      "Image id :  Image_405207.jpg\n",
      "Detection Probability :  0\n",
      "----- Count : 347 -----\n",
      " *** Image : gaussian_noise_Image_457732.jpg ***\n",
      "Image id :  Image_457732.jpg\n"
     ]
    },
    {
     "name": "stderr",
     "output_type": "stream",
     "text": [
      " 74%|███████▍  | 149/200 [00:14<00:04, 11.39it/s]"
     ]
    },
    {
     "name": "stdout",
     "output_type": "stream",
     "text": [
      "Detection Probability :  0\n",
      "----- Count : 348 -----\n",
      " *** Image : gaussian_noise_Image_168194.jpg ***\n",
      "Image id :  Image_168194.jpg\n",
      "Detection Probability :  0.25\n",
      "----- Count : 349 -----\n",
      " *** Image : gaussian_noise_Image_394326.jpg ***\n",
      "Image id :  Image_394326.jpg\n",
      "Detection Probability :  0.75\n",
      "----- Count : 350 -----\n",
      " *** Image : gaussian_noise_Image_454325.jpg ***\n",
      "Image id :  Image_454325.jpg\n"
     ]
    },
    {
     "name": "stderr",
     "output_type": "stream",
     "text": [
      " 76%|███████▌  | 151/200 [00:15<00:04, 11.72it/s]"
     ]
    },
    {
     "name": "stdout",
     "output_type": "stream",
     "text": [
      "Detection Probability :  0.25\n",
      "----- Count : 351 -----\n",
      " *** Image : gaussian_noise_Image_241364.jpg ***\n",
      "Image id :  Image_241364.jpg\n",
      "Detection Probability :  0\n",
      "----- Count : 352 -----\n",
      " *** Image : gaussian_noise_Image_309322.jpg ***\n",
      "Image id :  Image_309322.jpg\n",
      "Detection Probability :  0\n",
      "----- Count : 353 -----\n",
      " *** Image : gaussian_noise_Image_66514.jpg ***\n",
      "Image id :  Image_66514.jpg\n"
     ]
    },
    {
     "name": "stderr",
     "output_type": "stream",
     "text": [
      " 76%|███████▋  | 153/200 [00:15<00:04, 11.74it/s]"
     ]
    },
    {
     "name": "stdout",
     "output_type": "stream",
     "text": [
      "Detection Probability :  0.25\n",
      "----- Count : 354 -----\n",
      " *** Image : gaussian_noise_Image_348850.jpg ***\n",
      "Image id :  Image_348850.jpg\n",
      "Detection Probability :  0.25\n",
      "----- Count : 355 -----\n",
      " *** Image : gaussian_noise_Image_160559.jpg ***\n",
      "Image id :  Image_160559.jpg\n"
     ]
    },
    {
     "name": "stderr",
     "output_type": "stream",
     "text": [
      " 78%|███████▊  | 157/200 [00:15<00:03, 11.04it/s]"
     ]
    },
    {
     "name": "stdout",
     "output_type": "stream",
     "text": [
      "Detection Probability :  0\n",
      "----- Count : 356 -----\n",
      " *** Image : gaussian_noise_Image_441488.jpg ***\n",
      "Image id :  Image_441488.jpg\n",
      "Detection Probability :  0.5\n",
      "----- Count : 357 -----\n",
      " *** Image : gaussian_noise_Image_392136.jpg ***\n",
      "Image id :  Image_392136.jpg\n",
      "Detection Probability :  0\n",
      "----- Count : 358 -----\n",
      " *** Image : gaussian_noise_Image_223726.jpg ***\n",
      "Image id :  Image_223726.jpg\n",
      "Detection Probability :  0.0\n",
      "----- Count : 359 -----\n",
      " *** Image : gaussian_noise_Image_170850.jpg ***\n",
      "Image id :  Image_170850.jpg\n"
     ]
    },
    {
     "name": "stderr",
     "output_type": "stream",
     "text": [
      " 80%|████████  | 160/200 [00:16<00:04,  8.43it/s]"
     ]
    },
    {
     "name": "stdout",
     "output_type": "stream",
     "text": [
      "Detection Probability :  0.0\n",
      "----- Count : 360 -----\n",
      " *** Image : gaussian_noise_Image_318574.jpg ***\n",
      "Image id :  Image_318574.jpg\n",
      "Detection Probability :  0.0\n",
      "----- Count : 361 -----\n",
      " *** Image : gaussian_noise_Image_438422.jpg ***\n",
      "Image id :  Image_438422.jpg\n"
     ]
    },
    {
     "name": "stderr",
     "output_type": "stream",
     "text": [
      " 81%|████████  | 162/200 [00:16<00:04,  8.56it/s]"
     ]
    },
    {
     "name": "stdout",
     "output_type": "stream",
     "text": [
      "Detection Probability :  0.0\n",
      "----- Count : 362 -----\n",
      " *** Image : gaussian_noise_Image_225750.jpg ***\n",
      "Image id :  Image_225750.jpg\n",
      "Detection Probability :  0.25\n",
      "----- Count : 363 -----\n",
      " *** Image : gaussian_noise_Image_483008.jpg ***\n",
      "Image id :  Image_483008.jpg\n"
     ]
    },
    {
     "name": "stderr",
     "output_type": "stream",
     "text": [
      " 82%|████████▎ | 165/200 [00:16<00:03,  9.64it/s]"
     ]
    },
    {
     "name": "stdout",
     "output_type": "stream",
     "text": [
      "Detection Probability :  0.5\n",
      "----- Count : 364 -----\n",
      " *** Image : gaussian_noise_Image_150867.jpg ***\n",
      "Image id :  Image_150867.jpg\n",
      "Detection Probability :  0.25\n",
      "----- Count : 365 -----\n",
      " *** Image : gaussian_noise_Image_213546.jpg ***\n",
      "Image id :  Image_213546.jpg\n",
      "Detection Probability :  1.0\n",
      "----- Count : 366 -----\n",
      " *** Image : gaussian_noise_Image_345781.jpg ***\n",
      "Image id :  Image_345781.jpg\n"
     ]
    },
    {
     "name": "stderr",
     "output_type": "stream",
     "text": [
      " 84%|████████▎ | 167/200 [00:16<00:03, 10.53it/s]"
     ]
    },
    {
     "name": "stdout",
     "output_type": "stream",
     "text": [
      "Detection Probability :  0\n",
      "----- Count : 367 -----\n",
      " *** Image : gaussian_noise_Image_136461.jpg ***\n",
      "Image id :  Image_136461.jpg\n",
      "Detection Probability :  0.5\n",
      "----- Count : 368 -----\n",
      " *** Image : gaussian_noise_Image_303291.jpg ***\n",
      "Image id :  Image_303291.jpg\n",
      "Detection Probability :  0.0\n",
      "----- Count : 369 -----\n",
      " *** Image : gaussian_noise_Image_161919.jpg ***\n",
      "Image id :  Image_161919.jpg\n"
     ]
    },
    {
     "name": "stderr",
     "output_type": "stream",
     "text": [
      " 86%|████████▌ | 171/200 [00:17<00:02, 10.22it/s]"
     ]
    },
    {
     "name": "stdout",
     "output_type": "stream",
     "text": [
      "Detection Probability :  0\n",
      "----- Count : 370 -----\n",
      " *** Image : gaussian_noise_Image_179620.jpg ***\n",
      "Image id :  Image_179620.jpg\n",
      "Detection Probability :  0.5\n",
      "----- Count : 371 -----\n",
      " *** Image : gaussian_noise_Image_405613.jpg ***\n",
      "Image id :  Image_405613.jpg\n",
      "Detection Probability :  0\n",
      "----- Count : 372 -----\n",
      " *** Image : gaussian_noise_Image_210932.jpg ***\n",
      "Image id :  Image_210932.jpg\n"
     ]
    },
    {
     "name": "stderr",
     "output_type": "stream",
     "text": [
      " 86%|████████▋ | 173/200 [00:17<00:02, 10.15it/s]"
     ]
    },
    {
     "name": "stdout",
     "output_type": "stream",
     "text": [
      "Detection Probability :  0.0\n",
      "----- Count : 373 -----\n",
      " *** Image : gaussian_noise_Image_399956.jpg ***\n",
      "Image id :  Image_399956.jpg\n",
      "Detection Probability :  0\n",
      "----- Count : 374 -----\n",
      " *** Image : gaussian_noise_Image_212091.jpg ***\n",
      "Image id :  Image_212091.jpg\n",
      "Detection Probability :  0.0\n",
      "----- Count : 375 -----\n",
      " *** Image : gaussian_noise_Image_470072.jpg ***\n",
      "Image id :  Image_470072.jpg\n"
     ]
    },
    {
     "name": "stderr",
     "output_type": "stream",
     "text": [
      " 88%|████████▊ | 175/200 [00:17<00:02, 10.62it/s]"
     ]
    },
    {
     "name": "stdout",
     "output_type": "stream",
     "text": [
      "Detection Probability :  0\n",
      "----- Count : 376 -----\n",
      " *** Image : gaussian_noise_Image_219025.jpg ***\n",
      "Image id :  Image_219025.jpg\n",
      "Detection Probability :  0.0\n",
      "----- Count : 377 -----\n",
      " *** Image : gaussian_noise_Image_199628.jpg ***\n",
      "Image id :  Image_199628.jpg\n"
     ]
    },
    {
     "name": "stderr",
     "output_type": "stream",
     "text": [
      " 90%|████████▉ | 179/200 [00:17<00:02,  9.68it/s]"
     ]
    },
    {
     "name": "stdout",
     "output_type": "stream",
     "text": [
      "Detection Probability :  0.25\n",
      "----- Count : 378 -----\n",
      " *** Image : gaussian_noise_Image_18885.jpg ***\n",
      "Image id :  Image_18885.jpg\n",
      "Detection Probability :  0.75\n",
      "----- Count : 379 -----\n",
      " *** Image : gaussian_noise_Image_262845.jpg ***\n",
      "Image id :  Image_262845.jpg\n",
      "Detection Probability :  0.0\n"
     ]
    },
    {
     "name": "stderr",
     "output_type": "stream",
     "text": [
      " 90%|█████████ | 180/200 [00:18<00:02,  9.47it/s]"
     ]
    },
    {
     "name": "stdout",
     "output_type": "stream",
     "text": [
      "----- Count : 380 -----\n",
      " *** Image : gaussian_noise_Image_528906.jpg ***\n",
      "Image id :  Image_528906.jpg\n",
      "Detection Probability :  0.25\n",
      "----- Count : 381 -----\n",
      " *** Image : gaussian_noise_Image_8649.jpg ***\n",
      "Image id :  Image_8649.jpg\n",
      "Detection Probability :  0.5\n",
      "----- Count : 382 -----\n",
      " *** Image : gaussian_noise_Image_257350.jpg ***\n",
      "Image id :  Image_257350.jpg\n"
     ]
    },
    {
     "name": "stderr",
     "output_type": "stream",
     "text": [
      " 91%|█████████ | 182/200 [00:18<00:01, 10.41it/s]"
     ]
    },
    {
     "name": "stdout",
     "output_type": "stream",
     "text": [
      "Detection Probability :  0.5\n",
      "----- Count : 383 -----\n",
      " *** Image : gaussian_noise_Image_316676.jpg ***\n",
      "Image id :  Image_316676.jpg\n",
      "Detection Probability :  0\n",
      "----- Count : 384 -----\n",
      " *** Image : gaussian_noise_Image_37015.jpg ***\n",
      "Image id :  Image_37015.jpg\n"
     ]
    },
    {
     "name": "stderr",
     "output_type": "stream",
     "text": [
      " 93%|█████████▎| 186/200 [00:18<00:01,  9.69it/s]"
     ]
    },
    {
     "name": "stdout",
     "output_type": "stream",
     "text": [
      "Detection Probability :  0\n",
      "----- Count : 385 -----\n",
      " *** Image : gaussian_noise_Image_374114.jpg ***\n",
      "Image id :  Image_374114.jpg\n",
      "Detection Probability :  0.25\n",
      "----- Count : 386 -----\n",
      " *** Image : gaussian_noise_Image_387083.jpg ***\n",
      "Image id :  Image_387083.jpg\n",
      "Detection Probability :  0.0\n",
      "----- Count : 387 -----\n",
      " *** Image : gaussian_noise_Image_377694.jpg ***\n",
      "Image id :  Image_377694.jpg\n"
     ]
    },
    {
     "name": "stderr",
     "output_type": "stream",
     "text": [
      " 94%|█████████▍| 188/200 [00:18<00:01,  8.60it/s]"
     ]
    },
    {
     "name": "stdout",
     "output_type": "stream",
     "text": [
      "Detection Probability :  0\n",
      "----- Count : 388 -----\n",
      " *** Image : gaussian_noise_Image_365363.jpg ***\n",
      "Image id :  Image_365363.jpg\n",
      "Detection Probability :  0.0\n",
      "----- Count : 389 -----\n",
      " *** Image : gaussian_noise_Image_505126.jpg ***\n",
      "Image id :  Image_505126.jpg\n"
     ]
    },
    {
     "name": "stderr",
     "output_type": "stream",
     "text": [
      " 95%|█████████▌| 190/200 [00:19<00:01,  8.85it/s]"
     ]
    },
    {
     "name": "stdout",
     "output_type": "stream",
     "text": [
      "Detection Probability :  0\n",
      "----- Count : 390 -----\n",
      " *** Image : gaussian_noise_Image_79481.jpg ***\n",
      "Image id :  Image_79481.jpg\n",
      "Detection Probability :  0\n",
      "----- Count : 391 -----\n",
      " *** Image : gaussian_noise_Image_84427.jpg ***\n",
      "Image id :  Image_84427.jpg\n",
      "Detection Probability :  0\n",
      "----- Count : 392 -----\n",
      " *** Image : gaussian_noise_Image_101418.jpg ***\n",
      "Image id :  Image_101418.jpg\n"
     ]
    },
    {
     "name": "stderr",
     "output_type": "stream",
     "text": [
      " 97%|█████████▋| 194/200 [00:19<00:00, 10.10it/s]"
     ]
    },
    {
     "name": "stdout",
     "output_type": "stream",
     "text": [
      "Detection Probability :  0\n",
      "----- Count : 393 -----\n",
      " *** Image : gaussian_noise_Image_167613.jpg ***\n",
      "Image id :  Image_167613.jpg\n",
      "Detection Probability :  0.25\n",
      "----- Count : 394 -----\n",
      " *** Image : gaussian_noise_Image_409513.jpg ***\n",
      "Image id :  Image_409513.jpg\n",
      "Detection Probability :  0\n",
      "----- Count : 395 -----\n",
      " *** Image : gaussian_noise_Image_246804.jpg ***\n",
      "Image id :  Image_246804.jpg\n"
     ]
    },
    {
     "name": "stderr",
     "output_type": "stream",
     "text": [
      " 98%|█████████▊| 196/200 [00:19<00:00, 10.50it/s]"
     ]
    },
    {
     "name": "stdout",
     "output_type": "stream",
     "text": [
      "Detection Probability :  0.25\n",
      "----- Count : 396 -----\n",
      " *** Image : gaussian_noise_Image_492386.jpg ***\n",
      "Image id :  Image_492386.jpg\n",
      "Detection Probability :  0\n",
      "----- Count : 397 -----\n",
      " *** Image : gaussian_noise_Image_302389.jpg ***\n",
      "Image id :  Image_302389.jpg\n",
      "Detection Probability :  0\n",
      "----- Count : 398 -----\n",
      " *** Image : gaussian_noise_Image_155845.jpg ***\n",
      "Image id :  Image_155845.jpg\n"
     ]
    },
    {
     "name": "stderr",
     "output_type": "stream",
     "text": [
      "100%|██████████| 200/200 [00:20<00:00,  9.94it/s]\n"
     ]
    },
    {
     "name": "stdout",
     "output_type": "stream",
     "text": [
      "Detection Probability :  0\n",
      "----- Count : 399 -----\n",
      " *** Image : gaussian_noise_Image_424102.jpg ***\n",
      "Image id :  Image_424102.jpg\n",
      "Detection Probability :  0\n",
      "----- Count : 400 -----\n",
      " *** Image : gaussian_noise_Image_287927.jpg ***\n",
      "Image id :  Image_287927.jpg\n",
      "Detection Probability :  0\n",
      " ----- Attack : jpeg -----\n"
     ]
    },
    {
     "name": "stderr",
     "output_type": "stream",
     "text": [
      "  0%|          | 0/200 [00:00<?, ?it/s]"
     ]
    },
    {
     "name": "stdout",
     "output_type": "stream",
     "text": [
      "----- Count : 401 -----\n",
      " *** Image : jpeg_Image_388911.jpg ***\n",
      "Image id :  Image_388911.jpg\n"
     ]
    },
    {
     "name": "stderr",
     "output_type": "stream",
     "text": [
      "  1%|          | 2/200 [00:00<00:16, 12.01it/s]"
     ]
    },
    {
     "name": "stdout",
     "output_type": "stream",
     "text": [
      "Detection Probability :  0\n",
      "----- Count : 402 -----\n",
      " *** Image : jpeg_Image_543877.jpg ***\n",
      "Image id :  Image_543877.jpg\n",
      "Detection Probability :  0.75\n",
      "----- Count : 403 -----\n",
      " *** Image : jpeg_Image_122108.jpg ***\n",
      "Image id :  Image_122108.jpg\n",
      "Detection Probability :  0.5\n",
      "----- Count : 404 -----\n",
      " *** Image : jpeg_Image_37015.jpg ***\n",
      "Image id :  Image_37015.jpg\n"
     ]
    },
    {
     "name": "stderr",
     "output_type": "stream",
     "text": [
      "  2%|▏         | 4/200 [00:00<00:16, 11.65it/s]"
     ]
    },
    {
     "name": "stdout",
     "output_type": "stream",
     "text": [
      "Detection Probability :  1.0\n",
      "----- Count : 405 -----\n",
      " *** Image : jpeg_Image_93785.jpg ***\n",
      "Image id :  Image_93785.jpg\n",
      "Detection Probability :  1.0\n",
      "----- Count : 406 -----\n",
      " *** Image : jpeg_Image_217306.jpg ***\n",
      "Image id :  Image_217306.jpg\n"
     ]
    },
    {
     "name": "stderr",
     "output_type": "stream",
     "text": [
      "  3%|▎         | 6/200 [00:00<00:15, 12.90it/s]"
     ]
    },
    {
     "name": "stdout",
     "output_type": "stream",
     "text": [
      "Detection Probability :  0.5\n",
      "----- Count : 407 -----\n",
      " *** Image : jpeg_Image_147170.jpg ***\n",
      "Image id :  Image_147170.jpg\n"
     ]
    },
    {
     "name": "stderr",
     "output_type": "stream",
     "text": [
      "  4%|▍         | 8/200 [00:00<00:16, 11.82it/s]"
     ]
    },
    {
     "name": "stdout",
     "output_type": "stream",
     "text": [
      "Detection Probability :  0\n",
      "----- Count : 408 -----\n",
      " *** Image : jpeg_Image_470072.jpg ***\n",
      "Image id :  Image_470072.jpg\n",
      "Detection Probability :  0.75\n",
      "----- Count : 409 -----\n",
      " *** Image : jpeg_Image_344806.jpg ***\n",
      "Image id :  Image_344806.jpg\n"
     ]
    },
    {
     "name": "stderr",
     "output_type": "stream",
     "text": [
      "  5%|▌         | 10/200 [00:00<00:16, 11.56it/s]"
     ]
    },
    {
     "name": "stdout",
     "output_type": "stream",
     "text": [
      "Detection Probability :  0\n",
      "----- Count : 410 -----\n",
      " *** Image : jpeg_Image_239811.jpg ***\n",
      "Image id :  Image_239811.jpg\n",
      "Detection Probability :  1.0\n",
      "----- Count : 411 -----\n",
      " *** Image : jpeg_Image_189993.jpg ***\n",
      "Image id :  Image_189993.jpg\n",
      "Detection Probability :  1.0\n",
      "----- Count : 412 -----\n",
      " *** Image : jpeg_Image_472925.jpg ***\n",
      "Image id :  Image_472925.jpg\n"
     ]
    },
    {
     "name": "stderr",
     "output_type": "stream",
     "text": [
      "  7%|▋         | 14/200 [00:01<00:15, 12.33it/s]"
     ]
    },
    {
     "name": "stdout",
     "output_type": "stream",
     "text": [
      "Detection Probability :  0.75\n",
      "----- Count : 413 -----\n",
      " *** Image : jpeg_Image_147303.jpg ***\n",
      "Image id :  Image_147303.jpg\n",
      "Detection Probability :  0.75\n",
      "----- Count : 414 -----\n",
      " *** Image : jpeg_Image_212091.jpg ***\n",
      "Image id :  Image_212091.jpg\n",
      "Detection Probability :  0.0\n",
      "----- Count : 415 -----\n",
      " *** Image : jpeg_Image_318574.jpg ***\n",
      "Image id :  Image_318574.jpg\n"
     ]
    },
    {
     "name": "stderr",
     "output_type": "stream",
     "text": [
      "  8%|▊         | 16/200 [00:01<00:14, 12.52it/s]"
     ]
    },
    {
     "name": "stdout",
     "output_type": "stream",
     "text": [
      "Detection Probability :  0.25\n",
      "----- Count : 416 -----\n",
      " *** Image : jpeg_Image_570246.jpg ***\n",
      "Image id :  Image_570246.jpg\n",
      "Detection Probability :  0.75\n",
      "----- Count : 417 -----\n",
      " *** Image : jpeg_Image_438422.jpg ***\n",
      "Image id :  Image_438422.jpg\n",
      "Detection Probability :  1.0\n",
      "----- Count : 418 -----\n",
      " *** Image : jpeg_Image_477797.jpg ***\n",
      "Image id :  Image_477797.jpg\n"
     ]
    },
    {
     "name": "stderr",
     "output_type": "stream",
     "text": [
      " 10%|█         | 20/200 [00:01<00:15, 11.36it/s]"
     ]
    },
    {
     "name": "stdout",
     "output_type": "stream",
     "text": [
      "Detection Probability :  1.0\n",
      "----- Count : 419 -----\n",
      " *** Image : jpeg_Image_384029.jpg ***\n",
      "Image id :  Image_384029.jpg\n",
      "Detection Probability :  0\n",
      "----- Count : 420 -----\n",
      " *** Image : jpeg_Image_145179.jpg ***\n",
      "Image id :  Image_145179.jpg\n",
      "Detection Probability :  1.0\n",
      "----- Count : 421 -----\n",
      " *** Image : jpeg_Image_210932.jpg ***\n",
      "Image id :  Image_210932.jpg\n"
     ]
    },
    {
     "name": "stderr",
     "output_type": "stream",
     "text": [
      " 11%|█         | 22/200 [00:01<00:14, 12.20it/s]"
     ]
    },
    {
     "name": "stdout",
     "output_type": "stream",
     "text": [
      "Detection Probability :  0.5\n",
      "----- Count : 422 -----\n",
      " *** Image : jpeg_Image_280980.jpg ***\n",
      "Image id :  Image_280980.jpg\n",
      "Detection Probability :  1.0\n",
      "----- Count : 423 -----\n",
      " *** Image : jpeg_Image_486320.jpg ***\n",
      "Image id :  Image_486320.jpg\n",
      "Detection Probability :  0.25\n",
      "----- Count : 424 -----\n",
      " *** Image : jpeg_Image_356702.jpg ***\n",
      "Image id :  Image_356702.jpg\n"
     ]
    },
    {
     "name": "stderr",
     "output_type": "stream",
     "text": [
      " 12%|█▏        | 24/200 [00:02<00:14, 11.88it/s]"
     ]
    },
    {
     "name": "stdout",
     "output_type": "stream",
     "text": [
      "Detection Probability :  0.75\n",
      "----- Count : 425 -----\n",
      " *** Image : jpeg_Image_287541.jpg ***\n",
      "Image id :  Image_287541.jpg\n",
      "Detection Probability :  1.0\n",
      "----- Count : 426 -----\n",
      " *** Image : jpeg_Image_44404.jpg ***\n",
      "Image id :  Image_44404.jpg\n"
     ]
    },
    {
     "name": "stderr",
     "output_type": "stream",
     "text": [
      " 14%|█▍        | 28/200 [00:02<00:15, 11.19it/s]"
     ]
    },
    {
     "name": "stdout",
     "output_type": "stream",
     "text": [
      "Detection Probability :  0\n",
      "----- Count : 427 -----\n",
      " *** Image : jpeg_Image_457732.jpg ***\n",
      "Image id :  Image_457732.jpg\n",
      "Detection Probability :  1.0\n",
      "----- Count : 428 -----\n",
      " *** Image : jpeg_Image_345781.jpg ***\n",
      "Image id :  Image_345781.jpg\n",
      "Detection Probability :  0.75\n",
      "----- Count : 429 -----\n",
      " *** Image : jpeg_Image_354444.jpg ***\n",
      "Image id :  Image_354444.jpg\n"
     ]
    },
    {
     "name": "stderr",
     "output_type": "stream",
     "text": [
      " 15%|█▌        | 30/200 [00:02<00:15, 10.80it/s]"
     ]
    },
    {
     "name": "stdout",
     "output_type": "stream",
     "text": [
      "Detection Probability :  1.0\n",
      "----- Count : 430 -----\n",
      " *** Image : jpeg_Image_85685.jpg ***\n",
      "Image id :  Image_85685.jpg\n",
      "Detection Probability :  0.75\n",
      "----- Count : 431 -----\n",
      " *** Image : jpeg_Image_153946.jpg ***\n",
      "Image id :  Image_153946.jpg\n",
      "Detection Probability :  1.0\n",
      "----- Count : 432 -----\n",
      " *** Image : jpeg_Image_287927.jpg ***\n",
      "Image id :  Image_287927.jpg\n"
     ]
    },
    {
     "name": "stderr",
     "output_type": "stream",
     "text": [
      " 17%|█▋        | 34/200 [00:02<00:14, 11.30it/s]"
     ]
    },
    {
     "name": "stdout",
     "output_type": "stream",
     "text": [
      "Detection Probability :  1.0\n",
      "----- Count : 433 -----\n",
      " *** Image : jpeg_Image_179620.jpg ***\n",
      "Image id :  Image_179620.jpg\n",
      "Detection Probability :  0.25\n",
      "----- Count : 434 -----\n",
      " *** Image : jpeg_Image_96557.jpg ***\n",
      "Image id :  Image_96557.jpg\n",
      "Detection Probability :  0.0\n",
      "----- Count : 435 -----\n",
      " *** Image : jpeg_Image_485894.jpg ***\n",
      "Image id :  Image_485894.jpg\n"
     ]
    },
    {
     "name": "stderr",
     "output_type": "stream",
     "text": [
      " 18%|█▊        | 36/200 [00:03<00:14, 11.00it/s]"
     ]
    },
    {
     "name": "stdout",
     "output_type": "stream",
     "text": [
      "Detection Probability :  0.5\n",
      "----- Count : 436 -----\n",
      " *** Image : jpeg_Image_241364.jpg ***\n",
      "Image id :  Image_241364.jpg\n",
      "Detection Probability :  1.0\n",
      "----- Count : 437 -----\n",
      " *** Image : jpeg_Image_398494.jpg ***\n",
      "Image id :  Image_398494.jpg\n",
      "Detection Probability :  0.75\n",
      "----- Count : 438 -----\n",
      " *** Image : jpeg_Image_69675.jpg ***\n",
      "Image id :  Image_69675.jpg\n"
     ]
    },
    {
     "name": "stderr",
     "output_type": "stream",
     "text": [
      " 20%|██        | 40/200 [00:03<00:13, 11.81it/s]"
     ]
    },
    {
     "name": "stdout",
     "output_type": "stream",
     "text": [
      "Detection Probability :  1.0\n",
      "----- Count : 439 -----\n",
      " *** Image : jpeg_Image_49183.jpg ***\n",
      "Image id :  Image_49183.jpg\n",
      "Detection Probability :  1.0\n",
      "----- Count : 440 -----\n",
      " *** Image : jpeg_Image_62279.jpg ***\n",
      "Image id :  Image_62279.jpg\n",
      "Detection Probability :  1.0\n",
      "----- Count : 441 -----\n",
      " *** Image : jpeg_Image_570608.jpg ***\n",
      "Image id :  Image_570608.jpg\n"
     ]
    },
    {
     "name": "stderr",
     "output_type": "stream",
     "text": [
      " 21%|██        | 42/200 [00:03<00:15, 10.03it/s]"
     ]
    },
    {
     "name": "stdout",
     "output_type": "stream",
     "text": [
      "Detection Probability :  1.0\n",
      "----- Count : 442 -----\n",
      " *** Image : jpeg_Image_445528.jpg ***\n",
      "Image id :  Image_445528.jpg\n",
      "Detection Probability :  1.0\n",
      "----- Count : 443 -----\n",
      " *** Image : jpeg_Image_409513.jpg ***\n",
      "Image id :  Image_409513.jpg\n"
     ]
    },
    {
     "name": "stderr",
     "output_type": "stream",
     "text": [
      " 22%|██▏       | 44/200 [00:03<00:14, 10.50it/s]"
     ]
    },
    {
     "name": "stdout",
     "output_type": "stream",
     "text": [
      "Detection Probability :  0.75\n",
      "----- Count : 444 -----\n",
      " *** Image : jpeg_Image_301778.jpg ***\n",
      "Image id :  Image_301778.jpg\n",
      "Detection Probability :  0\n",
      "----- Count : 445 -----\n",
      " *** Image : jpeg_Image_289019.jpg ***\n",
      "Image id :  Image_289019.jpg\n",
      "Detection Probability :  0.75\n",
      "----- Count : 446 -----\n",
      " *** Image : jpeg_Image_64460.jpg ***\n",
      "Image id :  Image_64460.jpg\n"
     ]
    },
    {
     "name": "stderr",
     "output_type": "stream",
     "text": [
      " 24%|██▍       | 48/200 [00:04<00:14, 10.33it/s]"
     ]
    },
    {
     "name": "stdout",
     "output_type": "stream",
     "text": [
      "Detection Probability :  1.0\n",
      "----- Count : 447 -----\n",
      " *** Image : jpeg_Image_491269.jpg ***\n",
      "Image id :  Image_491269.jpg\n",
      "Detection Probability :  1.0\n",
      "----- Count : 448 -----\n",
      " *** Image : jpeg_Image_536587.jpg ***\n",
      "Image id :  Image_536587.jpg\n",
      "Detection Probability :  0\n",
      "----- Count : 449 -----\n",
      " *** Image : jpeg_Image_334080.jpg ***\n",
      "Image id :  Image_334080.jpg\n"
     ]
    },
    {
     "name": "stderr",
     "output_type": "stream",
     "text": [
      " 25%|██▌       | 50/200 [00:04<00:13, 10.89it/s]"
     ]
    },
    {
     "name": "stdout",
     "output_type": "stream",
     "text": [
      "Detection Probability :  0.75\n",
      "----- Count : 450 -----\n",
      " *** Image : jpeg_Image_523617.jpg ***\n",
      "Image id :  Image_523617.jpg\n",
      "Detection Probability :  0.0\n",
      "----- Count : 451 -----\n",
      " *** Image : jpeg_Image_172899.jpg ***\n",
      "Image id :  Image_172899.jpg\n",
      "Detection Probability :  0.75\n",
      "----- Count : 452 -----\n",
      " *** Image : jpeg_Image_147016.jpg ***\n",
      "Image id :  Image_147016.jpg\n"
     ]
    },
    {
     "name": "stderr",
     "output_type": "stream",
     "text": [
      " 27%|██▋       | 54/200 [00:04<00:13, 10.80it/s]"
     ]
    },
    {
     "name": "stdout",
     "output_type": "stream",
     "text": [
      "Detection Probability :  0.25\n",
      "----- Count : 453 -----\n",
      " *** Image : jpeg_Image_246446.jpg ***\n",
      "Image id :  Image_246446.jpg\n",
      "Detection Probability :  0.75\n",
      "----- Count : 454 -----\n",
      " *** Image : jpeg_Image_559527.jpg ***\n",
      "Image id :  Image_559527.jpg\n",
      "Detection Probability :  1.0\n",
      "----- Count : 455 -----\n",
      " *** Image : jpeg_Image_392136.jpg ***\n",
      "Image id :  Image_392136.jpg\n"
     ]
    },
    {
     "name": "stderr",
     "output_type": "stream",
     "text": [
      " 28%|██▊       | 56/200 [00:05<00:13, 10.35it/s]"
     ]
    },
    {
     "name": "stdout",
     "output_type": "stream",
     "text": [
      "Detection Probability :  0.5\n",
      "----- Count : 456 -----\n",
      " *** Image : jpeg_Image_213546.jpg ***\n",
      "Image id :  Image_213546.jpg\n",
      "Detection Probability :  0.75\n",
      "----- Count : 457 -----\n",
      " *** Image : jpeg_Image_426038.jpg ***\n",
      "Image id :  Image_426038.jpg\n",
      "Detection Probability :  1.0\n",
      "----- Count : 458 -----\n",
      " *** Image : jpeg_Image_236772.jpg ***\n",
      "Image id :  Image_236772.jpg\n"
     ]
    },
    {
     "name": "stderr",
     "output_type": "stream",
     "text": [
      " 30%|███       | 60/200 [00:05<00:12, 10.80it/s]"
     ]
    },
    {
     "name": "stdout",
     "output_type": "stream",
     "text": [
      "Detection Probability :  0\n",
      "----- Count : 459 -----\n",
      " *** Image : jpeg_Image_353139.jpg ***\n",
      "Image id :  Image_353139.jpg\n",
      "Detection Probability :  0\n",
      "----- Count : 460 -----\n",
      " *** Image : jpeg_Image_357684.jpg ***\n",
      "Image id :  Image_357684.jpg\n",
      "Detection Probability :  0.75\n",
      "----- Count : 461 -----\n",
      " *** Image : jpeg_Image_448698.jpg ***\n",
      "Image id :  Image_448698.jpg\n"
     ]
    },
    {
     "name": "stderr",
     "output_type": "stream",
     "text": [
      " 31%|███       | 62/200 [00:05<00:12, 11.26it/s]"
     ]
    },
    {
     "name": "stdout",
     "output_type": "stream",
     "text": [
      "Detection Probability :  0\n",
      "----- Count : 462 -----\n",
      " *** Image : jpeg_Image_560459.jpg ***\n",
      "Image id :  Image_560459.jpg\n",
      "Detection Probability :  0.75\n",
      "----- Count : 463 -----\n",
      " *** Image : jpeg_Image_70000.jpg ***\n",
      "Image id :  Image_70000.jpg\n"
     ]
    },
    {
     "name": "stderr",
     "output_type": "stream",
     "text": [
      " 32%|███▏      | 64/200 [00:05<00:12, 10.57it/s]"
     ]
    },
    {
     "name": "stdout",
     "output_type": "stream",
     "text": [
      "Detection Probability :  0.5\n",
      "----- Count : 464 -----\n",
      " *** Image : jpeg_Image_302389.jpg ***\n",
      "Image id :  Image_302389.jpg\n",
      "Detection Probability :  0.0\n",
      "----- Count : 465 -----\n",
      " *** Image : jpeg_Image_2024.jpg ***\n",
      "Image id :  Image_2024.jpg\n",
      "Detection Probability :  0\n",
      "----- Count : 466 -----\n",
      " *** Image : jpeg_Image_267688.jpg ***\n",
      "Image id :  Image_267688.jpg\n"
     ]
    },
    {
     "name": "stderr",
     "output_type": "stream",
     "text": [
      " 34%|███▍      | 68/200 [00:06<00:12, 10.55it/s]"
     ]
    },
    {
     "name": "stdout",
     "output_type": "stream",
     "text": [
      "Detection Probability :  1.0\n",
      "----- Count : 467 -----\n",
      " *** Image : jpeg_Image_223726.jpg ***\n",
      "Image id :  Image_223726.jpg\n",
      "Detection Probability :  0.75\n",
      "----- Count : 468 -----\n",
      " *** Image : jpeg_Image_19380.jpg ***\n",
      "Image id :  Image_19380.jpg\n",
      "Detection Probability :  0.75\n",
      "----- Count : 469 -----\n",
      " *** Image : jpeg_Image_352884.jpg ***\n",
      "Image id :  Image_352884.jpg\n"
     ]
    },
    {
     "name": "stderr",
     "output_type": "stream",
     "text": [
      " 35%|███▌      | 70/200 [00:06<00:12, 10.02it/s]"
     ]
    },
    {
     "name": "stdout",
     "output_type": "stream",
     "text": [
      "Detection Probability :  0\n",
      "----- Count : 470 -----\n",
      " *** Image : jpeg_Image_199628.jpg ***\n",
      "Image id :  Image_199628.jpg\n",
      "Detection Probability :  0.75\n",
      "----- Count : 471 -----\n",
      " *** Image : jpeg_Image_399956.jpg ***\n",
      "Image id :  Image_399956.jpg\n",
      "Detection Probability :  0.75\n",
      "----- Count : 472 -----\n",
      " *** Image : jpeg_Image_70868.jpg ***\n",
      "Image id :  Image_70868.jpg\n"
     ]
    },
    {
     "name": "stderr",
     "output_type": "stream",
     "text": [
      " 37%|███▋      | 74/200 [00:06<00:11, 10.73it/s]"
     ]
    },
    {
     "name": "stdout",
     "output_type": "stream",
     "text": [
      "Detection Probability :  1.0\n",
      "----- Count : 473 -----\n",
      " *** Image : jpeg_Image_513541.jpg ***\n",
      "Image id :  Image_513541.jpg\n",
      "Detection Probability :  1.0\n",
      "----- Count : 474 -----\n",
      " *** Image : jpeg_Image_303291.jpg ***\n",
      "Image id :  Image_303291.jpg\n",
      "Detection Probability :  0.75\n",
      "----- Count : 475 -----\n",
      " *** Image : jpeg_Image_378710.jpg ***\n",
      "Image id :  Image_378710.jpg\n"
     ]
    },
    {
     "name": "stderr",
     "output_type": "stream",
     "text": [
      " 38%|███▊      | 76/200 [00:06<00:10, 11.46it/s]"
     ]
    },
    {
     "name": "stdout",
     "output_type": "stream",
     "text": [
      "Detection Probability :  0.25\n",
      "----- Count : 476 -----\n",
      " *** Image : jpeg_Image_279108.jpg ***\n",
      "Image id :  Image_279108.jpg\n",
      "Detection Probability :  1.0\n",
      "----- Count : 477 -----\n",
      " *** Image : jpeg_Image_492386.jpg ***\n",
      "Image id :  Image_492386.jpg\n",
      "Detection Probability :  0.5\n",
      "----- Count : 478 -----\n",
      " *** Image : jpeg_Image_79481.jpg ***\n",
      "Image id :  Image_79481.jpg\n"
     ]
    },
    {
     "name": "stderr",
     "output_type": "stream",
     "text": [
      " 40%|████      | 80/200 [00:07<00:09, 12.05it/s]"
     ]
    },
    {
     "name": "stdout",
     "output_type": "stream",
     "text": [
      "Detection Probability :  0.5\n",
      "----- Count : 479 -----\n",
      " *** Image : jpeg_Image_374114.jpg ***\n",
      "Image id :  Image_374114.jpg\n",
      "Detection Probability :  1.0\n",
      "----- Count : 480 -----\n",
      " *** Image : jpeg_Image_95989.jpg ***\n",
      "Image id :  Image_95989.jpg\n",
      "Detection Probability :  0.75\n",
      "----- Count : 481 -----\n",
      " *** Image : jpeg_Image_160559.jpg ***\n",
      "Image id :  Image_160559.jpg\n"
     ]
    },
    {
     "name": "stderr",
     "output_type": "stream",
     "text": [
      " 41%|████      | 82/200 [00:07<00:10, 11.43it/s]"
     ]
    },
    {
     "name": "stdout",
     "output_type": "stream",
     "text": [
      "Detection Probability :  1.0\n",
      "----- Count : 482 -----\n",
      " *** Image : jpeg_Image_413746.jpg ***\n",
      "Image id :  Image_413746.jpg\n",
      "Detection Probability :  1.0\n",
      "----- Count : 483 -----\n",
      " *** Image : jpeg_Image_424102.jpg ***\n",
      "Image id :  Image_424102.jpg\n"
     ]
    },
    {
     "name": "stderr",
     "output_type": "stream",
     "text": [
      " 42%|████▏     | 84/200 [00:07<00:10, 11.14it/s]"
     ]
    },
    {
     "name": "stdout",
     "output_type": "stream",
     "text": [
      "Detection Probability :  0.75\n",
      "----- Count : 484 -----\n",
      " *** Image : jpeg_Image_265709.jpg ***\n",
      "Image id :  Image_265709.jpg\n",
      "Detection Probability :  1.0\n",
      "----- Count : 485 -----\n",
      " *** Image : jpeg_Image_109424.jpg ***\n",
      "Image id :  Image_109424.jpg\n",
      "Detection Probability :  0\n",
      "----- Count : 486 -----\n",
      " *** Image : jpeg_Image_444546.jpg ***\n",
      "Image id :  Image_444546.jpg\n"
     ]
    },
    {
     "name": "stderr",
     "output_type": "stream",
     "text": [
      " 43%|████▎     | 86/200 [00:07<00:10, 10.72it/s]"
     ]
    },
    {
     "name": "stdout",
     "output_type": "stream",
     "text": [
      "Detection Probability :  0.75\n",
      "----- Count : 487 -----\n",
      " *** Image : jpeg_Image_62426.jpg ***\n",
      "Image id :  Image_62426.jpg\n",
      "Detection Probability :  0.5\n",
      "----- Count : 488 -----\n",
      " *** Image : jpeg_Image_454325.jpg ***\n",
      "Image id :  Image_454325.jpg\n"
     ]
    },
    {
     "name": "stderr",
     "output_type": "stream",
     "text": [
      " 44%|████▍     | 88/200 [00:08<00:11, 10.11it/s]"
     ]
    },
    {
     "name": "stdout",
     "output_type": "stream",
     "text": [
      "Detection Probability :  1.0\n",
      "----- Count : 489 -----\n",
      " *** Image : jpeg_Image_8649.jpg ***\n",
      "Image id :  Image_8649.jpg\n",
      "Detection Probability :  1.0\n",
      "----- Count : 490 -----\n",
      " *** Image : jpeg_Image_218956.jpg ***\n",
      "Image id :  Image_218956.jpg\n"
     ]
    },
    {
     "name": "stderr",
     "output_type": "stream",
     "text": [
      " 46%|████▌     | 91/200 [00:08<00:12,  8.96it/s]"
     ]
    },
    {
     "name": "stdout",
     "output_type": "stream",
     "text": [
      "Detection Probability :  1.0\n",
      "----- Count : 491 -----\n",
      " *** Image : jpeg_Image_351430.jpg ***\n",
      "Image id :  Image_351430.jpg\n",
      "Detection Probability :  1.0\n",
      "----- Count : 492 -----\n",
      " *** Image : jpeg_Image_547471.jpg ***\n",
      "Image id :  Image_547471.jpg\n"
     ]
    },
    {
     "name": "stderr",
     "output_type": "stream",
     "text": [
      " 47%|████▋     | 94/200 [00:08<00:10,  9.69it/s]"
     ]
    },
    {
     "name": "stdout",
     "output_type": "stream",
     "text": [
      "Detection Probability :  1.0\n",
      "----- Count : 493 -----\n",
      " *** Image : jpeg_Image_576801.jpg ***\n",
      "Image id :  Image_576801.jpg\n",
      "Detection Probability :  0\n",
      "----- Count : 494 -----\n",
      " *** Image : jpeg_Image_409382.jpg ***\n",
      "Image id :  Image_409382.jpg\n",
      "Detection Probability :  1.0\n",
      "----- Count : 495 -----\n",
      " *** Image : jpeg_Image_150867.jpg ***\n",
      "Image id :  Image_150867.jpg\n"
     ]
    },
    {
     "name": "stderr",
     "output_type": "stream",
     "text": [
      " 48%|████▊     | 96/200 [00:08<00:09, 10.54it/s]"
     ]
    },
    {
     "name": "stdout",
     "output_type": "stream",
     "text": [
      "Detection Probability :  1.0\n",
      "----- Count : 496 -----\n",
      " *** Image : jpeg_Image_225750.jpg ***\n",
      "Image id :  Image_225750.jpg\n",
      "Detection Probability :  1.0\n",
      "----- Count : 497 -----\n",
      " *** Image : jpeg_Image_55627.jpg ***\n",
      "Image id :  Image_55627.jpg\n",
      "Detection Probability :  0\n",
      "----- Count : 498 -----\n",
      " *** Image : jpeg_Image_246804.jpg ***\n",
      "Image id :  Image_246804.jpg\n"
     ]
    },
    {
     "name": "stderr",
     "output_type": "stream",
     "text": [
      " 50%|█████     | 100/200 [00:09<00:08, 11.35it/s]"
     ]
    },
    {
     "name": "stdout",
     "output_type": "stream",
     "text": [
      "Detection Probability :  0\n",
      "----- Count : 499 -----\n",
      " *** Image : jpeg_Image_77375.jpg ***\n",
      "Image id :  Image_77375.jpg\n",
      "Detection Probability :  0.75\n",
      "----- Count : 500 -----\n",
      " *** Image : jpeg_Image_535786.jpg ***\n",
      "Image id :  Image_535786.jpg\n",
      "Detection Probability :  0\n",
      "----- Count : 501 -----\n",
      " *** Image : jpeg_Image_168194.jpg ***\n",
      "Image id :  Image_168194.jpg\n"
     ]
    },
    {
     "name": "stderr",
     "output_type": "stream",
     "text": [
      " 51%|█████     | 102/200 [00:09<00:08, 11.21it/s]"
     ]
    },
    {
     "name": "stdout",
     "output_type": "stream",
     "text": [
      "Detection Probability :  0.5\n",
      "----- Count : 502 -----\n",
      " *** Image : jpeg_Image_525589.jpg ***\n",
      "Image id :  Image_525589.jpg\n",
      "Detection Probability :  1.0\n",
      "----- Count : 503 -----\n",
      " *** Image : jpeg_Image_278347.jpg ***\n",
      "Image id :  Image_278347.jpg\n",
      "Detection Probability :  0.75\n",
      "----- Count : 504 -----\n",
      " *** Image : jpeg_Image_420721.jpg ***\n",
      "Image id :  Image_420721.jpg\n"
     ]
    },
    {
     "name": "stderr",
     "output_type": "stream",
     "text": [
      " 52%|█████▏    | 104/200 [00:09<00:08, 11.19it/s]"
     ]
    },
    {
     "name": "stdout",
     "output_type": "stream",
     "text": [
      "Detection Probability :  0.75\n",
      "----- Count : 505 -----\n",
      " *** Image : jpeg_Image_560628.jpg ***\n",
      "Image id :  Image_560628.jpg\n",
      "Detection Probability :  0.5\n",
      "----- Count : 506 -----\n",
      " *** Image : jpeg_Image_155845.jpg ***\n",
      "Image id :  Image_155845.jpg\n"
     ]
    },
    {
     "name": "stderr",
     "output_type": "stream",
     "text": [
      " 54%|█████▍    | 108/200 [00:09<00:08, 10.57it/s]"
     ]
    },
    {
     "name": "stdout",
     "output_type": "stream",
     "text": [
      "Detection Probability :  0\n",
      "----- Count : 507 -----\n",
      " *** Image : jpeg_Image_299411.jpg ***\n",
      "Image id :  Image_299411.jpg\n",
      "Detection Probability :  0.75\n",
      "----- Count : 508 -----\n",
      " *** Image : jpeg_Image_84427.jpg ***\n",
      "Image id :  Image_84427.jpg\n",
      "Detection Probability :  0.0\n",
      "----- Count : 509 -----\n",
      " *** Image : jpeg_Image_257350.jpg ***\n",
      "Image id :  Image_257350.jpg\n"
     ]
    },
    {
     "name": "stderr",
     "output_type": "stream",
     "text": [
      " 55%|█████▌    | 110/200 [00:10<00:08, 11.08it/s]"
     ]
    },
    {
     "name": "stdout",
     "output_type": "stream",
     "text": [
      "Detection Probability :  0.5\n",
      "----- Count : 510 -----\n",
      " *** Image : jpeg_Image_209967.jpg ***\n",
      "Image id :  Image_209967.jpg\n",
      "Detection Probability :  0.0\n",
      "----- Count : 511 -----\n",
      " *** Image : jpeg_Image_161919.jpg ***\n",
      "Image id :  Image_161919.jpg\n",
      "Detection Probability :  0.75\n",
      "----- Count : 512 -----\n",
      " *** Image : jpeg_Image_528906.jpg ***\n",
      "Image id :  Image_528906.jpg\n"
     ]
    },
    {
     "name": "stderr",
     "output_type": "stream",
     "text": [
      " 56%|█████▌    | 112/200 [00:10<00:07, 11.47it/s]"
     ]
    },
    {
     "name": "stdout",
     "output_type": "stream",
     "text": [
      "Detection Probability :  1.0\n",
      "----- Count : 513 -----\n",
      " *** Image : jpeg_Image_316676.jpg ***\n",
      "Image id :  Image_316676.jpg\n",
      "Detection Probability :  0.75\n",
      "----- Count : 514 -----\n",
      " *** Image : jpeg_Image_388754.jpg ***\n",
      "Image id :  Image_388754.jpg\n"
     ]
    },
    {
     "name": "stderr",
     "output_type": "stream",
     "text": [
      " 58%|█████▊    | 116/200 [00:10<00:07, 11.37it/s]"
     ]
    },
    {
     "name": "stdout",
     "output_type": "stream",
     "text": [
      "Detection Probability :  0.25\n",
      "----- Count : 515 -----\n",
      " *** Image : jpeg_Image_412535.jpg ***\n",
      "Image id :  Image_412535.jpg\n",
      "Detection Probability :  0.5\n",
      "----- Count : 516 -----\n",
      " *** Image : jpeg_Image_405613.jpg ***\n",
      "Image id :  Image_405613.jpg\n",
      "Detection Probability :  0.5\n",
      "----- Count : 517 -----\n",
      " *** Image : jpeg_Image_496939.jpg ***\n",
      "Image id :  Image_496939.jpg\n"
     ]
    },
    {
     "name": "stderr",
     "output_type": "stream",
     "text": [
      " 59%|█████▉    | 118/200 [00:10<00:06, 11.90it/s]"
     ]
    },
    {
     "name": "stdout",
     "output_type": "stream",
     "text": [
      "Detection Probability :  0.5\n",
      "----- Count : 518 -----\n",
      " *** Image : jpeg_Image_309322.jpg ***\n",
      "Image id :  Image_309322.jpg\n",
      "Detection Probability :  0.75\n",
      "----- Count : 519 -----\n",
      " *** Image : jpeg_Image_153674.jpg ***\n",
      "Image id :  Image_153674.jpg\n"
     ]
    },
    {
     "name": "stderr",
     "output_type": "stream",
     "text": [
      " 60%|██████    | 120/200 [00:11<00:07, 10.55it/s]"
     ]
    },
    {
     "name": "stdout",
     "output_type": "stream",
     "text": [
      "Detection Probability :  0.75\n",
      "----- Count : 520 -----\n",
      " *** Image : jpeg_Image_317237.jpg ***\n",
      "Image id :  Image_317237.jpg\n",
      "Detection Probability :  0.5\n",
      "----- Count : 521 -----\n",
      " *** Image : jpeg_Image_186233.jpg ***\n",
      "Image id :  Image_186233.jpg\n",
      "Detection Probability :  1.0\n",
      "----- Count : 522 -----\n",
      " *** Image : jpeg_Image_214704.jpg ***\n",
      "Image id :  Image_214704.jpg\n"
     ]
    },
    {
     "name": "stderr",
     "output_type": "stream",
     "text": [
      " 62%|██████▏   | 124/200 [00:11<00:07, 10.82it/s]"
     ]
    },
    {
     "name": "stdout",
     "output_type": "stream",
     "text": [
      "Detection Probability :  0\n",
      "----- Count : 523 -----\n",
      " *** Image : jpeg_Image_505126.jpg ***\n",
      "Image id :  Image_505126.jpg\n",
      "Detection Probability :  1.0\n",
      "----- Count : 524 -----\n",
      " *** Image : jpeg_Image_122688.jpg ***\n",
      "Image id :  Image_122688.jpg\n",
      "Detection Probability :  0.75\n",
      "----- Count : 525 -----\n",
      " *** Image : jpeg_Image_318189.jpg ***\n",
      "Image id :  Image_318189.jpg\n"
     ]
    },
    {
     "name": "stderr",
     "output_type": "stream",
     "text": [
      " 63%|██████▎   | 126/200 [00:11<00:06, 10.79it/s]"
     ]
    },
    {
     "name": "stdout",
     "output_type": "stream",
     "text": [
      "Detection Probability :  1.0\n",
      "----- Count : 526 -----\n",
      " *** Image : jpeg_Image_239728.jpg ***\n",
      "Image id :  Image_239728.jpg\n",
      "Detection Probability :  1.0\n",
      "----- Count : 527 -----\n",
      " *** Image : jpeg_Image_270912.jpg ***\n",
      "Image id :  Image_270912.jpg\n",
      "Detection Probability :  0.75\n",
      "----- Count : 528 -----\n",
      " *** Image : jpeg_Image_170558.jpg ***\n",
      "Image id :  Image_170558.jpg\n"
     ]
    },
    {
     "name": "stderr",
     "output_type": "stream",
     "text": [
      " 65%|██████▌   | 130/200 [00:11<00:06, 10.75it/s]"
     ]
    },
    {
     "name": "stdout",
     "output_type": "stream",
     "text": [
      "Detection Probability :  0.75\n",
      "----- Count : 529 -----\n",
      " *** Image : jpeg_Image_42493.jpg ***\n",
      "Image id :  Image_42493.jpg\n",
      "Detection Probability :  0.75\n",
      "----- Count : 530 -----\n",
      " *** Image : jpeg_Image_441488.jpg ***\n",
      "Image id :  Image_441488.jpg\n",
      "Detection Probability :  0.5\n",
      "----- Count : 531 -----\n",
      " *** Image : jpeg_Image_108627.jpg ***\n",
      "Image id :  Image_108627.jpg\n"
     ]
    },
    {
     "name": "stderr",
     "output_type": "stream",
     "text": [
      " 66%|██████▌   | 132/200 [00:12<00:06, 10.29it/s]"
     ]
    },
    {
     "name": "stdout",
     "output_type": "stream",
     "text": [
      "Detection Probability :  0\n",
      "----- Count : 532 -----\n",
      " *** Image : jpeg_Image_387083.jpg ***\n",
      "Image id :  Image_387083.jpg\n",
      "Detection Probability :  1.0\n",
      "----- Count : 533 -----\n",
      " *** Image : jpeg_Image_556801.jpg ***\n",
      "Image id :  Image_556801.jpg\n",
      "Detection Probability :  0.0\n",
      "----- Count : 534 -----\n",
      " *** Image : jpeg_Image_62604.jpg ***\n",
      "Image id :  Image_62604.jpg\n"
     ]
    },
    {
     "name": "stderr",
     "output_type": "stream",
     "text": [
      " 68%|██████▊   | 136/200 [00:12<00:05, 11.75it/s]"
     ]
    },
    {
     "name": "stdout",
     "output_type": "stream",
     "text": [
      "Detection Probability :  0.75\n",
      "----- Count : 535 -----\n",
      " *** Image : jpeg_Image_136461.jpg ***\n",
      "Image id :  Image_136461.jpg\n",
      "Detection Probability :  1.0\n",
      "----- Count : 536 -----\n",
      " *** Image : jpeg_Image_520950.jpg ***\n",
      "Image id :  Image_520950.jpg\n",
      "Detection Probability :  0\n",
      "----- Count : 537 -----\n",
      " *** Image : jpeg_Image_343322.jpg ***\n",
      "Image id :  Image_343322.jpg\n"
     ]
    },
    {
     "name": "stderr",
     "output_type": "stream",
     "text": [
      " 69%|██████▉   | 138/200 [00:12<00:04, 12.49it/s]"
     ]
    },
    {
     "name": "stdout",
     "output_type": "stream",
     "text": [
      "Detection Probability :  1.0\n",
      "----- Count : 538 -----\n",
      " *** Image : jpeg_Image_446014.jpg ***\n",
      "Image id :  Image_446014.jpg\n",
      "Detection Probability :  1.0\n",
      "----- Count : 539 -----\n",
      " *** Image : jpeg_Image_530683.jpg ***\n",
      "Image id :  Image_530683.jpg\n",
      "Detection Probability :  0.75\n",
      "----- Count : 540 -----\n",
      " *** Image : jpeg_Image_326511.jpg ***\n",
      "Image id :  Image_326511.jpg\n"
     ]
    },
    {
     "name": "stderr",
     "output_type": "stream",
     "text": [
      " 71%|███████   | 142/200 [00:12<00:04, 12.26it/s]"
     ]
    },
    {
     "name": "stdout",
     "output_type": "stream",
     "text": [
      "Detection Probability :  1.0\n",
      "----- Count : 541 -----\n",
      " *** Image : jpeg_Image_496283.jpg ***\n",
      "Image id :  Image_496283.jpg\n",
      "Detection Probability :  0.75\n",
      "----- Count : 542 -----\n",
      " *** Image : jpeg_Image_90570.jpg ***\n",
      "Image id :  Image_90570.jpg\n",
      "Detection Probability :  0.25\n",
      "----- Count : 543 -----\n",
      " *** Image : jpeg_Image_412198.jpg ***\n",
      "Image id :  Image_412198.jpg\n"
     ]
    },
    {
     "name": "stderr",
     "output_type": "stream",
     "text": [
      " 72%|███████▏  | 144/200 [00:13<00:05, 10.55it/s]"
     ]
    },
    {
     "name": "stdout",
     "output_type": "stream",
     "text": [
      "Detection Probability :  1.0\n",
      "----- Count : 544 -----\n",
      " *** Image : jpeg_Image_259446.jpg ***\n",
      "Image id :  Image_259446.jpg\n",
      "Detection Probability :  1.0\n",
      "----- Count : 545 -----\n",
      " *** Image : jpeg_Image_283524.jpg ***\n",
      "Image id :  Image_283524.jpg\n"
     ]
    },
    {
     "name": "stderr",
     "output_type": "stream",
     "text": [
      " 73%|███████▎  | 146/200 [00:13<00:04, 10.97it/s]"
     ]
    },
    {
     "name": "stdout",
     "output_type": "stream",
     "text": [
      "Detection Probability :  1.0\n",
      "----- Count : 546 -----\n",
      " *** Image : jpeg_Image_95133.jpg ***\n",
      "Image id :  Image_95133.jpg\n",
      "Detection Probability :  0.25\n",
      "----- Count : 547 -----\n",
      " *** Image : jpeg_Image_142088.jpg ***\n",
      "Image id :  Image_142088.jpg\n"
     ]
    },
    {
     "name": "stderr",
     "output_type": "stream",
     "text": [
      " 74%|███████▍  | 148/200 [00:13<00:04, 10.66it/s]"
     ]
    },
    {
     "name": "stdout",
     "output_type": "stream",
     "text": [
      "Detection Probability :  0.5\n",
      "----- Count : 548 -----\n",
      " *** Image : jpeg_Image_462559.jpg ***\n",
      "Image id :  Image_462559.jpg\n",
      "Detection Probability :  1.0\n",
      "----- Count : 549 -----\n",
      " *** Image : jpeg_Image_98760.jpg ***\n",
      "Image id :  Image_98760.jpg\n",
      "Detection Probability :  1.0\n",
      "----- Count : 550 -----\n",
      " *** Image : jpeg_Image_551125.jpg ***\n",
      "Image id :  Image_551125.jpg\n"
     ]
    },
    {
     "name": "stderr",
     "output_type": "stream",
     "text": [
      " 75%|███████▌  | 150/200 [00:13<00:04, 11.11it/s]"
     ]
    },
    {
     "name": "stdout",
     "output_type": "stream",
     "text": [
      "Detection Probability :  0\n",
      "----- Count : 551 -----\n",
      " *** Image : jpeg_Image_540988.jpg ***\n",
      "Image id :  Image_540988.jpg\n",
      "Detection Probability :  0.75\n",
      "----- Count : 552 -----\n",
      " *** Image : jpeg_Image_393493.jpg ***\n",
      "Image id :  Image_393493.jpg\n"
     ]
    },
    {
     "name": "stderr",
     "output_type": "stream",
     "text": [
      " 77%|███████▋  | 154/200 [00:14<00:04, 10.37it/s]"
     ]
    },
    {
     "name": "stdout",
     "output_type": "stream",
     "text": [
      "Detection Probability :  0.75\n",
      "----- Count : 553 -----\n",
      " *** Image : jpeg_Image_483751.jpg ***\n",
      "Image id :  Image_483751.jpg\n",
      "Detection Probability :  1.0\n",
      "----- Count : 554 -----\n",
      " *** Image : jpeg_Image_219025.jpg ***\n",
      "Image id :  Image_219025.jpg\n",
      "Detection Probability :  1.0\n",
      "----- Count : 555 -----\n",
      " *** Image : jpeg_Image_574001.jpg ***\n",
      "Image id :  Image_574001.jpg\n",
      "Detection Probability :  0\n",
      "----- Count : 556 -----\n",
      " *** Image : jpeg_Image_280260.jpg ***\n",
      "Image id :  Image_280260.jpg\n"
     ]
    },
    {
     "name": "stderr",
     "output_type": "stream",
     "text": [
      " 78%|███████▊  | 156/200 [00:14<00:04,  9.80it/s]"
     ]
    },
    {
     "name": "stdout",
     "output_type": "stream",
     "text": [
      "Detection Probability :  1.0\n",
      "----- Count : 557 -----\n",
      " *** Image : jpeg_Image_71631.jpg ***\n",
      "Image id :  Image_71631.jpg\n",
      "Detection Probability :  0\n",
      "----- Count : 558 -----\n",
      " *** Image : jpeg_Image_77806.jpg ***\n",
      "Image id :  Image_77806.jpg\n"
     ]
    },
    {
     "name": "stderr",
     "output_type": "stream",
     "text": [
      " 80%|███████▉  | 159/200 [00:14<00:04,  9.38it/s]"
     ]
    },
    {
     "name": "stdout",
     "output_type": "stream",
     "text": [
      "Detection Probability :  0.75\n",
      "----- Count : 559 -----\n",
      " *** Image : jpeg_Image_215481.jpg ***\n",
      "Image id :  Image_215481.jpg\n",
      "Detection Probability :  0.25\n",
      "----- Count : 560 -----\n",
      " *** Image : jpeg_Image_309093.jpg ***\n",
      "Image id :  Image_309093.jpg\n"
     ]
    },
    {
     "name": "stderr",
     "output_type": "stream",
     "text": [
      " 81%|████████  | 162/200 [00:14<00:03,  9.74it/s]"
     ]
    },
    {
     "name": "stdout",
     "output_type": "stream",
     "text": [
      "Detection Probability :  0.75\n",
      "----- Count : 561 -----\n",
      " *** Image : jpeg_Image_467311.jpg ***\n",
      "Image id :  Image_467311.jpg\n",
      "Detection Probability :  1.0\n",
      "----- Count : 562 -----\n",
      " *** Image : jpeg_Image_394326.jpg ***\n",
      "Image id :  Image_394326.jpg\n",
      "Detection Probability :  1.0\n",
      "----- Count : 563 -----\n",
      " *** Image : jpeg_Image_269829.jpg ***\n",
      "Image id :  Image_269829.jpg\n"
     ]
    },
    {
     "name": "stderr",
     "output_type": "stream",
     "text": [
      " 82%|████████▏ | 164/200 [00:15<00:03,  9.84it/s]"
     ]
    },
    {
     "name": "stdout",
     "output_type": "stream",
     "text": [
      "Detection Probability :  0\n",
      "----- Count : 564 -----\n",
      " *** Image : jpeg_Image_181104.jpg ***\n",
      "Image id :  Image_181104.jpg\n",
      "Detection Probability :  1.0\n",
      "----- Count : 565 -----\n",
      " *** Image : jpeg_Image_36633.jpg ***\n",
      "Image id :  Image_36633.jpg\n",
      "Detection Probability :  0.25\n",
      "----- Count : 566 -----\n",
      " *** Image : jpeg_Image_262845.jpg ***\n",
      "Image id :  Image_262845.jpg\n"
     ]
    },
    {
     "name": "stderr",
     "output_type": "stream",
     "text": [
      " 84%|████████▍ | 168/200 [00:15<00:03, 10.47it/s]"
     ]
    },
    {
     "name": "stdout",
     "output_type": "stream",
     "text": [
      "Detection Probability :  1.0\n",
      "----- Count : 567 -----\n",
      " *** Image : jpeg_Image_524068.jpg ***\n",
      "Image id :  Image_524068.jpg\n",
      "Detection Probability :  1.0\n",
      "----- Count : 568 -----\n",
      " *** Image : jpeg_Image_581674.jpg ***\n",
      "Image id :  Image_581674.jpg\n",
      "Detection Probability :  1.0\n",
      "----- Count : 569 -----\n",
      " *** Image : jpeg_Image_520208.jpg ***\n",
      "Image id :  Image_520208.jpg\n"
     ]
    },
    {
     "name": "stderr",
     "output_type": "stream",
     "text": [
      " 85%|████████▌ | 170/200 [00:15<00:03,  9.70it/s]"
     ]
    },
    {
     "name": "stdout",
     "output_type": "stream",
     "text": [
      "Detection Probability :  0\n",
      "----- Count : 570 -----\n",
      " *** Image : jpeg_Image_157032.jpg ***\n",
      "Image id :  Image_157032.jpg\n",
      "Detection Probability :  0.75\n",
      "----- Count : 571 -----\n",
      " *** Image : jpeg_Image_341550.jpg ***\n",
      "Image id :  Image_341550.jpg\n"
     ]
    },
    {
     "name": "stderr",
     "output_type": "stream",
     "text": [
      " 86%|████████▌ | 171/200 [00:15<00:03,  9.44it/s]"
     ]
    },
    {
     "name": "stdout",
     "output_type": "stream",
     "text": [
      "Detection Probability :  0.75\n",
      "----- Count : 572 -----\n",
      " *** Image : jpeg_Image_277854.jpg ***\n",
      "Image id :  Image_277854.jpg\n",
      "Detection Probability :  0.0\n",
      "----- Count : 573 -----\n",
      " *** Image : jpeg_Image_96997.jpg ***\n",
      "Image id :  Image_96997.jpg\n"
     ]
    },
    {
     "name": "stderr",
     "output_type": "stream",
     "text": [
      " 88%|████████▊ | 175/200 [00:16<00:02,  9.35it/s]"
     ]
    },
    {
     "name": "stdout",
     "output_type": "stream",
     "text": [
      "Detection Probability :  0\n",
      "----- Count : 574 -----\n",
      " *** Image : jpeg_Image_4428.jpg ***\n",
      "Image id :  Image_4428.jpg\n",
      "Detection Probability :  1.0\n",
      "----- Count : 575 -----\n",
      " *** Image : jpeg_Image_292835.jpg ***\n",
      "Image id :  Image_292835.jpg\n",
      "Detection Probability :  1.0\n",
      "----- Count : 576 -----\n",
      " *** Image : jpeg_Image_483008.jpg ***\n",
      "Image id :  Image_483008.jpg\n"
     ]
    },
    {
     "name": "stderr",
     "output_type": "stream",
     "text": [
      " 89%|████████▉ | 178/200 [00:16<00:02,  9.47it/s]"
     ]
    },
    {
     "name": "stdout",
     "output_type": "stream",
     "text": [
      "Detection Probability :  1.0\n",
      "----- Count : 577 -----\n",
      " *** Image : jpeg_Image_311914.jpg ***\n",
      "Image id :  Image_311914.jpg\n",
      "Detection Probability :  1.0\n",
      "----- Count : 578 -----\n",
      " *** Image : jpeg_Image_504616.jpg ***\n",
      "Image id :  Image_504616.jpg\n",
      "Detection Probability :  0.5\n",
      "----- Count : 579 -----\n",
      " *** Image : jpeg_Image_377694.jpg ***\n",
      "Image id :  Image_377694.jpg\n"
     ]
    },
    {
     "name": "stderr",
     "output_type": "stream",
     "text": [
      " 90%|█████████ | 180/200 [00:16<00:02,  9.95it/s]"
     ]
    },
    {
     "name": "stdout",
     "output_type": "stream",
     "text": [
      "Detection Probability :  0.75\n",
      "----- Count : 580 -----\n",
      " *** Image : jpeg_Image_474882.jpg ***\n",
      "Image id :  Image_474882.jpg\n",
      "Detection Probability :  1.0\n",
      "----- Count : 581 -----\n",
      " *** Image : jpeg_Image_170850.jpg ***\n",
      "Image id :  Image_170850.jpg\n",
      "Detection Probability :  1.0\n",
      "----- Count : 582 -----\n",
      " *** Image : jpeg_Image_469605.jpg ***\n",
      "Image id :  Image_469605.jpg\n"
     ]
    },
    {
     "name": "stderr",
     "output_type": "stream",
     "text": [
      " 91%|█████████ | 182/200 [00:17<00:01,  9.83it/s]"
     ]
    },
    {
     "name": "stdout",
     "output_type": "stream",
     "text": [
      "Detection Probability :  1.0\n",
      "----- Count : 583 -----\n",
      " *** Image : jpeg_Image_348850.jpg ***\n",
      "Image id :  Image_348850.jpg\n",
      "Detection Probability :  1.0\n",
      "----- Count : 584 -----\n",
      " *** Image : jpeg_Image_66514.jpg ***\n",
      "Image id :  Image_66514.jpg\n"
     ]
    },
    {
     "name": "stderr",
     "output_type": "stream",
     "text": [
      " 92%|█████████▏| 184/200 [00:17<00:01,  9.65it/s]"
     ]
    },
    {
     "name": "stdout",
     "output_type": "stream",
     "text": [
      "Detection Probability :  0.5\n",
      "----- Count : 585 -----\n",
      " *** Image : jpeg_Image_18885.jpg ***\n",
      "Image id :  Image_18885.jpg\n",
      "Detection Probability :  0.75\n",
      "----- Count : 586 -----\n",
      " *** Image : jpeg_Image_101418.jpg ***\n",
      "Image id :  Image_101418.jpg\n"
     ]
    },
    {
     "name": "stderr",
     "output_type": "stream",
     "text": [
      " 94%|█████████▍| 188/200 [00:17<00:01,  9.57it/s]"
     ]
    },
    {
     "name": "stdout",
     "output_type": "stream",
     "text": [
      "Detection Probability :  0.75\n",
      "----- Count : 587 -----\n",
      " *** Image : jpeg_Image_546451.jpg ***\n",
      "Image id :  Image_546451.jpg\n",
      "Detection Probability :  0.75\n",
      "----- Count : 588 -----\n",
      " *** Image : jpeg_Image_167603.jpg ***\n",
      "Image id :  Image_167603.jpg\n",
      "Detection Probability :  0.75\n",
      "----- Count : 589 -----\n",
      " *** Image : jpeg_Image_313932.jpg ***\n",
      "Image id :  Image_313932.jpg\n"
     ]
    },
    {
     "name": "stderr",
     "output_type": "stream",
     "text": [
      " 95%|█████████▌| 190/200 [00:17<00:01,  9.84it/s]"
     ]
    },
    {
     "name": "stdout",
     "output_type": "stream",
     "text": [
      "Detection Probability :  1.0\n",
      "----- Count : 590 -----\n",
      " *** Image : jpeg_Image_222016.jpg ***\n",
      "Image id :  Image_222016.jpg\n",
      "Detection Probability :  0.75\n",
      "----- Count : 591 -----\n",
      " *** Image : jpeg_Image_576757.jpg ***\n",
      "Image id :  Image_576757.jpg\n",
      "Detection Probability :  0\n",
      "----- Count : 592 -----\n",
      " *** Image : jpeg_Image_165499.jpg ***\n",
      "Image id :  Image_165499.jpg\n"
     ]
    },
    {
     "name": "stderr",
     "output_type": "stream",
     "text": [
      " 97%|█████████▋| 194/200 [00:18<00:00, 10.98it/s]"
     ]
    },
    {
     "name": "stdout",
     "output_type": "stream",
     "text": [
      "Detection Probability :  0\n",
      "----- Count : 593 -----\n",
      " *** Image : jpeg_Image_540162.jpg ***\n",
      "Image id :  Image_540162.jpg\n",
      "Detection Probability :  1.0\n",
      "----- Count : 594 -----\n",
      " *** Image : jpeg_Image_167613.jpg ***\n",
      "Image id :  Image_167613.jpg\n",
      "Detection Probability :  0.5\n",
      "----- Count : 595 -----\n",
      " *** Image : jpeg_Image_371029.jpg ***\n",
      "Image id :  Image_371029.jpg\n"
     ]
    },
    {
     "name": "stderr",
     "output_type": "stream",
     "text": [
      " 98%|█████████▊| 196/200 [00:18<00:00, 10.58it/s]"
     ]
    },
    {
     "name": "stdout",
     "output_type": "stream",
     "text": [
      "Detection Probability :  0.25\n",
      "----- Count : 596 -----\n",
      " *** Image : jpeg_Image_57870.jpg ***\n",
      "Image id :  Image_57870.jpg\n",
      "Detection Probability :  0.5\n",
      "----- Count : 597 -----\n",
      " *** Image : jpeg_Image_405207.jpg ***\n",
      "Image id :  Image_405207.jpg\n"
     ]
    },
    {
     "name": "stderr",
     "output_type": "stream",
     "text": [
      " 99%|█████████▉| 198/200 [00:18<00:00, 11.28it/s]"
     ]
    },
    {
     "name": "stdout",
     "output_type": "stream",
     "text": [
      "Detection Probability :  1.0\n",
      "----- Count : 598 -----\n",
      " *** Image : jpeg_Image_160163.jpg ***\n",
      "Image id :  Image_160163.jpg\n",
      "Detection Probability :  0\n",
      "----- Count : 599 -----\n",
      " *** Image : jpeg_Image_497616.jpg ***\n",
      "Image id :  Image_497616.jpg\n",
      "Detection Probability :  1.0\n",
      "----- Count : 600 -----\n",
      " *** Image : jpeg_Image_365363.jpg ***\n",
      "Image id :  Image_365363.jpg\n"
     ]
    },
    {
     "name": "stderr",
     "output_type": "stream",
     "text": [
      "100%|██████████| 200/200 [00:18<00:00, 10.65it/s]\n"
     ]
    },
    {
     "name": "stdout",
     "output_type": "stream",
     "text": [
      "Detection Probability :  0.75\n",
      " ----- Attack : rotation -----\n"
     ]
    },
    {
     "name": "stderr",
     "output_type": "stream",
     "text": [
      "  0%|          | 1/200 [00:00<00:32,  6.20it/s]"
     ]
    },
    {
     "name": "stdout",
     "output_type": "stream",
     "text": [
      "----- Count : 601 -----\n",
      " *** Image : rotation_Image_413746.jpg ***\n",
      "Image id :  Image_413746.jpg\n",
      "Detection Probability :  0.0\n",
      "----- Count : 602 -----\n",
      " *** Image : rotation_Image_96997.jpg ***\n",
      "Image id :  Image_96997.jpg\n"
     ]
    },
    {
     "name": "stderr",
     "output_type": "stream",
     "text": [
      "  2%|▏         | 3/200 [00:00<00:24,  8.06it/s]"
     ]
    },
    {
     "name": "stdout",
     "output_type": "stream",
     "text": [
      "Detection Probability :  0\n",
      "----- Count : 603 -----\n",
      " *** Image : rotation_Image_142088.jpg ***\n",
      "Image id :  Image_142088.jpg\n",
      "Detection Probability :  0\n",
      "----- Count : 604 -----\n",
      " *** Image : rotation_Image_574001.jpg ***\n",
      "Image id :  Image_574001.jpg\n",
      "Detection Probability :  0.0\n",
      "----- Count : 605 -----\n",
      " *** Image : rotation_Image_292835.jpg ***\n",
      "Image id :  Image_292835.jpg\n"
     ]
    },
    {
     "name": "stderr",
     "output_type": "stream",
     "text": [
      "  2%|▎         | 5/200 [00:00<00:20,  9.70it/s]"
     ]
    },
    {
     "name": "stdout",
     "output_type": "stream",
     "text": [
      "Detection Probability :  0.0\n",
      "----- Count : 606 -----\n",
      " *** Image : rotation_Image_485894.jpg ***\n",
      "Image id :  Image_485894.jpg\n",
      "Detection Probability :  0.0\n",
      "----- Count : 607 -----\n",
      " *** Image : rotation_Image_530683.jpg ***\n",
      "Image id :  Image_530683.jpg\n"
     ]
    },
    {
     "name": "stderr",
     "output_type": "stream",
     "text": [
      "  4%|▎         | 7/200 [00:00<00:20,  9.29it/s]"
     ]
    },
    {
     "name": "stdout",
     "output_type": "stream",
     "text": [
      "Detection Probability :  0.0\n",
      "----- Count : 608 -----\n",
      " *** Image : rotation_Image_209967.jpg ***\n",
      "Image id :  Image_209967.jpg\n",
      "Detection Probability :  0\n",
      "----- Count : 609 -----\n",
      " *** Image : rotation_Image_69675.jpg ***\n",
      "Image id :  Image_69675.jpg\n"
     ]
    },
    {
     "name": "stderr",
     "output_type": "stream",
     "text": [
      "  6%|▌         | 11/200 [00:01<00:19,  9.68it/s]"
     ]
    },
    {
     "name": "stdout",
     "output_type": "stream",
     "text": [
      "Detection Probability :  0.0\n",
      "----- Count : 610 -----\n",
      " *** Image : rotation_Image_317237.jpg ***\n",
      "Image id :  Image_317237.jpg\n",
      "Detection Probability :  0\n",
      "----- Count : 611 -----\n",
      " *** Image : rotation_Image_170850.jpg ***\n",
      "Image id :  Image_170850.jpg\n",
      "Detection Probability :  0\n",
      "----- Count : 612 -----\n",
      " *** Image : rotation_Image_71631.jpg ***\n",
      "Image id :  Image_71631.jpg\n"
     ]
    },
    {
     "name": "stderr",
     "output_type": "stream",
     "text": [
      "  6%|▋         | 13/200 [00:01<00:17, 10.47it/s]"
     ]
    },
    {
     "name": "stdout",
     "output_type": "stream",
     "text": [
      "Detection Probability :  0.0\n",
      "----- Count : 613 -----\n",
      " *** Image : rotation_Image_405207.jpg ***\n",
      "Image id :  Image_405207.jpg\n",
      "Detection Probability :  0\n",
      "----- Count : 614 -----\n",
      " *** Image : rotation_Image_309322.jpg ***\n",
      "Image id :  Image_309322.jpg\n",
      "Detection Probability :  0.0\n",
      "----- Count : 615 -----\n",
      " *** Image : rotation_Image_462559.jpg ***\n",
      "Image id :  Image_462559.jpg\n"
     ]
    },
    {
     "name": "stderr",
     "output_type": "stream",
     "text": [
      "  8%|▊         | 17/200 [00:01<00:15, 12.01it/s]"
     ]
    },
    {
     "name": "stdout",
     "output_type": "stream",
     "text": [
      "Detection Probability :  0.0\n",
      "----- Count : 616 -----\n",
      " *** Image : rotation_Image_239728.jpg ***\n",
      "Image id :  Image_239728.jpg\n",
      "Detection Probability :  0.0\n",
      "----- Count : 617 -----\n",
      " *** Image : rotation_Image_457732.jpg ***\n",
      "Image id :  Image_457732.jpg\n",
      "Detection Probability :  0.0\n",
      "----- Count : 618 -----\n",
      " *** Image : rotation_Image_136461.jpg ***\n",
      "Image id :  Image_136461.jpg\n"
     ]
    },
    {
     "name": "stderr",
     "output_type": "stream",
     "text": [
      " 10%|▉         | 19/200 [00:01<00:16, 10.91it/s]"
     ]
    },
    {
     "name": "stdout",
     "output_type": "stream",
     "text": [
      "Detection Probability :  0.0\n",
      "----- Count : 619 -----\n",
      " *** Image : rotation_Image_341550.jpg ***\n",
      "Image id :  Image_341550.jpg\n",
      "Detection Probability :  0.0\n",
      "----- Count : 620 -----\n",
      " *** Image : rotation_Image_62426.jpg ***\n",
      "Image id :  Image_62426.jpg\n"
     ]
    },
    {
     "name": "stderr",
     "output_type": "stream",
     "text": [
      " 10%|█         | 21/200 [00:02<00:16, 10.54it/s]"
     ]
    },
    {
     "name": "stdout",
     "output_type": "stream",
     "text": [
      "Detection Probability :  0.0\n",
      "----- Count : 621 -----\n",
      " *** Image : rotation_Image_269829.jpg ***\n",
      "Image id :  Image_269829.jpg\n",
      "Detection Probability :  0\n",
      "----- Count : 622 -----\n",
      " *** Image : rotation_Image_170558.jpg ***\n",
      "Image id :  Image_170558.jpg\n",
      "Detection Probability :  0.0\n",
      "----- Count : 623 -----\n",
      " *** Image : rotation_Image_353139.jpg ***\n",
      "Image id :  Image_353139.jpg\n"
     ]
    },
    {
     "name": "stderr",
     "output_type": "stream",
     "text": [
      " 12%|█▎        | 25/200 [00:02<00:16, 10.82it/s]"
     ]
    },
    {
     "name": "stdout",
     "output_type": "stream",
     "text": [
      "Detection Probability :  0.0\n",
      "----- Count : 624 -----\n",
      " *** Image : rotation_Image_470072.jpg ***\n",
      "Image id :  Image_470072.jpg\n",
      "Detection Probability :  0.0\n",
      "----- Count : 625 -----\n",
      " *** Image : rotation_Image_239811.jpg ***\n",
      "Image id :  Image_239811.jpg\n",
      "Detection Probability :  0.0\n",
      "----- Count : 626 -----\n",
      " *** Image : rotation_Image_547471.jpg ***\n",
      "Image id :  Image_547471.jpg\n"
     ]
    },
    {
     "name": "stderr",
     "output_type": "stream",
     "text": [
      " 14%|█▎        | 27/200 [00:02<00:17,  9.72it/s]"
     ]
    },
    {
     "name": "stdout",
     "output_type": "stream",
     "text": [
      "Detection Probability :  0.0\n",
      "----- Count : 627 -----\n",
      " *** Image : rotation_Image_318189.jpg ***\n",
      "Image id :  Image_318189.jpg\n",
      "Detection Probability :  0.0\n",
      "----- Count : 628 -----\n",
      " *** Image : rotation_Image_95989.jpg ***\n",
      "Image id :  Image_95989.jpg\n",
      "Detection Probability :  0.0\n",
      "----- Count : 629 -----\n",
      " *** Image : rotation_Image_570608.jpg ***\n",
      "Image id :  Image_570608.jpg\n"
     ]
    },
    {
     "name": "stderr",
     "output_type": "stream",
     "text": [
      " 16%|█▌        | 31/200 [00:03<00:17,  9.77it/s]"
     ]
    },
    {
     "name": "stdout",
     "output_type": "stream",
     "text": [
      "Detection Probability :  0.0\n",
      "----- Count : 630 -----\n",
      " *** Image : rotation_Image_477797.jpg ***\n",
      "Image id :  Image_477797.jpg\n",
      "Detection Probability :  0.0\n",
      "----- Count : 631 -----\n",
      " *** Image : rotation_Image_64460.jpg ***\n",
      "Image id :  Image_64460.jpg\n",
      "Detection Probability :  0\n",
      "----- Count : 632 -----\n",
      " *** Image : rotation_Image_222016.jpg ***\n",
      "Image id :  Image_222016.jpg\n"
     ]
    },
    {
     "name": "stderr",
     "output_type": "stream",
     "text": [
      " 16%|█▋        | 33/200 [00:03<00:17,  9.64it/s]"
     ]
    },
    {
     "name": "stdout",
     "output_type": "stream",
     "text": [
      "Detection Probability :  0.0\n",
      "----- Count : 633 -----\n",
      " *** Image : rotation_Image_179620.jpg ***\n",
      "Image id :  Image_179620.jpg\n",
      "Detection Probability :  0\n",
      "----- Count : 634 -----\n",
      " *** Image : rotation_Image_215481.jpg ***\n",
      "Image id :  Image_215481.jpg\n",
      "Detection Probability :  0.0\n",
      "----- Count : 635 -----\n",
      " *** Image : rotation_Image_491269.jpg ***\n",
      "Image id :  Image_491269.jpg\n"
     ]
    },
    {
     "name": "stderr",
     "output_type": "stream",
     "text": [
      " 18%|█▊        | 35/200 [00:03<00:16, 10.12it/s]"
     ]
    },
    {
     "name": "stdout",
     "output_type": "stream",
     "text": [
      "Detection Probability :  0\n",
      "----- Count : 636 -----\n",
      " *** Image : rotation_Image_270912.jpg ***\n",
      "Image id :  Image_270912.jpg\n",
      "Detection Probability :  0.0\n",
      "----- Count : 637 -----\n",
      " *** Image : rotation_Image_165499.jpg ***\n",
      "Image id :  Image_165499.jpg\n"
     ]
    },
    {
     "name": "stderr",
     "output_type": "stream",
     "text": [
      " 18%|█▊        | 37/200 [00:03<00:16,  9.62it/s]"
     ]
    },
    {
     "name": "stdout",
     "output_type": "stream",
     "text": [
      "Detection Probability :  0\n",
      "----- Count : 638 -----\n",
      " *** Image : rotation_Image_160559.jpg ***\n",
      "Image id :  Image_160559.jpg\n",
      "Detection Probability :  0\n",
      "----- Count : 639 -----\n",
      " *** Image : rotation_Image_377694.jpg ***\n",
      "Image id :  Image_377694.jpg\n"
     ]
    },
    {
     "name": "stderr",
     "output_type": "stream",
     "text": [
      " 20%|██        | 41/200 [00:04<00:16,  9.46it/s]"
     ]
    },
    {
     "name": "stdout",
     "output_type": "stream",
     "text": [
      "Detection Probability :  0.0\n",
      "----- Count : 640 -----\n",
      " *** Image : rotation_Image_309093.jpg ***\n",
      "Image id :  Image_309093.jpg\n",
      "Detection Probability :  0\n",
      "----- Count : 641 -----\n",
      " *** Image : rotation_Image_145179.jpg ***\n",
      "Image id :  Image_145179.jpg\n",
      "Detection Probability :  0.0\n",
      "----- Count : 642 -----\n",
      " *** Image : rotation_Image_412198.jpg ***\n",
      "Image id :  Image_412198.jpg\n"
     ]
    },
    {
     "name": "stderr",
     "output_type": "stream",
     "text": [
      " 22%|██▏       | 43/200 [00:04<00:17,  8.95it/s]"
     ]
    },
    {
     "name": "stdout",
     "output_type": "stream",
     "text": [
      "Detection Probability :  0.0\n",
      "----- Count : 643 -----\n",
      " *** Image : rotation_Image_486320.jpg ***\n",
      "Image id :  Image_486320.jpg\n",
      "Detection Probability :  0\n",
      "----- Count : 644 -----\n",
      " *** Image : rotation_Image_424102.jpg ***\n",
      "Image id :  Image_424102.jpg\n"
     ]
    },
    {
     "name": "stderr",
     "output_type": "stream",
     "text": [
      " 22%|██▎       | 45/200 [00:04<00:19,  7.97it/s]"
     ]
    },
    {
     "name": "stdout",
     "output_type": "stream",
     "text": [
      "Detection Probability :  0.0\n",
      "----- Count : 645 -----\n",
      " *** Image : rotation_Image_318574.jpg ***\n",
      "Image id :  Image_318574.jpg\n",
      "Detection Probability :  0\n",
      "----- Count : 646 -----\n",
      " *** Image : rotation_Image_299411.jpg ***\n",
      "Image id :  Image_299411.jpg\n"
     ]
    },
    {
     "name": "stderr",
     "output_type": "stream",
     "text": [
      " 24%|██▎       | 47/200 [00:04<00:19,  7.91it/s]"
     ]
    },
    {
     "name": "stdout",
     "output_type": "stream",
     "text": [
      "Detection Probability :  0.0\n",
      "----- Count : 647 -----\n",
      " *** Image : rotation_Image_313932.jpg ***\n",
      "Image id :  Image_313932.jpg\n",
      "Detection Probability :  0\n",
      "----- Count : 648 -----\n",
      " *** Image : rotation_Image_217306.jpg ***\n",
      "Image id :  Image_217306.jpg\n"
     ]
    },
    {
     "name": "stderr",
     "output_type": "stream",
     "text": [
      " 24%|██▍       | 48/200 [00:05<00:21,  7.10it/s]"
     ]
    },
    {
     "name": "stdout",
     "output_type": "stream",
     "text": [
      "Detection Probability :  0.0\n",
      "----- Count : 649 -----\n",
      " *** Image : rotation_Image_280260.jpg ***\n",
      "Image id :  Image_280260.jpg\n",
      "Detection Probability :  0\n",
      "----- Count : 650 -----\n",
      " *** Image : rotation_Image_576757.jpg ***\n",
      "Image id :  Image_576757.jpg\n",
      "Detection Probability :  0.0\n"
     ]
    },
    {
     "name": "stderr",
     "output_type": "stream",
     "text": [
      " 25%|██▌       | 50/200 [00:05<00:17,  8.50it/s]"
     ]
    },
    {
     "name": "stdout",
     "output_type": "stream",
     "text": [
      "----- Count : 651 -----\n",
      " *** Image : rotation_Image_426038.jpg ***\n",
      "Image id :  Image_426038.jpg\n",
      "Detection Probability :  0.0\n",
      "----- Count : 652 -----\n",
      " *** Image : rotation_Image_289019.jpg ***\n",
      "Image id :  Image_289019.jpg\n"
     ]
    },
    {
     "name": "stderr",
     "output_type": "stream",
     "text": [
      " 26%|██▋       | 53/200 [00:05<00:19,  7.64it/s]"
     ]
    },
    {
     "name": "stdout",
     "output_type": "stream",
     "text": [
      "Detection Probability :  0\n",
      "----- Count : 653 -----\n",
      " *** Image : rotation_Image_523617.jpg ***\n",
      "Image id :  Image_523617.jpg\n",
      "Detection Probability :  0.0\n",
      "----- Count : 654 -----\n",
      " *** Image : rotation_Image_95133.jpg ***\n",
      "Image id :  Image_95133.jpg\n"
     ]
    },
    {
     "name": "stderr",
     "output_type": "stream",
     "text": [
      " 27%|██▋       | 54/200 [00:05<00:18,  7.86it/s]"
     ]
    },
    {
     "name": "stdout",
     "output_type": "stream",
     "text": [
      "Detection Probability :  0\n",
      "----- Count : 655 -----\n",
      " *** Image : rotation_Image_122108.jpg ***\n",
      "Image id :  Image_122108.jpg\n",
      "Detection Probability :  0.0\n",
      "----- Count : 656 -----\n",
      " *** Image : rotation_Image_262845.jpg ***\n",
      "Image id :  Image_262845.jpg\n"
     ]
    },
    {
     "name": "stderr",
     "output_type": "stream",
     "text": [
      " 28%|██▊       | 56/200 [00:06<00:17,  8.28it/s]"
     ]
    },
    {
     "name": "stdout",
     "output_type": "stream",
     "text": [
      "Detection Probability :  0.0\n",
      "----- Count : 657 -----\n",
      " *** Image : rotation_Image_388911.jpg ***\n",
      "Image id :  Image_388911.jpg\n",
      "Detection Probability :  0.0\n",
      "----- Count : 658 -----\n",
      " *** Image : rotation_Image_2024.jpg ***\n",
      "Image id :  Image_2024.jpg\n"
     ]
    },
    {
     "name": "stderr",
     "output_type": "stream",
     "text": [
      " 30%|███       | 60/200 [00:06<00:15,  9.32it/s]"
     ]
    },
    {
     "name": "stdout",
     "output_type": "stream",
     "text": [
      "Detection Probability :  0.0\n",
      "----- Count : 659 -----\n",
      " *** Image : rotation_Image_287541.jpg ***\n",
      "Image id :  Image_287541.jpg\n",
      "Detection Probability :  0.0\n",
      "----- Count : 660 -----\n",
      " *** Image : rotation_Image_520950.jpg ***\n",
      "Image id :  Image_520950.jpg\n",
      "Detection Probability :  0\n",
      "----- Count : 661 -----\n",
      " *** Image : rotation_Image_109424.jpg ***\n",
      "Image id :  Image_109424.jpg\n"
     ]
    },
    {
     "name": "stderr",
     "output_type": "stream",
     "text": [
      " 31%|███       | 62/200 [00:06<00:14,  9.53it/s]"
     ]
    },
    {
     "name": "stdout",
     "output_type": "stream",
     "text": [
      "Detection Probability :  0\n",
      "----- Count : 662 -----\n",
      " *** Image : rotation_Image_153674.jpg ***\n",
      "Image id :  Image_153674.jpg\n",
      "Detection Probability :  0\n",
      "----- Count : 663 -----\n",
      " *** Image : rotation_Image_387083.jpg ***\n",
      "Image id :  Image_387083.jpg\n"
     ]
    },
    {
     "name": "stderr",
     "output_type": "stream",
     "text": [
      " 32%|███▏      | 63/200 [00:06<00:14,  9.45it/s]"
     ]
    },
    {
     "name": "stdout",
     "output_type": "stream",
     "text": [
      "Detection Probability :  0.0\n",
      "----- Count : 664 -----\n",
      " *** Image : rotation_Image_70000.jpg ***\n",
      "Image id :  Image_70000.jpg\n",
      "Detection Probability :  0.0\n",
      "----- Count : 665 -----\n",
      " *** Image : rotation_Image_469605.jpg ***\n",
      "Image id :  Image_469605.jpg\n"
     ]
    },
    {
     "name": "stderr",
     "output_type": "stream",
     "text": [
      " 32%|███▎      | 65/200 [00:07<00:16,  8.25it/s]"
     ]
    },
    {
     "name": "stdout",
     "output_type": "stream",
     "text": [
      "Detection Probability :  0.0\n",
      "----- Count : 666 -----\n",
      " *** Image : rotation_Image_535786.jpg ***\n",
      "Image id :  Image_535786.jpg\n",
      "Detection Probability :  0.0\n",
      "----- Count : 667 -----\n",
      " *** Image : rotation_Image_388754.jpg ***\n",
      "Image id :  Image_388754.jpg\n"
     ]
    },
    {
     "name": "stderr",
     "output_type": "stream",
     "text": [
      " 34%|███▍      | 68/200 [00:07<00:15,  8.34it/s]"
     ]
    },
    {
     "name": "stdout",
     "output_type": "stream",
     "text": [
      "Detection Probability :  0.0\n",
      "----- Count : 668 -----\n",
      " *** Image : rotation_Image_446014.jpg ***\n",
      "Image id :  Image_446014.jpg\n",
      "Detection Probability :  0.0\n",
      "----- Count : 669 -----\n",
      " *** Image : rotation_Image_405613.jpg ***\n",
      "Image id :  Image_405613.jpg\n"
     ]
    },
    {
     "name": "stderr",
     "output_type": "stream",
     "text": [
      " 36%|███▌      | 71/200 [00:07<00:13,  9.49it/s]"
     ]
    },
    {
     "name": "stdout",
     "output_type": "stream",
     "text": [
      "Detection Probability :  0.0\n",
      "----- Count : 670 -----\n",
      " *** Image : rotation_Image_277854.jpg ***\n",
      "Image id :  Image_277854.jpg\n",
      "Detection Probability :  0.0\n",
      "----- Count : 671 -----\n",
      " *** Image : rotation_Image_167613.jpg ***\n",
      "Image id :  Image_167613.jpg\n",
      "Detection Probability :  0.0\n",
      "----- Count : 672 -----\n",
      " *** Image : rotation_Image_186233.jpg ***\n",
      "Image id :  Image_186233.jpg\n"
     ]
    },
    {
     "name": "stderr",
     "output_type": "stream",
     "text": [
      " 36%|███▋      | 73/200 [00:07<00:14,  8.85it/s]"
     ]
    },
    {
     "name": "stdout",
     "output_type": "stream",
     "text": [
      "Detection Probability :  0\n",
      "----- Count : 673 -----\n",
      " *** Image : rotation_Image_236772.jpg ***\n",
      "Image id :  Image_236772.jpg\n",
      "Detection Probability :  0.0\n",
      "----- Count : 674 -----\n",
      " *** Image : rotation_Image_77806.jpg ***\n",
      "Image id :  Image_77806.jpg\n"
     ]
    },
    {
     "name": "stderr",
     "output_type": "stream",
     "text": [
      " 38%|███▊      | 76/200 [00:08<00:13,  9.10it/s]"
     ]
    },
    {
     "name": "stdout",
     "output_type": "stream",
     "text": [
      "Detection Probability :  0.0\n",
      "----- Count : 675 -----\n",
      " *** Image : rotation_Image_528906.jpg ***\n",
      "Image id :  Image_528906.jpg\n",
      "Detection Probability :  0.0\n",
      "----- Count : 676 -----\n",
      " *** Image : rotation_Image_150867.jpg ***\n",
      "Image id :  Image_150867.jpg\n",
      "Detection Probability :  0.0\n",
      "----- Count : 677 -----\n",
      " *** Image : rotation_Image_357684.jpg ***\n",
      "Image id :  Image_357684.jpg\n"
     ]
    },
    {
     "name": "stderr",
     "output_type": "stream",
     "text": [
      " 39%|███▉      | 78/200 [00:08<00:12,  9.75it/s]"
     ]
    },
    {
     "name": "stdout",
     "output_type": "stream",
     "text": [
      "Detection Probability :  0.0\n",
      "----- Count : 678 -----\n",
      " *** Image : rotation_Image_483008.jpg ***\n",
      "Image id :  Image_483008.jpg\n",
      "Detection Probability :  0.0\n",
      "----- Count : 679 -----\n",
      " *** Image : rotation_Image_371029.jpg ***\n",
      "Image id :  Image_371029.jpg\n"
     ]
    },
    {
     "name": "stderr",
     "output_type": "stream",
     "text": [
      " 40%|████      | 81/200 [00:08<00:11, 10.16it/s]"
     ]
    },
    {
     "name": "stdout",
     "output_type": "stream",
     "text": [
      "Detection Probability :  0.0\n",
      "----- Count : 680 -----\n",
      " *** Image : rotation_Image_344806.jpg ***\n",
      "Image id :  Image_344806.jpg\n",
      "Detection Probability :  0.0\n",
      "----- Count : 681 -----\n",
      " *** Image : rotation_Image_90570.jpg ***\n",
      "Image id :  Image_90570.jpg\n",
      "Detection Probability :  0.0\n",
      "----- Count : 682 -----\n",
      " *** Image : rotation_Image_483751.jpg ***\n",
      "Image id :  Image_483751.jpg\n"
     ]
    },
    {
     "name": "stderr",
     "output_type": "stream",
     "text": [
      " 42%|████▏     | 83/200 [00:08<00:11, 10.34it/s]"
     ]
    },
    {
     "name": "stdout",
     "output_type": "stream",
     "text": [
      "Detection Probability :  0\n",
      "----- Count : 683 -----\n",
      " *** Image : rotation_Image_399956.jpg ***\n",
      "Image id :  Image_399956.jpg\n",
      "Detection Probability :  0.0\n",
      "----- Count : 684 -----\n",
      " *** Image : rotation_Image_496939.jpg ***\n",
      "Image id :  Image_496939.jpg\n",
      "Detection Probability :  0.0\n",
      "----- Count : 685 -----\n",
      " *** Image : rotation_Image_343322.jpg ***\n",
      "Image id :  Image_343322.jpg\n"
     ]
    },
    {
     "name": "stderr",
     "output_type": "stream",
     "text": [
      " 42%|████▎     | 85/200 [00:09<00:10, 10.84it/s]"
     ]
    },
    {
     "name": "stdout",
     "output_type": "stream",
     "text": [
      "Detection Probability :  0.0\n",
      "----- Count : 686 -----\n",
      " *** Image : rotation_Image_223726.jpg ***\n",
      "Image id :  Image_223726.jpg\n",
      "Detection Probability :  0\n",
      "----- Count : 687 -----\n",
      " *** Image : rotation_Image_316676.jpg ***\n",
      "Image id :  Image_316676.jpg\n"
     ]
    },
    {
     "name": "stderr",
     "output_type": "stream",
     "text": [
      " 44%|████▍     | 89/200 [00:09<00:10, 10.66it/s]"
     ]
    },
    {
     "name": "stdout",
     "output_type": "stream",
     "text": [
      "Detection Probability :  0.0\n",
      "----- Count : 688 -----\n",
      " *** Image : rotation_Image_279108.jpg ***\n",
      "Image id :  Image_279108.jpg\n",
      "Detection Probability :  0.0\n",
      "----- Count : 689 -----\n",
      " *** Image : rotation_Image_36633.jpg ***\n",
      "Image id :  Image_36633.jpg\n",
      "Detection Probability :  0\n",
      "----- Count : 690 -----\n",
      " *** Image : rotation_Image_280980.jpg ***\n",
      "Image id :  Image_280980.jpg\n"
     ]
    },
    {
     "name": "stderr",
     "output_type": "stream",
     "text": [
      " 46%|████▌     | 91/200 [00:09<00:10, 10.45it/s]"
     ]
    },
    {
     "name": "stdout",
     "output_type": "stream",
     "text": [
      "Detection Probability :  0.0\n",
      "----- Count : 691 -----\n",
      " *** Image : rotation_Image_147016.jpg ***\n",
      "Image id :  Image_147016.jpg\n",
      "Detection Probability :  0.0\n",
      "----- Count : 692 -----\n",
      " *** Image : rotation_Image_287927.jpg ***\n",
      "Image id :  Image_287927.jpg\n",
      "Detection Probability :  0.0\n",
      "----- Count : 693 -----\n",
      " *** Image : rotation_Image_301778.jpg ***\n",
      "Image id :  Image_301778.jpg\n"
     ]
    },
    {
     "name": "stderr",
     "output_type": "stream",
     "text": [
      " 48%|████▊     | 95/200 [00:10<00:09, 10.72it/s]"
     ]
    },
    {
     "name": "stdout",
     "output_type": "stream",
     "text": [
      "Detection Probability :  0.0\n",
      "----- Count : 694 -----\n",
      " *** Image : rotation_Image_496283.jpg ***\n",
      "Image id :  Image_496283.jpg\n",
      "Detection Probability :  0.0\n",
      "----- Count : 695 -----\n",
      " *** Image : rotation_Image_160163.jpg ***\n",
      "Image id :  Image_160163.jpg\n",
      "Detection Probability :  0.0\n",
      "----- Count : 696 -----\n",
      " *** Image : rotation_Image_409513.jpg ***\n",
      "Image id :  Image_409513.jpg\n"
     ]
    },
    {
     "name": "stderr",
     "output_type": "stream",
     "text": [
      " 48%|████▊     | 97/200 [00:10<00:10,  9.85it/s]"
     ]
    },
    {
     "name": "stdout",
     "output_type": "stream",
     "text": [
      "Detection Probability :  0.0\n",
      "----- Count : 697 -----\n",
      " *** Image : rotation_Image_536587.jpg ***\n",
      "Image id :  Image_536587.jpg\n",
      "Detection Probability :  0.0\n",
      "----- Count : 698 -----\n",
      " *** Image : rotation_Image_210932.jpg ***\n",
      "Image id :  Image_210932.jpg\n"
     ]
    },
    {
     "name": "stderr",
     "output_type": "stream",
     "text": [
      " 50%|████▉     | 99/200 [00:10<00:10,  9.46it/s]"
     ]
    },
    {
     "name": "stdout",
     "output_type": "stream",
     "text": [
      "Detection Probability :  0.0\n",
      "----- Count : 699 -----\n",
      " *** Image : rotation_Image_438422.jpg ***\n",
      "Image id :  Image_438422.jpg\n",
      "Detection Probability :  0.0\n",
      "----- Count : 700 -----\n",
      " *** Image : rotation_Image_524068.jpg ***\n",
      "Image id :  Image_524068.jpg\n"
     ]
    },
    {
     "name": "stderr",
     "output_type": "stream",
     "text": [
      " 50%|█████     | 101/200 [00:10<00:10,  9.32it/s]"
     ]
    },
    {
     "name": "stdout",
     "output_type": "stream",
     "text": [
      "Detection Probability :  0.0\n",
      "----- Count : 701 -----\n",
      " *** Image : rotation_Image_259446.jpg ***\n",
      "Image id :  Image_259446.jpg\n",
      "Detection Probability :  0\n",
      "----- Count : 702 -----\n",
      " *** Image : rotation_Image_520208.jpg ***\n",
      "Image id :  Image_520208.jpg\n"
     ]
    },
    {
     "name": "stderr",
     "output_type": "stream",
     "text": [
      " 52%|█████▏    | 103/200 [00:11<00:11,  8.63it/s]"
     ]
    },
    {
     "name": "stdout",
     "output_type": "stream",
     "text": [
      "Detection Probability :  0.0\n",
      "----- Count : 703 -----\n",
      " *** Image : rotation_Image_420721.jpg ***\n",
      "Image id :  Image_420721.jpg\n",
      "Detection Probability :  0.0\n",
      "----- Count : 704 -----\n",
      " *** Image : rotation_Image_560628.jpg ***\n",
      "Image id :  Image_560628.jpg\n"
     ]
    },
    {
     "name": "stderr",
     "output_type": "stream",
     "text": [
      " 53%|█████▎    | 106/200 [00:11<00:09,  9.50it/s]"
     ]
    },
    {
     "name": "stdout",
     "output_type": "stream",
     "text": [
      "Detection Probability :  0.0\n",
      "----- Count : 705 -----\n",
      " *** Image : rotation_Image_505126.jpg ***\n",
      "Image id :  Image_505126.jpg\n",
      "Detection Probability :  0\n",
      "----- Count : 706 -----\n",
      " *** Image : rotation_Image_265709.jpg ***\n",
      "Image id :  Image_265709.jpg\n",
      "Detection Probability :  0\n",
      "----- Count : 707 -----\n",
      " *** Image : rotation_Image_393493.jpg ***\n",
      "Image id :  Image_393493.jpg\n"
     ]
    },
    {
     "name": "stderr",
     "output_type": "stream",
     "text": [
      " 54%|█████▍    | 108/200 [00:11<00:09,  9.59it/s]"
     ]
    },
    {
     "name": "stdout",
     "output_type": "stream",
     "text": [
      "Detection Probability :  0.0\n",
      "----- Count : 708 -----\n",
      " *** Image : rotation_Image_49183.jpg ***\n",
      "Image id :  Image_49183.jpg\n",
      "Detection Probability :  0.0\n",
      "----- Count : 709 -----\n",
      " *** Image : rotation_Image_448698.jpg ***\n",
      "Image id :  Image_448698.jpg\n",
      "Detection Probability :  0.0\n",
      "----- Count : 710 -----\n",
      " *** Image : rotation_Image_167603.jpg ***\n",
      "Image id :  Image_167603.jpg\n"
     ]
    },
    {
     "name": "stderr",
     "output_type": "stream",
     "text": [
      " 56%|█████▌    | 111/200 [00:11<00:09,  9.25it/s]"
     ]
    },
    {
     "name": "stdout",
     "output_type": "stream",
     "text": [
      "Detection Probability :  0.0\n",
      "----- Count : 711 -----\n",
      " *** Image : rotation_Image_326511.jpg ***\n",
      "Image id :  Image_326511.jpg\n",
      "Detection Probability :  0\n",
      "----- Count : 712 -----\n",
      " *** Image : rotation_Image_556801.jpg ***\n",
      "Image id :  Image_556801.jpg\n"
     ]
    },
    {
     "name": "stderr",
     "output_type": "stream",
     "text": [
      " 56%|█████▌    | 112/200 [00:12<00:09,  9.16it/s]"
     ]
    },
    {
     "name": "stdout",
     "output_type": "stream",
     "text": [
      "Detection Probability :  0\n",
      "----- Count : 713 -----\n",
      " *** Image : rotation_Image_246804.jpg ***\n",
      "Image id :  Image_246804.jpg\n",
      "Detection Probability :  0\n",
      "----- Count : 714 -----\n",
      " *** Image : rotation_Image_378710.jpg ***\n",
      "Image id :  Image_378710.jpg\n"
     ]
    },
    {
     "name": "stderr",
     "output_type": "stream",
     "text": [
      " 57%|█████▊    | 115/200 [00:12<00:10,  8.47it/s]"
     ]
    },
    {
     "name": "stdout",
     "output_type": "stream",
     "text": [
      "Detection Probability :  0.0\n",
      "----- Count : 715 -----\n",
      " *** Image : rotation_Image_18885.jpg ***\n",
      "Image id :  Image_18885.jpg\n",
      "Detection Probability :  0\n",
      "----- Count : 716 -----\n",
      " *** Image : rotation_Image_66514.jpg ***\n",
      "Image id :  Image_66514.jpg\n",
      "Detection Probability :  0.0\n",
      "----- Count : 717 -----\n",
      " *** Image : rotation_Image_19380.jpg ***\n",
      "Image id :  Image_19380.jpg\n"
     ]
    },
    {
     "name": "stderr",
     "output_type": "stream",
     "text": [
      " 60%|█████▉    | 119/200 [00:12<00:08,  9.47it/s]"
     ]
    },
    {
     "name": "stdout",
     "output_type": "stream",
     "text": [
      "Detection Probability :  0\n",
      "----- Count : 718 -----\n",
      " *** Image : rotation_Image_374114.jpg ***\n",
      "Image id :  Image_374114.jpg\n",
      "Detection Probability :  0.0\n",
      "----- Count : 719 -----\n",
      " *** Image : rotation_Image_96557.jpg ***\n",
      "Image id :  Image_96557.jpg\n",
      "Detection Probability :  0\n",
      "----- Count : 720 -----\n",
      " *** Image : rotation_Image_559527.jpg ***\n",
      "Image id :  Image_559527.jpg\n"
     ]
    },
    {
     "name": "stderr",
     "output_type": "stream",
     "text": [
      " 60%|██████    | 121/200 [00:12<00:07, 10.20it/s]"
     ]
    },
    {
     "name": "stdout",
     "output_type": "stream",
     "text": [
      "Detection Probability :  0\n",
      "----- Count : 721 -----\n",
      " *** Image : rotation_Image_444546.jpg ***\n",
      "Image id :  Image_444546.jpg\n",
      "Detection Probability :  0.0\n",
      "----- Count : 722 -----\n",
      " *** Image : rotation_Image_398494.jpg ***\n",
      "Image id :  Image_398494.jpg\n"
     ]
    },
    {
     "name": "stderr",
     "output_type": "stream",
     "text": [
      " 62%|██████▏   | 123/200 [00:13<00:07,  9.86it/s]"
     ]
    },
    {
     "name": "stdout",
     "output_type": "stream",
     "text": [
      "Detection Probability :  0.0\n",
      "----- Count : 723 -----\n",
      " *** Image : rotation_Image_181104.jpg ***\n",
      "Image id :  Image_181104.jpg\n",
      "Detection Probability :  0.0\n",
      "----- Count : 724 -----\n",
      " *** Image : rotation_Image_354444.jpg ***\n",
      "Image id :  Image_354444.jpg\n",
      "Detection Probability :  0.0\n",
      "----- Count : 725 -----\n",
      " *** Image : rotation_Image_497616.jpg ***\n",
      "Image id :  Image_497616.jpg\n"
     ]
    },
    {
     "name": "stderr",
     "output_type": "stream",
     "text": [
      " 64%|██████▎   | 127/200 [00:13<00:06, 11.05it/s]"
     ]
    },
    {
     "name": "stdout",
     "output_type": "stream",
     "text": [
      "Detection Probability :  0.0\n",
      "----- Count : 726 -----\n",
      " *** Image : rotation_Image_225750.jpg ***\n",
      "Image id :  Image_225750.jpg\n",
      "Detection Probability :  0\n",
      "----- Count : 727 -----\n",
      " *** Image : rotation_Image_303291.jpg ***\n",
      "Image id :  Image_303291.jpg\n",
      "Detection Probability :  0.0\n",
      "----- Count : 728 -----\n",
      " *** Image : rotation_Image_467311.jpg ***\n",
      "Image id :  Image_467311.jpg\n"
     ]
    },
    {
     "name": "stderr",
     "output_type": "stream",
     "text": [
      " 64%|██████▍   | 129/200 [00:13<00:06, 11.28it/s]"
     ]
    },
    {
     "name": "stdout",
     "output_type": "stream",
     "text": [
      "Detection Probability :  0.0\n",
      "----- Count : 729 -----\n",
      " *** Image : rotation_Image_445528.jpg ***\n",
      "Image id :  Image_445528.jpg\n",
      "Detection Probability :  0\n",
      "----- Count : 730 -----\n",
      " *** Image : rotation_Image_42493.jpg ***\n",
      "Image id :  Image_42493.jpg\n",
      "Detection Probability :  0.0\n",
      "----- Count : 731 -----\n",
      " *** Image : rotation_Image_384029.jpg ***\n",
      "Image id :  Image_384029.jpg\n"
     ]
    },
    {
     "name": "stderr",
     "output_type": "stream",
     "text": [
      " 66%|██████▋   | 133/200 [00:14<00:06, 11.13it/s]"
     ]
    },
    {
     "name": "stdout",
     "output_type": "stream",
     "text": [
      "Detection Probability :  0.0\n",
      "----- Count : 732 -----\n",
      " *** Image : rotation_Image_168194.jpg ***\n",
      "Image id :  Image_168194.jpg\n",
      "Detection Probability :  0.0\n",
      "----- Count : 733 -----\n",
      " *** Image : rotation_Image_492386.jpg ***\n",
      "Image id :  Image_492386.jpg\n",
      "Detection Probability :  0.0\n",
      "----- Count : 734 -----\n",
      " *** Image : rotation_Image_472925.jpg ***\n",
      "Image id :  Image_472925.jpg\n"
     ]
    },
    {
     "name": "stderr",
     "output_type": "stream",
     "text": [
      " 68%|██████▊   | 135/200 [00:14<00:05, 11.91it/s]"
     ]
    },
    {
     "name": "stdout",
     "output_type": "stream",
     "text": [
      "Detection Probability :  0\n",
      "----- Count : 735 -----\n",
      " *** Image : rotation_Image_278347.jpg ***\n",
      "Image id :  Image_278347.jpg\n",
      "Detection Probability :  0.0\n",
      "----- Count : 736 -----\n",
      " *** Image : rotation_Image_98760.jpg ***\n",
      "Image id :  Image_98760.jpg\n",
      "Detection Probability :  0.0\n",
      "----- Count : 737 -----\n",
      " *** Image : rotation_Image_356702.jpg ***\n",
      "Image id :  Image_356702.jpg\n"
     ]
    },
    {
     "name": "stderr",
     "output_type": "stream",
     "text": [
      " 70%|██████▉   | 139/200 [00:14<00:05, 11.56it/s]"
     ]
    },
    {
     "name": "stdout",
     "output_type": "stream",
     "text": [
      "Detection Probability :  0.0\n",
      "----- Count : 738 -----\n",
      " *** Image : rotation_Image_199628.jpg ***\n",
      "Image id :  Image_199628.jpg\n",
      "Detection Probability :  0\n",
      "----- Count : 739 -----\n",
      " *** Image : rotation_Image_70868.jpg ***\n",
      "Image id :  Image_70868.jpg\n",
      "Detection Probability :  0.0\n",
      "----- Count : 740 -----\n",
      " *** Image : rotation_Image_37015.jpg ***\n",
      "Image id :  Image_37015.jpg\n"
     ]
    },
    {
     "name": "stderr",
     "output_type": "stream",
     "text": [
      " 70%|███████   | 141/200 [00:14<00:05, 11.36it/s]"
     ]
    },
    {
     "name": "stdout",
     "output_type": "stream",
     "text": [
      "Detection Probability :  0\n",
      "----- Count : 741 -----\n",
      " *** Image : rotation_Image_62604.jpg ***\n",
      "Image id :  Image_62604.jpg\n",
      "Detection Probability :  0\n",
      "----- Count : 742 -----\n",
      " *** Image : rotation_Image_189993.jpg ***\n",
      "Image id :  Image_189993.jpg\n",
      "Detection Probability :  0\n",
      "----- Count : 743 -----\n",
      " *** Image : rotation_Image_161919.jpg ***\n",
      "Image id :  Image_161919.jpg\n"
     ]
    },
    {
     "name": "stderr",
     "output_type": "stream",
     "text": [
      " 72%|███████▎  | 145/200 [00:15<00:05, 10.87it/s]"
     ]
    },
    {
     "name": "stdout",
     "output_type": "stream",
     "text": [
      "Detection Probability :  0.0\n",
      "----- Count : 744 -----\n",
      " *** Image : rotation_Image_392136.jpg ***\n",
      "Image id :  Image_392136.jpg\n",
      "Detection Probability :  0.0\n",
      "----- Count : 745 -----\n",
      " *** Image : rotation_Image_551125.jpg ***\n",
      "Image id :  Image_551125.jpg\n",
      "Detection Probability :  0.0\n",
      "----- Count : 746 -----\n",
      " *** Image : rotation_Image_345781.jpg ***\n",
      "Image id :  Image_345781.jpg\n"
     ]
    },
    {
     "name": "stderr",
     "output_type": "stream",
     "text": [
      " 74%|███████▎  | 147/200 [00:15<00:04, 11.19it/s]"
     ]
    },
    {
     "name": "stdout",
     "output_type": "stream",
     "text": [
      "Detection Probability :  0\n",
      "----- Count : 747 -----\n",
      " *** Image : rotation_Image_365363.jpg ***\n",
      "Image id :  Image_365363.jpg\n",
      "Detection Probability :  0.0\n",
      "----- Count : 748 -----\n",
      " *** Image : rotation_Image_394326.jpg ***\n",
      "Image id :  Image_394326.jpg\n",
      "Detection Probability :  0.0\n",
      "----- Count : 749 -----\n",
      " *** Image : rotation_Image_172899.jpg ***\n",
      "Image id :  Image_172899.jpg\n"
     ]
    },
    {
     "name": "stderr",
     "output_type": "stream",
     "text": [
      " 76%|███████▌  | 151/200 [00:15<00:04, 11.15it/s]"
     ]
    },
    {
     "name": "stdout",
     "output_type": "stream",
     "text": [
      "Detection Probability :  0.0\n",
      "----- Count : 750 -----\n",
      " *** Image : rotation_Image_218956.jpg ***\n",
      "Image id :  Image_218956.jpg\n",
      "Detection Probability :  0.0\n",
      "----- Count : 751 -----\n",
      " *** Image : rotation_Image_57870.jpg ***\n",
      "Image id :  Image_57870.jpg\n",
      "Detection Probability :  0\n",
      "----- Count : 752 -----\n",
      " *** Image : rotation_Image_44404.jpg ***\n",
      "Image id :  Image_44404.jpg\n"
     ]
    },
    {
     "name": "stderr",
     "output_type": "stream",
     "text": [
      " 76%|███████▋  | 153/200 [00:15<00:04, 10.96it/s]"
     ]
    },
    {
     "name": "stdout",
     "output_type": "stream",
     "text": [
      "Detection Probability :  0.0\n",
      "----- Count : 753 -----\n",
      " *** Image : rotation_Image_155845.jpg ***\n",
      "Image id :  Image_155845.jpg\n",
      "Detection Probability :  0.0\n",
      "----- Count : 754 -----\n",
      " *** Image : rotation_Image_147303.jpg ***\n",
      "Image id :  Image_147303.jpg\n",
      "Detection Probability :  0\n",
      "----- Count : 755 -----\n",
      " *** Image : rotation_Image_84427.jpg ***\n",
      "Image id :  Image_84427.jpg\n"
     ]
    },
    {
     "name": "stderr",
     "output_type": "stream",
     "text": [
      " 78%|███████▊  | 157/200 [00:16<00:03, 12.35it/s]"
     ]
    },
    {
     "name": "stdout",
     "output_type": "stream",
     "text": [
      "Detection Probability :  0.0\n",
      "----- Count : 756 -----\n",
      " *** Image : rotation_Image_525589.jpg ***\n",
      "Image id :  Image_525589.jpg\n",
      "Detection Probability :  0.0\n",
      "----- Count : 757 -----\n",
      " *** Image : rotation_Image_246446.jpg ***\n",
      "Image id :  Image_246446.jpg\n",
      "Detection Probability :  0.0\n",
      "----- Count : 758 -----\n",
      " *** Image : rotation_Image_101418.jpg ***\n",
      "Image id :  Image_101418.jpg\n"
     ]
    },
    {
     "name": "stderr",
     "output_type": "stream",
     "text": [
      " 80%|███████▉  | 159/200 [00:16<00:03, 11.87it/s]"
     ]
    },
    {
     "name": "stdout",
     "output_type": "stream",
     "text": [
      "Detection Probability :  0\n",
      "----- Count : 759 -----\n",
      " *** Image : rotation_Image_85685.jpg ***\n",
      "Image id :  Image_85685.jpg\n",
      "Detection Probability :  0.0\n",
      "----- Count : 760 -----\n",
      " *** Image : rotation_Image_441488.jpg ***\n",
      "Image id :  Image_441488.jpg\n"
     ]
    },
    {
     "name": "stderr",
     "output_type": "stream",
     "text": [
      " 80%|████████  | 161/200 [00:16<00:03, 12.12it/s]"
     ]
    },
    {
     "name": "stdout",
     "output_type": "stream",
     "text": [
      "Detection Probability :  0.0\n",
      "----- Count : 761 -----\n",
      " *** Image : rotation_Image_546451.jpg ***\n",
      "Image id :  Image_546451.jpg\n",
      "Detection Probability :  0.0\n",
      "----- Count : 762 -----\n",
      " *** Image : rotation_Image_540162.jpg ***\n",
      "Image id :  Image_540162.jpg\n",
      "Detection Probability :  0.0\n",
      "----- Count : 763 -----\n",
      " *** Image : rotation_Image_283524.jpg ***\n",
      "Image id :  Image_283524.jpg\n"
     ]
    },
    {
     "name": "stderr",
     "output_type": "stream",
     "text": [
      " 82%|████████▎ | 165/200 [00:16<00:02, 12.61it/s]"
     ]
    },
    {
     "name": "stdout",
     "output_type": "stream",
     "text": [
      "Detection Probability :  0.0\n",
      "----- Count : 764 -----\n",
      " *** Image : rotation_Image_55627.jpg ***\n",
      "Image id :  Image_55627.jpg\n",
      "Detection Probability :  0.0\n",
      "----- Count : 765 -----\n",
      " *** Image : rotation_Image_219025.jpg ***\n",
      "Image id :  Image_219025.jpg\n",
      "Detection Probability :  0.0\n",
      "----- Count : 766 -----\n",
      " *** Image : rotation_Image_576801.jpg ***\n",
      "Image id :  Image_576801.jpg\n"
     ]
    },
    {
     "name": "stderr",
     "output_type": "stream",
     "text": [
      " 84%|████████▎ | 167/200 [00:16<00:02, 12.28it/s]"
     ]
    },
    {
     "name": "stdout",
     "output_type": "stream",
     "text": [
      "Detection Probability :  0\n",
      "----- Count : 767 -----\n",
      " *** Image : rotation_Image_79481.jpg ***\n",
      "Image id :  Image_79481.jpg\n",
      "Detection Probability :  0\n",
      "----- Count : 768 -----\n",
      " *** Image : rotation_Image_153946.jpg ***\n",
      "Image id :  Image_153946.jpg\n",
      "Detection Probability :  0.0\n",
      "----- Count : 769 -----\n",
      " *** Image : rotation_Image_214704.jpg ***\n",
      "Image id :  Image_214704.jpg\n"
     ]
    },
    {
     "name": "stderr",
     "output_type": "stream",
     "text": [
      " 86%|████████▌ | 171/200 [00:17<00:02, 11.71it/s]"
     ]
    },
    {
     "name": "stdout",
     "output_type": "stream",
     "text": [
      "Detection Probability :  0.0\n",
      "----- Count : 770 -----\n",
      " *** Image : rotation_Image_8649.jpg ***\n",
      "Image id :  Image_8649.jpg\n",
      "Detection Probability :  0.0\n",
      "----- Count : 771 -----\n",
      " *** Image : rotation_Image_147170.jpg ***\n",
      "Image id :  Image_147170.jpg\n",
      "Detection Probability :  0.0\n",
      "----- Count : 772 -----\n",
      " *** Image : rotation_Image_157032.jpg ***\n",
      "Image id :  Image_157032.jpg\n"
     ]
    },
    {
     "name": "stderr",
     "output_type": "stream",
     "text": [
      " 86%|████████▋ | 173/200 [00:17<00:02, 12.06it/s]"
     ]
    },
    {
     "name": "stdout",
     "output_type": "stream",
     "text": [
      "Detection Probability :  0.0\n",
      "----- Count : 773 -----\n",
      " *** Image : rotation_Image_108627.jpg ***\n",
      "Image id :  Image_108627.jpg\n",
      "Detection Probability :  0.0\n",
      "----- Count : 774 -----\n",
      " *** Image : rotation_Image_334080.jpg ***\n",
      "Image id :  Image_334080.jpg\n",
      "Detection Probability :  0\n",
      "----- Count : 775 -----\n",
      " *** Image : rotation_Image_504616.jpg ***\n",
      "Image id :  Image_504616.jpg\n"
     ]
    },
    {
     "name": "stderr",
     "output_type": "stream",
     "text": [
      " 88%|████████▊ | 175/200 [00:17<00:02, 11.86it/s]"
     ]
    },
    {
     "name": "stdout",
     "output_type": "stream",
     "text": [
      "Detection Probability :  0.0\n",
      "----- Count : 776 -----\n",
      " *** Image : rotation_Image_4428.jpg ***\n",
      "Image id :  Image_4428.jpg\n",
      "Detection Probability :  0.0\n",
      "----- Count : 777 -----\n",
      " *** Image : rotation_Image_513541.jpg ***\n",
      "Image id :  Image_513541.jpg\n"
     ]
    },
    {
     "name": "stderr",
     "output_type": "stream",
     "text": [
      " 90%|████████▉ | 179/200 [00:18<00:02, 10.22it/s]"
     ]
    },
    {
     "name": "stdout",
     "output_type": "stream",
     "text": [
      "Detection Probability :  0.0\n",
      "----- Count : 778 -----\n",
      " *** Image : rotation_Image_543877.jpg ***\n",
      "Image id :  Image_543877.jpg\n",
      "Detection Probability :  0.0\n",
      "----- Count : 779 -----\n",
      " *** Image : rotation_Image_570246.jpg ***\n",
      "Image id :  Image_570246.jpg\n",
      "Detection Probability :  0.0\n",
      "----- Count : 780 -----\n",
      " *** Image : rotation_Image_581674.jpg ***\n",
      "Image id :  Image_581674.jpg\n"
     ]
    },
    {
     "name": "stderr",
     "output_type": "stream",
     "text": [
      " 90%|█████████ | 181/200 [00:18<00:01, 10.80it/s]"
     ]
    },
    {
     "name": "stdout",
     "output_type": "stream",
     "text": [
      "Detection Probability :  0.0\n",
      "----- Count : 781 -----\n",
      " *** Image : rotation_Image_409382.jpg ***\n",
      "Image id :  Image_409382.jpg\n",
      "Detection Probability :  0.0\n",
      "----- Count : 782 -----\n",
      " *** Image : rotation_Image_257350.jpg ***\n",
      "Image id :  Image_257350.jpg\n",
      "Detection Probability :  0.0\n",
      "----- Count : 783 -----\n",
      " *** Image : rotation_Image_241364.jpg ***\n",
      "Image id :  Image_241364.jpg\n"
     ]
    },
    {
     "name": "stderr",
     "output_type": "stream",
     "text": [
      " 92%|█████████▎| 185/200 [00:18<00:01, 11.59it/s]"
     ]
    },
    {
     "name": "stdout",
     "output_type": "stream",
     "text": [
      "Detection Probability :  0.0\n",
      "----- Count : 784 -----\n",
      " *** Image : rotation_Image_213546.jpg ***\n",
      "Image id :  Image_213546.jpg\n",
      "Detection Probability :  0.0\n",
      "----- Count : 785 -----\n",
      " *** Image : rotation_Image_540988.jpg ***\n",
      "Image id :  Image_540988.jpg\n",
      "Detection Probability :  0.0\n",
      "----- Count : 786 -----\n",
      " *** Image : rotation_Image_302389.jpg ***\n",
      "Image id :  Image_302389.jpg\n"
     ]
    },
    {
     "name": "stderr",
     "output_type": "stream",
     "text": [
      " 94%|█████████▎| 187/200 [00:18<00:01, 11.64it/s]"
     ]
    },
    {
     "name": "stdout",
     "output_type": "stream",
     "text": [
      "Detection Probability :  0.0\n",
      "----- Count : 787 -----\n",
      " *** Image : rotation_Image_351430.jpg ***\n",
      "Image id :  Image_351430.jpg\n",
      "Detection Probability :  0\n",
      "----- Count : 788 -----\n",
      " *** Image : rotation_Image_311914.jpg ***\n",
      "Image id :  Image_311914.jpg\n"
     ]
    },
    {
     "name": "stderr",
     "output_type": "stream",
     "text": [
      " 94%|█████████▍| 189/200 [00:18<00:01, 10.49it/s]"
     ]
    },
    {
     "name": "stdout",
     "output_type": "stream",
     "text": [
      "Detection Probability :  0\n",
      "----- Count : 789 -----\n",
      " *** Image : rotation_Image_77375.jpg ***\n",
      "Image id :  Image_77375.jpg\n",
      "Detection Probability :  0\n",
      "----- Count : 790 -----\n",
      " *** Image : rotation_Image_62279.jpg ***\n",
      "Image id :  Image_62279.jpg\n",
      "Detection Probability :  0\n",
      "----- Count : 791 -----\n",
      " *** Image : rotation_Image_454325.jpg ***\n",
      "Image id :  Image_454325.jpg\n"
     ]
    },
    {
     "name": "stderr",
     "output_type": "stream",
     "text": [
      " 96%|█████████▌| 191/200 [00:19<00:00, 10.58it/s]"
     ]
    },
    {
     "name": "stdout",
     "output_type": "stream",
     "text": [
      "Detection Probability :  0\n",
      "----- Count : 792 -----\n",
      " *** Image : rotation_Image_93785.jpg ***\n",
      "Image id :  Image_93785.jpg\n",
      "Detection Probability :  0.0\n",
      "----- Count : 793 -----\n",
      " *** Image : rotation_Image_122688.jpg ***\n",
      "Image id :  Image_122688.jpg\n"
     ]
    },
    {
     "name": "stderr",
     "output_type": "stream",
     "text": [
      " 98%|█████████▊| 195/200 [00:19<00:00,  9.81it/s]"
     ]
    },
    {
     "name": "stdout",
     "output_type": "stream",
     "text": [
      "Detection Probability :  0\n",
      "----- Count : 794 -----\n",
      " *** Image : rotation_Image_352884.jpg ***\n",
      "Image id :  Image_352884.jpg\n",
      "Detection Probability :  0\n",
      "----- Count : 795 -----\n",
      " *** Image : rotation_Image_474882.jpg ***\n",
      "Image id :  Image_474882.jpg\n",
      "Detection Probability :  0.0\n",
      "----- Count : 796 -----\n",
      " *** Image : rotation_Image_560459.jpg ***\n",
      "Image id :  Image_560459.jpg\n"
     ]
    },
    {
     "name": "stderr",
     "output_type": "stream",
     "text": [
      " 98%|█████████▊| 197/200 [00:19<00:00,  9.27it/s]"
     ]
    },
    {
     "name": "stdout",
     "output_type": "stream",
     "text": [
      "Detection Probability :  0.0\n",
      "----- Count : 797 -----\n",
      " *** Image : rotation_Image_412535.jpg ***\n",
      "Image id :  Image_412535.jpg\n",
      "Detection Probability :  0\n",
      "----- Count : 798 -----\n",
      " *** Image : rotation_Image_267688.jpg ***\n",
      "Image id :  Image_267688.jpg\n",
      "Detection Probability :  0.0\n",
      "----- Count : 799 -----\n",
      " *** Image : rotation_Image_212091.jpg ***\n",
      "Image id :  Image_212091.jpg\n"
     ]
    },
    {
     "name": "stderr",
     "output_type": "stream",
     "text": [
      "100%|██████████| 200/200 [00:20<00:00,  9.93it/s]"
     ]
    },
    {
     "name": "stdout",
     "output_type": "stream",
     "text": [
      "Detection Probability :  0.0\n",
      "----- Count : 800 -----\n",
      " *** Image : rotation_Image_348850.jpg ***\n",
      "Image id :  Image_348850.jpg\n",
      "Detection Probability :  0.0\n"
     ]
    },
    {
     "name": "stderr",
     "output_type": "stream",
     "text": [
      "\n"
     ]
    }
   ],
   "source": [
    "print(\"----------------- Generating detection results ------------------\")\n",
    "count = 1 \n",
    "for attack in attacks : \n",
    "    print(f\" ----- Attack : {attack} -----\")\n",
    "\n",
    "    attacked_path = os.path.join(attacks_op_parent,attack) \n",
    "    attacked_ids = os.listdir(attacked_path)\n",
    "\n",
    "    for img in tqdm(attacked_ids) :\n",
    "        print(f\"----- Count : {count} -----\")\n",
    "        print(f\" *** Image : {img} ***\")\n",
    "        l = img.split('_')\n",
    "\n",
    "        if attack == \"gaussian_noise\" : \n",
    "            id = f\"{l[2]}_{l[3]}\"\n",
    "        else : \n",
    "            id = f\"{l[1]}_{l[2]}\"\n",
    "\n",
    "        print(\"Image id : \",id)\n",
    "        \n",
    "        image_path = os.path.join(attacked_path,img)\n",
    "        # print(image_path)\n",
    "\n",
    "        decoded_watermark, confidence_score = get_watermark_probability(image_path, wm)\n",
    "\n",
    "        # bgr = cv2.imread(image_path)\n",
    "        # decoder = WatermarkDecoder('bytes', 32)\n",
    "        # watermark = decoder.decode(bgr, 'dwtDctSvd')\n",
    "        # print(watermark.decode('utf-8'))\n",
    "\n",
    "\n",
    "        print(\"Detection Probability : \", confidence_score)\n",
    "\n",
    "        attack_detection[id][f\"{attack}_det_prob\"] = confidence_score\n",
    "        attack_detection[id][f\"{attack}_decoded\"] = decoded_watermark\n",
    "\n",
    "        count += 1 \n",
    "\n",
    "\n",
    "        # id_prob = 0 \n",
    "        # detection = 0 \n",
    "        \n",
    "        \n"
   ]
  },
  {
   "cell_type": "code",
   "execution_count": 19,
   "metadata": {},
   "outputs": [
    {
     "name": "stdout",
     "output_type": "stream",
     "text": [
      "Preparing results json \n"
     ]
    }
   ],
   "source": [
    "print(\"Preparing results json \")\n",
    "with open('dwtdctsvd_attack_detection.json','w') as file : \n",
    "    json.dump(attack_detection,file,indent=4)\n"
   ]
  },
  {
   "cell_type": "code",
   "execution_count": 21,
   "metadata": {},
   "outputs": [],
   "source": [
    "# def load_image(image_path):\n",
    "#     \"\"\"\n",
    "#     Load an image from the specified file path using PIL.\n",
    "\n",
    "#     Args:\n",
    "#     image_path (str): Path to the image file.\n",
    "\n",
    "#     Returns:\n",
    "#     PIL.Image.Image: Loaded image object.\n",
    "#     \"\"\"\n",
    "#     return Image.open(image_path)"
   ]
  },
  {
   "cell_type": "markdown",
   "metadata": {},
   "source": [
    "Parphrase "
   ]
  },
  {
   "cell_type": "code",
   "execution_count": 27,
   "metadata": {},
   "outputs": [],
   "source": [
    "import re \n",
    "from diffusers import AutoPipelineForText2Image\n",
    "from diffusers import AutoPipelineForImage2Image\n",
    "import os \n",
    "os.environ[\"CUDA_VISIBLE_DEVICES\"]='1'\n",
    "\n",
    "import torch \n"
   ]
  },
  {
   "cell_type": "code",
   "execution_count": 28,
   "metadata": {},
   "outputs": [
    {
     "name": "stdout",
     "output_type": "stream",
     "text": [
      "cuda\n"
     ]
    }
   ],
   "source": [
    "if torch.cuda.is_available : \n",
    "    device = 'cuda'\n",
    "else : \n",
    "    device = 'cpu'\n",
    "\n",
    "print(device)"
   ]
  },
  {
   "cell_type": "code",
   "execution_count": 29,
   "metadata": {},
   "outputs": [
    {
     "data": {
      "application/vnd.jupyter.widget-view+json": {
       "model_id": "c4bd6f008d4a4ee8a96515c3ae5ab1e0",
       "version_major": 2,
       "version_minor": 0
      },
      "text/plain": [
       "Loading pipeline components...:   0%|          | 0/7 [00:00<?, ?it/s]"
      ]
     },
     "metadata": {},
     "output_type": "display_data"
    }
   ],
   "source": [
    "paraphrase_model_id = 'stabilityai/stable-diffusion-xl-base-1.0'\n",
    "# model_id = 'stabilityai/stable-diffusion-2-1-base'\n",
    "\n",
    "pipeline_text2image = AutoPipelineForText2Image.from_pretrained(paraphrase_model_id, torch_dtype=torch.float16, variant=\"fp16\", use_safetensors=True, add_watermarker=False).to(device)\n",
    "pipeline = AutoPipelineForImage2Image.from_pipe(pipeline_text2image).to(device)\n"
   ]
  },
  {
   "cell_type": "code",
   "execution_count": 30,
   "metadata": {},
   "outputs": [],
   "source": [
    "img_dir = \"/raid/home/ashhar21137/watermarking/dwtDctSvd/dwtDctSvd_watermarked_images\""
   ]
  },
  {
   "cell_type": "code",
   "execution_count": 31,
   "metadata": {},
   "outputs": [],
   "source": [
    "with open('/raid/home/ashhar21137/watermarking/dwtDctSvd/captions_train2014_new_format.json','r') as file : \n",
    "    new = json.load(file)"
   ]
  },
  {
   "cell_type": "code",
   "execution_count": 32,
   "metadata": {},
   "outputs": [],
   "source": [
    "img_ids = []\n",
    "img_pths = []\n",
    "imgs = os.listdir(img_dir)\n",
    "for i in imgs : \n",
    "    if '.png' or '.jpg' in i :\n",
    "        id = re.split('[_.]',i)[1]\n",
    "        img_ids.append(id) \n",
    "        img_pths.append(os.path.join(img_dir,i))\n",
    "\n"
   ]
  },
  {
   "cell_type": "code",
   "execution_count": 33,
   "metadata": {},
   "outputs": [
    {
     "name": "stdout",
     "output_type": "stream",
     "text": [
      "Imgs ids :  ['79481', '96557', '280260', '62279', '170558', '215481', '520208', '95989', '504616', '309322', '239728', '341550', '405613', '441488', '420721', '18885', '399956', '93785', '570246', '262845', '49183', '142088', '394326', '524068', '352884', '199628', '160559', '57870', '398494', '241364', '84427', '393493', '483008', '469605', '348850', '387083', '77375', '122108', '540162', '19380', '44404', '345781', '405207', '153946', '457732', '153674', '472925', '388754', '170850', '384029', '62604', '570608', '317237', '299411', '109424', '581674', '239811', '318189', '278347', '90570', '374114', '505126', '8649', '145179', '66514', '462559', '4428', '210932', '257350', '122688', '377694', '438422', '161919', '354444', '287541', '556801', '186233', '95133', '496939', '71631', '371029', '259446', '55627', '334080', '150867', '470072', '181104', '559527', '209967', '444546', '409513', '165499', '351430', '36633', '147303', '474882', '318574', '222016', '236772', '486320', '551125', '70868', '378710', '536587', '167613', '392136', '287927', '217306', '560459', '496283', '212091', '483751', '223726', '560628', '108627', '246804', '365363', '64460', '225750', '446014', '157032', '96997', '302389', '574001', '525589', '280980', '316676', '412535', '445528', '576757', '313932', '477797', '98760', '513541', '136461', '85685', '356702', '424102', '467311', '540988', '301778', '388911', '409382', '292835', '311914', '492386', '69675', '189993', '265709', '269829', '326511', '353139', '309093', '277854', '546451', '344806', '413746', '279108', '576801', '246446', '520950', '155845', '448698', '2024', '357684', '101418', '219025', '547471', '70000', '289019', '270912', '485894', '535786', '147016', '343322', '412198', '77806', '168194', '303291', '491269', '530683', '172899', '267688', '523617', '426038', '214704', '497616', '179620', '42493', '62426', '543877', '160163', '167603', '218956', '147170', '283524', '37015', '213546', '528906', '454325']\n",
      "Images :  ['Image_79481.jpg', 'Image_96557.jpg', 'Image_280260.jpg', 'Image_62279.jpg', 'Image_170558.jpg', 'Image_215481.jpg', 'Image_520208.jpg', 'Image_95989.jpg', 'Image_504616.jpg', 'Image_309322.jpg', 'Image_239728.jpg', 'Image_341550.jpg', 'Image_405613.jpg', 'Image_441488.jpg', 'Image_420721.jpg', 'Image_18885.jpg', 'Image_399956.jpg', 'Image_93785.jpg', 'Image_570246.jpg', 'Image_262845.jpg', 'Image_49183.jpg', 'Image_142088.jpg', 'Image_394326.jpg', 'Image_524068.jpg', 'Image_352884.jpg', 'Image_199628.jpg', 'Image_160559.jpg', 'Image_57870.jpg', 'Image_398494.jpg', 'Image_241364.jpg', 'Image_84427.jpg', 'Image_393493.jpg', 'Image_483008.jpg', 'Image_469605.jpg', 'Image_348850.jpg', 'Image_387083.jpg', 'Image_77375.jpg', 'Image_122108.jpg', 'Image_540162.jpg', 'Image_19380.jpg', 'Image_44404.jpg', 'Image_345781.jpg', 'Image_405207.jpg', 'Image_153946.jpg', 'Image_457732.jpg', 'Image_153674.jpg', 'Image_472925.jpg', 'Image_388754.jpg', 'Image_170850.jpg', 'Image_384029.jpg', 'Image_62604.jpg', 'Image_570608.jpg', 'Image_317237.jpg', 'Image_299411.jpg', 'Image_109424.jpg', 'Image_581674.jpg', 'Image_239811.jpg', 'Image_318189.jpg', 'Image_278347.jpg', 'Image_90570.jpg', 'Image_374114.jpg', 'Image_505126.jpg', 'Image_8649.jpg', 'Image_145179.jpg', 'Image_66514.jpg', 'Image_462559.jpg', 'Image_4428.jpg', 'Image_210932.jpg', 'Image_257350.jpg', 'Image_122688.jpg', 'Image_377694.jpg', 'Image_438422.jpg', 'Image_161919.jpg', 'Image_354444.jpg', 'Image_287541.jpg', 'Image_556801.jpg', 'Image_186233.jpg', 'Image_95133.jpg', 'Image_496939.jpg', 'Image_71631.jpg', 'Image_371029.jpg', 'Image_259446.jpg', 'Image_55627.jpg', 'Image_334080.jpg', 'Image_150867.jpg', 'Image_470072.jpg', 'Image_181104.jpg', 'Image_559527.jpg', 'Image_209967.jpg', 'Image_444546.jpg', 'Image_409513.jpg', 'Image_165499.jpg', 'Image_351430.jpg', 'Image_36633.jpg', 'Image_147303.jpg', 'Image_474882.jpg', 'Image_318574.jpg', 'Image_222016.jpg', 'Image_236772.jpg', 'Image_486320.jpg', 'Image_551125.jpg', 'Image_70868.jpg', 'Image_378710.jpg', 'Image_536587.jpg', 'Image_167613.jpg', 'Image_392136.jpg', 'Image_287927.jpg', 'Image_217306.jpg', 'Image_560459.jpg', 'Image_496283.jpg', 'Image_212091.jpg', 'Image_483751.jpg', 'Image_223726.jpg', 'Image_560628.jpg', 'Image_108627.jpg', 'Image_246804.jpg', 'Image_365363.jpg', 'Image_64460.jpg', 'Image_225750.jpg', 'Image_446014.jpg', 'Image_157032.jpg', 'Image_96997.jpg', 'Image_302389.jpg', 'Image_574001.jpg', 'Image_525589.jpg', 'Image_280980.jpg', 'Image_316676.jpg', 'Image_412535.jpg', 'Image_445528.jpg', 'Image_576757.jpg', 'Image_313932.jpg', 'Image_477797.jpg', 'Image_98760.jpg', 'Image_513541.jpg', 'Image_136461.jpg', 'Image_85685.jpg', 'Image_356702.jpg', 'Image_424102.jpg', 'Image_467311.jpg', 'Image_540988.jpg', 'Image_301778.jpg', 'Image_388911.jpg', 'Image_409382.jpg', 'Image_292835.jpg', 'Image_311914.jpg', 'Image_492386.jpg', 'Image_69675.jpg', 'Image_189993.jpg', 'Image_265709.jpg', 'Image_269829.jpg', 'Image_326511.jpg', 'Image_353139.jpg', 'Image_309093.jpg', 'Image_277854.jpg', 'Image_546451.jpg', 'Image_344806.jpg', 'Image_413746.jpg', 'Image_279108.jpg', 'Image_576801.jpg', 'Image_246446.jpg', 'Image_520950.jpg', 'Image_155845.jpg', 'Image_448698.jpg', 'Image_2024.jpg', 'Image_357684.jpg', 'Image_101418.jpg', 'Image_219025.jpg', 'Image_547471.jpg', 'Image_70000.jpg', 'Image_289019.jpg', 'Image_270912.jpg', 'Image_485894.jpg', 'Image_535786.jpg', 'Image_147016.jpg', 'Image_343322.jpg', 'Image_412198.jpg', 'Image_77806.jpg', 'Image_168194.jpg', 'Image_303291.jpg', 'Image_491269.jpg', 'Image_530683.jpg', 'Image_172899.jpg', 'Image_267688.jpg', 'Image_523617.jpg', 'Image_426038.jpg', 'Image_214704.jpg', 'Image_497616.jpg', 'Image_179620.jpg', 'Image_42493.jpg', 'Image_62426.jpg', 'Image_543877.jpg', 'Image_160163.jpg', 'Image_167603.jpg', 'Image_218956.jpg', 'Image_147170.jpg', 'Image_283524.jpg', 'Image_37015.jpg', 'Image_213546.jpg', 'Image_528906.jpg', 'Image_454325.jpg']\n"
     ]
    }
   ],
   "source": [
    "print(\"Imgs ids : \", img_ids)\n",
    "print(\"Images : \",imgs)\n"
   ]
  },
  {
   "cell_type": "code",
   "execution_count": 34,
   "metadata": {},
   "outputs": [
    {
     "name": "stdout",
     "output_type": "stream",
     "text": [
      "0\n"
     ]
    }
   ],
   "source": [
    "count = 0 \n",
    "for i in range(len(img_ids)) : \n",
    "    id = re.split('[_.]',imgs[i])[1]\n",
    "    if(img_ids[i] != id ) : \n",
    "        print(img_ids)\n",
    "        count += 1\n",
    "\n",
    "print(count)"
   ]
  },
  {
   "cell_type": "code",
   "execution_count": 35,
   "metadata": {},
   "outputs": [
    {
     "name": "stdout",
     "output_type": "stream",
     "text": [
      "Wmis :  ['Image_79481.jpg', 'Image_96557.jpg', 'Image_280260.jpg', 'Image_62279.jpg', 'Image_170558.jpg', 'Image_215481.jpg', 'Image_520208.jpg', 'Image_95989.jpg', 'Image_504616.jpg', 'Image_309322.jpg', 'Image_239728.jpg', 'Image_341550.jpg', 'Image_405613.jpg', 'Image_441488.jpg', 'Image_420721.jpg', 'Image_18885.jpg', 'Image_399956.jpg', 'Image_93785.jpg', 'Image_570246.jpg', 'Image_262845.jpg', 'Image_49183.jpg', 'Image_142088.jpg', 'Image_394326.jpg', 'Image_524068.jpg', 'Image_352884.jpg', 'Image_199628.jpg', 'Image_160559.jpg', 'Image_57870.jpg', 'Image_398494.jpg', 'Image_241364.jpg', 'Image_84427.jpg', 'Image_393493.jpg', 'Image_483008.jpg', 'Image_469605.jpg', 'Image_348850.jpg', 'Image_387083.jpg', 'Image_77375.jpg', 'Image_122108.jpg', 'Image_540162.jpg', 'Image_19380.jpg', 'Image_44404.jpg', 'Image_345781.jpg', 'Image_405207.jpg', 'Image_153946.jpg', 'Image_457732.jpg', 'Image_153674.jpg', 'Image_472925.jpg', 'Image_388754.jpg', 'Image_170850.jpg', 'Image_384029.jpg', 'Image_62604.jpg', 'Image_570608.jpg', 'Image_317237.jpg', 'Image_299411.jpg', 'Image_109424.jpg', 'Image_581674.jpg', 'Image_239811.jpg', 'Image_318189.jpg', 'Image_278347.jpg', 'Image_90570.jpg', 'Image_374114.jpg', 'Image_505126.jpg', 'Image_8649.jpg', 'Image_145179.jpg', 'Image_66514.jpg', 'Image_462559.jpg', 'Image_4428.jpg', 'Image_210932.jpg', 'Image_257350.jpg', 'Image_122688.jpg', 'Image_377694.jpg', 'Image_438422.jpg', 'Image_161919.jpg', 'Image_354444.jpg', 'Image_287541.jpg', 'Image_556801.jpg', 'Image_186233.jpg', 'Image_95133.jpg', 'Image_496939.jpg', 'Image_71631.jpg', 'Image_371029.jpg', 'Image_259446.jpg', 'Image_55627.jpg', 'Image_334080.jpg', 'Image_150867.jpg', 'Image_470072.jpg', 'Image_181104.jpg', 'Image_559527.jpg', 'Image_209967.jpg', 'Image_444546.jpg', 'Image_409513.jpg', 'Image_165499.jpg', 'Image_351430.jpg', 'Image_36633.jpg', 'Image_147303.jpg', 'Image_474882.jpg', 'Image_318574.jpg', 'Image_222016.jpg', 'Image_236772.jpg', 'Image_486320.jpg', 'Image_551125.jpg', 'Image_70868.jpg', 'Image_378710.jpg', 'Image_536587.jpg', 'Image_167613.jpg', 'Image_392136.jpg', 'Image_287927.jpg', 'Image_217306.jpg', 'Image_560459.jpg', 'Image_496283.jpg', 'Image_212091.jpg', 'Image_483751.jpg', 'Image_223726.jpg', 'Image_560628.jpg', 'Image_108627.jpg', 'Image_246804.jpg', 'Image_365363.jpg', 'Image_64460.jpg', 'Image_225750.jpg', 'Image_446014.jpg', 'Image_157032.jpg', 'Image_96997.jpg', 'Image_302389.jpg', 'Image_574001.jpg', 'Image_525589.jpg', 'Image_280980.jpg', 'Image_316676.jpg', 'Image_412535.jpg', 'Image_445528.jpg', 'Image_576757.jpg', 'Image_313932.jpg', 'Image_477797.jpg', 'Image_98760.jpg', 'Image_513541.jpg', 'Image_136461.jpg', 'Image_85685.jpg', 'Image_356702.jpg', 'Image_424102.jpg', 'Image_467311.jpg', 'Image_540988.jpg', 'Image_301778.jpg', 'Image_388911.jpg', 'Image_409382.jpg', 'Image_292835.jpg', 'Image_311914.jpg', 'Image_492386.jpg', 'Image_69675.jpg', 'Image_189993.jpg', 'Image_265709.jpg', 'Image_269829.jpg', 'Image_326511.jpg', 'Image_353139.jpg', 'Image_309093.jpg', 'Image_277854.jpg', 'Image_546451.jpg', 'Image_344806.jpg', 'Image_413746.jpg', 'Image_279108.jpg', 'Image_576801.jpg', 'Image_246446.jpg', 'Image_520950.jpg', 'Image_155845.jpg', 'Image_448698.jpg', 'Image_2024.jpg', 'Image_357684.jpg', 'Image_101418.jpg', 'Image_219025.jpg', 'Image_547471.jpg', 'Image_70000.jpg', 'Image_289019.jpg', 'Image_270912.jpg', 'Image_485894.jpg', 'Image_535786.jpg', 'Image_147016.jpg', 'Image_343322.jpg', 'Image_412198.jpg', 'Image_77806.jpg', 'Image_168194.jpg', 'Image_303291.jpg', 'Image_491269.jpg', 'Image_530683.jpg', 'Image_172899.jpg', 'Image_267688.jpg', 'Image_523617.jpg', 'Image_426038.jpg', 'Image_214704.jpg', 'Image_497616.jpg', 'Image_179620.jpg', 'Image_42493.jpg', 'Image_62426.jpg', 'Image_543877.jpg', 'Image_160163.jpg', 'Image_167603.jpg', 'Image_218956.jpg', 'Image_147170.jpg', 'Image_283524.jpg', 'Image_37015.jpg', 'Image_213546.jpg', 'Image_528906.jpg', 'Image_454325.jpg']\n"
     ]
    }
   ],
   "source": [
    "wmis = os.listdir(img_dir) \n",
    "print(\"Wmis : \",wmis)\n"
   ]
  },
  {
   "cell_type": "code",
   "execution_count": 40,
   "metadata": {},
   "outputs": [],
   "source": [
    "save_dir = \"/raid/home/ashhar21137/watermarking/dwtDctSvd/dwt_paraphrase_0.1\""
   ]
  },
  {
   "cell_type": "code",
   "execution_count": 41,
   "metadata": {},
   "outputs": [],
   "source": [
    "wm = 'test'"
   ]
  },
  {
   "cell_type": "code",
   "execution_count": 42,
   "metadata": {},
   "outputs": [],
   "source": [
    "paraphrase_detection = defaultdict(lambda: defaultdict(dict))"
   ]
  },
  {
   "cell_type": "code",
   "execution_count": 43,
   "metadata": {},
   "outputs": [
    {
     "name": "stderr",
     "output_type": "stream",
     "text": [
      "  0%|          | 0/200 [00:00<?, ?it/s]"
     ]
    },
    {
     "name": "stdout",
     "output_type": "stream",
     "text": [
      "---------- Count = 1 : Visual Paraphrasing for the watermarked version of 79481-------------\n",
      "\n",
      "Image name :  Image_79481.jpg\n",
      "Image id : 79481\n"
     ]
    },
    {
     "data": {
      "application/vnd.jupyter.widget-view+json": {
       "model_id": "b5dc87cab25d4f6ea906e126ccb0caa4",
       "version_major": 2,
       "version_minor": 0
      },
      "text/plain": [
       "  0%|          | 0/5 [00:00<?, ?it/s]"
      ]
     },
     "metadata": {},
     "output_type": "display_data"
    },
    {
     "name": "stdout",
     "output_type": "stream",
     "text": [
      "Saving generated images at /raid/home/ashhar21137/watermarking/dwtDctSvd/dwt_paraphrase_0.1/79481\n",
      "Generated Image saved to /raid/home/ashhar21137/watermarking/dwtDctSvd/dwt_paraphrase_0.1/79481/79481_gen_0.png\n",
      "Generated Image saved to /raid/home/ashhar21137/watermarking/dwtDctSvd/dwt_paraphrase_0.1/79481/79481_gen_1.png\n",
      "Generated Image saved to /raid/home/ashhar21137/watermarking/dwtDctSvd/dwt_paraphrase_0.1/79481/79481_gen_2.png\n",
      "Generated Image saved to /raid/home/ashhar21137/watermarking/dwtDctSvd/dwt_paraphrase_0.1/79481/79481_gen_3.png\n",
      "Generated Image saved to /raid/home/ashhar21137/watermarking/dwtDctSvd/dwt_paraphrase_0.1/79481/79481_gen_4.png\n",
      "\n",
      "Number of images generated :  5\n",
      "********** Watermark detection for generated images ***************\n",
      "caption : A blue motor cycle parked in front of a house next to trash cans.\n",
      "Watermark Presence Prob.: 0\n",
      "caption : A blue motorcycle under an umbrella and being held up with a metal stand.\n",
      "Watermark Presence Prob.: 0\n",
      "caption : A shiny blue motorcycle is parked under an umbrella attached to a railing.\n",
      "Watermark Presence Prob.: 0\n",
      "caption : A motorcycle on the sidewalk next to a porch. \n"
     ]
    },
    {
     "name": "stderr",
     "output_type": "stream",
     "text": [
      "  0%|          | 1/200 [00:03<12:13,  3.69s/it]"
     ]
    },
    {
     "name": "stdout",
     "output_type": "stream",
     "text": [
      "Watermark Presence Prob.: 0\n",
      "caption : A Japanese motorcycle parked in front of a house.\n",
      "Watermark Presence Prob.: 0\n",
      "---------- Count = 2 : Visual Paraphrasing for the watermarked version of 96557-------------\n",
      "\n",
      "Image name :  Image_96557.jpg\n",
      "Image id : 96557\n"
     ]
    },
    {
     "data": {
      "application/vnd.jupyter.widget-view+json": {
       "model_id": "94ad03050bde4d458c251c7081df25e0",
       "version_major": 2,
       "version_minor": 0
      },
      "text/plain": [
       "  0%|          | 0/5 [00:00<?, ?it/s]"
      ]
     },
     "metadata": {},
     "output_type": "display_data"
    },
    {
     "name": "stdout",
     "output_type": "stream",
     "text": [
      "Saving generated images at /raid/home/ashhar21137/watermarking/dwtDctSvd/dwt_paraphrase_0.1/96557\n",
      "Generated Image saved to /raid/home/ashhar21137/watermarking/dwtDctSvd/dwt_paraphrase_0.1/96557/96557_gen_0.png\n",
      "Generated Image saved to /raid/home/ashhar21137/watermarking/dwtDctSvd/dwt_paraphrase_0.1/96557/96557_gen_1.png\n",
      "Generated Image saved to /raid/home/ashhar21137/watermarking/dwtDctSvd/dwt_paraphrase_0.1/96557/96557_gen_2.png\n",
      "Generated Image saved to /raid/home/ashhar21137/watermarking/dwtDctSvd/dwt_paraphrase_0.1/96557/96557_gen_3.png\n",
      "Generated Image saved to /raid/home/ashhar21137/watermarking/dwtDctSvd/dwt_paraphrase_0.1/96557/96557_gen_4.png\n",
      "\n",
      "Number of images generated :  5\n",
      "********** Watermark detection for generated images ***************\n",
      "caption : A parked red motorcycle sitting next to a car.\n",
      "Watermark Presence Prob.: 0.0\n",
      "caption : A maroon motorcycle parked on a sidewalk by a road.\n",
      "Watermark Presence Prob.: 0\n",
      "caption : Cruising motorcycle parked in crowded parking lot on bright sunny day.\n",
      "Watermark Presence Prob.: 0\n",
      "caption : A motorcycle parked in a city parking lot next to a car.\n",
      "Watermark Presence Prob.: 0\n",
      "caption : A maroon motorcycle parked alongside a car in the sun\n"
     ]
    },
    {
     "name": "stderr",
     "output_type": "stream",
     "text": [
      "  1%|          | 2/200 [00:07<11:54,  3.61s/it]"
     ]
    },
    {
     "name": "stdout",
     "output_type": "stream",
     "text": [
      "Watermark Presence Prob.: 0.0\n",
      "---------- Count = 3 : Visual Paraphrasing for the watermarked version of 280260-------------\n",
      "\n",
      "Image name :  Image_280260.jpg\n",
      "Image id : 280260\n"
     ]
    },
    {
     "data": {
      "application/vnd.jupyter.widget-view+json": {
       "model_id": "35e77c69560d4e999f3318ee2a0ee3c9",
       "version_major": 2,
       "version_minor": 0
      },
      "text/plain": [
       "  0%|          | 0/5 [00:00<?, ?it/s]"
      ]
     },
     "metadata": {},
     "output_type": "display_data"
    },
    {
     "name": "stdout",
     "output_type": "stream",
     "text": [
      "Saving generated images at /raid/home/ashhar21137/watermarking/dwtDctSvd/dwt_paraphrase_0.1/280260\n",
      "Generated Image saved to /raid/home/ashhar21137/watermarking/dwtDctSvd/dwt_paraphrase_0.1/280260/280260_gen_0.png\n",
      "Generated Image saved to /raid/home/ashhar21137/watermarking/dwtDctSvd/dwt_paraphrase_0.1/280260/280260_gen_1.png\n",
      "Generated Image saved to /raid/home/ashhar21137/watermarking/dwtDctSvd/dwt_paraphrase_0.1/280260/280260_gen_2.png\n",
      "Generated Image saved to /raid/home/ashhar21137/watermarking/dwtDctSvd/dwt_paraphrase_0.1/280260/280260_gen_3.png\n",
      "Generated Image saved to /raid/home/ashhar21137/watermarking/dwtDctSvd/dwt_paraphrase_0.1/280260/280260_gen_4.png\n",
      "\n",
      "Number of images generated :  5\n",
      "********** Watermark detection for generated images ***************\n",
      "caption : Adult sheep with young white lamb in farm setting.\n",
      "Watermark Presence Prob.: 0\n",
      "caption : A large lamb stands next to a baby lamb.\n",
      "Watermark Presence Prob.: 0\n",
      "caption : An adult sheep standing next to a baby sheep on a farm.\n",
      "Watermark Presence Prob.: 0\n",
      "caption : A sheep and lamb in a grassy field next to fence.\n",
      "Watermark Presence Prob.: 0\n",
      "caption : A lamb standing next to its mother in a field.\n"
     ]
    },
    {
     "name": "stderr",
     "output_type": "stream",
     "text": [
      "  2%|▏         | 3/200 [00:10<11:41,  3.56s/it]"
     ]
    },
    {
     "name": "stdout",
     "output_type": "stream",
     "text": [
      "Watermark Presence Prob.: 0\n",
      "---------- Count = 4 : Visual Paraphrasing for the watermarked version of 62279-------------\n",
      "\n",
      "Image name :  Image_62279.jpg\n",
      "Image id : 62279\n"
     ]
    },
    {
     "data": {
      "application/vnd.jupyter.widget-view+json": {
       "model_id": "000ba17eff6843ed9fb700d49bf58ebd",
       "version_major": 2,
       "version_minor": 0
      },
      "text/plain": [
       "  0%|          | 0/5 [00:00<?, ?it/s]"
      ]
     },
     "metadata": {},
     "output_type": "display_data"
    },
    {
     "name": "stdout",
     "output_type": "stream",
     "text": [
      "Saving generated images at /raid/home/ashhar21137/watermarking/dwtDctSvd/dwt_paraphrase_0.1/62279\n",
      "Generated Image saved to /raid/home/ashhar21137/watermarking/dwtDctSvd/dwt_paraphrase_0.1/62279/62279_gen_0.png\n",
      "Generated Image saved to /raid/home/ashhar21137/watermarking/dwtDctSvd/dwt_paraphrase_0.1/62279/62279_gen_1.png\n",
      "Generated Image saved to /raid/home/ashhar21137/watermarking/dwtDctSvd/dwt_paraphrase_0.1/62279/62279_gen_2.png\n",
      "Generated Image saved to /raid/home/ashhar21137/watermarking/dwtDctSvd/dwt_paraphrase_0.1/62279/62279_gen_3.png\n",
      "Generated Image saved to /raid/home/ashhar21137/watermarking/dwtDctSvd/dwt_paraphrase_0.1/62279/62279_gen_4.png\n",
      "\n",
      "Number of images generated :  5\n",
      "********** Watermark detection for generated images ***************\n",
      "caption : A table has plates on it with watermelon and broccoli on it.\n",
      "Watermark Presence Prob.: 0\n",
      "caption : plates filled with assorted fruits and veggies and some meat\n",
      "Watermark Presence Prob.: 0\n",
      "caption : A variety of foods in plates and bowls.\n",
      "Watermark Presence Prob.: 0\n",
      "caption : A table with plates and dishes with a verity of food and an baby's bottle.\n",
      "Watermark Presence Prob.: 0\n",
      "caption : A table set with vegetable salads and sliced fresh fruit.\n"
     ]
    },
    {
     "name": "stderr",
     "output_type": "stream",
     "text": [
      "  2%|▏         | 4/200 [00:14<12:12,  3.74s/it]"
     ]
    },
    {
     "name": "stdout",
     "output_type": "stream",
     "text": [
      "Watermark Presence Prob.: 0\n",
      "---------- Count = 5 : Visual Paraphrasing for the watermarked version of 170558-------------\n",
      "\n",
      "Image name :  Image_170558.jpg\n",
      "Image id : 170558\n"
     ]
    },
    {
     "data": {
      "application/vnd.jupyter.widget-view+json": {
       "model_id": "86cfbc34d9f34459b495a7118b39b9ed",
       "version_major": 2,
       "version_minor": 0
      },
      "text/plain": [
       "  0%|          | 0/5 [00:00<?, ?it/s]"
      ]
     },
     "metadata": {},
     "output_type": "display_data"
    },
    {
     "name": "stdout",
     "output_type": "stream",
     "text": [
      "Saving generated images at /raid/home/ashhar21137/watermarking/dwtDctSvd/dwt_paraphrase_0.1/170558\n",
      "Generated Image saved to /raid/home/ashhar21137/watermarking/dwtDctSvd/dwt_paraphrase_0.1/170558/170558_gen_0.png\n",
      "Generated Image saved to /raid/home/ashhar21137/watermarking/dwtDctSvd/dwt_paraphrase_0.1/170558/170558_gen_1.png\n",
      "Generated Image saved to /raid/home/ashhar21137/watermarking/dwtDctSvd/dwt_paraphrase_0.1/170558/170558_gen_2.png\n",
      "Generated Image saved to /raid/home/ashhar21137/watermarking/dwtDctSvd/dwt_paraphrase_0.1/170558/170558_gen_3.png\n",
      "Generated Image saved to /raid/home/ashhar21137/watermarking/dwtDctSvd/dwt_paraphrase_0.1/170558/170558_gen_4.png\n",
      "\n",
      "Number of images generated :  5\n",
      "********** Watermark detection for generated images ***************\n",
      "caption : Adults using laptop computers while sitting at outdoor venue.\n",
      "Watermark Presence Prob.: 0\n",
      "caption : A row of men using laptops on side of a building.\n",
      "Watermark Presence Prob.: 0\n",
      "caption : A man is on his laptop while people looking on. \n",
      "Watermark Presence Prob.: 0.0\n",
      "caption : a number of people siting on a bench with a laptop\n",
      "Watermark Presence Prob.: 0.0\n",
      "caption : Young men sit next to each other working on laptops. \n"
     ]
    },
    {
     "name": "stderr",
     "output_type": "stream",
     "text": [
      "  2%|▎         | 5/200 [00:18<12:04,  3.72s/it]"
     ]
    },
    {
     "name": "stdout",
     "output_type": "stream",
     "text": [
      "Watermark Presence Prob.: 0.0\n",
      "---------- Count = 6 : Visual Paraphrasing for the watermarked version of 215481-------------\n",
      "\n",
      "Image name :  Image_215481.jpg\n",
      "Image id : 215481\n"
     ]
    },
    {
     "data": {
      "application/vnd.jupyter.widget-view+json": {
       "model_id": "253c0929dca34ac0b6bbd85cd36bd06d",
       "version_major": 2,
       "version_minor": 0
      },
      "text/plain": [
       "  0%|          | 0/5 [00:00<?, ?it/s]"
      ]
     },
     "metadata": {},
     "output_type": "display_data"
    },
    {
     "name": "stdout",
     "output_type": "stream",
     "text": [
      "Saving generated images at /raid/home/ashhar21137/watermarking/dwtDctSvd/dwt_paraphrase_0.1/215481\n",
      "Generated Image saved to /raid/home/ashhar21137/watermarking/dwtDctSvd/dwt_paraphrase_0.1/215481/215481_gen_0.png\n",
      "Generated Image saved to /raid/home/ashhar21137/watermarking/dwtDctSvd/dwt_paraphrase_0.1/215481/215481_gen_1.png\n",
      "Generated Image saved to /raid/home/ashhar21137/watermarking/dwtDctSvd/dwt_paraphrase_0.1/215481/215481_gen_2.png\n",
      "Generated Image saved to /raid/home/ashhar21137/watermarking/dwtDctSvd/dwt_paraphrase_0.1/215481/215481_gen_3.png\n",
      "Generated Image saved to /raid/home/ashhar21137/watermarking/dwtDctSvd/dwt_paraphrase_0.1/215481/215481_gen_4.png\n",
      "\n",
      "Number of images generated :  5\n",
      "********** Watermark detection for generated images ***************\n",
      "caption : Transit buses lined up on a city street. \n",
      "Watermark Presence Prob.: 0\n",
      "caption : A group of passenger buses driving down a street.\n",
      "Watermark Presence Prob.: 0.0\n",
      "caption : A road with pavement.Orange traffic cones are kept at the side of road.\n"
     ]
    },
    {
     "name": "stderr",
     "output_type": "stream",
     "text": [
      "  3%|▎         | 6/200 [00:21<11:21,  3.51s/it]"
     ]
    },
    {
     "name": "stdout",
     "output_type": "stream",
     "text": [
      "Watermark Presence Prob.: 0.0\n",
      "caption : Buses moving along on a road during a sunny day.\n",
      "Watermark Presence Prob.: 0.0\n",
      "caption : A line of city buses driving down a street.\n",
      "Watermark Presence Prob.: 0\n",
      "---------- Count = 7 : Visual Paraphrasing for the watermarked version of 520208-------------\n",
      "\n",
      "Image name :  Image_520208.jpg\n",
      "Image id : 520208\n"
     ]
    },
    {
     "data": {
      "application/vnd.jupyter.widget-view+json": {
       "model_id": "576a502ac87b447dabce6fc50e1e1d24",
       "version_major": 2,
       "version_minor": 0
      },
      "text/plain": [
       "  0%|          | 0/5 [00:00<?, ?it/s]"
      ]
     },
     "metadata": {},
     "output_type": "display_data"
    },
    {
     "name": "stdout",
     "output_type": "stream",
     "text": [
      "Saving generated images at /raid/home/ashhar21137/watermarking/dwtDctSvd/dwt_paraphrase_0.1/520208\n",
      "Generated Image saved to /raid/home/ashhar21137/watermarking/dwtDctSvd/dwt_paraphrase_0.1/520208/520208_gen_0.png\n",
      "Generated Image saved to /raid/home/ashhar21137/watermarking/dwtDctSvd/dwt_paraphrase_0.1/520208/520208_gen_1.png\n",
      "Generated Image saved to /raid/home/ashhar21137/watermarking/dwtDctSvd/dwt_paraphrase_0.1/520208/520208_gen_2.png\n",
      "Generated Image saved to /raid/home/ashhar21137/watermarking/dwtDctSvd/dwt_paraphrase_0.1/520208/520208_gen_3.png\n",
      "Generated Image saved to /raid/home/ashhar21137/watermarking/dwtDctSvd/dwt_paraphrase_0.1/520208/520208_gen_4.png\n",
      "\n",
      "Number of images generated :  5\n",
      "********** Watermark detection for generated images ***************\n",
      "caption : a spoon sitting on some food in a bowl \n",
      "Watermark Presence Prob.: 0\n",
      "caption : A bowl of food and a spoon held up that has eaten food.\n",
      "Watermark Presence Prob.: 0\n",
      "caption : A white bowl filled with mixed vegetables and a spoon.\n"
     ]
    },
    {
     "name": "stderr",
     "output_type": "stream",
     "text": [
      "  4%|▎         | 7/200 [00:24<11:10,  3.47s/it]"
     ]
    },
    {
     "name": "stdout",
     "output_type": "stream",
     "text": [
      "Watermark Presence Prob.: 0\n",
      "caption : There is a spoons resting in a bowl of food.\n",
      "Watermark Presence Prob.: 0\n",
      "caption : a close up of a spoon in a bowl of food\n",
      "Watermark Presence Prob.: 0\n",
      "---------- Count = 8 : Visual Paraphrasing for the watermarked version of 95989-------------\n",
      "\n",
      "Image name :  Image_95989.jpg\n",
      "Image id : 95989\n"
     ]
    },
    {
     "data": {
      "application/vnd.jupyter.widget-view+json": {
       "model_id": "7f59f5f4b7ae481fb83389a166e7099d",
       "version_major": 2,
       "version_minor": 0
      },
      "text/plain": [
       "  0%|          | 0/5 [00:00<?, ?it/s]"
      ]
     },
     "metadata": {},
     "output_type": "display_data"
    },
    {
     "name": "stdout",
     "output_type": "stream",
     "text": [
      "Saving generated images at /raid/home/ashhar21137/watermarking/dwtDctSvd/dwt_paraphrase_0.1/95989\n",
      "Generated Image saved to /raid/home/ashhar21137/watermarking/dwtDctSvd/dwt_paraphrase_0.1/95989/95989_gen_0.png\n",
      "Generated Image saved to /raid/home/ashhar21137/watermarking/dwtDctSvd/dwt_paraphrase_0.1/95989/95989_gen_1.png\n",
      "Generated Image saved to /raid/home/ashhar21137/watermarking/dwtDctSvd/dwt_paraphrase_0.1/95989/95989_gen_2.png\n",
      "Generated Image saved to /raid/home/ashhar21137/watermarking/dwtDctSvd/dwt_paraphrase_0.1/95989/95989_gen_3.png\n",
      "Generated Image saved to /raid/home/ashhar21137/watermarking/dwtDctSvd/dwt_paraphrase_0.1/95989/95989_gen_4.png\n",
      "\n",
      "Number of images generated :  5\n",
      "********** Watermark detection for generated images ***************\n",
      "caption : A herd of sheep with a dog laying in the grass.\n",
      "Watermark Presence Prob.: 0\n",
      "caption : Some sheep and a dog are by a store that says Woolen Mill.\n",
      "Watermark Presence Prob.: 0\n",
      "caption : A group of lambs are running in the opposite direction of a dog who lays barking.\n"
     ]
    },
    {
     "name": "stderr",
     "output_type": "stream",
     "text": [
      "  4%|▍         | 8/200 [00:27<10:34,  3.30s/it]"
     ]
    },
    {
     "name": "stdout",
     "output_type": "stream",
     "text": [
      "Watermark Presence Prob.: 0\n",
      "caption : A fenced in field with four sheep running together and a black and white dog laying in the grass behind them.\n",
      "Watermark Presence Prob.: 0\n",
      "caption : A group of animals are running together as people watch\n",
      "Watermark Presence Prob.: 0\n",
      "---------- Count = 9 : Visual Paraphrasing for the watermarked version of 504616-------------\n",
      "\n",
      "Image name :  Image_504616.jpg\n",
      "Image id : 504616\n"
     ]
    },
    {
     "data": {
      "application/vnd.jupyter.widget-view+json": {
       "model_id": "985624909d124d0fb99b9264f2037114",
       "version_major": 2,
       "version_minor": 0
      },
      "text/plain": [
       "  0%|          | 0/5 [00:00<?, ?it/s]"
      ]
     },
     "metadata": {},
     "output_type": "display_data"
    },
    {
     "name": "stdout",
     "output_type": "stream",
     "text": [
      "Saving generated images at /raid/home/ashhar21137/watermarking/dwtDctSvd/dwt_paraphrase_0.1/504616\n",
      "Generated Image saved to /raid/home/ashhar21137/watermarking/dwtDctSvd/dwt_paraphrase_0.1/504616/504616_gen_0.png\n",
      "Generated Image saved to /raid/home/ashhar21137/watermarking/dwtDctSvd/dwt_paraphrase_0.1/504616/504616_gen_1.png\n",
      "Generated Image saved to /raid/home/ashhar21137/watermarking/dwtDctSvd/dwt_paraphrase_0.1/504616/504616_gen_2.png\n",
      "Generated Image saved to /raid/home/ashhar21137/watermarking/dwtDctSvd/dwt_paraphrase_0.1/504616/504616_gen_3.png\n",
      "Generated Image saved to /raid/home/ashhar21137/watermarking/dwtDctSvd/dwt_paraphrase_0.1/504616/504616_gen_4.png\n",
      "\n",
      "Number of images generated :  5\n",
      "********** Watermark detection for generated images ***************\n",
      "caption : a person in white is standing in a kitchen\n",
      "Watermark Presence Prob.: 0.0\n",
      "caption : A chef slides a pizza into a brick oven.\n",
      "Watermark Presence Prob.: 0\n",
      "caption : a man wearing an apron and standing next to an oven\n",
      "Watermark Presence Prob.: 0\n",
      "caption : A man with a ball cap and an apron using a brick oven. \n",
      "Watermark Presence Prob.: 0\n",
      "caption : The baker is getting ready for his bread to be ready.\n"
     ]
    },
    {
     "name": "stderr",
     "output_type": "stream",
     "text": [
      "  4%|▍         | 9/200 [00:31<10:39,  3.35s/it]"
     ]
    },
    {
     "name": "stdout",
     "output_type": "stream",
     "text": [
      "Watermark Presence Prob.: 0\n",
      "---------- Count = 10 : Visual Paraphrasing for the watermarked version of 309322-------------\n",
      "\n",
      "Image name :  Image_309322.jpg\n",
      "Image id : 309322\n"
     ]
    },
    {
     "data": {
      "application/vnd.jupyter.widget-view+json": {
       "model_id": "7e0050d341a24a8d90251248dfb1d7f6",
       "version_major": 2,
       "version_minor": 0
      },
      "text/plain": [
       "  0%|          | 0/5 [00:00<?, ?it/s]"
      ]
     },
     "metadata": {},
     "output_type": "display_data"
    },
    {
     "name": "stdout",
     "output_type": "stream",
     "text": [
      "Saving generated images at /raid/home/ashhar21137/watermarking/dwtDctSvd/dwt_paraphrase_0.1/309322\n",
      "Generated Image saved to /raid/home/ashhar21137/watermarking/dwtDctSvd/dwt_paraphrase_0.1/309322/309322_gen_0.png\n",
      "Generated Image saved to /raid/home/ashhar21137/watermarking/dwtDctSvd/dwt_paraphrase_0.1/309322/309322_gen_1.png\n",
      "Generated Image saved to /raid/home/ashhar21137/watermarking/dwtDctSvd/dwt_paraphrase_0.1/309322/309322_gen_2.png\n",
      "Generated Image saved to /raid/home/ashhar21137/watermarking/dwtDctSvd/dwt_paraphrase_0.1/309322/309322_gen_3.png\n",
      "Generated Image saved to /raid/home/ashhar21137/watermarking/dwtDctSvd/dwt_paraphrase_0.1/309322/309322_gen_4.png\n",
      "\n",
      "Number of images generated :  5\n",
      "********** Watermark detection for generated images ***************\n",
      "caption : The Phillips 66 clocks is in front of some posters.\n",
      "Watermark Presence Prob.: 0.0\n",
      "caption : Vintage photos of a car and motorcycle are displayed with a gas station clock.\n",
      "Watermark Presence Prob.: 0\n",
      "caption : Phillips 66 logo with photo of old car and motorcycle behind.\n",
      "Watermark Presence Prob.: 0\n",
      "caption : A clock hangs on the wall underneath some pictures\n",
      "Watermark Presence Prob.: 0.0\n",
      "caption : A clock resembling an old gas station sign.\n"
     ]
    },
    {
     "name": "stderr",
     "output_type": "stream",
     "text": [
      "  5%|▌         | 10/200 [00:34<10:15,  3.24s/it]"
     ]
    },
    {
     "name": "stdout",
     "output_type": "stream",
     "text": [
      "Watermark Presence Prob.: 0.0\n",
      "---------- Count = 11 : Visual Paraphrasing for the watermarked version of 239728-------------\n",
      "\n",
      "Image name :  Image_239728.jpg\n",
      "Image id : 239728\n"
     ]
    },
    {
     "data": {
      "application/vnd.jupyter.widget-view+json": {
       "model_id": "df43d2002b2645c9842819d0c7e2e889",
       "version_major": 2,
       "version_minor": 0
      },
      "text/plain": [
       "  0%|          | 0/5 [00:00<?, ?it/s]"
      ]
     },
     "metadata": {},
     "output_type": "display_data"
    },
    {
     "name": "stdout",
     "output_type": "stream",
     "text": [
      "Saving generated images at /raid/home/ashhar21137/watermarking/dwtDctSvd/dwt_paraphrase_0.1/239728\n",
      "Generated Image saved to /raid/home/ashhar21137/watermarking/dwtDctSvd/dwt_paraphrase_0.1/239728/239728_gen_0.png\n",
      "Generated Image saved to /raid/home/ashhar21137/watermarking/dwtDctSvd/dwt_paraphrase_0.1/239728/239728_gen_1.png\n",
      "Generated Image saved to /raid/home/ashhar21137/watermarking/dwtDctSvd/dwt_paraphrase_0.1/239728/239728_gen_2.png\n",
      "Generated Image saved to /raid/home/ashhar21137/watermarking/dwtDctSvd/dwt_paraphrase_0.1/239728/239728_gen_3.png\n",
      "Generated Image saved to /raid/home/ashhar21137/watermarking/dwtDctSvd/dwt_paraphrase_0.1/239728/239728_gen_4.png\n",
      "\n",
      "Number of images generated :  5\n",
      "********** Watermark detection for generated images ***************\n",
      "caption : Two sheep grazing on green grass in a field.\n",
      "Watermark Presence Prob.: 0\n",
      "caption : Several sheep grazing in a grass pasture near mountains.\n",
      "Watermark Presence Prob.: 0\n",
      "caption : A couple sheep eating grass in the green fields.\n",
      "Watermark Presence Prob.: 0\n",
      "caption : The sheep are standing and grazing in a pasture.\n",
      "Watermark Presence Prob.: 0\n",
      "caption : Two sheep in a pasture, one has been sheared.\n"
     ]
    },
    {
     "name": "stderr",
     "output_type": "stream",
     "text": [
      "  6%|▌         | 11/200 [00:37<09:59,  3.17s/it]"
     ]
    },
    {
     "name": "stdout",
     "output_type": "stream",
     "text": [
      "Watermark Presence Prob.: 0\n",
      "---------- Count = 12 : Visual Paraphrasing for the watermarked version of 341550-------------\n",
      "\n",
      "Image name :  Image_341550.jpg\n",
      "Image id : 341550\n"
     ]
    },
    {
     "data": {
      "application/vnd.jupyter.widget-view+json": {
       "model_id": "bb056db23c9f442c994b0eb8721f50c7",
       "version_major": 2,
       "version_minor": 0
      },
      "text/plain": [
       "  0%|          | 0/5 [00:00<?, ?it/s]"
      ]
     },
     "metadata": {},
     "output_type": "display_data"
    },
    {
     "name": "stdout",
     "output_type": "stream",
     "text": [
      "Saving generated images at /raid/home/ashhar21137/watermarking/dwtDctSvd/dwt_paraphrase_0.1/341550\n",
      "Generated Image saved to /raid/home/ashhar21137/watermarking/dwtDctSvd/dwt_paraphrase_0.1/341550/341550_gen_0.png\n",
      "Generated Image saved to /raid/home/ashhar21137/watermarking/dwtDctSvd/dwt_paraphrase_0.1/341550/341550_gen_1.png\n",
      "Generated Image saved to /raid/home/ashhar21137/watermarking/dwtDctSvd/dwt_paraphrase_0.1/341550/341550_gen_2.png\n",
      "Generated Image saved to /raid/home/ashhar21137/watermarking/dwtDctSvd/dwt_paraphrase_0.1/341550/341550_gen_3.png\n",
      "Generated Image saved to /raid/home/ashhar21137/watermarking/dwtDctSvd/dwt_paraphrase_0.1/341550/341550_gen_4.png\n",
      "\n",
      "Number of images generated :  5\n",
      "********** Watermark detection for generated images ***************\n",
      "caption : Two tall towers abut the main part of a gothic cathedral.\n",
      "Watermark Presence Prob.: 0\n",
      "caption : A large cathedral is shown against the blue sky.\n",
      "Watermark Presence Prob.: 0\n",
      "caption : Large cathedral during daylight on a cloudy day.\n"
     ]
    },
    {
     "name": "stderr",
     "output_type": "stream",
     "text": [
      "  6%|▌         | 12/200 [00:39<09:21,  2.99s/it]"
     ]
    },
    {
     "name": "stdout",
     "output_type": "stream",
     "text": [
      "Watermark Presence Prob.: 0.0\n",
      "caption : A big cathedral with ornate stone work against a blue sky\n",
      "Watermark Presence Prob.: 0\n",
      "caption : A church with two towers has a clock on top.\n",
      "Watermark Presence Prob.: 0\n",
      "---------- Count = 13 : Visual Paraphrasing for the watermarked version of 405613-------------\n",
      "\n",
      "Image name :  Image_405613.jpg\n",
      "Image id : 405613\n"
     ]
    },
    {
     "data": {
      "application/vnd.jupyter.widget-view+json": {
       "model_id": "e4f1ef613ec44a1f8ce10851bf988038",
       "version_major": 2,
       "version_minor": 0
      },
      "text/plain": [
       "  0%|          | 0/5 [00:00<?, ?it/s]"
      ]
     },
     "metadata": {},
     "output_type": "display_data"
    },
    {
     "name": "stdout",
     "output_type": "stream",
     "text": [
      "Saving generated images at /raid/home/ashhar21137/watermarking/dwtDctSvd/dwt_paraphrase_0.1/405613\n",
      "Generated Image saved to /raid/home/ashhar21137/watermarking/dwtDctSvd/dwt_paraphrase_0.1/405613/405613_gen_0.png\n",
      "Generated Image saved to /raid/home/ashhar21137/watermarking/dwtDctSvd/dwt_paraphrase_0.1/405613/405613_gen_1.png\n",
      "Generated Image saved to /raid/home/ashhar21137/watermarking/dwtDctSvd/dwt_paraphrase_0.1/405613/405613_gen_2.png\n",
      "Generated Image saved to /raid/home/ashhar21137/watermarking/dwtDctSvd/dwt_paraphrase_0.1/405613/405613_gen_3.png\n",
      "Generated Image saved to /raid/home/ashhar21137/watermarking/dwtDctSvd/dwt_paraphrase_0.1/405613/405613_gen_4.png\n",
      "\n",
      "Number of images generated :  5\n",
      "********** Watermark detection for generated images ***************\n",
      "caption : A group of men at a table preparing food together\n",
      "Watermark Presence Prob.: 0.0\n",
      "caption : some men standing around a counter while making a pizza \n",
      "Watermark Presence Prob.: 0.0\n",
      "caption : people preparing what they want to eat on a table\n"
     ]
    },
    {
     "name": "stderr",
     "output_type": "stream",
     "text": [
      "  6%|▋         | 13/200 [00:43<09:25,  3.02s/it]"
     ]
    },
    {
     "name": "stdout",
     "output_type": "stream",
     "text": [
      "Watermark Presence Prob.: 0\n",
      "caption : A group of people standing at a table with wine making pizzas. \n",
      "Watermark Presence Prob.: 0.0\n",
      "caption : THERE ARE PEOPLE THAT ARE GETTING FOOD OFF OF THE TABLE \n",
      "Watermark Presence Prob.: 0\n",
      "---------- Count = 14 : Visual Paraphrasing for the watermarked version of 441488-------------\n",
      "\n",
      "Image name :  Image_441488.jpg\n",
      "Image id : 441488\n"
     ]
    },
    {
     "data": {
      "application/vnd.jupyter.widget-view+json": {
       "model_id": "ffbed6292f394827bc2148d32b68c901",
       "version_major": 2,
       "version_minor": 0
      },
      "text/plain": [
       "  0%|          | 0/5 [00:00<?, ?it/s]"
      ]
     },
     "metadata": {},
     "output_type": "display_data"
    },
    {
     "name": "stdout",
     "output_type": "stream",
     "text": [
      "Saving generated images at /raid/home/ashhar21137/watermarking/dwtDctSvd/dwt_paraphrase_0.1/441488\n",
      "Generated Image saved to /raid/home/ashhar21137/watermarking/dwtDctSvd/dwt_paraphrase_0.1/441488/441488_gen_0.png\n",
      "Generated Image saved to /raid/home/ashhar21137/watermarking/dwtDctSvd/dwt_paraphrase_0.1/441488/441488_gen_1.png\n",
      "Generated Image saved to /raid/home/ashhar21137/watermarking/dwtDctSvd/dwt_paraphrase_0.1/441488/441488_gen_2.png\n",
      "Generated Image saved to /raid/home/ashhar21137/watermarking/dwtDctSvd/dwt_paraphrase_0.1/441488/441488_gen_3.png\n",
      "Generated Image saved to /raid/home/ashhar21137/watermarking/dwtDctSvd/dwt_paraphrase_0.1/441488/441488_gen_4.png\n",
      "\n",
      "Number of images generated :  5\n",
      "********** Watermark detection for generated images ***************\n",
      "caption : MAN KNEELING BETWEEN TWO BICYCLES LOOKING AT HIS PHONE\n",
      "Watermark Presence Prob.: 0.0\n",
      "caption : A man squatting near two bikes and taking a picture of something. \n",
      "Watermark Presence Prob.: 0\n",
      "caption : Man taking picture while crouching on ground by two parked bicycles. \n"
     ]
    },
    {
     "name": "stderr",
     "output_type": "stream",
     "text": [
      "  7%|▋         | 14/200 [00:45<09:19,  3.01s/it]"
     ]
    },
    {
     "name": "stdout",
     "output_type": "stream",
     "text": [
      "Watermark Presence Prob.: 0\n",
      "caption : a man hunkered down between two bicycles \n",
      "Watermark Presence Prob.: 0.0\n",
      "caption : Man with bicycles squatting while taking a picture with a phone camera.\n",
      "Watermark Presence Prob.: 0\n",
      "---------- Count = 15 : Visual Paraphrasing for the watermarked version of 420721-------------\n",
      "\n",
      "Image name :  Image_420721.jpg\n",
      "Image id : 420721\n"
     ]
    },
    {
     "data": {
      "application/vnd.jupyter.widget-view+json": {
       "model_id": "be5f3206fd4e4ff788ff0f6e7f0cf36a",
       "version_major": 2,
       "version_minor": 0
      },
      "text/plain": [
       "  0%|          | 0/5 [00:00<?, ?it/s]"
      ]
     },
     "metadata": {},
     "output_type": "display_data"
    },
    {
     "name": "stdout",
     "output_type": "stream",
     "text": [
      "Saving generated images at /raid/home/ashhar21137/watermarking/dwtDctSvd/dwt_paraphrase_0.1/420721\n",
      "Generated Image saved to /raid/home/ashhar21137/watermarking/dwtDctSvd/dwt_paraphrase_0.1/420721/420721_gen_0.png\n",
      "Generated Image saved to /raid/home/ashhar21137/watermarking/dwtDctSvd/dwt_paraphrase_0.1/420721/420721_gen_1.png\n",
      "Generated Image saved to /raid/home/ashhar21137/watermarking/dwtDctSvd/dwt_paraphrase_0.1/420721/420721_gen_2.png\n",
      "Generated Image saved to /raid/home/ashhar21137/watermarking/dwtDctSvd/dwt_paraphrase_0.1/420721/420721_gen_3.png\n",
      "Generated Image saved to /raid/home/ashhar21137/watermarking/dwtDctSvd/dwt_paraphrase_0.1/420721/420721_gen_4.png\n",
      "\n",
      "Number of images generated :  5\n",
      "********** Watermark detection for generated images ***************\n",
      "caption : A large furry cat pulling up the bathroom carpet\n",
      "Watermark Presence Prob.: 0.0\n",
      "caption : A playful cat pulls up the corner of a bathroom rug.\n",
      "Watermark Presence Prob.: 0\n",
      "caption : a bath room with a toilet and a cat on the rug\n",
      "Watermark Presence Prob.: 0\n",
      "caption : A cat laying next to a white toilet in a bathroom.\n",
      "Watermark Presence Prob.: 0.0\n",
      "caption : A cat playing with the rug around a toilet.\n"
     ]
    },
    {
     "name": "stderr",
     "output_type": "stream",
     "text": [
      "  8%|▊         | 15/200 [00:49<09:17,  3.01s/it]"
     ]
    },
    {
     "name": "stdout",
     "output_type": "stream",
     "text": [
      "Watermark Presence Prob.: 0.0\n",
      "---------- Count = 16 : Visual Paraphrasing for the watermarked version of 18885-------------\n",
      "\n",
      "Image name :  Image_18885.jpg\n",
      "Image id : 18885\n"
     ]
    },
    {
     "data": {
      "application/vnd.jupyter.widget-view+json": {
       "model_id": "080e11dfee6741dda93c2eb3e04a2514",
       "version_major": 2,
       "version_minor": 0
      },
      "text/plain": [
       "  0%|          | 0/5 [00:00<?, ?it/s]"
      ]
     },
     "metadata": {},
     "output_type": "display_data"
    },
    {
     "name": "stdout",
     "output_type": "stream",
     "text": [
      "Saving generated images at /raid/home/ashhar21137/watermarking/dwtDctSvd/dwt_paraphrase_0.1/18885\n",
      "Generated Image saved to /raid/home/ashhar21137/watermarking/dwtDctSvd/dwt_paraphrase_0.1/18885/18885_gen_0.png\n",
      "Generated Image saved to /raid/home/ashhar21137/watermarking/dwtDctSvd/dwt_paraphrase_0.1/18885/18885_gen_1.png\n",
      "Generated Image saved to /raid/home/ashhar21137/watermarking/dwtDctSvd/dwt_paraphrase_0.1/18885/18885_gen_2.png\n",
      "Generated Image saved to /raid/home/ashhar21137/watermarking/dwtDctSvd/dwt_paraphrase_0.1/18885/18885_gen_3.png\n",
      "Generated Image saved to /raid/home/ashhar21137/watermarking/dwtDctSvd/dwt_paraphrase_0.1/18885/18885_gen_4.png\n",
      "\n",
      "Number of images generated :  5\n",
      "********** Watermark detection for generated images ***************\n",
      "caption : People are standing outside near a very unique looking object. \n",
      "Watermark Presence Prob.: 0.0\n",
      "caption : A masked person staring in front of a crowd.\n",
      "Watermark Presence Prob.: 0\n",
      "caption : A group of people looking at some decorations that look like a mask.\n"
     ]
    },
    {
     "name": "stderr",
     "output_type": "stream",
     "text": [
      "  8%|▊         | 16/200 [00:52<09:31,  3.11s/it]"
     ]
    },
    {
     "name": "stdout",
     "output_type": "stream",
     "text": [
      "Watermark Presence Prob.: 0\n",
      "caption : A large crowd are gathered around a colorfully costumed man.\n",
      "Watermark Presence Prob.: 0.0\n",
      "caption : A large masked character is carried by a group of people in a parade.\n",
      "Watermark Presence Prob.: 0\n",
      "---------- Count = 17 : Visual Paraphrasing for the watermarked version of 399956-------------\n",
      "\n",
      "Image name :  Image_399956.jpg\n",
      "Image id : 399956\n"
     ]
    },
    {
     "data": {
      "application/vnd.jupyter.widget-view+json": {
       "model_id": "b15a4d271bda4a81aa1f0b3f58f7b245",
       "version_major": 2,
       "version_minor": 0
      },
      "text/plain": [
       "  0%|          | 0/5 [00:00<?, ?it/s]"
      ]
     },
     "metadata": {},
     "output_type": "display_data"
    },
    {
     "name": "stdout",
     "output_type": "stream",
     "text": [
      "Saving generated images at /raid/home/ashhar21137/watermarking/dwtDctSvd/dwt_paraphrase_0.1/399956\n",
      "Generated Image saved to /raid/home/ashhar21137/watermarking/dwtDctSvd/dwt_paraphrase_0.1/399956/399956_gen_0.png\n",
      "Generated Image saved to /raid/home/ashhar21137/watermarking/dwtDctSvd/dwt_paraphrase_0.1/399956/399956_gen_1.png\n",
      "Generated Image saved to /raid/home/ashhar21137/watermarking/dwtDctSvd/dwt_paraphrase_0.1/399956/399956_gen_2.png\n",
      "Generated Image saved to /raid/home/ashhar21137/watermarking/dwtDctSvd/dwt_paraphrase_0.1/399956/399956_gen_3.png\n",
      "Generated Image saved to /raid/home/ashhar21137/watermarking/dwtDctSvd/dwt_paraphrase_0.1/399956/399956_gen_4.png\n",
      "\n",
      "Number of images generated :  5\n",
      "********** Watermark detection for generated images ***************\n",
      "caption : An adorable little gir sitting on a park bench.\n",
      "Watermark Presence Prob.: 0\n",
      "caption : A little girl is sitting on a bench for a photo\n",
      "Watermark Presence Prob.: 0\n",
      "caption : A young girl sits on a bench for a picture\n",
      "Watermark Presence Prob.: 0\n",
      "caption : A girl sitting on a stone bench surrounded by plants.\n"
     ]
    },
    {
     "name": "stderr",
     "output_type": "stream",
     "text": [
      "  8%|▊         | 17/200 [00:55<09:10,  3.01s/it]"
     ]
    },
    {
     "name": "stdout",
     "output_type": "stream",
     "text": [
      "Watermark Presence Prob.: 0\n",
      "caption : Girl sitting sideways on bench with red shirt and green blue shorts and slippers.\n",
      "Watermark Presence Prob.: 0\n",
      "---------- Count = 18 : Visual Paraphrasing for the watermarked version of 93785-------------\n",
      "\n",
      "Image name :  Image_93785.jpg\n",
      "Image id : 93785\n"
     ]
    },
    {
     "data": {
      "application/vnd.jupyter.widget-view+json": {
       "model_id": "4de6f1f9b6314a1280b95b8499aba219",
       "version_major": 2,
       "version_minor": 0
      },
      "text/plain": [
       "  0%|          | 0/5 [00:00<?, ?it/s]"
      ]
     },
     "metadata": {},
     "output_type": "display_data"
    },
    {
     "name": "stdout",
     "output_type": "stream",
     "text": [
      "Saving generated images at /raid/home/ashhar21137/watermarking/dwtDctSvd/dwt_paraphrase_0.1/93785\n",
      "Generated Image saved to /raid/home/ashhar21137/watermarking/dwtDctSvd/dwt_paraphrase_0.1/93785/93785_gen_0.png\n",
      "Generated Image saved to /raid/home/ashhar21137/watermarking/dwtDctSvd/dwt_paraphrase_0.1/93785/93785_gen_1.png\n",
      "Generated Image saved to /raid/home/ashhar21137/watermarking/dwtDctSvd/dwt_paraphrase_0.1/93785/93785_gen_2.png\n",
      "Generated Image saved to /raid/home/ashhar21137/watermarking/dwtDctSvd/dwt_paraphrase_0.1/93785/93785_gen_3.png\n",
      "Generated Image saved to /raid/home/ashhar21137/watermarking/dwtDctSvd/dwt_paraphrase_0.1/93785/93785_gen_4.png\n",
      "\n",
      "Number of images generated :  5\n",
      "********** Watermark detection for generated images ***************\n",
      "caption : Commode scene in white with red sterilized notice.\n",
      "Watermark Presence Prob.: 0\n",
      "caption : A white toilet with matching walls and a sterilized sign.\n",
      "Watermark Presence Prob.: 0.0\n",
      "caption : a bathroom with a toilet and a sign on the lid\n"
     ]
    },
    {
     "name": "stderr",
     "output_type": "stream",
     "text": [
      "  9%|▉         | 18/200 [00:58<09:21,  3.08s/it]"
     ]
    },
    {
     "name": "stdout",
     "output_type": "stream",
     "text": [
      "Watermark Presence Prob.: 0.0\n",
      "caption : A toilet seat with the word sterilized on it.\n",
      "Watermark Presence Prob.: 0.0\n",
      "caption : A toilet with the word \"sterilized\" printed across it. \n",
      "Watermark Presence Prob.: 0.0\n",
      "---------- Count = 19 : Visual Paraphrasing for the watermarked version of 570246-------------\n",
      "\n",
      "Image name :  Image_570246.jpg\n",
      "Image id : 570246\n"
     ]
    },
    {
     "data": {
      "application/vnd.jupyter.widget-view+json": {
       "model_id": "7c1888352bf64108ac482ae5da99d370",
       "version_major": 2,
       "version_minor": 0
      },
      "text/plain": [
       "  0%|          | 0/5 [00:00<?, ?it/s]"
      ]
     },
     "metadata": {},
     "output_type": "display_data"
    },
    {
     "name": "stdout",
     "output_type": "stream",
     "text": [
      "Saving generated images at /raid/home/ashhar21137/watermarking/dwtDctSvd/dwt_paraphrase_0.1/570246\n",
      "Generated Image saved to /raid/home/ashhar21137/watermarking/dwtDctSvd/dwt_paraphrase_0.1/570246/570246_gen_0.png\n",
      "Generated Image saved to /raid/home/ashhar21137/watermarking/dwtDctSvd/dwt_paraphrase_0.1/570246/570246_gen_1.png\n",
      "Generated Image saved to /raid/home/ashhar21137/watermarking/dwtDctSvd/dwt_paraphrase_0.1/570246/570246_gen_2.png\n",
      "Generated Image saved to /raid/home/ashhar21137/watermarking/dwtDctSvd/dwt_paraphrase_0.1/570246/570246_gen_3.png\n",
      "Generated Image saved to /raid/home/ashhar21137/watermarking/dwtDctSvd/dwt_paraphrase_0.1/570246/570246_gen_4.png\n",
      "\n",
      "Number of images generated :  5\n",
      "********** Watermark detection for generated images ***************\n",
      "caption : A giraffe puts its nose into a pool of water.\n",
      "Watermark Presence Prob.: 0\n",
      "caption : a close up of a giraffe bending down drinking water\n",
      "Watermark Presence Prob.: 0\n",
      "caption : A giraffe sticking its face into a watering hole.\n",
      "Watermark Presence Prob.: 0\n",
      "caption : tHERE IS A GIRAFFE THAT IS DRINKING WATER\n",
      "Watermark Presence Prob.: 0\n",
      "caption : A very cute giraffe bending down to drink some water.\n"
     ]
    },
    {
     "name": "stderr",
     "output_type": "stream",
     "text": [
      " 10%|▉         | 19/200 [01:02<10:01,  3.33s/it]"
     ]
    },
    {
     "name": "stdout",
     "output_type": "stream",
     "text": [
      "Watermark Presence Prob.: 0.0\n",
      "---------- Count = 20 : Visual Paraphrasing for the watermarked version of 262845-------------\n",
      "\n",
      "Image name :  Image_262845.jpg\n",
      "Image id : 262845\n"
     ]
    },
    {
     "data": {
      "application/vnd.jupyter.widget-view+json": {
       "model_id": "02df37aec14045bfbefdf98c47c1ac27",
       "version_major": 2,
       "version_minor": 0
      },
      "text/plain": [
       "  0%|          | 0/5 [00:00<?, ?it/s]"
      ]
     },
     "metadata": {},
     "output_type": "display_data"
    },
    {
     "name": "stdout",
     "output_type": "stream",
     "text": [
      "Saving generated images at /raid/home/ashhar21137/watermarking/dwtDctSvd/dwt_paraphrase_0.1/262845\n",
      "Generated Image saved to /raid/home/ashhar21137/watermarking/dwtDctSvd/dwt_paraphrase_0.1/262845/262845_gen_0.png\n",
      "Generated Image saved to /raid/home/ashhar21137/watermarking/dwtDctSvd/dwt_paraphrase_0.1/262845/262845_gen_1.png\n",
      "Generated Image saved to /raid/home/ashhar21137/watermarking/dwtDctSvd/dwt_paraphrase_0.1/262845/262845_gen_2.png\n",
      "Generated Image saved to /raid/home/ashhar21137/watermarking/dwtDctSvd/dwt_paraphrase_0.1/262845/262845_gen_3.png\n",
      "Generated Image saved to /raid/home/ashhar21137/watermarking/dwtDctSvd/dwt_paraphrase_0.1/262845/262845_gen_4.png\n",
      "\n",
      "Number of images generated :  5\n",
      "********** Watermark detection for generated images ***************\n",
      "caption : A picture of a broken down bathroom with two sinks.\n",
      "Watermark Presence Prob.: 0\n",
      "caption : A dirty bathroom with two sinks and a curtain.\n",
      "Watermark Presence Prob.: 0\n",
      "caption : A dirty double sink bathroom with a curtain. \n",
      "Watermark Presence Prob.: 0\n",
      "caption : Two bathroom sinks are shown in a beat up bathroom.\n"
     ]
    },
    {
     "name": "stderr",
     "output_type": "stream",
     "text": [
      " 10%|█         | 20/200 [01:06<10:31,  3.51s/it]"
     ]
    },
    {
     "name": "stdout",
     "output_type": "stream",
     "text": [
      "Watermark Presence Prob.: 0.0\n",
      "caption : Two sinks are shown in an abandoned place.\n",
      "Watermark Presence Prob.: 0.0\n",
      "---------- Count = 21 : Visual Paraphrasing for the watermarked version of 49183-------------\n",
      "\n",
      "Image name :  Image_49183.jpg\n",
      "Image id : 49183\n"
     ]
    },
    {
     "data": {
      "application/vnd.jupyter.widget-view+json": {
       "model_id": "cd0376e6325e45f8a86f00e189d0026d",
       "version_major": 2,
       "version_minor": 0
      },
      "text/plain": [
       "  0%|          | 0/5 [00:00<?, ?it/s]"
      ]
     },
     "metadata": {},
     "output_type": "display_data"
    },
    {
     "name": "stdout",
     "output_type": "stream",
     "text": [
      "Saving generated images at /raid/home/ashhar21137/watermarking/dwtDctSvd/dwt_paraphrase_0.1/49183\n",
      "Generated Image saved to /raid/home/ashhar21137/watermarking/dwtDctSvd/dwt_paraphrase_0.1/49183/49183_gen_0.png\n",
      "Generated Image saved to /raid/home/ashhar21137/watermarking/dwtDctSvd/dwt_paraphrase_0.1/49183/49183_gen_1.png\n",
      "Generated Image saved to /raid/home/ashhar21137/watermarking/dwtDctSvd/dwt_paraphrase_0.1/49183/49183_gen_2.png\n",
      "Generated Image saved to /raid/home/ashhar21137/watermarking/dwtDctSvd/dwt_paraphrase_0.1/49183/49183_gen_3.png\n",
      "Generated Image saved to /raid/home/ashhar21137/watermarking/dwtDctSvd/dwt_paraphrase_0.1/49183/49183_gen_4.png\n",
      "\n",
      "Number of images generated :  5\n",
      "********** Watermark detection for generated images ***************\n",
      "caption : A white toilet commode sits on a tile floor.\n",
      "Watermark Presence Prob.: 0\n",
      "caption : A toilet bowl with a bucket and trash can by it.\n",
      "Watermark Presence Prob.: 0.25\n",
      "caption : A dirty toilet in a dirty bathroom with laminate flooring. \n"
     ]
    },
    {
     "name": "stderr",
     "output_type": "stream",
     "text": [
      " 10%|█         | 21/200 [01:09<10:36,  3.55s/it]"
     ]
    },
    {
     "name": "stdout",
     "output_type": "stream",
     "text": [
      "Watermark Presence Prob.: 0\n",
      "caption : a toilet sits on a tiled floor next to a trash can \n",
      "Watermark Presence Prob.: 0\n",
      "caption : The toilet and surrounding area is extremely dirty. \n",
      "Watermark Presence Prob.: 0\n",
      "---------- Count = 22 : Visual Paraphrasing for the watermarked version of 142088-------------\n",
      "\n",
      "Image name :  Image_142088.jpg\n",
      "Image id : 142088\n"
     ]
    },
    {
     "data": {
      "application/vnd.jupyter.widget-view+json": {
       "model_id": "8d92a00f976e4207b91812c9822b132d",
       "version_major": 2,
       "version_minor": 0
      },
      "text/plain": [
       "  0%|          | 0/5 [00:00<?, ?it/s]"
      ]
     },
     "metadata": {},
     "output_type": "display_data"
    },
    {
     "name": "stdout",
     "output_type": "stream",
     "text": [
      "Saving generated images at /raid/home/ashhar21137/watermarking/dwtDctSvd/dwt_paraphrase_0.1/142088\n",
      "Generated Image saved to /raid/home/ashhar21137/watermarking/dwtDctSvd/dwt_paraphrase_0.1/142088/142088_gen_0.png\n",
      "Generated Image saved to /raid/home/ashhar21137/watermarking/dwtDctSvd/dwt_paraphrase_0.1/142088/142088_gen_1.png\n",
      "Generated Image saved to /raid/home/ashhar21137/watermarking/dwtDctSvd/dwt_paraphrase_0.1/142088/142088_gen_2.png\n",
      "Generated Image saved to /raid/home/ashhar21137/watermarking/dwtDctSvd/dwt_paraphrase_0.1/142088/142088_gen_3.png\n",
      "Generated Image saved to /raid/home/ashhar21137/watermarking/dwtDctSvd/dwt_paraphrase_0.1/142088/142088_gen_4.png\n",
      "\n",
      "Number of images generated :  5\n",
      "********** Watermark detection for generated images ***************\n",
      "caption : Black motorcycle sitting underneath an overhang outdoors. \n",
      "Watermark Presence Prob.: 0.0\n",
      "caption : a motorcycle sitting under an awning next to a bunch of stuff \n",
      "Watermark Presence Prob.: 0\n",
      "caption : A bunch of stuff that is being stored in a small open building. \n",
      "Watermark Presence Prob.: 0\n",
      "caption : A motorcycle parked under a wooden structure with other items.\n",
      "Watermark Presence Prob.: 0\n",
      "caption : Motorcycle parked under covered area in fenced yard.\n"
     ]
    },
    {
     "name": "stderr",
     "output_type": "stream",
     "text": [
      " 11%|█         | 22/200 [01:12<10:02,  3.38s/it]"
     ]
    },
    {
     "name": "stdout",
     "output_type": "stream",
     "text": [
      "Watermark Presence Prob.: 0\n",
      "---------- Count = 23 : Visual Paraphrasing for the watermarked version of 394326-------------\n",
      "\n",
      "Image name :  Image_394326.jpg\n",
      "Image id : 394326\n"
     ]
    },
    {
     "data": {
      "application/vnd.jupyter.widget-view+json": {
       "model_id": "85f9080aad54491392b93a1aef5dbfb9",
       "version_major": 2,
       "version_minor": 0
      },
      "text/plain": [
       "  0%|          | 0/5 [00:00<?, ?it/s]"
      ]
     },
     "metadata": {},
     "output_type": "display_data"
    },
    {
     "name": "stdout",
     "output_type": "stream",
     "text": [
      "Saving generated images at /raid/home/ashhar21137/watermarking/dwtDctSvd/dwt_paraphrase_0.1/394326\n",
      "Generated Image saved to /raid/home/ashhar21137/watermarking/dwtDctSvd/dwt_paraphrase_0.1/394326/394326_gen_0.png\n",
      "Generated Image saved to /raid/home/ashhar21137/watermarking/dwtDctSvd/dwt_paraphrase_0.1/394326/394326_gen_1.png\n",
      "Generated Image saved to /raid/home/ashhar21137/watermarking/dwtDctSvd/dwt_paraphrase_0.1/394326/394326_gen_2.png\n",
      "Generated Image saved to /raid/home/ashhar21137/watermarking/dwtDctSvd/dwt_paraphrase_0.1/394326/394326_gen_3.png\n",
      "Generated Image saved to /raid/home/ashhar21137/watermarking/dwtDctSvd/dwt_paraphrase_0.1/394326/394326_gen_4.png\n",
      "\n",
      "Number of images generated :  5\n",
      "********** Watermark detection for generated images ***************\n",
      "caption : A black and white photo of restroom toilet with a filthy floor.\n",
      "Watermark Presence Prob.: 0.0\n",
      "caption : Black and white photograph of bathroom toilet and sink.\n",
      "Watermark Presence Prob.: 0.0\n",
      "caption : A dirty looking bathroom with a sink and a toilet.\n",
      "Watermark Presence Prob.: 0.0\n",
      "caption : A black and white photo of a dirty bathroom with focus on the toilet.\n"
     ]
    },
    {
     "name": "stderr",
     "output_type": "stream",
     "text": [
      " 12%|█▏        | 23/200 [01:16<10:11,  3.45s/it]"
     ]
    },
    {
     "name": "stdout",
     "output_type": "stream",
     "text": [
      "Watermark Presence Prob.: 0.0\n",
      "caption : A toilet and sink sit in a dark room.\n",
      "Watermark Presence Prob.: 0.0\n",
      "---------- Count = 24 : Visual Paraphrasing for the watermarked version of 524068-------------\n",
      "\n",
      "Image name :  Image_524068.jpg\n",
      "Image id : 524068\n"
     ]
    },
    {
     "data": {
      "application/vnd.jupyter.widget-view+json": {
       "model_id": "99b996ff74684b6ab7e74bb23ec8d1e1",
       "version_major": 2,
       "version_minor": 0
      },
      "text/plain": [
       "  0%|          | 0/5 [00:00<?, ?it/s]"
      ]
     },
     "metadata": {},
     "output_type": "display_data"
    },
    {
     "name": "stdout",
     "output_type": "stream",
     "text": [
      "Saving generated images at /raid/home/ashhar21137/watermarking/dwtDctSvd/dwt_paraphrase_0.1/524068\n",
      "Generated Image saved to /raid/home/ashhar21137/watermarking/dwtDctSvd/dwt_paraphrase_0.1/524068/524068_gen_0.png\n",
      "Generated Image saved to /raid/home/ashhar21137/watermarking/dwtDctSvd/dwt_paraphrase_0.1/524068/524068_gen_1.png\n",
      "Generated Image saved to /raid/home/ashhar21137/watermarking/dwtDctSvd/dwt_paraphrase_0.1/524068/524068_gen_2.png\n",
      "Generated Image saved to /raid/home/ashhar21137/watermarking/dwtDctSvd/dwt_paraphrase_0.1/524068/524068_gen_3.png\n",
      "Generated Image saved to /raid/home/ashhar21137/watermarking/dwtDctSvd/dwt_paraphrase_0.1/524068/524068_gen_4.png\n",
      "\n",
      "Number of images generated :  5\n",
      "********** Watermark detection for generated images ***************\n",
      "caption : A man with a video camera films a motorcycle procession\n",
      "Watermark Presence Prob.: 0\n",
      "caption : A man is filming some motor scooters coming down the road. \n",
      "Watermark Presence Prob.: 0\n",
      "caption : A row of motorcycles passing by person with video camera.\n",
      "Watermark Presence Prob.: 0.0\n",
      "caption : An evening picture of motorcycles and cars parked on the street with a purpose outside.\n",
      "Watermark Presence Prob.: 0.0\n",
      "caption : a person recording a motorcycle in a lot \n"
     ]
    },
    {
     "name": "stderr",
     "output_type": "stream",
     "text": [
      " 12%|█▏        | 24/200 [01:20<10:33,  3.60s/it]"
     ]
    },
    {
     "name": "stdout",
     "output_type": "stream",
     "text": [
      "Watermark Presence Prob.: 0.0\n",
      "---------- Count = 25 : Visual Paraphrasing for the watermarked version of 352884-------------\n",
      "\n",
      "Image name :  Image_352884.jpg\n",
      "Image id : 352884\n"
     ]
    },
    {
     "data": {
      "application/vnd.jupyter.widget-view+json": {
       "model_id": "3c6268fc401a49439c62ffa97a197d96",
       "version_major": 2,
       "version_minor": 0
      },
      "text/plain": [
       "  0%|          | 0/5 [00:00<?, ?it/s]"
      ]
     },
     "metadata": {},
     "output_type": "display_data"
    },
    {
     "name": "stdout",
     "output_type": "stream",
     "text": [
      "Saving generated images at /raid/home/ashhar21137/watermarking/dwtDctSvd/dwt_paraphrase_0.1/352884\n",
      "Generated Image saved to /raid/home/ashhar21137/watermarking/dwtDctSvd/dwt_paraphrase_0.1/352884/352884_gen_0.png\n",
      "Generated Image saved to /raid/home/ashhar21137/watermarking/dwtDctSvd/dwt_paraphrase_0.1/352884/352884_gen_1.png\n",
      "Generated Image saved to /raid/home/ashhar21137/watermarking/dwtDctSvd/dwt_paraphrase_0.1/352884/352884_gen_2.png\n",
      "Generated Image saved to /raid/home/ashhar21137/watermarking/dwtDctSvd/dwt_paraphrase_0.1/352884/352884_gen_3.png\n",
      "Generated Image saved to /raid/home/ashhar21137/watermarking/dwtDctSvd/dwt_paraphrase_0.1/352884/352884_gen_4.png\n",
      "\n",
      "Number of images generated :  5\n",
      "********** Watermark detection for generated images ***************\n",
      "caption : Bathroom with destroyed walls, a sink and a mirrored cabinet. \n",
      "Watermark Presence Prob.: 0\n",
      "caption : A run down bathroom with paint peeling off the walls. \n",
      "Watermark Presence Prob.: 0\n",
      "caption : The bathroom is in need of remodeling and repair. \n",
      "Watermark Presence Prob.: 0\n",
      "caption : A crumbling bathroom has a sink and a medicine cabinet.\n"
     ]
    },
    {
     "name": "stderr",
     "output_type": "stream",
     "text": [
      " 12%|█▎        | 25/200 [01:24<10:48,  3.70s/it]"
     ]
    },
    {
     "name": "stdout",
     "output_type": "stream",
     "text": [
      "Watermark Presence Prob.: 0.0\n",
      "caption : The paint of an abandoned bathroom peels off the walls.\n",
      "Watermark Presence Prob.: 0\n",
      "---------- Count = 26 : Visual Paraphrasing for the watermarked version of 199628-------------\n",
      "\n",
      "Image name :  Image_199628.jpg\n",
      "Image id : 199628\n"
     ]
    },
    {
     "data": {
      "application/vnd.jupyter.widget-view+json": {
       "model_id": "209f1fae5a404675bb43a7b2f0e12d0f",
       "version_major": 2,
       "version_minor": 0
      },
      "text/plain": [
       "  0%|          | 0/5 [00:00<?, ?it/s]"
      ]
     },
     "metadata": {},
     "output_type": "display_data"
    },
    {
     "name": "stdout",
     "output_type": "stream",
     "text": [
      "Saving generated images at /raid/home/ashhar21137/watermarking/dwtDctSvd/dwt_paraphrase_0.1/199628\n",
      "Generated Image saved to /raid/home/ashhar21137/watermarking/dwtDctSvd/dwt_paraphrase_0.1/199628/199628_gen_0.png\n",
      "Generated Image saved to /raid/home/ashhar21137/watermarking/dwtDctSvd/dwt_paraphrase_0.1/199628/199628_gen_1.png\n",
      "Generated Image saved to /raid/home/ashhar21137/watermarking/dwtDctSvd/dwt_paraphrase_0.1/199628/199628_gen_2.png\n",
      "Generated Image saved to /raid/home/ashhar21137/watermarking/dwtDctSvd/dwt_paraphrase_0.1/199628/199628_gen_3.png\n",
      "Generated Image saved to /raid/home/ashhar21137/watermarking/dwtDctSvd/dwt_paraphrase_0.1/199628/199628_gen_4.png\n",
      "\n",
      "Number of images generated :  5\n",
      "********** Watermark detection for generated images ***************\n",
      "caption : A public restroom has two sinks shaped like fancy vases. \n",
      "Watermark Presence Prob.: 0\n",
      "caption : Two tall ceramic sinks in a men's restroom. \n",
      "Watermark Presence Prob.: 0\n",
      "caption : Two old fashion looking pots are standing in a bathroom. \n",
      "Watermark Presence Prob.: 0\n",
      "caption : Two sinks are shown that are blue and white floral.\n"
     ]
    },
    {
     "name": "stderr",
     "output_type": "stream",
     "text": [
      " 13%|█▎        | 26/200 [01:28<10:42,  3.69s/it]"
     ]
    },
    {
     "name": "stdout",
     "output_type": "stream",
     "text": [
      "Watermark Presence Prob.: 0\n",
      "caption : Two sinks ,mirrors and urinals in a bathroom.\n",
      "Watermark Presence Prob.: 0\n",
      "---------- Count = 27 : Visual Paraphrasing for the watermarked version of 160559-------------\n",
      "\n",
      "Image name :  Image_160559.jpg\n",
      "Image id : 160559\n"
     ]
    },
    {
     "data": {
      "application/vnd.jupyter.widget-view+json": {
       "model_id": "ddef5936d0ee4ad0b070753e99597f24",
       "version_major": 2,
       "version_minor": 0
      },
      "text/plain": [
       "  0%|          | 0/5 [00:00<?, ?it/s]"
      ]
     },
     "metadata": {},
     "output_type": "display_data"
    },
    {
     "name": "stdout",
     "output_type": "stream",
     "text": [
      "Saving generated images at /raid/home/ashhar21137/watermarking/dwtDctSvd/dwt_paraphrase_0.1/160559\n",
      "Generated Image saved to /raid/home/ashhar21137/watermarking/dwtDctSvd/dwt_paraphrase_0.1/160559/160559_gen_0.png\n",
      "Generated Image saved to /raid/home/ashhar21137/watermarking/dwtDctSvd/dwt_paraphrase_0.1/160559/160559_gen_1.png\n",
      "Generated Image saved to /raid/home/ashhar21137/watermarking/dwtDctSvd/dwt_paraphrase_0.1/160559/160559_gen_2.png\n",
      "Generated Image saved to /raid/home/ashhar21137/watermarking/dwtDctSvd/dwt_paraphrase_0.1/160559/160559_gen_3.png\n",
      "Generated Image saved to /raid/home/ashhar21137/watermarking/dwtDctSvd/dwt_paraphrase_0.1/160559/160559_gen_4.png\n",
      "\n",
      "Number of images generated :  5\n",
      "********** Watermark detection for generated images ***************\n",
      "caption : We are looking at a school bus driving down the street.\n",
      "Watermark Presence Prob.: 0\n",
      "caption : a school bus driving on a highway near trees \n",
      "Watermark Presence Prob.: 0\n",
      "caption : A school bus is driving down a road.\n",
      "Watermark Presence Prob.: 0.0\n",
      "caption : A school bus is moving down a freeway.\n",
      "Watermark Presence Prob.: 0.0\n",
      "caption : A yellow school bus driving down a road.\n"
     ]
    },
    {
     "name": "stderr",
     "output_type": "stream",
     "text": [
      " 14%|█▎        | 27/200 [01:31<10:23,  3.60s/it]"
     ]
    },
    {
     "name": "stdout",
     "output_type": "stream",
     "text": [
      "Watermark Presence Prob.: 0.0\n",
      "---------- Count = 28 : Visual Paraphrasing for the watermarked version of 57870-------------\n",
      "\n",
      "Image name :  Image_57870.jpg\n",
      "Image id : 57870\n"
     ]
    },
    {
     "data": {
      "application/vnd.jupyter.widget-view+json": {
       "model_id": "e1d872e30ee840d7b25e3edef6651436",
       "version_major": 2,
       "version_minor": 0
      },
      "text/plain": [
       "  0%|          | 0/5 [00:00<?, ?it/s]"
      ]
     },
     "metadata": {},
     "output_type": "display_data"
    },
    {
     "name": "stdout",
     "output_type": "stream",
     "text": [
      "Saving generated images at /raid/home/ashhar21137/watermarking/dwtDctSvd/dwt_paraphrase_0.1/57870\n",
      "Generated Image saved to /raid/home/ashhar21137/watermarking/dwtDctSvd/dwt_paraphrase_0.1/57870/57870_gen_0.png\n",
      "Generated Image saved to /raid/home/ashhar21137/watermarking/dwtDctSvd/dwt_paraphrase_0.1/57870/57870_gen_1.png\n",
      "Generated Image saved to /raid/home/ashhar21137/watermarking/dwtDctSvd/dwt_paraphrase_0.1/57870/57870_gen_2.png\n",
      "Generated Image saved to /raid/home/ashhar21137/watermarking/dwtDctSvd/dwt_paraphrase_0.1/57870/57870_gen_3.png\n",
      "Generated Image saved to /raid/home/ashhar21137/watermarking/dwtDctSvd/dwt_paraphrase_0.1/57870/57870_gen_4.png\n",
      "\n",
      "Number of images generated :  5\n",
      "********** Watermark detection for generated images ***************\n",
      "caption : A restaurant has modern wooden tables and chairs.\n",
      "Watermark Presence Prob.: 0\n",
      "caption : A long restaurant table with rattan rounded back chairs.\n",
      "Watermark Presence Prob.: 0\n",
      "caption : a long table with a plant on top of it surrounded with wooden chairs \n"
     ]
    },
    {
     "name": "stderr",
     "output_type": "stream",
     "text": [
      " 14%|█▍        | 28/200 [01:34<09:31,  3.32s/it]"
     ]
    },
    {
     "name": "stdout",
     "output_type": "stream",
     "text": [
      "Watermark Presence Prob.: 0\n",
      "caption : A long table with a flower arrangement in the middle for meetings\n",
      "Watermark Presence Prob.: 0\n",
      "caption : A table is adorned with wooden chairs with blue accents.\n",
      "Watermark Presence Prob.: 0\n",
      "---------- Count = 29 : Visual Paraphrasing for the watermarked version of 398494-------------\n",
      "\n",
      "Image name :  Image_398494.jpg\n",
      "Image id : 398494\n"
     ]
    },
    {
     "data": {
      "application/vnd.jupyter.widget-view+json": {
       "model_id": "b32b39d51eb74a0890aba1a1c134bbfd",
       "version_major": 2,
       "version_minor": 0
      },
      "text/plain": [
       "  0%|          | 0/5 [00:00<?, ?it/s]"
      ]
     },
     "metadata": {},
     "output_type": "display_data"
    },
    {
     "name": "stdout",
     "output_type": "stream",
     "text": [
      "Saving generated images at /raid/home/ashhar21137/watermarking/dwtDctSvd/dwt_paraphrase_0.1/398494\n",
      "Generated Image saved to /raid/home/ashhar21137/watermarking/dwtDctSvd/dwt_paraphrase_0.1/398494/398494_gen_0.png\n",
      "Generated Image saved to /raid/home/ashhar21137/watermarking/dwtDctSvd/dwt_paraphrase_0.1/398494/398494_gen_1.png\n",
      "Generated Image saved to /raid/home/ashhar21137/watermarking/dwtDctSvd/dwt_paraphrase_0.1/398494/398494_gen_2.png\n",
      "Generated Image saved to /raid/home/ashhar21137/watermarking/dwtDctSvd/dwt_paraphrase_0.1/398494/398494_gen_3.png\n",
      "Generated Image saved to /raid/home/ashhar21137/watermarking/dwtDctSvd/dwt_paraphrase_0.1/398494/398494_gen_4.png\n",
      "\n",
      "Number of images generated :  5\n",
      "********** Watermark detection for generated images ***************\n",
      "caption : A bicycle parked in a kitchen with a stove and cabinets.\n",
      "Watermark Presence Prob.: 0.0\n",
      "caption : A black bicycle leaning against the kitchen cabinets.\n",
      "Watermark Presence Prob.: 0.0\n",
      "caption : small white kitchen with a bike and backpack parked in it\n",
      "Watermark Presence Prob.: 0\n",
      "caption : A bicycle leaning on the stove and cabinets located inside the kitchen.\n",
      "Watermark Presence Prob.: 0\n",
      "caption : A bicycle parked in a kitchen by the stove.\n"
     ]
    },
    {
     "name": "stderr",
     "output_type": "stream",
     "text": [
      " 14%|█▍        | 29/200 [01:37<09:09,  3.22s/it]"
     ]
    },
    {
     "name": "stdout",
     "output_type": "stream",
     "text": [
      "Watermark Presence Prob.: 0.0\n",
      "---------- Count = 30 : Visual Paraphrasing for the watermarked version of 241364-------------\n",
      "\n",
      "Image name :  Image_241364.jpg\n",
      "Image id : 241364\n"
     ]
    },
    {
     "data": {
      "application/vnd.jupyter.widget-view+json": {
       "model_id": "1d1400ee947f44c5b1da67c11847e0c4",
       "version_major": 2,
       "version_minor": 0
      },
      "text/plain": [
       "  0%|          | 0/5 [00:00<?, ?it/s]"
      ]
     },
     "metadata": {},
     "output_type": "display_data"
    },
    {
     "name": "stdout",
     "output_type": "stream",
     "text": [
      "Saving generated images at /raid/home/ashhar21137/watermarking/dwtDctSvd/dwt_paraphrase_0.1/241364\n",
      "Generated Image saved to /raid/home/ashhar21137/watermarking/dwtDctSvd/dwt_paraphrase_0.1/241364/241364_gen_0.png\n",
      "Generated Image saved to /raid/home/ashhar21137/watermarking/dwtDctSvd/dwt_paraphrase_0.1/241364/241364_gen_1.png\n",
      "Generated Image saved to /raid/home/ashhar21137/watermarking/dwtDctSvd/dwt_paraphrase_0.1/241364/241364_gen_2.png\n",
      "Generated Image saved to /raid/home/ashhar21137/watermarking/dwtDctSvd/dwt_paraphrase_0.1/241364/241364_gen_3.png\n",
      "Generated Image saved to /raid/home/ashhar21137/watermarking/dwtDctSvd/dwt_paraphrase_0.1/241364/241364_gen_4.png\n",
      "\n",
      "Number of images generated :  5\n",
      "********** Watermark detection for generated images ***************\n",
      "caption : A mirror that is sitting behind a sink.\n",
      "Watermark Presence Prob.: 0.0\n",
      "caption : A bathroom with a sink and a toilet in it.\n",
      "Watermark Presence Prob.: 0.0\n",
      "caption : A white bathroom with chrome fixtures and blue tile.\n",
      "Watermark Presence Prob.: 0.0\n",
      "caption : A hotel bathroom with a large sink sticking out of the counter.\n",
      "Watermark Presence Prob.: 0.0\n",
      "caption : A decently sized bathroom with a nice sink\n"
     ]
    },
    {
     "name": "stderr",
     "output_type": "stream",
     "text": [
      " 15%|█▌        | 30/200 [01:40<08:57,  3.16s/it]"
     ]
    },
    {
     "name": "stdout",
     "output_type": "stream",
     "text": [
      "Watermark Presence Prob.: 0.0\n",
      "---------- Count = 31 : Visual Paraphrasing for the watermarked version of 84427-------------\n",
      "\n",
      "Image name :  Image_84427.jpg\n",
      "Image id : 84427\n"
     ]
    },
    {
     "data": {
      "application/vnd.jupyter.widget-view+json": {
       "model_id": "c0deeb767438440fab91ce344c183bfb",
       "version_major": 2,
       "version_minor": 0
      },
      "text/plain": [
       "  0%|          | 0/5 [00:00<?, ?it/s]"
      ]
     },
     "metadata": {},
     "output_type": "display_data"
    },
    {
     "name": "stdout",
     "output_type": "stream",
     "text": [
      "Saving generated images at /raid/home/ashhar21137/watermarking/dwtDctSvd/dwt_paraphrase_0.1/84427\n",
      "Generated Image saved to /raid/home/ashhar21137/watermarking/dwtDctSvd/dwt_paraphrase_0.1/84427/84427_gen_0.png\n",
      "Generated Image saved to /raid/home/ashhar21137/watermarking/dwtDctSvd/dwt_paraphrase_0.1/84427/84427_gen_1.png\n",
      "Generated Image saved to /raid/home/ashhar21137/watermarking/dwtDctSvd/dwt_paraphrase_0.1/84427/84427_gen_2.png\n",
      "Generated Image saved to /raid/home/ashhar21137/watermarking/dwtDctSvd/dwt_paraphrase_0.1/84427/84427_gen_3.png\n",
      "Generated Image saved to /raid/home/ashhar21137/watermarking/dwtDctSvd/dwt_paraphrase_0.1/84427/84427_gen_4.png\n",
      "\n",
      "Number of images generated :  5\n",
      "********** Watermark detection for generated images ***************\n",
      "caption : A small cluttered kitchen with a window and sink.\n",
      "Watermark Presence Prob.: 0.0\n",
      "caption : A kitchen with a sink a dish rack on the wall and utensils hanging from a window. \n",
      "Watermark Presence Prob.: 0.0\n",
      "caption : A strange dark kitchen has an interesting curtain.\n",
      "Watermark Presence Prob.: 0.0\n",
      "caption : A crowded kitchen with dishes hanging from the walls\n"
     ]
    },
    {
     "name": "stderr",
     "output_type": "stream",
     "text": [
      " 16%|█▌        | 31/200 [01:42<08:23,  2.98s/it]"
     ]
    },
    {
     "name": "stdout",
     "output_type": "stream",
     "text": [
      "Watermark Presence Prob.: 0.0\n",
      "caption : A kitchen with many utensils hanging from the window.\n",
      "Watermark Presence Prob.: 0.0\n",
      "---------- Count = 32 : Visual Paraphrasing for the watermarked version of 393493-------------\n",
      "\n",
      "Image name :  Image_393493.jpg\n",
      "Image id : 393493\n"
     ]
    },
    {
     "data": {
      "application/vnd.jupyter.widget-view+json": {
       "model_id": "9d384cbb4d9646a785b7664192031b95",
       "version_major": 2,
       "version_minor": 0
      },
      "text/plain": [
       "  0%|          | 0/5 [00:00<?, ?it/s]"
      ]
     },
     "metadata": {},
     "output_type": "display_data"
    },
    {
     "name": "stdout",
     "output_type": "stream",
     "text": [
      "Saving generated images at /raid/home/ashhar21137/watermarking/dwtDctSvd/dwt_paraphrase_0.1/393493\n",
      "Generated Image saved to /raid/home/ashhar21137/watermarking/dwtDctSvd/dwt_paraphrase_0.1/393493/393493_gen_0.png\n",
      "Generated Image saved to /raid/home/ashhar21137/watermarking/dwtDctSvd/dwt_paraphrase_0.1/393493/393493_gen_1.png\n",
      "Generated Image saved to /raid/home/ashhar21137/watermarking/dwtDctSvd/dwt_paraphrase_0.1/393493/393493_gen_2.png\n",
      "Generated Image saved to /raid/home/ashhar21137/watermarking/dwtDctSvd/dwt_paraphrase_0.1/393493/393493_gen_3.png\n",
      "Generated Image saved to /raid/home/ashhar21137/watermarking/dwtDctSvd/dwt_paraphrase_0.1/393493/393493_gen_4.png\n",
      "\n",
      "Number of images generated :  5\n",
      "********** Watermark detection for generated images ***************\n",
      "caption : Little girl looking down at leaves with her bicycle with training wheels parked next to her.\n",
      "Watermark Presence Prob.: 0\n",
      "caption : A little girl in a red jumpsuit and sweater is near a red bike and red table.\n",
      "Watermark Presence Prob.: 0\n",
      "caption : A young child in a park next to a red bench and red bicycle that as training wheels.\n",
      "Watermark Presence Prob.: 0\n",
      "caption : A little girl standing next to a red bike near leaves.\n"
     ]
    },
    {
     "name": "stderr",
     "output_type": "stream",
     "text": [
      " 16%|█▌        | 32/200 [01:45<08:22,  2.99s/it]"
     ]
    },
    {
     "name": "stdout",
     "output_type": "stream",
     "text": [
      "Watermark Presence Prob.: 0\n",
      "caption : Small child next to a picnic table and tricycle. \n",
      "Watermark Presence Prob.: 0\n",
      "---------- Count = 33 : Visual Paraphrasing for the watermarked version of 483008-------------\n",
      "\n",
      "Image name :  Image_483008.jpg\n",
      "Image id : 483008\n"
     ]
    },
    {
     "data": {
      "application/vnd.jupyter.widget-view+json": {
       "model_id": "76954198fa2345c3abac10c5f8839e67",
       "version_major": 2,
       "version_minor": 0
      },
      "text/plain": [
       "  0%|          | 0/5 [00:00<?, ?it/s]"
      ]
     },
     "metadata": {},
     "output_type": "display_data"
    },
    {
     "name": "stdout",
     "output_type": "stream",
     "text": [
      "Saving generated images at /raid/home/ashhar21137/watermarking/dwtDctSvd/dwt_paraphrase_0.1/483008\n",
      "Generated Image saved to /raid/home/ashhar21137/watermarking/dwtDctSvd/dwt_paraphrase_0.1/483008/483008_gen_0.png\n",
      "Generated Image saved to /raid/home/ashhar21137/watermarking/dwtDctSvd/dwt_paraphrase_0.1/483008/483008_gen_1.png\n",
      "Generated Image saved to /raid/home/ashhar21137/watermarking/dwtDctSvd/dwt_paraphrase_0.1/483008/483008_gen_2.png\n",
      "Generated Image saved to /raid/home/ashhar21137/watermarking/dwtDctSvd/dwt_paraphrase_0.1/483008/483008_gen_3.png\n",
      "Generated Image saved to /raid/home/ashhar21137/watermarking/dwtDctSvd/dwt_paraphrase_0.1/483008/483008_gen_4.png\n",
      "\n",
      "Number of images generated :  5\n",
      "********** Watermark detection for generated images ***************\n",
      "caption : A girl in dress sitting on a park bench.\n",
      "Watermark Presence Prob.: 0\n",
      "caption : The little girl is sitting on the bench outside the little restaurant.\n",
      "Watermark Presence Prob.: 0.0\n",
      "caption : A young girl with a bag sitting on a bench.\n",
      "Watermark Presence Prob.: 0\n",
      "caption : Little girl wearing blue clothing carrying purple bag sitting outside cafe.\n",
      "Watermark Presence Prob.: 0\n",
      "caption : A young girl sitting on a yellow bench.\n"
     ]
    },
    {
     "name": "stderr",
     "output_type": "stream",
     "text": [
      " 16%|█▋        | 33/200 [01:49<08:56,  3.21s/it]"
     ]
    },
    {
     "name": "stdout",
     "output_type": "stream",
     "text": [
      "Watermark Presence Prob.: 0\n",
      "---------- Count = 34 : Visual Paraphrasing for the watermarked version of 469605-------------\n",
      "\n",
      "Image name :  Image_469605.jpg\n",
      "Image id : 469605\n"
     ]
    },
    {
     "data": {
      "application/vnd.jupyter.widget-view+json": {
       "model_id": "d42cc2181a654ae38036b6790295590b",
       "version_major": 2,
       "version_minor": 0
      },
      "text/plain": [
       "  0%|          | 0/5 [00:00<?, ?it/s]"
      ]
     },
     "metadata": {},
     "output_type": "display_data"
    },
    {
     "name": "stdout",
     "output_type": "stream",
     "text": [
      "Saving generated images at /raid/home/ashhar21137/watermarking/dwtDctSvd/dwt_paraphrase_0.1/469605\n",
      "Generated Image saved to /raid/home/ashhar21137/watermarking/dwtDctSvd/dwt_paraphrase_0.1/469605/469605_gen_0.png\n",
      "Generated Image saved to /raid/home/ashhar21137/watermarking/dwtDctSvd/dwt_paraphrase_0.1/469605/469605_gen_1.png\n",
      "Generated Image saved to /raid/home/ashhar21137/watermarking/dwtDctSvd/dwt_paraphrase_0.1/469605/469605_gen_2.png\n",
      "Generated Image saved to /raid/home/ashhar21137/watermarking/dwtDctSvd/dwt_paraphrase_0.1/469605/469605_gen_3.png\n",
      "Generated Image saved to /raid/home/ashhar21137/watermarking/dwtDctSvd/dwt_paraphrase_0.1/469605/469605_gen_4.png\n",
      "\n",
      "Number of images generated :  5\n",
      "********** Watermark detection for generated images ***************\n",
      "caption : there is a man standing on a field talking on the phone\n",
      "Watermark Presence Prob.: 0\n",
      "caption : A man is standing in the grass talking on a phone.\n",
      "Watermark Presence Prob.: 0\n",
      "caption : The man talks on a cell phone far from three others sitting on a blanket.\n",
      "Watermark Presence Prob.: 0\n",
      "caption : A man in light colored clothing stands near white tents while people sit on grass on a blankent.\n"
     ]
    },
    {
     "name": "stderr",
     "output_type": "stream",
     "text": [
      " 17%|█▋        | 34/200 [01:53<09:15,  3.35s/it]"
     ]
    },
    {
     "name": "stdout",
     "output_type": "stream",
     "text": [
      "Watermark Presence Prob.: 0.0\n",
      "caption : A man on a cellphone near a group of people on the lawn,\n",
      "Watermark Presence Prob.: 0\n",
      "---------- Count = 35 : Visual Paraphrasing for the watermarked version of 348850-------------\n",
      "\n",
      "Image name :  Image_348850.jpg\n",
      "Image id : 348850\n"
     ]
    },
    {
     "data": {
      "application/vnd.jupyter.widget-view+json": {
       "model_id": "7dd364c614484a0bb825a5ee94ddce7c",
       "version_major": 2,
       "version_minor": 0
      },
      "text/plain": [
       "  0%|          | 0/5 [00:00<?, ?it/s]"
      ]
     },
     "metadata": {},
     "output_type": "display_data"
    },
    {
     "name": "stdout",
     "output_type": "stream",
     "text": [
      "Saving generated images at /raid/home/ashhar21137/watermarking/dwtDctSvd/dwt_paraphrase_0.1/348850\n",
      "Generated Image saved to /raid/home/ashhar21137/watermarking/dwtDctSvd/dwt_paraphrase_0.1/348850/348850_gen_0.png\n",
      "Generated Image saved to /raid/home/ashhar21137/watermarking/dwtDctSvd/dwt_paraphrase_0.1/348850/348850_gen_1.png\n",
      "Generated Image saved to /raid/home/ashhar21137/watermarking/dwtDctSvd/dwt_paraphrase_0.1/348850/348850_gen_2.png\n",
      "Generated Image saved to /raid/home/ashhar21137/watermarking/dwtDctSvd/dwt_paraphrase_0.1/348850/348850_gen_3.png\n",
      "Generated Image saved to /raid/home/ashhar21137/watermarking/dwtDctSvd/dwt_paraphrase_0.1/348850/348850_gen_4.png\n",
      "\n",
      "Number of images generated :  5\n",
      "********** Watermark detection for generated images ***************\n",
      "caption : a couple of giraffes that are standing out in the grass\n",
      "Watermark Presence Prob.: 0\n",
      "caption : A big giraffe and a baby giraffe walking in a green pasture.\n",
      "Watermark Presence Prob.: 0\n",
      "caption : Two giraffes standing in a green grassy field.\n",
      "Watermark Presence Prob.: 0\n",
      "caption : A couple of giraffe standing on a grass covered hillside.\n",
      "Watermark Presence Prob.: 0.0\n",
      "caption : Two giraffes in a grassy area near rocks. \n"
     ]
    },
    {
     "name": "stderr",
     "output_type": "stream",
     "text": [
      " 18%|█▊        | 35/200 [01:56<09:24,  3.42s/it]"
     ]
    },
    {
     "name": "stdout",
     "output_type": "stream",
     "text": [
      "Watermark Presence Prob.: 0\n",
      "---------- Count = 36 : Visual Paraphrasing for the watermarked version of 387083-------------\n",
      "\n",
      "Image name :  Image_387083.jpg\n",
      "Image id : 387083\n"
     ]
    },
    {
     "data": {
      "application/vnd.jupyter.widget-view+json": {
       "model_id": "0c650a91441e495a87cadd87e017b509",
       "version_major": 2,
       "version_minor": 0
      },
      "text/plain": [
       "  0%|          | 0/5 [00:00<?, ?it/s]"
      ]
     },
     "metadata": {},
     "output_type": "display_data"
    },
    {
     "name": "stdout",
     "output_type": "stream",
     "text": [
      "Saving generated images at /raid/home/ashhar21137/watermarking/dwtDctSvd/dwt_paraphrase_0.1/387083\n",
      "Generated Image saved to /raid/home/ashhar21137/watermarking/dwtDctSvd/dwt_paraphrase_0.1/387083/387083_gen_0.png\n",
      "Generated Image saved to /raid/home/ashhar21137/watermarking/dwtDctSvd/dwt_paraphrase_0.1/387083/387083_gen_1.png\n",
      "Generated Image saved to /raid/home/ashhar21137/watermarking/dwtDctSvd/dwt_paraphrase_0.1/387083/387083_gen_2.png\n",
      "Generated Image saved to /raid/home/ashhar21137/watermarking/dwtDctSvd/dwt_paraphrase_0.1/387083/387083_gen_3.png\n",
      "Generated Image saved to /raid/home/ashhar21137/watermarking/dwtDctSvd/dwt_paraphrase_0.1/387083/387083_gen_4.png\n",
      "\n",
      "Number of images generated :  5\n",
      "********** Watermark detection for generated images ***************\n",
      "caption : a giraffe stands as a bird rests on its neck\n",
      "Watermark Presence Prob.: 0.0\n",
      "caption : There is a bird on the neck of a giraffe\n",
      "Watermark Presence Prob.: 0.0\n",
      "caption : A little bird sits on the neck of a giraffe.\n",
      "Watermark Presence Prob.: 0.0\n",
      "caption : A black and white bird on the neck of a giraffe.\n"
     ]
    },
    {
     "name": "stderr",
     "output_type": "stream",
     "text": [
      " 18%|█▊        | 36/200 [02:00<09:22,  3.43s/it]"
     ]
    },
    {
     "name": "stdout",
     "output_type": "stream",
     "text": [
      "Watermark Presence Prob.: 0.0\n",
      "caption : A bird sitting on the neck of a giraffe.\n",
      "Watermark Presence Prob.: 0.0\n",
      "---------- Count = 37 : Visual Paraphrasing for the watermarked version of 77375-------------\n",
      "\n",
      "Image name :  Image_77375.jpg\n",
      "Image id : 77375\n"
     ]
    },
    {
     "data": {
      "application/vnd.jupyter.widget-view+json": {
       "model_id": "0557dbe0b02343d7b34b25e196564936",
       "version_major": 2,
       "version_minor": 0
      },
      "text/plain": [
       "  0%|          | 0/5 [00:00<?, ?it/s]"
      ]
     },
     "metadata": {},
     "output_type": "display_data"
    },
    {
     "name": "stdout",
     "output_type": "stream",
     "text": [
      "Saving generated images at /raid/home/ashhar21137/watermarking/dwtDctSvd/dwt_paraphrase_0.1/77375\n",
      "Generated Image saved to /raid/home/ashhar21137/watermarking/dwtDctSvd/dwt_paraphrase_0.1/77375/77375_gen_0.png\n",
      "Generated Image saved to /raid/home/ashhar21137/watermarking/dwtDctSvd/dwt_paraphrase_0.1/77375/77375_gen_1.png\n",
      "Generated Image saved to /raid/home/ashhar21137/watermarking/dwtDctSvd/dwt_paraphrase_0.1/77375/77375_gen_2.png\n",
      "Generated Image saved to /raid/home/ashhar21137/watermarking/dwtDctSvd/dwt_paraphrase_0.1/77375/77375_gen_3.png\n",
      "Generated Image saved to /raid/home/ashhar21137/watermarking/dwtDctSvd/dwt_paraphrase_0.1/77375/77375_gen_4.png\n",
      "\n",
      "Number of images generated :  5\n",
      "********** Watermark detection for generated images ***************\n",
      "caption : The skateboard is in the middle of the rows of seats.\n",
      "Watermark Presence Prob.: 0\n",
      "caption : A purple skateboard sitting at the back of a bus isle.\n",
      "Watermark Presence Prob.: 0\n",
      "caption : A skateboard on the walkway in an old bus.\n",
      "Watermark Presence Prob.: 0\n",
      "caption : a skate boars sits in the middle of a couple of cars \n",
      "Watermark Presence Prob.: 0\n",
      "caption : A purple skateboard is sitting in the middle of a dirty bus.\n"
     ]
    },
    {
     "name": "stderr",
     "output_type": "stream",
     "text": [
      " 18%|█▊        | 37/200 [02:03<09:29,  3.49s/it]"
     ]
    },
    {
     "name": "stdout",
     "output_type": "stream",
     "text": [
      "Watermark Presence Prob.: 0.0\n",
      "---------- Count = 38 : Visual Paraphrasing for the watermarked version of 122108-------------\n",
      "\n",
      "Image name :  Image_122108.jpg\n",
      "Image id : 122108\n"
     ]
    },
    {
     "data": {
      "application/vnd.jupyter.widget-view+json": {
       "model_id": "02967c85d5d041edbf7482fc766e40c4",
       "version_major": 2,
       "version_minor": 0
      },
      "text/plain": [
       "  0%|          | 0/5 [00:00<?, ?it/s]"
      ]
     },
     "metadata": {},
     "output_type": "display_data"
    },
    {
     "name": "stdout",
     "output_type": "stream",
     "text": [
      "Saving generated images at /raid/home/ashhar21137/watermarking/dwtDctSvd/dwt_paraphrase_0.1/122108\n",
      "Generated Image saved to /raid/home/ashhar21137/watermarking/dwtDctSvd/dwt_paraphrase_0.1/122108/122108_gen_0.png\n",
      "Generated Image saved to /raid/home/ashhar21137/watermarking/dwtDctSvd/dwt_paraphrase_0.1/122108/122108_gen_1.png\n",
      "Generated Image saved to /raid/home/ashhar21137/watermarking/dwtDctSvd/dwt_paraphrase_0.1/122108/122108_gen_2.png\n",
      "Generated Image saved to /raid/home/ashhar21137/watermarking/dwtDctSvd/dwt_paraphrase_0.1/122108/122108_gen_3.png\n",
      "Generated Image saved to /raid/home/ashhar21137/watermarking/dwtDctSvd/dwt_paraphrase_0.1/122108/122108_gen_4.png\n",
      "\n",
      "Number of images generated :  5\n",
      "********** Watermark detection for generated images ***************\n",
      "caption : Two giraffes are in a zoo that is near a big city.\n",
      "Watermark Presence Prob.: 0\n",
      "caption : Two giraffe's facing away from each other in a zoo pin.\n",
      "Watermark Presence Prob.: 0\n",
      "caption : These two giraffe are standing near a large boulder.\n",
      "Watermark Presence Prob.: 0\n",
      "caption : Two giraffes in front of a rocky mountain inside a wooden fence.\n"
     ]
    },
    {
     "name": "stderr",
     "output_type": "stream",
     "text": [
      " 19%|█▉        | 38/200 [02:07<09:31,  3.53s/it]"
     ]
    },
    {
     "name": "stdout",
     "output_type": "stream",
     "text": [
      "Watermark Presence Prob.: 0\n",
      "caption : A pair of giraffes exploring the inside of a habitat.\n",
      "Watermark Presence Prob.: 0\n",
      "---------- Count = 39 : Visual Paraphrasing for the watermarked version of 540162-------------\n",
      "\n",
      "Image name :  Image_540162.jpg\n",
      "Image id : 540162\n"
     ]
    },
    {
     "data": {
      "application/vnd.jupyter.widget-view+json": {
       "model_id": "ae520fe7967a4200a594f4a4aeb96b60",
       "version_major": 2,
       "version_minor": 0
      },
      "text/plain": [
       "  0%|          | 0/5 [00:00<?, ?it/s]"
      ]
     },
     "metadata": {},
     "output_type": "display_data"
    },
    {
     "name": "stdout",
     "output_type": "stream",
     "text": [
      "Saving generated images at /raid/home/ashhar21137/watermarking/dwtDctSvd/dwt_paraphrase_0.1/540162\n",
      "Generated Image saved to /raid/home/ashhar21137/watermarking/dwtDctSvd/dwt_paraphrase_0.1/540162/540162_gen_0.png\n",
      "Generated Image saved to /raid/home/ashhar21137/watermarking/dwtDctSvd/dwt_paraphrase_0.1/540162/540162_gen_1.png\n",
      "Generated Image saved to /raid/home/ashhar21137/watermarking/dwtDctSvd/dwt_paraphrase_0.1/540162/540162_gen_2.png\n",
      "Generated Image saved to /raid/home/ashhar21137/watermarking/dwtDctSvd/dwt_paraphrase_0.1/540162/540162_gen_3.png\n",
      "Generated Image saved to /raid/home/ashhar21137/watermarking/dwtDctSvd/dwt_paraphrase_0.1/540162/540162_gen_4.png\n",
      "\n",
      "Number of images generated :  5\n",
      "********** Watermark detection for generated images ***************\n",
      "caption : Toilet with upraised lid sitting next to bookshelves.\n",
      "Watermark Presence Prob.: 0\n",
      "caption : A shelf with books and toilet paper outside of a small bathroom.\n",
      "Watermark Presence Prob.: 0.0\n",
      "caption : A toilet and sink in a small bathroom.\n",
      "Watermark Presence Prob.: 0\n",
      "caption : A toilet with an adjacent bookshelf of books. \n",
      "Watermark Presence Prob.: 0\n",
      "caption : A bookshelf on the outside of a bathroom with a toilet.\n"
     ]
    },
    {
     "name": "stderr",
     "output_type": "stream",
     "text": [
      " 20%|█▉        | 39/200 [02:11<09:35,  3.58s/it]"
     ]
    },
    {
     "name": "stdout",
     "output_type": "stream",
     "text": [
      "Watermark Presence Prob.: 0\n",
      "---------- Count = 40 : Visual Paraphrasing for the watermarked version of 19380-------------\n",
      "\n",
      "Image name :  Image_19380.jpg\n",
      "Image id : 19380\n"
     ]
    },
    {
     "data": {
      "application/vnd.jupyter.widget-view+json": {
       "model_id": "c03179b7da1b4654819afd409693ae4b",
       "version_major": 2,
       "version_minor": 0
      },
      "text/plain": [
       "  0%|          | 0/5 [00:00<?, ?it/s]"
      ]
     },
     "metadata": {},
     "output_type": "display_data"
    },
    {
     "name": "stdout",
     "output_type": "stream",
     "text": [
      "Saving generated images at /raid/home/ashhar21137/watermarking/dwtDctSvd/dwt_paraphrase_0.1/19380\n",
      "Generated Image saved to /raid/home/ashhar21137/watermarking/dwtDctSvd/dwt_paraphrase_0.1/19380/19380_gen_0.png\n",
      "Generated Image saved to /raid/home/ashhar21137/watermarking/dwtDctSvd/dwt_paraphrase_0.1/19380/19380_gen_1.png\n",
      "Generated Image saved to /raid/home/ashhar21137/watermarking/dwtDctSvd/dwt_paraphrase_0.1/19380/19380_gen_2.png\n",
      "Generated Image saved to /raid/home/ashhar21137/watermarking/dwtDctSvd/dwt_paraphrase_0.1/19380/19380_gen_3.png\n",
      "Generated Image saved to /raid/home/ashhar21137/watermarking/dwtDctSvd/dwt_paraphrase_0.1/19380/19380_gen_4.png\n",
      "\n",
      "Number of images generated :  5\n",
      "********** Watermark detection for generated images ***************\n",
      "caption : A bathroom with a yellow sink next to a white bath tub.\n",
      "Watermark Presence Prob.: 0\n",
      "caption : A bathroom with yellow walls and tile tub\n",
      "Watermark Presence Prob.: 0\n",
      "caption : A bathroom double vanity and tub with a chandelier above and intricate tile work.\n",
      "Watermark Presence Prob.: 0\n",
      "caption : A golden bath area with a chandelier and blue and white bathtub.\n",
      "Watermark Presence Prob.: 0\n",
      "caption : Double sink vanity next to a bathtub with a chandelier in the ceiling.\n"
     ]
    },
    {
     "name": "stderr",
     "output_type": "stream",
     "text": [
      " 20%|██        | 40/200 [02:14<09:32,  3.58s/it]"
     ]
    },
    {
     "name": "stdout",
     "output_type": "stream",
     "text": [
      "Watermark Presence Prob.: 0\n",
      "---------- Count = 41 : Visual Paraphrasing for the watermarked version of 44404-------------\n",
      "\n",
      "Image name :  Image_44404.jpg\n",
      "Image id : 44404\n"
     ]
    },
    {
     "data": {
      "application/vnd.jupyter.widget-view+json": {
       "model_id": "f52496cd7a5f42af98a851e2f3e45d0b",
       "version_major": 2,
       "version_minor": 0
      },
      "text/plain": [
       "  0%|          | 0/5 [00:00<?, ?it/s]"
      ]
     },
     "metadata": {},
     "output_type": "display_data"
    },
    {
     "name": "stdout",
     "output_type": "stream",
     "text": [
      "Saving generated images at /raid/home/ashhar21137/watermarking/dwtDctSvd/dwt_paraphrase_0.1/44404\n",
      "Generated Image saved to /raid/home/ashhar21137/watermarking/dwtDctSvd/dwt_paraphrase_0.1/44404/44404_gen_0.png\n",
      "Generated Image saved to /raid/home/ashhar21137/watermarking/dwtDctSvd/dwt_paraphrase_0.1/44404/44404_gen_1.png\n",
      "Generated Image saved to /raid/home/ashhar21137/watermarking/dwtDctSvd/dwt_paraphrase_0.1/44404/44404_gen_2.png\n",
      "Generated Image saved to /raid/home/ashhar21137/watermarking/dwtDctSvd/dwt_paraphrase_0.1/44404/44404_gen_3.png\n",
      "Generated Image saved to /raid/home/ashhar21137/watermarking/dwtDctSvd/dwt_paraphrase_0.1/44404/44404_gen_4.png\n",
      "\n",
      "Number of images generated :  5\n",
      "********** Watermark detection for generated images ***************\n",
      "caption : A kitchen has wood cabinets, a dishwasher, sink, and refrigerator. \n",
      "Watermark Presence Prob.: 0\n",
      "caption : The window above the kitchen sink is opened.\n",
      "Watermark Presence Prob.: 0\n",
      "caption : A kitchen with wood shelves and appliances. \n",
      "Watermark Presence Prob.: 0\n",
      "caption : a kitchen that has a stove and a icebox\n",
      "Watermark Presence Prob.: 0\n",
      "caption : A fridge, microwave and sink in the kitchen\n"
     ]
    },
    {
     "name": "stderr",
     "output_type": "stream",
     "text": [
      " 20%|██        | 41/200 [02:18<09:45,  3.68s/it]"
     ]
    },
    {
     "name": "stdout",
     "output_type": "stream",
     "text": [
      "Watermark Presence Prob.: 0\n",
      "---------- Count = 42 : Visual Paraphrasing for the watermarked version of 345781-------------\n",
      "\n",
      "Image name :  Image_345781.jpg\n",
      "Image id : 345781\n"
     ]
    },
    {
     "data": {
      "application/vnd.jupyter.widget-view+json": {
       "model_id": "3ae87afc1dab4f22926c49af0fd531c4",
       "version_major": 2,
       "version_minor": 0
      },
      "text/plain": [
       "  0%|          | 0/5 [00:00<?, ?it/s]"
      ]
     },
     "metadata": {},
     "output_type": "display_data"
    },
    {
     "name": "stdout",
     "output_type": "stream",
     "text": [
      "Saving generated images at /raid/home/ashhar21137/watermarking/dwtDctSvd/dwt_paraphrase_0.1/345781\n",
      "Generated Image saved to /raid/home/ashhar21137/watermarking/dwtDctSvd/dwt_paraphrase_0.1/345781/345781_gen_0.png\n",
      "Generated Image saved to /raid/home/ashhar21137/watermarking/dwtDctSvd/dwt_paraphrase_0.1/345781/345781_gen_1.png\n",
      "Generated Image saved to /raid/home/ashhar21137/watermarking/dwtDctSvd/dwt_paraphrase_0.1/345781/345781_gen_2.png\n",
      "Generated Image saved to /raid/home/ashhar21137/watermarking/dwtDctSvd/dwt_paraphrase_0.1/345781/345781_gen_3.png\n",
      "Generated Image saved to /raid/home/ashhar21137/watermarking/dwtDctSvd/dwt_paraphrase_0.1/345781/345781_gen_4.png\n",
      "\n",
      "Number of images generated :  5\n",
      "********** Watermark detection for generated images ***************\n",
      "caption :  A little girl playing with a giraffe with a stick.\n",
      "Watermark Presence Prob.: 0\n",
      "caption : a giraffe is fed sticks by a smal human child\n",
      "Watermark Presence Prob.: 0.0\n",
      "caption : A woman feeds a giraffe a piece of straw.\n",
      "Watermark Presence Prob.: 0\n",
      "caption : A woman holds a stick up to a giraffe's mouth.\n"
     ]
    },
    {
     "name": "stderr",
     "output_type": "stream",
     "text": [
      " 21%|██        | 42/200 [02:22<09:34,  3.64s/it]"
     ]
    },
    {
     "name": "stdout",
     "output_type": "stream",
     "text": [
      "Watermark Presence Prob.: 0\n",
      "caption : A couple of people who are standing near giraffes.\n",
      "Watermark Presence Prob.: 0\n",
      "---------- Count = 43 : Visual Paraphrasing for the watermarked version of 405207-------------\n",
      "\n",
      "Image name :  Image_405207.jpg\n",
      "Image id : 405207\n"
     ]
    },
    {
     "data": {
      "application/vnd.jupyter.widget-view+json": {
       "model_id": "f733761b64994acf83a9fe693b8c8771",
       "version_major": 2,
       "version_minor": 0
      },
      "text/plain": [
       "  0%|          | 0/5 [00:00<?, ?it/s]"
      ]
     },
     "metadata": {},
     "output_type": "display_data"
    },
    {
     "name": "stdout",
     "output_type": "stream",
     "text": [
      "Saving generated images at /raid/home/ashhar21137/watermarking/dwtDctSvd/dwt_paraphrase_0.1/405207\n",
      "Generated Image saved to /raid/home/ashhar21137/watermarking/dwtDctSvd/dwt_paraphrase_0.1/405207/405207_gen_0.png\n",
      "Generated Image saved to /raid/home/ashhar21137/watermarking/dwtDctSvd/dwt_paraphrase_0.1/405207/405207_gen_1.png\n",
      "Generated Image saved to /raid/home/ashhar21137/watermarking/dwtDctSvd/dwt_paraphrase_0.1/405207/405207_gen_2.png\n",
      "Generated Image saved to /raid/home/ashhar21137/watermarking/dwtDctSvd/dwt_paraphrase_0.1/405207/405207_gen_3.png\n",
      "Generated Image saved to /raid/home/ashhar21137/watermarking/dwtDctSvd/dwt_paraphrase_0.1/405207/405207_gen_4.png\n",
      "\n",
      "Number of images generated :  5\n",
      "********** Watermark detection for generated images ***************\n",
      "caption : A large bottle of wine sitting on a kitchen counter.\n",
      "Watermark Presence Prob.: 0\n",
      "caption : A closeup of soup bowls, a bottle of wine and other food.\n",
      "Watermark Presence Prob.: 0\n",
      "caption : A wine bottle that is three fourths full is sitting on a table.\n",
      "Watermark Presence Prob.: 0\n",
      "caption : A corked bottle of wine near stacks of dishes and food.\n",
      "Watermark Presence Prob.: 0\n",
      "caption : a soup kitchen full of soup bowls and food \n"
     ]
    },
    {
     "name": "stderr",
     "output_type": "stream",
     "text": [
      " 22%|██▏       | 43/200 [02:25<09:06,  3.48s/it]"
     ]
    },
    {
     "name": "stdout",
     "output_type": "stream",
     "text": [
      "Watermark Presence Prob.: 0\n",
      "---------- Count = 44 : Visual Paraphrasing for the watermarked version of 153946-------------\n",
      "\n",
      "Image name :  Image_153946.jpg\n",
      "Image id : 153946\n"
     ]
    },
    {
     "data": {
      "application/vnd.jupyter.widget-view+json": {
       "model_id": "4272a601d49b4c3faf4535744cf9d3e4",
       "version_major": 2,
       "version_minor": 0
      },
      "text/plain": [
       "  0%|          | 0/5 [00:00<?, ?it/s]"
      ]
     },
     "metadata": {},
     "output_type": "display_data"
    },
    {
     "name": "stdout",
     "output_type": "stream",
     "text": [
      "Saving generated images at /raid/home/ashhar21137/watermarking/dwtDctSvd/dwt_paraphrase_0.1/153946\n",
      "Generated Image saved to /raid/home/ashhar21137/watermarking/dwtDctSvd/dwt_paraphrase_0.1/153946/153946_gen_0.png\n",
      "Generated Image saved to /raid/home/ashhar21137/watermarking/dwtDctSvd/dwt_paraphrase_0.1/153946/153946_gen_1.png\n",
      "Generated Image saved to /raid/home/ashhar21137/watermarking/dwtDctSvd/dwt_paraphrase_0.1/153946/153946_gen_2.png\n",
      "Generated Image saved to /raid/home/ashhar21137/watermarking/dwtDctSvd/dwt_paraphrase_0.1/153946/153946_gen_3.png\n",
      "Generated Image saved to /raid/home/ashhar21137/watermarking/dwtDctSvd/dwt_paraphrase_0.1/153946/153946_gen_4.png\n",
      "\n",
      "Number of images generated :  5\n",
      "********** Watermark detection for generated images ***************\n",
      "caption : A large bird perched on the back of a wooden bench.\n",
      "Watermark Presence Prob.: 0\n",
      "caption : A large black crow setting on the back of a park bench.\n",
      "Watermark Presence Prob.: 0.0\n",
      "caption : two big black birds in a park hanging around a park bench.\n",
      "Watermark Presence Prob.: 0\n",
      "caption : One bird perched on a bench near another bird in a park.\n"
     ]
    },
    {
     "name": "stderr",
     "output_type": "stream",
     "text": [
      " 22%|██▏       | 44/200 [02:28<08:38,  3.33s/it]"
     ]
    },
    {
     "name": "stdout",
     "output_type": "stream",
     "text": [
      "Watermark Presence Prob.: 0\n",
      "caption : a bird on the back of a bench and a bird in the grass\n",
      "Watermark Presence Prob.: 0\n",
      "---------- Count = 45 : Visual Paraphrasing for the watermarked version of 457732-------------\n",
      "\n",
      "Image name :  Image_457732.jpg\n",
      "Image id : 457732\n"
     ]
    },
    {
     "data": {
      "application/vnd.jupyter.widget-view+json": {
       "model_id": "879af8f6798e46929929cd4de9f1a554",
       "version_major": 2,
       "version_minor": 0
      },
      "text/plain": [
       "  0%|          | 0/5 [00:00<?, ?it/s]"
      ]
     },
     "metadata": {},
     "output_type": "display_data"
    },
    {
     "name": "stdout",
     "output_type": "stream",
     "text": [
      "Saving generated images at /raid/home/ashhar21137/watermarking/dwtDctSvd/dwt_paraphrase_0.1/457732\n",
      "Generated Image saved to /raid/home/ashhar21137/watermarking/dwtDctSvd/dwt_paraphrase_0.1/457732/457732_gen_0.png\n",
      "Generated Image saved to /raid/home/ashhar21137/watermarking/dwtDctSvd/dwt_paraphrase_0.1/457732/457732_gen_1.png\n",
      "Generated Image saved to /raid/home/ashhar21137/watermarking/dwtDctSvd/dwt_paraphrase_0.1/457732/457732_gen_2.png\n",
      "Generated Image saved to /raid/home/ashhar21137/watermarking/dwtDctSvd/dwt_paraphrase_0.1/457732/457732_gen_3.png\n",
      "Generated Image saved to /raid/home/ashhar21137/watermarking/dwtDctSvd/dwt_paraphrase_0.1/457732/457732_gen_4.png\n",
      "\n",
      "Number of images generated :  5\n",
      "********** Watermark detection for generated images ***************\n",
      "caption : a kitchen with a table and some chairs \n",
      "Watermark Presence Prob.: 0\n",
      "caption : A dark kitchen with several tables and chairs.\n",
      "Watermark Presence Prob.: 0\n",
      "caption : The room has table, chairs, counters and shelves.\n",
      "Watermark Presence Prob.: 0\n",
      "caption : a room filled with wooden table and chairs\n",
      "Watermark Presence Prob.: 0\n",
      "caption : a big kitchen filled with some tables and shelves \n"
     ]
    },
    {
     "name": "stderr",
     "output_type": "stream",
     "text": [
      " 22%|██▎       | 45/200 [02:31<08:22,  3.24s/it]"
     ]
    },
    {
     "name": "stdout",
     "output_type": "stream",
     "text": [
      "Watermark Presence Prob.: 0\n",
      "---------- Count = 46 : Visual Paraphrasing for the watermarked version of 153674-------------\n",
      "\n",
      "Image name :  Image_153674.jpg\n",
      "Image id : 153674\n"
     ]
    },
    {
     "data": {
      "application/vnd.jupyter.widget-view+json": {
       "model_id": "b6496c46d64749079ba50c58bfeac65d",
       "version_major": 2,
       "version_minor": 0
      },
      "text/plain": [
       "  0%|          | 0/5 [00:00<?, ?it/s]"
      ]
     },
     "metadata": {},
     "output_type": "display_data"
    },
    {
     "name": "stdout",
     "output_type": "stream",
     "text": [
      "Saving generated images at /raid/home/ashhar21137/watermarking/dwtDctSvd/dwt_paraphrase_0.1/153674\n",
      "Generated Image saved to /raid/home/ashhar21137/watermarking/dwtDctSvd/dwt_paraphrase_0.1/153674/153674_gen_0.png\n",
      "Generated Image saved to /raid/home/ashhar21137/watermarking/dwtDctSvd/dwt_paraphrase_0.1/153674/153674_gen_1.png\n",
      "Generated Image saved to /raid/home/ashhar21137/watermarking/dwtDctSvd/dwt_paraphrase_0.1/153674/153674_gen_2.png\n",
      "Generated Image saved to /raid/home/ashhar21137/watermarking/dwtDctSvd/dwt_paraphrase_0.1/153674/153674_gen_3.png\n",
      "Generated Image saved to /raid/home/ashhar21137/watermarking/dwtDctSvd/dwt_paraphrase_0.1/153674/153674_gen_4.png\n",
      "\n",
      "Number of images generated :  5\n",
      "********** Watermark detection for generated images ***************\n",
      "caption : A bathroom sink with the faucet on the side\n",
      "Watermark Presence Prob.: 0.0\n",
      "caption : A small porcelain sink is reflected in a bathroom mirror.\n",
      "Watermark Presence Prob.: 0.0\n",
      "caption : A small rectangular sink with a single chrome faucet.\n",
      "Watermark Presence Prob.: 0.0\n",
      "caption : Two sinks that are set right next to each other.\n",
      "Watermark Presence Prob.: 0.0\n",
      "caption : a small sink with a small bottle of soap \n"
     ]
    },
    {
     "name": "stderr",
     "output_type": "stream",
     "text": [
      " 23%|██▎       | 46/200 [02:34<08:03,  3.14s/it]"
     ]
    },
    {
     "name": "stdout",
     "output_type": "stream",
     "text": [
      "Watermark Presence Prob.: 0.0\n",
      "---------- Count = 47 : Visual Paraphrasing for the watermarked version of 472925-------------\n",
      "\n",
      "Image name :  Image_472925.jpg\n",
      "Image id : 472925\n"
     ]
    },
    {
     "data": {
      "application/vnd.jupyter.widget-view+json": {
       "model_id": "59246cbfbeee4bd48fa10a648b53d626",
       "version_major": 2,
       "version_minor": 0
      },
      "text/plain": [
       "  0%|          | 0/5 [00:00<?, ?it/s]"
      ]
     },
     "metadata": {},
     "output_type": "display_data"
    },
    {
     "name": "stdout",
     "output_type": "stream",
     "text": [
      "Saving generated images at /raid/home/ashhar21137/watermarking/dwtDctSvd/dwt_paraphrase_0.1/472925\n",
      "Generated Image saved to /raid/home/ashhar21137/watermarking/dwtDctSvd/dwt_paraphrase_0.1/472925/472925_gen_0.png\n",
      "Generated Image saved to /raid/home/ashhar21137/watermarking/dwtDctSvd/dwt_paraphrase_0.1/472925/472925_gen_1.png\n",
      "Generated Image saved to /raid/home/ashhar21137/watermarking/dwtDctSvd/dwt_paraphrase_0.1/472925/472925_gen_2.png\n",
      "Generated Image saved to /raid/home/ashhar21137/watermarking/dwtDctSvd/dwt_paraphrase_0.1/472925/472925_gen_3.png\n",
      "Generated Image saved to /raid/home/ashhar21137/watermarking/dwtDctSvd/dwt_paraphrase_0.1/472925/472925_gen_4.png\n",
      "\n",
      "Number of images generated :  5\n",
      "********** Watermark detection for generated images ***************\n",
      "caption : A stove top with pots and pans in a kitchen.\n",
      "Watermark Presence Prob.: 0\n",
      "caption : There is a pot and a skillet on the stove.\n",
      "Watermark Presence Prob.: 0\n",
      "caption : A stove that has several pots and pans on it.\n"
     ]
    },
    {
     "name": "stderr",
     "output_type": "stream",
     "text": [
      " 24%|██▎       | 47/200 [02:36<07:43,  3.03s/it]"
     ]
    },
    {
     "name": "stdout",
     "output_type": "stream",
     "text": [
      "Watermark Presence Prob.: 0\n",
      "caption : Food cooking in a pot on the stove with dirty dishes on the counter. \n",
      "Watermark Presence Prob.: 0\n",
      "caption : A full view of a kitchen with pans and plates all over. \n",
      "Watermark Presence Prob.: 0\n",
      "---------- Count = 48 : Visual Paraphrasing for the watermarked version of 388754-------------\n",
      "\n",
      "Image name :  Image_388754.jpg\n",
      "Image id : 388754\n"
     ]
    },
    {
     "data": {
      "application/vnd.jupyter.widget-view+json": {
       "model_id": "fc51d787e88e46b0b79265542c9dbf28",
       "version_major": 2,
       "version_minor": 0
      },
      "text/plain": [
       "  0%|          | 0/5 [00:00<?, ?it/s]"
      ]
     },
     "metadata": {},
     "output_type": "display_data"
    },
    {
     "name": "stdout",
     "output_type": "stream",
     "text": [
      "Saving generated images at /raid/home/ashhar21137/watermarking/dwtDctSvd/dwt_paraphrase_0.1/388754\n",
      "Generated Image saved to /raid/home/ashhar21137/watermarking/dwtDctSvd/dwt_paraphrase_0.1/388754/388754_gen_0.png\n",
      "Generated Image saved to /raid/home/ashhar21137/watermarking/dwtDctSvd/dwt_paraphrase_0.1/388754/388754_gen_1.png\n",
      "Generated Image saved to /raid/home/ashhar21137/watermarking/dwtDctSvd/dwt_paraphrase_0.1/388754/388754_gen_2.png\n",
      "Generated Image saved to /raid/home/ashhar21137/watermarking/dwtDctSvd/dwt_paraphrase_0.1/388754/388754_gen_3.png\n",
      "Generated Image saved to /raid/home/ashhar21137/watermarking/dwtDctSvd/dwt_paraphrase_0.1/388754/388754_gen_4.png\n",
      "\n",
      "Number of images generated :  5\n",
      "********** Watermark detection for generated images ***************\n",
      "caption : Two sheep with ear tags standing in a grass field.\n",
      "Watermark Presence Prob.: 0\n",
      "caption : Two sheep on top of a hill grazing.\n",
      "Watermark Presence Prob.: 0\n",
      "caption : two sheep standing in a field of tall grass\n"
     ]
    },
    {
     "name": "stderr",
     "output_type": "stream",
     "text": [
      " 24%|██▍       | 48/200 [02:39<07:28,  2.95s/it]"
     ]
    },
    {
     "name": "stdout",
     "output_type": "stream",
     "text": [
      "Watermark Presence Prob.: 0\n",
      "caption : Two sheep standing on top of a grass covered hill.\n",
      "Watermark Presence Prob.: 0.0\n",
      "caption : Two medium sized sheepskin standing on grass land.\n",
      "Watermark Presence Prob.: 0.0\n",
      "---------- Count = 49 : Visual Paraphrasing for the watermarked version of 170850-------------\n",
      "\n",
      "Image name :  Image_170850.jpg\n",
      "Image id : 170850\n"
     ]
    },
    {
     "data": {
      "application/vnd.jupyter.widget-view+json": {
       "model_id": "35e051dfb37b47eeab510ee1d061bbbc",
       "version_major": 2,
       "version_minor": 0
      },
      "text/plain": [
       "  0%|          | 0/5 [00:00<?, ?it/s]"
      ]
     },
     "metadata": {},
     "output_type": "display_data"
    },
    {
     "name": "stdout",
     "output_type": "stream",
     "text": [
      "Saving generated images at /raid/home/ashhar21137/watermarking/dwtDctSvd/dwt_paraphrase_0.1/170850\n",
      "Generated Image saved to /raid/home/ashhar21137/watermarking/dwtDctSvd/dwt_paraphrase_0.1/170850/170850_gen_0.png\n",
      "Generated Image saved to /raid/home/ashhar21137/watermarking/dwtDctSvd/dwt_paraphrase_0.1/170850/170850_gen_1.png\n",
      "Generated Image saved to /raid/home/ashhar21137/watermarking/dwtDctSvd/dwt_paraphrase_0.1/170850/170850_gen_2.png\n",
      "Generated Image saved to /raid/home/ashhar21137/watermarking/dwtDctSvd/dwt_paraphrase_0.1/170850/170850_gen_3.png\n",
      "Generated Image saved to /raid/home/ashhar21137/watermarking/dwtDctSvd/dwt_paraphrase_0.1/170850/170850_gen_4.png\n",
      "\n",
      "Number of images generated :  5\n",
      "********** Watermark detection for generated images ***************\n",
      "caption : A giraffe that is squatting in an open, green field.\n",
      "Watermark Presence Prob.: 0\n",
      "caption : A giraffe is eating grass in an open field. \n",
      "Watermark Presence Prob.: 0\n",
      "caption : A giraffe grazing on a field with green vegetation\n",
      "Watermark Presence Prob.: 0\n",
      "caption : A giraffe standing in the middle of a open grass field.\n",
      "Watermark Presence Prob.: 0\n",
      "caption : A giraffe standing in the middle of a lush green field.\n"
     ]
    },
    {
     "name": "stderr",
     "output_type": "stream",
     "text": [
      " 24%|██▍       | 49/200 [02:42<07:35,  3.02s/it]"
     ]
    },
    {
     "name": "stdout",
     "output_type": "stream",
     "text": [
      "Watermark Presence Prob.: 0\n",
      "---------- Count = 50 : Visual Paraphrasing for the watermarked version of 384029-------------\n",
      "\n",
      "Image name :  Image_384029.jpg\n",
      "Image id : 384029\n"
     ]
    },
    {
     "data": {
      "application/vnd.jupyter.widget-view+json": {
       "model_id": "6382c41a439b4294996ee101af73132a",
       "version_major": 2,
       "version_minor": 0
      },
      "text/plain": [
       "  0%|          | 0/5 [00:00<?, ?it/s]"
      ]
     },
     "metadata": {},
     "output_type": "display_data"
    },
    {
     "name": "stdout",
     "output_type": "stream",
     "text": [
      "Saving generated images at /raid/home/ashhar21137/watermarking/dwtDctSvd/dwt_paraphrase_0.1/384029\n",
      "Generated Image saved to /raid/home/ashhar21137/watermarking/dwtDctSvd/dwt_paraphrase_0.1/384029/384029_gen_0.png\n",
      "Generated Image saved to /raid/home/ashhar21137/watermarking/dwtDctSvd/dwt_paraphrase_0.1/384029/384029_gen_1.png\n",
      "Generated Image saved to /raid/home/ashhar21137/watermarking/dwtDctSvd/dwt_paraphrase_0.1/384029/384029_gen_2.png\n",
      "Generated Image saved to /raid/home/ashhar21137/watermarking/dwtDctSvd/dwt_paraphrase_0.1/384029/384029_gen_3.png\n",
      "Generated Image saved to /raid/home/ashhar21137/watermarking/dwtDctSvd/dwt_paraphrase_0.1/384029/384029_gen_4.png\n",
      "\n",
      "Number of images generated :  5\n",
      "********** Watermark detection for generated images ***************\n",
      "caption : A man preparing desserts in a kitchen covered in frosting.\n",
      "Watermark Presence Prob.: 0.0\n",
      "caption : A chef is preparing and decorating many small pastries.\n",
      "Watermark Presence Prob.: 0\n",
      "caption : A baker prepares various types of baked goods.\n",
      "Watermark Presence Prob.: 0\n",
      "caption : a close up of a person grabbing a pastry in a container\n"
     ]
    },
    {
     "name": "stderr",
     "output_type": "stream",
     "text": [
      " 25%|██▌       | 50/200 [02:46<08:15,  3.31s/it]"
     ]
    },
    {
     "name": "stdout",
     "output_type": "stream",
     "text": [
      "Watermark Presence Prob.: 0\n",
      "caption : Close up of a hand touching various pastries.\n",
      "Watermark Presence Prob.: 0\n",
      "---------- Count = 51 : Visual Paraphrasing for the watermarked version of 62604-------------\n",
      "\n",
      "Image name :  Image_62604.jpg\n",
      "Image id : 62604\n"
     ]
    },
    {
     "data": {
      "application/vnd.jupyter.widget-view+json": {
       "model_id": "6ff4b92a89f844a89597abba172236ce",
       "version_major": 2,
       "version_minor": 0
      },
      "text/plain": [
       "  0%|          | 0/5 [00:00<?, ?it/s]"
      ]
     },
     "metadata": {},
     "output_type": "display_data"
    },
    {
     "name": "stdout",
     "output_type": "stream",
     "text": [
      "Saving generated images at /raid/home/ashhar21137/watermarking/dwtDctSvd/dwt_paraphrase_0.1/62604\n",
      "Generated Image saved to /raid/home/ashhar21137/watermarking/dwtDctSvd/dwt_paraphrase_0.1/62604/62604_gen_0.png\n",
      "Generated Image saved to /raid/home/ashhar21137/watermarking/dwtDctSvd/dwt_paraphrase_0.1/62604/62604_gen_1.png\n",
      "Generated Image saved to /raid/home/ashhar21137/watermarking/dwtDctSvd/dwt_paraphrase_0.1/62604/62604_gen_2.png\n",
      "Generated Image saved to /raid/home/ashhar21137/watermarking/dwtDctSvd/dwt_paraphrase_0.1/62604/62604_gen_3.png\n",
      "Generated Image saved to /raid/home/ashhar21137/watermarking/dwtDctSvd/dwt_paraphrase_0.1/62604/62604_gen_4.png\n",
      "\n",
      "Number of images generated :  5\n",
      "********** Watermark detection for generated images ***************\n",
      "caption : A walkway between rows of pews in a large church.\n",
      "Watermark Presence Prob.: 0\n",
      "caption : An interior view of a cathedral with stained glass windows.\n",
      "Watermark Presence Prob.: 0\n",
      "caption : A large cathedral filled with lots of pews.\n",
      "Watermark Presence Prob.: 0\n",
      "caption : A cathedral with wooden pews and lighting throughout.\n",
      "Watermark Presence Prob.: 0\n",
      "caption : A big church cathedral with stained glass windows\n"
     ]
    },
    {
     "name": "stderr",
     "output_type": "stream",
     "text": [
      " 26%|██▌       | 51/200 [02:50<08:17,  3.34s/it]"
     ]
    },
    {
     "name": "stdout",
     "output_type": "stream",
     "text": [
      "Watermark Presence Prob.: 0\n",
      "---------- Count = 52 : Visual Paraphrasing for the watermarked version of 570608-------------\n",
      "\n",
      "Image name :  Image_570608.jpg\n",
      "Image id : 570608\n"
     ]
    },
    {
     "data": {
      "application/vnd.jupyter.widget-view+json": {
       "model_id": "525c2a7ffa5c4281b2021a96e11f6d1d",
       "version_major": 2,
       "version_minor": 0
      },
      "text/plain": [
       "  0%|          | 0/5 [00:00<?, ?it/s]"
      ]
     },
     "metadata": {},
     "output_type": "display_data"
    },
    {
     "name": "stdout",
     "output_type": "stream",
     "text": [
      "Saving generated images at /raid/home/ashhar21137/watermarking/dwtDctSvd/dwt_paraphrase_0.1/570608\n",
      "Generated Image saved to /raid/home/ashhar21137/watermarking/dwtDctSvd/dwt_paraphrase_0.1/570608/570608_gen_0.png\n",
      "Generated Image saved to /raid/home/ashhar21137/watermarking/dwtDctSvd/dwt_paraphrase_0.1/570608/570608_gen_1.png\n",
      "Generated Image saved to /raid/home/ashhar21137/watermarking/dwtDctSvd/dwt_paraphrase_0.1/570608/570608_gen_2.png\n",
      "Generated Image saved to /raid/home/ashhar21137/watermarking/dwtDctSvd/dwt_paraphrase_0.1/570608/570608_gen_3.png\n",
      "Generated Image saved to /raid/home/ashhar21137/watermarking/dwtDctSvd/dwt_paraphrase_0.1/570608/570608_gen_4.png\n",
      "\n",
      "Number of images generated :  5\n",
      "********** Watermark detection for generated images ***************\n",
      "caption : a kitchen that has a microwave and some cabinets in it\n",
      "Watermark Presence Prob.: 0\n",
      "caption : a modern looking kitchen with steel countertops and utensils\n",
      "Watermark Presence Prob.: 0\n",
      "caption : The kitchen is full of stainless steel appliances.\n",
      "Watermark Presence Prob.: 0\n",
      "caption : a kitchen wit ha coffee make in the corner \n",
      "Watermark Presence Prob.: 0\n",
      "caption : A stainless steel kitchen countertop with appliances and utensils.\n"
     ]
    },
    {
     "name": "stderr",
     "output_type": "stream",
     "text": [
      " 26%|██▌       | 52/200 [02:53<08:29,  3.44s/it]"
     ]
    },
    {
     "name": "stdout",
     "output_type": "stream",
     "text": [
      "Watermark Presence Prob.: 0\n",
      "---------- Count = 53 : Visual Paraphrasing for the watermarked version of 317237-------------\n",
      "\n",
      "Image name :  Image_317237.jpg\n",
      "Image id : 317237\n"
     ]
    },
    {
     "data": {
      "application/vnd.jupyter.widget-view+json": {
       "model_id": "438db6f36ca64362b64de72959b03379",
       "version_major": 2,
       "version_minor": 0
      },
      "text/plain": [
       "  0%|          | 0/5 [00:00<?, ?it/s]"
      ]
     },
     "metadata": {},
     "output_type": "display_data"
    },
    {
     "name": "stdout",
     "output_type": "stream",
     "text": [
      "Saving generated images at /raid/home/ashhar21137/watermarking/dwtDctSvd/dwt_paraphrase_0.1/317237\n",
      "Generated Image saved to /raid/home/ashhar21137/watermarking/dwtDctSvd/dwt_paraphrase_0.1/317237/317237_gen_0.png\n",
      "Generated Image saved to /raid/home/ashhar21137/watermarking/dwtDctSvd/dwt_paraphrase_0.1/317237/317237_gen_1.png\n",
      "Generated Image saved to /raid/home/ashhar21137/watermarking/dwtDctSvd/dwt_paraphrase_0.1/317237/317237_gen_2.png\n",
      "Generated Image saved to /raid/home/ashhar21137/watermarking/dwtDctSvd/dwt_paraphrase_0.1/317237/317237_gen_3.png\n",
      "Generated Image saved to /raid/home/ashhar21137/watermarking/dwtDctSvd/dwt_paraphrase_0.1/317237/317237_gen_4.png\n",
      "\n",
      "Number of images generated :  5\n",
      "********** Watermark detection for generated images ***************\n",
      "caption : A small child eating noodles from a bowl in a kitchen \n",
      "Watermark Presence Prob.: 0\n",
      "caption : An Asian baby feeding himself noodles from a bowl.\n",
      "Watermark Presence Prob.: 0\n",
      "caption : a kid using a spoon eating from a plate\n"
     ]
    },
    {
     "name": "stderr",
     "output_type": "stream",
     "text": [
      " 26%|██▋       | 53/200 [02:57<08:42,  3.55s/it]"
     ]
    },
    {
     "name": "stdout",
     "output_type": "stream",
     "text": [
      "Watermark Presence Prob.: 0\n",
      "caption : A little boy that has a spoon with food on it.\n",
      "Watermark Presence Prob.: 0.0\n",
      "caption : An asian child is eating noodles with a fork with help using his own hands in the kitchen.\n",
      "Watermark Presence Prob.: 0.0\n",
      "---------- Count = 54 : Visual Paraphrasing for the watermarked version of 299411-------------\n",
      "\n",
      "Image name :  Image_299411.jpg\n",
      "Image id : 299411\n"
     ]
    },
    {
     "data": {
      "application/vnd.jupyter.widget-view+json": {
       "model_id": "d889e70b5c314428921a3aeb95d7bc6f",
       "version_major": 2,
       "version_minor": 0
      },
      "text/plain": [
       "  0%|          | 0/5 [00:00<?, ?it/s]"
      ]
     },
     "metadata": {},
     "output_type": "display_data"
    },
    {
     "name": "stdout",
     "output_type": "stream",
     "text": [
      "Saving generated images at /raid/home/ashhar21137/watermarking/dwtDctSvd/dwt_paraphrase_0.1/299411\n",
      "Generated Image saved to /raid/home/ashhar21137/watermarking/dwtDctSvd/dwt_paraphrase_0.1/299411/299411_gen_0.png\n",
      "Generated Image saved to /raid/home/ashhar21137/watermarking/dwtDctSvd/dwt_paraphrase_0.1/299411/299411_gen_1.png\n",
      "Generated Image saved to /raid/home/ashhar21137/watermarking/dwtDctSvd/dwt_paraphrase_0.1/299411/299411_gen_2.png\n",
      "Generated Image saved to /raid/home/ashhar21137/watermarking/dwtDctSvd/dwt_paraphrase_0.1/299411/299411_gen_3.png\n",
      "Generated Image saved to /raid/home/ashhar21137/watermarking/dwtDctSvd/dwt_paraphrase_0.1/299411/299411_gen_4.png\n",
      "\n",
      "Number of images generated :  5\n",
      "********** Watermark detection for generated images ***************\n",
      "caption : a bathroom that has a sink and a toilet in it\n",
      "Watermark Presence Prob.: 0\n",
      "caption : The bathroom has red carpet and yellowish appliances.\n",
      "Watermark Presence Prob.: 0\n",
      "caption : A bathroom sketch including a red carpet and pink towels and rug.\n",
      "Watermark Presence Prob.: 0\n",
      "caption : a painting or drawing of a bathroom with red flooring\n"
     ]
    },
    {
     "name": "stderr",
     "output_type": "stream",
     "text": [
      " 27%|██▋       | 54/200 [03:01<08:49,  3.63s/it]"
     ]
    },
    {
     "name": "stdout",
     "output_type": "stream",
     "text": [
      "Watermark Presence Prob.: 0\n",
      "caption : An old bathroom with yellow colored toilet, sink and bath tub.\n",
      "Watermark Presence Prob.: 0\n",
      "---------- Count = 55 : Visual Paraphrasing for the watermarked version of 109424-------------\n",
      "\n",
      "Image name :  Image_109424.jpg\n",
      "Image id : 109424\n"
     ]
    },
    {
     "data": {
      "application/vnd.jupyter.widget-view+json": {
       "model_id": "c38a65b3ef544ceabd2b9a64ae5ea65a",
       "version_major": 2,
       "version_minor": 0
      },
      "text/plain": [
       "  0%|          | 0/5 [00:00<?, ?it/s]"
      ]
     },
     "metadata": {},
     "output_type": "display_data"
    },
    {
     "name": "stdout",
     "output_type": "stream",
     "text": [
      "Saving generated images at /raid/home/ashhar21137/watermarking/dwtDctSvd/dwt_paraphrase_0.1/109424\n",
      "Generated Image saved to /raid/home/ashhar21137/watermarking/dwtDctSvd/dwt_paraphrase_0.1/109424/109424_gen_0.png\n",
      "Generated Image saved to /raid/home/ashhar21137/watermarking/dwtDctSvd/dwt_paraphrase_0.1/109424/109424_gen_1.png\n",
      "Generated Image saved to /raid/home/ashhar21137/watermarking/dwtDctSvd/dwt_paraphrase_0.1/109424/109424_gen_2.png\n",
      "Generated Image saved to /raid/home/ashhar21137/watermarking/dwtDctSvd/dwt_paraphrase_0.1/109424/109424_gen_3.png\n",
      "Generated Image saved to /raid/home/ashhar21137/watermarking/dwtDctSvd/dwt_paraphrase_0.1/109424/109424_gen_4.png\n",
      "\n",
      "Number of images generated :  5\n",
      "********** Watermark detection for generated images ***************\n",
      "caption : Two giraffe running on top of a grass covered field.\n",
      "Watermark Presence Prob.: 0\n",
      "caption : Two giraffes walking up a grassy and rocky hill. \n",
      "Watermark Presence Prob.: 0\n",
      "caption : Two giraffes standing on grass near a rock pile.\n",
      "Watermark Presence Prob.: 0\n",
      "caption : Two giraffes are seen standing next to one another\n"
     ]
    },
    {
     "name": "stderr",
     "output_type": "stream",
     "text": [
      " 28%|██▊       | 55/200 [03:04<08:18,  3.44s/it]"
     ]
    },
    {
     "name": "stdout",
     "output_type": "stream",
     "text": [
      "Watermark Presence Prob.: 0.0\n",
      "caption : Two giffaras walking in a hilly field that has a rock pile.\n",
      "Watermark Presence Prob.: 0\n",
      "---------- Count = 56 : Visual Paraphrasing for the watermarked version of 581674-------------\n",
      "\n",
      "Image name :  Image_581674.jpg\n",
      "Image id : 581674\n"
     ]
    },
    {
     "data": {
      "application/vnd.jupyter.widget-view+json": {
       "model_id": "eec1f49dbd604349aba411ef1a44bbf4",
       "version_major": 2,
       "version_minor": 0
      },
      "text/plain": [
       "  0%|          | 0/5 [00:00<?, ?it/s]"
      ]
     },
     "metadata": {},
     "output_type": "display_data"
    },
    {
     "name": "stdout",
     "output_type": "stream",
     "text": [
      "Saving generated images at /raid/home/ashhar21137/watermarking/dwtDctSvd/dwt_paraphrase_0.1/581674\n",
      "Generated Image saved to /raid/home/ashhar21137/watermarking/dwtDctSvd/dwt_paraphrase_0.1/581674/581674_gen_0.png\n",
      "Generated Image saved to /raid/home/ashhar21137/watermarking/dwtDctSvd/dwt_paraphrase_0.1/581674/581674_gen_1.png\n",
      "Generated Image saved to /raid/home/ashhar21137/watermarking/dwtDctSvd/dwt_paraphrase_0.1/581674/581674_gen_2.png\n",
      "Generated Image saved to /raid/home/ashhar21137/watermarking/dwtDctSvd/dwt_paraphrase_0.1/581674/581674_gen_3.png\n",
      "Generated Image saved to /raid/home/ashhar21137/watermarking/dwtDctSvd/dwt_paraphrase_0.1/581674/581674_gen_4.png\n",
      "\n",
      "Number of images generated :  5\n",
      "********** Watermark detection for generated images ***************\n",
      "caption : Several kitchen workers making dishes in commercial kitchen.\n",
      "Watermark Presence Prob.: 0.0\n",
      "caption : A couple of men in a small kitchen.\n",
      "Watermark Presence Prob.: 0.0\n",
      "caption : a bunch of people cooking inside of a kitchen\n",
      "Watermark Presence Prob.: 0.0\n",
      "caption : The chefs are preparing for the upcoming dinner service.\n",
      "Watermark Presence Prob.: 0\n",
      "caption : A team of chefs working in a commercial kitchen.\n"
     ]
    },
    {
     "name": "stderr",
     "output_type": "stream",
     "text": [
      " 28%|██▊       | 56/200 [03:08<08:32,  3.56s/it]"
     ]
    },
    {
     "name": "stdout",
     "output_type": "stream",
     "text": [
      "Watermark Presence Prob.: 0.0\n",
      "---------- Count = 57 : Visual Paraphrasing for the watermarked version of 239811-------------\n",
      "\n",
      "Image name :  Image_239811.jpg\n",
      "Image id : 239811\n"
     ]
    },
    {
     "data": {
      "application/vnd.jupyter.widget-view+json": {
       "model_id": "e136ac72e59d42f4a0570fccd157d5cd",
       "version_major": 2,
       "version_minor": 0
      },
      "text/plain": [
       "  0%|          | 0/5 [00:00<?, ?it/s]"
      ]
     },
     "metadata": {},
     "output_type": "display_data"
    },
    {
     "name": "stdout",
     "output_type": "stream",
     "text": [
      "Saving generated images at /raid/home/ashhar21137/watermarking/dwtDctSvd/dwt_paraphrase_0.1/239811\n",
      "Generated Image saved to /raid/home/ashhar21137/watermarking/dwtDctSvd/dwt_paraphrase_0.1/239811/239811_gen_0.png\n",
      "Generated Image saved to /raid/home/ashhar21137/watermarking/dwtDctSvd/dwt_paraphrase_0.1/239811/239811_gen_1.png\n",
      "Generated Image saved to /raid/home/ashhar21137/watermarking/dwtDctSvd/dwt_paraphrase_0.1/239811/239811_gen_2.png\n",
      "Generated Image saved to /raid/home/ashhar21137/watermarking/dwtDctSvd/dwt_paraphrase_0.1/239811/239811_gen_3.png\n",
      "Generated Image saved to /raid/home/ashhar21137/watermarking/dwtDctSvd/dwt_paraphrase_0.1/239811/239811_gen_4.png\n",
      "\n",
      "Number of images generated :  5\n",
      "********** Watermark detection for generated images ***************\n",
      "caption : A solid white bicycle is parked next to statues on a sidewalk.\n",
      "Watermark Presence Prob.: 0\n",
      "caption : A white bicycle leans against a post on the sidewalk.\n",
      "Watermark Presence Prob.: 0\n",
      "caption : A white bike parked next to a  couple of statues.\n",
      "Watermark Presence Prob.: 0\n",
      "caption : Bike monument in a city atmosphere with people walking and relaxing nearby.\n"
     ]
    },
    {
     "name": "stderr",
     "output_type": "stream",
     "text": [
      " 28%|██▊       | 57/200 [03:11<08:22,  3.52s/it]"
     ]
    },
    {
     "name": "stdout",
     "output_type": "stream",
     "text": [
      "Watermark Presence Prob.: 0.0\n",
      "caption : A white bicycle anchored between the parking posts.\n",
      "Watermark Presence Prob.: 0\n",
      "---------- Count = 58 : Visual Paraphrasing for the watermarked version of 318189-------------\n",
      "\n",
      "Image name :  Image_318189.jpg\n",
      "Image id : 318189\n"
     ]
    },
    {
     "data": {
      "application/vnd.jupyter.widget-view+json": {
       "model_id": "7aa82905f90748a0b9a2ea95267b0e07",
       "version_major": 2,
       "version_minor": 0
      },
      "text/plain": [
       "  0%|          | 0/5 [00:00<?, ?it/s]"
      ]
     },
     "metadata": {},
     "output_type": "display_data"
    },
    {
     "name": "stdout",
     "output_type": "stream",
     "text": [
      "Saving generated images at /raid/home/ashhar21137/watermarking/dwtDctSvd/dwt_paraphrase_0.1/318189\n",
      "Generated Image saved to /raid/home/ashhar21137/watermarking/dwtDctSvd/dwt_paraphrase_0.1/318189/318189_gen_0.png\n",
      "Generated Image saved to /raid/home/ashhar21137/watermarking/dwtDctSvd/dwt_paraphrase_0.1/318189/318189_gen_1.png\n",
      "Generated Image saved to /raid/home/ashhar21137/watermarking/dwtDctSvd/dwt_paraphrase_0.1/318189/318189_gen_2.png\n",
      "Generated Image saved to /raid/home/ashhar21137/watermarking/dwtDctSvd/dwt_paraphrase_0.1/318189/318189_gen_3.png\n",
      "Generated Image saved to /raid/home/ashhar21137/watermarking/dwtDctSvd/dwt_paraphrase_0.1/318189/318189_gen_4.png\n",
      "\n",
      "Number of images generated :  5\n",
      "********** Watermark detection for generated images ***************\n",
      "caption : An old red and yellow car with a yellow surfboard on top.\n",
      "Watermark Presence Prob.: 0.0\n",
      "caption : an older car on a street with a surf board\n",
      "Watermark Presence Prob.: 0\n",
      "caption : A classic woody station wagon with a yellow surfboard strapped on top.\n",
      "Watermark Presence Prob.: 0\n",
      "caption : a colorful station wagon sitting on the side of the road with a surfboard on top \n"
     ]
    },
    {
     "name": "stderr",
     "output_type": "stream",
     "text": [
      " 29%|██▉       | 58/200 [03:15<08:14,  3.48s/it]"
     ]
    },
    {
     "name": "stdout",
     "output_type": "stream",
     "text": [
      "Watermark Presence Prob.: 0\n",
      "caption : A bright station wagon with a surfboard on the roof\n",
      "Watermark Presence Prob.: 0\n",
      "---------- Count = 59 : Visual Paraphrasing for the watermarked version of 278347-------------\n",
      "\n",
      "Image name :  Image_278347.jpg\n",
      "Image id : 278347\n"
     ]
    },
    {
     "data": {
      "application/vnd.jupyter.widget-view+json": {
       "model_id": "c4cd1dd07ec443c6b7214b38a82a64b1",
       "version_major": 2,
       "version_minor": 0
      },
      "text/plain": [
       "  0%|          | 0/5 [00:00<?, ?it/s]"
      ]
     },
     "metadata": {},
     "output_type": "display_data"
    },
    {
     "name": "stdout",
     "output_type": "stream",
     "text": [
      "Saving generated images at /raid/home/ashhar21137/watermarking/dwtDctSvd/dwt_paraphrase_0.1/278347\n",
      "Generated Image saved to /raid/home/ashhar21137/watermarking/dwtDctSvd/dwt_paraphrase_0.1/278347/278347_gen_0.png\n",
      "Generated Image saved to /raid/home/ashhar21137/watermarking/dwtDctSvd/dwt_paraphrase_0.1/278347/278347_gen_1.png\n",
      "Generated Image saved to /raid/home/ashhar21137/watermarking/dwtDctSvd/dwt_paraphrase_0.1/278347/278347_gen_2.png\n",
      "Generated Image saved to /raid/home/ashhar21137/watermarking/dwtDctSvd/dwt_paraphrase_0.1/278347/278347_gen_3.png\n",
      "Generated Image saved to /raid/home/ashhar21137/watermarking/dwtDctSvd/dwt_paraphrase_0.1/278347/278347_gen_4.png\n",
      "\n",
      "Number of images generated :  5\n",
      "********** Watermark detection for generated images ***************\n",
      "caption : A group of people looking at an old motorcycle.\n",
      "Watermark Presence Prob.: 0.0\n",
      "caption : A parked motor bike on the side of the street.\n",
      "Watermark Presence Prob.: 0\n",
      "caption : An antique bmw motorcycle with a leather satchel on display at an event.\n",
      "Watermark Presence Prob.: 0\n",
      "caption : Vintage beige BMW motorcycle on display at a function.\n"
     ]
    },
    {
     "name": "stderr",
     "output_type": "stream",
     "text": [
      " 30%|██▉       | 59/200 [03:18<07:59,  3.40s/it]"
     ]
    },
    {
     "name": "stdout",
     "output_type": "stream",
     "text": [
      "Watermark Presence Prob.: 0.0\n",
      "caption : A motorcycle on display at a formal outdoor gathering.\n",
      "Watermark Presence Prob.: 0\n",
      "---------- Count = 60 : Visual Paraphrasing for the watermarked version of 90570-------------\n",
      "\n",
      "Image name :  Image_90570.jpg\n",
      "Image id : 90570\n"
     ]
    },
    {
     "data": {
      "application/vnd.jupyter.widget-view+json": {
       "model_id": "9b5aa7b10c4d40c08c819e2568b1ac44",
       "version_major": 2,
       "version_minor": 0
      },
      "text/plain": [
       "  0%|          | 0/5 [00:00<?, ?it/s]"
      ]
     },
     "metadata": {},
     "output_type": "display_data"
    },
    {
     "name": "stdout",
     "output_type": "stream",
     "text": [
      "Saving generated images at /raid/home/ashhar21137/watermarking/dwtDctSvd/dwt_paraphrase_0.1/90570\n",
      "Generated Image saved to /raid/home/ashhar21137/watermarking/dwtDctSvd/dwt_paraphrase_0.1/90570/90570_gen_0.png\n",
      "Generated Image saved to /raid/home/ashhar21137/watermarking/dwtDctSvd/dwt_paraphrase_0.1/90570/90570_gen_1.png\n",
      "Generated Image saved to /raid/home/ashhar21137/watermarking/dwtDctSvd/dwt_paraphrase_0.1/90570/90570_gen_2.png\n",
      "Generated Image saved to /raid/home/ashhar21137/watermarking/dwtDctSvd/dwt_paraphrase_0.1/90570/90570_gen_3.png\n",
      "Generated Image saved to /raid/home/ashhar21137/watermarking/dwtDctSvd/dwt_paraphrase_0.1/90570/90570_gen_4.png\n",
      "\n",
      "Number of images generated :  5\n",
      "********** Watermark detection for generated images ***************\n",
      "caption : Two people in a food truck, one looking at an order.\n",
      "Watermark Presence Prob.: 0\n",
      "caption : A man in a beanie and glasses leans over a counter.\n",
      "Watermark Presence Prob.: 0\n",
      "caption : A man in a food cart looking down at a piece of paper.\n"
     ]
    },
    {
     "name": "stderr",
     "output_type": "stream",
     "text": [
      " 30%|███       | 60/200 [03:20<07:23,  3.17s/it]"
     ]
    },
    {
     "name": "stdout",
     "output_type": "stream",
     "text": [
      "Watermark Presence Prob.: 0\n",
      "caption : a man with a beard and a blue shirt is making some food\n",
      "Watermark Presence Prob.: 0\n",
      "caption : A person working behind the counter of a food truck.\n",
      "Watermark Presence Prob.: 0\n",
      "---------- Count = 61 : Visual Paraphrasing for the watermarked version of 374114-------------\n",
      "\n",
      "Image name :  Image_374114.jpg\n",
      "Image id : 374114\n"
     ]
    },
    {
     "data": {
      "application/vnd.jupyter.widget-view+json": {
       "model_id": "77e86fda189444248c66d651c63e5c61",
       "version_major": 2,
       "version_minor": 0
      },
      "text/plain": [
       "  0%|          | 0/5 [00:00<?, ?it/s]"
      ]
     },
     "metadata": {},
     "output_type": "display_data"
    },
    {
     "name": "stdout",
     "output_type": "stream",
     "text": [
      "Saving generated images at /raid/home/ashhar21137/watermarking/dwtDctSvd/dwt_paraphrase_0.1/374114\n",
      "Generated Image saved to /raid/home/ashhar21137/watermarking/dwtDctSvd/dwt_paraphrase_0.1/374114/374114_gen_0.png\n",
      "Generated Image saved to /raid/home/ashhar21137/watermarking/dwtDctSvd/dwt_paraphrase_0.1/374114/374114_gen_1.png\n",
      "Generated Image saved to /raid/home/ashhar21137/watermarking/dwtDctSvd/dwt_paraphrase_0.1/374114/374114_gen_2.png\n",
      "Generated Image saved to /raid/home/ashhar21137/watermarking/dwtDctSvd/dwt_paraphrase_0.1/374114/374114_gen_3.png\n",
      "Generated Image saved to /raid/home/ashhar21137/watermarking/dwtDctSvd/dwt_paraphrase_0.1/374114/374114_gen_4.png\n",
      "\n",
      "Number of images generated :  5\n",
      "********** Watermark detection for generated images ***************\n",
      "caption : a train with its door open stopped at a train station\n",
      "Watermark Presence Prob.: 0.0\n",
      "caption : An employee stands in the open doorway of a passenger train. \n",
      "Watermark Presence Prob.: 0.0\n",
      "caption : A man standing at the entrance of a passenger train car \n",
      "Watermark Presence Prob.: 0.0\n",
      "caption : A man standing in a parked train doorway.\n"
     ]
    },
    {
     "name": "stderr",
     "output_type": "stream",
     "text": [
      " 30%|███       | 61/200 [03:24<07:23,  3.19s/it]"
     ]
    },
    {
     "name": "stdout",
     "output_type": "stream",
     "text": [
      "Watermark Presence Prob.: 0.0\n",
      "caption : A man standing in the doorway of a commuter train\n",
      "Watermark Presence Prob.: 0\n",
      "---------- Count = 62 : Visual Paraphrasing for the watermarked version of 505126-------------\n",
      "\n",
      "Image name :  Image_505126.jpg\n",
      "Image id : 505126\n"
     ]
    },
    {
     "data": {
      "application/vnd.jupyter.widget-view+json": {
       "model_id": "543fb1b5a3064468aed47ab065a6ea38",
       "version_major": 2,
       "version_minor": 0
      },
      "text/plain": [
       "  0%|          | 0/5 [00:00<?, ?it/s]"
      ]
     },
     "metadata": {},
     "output_type": "display_data"
    },
    {
     "name": "stdout",
     "output_type": "stream",
     "text": [
      "Saving generated images at /raid/home/ashhar21137/watermarking/dwtDctSvd/dwt_paraphrase_0.1/505126\n",
      "Generated Image saved to /raid/home/ashhar21137/watermarking/dwtDctSvd/dwt_paraphrase_0.1/505126/505126_gen_0.png\n",
      "Generated Image saved to /raid/home/ashhar21137/watermarking/dwtDctSvd/dwt_paraphrase_0.1/505126/505126_gen_1.png\n",
      "Generated Image saved to /raid/home/ashhar21137/watermarking/dwtDctSvd/dwt_paraphrase_0.1/505126/505126_gen_2.png\n",
      "Generated Image saved to /raid/home/ashhar21137/watermarking/dwtDctSvd/dwt_paraphrase_0.1/505126/505126_gen_3.png\n",
      "Generated Image saved to /raid/home/ashhar21137/watermarking/dwtDctSvd/dwt_paraphrase_0.1/505126/505126_gen_4.png\n",
      "\n",
      "Number of images generated :  5\n",
      "********** Watermark detection for generated images ***************\n",
      "caption : A yellow and black fire hydrant next to dirt field.\n",
      "Watermark Presence Prob.: 0\n",
      "caption : a fire hydrant sits on a side walk\n",
      "Watermark Presence Prob.: 0\n",
      "caption : an old fire hydrant painted black and silver on a sidewalk\n",
      "Watermark Presence Prob.: 0\n",
      "caption : A fire hydrant on the side of a street.\n"
     ]
    },
    {
     "name": "stderr",
     "output_type": "stream",
     "text": [
      " 31%|███       | 62/200 [03:27<07:10,  3.12s/it]"
     ]
    },
    {
     "name": "stdout",
     "output_type": "stream",
     "text": [
      "Watermark Presence Prob.: 0\n",
      "caption : A yellow water hydrant on the side of the road.\n",
      "Watermark Presence Prob.: 0\n",
      "---------- Count = 63 : Visual Paraphrasing for the watermarked version of 8649-------------\n",
      "\n",
      "Image name :  Image_8649.jpg\n",
      "Image id : 8649\n"
     ]
    },
    {
     "data": {
      "application/vnd.jupyter.widget-view+json": {
       "model_id": "97c53a33c29f4176bb3b65eb83f91293",
       "version_major": 2,
       "version_minor": 0
      },
      "text/plain": [
       "  0%|          | 0/5 [00:00<?, ?it/s]"
      ]
     },
     "metadata": {},
     "output_type": "display_data"
    },
    {
     "name": "stdout",
     "output_type": "stream",
     "text": [
      "Saving generated images at /raid/home/ashhar21137/watermarking/dwtDctSvd/dwt_paraphrase_0.1/8649\n",
      "Generated Image saved to /raid/home/ashhar21137/watermarking/dwtDctSvd/dwt_paraphrase_0.1/8649/8649_gen_0.png\n",
      "Generated Image saved to /raid/home/ashhar21137/watermarking/dwtDctSvd/dwt_paraphrase_0.1/8649/8649_gen_1.png\n",
      "Generated Image saved to /raid/home/ashhar21137/watermarking/dwtDctSvd/dwt_paraphrase_0.1/8649/8649_gen_2.png\n",
      "Generated Image saved to /raid/home/ashhar21137/watermarking/dwtDctSvd/dwt_paraphrase_0.1/8649/8649_gen_3.png\n",
      "Generated Image saved to /raid/home/ashhar21137/watermarking/dwtDctSvd/dwt_paraphrase_0.1/8649/8649_gen_4.png\n",
      "\n",
      "Number of images generated :  5\n",
      "********** Watermark detection for generated images ***************\n",
      "caption : Small child climbing on a bench on an outdoor promenade.\n",
      "Watermark Presence Prob.: 0\n",
      "caption : A young boy climbing over a wooden bench.\n",
      "Watermark Presence Prob.: 0.0\n",
      "caption : A baby climbs on top of a wooden park bench at a mall.\n"
     ]
    },
    {
     "name": "stderr",
     "output_type": "stream",
     "text": [
      " 32%|███▏      | 63/200 [03:30<06:55,  3.04s/it]"
     ]
    },
    {
     "name": "stdout",
     "output_type": "stream",
     "text": [
      "Watermark Presence Prob.: 0\n",
      "caption : A child playing on a wooden bench close to a tree.\n",
      "Watermark Presence Prob.: 0.0\n",
      "caption : A child climbing onto a bench in front of a potted plant.\n",
      "Watermark Presence Prob.: 0\n",
      "---------- Count = 64 : Visual Paraphrasing for the watermarked version of 145179-------------\n",
      "\n",
      "Image name :  Image_145179.jpg\n",
      "Image id : 145179\n"
     ]
    },
    {
     "data": {
      "application/vnd.jupyter.widget-view+json": {
       "model_id": "28d7d5e1dc9942a882ff76f7f64afd76",
       "version_major": 2,
       "version_minor": 0
      },
      "text/plain": [
       "  0%|          | 0/5 [00:00<?, ?it/s]"
      ]
     },
     "metadata": {},
     "output_type": "display_data"
    },
    {
     "name": "stdout",
     "output_type": "stream",
     "text": [
      "Saving generated images at /raid/home/ashhar21137/watermarking/dwtDctSvd/dwt_paraphrase_0.1/145179\n",
      "Generated Image saved to /raid/home/ashhar21137/watermarking/dwtDctSvd/dwt_paraphrase_0.1/145179/145179_gen_0.png\n",
      "Generated Image saved to /raid/home/ashhar21137/watermarking/dwtDctSvd/dwt_paraphrase_0.1/145179/145179_gen_1.png\n",
      "Generated Image saved to /raid/home/ashhar21137/watermarking/dwtDctSvd/dwt_paraphrase_0.1/145179/145179_gen_2.png\n",
      "Generated Image saved to /raid/home/ashhar21137/watermarking/dwtDctSvd/dwt_paraphrase_0.1/145179/145179_gen_3.png\n",
      "Generated Image saved to /raid/home/ashhar21137/watermarking/dwtDctSvd/dwt_paraphrase_0.1/145179/145179_gen_4.png\n",
      "\n",
      "Number of images generated :  5\n",
      "********** Watermark detection for generated images ***************\n",
      "caption : A baby giraffe looking at whoever is taking it's picture.\n",
      "Watermark Presence Prob.: 0\n",
      "caption : A giraffe in a sandy fenced off area with his head pointed towards the camera.\n",
      "Watermark Presence Prob.: 0\n",
      "caption : A baby giraffe looking straight at the camera.\n"
     ]
    },
    {
     "name": "stderr",
     "output_type": "stream",
     "text": [
      " 32%|███▏      | 64/200 [03:33<07:06,  3.14s/it]"
     ]
    },
    {
     "name": "stdout",
     "output_type": "stream",
     "text": [
      "Watermark Presence Prob.: 0\n",
      "caption : a baby giraffe stands in a area with some birds \n",
      "Watermark Presence Prob.: 0\n",
      "caption : The giraffe is standing next to the doorway.\n",
      "Watermark Presence Prob.: 0\n",
      "---------- Count = 65 : Visual Paraphrasing for the watermarked version of 66514-------------\n",
      "\n",
      "Image name :  Image_66514.jpg\n",
      "Image id : 66514\n"
     ]
    },
    {
     "data": {
      "application/vnd.jupyter.widget-view+json": {
       "model_id": "b47627be7bd84a94b4bdbe98fa0872bf",
       "version_major": 2,
       "version_minor": 0
      },
      "text/plain": [
       "  0%|          | 0/5 [00:00<?, ?it/s]"
      ]
     },
     "metadata": {},
     "output_type": "display_data"
    },
    {
     "name": "stdout",
     "output_type": "stream",
     "text": [
      "Saving generated images at /raid/home/ashhar21137/watermarking/dwtDctSvd/dwt_paraphrase_0.1/66514\n",
      "Generated Image saved to /raid/home/ashhar21137/watermarking/dwtDctSvd/dwt_paraphrase_0.1/66514/66514_gen_0.png\n",
      "Generated Image saved to /raid/home/ashhar21137/watermarking/dwtDctSvd/dwt_paraphrase_0.1/66514/66514_gen_1.png\n",
      "Generated Image saved to /raid/home/ashhar21137/watermarking/dwtDctSvd/dwt_paraphrase_0.1/66514/66514_gen_2.png\n",
      "Generated Image saved to /raid/home/ashhar21137/watermarking/dwtDctSvd/dwt_paraphrase_0.1/66514/66514_gen_3.png\n",
      "Generated Image saved to /raid/home/ashhar21137/watermarking/dwtDctSvd/dwt_paraphrase_0.1/66514/66514_gen_4.png\n",
      "\n",
      "Number of images generated :  5\n",
      "********** Watermark detection for generated images ***************\n",
      "caption : A young boy sitting on a toilet in front of his sister with her pants down.\n",
      "Watermark Presence Prob.: 0\n",
      "caption : Two young kids sit on toilets in a bathroom.\n",
      "Watermark Presence Prob.: 0\n",
      "caption : Two children sitting on their toilets in the bathroom. \n",
      "Watermark Presence Prob.: 0\n",
      "caption : A little boy and girl that is in a bathroom.\n",
      "Watermark Presence Prob.: 0\n",
      "caption : A boy and a girl each sit on a toilet. \n"
     ]
    },
    {
     "name": "stderr",
     "output_type": "stream",
     "text": [
      " 32%|███▎      | 65/200 [03:36<07:07,  3.17s/it]"
     ]
    },
    {
     "name": "stdout",
     "output_type": "stream",
     "text": [
      "Watermark Presence Prob.: 0\n",
      "---------- Count = 66 : Visual Paraphrasing for the watermarked version of 462559-------------\n",
      "\n",
      "Image name :  Image_462559.jpg\n",
      "Image id : 462559\n"
     ]
    },
    {
     "data": {
      "application/vnd.jupyter.widget-view+json": {
       "model_id": "51ca182dee27409782e59437ea7f6629",
       "version_major": 2,
       "version_minor": 0
      },
      "text/plain": [
       "  0%|          | 0/5 [00:00<?, ?it/s]"
      ]
     },
     "metadata": {},
     "output_type": "display_data"
    },
    {
     "name": "stdout",
     "output_type": "stream",
     "text": [
      "Saving generated images at /raid/home/ashhar21137/watermarking/dwtDctSvd/dwt_paraphrase_0.1/462559\n",
      "Generated Image saved to /raid/home/ashhar21137/watermarking/dwtDctSvd/dwt_paraphrase_0.1/462559/462559_gen_0.png\n",
      "Generated Image saved to /raid/home/ashhar21137/watermarking/dwtDctSvd/dwt_paraphrase_0.1/462559/462559_gen_1.png\n",
      "Generated Image saved to /raid/home/ashhar21137/watermarking/dwtDctSvd/dwt_paraphrase_0.1/462559/462559_gen_2.png\n",
      "Generated Image saved to /raid/home/ashhar21137/watermarking/dwtDctSvd/dwt_paraphrase_0.1/462559/462559_gen_3.png\n",
      "Generated Image saved to /raid/home/ashhar21137/watermarking/dwtDctSvd/dwt_paraphrase_0.1/462559/462559_gen_4.png\n",
      "\n",
      "Number of images generated :  5\n",
      "********** Watermark detection for generated images ***************\n",
      "caption : The sign tells motorists how to proceed on the street.\n",
      "Watermark Presence Prob.: 0.0\n",
      "caption : A stop light is topped with a do not enter warning.\n",
      "Watermark Presence Prob.: 0.0\n",
      "caption : A traffic light sitting below a do not enter sign.\n"
     ]
    },
    {
     "name": "stderr",
     "output_type": "stream",
     "text": [
      " 33%|███▎      | 66/200 [03:40<07:26,  3.33s/it]"
     ]
    },
    {
     "name": "stdout",
     "output_type": "stream",
     "text": [
      "Watermark Presence Prob.: 0.0\n",
      "caption : A stop light with a one way, do not enter sign above it.\n",
      "Watermark Presence Prob.: 0.0\n",
      "caption : A large sign over a black stop light.\n",
      "Watermark Presence Prob.: 0.0\n",
      "---------- Count = 67 : Visual Paraphrasing for the watermarked version of 4428-------------\n",
      "\n",
      "Image name :  Image_4428.jpg\n",
      "Image id : 4428\n"
     ]
    },
    {
     "data": {
      "application/vnd.jupyter.widget-view+json": {
       "model_id": "b74c592301c640059e3cd835e98d684d",
       "version_major": 2,
       "version_minor": 0
      },
      "text/plain": [
       "  0%|          | 0/5 [00:00<?, ?it/s]"
      ]
     },
     "metadata": {},
     "output_type": "display_data"
    },
    {
     "name": "stdout",
     "output_type": "stream",
     "text": [
      "Saving generated images at /raid/home/ashhar21137/watermarking/dwtDctSvd/dwt_paraphrase_0.1/4428\n",
      "Generated Image saved to /raid/home/ashhar21137/watermarking/dwtDctSvd/dwt_paraphrase_0.1/4428/4428_gen_0.png\n",
      "Generated Image saved to /raid/home/ashhar21137/watermarking/dwtDctSvd/dwt_paraphrase_0.1/4428/4428_gen_1.png\n",
      "Generated Image saved to /raid/home/ashhar21137/watermarking/dwtDctSvd/dwt_paraphrase_0.1/4428/4428_gen_2.png\n",
      "Generated Image saved to /raid/home/ashhar21137/watermarking/dwtDctSvd/dwt_paraphrase_0.1/4428/4428_gen_3.png\n",
      "Generated Image saved to /raid/home/ashhar21137/watermarking/dwtDctSvd/dwt_paraphrase_0.1/4428/4428_gen_4.png\n",
      "\n",
      "Number of images generated :  5\n",
      "********** Watermark detection for generated images ***************\n",
      "caption : A chef preparing food inside of a kitchen near  a window.\n",
      "Watermark Presence Prob.: 0\n",
      "caption : A cook is making food under a lamp.\n",
      "Watermark Presence Prob.: 0.0\n",
      "caption : A chief in a kitchen plating food out of a pan.\n",
      "Watermark Presence Prob.: 0\n",
      "caption : Sous chef adding sauce to a plate at the pass of a restaurant kitchen. \n",
      "Watermark Presence Prob.: 0\n",
      "caption : a person in a kitchen preparing food under a lamp\n"
     ]
    },
    {
     "name": "stderr",
     "output_type": "stream",
     "text": [
      " 34%|███▎      | 67/200 [03:44<07:44,  3.49s/it]"
     ]
    },
    {
     "name": "stdout",
     "output_type": "stream",
     "text": [
      "Watermark Presence Prob.: 0\n",
      "---------- Count = 68 : Visual Paraphrasing for the watermarked version of 210932-------------\n",
      "\n",
      "Image name :  Image_210932.jpg\n",
      "Image id : 210932\n"
     ]
    },
    {
     "data": {
      "application/vnd.jupyter.widget-view+json": {
       "model_id": "36d154aea7e64dcca09ad890d3102d09",
       "version_major": 2,
       "version_minor": 0
      },
      "text/plain": [
       "  0%|          | 0/5 [00:00<?, ?it/s]"
      ]
     },
     "metadata": {},
     "output_type": "display_data"
    },
    {
     "name": "stdout",
     "output_type": "stream",
     "text": [
      "Saving generated images at /raid/home/ashhar21137/watermarking/dwtDctSvd/dwt_paraphrase_0.1/210932\n",
      "Generated Image saved to /raid/home/ashhar21137/watermarking/dwtDctSvd/dwt_paraphrase_0.1/210932/210932_gen_0.png\n",
      "Generated Image saved to /raid/home/ashhar21137/watermarking/dwtDctSvd/dwt_paraphrase_0.1/210932/210932_gen_1.png\n",
      "Generated Image saved to /raid/home/ashhar21137/watermarking/dwtDctSvd/dwt_paraphrase_0.1/210932/210932_gen_2.png\n",
      "Generated Image saved to /raid/home/ashhar21137/watermarking/dwtDctSvd/dwt_paraphrase_0.1/210932/210932_gen_3.png\n",
      "Generated Image saved to /raid/home/ashhar21137/watermarking/dwtDctSvd/dwt_paraphrase_0.1/210932/210932_gen_4.png\n",
      "\n",
      "Number of images generated :  5\n",
      "********** Watermark detection for generated images ***************\n",
      "caption : City street view of a large grey bricked building. \n",
      "Watermark Presence Prob.: 0.0\n",
      "caption : A man in an orange jacket walking past a tall building.\n",
      "Watermark Presence Prob.: 0\n",
      "caption : A street corner with a large building on it. \n",
      "Watermark Presence Prob.: 0.0\n",
      "caption : A picture of a several individuals walking on a sidewalk in between buildings.\n"
     ]
    },
    {
     "name": "stderr",
     "output_type": "stream",
     "text": [
      " 34%|███▍      | 68/200 [03:47<07:41,  3.49s/it]"
     ]
    },
    {
     "name": "stdout",
     "output_type": "stream",
     "text": [
      "Watermark Presence Prob.: 0.0\n",
      "caption : People are walking down the sidewalk next to a building.\n",
      "Watermark Presence Prob.: 0.0\n",
      "---------- Count = 69 : Visual Paraphrasing for the watermarked version of 257350-------------\n",
      "\n",
      "Image name :  Image_257350.jpg\n",
      "Image id : 257350\n"
     ]
    },
    {
     "data": {
      "application/vnd.jupyter.widget-view+json": {
       "model_id": "55fd8babe0134f08804689b5643a15ff",
       "version_major": 2,
       "version_minor": 0
      },
      "text/plain": [
       "  0%|          | 0/5 [00:00<?, ?it/s]"
      ]
     },
     "metadata": {},
     "output_type": "display_data"
    },
    {
     "name": "stdout",
     "output_type": "stream",
     "text": [
      "Saving generated images at /raid/home/ashhar21137/watermarking/dwtDctSvd/dwt_paraphrase_0.1/257350\n",
      "Generated Image saved to /raid/home/ashhar21137/watermarking/dwtDctSvd/dwt_paraphrase_0.1/257350/257350_gen_0.png\n",
      "Generated Image saved to /raid/home/ashhar21137/watermarking/dwtDctSvd/dwt_paraphrase_0.1/257350/257350_gen_1.png\n",
      "Generated Image saved to /raid/home/ashhar21137/watermarking/dwtDctSvd/dwt_paraphrase_0.1/257350/257350_gen_2.png\n",
      "Generated Image saved to /raid/home/ashhar21137/watermarking/dwtDctSvd/dwt_paraphrase_0.1/257350/257350_gen_3.png\n",
      "Generated Image saved to /raid/home/ashhar21137/watermarking/dwtDctSvd/dwt_paraphrase_0.1/257350/257350_gen_4.png\n",
      "\n",
      "Number of images generated :  5\n",
      "********** Watermark detection for generated images ***************\n",
      "caption : a group of people riding bikes stopped in front of a building\n",
      "Watermark Presence Prob.: 0.0\n",
      "caption : A group of people on bicy les in front of a church.\n",
      "Watermark Presence Prob.: 0.0\n",
      "caption : Bike riders on the corner outside of a church.\n",
      "Watermark Presence Prob.: 0.0\n",
      "caption : Several children on bicycles outside a white church.\n",
      "Watermark Presence Prob.: 0\n",
      "caption : Several people on bikes in front of a building.\n"
     ]
    },
    {
     "name": "stderr",
     "output_type": "stream",
     "text": [
      " 34%|███▍      | 69/200 [03:51<07:38,  3.50s/it]"
     ]
    },
    {
     "name": "stdout",
     "output_type": "stream",
     "text": [
      "Watermark Presence Prob.: 0.0\n",
      "---------- Count = 70 : Visual Paraphrasing for the watermarked version of 122688-------------\n",
      "\n",
      "Image name :  Image_122688.jpg\n",
      "Image id : 122688\n"
     ]
    },
    {
     "data": {
      "application/vnd.jupyter.widget-view+json": {
       "model_id": "f38de9966eae4524974cc2fa02cf37cc",
       "version_major": 2,
       "version_minor": 0
      },
      "text/plain": [
       "  0%|          | 0/5 [00:00<?, ?it/s]"
      ]
     },
     "metadata": {},
     "output_type": "display_data"
    },
    {
     "name": "stdout",
     "output_type": "stream",
     "text": [
      "Saving generated images at /raid/home/ashhar21137/watermarking/dwtDctSvd/dwt_paraphrase_0.1/122688\n",
      "Generated Image saved to /raid/home/ashhar21137/watermarking/dwtDctSvd/dwt_paraphrase_0.1/122688/122688_gen_0.png\n",
      "Generated Image saved to /raid/home/ashhar21137/watermarking/dwtDctSvd/dwt_paraphrase_0.1/122688/122688_gen_1.png\n",
      "Generated Image saved to /raid/home/ashhar21137/watermarking/dwtDctSvd/dwt_paraphrase_0.1/122688/122688_gen_2.png\n",
      "Generated Image saved to /raid/home/ashhar21137/watermarking/dwtDctSvd/dwt_paraphrase_0.1/122688/122688_gen_3.png\n",
      "Generated Image saved to /raid/home/ashhar21137/watermarking/dwtDctSvd/dwt_paraphrase_0.1/122688/122688_gen_4.png\n",
      "\n",
      "Number of images generated :  5\n",
      "********** Watermark detection for generated images ***************\n",
      "caption : The huge clock on the wall is near a wooden table.\n",
      "Watermark Presence Prob.: 0\n",
      "caption : The clock has a large face with numbers.\n",
      "Watermark Presence Prob.: 0\n",
      "caption : a clock with big numbers at the end of a table\n",
      "Watermark Presence Prob.: 0\n",
      "caption : A table and chairs with a large clock on the wall.\n",
      "Watermark Presence Prob.: 0\n",
      "caption : a large clock on the wall above a radiator \n"
     ]
    },
    {
     "name": "stderr",
     "output_type": "stream",
     "text": [
      " 35%|███▌      | 70/200 [03:54<07:44,  3.57s/it]"
     ]
    },
    {
     "name": "stdout",
     "output_type": "stream",
     "text": [
      "Watermark Presence Prob.: 0\n",
      "---------- Count = 71 : Visual Paraphrasing for the watermarked version of 377694-------------\n",
      "\n",
      "Image name :  Image_377694.jpg\n",
      "Image id : 377694\n"
     ]
    },
    {
     "data": {
      "application/vnd.jupyter.widget-view+json": {
       "model_id": "70c5f17b83d4424295a8b8caaccc2a72",
       "version_major": 2,
       "version_minor": 0
      },
      "text/plain": [
       "  0%|          | 0/5 [00:00<?, ?it/s]"
      ]
     },
     "metadata": {},
     "output_type": "display_data"
    },
    {
     "name": "stdout",
     "output_type": "stream",
     "text": [
      "Saving generated images at /raid/home/ashhar21137/watermarking/dwtDctSvd/dwt_paraphrase_0.1/377694\n",
      "Generated Image saved to /raid/home/ashhar21137/watermarking/dwtDctSvd/dwt_paraphrase_0.1/377694/377694_gen_0.png\n",
      "Generated Image saved to /raid/home/ashhar21137/watermarking/dwtDctSvd/dwt_paraphrase_0.1/377694/377694_gen_1.png\n",
      "Generated Image saved to /raid/home/ashhar21137/watermarking/dwtDctSvd/dwt_paraphrase_0.1/377694/377694_gen_2.png\n",
      "Generated Image saved to /raid/home/ashhar21137/watermarking/dwtDctSvd/dwt_paraphrase_0.1/377694/377694_gen_3.png\n",
      "Generated Image saved to /raid/home/ashhar21137/watermarking/dwtDctSvd/dwt_paraphrase_0.1/377694/377694_gen_4.png\n",
      "\n",
      "Number of images generated :  5\n",
      "********** Watermark detection for generated images ***************\n",
      "caption : Three people sit on a park bench surrounded by trees.\n",
      "Watermark Presence Prob.: 0\n",
      "caption : PEOPLE SITTING ON A SHADED BENCH IN THE PARK TALKING\n",
      "Watermark Presence Prob.: 0\n",
      "caption : People are sitting on a bench in a park.\n",
      "Watermark Presence Prob.: 0\n",
      "caption : A park bench between several trees with three people on it.\n",
      "Watermark Presence Prob.: 0.0\n",
      "caption : Many people sitting at a park bench near trees\n"
     ]
    },
    {
     "name": "stderr",
     "output_type": "stream",
     "text": [
      " 36%|███▌      | 71/200 [03:58<07:52,  3.66s/it]"
     ]
    },
    {
     "name": "stdout",
     "output_type": "stream",
     "text": [
      "Watermark Presence Prob.: 0\n",
      "---------- Count = 72 : Visual Paraphrasing for the watermarked version of 438422-------------\n",
      "\n",
      "Image name :  Image_438422.jpg\n",
      "Image id : 438422\n"
     ]
    },
    {
     "data": {
      "application/vnd.jupyter.widget-view+json": {
       "model_id": "4c32441968044d20bc10910b1481e71d",
       "version_major": 2,
       "version_minor": 0
      },
      "text/plain": [
       "  0%|          | 0/5 [00:00<?, ?it/s]"
      ]
     },
     "metadata": {},
     "output_type": "display_data"
    },
    {
     "name": "stdout",
     "output_type": "stream",
     "text": [
      "Saving generated images at /raid/home/ashhar21137/watermarking/dwtDctSvd/dwt_paraphrase_0.1/438422\n",
      "Generated Image saved to /raid/home/ashhar21137/watermarking/dwtDctSvd/dwt_paraphrase_0.1/438422/438422_gen_0.png\n",
      "Generated Image saved to /raid/home/ashhar21137/watermarking/dwtDctSvd/dwt_paraphrase_0.1/438422/438422_gen_1.png\n",
      "Generated Image saved to /raid/home/ashhar21137/watermarking/dwtDctSvd/dwt_paraphrase_0.1/438422/438422_gen_2.png\n",
      "Generated Image saved to /raid/home/ashhar21137/watermarking/dwtDctSvd/dwt_paraphrase_0.1/438422/438422_gen_3.png\n",
      "Generated Image saved to /raid/home/ashhar21137/watermarking/dwtDctSvd/dwt_paraphrase_0.1/438422/438422_gen_4.png\n",
      "\n",
      "Number of images generated :  5\n",
      "********** Watermark detection for generated images ***************\n",
      "caption : A woman giving a taste test to a man. \n",
      "Watermark Presence Prob.: 0\n",
      "caption : A woman feeds a sample of her dish to a man in front of onlookers.\n",
      "Watermark Presence Prob.: 0\n",
      "caption : Man is fed a spoonful of food by a woman in front of other people. \n",
      "Watermark Presence Prob.: 0.0\n",
      "caption : Several people observing a woman feeding a man food inside a restaurant kitchen\n"
     ]
    },
    {
     "name": "stderr",
     "output_type": "stream",
     "text": [
      " 36%|███▌      | 72/200 [04:02<07:44,  3.63s/it]"
     ]
    },
    {
     "name": "stdout",
     "output_type": "stream",
     "text": [
      "Watermark Presence Prob.: 0\n",
      "caption : A woman is giving a taste of her food to a man\n",
      "Watermark Presence Prob.: 0.0\n",
      "---------- Count = 73 : Visual Paraphrasing for the watermarked version of 161919-------------\n",
      "\n",
      "Image name :  Image_161919.jpg\n",
      "Image id : 161919\n"
     ]
    },
    {
     "data": {
      "application/vnd.jupyter.widget-view+json": {
       "model_id": "1c800337d76c49d6b939883384323d87",
       "version_major": 2,
       "version_minor": 0
      },
      "text/plain": [
       "  0%|          | 0/5 [00:00<?, ?it/s]"
      ]
     },
     "metadata": {},
     "output_type": "display_data"
    },
    {
     "name": "stdout",
     "output_type": "stream",
     "text": [
      "Saving generated images at /raid/home/ashhar21137/watermarking/dwtDctSvd/dwt_paraphrase_0.1/161919\n",
      "Generated Image saved to /raid/home/ashhar21137/watermarking/dwtDctSvd/dwt_paraphrase_0.1/161919/161919_gen_0.png\n",
      "Generated Image saved to /raid/home/ashhar21137/watermarking/dwtDctSvd/dwt_paraphrase_0.1/161919/161919_gen_1.png\n",
      "Generated Image saved to /raid/home/ashhar21137/watermarking/dwtDctSvd/dwt_paraphrase_0.1/161919/161919_gen_2.png\n",
      "Generated Image saved to /raid/home/ashhar21137/watermarking/dwtDctSvd/dwt_paraphrase_0.1/161919/161919_gen_3.png\n",
      "Generated Image saved to /raid/home/ashhar21137/watermarking/dwtDctSvd/dwt_paraphrase_0.1/161919/161919_gen_4.png\n",
      "\n",
      "Number of images generated :  5\n",
      "********** Watermark detection for generated images ***************\n",
      "caption : A person is cutting a roast with a fork and knife.\n",
      "Watermark Presence Prob.: 0\n",
      "caption : There is a man cutting meat on a cutting board\n",
      "Watermark Presence Prob.: 0\n",
      "caption : A man is slicing meat with a knife. \n",
      "Watermark Presence Prob.: 0\n",
      "caption : Man cutting a hot piece of meat on a cutting board. \n"
     ]
    },
    {
     "name": "stderr",
     "output_type": "stream",
     "text": [
      " 36%|███▋      | 73/200 [04:06<08:02,  3.80s/it]"
     ]
    },
    {
     "name": "stdout",
     "output_type": "stream",
     "text": [
      "Watermark Presence Prob.: 0\n",
      "caption : A man cutting meat on a small cutting board.\n",
      "Watermark Presence Prob.: 0\n",
      "---------- Count = 74 : Visual Paraphrasing for the watermarked version of 354444-------------\n",
      "\n",
      "Image name :  Image_354444.jpg\n",
      "Image id : 354444\n"
     ]
    },
    {
     "data": {
      "application/vnd.jupyter.widget-view+json": {
       "model_id": "37bfa73f29a14087b46c4896472306aa",
       "version_major": 2,
       "version_minor": 0
      },
      "text/plain": [
       "  0%|          | 0/5 [00:00<?, ?it/s]"
      ]
     },
     "metadata": {},
     "output_type": "display_data"
    },
    {
     "name": "stdout",
     "output_type": "stream",
     "text": [
      "Saving generated images at /raid/home/ashhar21137/watermarking/dwtDctSvd/dwt_paraphrase_0.1/354444\n",
      "Generated Image saved to /raid/home/ashhar21137/watermarking/dwtDctSvd/dwt_paraphrase_0.1/354444/354444_gen_0.png\n",
      "Generated Image saved to /raid/home/ashhar21137/watermarking/dwtDctSvd/dwt_paraphrase_0.1/354444/354444_gen_1.png\n",
      "Generated Image saved to /raid/home/ashhar21137/watermarking/dwtDctSvd/dwt_paraphrase_0.1/354444/354444_gen_2.png\n",
      "Generated Image saved to /raid/home/ashhar21137/watermarking/dwtDctSvd/dwt_paraphrase_0.1/354444/354444_gen_3.png\n",
      "Generated Image saved to /raid/home/ashhar21137/watermarking/dwtDctSvd/dwt_paraphrase_0.1/354444/354444_gen_4.png\n",
      "\n",
      "Number of images generated :  5\n",
      "********** Watermark detection for generated images ***************\n",
      "caption : a lady sitting in a van with several seagulls landing on the top\n",
      "Watermark Presence Prob.: 0.0\n",
      "caption : A woman in a truck watching the birds sit on her open door and the top of the truck. \n",
      "Watermark Presence Prob.: 0.0\n",
      "caption : Birds are sitting on an automobile where a woman is sitting.\n"
     ]
    },
    {
     "name": "stderr",
     "output_type": "stream",
     "text": [
      " 37%|███▋      | 74/200 [04:10<07:51,  3.74s/it]"
     ]
    },
    {
     "name": "stdout",
     "output_type": "stream",
     "text": [
      "Watermark Presence Prob.: 0.0\n",
      "caption : A group of seagull attacking the roof of some peoples truck.\n",
      "Watermark Presence Prob.: 0.0\n",
      "caption : A group of birds on a truck with a person inside.\n",
      "Watermark Presence Prob.: 0\n",
      "---------- Count = 75 : Visual Paraphrasing for the watermarked version of 287541-------------\n",
      "\n",
      "Image name :  Image_287541.jpg\n",
      "Image id : 287541\n"
     ]
    },
    {
     "data": {
      "application/vnd.jupyter.widget-view+json": {
       "model_id": "14f37aabd3d341b2a3dd0c017d4e2753",
       "version_major": 2,
       "version_minor": 0
      },
      "text/plain": [
       "  0%|          | 0/5 [00:00<?, ?it/s]"
      ]
     },
     "metadata": {},
     "output_type": "display_data"
    },
    {
     "name": "stdout",
     "output_type": "stream",
     "text": [
      "Saving generated images at /raid/home/ashhar21137/watermarking/dwtDctSvd/dwt_paraphrase_0.1/287541\n",
      "Generated Image saved to /raid/home/ashhar21137/watermarking/dwtDctSvd/dwt_paraphrase_0.1/287541/287541_gen_0.png\n",
      "Generated Image saved to /raid/home/ashhar21137/watermarking/dwtDctSvd/dwt_paraphrase_0.1/287541/287541_gen_1.png\n",
      "Generated Image saved to /raid/home/ashhar21137/watermarking/dwtDctSvd/dwt_paraphrase_0.1/287541/287541_gen_2.png\n",
      "Generated Image saved to /raid/home/ashhar21137/watermarking/dwtDctSvd/dwt_paraphrase_0.1/287541/287541_gen_3.png\n",
      "Generated Image saved to /raid/home/ashhar21137/watermarking/dwtDctSvd/dwt_paraphrase_0.1/287541/287541_gen_4.png\n",
      "\n",
      "Number of images generated :  5\n",
      "********** Watermark detection for generated images ***************\n",
      "caption : Two bathroom sinks mounted against a mirror, with soap in between the two sinks.\n",
      "Watermark Presence Prob.: 0.0\n",
      "caption : Two pedestal sinks at a mirror in a public restroom.\n",
      "Watermark Presence Prob.: 0\n",
      "caption : A close up view of a couple of sinks and soap bottle.\n",
      "Watermark Presence Prob.: 0\n",
      "caption : A couple of bottles of soap are sitting on sink\n"
     ]
    },
    {
     "name": "stderr",
     "output_type": "stream",
     "text": [
      " 38%|███▊      | 75/200 [04:14<07:53,  3.79s/it]"
     ]
    },
    {
     "name": "stdout",
     "output_type": "stream",
     "text": [
      "Watermark Presence Prob.: 0.0\n",
      "caption : A bathroom that has two sinks in it.\n",
      "Watermark Presence Prob.: 0.0\n",
      "---------- Count = 76 : Visual Paraphrasing for the watermarked version of 556801-------------\n",
      "\n",
      "Image name :  Image_556801.jpg\n",
      "Image id : 556801\n"
     ]
    },
    {
     "data": {
      "application/vnd.jupyter.widget-view+json": {
       "model_id": "bd118d428b32469fbfdeaec37f9adc63",
       "version_major": 2,
       "version_minor": 0
      },
      "text/plain": [
       "  0%|          | 0/5 [00:00<?, ?it/s]"
      ]
     },
     "metadata": {},
     "output_type": "display_data"
    },
    {
     "name": "stdout",
     "output_type": "stream",
     "text": [
      "Saving generated images at /raid/home/ashhar21137/watermarking/dwtDctSvd/dwt_paraphrase_0.1/556801\n",
      "Generated Image saved to /raid/home/ashhar21137/watermarking/dwtDctSvd/dwt_paraphrase_0.1/556801/556801_gen_0.png\n",
      "Generated Image saved to /raid/home/ashhar21137/watermarking/dwtDctSvd/dwt_paraphrase_0.1/556801/556801_gen_1.png\n",
      "Generated Image saved to /raid/home/ashhar21137/watermarking/dwtDctSvd/dwt_paraphrase_0.1/556801/556801_gen_2.png\n",
      "Generated Image saved to /raid/home/ashhar21137/watermarking/dwtDctSvd/dwt_paraphrase_0.1/556801/556801_gen_3.png\n",
      "Generated Image saved to /raid/home/ashhar21137/watermarking/dwtDctSvd/dwt_paraphrase_0.1/556801/556801_gen_4.png\n",
      "\n",
      "Number of images generated :  5\n",
      "********** Watermark detection for generated images ***************\n",
      "caption : The street signal hangs from a high electrical wire.\n",
      "Watermark Presence Prob.: 0\n",
      "caption : Yellow stop lights hanging from a power line.\n",
      "Watermark Presence Prob.: 0\n",
      "caption : A pair of stop lights hang from a wire.\n",
      "Watermark Presence Prob.: 0\n",
      "caption : A couple of traffic lights handing on a wire next to trees.\n",
      "Watermark Presence Prob.: 0\n",
      "caption : three traffic lights on a wire hanged on use\n"
     ]
    },
    {
     "name": "stderr",
     "output_type": "stream",
     "text": [
      " 38%|███▊      | 76/200 [04:16<07:10,  3.47s/it]"
     ]
    },
    {
     "name": "stdout",
     "output_type": "stream",
     "text": [
      "Watermark Presence Prob.: 0.0\n",
      "---------- Count = 77 : Visual Paraphrasing for the watermarked version of 186233-------------\n",
      "\n",
      "Image name :  Image_186233.jpg\n",
      "Image id : 186233\n"
     ]
    },
    {
     "data": {
      "application/vnd.jupyter.widget-view+json": {
       "model_id": "b488d0690aba42b08bdf7b79521d05a9",
       "version_major": 2,
       "version_minor": 0
      },
      "text/plain": [
       "  0%|          | 0/5 [00:00<?, ?it/s]"
      ]
     },
     "metadata": {},
     "output_type": "display_data"
    },
    {
     "name": "stdout",
     "output_type": "stream",
     "text": [
      "Saving generated images at /raid/home/ashhar21137/watermarking/dwtDctSvd/dwt_paraphrase_0.1/186233\n",
      "Generated Image saved to /raid/home/ashhar21137/watermarking/dwtDctSvd/dwt_paraphrase_0.1/186233/186233_gen_0.png\n",
      "Generated Image saved to /raid/home/ashhar21137/watermarking/dwtDctSvd/dwt_paraphrase_0.1/186233/186233_gen_1.png\n",
      "Generated Image saved to /raid/home/ashhar21137/watermarking/dwtDctSvd/dwt_paraphrase_0.1/186233/186233_gen_2.png\n",
      "Generated Image saved to /raid/home/ashhar21137/watermarking/dwtDctSvd/dwt_paraphrase_0.1/186233/186233_gen_3.png\n",
      "Generated Image saved to /raid/home/ashhar21137/watermarking/dwtDctSvd/dwt_paraphrase_0.1/186233/186233_gen_4.png\n",
      "\n",
      "Number of images generated :  5\n",
      "********** Watermark detection for generated images ***************\n",
      "caption : A large building is now sitting empty and abandoned\n",
      "Watermark Presence Prob.: 0\n",
      "caption : An abandoned building sits among bare trees and a rusty fire hydrant.\n",
      "Watermark Presence Prob.: 0.0\n",
      "caption : A gloomy sky is in the background of a yellow fire hydrant.\n"
     ]
    },
    {
     "name": "stderr",
     "output_type": "stream",
     "text": [
      " 38%|███▊      | 77/200 [04:19<06:45,  3.30s/it]"
     ]
    },
    {
     "name": "stdout",
     "output_type": "stream",
     "text": [
      "Watermark Presence Prob.: 0.0\n",
      "caption : An old building in a field, there is a yellow hydrant in the foreground.\n",
      "Watermark Presence Prob.: 0.0\n",
      "caption : Rundown building sitting in an open field with a mountain behind it. \n",
      "Watermark Presence Prob.: 0.0\n",
      "---------- Count = 78 : Visual Paraphrasing for the watermarked version of 95133-------------\n",
      "\n",
      "Image name :  Image_95133.jpg\n",
      "Image id : 95133\n"
     ]
    },
    {
     "data": {
      "application/vnd.jupyter.widget-view+json": {
       "model_id": "b646ab9f08ef4418aadaaebf9fe87c84",
       "version_major": 2,
       "version_minor": 0
      },
      "text/plain": [
       "  0%|          | 0/5 [00:00<?, ?it/s]"
      ]
     },
     "metadata": {},
     "output_type": "display_data"
    },
    {
     "name": "stdout",
     "output_type": "stream",
     "text": [
      "Saving generated images at /raid/home/ashhar21137/watermarking/dwtDctSvd/dwt_paraphrase_0.1/95133\n",
      "Generated Image saved to /raid/home/ashhar21137/watermarking/dwtDctSvd/dwt_paraphrase_0.1/95133/95133_gen_0.png\n",
      "Generated Image saved to /raid/home/ashhar21137/watermarking/dwtDctSvd/dwt_paraphrase_0.1/95133/95133_gen_1.png\n",
      "Generated Image saved to /raid/home/ashhar21137/watermarking/dwtDctSvd/dwt_paraphrase_0.1/95133/95133_gen_2.png\n",
      "Generated Image saved to /raid/home/ashhar21137/watermarking/dwtDctSvd/dwt_paraphrase_0.1/95133/95133_gen_3.png\n",
      "Generated Image saved to /raid/home/ashhar21137/watermarking/dwtDctSvd/dwt_paraphrase_0.1/95133/95133_gen_4.png\n",
      "\n",
      "Number of images generated :  5\n",
      "********** Watermark detection for generated images ***************\n",
      "caption : a bathroom scene with a wooden door and a sink in view\n",
      "Watermark Presence Prob.: 0\n",
      "caption : A bathroom featuring an antique style sink and tiled walls\n",
      "Watermark Presence Prob.: 0\n",
      "caption : A picture that is on the wall near a sink.\n",
      "Watermark Presence Prob.: 0\n",
      "caption : a sink a picture a mirror and white tiles\n",
      "Watermark Presence Prob.: 0\n",
      "caption : A white sink with brass fixtures in a small bathroom.\n"
     ]
    },
    {
     "name": "stderr",
     "output_type": "stream",
     "text": [
      " 39%|███▉      | 78/200 [04:22<06:28,  3.18s/it]"
     ]
    },
    {
     "name": "stdout",
     "output_type": "stream",
     "text": [
      "Watermark Presence Prob.: 0\n",
      "---------- Count = 79 : Visual Paraphrasing for the watermarked version of 496939-------------\n",
      "\n",
      "Image name :  Image_496939.jpg\n",
      "Image id : 496939\n"
     ]
    },
    {
     "data": {
      "application/vnd.jupyter.widget-view+json": {
       "model_id": "faf27f12f5d648dcbb070fe6fa46a814",
       "version_major": 2,
       "version_minor": 0
      },
      "text/plain": [
       "  0%|          | 0/5 [00:00<?, ?it/s]"
      ]
     },
     "metadata": {},
     "output_type": "display_data"
    },
    {
     "name": "stdout",
     "output_type": "stream",
     "text": [
      "Saving generated images at /raid/home/ashhar21137/watermarking/dwtDctSvd/dwt_paraphrase_0.1/496939\n",
      "Generated Image saved to /raid/home/ashhar21137/watermarking/dwtDctSvd/dwt_paraphrase_0.1/496939/496939_gen_0.png\n",
      "Generated Image saved to /raid/home/ashhar21137/watermarking/dwtDctSvd/dwt_paraphrase_0.1/496939/496939_gen_1.png\n",
      "Generated Image saved to /raid/home/ashhar21137/watermarking/dwtDctSvd/dwt_paraphrase_0.1/496939/496939_gen_2.png\n",
      "Generated Image saved to /raid/home/ashhar21137/watermarking/dwtDctSvd/dwt_paraphrase_0.1/496939/496939_gen_3.png\n",
      "Generated Image saved to /raid/home/ashhar21137/watermarking/dwtDctSvd/dwt_paraphrase_0.1/496939/496939_gen_4.png\n",
      "\n",
      "Number of images generated :  5\n",
      "********** Watermark detection for generated images ***************\n",
      "caption : two motorcycles parked next to each other in an alley\n",
      "Watermark Presence Prob.: 0\n",
      "caption : Two motorcycles parked right next to each other.\n",
      "Watermark Presence Prob.: 0\n",
      "caption : Two motorcycles parked adjacent to each other during the day.\n"
     ]
    },
    {
     "name": "stderr",
     "output_type": "stream",
     "text": [
      " 40%|███▉      | 79/200 [04:25<06:01,  2.99s/it]"
     ]
    },
    {
     "name": "stdout",
     "output_type": "stream",
     "text": [
      "Watermark Presence Prob.: 0.0\n",
      "caption : Two Suzuki motorcycles parked next to a brick wall in an alley.\n",
      "Watermark Presence Prob.: 0\n",
      "caption : Two motorcyles parked one behing the other in an alley.\n",
      "Watermark Presence Prob.: 0\n",
      "---------- Count = 80 : Visual Paraphrasing for the watermarked version of 71631-------------\n",
      "\n",
      "Image name :  Image_71631.jpg\n",
      "Image id : 71631\n"
     ]
    },
    {
     "data": {
      "application/vnd.jupyter.widget-view+json": {
       "model_id": "59a4ce17982d4b00980100cc84a3add6",
       "version_major": 2,
       "version_minor": 0
      },
      "text/plain": [
       "  0%|          | 0/5 [00:00<?, ?it/s]"
      ]
     },
     "metadata": {},
     "output_type": "display_data"
    },
    {
     "name": "stdout",
     "output_type": "stream",
     "text": [
      "Saving generated images at /raid/home/ashhar21137/watermarking/dwtDctSvd/dwt_paraphrase_0.1/71631\n",
      "Generated Image saved to /raid/home/ashhar21137/watermarking/dwtDctSvd/dwt_paraphrase_0.1/71631/71631_gen_0.png\n",
      "Generated Image saved to /raid/home/ashhar21137/watermarking/dwtDctSvd/dwt_paraphrase_0.1/71631/71631_gen_1.png\n",
      "Generated Image saved to /raid/home/ashhar21137/watermarking/dwtDctSvd/dwt_paraphrase_0.1/71631/71631_gen_2.png\n",
      "Generated Image saved to /raid/home/ashhar21137/watermarking/dwtDctSvd/dwt_paraphrase_0.1/71631/71631_gen_3.png\n",
      "Generated Image saved to /raid/home/ashhar21137/watermarking/dwtDctSvd/dwt_paraphrase_0.1/71631/71631_gen_4.png\n",
      "\n",
      "Number of images generated :  5\n",
      "********** Watermark detection for generated images ***************\n",
      "caption : Dining room table set for a casual meal, with flowers.\n",
      "Watermark Presence Prob.: 0\n",
      "caption : A red table topped with four white place mats.\n",
      "Watermark Presence Prob.: 0\n",
      "caption : there is a dining room table with a red cloth and a vase with roses\n"
     ]
    },
    {
     "name": "stderr",
     "output_type": "stream",
     "text": [
      " 40%|████      | 80/200 [04:27<05:50,  2.92s/it]"
     ]
    },
    {
     "name": "stdout",
     "output_type": "stream",
     "text": [
      "Watermark Presence Prob.: 0\n",
      "caption : a table with a red tablecloth and white placemats\n",
      "Watermark Presence Prob.: 0\n",
      "caption : A small dinning table with all red napkins and a red table cloth . \n",
      "Watermark Presence Prob.: 0\n",
      "---------- Count = 81 : Visual Paraphrasing for the watermarked version of 371029-------------\n",
      "\n",
      "Image name :  Image_371029.jpg\n",
      "Image id : 371029\n"
     ]
    },
    {
     "data": {
      "application/vnd.jupyter.widget-view+json": {
       "model_id": "52a90bde38eb4c62bccf444c2da75a3c",
       "version_major": 2,
       "version_minor": 0
      },
      "text/plain": [
       "  0%|          | 0/5 [00:00<?, ?it/s]"
      ]
     },
     "metadata": {},
     "output_type": "display_data"
    },
    {
     "name": "stdout",
     "output_type": "stream",
     "text": [
      "Saving generated images at /raid/home/ashhar21137/watermarking/dwtDctSvd/dwt_paraphrase_0.1/371029\n",
      "Generated Image saved to /raid/home/ashhar21137/watermarking/dwtDctSvd/dwt_paraphrase_0.1/371029/371029_gen_0.png\n",
      "Generated Image saved to /raid/home/ashhar21137/watermarking/dwtDctSvd/dwt_paraphrase_0.1/371029/371029_gen_1.png\n",
      "Generated Image saved to /raid/home/ashhar21137/watermarking/dwtDctSvd/dwt_paraphrase_0.1/371029/371029_gen_2.png\n",
      "Generated Image saved to /raid/home/ashhar21137/watermarking/dwtDctSvd/dwt_paraphrase_0.1/371029/371029_gen_3.png\n",
      "Generated Image saved to /raid/home/ashhar21137/watermarking/dwtDctSvd/dwt_paraphrase_0.1/371029/371029_gen_4.png\n",
      "\n",
      "Number of images generated :  5\n",
      "********** Watermark detection for generated images ***************\n",
      "caption : Three sheep standing in a snowy field on a misty day\n",
      "Watermark Presence Prob.: 0.0\n",
      "caption : Three sheep sit quietly on a snowy hillside. \n",
      "Watermark Presence Prob.: 0.0\n",
      "caption : A group of sheep that are standing in the snow.\n",
      "Watermark Presence Prob.: 0.0\n",
      "caption : three sheep standing side by side on a snowy field\n",
      "Watermark Presence Prob.: 0.0\n",
      "caption : Three baby sheeps standing on a snowy hill. \n"
     ]
    },
    {
     "name": "stderr",
     "output_type": "stream",
     "text": [
      " 40%|████      | 81/200 [04:30<05:45,  2.90s/it]"
     ]
    },
    {
     "name": "stdout",
     "output_type": "stream",
     "text": [
      "Watermark Presence Prob.: 0.0\n",
      "---------- Count = 82 : Visual Paraphrasing for the watermarked version of 259446-------------\n",
      "\n",
      "Image name :  Image_259446.jpg\n",
      "Image id : 259446\n"
     ]
    },
    {
     "data": {
      "application/vnd.jupyter.widget-view+json": {
       "model_id": "6dad95b8631c42bda264330499d59d1e",
       "version_major": 2,
       "version_minor": 0
      },
      "text/plain": [
       "  0%|          | 0/5 [00:00<?, ?it/s]"
      ]
     },
     "metadata": {},
     "output_type": "display_data"
    },
    {
     "name": "stdout",
     "output_type": "stream",
     "text": [
      "Saving generated images at /raid/home/ashhar21137/watermarking/dwtDctSvd/dwt_paraphrase_0.1/259446\n",
      "Generated Image saved to /raid/home/ashhar21137/watermarking/dwtDctSvd/dwt_paraphrase_0.1/259446/259446_gen_0.png\n",
      "Generated Image saved to /raid/home/ashhar21137/watermarking/dwtDctSvd/dwt_paraphrase_0.1/259446/259446_gen_1.png\n",
      "Generated Image saved to /raid/home/ashhar21137/watermarking/dwtDctSvd/dwt_paraphrase_0.1/259446/259446_gen_2.png\n",
      "Generated Image saved to /raid/home/ashhar21137/watermarking/dwtDctSvd/dwt_paraphrase_0.1/259446/259446_gen_3.png\n",
      "Generated Image saved to /raid/home/ashhar21137/watermarking/dwtDctSvd/dwt_paraphrase_0.1/259446/259446_gen_4.png\n",
      "\n",
      "Number of images generated :  5\n",
      "********** Watermark detection for generated images ***************\n",
      "caption : Two giraffes and two ostriches in an enclosure. \n",
      "Watermark Presence Prob.: 0\n",
      "caption : A zoo enclosure containing giraffes and ostriches in the same exhibit.\n",
      "Watermark Presence Prob.: 0\n",
      "caption : Giraffes and ostriches are sharing a grassy area.\n",
      "Watermark Presence Prob.: 0\n",
      "caption : An adult giraffe near a tree and a bird in the grass.\n"
     ]
    },
    {
     "name": "stderr",
     "output_type": "stream",
     "text": [
      " 41%|████      | 82/200 [04:33<05:39,  2.88s/it]"
     ]
    },
    {
     "name": "stdout",
     "output_type": "stream",
     "text": [
      "Watermark Presence Prob.: 0\n",
      "caption : Some giraffes and ostriches in a grass field with trees.\n",
      "Watermark Presence Prob.: 0\n",
      "---------- Count = 83 : Visual Paraphrasing for the watermarked version of 55627-------------\n",
      "\n",
      "Image name :  Image_55627.jpg\n",
      "Image id : 55627\n"
     ]
    },
    {
     "data": {
      "application/vnd.jupyter.widget-view+json": {
       "model_id": "7c85e3cae8704fbfb3aea628742b729c",
       "version_major": 2,
       "version_minor": 0
      },
      "text/plain": [
       "  0%|          | 0/5 [00:00<?, ?it/s]"
      ]
     },
     "metadata": {},
     "output_type": "display_data"
    },
    {
     "name": "stdout",
     "output_type": "stream",
     "text": [
      "Saving generated images at /raid/home/ashhar21137/watermarking/dwtDctSvd/dwt_paraphrase_0.1/55627\n",
      "Generated Image saved to /raid/home/ashhar21137/watermarking/dwtDctSvd/dwt_paraphrase_0.1/55627/55627_gen_0.png\n",
      "Generated Image saved to /raid/home/ashhar21137/watermarking/dwtDctSvd/dwt_paraphrase_0.1/55627/55627_gen_1.png\n",
      "Generated Image saved to /raid/home/ashhar21137/watermarking/dwtDctSvd/dwt_paraphrase_0.1/55627/55627_gen_2.png\n",
      "Generated Image saved to /raid/home/ashhar21137/watermarking/dwtDctSvd/dwt_paraphrase_0.1/55627/55627_gen_3.png\n",
      "Generated Image saved to /raid/home/ashhar21137/watermarking/dwtDctSvd/dwt_paraphrase_0.1/55627/55627_gen_4.png\n",
      "\n",
      "Number of images generated :  5\n",
      "********** Watermark detection for generated images ***************\n",
      "caption : A bathroom is freshly cleaned and ready for hotel patrons.\n",
      "Watermark Presence Prob.: 0.0\n",
      "caption : Closed toilet, sink, and mirror in a modern bathroom.\n",
      "Watermark Presence Prob.: 0.0\n",
      "caption : A bathroom with a mirror above the sink, a towel rack and toilet.\n",
      "Watermark Presence Prob.: 0\n",
      "caption : There is a sink and toilet in the bathroom.\n",
      "Watermark Presence Prob.: 0\n",
      "caption : Heated towel racks and a built in hairdryer in a hotel bathroom\n"
     ]
    },
    {
     "name": "stderr",
     "output_type": "stream",
     "text": [
      " 42%|████▏     | 83/200 [04:37<06:07,  3.14s/it]"
     ]
    },
    {
     "name": "stdout",
     "output_type": "stream",
     "text": [
      "Watermark Presence Prob.: 0\n",
      "---------- Count = 84 : Visual Paraphrasing for the watermarked version of 334080-------------\n",
      "\n",
      "Image name :  Image_334080.jpg\n",
      "Image id : 334080\n"
     ]
    },
    {
     "data": {
      "application/vnd.jupyter.widget-view+json": {
       "model_id": "e1a1c59e018e43a0af75e8b7d67d9137",
       "version_major": 2,
       "version_minor": 0
      },
      "text/plain": [
       "  0%|          | 0/5 [00:00<?, ?it/s]"
      ]
     },
     "metadata": {},
     "output_type": "display_data"
    },
    {
     "name": "stdout",
     "output_type": "stream",
     "text": [
      "Saving generated images at /raid/home/ashhar21137/watermarking/dwtDctSvd/dwt_paraphrase_0.1/334080\n",
      "Generated Image saved to /raid/home/ashhar21137/watermarking/dwtDctSvd/dwt_paraphrase_0.1/334080/334080_gen_0.png\n",
      "Generated Image saved to /raid/home/ashhar21137/watermarking/dwtDctSvd/dwt_paraphrase_0.1/334080/334080_gen_1.png\n",
      "Generated Image saved to /raid/home/ashhar21137/watermarking/dwtDctSvd/dwt_paraphrase_0.1/334080/334080_gen_2.png\n",
      "Generated Image saved to /raid/home/ashhar21137/watermarking/dwtDctSvd/dwt_paraphrase_0.1/334080/334080_gen_3.png\n",
      "Generated Image saved to /raid/home/ashhar21137/watermarking/dwtDctSvd/dwt_paraphrase_0.1/334080/334080_gen_4.png\n",
      "\n",
      "Number of images generated :  5\n",
      "********** Watermark detection for generated images ***************\n",
      "caption : Two giraffes standing the open away form one giraffe hiding in the trees.\n",
      "Watermark Presence Prob.: 0.0\n",
      "caption : Two giraffes standing in the grass near trees.\n",
      "Watermark Presence Prob.: 0.0\n",
      "caption : Some very cute giraffes in a wooded area.\n"
     ]
    },
    {
     "name": "stderr",
     "output_type": "stream",
     "text": [
      " 42%|████▏     | 84/200 [04:40<06:10,  3.19s/it]"
     ]
    },
    {
     "name": "stdout",
     "output_type": "stream",
     "text": [
      "Watermark Presence Prob.: 0.0\n",
      "caption : Three giraffes stand in a grove of small trees.\n",
      "Watermark Presence Prob.: 0.0\n",
      "caption : a couple of giraffes are standing in a field\n",
      "Watermark Presence Prob.: 0\n",
      "---------- Count = 85 : Visual Paraphrasing for the watermarked version of 150867-------------\n",
      "\n",
      "Image name :  Image_150867.jpg\n",
      "Image id : 150867\n"
     ]
    },
    {
     "data": {
      "application/vnd.jupyter.widget-view+json": {
       "model_id": "6928a65667d4458085a7fb0bcd0bfbf5",
       "version_major": 2,
       "version_minor": 0
      },
      "text/plain": [
       "  0%|          | 0/5 [00:00<?, ?it/s]"
      ]
     },
     "metadata": {},
     "output_type": "display_data"
    },
    {
     "name": "stdout",
     "output_type": "stream",
     "text": [
      "Saving generated images at /raid/home/ashhar21137/watermarking/dwtDctSvd/dwt_paraphrase_0.1/150867\n",
      "Generated Image saved to /raid/home/ashhar21137/watermarking/dwtDctSvd/dwt_paraphrase_0.1/150867/150867_gen_0.png\n",
      "Generated Image saved to /raid/home/ashhar21137/watermarking/dwtDctSvd/dwt_paraphrase_0.1/150867/150867_gen_1.png\n",
      "Generated Image saved to /raid/home/ashhar21137/watermarking/dwtDctSvd/dwt_paraphrase_0.1/150867/150867_gen_2.png\n",
      "Generated Image saved to /raid/home/ashhar21137/watermarking/dwtDctSvd/dwt_paraphrase_0.1/150867/150867_gen_3.png\n",
      "Generated Image saved to /raid/home/ashhar21137/watermarking/dwtDctSvd/dwt_paraphrase_0.1/150867/150867_gen_4.png\n",
      "\n",
      "Number of images generated :  5\n",
      "********** Watermark detection for generated images ***************\n",
      "caption : This bench is creating a shadow that looks like a cross.\n",
      "Watermark Presence Prob.: 0\n",
      "caption : Empty wooden benches set along a boardwalk in a shopping area.\n",
      "Watermark Presence Prob.: 0\n",
      "caption : Empty wooden benches on a wooden platform.in a public space\n",
      "Watermark Presence Prob.: 0\n",
      "caption : The mall sitting area with many benches for rest.\n",
      "Watermark Presence Prob.: 0.0\n",
      "caption : Seating area with many benches outside a building.\n"
     ]
    },
    {
     "name": "stderr",
     "output_type": "stream",
     "text": [
      " 42%|████▎     | 85/200 [04:44<06:17,  3.28s/it]"
     ]
    },
    {
     "name": "stdout",
     "output_type": "stream",
     "text": [
      "Watermark Presence Prob.: 0\n",
      "---------- Count = 86 : Visual Paraphrasing for the watermarked version of 470072-------------\n",
      "\n",
      "Image name :  Image_470072.jpg\n",
      "Image id : 470072\n"
     ]
    },
    {
     "data": {
      "application/vnd.jupyter.widget-view+json": {
       "model_id": "65aeb740026f4be4bcd90267c0b576c7",
       "version_major": 2,
       "version_minor": 0
      },
      "text/plain": [
       "  0%|          | 0/5 [00:00<?, ?it/s]"
      ]
     },
     "metadata": {},
     "output_type": "display_data"
    },
    {
     "name": "stdout",
     "output_type": "stream",
     "text": [
      "Saving generated images at /raid/home/ashhar21137/watermarking/dwtDctSvd/dwt_paraphrase_0.1/470072\n",
      "Generated Image saved to /raid/home/ashhar21137/watermarking/dwtDctSvd/dwt_paraphrase_0.1/470072/470072_gen_0.png\n",
      "Generated Image saved to /raid/home/ashhar21137/watermarking/dwtDctSvd/dwt_paraphrase_0.1/470072/470072_gen_1.png\n",
      "Generated Image saved to /raid/home/ashhar21137/watermarking/dwtDctSvd/dwt_paraphrase_0.1/470072/470072_gen_2.png\n",
      "Generated Image saved to /raid/home/ashhar21137/watermarking/dwtDctSvd/dwt_paraphrase_0.1/470072/470072_gen_3.png\n",
      "Generated Image saved to /raid/home/ashhar21137/watermarking/dwtDctSvd/dwt_paraphrase_0.1/470072/470072_gen_4.png\n",
      "\n",
      "Number of images generated :  5\n",
      "********** Watermark detection for generated images ***************\n",
      "caption : a grill that has a bunch of burgers on it\n",
      "Watermark Presence Prob.: 0\n",
      "caption : Two men standing next to an oven with sandwiches\n",
      "Watermark Presence Prob.: 0\n",
      "caption : A restaurant's grill top is full of meats and sandwiches.\n",
      "Watermark Presence Prob.: 0\n",
      "caption : Food on a grill with people working \n"
     ]
    },
    {
     "name": "stderr",
     "output_type": "stream",
     "text": [
      " 43%|████▎     | 86/200 [04:47<06:14,  3.29s/it]"
     ]
    },
    {
     "name": "stdout",
     "output_type": "stream",
     "text": [
      "Watermark Presence Prob.: 0.0\n",
      "caption : A view of a bunch of burgers being made on a grill.\n",
      "Watermark Presence Prob.: 0.0\n",
      "---------- Count = 87 : Visual Paraphrasing for the watermarked version of 181104-------------\n",
      "\n",
      "Image name :  Image_181104.jpg\n",
      "Image id : 181104\n"
     ]
    },
    {
     "data": {
      "application/vnd.jupyter.widget-view+json": {
       "model_id": "7e9a95eea5474a2297bb87ea4c5d2f82",
       "version_major": 2,
       "version_minor": 0
      },
      "text/plain": [
       "  0%|          | 0/5 [00:00<?, ?it/s]"
      ]
     },
     "metadata": {},
     "output_type": "display_data"
    },
    {
     "name": "stdout",
     "output_type": "stream",
     "text": [
      "Saving generated images at /raid/home/ashhar21137/watermarking/dwtDctSvd/dwt_paraphrase_0.1/181104\n",
      "Generated Image saved to /raid/home/ashhar21137/watermarking/dwtDctSvd/dwt_paraphrase_0.1/181104/181104_gen_0.png\n",
      "Generated Image saved to /raid/home/ashhar21137/watermarking/dwtDctSvd/dwt_paraphrase_0.1/181104/181104_gen_1.png\n",
      "Generated Image saved to /raid/home/ashhar21137/watermarking/dwtDctSvd/dwt_paraphrase_0.1/181104/181104_gen_2.png\n",
      "Generated Image saved to /raid/home/ashhar21137/watermarking/dwtDctSvd/dwt_paraphrase_0.1/181104/181104_gen_3.png\n",
      "Generated Image saved to /raid/home/ashhar21137/watermarking/dwtDctSvd/dwt_paraphrase_0.1/181104/181104_gen_4.png\n",
      "\n",
      "Number of images generated :  5\n",
      "********** Watermark detection for generated images ***************\n",
      "caption : A white bathtub sitting in a bathroom next to a sink.\n",
      "Watermark Presence Prob.: 0.0\n",
      "caption : The small bathroom has a grey and white motif.\n",
      "Watermark Presence Prob.: 0.0\n",
      "caption : A bathroom with a black door and a white tub\n",
      "Watermark Presence Prob.: 0.0\n",
      "caption : a bathroom has one black wall and a black floor\n"
     ]
    },
    {
     "name": "stderr",
     "output_type": "stream",
     "text": [
      " 44%|████▎     | 87/200 [04:50<06:08,  3.26s/it]"
     ]
    },
    {
     "name": "stdout",
     "output_type": "stream",
     "text": [
      "Watermark Presence Prob.: 0.0\n",
      "caption : A tiled bathroom with mirrors in the bathtub\n",
      "Watermark Presence Prob.: 0.0\n",
      "---------- Count = 88 : Visual Paraphrasing for the watermarked version of 559527-------------\n",
      "\n",
      "Image name :  Image_559527.jpg\n",
      "Image id : 559527\n"
     ]
    },
    {
     "data": {
      "application/vnd.jupyter.widget-view+json": {
       "model_id": "ce5458e482834585920c952cd257fe6f",
       "version_major": 2,
       "version_minor": 0
      },
      "text/plain": [
       "  0%|          | 0/5 [00:00<?, ?it/s]"
      ]
     },
     "metadata": {},
     "output_type": "display_data"
    },
    {
     "name": "stdout",
     "output_type": "stream",
     "text": [
      "Saving generated images at /raid/home/ashhar21137/watermarking/dwtDctSvd/dwt_paraphrase_0.1/559527\n",
      "Generated Image saved to /raid/home/ashhar21137/watermarking/dwtDctSvd/dwt_paraphrase_0.1/559527/559527_gen_0.png\n",
      "Generated Image saved to /raid/home/ashhar21137/watermarking/dwtDctSvd/dwt_paraphrase_0.1/559527/559527_gen_1.png\n",
      "Generated Image saved to /raid/home/ashhar21137/watermarking/dwtDctSvd/dwt_paraphrase_0.1/559527/559527_gen_2.png\n",
      "Generated Image saved to /raid/home/ashhar21137/watermarking/dwtDctSvd/dwt_paraphrase_0.1/559527/559527_gen_3.png\n",
      "Generated Image saved to /raid/home/ashhar21137/watermarking/dwtDctSvd/dwt_paraphrase_0.1/559527/559527_gen_4.png\n",
      "\n",
      "Number of images generated :  5\n",
      "********** Watermark detection for generated images ***************\n",
      "caption : A plate with churros and hot chocolate on a wooden table. \n",
      "Watermark Presence Prob.: 0\n",
      "caption : deep fried bread on a plate with a cup of melted chocolate\n",
      "Watermark Presence Prob.: 0.0\n",
      "caption : A food entree is shown next to sauce.\n",
      "Watermark Presence Prob.: 0\n",
      "caption : A delicious plate of churro with chocolate sauce.\n",
      "Watermark Presence Prob.: 0\n",
      "caption : Churros and a cup of chocolate are on a green oval plate.\n"
     ]
    },
    {
     "name": "stderr",
     "output_type": "stream",
     "text": [
      " 44%|████▍     | 88/200 [04:54<06:12,  3.32s/it]"
     ]
    },
    {
     "name": "stdout",
     "output_type": "stream",
     "text": [
      "Watermark Presence Prob.: 0.0\n",
      "---------- Count = 89 : Visual Paraphrasing for the watermarked version of 209967-------------\n",
      "\n",
      "Image name :  Image_209967.jpg\n",
      "Image id : 209967\n"
     ]
    },
    {
     "data": {
      "application/vnd.jupyter.widget-view+json": {
       "model_id": "d4d0380619544ec4a82a0f1a93a7f1b2",
       "version_major": 2,
       "version_minor": 0
      },
      "text/plain": [
       "  0%|          | 0/5 [00:00<?, ?it/s]"
      ]
     },
     "metadata": {},
     "output_type": "display_data"
    },
    {
     "name": "stdout",
     "output_type": "stream",
     "text": [
      "Saving generated images at /raid/home/ashhar21137/watermarking/dwtDctSvd/dwt_paraphrase_0.1/209967\n",
      "Generated Image saved to /raid/home/ashhar21137/watermarking/dwtDctSvd/dwt_paraphrase_0.1/209967/209967_gen_0.png\n",
      "Generated Image saved to /raid/home/ashhar21137/watermarking/dwtDctSvd/dwt_paraphrase_0.1/209967/209967_gen_1.png\n",
      "Generated Image saved to /raid/home/ashhar21137/watermarking/dwtDctSvd/dwt_paraphrase_0.1/209967/209967_gen_2.png\n",
      "Generated Image saved to /raid/home/ashhar21137/watermarking/dwtDctSvd/dwt_paraphrase_0.1/209967/209967_gen_3.png\n",
      "Generated Image saved to /raid/home/ashhar21137/watermarking/dwtDctSvd/dwt_paraphrase_0.1/209967/209967_gen_4.png\n",
      "\n",
      "Number of images generated :  5\n",
      "********** Watermark detection for generated images ***************\n",
      "caption : A sink and vanity with overhead lights a decorative piece on the wall and a commode.\n",
      "Watermark Presence Prob.: 0\n",
      "caption : The light is on over the sink in the bathroom.\n",
      "Watermark Presence Prob.: 0.0\n",
      "caption : A marble tiled counter in a small bathroom\n",
      "Watermark Presence Prob.: 0\n",
      "caption : A bathroom with a Monogrammed symbol above a toilet.\n",
      "Watermark Presence Prob.: 0\n",
      "caption : this bathroom has a sculpture hanging on the wall\n"
     ]
    },
    {
     "name": "stderr",
     "output_type": "stream",
     "text": [
      " 44%|████▍     | 89/200 [04:58<06:26,  3.49s/it]"
     ]
    },
    {
     "name": "stdout",
     "output_type": "stream",
     "text": [
      "Watermark Presence Prob.: 0\n",
      "---------- Count = 90 : Visual Paraphrasing for the watermarked version of 444546-------------\n",
      "\n",
      "Image name :  Image_444546.jpg\n",
      "Image id : 444546\n"
     ]
    },
    {
     "data": {
      "application/vnd.jupyter.widget-view+json": {
       "model_id": "85c62bd3ed994f16ab27e170eb9a8a3e",
       "version_major": 2,
       "version_minor": 0
      },
      "text/plain": [
       "  0%|          | 0/5 [00:00<?, ?it/s]"
      ]
     },
     "metadata": {},
     "output_type": "display_data"
    },
    {
     "name": "stdout",
     "output_type": "stream",
     "text": [
      "Saving generated images at /raid/home/ashhar21137/watermarking/dwtDctSvd/dwt_paraphrase_0.1/444546\n",
      "Generated Image saved to /raid/home/ashhar21137/watermarking/dwtDctSvd/dwt_paraphrase_0.1/444546/444546_gen_0.png\n",
      "Generated Image saved to /raid/home/ashhar21137/watermarking/dwtDctSvd/dwt_paraphrase_0.1/444546/444546_gen_1.png\n",
      "Generated Image saved to /raid/home/ashhar21137/watermarking/dwtDctSvd/dwt_paraphrase_0.1/444546/444546_gen_2.png\n",
      "Generated Image saved to /raid/home/ashhar21137/watermarking/dwtDctSvd/dwt_paraphrase_0.1/444546/444546_gen_3.png\n",
      "Generated Image saved to /raid/home/ashhar21137/watermarking/dwtDctSvd/dwt_paraphrase_0.1/444546/444546_gen_4.png\n",
      "\n",
      "Number of images generated :  5\n",
      "********** Watermark detection for generated images ***************\n",
      "caption : a spoon and a fork that is on a table\n",
      "Watermark Presence Prob.: 0.0\n",
      "caption : The spoon and fork are on the napkin near a glass. \n",
      "Watermark Presence Prob.: 0.0\n",
      "caption : A napkin with a cup, spoon, and knife arranged on it.\n",
      "Watermark Presence Prob.: 0\n",
      "caption : a spoon and fork crossed over each other next to a clear glass \n",
      "Watermark Presence Prob.: 0.0\n",
      "caption : An empty table with a fork, spoon, and glass.\n"
     ]
    },
    {
     "name": "stderr",
     "output_type": "stream",
     "text": [
      " 45%|████▌     | 90/200 [05:01<06:20,  3.46s/it]"
     ]
    },
    {
     "name": "stdout",
     "output_type": "stream",
     "text": [
      "Watermark Presence Prob.: 0.0\n",
      "---------- Count = 91 : Visual Paraphrasing for the watermarked version of 409513-------------\n",
      "\n",
      "Image name :  Image_409513.jpg\n",
      "Image id : 409513\n"
     ]
    },
    {
     "data": {
      "application/vnd.jupyter.widget-view+json": {
       "model_id": "10b33d83f7b6454eaf6b5dcf26d5881a",
       "version_major": 2,
       "version_minor": 0
      },
      "text/plain": [
       "  0%|          | 0/5 [00:00<?, ?it/s]"
      ]
     },
     "metadata": {},
     "output_type": "display_data"
    },
    {
     "name": "stdout",
     "output_type": "stream",
     "text": [
      "Saving generated images at /raid/home/ashhar21137/watermarking/dwtDctSvd/dwt_paraphrase_0.1/409513\n",
      "Generated Image saved to /raid/home/ashhar21137/watermarking/dwtDctSvd/dwt_paraphrase_0.1/409513/409513_gen_0.png\n",
      "Generated Image saved to /raid/home/ashhar21137/watermarking/dwtDctSvd/dwt_paraphrase_0.1/409513/409513_gen_1.png\n",
      "Generated Image saved to /raid/home/ashhar21137/watermarking/dwtDctSvd/dwt_paraphrase_0.1/409513/409513_gen_2.png\n",
      "Generated Image saved to /raid/home/ashhar21137/watermarking/dwtDctSvd/dwt_paraphrase_0.1/409513/409513_gen_3.png\n",
      "Generated Image saved to /raid/home/ashhar21137/watermarking/dwtDctSvd/dwt_paraphrase_0.1/409513/409513_gen_4.png\n",
      "\n",
      "Number of images generated :  5\n",
      "********** Watermark detection for generated images ***************\n",
      "caption : A sheep rolling around the green grass in an open field.\n",
      "Watermark Presence Prob.: 0\n",
      "caption : A picture of an animal laying in the grass.\n",
      "Watermark Presence Prob.: 0\n",
      "caption : An horned animal laying down in the grass.\n",
      "Watermark Presence Prob.: 0\n",
      "caption : Some type of animal with a white coat laying in the green grass\n",
      "Watermark Presence Prob.: 0\n",
      "caption : A white sheep is lying on the grass.\n"
     ]
    },
    {
     "name": "stderr",
     "output_type": "stream",
     "text": [
      " 46%|████▌     | 91/200 [05:04<06:12,  3.42s/it]"
     ]
    },
    {
     "name": "stdout",
     "output_type": "stream",
     "text": [
      "Watermark Presence Prob.: 0\n",
      "---------- Count = 92 : Visual Paraphrasing for the watermarked version of 165499-------------\n",
      "\n",
      "Image name :  Image_165499.jpg\n",
      "Image id : 165499\n"
     ]
    },
    {
     "data": {
      "application/vnd.jupyter.widget-view+json": {
       "model_id": "50ddfef8afa94b3192dcfad1877ea961",
       "version_major": 2,
       "version_minor": 0
      },
      "text/plain": [
       "  0%|          | 0/5 [00:00<?, ?it/s]"
      ]
     },
     "metadata": {},
     "output_type": "display_data"
    },
    {
     "name": "stdout",
     "output_type": "stream",
     "text": [
      "Saving generated images at /raid/home/ashhar21137/watermarking/dwtDctSvd/dwt_paraphrase_0.1/165499\n",
      "Generated Image saved to /raid/home/ashhar21137/watermarking/dwtDctSvd/dwt_paraphrase_0.1/165499/165499_gen_0.png\n",
      "Generated Image saved to /raid/home/ashhar21137/watermarking/dwtDctSvd/dwt_paraphrase_0.1/165499/165499_gen_1.png\n",
      "Generated Image saved to /raid/home/ashhar21137/watermarking/dwtDctSvd/dwt_paraphrase_0.1/165499/165499_gen_2.png\n",
      "Generated Image saved to /raid/home/ashhar21137/watermarking/dwtDctSvd/dwt_paraphrase_0.1/165499/165499_gen_3.png\n",
      "Generated Image saved to /raid/home/ashhar21137/watermarking/dwtDctSvd/dwt_paraphrase_0.1/165499/165499_gen_4.png\n",
      "\n",
      "Number of images generated :  5\n",
      "********** Watermark detection for generated images ***************\n",
      "caption : A bathroom shower with glass doors and tile walls. \n",
      "Watermark Presence Prob.: 0\n",
      "caption : a bathroom with a white sink shower and toilet\n",
      "Watermark Presence Prob.: 0\n",
      "caption : Bathroom that has a toilet, shower, and sink.\n",
      "Watermark Presence Prob.: 0\n",
      "caption : A modern bathroom has a corner shower that's clear.\n"
     ]
    },
    {
     "name": "stderr",
     "output_type": "stream",
     "text": [
      " 46%|████▌     | 92/200 [05:07<05:53,  3.27s/it]"
     ]
    },
    {
     "name": "stdout",
     "output_type": "stream",
     "text": [
      "Watermark Presence Prob.: 0\n",
      "caption : A bathroom with a see-through shower door. \n",
      "Watermark Presence Prob.: 0\n",
      "---------- Count = 93 : Visual Paraphrasing for the watermarked version of 351430-------------\n",
      "\n",
      "Image name :  Image_351430.jpg\n",
      "Image id : 351430\n"
     ]
    },
    {
     "data": {
      "application/vnd.jupyter.widget-view+json": {
       "model_id": "b4ab0c0e112a4ec6a0928f0a4a93e768",
       "version_major": 2,
       "version_minor": 0
      },
      "text/plain": [
       "  0%|          | 0/5 [00:00<?, ?it/s]"
      ]
     },
     "metadata": {},
     "output_type": "display_data"
    },
    {
     "name": "stdout",
     "output_type": "stream",
     "text": [
      "Saving generated images at /raid/home/ashhar21137/watermarking/dwtDctSvd/dwt_paraphrase_0.1/351430\n",
      "Generated Image saved to /raid/home/ashhar21137/watermarking/dwtDctSvd/dwt_paraphrase_0.1/351430/351430_gen_0.png\n",
      "Generated Image saved to /raid/home/ashhar21137/watermarking/dwtDctSvd/dwt_paraphrase_0.1/351430/351430_gen_1.png\n",
      "Generated Image saved to /raid/home/ashhar21137/watermarking/dwtDctSvd/dwt_paraphrase_0.1/351430/351430_gen_2.png\n",
      "Generated Image saved to /raid/home/ashhar21137/watermarking/dwtDctSvd/dwt_paraphrase_0.1/351430/351430_gen_3.png\n",
      "Generated Image saved to /raid/home/ashhar21137/watermarking/dwtDctSvd/dwt_paraphrase_0.1/351430/351430_gen_4.png\n",
      "\n",
      "Number of images generated :  5\n",
      "********** Watermark detection for generated images ***************\n",
      "caption : A woman sitting on a park bench with a contemplative look.\n",
      "Watermark Presence Prob.: 0\n",
      "caption : A woman is sitting on a bench in a park.\n",
      "Watermark Presence Prob.: 0\n",
      "caption : The woman is sitting on a bench on a sunny day.\n"
     ]
    },
    {
     "name": "stderr",
     "output_type": "stream",
     "text": [
      " 46%|████▋     | 93/200 [05:10<05:43,  3.21s/it]"
     ]
    },
    {
     "name": "stdout",
     "output_type": "stream",
     "text": [
      "Watermark Presence Prob.: 0.0\n",
      "caption : A teenaged girl in a purple shirt sits on a bench in the sun.\n",
      "Watermark Presence Prob.: 0.0\n",
      "caption : the girl is sitting on the bench looking up \n",
      "Watermark Presence Prob.: 0.0\n",
      "---------- Count = 94 : Visual Paraphrasing for the watermarked version of 36633-------------\n",
      "\n",
      "Image name :  Image_36633.jpg\n",
      "Image id : 36633\n"
     ]
    },
    {
     "data": {
      "application/vnd.jupyter.widget-view+json": {
       "model_id": "c10761605a574312930aac96f7dcf210",
       "version_major": 2,
       "version_minor": 0
      },
      "text/plain": [
       "  0%|          | 0/5 [00:00<?, ?it/s]"
      ]
     },
     "metadata": {},
     "output_type": "display_data"
    },
    {
     "name": "stdout",
     "output_type": "stream",
     "text": [
      "Saving generated images at /raid/home/ashhar21137/watermarking/dwtDctSvd/dwt_paraphrase_0.1/36633\n",
      "Generated Image saved to /raid/home/ashhar21137/watermarking/dwtDctSvd/dwt_paraphrase_0.1/36633/36633_gen_0.png\n",
      "Generated Image saved to /raid/home/ashhar21137/watermarking/dwtDctSvd/dwt_paraphrase_0.1/36633/36633_gen_1.png\n",
      "Generated Image saved to /raid/home/ashhar21137/watermarking/dwtDctSvd/dwt_paraphrase_0.1/36633/36633_gen_2.png\n",
      "Generated Image saved to /raid/home/ashhar21137/watermarking/dwtDctSvd/dwt_paraphrase_0.1/36633/36633_gen_3.png\n",
      "Generated Image saved to /raid/home/ashhar21137/watermarking/dwtDctSvd/dwt_paraphrase_0.1/36633/36633_gen_4.png\n",
      "\n",
      "Number of images generated :  5\n",
      "********** Watermark detection for generated images ***************\n",
      "caption : A toilet with a trash can and a roll of toilet paper on top \n",
      "Watermark Presence Prob.: 0\n",
      "caption : A toilet sits in a simple yet messy bathroom.\n",
      "Watermark Presence Prob.: 0\n",
      "caption : A toilet in a small bathroom with garbage on the ground.\n"
     ]
    },
    {
     "name": "stderr",
     "output_type": "stream",
     "text": [
      " 47%|████▋     | 94/200 [05:13<05:22,  3.04s/it]"
     ]
    },
    {
     "name": "stdout",
     "output_type": "stream",
     "text": [
      "Watermark Presence Prob.: 0\n",
      "caption : A bathroom stall with pantyhose on the floor. \n",
      "Watermark Presence Prob.: 0\n",
      "caption : A toilet that is next to a trashcan and some toilet paper.\n",
      "Watermark Presence Prob.: 0\n",
      "---------- Count = 95 : Visual Paraphrasing for the watermarked version of 147303-------------\n",
      "\n",
      "Image name :  Image_147303.jpg\n",
      "Image id : 147303\n"
     ]
    },
    {
     "data": {
      "application/vnd.jupyter.widget-view+json": {
       "model_id": "34d142bf319a400b9110ef723d4420a4",
       "version_major": 2,
       "version_minor": 0
      },
      "text/plain": [
       "  0%|          | 0/5 [00:00<?, ?it/s]"
      ]
     },
     "metadata": {},
     "output_type": "display_data"
    },
    {
     "name": "stdout",
     "output_type": "stream",
     "text": [
      "Saving generated images at /raid/home/ashhar21137/watermarking/dwtDctSvd/dwt_paraphrase_0.1/147303\n",
      "Generated Image saved to /raid/home/ashhar21137/watermarking/dwtDctSvd/dwt_paraphrase_0.1/147303/147303_gen_0.png\n",
      "Generated Image saved to /raid/home/ashhar21137/watermarking/dwtDctSvd/dwt_paraphrase_0.1/147303/147303_gen_1.png\n",
      "Generated Image saved to /raid/home/ashhar21137/watermarking/dwtDctSvd/dwt_paraphrase_0.1/147303/147303_gen_2.png\n",
      "Generated Image saved to /raid/home/ashhar21137/watermarking/dwtDctSvd/dwt_paraphrase_0.1/147303/147303_gen_3.png\n",
      "Generated Image saved to /raid/home/ashhar21137/watermarking/dwtDctSvd/dwt_paraphrase_0.1/147303/147303_gen_4.png\n",
      "\n",
      "Number of images generated :  5\n",
      "********** Watermark detection for generated images ***************\n",
      "caption : A row of transit buses sitting in a parking lot.\n",
      "Watermark Presence Prob.: 0\n",
      "caption : The city buses are parked together in the parking lot.\n",
      "Watermark Presence Prob.: 0\n",
      "caption : Several buses parked next to each other outside a bus terminal. \n"
     ]
    },
    {
     "name": "stderr",
     "output_type": "stream",
     "text": [
      " 48%|████▊     | 95/200 [05:16<05:09,  2.95s/it]"
     ]
    },
    {
     "name": "stdout",
     "output_type": "stream",
     "text": [
      "Watermark Presence Prob.: 0\n",
      "caption : a row of city buses parked in a lot \n",
      "Watermark Presence Prob.: 0\n",
      "caption : A view of a parking lot with several buses. \n",
      "Watermark Presence Prob.: 0\n",
      "---------- Count = 96 : Visual Paraphrasing for the watermarked version of 474882-------------\n",
      "\n",
      "Image name :  Image_474882.jpg\n",
      "Image id : 474882\n"
     ]
    },
    {
     "data": {
      "application/vnd.jupyter.widget-view+json": {
       "model_id": "5cdf3768bad847dcbed8d256b88f093e",
       "version_major": 2,
       "version_minor": 0
      },
      "text/plain": [
       "  0%|          | 0/5 [00:00<?, ?it/s]"
      ]
     },
     "metadata": {},
     "output_type": "display_data"
    },
    {
     "name": "stdout",
     "output_type": "stream",
     "text": [
      "Saving generated images at /raid/home/ashhar21137/watermarking/dwtDctSvd/dwt_paraphrase_0.1/474882\n",
      "Generated Image saved to /raid/home/ashhar21137/watermarking/dwtDctSvd/dwt_paraphrase_0.1/474882/474882_gen_0.png\n",
      "Generated Image saved to /raid/home/ashhar21137/watermarking/dwtDctSvd/dwt_paraphrase_0.1/474882/474882_gen_1.png\n",
      "Generated Image saved to /raid/home/ashhar21137/watermarking/dwtDctSvd/dwt_paraphrase_0.1/474882/474882_gen_2.png\n",
      "Generated Image saved to /raid/home/ashhar21137/watermarking/dwtDctSvd/dwt_paraphrase_0.1/474882/474882_gen_3.png\n",
      "Generated Image saved to /raid/home/ashhar21137/watermarking/dwtDctSvd/dwt_paraphrase_0.1/474882/474882_gen_4.png\n",
      "\n",
      "Number of images generated :  5\n",
      "********** Watermark detection for generated images ***************\n",
      "caption : a small airplane sits empty on a runway in the mountains\n",
      "Watermark Presence Prob.: 0\n",
      "caption : An orange monoplane is tied down on the tarmac.\n",
      "Watermark Presence Prob.: 0\n",
      "caption : A small yellow and white plate sitting on top of a tarmac.\n",
      "Watermark Presence Prob.: 0.0\n",
      "caption : An orange and white plan parked with mountains in the distance.\n",
      "Watermark Presence Prob.: 0\n",
      "caption : A small orange airplane with mountains in the distance.\n"
     ]
    },
    {
     "name": "stderr",
     "output_type": "stream",
     "text": [
      " 48%|████▊     | 96/200 [05:19<05:05,  2.94s/it]"
     ]
    },
    {
     "name": "stdout",
     "output_type": "stream",
     "text": [
      "Watermark Presence Prob.: 0\n",
      "---------- Count = 97 : Visual Paraphrasing for the watermarked version of 318574-------------\n",
      "\n",
      "Image name :  Image_318574.jpg\n",
      "Image id : 318574\n"
     ]
    },
    {
     "data": {
      "application/vnd.jupyter.widget-view+json": {
       "model_id": "69e1f6567eb548af8c7dfb177f760994",
       "version_major": 2,
       "version_minor": 0
      },
      "text/plain": [
       "  0%|          | 0/5 [00:00<?, ?it/s]"
      ]
     },
     "metadata": {},
     "output_type": "display_data"
    },
    {
     "name": "stdout",
     "output_type": "stream",
     "text": [
      "Saving generated images at /raid/home/ashhar21137/watermarking/dwtDctSvd/dwt_paraphrase_0.1/318574\n",
      "Generated Image saved to /raid/home/ashhar21137/watermarking/dwtDctSvd/dwt_paraphrase_0.1/318574/318574_gen_0.png\n",
      "Generated Image saved to /raid/home/ashhar21137/watermarking/dwtDctSvd/dwt_paraphrase_0.1/318574/318574_gen_1.png\n",
      "Generated Image saved to /raid/home/ashhar21137/watermarking/dwtDctSvd/dwt_paraphrase_0.1/318574/318574_gen_2.png\n",
      "Generated Image saved to /raid/home/ashhar21137/watermarking/dwtDctSvd/dwt_paraphrase_0.1/318574/318574_gen_3.png\n",
      "Generated Image saved to /raid/home/ashhar21137/watermarking/dwtDctSvd/dwt_paraphrase_0.1/318574/318574_gen_4.png\n",
      "\n",
      "Number of images generated :  5\n",
      "********** Watermark detection for generated images ***************\n",
      "caption : Bicycle wheels are lined up on bicycles in a row.  \n",
      "Watermark Presence Prob.: 0\n",
      "caption : A crosswalk photo focusing on the wheels of bikes\n",
      "Watermark Presence Prob.: 0\n",
      "caption : A group of bicyclists going together on the street. \n",
      "Watermark Presence Prob.: 0\n",
      "caption : People are riding bikes on a street. \n"
     ]
    },
    {
     "name": "stderr",
     "output_type": "stream",
     "text": [
      " 48%|████▊     | 97/200 [05:21<04:50,  2.82s/it]"
     ]
    },
    {
     "name": "stdout",
     "output_type": "stream",
     "text": [
      "Watermark Presence Prob.: 0\n",
      "caption : some people riding some bikes down the road \n",
      "Watermark Presence Prob.: 0\n",
      "---------- Count = 98 : Visual Paraphrasing for the watermarked version of 222016-------------\n",
      "\n",
      "Image name :  Image_222016.jpg\n",
      "Image id : 222016\n"
     ]
    },
    {
     "data": {
      "application/vnd.jupyter.widget-view+json": {
       "model_id": "de1488b62644446bbd8ff2cec79dd236",
       "version_major": 2,
       "version_minor": 0
      },
      "text/plain": [
       "  0%|          | 0/5 [00:00<?, ?it/s]"
      ]
     },
     "metadata": {},
     "output_type": "display_data"
    },
    {
     "name": "stdout",
     "output_type": "stream",
     "text": [
      "Saving generated images at /raid/home/ashhar21137/watermarking/dwtDctSvd/dwt_paraphrase_0.1/222016\n",
      "Generated Image saved to /raid/home/ashhar21137/watermarking/dwtDctSvd/dwt_paraphrase_0.1/222016/222016_gen_0.png\n",
      "Generated Image saved to /raid/home/ashhar21137/watermarking/dwtDctSvd/dwt_paraphrase_0.1/222016/222016_gen_1.png\n",
      "Generated Image saved to /raid/home/ashhar21137/watermarking/dwtDctSvd/dwt_paraphrase_0.1/222016/222016_gen_2.png\n",
      "Generated Image saved to /raid/home/ashhar21137/watermarking/dwtDctSvd/dwt_paraphrase_0.1/222016/222016_gen_3.png\n",
      "Generated Image saved to /raid/home/ashhar21137/watermarking/dwtDctSvd/dwt_paraphrase_0.1/222016/222016_gen_4.png\n",
      "\n",
      "Number of images generated :  5\n",
      "********** Watermark detection for generated images ***************\n",
      "caption : a big red telephone booth that a man is standing in\n",
      "Watermark Presence Prob.: 0\n",
      "caption : a person standing inside of a phone booth \n",
      "Watermark Presence Prob.: 0\n",
      "caption : this is an image of a man in a phone booth.\n",
      "Watermark Presence Prob.: 0\n",
      "caption : A man is standing in a red phone booth.\n"
     ]
    },
    {
     "name": "stderr",
     "output_type": "stream",
     "text": [
      " 49%|████▉     | 98/200 [05:24<04:46,  2.81s/it]"
     ]
    },
    {
     "name": "stdout",
     "output_type": "stream",
     "text": [
      "Watermark Presence Prob.: 0\n",
      "caption : A man using a phone in a phone booth.\n",
      "Watermark Presence Prob.: 0\n",
      "---------- Count = 99 : Visual Paraphrasing for the watermarked version of 236772-------------\n",
      "\n",
      "Image name :  Image_236772.jpg\n",
      "Image id : 236772\n"
     ]
    },
    {
     "data": {
      "application/vnd.jupyter.widget-view+json": {
       "model_id": "c7925c73b10b4756baa9cb1b6ff26964",
       "version_major": 2,
       "version_minor": 0
      },
      "text/plain": [
       "  0%|          | 0/5 [00:00<?, ?it/s]"
      ]
     },
     "metadata": {},
     "output_type": "display_data"
    },
    {
     "name": "stdout",
     "output_type": "stream",
     "text": [
      "Saving generated images at /raid/home/ashhar21137/watermarking/dwtDctSvd/dwt_paraphrase_0.1/236772\n",
      "Generated Image saved to /raid/home/ashhar21137/watermarking/dwtDctSvd/dwt_paraphrase_0.1/236772/236772_gen_0.png\n",
      "Generated Image saved to /raid/home/ashhar21137/watermarking/dwtDctSvd/dwt_paraphrase_0.1/236772/236772_gen_1.png\n",
      "Generated Image saved to /raid/home/ashhar21137/watermarking/dwtDctSvd/dwt_paraphrase_0.1/236772/236772_gen_2.png\n",
      "Generated Image saved to /raid/home/ashhar21137/watermarking/dwtDctSvd/dwt_paraphrase_0.1/236772/236772_gen_3.png\n",
      "Generated Image saved to /raid/home/ashhar21137/watermarking/dwtDctSvd/dwt_paraphrase_0.1/236772/236772_gen_4.png\n",
      "\n",
      "Number of images generated :  5\n",
      "********** Watermark detection for generated images ***************\n",
      "caption : In the bathroom a toilet is full of ice cubes.\n",
      "Watermark Presence Prob.: 0\n",
      "caption : The toilet in the bathroom is filled with a bunch of ice.\n",
      "Watermark Presence Prob.: 0\n",
      "caption : Ice cubes in the bottom of a toilet bowl.\n",
      "Watermark Presence Prob.: 0\n",
      "caption : a big toilet that has some ice in it\n",
      "Watermark Presence Prob.: 0\n",
      "caption : A view of a bunch of ice sitting in a toilet.\n"
     ]
    },
    {
     "name": "stderr",
     "output_type": "stream",
     "text": [
      " 50%|████▉     | 99/200 [05:27<04:46,  2.84s/it]"
     ]
    },
    {
     "name": "stdout",
     "output_type": "stream",
     "text": [
      "Watermark Presence Prob.: 0\n",
      "---------- Count = 100 : Visual Paraphrasing for the watermarked version of 486320-------------\n",
      "\n",
      "Image name :  Image_486320.jpg\n",
      "Image id : 486320\n"
     ]
    },
    {
     "data": {
      "application/vnd.jupyter.widget-view+json": {
       "model_id": "d7b0bec6a3db4ced85a93530934c1784",
       "version_major": 2,
       "version_minor": 0
      },
      "text/plain": [
       "  0%|          | 0/5 [00:00<?, ?it/s]"
      ]
     },
     "metadata": {},
     "output_type": "display_data"
    },
    {
     "name": "stdout",
     "output_type": "stream",
     "text": [
      "Saving generated images at /raid/home/ashhar21137/watermarking/dwtDctSvd/dwt_paraphrase_0.1/486320\n",
      "Generated Image saved to /raid/home/ashhar21137/watermarking/dwtDctSvd/dwt_paraphrase_0.1/486320/486320_gen_0.png\n",
      "Generated Image saved to /raid/home/ashhar21137/watermarking/dwtDctSvd/dwt_paraphrase_0.1/486320/486320_gen_1.png\n",
      "Generated Image saved to /raid/home/ashhar21137/watermarking/dwtDctSvd/dwt_paraphrase_0.1/486320/486320_gen_2.png\n",
      "Generated Image saved to /raid/home/ashhar21137/watermarking/dwtDctSvd/dwt_paraphrase_0.1/486320/486320_gen_3.png\n",
      "Generated Image saved to /raid/home/ashhar21137/watermarking/dwtDctSvd/dwt_paraphrase_0.1/486320/486320_gen_4.png\n",
      "\n",
      "Number of images generated :  5\n",
      "********** Watermark detection for generated images ***************\n",
      "caption : a bathroom that has a few different sinks in it\n",
      "Watermark Presence Prob.: 0\n",
      "caption : a bath room with two sinks and a large mirror \n",
      "Watermark Presence Prob.: 0\n",
      "caption : Lights shine on two matching, white, pedestal sinks.\n",
      "Watermark Presence Prob.: 0\n",
      "caption : two bathroom sinks in front of a large mirror, with two lamps\n"
     ]
    },
    {
     "name": "stderr",
     "output_type": "stream",
     "text": [
      " 50%|█████     | 100/200 [05:29<04:39,  2.80s/it]"
     ]
    },
    {
     "name": "stdout",
     "output_type": "stream",
     "text": [
      "Watermark Presence Prob.: 0\n",
      "caption : two sinks lights towels bottles and a mirror\n",
      "Watermark Presence Prob.: 0\n",
      "---------- Count = 101 : Visual Paraphrasing for the watermarked version of 551125-------------\n",
      "\n",
      "Image name :  Image_551125.jpg\n",
      "Image id : 551125\n"
     ]
    },
    {
     "data": {
      "application/vnd.jupyter.widget-view+json": {
       "model_id": "4e72fdb7bdeb41c2a7fcd2cf9767b4d4",
       "version_major": 2,
       "version_minor": 0
      },
      "text/plain": [
       "  0%|          | 0/5 [00:00<?, ?it/s]"
      ]
     },
     "metadata": {},
     "output_type": "display_data"
    },
    {
     "name": "stdout",
     "output_type": "stream",
     "text": [
      "Saving generated images at /raid/home/ashhar21137/watermarking/dwtDctSvd/dwt_paraphrase_0.1/551125\n",
      "Generated Image saved to /raid/home/ashhar21137/watermarking/dwtDctSvd/dwt_paraphrase_0.1/551125/551125_gen_0.png\n",
      "Generated Image saved to /raid/home/ashhar21137/watermarking/dwtDctSvd/dwt_paraphrase_0.1/551125/551125_gen_1.png\n",
      "Generated Image saved to /raid/home/ashhar21137/watermarking/dwtDctSvd/dwt_paraphrase_0.1/551125/551125_gen_2.png\n",
      "Generated Image saved to /raid/home/ashhar21137/watermarking/dwtDctSvd/dwt_paraphrase_0.1/551125/551125_gen_3.png\n",
      "Generated Image saved to /raid/home/ashhar21137/watermarking/dwtDctSvd/dwt_paraphrase_0.1/551125/551125_gen_4.png\n",
      "\n",
      "Number of images generated :  5\n",
      "********** Watermark detection for generated images ***************\n",
      "caption : A group of three urinals mounted to a wall.\n",
      "Watermark Presence Prob.: 0\n",
      "caption : Three urinals are attached to a bathroom wall.\n",
      "Watermark Presence Prob.: 0\n",
      "caption : Three waterless urinals are more disgusting than one.\n",
      "Watermark Presence Prob.: 0\n",
      "caption : Three urinals line a tiled wall in a restroom.\n"
     ]
    },
    {
     "name": "stderr",
     "output_type": "stream",
     "text": [
      " 50%|█████     | 101/200 [05:32<04:44,  2.87s/it]"
     ]
    },
    {
     "name": "stdout",
     "output_type": "stream",
     "text": [
      "Watermark Presence Prob.: 0\n",
      "caption : Three modern looking urinals up against a wall.\n",
      "Watermark Presence Prob.: 0\n",
      "---------- Count = 102 : Visual Paraphrasing for the watermarked version of 70868-------------\n",
      "\n",
      "Image name :  Image_70868.jpg\n",
      "Image id : 70868\n"
     ]
    },
    {
     "data": {
      "application/vnd.jupyter.widget-view+json": {
       "model_id": "f03e1523d0ad45cabb62ba64b06e0772",
       "version_major": 2,
       "version_minor": 0
      },
      "text/plain": [
       "  0%|          | 0/5 [00:00<?, ?it/s]"
      ]
     },
     "metadata": {},
     "output_type": "display_data"
    },
    {
     "name": "stdout",
     "output_type": "stream",
     "text": [
      "Saving generated images at /raid/home/ashhar21137/watermarking/dwtDctSvd/dwt_paraphrase_0.1/70868\n",
      "Generated Image saved to /raid/home/ashhar21137/watermarking/dwtDctSvd/dwt_paraphrase_0.1/70868/70868_gen_0.png\n",
      "Generated Image saved to /raid/home/ashhar21137/watermarking/dwtDctSvd/dwt_paraphrase_0.1/70868/70868_gen_1.png\n",
      "Generated Image saved to /raid/home/ashhar21137/watermarking/dwtDctSvd/dwt_paraphrase_0.1/70868/70868_gen_2.png\n",
      "Generated Image saved to /raid/home/ashhar21137/watermarking/dwtDctSvd/dwt_paraphrase_0.1/70868/70868_gen_3.png\n",
      "Generated Image saved to /raid/home/ashhar21137/watermarking/dwtDctSvd/dwt_paraphrase_0.1/70868/70868_gen_4.png\n",
      "\n",
      "Number of images generated :  5\n",
      "********** Watermark detection for generated images ***************\n",
      "caption : A large jetliner taking off from a runway.\n",
      "Watermark Presence Prob.: 0\n",
      "caption : White airliner taking off from a runway with a huge cliff beside it. \n",
      "Watermark Presence Prob.: 0\n",
      "caption : A plan rests in a small airport situated near a mountain.\n",
      "Watermark Presence Prob.: 0\n",
      "caption : A plain on a runway in front of a mountain.\n"
     ]
    },
    {
     "name": "stderr",
     "output_type": "stream",
     "text": [
      " 51%|█████     | 102/200 [05:36<04:52,  2.98s/it]"
     ]
    },
    {
     "name": "stdout",
     "output_type": "stream",
     "text": [
      "Watermark Presence Prob.: 0\n",
      "caption : A large airplane is taking off from a runway.\n",
      "Watermark Presence Prob.: 0\n",
      "---------- Count = 103 : Visual Paraphrasing for the watermarked version of 378710-------------\n",
      "\n",
      "Image name :  Image_378710.jpg\n",
      "Image id : 378710\n"
     ]
    },
    {
     "data": {
      "application/vnd.jupyter.widget-view+json": {
       "model_id": "937dec1a57214e2db313145536984c45",
       "version_major": 2,
       "version_minor": 0
      },
      "text/plain": [
       "  0%|          | 0/5 [00:00<?, ?it/s]"
      ]
     },
     "metadata": {},
     "output_type": "display_data"
    },
    {
     "name": "stdout",
     "output_type": "stream",
     "text": [
      "Saving generated images at /raid/home/ashhar21137/watermarking/dwtDctSvd/dwt_paraphrase_0.1/378710\n",
      "Generated Image saved to /raid/home/ashhar21137/watermarking/dwtDctSvd/dwt_paraphrase_0.1/378710/378710_gen_0.png\n",
      "Generated Image saved to /raid/home/ashhar21137/watermarking/dwtDctSvd/dwt_paraphrase_0.1/378710/378710_gen_1.png\n",
      "Generated Image saved to /raid/home/ashhar21137/watermarking/dwtDctSvd/dwt_paraphrase_0.1/378710/378710_gen_2.png\n",
      "Generated Image saved to /raid/home/ashhar21137/watermarking/dwtDctSvd/dwt_paraphrase_0.1/378710/378710_gen_3.png\n",
      "Generated Image saved to /raid/home/ashhar21137/watermarking/dwtDctSvd/dwt_paraphrase_0.1/378710/378710_gen_4.png\n",
      "\n",
      "Number of images generated :  5\n",
      "********** Watermark detection for generated images ***************\n",
      "caption : A wall with four mounted urinals on it.\n",
      "Watermark Presence Prob.: 0\n",
      "caption : A couple of strange shaped urinals on a wall.\n",
      "Watermark Presence Prob.: 0\n",
      "caption : Four white urinals are lined up along a wall.\n",
      "Watermark Presence Prob.: 0\n",
      "caption : Three tall urinals and one short one in a restroom. \n",
      "Watermark Presence Prob.: 0\n",
      "caption : there are four pee toilets on the wall in a bathroom\n"
     ]
    },
    {
     "name": "stderr",
     "output_type": "stream",
     "text": [
      " 52%|█████▏    | 103/200 [05:39<05:05,  3.15s/it]"
     ]
    },
    {
     "name": "stdout",
     "output_type": "stream",
     "text": [
      "Watermark Presence Prob.: 0\n",
      "---------- Count = 104 : Visual Paraphrasing for the watermarked version of 536587-------------\n",
      "\n",
      "Image name :  Image_536587.jpg\n",
      "Image id : 536587\n"
     ]
    },
    {
     "data": {
      "application/vnd.jupyter.widget-view+json": {
       "model_id": "f36fdb51e8084994b52c9a2950e5f100",
       "version_major": 2,
       "version_minor": 0
      },
      "text/plain": [
       "  0%|          | 0/5 [00:00<?, ?it/s]"
      ]
     },
     "metadata": {},
     "output_type": "display_data"
    },
    {
     "name": "stdout",
     "output_type": "stream",
     "text": [
      "Saving generated images at /raid/home/ashhar21137/watermarking/dwtDctSvd/dwt_paraphrase_0.1/536587\n",
      "Generated Image saved to /raid/home/ashhar21137/watermarking/dwtDctSvd/dwt_paraphrase_0.1/536587/536587_gen_0.png\n",
      "Generated Image saved to /raid/home/ashhar21137/watermarking/dwtDctSvd/dwt_paraphrase_0.1/536587/536587_gen_1.png\n",
      "Generated Image saved to /raid/home/ashhar21137/watermarking/dwtDctSvd/dwt_paraphrase_0.1/536587/536587_gen_2.png\n",
      "Generated Image saved to /raid/home/ashhar21137/watermarking/dwtDctSvd/dwt_paraphrase_0.1/536587/536587_gen_3.png\n",
      "Generated Image saved to /raid/home/ashhar21137/watermarking/dwtDctSvd/dwt_paraphrase_0.1/536587/536587_gen_4.png\n",
      "\n",
      "Number of images generated :  5\n",
      "********** Watermark detection for generated images ***************\n",
      "caption : Adjustable magnifying mirror attached to a bathroom wall\n",
      "Watermark Presence Prob.: 0.0\n",
      "caption : A bathroom view of the vanity mirror and the close up mirror.\n",
      "Watermark Presence Prob.: 0.0\n",
      "caption : There are circular mirrors mounted to the tiled walls of the bathroom\n",
      "Watermark Presence Prob.: 0\n",
      "caption : A large mirror reflects a smaller bathroom mirror.\n"
     ]
    },
    {
     "name": "stderr",
     "output_type": "stream",
     "text": [
      " 52%|█████▏    | 104/200 [05:43<05:13,  3.27s/it]"
     ]
    },
    {
     "name": "stdout",
     "output_type": "stream",
     "text": [
      "Watermark Presence Prob.: 0.0\n",
      "caption : two mirrors that are attached to a wall\n",
      "Watermark Presence Prob.: 0.0\n",
      "---------- Count = 105 : Visual Paraphrasing for the watermarked version of 167613-------------\n",
      "\n",
      "Image name :  Image_167613.jpg\n",
      "Image id : 167613\n"
     ]
    },
    {
     "data": {
      "application/vnd.jupyter.widget-view+json": {
       "model_id": "369ae583933c41ae8e1df0e4bcfaf3ad",
       "version_major": 2,
       "version_minor": 0
      },
      "text/plain": [
       "  0%|          | 0/5 [00:00<?, ?it/s]"
      ]
     },
     "metadata": {},
     "output_type": "display_data"
    },
    {
     "name": "stdout",
     "output_type": "stream",
     "text": [
      "Saving generated images at /raid/home/ashhar21137/watermarking/dwtDctSvd/dwt_paraphrase_0.1/167613\n",
      "Generated Image saved to /raid/home/ashhar21137/watermarking/dwtDctSvd/dwt_paraphrase_0.1/167613/167613_gen_0.png\n",
      "Generated Image saved to /raid/home/ashhar21137/watermarking/dwtDctSvd/dwt_paraphrase_0.1/167613/167613_gen_1.png\n",
      "Generated Image saved to /raid/home/ashhar21137/watermarking/dwtDctSvd/dwt_paraphrase_0.1/167613/167613_gen_2.png\n",
      "Generated Image saved to /raid/home/ashhar21137/watermarking/dwtDctSvd/dwt_paraphrase_0.1/167613/167613_gen_3.png\n",
      "Generated Image saved to /raid/home/ashhar21137/watermarking/dwtDctSvd/dwt_paraphrase_0.1/167613/167613_gen_4.png\n",
      "\n",
      "Number of images generated :  5\n",
      "********** Watermark detection for generated images ***************\n",
      "caption : A bathroom with a white toilet and sink and checkered tile.\n",
      "Watermark Presence Prob.: 0.0\n",
      "caption : A bathroom with a toilet and a sink.\n",
      "Watermark Presence Prob.: 0.0\n",
      "caption : A bathroom that is done in checkered walls and flooring.\n",
      "Watermark Presence Prob.: 0.0\n",
      "caption : Public restroom with black and white checker pattern walls.\n",
      "Watermark Presence Prob.: 0.0\n",
      "caption : A toilet and sink in a bathroom with checked walls.\n"
     ]
    },
    {
     "name": "stderr",
     "output_type": "stream",
     "text": [
      " 52%|█████▎    | 105/200 [05:46<05:15,  3.32s/it]"
     ]
    },
    {
     "name": "stdout",
     "output_type": "stream",
     "text": [
      "Watermark Presence Prob.: 0.0\n",
      "---------- Count = 106 : Visual Paraphrasing for the watermarked version of 392136-------------\n",
      "\n",
      "Image name :  Image_392136.jpg\n",
      "Image id : 392136\n"
     ]
    },
    {
     "data": {
      "application/vnd.jupyter.widget-view+json": {
       "model_id": "f5ecf41fa2004bab84787989b77a1aeb",
       "version_major": 2,
       "version_minor": 0
      },
      "text/plain": [
       "  0%|          | 0/5 [00:00<?, ?it/s]"
      ]
     },
     "metadata": {},
     "output_type": "display_data"
    },
    {
     "name": "stdout",
     "output_type": "stream",
     "text": [
      "Saving generated images at /raid/home/ashhar21137/watermarking/dwtDctSvd/dwt_paraphrase_0.1/392136\n",
      "Generated Image saved to /raid/home/ashhar21137/watermarking/dwtDctSvd/dwt_paraphrase_0.1/392136/392136_gen_0.png\n",
      "Generated Image saved to /raid/home/ashhar21137/watermarking/dwtDctSvd/dwt_paraphrase_0.1/392136/392136_gen_1.png\n",
      "Generated Image saved to /raid/home/ashhar21137/watermarking/dwtDctSvd/dwt_paraphrase_0.1/392136/392136_gen_2.png\n",
      "Generated Image saved to /raid/home/ashhar21137/watermarking/dwtDctSvd/dwt_paraphrase_0.1/392136/392136_gen_3.png\n",
      "Generated Image saved to /raid/home/ashhar21137/watermarking/dwtDctSvd/dwt_paraphrase_0.1/392136/392136_gen_4.png\n",
      "\n",
      "Number of images generated :  5\n",
      "********** Watermark detection for generated images ***************\n",
      "caption : A large bus and some people on the street.\n",
      "Watermark Presence Prob.: 0.0\n",
      "caption : Several people are standing on the sidewalk as a bus goes by.\n",
      "Watermark Presence Prob.: 0.0\n",
      "caption : Bus rushing by a group of people walking in a city.\n",
      "Watermark Presence Prob.: 0\n",
      "caption : A double-decker bus moving down the street as people stand waiting.\n"
     ]
    },
    {
     "name": "stderr",
     "output_type": "stream",
     "text": [
      " 53%|█████▎    | 106/200 [05:49<05:04,  3.24s/it]"
     ]
    },
    {
     "name": "stdout",
     "output_type": "stream",
     "text": [
      "Watermark Presence Prob.: 0\n",
      "caption : A group of people standing next to a yellow and blue double decker bus.\n",
      "Watermark Presence Prob.: 0.0\n",
      "---------- Count = 107 : Visual Paraphrasing for the watermarked version of 287927-------------\n",
      "\n",
      "Image name :  Image_287927.jpg\n",
      "Image id : 287927\n"
     ]
    },
    {
     "data": {
      "application/vnd.jupyter.widget-view+json": {
       "model_id": "5b885246b34b45fc9fc58953ab689f86",
       "version_major": 2,
       "version_minor": 0
      },
      "text/plain": [
       "  0%|          | 0/5 [00:00<?, ?it/s]"
      ]
     },
     "metadata": {},
     "output_type": "display_data"
    },
    {
     "name": "stdout",
     "output_type": "stream",
     "text": [
      "Saving generated images at /raid/home/ashhar21137/watermarking/dwtDctSvd/dwt_paraphrase_0.1/287927\n",
      "Generated Image saved to /raid/home/ashhar21137/watermarking/dwtDctSvd/dwt_paraphrase_0.1/287927/287927_gen_0.png\n",
      "Generated Image saved to /raid/home/ashhar21137/watermarking/dwtDctSvd/dwt_paraphrase_0.1/287927/287927_gen_1.png\n",
      "Generated Image saved to /raid/home/ashhar21137/watermarking/dwtDctSvd/dwt_paraphrase_0.1/287927/287927_gen_2.png\n",
      "Generated Image saved to /raid/home/ashhar21137/watermarking/dwtDctSvd/dwt_paraphrase_0.1/287927/287927_gen_3.png\n",
      "Generated Image saved to /raid/home/ashhar21137/watermarking/dwtDctSvd/dwt_paraphrase_0.1/287927/287927_gen_4.png\n",
      "\n",
      "Number of images generated :  5\n",
      "********** Watermark detection for generated images ***************\n",
      "caption : This bathroom needs a lot of work including a new toilet seat and door\n",
      "Watermark Presence Prob.: 0\n",
      "caption : A toilet sitting in an outside storage area.\n",
      "Watermark Presence Prob.: 0.0\n",
      "caption : A white toilet blown and wood door on floor by brick wall.\n",
      "Watermark Presence Prob.: 0.0\n",
      "caption : there is a white toilet that is broken on the street\n"
     ]
    },
    {
     "name": "stderr",
     "output_type": "stream",
     "text": [
      " 54%|█████▎    | 107/200 [05:53<05:14,  3.38s/it]"
     ]
    },
    {
     "name": "stdout",
     "output_type": "stream",
     "text": [
      "Watermark Presence Prob.: 0\n",
      "caption : A piece of wood that is sitting in front of a toilet.\n",
      "Watermark Presence Prob.: 0.0\n",
      "---------- Count = 108 : Visual Paraphrasing for the watermarked version of 217306-------------\n",
      "\n",
      "Image name :  Image_217306.jpg\n",
      "Image id : 217306\n"
     ]
    },
    {
     "data": {
      "application/vnd.jupyter.widget-view+json": {
       "model_id": "cd42652e8c514b5cb3e8462380d5ec24",
       "version_major": 2,
       "version_minor": 0
      },
      "text/plain": [
       "  0%|          | 0/5 [00:00<?, ?it/s]"
      ]
     },
     "metadata": {},
     "output_type": "display_data"
    },
    {
     "name": "stdout",
     "output_type": "stream",
     "text": [
      "Saving generated images at /raid/home/ashhar21137/watermarking/dwtDctSvd/dwt_paraphrase_0.1/217306\n",
      "Generated Image saved to /raid/home/ashhar21137/watermarking/dwtDctSvd/dwt_paraphrase_0.1/217306/217306_gen_0.png\n",
      "Generated Image saved to /raid/home/ashhar21137/watermarking/dwtDctSvd/dwt_paraphrase_0.1/217306/217306_gen_1.png\n",
      "Generated Image saved to /raid/home/ashhar21137/watermarking/dwtDctSvd/dwt_paraphrase_0.1/217306/217306_gen_2.png\n",
      "Generated Image saved to /raid/home/ashhar21137/watermarking/dwtDctSvd/dwt_paraphrase_0.1/217306/217306_gen_3.png\n",
      "Generated Image saved to /raid/home/ashhar21137/watermarking/dwtDctSvd/dwt_paraphrase_0.1/217306/217306_gen_4.png\n",
      "\n",
      "Number of images generated :  5\n",
      "********** Watermark detection for generated images ***************\n",
      "caption : A restroom with a stainless steel toilet next to a metal sink.\n",
      "Watermark Presence Prob.: 0.0\n",
      "caption : a toilet with a hand rail next to it \n",
      "Watermark Presence Prob.: 0.0\n",
      "caption : The wall of the airplane bathroom has writing on it.\n"
     ]
    },
    {
     "name": "stderr",
     "output_type": "stream",
     "text": [
      " 54%|█████▍    | 108/200 [05:56<05:10,  3.37s/it]"
     ]
    },
    {
     "name": "stdout",
     "output_type": "stream",
     "text": [
      "Watermark Presence Prob.: 0.0\n",
      "caption : A bathroom with a stainless steel toilet and sink.\n",
      "Watermark Presence Prob.: 0.0\n",
      "caption : A steel toilet and sink in a demonstration bathroom.\n",
      "Watermark Presence Prob.: 0.0\n",
      "---------- Count = 109 : Visual Paraphrasing for the watermarked version of 560459-------------\n",
      "\n",
      "Image name :  Image_560459.jpg\n",
      "Image id : 560459\n"
     ]
    },
    {
     "data": {
      "application/vnd.jupyter.widget-view+json": {
       "model_id": "27bb1b8367a24165be1e629847ef3d08",
       "version_major": 2,
       "version_minor": 0
      },
      "text/plain": [
       "  0%|          | 0/5 [00:00<?, ?it/s]"
      ]
     },
     "metadata": {},
     "output_type": "display_data"
    },
    {
     "name": "stdout",
     "output_type": "stream",
     "text": [
      "Saving generated images at /raid/home/ashhar21137/watermarking/dwtDctSvd/dwt_paraphrase_0.1/560459\n",
      "Generated Image saved to /raid/home/ashhar21137/watermarking/dwtDctSvd/dwt_paraphrase_0.1/560459/560459_gen_0.png\n",
      "Generated Image saved to /raid/home/ashhar21137/watermarking/dwtDctSvd/dwt_paraphrase_0.1/560459/560459_gen_1.png\n",
      "Generated Image saved to /raid/home/ashhar21137/watermarking/dwtDctSvd/dwt_paraphrase_0.1/560459/560459_gen_2.png\n",
      "Generated Image saved to /raid/home/ashhar21137/watermarking/dwtDctSvd/dwt_paraphrase_0.1/560459/560459_gen_3.png\n",
      "Generated Image saved to /raid/home/ashhar21137/watermarking/dwtDctSvd/dwt_paraphrase_0.1/560459/560459_gen_4.png\n",
      "\n",
      "Number of images generated :  5\n",
      "********** Watermark detection for generated images ***************\n",
      "caption : A \"\"LAN\" Brand airplane at an airport near the sea.\n",
      "Watermark Presence Prob.: 0\n",
      "caption : A jetliner taking off from an airport runway.\n",
      "Watermark Presence Prob.: 0\n",
      "caption : There is a plane taxiing on the ruwnay\n",
      "Watermark Presence Prob.: 0\n",
      "caption : A large passenger jet on an airport runway near the coast.\n",
      "Watermark Presence Prob.: 0.0\n",
      "caption : A passenger jet that is on a runway.\n"
     ]
    },
    {
     "name": "stderr",
     "output_type": "stream",
     "text": [
      " 55%|█████▍    | 109/200 [06:00<05:04,  3.35s/it]"
     ]
    },
    {
     "name": "stdout",
     "output_type": "stream",
     "text": [
      "Watermark Presence Prob.: 0\n",
      "---------- Count = 110 : Visual Paraphrasing for the watermarked version of 496283-------------\n",
      "\n",
      "Image name :  Image_496283.jpg\n",
      "Image id : 496283\n"
     ]
    },
    {
     "data": {
      "application/vnd.jupyter.widget-view+json": {
       "model_id": "1b58dc675e2d49bf96df9e18090bd8e5",
       "version_major": 2,
       "version_minor": 0
      },
      "text/plain": [
       "  0%|          | 0/5 [00:00<?, ?it/s]"
      ]
     },
     "metadata": {},
     "output_type": "display_data"
    },
    {
     "name": "stdout",
     "output_type": "stream",
     "text": [
      "Saving generated images at /raid/home/ashhar21137/watermarking/dwtDctSvd/dwt_paraphrase_0.1/496283\n",
      "Generated Image saved to /raid/home/ashhar21137/watermarking/dwtDctSvd/dwt_paraphrase_0.1/496283/496283_gen_0.png\n",
      "Generated Image saved to /raid/home/ashhar21137/watermarking/dwtDctSvd/dwt_paraphrase_0.1/496283/496283_gen_1.png\n",
      "Generated Image saved to /raid/home/ashhar21137/watermarking/dwtDctSvd/dwt_paraphrase_0.1/496283/496283_gen_2.png\n",
      "Generated Image saved to /raid/home/ashhar21137/watermarking/dwtDctSvd/dwt_paraphrase_0.1/496283/496283_gen_3.png\n",
      "Generated Image saved to /raid/home/ashhar21137/watermarking/dwtDctSvd/dwt_paraphrase_0.1/496283/496283_gen_4.png\n",
      "\n",
      "Number of images generated :  5\n",
      "********** Watermark detection for generated images ***************\n",
      "caption : A faded red fire hydrant in a lush green grass covered field.\n",
      "Watermark Presence Prob.: 0.0\n",
      "caption : a fire hydrant in a field of green grass\n",
      "Watermark Presence Prob.: 0.0\n",
      "caption : Faded red fire hydrant sitting in a grassy field alone. \n",
      "Watermark Presence Prob.: 0.0\n",
      "caption : An old fire hydrant sits on the grass in a park.\n"
     ]
    },
    {
     "name": "stderr",
     "output_type": "stream",
     "text": [
      " 55%|█████▌    | 110/200 [06:03<04:59,  3.33s/it]"
     ]
    },
    {
     "name": "stdout",
     "output_type": "stream",
     "text": [
      "Watermark Presence Prob.: 0\n",
      "caption : A rusted faded fire hydrant in  a grassy field\n",
      "Watermark Presence Prob.: 0\n",
      "---------- Count = 111 : Visual Paraphrasing for the watermarked version of 212091-------------\n",
      "\n",
      "Image name :  Image_212091.jpg\n",
      "Image id : 212091\n"
     ]
    },
    {
     "data": {
      "application/vnd.jupyter.widget-view+json": {
       "model_id": "402a7f5d355d449db8472c6a2ea56dd8",
       "version_major": 2,
       "version_minor": 0
      },
      "text/plain": [
       "  0%|          | 0/5 [00:00<?, ?it/s]"
      ]
     },
     "metadata": {},
     "output_type": "display_data"
    },
    {
     "name": "stdout",
     "output_type": "stream",
     "text": [
      "Saving generated images at /raid/home/ashhar21137/watermarking/dwtDctSvd/dwt_paraphrase_0.1/212091\n",
      "Generated Image saved to /raid/home/ashhar21137/watermarking/dwtDctSvd/dwt_paraphrase_0.1/212091/212091_gen_0.png\n",
      "Generated Image saved to /raid/home/ashhar21137/watermarking/dwtDctSvd/dwt_paraphrase_0.1/212091/212091_gen_1.png\n",
      "Generated Image saved to /raid/home/ashhar21137/watermarking/dwtDctSvd/dwt_paraphrase_0.1/212091/212091_gen_2.png\n",
      "Generated Image saved to /raid/home/ashhar21137/watermarking/dwtDctSvd/dwt_paraphrase_0.1/212091/212091_gen_3.png\n",
      "Generated Image saved to /raid/home/ashhar21137/watermarking/dwtDctSvd/dwt_paraphrase_0.1/212091/212091_gen_4.png\n",
      "\n",
      "Number of images generated :  5\n",
      "********** Watermark detection for generated images ***************\n",
      "caption : A group of people on street with a traffic light in the background.\n",
      "Watermark Presence Prob.: 0.0\n",
      "caption : People are out walking in the street in the rain.\n",
      "Watermark Presence Prob.: 0.0\n",
      "caption : A woman and man crossing paths at a traffic light crossing.\n",
      "Watermark Presence Prob.: 0.0\n",
      "caption : Many people are walking through the streets. \n"
     ]
    },
    {
     "name": "stderr",
     "output_type": "stream",
     "text": [
      " 56%|█████▌    | 111/200 [06:06<04:47,  3.23s/it]"
     ]
    },
    {
     "name": "stdout",
     "output_type": "stream",
     "text": [
      "Watermark Presence Prob.: 0.0\n",
      "caption : People walking across a busy crosswalk in city.\n",
      "Watermark Presence Prob.: 0.0\n",
      "---------- Count = 112 : Visual Paraphrasing for the watermarked version of 483751-------------\n",
      "\n",
      "Image name :  Image_483751.jpg\n",
      "Image id : 483751\n"
     ]
    },
    {
     "data": {
      "application/vnd.jupyter.widget-view+json": {
       "model_id": "e6cec4a32c634f5c91be8ac19d4603eb",
       "version_major": 2,
       "version_minor": 0
      },
      "text/plain": [
       "  0%|          | 0/5 [00:00<?, ?it/s]"
      ]
     },
     "metadata": {},
     "output_type": "display_data"
    },
    {
     "name": "stdout",
     "output_type": "stream",
     "text": [
      "Saving generated images at /raid/home/ashhar21137/watermarking/dwtDctSvd/dwt_paraphrase_0.1/483751\n",
      "Generated Image saved to /raid/home/ashhar21137/watermarking/dwtDctSvd/dwt_paraphrase_0.1/483751/483751_gen_0.png\n",
      "Generated Image saved to /raid/home/ashhar21137/watermarking/dwtDctSvd/dwt_paraphrase_0.1/483751/483751_gen_1.png\n",
      "Generated Image saved to /raid/home/ashhar21137/watermarking/dwtDctSvd/dwt_paraphrase_0.1/483751/483751_gen_2.png\n",
      "Generated Image saved to /raid/home/ashhar21137/watermarking/dwtDctSvd/dwt_paraphrase_0.1/483751/483751_gen_3.png\n",
      "Generated Image saved to /raid/home/ashhar21137/watermarking/dwtDctSvd/dwt_paraphrase_0.1/483751/483751_gen_4.png\n",
      "\n",
      "Number of images generated :  5\n",
      "********** Watermark detection for generated images ***************\n",
      "caption : A man walking down a street near a yellow fire hydrant.\n",
      "Watermark Presence Prob.: 0\n",
      "caption : An old and large truck parked by a fire hydrant.\n",
      "Watermark Presence Prob.: 0\n",
      "caption : A dirty large car on a city street.\n",
      "Watermark Presence Prob.: 0\n",
      "caption : An old truck in a rustic part of town.\n"
     ]
    },
    {
     "name": "stderr",
     "output_type": "stream",
     "text": [
      " 56%|█████▌    | 112/200 [06:09<04:28,  3.06s/it]"
     ]
    },
    {
     "name": "stdout",
     "output_type": "stream",
     "text": [
      "Watermark Presence Prob.: 0\n",
      "caption : The older style car is parked in front of the fire hydrant on the side of the road. \n",
      "Watermark Presence Prob.: 0\n",
      "---------- Count = 113 : Visual Paraphrasing for the watermarked version of 223726-------------\n",
      "\n",
      "Image name :  Image_223726.jpg\n",
      "Image id : 223726\n"
     ]
    },
    {
     "data": {
      "application/vnd.jupyter.widget-view+json": {
       "model_id": "052d3bf319e94127a1b03ed3e6f537e7",
       "version_major": 2,
       "version_minor": 0
      },
      "text/plain": [
       "  0%|          | 0/5 [00:00<?, ?it/s]"
      ]
     },
     "metadata": {},
     "output_type": "display_data"
    },
    {
     "name": "stdout",
     "output_type": "stream",
     "text": [
      "Saving generated images at /raid/home/ashhar21137/watermarking/dwtDctSvd/dwt_paraphrase_0.1/223726\n",
      "Generated Image saved to /raid/home/ashhar21137/watermarking/dwtDctSvd/dwt_paraphrase_0.1/223726/223726_gen_0.png\n",
      "Generated Image saved to /raid/home/ashhar21137/watermarking/dwtDctSvd/dwt_paraphrase_0.1/223726/223726_gen_1.png\n",
      "Generated Image saved to /raid/home/ashhar21137/watermarking/dwtDctSvd/dwt_paraphrase_0.1/223726/223726_gen_2.png\n",
      "Generated Image saved to /raid/home/ashhar21137/watermarking/dwtDctSvd/dwt_paraphrase_0.1/223726/223726_gen_3.png\n",
      "Generated Image saved to /raid/home/ashhar21137/watermarking/dwtDctSvd/dwt_paraphrase_0.1/223726/223726_gen_4.png\n",
      "\n",
      "Number of images generated :  5\n",
      "********** Watermark detection for generated images ***************\n",
      "caption : Our past five presidents are represented in this photograph.\n",
      "Watermark Presence Prob.: 0\n",
      "caption : the current president and former presidents standing in a row\n",
      "Watermark Presence Prob.: 0\n",
      "caption : A group of presidents standing next to each other.\n"
     ]
    },
    {
     "name": "stderr",
     "output_type": "stream",
     "text": [
      " 56%|█████▋    | 113/200 [06:12<04:24,  3.04s/it]"
     ]
    },
    {
     "name": "stdout",
     "output_type": "stream",
     "text": [
      "Watermark Presence Prob.: 0\n",
      "caption : Gathering of all living presidents, past and present. \n",
      "Watermark Presence Prob.: 0\n",
      "caption : a number of people standing near one another wearing suits and ties\n",
      "Watermark Presence Prob.: 0\n",
      "---------- Count = 114 : Visual Paraphrasing for the watermarked version of 560628-------------\n",
      "\n",
      "Image name :  Image_560628.jpg\n",
      "Image id : 560628\n"
     ]
    },
    {
     "data": {
      "application/vnd.jupyter.widget-view+json": {
       "model_id": "24a361507055409c9620bb0acdaf935f",
       "version_major": 2,
       "version_minor": 0
      },
      "text/plain": [
       "  0%|          | 0/5 [00:00<?, ?it/s]"
      ]
     },
     "metadata": {},
     "output_type": "display_data"
    },
    {
     "name": "stdout",
     "output_type": "stream",
     "text": [
      "Saving generated images at /raid/home/ashhar21137/watermarking/dwtDctSvd/dwt_paraphrase_0.1/560628\n",
      "Generated Image saved to /raid/home/ashhar21137/watermarking/dwtDctSvd/dwt_paraphrase_0.1/560628/560628_gen_0.png\n",
      "Generated Image saved to /raid/home/ashhar21137/watermarking/dwtDctSvd/dwt_paraphrase_0.1/560628/560628_gen_1.png\n",
      "Generated Image saved to /raid/home/ashhar21137/watermarking/dwtDctSvd/dwt_paraphrase_0.1/560628/560628_gen_2.png\n",
      "Generated Image saved to /raid/home/ashhar21137/watermarking/dwtDctSvd/dwt_paraphrase_0.1/560628/560628_gen_3.png\n",
      "Generated Image saved to /raid/home/ashhar21137/watermarking/dwtDctSvd/dwt_paraphrase_0.1/560628/560628_gen_4.png\n",
      "\n",
      "Number of images generated :  5\n",
      "********** Watermark detection for generated images ***************\n",
      "caption : A giraffe standing in a forest covered in grass and trees.\n",
      "Watermark Presence Prob.: 0.0\n",
      "caption : A giraffe standing tall among some tress and brush.\n",
      "Watermark Presence Prob.: 0\n",
      "caption : A single giraffe standing in a field in the wild.\n"
     ]
    },
    {
     "name": "stderr",
     "output_type": "stream",
     "text": [
      " 57%|█████▋    | 114/200 [06:14<04:09,  2.90s/it]"
     ]
    },
    {
     "name": "stdout",
     "output_type": "stream",
     "text": [
      "Watermark Presence Prob.: 0.0\n",
      "caption : a giraffe standing in a green field next to trees and shrubbery.\n",
      "Watermark Presence Prob.: 0\n",
      "caption : A giraffe standing in grassy area between trees.\n",
      "Watermark Presence Prob.: 0\n",
      "---------- Count = 115 : Visual Paraphrasing for the watermarked version of 108627-------------\n",
      "\n",
      "Image name :  Image_108627.jpg\n",
      "Image id : 108627\n"
     ]
    },
    {
     "data": {
      "application/vnd.jupyter.widget-view+json": {
       "model_id": "c9803c159d6e4128ae44337a8db5f447",
       "version_major": 2,
       "version_minor": 0
      },
      "text/plain": [
       "  0%|          | 0/5 [00:00<?, ?it/s]"
      ]
     },
     "metadata": {},
     "output_type": "display_data"
    },
    {
     "name": "stdout",
     "output_type": "stream",
     "text": [
      "Saving generated images at /raid/home/ashhar21137/watermarking/dwtDctSvd/dwt_paraphrase_0.1/108627\n",
      "Generated Image saved to /raid/home/ashhar21137/watermarking/dwtDctSvd/dwt_paraphrase_0.1/108627/108627_gen_0.png\n",
      "Generated Image saved to /raid/home/ashhar21137/watermarking/dwtDctSvd/dwt_paraphrase_0.1/108627/108627_gen_1.png\n",
      "Generated Image saved to /raid/home/ashhar21137/watermarking/dwtDctSvd/dwt_paraphrase_0.1/108627/108627_gen_2.png\n",
      "Generated Image saved to /raid/home/ashhar21137/watermarking/dwtDctSvd/dwt_paraphrase_0.1/108627/108627_gen_3.png\n",
      "Generated Image saved to /raid/home/ashhar21137/watermarking/dwtDctSvd/dwt_paraphrase_0.1/108627/108627_gen_4.png\n",
      "\n",
      "Number of images generated :  5\n",
      "********** Watermark detection for generated images ***************\n",
      "caption : a giraffe by its self standing in a dry field \n",
      "Watermark Presence Prob.: 0\n",
      "caption : A photograph of a giraffe in the wild. \n",
      "Watermark Presence Prob.: 0\n",
      "caption : A giraffe standing in tall grasses near trees.\n"
     ]
    },
    {
     "name": "stderr",
     "output_type": "stream",
     "text": [
      " 57%|█████▊    | 115/200 [06:17<04:05,  2.89s/it]"
     ]
    },
    {
     "name": "stdout",
     "output_type": "stream",
     "text": [
      "Watermark Presence Prob.: 0\n",
      "caption : A giraffe is standing on tall, dry grass.\n",
      "Watermark Presence Prob.: 0\n",
      "caption : A giraffe standing in a dry grass field.\n",
      "Watermark Presence Prob.: 0\n",
      "---------- Count = 116 : Visual Paraphrasing for the watermarked version of 246804-------------\n",
      "\n",
      "Image name :  Image_246804.jpg\n",
      "Image id : 246804\n"
     ]
    },
    {
     "data": {
      "application/vnd.jupyter.widget-view+json": {
       "model_id": "e1f66f9659774c9bb760219ae8ce6f3b",
       "version_major": 2,
       "version_minor": 0
      },
      "text/plain": [
       "  0%|          | 0/5 [00:00<?, ?it/s]"
      ]
     },
     "metadata": {},
     "output_type": "display_data"
    },
    {
     "name": "stdout",
     "output_type": "stream",
     "text": [
      "Saving generated images at /raid/home/ashhar21137/watermarking/dwtDctSvd/dwt_paraphrase_0.1/246804\n",
      "Generated Image saved to /raid/home/ashhar21137/watermarking/dwtDctSvd/dwt_paraphrase_0.1/246804/246804_gen_0.png\n",
      "Generated Image saved to /raid/home/ashhar21137/watermarking/dwtDctSvd/dwt_paraphrase_0.1/246804/246804_gen_1.png\n",
      "Generated Image saved to /raid/home/ashhar21137/watermarking/dwtDctSvd/dwt_paraphrase_0.1/246804/246804_gen_2.png\n",
      "Generated Image saved to /raid/home/ashhar21137/watermarking/dwtDctSvd/dwt_paraphrase_0.1/246804/246804_gen_3.png\n",
      "Generated Image saved to /raid/home/ashhar21137/watermarking/dwtDctSvd/dwt_paraphrase_0.1/246804/246804_gen_4.png\n",
      "\n",
      "Number of images generated :  5\n",
      "********** Watermark detection for generated images ***************\n",
      "caption : A bathroom that includes a toilet and an open area shower.\n",
      "Watermark Presence Prob.: 0\n",
      "caption : A bathroom with a toilet and a shower area.\n",
      "Watermark Presence Prob.: 0\n",
      "caption : a bathroom with a toilet, side rails, and a shower.\n",
      "Watermark Presence Prob.: 0\n",
      "caption : A handicap bathroom with toilet and walk-in shower.\n"
     ]
    },
    {
     "name": "stderr",
     "output_type": "stream",
     "text": [
      " 58%|█████▊    | 116/200 [06:20<04:02,  2.89s/it]"
     ]
    },
    {
     "name": "stdout",
     "output_type": "stream",
     "text": [
      "Watermark Presence Prob.: 0\n",
      "caption : a room with the toilet and a bathtab which is very clean\n",
      "Watermark Presence Prob.: 0\n",
      "---------- Count = 117 : Visual Paraphrasing for the watermarked version of 365363-------------\n",
      "\n",
      "Image name :  Image_365363.jpg\n",
      "Image id : 365363\n"
     ]
    },
    {
     "data": {
      "application/vnd.jupyter.widget-view+json": {
       "model_id": "5ddef9b534a74fb49836741dec8d8666",
       "version_major": 2,
       "version_minor": 0
      },
      "text/plain": [
       "  0%|          | 0/5 [00:00<?, ?it/s]"
      ]
     },
     "metadata": {},
     "output_type": "display_data"
    },
    {
     "name": "stdout",
     "output_type": "stream",
     "text": [
      "Saving generated images at /raid/home/ashhar21137/watermarking/dwtDctSvd/dwt_paraphrase_0.1/365363\n",
      "Generated Image saved to /raid/home/ashhar21137/watermarking/dwtDctSvd/dwt_paraphrase_0.1/365363/365363_gen_0.png\n",
      "Generated Image saved to /raid/home/ashhar21137/watermarking/dwtDctSvd/dwt_paraphrase_0.1/365363/365363_gen_1.png\n",
      "Generated Image saved to /raid/home/ashhar21137/watermarking/dwtDctSvd/dwt_paraphrase_0.1/365363/365363_gen_2.png\n",
      "Generated Image saved to /raid/home/ashhar21137/watermarking/dwtDctSvd/dwt_paraphrase_0.1/365363/365363_gen_3.png\n",
      "Generated Image saved to /raid/home/ashhar21137/watermarking/dwtDctSvd/dwt_paraphrase_0.1/365363/365363_gen_4.png\n",
      "\n",
      "Number of images generated :  5\n",
      "********** Watermark detection for generated images ***************\n",
      "caption : Two people flying a kite above pine trees.\n",
      "Watermark Presence Prob.: 0.0\n",
      "caption : A couple of people standing in a show covered field flying kites.\n",
      "Watermark Presence Prob.: 0.0\n",
      "caption : Two people flying a kite in a field with a forest in the background.\n",
      "Watermark Presence Prob.: 0.0\n",
      "caption : A man and a boy fly kites in the snow in front of pine trees.\n",
      "Watermark Presence Prob.: 0.0\n",
      "caption : a couple of people that have kites in the sky\n"
     ]
    },
    {
     "name": "stderr",
     "output_type": "stream",
     "text": [
      " 58%|█████▊    | 117/200 [06:23<04:00,  2.90s/it]"
     ]
    },
    {
     "name": "stdout",
     "output_type": "stream",
     "text": [
      "Watermark Presence Prob.: 0.0\n",
      "---------- Count = 118 : Visual Paraphrasing for the watermarked version of 64460-------------\n",
      "\n",
      "Image name :  Image_64460.jpg\n",
      "Image id : 64460\n"
     ]
    },
    {
     "data": {
      "application/vnd.jupyter.widget-view+json": {
       "model_id": "8486ee519c32401390aac79c3546e37d",
       "version_major": 2,
       "version_minor": 0
      },
      "text/plain": [
       "  0%|          | 0/5 [00:00<?, ?it/s]"
      ]
     },
     "metadata": {},
     "output_type": "display_data"
    },
    {
     "name": "stdout",
     "output_type": "stream",
     "text": [
      "Saving generated images at /raid/home/ashhar21137/watermarking/dwtDctSvd/dwt_paraphrase_0.1/64460\n",
      "Generated Image saved to /raid/home/ashhar21137/watermarking/dwtDctSvd/dwt_paraphrase_0.1/64460/64460_gen_0.png\n",
      "Generated Image saved to /raid/home/ashhar21137/watermarking/dwtDctSvd/dwt_paraphrase_0.1/64460/64460_gen_1.png\n",
      "Generated Image saved to /raid/home/ashhar21137/watermarking/dwtDctSvd/dwt_paraphrase_0.1/64460/64460_gen_2.png\n",
      "Generated Image saved to /raid/home/ashhar21137/watermarking/dwtDctSvd/dwt_paraphrase_0.1/64460/64460_gen_3.png\n",
      "Generated Image saved to /raid/home/ashhar21137/watermarking/dwtDctSvd/dwt_paraphrase_0.1/64460/64460_gen_4.png\n",
      "\n",
      "Number of images generated :  5\n",
      "********** Watermark detection for generated images ***************\n",
      "caption : A kitchen in a restaurant with food on the counter.\n",
      "Watermark Presence Prob.: 0\n",
      "caption : A restaurant kitchen with prepared food on the counter.\n",
      "Watermark Presence Prob.: 0\n",
      "caption : two people in a kitchen area preparing food\n",
      "Watermark Presence Prob.: 0\n",
      "caption : Two chefs preparing meals in the restaurant kitchen.\n",
      "Watermark Presence Prob.: 0\n",
      "caption : a kitchen with chefs and plated dishes of food.\n"
     ]
    },
    {
     "name": "stderr",
     "output_type": "stream",
     "text": [
      " 59%|█████▉    | 118/200 [06:26<04:09,  3.05s/it]"
     ]
    },
    {
     "name": "stdout",
     "output_type": "stream",
     "text": [
      "Watermark Presence Prob.: 0\n",
      "---------- Count = 119 : Visual Paraphrasing for the watermarked version of 225750-------------\n",
      "\n",
      "Image name :  Image_225750.jpg\n",
      "Image id : 225750\n"
     ]
    },
    {
     "data": {
      "application/vnd.jupyter.widget-view+json": {
       "model_id": "ff7939056d0e4ab9917d3d85e7f311e0",
       "version_major": 2,
       "version_minor": 0
      },
      "text/plain": [
       "  0%|          | 0/5 [00:00<?, ?it/s]"
      ]
     },
     "metadata": {},
     "output_type": "display_data"
    },
    {
     "name": "stdout",
     "output_type": "stream",
     "text": [
      "Saving generated images at /raid/home/ashhar21137/watermarking/dwtDctSvd/dwt_paraphrase_0.1/225750\n",
      "Generated Image saved to /raid/home/ashhar21137/watermarking/dwtDctSvd/dwt_paraphrase_0.1/225750/225750_gen_0.png\n",
      "Generated Image saved to /raid/home/ashhar21137/watermarking/dwtDctSvd/dwt_paraphrase_0.1/225750/225750_gen_1.png\n",
      "Generated Image saved to /raid/home/ashhar21137/watermarking/dwtDctSvd/dwt_paraphrase_0.1/225750/225750_gen_2.png\n",
      "Generated Image saved to /raid/home/ashhar21137/watermarking/dwtDctSvd/dwt_paraphrase_0.1/225750/225750_gen_3.png\n",
      "Generated Image saved to /raid/home/ashhar21137/watermarking/dwtDctSvd/dwt_paraphrase_0.1/225750/225750_gen_4.png\n",
      "\n",
      "Number of images generated :  5\n",
      "********** Watermark detection for generated images ***************\n",
      "caption : a bench on a path near a field \n",
      "Watermark Presence Prob.: 0\n",
      "caption : A bench sitting on the side of a dirt road.\n",
      "Watermark Presence Prob.: 0.0\n",
      "caption : A stone bench is beside a road leading to the forest.\n",
      "Watermark Presence Prob.: 0.0\n",
      "caption : a dirt road a wooden bench some grass and trees\n",
      "Watermark Presence Prob.: 0.0\n",
      "caption : A path passes a bench before entering into the woods.\n"
     ]
    },
    {
     "name": "stderr",
     "output_type": "stream",
     "text": [
      " 60%|█████▉    | 119/200 [06:30<04:14,  3.14s/it]"
     ]
    },
    {
     "name": "stdout",
     "output_type": "stream",
     "text": [
      "Watermark Presence Prob.: 0.0\n",
      "---------- Count = 120 : Visual Paraphrasing for the watermarked version of 446014-------------\n",
      "\n",
      "Image name :  Image_446014.jpg\n",
      "Image id : 446014\n"
     ]
    },
    {
     "data": {
      "application/vnd.jupyter.widget-view+json": {
       "model_id": "9eeb9223fde34233868cf33cf5a41158",
       "version_major": 2,
       "version_minor": 0
      },
      "text/plain": [
       "  0%|          | 0/5 [00:00<?, ?it/s]"
      ]
     },
     "metadata": {},
     "output_type": "display_data"
    },
    {
     "name": "stdout",
     "output_type": "stream",
     "text": [
      "Saving generated images at /raid/home/ashhar21137/watermarking/dwtDctSvd/dwt_paraphrase_0.1/446014\n",
      "Generated Image saved to /raid/home/ashhar21137/watermarking/dwtDctSvd/dwt_paraphrase_0.1/446014/446014_gen_0.png\n",
      "Generated Image saved to /raid/home/ashhar21137/watermarking/dwtDctSvd/dwt_paraphrase_0.1/446014/446014_gen_1.png\n",
      "Generated Image saved to /raid/home/ashhar21137/watermarking/dwtDctSvd/dwt_paraphrase_0.1/446014/446014_gen_2.png\n",
      "Generated Image saved to /raid/home/ashhar21137/watermarking/dwtDctSvd/dwt_paraphrase_0.1/446014/446014_gen_3.png\n",
      "Generated Image saved to /raid/home/ashhar21137/watermarking/dwtDctSvd/dwt_paraphrase_0.1/446014/446014_gen_4.png\n",
      "\n",
      "Number of images generated :  5\n",
      "********** Watermark detection for generated images ***************\n",
      "caption : A girl washing her hands while looking into a mirror crying.\n",
      "Watermark Presence Prob.: 0.0\n",
      "caption : Black and white photograph of a child crying in mirror.\n",
      "Watermark Presence Prob.: 0.0\n",
      "caption : Little kid crying in the mirror while washing hands\n",
      "Watermark Presence Prob.: 0.0\n",
      "caption : A little child crying while standing at a bathroom sink.\n"
     ]
    },
    {
     "name": "stderr",
     "output_type": "stream",
     "text": [
      " 60%|██████    | 120/200 [06:33<04:08,  3.10s/it]"
     ]
    },
    {
     "name": "stdout",
     "output_type": "stream",
     "text": [
      "Watermark Presence Prob.: 0.0\n",
      "caption : A toddler cries while washing her hands in the bathroom\n",
      "Watermark Presence Prob.: 0.0\n",
      "---------- Count = 121 : Visual Paraphrasing for the watermarked version of 157032-------------\n",
      "\n",
      "Image name :  Image_157032.jpg\n",
      "Image id : 157032\n"
     ]
    },
    {
     "data": {
      "application/vnd.jupyter.widget-view+json": {
       "model_id": "32de0a43416748c2ab4531371d4a4189",
       "version_major": 2,
       "version_minor": 0
      },
      "text/plain": [
       "  0%|          | 0/5 [00:00<?, ?it/s]"
      ]
     },
     "metadata": {},
     "output_type": "display_data"
    },
    {
     "name": "stdout",
     "output_type": "stream",
     "text": [
      "Saving generated images at /raid/home/ashhar21137/watermarking/dwtDctSvd/dwt_paraphrase_0.1/157032\n",
      "Generated Image saved to /raid/home/ashhar21137/watermarking/dwtDctSvd/dwt_paraphrase_0.1/157032/157032_gen_0.png\n",
      "Generated Image saved to /raid/home/ashhar21137/watermarking/dwtDctSvd/dwt_paraphrase_0.1/157032/157032_gen_1.png\n",
      "Generated Image saved to /raid/home/ashhar21137/watermarking/dwtDctSvd/dwt_paraphrase_0.1/157032/157032_gen_2.png\n",
      "Generated Image saved to /raid/home/ashhar21137/watermarking/dwtDctSvd/dwt_paraphrase_0.1/157032/157032_gen_3.png\n",
      "Generated Image saved to /raid/home/ashhar21137/watermarking/dwtDctSvd/dwt_paraphrase_0.1/157032/157032_gen_4.png\n",
      "\n",
      "Number of images generated :  5\n",
      "********** Watermark detection for generated images ***************\n",
      "caption : a brown winter hat on top of a bench near frozen grass\n",
      "Watermark Presence Prob.: 0\n",
      "caption : A winter hat left sitting on a bench.\n",
      "Watermark Presence Prob.: 0\n",
      "caption : A hat sitting on the top of a bench near some grass and a sidewalk.\n",
      "Watermark Presence Prob.: 0\n",
      "caption : There is a bomber hat propped on the back of the bench.\n",
      "Watermark Presence Prob.: 0\n",
      "caption : A frost covered hat sits on top of a bench.\n"
     ]
    },
    {
     "name": "stderr",
     "output_type": "stream",
     "text": [
      " 60%|██████    | 121/200 [06:36<04:04,  3.09s/it]"
     ]
    },
    {
     "name": "stdout",
     "output_type": "stream",
     "text": [
      "Watermark Presence Prob.: 0\n",
      "---------- Count = 122 : Visual Paraphrasing for the watermarked version of 96997-------------\n",
      "\n",
      "Image name :  Image_96997.jpg\n",
      "Image id : 96997\n"
     ]
    },
    {
     "data": {
      "application/vnd.jupyter.widget-view+json": {
       "model_id": "962cfc58e6bb4513b6efe9fd45661a94",
       "version_major": 2,
       "version_minor": 0
      },
      "text/plain": [
       "  0%|          | 0/5 [00:00<?, ?it/s]"
      ]
     },
     "metadata": {},
     "output_type": "display_data"
    },
    {
     "name": "stdout",
     "output_type": "stream",
     "text": [
      "Saving generated images at /raid/home/ashhar21137/watermarking/dwtDctSvd/dwt_paraphrase_0.1/96997\n",
      "Generated Image saved to /raid/home/ashhar21137/watermarking/dwtDctSvd/dwt_paraphrase_0.1/96997/96997_gen_0.png\n",
      "Generated Image saved to /raid/home/ashhar21137/watermarking/dwtDctSvd/dwt_paraphrase_0.1/96997/96997_gen_1.png\n",
      "Generated Image saved to /raid/home/ashhar21137/watermarking/dwtDctSvd/dwt_paraphrase_0.1/96997/96997_gen_2.png\n",
      "Generated Image saved to /raid/home/ashhar21137/watermarking/dwtDctSvd/dwt_paraphrase_0.1/96997/96997_gen_3.png\n",
      "Generated Image saved to /raid/home/ashhar21137/watermarking/dwtDctSvd/dwt_paraphrase_0.1/96997/96997_gen_4.png\n",
      "\n",
      "Number of images generated :  5\n",
      "********** Watermark detection for generated images ***************\n",
      "caption : A green plain with sheep roaming over it\n",
      "Watermark Presence Prob.: 0\n",
      "caption : A group of animals grazing on a green hillside.\n",
      "Watermark Presence Prob.: 0.0\n",
      "caption : Sheep grazing in the field on a sunny day \n",
      "Watermark Presence Prob.: 0.0\n",
      "caption : Sheep are grazing on grass at the top of a hill. \n"
     ]
    },
    {
     "name": "stderr",
     "output_type": "stream",
     "text": [
      " 61%|██████    | 122/200 [06:39<03:56,  3.04s/it]"
     ]
    },
    {
     "name": "stdout",
     "output_type": "stream",
     "text": [
      "Watermark Presence Prob.: 0\n",
      "caption : A flock of sheep graze on a green rocky hillside.\n",
      "Watermark Presence Prob.: 0.0\n",
      "---------- Count = 123 : Visual Paraphrasing for the watermarked version of 302389-------------\n",
      "\n",
      "Image name :  Image_302389.jpg\n",
      "Image id : 302389\n"
     ]
    },
    {
     "data": {
      "application/vnd.jupyter.widget-view+json": {
       "model_id": "cfe8791e24e5436aa1b101c78543e739",
       "version_major": 2,
       "version_minor": 0
      },
      "text/plain": [
       "  0%|          | 0/5 [00:00<?, ?it/s]"
      ]
     },
     "metadata": {},
     "output_type": "display_data"
    },
    {
     "name": "stdout",
     "output_type": "stream",
     "text": [
      "Saving generated images at /raid/home/ashhar21137/watermarking/dwtDctSvd/dwt_paraphrase_0.1/302389\n",
      "Generated Image saved to /raid/home/ashhar21137/watermarking/dwtDctSvd/dwt_paraphrase_0.1/302389/302389_gen_0.png\n",
      "Generated Image saved to /raid/home/ashhar21137/watermarking/dwtDctSvd/dwt_paraphrase_0.1/302389/302389_gen_1.png\n",
      "Generated Image saved to /raid/home/ashhar21137/watermarking/dwtDctSvd/dwt_paraphrase_0.1/302389/302389_gen_2.png\n",
      "Generated Image saved to /raid/home/ashhar21137/watermarking/dwtDctSvd/dwt_paraphrase_0.1/302389/302389_gen_3.png\n",
      "Generated Image saved to /raid/home/ashhar21137/watermarking/dwtDctSvd/dwt_paraphrase_0.1/302389/302389_gen_4.png\n",
      "\n",
      "Number of images generated :  5\n",
      "********** Watermark detection for generated images ***************\n",
      "caption : The airplane is about ready to land at the airport. \n",
      "Watermark Presence Prob.: 0\n",
      "caption : A plane is close to landing at an airport. \n",
      "Watermark Presence Prob.: 0.0\n",
      "caption : A jumbo jet airplane flying in for a landing.\n"
     ]
    },
    {
     "name": "stderr",
     "output_type": "stream",
     "text": [
      " 62%|██████▏   | 123/200 [06:41<03:48,  2.97s/it]"
     ]
    },
    {
     "name": "stdout",
     "output_type": "stream",
     "text": [
      "Watermark Presence Prob.: 0.0\n",
      "caption : A jetliner coming in for a landing at an airport.\n",
      "Watermark Presence Prob.: 0\n",
      "caption : Plane landing on tarmac with buildings and sky\n",
      "Watermark Presence Prob.: 0.0\n",
      "---------- Count = 124 : Visual Paraphrasing for the watermarked version of 574001-------------\n",
      "\n",
      "Image name :  Image_574001.jpg\n",
      "Image id : 574001\n"
     ]
    },
    {
     "data": {
      "application/vnd.jupyter.widget-view+json": {
       "model_id": "c1babfee0a2f4a2e9e8538736986447c",
       "version_major": 2,
       "version_minor": 0
      },
      "text/plain": [
       "  0%|          | 0/5 [00:00<?, ?it/s]"
      ]
     },
     "metadata": {},
     "output_type": "display_data"
    },
    {
     "name": "stdout",
     "output_type": "stream",
     "text": [
      "Saving generated images at /raid/home/ashhar21137/watermarking/dwtDctSvd/dwt_paraphrase_0.1/574001\n",
      "Generated Image saved to /raid/home/ashhar21137/watermarking/dwtDctSvd/dwt_paraphrase_0.1/574001/574001_gen_0.png\n",
      "Generated Image saved to /raid/home/ashhar21137/watermarking/dwtDctSvd/dwt_paraphrase_0.1/574001/574001_gen_1.png\n",
      "Generated Image saved to /raid/home/ashhar21137/watermarking/dwtDctSvd/dwt_paraphrase_0.1/574001/574001_gen_2.png\n",
      "Generated Image saved to /raid/home/ashhar21137/watermarking/dwtDctSvd/dwt_paraphrase_0.1/574001/574001_gen_3.png\n",
      "Generated Image saved to /raid/home/ashhar21137/watermarking/dwtDctSvd/dwt_paraphrase_0.1/574001/574001_gen_4.png\n",
      "\n",
      "Number of images generated :  5\n",
      "********** Watermark detection for generated images ***************\n",
      "caption : A tub sitting in a bathroom next to a  toilet.\n",
      "Watermark Presence Prob.: 0\n",
      "caption : a bath room with a small bath tub\n",
      "Watermark Presence Prob.: 0\n",
      "caption : A full view of a place with a glass frame. \n",
      "Watermark Presence Prob.: 0\n",
      "caption : An empty bathtub with lift in a bathroom.\n"
     ]
    },
    {
     "name": "stderr",
     "output_type": "stream",
     "text": [
      " 62%|██████▏   | 124/200 [06:45<03:50,  3.03s/it]"
     ]
    },
    {
     "name": "stdout",
     "output_type": "stream",
     "text": [
      "Watermark Presence Prob.: 0\n",
      "caption : A shower that has a large tub space.\n",
      "Watermark Presence Prob.: 0\n",
      "---------- Count = 125 : Visual Paraphrasing for the watermarked version of 525589-------------\n",
      "\n",
      "Image name :  Image_525589.jpg\n",
      "Image id : 525589\n"
     ]
    },
    {
     "data": {
      "application/vnd.jupyter.widget-view+json": {
       "model_id": "678949703d434e14ad8354a961b81a28",
       "version_major": 2,
       "version_minor": 0
      },
      "text/plain": [
       "  0%|          | 0/5 [00:00<?, ?it/s]"
      ]
     },
     "metadata": {},
     "output_type": "display_data"
    },
    {
     "name": "stdout",
     "output_type": "stream",
     "text": [
      "Saving generated images at /raid/home/ashhar21137/watermarking/dwtDctSvd/dwt_paraphrase_0.1/525589\n",
      "Generated Image saved to /raid/home/ashhar21137/watermarking/dwtDctSvd/dwt_paraphrase_0.1/525589/525589_gen_0.png\n",
      "Generated Image saved to /raid/home/ashhar21137/watermarking/dwtDctSvd/dwt_paraphrase_0.1/525589/525589_gen_1.png\n",
      "Generated Image saved to /raid/home/ashhar21137/watermarking/dwtDctSvd/dwt_paraphrase_0.1/525589/525589_gen_2.png\n",
      "Generated Image saved to /raid/home/ashhar21137/watermarking/dwtDctSvd/dwt_paraphrase_0.1/525589/525589_gen_3.png\n",
      "Generated Image saved to /raid/home/ashhar21137/watermarking/dwtDctSvd/dwt_paraphrase_0.1/525589/525589_gen_4.png\n",
      "\n",
      "Number of images generated :  5\n",
      "********** Watermark detection for generated images ***************\n",
      "caption : A sheered sheep is walking away from a pile of its wool.\n",
      "Watermark Presence Prob.: 0.0\n",
      "caption : A black sheep having just had its haired shaved off.\n",
      "Watermark Presence Prob.: 0\n",
      "caption : A back sheep that is standing in the grass.\n",
      "Watermark Presence Prob.: 0\n",
      "caption : a large black sheep who has been shaved \n"
     ]
    },
    {
     "name": "stderr",
     "output_type": "stream",
     "text": [
      " 62%|██████▎   | 125/200 [06:48<03:56,  3.15s/it]"
     ]
    },
    {
     "name": "stdout",
     "output_type": "stream",
     "text": [
      "Watermark Presence Prob.: 0\n",
      "caption : a newly shaved sheep walks away from it shaven fur \n",
      "Watermark Presence Prob.: 0\n",
      "---------- Count = 126 : Visual Paraphrasing for the watermarked version of 280980-------------\n",
      "\n",
      "Image name :  Image_280980.jpg\n",
      "Image id : 280980\n"
     ]
    },
    {
     "data": {
      "application/vnd.jupyter.widget-view+json": {
       "model_id": "17987377af9f438ba7465dd3c49db321",
       "version_major": 2,
       "version_minor": 0
      },
      "text/plain": [
       "  0%|          | 0/5 [00:00<?, ?it/s]"
      ]
     },
     "metadata": {},
     "output_type": "display_data"
    },
    {
     "name": "stdout",
     "output_type": "stream",
     "text": [
      "Saving generated images at /raid/home/ashhar21137/watermarking/dwtDctSvd/dwt_paraphrase_0.1/280980\n",
      "Generated Image saved to /raid/home/ashhar21137/watermarking/dwtDctSvd/dwt_paraphrase_0.1/280980/280980_gen_0.png\n",
      "Generated Image saved to /raid/home/ashhar21137/watermarking/dwtDctSvd/dwt_paraphrase_0.1/280980/280980_gen_1.png\n",
      "Generated Image saved to /raid/home/ashhar21137/watermarking/dwtDctSvd/dwt_paraphrase_0.1/280980/280980_gen_2.png\n",
      "Generated Image saved to /raid/home/ashhar21137/watermarking/dwtDctSvd/dwt_paraphrase_0.1/280980/280980_gen_3.png\n",
      "Generated Image saved to /raid/home/ashhar21137/watermarking/dwtDctSvd/dwt_paraphrase_0.1/280980/280980_gen_4.png\n",
      "\n",
      "Number of images generated :  5\n",
      "********** Watermark detection for generated images ***************\n",
      "caption : A man in a costume and wig is using a urinal.\n",
      "Watermark Presence Prob.: 0\n",
      "caption : a person in a bathroom with a toilet and frames on the wall\n",
      "Watermark Presence Prob.: 0.0\n",
      "caption : A man with a white wig and beard and a Christmas hat in a bathroom.\n",
      "Watermark Presence Prob.: 0\n",
      "caption : A person in a Santa hat holds a cup away from the sink in a bathroom.\n",
      "Watermark Presence Prob.: 0\n",
      "caption : A man dressed up like santa taking a leak.\n"
     ]
    },
    {
     "name": "stderr",
     "output_type": "stream",
     "text": [
      " 63%|██████▎   | 126/200 [06:51<03:55,  3.18s/it]"
     ]
    },
    {
     "name": "stdout",
     "output_type": "stream",
     "text": [
      "Watermark Presence Prob.: 0\n",
      "---------- Count = 127 : Visual Paraphrasing for the watermarked version of 316676-------------\n",
      "\n",
      "Image name :  Image_316676.jpg\n",
      "Image id : 316676\n"
     ]
    },
    {
     "data": {
      "application/vnd.jupyter.widget-view+json": {
       "model_id": "992d58ce8960486c8353d1378788b56f",
       "version_major": 2,
       "version_minor": 0
      },
      "text/plain": [
       "  0%|          | 0/5 [00:00<?, ?it/s]"
      ]
     },
     "metadata": {},
     "output_type": "display_data"
    },
    {
     "name": "stdout",
     "output_type": "stream",
     "text": [
      "Saving generated images at /raid/home/ashhar21137/watermarking/dwtDctSvd/dwt_paraphrase_0.1/316676\n",
      "Generated Image saved to /raid/home/ashhar21137/watermarking/dwtDctSvd/dwt_paraphrase_0.1/316676/316676_gen_0.png\n",
      "Generated Image saved to /raid/home/ashhar21137/watermarking/dwtDctSvd/dwt_paraphrase_0.1/316676/316676_gen_1.png\n",
      "Generated Image saved to /raid/home/ashhar21137/watermarking/dwtDctSvd/dwt_paraphrase_0.1/316676/316676_gen_2.png\n",
      "Generated Image saved to /raid/home/ashhar21137/watermarking/dwtDctSvd/dwt_paraphrase_0.1/316676/316676_gen_3.png\n",
      "Generated Image saved to /raid/home/ashhar21137/watermarking/dwtDctSvd/dwt_paraphrase_0.1/316676/316676_gen_4.png\n",
      "\n",
      "Number of images generated :  5\n",
      "********** Watermark detection for generated images ***************\n",
      "caption : a street light with a layer of snow on a metal pole next to a street.\n",
      "Watermark Presence Prob.: 0\n",
      "caption : an image of a traffic light that is covered with snow\n",
      "Watermark Presence Prob.: 0\n",
      "caption : A traffic signal at an intersection covered in snow.\n",
      "Watermark Presence Prob.: 0\n",
      "caption : The street light is covered in a thin layer of snow\n"
     ]
    },
    {
     "name": "stderr",
     "output_type": "stream",
     "text": [
      " 64%|██████▎   | 127/200 [06:54<03:51,  3.17s/it]"
     ]
    },
    {
     "name": "stdout",
     "output_type": "stream",
     "text": [
      "Watermark Presence Prob.: 0\n",
      "caption : A traffic light covered in snow next to a building.\n",
      "Watermark Presence Prob.: 0.0\n",
      "---------- Count = 128 : Visual Paraphrasing for the watermarked version of 412535-------------\n",
      "\n",
      "Image name :  Image_412535.jpg\n",
      "Image id : 412535\n"
     ]
    },
    {
     "data": {
      "application/vnd.jupyter.widget-view+json": {
       "model_id": "fed9b7fd16904ffc8ef3b5e79f14bb29",
       "version_major": 2,
       "version_minor": 0
      },
      "text/plain": [
       "  0%|          | 0/5 [00:00<?, ?it/s]"
      ]
     },
     "metadata": {},
     "output_type": "display_data"
    },
    {
     "name": "stdout",
     "output_type": "stream",
     "text": [
      "Saving generated images at /raid/home/ashhar21137/watermarking/dwtDctSvd/dwt_paraphrase_0.1/412535\n",
      "Generated Image saved to /raid/home/ashhar21137/watermarking/dwtDctSvd/dwt_paraphrase_0.1/412535/412535_gen_0.png\n",
      "Generated Image saved to /raid/home/ashhar21137/watermarking/dwtDctSvd/dwt_paraphrase_0.1/412535/412535_gen_1.png\n",
      "Generated Image saved to /raid/home/ashhar21137/watermarking/dwtDctSvd/dwt_paraphrase_0.1/412535/412535_gen_2.png\n",
      "Generated Image saved to /raid/home/ashhar21137/watermarking/dwtDctSvd/dwt_paraphrase_0.1/412535/412535_gen_3.png\n",
      "Generated Image saved to /raid/home/ashhar21137/watermarking/dwtDctSvd/dwt_paraphrase_0.1/412535/412535_gen_4.png\n",
      "\n",
      "Number of images generated :  5\n",
      "********** Watermark detection for generated images ***************\n",
      "caption : A bathroom with a toilet lid up, and white curtains on the widow.\n",
      "Watermark Presence Prob.: 0.0\n",
      "caption : view of a bathroom with white toilet and white sink\n",
      "Watermark Presence Prob.: 0\n",
      "caption : A restroom with a white toilet and sink.\n",
      "Watermark Presence Prob.: 0\n",
      "caption : A safety handle is located on a wall in a washroom.\n"
     ]
    },
    {
     "name": "stderr",
     "output_type": "stream",
     "text": [
      " 64%|██████▍   | 128/200 [06:58<03:46,  3.15s/it]"
     ]
    },
    {
     "name": "stdout",
     "output_type": "stream",
     "text": [
      "Watermark Presence Prob.: 0\n",
      "caption : a black table and a white toilet in a bathroom\n",
      "Watermark Presence Prob.: 0\n",
      "---------- Count = 129 : Visual Paraphrasing for the watermarked version of 445528-------------\n",
      "\n",
      "Image name :  Image_445528.jpg\n",
      "Image id : 445528\n"
     ]
    },
    {
     "data": {
      "application/vnd.jupyter.widget-view+json": {
       "model_id": "56e49a3aa1394755980f9b643c07ef2b",
       "version_major": 2,
       "version_minor": 0
      },
      "text/plain": [
       "  0%|          | 0/5 [00:00<?, ?it/s]"
      ]
     },
     "metadata": {},
     "output_type": "display_data"
    },
    {
     "name": "stdout",
     "output_type": "stream",
     "text": [
      "Saving generated images at /raid/home/ashhar21137/watermarking/dwtDctSvd/dwt_paraphrase_0.1/445528\n",
      "Generated Image saved to /raid/home/ashhar21137/watermarking/dwtDctSvd/dwt_paraphrase_0.1/445528/445528_gen_0.png\n",
      "Generated Image saved to /raid/home/ashhar21137/watermarking/dwtDctSvd/dwt_paraphrase_0.1/445528/445528_gen_1.png\n",
      "Generated Image saved to /raid/home/ashhar21137/watermarking/dwtDctSvd/dwt_paraphrase_0.1/445528/445528_gen_2.png\n",
      "Generated Image saved to /raid/home/ashhar21137/watermarking/dwtDctSvd/dwt_paraphrase_0.1/445528/445528_gen_3.png\n",
      "Generated Image saved to /raid/home/ashhar21137/watermarking/dwtDctSvd/dwt_paraphrase_0.1/445528/445528_gen_4.png\n",
      "\n",
      "Number of images generated :  5\n",
      "********** Watermark detection for generated images ***************\n",
      "caption : A pair of giraffes walk through the grass and trees.\n",
      "Watermark Presence Prob.: 0\n",
      "caption : Group of giraffes eating in between a row of trees. \n",
      "Watermark Presence Prob.: 0\n",
      "caption : A giraffe stands tall with trees in the background.\n",
      "Watermark Presence Prob.: 0\n",
      "caption : Two giraffes eating leaves off the trees in the woods\n",
      "Watermark Presence Prob.: 0.0\n",
      "caption : An elephant and a giraffe are walking through the woods.\n"
     ]
    },
    {
     "name": "stderr",
     "output_type": "stream",
     "text": [
      " 64%|██████▍   | 129/200 [07:00<03:29,  2.95s/it]"
     ]
    },
    {
     "name": "stdout",
     "output_type": "stream",
     "text": [
      "Watermark Presence Prob.: 0\n",
      "---------- Count = 130 : Visual Paraphrasing for the watermarked version of 576757-------------\n",
      "\n",
      "Image name :  Image_576757.jpg\n",
      "Image id : 576757\n"
     ]
    },
    {
     "data": {
      "application/vnd.jupyter.widget-view+json": {
       "model_id": "471c750f3f454a5dbc58c24e0b92d895",
       "version_major": 2,
       "version_minor": 0
      },
      "text/plain": [
       "  0%|          | 0/5 [00:00<?, ?it/s]"
      ]
     },
     "metadata": {},
     "output_type": "display_data"
    },
    {
     "name": "stdout",
     "output_type": "stream",
     "text": [
      "Saving generated images at /raid/home/ashhar21137/watermarking/dwtDctSvd/dwt_paraphrase_0.1/576757\n",
      "Generated Image saved to /raid/home/ashhar21137/watermarking/dwtDctSvd/dwt_paraphrase_0.1/576757/576757_gen_0.png\n",
      "Generated Image saved to /raid/home/ashhar21137/watermarking/dwtDctSvd/dwt_paraphrase_0.1/576757/576757_gen_1.png\n",
      "Generated Image saved to /raid/home/ashhar21137/watermarking/dwtDctSvd/dwt_paraphrase_0.1/576757/576757_gen_2.png\n",
      "Generated Image saved to /raid/home/ashhar21137/watermarking/dwtDctSvd/dwt_paraphrase_0.1/576757/576757_gen_3.png\n",
      "Generated Image saved to /raid/home/ashhar21137/watermarking/dwtDctSvd/dwt_paraphrase_0.1/576757/576757_gen_4.png\n",
      "\n",
      "Number of images generated :  5\n",
      "********** Watermark detection for generated images ***************\n",
      "caption : An unfinished bathroom has a toilet and tools\n",
      "Watermark Presence Prob.: 0\n",
      "caption : A white toilet sitting in a demolished bathroom.\n",
      "Watermark Presence Prob.: 0\n",
      "caption : Construction tools sit in a bathroom that has has the walls and floor torn up.\n",
      "Watermark Presence Prob.: 0\n",
      "caption : A bathroom toilet in the middle of being remodeled.\n",
      "Watermark Presence Prob.: 0\n",
      "caption : A bathroom that's being remodeled and has a toilet.\n"
     ]
    },
    {
     "name": "stderr",
     "output_type": "stream",
     "text": [
      " 65%|██████▌   | 130/200 [07:03<03:24,  2.92s/it]"
     ]
    },
    {
     "name": "stdout",
     "output_type": "stream",
     "text": [
      "Watermark Presence Prob.: 0\n",
      "---------- Count = 131 : Visual Paraphrasing for the watermarked version of 313932-------------\n",
      "\n",
      "Image name :  Image_313932.jpg\n",
      "Image id : 313932\n"
     ]
    },
    {
     "data": {
      "application/vnd.jupyter.widget-view+json": {
       "model_id": "085904e8af374edb8e6c1efc04d9860a",
       "version_major": 2,
       "version_minor": 0
      },
      "text/plain": [
       "  0%|          | 0/5 [00:00<?, ?it/s]"
      ]
     },
     "metadata": {},
     "output_type": "display_data"
    },
    {
     "name": "stdout",
     "output_type": "stream",
     "text": [
      "Saving generated images at /raid/home/ashhar21137/watermarking/dwtDctSvd/dwt_paraphrase_0.1/313932\n",
      "Generated Image saved to /raid/home/ashhar21137/watermarking/dwtDctSvd/dwt_paraphrase_0.1/313932/313932_gen_0.png\n",
      "Generated Image saved to /raid/home/ashhar21137/watermarking/dwtDctSvd/dwt_paraphrase_0.1/313932/313932_gen_1.png\n",
      "Generated Image saved to /raid/home/ashhar21137/watermarking/dwtDctSvd/dwt_paraphrase_0.1/313932/313932_gen_2.png\n",
      "Generated Image saved to /raid/home/ashhar21137/watermarking/dwtDctSvd/dwt_paraphrase_0.1/313932/313932_gen_3.png\n",
      "Generated Image saved to /raid/home/ashhar21137/watermarking/dwtDctSvd/dwt_paraphrase_0.1/313932/313932_gen_4.png\n",
      "\n",
      "Number of images generated :  5\n",
      "********** Watermark detection for generated images ***************\n",
      "caption : A stuffed animal standing on a wood platform on top of a table.\n",
      "Watermark Presence Prob.: 0\n",
      "caption : A stuffed large cat sits on the desk in a dark room. \n",
      "Watermark Presence Prob.: 0.0\n",
      "caption : A cat standing on a rock on a table.\n",
      "Watermark Presence Prob.: 0.0\n",
      "caption : A dead stuffed cat sitting on top of a piece of wood.\n",
      "Watermark Presence Prob.: 0.0\n",
      "caption : A stuffed animal displayed on a table in a place.\n"
     ]
    },
    {
     "name": "stderr",
     "output_type": "stream",
     "text": [
      " 66%|██████▌   | 131/200 [07:06<03:19,  2.89s/it]"
     ]
    },
    {
     "name": "stdout",
     "output_type": "stream",
     "text": [
      "Watermark Presence Prob.: 0.0\n",
      "---------- Count = 132 : Visual Paraphrasing for the watermarked version of 477797-------------\n",
      "\n",
      "Image name :  Image_477797.jpg\n",
      "Image id : 477797\n"
     ]
    },
    {
     "data": {
      "application/vnd.jupyter.widget-view+json": {
       "model_id": "d1ad8483b0504b13a42f63af56c34ed0",
       "version_major": 2,
       "version_minor": 0
      },
      "text/plain": [
       "  0%|          | 0/5 [00:00<?, ?it/s]"
      ]
     },
     "metadata": {},
     "output_type": "display_data"
    },
    {
     "name": "stdout",
     "output_type": "stream",
     "text": [
      "Saving generated images at /raid/home/ashhar21137/watermarking/dwtDctSvd/dwt_paraphrase_0.1/477797\n",
      "Generated Image saved to /raid/home/ashhar21137/watermarking/dwtDctSvd/dwt_paraphrase_0.1/477797/477797_gen_0.png\n",
      "Generated Image saved to /raid/home/ashhar21137/watermarking/dwtDctSvd/dwt_paraphrase_0.1/477797/477797_gen_1.png\n",
      "Generated Image saved to /raid/home/ashhar21137/watermarking/dwtDctSvd/dwt_paraphrase_0.1/477797/477797_gen_2.png\n",
      "Generated Image saved to /raid/home/ashhar21137/watermarking/dwtDctSvd/dwt_paraphrase_0.1/477797/477797_gen_3.png\n",
      "Generated Image saved to /raid/home/ashhar21137/watermarking/dwtDctSvd/dwt_paraphrase_0.1/477797/477797_gen_4.png\n",
      "\n",
      "Number of images generated :  5\n",
      "********** Watermark detection for generated images ***************\n",
      "caption : A white platter topped with cakes  next to a platter topped with donuts.\n",
      "Watermark Presence Prob.: 0.0\n",
      "caption : A plate of cake and brownies sits in front of a plate of doughnuts.  \n",
      "Watermark Presence Prob.: 0.0\n",
      "caption : Two large trays displaying a multitude of assorted pastry items.\n",
      "Watermark Presence Prob.: 0.0\n",
      "caption : Sweet treats are served together on a platter. \n"
     ]
    },
    {
     "name": "stderr",
     "output_type": "stream",
     "text": [
      " 66%|██████▌   | 132/200 [07:09<03:15,  2.87s/it]"
     ]
    },
    {
     "name": "stdout",
     "output_type": "stream",
     "text": [
      "Watermark Presence Prob.: 0.0\n",
      "caption : These trays are filled with three kinds of desserts.\n",
      "Watermark Presence Prob.: 0.0\n",
      "---------- Count = 133 : Visual Paraphrasing for the watermarked version of 98760-------------\n",
      "\n",
      "Image name :  Image_98760.jpg\n",
      "Image id : 98760\n"
     ]
    },
    {
     "data": {
      "application/vnd.jupyter.widget-view+json": {
       "model_id": "37456940356a4db9b963e3207611881c",
       "version_major": 2,
       "version_minor": 0
      },
      "text/plain": [
       "  0%|          | 0/5 [00:00<?, ?it/s]"
      ]
     },
     "metadata": {},
     "output_type": "display_data"
    },
    {
     "name": "stdout",
     "output_type": "stream",
     "text": [
      "Saving generated images at /raid/home/ashhar21137/watermarking/dwtDctSvd/dwt_paraphrase_0.1/98760\n",
      "Generated Image saved to /raid/home/ashhar21137/watermarking/dwtDctSvd/dwt_paraphrase_0.1/98760/98760_gen_0.png\n",
      "Generated Image saved to /raid/home/ashhar21137/watermarking/dwtDctSvd/dwt_paraphrase_0.1/98760/98760_gen_1.png\n",
      "Generated Image saved to /raid/home/ashhar21137/watermarking/dwtDctSvd/dwt_paraphrase_0.1/98760/98760_gen_2.png\n",
      "Generated Image saved to /raid/home/ashhar21137/watermarking/dwtDctSvd/dwt_paraphrase_0.1/98760/98760_gen_3.png\n",
      "Generated Image saved to /raid/home/ashhar21137/watermarking/dwtDctSvd/dwt_paraphrase_0.1/98760/98760_gen_4.png\n",
      "\n",
      "Number of images generated :  5\n",
      "********** Watermark detection for generated images ***************\n",
      "caption : A dog sticks its out out the window of a car. \n",
      "Watermark Presence Prob.: 0\n",
      "caption : a brown dog puts his head out of the window of a moving car\n",
      "Watermark Presence Prob.: 0.0\n",
      "caption : A small brown dog sticking it's head out of a car window.\n",
      "Watermark Presence Prob.: 0.0\n",
      "caption : A fluffy dog sticking his head out the window of a moving car. \n"
     ]
    },
    {
     "name": "stderr",
     "output_type": "stream",
     "text": [
      " 66%|██████▋   | 133/200 [07:12<03:15,  2.92s/it]"
     ]
    },
    {
     "name": "stdout",
     "output_type": "stream",
     "text": [
      "Watermark Presence Prob.: 0\n",
      "caption : This is a cute dog sticking his head out of the window of a red car.\n",
      "Watermark Presence Prob.: 0\n",
      "---------- Count = 134 : Visual Paraphrasing for the watermarked version of 513541-------------\n",
      "\n",
      "Image name :  Image_513541.jpg\n",
      "Image id : 513541\n"
     ]
    },
    {
     "data": {
      "application/vnd.jupyter.widget-view+json": {
       "model_id": "6eb1e4bfacda4087b20e8136634a35b2",
       "version_major": 2,
       "version_minor": 0
      },
      "text/plain": [
       "  0%|          | 0/5 [00:00<?, ?it/s]"
      ]
     },
     "metadata": {},
     "output_type": "display_data"
    },
    {
     "name": "stdout",
     "output_type": "stream",
     "text": [
      "Saving generated images at /raid/home/ashhar21137/watermarking/dwtDctSvd/dwt_paraphrase_0.1/513541\n",
      "Generated Image saved to /raid/home/ashhar21137/watermarking/dwtDctSvd/dwt_paraphrase_0.1/513541/513541_gen_0.png\n",
      "Generated Image saved to /raid/home/ashhar21137/watermarking/dwtDctSvd/dwt_paraphrase_0.1/513541/513541_gen_1.png\n",
      "Generated Image saved to /raid/home/ashhar21137/watermarking/dwtDctSvd/dwt_paraphrase_0.1/513541/513541_gen_2.png\n",
      "Generated Image saved to /raid/home/ashhar21137/watermarking/dwtDctSvd/dwt_paraphrase_0.1/513541/513541_gen_3.png\n",
      "Generated Image saved to /raid/home/ashhar21137/watermarking/dwtDctSvd/dwt_paraphrase_0.1/513541/513541_gen_4.png\n",
      "\n",
      "Number of images generated :  5\n",
      "********** Watermark detection for generated images ***************\n",
      "caption : A blue fighter airplane is parked at a show.\n",
      "Watermark Presence Prob.: 0\n",
      "caption : An old style airplane is parked while people walk in the background.\n",
      "Watermark Presence Prob.: 0\n",
      "caption : A small plane is parked and on display. \n"
     ]
    },
    {
     "name": "stderr",
     "output_type": "stream",
     "text": [
      " 67%|██████▋   | 134/200 [07:15<03:22,  3.07s/it]"
     ]
    },
    {
     "name": "stdout",
     "output_type": "stream",
     "text": [
      "Watermark Presence Prob.: 0.0\n",
      "caption : A blue propeller plane is on display at an airshow.\n",
      "Watermark Presence Prob.: 0.0\n",
      "caption : A propeller plan that is sitting on concrete.\n",
      "Watermark Presence Prob.: 0\n",
      "---------- Count = 135 : Visual Paraphrasing for the watermarked version of 136461-------------\n",
      "\n",
      "Image name :  Image_136461.jpg\n",
      "Image id : 136461\n"
     ]
    },
    {
     "data": {
      "application/vnd.jupyter.widget-view+json": {
       "model_id": "900c998c29984006a1501a6d7c716c04",
       "version_major": 2,
       "version_minor": 0
      },
      "text/plain": [
       "  0%|          | 0/5 [00:00<?, ?it/s]"
      ]
     },
     "metadata": {},
     "output_type": "display_data"
    },
    {
     "name": "stdout",
     "output_type": "stream",
     "text": [
      "Saving generated images at /raid/home/ashhar21137/watermarking/dwtDctSvd/dwt_paraphrase_0.1/136461\n",
      "Generated Image saved to /raid/home/ashhar21137/watermarking/dwtDctSvd/dwt_paraphrase_0.1/136461/136461_gen_0.png\n",
      "Generated Image saved to /raid/home/ashhar21137/watermarking/dwtDctSvd/dwt_paraphrase_0.1/136461/136461_gen_1.png\n",
      "Generated Image saved to /raid/home/ashhar21137/watermarking/dwtDctSvd/dwt_paraphrase_0.1/136461/136461_gen_2.png\n",
      "Generated Image saved to /raid/home/ashhar21137/watermarking/dwtDctSvd/dwt_paraphrase_0.1/136461/136461_gen_3.png\n",
      "Generated Image saved to /raid/home/ashhar21137/watermarking/dwtDctSvd/dwt_paraphrase_0.1/136461/136461_gen_4.png\n",
      "\n",
      "Number of images generated :  5\n",
      "********** Watermark detection for generated images ***************\n",
      "caption : A bus passing through a four way intersection with traffic light.\n",
      "Watermark Presence Prob.: 0.0\n",
      "caption : a blue and white bus some cars a yellow bus and trees\n",
      "Watermark Presence Prob.: 0.0\n",
      "caption : a school bus is stopped at an intersection light while a bus crosses in the opposite direction\n",
      "Watermark Presence Prob.: 0.0\n",
      "caption : A large bus is crossing through an intersection.\n",
      "Watermark Presence Prob.: 0.0\n",
      "caption : One bus stopped at an intersection, while another goes past it.\n"
     ]
    },
    {
     "name": "stderr",
     "output_type": "stream",
     "text": [
      " 68%|██████▊   | 135/200 [07:18<03:27,  3.19s/it]"
     ]
    },
    {
     "name": "stdout",
     "output_type": "stream",
     "text": [
      "Watermark Presence Prob.: 0.0\n",
      "---------- Count = 136 : Visual Paraphrasing for the watermarked version of 85685-------------\n",
      "\n",
      "Image name :  Image_85685.jpg\n",
      "Image id : 85685\n"
     ]
    },
    {
     "data": {
      "application/vnd.jupyter.widget-view+json": {
       "model_id": "02f904b5dc684fae8f3da419010aba50",
       "version_major": 2,
       "version_minor": 0
      },
      "text/plain": [
       "  0%|          | 0/5 [00:00<?, ?it/s]"
      ]
     },
     "metadata": {},
     "output_type": "display_data"
    },
    {
     "name": "stdout",
     "output_type": "stream",
     "text": [
      "Saving generated images at /raid/home/ashhar21137/watermarking/dwtDctSvd/dwt_paraphrase_0.1/85685\n",
      "Generated Image saved to /raid/home/ashhar21137/watermarking/dwtDctSvd/dwt_paraphrase_0.1/85685/85685_gen_0.png\n",
      "Generated Image saved to /raid/home/ashhar21137/watermarking/dwtDctSvd/dwt_paraphrase_0.1/85685/85685_gen_1.png\n",
      "Generated Image saved to /raid/home/ashhar21137/watermarking/dwtDctSvd/dwt_paraphrase_0.1/85685/85685_gen_2.png\n",
      "Generated Image saved to /raid/home/ashhar21137/watermarking/dwtDctSvd/dwt_paraphrase_0.1/85685/85685_gen_3.png\n",
      "Generated Image saved to /raid/home/ashhar21137/watermarking/dwtDctSvd/dwt_paraphrase_0.1/85685/85685_gen_4.png\n",
      "\n",
      "Number of images generated :  5\n",
      "********** Watermark detection for generated images ***************\n",
      "caption : An old army truck sitting by a yellow fire hydrant.\n",
      "Watermark Presence Prob.: 0\n",
      "caption : An old pick up truck parked next to a fire hydrant.\n",
      "Watermark Presence Prob.: 0\n",
      "caption : an old truck sitting next to a yellow fire hydrant \n",
      "Watermark Presence Prob.: 0\n",
      "caption : A photograph of an outside with numerous things in the scene.\n",
      "\n"
     ]
    },
    {
     "name": "stderr",
     "output_type": "stream",
     "text": [
      " 68%|██████▊   | 136/200 [07:21<03:21,  3.14s/it]"
     ]
    },
    {
     "name": "stdout",
     "output_type": "stream",
     "text": [
      "Watermark Presence Prob.: 0\n",
      "caption : A yellow fire hydrant next to an army truck.\n",
      "Watermark Presence Prob.: 0\n",
      "---------- Count = 137 : Visual Paraphrasing for the watermarked version of 356702-------------\n",
      "\n",
      "Image name :  Image_356702.jpg\n",
      "Image id : 356702\n"
     ]
    },
    {
     "data": {
      "application/vnd.jupyter.widget-view+json": {
       "model_id": "e4798f77d7ef4013af6cd07503f43ff6",
       "version_major": 2,
       "version_minor": 0
      },
      "text/plain": [
       "  0%|          | 0/5 [00:00<?, ?it/s]"
      ]
     },
     "metadata": {},
     "output_type": "display_data"
    },
    {
     "name": "stdout",
     "output_type": "stream",
     "text": [
      "Saving generated images at /raid/home/ashhar21137/watermarking/dwtDctSvd/dwt_paraphrase_0.1/356702\n",
      "Generated Image saved to /raid/home/ashhar21137/watermarking/dwtDctSvd/dwt_paraphrase_0.1/356702/356702_gen_0.png\n",
      "Generated Image saved to /raid/home/ashhar21137/watermarking/dwtDctSvd/dwt_paraphrase_0.1/356702/356702_gen_1.png\n",
      "Generated Image saved to /raid/home/ashhar21137/watermarking/dwtDctSvd/dwt_paraphrase_0.1/356702/356702_gen_2.png\n",
      "Generated Image saved to /raid/home/ashhar21137/watermarking/dwtDctSvd/dwt_paraphrase_0.1/356702/356702_gen_3.png\n",
      "Generated Image saved to /raid/home/ashhar21137/watermarking/dwtDctSvd/dwt_paraphrase_0.1/356702/356702_gen_4.png\n",
      "\n",
      "Number of images generated :  5\n",
      "********** Watermark detection for generated images ***************\n",
      "caption : A couple of young men sitting in front of a child's laptop.\n",
      "Watermark Presence Prob.: 0\n",
      "caption : A pair of men looking at a tablet perched on a table.\n",
      "Watermark Presence Prob.: 0\n",
      "caption : Two men laugh as they look at a computer.\n",
      "Watermark Presence Prob.: 0\n",
      "caption : Two men are smiling looking at a laptop computer.\n"
     ]
    },
    {
     "name": "stderr",
     "output_type": "stream",
     "text": [
      " 68%|██████▊   | 137/200 [07:25<03:23,  3.22s/it]"
     ]
    },
    {
     "name": "stdout",
     "output_type": "stream",
     "text": [
      "Watermark Presence Prob.: 0\n",
      "caption : Two men happily working on a plastic computer\n",
      "Watermark Presence Prob.: 0\n",
      "---------- Count = 138 : Visual Paraphrasing for the watermarked version of 424102-------------\n",
      "\n",
      "Image name :  Image_424102.jpg\n",
      "Image id : 424102\n"
     ]
    },
    {
     "data": {
      "application/vnd.jupyter.widget-view+json": {
       "model_id": "35900cc740cd4dbb8ce83585340b266c",
       "version_major": 2,
       "version_minor": 0
      },
      "text/plain": [
       "  0%|          | 0/5 [00:00<?, ?it/s]"
      ]
     },
     "metadata": {},
     "output_type": "display_data"
    },
    {
     "name": "stdout",
     "output_type": "stream",
     "text": [
      "Saving generated images at /raid/home/ashhar21137/watermarking/dwtDctSvd/dwt_paraphrase_0.1/424102\n",
      "Generated Image saved to /raid/home/ashhar21137/watermarking/dwtDctSvd/dwt_paraphrase_0.1/424102/424102_gen_0.png\n",
      "Generated Image saved to /raid/home/ashhar21137/watermarking/dwtDctSvd/dwt_paraphrase_0.1/424102/424102_gen_1.png\n",
      "Generated Image saved to /raid/home/ashhar21137/watermarking/dwtDctSvd/dwt_paraphrase_0.1/424102/424102_gen_2.png\n",
      "Generated Image saved to /raid/home/ashhar21137/watermarking/dwtDctSvd/dwt_paraphrase_0.1/424102/424102_gen_3.png\n",
      "Generated Image saved to /raid/home/ashhar21137/watermarking/dwtDctSvd/dwt_paraphrase_0.1/424102/424102_gen_4.png\n",
      "\n",
      "Number of images generated :  5\n",
      "********** Watermark detection for generated images ***************\n",
      "caption : A man throws a model airplane into the air.\n",
      "Watermark Presence Prob.: 0\n",
      "caption : A man is flying a model plane in a field.\n",
      "Watermark Presence Prob.: 0\n",
      "caption : A man with an airplane over his head while pointing.\n"
     ]
    },
    {
     "name": "stderr",
     "output_type": "stream",
     "text": [
      " 69%|██████▉   | 138/200 [07:28<03:21,  3.24s/it]"
     ]
    },
    {
     "name": "stdout",
     "output_type": "stream",
     "text": [
      "Watermark Presence Prob.: 0\n",
      "caption : A person stands outside throwing a model airplane.\n",
      "Watermark Presence Prob.: 0.0\n",
      "caption : A man is throwing a toy plane through the air.\n",
      "Watermark Presence Prob.: 0\n",
      "---------- Count = 139 : Visual Paraphrasing for the watermarked version of 467311-------------\n",
      "\n",
      "Image name :  Image_467311.jpg\n",
      "Image id : 467311\n"
     ]
    },
    {
     "data": {
      "application/vnd.jupyter.widget-view+json": {
       "model_id": "b136c3c79bea40548b04c505e8bad082",
       "version_major": 2,
       "version_minor": 0
      },
      "text/plain": [
       "  0%|          | 0/5 [00:00<?, ?it/s]"
      ]
     },
     "metadata": {},
     "output_type": "display_data"
    },
    {
     "name": "stdout",
     "output_type": "stream",
     "text": [
      "Saving generated images at /raid/home/ashhar21137/watermarking/dwtDctSvd/dwt_paraphrase_0.1/467311\n",
      "Generated Image saved to /raid/home/ashhar21137/watermarking/dwtDctSvd/dwt_paraphrase_0.1/467311/467311_gen_0.png\n",
      "Generated Image saved to /raid/home/ashhar21137/watermarking/dwtDctSvd/dwt_paraphrase_0.1/467311/467311_gen_1.png\n",
      "Generated Image saved to /raid/home/ashhar21137/watermarking/dwtDctSvd/dwt_paraphrase_0.1/467311/467311_gen_2.png\n",
      "Generated Image saved to /raid/home/ashhar21137/watermarking/dwtDctSvd/dwt_paraphrase_0.1/467311/467311_gen_3.png\n",
      "Generated Image saved to /raid/home/ashhar21137/watermarking/dwtDctSvd/dwt_paraphrase_0.1/467311/467311_gen_4.png\n",
      "\n",
      "Number of images generated :  5\n",
      "********** Watermark detection for generated images ***************\n",
      "caption : A bus and a few other vehicles that appear to be traveling down the road.\n",
      "Watermark Presence Prob.: 0.0\n",
      "caption : A yellow automobile behind a bus in a city. \n",
      "Watermark Presence Prob.: 0\n",
      "caption : The yellow truck is riding behind the grey city bus. \n"
     ]
    },
    {
     "name": "stderr",
     "output_type": "stream",
     "text": [
      " 70%|██████▉   | 139/200 [07:31<03:14,  3.18s/it]"
     ]
    },
    {
     "name": "stdout",
     "output_type": "stream",
     "text": [
      "Watermark Presence Prob.: 0.0\n",
      "caption : A bus with an advertisement and a yellow hummer behind it\n",
      "Watermark Presence Prob.: 0.0\n",
      "caption : A truck that is sitting behind a bus.\n",
      "Watermark Presence Prob.: 0\n",
      "---------- Count = 140 : Visual Paraphrasing for the watermarked version of 540988-------------\n",
      "\n",
      "Image name :  Image_540988.jpg\n",
      "Image id : 540988\n"
     ]
    },
    {
     "data": {
      "application/vnd.jupyter.widget-view+json": {
       "model_id": "b68de3ba3d5f48418dd6cca902dc1c4f",
       "version_major": 2,
       "version_minor": 0
      },
      "text/plain": [
       "  0%|          | 0/5 [00:00<?, ?it/s]"
      ]
     },
     "metadata": {},
     "output_type": "display_data"
    },
    {
     "name": "stdout",
     "output_type": "stream",
     "text": [
      "Saving generated images at /raid/home/ashhar21137/watermarking/dwtDctSvd/dwt_paraphrase_0.1/540988\n",
      "Generated Image saved to /raid/home/ashhar21137/watermarking/dwtDctSvd/dwt_paraphrase_0.1/540988/540988_gen_0.png\n",
      "Generated Image saved to /raid/home/ashhar21137/watermarking/dwtDctSvd/dwt_paraphrase_0.1/540988/540988_gen_1.png\n",
      "Generated Image saved to /raid/home/ashhar21137/watermarking/dwtDctSvd/dwt_paraphrase_0.1/540988/540988_gen_2.png\n",
      "Generated Image saved to /raid/home/ashhar21137/watermarking/dwtDctSvd/dwt_paraphrase_0.1/540988/540988_gen_3.png\n",
      "Generated Image saved to /raid/home/ashhar21137/watermarking/dwtDctSvd/dwt_paraphrase_0.1/540988/540988_gen_4.png\n",
      "\n",
      "Number of images generated :  5\n",
      "********** Watermark detection for generated images ***************\n",
      "caption : A bench dedicated to the memory of Lloyd 'n\" Milly.\n",
      "Watermark Presence Prob.: 0\n",
      "caption : A bench is inscribed with the memory of a person.\n",
      "Watermark Presence Prob.: 0\n",
      "caption : A wooden bench is dedicated to the memory of Lloyd 'n' Milly.\n",
      "Watermark Presence Prob.: 0.0\n",
      "caption : This is a memorial bench with a can sitting on it.\n"
     ]
    },
    {
     "name": "stderr",
     "output_type": "stream",
     "text": [
      " 70%|███████   | 140/200 [07:34<03:08,  3.14s/it]"
     ]
    },
    {
     "name": "stdout",
     "output_type": "stream",
     "text": [
      "Watermark Presence Prob.: 0\n",
      "caption : A memorial bench with a can of liquid sitting on top.\n",
      "Watermark Presence Prob.: 0\n",
      "---------- Count = 141 : Visual Paraphrasing for the watermarked version of 301778-------------\n",
      "\n",
      "Image name :  Image_301778.jpg\n",
      "Image id : 301778\n"
     ]
    },
    {
     "data": {
      "application/vnd.jupyter.widget-view+json": {
       "model_id": "da2a6b0e6e2a4d9385baaaf722cfd68f",
       "version_major": 2,
       "version_minor": 0
      },
      "text/plain": [
       "  0%|          | 0/5 [00:00<?, ?it/s]"
      ]
     },
     "metadata": {},
     "output_type": "display_data"
    },
    {
     "name": "stdout",
     "output_type": "stream",
     "text": [
      "Saving generated images at /raid/home/ashhar21137/watermarking/dwtDctSvd/dwt_paraphrase_0.1/301778\n",
      "Generated Image saved to /raid/home/ashhar21137/watermarking/dwtDctSvd/dwt_paraphrase_0.1/301778/301778_gen_0.png\n",
      "Generated Image saved to /raid/home/ashhar21137/watermarking/dwtDctSvd/dwt_paraphrase_0.1/301778/301778_gen_1.png\n",
      "Generated Image saved to /raid/home/ashhar21137/watermarking/dwtDctSvd/dwt_paraphrase_0.1/301778/301778_gen_2.png\n",
      "Generated Image saved to /raid/home/ashhar21137/watermarking/dwtDctSvd/dwt_paraphrase_0.1/301778/301778_gen_3.png\n",
      "Generated Image saved to /raid/home/ashhar21137/watermarking/dwtDctSvd/dwt_paraphrase_0.1/301778/301778_gen_4.png\n",
      "\n",
      "Number of images generated :  5\n",
      "********** Watermark detection for generated images ***************\n",
      "caption : Dirty bathroom floor with a toilet and a toilet brush next to it.\n",
      "Watermark Presence Prob.: 0.0\n",
      "caption : A gas station toilet has not been cleaned in months\n",
      "Watermark Presence Prob.: 0.0\n",
      "caption : A white toilet with black water around it.\n",
      "Watermark Presence Prob.: 0\n",
      "caption : A toilet and a toilet cleaning brush on a dirty floor.\n"
     ]
    },
    {
     "name": "stderr",
     "output_type": "stream",
     "text": [
      " 70%|███████   | 141/200 [07:38<03:08,  3.19s/it]"
     ]
    },
    {
     "name": "stdout",
     "output_type": "stream",
     "text": [
      "Watermark Presence Prob.: 0\n",
      "caption : A toilet that is in a dirty bathroom.\n",
      "Watermark Presence Prob.: 0.0\n",
      "---------- Count = 142 : Visual Paraphrasing for the watermarked version of 388911-------------\n",
      "\n",
      "Image name :  Image_388911.jpg\n",
      "Image id : 388911\n"
     ]
    },
    {
     "data": {
      "application/vnd.jupyter.widget-view+json": {
       "model_id": "7b241f67af014278be0b59557954e44e",
       "version_major": 2,
       "version_minor": 0
      },
      "text/plain": [
       "  0%|          | 0/5 [00:00<?, ?it/s]"
      ]
     },
     "metadata": {},
     "output_type": "display_data"
    },
    {
     "name": "stdout",
     "output_type": "stream",
     "text": [
      "Saving generated images at /raid/home/ashhar21137/watermarking/dwtDctSvd/dwt_paraphrase_0.1/388911\n",
      "Generated Image saved to /raid/home/ashhar21137/watermarking/dwtDctSvd/dwt_paraphrase_0.1/388911/388911_gen_0.png\n",
      "Generated Image saved to /raid/home/ashhar21137/watermarking/dwtDctSvd/dwt_paraphrase_0.1/388911/388911_gen_1.png\n",
      "Generated Image saved to /raid/home/ashhar21137/watermarking/dwtDctSvd/dwt_paraphrase_0.1/388911/388911_gen_2.png\n",
      "Generated Image saved to /raid/home/ashhar21137/watermarking/dwtDctSvd/dwt_paraphrase_0.1/388911/388911_gen_3.png\n",
      "Generated Image saved to /raid/home/ashhar21137/watermarking/dwtDctSvd/dwt_paraphrase_0.1/388911/388911_gen_4.png\n",
      "\n",
      "Number of images generated :  5\n",
      "********** Watermark detection for generated images ***************\n",
      "caption : A room with a toilet and construction supplies.\n",
      "Watermark Presence Prob.: 0\n",
      "caption : The toilet is being installed during the construction of a bathroom.\n",
      "Watermark Presence Prob.: 0\n",
      "caption : A room with a toilet and a sink on the floor\n",
      "Watermark Presence Prob.: 0\n",
      "caption : a bathroom with a toilet and square hole in the wall a d a pipe on the ground\n",
      "Watermark Presence Prob.: 0\n",
      "caption : A bathroom with white toilet and sink installations.\n"
     ]
    },
    {
     "name": "stderr",
     "output_type": "stream",
     "text": [
      " 71%|███████   | 142/200 [07:40<02:59,  3.09s/it]"
     ]
    },
    {
     "name": "stdout",
     "output_type": "stream",
     "text": [
      "Watermark Presence Prob.: 0\n",
      "---------- Count = 143 : Visual Paraphrasing for the watermarked version of 409382-------------\n",
      "\n",
      "Image name :  Image_409382.jpg\n",
      "Image id : 409382\n"
     ]
    },
    {
     "data": {
      "application/vnd.jupyter.widget-view+json": {
       "model_id": "8d6acbc9540d4208bda79f021a39cf19",
       "version_major": 2,
       "version_minor": 0
      },
      "text/plain": [
       "  0%|          | 0/5 [00:00<?, ?it/s]"
      ]
     },
     "metadata": {},
     "output_type": "display_data"
    },
    {
     "name": "stdout",
     "output_type": "stream",
     "text": [
      "Saving generated images at /raid/home/ashhar21137/watermarking/dwtDctSvd/dwt_paraphrase_0.1/409382\n",
      "Generated Image saved to /raid/home/ashhar21137/watermarking/dwtDctSvd/dwt_paraphrase_0.1/409382/409382_gen_0.png\n",
      "Generated Image saved to /raid/home/ashhar21137/watermarking/dwtDctSvd/dwt_paraphrase_0.1/409382/409382_gen_1.png\n",
      "Generated Image saved to /raid/home/ashhar21137/watermarking/dwtDctSvd/dwt_paraphrase_0.1/409382/409382_gen_2.png\n",
      "Generated Image saved to /raid/home/ashhar21137/watermarking/dwtDctSvd/dwt_paraphrase_0.1/409382/409382_gen_3.png\n",
      "Generated Image saved to /raid/home/ashhar21137/watermarking/dwtDctSvd/dwt_paraphrase_0.1/409382/409382_gen_4.png\n",
      "\n",
      "Number of images generated :  5\n",
      "********** Watermark detection for generated images ***************\n",
      "caption : People on a skateboard ramp with one doing a trick and one with skateboard on his head.\n",
      "Watermark Presence Prob.: 0.0\n",
      "caption : two boys sitting down one has his skate board on his head\n",
      "Watermark Presence Prob.: 0.0\n",
      "caption : A couple of young men sitting in a skate park.\n"
     ]
    },
    {
     "name": "stderr",
     "output_type": "stream",
     "text": [
      " 72%|███████▏  | 143/200 [07:43<02:48,  2.96s/it]"
     ]
    },
    {
     "name": "stdout",
     "output_type": "stream",
     "text": [
      "Watermark Presence Prob.: 0.0\n",
      "caption : Group of children entertaining. Selves in a skatepark\n",
      "Watermark Presence Prob.: 0.0\n",
      "caption : A man performs skateboard tricks while two onlookers watch, one with a skateboard on his head\n",
      "Watermark Presence Prob.: 0.0\n",
      "---------- Count = 144 : Visual Paraphrasing for the watermarked version of 292835-------------\n",
      "\n",
      "Image name :  Image_292835.jpg\n",
      "Image id : 292835\n"
     ]
    },
    {
     "data": {
      "application/vnd.jupyter.widget-view+json": {
       "model_id": "b0d977b68c364f468a998b723150afce",
       "version_major": 2,
       "version_minor": 0
      },
      "text/plain": [
       "  0%|          | 0/5 [00:00<?, ?it/s]"
      ]
     },
     "metadata": {},
     "output_type": "display_data"
    },
    {
     "name": "stdout",
     "output_type": "stream",
     "text": [
      "Saving generated images at /raid/home/ashhar21137/watermarking/dwtDctSvd/dwt_paraphrase_0.1/292835\n",
      "Generated Image saved to /raid/home/ashhar21137/watermarking/dwtDctSvd/dwt_paraphrase_0.1/292835/292835_gen_0.png\n",
      "Generated Image saved to /raid/home/ashhar21137/watermarking/dwtDctSvd/dwt_paraphrase_0.1/292835/292835_gen_1.png\n",
      "Generated Image saved to /raid/home/ashhar21137/watermarking/dwtDctSvd/dwt_paraphrase_0.1/292835/292835_gen_2.png\n",
      "Generated Image saved to /raid/home/ashhar21137/watermarking/dwtDctSvd/dwt_paraphrase_0.1/292835/292835_gen_3.png\n",
      "Generated Image saved to /raid/home/ashhar21137/watermarking/dwtDctSvd/dwt_paraphrase_0.1/292835/292835_gen_4.png\n",
      "\n",
      "Number of images generated :  5\n",
      "********** Watermark detection for generated images ***************\n",
      "caption : A view of a very dirty bathroom that needs to be cleaned.\n",
      "Watermark Presence Prob.: 0\n",
      "caption : A bowl is on the floor in front of a broken toilet.\n",
      "Watermark Presence Prob.: 0\n",
      "caption : A white toilet in a bathroom under a window.\n",
      "Watermark Presence Prob.: 0\n",
      "caption : a bathroom that has a toilet and some nasty stuff all over\n",
      "Watermark Presence Prob.: 0\n",
      "caption : A bowl sitting in a bathroom across from a toilet.\n"
     ]
    },
    {
     "name": "stderr",
     "output_type": "stream",
     "text": [
      " 72%|███████▏  | 144/200 [07:46<02:40,  2.86s/it]"
     ]
    },
    {
     "name": "stdout",
     "output_type": "stream",
     "text": [
      "Watermark Presence Prob.: 0.0\n",
      "---------- Count = 145 : Visual Paraphrasing for the watermarked version of 311914-------------\n",
      "\n",
      "Image name :  Image_311914.jpg\n",
      "Image id : 311914\n"
     ]
    },
    {
     "data": {
      "application/vnd.jupyter.widget-view+json": {
       "model_id": "5a78bc66d84244dc902777fbfe1ee70f",
       "version_major": 2,
       "version_minor": 0
      },
      "text/plain": [
       "  0%|          | 0/5 [00:00<?, ?it/s]"
      ]
     },
     "metadata": {},
     "output_type": "display_data"
    },
    {
     "name": "stdout",
     "output_type": "stream",
     "text": [
      "Saving generated images at /raid/home/ashhar21137/watermarking/dwtDctSvd/dwt_paraphrase_0.1/311914\n",
      "Generated Image saved to /raid/home/ashhar21137/watermarking/dwtDctSvd/dwt_paraphrase_0.1/311914/311914_gen_0.png\n",
      "Generated Image saved to /raid/home/ashhar21137/watermarking/dwtDctSvd/dwt_paraphrase_0.1/311914/311914_gen_1.png\n",
      "Generated Image saved to /raid/home/ashhar21137/watermarking/dwtDctSvd/dwt_paraphrase_0.1/311914/311914_gen_2.png\n",
      "Generated Image saved to /raid/home/ashhar21137/watermarking/dwtDctSvd/dwt_paraphrase_0.1/311914/311914_gen_3.png\n",
      "Generated Image saved to /raid/home/ashhar21137/watermarking/dwtDctSvd/dwt_paraphrase_0.1/311914/311914_gen_4.png\n",
      "\n",
      "Number of images generated :  5\n",
      "********** Watermark detection for generated images ***************\n",
      "caption : A school bus parked with it's stop sign closed.\n",
      "Watermark Presence Prob.: 0\n",
      "caption : A stop sign is on the side of a school bus. \n",
      "Watermark Presence Prob.: 0\n",
      "caption : a bus sits stopped with a sign on the side of it \n",
      "Watermark Presence Prob.: 0\n",
      "caption : Side of a school bus showing a stop sign.\n",
      "Watermark Presence Prob.: 0.0\n",
      "caption : A view of a stop sign, on the side of a bus.\n"
     ]
    },
    {
     "name": "stderr",
     "output_type": "stream",
     "text": [
      " 72%|███████▎  | 145/200 [07:48<02:30,  2.75s/it]"
     ]
    },
    {
     "name": "stdout",
     "output_type": "stream",
     "text": [
      "Watermark Presence Prob.: 0\n",
      "---------- Count = 146 : Visual Paraphrasing for the watermarked version of 492386-------------\n",
      "\n",
      "Image name :  Image_492386.jpg\n",
      "Image id : 492386\n"
     ]
    },
    {
     "data": {
      "application/vnd.jupyter.widget-view+json": {
       "model_id": "a0eed95c38914a8ea5669033eb03e463",
       "version_major": 2,
       "version_minor": 0
      },
      "text/plain": [
       "  0%|          | 0/5 [00:00<?, ?it/s]"
      ]
     },
     "metadata": {},
     "output_type": "display_data"
    },
    {
     "name": "stdout",
     "output_type": "stream",
     "text": [
      "Saving generated images at /raid/home/ashhar21137/watermarking/dwtDctSvd/dwt_paraphrase_0.1/492386\n",
      "Generated Image saved to /raid/home/ashhar21137/watermarking/dwtDctSvd/dwt_paraphrase_0.1/492386/492386_gen_0.png\n",
      "Generated Image saved to /raid/home/ashhar21137/watermarking/dwtDctSvd/dwt_paraphrase_0.1/492386/492386_gen_1.png\n",
      "Generated Image saved to /raid/home/ashhar21137/watermarking/dwtDctSvd/dwt_paraphrase_0.1/492386/492386_gen_2.png\n",
      "Generated Image saved to /raid/home/ashhar21137/watermarking/dwtDctSvd/dwt_paraphrase_0.1/492386/492386_gen_3.png\n",
      "Generated Image saved to /raid/home/ashhar21137/watermarking/dwtDctSvd/dwt_paraphrase_0.1/492386/492386_gen_4.png\n",
      "\n",
      "Number of images generated :  5\n",
      "********** Watermark detection for generated images ***************\n",
      "caption : A red double decker bus driving down a street.\n",
      "Watermark Presence Prob.: 0\n",
      "caption : A red double decker bus full of people\n",
      "Watermark Presence Prob.: 0\n",
      "caption : Red double decker bus making its way down the road\n"
     ]
    },
    {
     "name": "stderr",
     "output_type": "stream",
     "text": [
      " 73%|███████▎  | 146/200 [07:51<02:25,  2.70s/it]"
     ]
    },
    {
     "name": "stdout",
     "output_type": "stream",
     "text": [
      "Watermark Presence Prob.: 0\n",
      "caption : a double decker red bus going down the road\n",
      "Watermark Presence Prob.: 0.0\n",
      "caption : A double decker bus is running down a busy street.\n",
      "Watermark Presence Prob.: 0\n",
      "---------- Count = 147 : Visual Paraphrasing for the watermarked version of 69675-------------\n",
      "\n",
      "Image name :  Image_69675.jpg\n",
      "Image id : 69675\n"
     ]
    },
    {
     "data": {
      "application/vnd.jupyter.widget-view+json": {
       "model_id": "cd8f8fab42704472ac9ec7496590f522",
       "version_major": 2,
       "version_minor": 0
      },
      "text/plain": [
       "  0%|          | 0/5 [00:00<?, ?it/s]"
      ]
     },
     "metadata": {},
     "output_type": "display_data"
    },
    {
     "name": "stdout",
     "output_type": "stream",
     "text": [
      "Saving generated images at /raid/home/ashhar21137/watermarking/dwtDctSvd/dwt_paraphrase_0.1/69675\n",
      "Generated Image saved to /raid/home/ashhar21137/watermarking/dwtDctSvd/dwt_paraphrase_0.1/69675/69675_gen_0.png\n",
      "Generated Image saved to /raid/home/ashhar21137/watermarking/dwtDctSvd/dwt_paraphrase_0.1/69675/69675_gen_1.png\n",
      "Generated Image saved to /raid/home/ashhar21137/watermarking/dwtDctSvd/dwt_paraphrase_0.1/69675/69675_gen_2.png\n",
      "Generated Image saved to /raid/home/ashhar21137/watermarking/dwtDctSvd/dwt_paraphrase_0.1/69675/69675_gen_3.png\n",
      "Generated Image saved to /raid/home/ashhar21137/watermarking/dwtDctSvd/dwt_paraphrase_0.1/69675/69675_gen_4.png\n",
      "\n",
      "Number of images generated :  5\n",
      "********** Watermark detection for generated images ***************\n",
      "caption : A child and woman are cooking in the kitchen.\n",
      "Watermark Presence Prob.: 0.0\n",
      "caption : A woman glances at a young girl's cooking on the stovetop\n",
      "Watermark Presence Prob.: 0.0\n",
      "caption : A young girl and a woman preparing food in a kitchen.\n",
      "Watermark Presence Prob.: 0\n",
      "caption : a young person and an older person in a kitchen\n"
     ]
    },
    {
     "name": "stderr",
     "output_type": "stream",
     "text": [
      " 74%|███████▎  | 147/200 [07:53<02:20,  2.65s/it]"
     ]
    },
    {
     "name": "stdout",
     "output_type": "stream",
     "text": [
      "Watermark Presence Prob.: 0\n",
      "caption : Two women cooking on stove in a kitchen together.\n",
      "Watermark Presence Prob.: 0.0\n",
      "---------- Count = 148 : Visual Paraphrasing for the watermarked version of 189993-------------\n",
      "\n",
      "Image name :  Image_189993.jpg\n",
      "Image id : 189993\n"
     ]
    },
    {
     "data": {
      "application/vnd.jupyter.widget-view+json": {
       "model_id": "8537a34ef41e4847957f8a8e22d60b69",
       "version_major": 2,
       "version_minor": 0
      },
      "text/plain": [
       "  0%|          | 0/5 [00:00<?, ?it/s]"
      ]
     },
     "metadata": {},
     "output_type": "display_data"
    },
    {
     "name": "stdout",
     "output_type": "stream",
     "text": [
      "Saving generated images at /raid/home/ashhar21137/watermarking/dwtDctSvd/dwt_paraphrase_0.1/189993\n",
      "Generated Image saved to /raid/home/ashhar21137/watermarking/dwtDctSvd/dwt_paraphrase_0.1/189993/189993_gen_0.png\n",
      "Generated Image saved to /raid/home/ashhar21137/watermarking/dwtDctSvd/dwt_paraphrase_0.1/189993/189993_gen_1.png\n",
      "Generated Image saved to /raid/home/ashhar21137/watermarking/dwtDctSvd/dwt_paraphrase_0.1/189993/189993_gen_2.png\n",
      "Generated Image saved to /raid/home/ashhar21137/watermarking/dwtDctSvd/dwt_paraphrase_0.1/189993/189993_gen_3.png\n",
      "Generated Image saved to /raid/home/ashhar21137/watermarking/dwtDctSvd/dwt_paraphrase_0.1/189993/189993_gen_4.png\n",
      "\n",
      "Number of images generated :  5\n",
      "********** Watermark detection for generated images ***************\n",
      "caption : A black bear on display in a library.\n",
      "Watermark Presence Prob.: 0\n",
      "caption : A mounted bear in a display case in a library.\n",
      "Watermark Presence Prob.: 0\n",
      "caption : A taxidermy bear on display in a library.\n",
      "Watermark Presence Prob.: 0\n",
      "caption : A view of a fake bear in a glass box.\n"
     ]
    },
    {
     "name": "stderr",
     "output_type": "stream",
     "text": [
      " 74%|███████▍  | 148/200 [07:56<02:18,  2.66s/it]"
     ]
    },
    {
     "name": "stdout",
     "output_type": "stream",
     "text": [
      "Watermark Presence Prob.: 0\n",
      "caption : A stuffed bear is in a display case in a library. \n",
      "Watermark Presence Prob.: 0\n",
      "---------- Count = 149 : Visual Paraphrasing for the watermarked version of 265709-------------\n",
      "\n",
      "Image name :  Image_265709.jpg\n",
      "Image id : 265709\n"
     ]
    },
    {
     "data": {
      "application/vnd.jupyter.widget-view+json": {
       "model_id": "41a65dec6d2b46629f8bdca004a6727f",
       "version_major": 2,
       "version_minor": 0
      },
      "text/plain": [
       "  0%|          | 0/5 [00:00<?, ?it/s]"
      ]
     },
     "metadata": {},
     "output_type": "display_data"
    },
    {
     "name": "stdout",
     "output_type": "stream",
     "text": [
      "Saving generated images at /raid/home/ashhar21137/watermarking/dwtDctSvd/dwt_paraphrase_0.1/265709\n",
      "Generated Image saved to /raid/home/ashhar21137/watermarking/dwtDctSvd/dwt_paraphrase_0.1/265709/265709_gen_0.png\n",
      "Generated Image saved to /raid/home/ashhar21137/watermarking/dwtDctSvd/dwt_paraphrase_0.1/265709/265709_gen_1.png\n",
      "Generated Image saved to /raid/home/ashhar21137/watermarking/dwtDctSvd/dwt_paraphrase_0.1/265709/265709_gen_2.png\n",
      "Generated Image saved to /raid/home/ashhar21137/watermarking/dwtDctSvd/dwt_paraphrase_0.1/265709/265709_gen_3.png\n",
      "Generated Image saved to /raid/home/ashhar21137/watermarking/dwtDctSvd/dwt_paraphrase_0.1/265709/265709_gen_4.png\n",
      "\n",
      "Number of images generated :  5\n",
      "********** Watermark detection for generated images ***************\n",
      "caption : A man sitting on top of a green bench.\n",
      "Watermark Presence Prob.: 0.0\n",
      "caption : A man sitting down in his chair outside.\n",
      "Watermark Presence Prob.: 0\n",
      "caption : A man in a coat with gloves is sitting on a bench on a cold day.\n"
     ]
    },
    {
     "name": "stderr",
     "output_type": "stream",
     "text": [
      " 74%|███████▍  | 149/200 [07:59<02:25,  2.85s/it]"
     ]
    },
    {
     "name": "stdout",
     "output_type": "stream",
     "text": [
      "Watermark Presence Prob.: 0.0\n",
      "caption : a elderly man sitting on a bench  wearing sun shades\n",
      "Watermark Presence Prob.: 0\n",
      "caption : A man in a jacket sits on a park bench\n",
      "Watermark Presence Prob.: 0\n",
      "---------- Count = 150 : Visual Paraphrasing for the watermarked version of 269829-------------\n",
      "\n",
      "Image name :  Image_269829.jpg\n",
      "Image id : 269829\n"
     ]
    },
    {
     "data": {
      "application/vnd.jupyter.widget-view+json": {
       "model_id": "30d8da2647c646b0ace8bf29381c5c8f",
       "version_major": 2,
       "version_minor": 0
      },
      "text/plain": [
       "  0%|          | 0/5 [00:00<?, ?it/s]"
      ]
     },
     "metadata": {},
     "output_type": "display_data"
    },
    {
     "name": "stdout",
     "output_type": "stream",
     "text": [
      "Saving generated images at /raid/home/ashhar21137/watermarking/dwtDctSvd/dwt_paraphrase_0.1/269829\n",
      "Generated Image saved to /raid/home/ashhar21137/watermarking/dwtDctSvd/dwt_paraphrase_0.1/269829/269829_gen_0.png\n",
      "Generated Image saved to /raid/home/ashhar21137/watermarking/dwtDctSvd/dwt_paraphrase_0.1/269829/269829_gen_1.png\n",
      "Generated Image saved to /raid/home/ashhar21137/watermarking/dwtDctSvd/dwt_paraphrase_0.1/269829/269829_gen_2.png\n",
      "Generated Image saved to /raid/home/ashhar21137/watermarking/dwtDctSvd/dwt_paraphrase_0.1/269829/269829_gen_3.png\n",
      "Generated Image saved to /raid/home/ashhar21137/watermarking/dwtDctSvd/dwt_paraphrase_0.1/269829/269829_gen_4.png\n",
      "\n",
      "Number of images generated :  5\n",
      "********** Watermark detection for generated images ***************\n",
      "caption : A row of bikers on road next to trees.\n",
      "Watermark Presence Prob.: 0\n",
      "caption : Large group of motorcycles riding down the highway.\n",
      "Watermark Presence Prob.: 0\n",
      "caption : A scene of motorcycle race going on the road.\n",
      "Watermark Presence Prob.: 0\n",
      "caption : Many people on motor bikes going down a city road.\n",
      "Watermark Presence Prob.: 0\n",
      "caption : A group of motorcyclists are riding on the highway.\n"
     ]
    },
    {
     "name": "stderr",
     "output_type": "stream",
     "text": [
      " 75%|███████▌  | 150/200 [08:03<02:30,  3.01s/it]"
     ]
    },
    {
     "name": "stdout",
     "output_type": "stream",
     "text": [
      "Watermark Presence Prob.: 0\n",
      "---------- Count = 151 : Visual Paraphrasing for the watermarked version of 326511-------------\n",
      "\n",
      "Image name :  Image_326511.jpg\n",
      "Image id : 326511\n"
     ]
    },
    {
     "data": {
      "application/vnd.jupyter.widget-view+json": {
       "model_id": "81b11189c0dd4da8a378ce659b3bfd32",
       "version_major": 2,
       "version_minor": 0
      },
      "text/plain": [
       "  0%|          | 0/5 [00:00<?, ?it/s]"
      ]
     },
     "metadata": {},
     "output_type": "display_data"
    },
    {
     "name": "stdout",
     "output_type": "stream",
     "text": [
      "Saving generated images at /raid/home/ashhar21137/watermarking/dwtDctSvd/dwt_paraphrase_0.1/326511\n",
      "Generated Image saved to /raid/home/ashhar21137/watermarking/dwtDctSvd/dwt_paraphrase_0.1/326511/326511_gen_0.png\n",
      "Generated Image saved to /raid/home/ashhar21137/watermarking/dwtDctSvd/dwt_paraphrase_0.1/326511/326511_gen_1.png\n",
      "Generated Image saved to /raid/home/ashhar21137/watermarking/dwtDctSvd/dwt_paraphrase_0.1/326511/326511_gen_2.png\n",
      "Generated Image saved to /raid/home/ashhar21137/watermarking/dwtDctSvd/dwt_paraphrase_0.1/326511/326511_gen_3.png\n",
      "Generated Image saved to /raid/home/ashhar21137/watermarking/dwtDctSvd/dwt_paraphrase_0.1/326511/326511_gen_4.png\n",
      "\n",
      "Number of images generated :  5\n",
      "********** Watermark detection for generated images ***************\n",
      "caption : Two giraffes standing next to each other crossing necks and rubbing heads. \n",
      "Watermark Presence Prob.: 0\n",
      "caption : Two giraffes with their necks intertwined in a field. \n",
      "Watermark Presence Prob.: 0\n",
      "caption : two giraffes that appear to have their necks wrapped around each other\n",
      "Watermark Presence Prob.: 0\n",
      "caption : Two giraffes rubbing necks in a grassy area with a low stone wall.\n",
      "Watermark Presence Prob.: 0\n",
      "caption : Two giraffes standing next to one another and interlocking their necks.\n"
     ]
    },
    {
     "name": "stderr",
     "output_type": "stream",
     "text": [
      " 76%|███████▌  | 151/200 [08:05<02:22,  2.91s/it]"
     ]
    },
    {
     "name": "stdout",
     "output_type": "stream",
     "text": [
      "Watermark Presence Prob.: 0\n",
      "---------- Count = 152 : Visual Paraphrasing for the watermarked version of 353139-------------\n",
      "\n",
      "Image name :  Image_353139.jpg\n",
      "Image id : 353139\n"
     ]
    },
    {
     "data": {
      "application/vnd.jupyter.widget-view+json": {
       "model_id": "25ce85bd5bfe48e49f693c57d3e6e4ed",
       "version_major": 2,
       "version_minor": 0
      },
      "text/plain": [
       "  0%|          | 0/5 [00:00<?, ?it/s]"
      ]
     },
     "metadata": {},
     "output_type": "display_data"
    },
    {
     "name": "stdout",
     "output_type": "stream",
     "text": [
      "Saving generated images at /raid/home/ashhar21137/watermarking/dwtDctSvd/dwt_paraphrase_0.1/353139\n",
      "Generated Image saved to /raid/home/ashhar21137/watermarking/dwtDctSvd/dwt_paraphrase_0.1/353139/353139_gen_0.png\n",
      "Generated Image saved to /raid/home/ashhar21137/watermarking/dwtDctSvd/dwt_paraphrase_0.1/353139/353139_gen_1.png\n",
      "Generated Image saved to /raid/home/ashhar21137/watermarking/dwtDctSvd/dwt_paraphrase_0.1/353139/353139_gen_2.png\n",
      "Generated Image saved to /raid/home/ashhar21137/watermarking/dwtDctSvd/dwt_paraphrase_0.1/353139/353139_gen_3.png\n",
      "Generated Image saved to /raid/home/ashhar21137/watermarking/dwtDctSvd/dwt_paraphrase_0.1/353139/353139_gen_4.png\n",
      "\n",
      "Number of images generated :  5\n",
      "********** Watermark detection for generated images ***************\n",
      "caption : A motorcycle in front of a closed freight door.\n",
      "Watermark Presence Prob.: 0\n",
      "caption : A motorcycle is parked in front of a warehouse door.\n",
      "Watermark Presence Prob.: 0\n",
      "caption : A motorcycle parked next to a closed garage \n"
     ]
    },
    {
     "name": "stderr",
     "output_type": "stream",
     "text": [
      " 76%|███████▌  | 152/200 [08:08<02:19,  2.91s/it]"
     ]
    },
    {
     "name": "stdout",
     "output_type": "stream",
     "text": [
      "Watermark Presence Prob.: 0\n",
      "caption : A motorcycle is parked in front of a closed loading/unloading area\n",
      "Watermark Presence Prob.: 0\n",
      "caption : A motorcycle parked in front of a closed garage door.\n",
      "Watermark Presence Prob.: 0\n",
      "---------- Count = 153 : Visual Paraphrasing for the watermarked version of 309093-------------\n",
      "\n",
      "Image name :  Image_309093.jpg\n",
      "Image id : 309093\n"
     ]
    },
    {
     "data": {
      "application/vnd.jupyter.widget-view+json": {
       "model_id": "cf52ee30c52d4f15b742f2e071ed1999",
       "version_major": 2,
       "version_minor": 0
      },
      "text/plain": [
       "  0%|          | 0/5 [00:00<?, ?it/s]"
      ]
     },
     "metadata": {},
     "output_type": "display_data"
    },
    {
     "name": "stdout",
     "output_type": "stream",
     "text": [
      "Saving generated images at /raid/home/ashhar21137/watermarking/dwtDctSvd/dwt_paraphrase_0.1/309093\n",
      "Generated Image saved to /raid/home/ashhar21137/watermarking/dwtDctSvd/dwt_paraphrase_0.1/309093/309093_gen_0.png\n",
      "Generated Image saved to /raid/home/ashhar21137/watermarking/dwtDctSvd/dwt_paraphrase_0.1/309093/309093_gen_1.png\n",
      "Generated Image saved to /raid/home/ashhar21137/watermarking/dwtDctSvd/dwt_paraphrase_0.1/309093/309093_gen_2.png\n",
      "Generated Image saved to /raid/home/ashhar21137/watermarking/dwtDctSvd/dwt_paraphrase_0.1/309093/309093_gen_3.png\n",
      "Generated Image saved to /raid/home/ashhar21137/watermarking/dwtDctSvd/dwt_paraphrase_0.1/309093/309093_gen_4.png\n",
      "\n",
      "Number of images generated :  5\n",
      "********** Watermark detection for generated images ***************\n",
      "caption : A little girl is sitting on a bench kicking feet while holding her head.\n",
      "Watermark Presence Prob.: 0\n",
      "caption : little girl sitting on a bench next to a couple\n",
      "\n",
      "Watermark Presence Prob.: 0\n",
      "caption : A small girl seated on a wooden bench in front of a fence.\n",
      "Watermark Presence Prob.: 0\n",
      "caption : The young girl is sitting on the park bench and covering her eyes.\n"
     ]
    },
    {
     "name": "stderr",
     "output_type": "stream",
     "text": [
      " 76%|███████▋  | 153/200 [08:11<02:17,  2.92s/it]"
     ]
    },
    {
     "name": "stdout",
     "output_type": "stream",
     "text": [
      "Watermark Presence Prob.: 0.0\n",
      "caption : A young girl sitting on a public bench holding her hands to her eyes.\n",
      "Watermark Presence Prob.: 0.0\n",
      "---------- Count = 154 : Visual Paraphrasing for the watermarked version of 277854-------------\n",
      "\n",
      "Image name :  Image_277854.jpg\n",
      "Image id : 277854\n"
     ]
    },
    {
     "data": {
      "application/vnd.jupyter.widget-view+json": {
       "model_id": "aae4c32061674ad8bfa0ca9bf6ed57d1",
       "version_major": 2,
       "version_minor": 0
      },
      "text/plain": [
       "  0%|          | 0/5 [00:00<?, ?it/s]"
      ]
     },
     "metadata": {},
     "output_type": "display_data"
    },
    {
     "name": "stdout",
     "output_type": "stream",
     "text": [
      "Saving generated images at /raid/home/ashhar21137/watermarking/dwtDctSvd/dwt_paraphrase_0.1/277854\n",
      "Generated Image saved to /raid/home/ashhar21137/watermarking/dwtDctSvd/dwt_paraphrase_0.1/277854/277854_gen_0.png\n",
      "Generated Image saved to /raid/home/ashhar21137/watermarking/dwtDctSvd/dwt_paraphrase_0.1/277854/277854_gen_1.png\n",
      "Generated Image saved to /raid/home/ashhar21137/watermarking/dwtDctSvd/dwt_paraphrase_0.1/277854/277854_gen_2.png\n",
      "Generated Image saved to /raid/home/ashhar21137/watermarking/dwtDctSvd/dwt_paraphrase_0.1/277854/277854_gen_3.png\n",
      "Generated Image saved to /raid/home/ashhar21137/watermarking/dwtDctSvd/dwt_paraphrase_0.1/277854/277854_gen_4.png\n",
      "\n",
      "Number of images generated :  5\n",
      "********** Watermark detection for generated images ***************\n",
      "caption : Black and white art print of mountain goats next to snow-capped mountain. \n",
      "Watermark Presence Prob.: 0.0\n",
      "caption : a black and white drawing of cattle grazing and a large mountain range\n",
      "Watermark Presence Prob.: 0.0\n",
      "caption : a black and white artist with animals walking near a mountain\n",
      "Watermark Presence Prob.: 0.0\n",
      "caption : Altered black and white photograph of sheep on a mountain\n",
      "Watermark Presence Prob.: 0.0\n",
      "caption : some mountain goats on the dark side of a mountain\n"
     ]
    },
    {
     "name": "stderr",
     "output_type": "stream",
     "text": [
      " 77%|███████▋  | 154/200 [08:14<02:10,  2.83s/it]"
     ]
    },
    {
     "name": "stdout",
     "output_type": "stream",
     "text": [
      "Watermark Presence Prob.: 0.0\n",
      "---------- Count = 155 : Visual Paraphrasing for the watermarked version of 546451-------------\n",
      "\n",
      "Image name :  Image_546451.jpg\n",
      "Image id : 546451\n"
     ]
    },
    {
     "data": {
      "application/vnd.jupyter.widget-view+json": {
       "model_id": "d47944a810874e8c97130c97c90fd83b",
       "version_major": 2,
       "version_minor": 0
      },
      "text/plain": [
       "  0%|          | 0/5 [00:00<?, ?it/s]"
      ]
     },
     "metadata": {},
     "output_type": "display_data"
    },
    {
     "name": "stdout",
     "output_type": "stream",
     "text": [
      "Saving generated images at /raid/home/ashhar21137/watermarking/dwtDctSvd/dwt_paraphrase_0.1/546451\n",
      "Generated Image saved to /raid/home/ashhar21137/watermarking/dwtDctSvd/dwt_paraphrase_0.1/546451/546451_gen_0.png\n",
      "Generated Image saved to /raid/home/ashhar21137/watermarking/dwtDctSvd/dwt_paraphrase_0.1/546451/546451_gen_1.png\n",
      "Generated Image saved to /raid/home/ashhar21137/watermarking/dwtDctSvd/dwt_paraphrase_0.1/546451/546451_gen_2.png\n",
      "Generated Image saved to /raid/home/ashhar21137/watermarking/dwtDctSvd/dwt_paraphrase_0.1/546451/546451_gen_3.png\n",
      "Generated Image saved to /raid/home/ashhar21137/watermarking/dwtDctSvd/dwt_paraphrase_0.1/546451/546451_gen_4.png\n",
      "\n",
      "Number of images generated :  5\n",
      "********** Watermark detection for generated images ***************\n",
      "caption : A small restroom that is painted the color blue.\n",
      "Watermark Presence Prob.: 0\n",
      "caption : The toilet bowl is next to two rolls of toilet paper mounted on a wall.\n",
      "Watermark Presence Prob.: 0\n",
      "caption : A small bathroom is seen from above and at a slanted angle.\n",
      "Watermark Presence Prob.: 0\n",
      "caption : A toilet in a bathroom with its seat down.\n"
     ]
    },
    {
     "name": "stderr",
     "output_type": "stream",
     "text": [
      " 78%|███████▊  | 155/200 [08:17<02:16,  3.02s/it]"
     ]
    },
    {
     "name": "stdout",
     "output_type": "stream",
     "text": [
      "Watermark Presence Prob.: 0\n",
      "caption : A toilet area painted in a light green color.\n",
      "Watermark Presence Prob.: 0\n",
      "---------- Count = 156 : Visual Paraphrasing for the watermarked version of 344806-------------\n",
      "\n",
      "Image name :  Image_344806.jpg\n",
      "Image id : 344806\n"
     ]
    },
    {
     "data": {
      "application/vnd.jupyter.widget-view+json": {
       "model_id": "341a0d34da91425295fdee72229dd147",
       "version_major": 2,
       "version_minor": 0
      },
      "text/plain": [
       "  0%|          | 0/5 [00:00<?, ?it/s]"
      ]
     },
     "metadata": {},
     "output_type": "display_data"
    },
    {
     "name": "stdout",
     "output_type": "stream",
     "text": [
      "Saving generated images at /raid/home/ashhar21137/watermarking/dwtDctSvd/dwt_paraphrase_0.1/344806\n",
      "Generated Image saved to /raid/home/ashhar21137/watermarking/dwtDctSvd/dwt_paraphrase_0.1/344806/344806_gen_0.png\n",
      "Generated Image saved to /raid/home/ashhar21137/watermarking/dwtDctSvd/dwt_paraphrase_0.1/344806/344806_gen_1.png\n",
      "Generated Image saved to /raid/home/ashhar21137/watermarking/dwtDctSvd/dwt_paraphrase_0.1/344806/344806_gen_2.png\n",
      "Generated Image saved to /raid/home/ashhar21137/watermarking/dwtDctSvd/dwt_paraphrase_0.1/344806/344806_gen_3.png\n",
      "Generated Image saved to /raid/home/ashhar21137/watermarking/dwtDctSvd/dwt_paraphrase_0.1/344806/344806_gen_4.png\n",
      "\n",
      "Number of images generated :  5\n",
      "********** Watermark detection for generated images ***************\n",
      "caption : A man laying on his stomach with a towel on his head.\n",
      "Watermark Presence Prob.: 0.0\n",
      "caption : someone that is laying face down on a bed\n",
      "Watermark Presence Prob.: 0.0\n",
      "caption : A man on his stomach in a white bed.\n",
      "Watermark Presence Prob.: 0\n",
      "caption : This is a photo of someones bare back.\n",
      "Watermark Presence Prob.: 0\n",
      "caption : A man is lying face down on the bed\n"
     ]
    },
    {
     "name": "stderr",
     "output_type": "stream",
     "text": [
      " 78%|███████▊  | 156/200 [08:20<02:12,  3.01s/it]"
     ]
    },
    {
     "name": "stdout",
     "output_type": "stream",
     "text": [
      "Watermark Presence Prob.: 0\n",
      "---------- Count = 157 : Visual Paraphrasing for the watermarked version of 413746-------------\n",
      "\n",
      "Image name :  Image_413746.jpg\n",
      "Image id : 413746\n"
     ]
    },
    {
     "data": {
      "application/vnd.jupyter.widget-view+json": {
       "model_id": "6667aa2e37784292b85a29ddc7e5e126",
       "version_major": 2,
       "version_minor": 0
      },
      "text/plain": [
       "  0%|          | 0/5 [00:00<?, ?it/s]"
      ]
     },
     "metadata": {},
     "output_type": "display_data"
    },
    {
     "name": "stdout",
     "output_type": "stream",
     "text": [
      "Saving generated images at /raid/home/ashhar21137/watermarking/dwtDctSvd/dwt_paraphrase_0.1/413746\n",
      "Generated Image saved to /raid/home/ashhar21137/watermarking/dwtDctSvd/dwt_paraphrase_0.1/413746/413746_gen_0.png\n",
      "Generated Image saved to /raid/home/ashhar21137/watermarking/dwtDctSvd/dwt_paraphrase_0.1/413746/413746_gen_1.png\n",
      "Generated Image saved to /raid/home/ashhar21137/watermarking/dwtDctSvd/dwt_paraphrase_0.1/413746/413746_gen_2.png\n",
      "Generated Image saved to /raid/home/ashhar21137/watermarking/dwtDctSvd/dwt_paraphrase_0.1/413746/413746_gen_3.png\n",
      "Generated Image saved to /raid/home/ashhar21137/watermarking/dwtDctSvd/dwt_paraphrase_0.1/413746/413746_gen_4.png\n",
      "\n",
      "Number of images generated :  5\n",
      "********** Watermark detection for generated images ***************\n",
      "caption : Man wearing helmet and backpack rides a motorcycle.\n",
      "Watermark Presence Prob.: 0\n",
      "caption : A motorcyclist with a backpack drives at high speeds.\n",
      "Watermark Presence Prob.: 0\n",
      "caption : A person rides a motorcycle down a road.\n",
      "Watermark Presence Prob.: 0\n",
      "caption : A person on a motorcycle speeds down a street.\n",
      "Watermark Presence Prob.: 0\n",
      "caption : A cyclist riding on a sports motorcycle on the road.\n"
     ]
    },
    {
     "name": "stderr",
     "output_type": "stream",
     "text": [
      " 78%|███████▊  | 157/200 [08:23<02:09,  3.00s/it]"
     ]
    },
    {
     "name": "stdout",
     "output_type": "stream",
     "text": [
      "Watermark Presence Prob.: 0.0\n",
      "---------- Count = 158 : Visual Paraphrasing for the watermarked version of 279108-------------\n",
      "\n",
      "Image name :  Image_279108.jpg\n",
      "Image id : 279108\n"
     ]
    },
    {
     "data": {
      "application/vnd.jupyter.widget-view+json": {
       "model_id": "27ff7c57fe0f42249294b14dcca0186d",
       "version_major": 2,
       "version_minor": 0
      },
      "text/plain": [
       "  0%|          | 0/5 [00:00<?, ?it/s]"
      ]
     },
     "metadata": {},
     "output_type": "display_data"
    },
    {
     "name": "stdout",
     "output_type": "stream",
     "text": [
      "Saving generated images at /raid/home/ashhar21137/watermarking/dwtDctSvd/dwt_paraphrase_0.1/279108\n",
      "Generated Image saved to /raid/home/ashhar21137/watermarking/dwtDctSvd/dwt_paraphrase_0.1/279108/279108_gen_0.png\n",
      "Generated Image saved to /raid/home/ashhar21137/watermarking/dwtDctSvd/dwt_paraphrase_0.1/279108/279108_gen_1.png\n",
      "Generated Image saved to /raid/home/ashhar21137/watermarking/dwtDctSvd/dwt_paraphrase_0.1/279108/279108_gen_2.png\n",
      "Generated Image saved to /raid/home/ashhar21137/watermarking/dwtDctSvd/dwt_paraphrase_0.1/279108/279108_gen_3.png\n",
      "Generated Image saved to /raid/home/ashhar21137/watermarking/dwtDctSvd/dwt_paraphrase_0.1/279108/279108_gen_4.png\n",
      "\n",
      "Number of images generated :  5\n",
      "********** Watermark detection for generated images ***************\n",
      "caption : A woman feeding a man food from a spoon.\n",
      "Watermark Presence Prob.: 0.0\n",
      "caption : A woman offering a man a taste of something in front of other people.\n",
      "Watermark Presence Prob.: 0\n",
      "caption : A woman feeds a man a bite of food.\n",
      "Watermark Presence Prob.: 0.0\n",
      "caption : a woman is feeding something to a man\n"
     ]
    },
    {
     "name": "stderr",
     "output_type": "stream",
     "text": [
      " 79%|███████▉  | 158/200 [08:26<02:01,  2.89s/it]"
     ]
    },
    {
     "name": "stdout",
     "output_type": "stream",
     "text": [
      "Watermark Presence Prob.: 0\n",
      "caption : A woman spoon feeding an old man \n",
      "Watermark Presence Prob.: 0.0\n",
      "---------- Count = 159 : Visual Paraphrasing for the watermarked version of 576801-------------\n",
      "\n",
      "Image name :  Image_576801.jpg\n",
      "Image id : 576801\n"
     ]
    },
    {
     "data": {
      "application/vnd.jupyter.widget-view+json": {
       "model_id": "3aed8a4b2b1b4bc0a8bdc6730e9c3404",
       "version_major": 2,
       "version_minor": 0
      },
      "text/plain": [
       "  0%|          | 0/5 [00:00<?, ?it/s]"
      ]
     },
     "metadata": {},
     "output_type": "display_data"
    },
    {
     "name": "stdout",
     "output_type": "stream",
     "text": [
      "Saving generated images at /raid/home/ashhar21137/watermarking/dwtDctSvd/dwt_paraphrase_0.1/576801\n",
      "Generated Image saved to /raid/home/ashhar21137/watermarking/dwtDctSvd/dwt_paraphrase_0.1/576801/576801_gen_0.png\n",
      "Generated Image saved to /raid/home/ashhar21137/watermarking/dwtDctSvd/dwt_paraphrase_0.1/576801/576801_gen_1.png\n",
      "Generated Image saved to /raid/home/ashhar21137/watermarking/dwtDctSvd/dwt_paraphrase_0.1/576801/576801_gen_2.png\n",
      "Generated Image saved to /raid/home/ashhar21137/watermarking/dwtDctSvd/dwt_paraphrase_0.1/576801/576801_gen_3.png\n",
      "Generated Image saved to /raid/home/ashhar21137/watermarking/dwtDctSvd/dwt_paraphrase_0.1/576801/576801_gen_4.png\n",
      "\n",
      "Number of images generated :  5\n",
      "********** Watermark detection for generated images ***************\n",
      "caption : A giraffe standing on top of a field under a blue sky.\n",
      "Watermark Presence Prob.: 0\n",
      "caption : A giraffe bending over to feed from the grass.\n",
      "Watermark Presence Prob.: 0\n",
      "caption : A giraffe bending its neck in a grassy area. \n",
      "Watermark Presence Prob.: 0\n",
      "caption : A giraffe struggling to eat low grass. \n",
      "Watermark Presence Prob.: 0\n",
      "caption : A giraffe standing in a field, eating grass.\n"
     ]
    },
    {
     "name": "stderr",
     "output_type": "stream",
     "text": [
      " 80%|███████▉  | 159/200 [08:29<01:58,  2.89s/it]"
     ]
    },
    {
     "name": "stdout",
     "output_type": "stream",
     "text": [
      "Watermark Presence Prob.: 0\n",
      "---------- Count = 160 : Visual Paraphrasing for the watermarked version of 246446-------------\n",
      "\n",
      "Image name :  Image_246446.jpg\n",
      "Image id : 246446\n"
     ]
    },
    {
     "data": {
      "application/vnd.jupyter.widget-view+json": {
       "model_id": "68fe6472b6304aedb2e2ff19e1ec22ee",
       "version_major": 2,
       "version_minor": 0
      },
      "text/plain": [
       "  0%|          | 0/5 [00:00<?, ?it/s]"
      ]
     },
     "metadata": {},
     "output_type": "display_data"
    },
    {
     "name": "stdout",
     "output_type": "stream",
     "text": [
      "Saving generated images at /raid/home/ashhar21137/watermarking/dwtDctSvd/dwt_paraphrase_0.1/246446\n",
      "Generated Image saved to /raid/home/ashhar21137/watermarking/dwtDctSvd/dwt_paraphrase_0.1/246446/246446_gen_0.png\n",
      "Generated Image saved to /raid/home/ashhar21137/watermarking/dwtDctSvd/dwt_paraphrase_0.1/246446/246446_gen_1.png\n",
      "Generated Image saved to /raid/home/ashhar21137/watermarking/dwtDctSvd/dwt_paraphrase_0.1/246446/246446_gen_2.png\n",
      "Generated Image saved to /raid/home/ashhar21137/watermarking/dwtDctSvd/dwt_paraphrase_0.1/246446/246446_gen_3.png\n",
      "Generated Image saved to /raid/home/ashhar21137/watermarking/dwtDctSvd/dwt_paraphrase_0.1/246446/246446_gen_4.png\n",
      "\n",
      "Number of images generated :  5\n",
      "********** Watermark detection for generated images ***************\n",
      "caption : A red double decker bus with an open air top.\n",
      "Watermark Presence Prob.: 0\n",
      "caption : A red and brown double decker bus driving down a street.\n",
      "Watermark Presence Prob.: 0\n",
      "caption : A double decker bus drives down city street.\n",
      "Watermark Presence Prob.: 0\n",
      "caption : Edinburg vintage bus on a street in Scotland.\n"
     ]
    },
    {
     "name": "stderr",
     "output_type": "stream",
     "text": [
      " 80%|████████  | 160/200 [08:31<01:51,  2.80s/it]"
     ]
    },
    {
     "name": "stdout",
     "output_type": "stream",
     "text": [
      "Watermark Presence Prob.: 0\n",
      "caption : A red double-decker bus with a open top level.\n",
      "Watermark Presence Prob.: 0\n",
      "---------- Count = 161 : Visual Paraphrasing for the watermarked version of 520950-------------\n",
      "\n",
      "Image name :  Image_520950.jpg\n",
      "Image id : 520950\n"
     ]
    },
    {
     "data": {
      "application/vnd.jupyter.widget-view+json": {
       "model_id": "327d424d34174f268d5132f4b1ce565a",
       "version_major": 2,
       "version_minor": 0
      },
      "text/plain": [
       "  0%|          | 0/5 [00:00<?, ?it/s]"
      ]
     },
     "metadata": {},
     "output_type": "display_data"
    },
    {
     "name": "stdout",
     "output_type": "stream",
     "text": [
      "Saving generated images at /raid/home/ashhar21137/watermarking/dwtDctSvd/dwt_paraphrase_0.1/520950\n",
      "Generated Image saved to /raid/home/ashhar21137/watermarking/dwtDctSvd/dwt_paraphrase_0.1/520950/520950_gen_0.png\n",
      "Generated Image saved to /raid/home/ashhar21137/watermarking/dwtDctSvd/dwt_paraphrase_0.1/520950/520950_gen_1.png\n",
      "Generated Image saved to /raid/home/ashhar21137/watermarking/dwtDctSvd/dwt_paraphrase_0.1/520950/520950_gen_2.png\n",
      "Generated Image saved to /raid/home/ashhar21137/watermarking/dwtDctSvd/dwt_paraphrase_0.1/520950/520950_gen_3.png\n",
      "Generated Image saved to /raid/home/ashhar21137/watermarking/dwtDctSvd/dwt_paraphrase_0.1/520950/520950_gen_4.png\n",
      "\n",
      "Number of images generated :  5\n",
      "********** Watermark detection for generated images ***************\n",
      "caption : the kitchen is full of spices on the rack\n",
      "Watermark Presence Prob.: 0\n",
      "caption : A kitchen with counter, oven and other accessories.\n",
      "Watermark Presence Prob.: 0\n",
      "caption : A small kitchen that utilizes all of its space. \n",
      "Watermark Presence Prob.: 0\n",
      "caption : This small kitchen has pots, pans and spices on display\n"
     ]
    },
    {
     "name": "stderr",
     "output_type": "stream",
     "text": [
      " 80%|████████  | 161/200 [08:34<01:48,  2.78s/it]"
     ]
    },
    {
     "name": "stdout",
     "output_type": "stream",
     "text": [
      "Watermark Presence Prob.: 0\n",
      "caption : A VERY SMALL KITCHEN WITH A STOVE AND A SHELF OF POTS \n",
      "Watermark Presence Prob.: 0\n",
      "---------- Count = 162 : Visual Paraphrasing for the watermarked version of 155845-------------\n",
      "\n",
      "Image name :  Image_155845.jpg\n",
      "Image id : 155845\n"
     ]
    },
    {
     "data": {
      "application/vnd.jupyter.widget-view+json": {
       "model_id": "9d1e9527c1544f55b524a442e4f40861",
       "version_major": 2,
       "version_minor": 0
      },
      "text/plain": [
       "  0%|          | 0/5 [00:00<?, ?it/s]"
      ]
     },
     "metadata": {},
     "output_type": "display_data"
    },
    {
     "name": "stdout",
     "output_type": "stream",
     "text": [
      "Saving generated images at /raid/home/ashhar21137/watermarking/dwtDctSvd/dwt_paraphrase_0.1/155845\n",
      "Generated Image saved to /raid/home/ashhar21137/watermarking/dwtDctSvd/dwt_paraphrase_0.1/155845/155845_gen_0.png\n",
      "Generated Image saved to /raid/home/ashhar21137/watermarking/dwtDctSvd/dwt_paraphrase_0.1/155845/155845_gen_1.png\n",
      "Generated Image saved to /raid/home/ashhar21137/watermarking/dwtDctSvd/dwt_paraphrase_0.1/155845/155845_gen_2.png\n",
      "Generated Image saved to /raid/home/ashhar21137/watermarking/dwtDctSvd/dwt_paraphrase_0.1/155845/155845_gen_3.png\n",
      "Generated Image saved to /raid/home/ashhar21137/watermarking/dwtDctSvd/dwt_paraphrase_0.1/155845/155845_gen_4.png\n",
      "\n",
      "Number of images generated :  5\n",
      "********** Watermark detection for generated images ***************\n",
      "caption : a street sign on a dirt road with a sky background\n",
      "Watermark Presence Prob.: 0\n",
      "caption : A truck is driving on the sand of a beach.\n",
      "Watermark Presence Prob.: 0\n",
      "caption : A truck driving down a beach with a sign in the foreground. \n",
      "Watermark Presence Prob.: 0\n",
      "caption : Vehicle driving in large open space near signage on cloudy day.\n"
     ]
    },
    {
     "name": "stderr",
     "output_type": "stream",
     "text": [
      " 81%|████████  | 162/200 [08:37<01:52,  2.95s/it]"
     ]
    },
    {
     "name": "stdout",
     "output_type": "stream",
     "text": [
      "Watermark Presence Prob.: 0\n",
      "caption : A large desolate are with a street sign and a truck on top if it.\n",
      "Watermark Presence Prob.: 0\n",
      "---------- Count = 163 : Visual Paraphrasing for the watermarked version of 448698-------------\n",
      "\n",
      "Image name :  Image_448698.jpg\n",
      "Image id : 448698\n"
     ]
    },
    {
     "data": {
      "application/vnd.jupyter.widget-view+json": {
       "model_id": "644f4e088b6f4a34a2d48ee01da77042",
       "version_major": 2,
       "version_minor": 0
      },
      "text/plain": [
       "  0%|          | 0/5 [00:00<?, ?it/s]"
      ]
     },
     "metadata": {},
     "output_type": "display_data"
    },
    {
     "name": "stdout",
     "output_type": "stream",
     "text": [
      "Saving generated images at /raid/home/ashhar21137/watermarking/dwtDctSvd/dwt_paraphrase_0.1/448698\n",
      "Generated Image saved to /raid/home/ashhar21137/watermarking/dwtDctSvd/dwt_paraphrase_0.1/448698/448698_gen_0.png\n",
      "Generated Image saved to /raid/home/ashhar21137/watermarking/dwtDctSvd/dwt_paraphrase_0.1/448698/448698_gen_1.png\n",
      "Generated Image saved to /raid/home/ashhar21137/watermarking/dwtDctSvd/dwt_paraphrase_0.1/448698/448698_gen_2.png\n",
      "Generated Image saved to /raid/home/ashhar21137/watermarking/dwtDctSvd/dwt_paraphrase_0.1/448698/448698_gen_3.png\n",
      "Generated Image saved to /raid/home/ashhar21137/watermarking/dwtDctSvd/dwt_paraphrase_0.1/448698/448698_gen_4.png\n",
      "\n",
      "Number of images generated :  5\n",
      "********** Watermark detection for generated images ***************\n",
      "caption : There are few airplanes parked on the field.  \n",
      "Watermark Presence Prob.: 0\n",
      "caption : An airplane sitting on a green lawn next to a small airport.\n",
      "Watermark Presence Prob.: 0\n",
      "caption : An airplane sitting in a field near some other small buildings\n",
      "Watermark Presence Prob.: 0\n",
      "caption : a small plane parked in a green grass field\n",
      "Watermark Presence Prob.: 0\n",
      "caption : A small airplane sits idle on green grass.\n"
     ]
    },
    {
     "name": "stderr",
     "output_type": "stream",
     "text": [
      " 82%|████████▏ | 163/200 [08:41<01:52,  3.05s/it]"
     ]
    },
    {
     "name": "stdout",
     "output_type": "stream",
     "text": [
      "Watermark Presence Prob.: 0\n",
      "---------- Count = 164 : Visual Paraphrasing for the watermarked version of 2024-------------\n",
      "\n",
      "Image name :  Image_2024.jpg\n",
      "Image id : 2024\n"
     ]
    },
    {
     "data": {
      "application/vnd.jupyter.widget-view+json": {
       "model_id": "d47ae3599cce4ef4bb0bd6d9af683381",
       "version_major": 2,
       "version_minor": 0
      },
      "text/plain": [
       "  0%|          | 0/5 [00:00<?, ?it/s]"
      ]
     },
     "metadata": {},
     "output_type": "display_data"
    },
    {
     "name": "stdout",
     "output_type": "stream",
     "text": [
      "Saving generated images at /raid/home/ashhar21137/watermarking/dwtDctSvd/dwt_paraphrase_0.1/2024\n",
      "Generated Image saved to /raid/home/ashhar21137/watermarking/dwtDctSvd/dwt_paraphrase_0.1/2024/2024_gen_0.png\n",
      "Generated Image saved to /raid/home/ashhar21137/watermarking/dwtDctSvd/dwt_paraphrase_0.1/2024/2024_gen_1.png\n",
      "Generated Image saved to /raid/home/ashhar21137/watermarking/dwtDctSvd/dwt_paraphrase_0.1/2024/2024_gen_2.png\n",
      "Generated Image saved to /raid/home/ashhar21137/watermarking/dwtDctSvd/dwt_paraphrase_0.1/2024/2024_gen_3.png\n",
      "Generated Image saved to /raid/home/ashhar21137/watermarking/dwtDctSvd/dwt_paraphrase_0.1/2024/2024_gen_4.png\n",
      "\n",
      "Number of images generated :  5\n",
      "********** Watermark detection for generated images ***************\n",
      "caption : A bathroom looks new with nothing in it.\n",
      "Watermark Presence Prob.: 0\n",
      "caption : A mirror in the bathroom displays toilet paper and another mirror.\n",
      "Watermark Presence Prob.: 0\n",
      "caption : A bathroom sink beneath a very large mirror reflecting a roll of toilet paper.\n",
      "Watermark Presence Prob.: 0\n",
      "caption : This is a bathroom with a sink and a mirror.\n",
      "Watermark Presence Prob.: 0\n",
      "caption : A bathroom sink with a large mirror over it. \n"
     ]
    },
    {
     "name": "stderr",
     "output_type": "stream",
     "text": [
      " 82%|████████▏ | 164/200 [08:44<01:51,  3.10s/it]"
     ]
    },
    {
     "name": "stdout",
     "output_type": "stream",
     "text": [
      "Watermark Presence Prob.: 0\n",
      "---------- Count = 165 : Visual Paraphrasing for the watermarked version of 357684-------------\n",
      "\n",
      "Image name :  Image_357684.jpg\n",
      "Image id : 357684\n"
     ]
    },
    {
     "data": {
      "application/vnd.jupyter.widget-view+json": {
       "model_id": "ef212331be4448ce8b1bb161db38dacf",
       "version_major": 2,
       "version_minor": 0
      },
      "text/plain": [
       "  0%|          | 0/5 [00:00<?, ?it/s]"
      ]
     },
     "metadata": {},
     "output_type": "display_data"
    },
    {
     "name": "stdout",
     "output_type": "stream",
     "text": [
      "Saving generated images at /raid/home/ashhar21137/watermarking/dwtDctSvd/dwt_paraphrase_0.1/357684\n",
      "Generated Image saved to /raid/home/ashhar21137/watermarking/dwtDctSvd/dwt_paraphrase_0.1/357684/357684_gen_0.png\n",
      "Generated Image saved to /raid/home/ashhar21137/watermarking/dwtDctSvd/dwt_paraphrase_0.1/357684/357684_gen_1.png\n",
      "Generated Image saved to /raid/home/ashhar21137/watermarking/dwtDctSvd/dwt_paraphrase_0.1/357684/357684_gen_2.png\n",
      "Generated Image saved to /raid/home/ashhar21137/watermarking/dwtDctSvd/dwt_paraphrase_0.1/357684/357684_gen_3.png\n",
      "Generated Image saved to /raid/home/ashhar21137/watermarking/dwtDctSvd/dwt_paraphrase_0.1/357684/357684_gen_4.png\n",
      "\n",
      "Number of images generated :  5\n",
      "********** Watermark detection for generated images ***************\n",
      "caption : Several groups of people are standing outside of a building.\n",
      "Watermark Presence Prob.: 0.0\n",
      "caption : A view of a clock tower with people around it.\n",
      "Watermark Presence Prob.: 0.0\n",
      "caption : A small clock tower in a town plaza.\n"
     ]
    },
    {
     "name": "stderr",
     "output_type": "stream",
     "text": [
      " 82%|████████▎ | 165/200 [08:47<01:47,  3.06s/it]"
     ]
    },
    {
     "name": "stdout",
     "output_type": "stream",
     "text": [
      "Watermark Presence Prob.: 0.0\n",
      "caption : there are many people that are gathered in this square\n",
      "Watermark Presence Prob.: 0.0\n",
      "caption : Many people are strolling through the open plaza. \n",
      "Watermark Presence Prob.: 0.0\n",
      "---------- Count = 166 : Visual Paraphrasing for the watermarked version of 101418-------------\n",
      "\n",
      "Image name :  Image_101418.jpg\n",
      "Image id : 101418\n"
     ]
    },
    {
     "data": {
      "application/vnd.jupyter.widget-view+json": {
       "model_id": "dcfcda40eb7445789157fa1d4a83c9b4",
       "version_major": 2,
       "version_minor": 0
      },
      "text/plain": [
       "  0%|          | 0/5 [00:00<?, ?it/s]"
      ]
     },
     "metadata": {},
     "output_type": "display_data"
    },
    {
     "name": "stdout",
     "output_type": "stream",
     "text": [
      "Saving generated images at /raid/home/ashhar21137/watermarking/dwtDctSvd/dwt_paraphrase_0.1/101418\n",
      "Generated Image saved to /raid/home/ashhar21137/watermarking/dwtDctSvd/dwt_paraphrase_0.1/101418/101418_gen_0.png\n",
      "Generated Image saved to /raid/home/ashhar21137/watermarking/dwtDctSvd/dwt_paraphrase_0.1/101418/101418_gen_1.png\n",
      "Generated Image saved to /raid/home/ashhar21137/watermarking/dwtDctSvd/dwt_paraphrase_0.1/101418/101418_gen_2.png\n",
      "Generated Image saved to /raid/home/ashhar21137/watermarking/dwtDctSvd/dwt_paraphrase_0.1/101418/101418_gen_3.png\n",
      "Generated Image saved to /raid/home/ashhar21137/watermarking/dwtDctSvd/dwt_paraphrase_0.1/101418/101418_gen_4.png\n",
      "\n",
      "Number of images generated :  5\n",
      "********** Watermark detection for generated images ***************\n",
      "caption : A giraffe is peeking its head out over the bushes.\n",
      "Watermark Presence Prob.: 0\n",
      "caption : a giraffe near many trees and bushes \n",
      "Watermark Presence Prob.: 0\n",
      "caption : The giraffe's head and neck is visible above the bushes. \n"
     ]
    },
    {
     "name": "stderr",
     "output_type": "stream",
     "text": [
      " 83%|████████▎ | 166/200 [08:50<01:47,  3.15s/it]"
     ]
    },
    {
     "name": "stdout",
     "output_type": "stream",
     "text": [
      "Watermark Presence Prob.: 0\n",
      "caption : The single giraffe is standing in the tall bushes.\n",
      "Watermark Presence Prob.: 0\n",
      "caption : A tall giraffe standing in the middle of a forest.\n",
      "Watermark Presence Prob.: 0\n",
      "---------- Count = 167 : Visual Paraphrasing for the watermarked version of 219025-------------\n",
      "\n",
      "Image name :  Image_219025.jpg\n",
      "Image id : 219025\n"
     ]
    },
    {
     "data": {
      "application/vnd.jupyter.widget-view+json": {
       "model_id": "c5cc277b61eb487c86e1c353ce775619",
       "version_major": 2,
       "version_minor": 0
      },
      "text/plain": [
       "  0%|          | 0/5 [00:00<?, ?it/s]"
      ]
     },
     "metadata": {},
     "output_type": "display_data"
    },
    {
     "name": "stdout",
     "output_type": "stream",
     "text": [
      "Saving generated images at /raid/home/ashhar21137/watermarking/dwtDctSvd/dwt_paraphrase_0.1/219025\n",
      "Generated Image saved to /raid/home/ashhar21137/watermarking/dwtDctSvd/dwt_paraphrase_0.1/219025/219025_gen_0.png\n",
      "Generated Image saved to /raid/home/ashhar21137/watermarking/dwtDctSvd/dwt_paraphrase_0.1/219025/219025_gen_1.png\n",
      "Generated Image saved to /raid/home/ashhar21137/watermarking/dwtDctSvd/dwt_paraphrase_0.1/219025/219025_gen_2.png\n",
      "Generated Image saved to /raid/home/ashhar21137/watermarking/dwtDctSvd/dwt_paraphrase_0.1/219025/219025_gen_3.png\n",
      "Generated Image saved to /raid/home/ashhar21137/watermarking/dwtDctSvd/dwt_paraphrase_0.1/219025/219025_gen_4.png\n",
      "\n",
      "Number of images generated :  5\n",
      "********** Watermark detection for generated images ***************\n",
      "caption : A group of passengers standing next to a parked bus.\n",
      "Watermark Presence Prob.: 0\n",
      "caption : People are standing outside of a bus in a parking lot.\n",
      "Watermark Presence Prob.: 0\n",
      "caption : Several people congregating outside of two tourist buses.\n",
      "Watermark Presence Prob.: 0\n",
      "caption : A group of people are standing in front of two tour buses.\n"
     ]
    },
    {
     "name": "stderr",
     "output_type": "stream",
     "text": [
      " 84%|████████▎ | 167/200 [08:54<01:50,  3.34s/it]"
     ]
    },
    {
     "name": "stdout",
     "output_type": "stream",
     "text": [
      "Watermark Presence Prob.: 0\n",
      "caption : PEOPLE ARE STANDING IN FRONT OF A BUS \n",
      "Watermark Presence Prob.: 0\n",
      "---------- Count = 168 : Visual Paraphrasing for the watermarked version of 547471-------------\n",
      "\n",
      "Image name :  Image_547471.jpg\n",
      "Image id : 547471\n"
     ]
    },
    {
     "data": {
      "application/vnd.jupyter.widget-view+json": {
       "model_id": "a66267244ec9444386b7eb7ef85fee4d",
       "version_major": 2,
       "version_minor": 0
      },
      "text/plain": [
       "  0%|          | 0/5 [00:00<?, ?it/s]"
      ]
     },
     "metadata": {},
     "output_type": "display_data"
    },
    {
     "name": "stdout",
     "output_type": "stream",
     "text": [
      "Saving generated images at /raid/home/ashhar21137/watermarking/dwtDctSvd/dwt_paraphrase_0.1/547471\n",
      "Generated Image saved to /raid/home/ashhar21137/watermarking/dwtDctSvd/dwt_paraphrase_0.1/547471/547471_gen_0.png\n",
      "Generated Image saved to /raid/home/ashhar21137/watermarking/dwtDctSvd/dwt_paraphrase_0.1/547471/547471_gen_1.png\n",
      "Generated Image saved to /raid/home/ashhar21137/watermarking/dwtDctSvd/dwt_paraphrase_0.1/547471/547471_gen_2.png\n",
      "Generated Image saved to /raid/home/ashhar21137/watermarking/dwtDctSvd/dwt_paraphrase_0.1/547471/547471_gen_3.png\n",
      "Generated Image saved to /raid/home/ashhar21137/watermarking/dwtDctSvd/dwt_paraphrase_0.1/547471/547471_gen_4.png\n",
      "\n",
      "Number of images generated :  5\n",
      "********** Watermark detection for generated images ***************\n",
      "caption : A black and white image of a man in a suit wearing glasses walking through a door.\n",
      "Watermark Presence Prob.: 0.0\n",
      "caption : A nicely dressed man in a door way.\n",
      "Watermark Presence Prob.: 0.0\n",
      "caption : A man in glasses walks through an open door. \n"
     ]
    },
    {
     "name": "stderr",
     "output_type": "stream",
     "text": [
      " 84%|████████▍ | 168/200 [08:57<01:47,  3.36s/it]"
     ]
    },
    {
     "name": "stdout",
     "output_type": "stream",
     "text": [
      "Watermark Presence Prob.: 0.0\n",
      "caption :  A man smiling and walking through a doorway.\n",
      "Watermark Presence Prob.: 0.0\n",
      "caption : A black and white photo of a man in suit and tie.\n",
      "Watermark Presence Prob.: 0.0\n",
      "---------- Count = 169 : Visual Paraphrasing for the watermarked version of 70000-------------\n",
      "\n",
      "Image name :  Image_70000.jpg\n",
      "Image id : 70000\n"
     ]
    },
    {
     "data": {
      "application/vnd.jupyter.widget-view+json": {
       "model_id": "0dd538b5095f436189790e9040f4f4da",
       "version_major": 2,
       "version_minor": 0
      },
      "text/plain": [
       "  0%|          | 0/5 [00:00<?, ?it/s]"
      ]
     },
     "metadata": {},
     "output_type": "display_data"
    },
    {
     "name": "stdout",
     "output_type": "stream",
     "text": [
      "Saving generated images at /raid/home/ashhar21137/watermarking/dwtDctSvd/dwt_paraphrase_0.1/70000\n",
      "Generated Image saved to /raid/home/ashhar21137/watermarking/dwtDctSvd/dwt_paraphrase_0.1/70000/70000_gen_0.png\n",
      "Generated Image saved to /raid/home/ashhar21137/watermarking/dwtDctSvd/dwt_paraphrase_0.1/70000/70000_gen_1.png\n",
      "Generated Image saved to /raid/home/ashhar21137/watermarking/dwtDctSvd/dwt_paraphrase_0.1/70000/70000_gen_2.png\n",
      "Generated Image saved to /raid/home/ashhar21137/watermarking/dwtDctSvd/dwt_paraphrase_0.1/70000/70000_gen_3.png\n",
      "Generated Image saved to /raid/home/ashhar21137/watermarking/dwtDctSvd/dwt_paraphrase_0.1/70000/70000_gen_4.png\n",
      "\n",
      "Number of images generated :  5\n",
      "********** Watermark detection for generated images ***************\n",
      "caption : Bright loft space with large rustic dining table and bikes on the wall.\n",
      "Watermark Presence Prob.: 0\n",
      "caption : A room with windows, bikes, chairs, and a table. \n",
      "Watermark Presence Prob.: 0\n",
      "caption : A room with a table and chairs and bikes hanging up.\n",
      "Watermark Presence Prob.: 0.0\n",
      "caption : There is a long table in the middle of this room.\n",
      "Watermark Presence Prob.: 0\n",
      "caption : A dark room with a long wooden table and a bike hanging on the wall.\n",
      "Watermark Presence Prob.: 0.0\n"
     ]
    },
    {
     "name": "stderr",
     "output_type": "stream",
     "text": [
      " 84%|████████▍ | 169/200 [09:01<01:46,  3.44s/it]"
     ]
    },
    {
     "name": "stdout",
     "output_type": "stream",
     "text": [
      "---------- Count = 170 : Visual Paraphrasing for the watermarked version of 289019-------------\n",
      "\n",
      "Image name :  Image_289019.jpg\n",
      "Image id : 289019\n"
     ]
    },
    {
     "data": {
      "application/vnd.jupyter.widget-view+json": {
       "model_id": "b692e4c8f55a46139e7bfef3ac60e5d9",
       "version_major": 2,
       "version_minor": 0
      },
      "text/plain": [
       "  0%|          | 0/5 [00:00<?, ?it/s]"
      ]
     },
     "metadata": {},
     "output_type": "display_data"
    },
    {
     "name": "stdout",
     "output_type": "stream",
     "text": [
      "Saving generated images at /raid/home/ashhar21137/watermarking/dwtDctSvd/dwt_paraphrase_0.1/289019\n",
      "Generated Image saved to /raid/home/ashhar21137/watermarking/dwtDctSvd/dwt_paraphrase_0.1/289019/289019_gen_0.png\n",
      "Generated Image saved to /raid/home/ashhar21137/watermarking/dwtDctSvd/dwt_paraphrase_0.1/289019/289019_gen_1.png\n",
      "Generated Image saved to /raid/home/ashhar21137/watermarking/dwtDctSvd/dwt_paraphrase_0.1/289019/289019_gen_2.png\n",
      "Generated Image saved to /raid/home/ashhar21137/watermarking/dwtDctSvd/dwt_paraphrase_0.1/289019/289019_gen_3.png\n",
      "Generated Image saved to /raid/home/ashhar21137/watermarking/dwtDctSvd/dwt_paraphrase_0.1/289019/289019_gen_4.png\n",
      "\n",
      "Number of images generated :  5\n",
      "********** Watermark detection for generated images ***************\n",
      "caption : Horse-drawn carriage moves along street carrying two passengers\n",
      "Watermark Presence Prob.: 0.0\n",
      "caption : A couple sitting on the back of a horse drawn carriage.\n",
      "Watermark Presence Prob.: 0.0\n",
      "caption : A horse and carriage ride in an old town \n",
      "Watermark Presence Prob.: 0.0\n",
      "caption : People are riding in a horse drawn carriage with yellow wheels.\n"
     ]
    },
    {
     "name": "stderr",
     "output_type": "stream",
     "text": [
      " 85%|████████▌ | 170/200 [09:05<01:45,  3.53s/it]"
     ]
    },
    {
     "name": "stdout",
     "output_type": "stream",
     "text": [
      "Watermark Presence Prob.: 0.0\n",
      "caption : A man is giving horse drawn carriage rides to a couple.\n",
      "Watermark Presence Prob.: 0\n",
      "---------- Count = 171 : Visual Paraphrasing for the watermarked version of 270912-------------\n",
      "\n",
      "Image name :  Image_270912.jpg\n",
      "Image id : 270912\n"
     ]
    },
    {
     "data": {
      "application/vnd.jupyter.widget-view+json": {
       "model_id": "3b17750e619f4e2d8390c45df1d3d354",
       "version_major": 2,
       "version_minor": 0
      },
      "text/plain": [
       "  0%|          | 0/5 [00:00<?, ?it/s]"
      ]
     },
     "metadata": {},
     "output_type": "display_data"
    },
    {
     "name": "stdout",
     "output_type": "stream",
     "text": [
      "Saving generated images at /raid/home/ashhar21137/watermarking/dwtDctSvd/dwt_paraphrase_0.1/270912\n",
      "Generated Image saved to /raid/home/ashhar21137/watermarking/dwtDctSvd/dwt_paraphrase_0.1/270912/270912_gen_0.png\n",
      "Generated Image saved to /raid/home/ashhar21137/watermarking/dwtDctSvd/dwt_paraphrase_0.1/270912/270912_gen_1.png\n",
      "Generated Image saved to /raid/home/ashhar21137/watermarking/dwtDctSvd/dwt_paraphrase_0.1/270912/270912_gen_2.png\n",
      "Generated Image saved to /raid/home/ashhar21137/watermarking/dwtDctSvd/dwt_paraphrase_0.1/270912/270912_gen_3.png\n",
      "Generated Image saved to /raid/home/ashhar21137/watermarking/dwtDctSvd/dwt_paraphrase_0.1/270912/270912_gen_4.png\n",
      "\n",
      "Number of images generated :  5\n",
      "********** Watermark detection for generated images ***************\n",
      "caption : A policeman in a helmet standing next to his motorcycle.\n",
      "Watermark Presence Prob.: 0\n",
      "caption : The police man is posing for a picture near his motorcycle.\n",
      "Watermark Presence Prob.: 0.0\n",
      "caption : A man that is standing next to a motorcycle.\n",
      "Watermark Presence Prob.: 0.0\n",
      "caption : A cop standing next to a couple or parked motorcycles.\n"
     ]
    },
    {
     "name": "stderr",
     "output_type": "stream",
     "text": [
      " 86%|████████▌ | 171/200 [09:08<01:37,  3.36s/it]"
     ]
    },
    {
     "name": "stdout",
     "output_type": "stream",
     "text": [
      "Watermark Presence Prob.: 0.0\n",
      "caption : A motorcycle police officer next to his vehicle. \n",
      "Watermark Presence Prob.: 0.0\n",
      "---------- Count = 172 : Visual Paraphrasing for the watermarked version of 485894-------------\n",
      "\n",
      "Image name :  Image_485894.jpg\n",
      "Image id : 485894\n"
     ]
    },
    {
     "data": {
      "application/vnd.jupyter.widget-view+json": {
       "model_id": "33cabc6152754f41ac87ad55963cdf3c",
       "version_major": 2,
       "version_minor": 0
      },
      "text/plain": [
       "  0%|          | 0/5 [00:00<?, ?it/s]"
      ]
     },
     "metadata": {},
     "output_type": "display_data"
    },
    {
     "name": "stdout",
     "output_type": "stream",
     "text": [
      "Saving generated images at /raid/home/ashhar21137/watermarking/dwtDctSvd/dwt_paraphrase_0.1/485894\n",
      "Generated Image saved to /raid/home/ashhar21137/watermarking/dwtDctSvd/dwt_paraphrase_0.1/485894/485894_gen_0.png\n",
      "Generated Image saved to /raid/home/ashhar21137/watermarking/dwtDctSvd/dwt_paraphrase_0.1/485894/485894_gen_1.png\n",
      "Generated Image saved to /raid/home/ashhar21137/watermarking/dwtDctSvd/dwt_paraphrase_0.1/485894/485894_gen_2.png\n",
      "Generated Image saved to /raid/home/ashhar21137/watermarking/dwtDctSvd/dwt_paraphrase_0.1/485894/485894_gen_3.png\n",
      "Generated Image saved to /raid/home/ashhar21137/watermarking/dwtDctSvd/dwt_paraphrase_0.1/485894/485894_gen_4.png\n",
      "\n",
      "Number of images generated :  5\n",
      "********** Watermark detection for generated images ***************\n",
      "caption : A bathroom with a white bath tub sitting in a corner of a green room.\n",
      "Watermark Presence Prob.: 0\n",
      "caption : A mint green bathroom with car pictures on the wall\n",
      "Watermark Presence Prob.: 0\n",
      "caption : a bathroom with mint green walls and pictures \n",
      "Watermark Presence Prob.: 0\n",
      "caption : Two pictures are hanging on the wall of the bathroom.\n",
      "Watermark Presence Prob.: 0\n",
      "caption : A bathroom has pictures hanging on the wall above the bathtub.\n"
     ]
    },
    {
     "name": "stderr",
     "output_type": "stream",
     "text": [
      " 86%|████████▌ | 172/200 [09:11<01:29,  3.21s/it]"
     ]
    },
    {
     "name": "stdout",
     "output_type": "stream",
     "text": [
      "Watermark Presence Prob.: 0\n",
      "---------- Count = 173 : Visual Paraphrasing for the watermarked version of 535786-------------\n",
      "\n",
      "Image name :  Image_535786.jpg\n",
      "Image id : 535786\n"
     ]
    },
    {
     "data": {
      "application/vnd.jupyter.widget-view+json": {
       "model_id": "27b6d13178be4c3d92f6011e0e59bc7f",
       "version_major": 2,
       "version_minor": 0
      },
      "text/plain": [
       "  0%|          | 0/5 [00:00<?, ?it/s]"
      ]
     },
     "metadata": {},
     "output_type": "display_data"
    },
    {
     "name": "stdout",
     "output_type": "stream",
     "text": [
      "Saving generated images at /raid/home/ashhar21137/watermarking/dwtDctSvd/dwt_paraphrase_0.1/535786\n",
      "Generated Image saved to /raid/home/ashhar21137/watermarking/dwtDctSvd/dwt_paraphrase_0.1/535786/535786_gen_0.png\n",
      "Generated Image saved to /raid/home/ashhar21137/watermarking/dwtDctSvd/dwt_paraphrase_0.1/535786/535786_gen_1.png\n",
      "Generated Image saved to /raid/home/ashhar21137/watermarking/dwtDctSvd/dwt_paraphrase_0.1/535786/535786_gen_2.png\n",
      "Generated Image saved to /raid/home/ashhar21137/watermarking/dwtDctSvd/dwt_paraphrase_0.1/535786/535786_gen_3.png\n",
      "Generated Image saved to /raid/home/ashhar21137/watermarking/dwtDctSvd/dwt_paraphrase_0.1/535786/535786_gen_4.png\n",
      "\n",
      "Number of images generated :  5\n",
      "********** Watermark detection for generated images ***************\n",
      "caption : A toilet with a bow on it inside a bathroom.\n",
      "Watermark Presence Prob.: 0\n",
      "caption : a bathroom scene with a white toilet covered with a red bow\n",
      "Watermark Presence Prob.: 0\n",
      "caption : There is a picture of a bathroom with a toliet wrapped in a red ribbon.\n",
      "Watermark Presence Prob.: 0\n",
      "caption : A white bathroom with a carefully gift-wrapped toilet bowl.\n"
     ]
    },
    {
     "name": "stderr",
     "output_type": "stream",
     "text": [
      " 86%|████████▋ | 173/200 [09:14<01:24,  3.13s/it]"
     ]
    },
    {
     "name": "stdout",
     "output_type": "stream",
     "text": [
      "Watermark Presence Prob.: 0\n",
      "caption : A brand new toilet with a bow across the seat.\n",
      "Watermark Presence Prob.: 0\n",
      "---------- Count = 174 : Visual Paraphrasing for the watermarked version of 147016-------------\n",
      "\n",
      "Image name :  Image_147016.jpg\n",
      "Image id : 147016\n"
     ]
    },
    {
     "data": {
      "application/vnd.jupyter.widget-view+json": {
       "model_id": "69b293b844064833a7f8ea5b6564df3e",
       "version_major": 2,
       "version_minor": 0
      },
      "text/plain": [
       "  0%|          | 0/5 [00:00<?, ?it/s]"
      ]
     },
     "metadata": {},
     "output_type": "display_data"
    },
    {
     "name": "stdout",
     "output_type": "stream",
     "text": [
      "Saving generated images at /raid/home/ashhar21137/watermarking/dwtDctSvd/dwt_paraphrase_0.1/147016\n",
      "Generated Image saved to /raid/home/ashhar21137/watermarking/dwtDctSvd/dwt_paraphrase_0.1/147016/147016_gen_0.png\n",
      "Generated Image saved to /raid/home/ashhar21137/watermarking/dwtDctSvd/dwt_paraphrase_0.1/147016/147016_gen_1.png\n",
      "Generated Image saved to /raid/home/ashhar21137/watermarking/dwtDctSvd/dwt_paraphrase_0.1/147016/147016_gen_2.png\n",
      "Generated Image saved to /raid/home/ashhar21137/watermarking/dwtDctSvd/dwt_paraphrase_0.1/147016/147016_gen_3.png\n",
      "Generated Image saved to /raid/home/ashhar21137/watermarking/dwtDctSvd/dwt_paraphrase_0.1/147016/147016_gen_4.png\n",
      "\n",
      "Number of images generated :  5\n",
      "********** Watermark detection for generated images ***************\n",
      "caption : A toilet connected to a wire, next to a speaker.\n",
      "Watermark Presence Prob.: 0\n",
      "caption : A white toilet sitting in the corner of a room next to a black object.\n",
      "Watermark Presence Prob.: 0\n",
      "caption : A toilet with speaker wire running through it.\n"
     ]
    },
    {
     "name": "stderr",
     "output_type": "stream",
     "text": [
      " 87%|████████▋ | 174/200 [09:17<01:21,  3.15s/it]"
     ]
    },
    {
     "name": "stdout",
     "output_type": "stream",
     "text": [
      "Watermark Presence Prob.: 0\n",
      "caption : A toilet and a speaker sitting on the floor.\n",
      "Watermark Presence Prob.: 0\n",
      "caption : An toilet on a wooden floor next to a black speaker\n",
      "Watermark Presence Prob.: 0.0\n",
      "---------- Count = 175 : Visual Paraphrasing for the watermarked version of 343322-------------\n",
      "\n",
      "Image name :  Image_343322.jpg\n",
      "Image id : 343322\n"
     ]
    },
    {
     "data": {
      "application/vnd.jupyter.widget-view+json": {
       "model_id": "a4a31378f4d9498caf64fd65dbc8d576",
       "version_major": 2,
       "version_minor": 0
      },
      "text/plain": [
       "  0%|          | 0/5 [00:00<?, ?it/s]"
      ]
     },
     "metadata": {},
     "output_type": "display_data"
    },
    {
     "name": "stdout",
     "output_type": "stream",
     "text": [
      "Saving generated images at /raid/home/ashhar21137/watermarking/dwtDctSvd/dwt_paraphrase_0.1/343322\n",
      "Generated Image saved to /raid/home/ashhar21137/watermarking/dwtDctSvd/dwt_paraphrase_0.1/343322/343322_gen_0.png\n",
      "Generated Image saved to /raid/home/ashhar21137/watermarking/dwtDctSvd/dwt_paraphrase_0.1/343322/343322_gen_1.png\n",
      "Generated Image saved to /raid/home/ashhar21137/watermarking/dwtDctSvd/dwt_paraphrase_0.1/343322/343322_gen_2.png\n",
      "Generated Image saved to /raid/home/ashhar21137/watermarking/dwtDctSvd/dwt_paraphrase_0.1/343322/343322_gen_3.png\n",
      "Generated Image saved to /raid/home/ashhar21137/watermarking/dwtDctSvd/dwt_paraphrase_0.1/343322/343322_gen_4.png\n",
      "\n",
      "Number of images generated :  5\n",
      "********** Watermark detection for generated images ***************\n",
      "caption : Blue and white antique car at intersection of city roadway.\n",
      "Watermark Presence Prob.: 0\n",
      "caption : A blue vintage car is driving down the street.\n",
      "Watermark Presence Prob.: 0\n",
      "caption : The antique cars are traveling down main street.\n",
      "Watermark Presence Prob.: 0\n",
      "caption : A car driving down a street next to a tall building.\n"
     ]
    },
    {
     "name": "stderr",
     "output_type": "stream",
     "text": [
      " 88%|████████▊ | 175/200 [09:19<01:14,  3.00s/it]"
     ]
    },
    {
     "name": "stdout",
     "output_type": "stream",
     "text": [
      "Watermark Presence Prob.: 0\n",
      "caption : A blue classic Chevy Nomad driving down a busy city street.\n",
      "Watermark Presence Prob.: 0\n",
      "---------- Count = 176 : Visual Paraphrasing for the watermarked version of 412198-------------\n",
      "\n",
      "Image name :  Image_412198.jpg\n",
      "Image id : 412198\n"
     ]
    },
    {
     "data": {
      "application/vnd.jupyter.widget-view+json": {
       "model_id": "cc507611e3c34b6e89d22f9e0115a32e",
       "version_major": 2,
       "version_minor": 0
      },
      "text/plain": [
       "  0%|          | 0/5 [00:00<?, ?it/s]"
      ]
     },
     "metadata": {},
     "output_type": "display_data"
    },
    {
     "name": "stdout",
     "output_type": "stream",
     "text": [
      "Saving generated images at /raid/home/ashhar21137/watermarking/dwtDctSvd/dwt_paraphrase_0.1/412198\n",
      "Generated Image saved to /raid/home/ashhar21137/watermarking/dwtDctSvd/dwt_paraphrase_0.1/412198/412198_gen_0.png\n",
      "Generated Image saved to /raid/home/ashhar21137/watermarking/dwtDctSvd/dwt_paraphrase_0.1/412198/412198_gen_1.png\n",
      "Generated Image saved to /raid/home/ashhar21137/watermarking/dwtDctSvd/dwt_paraphrase_0.1/412198/412198_gen_2.png\n",
      "Generated Image saved to /raid/home/ashhar21137/watermarking/dwtDctSvd/dwt_paraphrase_0.1/412198/412198_gen_3.png\n",
      "Generated Image saved to /raid/home/ashhar21137/watermarking/dwtDctSvd/dwt_paraphrase_0.1/412198/412198_gen_4.png\n",
      "\n",
      "Number of images generated :  5\n",
      "********** Watermark detection for generated images ***************\n",
      "caption : A group of large giraffes walking along together\n",
      "Watermark Presence Prob.: 0\n",
      "caption : Three grown giraffes walking together near tall trees\n",
      "Watermark Presence Prob.: 0\n",
      "caption : Three giraffes, including a youngster, cluster together near a tree.\n",
      "Watermark Presence Prob.: 0\n",
      "caption : A few giraffe looking alertly at something in a zoo.\n"
     ]
    },
    {
     "name": "stderr",
     "output_type": "stream",
     "text": [
      " 88%|████████▊ | 176/200 [09:22<01:08,  2.86s/it]"
     ]
    },
    {
     "name": "stdout",
     "output_type": "stream",
     "text": [
      "Watermark Presence Prob.: 0\n",
      "caption : Three giraffes that are walking together in an enclosure.\n",
      "Watermark Presence Prob.: 0\n",
      "---------- Count = 177 : Visual Paraphrasing for the watermarked version of 77806-------------\n",
      "\n",
      "Image name :  Image_77806.jpg\n",
      "Image id : 77806\n"
     ]
    },
    {
     "data": {
      "application/vnd.jupyter.widget-view+json": {
       "model_id": "e6c91045fc6d4599b17f930c2f52880c",
       "version_major": 2,
       "version_minor": 0
      },
      "text/plain": [
       "  0%|          | 0/5 [00:00<?, ?it/s]"
      ]
     },
     "metadata": {},
     "output_type": "display_data"
    },
    {
     "name": "stdout",
     "output_type": "stream",
     "text": [
      "Saving generated images at /raid/home/ashhar21137/watermarking/dwtDctSvd/dwt_paraphrase_0.1/77806\n",
      "Generated Image saved to /raid/home/ashhar21137/watermarking/dwtDctSvd/dwt_paraphrase_0.1/77806/77806_gen_0.png\n",
      "Generated Image saved to /raid/home/ashhar21137/watermarking/dwtDctSvd/dwt_paraphrase_0.1/77806/77806_gen_1.png\n",
      "Generated Image saved to /raid/home/ashhar21137/watermarking/dwtDctSvd/dwt_paraphrase_0.1/77806/77806_gen_2.png\n",
      "Generated Image saved to /raid/home/ashhar21137/watermarking/dwtDctSvd/dwt_paraphrase_0.1/77806/77806_gen_3.png\n",
      "Generated Image saved to /raid/home/ashhar21137/watermarking/dwtDctSvd/dwt_paraphrase_0.1/77806/77806_gen_4.png\n",
      "\n",
      "Number of images generated :  5\n",
      "********** Watermark detection for generated images ***************\n",
      "caption : Small dog in wire basket transported on motor scooter in city.\n",
      "Watermark Presence Prob.: 0\n",
      "caption : A dog is inside of a covered cage on back of a motorcycle.\n",
      "Watermark Presence Prob.: 0\n",
      "caption : a dog in a cage on a motocycle\n"
     ]
    },
    {
     "name": "stderr",
     "output_type": "stream",
     "text": [
      " 88%|████████▊ | 177/200 [09:25<01:06,  2.87s/it]"
     ]
    },
    {
     "name": "stdout",
     "output_type": "stream",
     "text": [
      "Watermark Presence Prob.: 0.0\n",
      "caption : A dog sits in a cage on the back of a motorcycle.\n",
      "Watermark Presence Prob.: 0\n",
      "caption : A dog is in a cage on the back of a motorcycle\n",
      "Watermark Presence Prob.: 0.0\n",
      "---------- Count = 178 : Visual Paraphrasing for the watermarked version of 168194-------------\n",
      "\n",
      "Image name :  Image_168194.jpg\n",
      "Image id : 168194\n"
     ]
    },
    {
     "data": {
      "application/vnd.jupyter.widget-view+json": {
       "model_id": "e3acdb00b7094e07bee67c310a8e9383",
       "version_major": 2,
       "version_minor": 0
      },
      "text/plain": [
       "  0%|          | 0/5 [00:00<?, ?it/s]"
      ]
     },
     "metadata": {},
     "output_type": "display_data"
    },
    {
     "name": "stdout",
     "output_type": "stream",
     "text": [
      "Saving generated images at /raid/home/ashhar21137/watermarking/dwtDctSvd/dwt_paraphrase_0.1/168194\n",
      "Generated Image saved to /raid/home/ashhar21137/watermarking/dwtDctSvd/dwt_paraphrase_0.1/168194/168194_gen_0.png\n",
      "Generated Image saved to /raid/home/ashhar21137/watermarking/dwtDctSvd/dwt_paraphrase_0.1/168194/168194_gen_1.png\n",
      "Generated Image saved to /raid/home/ashhar21137/watermarking/dwtDctSvd/dwt_paraphrase_0.1/168194/168194_gen_2.png\n",
      "Generated Image saved to /raid/home/ashhar21137/watermarking/dwtDctSvd/dwt_paraphrase_0.1/168194/168194_gen_3.png\n",
      "Generated Image saved to /raid/home/ashhar21137/watermarking/dwtDctSvd/dwt_paraphrase_0.1/168194/168194_gen_4.png\n",
      "\n",
      "Number of images generated :  5\n",
      "********** Watermark detection for generated images ***************\n",
      "caption : Steam coming out of a post during the day.\n",
      "Watermark Presence Prob.: 0\n",
      "caption : Smoke comes from a dirty pipe in this cityscape\n",
      "Watermark Presence Prob.: 0.0\n",
      "caption : An orange traffic cone with steam pouring out of it.\n",
      "Watermark Presence Prob.: 0.0\n",
      "caption : Smoke coming out of a stack with a  green traffic light and a picture of Mr Peanut on a building.\n",
      "Watermark Presence Prob.: 0\n",
      "caption : A close-up of a cone with smoke coming out.\n"
     ]
    },
    {
     "name": "stderr",
     "output_type": "stream",
     "text": [
      " 89%|████████▉ | 178/200 [09:27<01:01,  2.79s/it]"
     ]
    },
    {
     "name": "stdout",
     "output_type": "stream",
     "text": [
      "Watermark Presence Prob.: 0\n",
      "---------- Count = 179 : Visual Paraphrasing for the watermarked version of 303291-------------\n",
      "\n",
      "Image name :  Image_303291.jpg\n",
      "Image id : 303291\n"
     ]
    },
    {
     "data": {
      "application/vnd.jupyter.widget-view+json": {
       "model_id": "e4ba0ee487914359890978421260256c",
       "version_major": 2,
       "version_minor": 0
      },
      "text/plain": [
       "  0%|          | 0/5 [00:00<?, ?it/s]"
      ]
     },
     "metadata": {},
     "output_type": "display_data"
    },
    {
     "name": "stdout",
     "output_type": "stream",
     "text": [
      "Saving generated images at /raid/home/ashhar21137/watermarking/dwtDctSvd/dwt_paraphrase_0.1/303291\n",
      "Generated Image saved to /raid/home/ashhar21137/watermarking/dwtDctSvd/dwt_paraphrase_0.1/303291/303291_gen_0.png\n",
      "Generated Image saved to /raid/home/ashhar21137/watermarking/dwtDctSvd/dwt_paraphrase_0.1/303291/303291_gen_1.png\n",
      "Generated Image saved to /raid/home/ashhar21137/watermarking/dwtDctSvd/dwt_paraphrase_0.1/303291/303291_gen_2.png\n",
      "Generated Image saved to /raid/home/ashhar21137/watermarking/dwtDctSvd/dwt_paraphrase_0.1/303291/303291_gen_3.png\n",
      "Generated Image saved to /raid/home/ashhar21137/watermarking/dwtDctSvd/dwt_paraphrase_0.1/303291/303291_gen_4.png\n",
      "\n",
      "Number of images generated :  5\n",
      "********** Watermark detection for generated images ***************\n",
      "caption : A woolen cap atop a fire hydrant on the sidewalk\n",
      "Watermark Presence Prob.: 0\n",
      "caption : A close up of a red and white fire hydrant with a black cap on top of it. \n",
      "Watermark Presence Prob.: 0\n",
      "caption : Fire hydrant on a stone tiled sidewalk \"wearing\" a stocking hat.\n"
     ]
    },
    {
     "name": "stderr",
     "output_type": "stream",
     "text": [
      " 90%|████████▉ | 179/200 [09:30<00:57,  2.72s/it]"
     ]
    },
    {
     "name": "stdout",
     "output_type": "stream",
     "text": [
      "Watermark Presence Prob.: 0.0\n",
      "caption : A red and white fire hydrant with a black hat on it\n",
      "Watermark Presence Prob.: 0\n",
      "caption : A fire hydrant has a hat on top of it.\n",
      "Watermark Presence Prob.: 0.0\n",
      "---------- Count = 180 : Visual Paraphrasing for the watermarked version of 491269-------------\n",
      "\n",
      "Image name :  Image_491269.jpg\n",
      "Image id : 491269\n"
     ]
    },
    {
     "data": {
      "application/vnd.jupyter.widget-view+json": {
       "model_id": "83297fbcb07c4869a4eac7a722b02341",
       "version_major": 2,
       "version_minor": 0
      },
      "text/plain": [
       "  0%|          | 0/5 [00:00<?, ?it/s]"
      ]
     },
     "metadata": {},
     "output_type": "display_data"
    },
    {
     "name": "stdout",
     "output_type": "stream",
     "text": [
      "Saving generated images at /raid/home/ashhar21137/watermarking/dwtDctSvd/dwt_paraphrase_0.1/491269\n",
      "Generated Image saved to /raid/home/ashhar21137/watermarking/dwtDctSvd/dwt_paraphrase_0.1/491269/491269_gen_0.png\n",
      "Generated Image saved to /raid/home/ashhar21137/watermarking/dwtDctSvd/dwt_paraphrase_0.1/491269/491269_gen_1.png\n",
      "Generated Image saved to /raid/home/ashhar21137/watermarking/dwtDctSvd/dwt_paraphrase_0.1/491269/491269_gen_2.png\n",
      "Generated Image saved to /raid/home/ashhar21137/watermarking/dwtDctSvd/dwt_paraphrase_0.1/491269/491269_gen_3.png\n",
      "Generated Image saved to /raid/home/ashhar21137/watermarking/dwtDctSvd/dwt_paraphrase_0.1/491269/491269_gen_4.png\n",
      "\n",
      "Number of images generated :  5\n",
      "********** Watermark detection for generated images ***************\n",
      "caption : A very cluttered but very clean kept kitchen.\n",
      "Watermark Presence Prob.: 0\n",
      "caption : A small and cramped empty kitchen with overhead lighting \n",
      "Watermark Presence Prob.: 0\n",
      "caption : Looking into a small home kitchen with stove in a bar.\n",
      "Watermark Presence Prob.: 0\n",
      "caption : a small kitchen with two microwaves a fridge and stove\n",
      "Watermark Presence Prob.: 0\n",
      "caption : A full kitchen that is accented with the color red.\n"
     ]
    },
    {
     "name": "stderr",
     "output_type": "stream",
     "text": [
      " 90%|█████████ | 180/200 [09:33<00:55,  2.78s/it]"
     ]
    },
    {
     "name": "stdout",
     "output_type": "stream",
     "text": [
      "Watermark Presence Prob.: 0\n",
      "---------- Count = 181 : Visual Paraphrasing for the watermarked version of 530683-------------\n",
      "\n",
      "Image name :  Image_530683.jpg\n",
      "Image id : 530683\n"
     ]
    },
    {
     "data": {
      "application/vnd.jupyter.widget-view+json": {
       "model_id": "7f100c848f2b48f19ec97edd19e001d4",
       "version_major": 2,
       "version_minor": 0
      },
      "text/plain": [
       "  0%|          | 0/5 [00:00<?, ?it/s]"
      ]
     },
     "metadata": {},
     "output_type": "display_data"
    },
    {
     "name": "stdout",
     "output_type": "stream",
     "text": [
      "Saving generated images at /raid/home/ashhar21137/watermarking/dwtDctSvd/dwt_paraphrase_0.1/530683\n",
      "Generated Image saved to /raid/home/ashhar21137/watermarking/dwtDctSvd/dwt_paraphrase_0.1/530683/530683_gen_0.png\n",
      "Generated Image saved to /raid/home/ashhar21137/watermarking/dwtDctSvd/dwt_paraphrase_0.1/530683/530683_gen_1.png\n",
      "Generated Image saved to /raid/home/ashhar21137/watermarking/dwtDctSvd/dwt_paraphrase_0.1/530683/530683_gen_2.png\n",
      "Generated Image saved to /raid/home/ashhar21137/watermarking/dwtDctSvd/dwt_paraphrase_0.1/530683/530683_gen_3.png\n",
      "Generated Image saved to /raid/home/ashhar21137/watermarking/dwtDctSvd/dwt_paraphrase_0.1/530683/530683_gen_4.png\n",
      "\n",
      "Number of images generated :  5\n",
      "********** Watermark detection for generated images ***************\n",
      "caption : A woman in a dress riding a bicycle.\n",
      "Watermark Presence Prob.: 0\n",
      "caption : A woman in a black and white dress on a bicycle.\n",
      "Watermark Presence Prob.: 0\n",
      "caption : A woman stand near a group of people, and everyone is on bikes.\n",
      "Watermark Presence Prob.: 0\n",
      "caption : A woman in sunglasses is sitting on a bike with a dog.\n",
      "Watermark Presence Prob.: 0\n",
      "caption : A woman and a dog on a bike on the street.\n"
     ]
    },
    {
     "name": "stderr",
     "output_type": "stream",
     "text": [
      " 90%|█████████ | 181/200 [09:36<00:56,  2.99s/it]"
     ]
    },
    {
     "name": "stdout",
     "output_type": "stream",
     "text": [
      "Watermark Presence Prob.: 0\n",
      "---------- Count = 182 : Visual Paraphrasing for the watermarked version of 172899-------------\n",
      "\n",
      "Image name :  Image_172899.jpg\n",
      "Image id : 172899\n"
     ]
    },
    {
     "data": {
      "application/vnd.jupyter.widget-view+json": {
       "model_id": "a5762099304d4cfb89a894fc1360c1c0",
       "version_major": 2,
       "version_minor": 0
      },
      "text/plain": [
       "  0%|          | 0/5 [00:00<?, ?it/s]"
      ]
     },
     "metadata": {},
     "output_type": "display_data"
    },
    {
     "name": "stdout",
     "output_type": "stream",
     "text": [
      "Saving generated images at /raid/home/ashhar21137/watermarking/dwtDctSvd/dwt_paraphrase_0.1/172899\n",
      "Generated Image saved to /raid/home/ashhar21137/watermarking/dwtDctSvd/dwt_paraphrase_0.1/172899/172899_gen_0.png\n",
      "Generated Image saved to /raid/home/ashhar21137/watermarking/dwtDctSvd/dwt_paraphrase_0.1/172899/172899_gen_1.png\n",
      "Generated Image saved to /raid/home/ashhar21137/watermarking/dwtDctSvd/dwt_paraphrase_0.1/172899/172899_gen_2.png\n",
      "Generated Image saved to /raid/home/ashhar21137/watermarking/dwtDctSvd/dwt_paraphrase_0.1/172899/172899_gen_3.png\n",
      "Generated Image saved to /raid/home/ashhar21137/watermarking/dwtDctSvd/dwt_paraphrase_0.1/172899/172899_gen_4.png\n",
      "\n",
      "Number of images generated :  5\n",
      "********** Watermark detection for generated images ***************\n",
      "caption : A bathroom scene complete with a tab, sink and toilet.\n",
      "Watermark Presence Prob.: 0\n",
      "caption : A plain bathroom features a white toilet and sink and a beige bathtub.\n",
      "Watermark Presence Prob.: 0\n",
      "caption : A bathroom with both white and beige fixtures.  \n"
     ]
    },
    {
     "name": "stderr",
     "output_type": "stream",
     "text": [
      " 91%|█████████ | 182/200 [09:39<00:53,  2.97s/it]"
     ]
    },
    {
     "name": "stdout",
     "output_type": "stream",
     "text": [
      "Watermark Presence Prob.: 0\n",
      "caption : Three piece bathroom with white sink and toilet and beige tub/shower.\n",
      "Watermark Presence Prob.: 0\n",
      "caption : A bathroom white sink, toilet and shower, looks clean.\n",
      "Watermark Presence Prob.: 0\n",
      "---------- Count = 183 : Visual Paraphrasing for the watermarked version of 267688-------------\n",
      "\n",
      "Image name :  Image_267688.jpg\n",
      "Image id : 267688\n"
     ]
    },
    {
     "data": {
      "application/vnd.jupyter.widget-view+json": {
       "model_id": "a5522bfeb7b7487f91dc43e73b0f42c4",
       "version_major": 2,
       "version_minor": 0
      },
      "text/plain": [
       "  0%|          | 0/5 [00:00<?, ?it/s]"
      ]
     },
     "metadata": {},
     "output_type": "display_data"
    },
    {
     "name": "stdout",
     "output_type": "stream",
     "text": [
      "Saving generated images at /raid/home/ashhar21137/watermarking/dwtDctSvd/dwt_paraphrase_0.1/267688\n",
      "Generated Image saved to /raid/home/ashhar21137/watermarking/dwtDctSvd/dwt_paraphrase_0.1/267688/267688_gen_0.png\n",
      "Generated Image saved to /raid/home/ashhar21137/watermarking/dwtDctSvd/dwt_paraphrase_0.1/267688/267688_gen_1.png\n",
      "Generated Image saved to /raid/home/ashhar21137/watermarking/dwtDctSvd/dwt_paraphrase_0.1/267688/267688_gen_2.png\n",
      "Generated Image saved to /raid/home/ashhar21137/watermarking/dwtDctSvd/dwt_paraphrase_0.1/267688/267688_gen_3.png\n",
      "Generated Image saved to /raid/home/ashhar21137/watermarking/dwtDctSvd/dwt_paraphrase_0.1/267688/267688_gen_4.png\n",
      "\n",
      "Number of images generated :  5\n",
      "********** Watermark detection for generated images ***************\n",
      "caption : A motorcyclist takes a turn in front of a crowd.\n",
      "Watermark Presence Prob.: 0.0\n",
      "caption : A black and white photo of a man riding a motorcycle with spectators watching.\n",
      "Watermark Presence Prob.: 0.0\n",
      "caption : A man on a motorcycle leaning into a curve during a race.\n"
     ]
    },
    {
     "name": "stderr",
     "output_type": "stream",
     "text": [
      " 92%|█████████▏| 183/200 [09:42<00:50,  2.97s/it]"
     ]
    },
    {
     "name": "stdout",
     "output_type": "stream",
     "text": [
      "Watermark Presence Prob.: 0.0\n",
      "caption : A man turning a corner on his motorcycle. \n",
      "Watermark Presence Prob.: 0.0\n",
      "caption : A man on a motorcycle with # 20 on the handle bars rounding a curve while others look on.\n",
      "Watermark Presence Prob.: 0.0\n",
      "---------- Count = 184 : Visual Paraphrasing for the watermarked version of 523617-------------\n",
      "\n",
      "Image name :  Image_523617.jpg\n",
      "Image id : 523617\n"
     ]
    },
    {
     "data": {
      "application/vnd.jupyter.widget-view+json": {
       "model_id": "19a54372363c4bde8b88454ee05dd521",
       "version_major": 2,
       "version_minor": 0
      },
      "text/plain": [
       "  0%|          | 0/5 [00:00<?, ?it/s]"
      ]
     },
     "metadata": {},
     "output_type": "display_data"
    },
    {
     "name": "stdout",
     "output_type": "stream",
     "text": [
      "Saving generated images at /raid/home/ashhar21137/watermarking/dwtDctSvd/dwt_paraphrase_0.1/523617\n",
      "Generated Image saved to /raid/home/ashhar21137/watermarking/dwtDctSvd/dwt_paraphrase_0.1/523617/523617_gen_0.png\n",
      "Generated Image saved to /raid/home/ashhar21137/watermarking/dwtDctSvd/dwt_paraphrase_0.1/523617/523617_gen_1.png\n",
      "Generated Image saved to /raid/home/ashhar21137/watermarking/dwtDctSvd/dwt_paraphrase_0.1/523617/523617_gen_2.png\n",
      "Generated Image saved to /raid/home/ashhar21137/watermarking/dwtDctSvd/dwt_paraphrase_0.1/523617/523617_gen_3.png\n",
      "Generated Image saved to /raid/home/ashhar21137/watermarking/dwtDctSvd/dwt_paraphrase_0.1/523617/523617_gen_4.png\n",
      "\n",
      "Number of images generated :  5\n",
      "********** Watermark detection for generated images ***************\n",
      "caption : A plane flying with a smaller plane above it.\n",
      "Watermark Presence Prob.: 0.0\n",
      "caption : One plane is flying higher than another plane.\n",
      "Watermark Presence Prob.: 0.0\n",
      "caption : A pair of planes flying in the air under a blue sky.\n",
      "Watermark Presence Prob.: 0\n",
      "caption : Pair of small planes flying next to each other on sunny day.\n"
     ]
    },
    {
     "name": "stderr",
     "output_type": "stream",
     "text": [
      " 92%|█████████▏| 184/200 [09:46<00:50,  3.16s/it]"
     ]
    },
    {
     "name": "stdout",
     "output_type": "stream",
     "text": [
      "Watermark Presence Prob.: 0\n",
      "caption : A small airplane flies directly above a larger one.\n",
      "Watermark Presence Prob.: 0.0\n",
      "---------- Count = 185 : Visual Paraphrasing for the watermarked version of 426038-------------\n",
      "\n",
      "Image name :  Image_426038.jpg\n",
      "Image id : 426038\n"
     ]
    },
    {
     "data": {
      "application/vnd.jupyter.widget-view+json": {
       "model_id": "b1a207d7586b437c8aca5f8455ceeed0",
       "version_major": 2,
       "version_minor": 0
      },
      "text/plain": [
       "  0%|          | 0/5 [00:00<?, ?it/s]"
      ]
     },
     "metadata": {},
     "output_type": "display_data"
    },
    {
     "name": "stdout",
     "output_type": "stream",
     "text": [
      "Saving generated images at /raid/home/ashhar21137/watermarking/dwtDctSvd/dwt_paraphrase_0.1/426038\n",
      "Generated Image saved to /raid/home/ashhar21137/watermarking/dwtDctSvd/dwt_paraphrase_0.1/426038/426038_gen_0.png\n",
      "Generated Image saved to /raid/home/ashhar21137/watermarking/dwtDctSvd/dwt_paraphrase_0.1/426038/426038_gen_1.png\n",
      "Generated Image saved to /raid/home/ashhar21137/watermarking/dwtDctSvd/dwt_paraphrase_0.1/426038/426038_gen_2.png\n",
      "Generated Image saved to /raid/home/ashhar21137/watermarking/dwtDctSvd/dwt_paraphrase_0.1/426038/426038_gen_3.png\n",
      "Generated Image saved to /raid/home/ashhar21137/watermarking/dwtDctSvd/dwt_paraphrase_0.1/426038/426038_gen_4.png\n",
      "\n",
      "Number of images generated :  5\n",
      "********** Watermark detection for generated images ***************\n",
      "caption : A boat with lots of seats and large windows.\n",
      "Watermark Presence Prob.: 0.0\n",
      "caption : View of the Golden Gate Bridge from a restaurant. \n",
      "Watermark Presence Prob.: 0.0\n",
      "caption : Inside view of tables next to the windows in the boat\n",
      "Watermark Presence Prob.: 0\n",
      "caption : The eating car of the train has empty booths.\n",
      "Watermark Presence Prob.: 0.0\n",
      "caption : A view looking outside a train window by a table with a flower vase.\n"
     ]
    },
    {
     "name": "stderr",
     "output_type": "stream",
     "text": [
      " 92%|█████████▎| 185/200 [09:50<00:49,  3.32s/it]"
     ]
    },
    {
     "name": "stdout",
     "output_type": "stream",
     "text": [
      "Watermark Presence Prob.: 0.0\n",
      "---------- Count = 186 : Visual Paraphrasing for the watermarked version of 214704-------------\n",
      "\n",
      "Image name :  Image_214704.jpg\n",
      "Image id : 214704\n"
     ]
    },
    {
     "data": {
      "application/vnd.jupyter.widget-view+json": {
       "model_id": "7f12ea9c191b47fcb5d4b5735bce825b",
       "version_major": 2,
       "version_minor": 0
      },
      "text/plain": [
       "  0%|          | 0/5 [00:00<?, ?it/s]"
      ]
     },
     "metadata": {},
     "output_type": "display_data"
    },
    {
     "name": "stdout",
     "output_type": "stream",
     "text": [
      "Saving generated images at /raid/home/ashhar21137/watermarking/dwtDctSvd/dwt_paraphrase_0.1/214704\n",
      "Generated Image saved to /raid/home/ashhar21137/watermarking/dwtDctSvd/dwt_paraphrase_0.1/214704/214704_gen_0.png\n",
      "Generated Image saved to /raid/home/ashhar21137/watermarking/dwtDctSvd/dwt_paraphrase_0.1/214704/214704_gen_1.png\n",
      "Generated Image saved to /raid/home/ashhar21137/watermarking/dwtDctSvd/dwt_paraphrase_0.1/214704/214704_gen_2.png\n",
      "Generated Image saved to /raid/home/ashhar21137/watermarking/dwtDctSvd/dwt_paraphrase_0.1/214704/214704_gen_3.png\n",
      "Generated Image saved to /raid/home/ashhar21137/watermarking/dwtDctSvd/dwt_paraphrase_0.1/214704/214704_gen_4.png\n",
      "\n",
      "Number of images generated :  5\n",
      "********** Watermark detection for generated images ***************\n",
      "caption : A young man that is sitting at a kitchen table is looking of to the side.\n",
      "Watermark Presence Prob.: 0\n",
      "caption : Bearded man in colorized image looks off to the side.\n",
      "Watermark Presence Prob.: 0.0\n",
      "caption : A man with a beard with his head turned sitting down.\n",
      "Watermark Presence Prob.: 0.0\n",
      "caption : A man at a table observing something away from him.\n",
      "Watermark Presence Prob.: 0\n",
      "caption : a person sitting down with a tv behind him\n"
     ]
    },
    {
     "name": "stderr",
     "output_type": "stream",
     "text": [
      " 93%|█████████▎| 186/200 [09:53<00:47,  3.36s/it]"
     ]
    },
    {
     "name": "stdout",
     "output_type": "stream",
     "text": [
      "Watermark Presence Prob.: 0\n",
      "---------- Count = 187 : Visual Paraphrasing for the watermarked version of 497616-------------\n",
      "\n",
      "Image name :  Image_497616.jpg\n",
      "Image id : 497616\n"
     ]
    },
    {
     "data": {
      "application/vnd.jupyter.widget-view+json": {
       "model_id": "4e46f293f92d4c1794c82e55eb5560db",
       "version_major": 2,
       "version_minor": 0
      },
      "text/plain": [
       "  0%|          | 0/5 [00:00<?, ?it/s]"
      ]
     },
     "metadata": {},
     "output_type": "display_data"
    },
    {
     "name": "stdout",
     "output_type": "stream",
     "text": [
      "Saving generated images at /raid/home/ashhar21137/watermarking/dwtDctSvd/dwt_paraphrase_0.1/497616\n",
      "Generated Image saved to /raid/home/ashhar21137/watermarking/dwtDctSvd/dwt_paraphrase_0.1/497616/497616_gen_0.png\n",
      "Generated Image saved to /raid/home/ashhar21137/watermarking/dwtDctSvd/dwt_paraphrase_0.1/497616/497616_gen_1.png\n",
      "Generated Image saved to /raid/home/ashhar21137/watermarking/dwtDctSvd/dwt_paraphrase_0.1/497616/497616_gen_2.png\n",
      "Generated Image saved to /raid/home/ashhar21137/watermarking/dwtDctSvd/dwt_paraphrase_0.1/497616/497616_gen_3.png\n",
      "Generated Image saved to /raid/home/ashhar21137/watermarking/dwtDctSvd/dwt_paraphrase_0.1/497616/497616_gen_4.png\n",
      "\n",
      "Number of images generated :  5\n",
      "********** Watermark detection for generated images ***************\n",
      "caption : A black and white photo of a cat sitting on a chair.\n",
      "Watermark Presence Prob.: 0.0\n",
      "caption : a black and white photo of a cat using an old photo camera \n",
      "Watermark Presence Prob.: 0.0\n",
      "caption : A cat comically taking an old fashioned picture of another cat.\n",
      "Watermark Presence Prob.: 0.0\n",
      "caption : A cat sitting in a chair near another cat that is holding on to something with his paw\n"
     ]
    },
    {
     "name": "stderr",
     "output_type": "stream",
     "text": [
      " 94%|█████████▎| 187/200 [09:57<00:44,  3.43s/it]"
     ]
    },
    {
     "name": "stdout",
     "output_type": "stream",
     "text": [
      "Watermark Presence Prob.: 0.0\n",
      "caption : a vintage photo of a cat taking a picture of another cat\n",
      "Watermark Presence Prob.: 0.0\n",
      "---------- Count = 188 : Visual Paraphrasing for the watermarked version of 179620-------------\n",
      "\n",
      "Image name :  Image_179620.jpg\n",
      "Image id : 179620\n"
     ]
    },
    {
     "data": {
      "application/vnd.jupyter.widget-view+json": {
       "model_id": "15abaac63e3d4c32a45230702e07191a",
       "version_major": 2,
       "version_minor": 0
      },
      "text/plain": [
       "  0%|          | 0/5 [00:00<?, ?it/s]"
      ]
     },
     "metadata": {},
     "output_type": "display_data"
    },
    {
     "name": "stdout",
     "output_type": "stream",
     "text": [
      "Saving generated images at /raid/home/ashhar21137/watermarking/dwtDctSvd/dwt_paraphrase_0.1/179620\n",
      "Generated Image saved to /raid/home/ashhar21137/watermarking/dwtDctSvd/dwt_paraphrase_0.1/179620/179620_gen_0.png\n",
      "Generated Image saved to /raid/home/ashhar21137/watermarking/dwtDctSvd/dwt_paraphrase_0.1/179620/179620_gen_1.png\n",
      "Generated Image saved to /raid/home/ashhar21137/watermarking/dwtDctSvd/dwt_paraphrase_0.1/179620/179620_gen_2.png\n",
      "Generated Image saved to /raid/home/ashhar21137/watermarking/dwtDctSvd/dwt_paraphrase_0.1/179620/179620_gen_3.png\n",
      "Generated Image saved to /raid/home/ashhar21137/watermarking/dwtDctSvd/dwt_paraphrase_0.1/179620/179620_gen_4.png\n",
      "\n",
      "Number of images generated :  5\n",
      "********** Watermark detection for generated images ***************\n",
      "caption : A toilet bowl with rolls of toilet paper stacked next to it\n",
      "\n",
      "Watermark Presence Prob.: 0\n",
      "caption : A bathroom toilet sitting next to a few roles of toilet paper.\n",
      "Watermark Presence Prob.: 0\n",
      "caption : There is a toilet with a picture above it, there are four rolls of tissue.\n",
      "Watermark Presence Prob.: 0\n",
      "caption : A bathroom with a toilet and white walls. \n"
     ]
    },
    {
     "name": "stderr",
     "output_type": "stream",
     "text": [
      " 94%|█████████▍| 188/200 [10:01<00:42,  3.57s/it]"
     ]
    },
    {
     "name": "stdout",
     "output_type": "stream",
     "text": [
      "Watermark Presence Prob.: 0\n",
      "caption : A white walled bathroom with six rolls of toilet paper next to a white toilet. \n",
      "Watermark Presence Prob.: 0\n",
      "---------- Count = 189 : Visual Paraphrasing for the watermarked version of 42493-------------\n",
      "\n",
      "Image name :  Image_42493.jpg\n",
      "Image id : 42493\n"
     ]
    },
    {
     "data": {
      "application/vnd.jupyter.widget-view+json": {
       "model_id": "b73cd13aac2c423a93b460c5b7f7efdf",
       "version_major": 2,
       "version_minor": 0
      },
      "text/plain": [
       "  0%|          | 0/5 [00:00<?, ?it/s]"
      ]
     },
     "metadata": {},
     "output_type": "display_data"
    },
    {
     "name": "stdout",
     "output_type": "stream",
     "text": [
      "Saving generated images at /raid/home/ashhar21137/watermarking/dwtDctSvd/dwt_paraphrase_0.1/42493\n",
      "Generated Image saved to /raid/home/ashhar21137/watermarking/dwtDctSvd/dwt_paraphrase_0.1/42493/42493_gen_0.png\n",
      "Generated Image saved to /raid/home/ashhar21137/watermarking/dwtDctSvd/dwt_paraphrase_0.1/42493/42493_gen_1.png\n",
      "Generated Image saved to /raid/home/ashhar21137/watermarking/dwtDctSvd/dwt_paraphrase_0.1/42493/42493_gen_2.png\n",
      "Generated Image saved to /raid/home/ashhar21137/watermarking/dwtDctSvd/dwt_paraphrase_0.1/42493/42493_gen_3.png\n",
      "Generated Image saved to /raid/home/ashhar21137/watermarking/dwtDctSvd/dwt_paraphrase_0.1/42493/42493_gen_4.png\n",
      "\n",
      "Number of images generated :  5\n",
      "********** Watermark detection for generated images ***************\n",
      "caption : Two mountain bikers take a break on a path.\n",
      "Watermark Presence Prob.: 0\n",
      "caption : To young people on mountain bikes with trees behind them.\n",
      "Watermark Presence Prob.: 0\n",
      "caption : Two mountain bikers taking a break on a trail\n",
      "Watermark Presence Prob.: 0\n",
      "caption : Two young men on motorcross bikes stopped on a trail coming out of the woods.\n"
     ]
    },
    {
     "name": "stderr",
     "output_type": "stream",
     "text": [
      " 94%|█████████▍| 189/200 [10:04<00:38,  3.50s/it]"
     ]
    },
    {
     "name": "stdout",
     "output_type": "stream",
     "text": [
      "Watermark Presence Prob.: 0\n",
      "caption : two men standing on a rocky ground near a bush\n",
      "Watermark Presence Prob.: 0\n",
      "---------- Count = 190 : Visual Paraphrasing for the watermarked version of 62426-------------\n",
      "\n",
      "Image name :  Image_62426.jpg\n",
      "Image id : 62426\n"
     ]
    },
    {
     "data": {
      "application/vnd.jupyter.widget-view+json": {
       "model_id": "9bccf96cb9764a759e6bdf81303c7bf2",
       "version_major": 2,
       "version_minor": 0
      },
      "text/plain": [
       "  0%|          | 0/5 [00:00<?, ?it/s]"
      ]
     },
     "metadata": {},
     "output_type": "display_data"
    },
    {
     "name": "stdout",
     "output_type": "stream",
     "text": [
      "Saving generated images at /raid/home/ashhar21137/watermarking/dwtDctSvd/dwt_paraphrase_0.1/62426\n",
      "Generated Image saved to /raid/home/ashhar21137/watermarking/dwtDctSvd/dwt_paraphrase_0.1/62426/62426_gen_0.png\n",
      "Generated Image saved to /raid/home/ashhar21137/watermarking/dwtDctSvd/dwt_paraphrase_0.1/62426/62426_gen_1.png\n",
      "Generated Image saved to /raid/home/ashhar21137/watermarking/dwtDctSvd/dwt_paraphrase_0.1/62426/62426_gen_2.png\n",
      "Generated Image saved to /raid/home/ashhar21137/watermarking/dwtDctSvd/dwt_paraphrase_0.1/62426/62426_gen_3.png\n",
      "Generated Image saved to /raid/home/ashhar21137/watermarking/dwtDctSvd/dwt_paraphrase_0.1/62426/62426_gen_4.png\n",
      "\n",
      "Number of images generated :  5\n",
      "********** Watermark detection for generated images ***************\n",
      "caption : A sink and bath in a small room.\n",
      "Watermark Presence Prob.: 0\n",
      "caption : An ornate bathroom is adorned with yellow and multicolor tiles.\n",
      "Watermark Presence Prob.: 0\n",
      "caption : The bathroom is decorated in an elaborate style.\n"
     ]
    },
    {
     "name": "stderr",
     "output_type": "stream",
     "text": [
      " 95%|█████████▌| 190/200 [10:07<00:34,  3.42s/it]"
     ]
    },
    {
     "name": "stdout",
     "output_type": "stream",
     "text": [
      "Watermark Presence Prob.: 0\n",
      "caption : An old Mediterranean yellow mosaic tiled bathroom with ornate hanging light.\n",
      "Watermark Presence Prob.: 0\n",
      "caption : A bathroom decorated with a lot of fancy tile.\n",
      "Watermark Presence Prob.: 0\n",
      "---------- Count = 191 : Visual Paraphrasing for the watermarked version of 543877-------------\n",
      "\n",
      "Image name :  Image_543877.jpg\n",
      "Image id : 543877\n"
     ]
    },
    {
     "data": {
      "application/vnd.jupyter.widget-view+json": {
       "model_id": "7147f97b2db34c7387fcd064e099f79d",
       "version_major": 2,
       "version_minor": 0
      },
      "text/plain": [
       "  0%|          | 0/5 [00:00<?, ?it/s]"
      ]
     },
     "metadata": {},
     "output_type": "display_data"
    },
    {
     "name": "stdout",
     "output_type": "stream",
     "text": [
      "Saving generated images at /raid/home/ashhar21137/watermarking/dwtDctSvd/dwt_paraphrase_0.1/543877\n",
      "Generated Image saved to /raid/home/ashhar21137/watermarking/dwtDctSvd/dwt_paraphrase_0.1/543877/543877_gen_0.png\n",
      "Generated Image saved to /raid/home/ashhar21137/watermarking/dwtDctSvd/dwt_paraphrase_0.1/543877/543877_gen_1.png\n",
      "Generated Image saved to /raid/home/ashhar21137/watermarking/dwtDctSvd/dwt_paraphrase_0.1/543877/543877_gen_2.png\n",
      "Generated Image saved to /raid/home/ashhar21137/watermarking/dwtDctSvd/dwt_paraphrase_0.1/543877/543877_gen_3.png\n",
      "Generated Image saved to /raid/home/ashhar21137/watermarking/dwtDctSvd/dwt_paraphrase_0.1/543877/543877_gen_4.png\n",
      "\n",
      "Number of images generated :  5\n",
      "********** Watermark detection for generated images ***************\n",
      "caption : A bathroom features white, bowl sinks and a bathtub.\n",
      "Watermark Presence Prob.: 0.0\n",
      "caption : There are two sinks and a large tub in this bathroom.  \n",
      "Watermark Presence Prob.: 0.0\n",
      "caption : a modern looking white bathroom with 2 sinks, bathtub and shower\n",
      "Watermark Presence Prob.: 0.0\n",
      "caption : A bathroom with a large tub and his and her sinks.\n"
     ]
    },
    {
     "name": "stderr",
     "output_type": "stream",
     "text": [
      " 96%|█████████▌| 191/200 [10:11<00:32,  3.59s/it]"
     ]
    },
    {
     "name": "stdout",
     "output_type": "stream",
     "text": [
      "Watermark Presence Prob.: 0\n",
      "caption : This bathroom has a large jacuzzi tub and two sinks\n",
      "Watermark Presence Prob.: 0\n",
      "---------- Count = 192 : Visual Paraphrasing for the watermarked version of 160163-------------\n",
      "\n",
      "Image name :  Image_160163.jpg\n",
      "Image id : 160163\n"
     ]
    },
    {
     "data": {
      "application/vnd.jupyter.widget-view+json": {
       "model_id": "16f5b6a4584c471091b8c92dbd2e46f4",
       "version_major": 2,
       "version_minor": 0
      },
      "text/plain": [
       "  0%|          | 0/5 [00:00<?, ?it/s]"
      ]
     },
     "metadata": {},
     "output_type": "display_data"
    },
    {
     "name": "stdout",
     "output_type": "stream",
     "text": [
      "Saving generated images at /raid/home/ashhar21137/watermarking/dwtDctSvd/dwt_paraphrase_0.1/160163\n",
      "Generated Image saved to /raid/home/ashhar21137/watermarking/dwtDctSvd/dwt_paraphrase_0.1/160163/160163_gen_0.png\n",
      "Generated Image saved to /raid/home/ashhar21137/watermarking/dwtDctSvd/dwt_paraphrase_0.1/160163/160163_gen_1.png\n",
      "Generated Image saved to /raid/home/ashhar21137/watermarking/dwtDctSvd/dwt_paraphrase_0.1/160163/160163_gen_2.png\n",
      "Generated Image saved to /raid/home/ashhar21137/watermarking/dwtDctSvd/dwt_paraphrase_0.1/160163/160163_gen_3.png\n",
      "Generated Image saved to /raid/home/ashhar21137/watermarking/dwtDctSvd/dwt_paraphrase_0.1/160163/160163_gen_4.png\n",
      "\n",
      "Number of images generated :  5\n",
      "********** Watermark detection for generated images ***************\n",
      "caption : Snow on benches in a park during the day.\n",
      "Watermark Presence Prob.: 0.0\n",
      "caption : A bench and ground sit covered in snow\n",
      "Watermark Presence Prob.: 0.0\n",
      "caption : two lines of benches covered in a lot of snow \n",
      "Watermark Presence Prob.: 0.0\n",
      "caption : Several benches covered in heavy snow out in the open.\n"
     ]
    },
    {
     "name": "stderr",
     "output_type": "stream",
     "text": [
      " 96%|█████████▌| 192/200 [10:15<00:29,  3.68s/it]"
     ]
    },
    {
     "name": "stdout",
     "output_type": "stream",
     "text": [
      "Watermark Presence Prob.: 0.0\n",
      "caption : Snow covering bunches in a park during winter.\n",
      "Watermark Presence Prob.: 0.0\n",
      "---------- Count = 193 : Visual Paraphrasing for the watermarked version of 167603-------------\n",
      "\n",
      "Image name :  Image_167603.jpg\n",
      "Image id : 167603\n"
     ]
    },
    {
     "data": {
      "application/vnd.jupyter.widget-view+json": {
       "model_id": "815838f32c63415896dd05204ae40b89",
       "version_major": 2,
       "version_minor": 0
      },
      "text/plain": [
       "  0%|          | 0/5 [00:00<?, ?it/s]"
      ]
     },
     "metadata": {},
     "output_type": "display_data"
    },
    {
     "name": "stdout",
     "output_type": "stream",
     "text": [
      "Saving generated images at /raid/home/ashhar21137/watermarking/dwtDctSvd/dwt_paraphrase_0.1/167603\n",
      "Generated Image saved to /raid/home/ashhar21137/watermarking/dwtDctSvd/dwt_paraphrase_0.1/167603/167603_gen_0.png\n",
      "Generated Image saved to /raid/home/ashhar21137/watermarking/dwtDctSvd/dwt_paraphrase_0.1/167603/167603_gen_1.png\n",
      "Generated Image saved to /raid/home/ashhar21137/watermarking/dwtDctSvd/dwt_paraphrase_0.1/167603/167603_gen_2.png\n",
      "Generated Image saved to /raid/home/ashhar21137/watermarking/dwtDctSvd/dwt_paraphrase_0.1/167603/167603_gen_3.png\n",
      "Generated Image saved to /raid/home/ashhar21137/watermarking/dwtDctSvd/dwt_paraphrase_0.1/167603/167603_gen_4.png\n",
      "\n",
      "Number of images generated :  5\n",
      "********** Watermark detection for generated images ***************\n",
      "caption : A bus that is sitting in the street.\n",
      "Watermark Presence Prob.: 0\n",
      "caption : Bus in motion on a road in a busy street.\n",
      "Watermark Presence Prob.: 0.0\n",
      "caption : A bus heads down a city street in the rain.\n"
     ]
    },
    {
     "name": "stderr",
     "output_type": "stream",
     "text": [
      " 96%|█████████▋| 193/200 [10:18<00:23,  3.41s/it]"
     ]
    },
    {
     "name": "stdout",
     "output_type": "stream",
     "text": [
      "Watermark Presence Prob.: 0.0\n",
      "caption : a blue and yellow bus diving down a somewhat busy road \n",
      "Watermark Presence Prob.: 0\n",
      "caption : Bus driving passengers downtown on a rainy day\n",
      "Watermark Presence Prob.: 0\n",
      "---------- Count = 194 : Visual Paraphrasing for the watermarked version of 218956-------------\n",
      "\n",
      "Image name :  Image_218956.jpg\n",
      "Image id : 218956\n"
     ]
    },
    {
     "data": {
      "application/vnd.jupyter.widget-view+json": {
       "model_id": "f64b0d8ce77f48eeb1f8dcd7bf1d3f94",
       "version_major": 2,
       "version_minor": 0
      },
      "text/plain": [
       "  0%|          | 0/5 [00:00<?, ?it/s]"
      ]
     },
     "metadata": {},
     "output_type": "display_data"
    },
    {
     "name": "stdout",
     "output_type": "stream",
     "text": [
      "Saving generated images at /raid/home/ashhar21137/watermarking/dwtDctSvd/dwt_paraphrase_0.1/218956\n",
      "Generated Image saved to /raid/home/ashhar21137/watermarking/dwtDctSvd/dwt_paraphrase_0.1/218956/218956_gen_0.png\n",
      "Generated Image saved to /raid/home/ashhar21137/watermarking/dwtDctSvd/dwt_paraphrase_0.1/218956/218956_gen_1.png\n",
      "Generated Image saved to /raid/home/ashhar21137/watermarking/dwtDctSvd/dwt_paraphrase_0.1/218956/218956_gen_2.png\n",
      "Generated Image saved to /raid/home/ashhar21137/watermarking/dwtDctSvd/dwt_paraphrase_0.1/218956/218956_gen_3.png\n",
      "Generated Image saved to /raid/home/ashhar21137/watermarking/dwtDctSvd/dwt_paraphrase_0.1/218956/218956_gen_4.png\n",
      "Generated Image saved to /raid/home/ashhar21137/watermarking/dwtDctSvd/dwt_paraphrase_0.1/218956/218956_gen_5.png\n",
      "\n",
      "Number of images generated :  6\n",
      "********** Watermark detection for generated images ***************\n",
      "caption : A man standing in front of a white toilet in a restroom.\n",
      "Watermark Presence Prob.: 0.0\n",
      "caption : Guy in hoodie peeing in a bathroom toilet\n",
      "Watermark Presence Prob.: 0\n",
      "caption : A man is standing in front of a toilet.\n",
      "Watermark Presence Prob.: 0.0\n",
      "caption : A MAN PEEING IN THE TOILET WITH SOME NOTE WRITTEN IN FRONT OF HIM.\n",
      "Watermark Presence Prob.: 0\n",
      "caption : A man wearing a purple hoodie urinating in a dirty restroom. \n",
      "Watermark Presence Prob.: 0\n",
      "caption : A man is urinating in an unfinished restroom.\n"
     ]
    },
    {
     "name": "stderr",
     "output_type": "stream",
     "text": [
      " 97%|█████████▋| 194/200 [10:21<00:20,  3.48s/it]"
     ]
    },
    {
     "name": "stdout",
     "output_type": "stream",
     "text": [
      "Watermark Presence Prob.: 0.0\n",
      "---------- Count = 195 : Visual Paraphrasing for the watermarked version of 147170-------------\n",
      "\n",
      "Image name :  Image_147170.jpg\n",
      "Image id : 147170\n"
     ]
    },
    {
     "data": {
      "application/vnd.jupyter.widget-view+json": {
       "model_id": "bcc1cccf008045d993b26a505b496c29",
       "version_major": 2,
       "version_minor": 0
      },
      "text/plain": [
       "  0%|          | 0/5 [00:00<?, ?it/s]"
      ]
     },
     "metadata": {},
     "output_type": "display_data"
    },
    {
     "name": "stdout",
     "output_type": "stream",
     "text": [
      "Saving generated images at /raid/home/ashhar21137/watermarking/dwtDctSvd/dwt_paraphrase_0.1/147170\n",
      "Generated Image saved to /raid/home/ashhar21137/watermarking/dwtDctSvd/dwt_paraphrase_0.1/147170/147170_gen_0.png\n",
      "Generated Image saved to /raid/home/ashhar21137/watermarking/dwtDctSvd/dwt_paraphrase_0.1/147170/147170_gen_1.png\n",
      "Generated Image saved to /raid/home/ashhar21137/watermarking/dwtDctSvd/dwt_paraphrase_0.1/147170/147170_gen_2.png\n",
      "Generated Image saved to /raid/home/ashhar21137/watermarking/dwtDctSvd/dwt_paraphrase_0.1/147170/147170_gen_3.png\n",
      "Generated Image saved to /raid/home/ashhar21137/watermarking/dwtDctSvd/dwt_paraphrase_0.1/147170/147170_gen_4.png\n",
      "\n",
      "Number of images generated :  5\n",
      "********** Watermark detection for generated images ***************\n",
      "caption : A jet flying through the air on a clear day.\n",
      "Watermark Presence Prob.: 0\n",
      "caption : a air plane flies through the open blue sky \n",
      "Watermark Presence Prob.: 0\n",
      "caption : A camouflage painted military fighter plane flying in the sky.\n",
      "Watermark Presence Prob.: 0.0\n",
      "caption : Military plane hovering in the sky and clouds\n"
     ]
    },
    {
     "name": "stderr",
     "output_type": "stream",
     "text": [
      " 98%|█████████▊| 195/200 [10:24<00:16,  3.32s/it]"
     ]
    },
    {
     "name": "stdout",
     "output_type": "stream",
     "text": [
      "Watermark Presence Prob.: 0.0\n",
      "caption : A jet flying on its side in the bright blue sky. \n",
      "Watermark Presence Prob.: 0\n",
      "---------- Count = 196 : Visual Paraphrasing for the watermarked version of 283524-------------\n",
      "\n",
      "Image name :  Image_283524.jpg\n",
      "Image id : 283524\n"
     ]
    },
    {
     "data": {
      "application/vnd.jupyter.widget-view+json": {
       "model_id": "c593c82bb3e446cb8504d9cff5694a77",
       "version_major": 2,
       "version_minor": 0
      },
      "text/plain": [
       "  0%|          | 0/5 [00:00<?, ?it/s]"
      ]
     },
     "metadata": {},
     "output_type": "display_data"
    },
    {
     "name": "stdout",
     "output_type": "stream",
     "text": [
      "Saving generated images at /raid/home/ashhar21137/watermarking/dwtDctSvd/dwt_paraphrase_0.1/283524\n",
      "Generated Image saved to /raid/home/ashhar21137/watermarking/dwtDctSvd/dwt_paraphrase_0.1/283524/283524_gen_0.png\n",
      "Generated Image saved to /raid/home/ashhar21137/watermarking/dwtDctSvd/dwt_paraphrase_0.1/283524/283524_gen_1.png\n",
      "Generated Image saved to /raid/home/ashhar21137/watermarking/dwtDctSvd/dwt_paraphrase_0.1/283524/283524_gen_2.png\n",
      "Generated Image saved to /raid/home/ashhar21137/watermarking/dwtDctSvd/dwt_paraphrase_0.1/283524/283524_gen_3.png\n",
      "Generated Image saved to /raid/home/ashhar21137/watermarking/dwtDctSvd/dwt_paraphrase_0.1/283524/283524_gen_4.png\n",
      "\n",
      "Number of images generated :  5\n",
      "********** Watermark detection for generated images ***************\n",
      "caption : a man cutting up vegetables on top of a food cart.\n",
      "Watermark Presence Prob.: 0\n",
      "caption : A man cutting up scallions at an outdoor table \n",
      "Watermark Presence Prob.: 0\n",
      "caption : A man chopping vegetables on a white board.\n",
      "Watermark Presence Prob.: 0\n",
      "caption : A man stands as he cuts up some vegetables.\n"
     ]
    },
    {
     "name": "stderr",
     "output_type": "stream",
     "text": [
      " 98%|█████████▊| 196/200 [10:27<00:12,  3.16s/it]"
     ]
    },
    {
     "name": "stdout",
     "output_type": "stream",
     "text": [
      "Watermark Presence Prob.: 0\n",
      "caption : A man stands with a knife and onions in front of a garage.\n",
      "Watermark Presence Prob.: 0\n",
      "---------- Count = 197 : Visual Paraphrasing for the watermarked version of 37015-------------\n",
      "\n",
      "Image name :  Image_37015.jpg\n",
      "Image id : 37015\n"
     ]
    },
    {
     "data": {
      "application/vnd.jupyter.widget-view+json": {
       "model_id": "6ea5df0339534b218c6c7fe065349aa3",
       "version_major": 2,
       "version_minor": 0
      },
      "text/plain": [
       "  0%|          | 0/5 [00:00<?, ?it/s]"
      ]
     },
     "metadata": {},
     "output_type": "display_data"
    },
    {
     "name": "stdout",
     "output_type": "stream",
     "text": [
      "Saving generated images at /raid/home/ashhar21137/watermarking/dwtDctSvd/dwt_paraphrase_0.1/37015\n",
      "Generated Image saved to /raid/home/ashhar21137/watermarking/dwtDctSvd/dwt_paraphrase_0.1/37015/37015_gen_0.png\n",
      "Generated Image saved to /raid/home/ashhar21137/watermarking/dwtDctSvd/dwt_paraphrase_0.1/37015/37015_gen_1.png\n",
      "Generated Image saved to /raid/home/ashhar21137/watermarking/dwtDctSvd/dwt_paraphrase_0.1/37015/37015_gen_2.png\n",
      "Generated Image saved to /raid/home/ashhar21137/watermarking/dwtDctSvd/dwt_paraphrase_0.1/37015/37015_gen_3.png\n",
      "Generated Image saved to /raid/home/ashhar21137/watermarking/dwtDctSvd/dwt_paraphrase_0.1/37015/37015_gen_4.png\n",
      "\n",
      "Number of images generated :  5\n",
      "********** Watermark detection for generated images ***************\n",
      "caption : Chefs are preparing food at a restaurant as patrons exit.\n",
      "Watermark Presence Prob.: 0\n",
      "caption : A chef is cooking at the counter in front of a restaurant.\n",
      "Watermark Presence Prob.: 0\n",
      "caption : The view shows two young people and  a woman leaving an elaborate entry way that includes a curved wall and window, revealing chefs at work,\n"
     ]
    },
    {
     "name": "stderr",
     "output_type": "stream",
     "text": [
      " 98%|█████████▊| 197/200 [10:30<00:09,  3.02s/it]"
     ]
    },
    {
     "name": "stdout",
     "output_type": "stream",
     "text": [
      "Watermark Presence Prob.: 0\n",
      "caption : a restaurant that features a window to see the chefs cooking. \n",
      "Watermark Presence Prob.: 0\n",
      "caption : Several people walking outside of an Asian restaurant.\n",
      "Watermark Presence Prob.: 0\n",
      "---------- Count = 198 : Visual Paraphrasing for the watermarked version of 213546-------------\n",
      "\n",
      "Image name :  Image_213546.jpg\n",
      "Image id : 213546\n"
     ]
    },
    {
     "data": {
      "application/vnd.jupyter.widget-view+json": {
       "model_id": "0d80028dcd9c40baad26e46643abf94e",
       "version_major": 2,
       "version_minor": 0
      },
      "text/plain": [
       "  0%|          | 0/5 [00:00<?, ?it/s]"
      ]
     },
     "metadata": {},
     "output_type": "display_data"
    },
    {
     "name": "stdout",
     "output_type": "stream",
     "text": [
      "Saving generated images at /raid/home/ashhar21137/watermarking/dwtDctSvd/dwt_paraphrase_0.1/213546\n",
      "Generated Image saved to /raid/home/ashhar21137/watermarking/dwtDctSvd/dwt_paraphrase_0.1/213546/213546_gen_0.png\n",
      "Generated Image saved to /raid/home/ashhar21137/watermarking/dwtDctSvd/dwt_paraphrase_0.1/213546/213546_gen_1.png\n",
      "Generated Image saved to /raid/home/ashhar21137/watermarking/dwtDctSvd/dwt_paraphrase_0.1/213546/213546_gen_2.png\n",
      "Generated Image saved to /raid/home/ashhar21137/watermarking/dwtDctSvd/dwt_paraphrase_0.1/213546/213546_gen_3.png\n",
      "Generated Image saved to /raid/home/ashhar21137/watermarking/dwtDctSvd/dwt_paraphrase_0.1/213546/213546_gen_4.png\n",
      "\n",
      "Number of images generated :  5\n",
      "********** Watermark detection for generated images ***************\n",
      "caption : A mirrored bathroom features duel, white porcelain sinks and silver faucets. \n",
      "Watermark Presence Prob.: 0.0\n",
      "caption : A white bathroom sink surrounded by mirrors and lights.\n",
      "Watermark Presence Prob.: 0.0\n",
      "caption : A gray bathroom is lit up to show to sinks.\n",
      "Watermark Presence Prob.: 0.0\n",
      "caption : A bathroom with a sink, mirror and garbage can. \n",
      "Watermark Presence Prob.: 0.0\n",
      "caption : The reflection of the bathroom sink in a mirror\n"
     ]
    },
    {
     "name": "stderr",
     "output_type": "stream",
     "text": [
      " 99%|█████████▉| 198/200 [10:33<00:05,  3.00s/it]"
     ]
    },
    {
     "name": "stdout",
     "output_type": "stream",
     "text": [
      "Watermark Presence Prob.: 0.0\n",
      "---------- Count = 199 : Visual Paraphrasing for the watermarked version of 528906-------------\n",
      "\n",
      "Image name :  Image_528906.jpg\n",
      "Image id : 528906\n"
     ]
    },
    {
     "data": {
      "application/vnd.jupyter.widget-view+json": {
       "model_id": "6b42c6ada61f4f44b50be231689dddd5",
       "version_major": 2,
       "version_minor": 0
      },
      "text/plain": [
       "  0%|          | 0/5 [00:00<?, ?it/s]"
      ]
     },
     "metadata": {},
     "output_type": "display_data"
    },
    {
     "name": "stdout",
     "output_type": "stream",
     "text": [
      "Saving generated images at /raid/home/ashhar21137/watermarking/dwtDctSvd/dwt_paraphrase_0.1/528906\n",
      "Generated Image saved to /raid/home/ashhar21137/watermarking/dwtDctSvd/dwt_paraphrase_0.1/528906/528906_gen_0.png\n",
      "Generated Image saved to /raid/home/ashhar21137/watermarking/dwtDctSvd/dwt_paraphrase_0.1/528906/528906_gen_1.png\n",
      "Generated Image saved to /raid/home/ashhar21137/watermarking/dwtDctSvd/dwt_paraphrase_0.1/528906/528906_gen_2.png\n",
      "Generated Image saved to /raid/home/ashhar21137/watermarking/dwtDctSvd/dwt_paraphrase_0.1/528906/528906_gen_3.png\n",
      "Generated Image saved to /raid/home/ashhar21137/watermarking/dwtDctSvd/dwt_paraphrase_0.1/528906/528906_gen_4.png\n",
      "\n",
      "Number of images generated :  5\n",
      "********** Watermark detection for generated images ***************\n",
      "caption : A group of police officers standing next to motorcycles and a woman.\n",
      "Watermark Presence Prob.: 0.0\n",
      "caption : A view of a bunch of bike cops standing around for picture.\n",
      "Watermark Presence Prob.: 0.0\n",
      "caption : police officers in uniforms standing on a strait line\n",
      "Watermark Presence Prob.: 0.0\n",
      "caption : Several police officer lined up in front of motorcycles.\n",
      "Watermark Presence Prob.: 0\n",
      "caption : a line of police men  that are posing for a picture\n"
     ]
    },
    {
     "name": "stderr",
     "output_type": "stream",
     "text": [
      "100%|█████████▉| 199/200 [10:36<00:03,  3.21s/it]"
     ]
    },
    {
     "name": "stdout",
     "output_type": "stream",
     "text": [
      "Watermark Presence Prob.: 0.0\n",
      "---------- Count = 200 : Visual Paraphrasing for the watermarked version of 454325-------------\n",
      "\n",
      "Image name :  Image_454325.jpg\n",
      "Image id : 454325\n"
     ]
    },
    {
     "data": {
      "application/vnd.jupyter.widget-view+json": {
       "model_id": "dd2bd18ece0d4335b545826da6c767e5",
       "version_major": 2,
       "version_minor": 0
      },
      "text/plain": [
       "  0%|          | 0/5 [00:00<?, ?it/s]"
      ]
     },
     "metadata": {},
     "output_type": "display_data"
    },
    {
     "name": "stdout",
     "output_type": "stream",
     "text": [
      "Saving generated images at /raid/home/ashhar21137/watermarking/dwtDctSvd/dwt_paraphrase_0.1/454325\n",
      "Generated Image saved to /raid/home/ashhar21137/watermarking/dwtDctSvd/dwt_paraphrase_0.1/454325/454325_gen_0.png\n",
      "Generated Image saved to /raid/home/ashhar21137/watermarking/dwtDctSvd/dwt_paraphrase_0.1/454325/454325_gen_1.png\n",
      "Generated Image saved to /raid/home/ashhar21137/watermarking/dwtDctSvd/dwt_paraphrase_0.1/454325/454325_gen_2.png\n",
      "Generated Image saved to /raid/home/ashhar21137/watermarking/dwtDctSvd/dwt_paraphrase_0.1/454325/454325_gen_3.png\n",
      "Generated Image saved to /raid/home/ashhar21137/watermarking/dwtDctSvd/dwt_paraphrase_0.1/454325/454325_gen_4.png\n",
      "\n",
      "Number of images generated :  5\n",
      "********** Watermark detection for generated images ***************\n",
      "caption : A modern restroom is equipped with fashionable sinks and urinals surrounded by architectural subway tile.\n",
      "Watermark Presence Prob.: 0\n",
      "caption : a bathroom with urinals sinks and towel dispensers\n",
      "Watermark Presence Prob.: 0\n",
      "caption : Sinks and urinals with unconventional placement in a public restroom.\n",
      "Watermark Presence Prob.: 0.0\n",
      "caption : A couple of urinals mounted to a wall in a restroom.\n",
      "Watermark Presence Prob.: 0\n",
      "caption : A bathroom with two urinals directly below the sinks.\n"
     ]
    },
    {
     "name": "stderr",
     "output_type": "stream",
     "text": [
      "100%|██████████| 200/200 [10:40<00:00,  3.20s/it]"
     ]
    },
    {
     "name": "stdout",
     "output_type": "stream",
     "text": [
      "Watermark Presence Prob.: 0.0\n"
     ]
    },
    {
     "name": "stderr",
     "output_type": "stream",
     "text": [
      "\n"
     ]
    }
   ],
   "source": [
    "count = 1\n",
    "for i in tqdm(range(len(wmis))) :\n",
    "\n",
    "    # if count > 5 : break \n",
    "\n",
    "    print(f\"---------- Count = {count} : Visual Paraphrasing for the watermarked version of {img_ids[i]}-------------\")\n",
    "    print()\n",
    "\n",
    "    # print(f\"records_512_st_0.35/{img_ids[0]}.txt\")\n",
    "    print(\"Image name : \",wmis[i])\n",
    "    \n",
    "    id = re.split('[_.]',wmis[i])[1]\n",
    "\n",
    "    print(\"Image id :\",id)\n",
    "    # print(\"Image id : \",img_ids[i])\n",
    "\n",
    "    paraphrase_detection[id][\"name\"] = wmis[i]\n",
    "\n",
    "    captions = new['annotations'][id]\n",
    "\n",
    "\n",
    "    post_img = os.path.join(img_dir,wmis[i]) # watermarked image path \n",
    "    image = Image.open(post_img)\n",
    "    # init_image = load_image(image)\n",
    "    init_image = image\n",
    "\n",
    "    gen_image = pipeline(captions, image=init_image, strength=0.1, guidance_scale=7.5).images\n",
    "    \n",
    "    # image\n",
    "    # make_image_grid([init_image, image], rows=2, cols=2)\n",
    "\n",
    "    directory =  f'{save_dir}/{id}'\n",
    "    print(f\"Saving generated images at {directory}\")\n",
    "    if not os.path.exists(directory):\n",
    "        os.makedirs(directory)\n",
    "\n",
    "    for k in range(len(gen_image)) :\n",
    "        gen_save_dir = os.path.join(directory,f'{id}_gen_{k}.png')\n",
    "        gen_image[k].save(gen_save_dir)\n",
    "        print(f\"Generated Image saved to {gen_save_dir}\")\n",
    "\n",
    "    # is_watermarked\n",
    "    num_images = len(gen_image) # 5 images generated from 5 captions for each input image\n",
    "    print()\n",
    "    print(\"Number of images generated : \",num_images)\n",
    "\n",
    "    print(\"********** Watermark detection for generated images ***************\")\n",
    "\n",
    "    avg_with_prompt = 0\n",
    "    num_detected = 0\n",
    "\n",
    "    for j in range(num_images):\n",
    "        post_img = os.path.join(directory, f'{id}_gen_{j}.png')\n",
    "        print(f\"caption : {captions[j]}\")\n",
    "\n",
    "        # Use get_watermark_probability to check watermark presence\n",
    "        _, confidence_score = get_watermark_probability(post_img, expected_watermark=wm)\n",
    "\n",
    "        detection_result = 1 if confidence_score >= 0.75 else 0\n",
    "        avg_with_prompt += confidence_score\n",
    "        num_detected += detection_result\n",
    "\n",
    "        print(f'Watermark Presence Prob.: {confidence_score}')\n",
    "    \n",
    "    paraphrase_detection[id][\"avg_det_prob\"] = avg_with_prompt / num_images\n",
    "    paraphrase_detection[id][\"avg_det_rate\"] = num_detected / num_images\n",
    "\n",
    "    # count += 1\n",
    "    # break\n",
    "    count = count + 1  \n"
   ]
  },
  {
   "cell_type": "code",
   "execution_count": 44,
   "metadata": {},
   "outputs": [
    {
     "data": {
      "text/plain": [
       "200"
      ]
     },
     "execution_count": 44,
     "metadata": {},
     "output_type": "execute_result"
    }
   ],
   "source": [
    "len(paraphrase_detection)"
   ]
  },
  {
   "cell_type": "code",
   "execution_count": 45,
   "metadata": {},
   "outputs": [],
   "source": [
    "with open(\"dwtdctsvd_paraphrase.json\",\"w\") as file : \n",
    "    json.dump(paraphrase_detection,file,indent=4)\n"
   ]
  },
  {
   "cell_type": "code",
   "execution_count": null,
   "metadata": {},
   "outputs": [],
   "source": []
  },
  {
   "cell_type": "markdown",
   "metadata": {},
   "source": [
    "Before attacks : \n"
   ]
  },
  {
   "cell_type": "code",
   "execution_count": null,
   "metadata": {},
   "outputs": [],
   "source": [
    "og_img = "
   ]
  },
  {
   "cell_type": "code",
   "execution_count": null,
   "metadata": {},
   "outputs": [],
   "source": []
  },
  {
   "cell_type": "code",
   "execution_count": null,
   "metadata": {},
   "outputs": [],
   "source": []
  },
  {
   "cell_type": "code",
   "execution_count": null,
   "metadata": {},
   "outputs": [],
   "source": []
  },
  {
   "cell_type": "code",
   "execution_count": null,
   "metadata": {},
   "outputs": [],
   "source": []
  },
  {
   "cell_type": "code",
   "execution_count": null,
   "metadata": {},
   "outputs": [],
   "source": []
  }
 ],
 "metadata": {
  "kernelspec": {
   "display_name": "ashhar_env2",
   "language": "python",
   "name": "python3"
  },
  "language_info": {
   "codemirror_mode": {
    "name": "ipython",
    "version": 3
   },
   "file_extension": ".py",
   "mimetype": "text/x-python",
   "name": "python",
   "nbconvert_exporter": "python",
   "pygments_lexer": "ipython3",
   "version": "3.10.13"
  }
 },
 "nbformat": 4,
 "nbformat_minor": 2
}
