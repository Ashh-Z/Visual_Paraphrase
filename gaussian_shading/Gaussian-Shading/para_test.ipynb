{
 "cells": [
  {
   "cell_type": "code",
   "execution_count": 1,
   "metadata": {},
   "outputs": [],
   "source": [
    "import os \n",
    "os.environ[\"CUDA_VISIBLE_DEVICES\"]='3'\n",
    "\n",
    "from tqdm import tqdm \n",
    "from PIL import Image, ImageEnhance\n",
    "from skimage.util import random_noise\n",
    "import cv2\n",
    "import numpy as np \n",
    "from diffusers import DPMSolverMultistepScheduler, DiffusionPipeline, DDIMScheduler\n",
    "# from inverse_stable_diffusion import InversableStableDiffusionPipeline\n",
    "from diffusers import DDIMInverseScheduler\n",
    "from diffusers import StableDiffusionPipeline\n",
    "from diffusers import StableDiffusionImg2ImgPipeline\n",
    "import torch \n",
    "import tempfile\n",
    "from torchvision import transforms\n",
    "from collections import defaultdict\n",
    "import hashlib\n",
    "\n",
    "import copy\n",
    "from transformers import CLIPModel, CLIPTokenizer\n",
    "from inverse_stable_diffusion import InversableStableDiffusionPipeline\n",
    "from diffusers import DPMSolverMultistepScheduler, DDIMScheduler\n",
    "import open_clip\n",
    "from optim_utils import *\n",
    "from io_utils import *\n",
    "from image_utils import *\n",
    "from watermark import *\n",
    "import re\n",
    "from types import SimpleNamespace\n",
    "from collections import defaultdict\n",
    "from diffusers import AutoPipelineForText2Image\n",
    "from diffusers import AutoPipelineForImage2Image\n",
    "\n",
    "model_id = 'stabilityai/stable-diffusion-2-1-base'"
   ]
  },
  {
   "cell_type": "code",
   "execution_count": 2,
   "metadata": {},
   "outputs": [
    {
     "name": "stdout",
     "output_type": "stream",
     "text": [
      "device :  cuda\n"
     ]
    }
   ],
   "source": [
    "if torch.cuda.is_available() : \n",
    "    device = \"cuda\"\n",
    "else :\n",
    "    device = \"cpu\"\n",
    "\n",
    "print(\"device : \",device)\n"
   ]
  },
  {
   "cell_type": "code",
   "execution_count": 3,
   "metadata": {},
   "outputs": [],
   "source": [
    "reference_model = None \n",
    "reference_model_pretrain = None \n",
    "model_path = \"stabilityai/stable-diffusion-2-1-base\"\n",
    "channel_copy = 1 \n",
    "hw_copy = 8 \n",
    "fpr = 0.000001\n",
    "num = 1000\n",
    "user_number = 1000000\n",
    "output_path = \"/raid/home/ashhar21137/watermarking2/Gaussian-Shading/watermarked_images\"\n",
    "gen_seed = 0 \n",
    "num_inference_steps = 50 \n",
    "guidance_scale = 7.5\n",
    "image_length = 512\n",
    "chacha = True\n",
    "num_inversion_steps = 50\n",
    "\n",
    "args = SimpleNamespace(\n",
    "    reference_model = None ,\n",
    "    reference_model_pretrain = None ,\n",
    "    model_path = \"stabilityai/stable-diffusion-2-1-base\",\n",
    "    channel_copy = 1 ,\n",
    "    hw_copy = 8 ,\n",
    "    fpr = 0.000001,\n",
    "    num = 1000,\n",
    "    user_number = 1000000,\n",
    "    output_path = \"/raid/home/ashhar21137/watermarking2/Gaussian-Shading/watermarked_images\",\n",
    "    gen_seed = 0 ,\n",
    "    num_inference_steps = 50 ,\n",
    "    guidance_scale = 7.5,\n",
    "    image_length = 512,\n",
    "    chacha = True,\n",
    "    num_inversion_steps = 50,\n",
    "    jpeg_ratio = 0.25,\n",
    "    random_crop_ratio =None ,\n",
    "    random_drop_ratio = None, \n",
    "    gaussian_blur_r = None, \n",
    "    median_blur_k = None, \n",
    "    resize_ratio = None, \n",
    "    gaussian_std = None, \n",
    "    sp_prob = None, \n",
    "    brightness_factor = None\n",
    ")\n"
   ]
  },
  {
   "cell_type": "code",
   "execution_count": 4,
   "metadata": {},
   "outputs": [
    {
     "name": "stdout",
     "output_type": "stream",
     "text": [
      "['66514', '18885', '551125', '90570', '344806', '318574', '160559', '424102', '96557', '394326', '560459', '93785', '241364', '536587', '371029', '483751', '69675', '457732', '239728', '469605', '348850', '523617', '222016', '378710', '186233', '405207', '8649', '2024', '160163', '388911', '4428', '122108', '413746', '36633', '277854', '223726', '147170', '84427', '147016', '311914', '505126', '309322', '287927', '393493', '145179', '283524', '399956', '540162', '444546', '387083', '445528', '98760', '42493', '287541', '57870', '412535', '525589', '170558', '108627', '70000', '215481', '214704', '454325', '485894', '279108', '377694', '168194', '405613', '246446', '147303', '392136', '570246', '64460', '524068', '85685', '334080', '262845', '426038', '384029', '19380', '172899', '280980', '62604', '492386', '504616', '356702', '341550', '257350', '213546', '153946', '219025', '365363', '153674', '547471', '467311', '497616', '161919', '570608', '79481', '352884', '179620', '77806', '270912', '167613', '528906', '576757', '556801', '55627', '225750', '491269', '351430', '95133', '343322', '438422', '520950', '574001', '170850', '353139', '303291', '199628', '420721', '150867', '317237', '530683', '49183', '302389', '157032', '559527', '496939', '513541', '95989', '535786', '374114', '409382', '462559', '326511', '576801', '218956', '543877', '299411', '313932', '101418', '267688', '318189', '540988', '486320', '239811', '109424', '354444', '472925', '155845', '71631', '37015', '209967', '398494', '345781', '189993', '265709', '289019', '212091', '448698', '477797', '246804', '70868', '210932', '520208', '496283', '122688', '236772', '409513', '474882', '165499', '441488', '446014', '470072', '136461', '309093', '259446', '388754', '62426', '269829', '560628', '278347', '292835', '96997', '357684', '77375', '44404', '483008', '62279', '280260', '581674', '217306', '316676', '412198', '181104', '167603', '546451', '142088', '301778']\n"
     ]
    }
   ],
   "source": [
    "parent = '/raid/home/ashhar21137/watermarking_final_tests/gaussian_shading/gs_watermarked_images_2'\n",
    "\n",
    "wm_ids = os.listdir(parent)\n",
    "print(wm_ids)"
   ]
  },
  {
   "cell_type": "code",
   "execution_count": 5,
   "metadata": {},
   "outputs": [
    {
     "name": "stderr",
     "output_type": "stream",
     "text": [
      "/raid/home/ashhar21137/anaconda3/envs/zodiac/lib/python3.10/site-packages/huggingface_hub/file_download.py:1150: FutureWarning: `resume_download` is deprecated and will be removed in version 1.0.0. Downloads always resume when possible. If you want to force a new download, use `force_download=True`.\n",
      "  warnings.warn(\n"
     ]
    },
    {
     "data": {
      "application/vnd.jupyter.widget-view+json": {
       "model_id": "507fc091baa64461837accc4250176bb",
       "version_major": 2,
       "version_minor": 0
      },
      "text/plain": [
       "Loading pipeline components...:   0%|          | 0/7 [00:00<?, ?it/s]"
      ]
     },
     "metadata": {},
     "output_type": "display_data"
    }
   ],
   "source": [
    "paraphrase_model_id = 'stabilityai/stable-diffusion-xl-base-1.0'\n",
    "pipeline_text2image = AutoPipelineForText2Image.from_pretrained(paraphrase_model_id, torch_dtype=torch.float16, variant=\"fp16\", use_safetensors=True, add_watermarker=False).to(device)\n",
    "pipeline = AutoPipelineForImage2Image.from_pipe(pipeline_text2image).to(device)\n"
   ]
  },
  {
   "cell_type": "code",
   "execution_count": 6,
   "metadata": {},
   "outputs": [],
   "source": [
    "def select_random_excluding_index(lst, i):\n",
    "    # Remove the element at the i-th index\n",
    "    excluded_list = lst[:i] + lst[i+1:]\n",
    "    # Select a random element from the remaining list\n",
    "    selected_element = random.choice(excluded_list)\n",
    "    # Find the index of the selected element in the original list\n",
    "    original_index = lst.index(selected_element)\n",
    "    return selected_element, original_index\n",
    "\n",
    "\n",
    "def list_excluding_index(lst, i):\n",
    "    # Return a list excluding the element at the i-th index\n",
    "    return lst[:i] + lst[i+1:]\n"
   ]
  },
  {
   "cell_type": "code",
   "execution_count": 7,
   "metadata": {},
   "outputs": [],
   "source": [
    "strength_values = [0.10,0.20,0.30,0.40,0.50]"
   ]
  },
  {
   "cell_type": "code",
   "execution_count": 8,
   "metadata": {},
   "outputs": [],
   "source": [
    "with open('captions_train2014_new_format.json','r') as file : \n",
    "    data = json.load(file)\n"
   ]
  },
  {
   "cell_type": "code",
   "execution_count": 9,
   "metadata": {},
   "outputs": [],
   "source": [
    "neg_prompt = 'deformity, bad anatomy, cloned face, amputee, people in background, asymmetric, disfigured, extra limbs, text, missing legs, missing arms, Out of frame, low quality, Poorly drawn feet'\n"
   ]
  },
  {
   "cell_type": "code",
   "execution_count": 10,
   "metadata": {},
   "outputs": [],
   "source": [
    "save_dir = '/raid/home/ashhar21137/watermarking_final_tests/gaussian_shading/gs_paraphrases'"
   ]
  },
  {
   "cell_type": "code",
   "execution_count": 11,
   "metadata": {},
   "outputs": [
    {
     "name": "stderr",
     "output_type": "stream",
     "text": [
      "vae/diffusion_pytorch_model.safetensors not found\n"
     ]
    },
    {
     "data": {
      "application/vnd.jupyter.widget-view+json": {
       "model_id": "b72a7e41753c495a805fbbc223150529",
       "version_major": 2,
       "version_minor": 0
      },
      "text/plain": [
       "Loading pipeline components...:   0%|          | 0/5 [00:00<?, ?it/s]"
      ]
     },
     "metadata": {},
     "output_type": "display_data"
    }
   ],
   "source": [
    "scheduler = DPMSolverMultistepScheduler.from_pretrained(model_path, subfolder='scheduler')\n",
    "pipe = InversableStableDiffusionPipeline.from_pretrained(\n",
    "        model_path,\n",
    "        scheduler=scheduler,\n",
    "        torch_dtype=torch.float16,\n",
    "        revision='fp16',\n",
    ")\n",
    "pipe.safety_checker = None\n",
    "pipe = pipe.to(device)\n"
   ]
  },
  {
   "cell_type": "code",
   "execution_count": 12,
   "metadata": {},
   "outputs": [],
   "source": [
    "# class for watermark\n",
    "if chacha:\n",
    "    watermark = Gaussian_Shading_chacha(channel_copy, hw_copy, fpr, user_number)\n",
    "else:\n",
    "    #a simple implement,\n",
    "    watermark = Gaussian_Shading(channel_copy, hw_copy, fpr, user_number)\n"
   ]
  },
  {
   "cell_type": "code",
   "execution_count": 14,
   "metadata": {},
   "outputs": [
    {
     "name": "stdout",
     "output_type": "stream",
     "text": [
      " ----- Strenght : 0.1 -----\n"
     ]
    },
    {
     "data": {
      "application/vnd.jupyter.widget-view+json": {
       "model_id": "a64f2016fdeb4263ab57db3f9cbaf326",
       "version_major": 2,
       "version_minor": 0
      },
      "text/plain": [
       "  0%|          | 0/200 [00:00<?, ?it/s]"
      ]
     },
     "metadata": {},
     "output_type": "display_data"
    },
    {
     "data": {
      "application/vnd.jupyter.widget-view+json": {
       "model_id": "b30c148e91d84be1bebf21e19985f44f",
       "version_major": 2,
       "version_minor": 0
      },
      "text/plain": [
       "  0%|          | 0/5 [00:00<?, ?it/s]"
      ]
     },
     "metadata": {},
     "output_type": "display_data"
    },
    {
     "name": "stdout",
     "output_type": "stream",
     "text": [
      "Saving generated images at /raid/home/ashhar21137/watermarking_final_tests/gaussian_shading/gs_paraphrases/0.1_para/<built-in function id>\n",
      "Paraphrased Image saved to /raid/home/ashhar21137/watermarking_final_tests/gaussian_shading/gs_paraphrases/0.1_para/<built-in function id>/gen_<built-in function id>_para_id_2.png\n",
      "Testing WITHOUT captions\n"
     ]
    },
    {
     "data": {
      "application/vnd.jupyter.widget-view+json": {
       "model_id": "455a5701d01e4d8994f9576bd7c59a55",
       "version_major": 2,
       "version_minor": 0
      },
      "text/plain": [
       "  0%|          | 0/50 [00:00<?, ?it/s]"
      ]
     },
     "metadata": {},
     "output_type": "display_data"
    },
    {
     "ename": "TypeError",
     "evalue": "object of type 'NoneType' has no len()",
     "output_type": "error",
     "traceback": [
      "\u001b[0;31m---------------------------------------------------------------------------\u001b[0m",
      "\u001b[0;31mTypeError\u001b[0m                                 Traceback (most recent call last)",
      "Cell \u001b[0;32mIn[14], line 58\u001b[0m\n\u001b[1;32m     50\u001b[0m gen_image_latents_w \u001b[38;5;241m=\u001b[39m pipe\u001b[38;5;241m.\u001b[39mget_image_latents(gen_image1, sample\u001b[38;5;241m=\u001b[39m\u001b[38;5;28;01mFalse\u001b[39;00m)\n\u001b[1;32m     51\u001b[0m gen_reversed_latents_w \u001b[38;5;241m=\u001b[39m pipe\u001b[38;5;241m.\u001b[39mforward_diffusion(\n\u001b[1;32m     52\u001b[0m     latents\u001b[38;5;241m=\u001b[39mgen_image_latents_w,\n\u001b[1;32m     53\u001b[0m     text_embeddings\u001b[38;5;241m=\u001b[39mtext_embeddings,\n\u001b[1;32m     54\u001b[0m     guidance_scale\u001b[38;5;241m=\u001b[39m\u001b[38;5;241m1\u001b[39m,\n\u001b[1;32m     55\u001b[0m     num_inference_steps\u001b[38;5;241m=\u001b[39mnum_inversion_steps,\n\u001b[1;32m     56\u001b[0m )\n\u001b[0;32m---> 58\u001b[0m gen_acc_metric_no_cap \u001b[38;5;241m=\u001b[39m \u001b[43mwatermark\u001b[49m\u001b[38;5;241;43m.\u001b[39;49m\u001b[43meval_watermark\u001b[49m\u001b[43m(\u001b[49m\u001b[43mgen_reversed_latents_w\u001b[49m\u001b[43m)\u001b[49m\n\u001b[1;32m     59\u001b[0m \u001b[38;5;28mprint\u001b[39m(\u001b[38;5;124mf\u001b[39m\u001b[38;5;124m\"\u001b[39m\u001b[38;5;124m attack : Paraphrase | acc_metric without caption : \u001b[39m\u001b[38;5;132;01m{\u001b[39;00mgen_acc_metric_no_cap\u001b[38;5;132;01m}\u001b[39;00m\u001b[38;5;124m\"\u001b[39m)\n\u001b[1;32m     61\u001b[0m \u001b[38;5;28mprint\u001b[39m(\u001b[38;5;124m\"\u001b[39m\u001b[38;5;124mTesting WITH captions\u001b[39m\u001b[38;5;124m\"\u001b[39m)\n",
      "File \u001b[0;32m~/watermarking_final_tests/gaussian_shading/Gaussian-Shading/watermark.py:82\u001b[0m, in \u001b[0;36mGaussian_Shading_chacha.eval_watermark\u001b[0;34m(self, reversed_w)\u001b[0m\n\u001b[1;32m     80\u001b[0m \u001b[38;5;28;01mdef\u001b[39;00m \u001b[38;5;21meval_watermark\u001b[39m(\u001b[38;5;28mself\u001b[39m, reversed_w):\n\u001b[1;32m     81\u001b[0m     reversed_m \u001b[38;5;241m=\u001b[39m (reversed_w \u001b[38;5;241m>\u001b[39m \u001b[38;5;241m0\u001b[39m)\u001b[38;5;241m.\u001b[39mint()\n\u001b[0;32m---> 82\u001b[0m     reversed_sd \u001b[38;5;241m=\u001b[39m \u001b[38;5;28;43mself\u001b[39;49m\u001b[38;5;241;43m.\u001b[39;49m\u001b[43mstream_key_decrypt\u001b[49m\u001b[43m(\u001b[49m\u001b[43mreversed_m\u001b[49m\u001b[38;5;241;43m.\u001b[39;49m\u001b[43mflatten\u001b[49m\u001b[43m(\u001b[49m\u001b[43m)\u001b[49m\u001b[38;5;241;43m.\u001b[39;49m\u001b[43mcpu\u001b[49m\u001b[43m(\u001b[49m\u001b[43m)\u001b[49m\u001b[38;5;241;43m.\u001b[39;49m\u001b[43mnumpy\u001b[49m\u001b[43m(\u001b[49m\u001b[43m)\u001b[49m\u001b[43m)\u001b[49m\n\u001b[1;32m     83\u001b[0m     reversed_watermark \u001b[38;5;241m=\u001b[39m \u001b[38;5;28mself\u001b[39m\u001b[38;5;241m.\u001b[39mdiffusion_inverse(reversed_sd)\n\u001b[1;32m     84\u001b[0m     correct \u001b[38;5;241m=\u001b[39m (reversed_watermark \u001b[38;5;241m==\u001b[39m \u001b[38;5;28mself\u001b[39m\u001b[38;5;241m.\u001b[39mwatermark)\u001b[38;5;241m.\u001b[39mfloat()\u001b[38;5;241m.\u001b[39mmean()\u001b[38;5;241m.\u001b[39mitem()\n",
      "File \u001b[0;32m~/watermarking_final_tests/gaussian_shading/Gaussian-Shading/watermark.py:61\u001b[0m, in \u001b[0;36mGaussian_Shading_chacha.stream_key_decrypt\u001b[0;34m(self, reversed_m)\u001b[0m\n\u001b[1;32m     60\u001b[0m \u001b[38;5;28;01mdef\u001b[39;00m \u001b[38;5;21mstream_key_decrypt\u001b[39m(\u001b[38;5;28mself\u001b[39m, reversed_m):\n\u001b[0;32m---> 61\u001b[0m     cipher \u001b[38;5;241m=\u001b[39m \u001b[43mChaCha20\u001b[49m\u001b[38;5;241;43m.\u001b[39;49m\u001b[43mnew\u001b[49m\u001b[43m(\u001b[49m\u001b[43mkey\u001b[49m\u001b[38;5;241;43m=\u001b[39;49m\u001b[38;5;28;43mself\u001b[39;49m\u001b[38;5;241;43m.\u001b[39;49m\u001b[43mkey\u001b[49m\u001b[43m,\u001b[49m\u001b[43m \u001b[49m\u001b[43mnonce\u001b[49m\u001b[38;5;241;43m=\u001b[39;49m\u001b[38;5;28;43mself\u001b[39;49m\u001b[38;5;241;43m.\u001b[39;49m\u001b[43mnonce\u001b[49m\u001b[43m)\u001b[49m\n\u001b[1;32m     62\u001b[0m     sd_byte \u001b[38;5;241m=\u001b[39m cipher\u001b[38;5;241m.\u001b[39mdecrypt(np\u001b[38;5;241m.\u001b[39mpackbits(reversed_m)\u001b[38;5;241m.\u001b[39mtobytes())\n\u001b[1;32m     63\u001b[0m     sd_bit \u001b[38;5;241m=\u001b[39m np\u001b[38;5;241m.\u001b[39munpackbits(np\u001b[38;5;241m.\u001b[39mfrombuffer(sd_byte, dtype\u001b[38;5;241m=\u001b[39mnp\u001b[38;5;241m.\u001b[39muint8))\n",
      "File \u001b[0;32m~/anaconda3/envs/zodiac/lib/python3.10/site-packages/Crypto/Cipher/ChaCha20.py:272\u001b[0m, in \u001b[0;36mnew\u001b[0;34m(**kwargs)\u001b[0m\n\u001b[1;32m    269\u001b[0m \u001b[38;5;28;01mif\u001b[39;00m nonce \u001b[38;5;129;01mis\u001b[39;00m \u001b[38;5;28;01mNone\u001b[39;00m:\n\u001b[1;32m    270\u001b[0m     nonce \u001b[38;5;241m=\u001b[39m get_random_bytes(\u001b[38;5;241m8\u001b[39m)\n\u001b[0;32m--> 272\u001b[0m \u001b[38;5;28;01mif\u001b[39;00m \u001b[38;5;28;43mlen\u001b[39;49m\u001b[43m(\u001b[49m\u001b[43mkey\u001b[49m\u001b[43m)\u001b[49m \u001b[38;5;241m!=\u001b[39m \u001b[38;5;241m32\u001b[39m:\n\u001b[1;32m    273\u001b[0m     \u001b[38;5;28;01mraise\u001b[39;00m \u001b[38;5;167;01mValueError\u001b[39;00m(\u001b[38;5;124m\"\u001b[39m\u001b[38;5;124mChaCha20/XChaCha20 key must be 32 bytes long\u001b[39m\u001b[38;5;124m\"\u001b[39m)\n\u001b[1;32m    275\u001b[0m \u001b[38;5;28;01mif\u001b[39;00m \u001b[38;5;28mlen\u001b[39m(nonce) \u001b[38;5;129;01mnot\u001b[39;00m \u001b[38;5;129;01min\u001b[39;00m (\u001b[38;5;241m8\u001b[39m, \u001b[38;5;241m12\u001b[39m, \u001b[38;5;241m24\u001b[39m):\n",
      "\u001b[0;31mTypeError\u001b[0m: object of type 'NoneType' has no len()"
     ]
    }
   ],
   "source": [
    "for strength in strength_values : \n",
    "    print(f\" ----- Strenght : {strength} -----\")\n",
    "    paraphrase_detection = defaultdict(lambda: defaultdict(dict))\n",
    "\n",
    "    count = 1 \n",
    "    for wm_id in tqdm(wm_ids) : \n",
    "        if count > 1 : break \n",
    "        wm_dir = os.path.join(parent, wm_id)\n",
    "\n",
    "        avg_p_no_cap = 0 \n",
    "        avg_p_with_cap = 0 \n",
    "\n",
    "        avg_det_no_cap = 0 \n",
    "        avg_det_with_cap = 0 \n",
    "\n",
    "        for img in os.listdir(wm_dir) : \n",
    "            path = os.path.join(wm_dir, img)\n",
    "            # print(path)\n",
    "            caption_idx = re.split('[_.]',img)[3]\n",
    "            # print(caption_idx)\n",
    "\n",
    "            captions = data['annotations'][wm_id]\n",
    "\n",
    "            paraphrase_caption, para_id = select_random_excluding_index(captions, int(caption_idx))\n",
    "            # print(paraphrase_caption)\n",
    "\n",
    "            wm_image = Image.open(path)\n",
    "\n",
    "            gen_image = pipeline(paraphrase_caption, image=wm_image, negative_prompt=neg_prompt, strength=strength, guidance_scale=7.5).images[0]\n",
    "\n",
    "            directory_paraphrased = f'{save_dir}/{strength}_para/{id}'\n",
    "            print(f\"Saving generated images at {directory_paraphrased}\")\n",
    "            if not os.path.exists(directory_paraphrased):\n",
    "                os.makedirs(directory_paraphrased)\n",
    "\n",
    "            paraphrased_name = f'gen_{id}_para_id_{para_id}.png'\n",
    "            gen_image.save(os.path.join(directory_paraphrased, paraphrased_name))\n",
    "            print(f\"Paraphrased Image saved to {os.path.join(directory_paraphrased, paraphrased_name)}\")\n",
    "\n",
    "            # Ensure gen_image is a PIL Image\n",
    "            if not isinstance(gen_image, Image.Image):\n",
    "                gen_image = Image.fromarray(gen_image)\n",
    "\n",
    "            # *** Testing with captions **\n",
    "            print(\"Testing WITHOUT captions\")\n",
    "            tester_prompt = ''\n",
    "            text_embeddings = pipe.get_text_embedding(tester_prompt)\n",
    "\n",
    "            gen_image1 = transform_img(gen_image).unsqueeze(0).to(text_embeddings.dtype).to(device)\n",
    "            gen_image_latents_w = pipe.get_image_latents(gen_image1, sample=False)\n",
    "            gen_reversed_latents_w = pipe.forward_diffusion(\n",
    "                latents=gen_image_latents_w,\n",
    "                text_embeddings=text_embeddings,\n",
    "                guidance_scale=1,\n",
    "                num_inference_steps=num_inversion_steps,\n",
    "            )\n",
    "\n",
    "            gen_acc_metric_no_cap = watermark.eval_watermark(gen_reversed_latents_w)\n",
    "            print(f\" attack : Paraphrase | acc_metric without caption : {gen_acc_metric_no_cap}\")\n",
    "\n",
    "            print(\"Testing WITH captions\")\n",
    "            text_embeddings = pipe.get_text_embedding(paraphrase_caption)\n",
    "\n",
    "            gen_image1 = transform_img(gen_image).unsqueeze(0).to(text_embeddings.dtype).to(device)\n",
    "            gen_image_latents_w = pipe.get_image_latents(gen_image1, sample=False)\n",
    "            gen_reversed_latents_w = pipe.forward_diffusion(\n",
    "                latents=gen_image_latents_w,\n",
    "                text_embeddings=text_embeddings,\n",
    "                guidance_scale=1,\n",
    "                num_inference_steps=num_inversion_steps,\n",
    "            )\n",
    "\n",
    "            gen_acc_metric_with_cap = watermark.eval_watermark(gen_reversed_latents_w)\n",
    "            print(f\" attack : Paraphrase | acc_metric without caption : {gen_acc_metric_with_cap}\")\n",
    "\n",
    "            paraphrase_detection[id]['with_caption']['avg_probability'] += gen_acc_metric_with_cap / len(captions) \n",
    "            paraphrase_detection[id]['with_caption']['detection_rate'] += (gen_acc_metric_with_cap > 0.9) / len(captions)\n",
    "\n",
    "            paraphrase_detection[id]['without_caption']['avg_probability'] += gen_acc_metric_no_cap / len(captions)\n",
    "            paraphrase_detection[id]['without_caption']['detection_rate'] += (gen_acc_metric_no_cap > 0.9) / len(captions)\n",
    "\n",
    "            count +=1 \n",
    "\n",
    "    with open(f\"/raid/home/ashhar21137/watermarking_final_tests/gaussian_shading/results/gs_{strength}_paraphrased.json\", \"w\") as file:\n",
    "        json.dump(paraphrase_detection, file, indent=4)\n",
    "\n",
    "\n",
    "\n",
    "\n",
    "            "
   ]
  },
  {
   "cell_type": "code",
   "execution_count": null,
   "metadata": {},
   "outputs": [],
   "source": []
  },
  {
   "cell_type": "code",
   "execution_count": null,
   "metadata": {},
   "outputs": [],
   "source": []
  },
  {
   "cell_type": "code",
   "execution_count": null,
   "metadata": {},
   "outputs": [],
   "source": [
    "for wm_img in tqdm(wm_images) : \n",
    "    wm_dir = os.path.join(wm_image_dir, wm_img) \n",
    "    wm_dir_img = os.listdir(wm_dir)\n",
    "\n",
    "    for img in wm_dir_img : \n",
    "\n",
    "        print(f\"image : {img}\")\n",
    "        path = os.path.join(wm_dir,img)\n",
    "        caption_idx = re.split('[_.]',img)[3]\n",
    "        id = re.split('[_]',img)[0]\n",
    "\n",
    "\n",
    "        captions = data['annotations'][id]\n",
    "\n",
    "        selected_captions = select_excluding_index(captions,int(caption_idx))\n",
    "\n",
    "        image_w = Image.open(path)\n",
    "\n",
    "        count = 1\n",
    "        for i in range(len(selected_captions)) :\n",
    "            print(f\"paraphrase count : {count}\")\n",
    "            paraphrase_image = pipeline(selected_captions[i], image=image_w, strength=0.15, guidance_scale=7.5).images\n",
    "\n",
    "            directory_paraphrased = os.path.join(output_path, f\"{id}/left_{caption_idx}\")\n",
    "            # print(f\"Saving generated images at {directory_paraphrased}\")\n",
    "            if not os.path.exists(directory_paraphrased):\n",
    "                os.makedirs(directory_paraphrased)\n",
    "\n",
    "            paraphrase_name = f'gen_{id}_{selected_captions[i]}.png'\n"
   ]
  },
  {
   "cell_type": "code",
   "execution_count": null,
   "metadata": {},
   "outputs": [],
   "source": []
  },
  {
   "cell_type": "code",
   "execution_count": null,
   "metadata": {},
   "outputs": [],
   "source": []
  },
  {
   "cell_type": "code",
   "execution_count": null,
   "metadata": {},
   "outputs": [],
   "source": []
  },
  {
   "cell_type": "code",
   "execution_count": null,
   "metadata": {},
   "outputs": [],
   "source": []
  },
  {
   "cell_type": "code",
   "execution_count": null,
   "metadata": {},
   "outputs": [],
   "source": []
  },
  {
   "cell_type": "code",
   "execution_count": null,
   "metadata": {},
   "outputs": [],
   "source": []
  },
  {
   "cell_type": "code",
   "execution_count": null,
   "metadata": {},
   "outputs": [],
   "source": []
  },
  {
   "cell_type": "code",
   "execution_count": null,
   "metadata": {},
   "outputs": [],
   "source": []
  },
  {
   "cell_type": "code",
   "execution_count": null,
   "metadata": {},
   "outputs": [],
   "source": []
  },
  {
   "cell_type": "code",
   "execution_count": null,
   "metadata": {},
   "outputs": [],
   "source": []
  },
  {
   "cell_type": "code",
   "execution_count": null,
   "metadata": {},
   "outputs": [],
   "source": []
  },
  {
   "cell_type": "code",
   "execution_count": null,
   "metadata": {},
   "outputs": [],
   "source": []
  },
  {
   "cell_type": "code",
   "execution_count": null,
   "metadata": {},
   "outputs": [],
   "source": []
  },
  {
   "cell_type": "code",
   "execution_count": null,
   "metadata": {},
   "outputs": [],
   "source": []
  },
  {
   "cell_type": "code",
   "execution_count": null,
   "metadata": {},
   "outputs": [],
   "source": []
  },
  {
   "cell_type": "code",
   "execution_count": null,
   "metadata": {},
   "outputs": [],
   "source": []
  }
 ],
 "metadata": {
  "kernelspec": {
   "display_name": "zodiac",
   "language": "python",
   "name": "python3"
  },
  "language_info": {
   "codemirror_mode": {
    "name": "ipython",
    "version": 3
   },
   "file_extension": ".py",
   "mimetype": "text/x-python",
   "name": "python",
   "nbconvert_exporter": "python",
   "pygments_lexer": "ipython3",
   "version": "3.10.13"
  }
 },
 "nbformat": 4,
 "nbformat_minor": 2
}
