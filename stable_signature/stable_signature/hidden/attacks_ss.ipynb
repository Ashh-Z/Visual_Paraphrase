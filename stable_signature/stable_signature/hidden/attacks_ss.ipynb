{
 "cells": [
  {
   "cell_type": "code",
   "execution_count": 1,
   "metadata": {},
   "outputs": [
    {
     "name": "stdout",
     "output_type": "stream",
     "text": [
      "/raid/home/ashhar21137/watermarking3/stable_signature/hidden\n"
     ]
    }
   ],
   "source": [
    "%cd hidden\n"
   ]
  },
  {
   "cell_type": "code",
   "execution_count": 2,
   "metadata": {},
   "outputs": [],
   "source": [
    "import os \n",
    "os.environ[\"CUDA_VISIBLE_DEVICES\"]='3'"
   ]
  },
  {
   "cell_type": "code",
   "execution_count": 3,
   "metadata": {},
   "outputs": [],
   "source": [
    "import torch\n",
    "from torchvision import transforms\n",
    "import matplotlib.pyplot as plt\n",
    "import numpy as np\n",
    "from PIL import Image\n",
    "from skimage.metrics import peak_signal_noise_ratio\n",
    "\n",
    "device = torch.device('cuda' if torch.cuda.is_available() else 'cpu')\n",
    "\n",
    "# you should run this notebook in the root directory of the hidden project for the following imports to work\n",
    "# %cd ..\n",
    "from models import HiddenEncoder, HiddenDecoder, EncoderWithJND, EncoderDecoder\n",
    "from attenuations import JND"
   ]
  },
  {
   "cell_type": "code",
   "execution_count": 4,
   "metadata": {},
   "outputs": [],
   "source": [
    "from PIL import Image \n",
    "import numpy as np \n",
    "from tqdm import tqdm \n",
    "from skimage.util import random_noise\n",
    "from torchvision import transforms\n",
    "from collections import defaultdict\n",
    "import re\n",
    "import cv2\n",
    "from PIL import Image, ImageEnhance\n"
   ]
  },
  {
   "cell_type": "code",
   "execution_count": 5,
   "metadata": {},
   "outputs": [],
   "source": [
    "def msg2str(msg):\n",
    "    return \"\".join([('1' if el else '0') for el in msg])\n",
    "\n",
    "def str2msg(str):\n",
    "    return [True if el=='1' else False for el in str]"
   ]
  },
  {
   "cell_type": "code",
   "execution_count": 6,
   "metadata": {},
   "outputs": [],
   "source": [
    "class Params():\n",
    "    def __init__(self, encoder_depth:int, encoder_channels:int, decoder_depth:int, decoder_channels:int, num_bits:int,\n",
    "                attenuation:str, scale_channels:bool, scaling_i:float, scaling_w:float):\n",
    "        # encoder and decoder parameters\n",
    "        self.encoder_depth = encoder_depth\n",
    "        self.encoder_channels = encoder_channels\n",
    "        self.decoder_depth = decoder_depth\n",
    "        self.decoder_channels = decoder_channels\n",
    "        self.num_bits = num_bits\n",
    "        # attenuation parameters\n",
    "        self.attenuation = attenuation\n",
    "        self.scale_channels = scale_channels\n",
    "        self.scaling_i = scaling_i\n",
    "        self.scaling_w = scaling_w\n",
    "\n",
    "NORMALIZE_IMAGENET = transforms.Normalize(mean=[0.485, 0.456, 0.406], std=[0.229, 0.224, 0.225])\n",
    "UNNORMALIZE_IMAGENET = transforms.Normalize(mean=[-0.485/0.229, -0.456/0.224, -0.406/0.225], std=[1/0.229, 1/0.224, 1/0.225])\n",
    "default_transform = transforms.Compose([transforms.ToTensor(), NORMALIZE_IMAGENET])\n",
    "\n",
    "params = Params(\n",
    "    encoder_depth=4, encoder_channels=64, decoder_depth=8, decoder_channels=64, num_bits=48,\n",
    "    attenuation=\"jnd\", scale_channels=False, scaling_i=1, scaling_w=1.5\n",
    ")\n",
    "\n",
    "decoder = HiddenDecoder(\n",
    "    num_blocks=params.decoder_depth,\n",
    "    num_bits=params.num_bits,\n",
    "    channels=params.decoder_channels\n",
    ")\n",
    "encoder = HiddenEncoder(\n",
    "    num_blocks=params.encoder_depth,\n",
    "    num_bits=params.num_bits,\n",
    "    channels=params.encoder_channels\n",
    ")\n",
    "attenuation = JND(preprocess=UNNORMALIZE_IMAGENET) if params.attenuation == \"jnd\" else None\n",
    "encoder_with_jnd = EncoderWithJND(\n",
    "    encoder, attenuation, params.scale_channels, params.scaling_i, params.scaling_w\n",
    ")"
   ]
  },
  {
   "cell_type": "code",
   "execution_count": 7,
   "metadata": {},
   "outputs": [],
   "source": [
    "ckpt_path = \"ckpts/hidden_replicate.pth\"\n",
    "\n",
    "state_dict = torch.load(ckpt_path, map_location='cpu')['encoder_decoder']\n",
    "encoder_decoder_state_dict = {k.replace('module.', ''): v for k, v in state_dict.items()}\n",
    "encoder_state_dict = {k.replace('encoder.', ''): v for k, v in encoder_decoder_state_dict.items() if 'encoder' in k}\n",
    "decoder_state_dict = {k.replace('decoder.', ''): v for k, v in encoder_decoder_state_dict.items() if 'decoder' in k}\n",
    "\n",
    "encoder.load_state_dict(encoder_state_dict)\n",
    "decoder.load_state_dict(decoder_state_dict)\n",
    "\n",
    "encoder_with_jnd = encoder_with_jnd.to(device).eval()\n",
    "decoder = decoder.to(device).eval()"
   ]
  },
  {
   "cell_type": "code",
   "execution_count": 8,
   "metadata": {},
   "outputs": [],
   "source": [
    "def brightness_attack(img_path, out_path, multi=False):\n",
    "    brightness = 2\n",
    "    if os.path.exists(out_path) and not multi:\n",
    "        return\n",
    "    \n",
    "    img = Image.open(img_path)\n",
    "    enhancer = ImageEnhance.Brightness(img)\n",
    "    img = enhancer.enhance(brightness)\n",
    "    img.save(out_path)\n",
    "\n",
    "\n",
    "def gaussian_noise_attack(img_path, out_path, multi=False):\n",
    "        std = 0.1\n",
    "        \n",
    "        if os.path.exists(out_path) and not multi:\n",
    "            return \n",
    "        \n",
    "        image = cv2.imread(img_path)\n",
    "        image = image / 255.0\n",
    "        # Add Gaussian noise to the image\n",
    "        noise_sigma = std  # Vary this to change the amount of noise\n",
    "        noisy_image = random_noise(image, mode='gaussian', var=noise_sigma ** 2)\n",
    "        # Clip the values to [0, 1] range after adding the noise\n",
    "        noisy_image = np.clip(noisy_image, 0, 1)\n",
    "        noisy_image = np.array(255 * noisy_image, dtype='uint8')\n",
    "        cv2.imwrite(out_path, noisy_image)\n",
    "\n",
    "\n",
    "def rotate_attack(img_path, out_path, multi=False):\n",
    "    degree = 30\n",
    "    expand = 1\n",
    "    if os.path.exists(out_path) and not multi:\n",
    "        return \n",
    "    \n",
    "    img = Image.open(img_path)\n",
    "    img = img.rotate(degree, expand=expand)\n",
    "    img = img.resize((512,512))\n",
    "    img.save(out_path)\n",
    "\n",
    "\n",
    "def jpeg_attack(img_path, out_path, multi=False):\n",
    "    quality = 50\n",
    "    if os.path.exists(out_path) and not multi:\n",
    "        return \n",
    "    \n",
    "    img = Image.open(img_path)\n",
    "    img.save(out_path, \"JPEG\", quality=quality)\n"
   ]
  },
  {
   "cell_type": "code",
   "execution_count": 9,
   "metadata": {},
   "outputs": [],
   "source": [
    "parent = '/raid/home/ashhar21137/watermarking3/stable_sig_watermarked'"
   ]
  },
  {
   "cell_type": "code",
   "execution_count": 10,
   "metadata": {},
   "outputs": [],
   "source": [
    "ids = os.listdir(parent)"
   ]
  },
  {
   "cell_type": "code",
   "execution_count": 11,
   "metadata": {},
   "outputs": [],
   "source": [
    "# ids"
   ]
  },
  {
   "cell_type": "code",
   "execution_count": 12,
   "metadata": {},
   "outputs": [],
   "source": [
    "attacks = [\"brightness\",\"gaussian_noise\",\"jpeg\",\"rotation\"]\n",
    "attacks_op_parent = \"/raid/home/ashhar21137/watermarking3/attacks\""
   ]
  },
  {
   "cell_type": "code",
   "execution_count": null,
   "metadata": {},
   "outputs": [],
   "source": []
  },
  {
   "cell_type": "code",
   "execution_count": 13,
   "metadata": {},
   "outputs": [
    {
     "name": "stdout",
     "output_type": "stream",
     "text": [
      "----------------- Performing Attacks ------------------\n"
     ]
    },
    {
     "name": "stderr",
     "output_type": "stream",
     "text": [
      "100%|██████████| 200/200 [00:00<00:00, 20049.73it/s]\n"
     ]
    }
   ],
   "source": [
    "print(\"----------------- Performing Attacks ------------------\")\n",
    "count = 0 \n",
    "for image in tqdm(ids):\n",
    "    # if count > 0 : break \n",
    "    # if \".png\" in image : \n",
    "    img_pth = os.path.join(parent, image)\n",
    "    \n",
    "    # print(\"img_pth : \", img_pth)\n",
    "    \n",
    "    img_name, img_ext = os.path.splitext(image)\n",
    "    \n",
    "    # print(\"img_name : \",img_name)\n",
    "    # print(\"img_ext : \",img_ext)\n",
    "\n",
    "    for attack in attacks: \n",
    "        output_path = os.path.join(f\"{attacks_op_parent}/{attack}\", f\"{attack}_{img_name + img_ext}\")\n",
    "        # print(\"output path : \",output_path)\n",
    "        \n",
    "        # Ensure the output directory exists\n",
    "        os.makedirs(os.path.dirname(output_path), exist_ok=True)\n",
    "        \n",
    "        if attack == \"brightness\":\n",
    "            brightness_attack(img_pth, output_path)  # Pass individual paths\n",
    "\n",
    "        elif attack == \"gaussian_noise\":\n",
    "            gaussian_noise_attack(img_pth, output_path)\n",
    "\n",
    "        elif attack == \"rotation\" :\n",
    "            rotate_attack(img_pth,output_path)\n",
    "\n",
    "        elif attack == \"jpeg\" : \n",
    "            jpeg_attack(img_pth,output_path)\n",
    "        \n",
    "\n",
    "    # count += 1\n",
    "\n"
   ]
  },
  {
   "cell_type": "code",
   "execution_count": null,
   "metadata": {},
   "outputs": [],
   "source": []
  },
  {
   "cell_type": "code",
   "execution_count": 14,
   "metadata": {},
   "outputs": [],
   "source": [
    "# attacked_path = os.path.join(attacks_op_parent,attack) \n",
    "# attacked_ids = os.listdir(attacked_path)\n"
   ]
  },
  {
   "cell_type": "code",
   "execution_count": 15,
   "metadata": {},
   "outputs": [],
   "source": [
    "# attacked_path"
   ]
  },
  {
   "cell_type": "code",
   "execution_count": 27,
   "metadata": {},
   "outputs": [],
   "source": [
    "original_message = \"111010110101000001010111010011010100010000100111\""
   ]
  },
  {
   "cell_type": "code",
   "execution_count": 28,
   "metadata": {},
   "outputs": [],
   "source": [
    "attack_detection = defaultdict(lambda: defaultdict(dict))\n"
   ]
  },
  {
   "cell_type": "code",
   "execution_count": 29,
   "metadata": {},
   "outputs": [
    {
     "name": "stdout",
     "output_type": "stream",
     "text": [
      " ----- Attack : brightness -----\n"
     ]
    },
    {
     "name": "stderr",
     "output_type": "stream",
     "text": [
      "  0%|          | 0/200 [00:00<?, ?it/s]"
     ]
    },
    {
     "name": "stdout",
     "output_type": "stream",
     "text": [
      " *** Image : brightness_Image_426038.jpg ***\n",
      "Image id :  Image_426038.jpg\n"
     ]
    },
    {
     "name": "stderr",
     "output_type": "stream",
     "text": [
      "  0%|          | 1/200 [00:00<00:59,  3.33it/s]"
     ]
    },
    {
     "name": "stdout",
     "output_type": "stream",
     "text": [
      "Message: 111010110101000001010111010011010100010000100111\n",
      "Decoded: 111010110101010001010111011011010100000000101110\n",
      "Bit Accuracy: 0.8958333333333334\n",
      "Detection Result:  0\n",
      " *** Image : brightness_Image_167603.jpg ***\n",
      "Image id :  Image_167603.jpg\n"
     ]
    },
    {
     "name": "stderr",
     "output_type": "stream",
     "text": [
      "  1%|          | 2/200 [00:00<01:06,  2.97it/s]"
     ]
    },
    {
     "name": "stdout",
     "output_type": "stream",
     "text": [
      "Message: 111010110101000001010111010011010100010000100111\n",
      "Decoded: 101101100101010011000111101011011100000100100110\n",
      "Bit Accuracy: 0.6875\n",
      "Detection Result:  0\n",
      " *** Image : brightness_Image_311914.jpg ***\n",
      "Image id :  Image_311914.jpg\n"
     ]
    },
    {
     "name": "stderr",
     "output_type": "stream",
     "text": [
      "  2%|▏         | 3/200 [00:01<01:12,  2.73it/s]"
     ]
    },
    {
     "name": "stdout",
     "output_type": "stream",
     "text": [
      "Message: 111010110101000001010111010011010100010000100111\n",
      "Decoded: 111000100101000001010111010011011100001001101110\n",
      "Bit Accuracy: 0.8333333333333334\n",
      "Detection Result:  0\n",
      " *** Image : brightness_Image_4428.jpg ***\n",
      "Image id :  Image_4428.jpg\n"
     ]
    },
    {
     "name": "stderr",
     "output_type": "stream",
     "text": [
      "  2%|▏         | 4/200 [00:01<01:14,  2.62it/s]"
     ]
    },
    {
     "name": "stdout",
     "output_type": "stream",
     "text": [
      "Message: 111010110101000001010111010011010100010000100111\n",
      "Decoded: 101100111111010001000111001011010100001000101110\n",
      "Bit Accuracy: 0.7291666666666666\n",
      "Detection Result:  0\n",
      " *** Image : brightness_Image_560628.jpg ***\n",
      "Image id :  Image_560628.jpg\n"
     ]
    },
    {
     "name": "stderr",
     "output_type": "stream",
     "text": [
      "  2%|▎         | 5/200 [00:01<01:11,  2.74it/s]"
     ]
    },
    {
     "name": "stdout",
     "output_type": "stream",
     "text": [
      "Message: 111010110101000001010111010011010100010000100111\n",
      "Decoded: 111110111101000011010111011011010100000000100110\n",
      "Bit Accuracy: 0.875\n",
      "Detection Result:  0\n",
      " *** Image : brightness_Image_543877.jpg ***\n",
      "Image id :  Image_543877.jpg\n"
     ]
    },
    {
     "name": "stderr",
     "output_type": "stream",
     "text": [
      "  3%|▎         | 6/200 [00:02<01:08,  2.84it/s]"
     ]
    },
    {
     "name": "stdout",
     "output_type": "stream",
     "text": [
      "Message: 111010110101000001010111010011010100010000100111\n",
      "Decoded: 011000110101010011010111000011010100001000100110\n",
      "Bit Accuracy: 0.8333333333333334\n",
      "Detection Result:  0\n",
      " *** Image : brightness_Image_259446.jpg ***\n",
      "Image id :  Image_259446.jpg\n"
     ]
    },
    {
     "name": "stderr",
     "output_type": "stream",
     "text": [
      "  4%|▎         | 7/200 [00:02<01:06,  2.88it/s]"
     ]
    },
    {
     "name": "stdout",
     "output_type": "stream",
     "text": [
      "Message: 111010110101000001010111010011010100010000100111\n",
      "Decoded: 001110110101010011000011101011010100001000100110\n",
      "Bit Accuracy: 0.7291666666666666\n",
      "Detection Result:  0\n",
      " *** Image : brightness_Image_334080.jpg ***\n",
      "Image id :  Image_334080.jpg\n"
     ]
    },
    {
     "name": "stderr",
     "output_type": "stream",
     "text": [
      "  4%|▍         | 8/200 [00:02<01:06,  2.88it/s]"
     ]
    },
    {
     "name": "stdout",
     "output_type": "stream",
     "text": [
      "Message: 111010110101000001010111010011010100010000100111\n",
      "Decoded: 111101101001010011000001001001011100001100101111\n",
      "Bit Accuracy: 0.6041666666666666\n",
      "Detection Result:  0\n",
      " *** Image : brightness_Image_62279.jpg ***\n",
      "Image id :  Image_62279.jpg\n"
     ]
    },
    {
     "name": "stderr",
     "output_type": "stream",
     "text": [
      "  4%|▍         | 9/200 [00:03<01:07,  2.83it/s]"
     ]
    },
    {
     "name": "stdout",
     "output_type": "stream",
     "text": [
      "Message: 111010110101000001010111010011010100010000100111\n",
      "Decoded: 111101101110010011000001100011011100001101100110\n",
      "Bit Accuracy: 0.5833333333333334\n",
      "Detection Result:  0\n",
      " *** Image : brightness_Image_122688.jpg ***\n",
      "Image id :  Image_122688.jpg\n"
     ]
    },
    {
     "name": "stderr",
     "output_type": "stream",
     "text": [
      "  5%|▌         | 10/200 [00:03<01:11,  2.65it/s]"
     ]
    },
    {
     "name": "stdout",
     "output_type": "stream",
     "text": [
      "Message: 111010110101000001010111010011010100010000100111\n",
      "Decoded: 101101110101010011010111001001011100001000101110\n",
      "Bit Accuracy: 0.7083333333333334\n",
      "Detection Result:  0\n",
      " *** Image : brightness_Image_145179.jpg ***\n",
      "Image id :  Image_145179.jpg\n"
     ]
    },
    {
     "name": "stderr",
     "output_type": "stream",
     "text": [
      "  6%|▌         | 11/200 [00:03<01:05,  2.89it/s]"
     ]
    },
    {
     "name": "stdout",
     "output_type": "stream",
     "text": [
      "Message: 111010110101000001010111010011010100010000100111\n",
      "Decoded: 111001101101010011000111001111011000001101101011\n",
      "Bit Accuracy: 0.625\n",
      "Detection Result:  0\n",
      " *** Image : brightness_Image_267688.jpg ***\n",
      "Image id :  Image_267688.jpg\n"
     ]
    },
    {
     "name": "stderr",
     "output_type": "stream",
     "text": [
      "  6%|▌         | 12/200 [00:04<01:10,  2.66it/s]"
     ]
    },
    {
     "name": "stdout",
     "output_type": "stream",
     "text": [
      "Message: 111010110101000001010111010011010100010000100111\n",
      "Decoded: 111110101101000011000011101101011100001101100110\n",
      "Bit Accuracy: 0.6458333333333334\n",
      "Detection Result:  0\n",
      " *** Image : brightness_Image_64460.jpg ***\n",
      "Image id :  Image_64460.jpg\n"
     ]
    },
    {
     "name": "stderr",
     "output_type": "stream",
     "text": [
      "  6%|▋         | 13/200 [00:04<01:08,  2.73it/s]"
     ]
    },
    {
     "name": "stdout",
     "output_type": "stream",
     "text": [
      "Message: 111010110101000001010111010011010100010000100111\n",
      "Decoded: 111111101101010011010111101011011100001000101110\n",
      "Bit Accuracy: 0.7083333333333334\n",
      "Detection Result:  0\n",
      " *** Image : brightness_Image_377694.jpg ***\n",
      "Image id :  Image_377694.jpg\n"
     ]
    },
    {
     "name": "stderr",
     "output_type": "stream",
     "text": [
      "  7%|▋         | 14/200 [00:05<01:13,  2.54it/s]"
     ]
    },
    {
     "name": "stdout",
     "output_type": "stream",
     "text": [
      "Message: 111010110101000001010111010011010100010000100111\n",
      "Decoded: 001110111100010011000011101011011100001110100110\n",
      "Bit Accuracy: 0.625\n",
      "Detection Result:  0\n",
      " *** Image : brightness_Image_170850.jpg ***\n",
      "Image id :  Image_170850.jpg\n"
     ]
    },
    {
     "name": "stderr",
     "output_type": "stream",
     "text": [
      "  8%|▊         | 15/200 [00:05<01:04,  2.87it/s]"
     ]
    },
    {
     "name": "stdout",
     "output_type": "stream",
     "text": [
      "Message: 111010110101000001010111010011010100010000100111\n",
      "Decoded: 101101111101010011000101101101011100001101101110\n",
      "Bit Accuracy: 0.5625\n",
      "Detection Result:  0\n",
      " *** Image : brightness_Image_265709.jpg ***\n",
      "Image id :  Image_265709.jpg\n"
     ]
    },
    {
     "name": "stderr",
     "output_type": "stream",
     "text": [
      "  8%|▊         | 16/200 [00:05<01:06,  2.76it/s]"
     ]
    },
    {
     "name": "stdout",
     "output_type": "stream",
     "text": [
      "Message: 111010110101000001010111010011010100010000100111\n",
      "Decoded: 111010110111010011010111010011011100000000101111\n",
      "Bit Accuracy: 0.875\n",
      "Detection Result:  0\n",
      " *** Image : brightness_Image_246446.jpg ***\n",
      "Image id :  Image_246446.jpg\n"
     ]
    },
    {
     "name": "stderr",
     "output_type": "stream",
     "text": [
      "  8%|▊         | 17/200 [00:06<01:06,  2.76it/s]"
     ]
    },
    {
     "name": "stdout",
     "output_type": "stream",
     "text": [
      "Message: 111010110101000001010111010011010100010000100111\n",
      "Decoded: 101101101101010011010111101011010100001000101110\n",
      "Bit Accuracy: 0.6875\n",
      "Detection Result:  0\n",
      " *** Image : brightness_Image_62604.jpg ***\n",
      "Image id :  Image_62604.jpg\n"
     ]
    },
    {
     "name": "stderr",
     "output_type": "stream",
     "text": [
      "  9%|▉         | 18/200 [00:06<01:08,  2.65it/s]"
     ]
    },
    {
     "name": "stdout",
     "output_type": "stream",
     "text": [
      "Message: 111010110101000001010111010011010100010000100111\n",
      "Decoded: 001010110101000011010101111011010100011000101111\n",
      "Bit Accuracy: 0.8333333333333334\n",
      "Detection Result:  0\n",
      " *** Image : brightness_Image_496939.jpg ***\n",
      "Image id :  Image_496939.jpg\n"
     ]
    },
    {
     "name": "stderr",
     "output_type": "stream",
     "text": [
      " 10%|▉         | 19/200 [00:06<01:07,  2.70it/s]"
     ]
    },
    {
     "name": "stdout",
     "output_type": "stream",
     "text": [
      "Message: 111010110101000001010111010011010100010000100111\n",
      "Decoded: 011110101101000011010011010111010100001000100110\n",
      "Bit Accuracy: 0.7916666666666666\n",
      "Detection Result:  0\n",
      " *** Image : brightness_Image_279108.jpg ***\n",
      "Image id :  Image_279108.jpg\n"
     ]
    },
    {
     "name": "stderr",
     "output_type": "stream",
     "text": [
      " 10%|█         | 20/200 [00:07<01:02,  2.90it/s]"
     ]
    },
    {
     "name": "stdout",
     "output_type": "stream",
     "text": [
      "Message: 111010110101000001010111010011010100010000100111\n",
      "Decoded: 111110100101000011010111010011010100001000100110\n",
      "Bit Accuracy: 0.875\n",
      "Detection Result:  0\n",
      " *** Image : brightness_Image_303291.jpg ***\n",
      "Image id :  Image_303291.jpg\n"
     ]
    },
    {
     "name": "stderr",
     "output_type": "stream",
     "text": [
      " 10%|█         | 21/200 [00:07<01:05,  2.75it/s]"
     ]
    },
    {
     "name": "stdout",
     "output_type": "stream",
     "text": [
      "Message: 111010110101000001010111010011010100010000100111\n",
      "Decoded: 111100101111010011000011101001011100100100101110\n",
      "Bit Accuracy: 0.6041666666666666\n",
      "Detection Result:  0\n",
      " *** Image : brightness_Image_441488.jpg ***\n",
      "Image id :  Image_441488.jpg\n"
     ]
    },
    {
     "name": "stderr",
     "output_type": "stream",
     "text": [
      " 11%|█         | 22/200 [00:07<01:04,  2.74it/s]"
     ]
    },
    {
     "name": "stdout",
     "output_type": "stream",
     "text": [
      "Message: 111010110101000001010111010011010100010000100111\n",
      "Decoded: 101100100101000011010111101011011100001100100110\n",
      "Bit Accuracy: 0.7291666666666666\n",
      "Detection Result:  0\n",
      " *** Image : brightness_Image_239728.jpg ***\n",
      "Image id :  Image_239728.jpg\n"
     ]
    },
    {
     "name": "stderr",
     "output_type": "stream",
     "text": [
      " 12%|█▏        | 23/200 [00:08<01:02,  2.83it/s]"
     ]
    },
    {
     "name": "stdout",
     "output_type": "stream",
     "text": [
      "Message: 111010110101000001010111010011010100010000100111\n",
      "Decoded: 101101111001010111000001101101011100001111101111\n",
      "Bit Accuracy: 0.5\n",
      "Detection Result:  0\n",
      " *** Image : brightness_Image_457732.jpg ***\n",
      "Image id :  Image_457732.jpg\n"
     ]
    },
    {
     "name": "stderr",
     "output_type": "stream",
     "text": [
      " 12%|█▏        | 24/200 [00:08<01:01,  2.88it/s]"
     ]
    },
    {
     "name": "stdout",
     "output_type": "stream",
     "text": [
      "Message: 111010110101000001010111010011010100010000100111\n",
      "Decoded: 111110110101000001010111010011010100000000100110\n",
      "Bit Accuracy: 0.9375\n",
      "Detection Result:  1\n",
      " *** Image : brightness_Image_157032.jpg ***\n",
      "Image id :  Image_157032.jpg\n"
     ]
    },
    {
     "name": "stderr",
     "output_type": "stream",
     "text": [
      " 12%|█▎        | 25/200 [00:08<01:00,  2.89it/s]"
     ]
    },
    {
     "name": "stdout",
     "output_type": "stream",
     "text": [
      "Message: 111010110101000001010111010011010100010000100111\n",
      "Decoded: 101000111101010011000111001001011100001100101111\n",
      "Bit Accuracy: 0.7083333333333334\n",
      "Detection Result:  0\n",
      " *** Image : brightness_Image_165499.jpg ***\n",
      "Image id :  Image_165499.jpg\n"
     ]
    },
    {
     "name": "stderr",
     "output_type": "stream",
     "text": [
      " 13%|█▎        | 26/200 [00:09<00:59,  2.92it/s]"
     ]
    },
    {
     "name": "stdout",
     "output_type": "stream",
     "text": [
      "Message: 111010110101000001010111010011010100010000100111\n",
      "Decoded: 111001000101010011010011101011010100001001101110\n",
      "Bit Accuracy: 0.6875\n",
      "Detection Result:  0\n",
      " *** Image : brightness_Image_318574.jpg ***\n",
      "Image id :  Image_318574.jpg\n"
     ]
    },
    {
     "name": "stderr",
     "output_type": "stream",
     "text": [
      " 14%|█▎        | 27/200 [00:09<01:02,  2.78it/s]"
     ]
    },
    {
     "name": "stdout",
     "output_type": "stream",
     "text": [
      "Message: 111010110101000001010111010011010100010000100111\n",
      "Decoded: 101010110101000011010111010011010100000000100010\n",
      "Bit Accuracy: 0.8958333333333334\n",
      "Detection Result:  0\n",
      " *** Image : brightness_Image_570246.jpg ***\n",
      "Image id :  Image_570246.jpg\n"
     ]
    },
    {
     "name": "stderr",
     "output_type": "stream",
     "text": [
      " 14%|█▍        | 28/200 [00:10<01:00,  2.84it/s]"
     ]
    },
    {
     "name": "stdout",
     "output_type": "stream",
     "text": [
      "Message: 111010110101000001010111010011010100010000100111\n",
      "Decoded: 111110101111010011000011101111011100001100101111\n",
      "Bit Accuracy: 0.6458333333333334\n",
      "Detection Result:  0\n",
      " *** Image : brightness_Image_525589.jpg ***\n",
      "Image id :  Image_525589.jpg\n"
     ]
    },
    {
     "name": "stderr",
     "output_type": "stream",
     "text": [
      " 14%|█▍        | 29/200 [00:10<01:00,  2.80it/s]"
     ]
    },
    {
     "name": "stdout",
     "output_type": "stream",
     "text": [
      "Message: 111010110101000001010111010011010100010000100111\n",
      "Decoded: 101000111101010011000111101111011100001100100111\n",
      "Bit Accuracy: 0.7083333333333334\n",
      "Detection Result:  0\n",
      " *** Image : brightness_Image_309093.jpg ***\n",
      "Image id :  Image_309093.jpg\n"
     ]
    },
    {
     "name": "stderr",
     "output_type": "stream",
     "text": [
      " 15%|█▌        | 30/200 [00:10<00:55,  3.05it/s]"
     ]
    },
    {
     "name": "stdout",
     "output_type": "stream",
     "text": [
      "Message: 111010110101000001010111010011010100010000100111\n",
      "Decoded: 111110100111010010000111111111000000011000000110\n",
      "Bit Accuracy: 0.6875\n",
      "Detection Result:  0\n",
      " *** Image : brightness_Image_470072.jpg ***\n",
      "Image id :  Image_470072.jpg\n"
     ]
    },
    {
     "name": "stderr",
     "output_type": "stream",
     "text": [
      " 16%|█▌        | 31/200 [00:10<00:55,  3.02it/s]"
     ]
    },
    {
     "name": "stdout",
     "output_type": "stream",
     "text": [
      "Message: 111010110101000001010111010011010100010000100111\n",
      "Decoded: 111000111101000011010111000011010100011000100110\n",
      "Bit Accuracy: 0.875\n",
      "Detection Result:  0\n",
      " *** Image : brightness_Image_420721.jpg ***\n",
      "Image id :  Image_420721.jpg\n"
     ]
    },
    {
     "name": "stderr",
     "output_type": "stream",
     "text": [
      " 16%|█▌        | 32/200 [00:11<00:55,  3.04it/s]"
     ]
    },
    {
     "name": "stdout",
     "output_type": "stream",
     "text": [
      "Message: 111010110101000001010111010011010100010000100111\n",
      "Decoded: 111000110101000001010111000001010100011000100110\n",
      "Bit Accuracy: 0.8958333333333334\n",
      "Detection Result:  0\n",
      " *** Image : brightness_Image_150867.jpg ***\n",
      "Image id :  Image_150867.jpg\n"
     ]
    },
    {
     "name": "stderr",
     "output_type": "stream",
     "text": [
      " 16%|█▋        | 33/200 [00:11<01:04,  2.59it/s]"
     ]
    },
    {
     "name": "stdout",
     "output_type": "stream",
     "text": [
      "Message: 111010110101000001010111010011010100010000100111\n",
      "Decoded: 101101101101010011010011101001010100001100101110\n",
      "Bit Accuracy: 0.625\n",
      "Detection Result:  0\n",
      " *** Image : brightness_Image_270912.jpg ***\n",
      "Image id :  Image_270912.jpg\n"
     ]
    },
    {
     "name": "stderr",
     "output_type": "stream",
     "text": [
      " 17%|█▋        | 34/200 [00:12<01:08,  2.41it/s]"
     ]
    },
    {
     "name": "stdout",
     "output_type": "stream",
     "text": [
      "Message: 111010110101000001010111010011010100010000100111\n",
      "Decoded: 011000101101000011010011001001010100000100100110\n",
      "Bit Accuracy: 0.75\n",
      "Detection Result:  0\n",
      " *** Image : brightness_Image_147170.jpg ***\n",
      "Image id :  Image_147170.jpg\n"
     ]
    },
    {
     "name": "stderr",
     "output_type": "stream",
     "text": [
      " 18%|█▊        | 35/200 [00:12<01:12,  2.28it/s]"
     ]
    },
    {
     "name": "stdout",
     "output_type": "stream",
     "text": [
      "Message: 111010110101000001010111010011010100010000100111\n",
      "Decoded: 110000010001100101010101000000011010001001001111\n",
      "Bit Accuracy: 0.625\n",
      "Detection Result:  0\n",
      " *** Image : brightness_Image_37015.jpg ***\n",
      "Image id :  Image_37015.jpg\n"
     ]
    },
    {
     "name": "stderr",
     "output_type": "stream",
     "text": [
      " 18%|█▊        | 36/200 [00:13<01:08,  2.39it/s]"
     ]
    },
    {
     "name": "stdout",
     "output_type": "stream",
     "text": [
      "Message: 111010110101000001010111010011010100010000100111\n",
      "Decoded: 111000100101010001010111001111010100000000100110\n",
      "Bit Accuracy: 0.8333333333333334\n",
      "Detection Result:  0\n",
      " *** Image : brightness_Image_189993.jpg ***\n",
      "Image id :  Image_189993.jpg\n"
     ]
    },
    {
     "name": "stderr",
     "output_type": "stream",
     "text": [
      " 18%|█▊        | 37/200 [00:13<01:01,  2.64it/s]"
     ]
    },
    {
     "name": "stdout",
     "output_type": "stream",
     "text": [
      "Message: 111010110101000001010111010011010100010000100111\n",
      "Decoded: 101111100111000010000011101001010100001001100110\n",
      "Bit Accuracy: 0.6458333333333334\n",
      "Detection Result:  0\n",
      " *** Image : brightness_Image_170558.jpg ***\n",
      "Image id :  Image_170558.jpg\n"
     ]
    },
    {
     "name": "stderr",
     "output_type": "stream",
     "text": [
      " 19%|█▉        | 38/200 [00:13<01:01,  2.64it/s]"
     ]
    },
    {
     "name": "stdout",
     "output_type": "stream",
     "text": [
      "Message: 111010110101000001010111010011010100010000100111\n",
      "Decoded: 101001100101000011010111000011010100000000100110\n",
      "Bit Accuracy: 0.8333333333333334\n",
      "Detection Result:  0\n",
      " *** Image : brightness_Image_147016.jpg ***\n",
      "Image id :  Image_147016.jpg\n"
     ]
    },
    {
     "name": "stderr",
     "output_type": "stream",
     "text": [
      " 20%|█▉        | 39/200 [00:14<01:03,  2.54it/s]"
     ]
    },
    {
     "name": "stdout",
     "output_type": "stream",
     "text": [
      "Message: 111010110101000001010111010011010100010000100111\n",
      "Decoded: 111011010101010001010101001001010100001001001111\n",
      "Bit Accuracy: 0.75\n",
      "Detection Result:  0\n",
      " *** Image : brightness_Image_535786.jpg ***\n",
      "Image id :  Image_535786.jpg\n"
     ]
    },
    {
     "name": "stderr",
     "output_type": "stream",
     "text": [
      " 20%|██        | 40/200 [00:14<01:03,  2.52it/s]"
     ]
    },
    {
     "name": "stdout",
     "output_type": "stream",
     "text": [
      "Message: 111010110101000001010111010011010100010000100111\n",
      "Decoded: 111000010101000001010101000011011100001001001110\n",
      "Bit Accuracy: 0.7708333333333334\n",
      "Detection Result:  0\n",
      " *** Image : brightness_Image_371029.jpg ***\n",
      "Image id :  Image_371029.jpg\n"
     ]
    },
    {
     "name": "stderr",
     "output_type": "stream",
     "text": [
      " 20%|██        | 41/200 [00:15<01:04,  2.45it/s]"
     ]
    },
    {
     "name": "stdout",
     "output_type": "stream",
     "text": [
      "Message: 111010110101000001010111010011010100010000100111\n",
      "Decoded: 111100101101000011001111101101011100001000101110\n",
      "Bit Accuracy: 0.6458333333333334\n",
      "Detection Result:  0\n",
      " *** Image : brightness_Image_316676.jpg ***\n",
      "Image id :  Image_316676.jpg\n"
     ]
    },
    {
     "name": "stderr",
     "output_type": "stream",
     "text": [
      " 21%|██        | 42/200 [00:15<01:02,  2.54it/s]"
     ]
    },
    {
     "name": "stdout",
     "output_type": "stream",
     "text": [
      "Message: 111010110101000001010111010011010100010000100111\n",
      "Decoded: 011101110101000001000111110011010000000000100111\n",
      "Bit Accuracy: 0.8333333333333334\n",
      "Detection Result:  0\n",
      " *** Image : brightness_Image_289019.jpg ***\n",
      "Image id :  Image_289019.jpg\n"
     ]
    },
    {
     "name": "stderr",
     "output_type": "stream",
     "text": [
      " 22%|██▏       | 43/200 [00:15<01:02,  2.52it/s]"
     ]
    },
    {
     "name": "stdout",
     "output_type": "stream",
     "text": [
      "Message: 111010110101000001010111010011010100010000100111\n",
      "Decoded: 111000110101000011010111001011011100000000101111\n",
      "Bit Accuracy: 0.8541666666666666\n",
      "Detection Result:  0\n",
      " *** Image : brightness_Image_393493.jpg ***\n",
      "Image id :  Image_393493.jpg\n"
     ]
    },
    {
     "name": "stderr",
     "output_type": "stream",
     "text": [
      " 22%|██▏       | 44/200 [00:16<01:05,  2.38it/s]"
     ]
    },
    {
     "name": "stdout",
     "output_type": "stream",
     "text": [
      "Message: 111010110101000001010111010011010100010000100111\n",
      "Decoded: 101101101101010011000111101001011100001001101110\n",
      "Bit Accuracy: 0.6041666666666666\n",
      "Detection Result:  0\n",
      " *** Image : brightness_Image_142088.jpg ***\n",
      "Image id :  Image_142088.jpg\n"
     ]
    },
    {
     "name": "stderr",
     "output_type": "stream",
     "text": [
      " 22%|██▎       | 45/200 [00:16<01:04,  2.39it/s]"
     ]
    },
    {
     "name": "stdout",
     "output_type": "stream",
     "text": [
      "Message: 111010110101000001010111010011010100010000100111\n",
      "Decoded: 101111111101010011000011101111011100001100101110\n",
      "Bit Accuracy: 0.625\n",
      "Detection Result:  0\n",
      " *** Image : brightness_Image_318189.jpg ***\n",
      "Image id :  Image_318189.jpg\n"
     ]
    },
    {
     "name": "stderr",
     "output_type": "stream",
     "text": [
      " 23%|██▎       | 46/200 [00:17<01:00,  2.54it/s]"
     ]
    },
    {
     "name": "stdout",
     "output_type": "stream",
     "text": [
      "Message: 111010110101000001010111010011010100010000100111\n",
      "Decoded: 101111101101000011000111001011010100001100110110\n",
      "Bit Accuracy: 0.7083333333333334\n",
      "Detection Result:  0\n",
      " *** Image : brightness_Image_530683.jpg ***\n",
      "Image id :  Image_530683.jpg\n"
     ]
    },
    {
     "name": "stderr",
     "output_type": "stream",
     "text": [
      " 24%|██▎       | 47/200 [00:17<01:00,  2.52it/s]"
     ]
    },
    {
     "name": "stdout",
     "output_type": "stream",
     "text": [
      "Message: 111010110101000001010111010011010100010000100111\n",
      "Decoded: 101010111101010011010111101111010100000100100110\n",
      "Bit Accuracy: 0.7708333333333334\n",
      "Detection Result:  0\n",
      " *** Image : brightness_Image_155845.jpg ***\n",
      "Image id :  Image_155845.jpg\n"
     ]
    },
    {
     "name": "stderr",
     "output_type": "stream",
     "text": [
      " 24%|██▍       | 48/200 [00:17<00:56,  2.71it/s]"
     ]
    },
    {
     "name": "stdout",
     "output_type": "stream",
     "text": [
      "Message: 111010110101000001010111010011010100010000100111\n",
      "Decoded: 110000010001100101010111000000011010101101001111\n",
      "Bit Accuracy: 0.6041666666666666\n",
      "Detection Result:  0\n",
      " *** Image : brightness_Image_225750.jpg ***\n",
      "Image id :  Image_225750.jpg\n"
     ]
    },
    {
     "name": "stderr",
     "output_type": "stream",
     "text": [
      " 24%|██▍       | 49/200 [00:18<00:57,  2.63it/s]"
     ]
    },
    {
     "name": "stdout",
     "output_type": "stream",
     "text": [
      "Message: 111010110101000001010111010011010100010000100111\n",
      "Decoded: 111010110101000011010111010001010000000000100110\n",
      "Bit Accuracy: 0.8958333333333334\n",
      "Detection Result:  0\n",
      " *** Image : brightness_Image_387083.jpg ***\n",
      "Image id :  Image_387083.jpg\n"
     ]
    },
    {
     "name": "stderr",
     "output_type": "stream",
     "text": [
      " 25%|██▌       | 50/200 [00:18<00:53,  2.81it/s]"
     ]
    },
    {
     "name": "stdout",
     "output_type": "stream",
     "text": [
      "Message: 111010110101000001010111010011010100010000100111\n",
      "Decoded: 111010111101000001010111111011000100000000101111\n",
      "Bit Accuracy: 0.875\n",
      "Detection Result:  0\n",
      " *** Image : brightness_Image_462559.jpg ***\n",
      "Image id :  Image_462559.jpg\n"
     ]
    },
    {
     "name": "stderr",
     "output_type": "stream",
     "text": [
      " 26%|██▌       | 51/200 [00:18<00:53,  2.78it/s]"
     ]
    },
    {
     "name": "stdout",
     "output_type": "stream",
     "text": [
      "Message: 111010110101000001010111010011010100010000100111\n",
      "Decoded: 111110110101000001010111111101010100000000100110\n",
      "Bit Accuracy: 0.8541666666666666\n",
      "Detection Result:  0\n",
      " *** Image : brightness_Image_412535.jpg ***\n",
      "Image id :  Image_412535.jpg\n"
     ]
    },
    {
     "name": "stderr",
     "output_type": "stream",
     "text": [
      " 26%|██▌       | 52/200 [00:19<00:51,  2.89it/s]"
     ]
    },
    {
     "name": "stdout",
     "output_type": "stream",
     "text": [
      "Message: 111010110101000001010111010011010100010000100111\n",
      "Decoded: 111010110101000011010101010011010100001000100110\n",
      "Bit Accuracy: 0.8958333333333334\n",
      "Detection Result:  0\n",
      " *** Image : brightness_Image_326511.jpg ***\n",
      "Image id :  Image_326511.jpg\n"
     ]
    },
    {
     "name": "stderr",
     "output_type": "stream",
     "text": [
      " 26%|██▋       | 53/200 [00:19<00:49,  2.99it/s]"
     ]
    },
    {
     "name": "stdout",
     "output_type": "stream",
     "text": [
      "Message: 111010110101000001010111010011010100010000100111\n",
      "Decoded: 101100101101010011000011101001011100001101101111\n",
      "Bit Accuracy: 0.6041666666666666\n",
      "Detection Result:  0\n",
      " *** Image : brightness_Image_210932.jpg ***\n",
      "Image id :  Image_210932.jpg\n"
     ]
    },
    {
     "name": "stderr",
     "output_type": "stream",
     "text": [
      " 27%|██▋       | 54/200 [00:19<00:51,  2.86it/s]"
     ]
    },
    {
     "name": "stdout",
     "output_type": "stream",
     "text": [
      "Message: 111010110101000001010111010011010100010000100111\n",
      "Decoded: 111100110101000111010111101001011110000100101110\n",
      "Bit Accuracy: 0.7083333333333334\n",
      "Detection Result:  0\n",
      " *** Image : brightness_Image_219025.jpg ***\n",
      "Image id :  Image_219025.jpg\n"
     ]
    },
    {
     "name": "stderr",
     "output_type": "stream",
     "text": [
      " 28%|██▊       | 55/200 [00:20<00:54,  2.64it/s]"
     ]
    },
    {
     "name": "stdout",
     "output_type": "stream",
     "text": [
      "Message: 111010110101000001010111010011010100010000100111\n",
      "Decoded: 101111101101000011000011101101011100001000100110\n",
      "Bit Accuracy: 0.6458333333333334\n",
      "Detection Result:  0\n",
      " *** Image : brightness_Image_497616.jpg ***\n",
      "Image id :  Image_497616.jpg\n"
     ]
    },
    {
     "name": "stderr",
     "output_type": "stream",
     "text": [
      " 28%|██▊       | 56/200 [00:20<00:53,  2.72it/s]"
     ]
    },
    {
     "name": "stdout",
     "output_type": "stream",
     "text": [
      "Message: 111010110101000001010111010011010100010000100111\n",
      "Decoded: 111010110101000011110101001001111000001100101110\n",
      "Bit Accuracy: 0.7083333333333334\n",
      "Detection Result:  0\n",
      " *** Image : brightness_Image_153946.jpg ***\n",
      "Image id :  Image_153946.jpg\n"
     ]
    },
    {
     "name": "stderr",
     "output_type": "stream",
     "text": [
      " 28%|██▊       | 57/200 [00:20<00:49,  2.88it/s]"
     ]
    },
    {
     "name": "stdout",
     "output_type": "stream",
     "text": [
      "Message: 111010110101000001010111010011010100010000100111\n",
      "Decoded: 101010100111000001010011110011011100001000100110\n",
      "Bit Accuracy: 0.8125\n",
      "Detection Result:  0\n",
      " *** Image : brightness_Image_262845.jpg ***\n",
      "Image id :  Image_262845.jpg\n"
     ]
    },
    {
     "name": "stderr",
     "output_type": "stream",
     "text": [
      " 29%|██▉       | 58/200 [00:21<00:49,  2.87it/s]"
     ]
    },
    {
     "name": "stdout",
     "output_type": "stream",
     "text": [
      "Message: 111010110101000001010111010011010100010000100111\n",
      "Decoded: 111010110101000001010111010011010100010000101110\n",
      "Bit Accuracy: 0.9583333333333334\n",
      "Detection Result:  1\n",
      " *** Image : brightness_Image_214704.jpg ***\n",
      "Image id :  Image_214704.jpg\n"
     ]
    },
    {
     "name": "stderr",
     "output_type": "stream",
     "text": [
      " 30%|██▉       | 59/200 [00:21<00:50,  2.77it/s]"
     ]
    },
    {
     "name": "stdout",
     "output_type": "stream",
     "text": [
      "Message: 111010110101000001010111010011010100010000100111\n",
      "Decoded: 101000110101000001010011000011011100001001100110\n",
      "Bit Accuracy: 0.8125\n",
      "Detection Result:  0\n",
      " *** Image : brightness_Image_474882.jpg ***\n",
      "Image id :  Image_474882.jpg\n"
     ]
    },
    {
     "name": "stderr",
     "output_type": "stream",
     "text": [
      " 30%|███       | 60/200 [00:22<00:55,  2.53it/s]"
     ]
    },
    {
     "name": "stdout",
     "output_type": "stream",
     "text": [
      "Message: 111010110101000001010111010011010100010000100111\n",
      "Decoded: 111110111101010011000111000001010100001000100110\n",
      "Bit Accuracy: 0.7916666666666666\n",
      "Detection Result:  0\n",
      " *** Image : brightness_Image_136461.jpg ***\n",
      "Image id :  Image_136461.jpg\n"
     ]
    },
    {
     "name": "stderr",
     "output_type": "stream",
     "text": [
      " 30%|███       | 61/200 [00:22<01:01,  2.26it/s]"
     ]
    },
    {
     "name": "stdout",
     "output_type": "stream",
     "text": [
      "Message: 111010110101000001010111010011010100010000100111\n",
      "Decoded: 101110101101000010010011000111011100001111100110\n",
      "Bit Accuracy: 0.6666666666666666\n",
      "Detection Result:  0\n",
      " *** Image : brightness_Image_84427.jpg ***\n",
      "Image id :  Image_84427.jpg\n"
     ]
    },
    {
     "name": "stderr",
     "output_type": "stream",
     "text": [
      " 31%|███       | 62/200 [00:23<00:58,  2.38it/s]"
     ]
    },
    {
     "name": "stdout",
     "output_type": "stream",
     "text": [
      "Message: 111010110101000001010111010011010100010000100111\n",
      "Decoded: 111010110101000001010111111011010100000000100110\n",
      "Bit Accuracy: 0.9166666666666666\n",
      "Detection Result:  1\n",
      " *** Image : brightness_Image_392136.jpg ***\n",
      "Image id :  Image_392136.jpg\n"
     ]
    },
    {
     "name": "stderr",
     "output_type": "stream",
     "text": [
      " 32%|███▏      | 63/200 [00:23<00:51,  2.67it/s]"
     ]
    },
    {
     "name": "stdout",
     "output_type": "stream",
     "text": [
      "Message: 111010110101000001010111010011010100010000100111\n",
      "Decoded: 001101111101000011010111111001010100001000101110\n",
      "Bit Accuracy: 0.7083333333333334\n",
      "Detection Result:  0\n",
      " *** Image : brightness_Image_66514.jpg ***\n",
      "Image id :  Image_66514.jpg\n"
     ]
    },
    {
     "name": "stderr",
     "output_type": "stream",
     "text": [
      " 32%|███▏      | 64/200 [00:23<00:47,  2.89it/s]"
     ]
    },
    {
     "name": "stdout",
     "output_type": "stream",
     "text": [
      "Message: 111010110101000001010111010011010100010000100111\n",
      "Decoded: 111000100101000011000111001011010000001000101110\n",
      "Bit Accuracy: 0.7708333333333334\n",
      "Detection Result:  0\n",
      " *** Image : brightness_Image_168194.jpg ***\n",
      "Image id :  Image_168194.jpg\n"
     ]
    },
    {
     "name": "stderr",
     "output_type": "stream",
     "text": [
      " 32%|███▎      | 65/200 [00:24<00:46,  2.90it/s]"
     ]
    },
    {
     "name": "stdout",
     "output_type": "stream",
     "text": [
      "Message: 111010110101000001010111010011010100010000100111\n",
      "Decoded: 111010110101000011010111011011010100000000101110\n",
      "Bit Accuracy: 0.8958333333333334\n",
      "Detection Result:  0\n",
      " *** Image : brightness_Image_2024.jpg ***\n",
      "Image id :  Image_2024.jpg\n"
     ]
    },
    {
     "name": "stderr",
     "output_type": "stream",
     "text": [
      " 33%|███▎      | 66/200 [00:24<00:47,  2.83it/s]"
     ]
    },
    {
     "name": "stdout",
     "output_type": "stream",
     "text": [
      "Message: 111010110101000001010111010011010100010000100111\n",
      "Decoded: 110000010001110101010101001000011010001001001111\n",
      "Bit Accuracy: 0.5833333333333334\n",
      "Detection Result:  0\n",
      " *** Image : brightness_Image_186233.jpg ***\n",
      "Image id :  Image_186233.jpg\n"
     ]
    },
    {
     "name": "stderr",
     "output_type": "stream",
     "text": [
      " 34%|███▎      | 67/200 [00:24<00:52,  2.55it/s]"
     ]
    },
    {
     "name": "stdout",
     "output_type": "stream",
     "text": [
      "Message: 111010110101000001010111010011010100010000100111\n",
      "Decoded: 111110111101000011000011111001010100001000101111\n",
      "Bit Accuracy: 0.7708333333333334\n",
      "Detection Result:  0\n",
      " *** Image : brightness_Image_520208.jpg ***\n",
      "Image id :  Image_520208.jpg\n"
     ]
    },
    {
     "name": "stderr",
     "output_type": "stream",
     "text": [
      " 34%|███▍      | 68/200 [00:25<00:49,  2.65it/s]"
     ]
    },
    {
     "name": "stdout",
     "output_type": "stream",
     "text": [
      "Message: 111010110101000001010111010011010100010000100111\n",
      "Decoded: 101001101101000011010001000011011100001001101111\n",
      "Bit Accuracy: 0.7083333333333334\n",
      "Detection Result:  0\n",
      " *** Image : brightness_Image_351430.jpg ***\n",
      "Image id :  Image_351430.jpg\n"
     ]
    },
    {
     "name": "stderr",
     "output_type": "stream",
     "text": [
      " 34%|███▍      | 69/200 [00:25<00:50,  2.60it/s]"
     ]
    },
    {
     "name": "stdout",
     "output_type": "stream",
     "text": [
      "Message: 111010110101000001010111010011010100010000100111\n",
      "Decoded: 101111111101010011010011100011010100000000100110\n",
      "Bit Accuracy: 0.7708333333333334\n",
      "Detection Result:  0\n",
      " *** Image : brightness_Image_109424.jpg ***\n",
      "Image id :  Image_109424.jpg\n"
     ]
    },
    {
     "name": "stderr",
     "output_type": "stream",
     "text": [
      " 35%|███▌      | 70/200 [00:25<00:47,  2.74it/s]"
     ]
    },
    {
     "name": "stdout",
     "output_type": "stream",
     "text": [
      "Message: 111010110101000001010111010011010100010000100111\n",
      "Decoded: 001111111101010011000011101111010110011110100010\n",
      "Bit Accuracy: 0.6041666666666666\n",
      "Detection Result:  0\n",
      " *** Image : brightness_Image_98760.jpg ***\n",
      "Image id :  Image_98760.jpg\n"
     ]
    },
    {
     "name": "stderr",
     "output_type": "stream",
     "text": [
      " 36%|███▌      | 71/200 [00:26<00:46,  2.79it/s]"
     ]
    },
    {
     "name": "stdout",
     "output_type": "stream",
     "text": [
      "Message: 111010110101000001010111010011010100010000100111\n",
      "Decoded: 101000101101010011010011001011010100001000101111\n",
      "Bit Accuracy: 0.75\n",
      "Detection Result:  0\n",
      " *** Image : brightness_Image_257350.jpg ***\n",
      "Image id :  Image_257350.jpg\n"
     ]
    },
    {
     "name": "stderr",
     "output_type": "stream",
     "text": [
      " 36%|███▌      | 72/200 [00:26<00:50,  2.55it/s]"
     ]
    },
    {
     "name": "stdout",
     "output_type": "stream",
     "text": [
      "Message: 111010110101000001010111010011010100010000100111\n",
      "Decoded: 101110110101000011000001100001010100001000100110\n",
      "Bit Accuracy: 0.75\n",
      "Detection Result:  0\n",
      " *** Image : brightness_Image_353139.jpg ***\n",
      "Image id :  Image_353139.jpg\n"
     ]
    },
    {
     "name": "stderr",
     "output_type": "stream",
     "text": [
      " 36%|███▋      | 73/200 [00:27<00:53,  2.37it/s]"
     ]
    },
    {
     "name": "stdout",
     "output_type": "stream",
     "text": [
      "Message: 111010110101000001010111010011010100010000100111\n",
      "Decoded: 111000111101000111010111101001010110101101001011\n",
      "Bit Accuracy: 0.6458333333333334\n",
      "Detection Result:  0\n",
      " *** Image : brightness_Image_77806.jpg ***\n",
      "Image id :  Image_77806.jpg\n"
     ]
    },
    {
     "name": "stderr",
     "output_type": "stream",
     "text": [
      " 37%|███▋      | 74/200 [00:27<00:54,  2.31it/s]"
     ]
    },
    {
     "name": "stdout",
     "output_type": "stream",
     "text": [
      "Message: 111010110101000001010111010011010100010000100111\n",
      "Decoded: 111010111101000011010111001001010100001100101110\n",
      "Bit Accuracy: 0.7916666666666666\n",
      "Detection Result:  0\n",
      " *** Image : brightness_Image_79481.jpg ***\n",
      "Image id :  Image_79481.jpg\n"
     ]
    },
    {
     "name": "stderr",
     "output_type": "stream",
     "text": [
      " 38%|███▊      | 75/200 [00:28<00:49,  2.52it/s]"
     ]
    },
    {
     "name": "stdout",
     "output_type": "stream",
     "text": [
      "Message: 111010110101000001010111010011010100010000100111\n",
      "Decoded: 011110101111000011010111010011010100000000100110\n",
      "Bit Accuracy: 0.8333333333333334\n",
      "Detection Result:  0\n",
      " *** Image : brightness_Image_523617.jpg ***\n",
      "Image id :  Image_523617.jpg\n"
     ]
    },
    {
     "name": "stderr",
     "output_type": "stream",
     "text": [
      " 38%|███▊      | 76/200 [00:28<00:43,  2.85it/s]"
     ]
    },
    {
     "name": "stdout",
     "output_type": "stream",
     "text": [
      "Message: 111010110101000001010111010011010100010000100111\n",
      "Decoded: 110000010001100101010101000000011010001001001111\n",
      "Bit Accuracy: 0.625\n",
      "Detection Result:  0\n",
      " *** Image : brightness_Image_236772.jpg ***\n",
      "Image id :  Image_236772.jpg\n"
     ]
    },
    {
     "name": "stderr",
     "output_type": "stream",
     "text": [
      " 38%|███▊      | 77/200 [00:28<00:39,  3.12it/s]"
     ]
    },
    {
     "name": "stdout",
     "output_type": "stream",
     "text": [
      "Message: 111010110101000001010111010011010100010000100111\n",
      "Decoded: 111000110101000001010101000011011000001000001111\n",
      "Bit Accuracy: 0.8125\n",
      "Detection Result:  0\n",
      " *** Image : brightness_Image_209967.jpg ***\n",
      "Image id :  Image_209967.jpg\n"
     ]
    },
    {
     "name": "stderr",
     "output_type": "stream",
     "text": [
      " 39%|███▉      | 78/200 [00:28<00:42,  2.90it/s]"
     ]
    },
    {
     "name": "stdout",
     "output_type": "stream",
     "text": [
      "Message: 111010110101000001010111010011010100010000100111\n",
      "Decoded: 111010010101000101010111000001011000001001101111\n",
      "Bit Accuracy: 0.7916666666666666\n",
      "Detection Result:  0\n",
      " *** Image : brightness_Image_483008.jpg ***\n",
      "Image id :  Image_483008.jpg\n"
     ]
    },
    {
     "name": "stderr",
     "output_type": "stream",
     "text": [
      " 40%|███▉      | 79/200 [00:29<00:44,  2.71it/s]"
     ]
    },
    {
     "name": "stdout",
     "output_type": "stream",
     "text": [
      "Message: 111010110101000001010111010011010100010000100111\n",
      "Decoded: 111111110101000011000111000011010100000000100110\n",
      "Bit Accuracy: 0.8541666666666666\n",
      "Detection Result:  0\n",
      " *** Image : brightness_Image_446014.jpg ***\n",
      "Image id :  Image_446014.jpg\n"
     ]
    },
    {
     "name": "stderr",
     "output_type": "stream",
     "text": [
      " 40%|████      | 80/200 [00:29<00:46,  2.58it/s]"
     ]
    },
    {
     "name": "stdout",
     "output_type": "stream",
     "text": [
      "Message: 111010110101000001010111010011010100010000100111\n",
      "Decoded: 111010111111000011010111001011010100000100101110\n",
      "Bit Accuracy: 0.8125\n",
      "Detection Result:  0\n",
      " *** Image : brightness_Image_570608.jpg ***\n",
      "Image id :  Image_570608.jpg\n"
     ]
    },
    {
     "name": "stderr",
     "output_type": "stream",
     "text": [
      " 40%|████      | 81/200 [00:30<00:42,  2.77it/s]"
     ]
    },
    {
     "name": "stdout",
     "output_type": "stream",
     "text": [
      "Message: 111010110101000001010111010011010100010000100111\n",
      "Decoded: 001010100111010011000111000011011100100100100110\n",
      "Bit Accuracy: 0.7291666666666666\n",
      "Detection Result:  0\n",
      " *** Image : brightness_Image_448698.jpg ***\n",
      "Image id :  Image_448698.jpg\n"
     ]
    },
    {
     "name": "stderr",
     "output_type": "stream",
     "text": [
      " 41%|████      | 82/200 [00:30<00:40,  2.89it/s]"
     ]
    },
    {
     "name": "stdout",
     "output_type": "stream",
     "text": [
      "Message: 111010110101000001010111010011010100010000100111\n",
      "Decoded: 111100111101000111010111001011011110001001000111\n",
      "Bit Accuracy: 0.7291666666666666\n",
      "Detection Result:  0\n",
      " *** Image : brightness_Image_96997.jpg ***\n",
      "Image id :  Image_96997.jpg\n"
     ]
    },
    {
     "name": "stderr",
     "output_type": "stream",
     "text": [
      " 42%|████▏     | 83/200 [00:30<00:38,  3.03it/s]"
     ]
    },
    {
     "name": "stdout",
     "output_type": "stream",
     "text": [
      "Message: 111010110101000001010111010011010100010000100111\n",
      "Decoded: 001111111101010010010111001011010100001010100110\n",
      "Bit Accuracy: 0.7083333333333334\n",
      "Detection Result:  0\n",
      " *** Image : brightness_Image_69675.jpg ***\n",
      "Image id :  Image_69675.jpg\n"
     ]
    },
    {
     "name": "stderr",
     "output_type": "stream",
     "text": [
      " 42%|████▏     | 84/200 [00:30<00:37,  3.06it/s]"
     ]
    },
    {
     "name": "stdout",
     "output_type": "stream",
     "text": [
      "Message: 111010110101000001010111010011010100010000100111\n",
      "Decoded: 111010100101000001010111000011010100001000100110\n",
      "Bit Accuracy: 0.8958333333333334\n",
      "Detection Result:  0\n",
      " *** Image : brightness_Image_222016.jpg ***\n",
      "Image id :  Image_222016.jpg\n"
     ]
    },
    {
     "name": "stderr",
     "output_type": "stream",
     "text": [
      " 42%|████▎     | 85/200 [00:31<00:37,  3.05it/s]"
     ]
    },
    {
     "name": "stdout",
     "output_type": "stream",
     "text": [
      "Message: 111010110101000001010111010011010100010000100111\n",
      "Decoded: 101101111101000011000011001111011100001101101110\n",
      "Bit Accuracy: 0.625\n",
      "Detection Result:  0\n",
      " *** Image : brightness_Image_556801.jpg ***\n",
      "Image id :  Image_556801.jpg\n"
     ]
    },
    {
     "name": "stderr",
     "output_type": "stream",
     "text": [
      " 43%|████▎     | 86/200 [00:31<00:37,  3.00it/s]"
     ]
    },
    {
     "name": "stdout",
     "output_type": "stream",
     "text": [
      "Message: 111010110101000001010111010011010100010000100111\n",
      "Decoded: 110000010001100101010101000010011010001001001111\n",
      "Bit Accuracy: 0.6458333333333334\n",
      "Detection Result:  0\n",
      " *** Image : brightness_Image_424102.jpg ***\n",
      "Image id :  Image_424102.jpg\n"
     ]
    },
    {
     "name": "stderr",
     "output_type": "stream",
     "text": [
      " 44%|████▎     | 87/200 [00:31<00:37,  3.05it/s]"
     ]
    },
    {
     "name": "stdout",
     "output_type": "stream",
     "text": [
      "Message: 111010110101000001010111010011010100010000100111\n",
      "Decoded: 111110111101000011000111001011011100001000101111\n",
      "Bit Accuracy: 0.7916666666666666\n",
      "Detection Result:  0\n",
      " *** Image : brightness_Image_551125.jpg ***\n",
      "Image id :  Image_551125.jpg\n"
     ]
    },
    {
     "name": "stderr",
     "output_type": "stream",
     "text": [
      " 44%|████▍     | 88/200 [00:32<00:34,  3.24it/s]"
     ]
    },
    {
     "name": "stdout",
     "output_type": "stream",
     "text": [
      "Message: 111010110101000001010111010011010100010000100111\n",
      "Decoded: 111000101100010011010001100001011000001001001111\n",
      "Bit Accuracy: 0.625\n",
      "Detection Result:  0\n",
      " *** Image : brightness_Image_504616.jpg ***\n",
      "Image id :  Image_504616.jpg\n"
     ]
    },
    {
     "name": "stderr",
     "output_type": "stream",
     "text": [
      " 44%|████▍     | 89/200 [00:32<00:35,  3.12it/s]"
     ]
    },
    {
     "name": "stdout",
     "output_type": "stream",
     "text": [
      "Message: 111010110101000001010111010011010100010000100111\n",
      "Decoded: 101000101101000011010111001011010100000000101110\n",
      "Bit Accuracy: 0.7916666666666666\n",
      "Detection Result:  0\n",
      " *** Image : brightness_Image_365363.jpg ***\n",
      "Image id :  Image_365363.jpg\n"
     ]
    },
    {
     "name": "stderr",
     "output_type": "stream",
     "text": [
      " 45%|████▌     | 90/200 [00:32<00:35,  3.06it/s]"
     ]
    },
    {
     "name": "stdout",
     "output_type": "stream",
     "text": [
      "Message: 111010110101000001010111010011010100010000100111\n",
      "Decoded: 110000110001000101010101001100011010001001101110\n",
      "Bit Accuracy: 0.625\n",
      "Detection Result:  0\n",
      " *** Image : brightness_Image_44404.jpg ***\n",
      "Image id :  Image_44404.jpg\n"
     ]
    },
    {
     "name": "stderr",
     "output_type": "stream",
     "text": [
      " 46%|████▌     | 91/200 [00:33<00:38,  2.85it/s]"
     ]
    },
    {
     "name": "stdout",
     "output_type": "stream",
     "text": [
      "Message: 111010110101000001010111010011010100010000100111\n",
      "Decoded: 101011111101000001000111100011010100001000101110\n",
      "Bit Accuracy: 0.7916666666666666\n",
      "Detection Result:  0\n",
      " *** Image : brightness_Image_42493.jpg ***\n",
      "Image id :  Image_42493.jpg\n"
     ]
    },
    {
     "name": "stderr",
     "output_type": "stream",
     "text": [
      " 46%|████▌     | 92/200 [00:33<00:38,  2.78it/s]"
     ]
    },
    {
     "name": "stdout",
     "output_type": "stream",
     "text": [
      "Message: 111010110101000001010111010011010100010000100111\n",
      "Decoded: 101101111111010011010101101001011100001000101111\n",
      "Bit Accuracy: 0.6458333333333334\n",
      "Detection Result:  0\n",
      " *** Image : brightness_Image_540162.jpg ***\n",
      "Image id :  Image_540162.jpg\n"
     ]
    },
    {
     "name": "stderr",
     "output_type": "stream",
     "text": [
      " 46%|████▋     | 93/200 [00:33<00:35,  3.03it/s]"
     ]
    },
    {
     "name": "stdout",
     "output_type": "stream",
     "text": [
      "Message: 111010110101000001010111010011010100010000100111\n",
      "Decoded: 111110101111000011000111011011011100000010101110\n",
      "Bit Accuracy: 0.75\n",
      "Detection Result:  0\n",
      " *** Image : brightness_Image_287541.jpg ***\n",
      "Image id :  Image_287541.jpg\n"
     ]
    },
    {
     "name": "stderr",
     "output_type": "stream",
     "text": [
      " 47%|████▋     | 94/200 [00:34<00:31,  3.31it/s]"
     ]
    },
    {
     "name": "stdout",
     "output_type": "stream",
     "text": [
      "Message: 111010110101000001010111010011010100010000100111\n",
      "Decoded: 111010110101000011010111110011010100000000100110\n",
      "Bit Accuracy: 0.9166666666666666\n",
      "Detection Result:  1\n",
      " *** Image : brightness_Image_179620.jpg ***\n",
      "Image id :  Image_179620.jpg\n"
     ]
    },
    {
     "name": "stderr",
     "output_type": "stream",
     "text": [
      " 48%|████▊     | 95/200 [00:34<00:34,  3.03it/s]"
     ]
    },
    {
     "name": "stdout",
     "output_type": "stream",
     "text": [
      "Message: 111010110101000001010111010011010100010000100111\n",
      "Decoded: 111000110101000001010111000001011000001001000110\n",
      "Bit Accuracy: 0.7916666666666666\n",
      "Detection Result:  0\n",
      " *** Image : brightness_Image_547471.jpg ***\n",
      "Image id :  Image_547471.jpg\n"
     ]
    },
    {
     "name": "stderr",
     "output_type": "stream",
     "text": [
      " 48%|████▊     | 96/200 [00:34<00:34,  3.01it/s]"
     ]
    },
    {
     "name": "stdout",
     "output_type": "stream",
     "text": [
      "Message: 111010110101000001010111010011010100010000100111\n",
      "Decoded: 011010110101000011010111111011010000000000101110\n",
      "Bit Accuracy: 0.8333333333333334\n",
      "Detection Result:  0\n",
      " *** Image : brightness_Image_181104.jpg ***\n",
      "Image id :  Image_181104.jpg\n"
     ]
    },
    {
     "name": "stderr",
     "output_type": "stream",
     "text": [
      " 48%|████▊     | 97/200 [00:35<00:36,  2.86it/s]"
     ]
    },
    {
     "name": "stdout",
     "output_type": "stream",
     "text": [
      "Message: 111010110101000001010111010011010100010000100111\n",
      "Decoded: 111010110101000001010111000011010100000000101110\n",
      "Bit Accuracy: 0.9166666666666666\n",
      "Detection Result:  1\n",
      " *** Image : brightness_Image_302389.jpg ***\n",
      "Image id :  Image_302389.jpg\n"
     ]
    },
    {
     "name": "stderr",
     "output_type": "stream",
     "text": [
      " 49%|████▉     | 98/200 [00:35<00:36,  2.80it/s]"
     ]
    },
    {
     "name": "stdout",
     "output_type": "stream",
     "text": [
      "Message: 111010110101000001010111010011010100010000100111\n",
      "Decoded: 111000111101010101000111000011011100001100100110\n",
      "Bit Accuracy: 0.7708333333333334\n",
      "Detection Result:  0\n",
      " *** Image : brightness_Image_101418.jpg ***\n",
      "Image id :  Image_101418.jpg\n"
     ]
    },
    {
     "name": "stderr",
     "output_type": "stream",
     "text": [
      " 50%|████▉     | 99/200 [00:35<00:32,  3.07it/s]"
     ]
    },
    {
     "name": "stdout",
     "output_type": "stream",
     "text": [
      "Message: 111010110101000001010111010011010100010000100111\n",
      "Decoded: 101000101101010011000111101101011100011101101110\n",
      "Bit Accuracy: 0.625\n",
      "Detection Result:  0\n",
      " *** Image : brightness_Image_472925.jpg ***\n",
      "Image id :  Image_472925.jpg\n"
     ]
    },
    {
     "name": "stderr",
     "output_type": "stream",
     "text": [
      " 50%|█████     | 100/200 [00:36<00:31,  3.16it/s]"
     ]
    },
    {
     "name": "stdout",
     "output_type": "stream",
     "text": [
      "Message: 111010110101000001010111010011010100010000100111\n",
      "Decoded: 101111110101010011010011000001011100001000101111\n",
      "Bit Accuracy: 0.75\n",
      "Detection Result:  0\n",
      " *** Image : brightness_Image_505126.jpg ***\n",
      "Image id :  Image_505126.jpg\n"
     ]
    },
    {
     "name": "stderr",
     "output_type": "stream",
     "text": [
      " 50%|█████     | 101/200 [00:36<00:35,  2.79it/s]"
     ]
    },
    {
     "name": "stdout",
     "output_type": "stream",
     "text": [
      "Message: 111010110101000001010111010011010100010000100111\n",
      "Decoded: 101101101111010011000101100011010100001000100111\n",
      "Bit Accuracy: 0.6875\n",
      "Detection Result:  0\n",
      " *** Image : brightness_Image_49183.jpg ***\n",
      "Image id :  Image_49183.jpg\n"
     ]
    },
    {
     "name": "stderr",
     "output_type": "stream",
     "text": [
      " 51%|█████     | 102/200 [00:37<00:33,  2.92it/s]"
     ]
    },
    {
     "name": "stdout",
     "output_type": "stream",
     "text": [
      "Message: 111010110101000001010111010011010100010000100111\n",
      "Decoded: 101110100111010011000101000011011100001000101111\n",
      "Bit Accuracy: 0.7291666666666666\n",
      "Detection Result:  0\n",
      " *** Image : brightness_Image_317237.jpg ***\n",
      "Image id :  Image_317237.jpg\n"
     ]
    },
    {
     "name": "stderr",
     "output_type": "stream",
     "text": [
      " 52%|█████▏    | 103/200 [00:37<00:29,  3.26it/s]"
     ]
    },
    {
     "name": "stdout",
     "output_type": "stream",
     "text": [
      "Message: 111010110101000001010111010011010100010000100111\n",
      "Decoded: 111000111101010011010111010011010100000000100110\n",
      "Bit Accuracy: 0.875\n",
      "Detection Result:  0\n",
      " *** Image : brightness_Image_513541.jpg ***\n",
      "Image id :  Image_513541.jpg\n"
     ]
    },
    {
     "name": "stderr",
     "output_type": "stream",
     "text": [
      " 52%|█████▏    | 104/200 [00:37<00:27,  3.51it/s]"
     ]
    },
    {
     "name": "stdout",
     "output_type": "stream",
     "text": [
      "Message: 111010110101000001010111010011010100010000100111\n",
      "Decoded: 101100111101010011010111000011010100000000000110\n",
      "Bit Accuracy: 0.7916666666666666\n",
      "Detection Result:  0\n",
      " *** Image : brightness_Image_536587.jpg ***\n",
      "Image id :  Image_536587.jpg\n"
     ]
    },
    {
     "name": "stderr",
     "output_type": "stream",
     "text": [
      " 52%|█████▎    | 105/200 [00:37<00:28,  3.32it/s]"
     ]
    },
    {
     "name": "stdout",
     "output_type": "stream",
     "text": [
      "Message: 111010110101000001010111010011010100010000100111\n",
      "Decoded: 111010000101000001010111001001011000001101001110\n",
      "Bit Accuracy: 0.7083333333333334\n",
      "Detection Result:  0\n",
      " *** Image : brightness_Image_352884.jpg ***\n",
      "Image id :  Image_352884.jpg\n"
     ]
    },
    {
     "name": "stderr",
     "output_type": "stream",
     "text": [
      " 53%|█████▎    | 106/200 [00:38<00:27,  3.47it/s]"
     ]
    },
    {
     "name": "stdout",
     "output_type": "stream",
     "text": [
      "Message: 111010110101000001010111010011010100010000100111\n",
      "Decoded: 101010101101000011010011000011011100000000101110\n",
      "Bit Accuracy: 0.7916666666666666\n",
      "Detection Result:  0\n",
      " *** Image : brightness_Image_199628.jpg ***\n",
      "Image id :  Image_199628.jpg\n"
     ]
    },
    {
     "name": "stderr",
     "output_type": "stream",
     "text": [
      " 54%|█████▎    | 107/200 [00:38<00:25,  3.68it/s]"
     ]
    },
    {
     "name": "stdout",
     "output_type": "stream",
     "text": [
      "Message: 111010110101000001010111010011010100010000100111\n",
      "Decoded: 111101111101000011010011100001010100001011100110\n",
      "Bit Accuracy: 0.7083333333333334\n",
      "Detection Result:  0\n",
      " *** Image : brightness_Image_348850.jpg ***\n",
      "Image id :  Image_348850.jpg\n"
     ]
    },
    {
     "name": "stderr",
     "output_type": "stream",
     "text": [
      " 54%|█████▍    | 108/200 [00:38<00:24,  3.72it/s]"
     ]
    },
    {
     "name": "stdout",
     "output_type": "stream",
     "text": [
      "Message: 111010110101000001010111010011010100010000100111\n",
      "Decoded: 001111101110010011000111101011010100000010100110\n",
      "Bit Accuracy: 0.6458333333333334\n",
      "Detection Result:  0\n",
      " *** Image : brightness_Image_540988.jpg ***\n",
      "Image id :  Image_540988.jpg\n"
     ]
    },
    {
     "name": "stderr",
     "output_type": "stream",
     "text": [
      " 55%|█████▍    | 109/200 [00:38<00:26,  3.43it/s]"
     ]
    },
    {
     "name": "stdout",
     "output_type": "stream",
     "text": [
      "Message: 111010110101000001010111010011010100010000100111\n",
      "Decoded: 101100101101000011000001001011011100001000100110\n",
      "Bit Accuracy: 0.6875\n",
      "Detection Result:  0\n",
      " *** Image : brightness_Image_388754.jpg ***\n",
      "Image id :  Image_388754.jpg\n"
     ]
    },
    {
     "name": "stderr",
     "output_type": "stream",
     "text": [
      " 55%|█████▌    | 110/200 [00:39<00:25,  3.52it/s]"
     ]
    },
    {
     "name": "stdout",
     "output_type": "stream",
     "text": [
      "Message: 111010110101000001010111010011010100010000100111\n",
      "Decoded: 110000001001010011000101001101011110001101001111\n",
      "Bit Accuracy: 0.5416666666666666\n",
      "Detection Result:  0\n",
      " *** Image : brightness_Image_212091.jpg ***\n",
      "Image id :  Image_212091.jpg\n"
     ]
    },
    {
     "name": "stderr",
     "output_type": "stream",
     "text": [
      " 56%|█████▌    | 111/200 [00:39<00:25,  3.50it/s]"
     ]
    },
    {
     "name": "stdout",
     "output_type": "stream",
     "text": [
      "Message: 111010110101000001010111010011010100010000100111\n",
      "Decoded: 011100100101000011010111111001011100000010101111\n",
      "Bit Accuracy: 0.75\n",
      "Detection Result:  0\n",
      " *** Image : brightness_Image_356702.jpg ***\n",
      "Image id :  Image_356702.jpg\n"
     ]
    },
    {
     "name": "stderr",
     "output_type": "stream",
     "text": [
      " 56%|█████▌    | 112/200 [00:39<00:25,  3.42it/s]"
     ]
    },
    {
     "name": "stdout",
     "output_type": "stream",
     "text": [
      "Message: 111010110101000001010111010011010100010000100111\n",
      "Decoded: 111010100101000011010101001001011100001000101111\n",
      "Bit Accuracy: 0.7916666666666666\n",
      "Detection Result:  0\n",
      " *** Image : brightness_Image_528906.jpg ***\n",
      "Image id :  Image_528906.jpg\n"
     ]
    },
    {
     "name": "stderr",
     "output_type": "stream",
     "text": [
      " 56%|█████▋    | 113/200 [00:40<00:26,  3.30it/s]"
     ]
    },
    {
     "name": "stdout",
     "output_type": "stream",
     "text": [
      "Message: 111010110101000001010111010011010100010000100111\n",
      "Decoded: 001111110101000011010111111001010100001100100110\n",
      "Bit Accuracy: 0.75\n",
      "Detection Result:  0\n",
      " *** Image : brightness_Image_161919.jpg ***\n",
      "Image id :  Image_161919.jpg\n"
     ]
    },
    {
     "name": "stderr",
     "output_type": "stream",
     "text": [
      " 57%|█████▋    | 114/200 [00:40<00:24,  3.55it/s]"
     ]
    },
    {
     "name": "stdout",
     "output_type": "stream",
     "text": [
      "Message: 111010110101000001010111010011010100010000100111\n",
      "Decoded: 111110110101000011010111101011010000001000100110\n",
      "Bit Accuracy: 0.8125\n",
      "Detection Result:  0\n",
      " *** Image : brightness_Image_55627.jpg ***\n",
      "Image id :  Image_55627.jpg\n"
     ]
    },
    {
     "name": "stderr",
     "output_type": "stream",
     "text": [
      " 57%|█████▊    | 115/200 [00:40<00:25,  3.39it/s]"
     ]
    },
    {
     "name": "stdout",
     "output_type": "stream",
     "text": [
      "Message: 111010110101000001010111010011010100010000100111\n",
      "Decoded: 111000000101000001010111000001011000001001000110\n",
      "Bit Accuracy: 0.75\n",
      "Detection Result:  0\n",
      " *** Image : brightness_Image_160163.jpg ***\n",
      "Image id :  Image_160163.jpg\n"
     ]
    },
    {
     "name": "stderr",
     "output_type": "stream",
     "text": [
      " 58%|█████▊    | 116/200 [00:40<00:22,  3.70it/s]"
     ]
    },
    {
     "name": "stdout",
     "output_type": "stream",
     "text": [
      "Message: 111010110101000001010111010011010100010000100111\n",
      "Decoded: 101000010101000011010111001010011110001001100111\n",
      "Bit Accuracy: 0.75\n",
      "Detection Result:  0\n",
      " *** Image : brightness_Image_399956.jpg ***\n",
      "Image id :  Image_399956.jpg\n"
     ]
    },
    {
     "name": "stderr",
     "output_type": "stream",
     "text": [
      " 58%|█████▊    | 117/200 [00:41<00:21,  3.79it/s]"
     ]
    },
    {
     "name": "stdout",
     "output_type": "stream",
     "text": [
      "Message: 111010110101000001010111010011010100010000100111\n",
      "Decoded: 111111101101000011010011101011010100001000101110\n",
      "Bit Accuracy: 0.7291666666666666\n",
      "Detection Result:  0\n",
      " *** Image : brightness_Image_444546.jpg ***\n",
      "Image id :  Image_444546.jpg\n"
     ]
    },
    {
     "name": "stderr",
     "output_type": "stream",
     "text": [
      " 59%|█████▉    | 118/200 [00:41<00:24,  3.38it/s]"
     ]
    },
    {
     "name": "stdout",
     "output_type": "stream",
     "text": [
      "Message: 111010110101000001010111010011010100010000100111\n",
      "Decoded: 111110111101000011000111000011010100000100101110\n",
      "Bit Accuracy: 0.8125\n",
      "Detection Result:  0\n",
      " *** Image : brightness_Image_491269.jpg ***\n",
      "Image id :  Image_491269.jpg\n"
     ]
    },
    {
     "name": "stderr",
     "output_type": "stream",
     "text": [
      " 60%|█████▉    | 119/200 [00:41<00:22,  3.61it/s]"
     ]
    },
    {
     "name": "stdout",
     "output_type": "stream",
     "text": [
      "Message: 111010110101000001010111010011010100010000100111\n",
      "Decoded: 111110110101000001010111000001010100011000100110\n",
      "Bit Accuracy: 0.8958333333333334\n",
      "Detection Result:  0\n",
      " *** Image : brightness_Image_576757.jpg ***\n",
      "Image id :  Image_576757.jpg\n"
     ]
    },
    {
     "name": "stderr",
     "output_type": "stream",
     "text": [
      " 60%|██████    | 120/200 [00:41<00:20,  3.92it/s]"
     ]
    },
    {
     "name": "stdout",
     "output_type": "stream",
     "text": [
      "Message: 111010110101000001010111010011010100010000100111\n",
      "Decoded: 101101100101010011000101100001011100001001100111\n",
      "Bit Accuracy: 0.6666666666666666\n",
      "Detection Result:  0\n",
      " *** Image : brightness_Image_309322.jpg ***\n",
      "Image id :  Image_309322.jpg\n"
     ]
    },
    {
     "name": "stderr",
     "output_type": "stream",
     "text": [
      " 60%|██████    | 121/200 [00:42<00:21,  3.67it/s]"
     ]
    },
    {
     "name": "stdout",
     "output_type": "stream",
     "text": [
      "Message: 111010110101000001010111010011010100010000100111\n",
      "Decoded: 111010110101010001010111001011010100000000101110\n",
      "Bit Accuracy: 0.875\n",
      "Detection Result:  0\n",
      " *** Image : brightness_Image_90570.jpg ***\n",
      "Image id :  Image_90570.jpg\n"
     ]
    },
    {
     "name": "stderr",
     "output_type": "stream",
     "text": [
      " 61%|██████    | 122/200 [00:42<00:21,  3.56it/s]"
     ]
    },
    {
     "name": "stdout",
     "output_type": "stream",
     "text": [
      "Message: 111010110101000001010111010011010100010000100111\n",
      "Decoded: 111010100101000011000111000001011100001001101110\n",
      "Bit Accuracy: 0.7708333333333334\n",
      "Detection Result:  0\n",
      " *** Image : brightness_Image_546451.jpg ***\n",
      "Image id :  Image_546451.jpg\n"
     ]
    },
    {
     "name": "stderr",
     "output_type": "stream",
     "text": [
      " 62%|██████▏   | 124/200 [00:43<00:20,  3.79it/s]"
     ]
    },
    {
     "name": "stdout",
     "output_type": "stream",
     "text": [
      "Message: 111010110101000001010111010011010100010000100111\n",
      "Decoded: 110000010001100101010101000000011010001001000111\n",
      "Bit Accuracy: 0.6458333333333334\n",
      "Detection Result:  0\n",
      " *** Image : brightness_Image_438422.jpg ***\n",
      "Image id :  Image_438422.jpg\n",
      "Message: 111010110101000001010111010011010100010000100111\n",
      "Decoded: 111110101101000011010111000011010100001000100110\n",
      "Bit Accuracy: 0.8333333333333334\n",
      "Detection Result:  0\n",
      " *** Image : brightness_Image_559527.jpg ***\n",
      "Image id :  Image_559527.jpg\n"
     ]
    },
    {
     "name": "stderr",
     "output_type": "stream",
     "text": [
      " 62%|██████▎   | 125/200 [00:43<00:19,  3.88it/s]"
     ]
    },
    {
     "name": "stdout",
     "output_type": "stream",
     "text": [
      "Message: 111010110101000001010111010011010100010000100111\n",
      "Decoded: 101011101101000011010001000011011100011000100111\n",
      "Bit Accuracy: 0.7916666666666666\n",
      "Detection Result:  0\n",
      " *** Image : brightness_Image_301778.jpg ***\n",
      "Image id :  Image_301778.jpg\n"
     ]
    },
    {
     "name": "stderr",
     "output_type": "stream",
     "text": [
      " 63%|██████▎   | 126/200 [00:43<00:19,  3.79it/s]"
     ]
    },
    {
     "name": "stdout",
     "output_type": "stream",
     "text": [
      "Message: 111010110101000001010111010011010100010000100111\n",
      "Decoded: 111010100101000011010111101001010000000000101110\n",
      "Bit Accuracy: 0.7916666666666666\n",
      "Detection Result:  0\n",
      " *** Image : brightness_Image_581674.jpg ***\n",
      "Image id :  Image_581674.jpg\n"
     ]
    },
    {
     "name": "stderr",
     "output_type": "stream",
     "text": [
      " 64%|██████▎   | 127/200 [00:43<00:18,  3.90it/s]"
     ]
    },
    {
     "name": "stdout",
     "output_type": "stream",
     "text": [
      "Message: 111010110101000001010111010011010100010000100111\n",
      "Decoded: 111010111101000011010111000011010100010000100110\n",
      "Bit Accuracy: 0.9166666666666666\n",
      "Detection Result:  1\n",
      " *** Image : brightness_Image_388911.jpg ***\n",
      "Image id :  Image_388911.jpg\n"
     ]
    },
    {
     "name": "stderr",
     "output_type": "stream",
     "text": [
      " 64%|██████▍   | 128/200 [00:44<00:21,  3.31it/s]"
     ]
    },
    {
     "name": "stdout",
     "output_type": "stream",
     "text": [
      "Message: 111010110101000001010111010011010100010000100111\n",
      "Decoded: 110000000101000011010101000001011000001001000111\n",
      "Bit Accuracy: 0.7083333333333334\n",
      "Detection Result:  0\n",
      " *** Image : brightness_Image_374114.jpg ***\n",
      "Image id :  Image_374114.jpg\n"
     ]
    },
    {
     "name": "stderr",
     "output_type": "stream",
     "text": [
      " 64%|██████▍   | 129/200 [00:44<00:24,  2.86it/s]"
     ]
    },
    {
     "name": "stdout",
     "output_type": "stream",
     "text": [
      "Message: 111010110101000001010111010011010100010000100111\n",
      "Decoded: 111110110101010011010111010001000100000000100110\n",
      "Bit Accuracy: 0.8541666666666666\n",
      "Detection Result:  0\n",
      " *** Image : brightness_Image_147303.jpg ***\n",
      "Image id :  Image_147303.jpg\n"
     ]
    },
    {
     "name": "stderr",
     "output_type": "stream",
     "text": [
      " 65%|██████▌   | 130/200 [00:45<00:23,  2.97it/s]"
     ]
    },
    {
     "name": "stdout",
     "output_type": "stream",
     "text": [
      "Message: 111010110101000001010111010011010100010000100111\n",
      "Decoded: 011101101101010011000011101001011100001100100110\n",
      "Bit Accuracy: 0.6041666666666666\n",
      "Detection Result:  0\n",
      " *** Image : brightness_Image_246804.jpg ***\n",
      "Image id :  Image_246804.jpg\n"
     ]
    },
    {
     "name": "stderr",
     "output_type": "stream",
     "text": [
      " 66%|██████▌   | 131/200 [00:45<00:23,  3.00it/s]"
     ]
    },
    {
     "name": "stdout",
     "output_type": "stream",
     "text": [
      "Message: 111010110101000001010111010011010100010000100111\n",
      "Decoded: 111000101100010011010011000001000100001101001110\n",
      "Bit Accuracy: 0.6458333333333334\n",
      "Detection Result:  0\n",
      " *** Image : brightness_Image_483751.jpg ***\n",
      "Image id :  Image_483751.jpg\n"
     ]
    },
    {
     "name": "stderr",
     "output_type": "stream",
     "text": [
      " 66%|██████▌   | 132/200 [00:45<00:23,  2.87it/s]"
     ]
    },
    {
     "name": "stdout",
     "output_type": "stream",
     "text": [
      "Message: 111010110101000001010111010011010100010000100111\n",
      "Decoded: 001110101111000011000111011011010100000000101110\n",
      "Bit Accuracy: 0.75\n",
      "Detection Result:  0\n",
      " *** Image : brightness_Image_70000.jpg ***\n",
      "Image id :  Image_70000.jpg\n"
     ]
    },
    {
     "name": "stderr",
     "output_type": "stream",
     "text": [
      " 66%|██████▋   | 133/200 [00:46<00:24,  2.77it/s]"
     ]
    },
    {
     "name": "stdout",
     "output_type": "stream",
     "text": [
      "Message: 111010110101000001010111010011010100010000100111\n",
      "Decoded: 011010100101000011010111010011010100001000100110\n",
      "Bit Accuracy: 0.875\n",
      "Detection Result:  0\n",
      " *** Image : brightness_Image_71631.jpg ***\n",
      "Image id :  Image_71631.jpg\n"
     ]
    },
    {
     "name": "stderr",
     "output_type": "stream",
     "text": [
      " 67%|██████▋   | 134/200 [00:46<00:24,  2.74it/s]"
     ]
    },
    {
     "name": "stdout",
     "output_type": "stream",
     "text": [
      "Message: 111010110101000001010111010011010100010000100111\n",
      "Decoded: 101000111101010011010111000101010100000000101110\n",
      "Bit Accuracy: 0.7708333333333334\n",
      "Detection Result:  0\n",
      " *** Image : brightness_Image_280260.jpg ***\n",
      "Image id :  Image_280260.jpg\n"
     ]
    },
    {
     "name": "stderr",
     "output_type": "stream",
     "text": [
      " 68%|██████▊   | 135/200 [00:46<00:23,  2.76it/s]"
     ]
    },
    {
     "name": "stdout",
     "output_type": "stream",
     "text": [
      "Message: 111010110101000001010111010011010100010000100111\n",
      "Decoded: 101110111101010011010111101001010100000000101110\n",
      "Bit Accuracy: 0.75\n",
      "Detection Result:  0\n",
      " *** Image : brightness_Image_357684.jpg ***\n",
      "Image id :  Image_357684.jpg\n"
     ]
    },
    {
     "name": "stderr",
     "output_type": "stream",
     "text": [
      " 68%|██████▊   | 136/200 [00:47<00:23,  2.67it/s]"
     ]
    },
    {
     "name": "stdout",
     "output_type": "stream",
     "text": [
      "Message: 111010110101000001010111010011010100010000100111\n",
      "Decoded: 111010110101010011010111001101010100010000100110\n",
      "Bit Accuracy: 0.8541666666666666\n",
      "Detection Result:  0\n",
      " *** Image : brightness_Image_412198.jpg ***\n",
      "Image id :  Image_412198.jpg\n"
     ]
    },
    {
     "name": "stderr",
     "output_type": "stream",
     "text": [
      " 68%|██████▊   | 137/200 [00:47<00:20,  3.03it/s]"
     ]
    },
    {
     "name": "stdout",
     "output_type": "stream",
     "text": [
      "Message: 111010110101000001010111010011010100010000100111\n",
      "Decoded: 111111101101000010000111101101010100101110101110\n",
      "Bit Accuracy: 0.6041666666666666\n",
      "Detection Result:  0\n",
      " *** Image : brightness_Image_354444.jpg ***\n",
      "Image id :  Image_354444.jpg\n"
     ]
    },
    {
     "name": "stderr",
     "output_type": "stream",
     "text": [
      " 69%|██████▉   | 138/200 [00:47<00:21,  2.88it/s]"
     ]
    },
    {
     "name": "stdout",
     "output_type": "stream",
     "text": [
      "Message: 111010110101000001010111010011010100010000100111\n",
      "Decoded: 111010111101000011010111000011010100001101100110\n",
      "Bit Accuracy: 0.8333333333333334\n",
      "Detection Result:  0\n",
      " *** Image : brightness_Image_239811.jpg ***\n",
      "Image id :  Image_239811.jpg\n"
     ]
    },
    {
     "name": "stderr",
     "output_type": "stream",
     "text": [
      " 70%|██████▉   | 139/200 [00:48<00:22,  2.74it/s]"
     ]
    },
    {
     "name": "stdout",
     "output_type": "stream",
     "text": [
      "Message: 111010110101000001010111010011010100010000100111\n",
      "Decoded: 111110110101000011010111100011010100000000100110\n",
      "Bit Accuracy: 0.875\n",
      "Detection Result:  0\n",
      " *** Image : brightness_Image_345781.jpg ***\n",
      "Image id :  Image_345781.jpg\n"
     ]
    },
    {
     "name": "stderr",
     "output_type": "stream",
     "text": [
      " 70%|███████   | 140/200 [00:48<00:19,  3.09it/s]"
     ]
    },
    {
     "name": "stdout",
     "output_type": "stream",
     "text": [
      "Message: 111010110101000001010111010011010100010000100111\n",
      "Decoded: 111100101110010011010011100011011100001001100110\n",
      "Bit Accuracy: 0.6666666666666666\n",
      "Detection Result:  0\n",
      " *** Image : brightness_Image_70868.jpg ***\n",
      "Image id :  Image_70868.jpg\n"
     ]
    },
    {
     "name": "stderr",
     "output_type": "stream",
     "text": [
      " 70%|███████   | 141/200 [00:48<00:18,  3.19it/s]"
     ]
    },
    {
     "name": "stdout",
     "output_type": "stream",
     "text": [
      "Message: 111010110101000001010111010011010100010000100111\n",
      "Decoded: 111010111101000011000111011001010100000000101110\n",
      "Bit Accuracy: 0.8333333333333334\n",
      "Detection Result:  0\n",
      " *** Image : brightness_Image_8649.jpg ***\n",
      "Image id :  Image_8649.jpg\n"
     ]
    },
    {
     "name": "stderr",
     "output_type": "stream",
     "text": [
      " 71%|███████   | 142/200 [00:49<00:18,  3.17it/s]"
     ]
    },
    {
     "name": "stdout",
     "output_type": "stream",
     "text": [
      "Message: 111010110101000001010111010011010100010000100111\n",
      "Decoded: 111110101101000011010111101001010100100000101110\n",
      "Bit Accuracy: 0.75\n",
      "Detection Result:  0\n",
      " *** Image : brightness_Image_496283.jpg ***\n",
      "Image id :  Image_496283.jpg\n"
     ]
    },
    {
     "name": "stderr",
     "output_type": "stream",
     "text": [
      " 72%|███████▏  | 143/200 [00:49<00:15,  3.57it/s]"
     ]
    },
    {
     "name": "stdout",
     "output_type": "stream",
     "text": [
      "Message: 111010110101000001010111010011010100010000100111\n",
      "Decoded: 111110101101010011010101001011010100000000100111\n",
      "Bit Accuracy: 0.8125\n",
      "Detection Result:  0\n",
      " *** Image : brightness_Image_95133.jpg ***\n",
      "Image id :  Image_95133.jpg\n"
     ]
    },
    {
     "name": "stderr",
     "output_type": "stream",
     "text": [
      " 72%|███████▎  | 145/200 [00:49<00:13,  4.21it/s]"
     ]
    },
    {
     "name": "stdout",
     "output_type": "stream",
     "text": [
      "Message: 111010110101000001010111010011010100010000100111\n",
      "Decoded: 111000100101010011010111001011011000000000001110\n",
      "Bit Accuracy: 0.75\n",
      "Detection Result:  0\n",
      " *** Image : brightness_Image_520950.jpg ***\n",
      "Image id :  Image_520950.jpg\n",
      "Message: 111010110101000001010111010011010100010000100111\n",
      "Decoded: 111111101100010010010111000001010100001001100110\n",
      "Bit Accuracy: 0.7083333333333334\n",
      "Detection Result:  0\n",
      " *** Image : brightness_Image_122108.jpg ***\n",
      "Image id :  Image_122108.jpg\n"
     ]
    },
    {
     "name": "stderr",
     "output_type": "stream",
     "text": [
      " 73%|███████▎  | 146/200 [00:49<00:13,  4.09it/s]"
     ]
    },
    {
     "name": "stdout",
     "output_type": "stream",
     "text": [
      "Message: 111010110101000001010111010011010100010000100111\n",
      "Decoded: 111010110101010011010111011001011100000100101110\n",
      "Bit Accuracy: 0.8125\n",
      "Detection Result:  0\n",
      " *** Image : brightness_Image_223726.jpg ***\n",
      "Image id :  Image_223726.jpg\n"
     ]
    },
    {
     "name": "stderr",
     "output_type": "stream",
     "text": [
      " 74%|███████▎  | 147/200 [00:50<00:13,  4.00it/s]"
     ]
    },
    {
     "name": "stdout",
     "output_type": "stream",
     "text": [
      "Message: 111010110101000001010111010011010100010000100111\n",
      "Decoded: 111010110101000011010101010011000100011000100110\n",
      "Bit Accuracy: 0.8958333333333334\n",
      "Detection Result:  0\n",
      " *** Image : brightness_Image_413746.jpg ***\n",
      "Image id :  Image_413746.jpg\n"
     ]
    },
    {
     "name": "stderr",
     "output_type": "stream",
     "text": [
      " 74%|███████▍  | 148/200 [00:50<00:15,  3.28it/s]"
     ]
    },
    {
     "name": "stdout",
     "output_type": "stream",
     "text": [
      "Message: 111010110101000001010111010011010100010000100111\n",
      "Decoded: 101010011101000011010011000011011100001000111110\n",
      "Bit Accuracy: 0.75\n",
      "Detection Result:  0\n",
      " *** Image : brightness_Image_384029.jpg ***\n",
      "Image id :  Image_384029.jpg\n"
     ]
    },
    {
     "name": "stderr",
     "output_type": "stream",
     "text": [
      " 74%|███████▍  | 149/200 [00:51<00:16,  3.09it/s]"
     ]
    },
    {
     "name": "stdout",
     "output_type": "stream",
     "text": [
      "Message: 111010110101000001010111010011010100010000100111\n",
      "Decoded: 111001100101010011010011000011011000001001000110\n",
      "Bit Accuracy: 0.7083333333333334\n",
      "Detection Result:  0\n",
      " *** Image : brightness_Image_18885.jpg ***\n",
      "Image id :  Image_18885.jpg\n"
     ]
    },
    {
     "name": "stderr",
     "output_type": "stream",
     "text": [
      " 75%|███████▌  | 150/200 [00:51<00:14,  3.35it/s]"
     ]
    },
    {
     "name": "stdout",
     "output_type": "stream",
     "text": [
      "Message: 111010110101000001010111010011010100010000100111\n",
      "Decoded: 101100101101010011010111100111011100000000100110\n",
      "Bit Accuracy: 0.7291666666666666\n",
      "Detection Result:  0\n",
      " *** Image : brightness_Image_409513.jpg ***\n",
      "Image id :  Image_409513.jpg\n"
     ]
    },
    {
     "name": "stderr",
     "output_type": "stream",
     "text": [
      " 76%|███████▌  | 151/200 [00:51<00:13,  3.59it/s]"
     ]
    },
    {
     "name": "stdout",
     "output_type": "stream",
     "text": [
      "Message: 111010110101000001010111010011010100010000100111\n",
      "Decoded: 101001101101010111000101101111011110001001101110\n",
      "Bit Accuracy: 0.5625\n",
      "Detection Result:  0\n",
      " *** Image : brightness_Image_215481.jpg ***\n",
      "Image id :  Image_215481.jpg\n"
     ]
    },
    {
     "name": "stderr",
     "output_type": "stream",
     "text": [
      " 76%|███████▌  | 152/200 [00:51<00:13,  3.55it/s]"
     ]
    },
    {
     "name": "stdout",
     "output_type": "stream",
     "text": [
      "Message: 111010110101000001010111010011010100010000100111\n",
      "Decoded: 111100111101000011000111101011011100001100101110\n",
      "Bit Accuracy: 0.7083333333333334\n",
      "Detection Result:  0\n",
      " *** Image : brightness_Image_36633.jpg ***\n",
      "Image id :  Image_36633.jpg\n"
     ]
    },
    {
     "name": "stderr",
     "output_type": "stream",
     "text": [
      " 76%|███████▋  | 153/200 [00:52<00:13,  3.45it/s]"
     ]
    },
    {
     "name": "stdout",
     "output_type": "stream",
     "text": [
      "Message: 111010110101000001010111010011010100010000100111\n",
      "Decoded: 110000010101000101010101000011011010001001000110\n",
      "Bit Accuracy: 0.7083333333333334\n",
      "Detection Result:  0\n",
      " *** Image : brightness_Image_287927.jpg ***\n",
      "Image id :  Image_287927.jpg\n"
     ]
    },
    {
     "name": "stderr",
     "output_type": "stream",
     "text": [
      " 77%|███████▋  | 154/200 [00:52<00:13,  3.52it/s]"
     ]
    },
    {
     "name": "stdout",
     "output_type": "stream",
     "text": [
      "Message: 111010110101000001010111010011010100010000100111\n",
      "Decoded: 111000101101000011010011000011011100001001101110\n",
      "Bit Accuracy: 0.75\n",
      "Detection Result:  0\n",
      " *** Image : brightness_Image_560459.jpg ***\n",
      "Image id :  Image_560459.jpg\n"
     ]
    },
    {
     "name": "stderr",
     "output_type": "stream",
     "text": [
      " 78%|███████▊  | 155/200 [00:52<00:14,  3.10it/s]"
     ]
    },
    {
     "name": "stdout",
     "output_type": "stream",
     "text": [
      "Message: 111010110101000001010111010011010100010000100111\n",
      "Decoded: 101111111111010111000111000001011100001101100110\n",
      "Bit Accuracy: 0.6458333333333334\n",
      "Detection Result:  0\n",
      " *** Image : brightness_Image_269829.jpg ***\n",
      "Image id :  Image_269829.jpg\n"
     ]
    },
    {
     "name": "stderr",
     "output_type": "stream",
     "text": [
      " 78%|███████▊  | 156/200 [00:53<00:14,  3.01it/s]"
     ]
    },
    {
     "name": "stdout",
     "output_type": "stream",
     "text": [
      "Message: 111010110101000001010111010011010100010000100111\n",
      "Decoded: 101010101101010011000111000011011100001100100111\n",
      "Bit Accuracy: 0.7708333333333334\n",
      "Detection Result:  0\n",
      " *** Image : brightness_Image_313932.jpg ***\n",
      "Image id :  Image_313932.jpg\n"
     ]
    },
    {
     "name": "stderr",
     "output_type": "stream",
     "text": [
      " 78%|███████▊  | 157/200 [00:53<00:12,  3.33it/s]"
     ]
    },
    {
     "name": "stdout",
     "output_type": "stream",
     "text": [
      "Message: 111010110101000001010111010011010100010000100111\n",
      "Decoded: 101010110101000001010111011011010100000000101110\n",
      "Bit Accuracy: 0.8958333333333334\n",
      "Detection Result:  0\n",
      " *** Image : brightness_Image_486320.jpg ***\n",
      "Image id :  Image_486320.jpg\n"
     ]
    },
    {
     "name": "stderr",
     "output_type": "stream",
     "text": [
      " 79%|███████▉  | 158/200 [00:53<00:12,  3.41it/s]"
     ]
    },
    {
     "name": "stdout",
     "output_type": "stream",
     "text": [
      "Message: 111010110101000001010111010011010100010000100111\n",
      "Decoded: 111010110101000001010111000011011100000100001110\n",
      "Bit Accuracy: 0.8541666666666666\n",
      "Detection Result:  0\n",
      " *** Image : brightness_Image_378710.jpg ***\n",
      "Image id :  Image_378710.jpg\n"
     ]
    },
    {
     "name": "stderr",
     "output_type": "stream",
     "text": [
      " 80%|███████▉  | 159/200 [00:53<00:11,  3.46it/s]"
     ]
    },
    {
     "name": "stdout",
     "output_type": "stream",
     "text": [
      "Message: 111010110101000001010111010011010100010000100111\n",
      "Decoded: 111000101101010011010001100001011000001101001111\n",
      "Bit Accuracy: 0.625\n",
      "Detection Result:  0\n",
      " *** Image : brightness_Image_153674.jpg ***\n",
      "Image id :  Image_153674.jpg\n"
     ]
    },
    {
     "name": "stderr",
     "output_type": "stream",
     "text": [
      " 80%|████████  | 160/200 [00:54<00:11,  3.48it/s]"
     ]
    },
    {
     "name": "stdout",
     "output_type": "stream",
     "text": [
      "Message: 111010110101000001010111010011010100010000100111\n",
      "Decoded: 111000110101000001010111000011010100000000100110\n",
      "Bit Accuracy: 0.9166666666666666\n",
      "Detection Result:  1\n",
      " *** Image : brightness_Image_344806.jpg ***\n",
      "Image id :  Image_344806.jpg\n"
     ]
    },
    {
     "name": "stderr",
     "output_type": "stream",
     "text": [
      " 80%|████████  | 161/200 [00:54<00:11,  3.38it/s]"
     ]
    },
    {
     "name": "stdout",
     "output_type": "stream",
     "text": [
      "Message: 111010110101000001010111010011010100010000100111\n",
      "Decoded: 111000110101000001010111000011010000001000101110\n",
      "Bit Accuracy: 0.8541666666666666\n",
      "Detection Result:  0\n",
      " *** Image : brightness_Image_57870.jpg ***\n",
      "Image id :  Image_57870.jpg\n"
     ]
    },
    {
     "name": "stderr",
     "output_type": "stream",
     "text": [
      " 81%|████████  | 162/200 [00:54<00:10,  3.49it/s]"
     ]
    },
    {
     "name": "stdout",
     "output_type": "stream",
     "text": [
      "Message: 111010110101000001010111010011010100010000100111\n",
      "Decoded: 111110100101000001010111011011010100000000101111\n",
      "Bit Accuracy: 0.8958333333333334\n",
      "Detection Result:  0\n",
      " *** Image : brightness_Image_477797.jpg ***\n",
      "Image id :  Image_477797.jpg\n"
     ]
    },
    {
     "name": "stderr",
     "output_type": "stream",
     "text": [
      " 82%|████████▏ | 163/200 [00:55<00:11,  3.17it/s]"
     ]
    },
    {
     "name": "stdout",
     "output_type": "stream",
     "text": [
      "Message: 111010110101000001010111010011010100010000100111\n",
      "Decoded: 111101101101010011010011001011010100001000101111\n",
      "Bit Accuracy: 0.7291666666666666\n",
      "Detection Result:  0\n",
      " *** Image : brightness_Image_467311.jpg ***\n",
      "Image id :  Image_467311.jpg\n"
     ]
    },
    {
     "name": "stderr",
     "output_type": "stream",
     "text": [
      " 82%|████████▏ | 164/200 [00:55<00:11,  3.13it/s]"
     ]
    },
    {
     "name": "stdout",
     "output_type": "stream",
     "text": [
      "Message: 111010110101000001010111010011010100010000100111\n",
      "Decoded: 111110110101010001010111010011010100000000100110\n",
      "Bit Accuracy: 0.9166666666666666\n",
      "Detection Result:  1\n",
      " *** Image : brightness_Image_85685.jpg ***\n",
      "Image id :  Image_85685.jpg\n"
     ]
    },
    {
     "name": "stderr",
     "output_type": "stream",
     "text": [
      " 82%|████████▎ | 165/200 [00:55<00:12,  2.90it/s]"
     ]
    },
    {
     "name": "stdout",
     "output_type": "stream",
     "text": [
      "Message: 111010110101000001010111010011010100010000100111\n",
      "Decoded: 001111111101010011000011101001010100000000100110\n",
      "Bit Accuracy: 0.6875\n",
      "Detection Result:  0\n",
      " *** Image : brightness_Image_485894.jpg ***\n",
      "Image id :  Image_485894.jpg\n"
     ]
    },
    {
     "name": "stderr",
     "output_type": "stream",
     "text": [
      " 84%|████████▎ | 167/200 [00:56<00:09,  3.54it/s]"
     ]
    },
    {
     "name": "stdout",
     "output_type": "stream",
     "text": [
      "Message: 111010110101000001010111010011010100010000100111\n",
      "Decoded: 110000010101000101010101000000011110001001001110\n",
      "Bit Accuracy: 0.6666666666666666\n",
      "Detection Result:  0\n",
      " *** Image : brightness_Image_160559.jpg ***\n",
      "Image id :  Image_160559.jpg\n",
      "Message: 111010110101000001010111010011010100010000100111\n",
      "Decoded: 111010110101000011010111001011010100001000101111\n",
      "Bit Accuracy: 0.875\n",
      "Detection Result:  0\n",
      " *** Image : brightness_Image_218956.jpg ***\n",
      "Image id :  Image_218956.jpg\n"
     ]
    },
    {
     "name": "stderr",
     "output_type": "stream",
     "text": [
      " 84%|████████▍ | 168/200 [00:56<00:09,  3.35it/s]"
     ]
    },
    {
     "name": "stdout",
     "output_type": "stream",
     "text": [
      "Message: 111010110101000001010111010011010100010000100111\n",
      "Decoded: 111110111101000011010111000011010000000000100110\n",
      "Bit Accuracy: 0.8541666666666666\n",
      "Detection Result:  0\n",
      " *** Image : brightness_Image_62426.jpg ***\n",
      "Image id :  Image_62426.jpg\n"
     ]
    },
    {
     "name": "stderr",
     "output_type": "stream",
     "text": [
      " 84%|████████▍ | 169/200 [00:57<00:10,  3.07it/s]"
     ]
    },
    {
     "name": "stdout",
     "output_type": "stream",
     "text": [
      "Message: 111010110101000001010111010011010100010000100111\n",
      "Decoded: 101101101101010011000011001011011100001001101010\n",
      "Bit Accuracy: 0.6041666666666666\n",
      "Detection Result:  0\n",
      " *** Image : brightness_Image_77375.jpg ***\n",
      "Image id :  Image_77375.jpg\n"
     ]
    },
    {
     "name": "stderr",
     "output_type": "stream",
     "text": [
      " 85%|████████▌ | 170/200 [00:57<00:08,  3.44it/s]"
     ]
    },
    {
     "name": "stdout",
     "output_type": "stream",
     "text": [
      "Message: 111010110101000001010111010011010100010000100111\n",
      "Decoded: 111110101101010011010111100001010000001000100110\n",
      "Bit Accuracy: 0.75\n",
      "Detection Result:  0\n",
      " *** Image : brightness_Image_394326.jpg ***\n",
      "Image id :  Image_394326.jpg\n"
     ]
    },
    {
     "name": "stderr",
     "output_type": "stream",
     "text": [
      " 86%|████████▌ | 171/200 [00:57<00:08,  3.42it/s]"
     ]
    },
    {
     "name": "stdout",
     "output_type": "stream",
     "text": [
      "Message: 111010110101000001010111010011010100010000100111\n",
      "Decoded: 011010100101000011010111010001010000000000100110\n",
      "Bit Accuracy: 0.8541666666666666\n",
      "Detection Result:  0\n",
      " *** Image : brightness_Image_292835.jpg ***\n",
      "Image id :  Image_292835.jpg\n"
     ]
    },
    {
     "name": "stderr",
     "output_type": "stream",
     "text": [
      " 86%|████████▌ | 172/200 [00:57<00:08,  3.13it/s]"
     ]
    },
    {
     "name": "stdout",
     "output_type": "stream",
     "text": [
      "Message: 111010110101000001010111010011010100010000100111\n",
      "Decoded: 111110111101000011010111001001010000000000101110\n",
      "Bit Accuracy: 0.7916666666666666\n",
      "Detection Result:  0\n",
      " *** Image : brightness_Image_96557.jpg ***\n",
      "Image id :  Image_96557.jpg\n"
     ]
    },
    {
     "name": "stderr",
     "output_type": "stream",
     "text": [
      " 86%|████████▋ | 173/200 [00:58<00:10,  2.50it/s]"
     ]
    },
    {
     "name": "stdout",
     "output_type": "stream",
     "text": [
      "Message: 111010110101000001010111010011010100010000100111\n",
      "Decoded: 101100111101000011010011101001011100001100100110\n",
      "Bit Accuracy: 0.6875\n",
      "Detection Result:  0\n",
      " *** Image : brightness_Image_405613.jpg ***\n",
      "Image id :  Image_405613.jpg\n"
     ]
    },
    {
     "name": "stderr",
     "output_type": "stream",
     "text": [
      " 87%|████████▋ | 174/200 [00:58<00:10,  2.45it/s]"
     ]
    },
    {
     "name": "stdout",
     "output_type": "stream",
     "text": [
      "Message: 111010110101000001010111010011010100010000100111\n",
      "Decoded: 111001100101010011010101011011011100001001101111\n",
      "Bit Accuracy: 0.75\n",
      "Detection Result:  0\n",
      " *** Image : brightness_Image_283524.jpg ***\n",
      "Image id :  Image_283524.jpg\n"
     ]
    },
    {
     "name": "stderr",
     "output_type": "stream",
     "text": [
      " 88%|████████▊ | 175/200 [00:59<00:09,  2.69it/s]"
     ]
    },
    {
     "name": "stdout",
     "output_type": "stream",
     "text": [
      "Message: 111010110101000001010111010011010100010000100111\n",
      "Decoded: 111010110101000011010111011011010100000000100110\n",
      "Bit Accuracy: 0.9166666666666666\n",
      "Detection Result:  1\n",
      " *** Image : brightness_Image_277854.jpg ***\n",
      "Image id :  Image_277854.jpg\n"
     ]
    },
    {
     "name": "stderr",
     "output_type": "stream",
     "text": [
      " 88%|████████▊ | 176/200 [00:59<00:08,  2.75it/s]"
     ]
    },
    {
     "name": "stdout",
     "output_type": "stream",
     "text": [
      "Message: 111010110101000001010111010011010100010000100111\n",
      "Decoded: 111100110001000001010111101001011000001000001110\n",
      "Bit Accuracy: 0.7083333333333334\n",
      "Detection Result:  0\n",
      " *** Image : brightness_Image_217306.jpg ***\n",
      "Image id :  Image_217306.jpg\n"
     ]
    },
    {
     "name": "stderr",
     "output_type": "stream",
     "text": [
      " 88%|████████▊ | 177/200 [00:59<00:07,  2.93it/s]"
     ]
    },
    {
     "name": "stdout",
     "output_type": "stream",
     "text": [
      "Message: 111010110101000001010111010011010100010000100111\n",
      "Decoded: 111010110101000001010111010001010100000000100110\n",
      "Bit Accuracy: 0.9375\n",
      "Detection Result:  1\n",
      " *** Image : brightness_Image_398494.jpg ***\n",
      "Image id :  Image_398494.jpg\n"
     ]
    },
    {
     "name": "stderr",
     "output_type": "stream",
     "text": [
      " 89%|████████▉ | 178/200 [01:00<00:07,  2.89it/s]"
     ]
    },
    {
     "name": "stdout",
     "output_type": "stream",
     "text": [
      "Message: 111010110101000001010111010011010100010000100111\n",
      "Decoded: 101010100101000011010111001111010100000000100110\n",
      "Bit Accuracy: 0.8333333333333334\n",
      "Detection Result:  0\n",
      " *** Image : brightness_Image_524068.jpg ***\n",
      "Image id :  Image_524068.jpg\n"
     ]
    },
    {
     "name": "stderr",
     "output_type": "stream",
     "text": [
      " 90%|████████▉ | 179/200 [01:00<00:07,  2.78it/s]"
     ]
    },
    {
     "name": "stdout",
     "output_type": "stream",
     "text": [
      "Message: 111010110101000001010111010011010100010000100111\n",
      "Decoded: 111000111101000011010111000001010000011101100111\n",
      "Bit Accuracy: 0.8125\n",
      "Detection Result:  0\n",
      " *** Image : brightness_Image_213546.jpg ***\n",
      "Image id :  Image_213546.jpg\n"
     ]
    },
    {
     "name": "stderr",
     "output_type": "stream",
     "text": [
      " 90%|█████████ | 180/200 [01:01<00:08,  2.48it/s]"
     ]
    },
    {
     "name": "stdout",
     "output_type": "stream",
     "text": [
      "Message: 111010110101000001010111010011010100010000100111\n",
      "Decoded: 111010110101000011010111000011010100000000100110\n",
      "Bit Accuracy: 0.9166666666666666\n",
      "Detection Result:  1\n",
      " *** Image : brightness_Image_405207.jpg ***\n",
      "Image id :  Image_405207.jpg\n"
     ]
    },
    {
     "name": "stderr",
     "output_type": "stream",
     "text": [
      " 90%|█████████ | 181/200 [01:01<00:08,  2.26it/s]"
     ]
    },
    {
     "name": "stdout",
     "output_type": "stream",
     "text": [
      "Message: 111010110101000001010111010011010100010000100111\n",
      "Decoded: 101010110111000011010111000011010100000000101110\n",
      "Bit Accuracy: 0.8541666666666666\n",
      "Detection Result:  0\n",
      " *** Image : brightness_Image_341550.jpg ***\n",
      "Image id :  Image_341550.jpg\n"
     ]
    },
    {
     "name": "stderr",
     "output_type": "stream",
     "text": [
      " 91%|█████████ | 182/200 [01:01<00:07,  2.57it/s]"
     ]
    },
    {
     "name": "stdout",
     "output_type": "stream",
     "text": [
      "Message: 111010110101000001010111010011010100010000100111\n",
      "Decoded: 101000101101010011000111110011010100001000101110\n",
      "Bit Accuracy: 0.75\n",
      "Detection Result:  0\n",
      " *** Image : brightness_Image_445528.jpg ***\n",
      "Image id :  Image_445528.jpg\n"
     ]
    },
    {
     "name": "stderr",
     "output_type": "stream",
     "text": [
      " 92%|█████████▏| 183/200 [01:02<00:06,  2.80it/s]"
     ]
    },
    {
     "name": "stdout",
     "output_type": "stream",
     "text": [
      "Message: 111010110101000001010111010011010100010000100111\n",
      "Decoded: 101101101111010011000111001001011100001100101110\n",
      "Bit Accuracy: 0.6041666666666666\n",
      "Detection Result:  0\n",
      " *** Image : brightness_Image_172899.jpg ***\n",
      "Image id :  Image_172899.jpg\n"
     ]
    },
    {
     "name": "stderr",
     "output_type": "stream",
     "text": [
      " 92%|█████████▏| 184/200 [01:02<00:05,  2.68it/s]"
     ]
    },
    {
     "name": "stdout",
     "output_type": "stream",
     "text": [
      "Message: 111010110101000001010111010011010100010000100111\n",
      "Decoded: 111000000101100001010101000001011010001001001111\n",
      "Bit Accuracy: 0.6875\n",
      "Detection Result:  0\n",
      " *** Image : brightness_Image_469605.jpg ***\n",
      "Image id :  Image_469605.jpg\n"
     ]
    },
    {
     "name": "stderr",
     "output_type": "stream",
     "text": [
      " 92%|█████████▎| 185/200 [01:03<00:05,  2.58it/s]"
     ]
    },
    {
     "name": "stdout",
     "output_type": "stream",
     "text": [
      "Message: 111010110101000001010111010011010100010000100111\n",
      "Decoded: 111100111101010011000111010011010100000000100110\n",
      "Bit Accuracy: 0.8333333333333334\n",
      "Detection Result:  0\n",
      " *** Image : brightness_Image_454325.jpg ***\n",
      "Image id :  Image_454325.jpg\n"
     ]
    },
    {
     "name": "stderr",
     "output_type": "stream",
     "text": [
      " 93%|█████████▎| 186/200 [01:03<00:05,  2.73it/s]"
     ]
    },
    {
     "name": "stdout",
     "output_type": "stream",
     "text": [
      "Message: 111010110101000001010111010011010100010000100111\n",
      "Decoded: 111010011101000111010111101011011000000000101110\n",
      "Bit Accuracy: 0.75\n",
      "Detection Result:  0\n",
      " *** Image : brightness_Image_93785.jpg ***\n",
      "Image id :  Image_93785.jpg\n"
     ]
    },
    {
     "name": "stderr",
     "output_type": "stream",
     "text": [
      " 94%|█████████▎| 187/200 [01:03<00:04,  2.71it/s]"
     ]
    },
    {
     "name": "stdout",
     "output_type": "stream",
     "text": [
      "Message: 111010110101000001010111010011010100010000100111\n",
      "Decoded: 110000010101100001010111000011011010001001001111\n",
      "Bit Accuracy: 0.7291666666666666\n",
      "Detection Result:  0\n",
      " *** Image : brightness_Image_19380.jpg ***\n",
      "Image id :  Image_19380.jpg\n"
     ]
    },
    {
     "name": "stderr",
     "output_type": "stream",
     "text": [
      " 94%|█████████▍| 188/200 [01:04<00:04,  2.92it/s]"
     ]
    },
    {
     "name": "stdout",
     "output_type": "stream",
     "text": [
      "Message: 111010110101000001010111010011010100010000100111\n",
      "Decoded: 101100110101000011010111000011010100001000101110\n",
      "Bit Accuracy: 0.8125\n",
      "Detection Result:  0\n",
      " *** Image : brightness_Image_278347.jpg ***\n",
      "Image id :  Image_278347.jpg\n"
     ]
    },
    {
     "name": "stderr",
     "output_type": "stream",
     "text": [
      " 94%|█████████▍| 189/200 [01:04<00:03,  2.87it/s]"
     ]
    },
    {
     "name": "stdout",
     "output_type": "stream",
     "text": [
      "Message: 111010110101000001010111010011010100010000100111\n",
      "Decoded: 001110101101010011000111111111010100001100101110\n",
      "Bit Accuracy: 0.6666666666666666\n",
      "Detection Result:  0\n",
      " *** Image : brightness_Image_343322.jpg ***\n",
      "Image id :  Image_343322.jpg\n"
     ]
    },
    {
     "name": "stderr",
     "output_type": "stream",
     "text": [
      " 95%|█████████▌| 190/200 [01:04<00:03,  2.95it/s]"
     ]
    },
    {
     "name": "stdout",
     "output_type": "stream",
     "text": [
      "Message: 111010110101000001010111010011010100010000100111\n",
      "Decoded: 101111111101000011000111101101010100001110100110\n",
      "Bit Accuracy: 0.6666666666666666\n",
      "Detection Result:  0\n",
      " *** Image : brightness_Image_492386.jpg ***\n",
      "Image id :  Image_492386.jpg\n"
     ]
    },
    {
     "name": "stderr",
     "output_type": "stream",
     "text": [
      " 96%|█████████▌| 191/200 [01:05<00:02,  3.09it/s]"
     ]
    },
    {
     "name": "stdout",
     "output_type": "stream",
     "text": [
      "Message: 111010110101000001010111010011010100010000100111\n",
      "Decoded: 111011110101000001010111000101010100000000100110\n",
      "Bit Accuracy: 0.875\n",
      "Detection Result:  0\n",
      " *** Image : brightness_Image_299411.jpg ***\n",
      "Image id :  Image_299411.jpg\n"
     ]
    },
    {
     "name": "stderr",
     "output_type": "stream",
     "text": [
      " 96%|█████████▌| 192/200 [01:05<00:02,  3.14it/s]"
     ]
    },
    {
     "name": "stdout",
     "output_type": "stream",
     "text": [
      "Message: 111010110101000001010111010011010100010000100111\n",
      "Decoded: 111100111101010011010101101001011000001001101110\n",
      "Bit Accuracy: 0.6458333333333334\n",
      "Detection Result:  0\n",
      " *** Image : brightness_Image_574001.jpg ***\n",
      "Image id :  Image_574001.jpg\n"
     ]
    },
    {
     "name": "stderr",
     "output_type": "stream",
     "text": [
      " 96%|█████████▋| 193/200 [01:05<00:02,  3.39it/s]"
     ]
    },
    {
     "name": "stdout",
     "output_type": "stream",
     "text": [
      "Message: 111010110101000001010111010011010100010000100111\n",
      "Decoded: 111000010101000101010101000011011000001001001111\n",
      "Bit Accuracy: 0.75\n",
      "Detection Result:  0\n",
      " *** Image : brightness_Image_576801.jpg ***\n",
      "Image id :  Image_576801.jpg\n"
     ]
    },
    {
     "name": "stderr",
     "output_type": "stream",
     "text": [
      " 97%|█████████▋| 194/200 [01:05<00:01,  3.45it/s]"
     ]
    },
    {
     "name": "stdout",
     "output_type": "stream",
     "text": [
      "Message: 111010110101000001010111010011010100010000100111\n",
      "Decoded: 101001101101010011000101001111011100001101101111\n",
      "Bit Accuracy: 0.625\n",
      "Detection Result:  0\n",
      " *** Image : brightness_Image_167613.jpg ***\n",
      "Image id :  Image_167613.jpg\n"
     ]
    },
    {
     "name": "stderr",
     "output_type": "stream",
     "text": [
      " 98%|█████████▊| 195/200 [01:06<00:01,  3.31it/s]"
     ]
    },
    {
     "name": "stdout",
     "output_type": "stream",
     "text": [
      "Message: 111010110101000001010111010011010100010000100111\n",
      "Decoded: 011110100101000000010111111010110100011010100110\n",
      "Bit Accuracy: 0.7708333333333334\n",
      "Detection Result:  0\n",
      " *** Image : brightness_Image_95989.jpg ***\n",
      "Image id :  Image_95989.jpg\n"
     ]
    },
    {
     "name": "stderr",
     "output_type": "stream",
     "text": [
      " 98%|█████████▊| 196/200 [01:06<00:01,  3.00it/s]"
     ]
    },
    {
     "name": "stdout",
     "output_type": "stream",
     "text": [
      "Message: 111010110101000001010111010011010100010000100111\n",
      "Decoded: 101101101111000011000001100111011100001101101111\n",
      "Bit Accuracy: 0.5833333333333334\n",
      "Detection Result:  0\n",
      " *** Image : brightness_Image_280980.jpg ***\n",
      "Image id :  Image_280980.jpg\n"
     ]
    },
    {
     "name": "stderr",
     "output_type": "stream",
     "text": [
      " 98%|█████████▊| 197/200 [01:06<00:01,  2.90it/s]"
     ]
    },
    {
     "name": "stdout",
     "output_type": "stream",
     "text": [
      "Message: 111010110101000001010111010011010100010000100111\n",
      "Decoded: 111101010101000011000101001001011100000001101111\n",
      "Bit Accuracy: 0.7083333333333334\n",
      "Detection Result:  0\n",
      " *** Image : brightness_Image_108627.jpg ***\n",
      "Image id :  Image_108627.jpg\n"
     ]
    },
    {
     "name": "stderr",
     "output_type": "stream",
     "text": [
      " 99%|█████████▉| 198/200 [01:07<00:00,  3.15it/s]"
     ]
    },
    {
     "name": "stdout",
     "output_type": "stream",
     "text": [
      "Message: 111010110101000001010111010011010100010000100111\n",
      "Decoded: 111100101100010011000001101001010000001101101111\n",
      "Bit Accuracy: 0.5833333333333334\n",
      "Detection Result:  0\n",
      " *** Image : brightness_Image_409382.jpg ***\n",
      "Image id :  Image_409382.jpg\n"
     ]
    },
    {
     "name": "stderr",
     "output_type": "stream",
     "text": [
      "100%|█████████▉| 199/200 [01:07<00:00,  3.25it/s]"
     ]
    },
    {
     "name": "stdout",
     "output_type": "stream",
     "text": [
      "Message: 111010110101000001010111010011010100010000100111\n",
      "Decoded: 111110111101000011010011001001010100001000101110\n",
      "Bit Accuracy: 0.7708333333333334\n",
      "Detection Result:  0\n",
      " *** Image : brightness_Image_241364.jpg ***\n",
      "Image id :  Image_241364.jpg\n"
     ]
    },
    {
     "name": "stderr",
     "output_type": "stream",
     "text": [
      "100%|██████████| 200/200 [01:07<00:00,  2.94it/s]\n"
     ]
    },
    {
     "name": "stdout",
     "output_type": "stream",
     "text": [
      "Message: 111010110101000001010111010011010100010000100111\n",
      "Decoded: 111010111101000111010111000011011000001000000110\n",
      "Bit Accuracy: 0.7916666666666666\n",
      "Detection Result:  0\n",
      " ----- Attack : gaussian_noise -----\n"
     ]
    },
    {
     "name": "stderr",
     "output_type": "stream",
     "text": [
      "  0%|          | 0/200 [00:00<?, ?it/s]"
     ]
    },
    {
     "name": "stdout",
     "output_type": "stream",
     "text": [
      " *** Image : gaussian_noise_Image_246446.jpg ***\n",
      "Image id :  Image_246446.jpg\n"
     ]
    },
    {
     "name": "stderr",
     "output_type": "stream",
     "text": [
      "  0%|          | 1/200 [00:00<01:11,  2.79it/s]"
     ]
    },
    {
     "name": "stdout",
     "output_type": "stream",
     "text": [
      "Message: 111010110101000001010111010011010100010000100111\n",
      "Decoded: 101100110101111110000101001011011100001100101111\n",
      "Bit Accuracy: 0.625\n",
      "Detection Result:  0\n",
      " *** Image : gaussian_noise_Image_496939.jpg ***\n",
      "Image id :  Image_496939.jpg\n"
     ]
    },
    {
     "name": "stderr",
     "output_type": "stream",
     "text": [
      "  1%|          | 2/200 [00:00<01:08,  2.90it/s]"
     ]
    },
    {
     "name": "stdout",
     "output_type": "stream",
     "text": [
      "Message: 111010110101000001010111010011010100010000100111\n",
      "Decoded: 111100110001100101000101001011011100001100001111\n",
      "Bit Accuracy: 0.6875\n",
      "Detection Result:  0\n",
      " *** Image : gaussian_noise_Image_77806.jpg ***\n",
      "Image id :  Image_77806.jpg\n"
     ]
    },
    {
     "name": "stderr",
     "output_type": "stream",
     "text": [
      "  2%|▏         | 3/200 [00:01<01:17,  2.54it/s]"
     ]
    },
    {
     "name": "stdout",
     "output_type": "stream",
     "text": [
      "Message: 111010110101000001010111010011010100010000100111\n",
      "Decoded: 101101110011110110000101001011011110001110001111\n",
      "Bit Accuracy: 0.5208333333333334\n",
      "Detection Result:  0\n",
      " *** Image : gaussian_noise_Image_574001.jpg ***\n",
      "Image id :  Image_574001.jpg\n"
     ]
    },
    {
     "name": "stderr",
     "output_type": "stream",
     "text": [
      "  2%|▏         | 4/200 [00:01<01:08,  2.85it/s]"
     ]
    },
    {
     "name": "stdout",
     "output_type": "stream",
     "text": [
      "Message: 111010110101000001010111010011010100010000100111\n",
      "Decoded: 101100110001100101000101001000011110001101001111\n",
      "Bit Accuracy: 0.5833333333333334\n",
      "Detection Result:  0\n",
      " *** Image : gaussian_noise_Image_426038.jpg ***\n",
      "Image id :  Image_426038.jpg\n"
     ]
    },
    {
     "name": "stderr",
     "output_type": "stream",
     "text": [
      "  2%|▎         | 5/200 [00:01<01:02,  3.10it/s]"
     ]
    },
    {
     "name": "stdout",
     "output_type": "stream",
     "text": [
      "Message: 111010110101000001010111010011010100010000100111\n",
      "Decoded: 101100110011100111000101001010010110001000001111\n",
      "Bit Accuracy: 0.625\n",
      "Detection Result:  0\n",
      " *** Image : gaussian_noise_Image_167603.jpg ***\n",
      "Image id :  Image_167603.jpg\n"
     ]
    },
    {
     "name": "stderr",
     "output_type": "stream",
     "text": [
      "  3%|▎         | 6/200 [00:01<00:59,  3.28it/s]"
     ]
    },
    {
     "name": "stdout",
     "output_type": "stream",
     "text": [
      "Message: 111010110101000001010111010011010100010000100111\n",
      "Decoded: 101100110011110110000001001011011110001101001111\n",
      "Bit Accuracy: 0.5208333333333334\n",
      "Detection Result:  0\n",
      " *** Image : gaussian_noise_Image_160163.jpg ***\n",
      "Image id :  Image_160163.jpg\n"
     ]
    },
    {
     "name": "stderr",
     "output_type": "stream",
     "text": [
      "  4%|▎         | 7/200 [00:02<00:55,  3.48it/s]"
     ]
    },
    {
     "name": "stdout",
     "output_type": "stream",
     "text": [
      "Message: 111010110101000001010111010011010100010000100111\n",
      "Decoded: 101100110001101101000101001010010110001101011111\n",
      "Bit Accuracy: 0.5833333333333334\n",
      "Detection Result:  0\n",
      " *** Image : gaussian_noise_Image_559527.jpg ***\n",
      "Image id :  Image_559527.jpg\n"
     ]
    },
    {
     "name": "stderr",
     "output_type": "stream",
     "text": [
      "  4%|▍         | 8/200 [00:02<00:56,  3.39it/s]"
     ]
    },
    {
     "name": "stdout",
     "output_type": "stream",
     "text": [
      "Message: 111010110101000001010111010011010100010000100111\n",
      "Decoded: 101000110001100101000101001000011110001101001111\n",
      "Bit Accuracy: 0.6041666666666666\n",
      "Detection Result:  0\n",
      " *** Image : gaussian_noise_Image_560628.jpg ***\n",
      "Image id :  Image_560628.jpg\n"
     ]
    },
    {
     "name": "stderr",
     "output_type": "stream",
     "text": [
      "  4%|▍         | 9/200 [00:02<00:55,  3.46it/s]"
     ]
    },
    {
     "name": "stdout",
     "output_type": "stream",
     "text": [
      "Message: 111010110101000001010111010011010100010000100111\n",
      "Decoded: 101100110101010110000101001011011110001000001111\n",
      "Bit Accuracy: 0.6458333333333334\n",
      "Detection Result:  0\n",
      " *** Image : gaussian_noise_Image_189993.jpg ***\n",
      "Image id :  Image_189993.jpg\n"
     ]
    },
    {
     "name": "stderr",
     "output_type": "stream",
     "text": [
      "  5%|▌         | 10/200 [00:03<00:56,  3.34it/s]"
     ]
    },
    {
     "name": "stdout",
     "output_type": "stream",
     "text": [
      "Message: 111010110101000001010111010011010100010000100111\n",
      "Decoded: 101100110001110110000001001111010100001110001111\n",
      "Bit Accuracy: 0.5625\n",
      "Detection Result:  0\n",
      " *** Image : gaussian_noise_Image_77375.jpg ***\n",
      "Image id :  Image_77375.jpg\n"
     ]
    },
    {
     "name": "stderr",
     "output_type": "stream",
     "text": [
      "  6%|▌         | 11/200 [00:03<00:57,  3.27it/s]"
     ]
    },
    {
     "name": "stdout",
     "output_type": "stream",
     "text": [
      "Message: 111010110101000001010111010011010100010000100111\n",
      "Decoded: 101100110011100101000101001011011110001101001111\n",
      "Bit Accuracy: 0.6041666666666666\n",
      "Detection Result:  0\n",
      " *** Image : gaussian_noise_Image_352884.jpg ***\n",
      "Image id :  Image_352884.jpg\n"
     ]
    },
    {
     "name": "stderr",
     "output_type": "stream",
     "text": [
      "  6%|▌         | 12/200 [00:03<01:04,  2.90it/s]"
     ]
    },
    {
     "name": "stdout",
     "output_type": "stream",
     "text": [
      "Message: 111010110101000001010111010011010100010000100111\n",
      "Decoded: 101100110001100101000101001011010110001100001111\n",
      "Bit Accuracy: 0.6666666666666666\n",
      "Detection Result:  0\n",
      " *** Image : gaussian_noise_Image_172899.jpg ***\n",
      "Image id :  Image_172899.jpg\n"
     ]
    },
    {
     "name": "stderr",
     "output_type": "stream",
     "text": [
      "  6%|▋         | 13/200 [00:04<00:59,  3.16it/s]"
     ]
    },
    {
     "name": "stdout",
     "output_type": "stream",
     "text": [
      "Message: 111010110101000001010111010011010100010000100111\n",
      "Decoded: 101100110001100101000101001000011110001101001111\n",
      "Bit Accuracy: 0.5833333333333334\n",
      "Detection Result:  0\n",
      " *** Image : gaussian_noise_Image_147016.jpg ***\n",
      "Image id :  Image_147016.jpg\n"
     ]
    },
    {
     "name": "stderr",
     "output_type": "stream",
     "text": [
      "  7%|▋         | 14/200 [00:04<01:04,  2.89it/s]"
     ]
    },
    {
     "name": "stdout",
     "output_type": "stream",
     "text": [
      "Message: 111010110101000001010111010011010100010000100111\n",
      "Decoded: 101000110001100101000101001001011110001001001111\n",
      "Bit Accuracy: 0.6458333333333334\n",
      "Detection Result:  0\n",
      " *** Image : gaussian_noise_Image_540162.jpg ***\n",
      "Image id :  Image_540162.jpg\n"
     ]
    },
    {
     "name": "stderr",
     "output_type": "stream",
     "text": [
      "  8%|▊         | 15/200 [00:04<01:05,  2.82it/s]"
     ]
    },
    {
     "name": "stdout",
     "output_type": "stream",
     "text": [
      "Message: 111010110101000001010111010011010100010000100111\n",
      "Decoded: 101100110101110111000001001011011110001111001111\n",
      "Bit Accuracy: 0.5625\n",
      "Detection Result:  0\n",
      " *** Image : gaussian_noise_Image_576757.jpg ***\n",
      "Image id :  Image_576757.jpg\n"
     ]
    },
    {
     "name": "stderr",
     "output_type": "stream",
     "text": [
      "  8%|▊         | 16/200 [00:05<01:06,  2.76it/s]"
     ]
    },
    {
     "name": "stdout",
     "output_type": "stream",
     "text": [
      "Message: 111010110101000001010111010011010100010000100111\n",
      "Decoded: 101000110001100111000101001000011110001101001111\n",
      "Bit Accuracy: 0.5833333333333334\n",
      "Detection Result:  0\n",
      " *** Image : gaussian_noise_Image_153946.jpg ***\n",
      "Image id :  Image_153946.jpg\n"
     ]
    },
    {
     "name": "stderr",
     "output_type": "stream",
     "text": [
      "  8%|▊         | 17/200 [00:05<01:09,  2.63it/s]"
     ]
    },
    {
     "name": "stdout",
     "output_type": "stream",
     "text": [
      "Message: 111010110101000001010111010011010100010000100111\n",
      "Decoded: 101100110001100111000101001011010110001101001111\n",
      "Bit Accuracy: 0.625\n",
      "Detection Result:  0\n",
      " *** Image : gaussian_noise_Image_279108.jpg ***\n",
      "Image id :  Image_279108.jpg\n"
     ]
    },
    {
     "name": "stderr",
     "output_type": "stream",
     "text": [
      "  9%|▉         | 18/200 [00:06<01:07,  2.69it/s]"
     ]
    },
    {
     "name": "stdout",
     "output_type": "stream",
     "text": [
      "Message: 111010110101000001010111010011010100010000100111\n",
      "Decoded: 111100110001100101000101001011011110001101001111\n",
      "Bit Accuracy: 0.6458333333333334\n",
      "Detection Result:  0\n",
      " *** Image : gaussian_noise_Image_581674.jpg ***\n",
      "Image id :  Image_581674.jpg\n"
     ]
    },
    {
     "name": "stderr",
     "output_type": "stream",
     "text": [
      " 10%|▉         | 19/200 [00:06<00:57,  3.13it/s]"
     ]
    },
    {
     "name": "stdout",
     "output_type": "stream",
     "text": [
      "Message: 111010110101000001010111010011010100010000100111\n",
      "Decoded: 101100110101101110000101001011010110001000001111\n",
      "Bit Accuracy: 0.6458333333333334\n",
      "Detection Result:  0\n",
      " *** Image : gaussian_noise_Image_259446.jpg ***\n",
      "Image id :  Image_259446.jpg\n"
     ]
    },
    {
     "name": "stderr",
     "output_type": "stream",
     "text": [
      " 10%|█         | 20/200 [00:06<00:59,  3.05it/s]"
     ]
    },
    {
     "name": "stdout",
     "output_type": "stream",
     "text": [
      "Message: 111010110101000001010111010011010100010000100111\n",
      "Decoded: 001000110111010110000101001011010100001110001111\n",
      "Bit Accuracy: 0.625\n",
      "Detection Result:  0\n",
      " *** Image : gaussian_noise_Image_413746.jpg ***\n",
      "Image id :  Image_413746.jpg\n"
     ]
    },
    {
     "name": "stderr",
     "output_type": "stream",
     "text": [
      " 10%|█         | 21/200 [00:06<01:00,  2.94it/s]"
     ]
    },
    {
     "name": "stdout",
     "output_type": "stream",
     "text": [
      "Message: 111010110101000001010111010011010100010000100111\n",
      "Decoded: 101100110001100111000101001011011110001101001111\n",
      "Bit Accuracy: 0.6041666666666666\n",
      "Detection Result:  0\n",
      " *** Image : gaussian_noise_Image_485894.jpg ***\n",
      "Image id :  Image_485894.jpg\n"
     ]
    },
    {
     "name": "stderr",
     "output_type": "stream",
     "text": [
      " 11%|█         | 22/200 [00:07<01:01,  2.88it/s]"
     ]
    },
    {
     "name": "stdout",
     "output_type": "stream",
     "text": [
      "Message: 111010110101000001010111010011010100010000100111\n",
      "Decoded: 101100110001100101000101001000011110001101001111\n",
      "Bit Accuracy: 0.5833333333333334\n",
      "Detection Result:  0\n",
      " *** Image : gaussian_noise_Image_551125.jpg ***\n",
      "Image id :  Image_551125.jpg\n"
     ]
    },
    {
     "name": "stderr",
     "output_type": "stream",
     "text": [
      " 12%|█▏        | 23/200 [00:07<01:03,  2.79it/s]"
     ]
    },
    {
     "name": "stdout",
     "output_type": "stream",
     "text": [
      "Message: 111010110101000001010111010011010100010000100111\n",
      "Decoded: 101100110001100101000101001000011110001101001111\n",
      "Bit Accuracy: 0.5833333333333334\n",
      "Detection Result:  0\n",
      " *** Image : gaussian_noise_Image_147303.jpg ***\n",
      "Image id :  Image_147303.jpg\n"
     ]
    },
    {
     "name": "stderr",
     "output_type": "stream",
     "text": [
      " 12%|█▏        | 24/200 [00:08<01:02,  2.80it/s]"
     ]
    },
    {
     "name": "stdout",
     "output_type": "stream",
     "text": [
      "Message: 111010110101000001010111010011010100010000100111\n",
      "Decoded: 101111110101011110000001001011011100001110101111\n",
      "Bit Accuracy: 0.6041666666666666\n",
      "Detection Result:  0\n",
      " *** Image : gaussian_noise_Image_420721.jpg ***\n",
      "Image id :  Image_420721.jpg\n"
     ]
    },
    {
     "name": "stderr",
     "output_type": "stream",
     "text": [
      " 12%|█▎        | 25/200 [00:08<01:03,  2.77it/s]"
     ]
    },
    {
     "name": "stdout",
     "output_type": "stream",
     "text": [
      "Message: 111010110101000001010111010011010100010000100111\n",
      "Decoded: 101100110001100101000101001001011110001001001111\n",
      "Bit Accuracy: 0.625\n",
      "Detection Result:  0\n",
      " *** Image : gaussian_noise_Image_62279.jpg ***\n",
      "Image id :  Image_62279.jpg\n"
     ]
    },
    {
     "name": "stderr",
     "output_type": "stream",
     "text": [
      " 13%|█▎        | 26/200 [00:08<01:08,  2.53it/s]"
     ]
    },
    {
     "name": "stdout",
     "output_type": "stream",
     "text": [
      "Message: 111010110101000001010111010011010100010000100111\n",
      "Decoded: 101100110001100100000101001001010110001101001111\n",
      "Bit Accuracy: 0.6041666666666666\n",
      "Detection Result:  0\n",
      " *** Image : gaussian_noise_Image_19380.jpg ***\n",
      "Image id :  Image_19380.jpg\n"
     ]
    },
    {
     "name": "stderr",
     "output_type": "stream",
     "text": [
      " 14%|█▎        | 27/200 [00:09<01:12,  2.40it/s]"
     ]
    },
    {
     "name": "stdout",
     "output_type": "stream",
     "text": [
      "Message: 111010110101000001010111010011010100010000100111\n",
      "Decoded: 101100110001100111000101001010011110001101001111\n",
      "Bit Accuracy: 0.5833333333333334\n",
      "Detection Result:  0\n",
      " *** Image : gaussian_noise_Image_318189.jpg ***\n",
      "Image id :  Image_318189.jpg\n"
     ]
    },
    {
     "name": "stderr",
     "output_type": "stream",
     "text": [
      " 14%|█▍        | 28/200 [00:09<01:07,  2.55it/s]"
     ]
    },
    {
     "name": "stdout",
     "output_type": "stream",
     "text": [
      "Message: 111010110101000001010111010011010100010000100111\n",
      "Decoded: 101101110001111111000001001011010100001101010111\n",
      "Bit Accuracy: 0.5625\n",
      "Detection Result:  0\n",
      " *** Image : gaussian_noise_Image_467311.jpg ***\n",
      "Image id :  Image_467311.jpg\n"
     ]
    },
    {
     "name": "stderr",
     "output_type": "stream",
     "text": [
      " 14%|█▍        | 29/200 [00:10<01:09,  2.45it/s]"
     ]
    },
    {
     "name": "stdout",
     "output_type": "stream",
     "text": [
      "Message: 111010110101000001010111010011010100010000100111\n",
      "Decoded: 101100110001111111000101001011011110001100001111\n",
      "Bit Accuracy: 0.5833333333333334\n",
      "Detection Result:  0\n",
      " *** Image : gaussian_noise_Image_543877.jpg ***\n",
      "Image id :  Image_543877.jpg\n"
     ]
    },
    {
     "name": "stderr",
     "output_type": "stream",
     "text": [
      " 15%|█▌        | 30/200 [00:10<01:03,  2.69it/s]"
     ]
    },
    {
     "name": "stdout",
     "output_type": "stream",
     "text": [
      "Message: 111010110101000001010111010011010100010000100111\n",
      "Decoded: 101100110001100111000101001011011110001101001111\n",
      "Bit Accuracy: 0.6041666666666666\n",
      "Detection Result:  0\n",
      " *** Image : gaussian_noise_Image_69675.jpg ***\n",
      "Image id :  Image_69675.jpg\n"
     ]
    },
    {
     "name": "stderr",
     "output_type": "stream",
     "text": [
      " 16%|█▌        | 31/200 [00:10<00:57,  2.93it/s]"
     ]
    },
    {
     "name": "stdout",
     "output_type": "stream",
     "text": [
      "Message: 111010110101000001010111010011010100010000100111\n",
      "Decoded: 101100110001110101000101001010010110001101001111\n",
      "Bit Accuracy: 0.6041666666666666\n",
      "Detection Result:  0\n",
      " *** Image : gaussian_noise_Image_4428.jpg ***\n",
      "Image id :  Image_4428.jpg\n"
     ]
    },
    {
     "name": "stderr",
     "output_type": "stream",
     "text": [
      " 16%|█▌        | 32/200 [00:11<00:56,  2.95it/s]"
     ]
    },
    {
     "name": "stdout",
     "output_type": "stream",
     "text": [
      "Message: 111010110101000001010111010011010100010000100111\n",
      "Decoded: 101100110001111110000001001011011110001100001111\n",
      "Bit Accuracy: 0.5416666666666666\n",
      "Detection Result:  0\n",
      " *** Image : gaussian_noise_Image_504616.jpg ***\n",
      "Image id :  Image_504616.jpg\n"
     ]
    },
    {
     "name": "stderr",
     "output_type": "stream",
     "text": [
      " 16%|█▋        | 33/200 [00:11<00:59,  2.82it/s]"
     ]
    },
    {
     "name": "stdout",
     "output_type": "stream",
     "text": [
      "Message: 111010110101000001010111010011010100010000100111\n",
      "Decoded: 101100110001110101000101001001011110001101001111\n",
      "Bit Accuracy: 0.5833333333333334\n",
      "Detection Result:  0\n",
      " *** Image : gaussian_noise_Image_218956.jpg ***\n",
      "Image id :  Image_218956.jpg\n"
     ]
    },
    {
     "name": "stderr",
     "output_type": "stream",
     "text": [
      " 17%|█▋        | 34/200 [00:11<00:57,  2.87it/s]"
     ]
    },
    {
     "name": "stdout",
     "output_type": "stream",
     "text": [
      "Message: 111010110101000001010111010011010100010000100111\n",
      "Decoded: 101100110001100111000101001011011110001101001111\n",
      "Bit Accuracy: 0.6041666666666666\n",
      "Detection Result:  0\n",
      " *** Image : gaussian_noise_Image_70868.jpg ***\n",
      "Image id :  Image_70868.jpg\n"
     ]
    },
    {
     "name": "stderr",
     "output_type": "stream",
     "text": [
      " 18%|█▊        | 35/200 [00:12<01:04,  2.57it/s]"
     ]
    },
    {
     "name": "stdout",
     "output_type": "stream",
     "text": [
      "Message: 111010110101000001010111010011010100010000100111\n",
      "Decoded: 101100110001100101000101001011011110001100001111\n",
      "Bit Accuracy: 0.6458333333333334\n",
      "Detection Result:  0\n",
      " *** Image : gaussian_noise_Image_486320.jpg ***\n",
      "Image id :  Image_486320.jpg\n"
     ]
    },
    {
     "name": "stderr",
     "output_type": "stream",
     "text": [
      " 18%|█▊        | 36/200 [00:12<01:05,  2.50it/s]"
     ]
    },
    {
     "name": "stdout",
     "output_type": "stream",
     "text": [
      "Message: 111010110101000001010111010011010100010000100111\n",
      "Decoded: 101100110001100101000101001010011110001101001111\n",
      "Bit Accuracy: 0.6041666666666666\n",
      "Detection Result:  0\n",
      " *** Image : gaussian_noise_Image_36633.jpg ***\n",
      "Image id :  Image_36633.jpg\n"
     ]
    },
    {
     "name": "stderr",
     "output_type": "stream",
     "text": [
      " 18%|█▊        | 37/200 [00:13<01:03,  2.56it/s]"
     ]
    },
    {
     "name": "stdout",
     "output_type": "stream",
     "text": [
      "Message: 111010110101000001010111010011010100010000100111\n",
      "Decoded: 101100110001100101000101001000010110001001001111\n",
      "Bit Accuracy: 0.625\n",
      "Detection Result:  0\n",
      " *** Image : gaussian_noise_Image_277854.jpg ***\n",
      "Image id :  Image_277854.jpg\n"
     ]
    },
    {
     "name": "stderr",
     "output_type": "stream",
     "text": [
      " 19%|█▉        | 38/200 [00:13<00:59,  2.74it/s]"
     ]
    },
    {
     "name": "stdout",
     "output_type": "stream",
     "text": [
      "Message: 111010110101000001010111010011010100010000100111\n",
      "Decoded: 101101110110000111001101101001010100001000001111\n",
      "Bit Accuracy: 0.6041666666666666\n",
      "Detection Result:  0\n",
      " *** Image : gaussian_noise_Image_270912.jpg ***\n",
      "Image id :  Image_270912.jpg\n"
     ]
    },
    {
     "name": "stderr",
     "output_type": "stream",
     "text": [
      " 20%|█▉        | 39/200 [00:13<00:54,  2.98it/s]"
     ]
    },
    {
     "name": "stdout",
     "output_type": "stream",
     "text": [
      "Message: 111010110101000001010111010011010100010000100111\n",
      "Decoded: 101101110101000110000001001011010100001101001111\n",
      "Bit Accuracy: 0.625\n",
      "Detection Result:  0\n",
      " *** Image : gaussian_noise_Image_57870.jpg ***\n",
      "Image id :  Image_57870.jpg\n"
     ]
    },
    {
     "name": "stderr",
     "output_type": "stream",
     "text": [
      " 20%|██        | 40/200 [00:13<00:52,  3.05it/s]"
     ]
    },
    {
     "name": "stdout",
     "output_type": "stream",
     "text": [
      "Message: 111010110101000001010111010011010100010000100111\n",
      "Decoded: 101000110001100101000101001011011110001101001111\n",
      "Bit Accuracy: 0.6458333333333334\n",
      "Detection Result:  0\n",
      " *** Image : gaussian_noise_Image_513541.jpg ***\n",
      "Image id :  Image_513541.jpg\n"
     ]
    },
    {
     "name": "stderr",
     "output_type": "stream",
     "text": [
      " 20%|██        | 41/200 [00:14<00:52,  3.05it/s]"
     ]
    },
    {
     "name": "stdout",
     "output_type": "stream",
     "text": [
      "Message: 111010110101000001010111010011010100010000100111\n",
      "Decoded: 101100110001100101000101001011011110001111001111\n",
      "Bit Accuracy: 0.6041666666666666\n",
      "Detection Result:  0\n",
      " *** Image : gaussian_noise_Image_334080.jpg ***\n",
      "Image id :  Image_334080.jpg\n"
     ]
    },
    {
     "name": "stderr",
     "output_type": "stream",
     "text": [
      " 21%|██        | 42/200 [00:14<00:58,  2.68it/s]"
     ]
    },
    {
     "name": "stdout",
     "output_type": "stream",
     "text": [
      "Message: 111010110101000001010111010011010100010000100111\n",
      "Decoded: 101000110001110111000101001011011110001101001111\n",
      "Bit Accuracy: 0.6041666666666666\n",
      "Detection Result:  0\n",
      " *** Image : gaussian_noise_Image_398494.jpg ***\n",
      "Image id :  Image_398494.jpg\n"
     ]
    },
    {
     "name": "stderr",
     "output_type": "stream",
     "text": [
      " 22%|██▏       | 43/200 [00:15<00:56,  2.76it/s]"
     ]
    },
    {
     "name": "stdout",
     "output_type": "stream",
     "text": [
      "Message: 111010110101000001010111010011010100010000100111\n",
      "Decoded: 101100110011111110000101001011011110001100001111\n",
      "Bit Accuracy: 0.5416666666666666\n",
      "Detection Result:  0\n",
      " *** Image : gaussian_noise_Image_469605.jpg ***\n",
      "Image id :  Image_469605.jpg\n"
     ]
    },
    {
     "name": "stderr",
     "output_type": "stream",
     "text": [
      " 22%|██▏       | 44/200 [00:15<00:56,  2.76it/s]"
     ]
    },
    {
     "name": "stdout",
     "output_type": "stream",
     "text": [
      "Message: 111010110101000001010111010011010100010000100111\n",
      "Decoded: 101100110111010110000001001011010110001110001111\n",
      "Bit Accuracy: 0.5833333333333334\n",
      "Detection Result:  0\n",
      " *** Image : gaussian_noise_Image_142088.jpg ***\n",
      "Image id :  Image_142088.jpg\n"
     ]
    },
    {
     "name": "stderr",
     "output_type": "stream",
     "text": [
      " 22%|██▎       | 45/200 [00:15<00:56,  2.73it/s]"
     ]
    },
    {
     "name": "stdout",
     "output_type": "stream",
     "text": [
      "Message: 111010110101000001010111010011010100010000100111\n",
      "Decoded: 101100110111010110000101001011010100001111011111\n",
      "Bit Accuracy: 0.5833333333333334\n",
      "Detection Result:  0\n",
      " *** Image : gaussian_noise_Image_122688.jpg ***\n",
      "Image id :  Image_122688.jpg\n"
     ]
    },
    {
     "name": "stderr",
     "output_type": "stream",
     "text": [
      " 23%|██▎       | 46/200 [00:16<00:54,  2.84it/s]"
     ]
    },
    {
     "name": "stdout",
     "output_type": "stream",
     "text": [
      "Message: 111010110101000001010111010011010100010000100111\n",
      "Decoded: 101101110001100101000101001001011110001001001111\n",
      "Bit Accuracy: 0.6041666666666666\n",
      "Detection Result:  0\n",
      " *** Image : gaussian_noise_Image_145179.jpg ***\n",
      "Image id :  Image_145179.jpg\n"
     ]
    },
    {
     "name": "stderr",
     "output_type": "stream",
     "text": [
      " 24%|██▎       | 47/200 [00:16<00:51,  2.96it/s]"
     ]
    },
    {
     "name": "stdout",
     "output_type": "stream",
     "text": [
      "Message: 111010110101000001010111010011010100010000100111\n",
      "Decoded: 101100110001100100000101001010011110001101001111\n",
      "Bit Accuracy: 0.5833333333333334\n",
      "Detection Result:  0\n",
      " *** Image : gaussian_noise_Image_388754.jpg ***\n",
      "Image id :  Image_388754.jpg\n"
     ]
    },
    {
     "name": "stderr",
     "output_type": "stream",
     "text": [
      " 24%|██▍       | 48/200 [00:16<00:49,  3.07it/s]"
     ]
    },
    {
     "name": "stdout",
     "output_type": "stream",
     "text": [
      "Message: 111010110101000001010111010011010100010000100111\n",
      "Decoded: 101100110001100101000101001000011110001101001111\n",
      "Bit Accuracy: 0.5833333333333334\n",
      "Detection Result:  0\n",
      " *** Image : gaussian_noise_Image_222016.jpg ***\n",
      "Image id :  Image_222016.jpg\n"
     ]
    },
    {
     "name": "stderr",
     "output_type": "stream",
     "text": [
      " 24%|██▍       | 49/200 [00:17<00:47,  3.21it/s]"
     ]
    },
    {
     "name": "stdout",
     "output_type": "stream",
     "text": [
      "Message: 111010110101000001010111010011010100010000100111\n",
      "Decoded: 101100110001010110000101001011010100001111001111\n",
      "Bit Accuracy: 0.6041666666666666\n",
      "Detection Result:  0\n",
      " *** Image : gaussian_noise_Image_409382.jpg ***\n",
      "Image id :  Image_409382.jpg\n"
     ]
    },
    {
     "name": "stderr",
     "output_type": "stream",
     "text": [
      " 25%|██▌       | 50/200 [00:17<00:46,  3.22it/s]"
     ]
    },
    {
     "name": "stdout",
     "output_type": "stream",
     "text": [
      "Message: 111010110101000001010111010011010100010000100111\n",
      "Decoded: 101100110011110111000101001011011110001100001111\n",
      "Bit Accuracy: 0.5833333333333334\n",
      "Detection Result:  0\n",
      " *** Image : gaussian_noise_Image_269829.jpg ***\n",
      "Image id :  Image_269829.jpg\n"
     ]
    },
    {
     "name": "stderr",
     "output_type": "stream",
     "text": [
      " 26%|██▌       | 51/200 [00:17<00:48,  3.04it/s]"
     ]
    },
    {
     "name": "stdout",
     "output_type": "stream",
     "text": [
      "Message: 111010110101000001010111010011010100010000100111\n",
      "Decoded: 101100110001100111000101001010010110001101001111\n",
      "Bit Accuracy: 0.6041666666666666\n",
      "Detection Result:  0\n",
      " *** Image : gaussian_noise_Image_157032.jpg ***\n",
      "Image id :  Image_157032.jpg\n"
     ]
    },
    {
     "name": "stderr",
     "output_type": "stream",
     "text": [
      " 26%|██▌       | 52/200 [00:18<00:50,  2.95it/s]"
     ]
    },
    {
     "name": "stdout",
     "output_type": "stream",
     "text": [
      "Message: 111010110101000001010111010011010100010000100111\n",
      "Decoded: 101100110001100101000101001001010110001101001111\n",
      "Bit Accuracy: 0.625\n",
      "Detection Result:  0\n",
      " *** Image : gaussian_noise_Image_44404.jpg ***\n",
      "Image id :  Image_44404.jpg\n"
     ]
    },
    {
     "name": "stderr",
     "output_type": "stream",
     "text": [
      " 26%|██▋       | 53/200 [00:18<00:51,  2.87it/s]"
     ]
    },
    {
     "name": "stdout",
     "output_type": "stream",
     "text": [
      "Message: 111010110101000001010111010011010100010000100111\n",
      "Decoded: 111100010001100101000101001010011110001101001111\n",
      "Bit Accuracy: 0.6041666666666666\n",
      "Detection Result:  0\n",
      " *** Image : gaussian_noise_Image_477797.jpg ***\n",
      "Image id :  Image_477797.jpg\n"
     ]
    },
    {
     "name": "stderr",
     "output_type": "stream",
     "text": [
      " 27%|██▋       | 54/200 [00:18<00:47,  3.10it/s]"
     ]
    },
    {
     "name": "stdout",
     "output_type": "stream",
     "text": [
      "Message: 111010110101000001010111010011010100010000100111\n",
      "Decoded: 101100110001110100000101001010011110001101001111\n",
      "Bit Accuracy: 0.5625\n",
      "Detection Result:  0\n",
      " *** Image : gaussian_noise_Image_446014.jpg ***\n",
      "Image id :  Image_446014.jpg\n"
     ]
    },
    {
     "name": "stderr",
     "output_type": "stream",
     "text": [
      " 28%|██▊       | 55/200 [00:19<00:46,  3.11it/s]"
     ]
    },
    {
     "name": "stdout",
     "output_type": "stream",
     "text": [
      "Message: 111010110101000001010111010011010100010000100111\n",
      "Decoded: 101000110001100101000101001010011110001101001111\n",
      "Bit Accuracy: 0.625\n",
      "Detection Result:  0\n",
      " *** Image : gaussian_noise_Image_445528.jpg ***\n",
      "Image id :  Image_445528.jpg\n"
     ]
    },
    {
     "name": "stderr",
     "output_type": "stream",
     "text": [
      " 28%|██▊       | 56/200 [00:19<00:41,  3.50it/s]"
     ]
    },
    {
     "name": "stdout",
     "output_type": "stream",
     "text": [
      "Message: 111010110101000001010111010011010100010000100111\n",
      "Decoded: 101000111111100110000101001001011100001101001111\n",
      "Bit Accuracy: 0.5833333333333334\n",
      "Detection Result:  0\n",
      " *** Image : gaussian_noise_Image_62604.jpg ***\n",
      "Image id :  Image_62604.jpg\n"
     ]
    },
    {
     "name": "stderr",
     "output_type": "stream",
     "text": [
      " 28%|██▊       | 57/200 [00:19<00:43,  3.30it/s]"
     ]
    },
    {
     "name": "stdout",
     "output_type": "stream",
     "text": [
      "Message: 111010110101000001010111010011010100010000100111\n",
      "Decoded: 101000110101110110000101001011011100001101001111\n",
      "Bit Accuracy: 0.625\n",
      "Detection Result:  0\n",
      " *** Image : gaussian_noise_Image_95989.jpg ***\n",
      "Image id :  Image_95989.jpg\n"
     ]
    },
    {
     "name": "stderr",
     "output_type": "stream",
     "text": [
      " 29%|██▉       | 58/200 [00:20<00:49,  2.85it/s]"
     ]
    },
    {
     "name": "stdout",
     "output_type": "stream",
     "text": [
      "Message: 111010110101000001010111010011010100010000100111\n",
      "Decoded: 101100110101100110000101001011010110001100001111\n",
      "Bit Accuracy: 0.6458333333333334\n",
      "Detection Result:  0\n",
      " *** Image : gaussian_noise_Image_351430.jpg ***\n",
      "Image id :  Image_351430.jpg\n"
     ]
    },
    {
     "name": "stderr",
     "output_type": "stream",
     "text": [
      " 30%|██▉       | 59/200 [00:20<00:49,  2.87it/s]"
     ]
    },
    {
     "name": "stdout",
     "output_type": "stream",
     "text": [
      "Message: 111010110101000001010111010011010100010000100111\n",
      "Decoded: 101100110011100110000101001011010110001100001111\n",
      "Bit Accuracy: 0.6041666666666666\n",
      "Detection Result:  0\n",
      " *** Image : gaussian_noise_Image_317237.jpg ***\n",
      "Image id :  Image_317237.jpg\n"
     ]
    },
    {
     "name": "stderr",
     "output_type": "stream",
     "text": [
      " 30%|███       | 60/200 [00:20<00:44,  3.17it/s]"
     ]
    },
    {
     "name": "stdout",
     "output_type": "stream",
     "text": [
      "Message: 111010110101000001010111010011010100010000100111\n",
      "Decoded: 101100110001100101000101001011011110001101001111\n",
      "Bit Accuracy: 0.625\n",
      "Detection Result:  0\n",
      " *** Image : gaussian_noise_Image_239811.jpg ***\n",
      "Image id :  Image_239811.jpg\n"
     ]
    },
    {
     "name": "stderr",
     "output_type": "stream",
     "text": [
      " 30%|███       | 61/200 [00:20<00:44,  3.14it/s]"
     ]
    },
    {
     "name": "stdout",
     "output_type": "stream",
     "text": [
      "Message: 111010110101000001010111010011010100010000100111\n",
      "Decoded: 101100110001100111000101001010010110001111001111\n",
      "Bit Accuracy: 0.5833333333333334\n",
      "Detection Result:  0\n",
      " *** Image : gaussian_noise_Image_209967.jpg ***\n",
      "Image id :  Image_209967.jpg\n"
     ]
    },
    {
     "name": "stderr",
     "output_type": "stream",
     "text": [
      " 31%|███       | 62/200 [00:21<00:43,  3.14it/s]"
     ]
    },
    {
     "name": "stdout",
     "output_type": "stream",
     "text": [
      "Message: 111010110101000001010111010011010100010000100111\n",
      "Decoded: 101100110001100101000101001000011110001101001111\n",
      "Bit Accuracy: 0.5833333333333334\n",
      "Detection Result:  0\n",
      " *** Image : gaussian_noise_Image_109424.jpg ***\n",
      "Image id :  Image_109424.jpg\n"
     ]
    },
    {
     "name": "stderr",
     "output_type": "stream",
     "text": [
      " 32%|███▏      | 63/200 [00:21<00:50,  2.71it/s]"
     ]
    },
    {
     "name": "stdout",
     "output_type": "stream",
     "text": [
      "Message: 111010110101000001010111010011010100010000100111\n",
      "Decoded: 001100110111110110000101001011011110001110001111\n",
      "Bit Accuracy: 0.5416666666666666\n",
      "Detection Result:  0\n",
      " *** Image : gaussian_noise_Image_90570.jpg ***\n",
      "Image id :  Image_90570.jpg\n"
     ]
    },
    {
     "name": "stderr",
     "output_type": "stream",
     "text": [
      " 32%|███▏      | 64/200 [00:22<00:51,  2.66it/s]"
     ]
    },
    {
     "name": "stdout",
     "output_type": "stream",
     "text": [
      "Message: 111010110101000001010111010011010100010000100111\n",
      "Decoded: 101100110001110111000101001011011110001101001111\n",
      "Bit Accuracy: 0.5833333333333334\n",
      "Detection Result:  0\n",
      " *** Image : gaussian_noise_Image_523617.jpg ***\n",
      "Image id :  Image_523617.jpg\n"
     ]
    },
    {
     "name": "stderr",
     "output_type": "stream",
     "text": [
      " 32%|███▎      | 65/200 [00:22<00:47,  2.84it/s]"
     ]
    },
    {
     "name": "stdout",
     "output_type": "stream",
     "text": [
      "Message: 111010110101000001010111010011010100010000100111\n",
      "Decoded: 101100110001100101000101101000011110001100001111\n",
      "Bit Accuracy: 0.5833333333333334\n",
      "Detection Result:  0\n",
      " *** Image : gaussian_noise_Image_344806.jpg ***\n",
      "Image id :  Image_344806.jpg\n"
     ]
    },
    {
     "name": "stderr",
     "output_type": "stream",
     "text": [
      " 33%|███▎      | 66/200 [00:22<00:44,  3.01it/s]"
     ]
    },
    {
     "name": "stdout",
     "output_type": "stream",
     "text": [
      "Message: 111010110101000001010111010011010100010000100111\n",
      "Decoded: 101100010001100101000101001010011110001001001111\n",
      "Bit Accuracy: 0.6041666666666666\n",
      "Detection Result:  0\n",
      " *** Image : gaussian_noise_Image_448698.jpg ***\n",
      "Image id :  Image_448698.jpg\n"
     ]
    },
    {
     "name": "stderr",
     "output_type": "stream",
     "text": [
      " 34%|███▎      | 67/200 [00:23<00:47,  2.79it/s]"
     ]
    },
    {
     "name": "stdout",
     "output_type": "stream",
     "text": [
      "Message: 111010110101000001010111010011010100010000100111\n",
      "Decoded: 001100111001011111000101001011010110001110001111\n",
      "Bit Accuracy: 0.5625\n",
      "Detection Result:  0\n",
      " *** Image : gaussian_noise_Image_95133.jpg ***\n",
      "Image id :  Image_95133.jpg\n"
     ]
    },
    {
     "name": "stderr",
     "output_type": "stream",
     "text": [
      " 34%|███▍      | 68/200 [00:23<00:44,  2.97it/s]"
     ]
    },
    {
     "name": "stdout",
     "output_type": "stream",
     "text": [
      "Message: 111010110101000001010111010011010100010000100111\n",
      "Decoded: 101100110001100101000101001010011110001101001111\n",
      "Bit Accuracy: 0.6041666666666666\n",
      "Detection Result:  0\n",
      " *** Image : gaussian_noise_Image_530683.jpg ***\n",
      "Image id :  Image_530683.jpg\n"
     ]
    },
    {
     "name": "stderr",
     "output_type": "stream",
     "text": [
      " 34%|███▍      | 69/200 [00:23<00:45,  2.87it/s]"
     ]
    },
    {
     "name": "stdout",
     "output_type": "stream",
     "text": [
      "Message: 111010110101000001010111010011010100010000100111\n",
      "Decoded: 001000110111111010000101001011010100001110001111\n",
      "Bit Accuracy: 0.6041666666666666\n",
      "Detection Result:  0\n",
      " *** Image : gaussian_noise_Image_186233.jpg ***\n",
      "Image id :  Image_186233.jpg\n"
     ]
    },
    {
     "name": "stderr",
     "output_type": "stream",
     "text": [
      " 35%|███▌      | 70/200 [00:24<00:43,  2.97it/s]"
     ]
    },
    {
     "name": "stdout",
     "output_type": "stream",
     "text": [
      "Message: 111010110101000001010111010011010100010000100111\n",
      "Decoded: 101100110001110101000101001010011110001100001111\n",
      "Bit Accuracy: 0.6041666666666666\n",
      "Detection Result:  0\n",
      " *** Image : gaussian_noise_Image_357684.jpg ***\n",
      "Image id :  Image_357684.jpg\n"
     ]
    },
    {
     "name": "stderr",
     "output_type": "stream",
     "text": [
      " 36%|███▌      | 71/200 [00:24<00:40,  3.16it/s]"
     ]
    },
    {
     "name": "stdout",
     "output_type": "stream",
     "text": [
      "Message: 111010110101000001010111010011010100010000100111\n",
      "Decoded: 101100110111101111000001001011011110001100001111\n",
      "Bit Accuracy: 0.5833333333333334\n",
      "Detection Result:  0\n",
      " *** Image : gaussian_noise_Image_267688.jpg ***\n",
      "Image id :  Image_267688.jpg\n"
     ]
    },
    {
     "name": "stderr",
     "output_type": "stream",
     "text": [
      " 36%|███▌      | 72/200 [00:24<00:39,  3.25it/s]"
     ]
    },
    {
     "name": "stdout",
     "output_type": "stream",
     "text": [
      "Message: 111010110101000001010111010011010100010000100111\n",
      "Decoded: 101101111111111110000001001111010100001110001111\n",
      "Bit Accuracy: 0.5\n",
      "Detection Result:  0\n",
      " *** Image : gaussian_noise_Image_384029.jpg ***\n",
      "Image id :  Image_384029.jpg\n"
     ]
    },
    {
     "name": "stderr",
     "output_type": "stream",
     "text": [
      " 36%|███▋      | 73/200 [00:24<00:35,  3.55it/s]"
     ]
    },
    {
     "name": "stdout",
     "output_type": "stream",
     "text": [
      "Message: 111010110101000001010111010011010100010000100111\n",
      "Decoded: 101100110001100100000101001010011100001101001111\n",
      "Bit Accuracy: 0.6041666666666666\n",
      "Detection Result:  0\n",
      " *** Image : gaussian_noise_Image_239728.jpg ***\n",
      "Image id :  Image_239728.jpg\n"
     ]
    },
    {
     "name": "stderr",
     "output_type": "stream",
     "text": [
      " 37%|███▋      | 74/200 [00:25<00:39,  3.23it/s]"
     ]
    },
    {
     "name": "stdout",
     "output_type": "stream",
     "text": [
      "Message: 111010110101000001010111010011010100010000100111\n",
      "Decoded: 101100110011010110000101001011010110001111001111\n",
      "Bit Accuracy: 0.5625\n",
      "Detection Result:  0\n",
      " *** Image : gaussian_noise_Image_496283.jpg ***\n",
      "Image id :  Image_496283.jpg\n"
     ]
    },
    {
     "name": "stderr",
     "output_type": "stream",
     "text": [
      " 38%|███▊      | 75/200 [00:25<00:39,  3.15it/s]"
     ]
    },
    {
     "name": "stdout",
     "output_type": "stream",
     "text": [
      "Message: 111010110101000001010111010011010100010000100111\n",
      "Decoded: 101100110001110111000101001010010110001001001111\n",
      "Bit Accuracy: 0.6041666666666666\n",
      "Detection Result:  0\n",
      " *** Image : gaussian_noise_Image_217306.jpg ***\n",
      "Image id :  Image_217306.jpg\n"
     ]
    },
    {
     "name": "stderr",
     "output_type": "stream",
     "text": [
      " 38%|███▊      | 76/200 [00:25<00:35,  3.45it/s]"
     ]
    },
    {
     "name": "stdout",
     "output_type": "stream",
     "text": [
      "Message: 111010110101000001010111010011010100010000100111\n",
      "Decoded: 101100110001100101000101001000010110001000001111\n",
      "Bit Accuracy: 0.6458333333333334\n",
      "Detection Result:  0\n",
      " *** Image : gaussian_noise_Image_236772.jpg ***\n",
      "Image id :  Image_236772.jpg\n"
     ]
    },
    {
     "name": "stderr",
     "output_type": "stream",
     "text": [
      " 38%|███▊      | 77/200 [00:26<00:38,  3.17it/s]"
     ]
    },
    {
     "name": "stdout",
     "output_type": "stream",
     "text": [
      "Message: 111010110101000001010111010011010100010000100111\n",
      "Decoded: 101100110001100101000101001010011110001101001111\n",
      "Bit Accuracy: 0.6041666666666666\n",
      "Detection Result:  0\n",
      " *** Image : gaussian_noise_Image_301778.jpg ***\n",
      "Image id :  Image_301778.jpg\n"
     ]
    },
    {
     "name": "stderr",
     "output_type": "stream",
     "text": [
      " 39%|███▉      | 78/200 [00:26<00:38,  3.17it/s]"
     ]
    },
    {
     "name": "stdout",
     "output_type": "stream",
     "text": [
      "Message: 111010110101000001010111010011010100010000100111\n",
      "Decoded: 101100110001100100000101001001011110001100001111\n",
      "Bit Accuracy: 0.6041666666666666\n",
      "Detection Result:  0\n",
      " *** Image : gaussian_noise_Image_497616.jpg ***\n",
      "Image id :  Image_497616.jpg\n"
     ]
    },
    {
     "name": "stderr",
     "output_type": "stream",
     "text": [
      " 40%|███▉      | 79/200 [00:26<00:41,  2.92it/s]"
     ]
    },
    {
     "name": "stdout",
     "output_type": "stream",
     "text": [
      "Message: 111010110101000001010111010011010100010000100111\n",
      "Decoded: 101100110001100101000101001000010110001001001111\n",
      "Bit Accuracy: 0.625\n",
      "Detection Result:  0\n",
      " *** Image : gaussian_noise_Image_472925.jpg ***\n",
      "Image id :  Image_472925.jpg\n"
     ]
    },
    {
     "name": "stderr",
     "output_type": "stream",
     "text": [
      " 40%|████      | 80/200 [00:27<00:38,  3.15it/s]"
     ]
    },
    {
     "name": "stdout",
     "output_type": "stream",
     "text": [
      "Message: 111010110101000001010111010011010100010000100111\n",
      "Decoded: 101100110001100110000101001011011110001100001111\n",
      "Bit Accuracy: 0.6041666666666666\n",
      "Detection Result:  0\n",
      " *** Image : gaussian_noise_Image_153674.jpg ***\n",
      "Image id :  Image_153674.jpg\n"
     ]
    },
    {
     "name": "stderr",
     "output_type": "stream",
     "text": [
      " 40%|████      | 81/200 [00:27<00:33,  3.54it/s]"
     ]
    },
    {
     "name": "stdout",
     "output_type": "stream",
     "text": [
      "Message: 111010110101000001010111010011010100010000100111\n",
      "Decoded: 101100110001100101000101001010010110001001001111\n",
      "Bit Accuracy: 0.6458333333333334\n",
      "Detection Result:  0\n",
      " *** Image : gaussian_noise_Image_546451.jpg ***\n",
      "Image id :  Image_546451.jpg\n"
     ]
    },
    {
     "name": "stderr",
     "output_type": "stream",
     "text": [
      " 41%|████      | 82/200 [00:27<00:32,  3.67it/s]"
     ]
    },
    {
     "name": "stdout",
     "output_type": "stream",
     "text": [
      "Message: 111010110101000001010111010011010100010000100111\n",
      "Decoded: 101100110001100101000101001000011110001101001111\n",
      "Bit Accuracy: 0.5833333333333334\n",
      "Detection Result:  0\n",
      " *** Image : gaussian_noise_Image_393493.jpg ***\n",
      "Image id :  Image_393493.jpg\n"
     ]
    },
    {
     "name": "stderr",
     "output_type": "stream",
     "text": [
      " 42%|████▏     | 83/200 [00:27<00:33,  3.47it/s]"
     ]
    },
    {
     "name": "stdout",
     "output_type": "stream",
     "text": [
      "Message: 111010110101000001010111010011010100010000100111\n",
      "Decoded: 101110110011111110000001001011010100001110101111\n",
      "Bit Accuracy: 0.5833333333333334\n",
      "Detection Result:  0\n",
      " *** Image : gaussian_noise_Image_547471.jpg ***\n",
      "Image id :  Image_547471.jpg\n"
     ]
    },
    {
     "name": "stderr",
     "output_type": "stream",
     "text": [
      " 42%|████▏     | 84/200 [00:28<00:34,  3.40it/s]"
     ]
    },
    {
     "name": "stdout",
     "output_type": "stream",
     "text": [
      "Message: 111010110101000001010111010011010100010000100111\n",
      "Decoded: 101100110101100101000101001010010110001000001111\n",
      "Bit Accuracy: 0.6875\n",
      "Detection Result:  0\n",
      " *** Image : gaussian_noise_Image_292835.jpg ***\n",
      "Image id :  Image_292835.jpg\n"
     ]
    },
    {
     "name": "stderr",
     "output_type": "stream",
     "text": [
      " 42%|████▎     | 85/200 [00:28<00:37,  3.04it/s]"
     ]
    },
    {
     "name": "stdout",
     "output_type": "stream",
     "text": [
      "Message: 111010110101000001010111010011010100010000100111\n",
      "Decoded: 101100110001100110000101001000011110001100001111\n",
      "Bit Accuracy: 0.5625\n",
      "Detection Result:  0\n",
      " *** Image : gaussian_noise_Image_444546.jpg ***\n",
      "Image id :  Image_444546.jpg\n"
     ]
    },
    {
     "name": "stderr",
     "output_type": "stream",
     "text": [
      " 43%|████▎     | 86/200 [00:29<00:39,  2.88it/s]"
     ]
    },
    {
     "name": "stdout",
     "output_type": "stream",
     "text": [
      "Message: 111010110101000001010111010011010100010000100111\n",
      "Decoded: 101100110011101110000101001011011110001100001111\n",
      "Bit Accuracy: 0.5625\n",
      "Detection Result:  0\n",
      " *** Image : gaussian_noise_Image_412198.jpg ***\n",
      "Image id :  Image_412198.jpg\n"
     ]
    },
    {
     "name": "stderr",
     "output_type": "stream",
     "text": [
      " 44%|████▎     | 87/200 [00:29<00:41,  2.75it/s]"
     ]
    },
    {
     "name": "stdout",
     "output_type": "stream",
     "text": [
      "Message: 111010110101000001010111010011010100010000100111\n",
      "Decoded: 101110100101100110000101001111011100001110101111\n",
      "Bit Accuracy: 0.625\n",
      "Detection Result:  0\n",
      " *** Image : gaussian_noise_Image_265709.jpg ***\n",
      "Image id :  Image_265709.jpg\n"
     ]
    },
    {
     "name": "stderr",
     "output_type": "stream",
     "text": [
      " 44%|████▍     | 88/200 [00:29<00:39,  2.84it/s]"
     ]
    },
    {
     "name": "stdout",
     "output_type": "stream",
     "text": [
      "Message: 111010110101000001010111010011010100010000100111\n",
      "Decoded: 101000110001110101000101001010011110001001001111\n",
      "Bit Accuracy: 0.625\n",
      "Detection Result:  0\n",
      " *** Image : gaussian_noise_Image_576801.jpg ***\n",
      "Image id :  Image_576801.jpg\n"
     ]
    },
    {
     "name": "stderr",
     "output_type": "stream",
     "text": [
      " 44%|████▍     | 89/200 [00:30<00:35,  3.13it/s]"
     ]
    },
    {
     "name": "stdout",
     "output_type": "stream",
     "text": [
      "Message: 111010110101000001010111010011010100010000100111\n",
      "Decoded: 101100110001110100000101001011011110001101001111\n",
      "Bit Accuracy: 0.5833333333333334\n",
      "Detection Result:  0\n",
      " *** Image : gaussian_noise_Image_540988.jpg ***\n",
      "Image id :  Image_540988.jpg\n"
     ]
    },
    {
     "name": "stderr",
     "output_type": "stream",
     "text": [
      " 45%|████▌     | 90/200 [00:30<00:34,  3.17it/s]"
     ]
    },
    {
     "name": "stdout",
     "output_type": "stream",
     "text": [
      "Message: 111010110101000001010111010011010100010000100111\n",
      "Decoded: 101100110001110100000101001111011110001111001111\n",
      "Bit Accuracy: 0.5416666666666666\n",
      "Detection Result:  0\n",
      " *** Image : gaussian_noise_Image_520950.jpg ***\n",
      "Image id :  Image_520950.jpg\n"
     ]
    },
    {
     "name": "stderr",
     "output_type": "stream",
     "text": [
      " 46%|████▌     | 91/200 [00:30<00:35,  3.07it/s]"
     ]
    },
    {
     "name": "stdout",
     "output_type": "stream",
     "text": [
      "Message: 111010110101000001010111010011010100010000100111\n",
      "Decoded: 101100110001110110000101001001011110001101001111\n",
      "Bit Accuracy: 0.5416666666666666\n",
      "Detection Result:  0\n",
      " *** Image : gaussian_noise_Image_287541.jpg ***\n",
      "Image id :  Image_287541.jpg\n"
     ]
    },
    {
     "name": "stderr",
     "output_type": "stream",
     "text": [
      " 46%|████▌     | 92/200 [00:31<00:39,  2.74it/s]"
     ]
    },
    {
     "name": "stdout",
     "output_type": "stream",
     "text": [
      "Message: 111010110101000001010111010011010100010000100111\n",
      "Decoded: 101100110001100101000101001011010110001100001111\n",
      "Bit Accuracy: 0.6666666666666666\n",
      "Detection Result:  0\n",
      " *** Image : gaussian_noise_Image_299411.jpg ***\n",
      "Image id :  Image_299411.jpg\n"
     ]
    },
    {
     "name": "stderr",
     "output_type": "stream",
     "text": [
      " 46%|████▋     | 93/200 [00:31<00:34,  3.11it/s]"
     ]
    },
    {
     "name": "stdout",
     "output_type": "stream",
     "text": [
      "Message: 111010110101000001010111010011010100010000100111\n",
      "Decoded: 101100110001100100001101001011011110001100001111\n",
      "Bit Accuracy: 0.6041666666666666\n",
      "Detection Result:  0\n",
      " *** Image : gaussian_noise_Image_108627.jpg ***\n",
      "Image id :  Image_108627.jpg\n"
     ]
    },
    {
     "name": "stderr",
     "output_type": "stream",
     "text": [
      " 47%|████▋     | 94/200 [00:31<00:36,  2.90it/s]"
     ]
    },
    {
     "name": "stdout",
     "output_type": "stream",
     "text": [
      "Message: 111010110101000001010111010011010100010000100111\n",
      "Decoded: 101100110001100111000101001011011110001101001111\n",
      "Bit Accuracy: 0.6041666666666666\n",
      "Detection Result:  0\n",
      " *** Image : gaussian_noise_Image_356702.jpg ***\n",
      "Image id :  Image_356702.jpg\n"
     ]
    },
    {
     "name": "stderr",
     "output_type": "stream",
     "text": [
      " 48%|████▊     | 95/200 [00:32<00:36,  2.85it/s]"
     ]
    },
    {
     "name": "stdout",
     "output_type": "stream",
     "text": [
      "Message: 111010110101000001010111010011010100010000100111\n",
      "Decoded: 101100110001100100000101001000011110001101001111\n",
      "Bit Accuracy: 0.5625\n",
      "Detection Result:  0\n",
      " *** Image : gaussian_noise_Image_560459.jpg ***\n",
      "Image id :  Image_560459.jpg\n"
     ]
    },
    {
     "name": "stderr",
     "output_type": "stream",
     "text": [
      " 48%|████▊     | 96/200 [00:32<00:34,  2.99it/s]"
     ]
    },
    {
     "name": "stdout",
     "output_type": "stream",
     "text": [
      "Message: 111010110101000001010111010011010100010000100111\n",
      "Decoded: 101100111011111110000001001111011110001111001111\n",
      "Bit Accuracy: 0.4375\n",
      "Detection Result:  0\n",
      " *** Image : gaussian_noise_Image_55627.jpg ***\n",
      "Image id :  Image_55627.jpg\n"
     ]
    },
    {
     "name": "stderr",
     "output_type": "stream",
     "text": [
      " 48%|████▊     | 97/200 [00:32<00:32,  3.18it/s]"
     ]
    },
    {
     "name": "stdout",
     "output_type": "stream",
     "text": [
      "Message: 111010110101000001010111010011010100010000100111\n",
      "Decoded: 101100010001100101000101001000011110001100001111\n",
      "Bit Accuracy: 0.5833333333333334\n",
      "Detection Result:  0\n",
      " *** Image : gaussian_noise_Image_462559.jpg ***\n",
      "Image id :  Image_462559.jpg\n"
     ]
    },
    {
     "name": "stderr",
     "output_type": "stream",
     "text": [
      " 49%|████▉     | 98/200 [00:33<00:31,  3.24it/s]"
     ]
    },
    {
     "name": "stdout",
     "output_type": "stream",
     "text": [
      "Message: 111010110101000001010111010011010100010000100111\n",
      "Decoded: 111100110001100110000101001010011110001101001111\n",
      "Bit Accuracy: 0.5833333333333334\n",
      "Detection Result:  0\n",
      " *** Image : gaussian_noise_Image_483751.jpg ***\n",
      "Image id :  Image_483751.jpg\n"
     ]
    },
    {
     "name": "stderr",
     "output_type": "stream",
     "text": [
      " 50%|████▉     | 99/200 [00:33<00:34,  2.92it/s]"
     ]
    },
    {
     "name": "stdout",
     "output_type": "stream",
     "text": [
      "Message: 111010110101000001010111010011010100010000100111\n",
      "Decoded: 101100110001110110000001001011011100001111001111\n",
      "Bit Accuracy: 0.5416666666666666\n",
      "Detection Result:  0\n",
      " *** Image : gaussian_noise_Image_96997.jpg ***\n",
      "Image id :  Image_96997.jpg\n"
     ]
    },
    {
     "name": "stderr",
     "output_type": "stream",
     "text": [
      " 50%|█████     | 100/200 [00:33<00:36,  2.70it/s]"
     ]
    },
    {
     "name": "stdout",
     "output_type": "stream",
     "text": [
      "Message: 111010110101000001010111010011010100010000100111\n",
      "Decoded: 001110101100010110010001001011010100001010101111\n",
      "Bit Accuracy: 0.625\n",
      "Detection Result:  0\n",
      " *** Image : gaussian_noise_Image_536587.jpg ***\n",
      "Image id :  Image_536587.jpg\n"
     ]
    },
    {
     "name": "stderr",
     "output_type": "stream",
     "text": [
      " 50%|█████     | 101/200 [00:34<00:41,  2.41it/s]"
     ]
    },
    {
     "name": "stdout",
     "output_type": "stream",
     "text": [
      "Message: 111010110101000001010111010011010100010000100111\n",
      "Decoded: 101100110001100101000101001000011110001101001111\n",
      "Bit Accuracy: 0.5833333333333334\n",
      "Detection Result:  0\n",
      " *** Image : gaussian_noise_Image_214704.jpg ***\n",
      "Image id :  Image_214704.jpg\n"
     ]
    },
    {
     "name": "stderr",
     "output_type": "stream",
     "text": [
      " 51%|█████     | 102/200 [00:34<00:37,  2.63it/s]"
     ]
    },
    {
     "name": "stdout",
     "output_type": "stream",
     "text": [
      "Message: 111010110101000001010111010011010100010000100111\n",
      "Decoded: 101100110001110111000101001001011110001101001111\n",
      "Bit Accuracy: 0.5625\n",
      "Detection Result:  0\n",
      " *** Image : gaussian_noise_Image_491269.jpg ***\n",
      "Image id :  Image_491269.jpg\n"
     ]
    },
    {
     "name": "stderr",
     "output_type": "stream",
     "text": [
      " 52%|█████▏    | 103/200 [00:34<00:33,  2.93it/s]"
     ]
    },
    {
     "name": "stdout",
     "output_type": "stream",
     "text": [
      "Message: 111010110101000001010111010011010100010000100111\n",
      "Decoded: 001100110111100111000001101011011110001000001111\n",
      "Bit Accuracy: 0.5833333333333334\n",
      "Detection Result:  0\n",
      " *** Image : gaussian_noise_Image_280980.jpg ***\n",
      "Image id :  Image_280980.jpg\n"
     ]
    },
    {
     "name": "stderr",
     "output_type": "stream",
     "text": [
      " 52%|█████▏    | 104/200 [00:35<00:32,  2.96it/s]"
     ]
    },
    {
     "name": "stdout",
     "output_type": "stream",
     "text": [
      "Message: 111010110101000001010111010011010100010000100111\n",
      "Decoded: 101100110001101100000101001011011110001101001111\n",
      "Bit Accuracy: 0.5833333333333334\n",
      "Detection Result:  0\n",
      " *** Image : gaussian_noise_Image_215481.jpg ***\n",
      "Image id :  Image_215481.jpg\n"
     ]
    },
    {
     "name": "stderr",
     "output_type": "stream",
     "text": [
      " 52%|█████▎    | 105/200 [00:35<00:33,  2.87it/s]"
     ]
    },
    {
     "name": "stdout",
     "output_type": "stream",
     "text": [
      "Message: 111010110101000001010111010011010100010000100111\n",
      "Decoded: 101100110001110110000001001011011110001111001111\n",
      "Bit Accuracy: 0.5208333333333334\n",
      "Detection Result:  0\n",
      " *** Image : gaussian_noise_Image_96557.jpg ***\n",
      "Image id :  Image_96557.jpg\n"
     ]
    },
    {
     "name": "stderr",
     "output_type": "stream",
     "text": [
      " 53%|█████▎    | 106/200 [00:36<00:36,  2.56it/s]"
     ]
    },
    {
     "name": "stdout",
     "output_type": "stream",
     "text": [
      "Message: 111010110101000001010111010011010100010000100111\n",
      "Decoded: 101000110111111111000001001011011110001111001111\n",
      "Bit Accuracy: 0.5416666666666666\n",
      "Detection Result:  0\n",
      " *** Image : gaussian_noise_Image_371029.jpg ***\n",
      "Image id :  Image_371029.jpg\n"
     ]
    },
    {
     "name": "stderr",
     "output_type": "stream",
     "text": [
      " 54%|█████▎    | 107/200 [00:36<00:37,  2.49it/s]"
     ]
    },
    {
     "name": "stdout",
     "output_type": "stream",
     "text": [
      "Message: 111010110101000001010111010011010100010000100111\n",
      "Decoded: 101101110001100100000101001011011110001101001111\n",
      "Bit Accuracy: 0.5833333333333334\n",
      "Detection Result:  0\n",
      " *** Image : gaussian_noise_Image_147170.jpg ***\n",
      "Image id :  Image_147170.jpg\n"
     ]
    },
    {
     "name": "stderr",
     "output_type": "stream",
     "text": [
      " 54%|█████▍    | 108/200 [00:36<00:36,  2.55it/s]"
     ]
    },
    {
     "name": "stdout",
     "output_type": "stream",
     "text": [
      "Message: 111010110101000001010111010011010100010000100111\n",
      "Decoded: 101100010001100101000101001000010110001100001111\n",
      "Bit Accuracy: 0.6041666666666666\n",
      "Detection Result:  0\n",
      " *** Image : gaussian_noise_Image_341550.jpg ***\n",
      "Image id :  Image_341550.jpg\n"
     ]
    },
    {
     "name": "stderr",
     "output_type": "stream",
     "text": [
      " 55%|█████▍    | 109/200 [00:37<00:33,  2.73it/s]"
     ]
    },
    {
     "name": "stdout",
     "output_type": "stream",
     "text": [
      "Message: 111010110101000001010111010011010100010000100111\n",
      "Decoded: 101100110001110100000101001011011110001001001111\n",
      "Bit Accuracy: 0.6041666666666666\n",
      "Detection Result:  0\n",
      " *** Image : gaussian_noise_Image_283524.jpg ***\n",
      "Image id :  Image_283524.jpg\n"
     ]
    },
    {
     "name": "stderr",
     "output_type": "stream",
     "text": [
      " 55%|█████▌    | 110/200 [00:37<00:33,  2.73it/s]"
     ]
    },
    {
     "name": "stdout",
     "output_type": "stream",
     "text": [
      "Message: 111010110101000001010111010011010100010000100111\n",
      "Decoded: 101100110001100100000101001010011110001100001111\n",
      "Bit Accuracy: 0.6041666666666666\n",
      "Detection Result:  0\n",
      " *** Image : gaussian_noise_Image_570246.jpg ***\n",
      "Image id :  Image_570246.jpg\n"
     ]
    },
    {
     "name": "stderr",
     "output_type": "stream",
     "text": [
      " 56%|█████▌    | 111/200 [00:37<00:32,  2.75it/s]"
     ]
    },
    {
     "name": "stdout",
     "output_type": "stream",
     "text": [
      "Message: 111010110101000001010111010011010100010000100111\n",
      "Decoded: 101100110001110100000101001111010110001101001111\n",
      "Bit Accuracy: 0.5833333333333334\n",
      "Detection Result:  0\n",
      " *** Image : gaussian_noise_Image_354444.jpg ***\n",
      "Image id :  Image_354444.jpg\n"
     ]
    },
    {
     "name": "stderr",
     "output_type": "stream",
     "text": [
      " 56%|█████▌    | 112/200 [00:38<00:30,  2.89it/s]"
     ]
    },
    {
     "name": "stdout",
     "output_type": "stream",
     "text": [
      "Message: 111010110101000001010111010011010100010000100111\n",
      "Decoded: 101100110011111111000101001011011110001101011111\n",
      "Bit Accuracy: 0.5208333333333334\n",
      "Detection Result:  0\n",
      " *** Image : gaussian_noise_Image_280260.jpg ***\n",
      "Image id :  Image_280260.jpg\n"
     ]
    },
    {
     "name": "stderr",
     "output_type": "stream",
     "text": [
      " 56%|█████▋    | 113/200 [00:38<00:26,  3.25it/s]"
     ]
    },
    {
     "name": "stdout",
     "output_type": "stream",
     "text": [
      "Message: 111010110101000001010111010011010100010000100111\n",
      "Decoded: 101100110001100110000101001011011100001000001111\n",
      "Bit Accuracy: 0.6458333333333334\n",
      "Detection Result:  0\n",
      " *** Image : gaussian_noise_Image_343322.jpg ***\n",
      "Image id :  Image_343322.jpg\n"
     ]
    },
    {
     "name": "stderr",
     "output_type": "stream",
     "text": [
      " 57%|█████▋    | 114/200 [00:38<00:24,  3.53it/s]"
     ]
    },
    {
     "name": "stdout",
     "output_type": "stream",
     "text": [
      "Message: 111010110101000001010111010011010100010000100111\n",
      "Decoded: 101100110101011110000001001111011110001110001111\n",
      "Bit Accuracy: 0.5416666666666666\n",
      "Detection Result:  0\n",
      " *** Image : gaussian_noise_Image_524068.jpg ***\n",
      "Image id :  Image_524068.jpg\n"
     ]
    },
    {
     "name": "stderr",
     "output_type": "stream",
     "text": [
      " 57%|█████▊    | 115/200 [00:39<00:25,  3.29it/s]"
     ]
    },
    {
     "name": "stdout",
     "output_type": "stream",
     "text": [
      "Message: 111010110101000001010111010011010100010000100111\n",
      "Decoded: 111100110001100100000101001001010110001111001111\n",
      "Bit Accuracy: 0.6041666666666666\n",
      "Detection Result:  0\n",
      " *** Image : gaussian_noise_Image_474882.jpg ***\n",
      "Image id :  Image_474882.jpg\n"
     ]
    },
    {
     "name": "stderr",
     "output_type": "stream",
     "text": [
      " 58%|█████▊    | 116/200 [00:39<00:24,  3.45it/s]"
     ]
    },
    {
     "name": "stdout",
     "output_type": "stream",
     "text": [
      "Message: 111010110101000001010111010011010100010000100111\n",
      "Decoded: 101100110001100101000101001001011110001101001111\n",
      "Bit Accuracy: 0.6041666666666666\n",
      "Detection Result:  0\n",
      " *** Image : gaussian_noise_Image_309093.jpg ***\n",
      "Image id :  Image_309093.jpg\n"
     ]
    },
    {
     "name": "stderr",
     "output_type": "stream",
     "text": [
      " 58%|█████▊    | 117/200 [00:39<00:27,  3.00it/s]"
     ]
    },
    {
     "name": "stdout",
     "output_type": "stream",
     "text": [
      "Message: 111010110101000001010111010011010100010000100111\n",
      "Decoded: 101100110001110110000101001111010110001100001111\n",
      "Bit Accuracy: 0.5833333333333334\n",
      "Detection Result:  0\n",
      " *** Image : gaussian_noise_Image_181104.jpg ***\n",
      "Image id :  Image_181104.jpg\n"
     ]
    },
    {
     "name": "stderr",
     "output_type": "stream",
     "text": [
      " 59%|█████▉    | 118/200 [00:40<00:27,  2.96it/s]"
     ]
    },
    {
     "name": "stdout",
     "output_type": "stream",
     "text": [
      "Message: 111010110101000001010111010011010100010000100111\n",
      "Decoded: 101100110001100101000101001000011110001000001111\n",
      "Bit Accuracy: 0.625\n",
      "Detection Result:  0\n",
      " *** Image : gaussian_noise_Image_70000.jpg ***\n",
      "Image id :  Image_70000.jpg\n"
     ]
    },
    {
     "name": "stderr",
     "output_type": "stream",
     "text": [
      " 60%|█████▉    | 119/200 [00:40<00:26,  3.04it/s]"
     ]
    },
    {
     "name": "stdout",
     "output_type": "stream",
     "text": [
      "Message: 111010110101000001010111010011010100010000100111\n",
      "Decoded: 101100110111101110000001001011011110001000001111\n",
      "Bit Accuracy: 0.5833333333333334\n",
      "Detection Result:  0\n",
      " *** Image : gaussian_noise_Image_388911.jpg ***\n",
      "Image id :  Image_388911.jpg\n"
     ]
    },
    {
     "name": "stderr",
     "output_type": "stream",
     "text": [
      " 60%|██████    | 120/200 [00:40<00:28,  2.82it/s]"
     ]
    },
    {
     "name": "stdout",
     "output_type": "stream",
     "text": [
      "Message: 111010110101000001010111010011010100010000100111\n",
      "Decoded: 111100110001100101000101001000011110001101001111\n",
      "Bit Accuracy: 0.6041666666666666\n",
      "Detection Result:  0\n",
      " *** Image : gaussian_noise_Image_165499.jpg ***\n",
      "Image id :  Image_165499.jpg\n"
     ]
    },
    {
     "name": "stderr",
     "output_type": "stream",
     "text": [
      " 60%|██████    | 121/200 [00:41<00:27,  2.82it/s]"
     ]
    },
    {
     "name": "stdout",
     "output_type": "stream",
     "text": [
      "Message: 111010110101000001010111010011010100010000100111\n",
      "Decoded: 111100110001100101000101001000011110001101001111\n",
      "Bit Accuracy: 0.6041666666666666\n",
      "Detection Result:  0\n",
      " *** Image : gaussian_noise_Image_49183.jpg ***\n",
      "Image id :  Image_49183.jpg\n"
     ]
    },
    {
     "name": "stderr",
     "output_type": "stream",
     "text": [
      " 61%|██████    | 122/200 [00:41<00:27,  2.86it/s]"
     ]
    },
    {
     "name": "stdout",
     "output_type": "stream",
     "text": [
      "Message: 111010110101000001010111010011010100010000100111\n",
      "Decoded: 101100110001100101000101001000011110001001001111\n",
      "Bit Accuracy: 0.6041666666666666\n",
      "Detection Result:  0\n",
      " *** Image : gaussian_noise_Image_64460.jpg ***\n",
      "Image id :  Image_64460.jpg\n"
     ]
    },
    {
     "name": "stderr",
     "output_type": "stream",
     "text": [
      " 62%|██████▏   | 123/200 [00:41<00:24,  3.19it/s]"
     ]
    },
    {
     "name": "stdout",
     "output_type": "stream",
     "text": [
      "Message: 111010110101000001010111010011010100010000100111\n",
      "Decoded: 101100110011110110000101001011010100001111001111\n",
      "Bit Accuracy: 0.5625\n",
      "Detection Result:  0\n",
      " *** Image : gaussian_noise_Image_122108.jpg ***\n",
      "Image id :  Image_122108.jpg\n"
     ]
    },
    {
     "name": "stderr",
     "output_type": "stream",
     "text": [
      " 62%|██████▏   | 124/200 [00:42<00:23,  3.29it/s]"
     ]
    },
    {
     "name": "stdout",
     "output_type": "stream",
     "text": [
      "Message: 111010110101000001010111010011010100010000100111\n",
      "Decoded: 111100110001010111000101001001011110001101001111\n",
      "Bit Accuracy: 0.6041666666666666\n",
      "Detection Result:  0\n",
      " *** Image : gaussian_noise_Image_525589.jpg ***\n",
      "Image id :  Image_525589.jpg\n"
     ]
    },
    {
     "name": "stderr",
     "output_type": "stream",
     "text": [
      " 63%|██████▎   | 126/200 [00:42<00:19,  3.78it/s]"
     ]
    },
    {
     "name": "stdout",
     "output_type": "stream",
     "text": [
      "Message: 111010110101000001010111010011010100010000100111\n",
      "Decoded: 101000110011111110000101001011010110001101001111\n",
      "Bit Accuracy: 0.5625\n",
      "Detection Result:  0\n",
      " *** Image : gaussian_noise_Image_85685.jpg ***\n",
      "Image id :  Image_85685.jpg\n",
      "Message: 111010110101000001010111010011010100010000100111\n",
      "Decoded: 101100111011010110000000001011011100001101001111\n",
      "Bit Accuracy: 0.5208333333333334\n",
      "Detection Result:  0\n",
      " *** Image : gaussian_noise_Image_520208.jpg ***\n",
      "Image id :  Image_520208.jpg\n"
     ]
    },
    {
     "name": "stderr",
     "output_type": "stream",
     "text": [
      " 64%|██████▎   | 127/200 [00:42<00:19,  3.76it/s]"
     ]
    },
    {
     "name": "stdout",
     "output_type": "stream",
     "text": [
      "Message: 111010110101000001010111010011010100010000100111\n",
      "Decoded: 101100110001100101000101001010011110001001001111\n",
      "Bit Accuracy: 0.625\n",
      "Detection Result:  0\n",
      " *** Image : gaussian_noise_Image_98760.jpg ***\n",
      "Image id :  Image_98760.jpg\n"
     ]
    },
    {
     "name": "stderr",
     "output_type": "stream",
     "text": [
      " 64%|██████▍   | 128/200 [00:43<00:20,  3.46it/s]"
     ]
    },
    {
     "name": "stdout",
     "output_type": "stream",
     "text": [
      "Message: 111010110101000001010111010011010100010000100111\n",
      "Decoded: 101100110001100100000101001011010110001101001111\n",
      "Bit Accuracy: 0.625\n",
      "Detection Result:  0\n",
      " *** Image : gaussian_noise_Image_313932.jpg ***\n",
      "Image id :  Image_313932.jpg\n"
     ]
    },
    {
     "name": "stderr",
     "output_type": "stream",
     "text": [
      " 64%|██████▍   | 129/200 [00:43<00:19,  3.68it/s]"
     ]
    },
    {
     "name": "stdout",
     "output_type": "stream",
     "text": [
      "Message: 111010110101000001010111010011010100010000100111\n",
      "Decoded: 101100010001100111000101001010010110001000001111\n",
      "Bit Accuracy: 0.625\n",
      "Detection Result:  0\n",
      " *** Image : gaussian_noise_Image_62426.jpg ***\n",
      "Image id :  Image_62426.jpg\n"
     ]
    },
    {
     "name": "stderr",
     "output_type": "stream",
     "text": [
      " 65%|██████▌   | 130/200 [00:43<00:17,  3.90it/s]"
     ]
    },
    {
     "name": "stdout",
     "output_type": "stream",
     "text": [
      "Message: 111010110101000001010111010011010100010000100111\n",
      "Decoded: 101100110001100100000101001010011110001101001111\n",
      "Bit Accuracy: 0.5833333333333334\n",
      "Detection Result:  0\n",
      " *** Image : gaussian_noise_Image_570608.jpg ***\n",
      "Image id :  Image_570608.jpg\n"
     ]
    },
    {
     "name": "stderr",
     "output_type": "stream",
     "text": [
      " 66%|██████▌   | 132/200 [00:44<00:16,  4.19it/s]"
     ]
    },
    {
     "name": "stdout",
     "output_type": "stream",
     "text": [
      "Message: 111010110101000001010111010011010100010000100111\n",
      "Decoded: 101100110001100101000101001011011110001100001111\n",
      "Bit Accuracy: 0.6458333333333334\n",
      "Detection Result:  0\n",
      " *** Image : gaussian_noise_Image_71631.jpg ***\n",
      "Image id :  Image_71631.jpg\n",
      "Message: 111010110101000001010111010011010100010000100111\n",
      "Decoded: 101100110001100110000101001011010110001100001111\n",
      "Bit Accuracy: 0.625\n",
      "Detection Result:  0\n",
      " *** Image : gaussian_noise_Image_556801.jpg ***\n",
      "Image id :  Image_556801.jpg\n"
     ]
    },
    {
     "name": "stderr",
     "output_type": "stream",
     "text": [
      " 66%|██████▋   | 133/200 [00:44<00:17,  3.77it/s]"
     ]
    },
    {
     "name": "stdout",
     "output_type": "stream",
     "text": [
      "Message: 111010110101000001010111010011010100010000100111\n",
      "Decoded: 101100110001100101000101001000011110001101001111\n",
      "Bit Accuracy: 0.5833333333333334\n",
      "Detection Result:  0\n",
      " *** Image : gaussian_noise_Image_412535.jpg ***\n",
      "Image id :  Image_412535.jpg\n"
     ]
    },
    {
     "name": "stderr",
     "output_type": "stream",
     "text": [
      " 67%|██████▋   | 134/200 [00:44<00:16,  3.89it/s]"
     ]
    },
    {
     "name": "stdout",
     "output_type": "stream",
     "text": [
      "Message: 111010110101000001010111010011010100010000100111\n",
      "Decoded: 101100110001100101000101001000010110001001001111\n",
      "Bit Accuracy: 0.625\n",
      "Detection Result:  0\n",
      " *** Image : gaussian_noise_Image_326511.jpg ***\n",
      "Image id :  Image_326511.jpg\n"
     ]
    },
    {
     "name": "stderr",
     "output_type": "stream",
     "text": [
      " 68%|██████▊   | 135/200 [00:44<00:16,  3.84it/s]"
     ]
    },
    {
     "name": "stdout",
     "output_type": "stream",
     "text": [
      "Message: 111010110101000001010111010011010100010000100111\n",
      "Decoded: 101100111011010110000101001011010110001111001111\n",
      "Bit Accuracy: 0.5416666666666666\n",
      "Detection Result:  0\n",
      " *** Image : gaussian_noise_Image_535786.jpg ***\n",
      "Image id :  Image_535786.jpg\n"
     ]
    },
    {
     "name": "stderr",
     "output_type": "stream",
     "text": [
      " 68%|██████▊   | 136/200 [00:45<00:16,  3.91it/s]"
     ]
    },
    {
     "name": "stdout",
     "output_type": "stream",
     "text": [
      "Message: 111010110101000001010111010011010100010000100111\n",
      "Decoded: 101100110001100101000101001000011110001101001111\n",
      "Bit Accuracy: 0.5833333333333334\n",
      "Detection Result:  0\n",
      " *** Image : gaussian_noise_Image_2024.jpg ***\n",
      "Image id :  Image_2024.jpg\n"
     ]
    },
    {
     "name": "stderr",
     "output_type": "stream",
     "text": [
      " 68%|██████▊   | 137/200 [00:45<00:15,  4.05it/s]"
     ]
    },
    {
     "name": "stdout",
     "output_type": "stream",
     "text": [
      "Message: 111010110101000001010111010011010100010000100111\n",
      "Decoded: 101100110001100101000101001000011110001101001111\n",
      "Bit Accuracy: 0.5833333333333334\n",
      "Detection Result:  0\n",
      " *** Image : gaussian_noise_Image_170558.jpg ***\n",
      "Image id :  Image_170558.jpg\n"
     ]
    },
    {
     "name": "stderr",
     "output_type": "stream",
     "text": [
      " 69%|██████▉   | 138/200 [00:45<00:16,  3.69it/s]"
     ]
    },
    {
     "name": "stdout",
     "output_type": "stream",
     "text": [
      "Message: 111010110101000001010111010011010100010000100111\n",
      "Decoded: 101100110001110101000101001001011110001100001111\n",
      "Bit Accuracy: 0.6041666666666666\n",
      "Detection Result:  0\n",
      " *** Image : gaussian_noise_Image_42493.jpg ***\n",
      "Image id :  Image_42493.jpg\n"
     ]
    },
    {
     "name": "stderr",
     "output_type": "stream",
     "text": [
      " 70%|██████▉   | 139/200 [00:45<00:17,  3.54it/s]"
     ]
    },
    {
     "name": "stdout",
     "output_type": "stream",
     "text": [
      "Message: 111010110101000001010111010011010100010000100111\n",
      "Decoded: 101100110011110111000101001011011100001101001111\n",
      "Bit Accuracy: 0.5833333333333334\n",
      "Detection Result:  0\n",
      " *** Image : gaussian_noise_Image_378710.jpg ***\n",
      "Image id :  Image_378710.jpg\n"
     ]
    },
    {
     "name": "stderr",
     "output_type": "stream",
     "text": [
      " 70%|███████   | 140/200 [00:46<00:15,  3.81it/s]"
     ]
    },
    {
     "name": "stdout",
     "output_type": "stream",
     "text": [
      "Message: 111010110101000001010111010011010100010000100111\n",
      "Decoded: 101100110001100101000101001000011110001101001111\n",
      "Bit Accuracy: 0.5833333333333334\n",
      "Detection Result:  0\n",
      " *** Image : gaussian_noise_Image_353139.jpg ***\n",
      "Image id :  Image_353139.jpg\n"
     ]
    },
    {
     "name": "stderr",
     "output_type": "stream",
     "text": [
      " 70%|███████   | 141/200 [00:46<00:15,  3.90it/s]"
     ]
    },
    {
     "name": "stdout",
     "output_type": "stream",
     "text": [
      "Message: 111010110101000001010111010011010100010000100111\n",
      "Decoded: 101100110001100100000101001010011110001101001111\n",
      "Bit Accuracy: 0.5833333333333334\n",
      "Detection Result:  0\n",
      " *** Image : gaussian_noise_Image_289019.jpg ***\n",
      "Image id :  Image_289019.jpg\n"
     ]
    },
    {
     "name": "stderr",
     "output_type": "stream",
     "text": [
      " 71%|███████   | 142/200 [00:46<00:16,  3.47it/s]"
     ]
    },
    {
     "name": "stdout",
     "output_type": "stream",
     "text": [
      "Message: 111010110101000001010111010011010100010000100111\n",
      "Decoded: 101101110001110111000101001011011110001101001111\n",
      "Bit Accuracy: 0.5625\n",
      "Detection Result:  0\n",
      " *** Image : gaussian_noise_Image_278347.jpg ***\n",
      "Image id :  Image_278347.jpg\n"
     ]
    },
    {
     "name": "stderr",
     "output_type": "stream",
     "text": [
      " 72%|███████▏  | 143/200 [00:47<00:17,  3.32it/s]"
     ]
    },
    {
     "name": "stdout",
     "output_type": "stream",
     "text": [
      "Message: 111010110101000001010111010011010100010000100111\n",
      "Decoded: 101100110011100101000001001011011100001101001111\n",
      "Bit Accuracy: 0.6041666666666666\n",
      "Detection Result:  0\n",
      " *** Image : gaussian_noise_Image_311914.jpg ***\n",
      "Image id :  Image_311914.jpg\n"
     ]
    },
    {
     "name": "stderr",
     "output_type": "stream",
     "text": [
      " 72%|███████▏  | 144/200 [00:47<00:15,  3.68it/s]"
     ]
    },
    {
     "name": "stdout",
     "output_type": "stream",
     "text": [
      "Message: 111010110101000001010111010011010100010000100111\n",
      "Decoded: 101100110001100101000101001010011110001101001111\n",
      "Bit Accuracy: 0.6041666666666666\n",
      "Detection Result:  0\n",
      " *** Image : gaussian_noise_Image_93785.jpg ***\n",
      "Image id :  Image_93785.jpg\n"
     ]
    },
    {
     "name": "stderr",
     "output_type": "stream",
     "text": [
      " 72%|███████▎  | 145/200 [00:47<00:15,  3.65it/s]"
     ]
    },
    {
     "name": "stdout",
     "output_type": "stream",
     "text": [
      "Message: 111010110101000001010111010011010100010000100111\n",
      "Decoded: 101100110001100101000101001000011110001001001111\n",
      "Bit Accuracy: 0.6041666666666666\n",
      "Detection Result:  0\n",
      " *** Image : gaussian_noise_Image_405207.jpg ***\n",
      "Image id :  Image_405207.jpg\n"
     ]
    },
    {
     "name": "stderr",
     "output_type": "stream",
     "text": [
      " 73%|███████▎  | 146/200 [00:47<00:15,  3.58it/s]"
     ]
    },
    {
     "name": "stdout",
     "output_type": "stream",
     "text": [
      "Message: 111010110101000001010111010011010100010000100111\n",
      "Decoded: 101100110001100100000101001011010110001101001111\n",
      "Bit Accuracy: 0.625\n",
      "Detection Result:  0\n",
      " *** Image : gaussian_noise_Image_457732.jpg ***\n",
      "Image id :  Image_457732.jpg\n"
     ]
    },
    {
     "name": "stderr",
     "output_type": "stream",
     "text": [
      " 74%|███████▎  | 147/200 [00:48<00:14,  3.75it/s]"
     ]
    },
    {
     "name": "stdout",
     "output_type": "stream",
     "text": [
      "Message: 111010110101000001010111010011010100010000100111\n",
      "Decoded: 101100110011100110000101001011010110001100001111\n",
      "Bit Accuracy: 0.6041666666666666\n",
      "Detection Result:  0\n",
      " *** Image : gaussian_noise_Image_168194.jpg ***\n",
      "Image id :  Image_168194.jpg\n"
     ]
    },
    {
     "name": "stderr",
     "output_type": "stream",
     "text": [
      " 74%|███████▍  | 149/200 [00:48<00:11,  4.33it/s]"
     ]
    },
    {
     "name": "stdout",
     "output_type": "stream",
     "text": [
      "Message: 111010110101000001010111010011010100010000100111\n",
      "Decoded: 101100110111100111000101001011010110001100001111\n",
      "Bit Accuracy: 0.6458333333333334\n",
      "Detection Result:  0\n",
      " *** Image : gaussian_noise_Image_394326.jpg ***\n",
      "Image id :  Image_394326.jpg\n",
      "Message: 111010110101000001010111010011010100010000100111\n",
      "Decoded: 101100110001100100000101001011010110001100001111\n",
      "Bit Accuracy: 0.6458333333333334\n",
      "Detection Result:  0\n",
      " *** Image : gaussian_noise_Image_454325.jpg ***\n",
      "Image id :  Image_454325.jpg\n"
     ]
    },
    {
     "name": "stderr",
     "output_type": "stream",
     "text": [
      " 75%|███████▌  | 150/200 [00:48<00:11,  4.19it/s]"
     ]
    },
    {
     "name": "stdout",
     "output_type": "stream",
     "text": [
      "Message: 111010110101000001010111010011010100010000100111\n",
      "Decoded: 101100010001100101000101001010011110001101001111\n",
      "Bit Accuracy: 0.5833333333333334\n",
      "Detection Result:  0\n",
      " *** Image : gaussian_noise_Image_241364.jpg ***\n",
      "Image id :  Image_241364.jpg\n"
     ]
    },
    {
     "name": "stderr",
     "output_type": "stream",
     "text": [
      " 76%|███████▌  | 151/200 [00:49<00:13,  3.73it/s]"
     ]
    },
    {
     "name": "stdout",
     "output_type": "stream",
     "text": [
      "Message: 111010110101000001010111010011010100010000100111\n",
      "Decoded: 101100110001100101000101001010011110001101001111\n",
      "Bit Accuracy: 0.6041666666666666\n",
      "Detection Result:  0\n",
      " *** Image : gaussian_noise_Image_309322.jpg ***\n",
      "Image id :  Image_309322.jpg\n"
     ]
    },
    {
     "name": "stderr",
     "output_type": "stream",
     "text": [
      " 76%|███████▌  | 152/200 [00:49<00:14,  3.24it/s]"
     ]
    },
    {
     "name": "stdout",
     "output_type": "stream",
     "text": [
      "Message: 111010110101000001010111010011010100010000100111\n",
      "Decoded: 111100110001101101000101001011011110001101001111\n",
      "Bit Accuracy: 0.625\n",
      "Detection Result:  0\n",
      " *** Image : gaussian_noise_Image_66514.jpg ***\n",
      "Image id :  Image_66514.jpg\n"
     ]
    },
    {
     "name": "stderr",
     "output_type": "stream",
     "text": [
      " 76%|███████▋  | 153/200 [00:49<00:13,  3.51it/s]"
     ]
    },
    {
     "name": "stdout",
     "output_type": "stream",
     "text": [
      "Message: 111010110101000001010111010011010100010000100111\n",
      "Decoded: 101000110001100101000101001010010110001101001111\n",
      "Bit Accuracy: 0.6458333333333334\n",
      "Detection Result:  0\n",
      " *** Image : gaussian_noise_Image_348850.jpg ***\n",
      "Image id :  Image_348850.jpg\n"
     ]
    },
    {
     "name": "stderr",
     "output_type": "stream",
     "text": [
      " 77%|███████▋  | 154/200 [00:50<00:14,  3.15it/s]"
     ]
    },
    {
     "name": "stdout",
     "output_type": "stream",
     "text": [
      "Message: 111010110101000001010111010011010100010000100111\n",
      "Decoded: 101100111011111111000101001011011110001101001111\n",
      "Bit Accuracy: 0.5208333333333334\n",
      "Detection Result:  0\n",
      " *** Image : gaussian_noise_Image_160559.jpg ***\n",
      "Image id :  Image_160559.jpg\n"
     ]
    },
    {
     "name": "stderr",
     "output_type": "stream",
     "text": [
      " 78%|███████▊  | 155/200 [00:50<00:15,  2.89it/s]"
     ]
    },
    {
     "name": "stdout",
     "output_type": "stream",
     "text": [
      "Message: 111010110101000001010111010011010100010000100111\n",
      "Decoded: 101100110011110111000001001011011110001101001111\n",
      "Bit Accuracy: 0.5416666666666666\n",
      "Detection Result:  0\n",
      " *** Image : gaussian_noise_Image_441488.jpg ***\n",
      "Image id :  Image_441488.jpg\n"
     ]
    },
    {
     "name": "stderr",
     "output_type": "stream",
     "text": [
      " 78%|███████▊  | 156/200 [00:50<00:14,  3.07it/s]"
     ]
    },
    {
     "name": "stdout",
     "output_type": "stream",
     "text": [
      "Message: 111010110101000001010111010011010100010000100111\n",
      "Decoded: 101100110101000110000101001011010110001101001111\n",
      "Bit Accuracy: 0.6458333333333334\n",
      "Detection Result:  0\n",
      " *** Image : gaussian_noise_Image_392136.jpg ***\n",
      "Image id :  Image_392136.jpg\n"
     ]
    },
    {
     "name": "stderr",
     "output_type": "stream",
     "text": [
      " 78%|███████▊  | 157/200 [00:51<00:13,  3.09it/s]"
     ]
    },
    {
     "name": "stdout",
     "output_type": "stream",
     "text": [
      "Message: 111010110101000001010111010011010100010000100111\n",
      "Decoded: 101101110111111110000101001011011110001101011111\n",
      "Bit Accuracy: 0.5\n",
      "Detection Result:  0\n",
      " *** Image : gaussian_noise_Image_223726.jpg ***\n",
      "Image id :  Image_223726.jpg\n"
     ]
    },
    {
     "name": "stderr",
     "output_type": "stream",
     "text": [
      " 79%|███████▉  | 158/200 [00:51<00:13,  3.13it/s]"
     ]
    },
    {
     "name": "stdout",
     "output_type": "stream",
     "text": [
      "Message: 111010110101000001010111010011010100010000100111\n",
      "Decoded: 101100110101100111000101101001010110001000001111\n",
      "Bit Accuracy: 0.6458333333333334\n",
      "Detection Result:  0\n",
      " *** Image : gaussian_noise_Image_170850.jpg ***\n",
      "Image id :  Image_170850.jpg\n"
     ]
    },
    {
     "name": "stderr",
     "output_type": "stream",
     "text": [
      " 80%|███████▉  | 159/200 [00:51<00:12,  3.22it/s]"
     ]
    },
    {
     "name": "stdout",
     "output_type": "stream",
     "text": [
      "Message: 111010110101000001010111010011010100010000100111\n",
      "Decoded: 101100111011110111000101001011011110001101001111\n",
      "Bit Accuracy: 0.5416666666666666\n",
      "Detection Result:  0\n",
      " *** Image : gaussian_noise_Image_318574.jpg ***\n",
      "Image id :  Image_318574.jpg\n"
     ]
    },
    {
     "name": "stderr",
     "output_type": "stream",
     "text": [
      " 80%|████████  | 160/200 [00:52<00:12,  3.32it/s]"
     ]
    },
    {
     "name": "stdout",
     "output_type": "stream",
     "text": [
      "Message: 111010110101000001010111010011010100010000100111\n",
      "Decoded: 101100110101100101000101001111011100001101001011\n",
      "Bit Accuracy: 0.625\n",
      "Detection Result:  0\n",
      " *** Image : gaussian_noise_Image_438422.jpg ***\n",
      "Image id :  Image_438422.jpg\n"
     ]
    },
    {
     "name": "stderr",
     "output_type": "stream",
     "text": [
      " 80%|████████  | 161/200 [00:52<00:11,  3.41it/s]"
     ]
    },
    {
     "name": "stdout",
     "output_type": "stream",
     "text": [
      "Message: 111010110101000001010111010011010100010000100111\n",
      "Decoded: 101100110001101101000101001011011110001111001111\n",
      "Bit Accuracy: 0.5833333333333334\n",
      "Detection Result:  0\n",
      " *** Image : gaussian_noise_Image_225750.jpg ***\n",
      "Image id :  Image_225750.jpg\n"
     ]
    },
    {
     "name": "stderr",
     "output_type": "stream",
     "text": [
      " 81%|████████  | 162/200 [00:52<00:11,  3.42it/s]"
     ]
    },
    {
     "name": "stdout",
     "output_type": "stream",
     "text": [
      "Message: 111010110101000001010111010011010100010000100111\n",
      "Decoded: 101100010001100111000101001001010110001000001111\n",
      "Bit Accuracy: 0.625\n",
      "Detection Result:  0\n",
      " *** Image : gaussian_noise_Image_483008.jpg ***\n",
      "Image id :  Image_483008.jpg\n"
     ]
    },
    {
     "name": "stderr",
     "output_type": "stream",
     "text": [
      " 82%|████████▏ | 163/200 [00:52<00:11,  3.25it/s]"
     ]
    },
    {
     "name": "stdout",
     "output_type": "stream",
     "text": [
      "Message: 111010110101000001010111010011010100010000100111\n",
      "Decoded: 101100110001100111000101001011011110001101001111\n",
      "Bit Accuracy: 0.6041666666666666\n",
      "Detection Result:  0\n",
      " *** Image : gaussian_noise_Image_150867.jpg ***\n",
      "Image id :  Image_150867.jpg\n"
     ]
    },
    {
     "name": "stderr",
     "output_type": "stream",
     "text": [
      " 82%|████████▏ | 164/200 [00:53<00:11,  3.26it/s]"
     ]
    },
    {
     "name": "stdout",
     "output_type": "stream",
     "text": [
      "Message: 111010110101000001010111010011010100010000100111\n",
      "Decoded: 101000110001100111000101001011011110001111001111\n",
      "Bit Accuracy: 0.6041666666666666\n",
      "Detection Result:  0\n",
      " *** Image : gaussian_noise_Image_213546.jpg ***\n",
      "Image id :  Image_213546.jpg\n"
     ]
    },
    {
     "name": "stderr",
     "output_type": "stream",
     "text": [
      " 83%|████████▎ | 166/200 [00:53<00:09,  3.51it/s]"
     ]
    },
    {
     "name": "stdout",
     "output_type": "stream",
     "text": [
      "Message: 111010110101000001010111010011010100010000100111\n",
      "Decoded: 101100110001100100000101001010011110001101001111\n",
      "Bit Accuracy: 0.5833333333333334\n",
      "Detection Result:  0\n",
      " *** Image : gaussian_noise_Image_345781.jpg ***\n",
      "Image id :  Image_345781.jpg\n",
      "Message: 111010110101000001010111010011010100010000100111\n",
      "Decoded: 101100110011110110000001001111011110001101001111\n",
      "Bit Accuracy: 0.5\n",
      "Detection Result:  0\n",
      " *** Image : gaussian_noise_Image_136461.jpg ***\n",
      "Image id :  Image_136461.jpg\n"
     ]
    },
    {
     "name": "stderr",
     "output_type": "stream",
     "text": [
      " 84%|████████▎ | 167/200 [00:54<00:10,  3.19it/s]"
     ]
    },
    {
     "name": "stdout",
     "output_type": "stream",
     "text": [
      "Message: 111010110101000001010111010011010100010000100111\n",
      "Decoded: 101101110001110111000101001011011110001111001111\n",
      "Bit Accuracy: 0.5416666666666666\n",
      "Detection Result:  0\n",
      " *** Image : gaussian_noise_Image_303291.jpg ***\n",
      "Image id :  Image_303291.jpg\n"
     ]
    },
    {
     "name": "stderr",
     "output_type": "stream",
     "text": [
      " 84%|████████▍ | 168/200 [00:54<00:11,  2.89it/s]"
     ]
    },
    {
     "name": "stdout",
     "output_type": "stream",
     "text": [
      "Message: 111010110101000001010111010011010100010000100111\n",
      "Decoded: 111100110001110101000101001000011110001101001111\n",
      "Bit Accuracy: 0.5833333333333334\n",
      "Detection Result:  0\n",
      " *** Image : gaussian_noise_Image_161919.jpg ***\n",
      "Image id :  Image_161919.jpg\n"
     ]
    },
    {
     "name": "stderr",
     "output_type": "stream",
     "text": [
      " 84%|████████▍ | 169/200 [00:54<00:10,  2.86it/s]"
     ]
    },
    {
     "name": "stdout",
     "output_type": "stream",
     "text": [
      "Message: 111010110101000001010111010011010100010000100111\n",
      "Decoded: 111100110001100111000101001011011110001101001111\n",
      "Bit Accuracy: 0.625\n",
      "Detection Result:  0\n",
      " *** Image : gaussian_noise_Image_179620.jpg ***\n",
      "Image id :  Image_179620.jpg\n"
     ]
    },
    {
     "name": "stderr",
     "output_type": "stream",
     "text": [
      " 85%|████████▌ | 170/200 [00:55<00:09,  3.13it/s]"
     ]
    },
    {
     "name": "stdout",
     "output_type": "stream",
     "text": [
      "Message: 111010110101000001010111010011010100010000100111\n",
      "Decoded: 101100010001100101000101001000010110001101001111\n",
      "Bit Accuracy: 0.5833333333333334\n",
      "Detection Result:  0\n",
      " *** Image : gaussian_noise_Image_405613.jpg ***\n",
      "Image id :  Image_405613.jpg\n"
     ]
    },
    {
     "name": "stderr",
     "output_type": "stream",
     "text": [
      " 86%|████████▌ | 171/200 [00:55<00:10,  2.80it/s]"
     ]
    },
    {
     "name": "stdout",
     "output_type": "stream",
     "text": [
      "Message: 111010110101000001010111010011010100010000100111\n",
      "Decoded: 111100110001100100000101001010011110001101001111\n",
      "Bit Accuracy: 0.6041666666666666\n",
      "Detection Result:  0\n",
      " *** Image : gaussian_noise_Image_210932.jpg ***\n",
      "Image id :  Image_210932.jpg\n"
     ]
    },
    {
     "name": "stderr",
     "output_type": "stream",
     "text": [
      " 86%|████████▋ | 173/200 [00:56<00:08,  3.17it/s]"
     ]
    },
    {
     "name": "stdout",
     "output_type": "stream",
     "text": [
      "Message: 111010110101000001010111010011010100010000100111\n",
      "Decoded: 101100110001100111000101001001011110001101001111\n",
      "Bit Accuracy: 0.5833333333333334\n",
      "Detection Result:  0\n",
      " *** Image : gaussian_noise_Image_399956.jpg ***\n",
      "Image id :  Image_399956.jpg\n",
      "Message: 111010110101000001010111010011010100010000100111\n",
      "Decoded: 101100110101000110000100001011010100001110011111\n",
      "Bit Accuracy: 0.625\n",
      "Detection Result:  0\n",
      " *** Image : gaussian_noise_Image_212091.jpg ***\n",
      "Image id :  Image_212091.jpg\n"
     ]
    },
    {
     "name": "stderr",
     "output_type": "stream",
     "text": [
      " 87%|████████▋ | 174/200 [00:56<00:08,  3.08it/s]"
     ]
    },
    {
     "name": "stdout",
     "output_type": "stream",
     "text": [
      "Message: 111010110101000001010111010011010100010000100111\n",
      "Decoded: 101100110011110111000101001000011110001101001111\n",
      "Bit Accuracy: 0.5208333333333334\n",
      "Detection Result:  0\n",
      " *** Image : gaussian_noise_Image_470072.jpg ***\n",
      "Image id :  Image_470072.jpg\n"
     ]
    },
    {
     "name": "stderr",
     "output_type": "stream",
     "text": [
      " 88%|████████▊ | 175/200 [00:57<00:08,  2.79it/s]"
     ]
    },
    {
     "name": "stdout",
     "output_type": "stream",
     "text": [
      "Message: 111010110101000001010111010011010100010000100111\n",
      "Decoded: 101100110001100111000001001011010110001101001111\n",
      "Bit Accuracy: 0.6041666666666666\n",
      "Detection Result:  0\n",
      " *** Image : gaussian_noise_Image_219025.jpg ***\n",
      "Image id :  Image_219025.jpg\n"
     ]
    },
    {
     "name": "stderr",
     "output_type": "stream",
     "text": [
      " 88%|████████▊ | 176/200 [00:57<00:08,  2.88it/s]"
     ]
    },
    {
     "name": "stdout",
     "output_type": "stream",
     "text": [
      "Message: 111010110101000001010111010011010100010000100111\n",
      "Decoded: 101101110001110100000101001011011110001101001111\n",
      "Bit Accuracy: 0.5625\n",
      "Detection Result:  0\n",
      " *** Image : gaussian_noise_Image_199628.jpg ***\n",
      "Image id :  Image_199628.jpg\n"
     ]
    },
    {
     "name": "stderr",
     "output_type": "stream",
     "text": [
      " 89%|████████▉ | 178/200 [00:57<00:06,  3.24it/s]"
     ]
    },
    {
     "name": "stdout",
     "output_type": "stream",
     "text": [
      "Message: 111010110101000001010111010011010100010000100111\n",
      "Decoded: 101000110001100110000101001010011110001101001111\n",
      "Bit Accuracy: 0.5833333333333334\n",
      "Detection Result:  0\n",
      " *** Image : gaussian_noise_Image_18885.jpg ***\n",
      "Image id :  Image_18885.jpg\n",
      "Message: 111010110101000001010111010011010100010000100111\n",
      "Decoded: 101100110101010111000101001011010110001110101111\n",
      "Bit Accuracy: 0.6666666666666666\n",
      "Detection Result:  0\n",
      " *** Image : gaussian_noise_Image_262845.jpg ***\n",
      "Image id :  Image_262845.jpg\n"
     ]
    },
    {
     "name": "stderr",
     "output_type": "stream",
     "text": [
      " 90%|████████▉ | 179/200 [00:58<00:06,  3.35it/s]"
     ]
    },
    {
     "name": "stdout",
     "output_type": "stream",
     "text": [
      "Message: 111010110101000001010111010011010100010000100111\n",
      "Decoded: 101100010001100101000101001000011110001000001111\n",
      "Bit Accuracy: 0.6041666666666666\n",
      "Detection Result:  0\n",
      " *** Image : gaussian_noise_Image_528906.jpg ***\n",
      "Image id :  Image_528906.jpg\n"
     ]
    },
    {
     "name": "stderr",
     "output_type": "stream",
     "text": [
      " 90%|█████████ | 180/200 [00:58<00:05,  3.42it/s]"
     ]
    },
    {
     "name": "stdout",
     "output_type": "stream",
     "text": [
      "Message: 111010110101000001010111010011010100010000100111\n",
      "Decoded: 001111110000010110000001001001011110001100001111\n",
      "Bit Accuracy: 0.5208333333333334\n",
      "Detection Result:  0\n",
      " *** Image : gaussian_noise_Image_8649.jpg ***\n",
      "Image id :  Image_8649.jpg\n"
     ]
    },
    {
     "name": "stderr",
     "output_type": "stream",
     "text": [
      " 90%|█████████ | 181/200 [00:58<00:05,  3.58it/s]"
     ]
    },
    {
     "name": "stdout",
     "output_type": "stream",
     "text": [
      "Message: 111010110101000001010111010011010100010000100111\n",
      "Decoded: 101100110001010110000101001010010110001000001111\n",
      "Bit Accuracy: 0.625\n",
      "Detection Result:  0\n",
      " *** Image : gaussian_noise_Image_257350.jpg ***\n",
      "Image id :  Image_257350.jpg\n"
     ]
    },
    {
     "name": "stderr",
     "output_type": "stream",
     "text": [
      " 91%|█████████ | 182/200 [00:59<00:05,  3.48it/s]"
     ]
    },
    {
     "name": "stdout",
     "output_type": "stream",
     "text": [
      "Message: 111010110101000001010111010011010100010000100111\n",
      "Decoded: 101100110001110100000101001011010110001100001111\n",
      "Bit Accuracy: 0.625\n",
      "Detection Result:  0\n",
      " *** Image : gaussian_noise_Image_316676.jpg ***\n",
      "Image id :  Image_316676.jpg\n"
     ]
    },
    {
     "name": "stderr",
     "output_type": "stream",
     "text": [
      " 92%|█████████▏| 183/200 [00:59<00:04,  3.62it/s]"
     ]
    },
    {
     "name": "stdout",
     "output_type": "stream",
     "text": [
      "Message: 111010110101000001010111010011010100010000100111\n",
      "Decoded: 101100110001101111000101001011010110001100001111\n",
      "Bit Accuracy: 0.625\n",
      "Detection Result:  0\n",
      " *** Image : gaussian_noise_Image_37015.jpg ***\n",
      "Image id :  Image_37015.jpg\n"
     ]
    },
    {
     "name": "stderr",
     "output_type": "stream",
     "text": [
      " 92%|█████████▏| 184/200 [00:59<00:04,  3.40it/s]"
     ]
    },
    {
     "name": "stdout",
     "output_type": "stream",
     "text": [
      "Message: 111010110101000001010111010011010100010000100111\n",
      "Decoded: 101100110001100100000101001011010100001101001111\n",
      "Bit Accuracy: 0.6458333333333334\n",
      "Detection Result:  0\n",
      " *** Image : gaussian_noise_Image_374114.jpg ***\n",
      "Image id :  Image_374114.jpg\n"
     ]
    },
    {
     "name": "stderr",
     "output_type": "stream",
     "text": [
      " 92%|█████████▎| 185/200 [00:59<00:04,  3.46it/s]"
     ]
    },
    {
     "name": "stdout",
     "output_type": "stream",
     "text": [
      "Message: 111010110101000001010111010011010100010000100111\n",
      "Decoded: 101100110001110110000101001011011110001001001111\n",
      "Bit Accuracy: 0.5833333333333334\n",
      "Detection Result:  0\n",
      " *** Image : gaussian_noise_Image_387083.jpg ***\n",
      "Image id :  Image_387083.jpg\n"
     ]
    },
    {
     "name": "stderr",
     "output_type": "stream",
     "text": [
      " 93%|█████████▎| 186/200 [01:00<00:04,  3.43it/s]"
     ]
    },
    {
     "name": "stdout",
     "output_type": "stream",
     "text": [
      "Message: 111010110101000001010111010011010100010000100111\n",
      "Decoded: 111100110001100111000101001000011110001101001111\n",
      "Bit Accuracy: 0.5833333333333334\n",
      "Detection Result:  0\n",
      " *** Image : gaussian_noise_Image_377694.jpg ***\n",
      "Image id :  Image_377694.jpg\n"
     ]
    },
    {
     "name": "stderr",
     "output_type": "stream",
     "text": [
      " 94%|█████████▎| 187/200 [01:00<00:03,  3.54it/s]"
     ]
    },
    {
     "name": "stdout",
     "output_type": "stream",
     "text": [
      "Message: 111010110101000001010111010011010100010000100111\n",
      "Decoded: 101110110100010110000001001011011100001110001111\n",
      "Bit Accuracy: 0.6041666666666666\n",
      "Detection Result:  0\n",
      " *** Image : gaussian_noise_Image_365363.jpg ***\n",
      "Image id :  Image_365363.jpg\n"
     ]
    },
    {
     "name": "stderr",
     "output_type": "stream",
     "text": [
      " 94%|█████████▍| 188/200 [01:00<00:03,  3.33it/s]"
     ]
    },
    {
     "name": "stdout",
     "output_type": "stream",
     "text": [
      "Message: 111010110101000001010111010011010100010000100111\n",
      "Decoded: 101100110001100101000101001000011110001101001111\n",
      "Bit Accuracy: 0.5833333333333334\n",
      "Detection Result:  0\n",
      " *** Image : gaussian_noise_Image_505126.jpg ***\n",
      "Image id :  Image_505126.jpg\n"
     ]
    },
    {
     "name": "stderr",
     "output_type": "stream",
     "text": [
      " 94%|█████████▍| 189/200 [01:01<00:03,  3.16it/s]"
     ]
    },
    {
     "name": "stdout",
     "output_type": "stream",
     "text": [
      "Message: 111010110101000001010111010011010100010000100111\n",
      "Decoded: 101100110001110100000101001011011110001101001111\n",
      "Bit Accuracy: 0.5833333333333334\n",
      "Detection Result:  0\n",
      " *** Image : gaussian_noise_Image_79481.jpg ***\n",
      "Image id :  Image_79481.jpg\n"
     ]
    },
    {
     "name": "stderr",
     "output_type": "stream",
     "text": [
      " 96%|█████████▌| 191/200 [01:01<00:02,  3.85it/s]"
     ]
    },
    {
     "name": "stdout",
     "output_type": "stream",
     "text": [
      "Message: 111010110101000001010111010011010100010000100111\n",
      "Decoded: 101100110101111110000101001011010110001101001111\n",
      "Bit Accuracy: 0.5833333333333334\n",
      "Detection Result:  0\n",
      " *** Image : gaussian_noise_Image_84427.jpg ***\n",
      "Image id :  Image_84427.jpg\n",
      "Message: 111010110101000001010111010011010100010000100111\n",
      "Decoded: 001100010001100110000101001011010100001000001111\n",
      "Bit Accuracy: 0.625\n",
      "Detection Result:  0\n",
      " *** Image : gaussian_noise_Image_101418.jpg ***\n",
      "Image id :  Image_101418.jpg\n"
     ]
    },
    {
     "name": "stderr",
     "output_type": "stream",
     "text": [
      " 96%|█████████▌| 192/200 [01:01<00:02,  3.97it/s]"
     ]
    },
    {
     "name": "stdout",
     "output_type": "stream",
     "text": [
      "Message: 111010110101000001010111010011010100010000100111\n",
      "Decoded: 101100111111010111000101001011011100001111001111\n",
      "Bit Accuracy: 0.5833333333333334\n",
      "Detection Result:  0\n",
      " *** Image : gaussian_noise_Image_167613.jpg ***\n",
      "Image id :  Image_167613.jpg\n"
     ]
    },
    {
     "name": "stderr",
     "output_type": "stream",
     "text": [
      " 96%|█████████▋| 193/200 [01:02<00:01,  3.74it/s]"
     ]
    },
    {
     "name": "stdout",
     "output_type": "stream",
     "text": [
      "Message: 111010110101000001010111010011010100010000100111\n",
      "Decoded: 011100100100011011010001001011110100001000101111\n",
      "Bit Accuracy: 0.6666666666666666\n",
      "Detection Result:  0\n",
      " *** Image : gaussian_noise_Image_409513.jpg ***\n",
      "Image id :  Image_409513.jpg\n"
     ]
    },
    {
     "name": "stderr",
     "output_type": "stream",
     "text": [
      " 97%|█████████▋| 194/200 [01:02<00:01,  3.78it/s]"
     ]
    },
    {
     "name": "stdout",
     "output_type": "stream",
     "text": [
      "Message: 111010110101000001010111010011010100010000100111\n",
      "Decoded: 101000110101010111000101001010011110001101001111\n",
      "Bit Accuracy: 0.625\n",
      "Detection Result:  0\n",
      " *** Image : gaussian_noise_Image_246804.jpg ***\n",
      "Image id :  Image_246804.jpg\n"
     ]
    },
    {
     "name": "stderr",
     "output_type": "stream",
     "text": [
      " 98%|█████████▊| 195/200 [01:02<00:01,  3.64it/s]"
     ]
    },
    {
     "name": "stdout",
     "output_type": "stream",
     "text": [
      "Message: 111010110101000001010111010011010100010000100111\n",
      "Decoded: 101100110001100101000101001000011110001101001111\n",
      "Bit Accuracy: 0.5833333333333334\n",
      "Detection Result:  0\n",
      " *** Image : gaussian_noise_Image_492386.jpg ***\n",
      "Image id :  Image_492386.jpg\n"
     ]
    },
    {
     "name": "stderr",
     "output_type": "stream",
     "text": [
      " 98%|█████████▊| 196/200 [01:02<00:01,  3.69it/s]"
     ]
    },
    {
     "name": "stdout",
     "output_type": "stream",
     "text": [
      "Message: 111010110101000001010111010011010100010000100111\n",
      "Decoded: 101100110001100100000101001001011110001110001111\n",
      "Bit Accuracy: 0.5833333333333334\n",
      "Detection Result:  0\n",
      " *** Image : gaussian_noise_Image_302389.jpg ***\n",
      "Image id :  Image_302389.jpg\n"
     ]
    },
    {
     "name": "stderr",
     "output_type": "stream",
     "text": [
      " 98%|█████████▊| 197/200 [01:03<00:00,  3.89it/s]"
     ]
    },
    {
     "name": "stdout",
     "output_type": "stream",
     "text": [
      "Message: 111010110101000001010111010011010100010000100111\n",
      "Decoded: 101100110001100111000101001011011110001101001111\n",
      "Bit Accuracy: 0.6041666666666666\n",
      "Detection Result:  0\n",
      " *** Image : gaussian_noise_Image_155845.jpg ***\n",
      "Image id :  Image_155845.jpg\n"
     ]
    },
    {
     "name": "stderr",
     "output_type": "stream",
     "text": [
      " 99%|█████████▉| 198/200 [01:03<00:00,  3.67it/s]"
     ]
    },
    {
     "name": "stdout",
     "output_type": "stream",
     "text": [
      "Message: 111010110101000001010111010011010100010000100111\n",
      "Decoded: 101100110001100110000101001000011110001101001111\n",
      "Bit Accuracy: 0.5416666666666666\n",
      "Detection Result:  0\n",
      " *** Image : gaussian_noise_Image_424102.jpg ***\n",
      "Image id :  Image_424102.jpg\n"
     ]
    },
    {
     "name": "stderr",
     "output_type": "stream",
     "text": [
      "100%|█████████▉| 199/200 [01:03<00:00,  3.44it/s]"
     ]
    },
    {
     "name": "stdout",
     "output_type": "stream",
     "text": [
      "Message: 111010110101000001010111010011010100010000100111\n",
      "Decoded: 101100110001100101000101001001010110001100001111\n",
      "Bit Accuracy: 0.6458333333333334\n",
      "Detection Result:  0\n",
      " *** Image : gaussian_noise_Image_287927.jpg ***\n",
      "Image id :  Image_287927.jpg\n"
     ]
    },
    {
     "name": "stderr",
     "output_type": "stream",
     "text": [
      "100%|██████████| 200/200 [01:04<00:00,  3.12it/s]\n"
     ]
    },
    {
     "name": "stdout",
     "output_type": "stream",
     "text": [
      "Message: 111010110101000001010111010011010100010000100111\n",
      "Decoded: 101100110001100101000101001011011110001101001111\n",
      "Bit Accuracy: 0.625\n",
      "Detection Result:  0\n",
      " ----- Attack : jpeg -----\n"
     ]
    },
    {
     "name": "stderr",
     "output_type": "stream",
     "text": [
      "  0%|          | 0/200 [00:00<?, ?it/s]"
     ]
    },
    {
     "name": "stdout",
     "output_type": "stream",
     "text": [
      " *** Image : jpeg_Image_388911.jpg ***\n",
      "Image id :  Image_388911.jpg\n"
     ]
    },
    {
     "name": "stderr",
     "output_type": "stream",
     "text": [
      "  0%|          | 1/200 [00:00<01:04,  3.08it/s]"
     ]
    },
    {
     "name": "stdout",
     "output_type": "stream",
     "text": [
      "Message: 111010110101000001010111010011010100010000100111\n",
      "Decoded: 110000010001100101010101000000011010001001000111\n",
      "Bit Accuracy: 0.6458333333333334\n",
      "Detection Result:  0\n",
      " *** Image : jpeg_Image_543877.jpg ***\n",
      "Image id :  Image_543877.jpg\n"
     ]
    },
    {
     "name": "stderr",
     "output_type": "stream",
     "text": [
      "  1%|          | 2/200 [00:00<01:20,  2.45it/s]"
     ]
    },
    {
     "name": "stdout",
     "output_type": "stream",
     "text": [
      "Message: 111010110101000001010111010011010100010000100111\n",
      "Decoded: 101000111101000001010111000011010100001001101111\n",
      "Bit Accuracy: 0.8333333333333334\n",
      "Detection Result:  0\n",
      " *** Image : jpeg_Image_122108.jpg ***\n",
      "Image id :  Image_122108.jpg\n"
     ]
    },
    {
     "name": "stderr",
     "output_type": "stream",
     "text": [
      "  2%|▏         | 3/200 [00:01<01:14,  2.64it/s]"
     ]
    },
    {
     "name": "stdout",
     "output_type": "stream",
     "text": [
      "Message: 111010110101000001010111010011010100010000100111\n",
      "Decoded: 111110110101010011010111100001011100001000101111\n",
      "Bit Accuracy: 0.7916666666666666\n",
      "Detection Result:  0\n",
      " *** Image : jpeg_Image_37015.jpg ***\n",
      "Image id :  Image_37015.jpg\n"
     ]
    },
    {
     "name": "stderr",
     "output_type": "stream",
     "text": [
      "  2%|▏         | 4/200 [00:01<01:10,  2.78it/s]"
     ]
    },
    {
     "name": "stdout",
     "output_type": "stream",
     "text": [
      "Message: 111010110101000001010111010011010100010000100111\n",
      "Decoded: 111001100101000001000011101011010100000000100111\n",
      "Bit Accuracy: 0.8125\n",
      "Detection Result:  0\n",
      " *** Image : jpeg_Image_93785.jpg ***\n",
      "Image id :  Image_93785.jpg\n"
     ]
    },
    {
     "name": "stderr",
     "output_type": "stream",
     "text": [
      "  2%|▎         | 5/200 [00:01<01:07,  2.91it/s]"
     ]
    },
    {
     "name": "stdout",
     "output_type": "stream",
     "text": [
      "Message: 111010110101000001010111010011010100010000100111\n",
      "Decoded: 110000010001100101010101000000011010101001001111\n",
      "Bit Accuracy: 0.6041666666666666\n",
      "Detection Result:  0\n",
      " *** Image : jpeg_Image_217306.jpg ***\n",
      "Image id :  Image_217306.jpg\n"
     ]
    },
    {
     "name": "stderr",
     "output_type": "stream",
     "text": [
      "  3%|▎         | 6/200 [00:02<01:01,  3.14it/s]"
     ]
    },
    {
     "name": "stdout",
     "output_type": "stream",
     "text": [
      "Message: 111010110101000001010111010011010100010000100111\n",
      "Decoded: 111010110101000001010011000011011100001000101111\n",
      "Bit Accuracy: 0.875\n",
      "Detection Result:  0\n",
      " *** Image : jpeg_Image_147170.jpg ***\n",
      "Image id :  Image_147170.jpg\n"
     ]
    },
    {
     "name": "stderr",
     "output_type": "stream",
     "text": [
      "  4%|▎         | 7/200 [00:02<00:59,  3.24it/s]"
     ]
    },
    {
     "name": "stdout",
     "output_type": "stream",
     "text": [
      "Message: 111010110101000001010111010011010100010000100111\n",
      "Decoded: 110000010001100101010101000000011010001001001111\n",
      "Bit Accuracy: 0.625\n",
      "Detection Result:  0\n",
      " *** Image : jpeg_Image_470072.jpg ***\n",
      "Image id :  Image_470072.jpg\n"
     ]
    },
    {
     "name": "stderr",
     "output_type": "stream",
     "text": [
      "  4%|▍         | 8/200 [00:02<00:56,  3.42it/s]"
     ]
    },
    {
     "name": "stdout",
     "output_type": "stream",
     "text": [
      "Message: 111010110101000001010111010011010100010000100111\n",
      "Decoded: 111010111111000001010011000011011100001000001111\n",
      "Bit Accuracy: 0.8125\n",
      "Detection Result:  0\n",
      " *** Image : jpeg_Image_344806.jpg ***\n",
      "Image id :  Image_344806.jpg\n"
     ]
    },
    {
     "name": "stderr",
     "output_type": "stream",
     "text": [
      "  4%|▍         | 9/200 [00:02<01:00,  3.18it/s]"
     ]
    },
    {
     "name": "stdout",
     "output_type": "stream",
     "text": [
      "Message: 111010110101000001010111010011010100010000100111\n",
      "Decoded: 110000010001100101010101000010011010001001001111\n",
      "Bit Accuracy: 0.6458333333333334\n",
      "Detection Result:  0\n",
      " *** Image : jpeg_Image_239811.jpg ***\n",
      "Image id :  Image_239811.jpg\n"
     ]
    },
    {
     "name": "stderr",
     "output_type": "stream",
     "text": [
      "  5%|▌         | 10/200 [00:03<00:59,  3.18it/s]"
     ]
    },
    {
     "name": "stdout",
     "output_type": "stream",
     "text": [
      "Message: 111010110101000001010111010011010100010000100111\n",
      "Decoded: 111110110101000001010011100011011100001000101111\n",
      "Bit Accuracy: 0.8333333333333334\n",
      "Detection Result:  0\n",
      " *** Image : jpeg_Image_189993.jpg ***\n",
      "Image id :  Image_189993.jpg\n"
     ]
    },
    {
     "name": "stderr",
     "output_type": "stream",
     "text": [
      "  6%|▌         | 11/200 [00:03<01:00,  3.14it/s]"
     ]
    },
    {
     "name": "stdout",
     "output_type": "stream",
     "text": [
      "Message: 111010110101000001010111010011010100010000100111\n",
      "Decoded: 101111110111000011000011101011111100011010100111\n",
      "Bit Accuracy: 0.7083333333333334\n",
      "Detection Result:  0\n",
      " *** Image : jpeg_Image_472925.jpg ***\n",
      "Image id :  Image_472925.jpg\n"
     ]
    },
    {
     "name": "stderr",
     "output_type": "stream",
     "text": [
      "  6%|▌         | 12/200 [00:03<00:55,  3.40it/s]"
     ]
    },
    {
     "name": "stdout",
     "output_type": "stream",
     "text": [
      "Message: 111010110101000001010111010011010100010000100111\n",
      "Decoded: 101011110111000001000011001011011100001000101111\n",
      "Bit Accuracy: 0.7708333333333334\n",
      "Detection Result:  0\n",
      " *** Image : jpeg_Image_147303.jpg ***\n",
      "Image id :  Image_147303.jpg\n"
     ]
    },
    {
     "name": "stderr",
     "output_type": "stream",
     "text": [
      "  6%|▋         | 13/200 [00:04<00:54,  3.42it/s]"
     ]
    },
    {
     "name": "stdout",
     "output_type": "stream",
     "text": [
      "Message: 111010110101000001010111010011010100010000100111\n",
      "Decoded: 001110100101000010000011101011011100011010100111\n",
      "Bit Accuracy: 0.7083333333333334\n",
      "Detection Result:  0\n",
      " *** Image : jpeg_Image_212091.jpg ***\n",
      "Image id :  Image_212091.jpg\n"
     ]
    },
    {
     "name": "stderr",
     "output_type": "stream",
     "text": [
      "  7%|▋         | 14/200 [00:04<01:00,  3.07it/s]"
     ]
    },
    {
     "name": "stdout",
     "output_type": "stream",
     "text": [
      "Message: 111010110101000001010111010011010100010000100111\n",
      "Decoded: 001110101100000001010001110001011100001010101111\n",
      "Bit Accuracy: 0.6875\n",
      "Detection Result:  0\n",
      " *** Image : jpeg_Image_318574.jpg ***\n",
      "Image id :  Image_318574.jpg\n"
     ]
    },
    {
     "name": "stderr",
     "output_type": "stream",
     "text": [
      "  8%|▊         | 15/200 [00:04<00:59,  3.11it/s]"
     ]
    },
    {
     "name": "stdout",
     "output_type": "stream",
     "text": [
      "Message: 111010110101000001010111010011010100010000100111\n",
      "Decoded: 001011100101000011010001101011011100000000101011\n",
      "Bit Accuracy: 0.7083333333333334\n",
      "Detection Result:  0\n",
      " *** Image : jpeg_Image_570246.jpg ***\n",
      "Image id :  Image_570246.jpg\n"
     ]
    },
    {
     "name": "stderr",
     "output_type": "stream",
     "text": [
      "  8%|▊         | 16/200 [00:05<00:54,  3.39it/s]"
     ]
    },
    {
     "name": "stdout",
     "output_type": "stream",
     "text": [
      "Message: 111010110101000001010111010011010100010000100111\n",
      "Decoded: 111110101111000010000011101111011100001100101111\n",
      "Bit Accuracy: 0.6458333333333334\n",
      "Detection Result:  0\n",
      " *** Image : jpeg_Image_438422.jpg ***\n",
      "Image id :  Image_438422.jpg\n"
     ]
    },
    {
     "name": "stderr",
     "output_type": "stream",
     "text": [
      "  8%|▊         | 17/200 [00:05<00:59,  3.07it/s]"
     ]
    },
    {
     "name": "stdout",
     "output_type": "stream",
     "text": [
      "Message: 111010110101000001010111010011010100010000100111\n",
      "Decoded: 101010100101000001010001001011011100001010101111\n",
      "Bit Accuracy: 0.7708333333333334\n",
      "Detection Result:  0\n",
      " *** Image : jpeg_Image_477797.jpg ***\n",
      "Image id :  Image_477797.jpg\n"
     ]
    },
    {
     "name": "stderr",
     "output_type": "stream",
     "text": [
      "  9%|▉         | 18/200 [00:05<00:54,  3.34it/s]"
     ]
    },
    {
     "name": "stdout",
     "output_type": "stream",
     "text": [
      "Message: 111010110101000001010111010011010100010000100111\n",
      "Decoded: 101001101101000111000001000011011100001000101111\n",
      "Bit Accuracy: 0.6875\n",
      "Detection Result:  0\n",
      " *** Image : jpeg_Image_384029.jpg ***\n",
      "Image id :  Image_384029.jpg\n"
     ]
    },
    {
     "name": "stderr",
     "output_type": "stream",
     "text": [
      " 10%|▉         | 19/200 [00:05<00:51,  3.51it/s]"
     ]
    },
    {
     "name": "stdout",
     "output_type": "stream",
     "text": [
      "Message: 111010110101000001010111010011010100010000100111\n",
      "Decoded: 111010000101000011010011000011011100001001101111\n",
      "Bit Accuracy: 0.7916666666666666\n",
      "Detection Result:  0\n",
      " *** Image : jpeg_Image_145179.jpg ***\n",
      "Image id :  Image_145179.jpg\n"
     ]
    },
    {
     "name": "stderr",
     "output_type": "stream",
     "text": [
      " 10%|█         | 20/200 [00:06<00:51,  3.48it/s]"
     ]
    },
    {
     "name": "stdout",
     "output_type": "stream",
     "text": [
      "Message: 111010110101000001010111010011010100010000100111\n",
      "Decoded: 101011100101000011000011000011011100011000101111\n",
      "Bit Accuracy: 0.7916666666666666\n",
      "Detection Result:  0\n",
      " *** Image : jpeg_Image_210932.jpg ***\n",
      "Image id :  Image_210932.jpg\n"
     ]
    },
    {
     "name": "stderr",
     "output_type": "stream",
     "text": [
      " 10%|█         | 21/200 [00:06<00:50,  3.52it/s]"
     ]
    },
    {
     "name": "stdout",
     "output_type": "stream",
     "text": [
      "Message: 111010110101000001010111010011010100010000100111\n",
      "Decoded: 111010111101000010010011100001010110000000101111\n",
      "Bit Accuracy: 0.7916666666666666\n",
      "Detection Result:  0\n",
      " *** Image : jpeg_Image_280980.jpg ***\n",
      "Image id :  Image_280980.jpg\n"
     ]
    },
    {
     "name": "stderr",
     "output_type": "stream",
     "text": [
      " 11%|█         | 22/200 [00:06<00:49,  3.63it/s]"
     ]
    },
    {
     "name": "stdout",
     "output_type": "stream",
     "text": [
      "Message: 111010110101000001010111010011010100010000100111\n",
      "Decoded: 111010010111011001000001000011011000001001101111\n",
      "Bit Accuracy: 0.7083333333333334\n",
      "Detection Result:  0\n",
      " *** Image : jpeg_Image_486320.jpg ***\n",
      "Image id :  Image_486320.jpg\n"
     ]
    },
    {
     "name": "stderr",
     "output_type": "stream",
     "text": [
      " 12%|█▏        | 23/200 [00:07<00:53,  3.30it/s]"
     ]
    },
    {
     "name": "stdout",
     "output_type": "stream",
     "text": [
      "Message: 111010110101000001010111010011010100010000100111\n",
      "Decoded: 110010010001000001010111000010011010001001001111\n",
      "Bit Accuracy: 0.7291666666666666\n",
      "Detection Result:  0\n",
      " *** Image : jpeg_Image_356702.jpg ***\n",
      "Image id :  Image_356702.jpg\n"
     ]
    },
    {
     "name": "stderr",
     "output_type": "stream",
     "text": [
      " 12%|█▏        | 24/200 [00:07<00:55,  3.17it/s]"
     ]
    },
    {
     "name": "stdout",
     "output_type": "stream",
     "text": [
      "Message: 111010110101000001010111010011010100010000100111\n",
      "Decoded: 101010000101000011010001000010011100001000101111\n",
      "Bit Accuracy: 0.75\n",
      "Detection Result:  0\n",
      " *** Image : jpeg_Image_287541.jpg ***\n",
      "Image id :  Image_287541.jpg\n"
     ]
    },
    {
     "name": "stderr",
     "output_type": "stream",
     "text": [
      " 12%|█▎        | 25/200 [00:07<00:59,  2.94it/s]"
     ]
    },
    {
     "name": "stdout",
     "output_type": "stream",
     "text": [
      "Message: 111010110101000001010111010011010100010000100111\n",
      "Decoded: 111010110101000001010111100011011100001000100111\n",
      "Bit Accuracy: 0.8958333333333334\n",
      "Detection Result:  0\n",
      " *** Image : jpeg_Image_44404.jpg ***\n",
      "Image id :  Image_44404.jpg\n"
     ]
    },
    {
     "name": "stderr",
     "output_type": "stream",
     "text": [
      " 13%|█▎        | 26/200 [00:08<00:57,  3.04it/s]"
     ]
    },
    {
     "name": "stdout",
     "output_type": "stream",
     "text": [
      "Message: 111010110101000001010111010011010100010000100111\n",
      "Decoded: 111000110001000011000111100011011100001001101111\n",
      "Bit Accuracy: 0.7708333333333334\n",
      "Detection Result:  0\n",
      " *** Image : jpeg_Image_457732.jpg ***\n",
      "Image id :  Image_457732.jpg\n"
     ]
    },
    {
     "name": "stderr",
     "output_type": "stream",
     "text": [
      " 14%|█▎        | 27/200 [00:08<00:51,  3.35it/s]"
     ]
    },
    {
     "name": "stdout",
     "output_type": "stream",
     "text": [
      "Message: 111010110101000001010111010011010100010000100111\n",
      "Decoded: 101110110101000001000011001111010100000000100111\n",
      "Bit Accuracy: 0.8333333333333334\n",
      "Detection Result:  0\n",
      " *** Image : jpeg_Image_345781.jpg ***\n",
      "Image id :  Image_345781.jpg\n"
     ]
    },
    {
     "name": "stderr",
     "output_type": "stream",
     "text": [
      " 14%|█▍        | 28/200 [00:08<00:50,  3.42it/s]"
     ]
    },
    {
     "name": "stdout",
     "output_type": "stream",
     "text": [
      "Message: 111010110101000001010111010011010100010000100111\n",
      "Decoded: 101111101111010010000001100011011100001010101111\n",
      "Bit Accuracy: 0.6041666666666666\n",
      "Detection Result:  0\n",
      " *** Image : jpeg_Image_354444.jpg ***\n",
      "Image id :  Image_354444.jpg\n"
     ]
    },
    {
     "name": "stderr",
     "output_type": "stream",
     "text": [
      " 14%|█▍        | 29/200 [00:09<00:52,  3.28it/s]"
     ]
    },
    {
     "name": "stdout",
     "output_type": "stream",
     "text": [
      "Message: 111010110101000001010111010011010100010000100111\n",
      "Decoded: 110010010111000011000011000011011100000010101111\n",
      "Bit Accuracy: 0.7708333333333334\n",
      "Detection Result:  0\n",
      " *** Image : jpeg_Image_85685.jpg ***\n",
      "Image id :  Image_85685.jpg\n"
     ]
    },
    {
     "name": "stderr",
     "output_type": "stream",
     "text": [
      " 16%|█▌        | 31/200 [00:09<00:46,  3.65it/s]"
     ]
    },
    {
     "name": "stdout",
     "output_type": "stream",
     "text": [
      "Message: 111010110101000001010111010011010100010000100111\n",
      "Decoded: 101011110111010011001001101011011100000010101111\n",
      "Bit Accuracy: 0.6666666666666666\n",
      "Detection Result:  0\n",
      " *** Image : jpeg_Image_153946.jpg ***\n",
      "Image id :  Image_153946.jpg\n",
      "Message: 111010110101000001010111010011010100010000100111\n",
      "Decoded: 101010100111000001011011101011011100001000101111\n",
      "Bit Accuracy: 0.75\n",
      "Detection Result:  0\n",
      " *** Image : jpeg_Image_287927.jpg ***\n",
      "Image id :  Image_287927.jpg\n"
     ]
    },
    {
     "name": "stderr",
     "output_type": "stream",
     "text": [
      " 16%|█▌        | 32/200 [00:09<00:44,  3.79it/s]"
     ]
    },
    {
     "name": "stdout",
     "output_type": "stream",
     "text": [
      "Message: 111010110101000001010111010011010100010000100111\n",
      "Decoded: 111000100001000011011011000011011010001001101111\n",
      "Bit Accuracy: 0.7083333333333334\n",
      "Detection Result:  0\n",
      " *** Image : jpeg_Image_179620.jpg ***\n",
      "Image id :  Image_179620.jpg\n"
     ]
    },
    {
     "name": "stderr",
     "output_type": "stream",
     "text": [
      " 16%|█▋        | 33/200 [00:10<00:42,  3.94it/s]"
     ]
    },
    {
     "name": "stdout",
     "output_type": "stream",
     "text": [
      "Message: 111010110101000001010111010011010100010000100111\n",
      "Decoded: 110000010001100101010101000000011010001001001111\n",
      "Bit Accuracy: 0.625\n",
      "Detection Result:  0\n",
      " *** Image : jpeg_Image_96557.jpg ***\n",
      "Image id :  Image_96557.jpg\n"
     ]
    },
    {
     "name": "stderr",
     "output_type": "stream",
     "text": [
      " 17%|█▋        | 34/200 [00:10<00:43,  3.85it/s]"
     ]
    },
    {
     "name": "stdout",
     "output_type": "stream",
     "text": [
      "Message: 111010110101000001010111010011010100010000100111\n",
      "Decoded: 101011111111000010010011100011011110000010101111\n",
      "Bit Accuracy: 0.7083333333333334\n",
      "Detection Result:  0\n",
      " *** Image : jpeg_Image_485894.jpg ***\n",
      "Image id :  Image_485894.jpg\n"
     ]
    },
    {
     "name": "stderr",
     "output_type": "stream",
     "text": [
      " 18%|█▊        | 35/200 [00:10<00:48,  3.37it/s]"
     ]
    },
    {
     "name": "stdout",
     "output_type": "stream",
     "text": [
      "Message: 111010110101000001010111010011010100010000100111\n",
      "Decoded: 110000010001000101010101000000011010001001001111\n",
      "Bit Accuracy: 0.6458333333333334\n",
      "Detection Result:  0\n",
      " *** Image : jpeg_Image_241364.jpg ***\n",
      "Image id :  Image_241364.jpg\n"
     ]
    },
    {
     "name": "stderr",
     "output_type": "stream",
     "text": [
      " 18%|█▊        | 36/200 [00:10<00:47,  3.43it/s]"
     ]
    },
    {
     "name": "stdout",
     "output_type": "stream",
     "text": [
      "Message: 111010110101000001010111010011010100010000100111\n",
      "Decoded: 111010010001000111010001100011011000001000000111\n",
      "Bit Accuracy: 0.7291666666666666\n",
      "Detection Result:  0\n",
      " *** Image : jpeg_Image_398494.jpg ***\n",
      "Image id :  Image_398494.jpg\n"
     ]
    },
    {
     "name": "stderr",
     "output_type": "stream",
     "text": [
      " 18%|█▊        | 37/200 [00:11<00:48,  3.34it/s]"
     ]
    },
    {
     "name": "stdout",
     "output_type": "stream",
     "text": [
      "Message: 111010110101000001010111010011010100010000100111\n",
      "Decoded: 101010110101000001010011000011011100000100101111\n",
      "Bit Accuracy: 0.8541666666666666\n",
      "Detection Result:  0\n",
      " *** Image : jpeg_Image_69675.jpg ***\n",
      "Image id :  Image_69675.jpg\n"
     ]
    },
    {
     "name": "stderr",
     "output_type": "stream",
     "text": [
      " 19%|█▉        | 38/200 [00:11<00:48,  3.31it/s]"
     ]
    },
    {
     "name": "stdout",
     "output_type": "stream",
     "text": [
      "Message: 111010110101000001010111010011010100010000100111\n",
      "Decoded: 111010110101000011010011000010011100001001101111\n",
      "Bit Accuracy: 0.8125\n",
      "Detection Result:  0\n",
      " *** Image : jpeg_Image_49183.jpg ***\n",
      "Image id :  Image_49183.jpg\n"
     ]
    },
    {
     "name": "stderr",
     "output_type": "stream",
     "text": [
      " 20%|█▉        | 39/200 [00:11<00:47,  3.41it/s]"
     ]
    },
    {
     "name": "stdout",
     "output_type": "stream",
     "text": [
      "Message: 111010110101000001010111010011010100010000100111\n",
      "Decoded: 101010001111000111000001000011011100001001101111\n",
      "Bit Accuracy: 0.6666666666666666\n",
      "Detection Result:  0\n",
      " *** Image : jpeg_Image_62279.jpg ***\n",
      "Image id :  Image_62279.jpg\n"
     ]
    },
    {
     "name": "stderr",
     "output_type": "stream",
     "text": [
      " 20%|██        | 40/200 [00:12<00:51,  3.09it/s]"
     ]
    },
    {
     "name": "stdout",
     "output_type": "stream",
     "text": [
      "Message: 111010110101000001010111010011010100010000100111\n",
      "Decoded: 111001110111000011000001100010011110001000101111\n",
      "Bit Accuracy: 0.6875\n",
      "Detection Result:  0\n",
      " *** Image : jpeg_Image_570608.jpg ***\n",
      "Image id :  Image_570608.jpg\n"
     ]
    },
    {
     "name": "stderr",
     "output_type": "stream",
     "text": [
      " 21%|██        | 42/200 [00:12<00:42,  3.70it/s]"
     ]
    },
    {
     "name": "stdout",
     "output_type": "stream",
     "text": [
      "Message: 111010110101000001010111010011010100010000100111\n",
      "Decoded: 101010100001000001000111100011011110100000100111\n",
      "Bit Accuracy: 0.7916666666666666\n",
      "Detection Result:  0\n",
      " *** Image : jpeg_Image_445528.jpg ***\n",
      "Image id :  Image_445528.jpg\n",
      "Message: 111010110101000001010111010011010100010000100111\n",
      "Decoded: 101110111111010011000111001011010110001010101111\n",
      "Bit Accuracy: 0.7083333333333334\n",
      "Detection Result:  0\n",
      " *** Image : jpeg_Image_409513.jpg ***\n",
      "Image id :  Image_409513.jpg\n"
     ]
    },
    {
     "name": "stderr",
     "output_type": "stream",
     "text": [
      " 22%|██▏       | 43/200 [00:13<00:52,  2.97it/s]"
     ]
    },
    {
     "name": "stdout",
     "output_type": "stream",
     "text": [
      "Message: 111010110101000001010111010011010100010000100111\n",
      "Decoded: 101001101101010011001001101010011100001000101111\n",
      "Bit Accuracy: 0.6041666666666666\n",
      "Detection Result:  0\n",
      " *** Image : jpeg_Image_301778.jpg ***\n",
      "Image id :  Image_301778.jpg\n"
     ]
    },
    {
     "name": "stderr",
     "output_type": "stream",
     "text": [
      " 22%|██▏       | 44/200 [00:13<00:48,  3.19it/s]"
     ]
    },
    {
     "name": "stdout",
     "output_type": "stream",
     "text": [
      "Message: 111010110101000001010111010011010100010000100111\n",
      "Decoded: 110010100001000011010111100011011000000000101111\n",
      "Bit Accuracy: 0.7916666666666666\n",
      "Detection Result:  0\n",
      " *** Image : jpeg_Image_289019.jpg ***\n",
      "Image id :  Image_289019.jpg\n"
     ]
    },
    {
     "name": "stderr",
     "output_type": "stream",
     "text": [
      " 22%|██▎       | 45/200 [00:13<00:45,  3.41it/s]"
     ]
    },
    {
     "name": "stdout",
     "output_type": "stream",
     "text": [
      "Message: 111010110101000001010111010011010100010000100111\n",
      "Decoded: 111110101101000011000011100011011010000010101111\n",
      "Bit Accuracy: 0.7083333333333334\n",
      "Detection Result:  0\n",
      " *** Image : jpeg_Image_64460.jpg ***\n",
      "Image id :  Image_64460.jpg\n"
     ]
    },
    {
     "name": "stderr",
     "output_type": "stream",
     "text": [
      " 23%|██▎       | 46/200 [00:13<00:44,  3.44it/s]"
     ]
    },
    {
     "name": "stdout",
     "output_type": "stream",
     "text": [
      "Message: 111010110101000001010111010011010100010000100111\n",
      "Decoded: 101010100111000011010001000011011100001000101111\n",
      "Bit Accuracy: 0.7708333333333334\n",
      "Detection Result:  0\n",
      " *** Image : jpeg_Image_491269.jpg ***\n",
      "Image id :  Image_491269.jpg\n"
     ]
    },
    {
     "name": "stderr",
     "output_type": "stream",
     "text": [
      " 24%|██▎       | 47/200 [00:14<00:49,  3.07it/s]"
     ]
    },
    {
     "name": "stdout",
     "output_type": "stream",
     "text": [
      "Message: 111010110101000001010111010011010100010000100111\n",
      "Decoded: 101010110101000001010001100011011100001000101111\n",
      "Bit Accuracy: 0.8125\n",
      "Detection Result:  0\n",
      " *** Image : jpeg_Image_536587.jpg ***\n",
      "Image id :  Image_536587.jpg\n"
     ]
    },
    {
     "name": "stderr",
     "output_type": "stream",
     "text": [
      " 24%|██▍       | 48/200 [00:14<00:48,  3.13it/s]"
     ]
    },
    {
     "name": "stdout",
     "output_type": "stream",
     "text": [
      "Message: 111010110101000001010111010011010100010000100111\n",
      "Decoded: 110010010101000001010111000000011000001001101111\n",
      "Bit Accuracy: 0.7708333333333334\n",
      "Detection Result:  0\n",
      " *** Image : jpeg_Image_334080.jpg ***\n",
      "Image id :  Image_334080.jpg\n"
     ]
    },
    {
     "name": "stderr",
     "output_type": "stream",
     "text": [
      " 25%|██▌       | 50/200 [00:15<00:39,  3.82it/s]"
     ]
    },
    {
     "name": "stdout",
     "output_type": "stream",
     "text": [
      "Message: 111010110101000001010111010011010100010000100111\n",
      "Decoded: 110000110001010111010101001001011010001000101111\n",
      "Bit Accuracy: 0.6666666666666666\n",
      "Detection Result:  0\n",
      " *** Image : jpeg_Image_523617.jpg ***\n",
      "Image id :  Image_523617.jpg\n",
      "Message: 111010110101000001010111010011010100010000100111\n",
      "Decoded: 110000010001100101010101000000011010001001001111\n",
      "Bit Accuracy: 0.625\n",
      "Detection Result:  0\n",
      " *** Image : jpeg_Image_172899.jpg ***\n",
      "Image id :  Image_172899.jpg\n"
     ]
    },
    {
     "name": "stderr",
     "output_type": "stream",
     "text": [
      " 26%|██▌       | 51/200 [00:15<00:37,  3.98it/s]"
     ]
    },
    {
     "name": "stdout",
     "output_type": "stream",
     "text": [
      "Message: 111010110101000001010111010011010100010000100111\n",
      "Decoded: 110000010001100101010101000000011010001001001111\n",
      "Bit Accuracy: 0.625\n",
      "Detection Result:  0\n",
      " *** Image : jpeg_Image_147016.jpg ***\n",
      "Image id :  Image_147016.jpg\n"
     ]
    },
    {
     "name": "stderr",
     "output_type": "stream",
     "text": [
      " 26%|██▌       | 52/200 [00:15<00:35,  4.17it/s]"
     ]
    },
    {
     "name": "stdout",
     "output_type": "stream",
     "text": [
      "Message: 111010110101000001010111010011010100010000100111\n",
      "Decoded: 100000010001000001010101000001011110001001001111\n",
      "Bit Accuracy: 0.6875\n",
      "Detection Result:  0\n",
      " *** Image : jpeg_Image_246446.jpg ***\n",
      "Image id :  Image_246446.jpg\n"
     ]
    },
    {
     "name": "stderr",
     "output_type": "stream",
     "text": [
      " 26%|██▋       | 53/200 [00:15<00:39,  3.74it/s]"
     ]
    },
    {
     "name": "stdout",
     "output_type": "stream",
     "text": [
      "Message: 111010110101000001010111010011010100010000100111\n",
      "Decoded: 101111101101000011000011100011010100000000101111\n",
      "Bit Accuracy: 0.75\n",
      "Detection Result:  0\n",
      " *** Image : jpeg_Image_559527.jpg ***\n",
      "Image id :  Image_559527.jpg\n"
     ]
    },
    {
     "name": "stderr",
     "output_type": "stream",
     "text": [
      " 27%|██▋       | 54/200 [00:16<00:39,  3.70it/s]"
     ]
    },
    {
     "name": "stdout",
     "output_type": "stream",
     "text": [
      "Message: 111010110101000001010111010011010100010000100111\n",
      "Decoded: 111001101101000001010001100011011100011000100111\n",
      "Bit Accuracy: 0.7916666666666666\n",
      "Detection Result:  0\n",
      " *** Image : jpeg_Image_392136.jpg ***\n",
      "Image id :  Image_392136.jpg\n"
     ]
    },
    {
     "name": "stderr",
     "output_type": "stream",
     "text": [
      " 28%|██▊       | 55/200 [00:16<00:36,  3.95it/s]"
     ]
    },
    {
     "name": "stdout",
     "output_type": "stream",
     "text": [
      "Message: 111010110101000001010111010011010100010000100111\n",
      "Decoded: 101111100101010011000011101011010100101000101111\n",
      "Bit Accuracy: 0.6875\n",
      "Detection Result:  0\n",
      " *** Image : jpeg_Image_213546.jpg ***\n",
      "Image id :  Image_213546.jpg\n"
     ]
    },
    {
     "name": "stderr",
     "output_type": "stream",
     "text": [
      " 28%|██▊       | 56/200 [00:16<00:38,  3.69it/s]"
     ]
    },
    {
     "name": "stdout",
     "output_type": "stream",
     "text": [
      "Message: 111010110101000001010111010011010100010000100111\n",
      "Decoded: 111010010101000001010111000011010000000000001111\n",
      "Bit Accuracy: 0.875\n",
      "Detection Result:  0\n",
      " *** Image : jpeg_Image_426038.jpg ***\n",
      "Image id :  Image_426038.jpg\n"
     ]
    },
    {
     "name": "stderr",
     "output_type": "stream",
     "text": [
      " 28%|██▊       | 57/200 [00:17<00:41,  3.47it/s]"
     ]
    },
    {
     "name": "stdout",
     "output_type": "stream",
     "text": [
      "Message: 111010110101000001010111010011010100010000100111\n",
      "Decoded: 111010110101010001010011000011011100001000101111\n",
      "Bit Accuracy: 0.8541666666666666\n",
      "Detection Result:  0\n",
      " *** Image : jpeg_Image_236772.jpg ***\n",
      "Image id :  Image_236772.jpg\n"
     ]
    },
    {
     "name": "stderr",
     "output_type": "stream",
     "text": [
      " 29%|██▉       | 58/200 [00:17<00:41,  3.43it/s]"
     ]
    },
    {
     "name": "stdout",
     "output_type": "stream",
     "text": [
      "Message: 111010110101000001010111010011010100010000100111\n",
      "Decoded: 110000010001000101000101000000011010001001001111\n",
      "Bit Accuracy: 0.625\n",
      "Detection Result:  0\n",
      " *** Image : jpeg_Image_353139.jpg ***\n",
      "Image id :  Image_353139.jpg\n"
     ]
    },
    {
     "name": "stderr",
     "output_type": "stream",
     "text": [
      " 30%|██▉       | 59/200 [00:17<00:41,  3.36it/s]"
     ]
    },
    {
     "name": "stdout",
     "output_type": "stream",
     "text": [
      "Message: 111010110101000001010111010011010100010000100111\n",
      "Decoded: 100010110101000101010101000111011110001110101111\n",
      "Bit Accuracy: 0.7291666666666666\n",
      "Detection Result:  0\n",
      " *** Image : jpeg_Image_357684.jpg ***\n",
      "Image id :  Image_357684.jpg\n"
     ]
    },
    {
     "name": "stderr",
     "output_type": "stream",
     "text": [
      " 30%|███       | 60/200 [00:17<00:40,  3.46it/s]"
     ]
    },
    {
     "name": "stdout",
     "output_type": "stream",
     "text": [
      "Message: 111010110101000001010111010011010100010000100111\n",
      "Decoded: 111010110111010001000011100111010100010100101111\n",
      "Bit Accuracy: 0.8125\n",
      "Detection Result:  0\n",
      " *** Image : jpeg_Image_448698.jpg ***\n",
      "Image id :  Image_448698.jpg\n"
     ]
    },
    {
     "name": "stderr",
     "output_type": "stream",
     "text": [
      " 30%|███       | 61/200 [00:18<00:42,  3.28it/s]"
     ]
    },
    {
     "name": "stdout",
     "output_type": "stream",
     "text": [
      "Message: 111010110101000001010111010011010100010000100111\n",
      "Decoded: 101100111101010111000111000011010100001010100111\n",
      "Bit Accuracy: 0.75\n",
      "Detection Result:  0\n",
      " *** Image : jpeg_Image_560459.jpg ***\n",
      "Image id :  Image_560459.jpg\n"
     ]
    },
    {
     "name": "stderr",
     "output_type": "stream",
     "text": [
      " 31%|███       | 62/200 [00:18<00:43,  3.17it/s]"
     ]
    },
    {
     "name": "stdout",
     "output_type": "stream",
     "text": [
      "Message: 111010110101000001010111010011010100010000100111\n",
      "Decoded: 001110111111010011000001100011010100001110100111\n",
      "Bit Accuracy: 0.6666666666666666\n",
      "Detection Result:  0\n",
      " *** Image : jpeg_Image_70000.jpg ***\n",
      "Image id :  Image_70000.jpg\n"
     ]
    },
    {
     "name": "stderr",
     "output_type": "stream",
     "text": [
      " 32%|███▏      | 63/200 [00:19<00:47,  2.89it/s]"
     ]
    },
    {
     "name": "stdout",
     "output_type": "stream",
     "text": [
      "Message: 111010110101000001010111010011010100010000100111\n",
      "Decoded: 011110100111010011010011101011010100001000101111\n",
      "Bit Accuracy: 0.7291666666666666\n",
      "Detection Result:  0\n",
      " *** Image : jpeg_Image_302389.jpg ***\n",
      "Image id :  Image_302389.jpg\n"
     ]
    },
    {
     "name": "stderr",
     "output_type": "stream",
     "text": [
      " 32%|███▏      | 64/200 [00:19<00:50,  2.70it/s]"
     ]
    },
    {
     "name": "stdout",
     "output_type": "stream",
     "text": [
      "Message: 111010110101000001010111010011010100010000100111\n",
      "Decoded: 111000011101000001000011000001011110001101100111\n",
      "Bit Accuracy: 0.7291666666666666\n",
      "Detection Result:  0\n",
      " *** Image : jpeg_Image_2024.jpg ***\n",
      "Image id :  Image_2024.jpg\n"
     ]
    },
    {
     "name": "stderr",
     "output_type": "stream",
     "text": [
      " 33%|███▎      | 66/200 [00:19<00:42,  3.17it/s]"
     ]
    },
    {
     "name": "stdout",
     "output_type": "stream",
     "text": [
      "Message: 111010110101000001010111010011010100010000100111\n",
      "Decoded: 110000010001000101010101000000011010001001101111\n",
      "Bit Accuracy: 0.6666666666666666\n",
      "Detection Result:  0\n",
      " *** Image : jpeg_Image_267688.jpg ***\n",
      "Image id :  Image_267688.jpg\n",
      "Message: 111010110101000001010111010011010100010000100111\n",
      "Decoded: 011110101111000011000011100011010000001010101111\n",
      "Bit Accuracy: 0.6875\n",
      "Detection Result:  0\n",
      " *** Image : jpeg_Image_223726.jpg ***\n",
      "Image id :  Image_223726.jpg\n"
     ]
    },
    {
     "name": "stderr",
     "output_type": "stream",
     "text": [
      " 34%|███▎      | 67/200 [00:20<00:41,  3.23it/s]"
     ]
    },
    {
     "name": "stdout",
     "output_type": "stream",
     "text": [
      "Message: 111010110101000001010111010011010100010000100111\n",
      "Decoded: 101010110101000011010001110011011100011000101111\n",
      "Bit Accuracy: 0.8333333333333334\n",
      "Detection Result:  0\n",
      " *** Image : jpeg_Image_19380.jpg ***\n",
      "Image id :  Image_19380.jpg\n"
     ]
    },
    {
     "name": "stderr",
     "output_type": "stream",
     "text": [
      " 34%|███▍      | 68/200 [00:20<00:37,  3.51it/s]"
     ]
    },
    {
     "name": "stdout",
     "output_type": "stream",
     "text": [
      "Message: 111010110101000001010111010011010100010000100111\n",
      "Decoded: 101010111111000011010011000011011100001010101110\n",
      "Bit Accuracy: 0.75\n",
      "Detection Result:  0\n",
      " *** Image : jpeg_Image_352884.jpg ***\n",
      "Image id :  Image_352884.jpg\n"
     ]
    },
    {
     "name": "stderr",
     "output_type": "stream",
     "text": [
      " 34%|███▍      | 69/200 [00:20<00:39,  3.31it/s]"
     ]
    },
    {
     "name": "stdout",
     "output_type": "stream",
     "text": [
      "Message: 111010110101000001010111010011010100010000100111\n",
      "Decoded: 101010101101000011010011100011011100001000101111\n",
      "Bit Accuracy: 0.7708333333333334\n",
      "Detection Result:  0\n",
      " *** Image : jpeg_Image_199628.jpg ***\n",
      "Image id :  Image_199628.jpg\n"
     ]
    },
    {
     "name": "stderr",
     "output_type": "stream",
     "text": [
      " 35%|███▌      | 70/200 [00:21<00:37,  3.45it/s]"
     ]
    },
    {
     "name": "stdout",
     "output_type": "stream",
     "text": [
      "Message: 111010110101000001010111010011010100010000100111\n",
      "Decoded: 111010010101000111010011000001011110001001101111\n",
      "Bit Accuracy: 0.75\n",
      "Detection Result:  0\n",
      " *** Image : jpeg_Image_399956.jpg ***\n",
      "Image id :  Image_399956.jpg\n"
     ]
    },
    {
     "name": "stderr",
     "output_type": "stream",
     "text": [
      " 36%|███▌      | 71/200 [00:21<00:38,  3.33it/s]"
     ]
    },
    {
     "name": "stdout",
     "output_type": "stream",
     "text": [
      "Message: 111010110101000001010111010011010100010000100111\n",
      "Decoded: 101111100100000010001011101011010100001010101011\n",
      "Bit Accuracy: 0.625\n",
      "Detection Result:  0\n",
      " *** Image : jpeg_Image_70868.jpg ***\n",
      "Image id :  Image_70868.jpg\n"
     ]
    },
    {
     "name": "stderr",
     "output_type": "stream",
     "text": [
      " 36%|███▌      | 72/200 [00:21<00:35,  3.58it/s]"
     ]
    },
    {
     "name": "stdout",
     "output_type": "stream",
     "text": [
      "Message: 111010110101000001010111010011010100010000100111\n",
      "Decoded: 111010111101000011000111000011011100000000101111\n",
      "Bit Accuracy: 0.8541666666666666\n",
      "Detection Result:  0\n",
      " *** Image : jpeg_Image_513541.jpg ***\n",
      "Image id :  Image_513541.jpg\n"
     ]
    },
    {
     "name": "stderr",
     "output_type": "stream",
     "text": [
      " 36%|███▋      | 73/200 [00:22<00:39,  3.23it/s]"
     ]
    },
    {
     "name": "stdout",
     "output_type": "stream",
     "text": [
      "Message: 111010110101000001010111010011010100010000100111\n",
      "Decoded: 101110110101000001010111000001011110000001000111\n",
      "Bit Accuracy: 0.8125\n",
      "Detection Result:  0\n",
      " *** Image : jpeg_Image_303291.jpg ***\n",
      "Image id :  Image_303291.jpg\n"
     ]
    },
    {
     "name": "stderr",
     "output_type": "stream",
     "text": [
      " 37%|███▋      | 74/200 [00:22<00:36,  3.45it/s]"
     ]
    },
    {
     "name": "stdout",
     "output_type": "stream",
     "text": [
      "Message: 111010110101000001010111010011010100010000100111\n",
      "Decoded: 101000111001010101010011100011011110000000101111\n",
      "Bit Accuracy: 0.7291666666666666\n",
      "Detection Result:  0\n",
      " *** Image : jpeg_Image_378710.jpg ***\n",
      "Image id :  Image_378710.jpg\n"
     ]
    },
    {
     "name": "stderr",
     "output_type": "stream",
     "text": [
      " 38%|███▊      | 75/200 [00:22<00:33,  3.72it/s]"
     ]
    },
    {
     "name": "stdout",
     "output_type": "stream",
     "text": [
      "Message: 111010110101000001010111010011010100010000100111\n",
      "Decoded: 111000010001000101010001000001011000001001001111\n",
      "Bit Accuracy: 0.6875\n",
      "Detection Result:  0\n",
      " *** Image : jpeg_Image_279108.jpg ***\n",
      "Image id :  Image_279108.jpg\n"
     ]
    },
    {
     "name": "stderr",
     "output_type": "stream",
     "text": [
      " 38%|███▊      | 76/200 [00:22<00:36,  3.41it/s]"
     ]
    },
    {
     "name": "stdout",
     "output_type": "stream",
     "text": [
      "Message: 111010110101000001010111010011010100010000100111\n",
      "Decoded: 101010100101000001000001100011011100001000101111\n",
      "Bit Accuracy: 0.7708333333333334\n",
      "Detection Result:  0\n",
      " *** Image : jpeg_Image_492386.jpg ***\n",
      "Image id :  Image_492386.jpg\n"
     ]
    },
    {
     "name": "stderr",
     "output_type": "stream",
     "text": [
      " 38%|███▊      | 77/200 [00:23<00:35,  3.44it/s]"
     ]
    },
    {
     "name": "stdout",
     "output_type": "stream",
     "text": [
      "Message: 111010110101000001010111010011010100010000100111\n",
      "Decoded: 111110110101000001010111000101010100000000100111\n",
      "Bit Accuracy: 0.8958333333333334\n",
      "Detection Result:  0\n",
      " *** Image : jpeg_Image_79481.jpg ***\n",
      "Image id :  Image_79481.jpg\n"
     ]
    },
    {
     "name": "stderr",
     "output_type": "stream",
     "text": [
      " 39%|███▉      | 78/200 [00:23<00:38,  3.18it/s]"
     ]
    },
    {
     "name": "stdout",
     "output_type": "stream",
     "text": [
      "Message: 111010110101000001010111010011010100010000100111\n",
      "Decoded: 111010111100001001010011010011010100001010100111\n",
      "Bit Accuracy: 0.8541666666666666\n",
      "Detection Result:  0\n",
      " *** Image : jpeg_Image_374114.jpg ***\n",
      "Image id :  Image_374114.jpg\n"
     ]
    },
    {
     "name": "stderr",
     "output_type": "stream",
     "text": [
      " 40%|███▉      | 79/200 [00:23<00:38,  3.18it/s]"
     ]
    },
    {
     "name": "stdout",
     "output_type": "stream",
     "text": [
      "Message: 111010110101000001010111010011010100010000100111\n",
      "Decoded: 101110110101010010011011000011011100000000101101\n",
      "Bit Accuracy: 0.75\n",
      "Detection Result:  0\n",
      " *** Image : jpeg_Image_95989.jpg ***\n",
      "Image id :  Image_95989.jpg\n"
     ]
    },
    {
     "name": "stderr",
     "output_type": "stream",
     "text": [
      " 40%|████      | 80/200 [00:24<00:33,  3.54it/s]"
     ]
    },
    {
     "name": "stdout",
     "output_type": "stream",
     "text": [
      "Message: 111010110101000001010111010011010100010000100111\n",
      "Decoded: 001110100111000010000001101011010100001010101111\n",
      "Bit Accuracy: 0.6458333333333334\n",
      "Detection Result:  0\n",
      " *** Image : jpeg_Image_160559.jpg ***\n",
      "Image id :  Image_160559.jpg\n"
     ]
    },
    {
     "name": "stderr",
     "output_type": "stream",
     "text": [
      " 40%|████      | 81/200 [00:24<00:34,  3.47it/s]"
     ]
    },
    {
     "name": "stdout",
     "output_type": "stream",
     "text": [
      "Message: 111010110101000001010111010011010100010000100111\n",
      "Decoded: 111010110111000011010011000001011100001001101111\n",
      "Bit Accuracy: 0.7916666666666666\n",
      "Detection Result:  0\n",
      " *** Image : jpeg_Image_413746.jpg ***\n",
      "Image id :  Image_413746.jpg\n"
     ]
    },
    {
     "name": "stderr",
     "output_type": "stream",
     "text": [
      " 41%|████      | 82/200 [00:24<00:34,  3.45it/s]"
     ]
    },
    {
     "name": "stdout",
     "output_type": "stream",
     "text": [
      "Message: 111010110101000001010111010011010100010000100111\n",
      "Decoded: 111010011101000011000011000001011100001000101111\n",
      "Bit Accuracy: 0.7708333333333334\n",
      "Detection Result:  0\n",
      " *** Image : jpeg_Image_424102.jpg ***\n",
      "Image id :  Image_424102.jpg\n"
     ]
    },
    {
     "name": "stderr",
     "output_type": "stream",
     "text": [
      " 42%|████▏     | 83/200 [00:24<00:33,  3.47it/s]"
     ]
    },
    {
     "name": "stdout",
     "output_type": "stream",
     "text": [
      "Message: 111010110101000001010111010011010100010000100111\n",
      "Decoded: 111010111011000111000101000011011110001000101111\n",
      "Bit Accuracy: 0.7291666666666666\n",
      "Detection Result:  0\n",
      " *** Image : jpeg_Image_265709.jpg ***\n",
      "Image id :  Image_265709.jpg\n"
     ]
    },
    {
     "name": "stderr",
     "output_type": "stream",
     "text": [
      " 42%|████▏     | 84/200 [00:25<00:37,  3.11it/s]"
     ]
    },
    {
     "name": "stdout",
     "output_type": "stream",
     "text": [
      "Message: 111010110101000001010111010011010100010000100111\n",
      "Decoded: 111000100111010011010001000011011100001000101111\n",
      "Bit Accuracy: 0.75\n",
      "Detection Result:  0\n",
      " *** Image : jpeg_Image_109424.jpg ***\n",
      "Image id :  Image_109424.jpg\n"
     ]
    },
    {
     "name": "stderr",
     "output_type": "stream",
     "text": [
      " 42%|████▎     | 85/200 [00:25<00:35,  3.25it/s]"
     ]
    },
    {
     "name": "stdout",
     "output_type": "stream",
     "text": [
      "Message: 111010110101000001010111010011010100010000100111\n",
      "Decoded: 001110111101011111001001101011010110001010101111\n",
      "Bit Accuracy: 0.5833333333333334\n",
      "Detection Result:  0\n",
      " *** Image : jpeg_Image_444546.jpg ***\n",
      "Image id :  Image_444546.jpg\n"
     ]
    },
    {
     "name": "stderr",
     "output_type": "stream",
     "text": [
      " 43%|████▎     | 86/200 [00:25<00:34,  3.27it/s]"
     ]
    },
    {
     "name": "stdout",
     "output_type": "stream",
     "text": [
      "Message: 111010110101000001010111010011010100010000100111\n",
      "Decoded: 101010011001000011000011000011010100000000101111\n",
      "Bit Accuracy: 0.7916666666666666\n",
      "Detection Result:  0\n",
      " *** Image : jpeg_Image_62426.jpg ***\n",
      "Image id :  Image_62426.jpg\n"
     ]
    },
    {
     "name": "stderr",
     "output_type": "stream",
     "text": [
      " 44%|████▎     | 87/200 [00:26<00:36,  3.11it/s]"
     ]
    },
    {
     "name": "stdout",
     "output_type": "stream",
     "text": [
      "Message: 111010110101000001010111010011010100010000100111\n",
      "Decoded: 101000110001000001000011000011011110001011101111\n",
      "Bit Accuracy: 0.7291666666666666\n",
      "Detection Result:  0\n",
      " *** Image : jpeg_Image_454325.jpg ***\n",
      "Image id :  Image_454325.jpg\n"
     ]
    },
    {
     "name": "stderr",
     "output_type": "stream",
     "text": [
      " 44%|████▍     | 88/200 [00:26<00:36,  3.03it/s]"
     ]
    },
    {
     "name": "stdout",
     "output_type": "stream",
     "text": [
      "Message: 111010110101000001010111010011010100010000100111\n",
      "Decoded: 110000010001100101010111000010011010001001001111\n",
      "Bit Accuracy: 0.6666666666666666\n",
      "Detection Result:  0\n",
      " *** Image : jpeg_Image_8649.jpg ***\n",
      "Image id :  Image_8649.jpg\n"
     ]
    },
    {
     "name": "stderr",
     "output_type": "stream",
     "text": [
      " 44%|████▍     | 89/200 [00:26<00:36,  3.01it/s]"
     ]
    },
    {
     "name": "stdout",
     "output_type": "stream",
     "text": [
      "Message: 111010110101000001010111010011010100010000100111\n",
      "Decoded: 101110101101000011010011101011010100000000101111\n",
      "Bit Accuracy: 0.7708333333333334\n",
      "Detection Result:  0\n",
      " *** Image : jpeg_Image_218956.jpg ***\n",
      "Image id :  Image_218956.jpg\n"
     ]
    },
    {
     "name": "stderr",
     "output_type": "stream",
     "text": [
      " 45%|████▌     | 90/200 [00:27<00:34,  3.16it/s]"
     ]
    },
    {
     "name": "stdout",
     "output_type": "stream",
     "text": [
      "Message: 111010110101000001010111010011010100010000100111\n",
      "Decoded: 111010101101000011010011000011011000000000101111\n",
      "Bit Accuracy: 0.8125\n",
      "Detection Result:  0\n",
      " *** Image : jpeg_Image_351430.jpg ***\n",
      "Image id :  Image_351430.jpg\n"
     ]
    },
    {
     "name": "stderr",
     "output_type": "stream",
     "text": [
      " 46%|████▌     | 91/200 [00:27<00:31,  3.49it/s]"
     ]
    },
    {
     "name": "stdout",
     "output_type": "stream",
     "text": [
      "Message: 111010110101000001010111010011010100010000100111\n",
      "Decoded: 101010111111010011000001000011011100001000101111\n",
      "Bit Accuracy: 0.7291666666666666\n",
      "Detection Result:  0\n",
      " *** Image : jpeg_Image_547471.jpg ***\n",
      "Image id :  Image_547471.jpg\n"
     ]
    },
    {
     "name": "stderr",
     "output_type": "stream",
     "text": [
      " 46%|████▌     | 92/200 [00:27<00:33,  3.23it/s]"
     ]
    },
    {
     "name": "stdout",
     "output_type": "stream",
     "text": [
      "Message: 111010110101000001010111010011010100010000100111\n",
      "Decoded: 011110110101000011011111111011000100000000100111\n",
      "Bit Accuracy: 0.8333333333333334\n",
      "Detection Result:  0\n",
      " *** Image : jpeg_Image_576801.jpg ***\n",
      "Image id :  Image_576801.jpg\n"
     ]
    },
    {
     "name": "stderr",
     "output_type": "stream",
     "text": [
      " 46%|████▋     | 93/200 [00:28<00:31,  3.40it/s]"
     ]
    },
    {
     "name": "stdout",
     "output_type": "stream",
     "text": [
      "Message: 111010110101000001010111010011010100010000100111\n",
      "Decoded: 111000100101010011000101100011011100001001101111\n",
      "Bit Accuracy: 0.7291666666666666\n",
      "Detection Result:  0\n",
      " *** Image : jpeg_Image_409382.jpg ***\n",
      "Image id :  Image_409382.jpg\n"
     ]
    },
    {
     "name": "stderr",
     "output_type": "stream",
     "text": [
      " 47%|████▋     | 94/200 [00:28<00:33,  3.15it/s]"
     ]
    },
    {
     "name": "stdout",
     "output_type": "stream",
     "text": [
      "Message: 111010110101000001010111010011010100010000100111\n",
      "Decoded: 111110101111000011011011100011010100000000101111\n",
      "Bit Accuracy: 0.7708333333333334\n",
      "Detection Result:  0\n",
      " *** Image : jpeg_Image_150867.jpg ***\n",
      "Image id :  Image_150867.jpg\n"
     ]
    },
    {
     "name": "stderr",
     "output_type": "stream",
     "text": [
      " 48%|████▊     | 95/200 [00:28<00:31,  3.30it/s]"
     ]
    },
    {
     "name": "stdout",
     "output_type": "stream",
     "text": [
      "Message: 111010110101000001010111010011010100010000100111\n",
      "Decoded: 100010111111000011010011100011011100000000101111\n",
      "Bit Accuracy: 0.7708333333333334\n",
      "Detection Result:  0\n",
      " *** Image : jpeg_Image_225750.jpg ***\n",
      "Image id :  Image_225750.jpg\n"
     ]
    },
    {
     "name": "stderr",
     "output_type": "stream",
     "text": [
      " 48%|████▊     | 96/200 [00:28<00:30,  3.36it/s]"
     ]
    },
    {
     "name": "stdout",
     "output_type": "stream",
     "text": [
      "Message: 111010110101000001010111010011010100010000100111\n",
      "Decoded: 101110111101000011010011110001011000000000101111\n",
      "Bit Accuracy: 0.7708333333333334\n",
      "Detection Result:  0\n",
      " *** Image : jpeg_Image_55627.jpg ***\n",
      "Image id :  Image_55627.jpg\n"
     ]
    },
    {
     "name": "stderr",
     "output_type": "stream",
     "text": [
      " 48%|████▊     | 97/200 [00:29<00:31,  3.31it/s]"
     ]
    },
    {
     "name": "stdout",
     "output_type": "stream",
     "text": [
      "Message: 111010110101000001010111010011010100010000100111\n",
      "Decoded: 111010001101000001010001000011011010001001001111\n",
      "Bit Accuracy: 0.7083333333333334\n",
      "Detection Result:  0\n",
      " *** Image : jpeg_Image_246804.jpg ***\n",
      "Image id :  Image_246804.jpg\n"
     ]
    },
    {
     "name": "stderr",
     "output_type": "stream",
     "text": [
      " 49%|████▉     | 98/200 [00:29<00:31,  3.28it/s]"
     ]
    },
    {
     "name": "stdout",
     "output_type": "stream",
     "text": [
      "Message: 111010110101000001010111010011010100010000100111\n",
      "Decoded: 111000101000000101000001000011010010001101001111\n",
      "Bit Accuracy: 0.625\n",
      "Detection Result:  0\n",
      " *** Image : jpeg_Image_77375.jpg ***\n",
      "Image id :  Image_77375.jpg\n"
     ]
    },
    {
     "name": "stderr",
     "output_type": "stream",
     "text": [
      " 50%|████▉     | 99/200 [00:29<00:30,  3.30it/s]"
     ]
    },
    {
     "name": "stdout",
     "output_type": "stream",
     "text": [
      "Message: 111010110101000001010111010011010100010000100111\n",
      "Decoded: 111010100011000111000011000011011000001110100111\n",
      "Bit Accuracy: 0.7083333333333334\n",
      "Detection Result:  0\n",
      " *** Image : jpeg_Image_535786.jpg ***\n",
      "Image id :  Image_535786.jpg\n"
     ]
    },
    {
     "name": "stderr",
     "output_type": "stream",
     "text": [
      " 50%|█████     | 100/200 [00:30<00:31,  3.16it/s]"
     ]
    },
    {
     "name": "stdout",
     "output_type": "stream",
     "text": [
      "Message: 111010110101000001010111010011010100010000100111\n",
      "Decoded: 110000010001100101010101000000011010001001001111\n",
      "Bit Accuracy: 0.625\n",
      "Detection Result:  0\n",
      " *** Image : jpeg_Image_168194.jpg ***\n",
      "Image id :  Image_168194.jpg\n"
     ]
    },
    {
     "name": "stderr",
     "output_type": "stream",
     "text": [
      " 50%|█████     | 101/200 [00:30<00:28,  3.47it/s]"
     ]
    },
    {
     "name": "stdout",
     "output_type": "stream",
     "text": [
      "Message: 111010110101000001010111010011010100010000100111\n",
      "Decoded: 111000100101000011010011100011010100001000101111\n",
      "Bit Accuracy: 0.8125\n",
      "Detection Result:  0\n",
      " *** Image : jpeg_Image_525589.jpg ***\n",
      "Image id :  Image_525589.jpg\n"
     ]
    },
    {
     "name": "stderr",
     "output_type": "stream",
     "text": [
      " 51%|█████     | 102/200 [00:30<00:30,  3.20it/s]"
     ]
    },
    {
     "name": "stdout",
     "output_type": "stream",
     "text": [
      "Message: 111010110101000001010111010011010100010000100111\n",
      "Decoded: 101010111111010111001011101011010100001000101111\n",
      "Bit Accuracy: 0.6875\n",
      "Detection Result:  0\n",
      " *** Image : jpeg_Image_278347.jpg ***\n",
      "Image id :  Image_278347.jpg\n"
     ]
    },
    {
     "name": "stderr",
     "output_type": "stream",
     "text": [
      " 52%|█████▏    | 103/200 [00:31<00:32,  2.99it/s]"
     ]
    },
    {
     "name": "stdout",
     "output_type": "stream",
     "text": [
      "Message: 111010110101000001010111010011010100010000100111\n",
      "Decoded: 101011101101000011000011100111010100001000101111\n",
      "Bit Accuracy: 0.7291666666666666\n",
      "Detection Result:  0\n",
      " *** Image : jpeg_Image_420721.jpg ***\n",
      "Image id :  Image_420721.jpg\n"
     ]
    },
    {
     "name": "stderr",
     "output_type": "stream",
     "text": [
      " 52%|█████▏    | 104/200 [00:31<00:30,  3.14it/s]"
     ]
    },
    {
     "name": "stdout",
     "output_type": "stream",
     "text": [
      "Message: 111010110101000001010111010011010100010000100111\n",
      "Decoded: 111010011101000001010011000001011100001001101111\n",
      "Bit Accuracy: 0.7916666666666666\n",
      "Detection Result:  0\n",
      " *** Image : jpeg_Image_560628.jpg ***\n",
      "Image id :  Image_560628.jpg\n"
     ]
    },
    {
     "name": "stderr",
     "output_type": "stream",
     "text": [
      " 52%|█████▎    | 105/200 [00:31<00:27,  3.49it/s]"
     ]
    },
    {
     "name": "stdout",
     "output_type": "stream",
     "text": [
      "Message: 111010110101000001010111010011010100010000100111\n",
      "Decoded: 111110111110000010011011111011011100001010101111\n",
      "Bit Accuracy: 0.6875\n",
      "Detection Result:  0\n",
      " *** Image : jpeg_Image_155845.jpg ***\n",
      "Image id :  Image_155845.jpg\n"
     ]
    },
    {
     "name": "stderr",
     "output_type": "stream",
     "text": [
      " 53%|█████▎    | 106/200 [00:32<00:28,  3.34it/s]"
     ]
    },
    {
     "name": "stdout",
     "output_type": "stream",
     "text": [
      "Message: 111010110101000001010111010011010100010000100111\n",
      "Decoded: 111100101100000011001011000011011000000110101111\n",
      "Bit Accuracy: 0.6666666666666666\n",
      "Detection Result:  0\n",
      " *** Image : jpeg_Image_299411.jpg ***\n",
      "Image id :  Image_299411.jpg\n"
     ]
    },
    {
     "name": "stderr",
     "output_type": "stream",
     "text": [
      " 54%|█████▎    | 107/200 [00:32<00:29,  3.14it/s]"
     ]
    },
    {
     "name": "stdout",
     "output_type": "stream",
     "text": [
      "Message: 111010110101000001010111010011010100010000100111\n",
      "Decoded: 101010110111010011000001100011011000001000101111\n",
      "Bit Accuracy: 0.7083333333333334\n",
      "Detection Result:  0\n",
      " *** Image : jpeg_Image_84427.jpg ***\n",
      "Image id :  Image_84427.jpg\n"
     ]
    },
    {
     "name": "stderr",
     "output_type": "stream",
     "text": [
      " 54%|█████▍    | 108/200 [00:32<00:28,  3.22it/s]"
     ]
    },
    {
     "name": "stdout",
     "output_type": "stream",
     "text": [
      "Message: 111010110101000001010111010011010100010000100111\n",
      "Decoded: 111010111101000000010011001011010100001100101111\n",
      "Bit Accuracy: 0.8125\n",
      "Detection Result:  0\n",
      " *** Image : jpeg_Image_257350.jpg ***\n",
      "Image id :  Image_257350.jpg\n"
     ]
    },
    {
     "name": "stderr",
     "output_type": "stream",
     "text": [
      " 55%|█████▍    | 109/200 [00:33<00:29,  3.12it/s]"
     ]
    },
    {
     "name": "stdout",
     "output_type": "stream",
     "text": [
      "Message: 111010110101000001010111010011010100010000100111\n",
      "Decoded: 010110110001010111000001100011010100001010101111\n",
      "Bit Accuracy: 0.6666666666666666\n",
      "Detection Result:  0\n",
      " *** Image : jpeg_Image_209967.jpg ***\n",
      "Image id :  Image_209967.jpg\n"
     ]
    },
    {
     "name": "stderr",
     "output_type": "stream",
     "text": [
      " 55%|█████▌    | 110/200 [00:33<00:28,  3.12it/s]"
     ]
    },
    {
     "name": "stdout",
     "output_type": "stream",
     "text": [
      "Message: 111010110101000001010111010011010100010000100111\n",
      "Decoded: 111000000101000001010011000000011010001001101111\n",
      "Bit Accuracy: 0.7083333333333334\n",
      "Detection Result:  0\n",
      " *** Image : jpeg_Image_161919.jpg ***\n",
      "Image id :  Image_161919.jpg\n"
     ]
    },
    {
     "name": "stderr",
     "output_type": "stream",
     "text": [
      " 56%|█████▌    | 111/200 [00:33<00:29,  3.07it/s]"
     ]
    },
    {
     "name": "stdout",
     "output_type": "stream",
     "text": [
      "Message: 111010110101000001010111010011010100010000100111\n",
      "Decoded: 111010101111000001010011101011011000001000101111\n",
      "Bit Accuracy: 0.75\n",
      "Detection Result:  0\n",
      " *** Image : jpeg_Image_528906.jpg ***\n",
      "Image id :  Image_528906.jpg\n"
     ]
    },
    {
     "name": "stderr",
     "output_type": "stream",
     "text": [
      " 56%|█████▌    | 112/200 [00:34<00:29,  2.94it/s]"
     ]
    },
    {
     "name": "stdout",
     "output_type": "stream",
     "text": [
      "Message: 111010110101000001010111010011010100010000100111\n",
      "Decoded: 001011110101000011001011110001010110000010101111\n",
      "Bit Accuracy: 0.7291666666666666\n",
      "Detection Result:  0\n",
      " *** Image : jpeg_Image_316676.jpg ***\n",
      "Image id :  Image_316676.jpg\n"
     ]
    },
    {
     "name": "stderr",
     "output_type": "stream",
     "text": [
      " 56%|█████▋    | 113/200 [00:34<00:28,  3.06it/s]"
     ]
    },
    {
     "name": "stdout",
     "output_type": "stream",
     "text": [
      "Message: 111010110101000001010111010011010100010000100111\n",
      "Decoded: 111010110101000001000111100001010000000000100111\n",
      "Bit Accuracy: 0.875\n",
      "Detection Result:  0\n",
      " *** Image : jpeg_Image_388754.jpg ***\n",
      "Image id :  Image_388754.jpg\n"
     ]
    },
    {
     "name": "stderr",
     "output_type": "stream",
     "text": [
      " 57%|█████▋    | 114/200 [00:34<00:27,  3.09it/s]"
     ]
    },
    {
     "name": "stdout",
     "output_type": "stream",
     "text": [
      "Message: 111010110101000001010111010011010100010000100111\n",
      "Decoded: 110000110011110101000101000010011110001001001111\n",
      "Bit Accuracy: 0.625\n",
      "Detection Result:  0\n",
      " *** Image : jpeg_Image_412535.jpg ***\n",
      "Image id :  Image_412535.jpg\n"
     ]
    },
    {
     "name": "stderr",
     "output_type": "stream",
     "text": [
      " 57%|█████▊    | 115/200 [00:34<00:24,  3.45it/s]"
     ]
    },
    {
     "name": "stdout",
     "output_type": "stream",
     "text": [
      "Message: 111010110101000001010111010011010100010000100111\n",
      "Decoded: 111010110001000101010101000010011100001001001111\n",
      "Bit Accuracy: 0.7708333333333334\n",
      "Detection Result:  0\n",
      " *** Image : jpeg_Image_405613.jpg ***\n",
      "Image id :  Image_405613.jpg\n"
     ]
    },
    {
     "name": "stderr",
     "output_type": "stream",
     "text": [
      " 58%|█████▊    | 116/200 [00:35<00:26,  3.16it/s]"
     ]
    },
    {
     "name": "stdout",
     "output_type": "stream",
     "text": [
      "Message: 111010110101000001010111010011010100010000100111\n",
      "Decoded: 111011110101010011000001000010011100001000101111\n",
      "Bit Accuracy: 0.75\n",
      "Detection Result:  0\n",
      " *** Image : jpeg_Image_496939.jpg ***\n",
      "Image id :  Image_496939.jpg\n"
     ]
    },
    {
     "name": "stderr",
     "output_type": "stream",
     "text": [
      " 58%|█████▊    | 117/200 [00:35<00:25,  3.27it/s]"
     ]
    },
    {
     "name": "stdout",
     "output_type": "stream",
     "text": [
      "Message: 111010110101000001010111010011010100010000100111\n",
      "Decoded: 111110101101010011011011001011010100001000101111\n",
      "Bit Accuracy: 0.75\n",
      "Detection Result:  0\n",
      " *** Image : jpeg_Image_309322.jpg ***\n",
      "Image id :  Image_309322.jpg\n"
     ]
    },
    {
     "name": "stderr",
     "output_type": "stream",
     "text": [
      " 59%|█████▉    | 118/200 [00:35<00:25,  3.21it/s]"
     ]
    },
    {
     "name": "stdout",
     "output_type": "stream",
     "text": [
      "Message: 111010110101000001010111010011010100010000100111\n",
      "Decoded: 111010110101000101010111000011011110000000101111\n",
      "Bit Accuracy: 0.875\n",
      "Detection Result:  0\n",
      " *** Image : jpeg_Image_153674.jpg ***\n",
      "Image id :  Image_153674.jpg\n"
     ]
    },
    {
     "name": "stderr",
     "output_type": "stream",
     "text": [
      " 60%|█████▉    | 119/200 [00:36<00:26,  3.11it/s]"
     ]
    },
    {
     "name": "stdout",
     "output_type": "stream",
     "text": [
      "Message: 111010110101000001010111010011010100010000100111\n",
      "Decoded: 111000110101000001010111000011011100001001000111\n",
      "Bit Accuracy: 0.8541666666666666\n",
      "Detection Result:  0\n",
      " *** Image : jpeg_Image_317237.jpg ***\n",
      "Image id :  Image_317237.jpg\n"
     ]
    },
    {
     "name": "stderr",
     "output_type": "stream",
     "text": [
      " 60%|██████    | 120/200 [00:36<00:27,  2.91it/s]"
     ]
    },
    {
     "name": "stdout",
     "output_type": "stream",
     "text": [
      "Message: 111010110101000001010111010011010100010000100111\n",
      "Decoded: 111010110111010011010001000011011100001000101111\n",
      "Bit Accuracy: 0.7916666666666666\n",
      "Detection Result:  0\n",
      " *** Image : jpeg_Image_186233.jpg ***\n",
      "Image id :  Image_186233.jpg\n"
     ]
    },
    {
     "name": "stderr",
     "output_type": "stream",
     "text": [
      " 60%|██████    | 121/200 [00:36<00:25,  3.09it/s]"
     ]
    },
    {
     "name": "stdout",
     "output_type": "stream",
     "text": [
      "Message: 111010110101000001010111010011010100010000100111\n",
      "Decoded: 110110111011000001000001101011011100001000101111\n",
      "Bit Accuracy: 0.6875\n",
      "Detection Result:  0\n",
      " *** Image : jpeg_Image_214704.jpg ***\n",
      "Image id :  Image_214704.jpg\n"
     ]
    },
    {
     "name": "stderr",
     "output_type": "stream",
     "text": [
      " 61%|██████    | 122/200 [00:37<00:23,  3.26it/s]"
     ]
    },
    {
     "name": "stdout",
     "output_type": "stream",
     "text": [
      "Message: 111010110101000001010111010011010100010000100111\n",
      "Decoded: 101010010001000001000001000010011110001001000111\n",
      "Bit Accuracy: 0.7083333333333334\n",
      "Detection Result:  0\n",
      " *** Image : jpeg_Image_505126.jpg ***\n",
      "Image id :  Image_505126.jpg\n"
     ]
    },
    {
     "name": "stderr",
     "output_type": "stream",
     "text": [
      " 62%|██████▏   | 123/200 [00:37<00:22,  3.36it/s]"
     ]
    },
    {
     "name": "stdout",
     "output_type": "stream",
     "text": [
      "Message: 111010110101000001010111010011010100010000100111\n",
      "Decoded: 101011100111010011001101100011010110001000101111\n",
      "Bit Accuracy: 0.6875\n",
      "Detection Result:  0\n",
      " *** Image : jpeg_Image_122688.jpg ***\n",
      "Image id :  Image_122688.jpg\n"
     ]
    },
    {
     "name": "stderr",
     "output_type": "stream",
     "text": [
      " 62%|██████▏   | 124/200 [00:37<00:22,  3.44it/s]"
     ]
    },
    {
     "name": "stdout",
     "output_type": "stream",
     "text": [
      "Message: 111010110101000001010111010011010100010000100111\n",
      "Decoded: 110111110101000011010111001011011110001000101111\n",
      "Bit Accuracy: 0.7708333333333334\n",
      "Detection Result:  0\n",
      " *** Image : jpeg_Image_318189.jpg ***\n",
      "Image id :  Image_318189.jpg\n"
     ]
    },
    {
     "name": "stderr",
     "output_type": "stream",
     "text": [
      " 62%|██████▎   | 125/200 [00:38<00:22,  3.41it/s]"
     ]
    },
    {
     "name": "stdout",
     "output_type": "stream",
     "text": [
      "Message: 111010110101000001010111010011010100010000100111\n",
      "Decoded: 001111111101001001000001000011110100001010111111\n",
      "Bit Accuracy: 0.6666666666666666\n",
      "Detection Result:  0\n",
      " *** Image : jpeg_Image_239728.jpg ***\n",
      "Image id :  Image_239728.jpg\n"
     ]
    },
    {
     "name": "stderr",
     "output_type": "stream",
     "text": [
      " 63%|██████▎   | 126/200 [00:38<00:24,  2.98it/s]"
     ]
    },
    {
     "name": "stdout",
     "output_type": "stream",
     "text": [
      "Message: 111010110101000001010111010011010100010000100111\n",
      "Decoded: 101111111010010111000001101011011110001010101111\n",
      "Bit Accuracy: 0.5416666666666666\n",
      "Detection Result:  0\n",
      " *** Image : jpeg_Image_270912.jpg ***\n",
      "Image id :  Image_270912.jpg\n"
     ]
    },
    {
     "name": "stderr",
     "output_type": "stream",
     "text": [
      " 64%|██████▍   | 128/200 [00:38<00:19,  3.69it/s]"
     ]
    },
    {
     "name": "stdout",
     "output_type": "stream",
     "text": [
      "Message: 111010110101000001010111010011010100010000100111\n",
      "Decoded: 111101101101000011010011111101010100000100100111\n",
      "Bit Accuracy: 0.7291666666666666\n",
      "Detection Result:  0\n",
      " *** Image : jpeg_Image_170558.jpg ***\n",
      "Image id :  Image_170558.jpg\n",
      "Message: 111010110101000001010111010011010100010000100111\n",
      "Decoded: 111011101101010011010011100011010100001000101111\n",
      "Bit Accuracy: 0.7708333333333334\n",
      "Detection Result:  0\n",
      " *** Image : jpeg_Image_42493.jpg ***\n",
      "Image id :  Image_42493.jpg\n"
     ]
    },
    {
     "name": "stderr",
     "output_type": "stream",
     "text": [
      " 64%|██████▍   | 129/200 [00:39<00:18,  3.92it/s]"
     ]
    },
    {
     "name": "stdout",
     "output_type": "stream",
     "text": [
      "Message: 111010110101000001010111010011010100010000100111\n",
      "Decoded: 101100110111010111000001100011011100001000101111\n",
      "Bit Accuracy: 0.6666666666666666\n",
      "Detection Result:  0\n",
      " *** Image : jpeg_Image_441488.jpg ***\n",
      "Image id :  Image_441488.jpg\n"
     ]
    },
    {
     "name": "stderr",
     "output_type": "stream",
     "text": [
      " 65%|██████▌   | 130/200 [00:39<00:18,  3.75it/s]"
     ]
    },
    {
     "name": "stdout",
     "output_type": "stream",
     "text": [
      "Message: 111010110101000001010111010011010100010000100111\n",
      "Decoded: 101010100101000011010011001011010100000000101111\n",
      "Bit Accuracy: 0.8333333333333334\n",
      "Detection Result:  0\n",
      " *** Image : jpeg_Image_108627.jpg ***\n",
      "Image id :  Image_108627.jpg\n"
     ]
    },
    {
     "name": "stderr",
     "output_type": "stream",
     "text": [
      " 66%|██████▌   | 131/200 [00:39<00:20,  3.41it/s]"
     ]
    },
    {
     "name": "stdout",
     "output_type": "stream",
     "text": [
      "Message: 111010110101000001010111010011010100010000100111\n",
      "Decoded: 111100111001000101010101000011010010001000101111\n",
      "Bit Accuracy: 0.75\n",
      "Detection Result:  0\n",
      " *** Image : jpeg_Image_387083.jpg ***\n",
      "Image id :  Image_387083.jpg\n"
     ]
    },
    {
     "name": "stderr",
     "output_type": "stream",
     "text": [
      " 66%|██████▌   | 132/200 [00:40<00:19,  3.46it/s]"
     ]
    },
    {
     "name": "stdout",
     "output_type": "stream",
     "text": [
      "Message: 111010110101000001010111010011010100010000100111\n",
      "Decoded: 111010110101000001010111101011011110001000101111\n",
      "Bit Accuracy: 0.8333333333333334\n",
      "Detection Result:  0\n",
      " *** Image : jpeg_Image_556801.jpg ***\n",
      "Image id :  Image_556801.jpg\n"
     ]
    },
    {
     "name": "stderr",
     "output_type": "stream",
     "text": [
      " 66%|██████▋   | 133/200 [00:40<00:19,  3.47it/s]"
     ]
    },
    {
     "name": "stdout",
     "output_type": "stream",
     "text": [
      "Message: 111010110101000001010111010011010100010000100111\n",
      "Decoded: 110000010001100101010101000000011010001001001111\n",
      "Bit Accuracy: 0.625\n",
      "Detection Result:  0\n",
      " *** Image : jpeg_Image_62604.jpg ***\n",
      "Image id :  Image_62604.jpg\n"
     ]
    },
    {
     "name": "stderr",
     "output_type": "stream",
     "text": [
      " 67%|██████▋   | 134/200 [00:40<00:20,  3.25it/s]"
     ]
    },
    {
     "name": "stdout",
     "output_type": "stream",
     "text": [
      "Message: 111010110101000001010111010011010100010000100111\n",
      "Decoded: 001011111101000001010001101011010100001000101111\n",
      "Bit Accuracy: 0.75\n",
      "Detection Result:  0\n",
      " *** Image : jpeg_Image_136461.jpg ***\n",
      "Image id :  Image_136461.jpg\n"
     ]
    },
    {
     "name": "stderr",
     "output_type": "stream",
     "text": [
      " 68%|██████▊   | 135/200 [00:40<00:19,  3.32it/s]"
     ]
    },
    {
     "name": "stdout",
     "output_type": "stream",
     "text": [
      "Message: 111010110101000001010111010011010100010000100111\n",
      "Decoded: 101010101101000010010011000111011100001110100111\n",
      "Bit Accuracy: 0.7291666666666666\n",
      "Detection Result:  0\n",
      " *** Image : jpeg_Image_520950.jpg ***\n",
      "Image id :  Image_520950.jpg\n"
     ]
    },
    {
     "name": "stderr",
     "output_type": "stream",
     "text": [
      " 68%|██████▊   | 136/200 [00:41<00:18,  3.38it/s]"
     ]
    },
    {
     "name": "stdout",
     "output_type": "stream",
     "text": [
      "Message: 111010110101000001010111010011010100010000100111\n",
      "Decoded: 100010011111000011010111000001010100001000101111\n",
      "Bit Accuracy: 0.7708333333333334\n",
      "Detection Result:  0\n",
      " *** Image : jpeg_Image_343322.jpg ***\n",
      "Image id :  Image_343322.jpg\n"
     ]
    },
    {
     "name": "stderr",
     "output_type": "stream",
     "text": [
      " 68%|██████▊   | 137/200 [00:41<00:19,  3.30it/s]"
     ]
    },
    {
     "name": "stdout",
     "output_type": "stream",
     "text": [
      "Message: 111010110101000001010111010011010100010000100111\n",
      "Decoded: 101111111101000011000011100111010110000010101111\n",
      "Bit Accuracy: 0.7083333333333334\n",
      "Detection Result:  0\n",
      " *** Image : jpeg_Image_446014.jpg ***\n",
      "Image id :  Image_446014.jpg\n"
     ]
    },
    {
     "name": "stderr",
     "output_type": "stream",
     "text": [
      " 69%|██████▉   | 138/200 [00:41<00:19,  3.12it/s]"
     ]
    },
    {
     "name": "stdout",
     "output_type": "stream",
     "text": [
      "Message: 111010110101000001010111010011010100010000100111\n",
      "Decoded: 111010001011000001011011100011011100000010101111\n",
      "Bit Accuracy: 0.7291666666666666\n",
      "Detection Result:  0\n",
      " *** Image : jpeg_Image_530683.jpg ***\n",
      "Image id :  Image_530683.jpg\n"
     ]
    },
    {
     "name": "stderr",
     "output_type": "stream",
     "text": [
      " 70%|██████▉   | 139/200 [00:42<00:21,  2.77it/s]"
     ]
    },
    {
     "name": "stdout",
     "output_type": "stream",
     "text": [
      "Message: 111010110101000001010111010011010100010000100111\n",
      "Decoded: 101010111111000011010111110111010110000110100111\n",
      "Bit Accuracy: 0.7916666666666666\n",
      "Detection Result:  0\n",
      " *** Image : jpeg_Image_326511.jpg ***\n",
      "Image id :  Image_326511.jpg\n"
     ]
    },
    {
     "name": "stderr",
     "output_type": "stream",
     "text": [
      " 70%|███████   | 140/200 [00:42<00:20,  3.00it/s]"
     ]
    },
    {
     "name": "stdout",
     "output_type": "stream",
     "text": [
      "Message: 111010110101000001010111010011010100010000100111\n",
      "Decoded: 101010101111010111000011101011010100001110101111\n",
      "Bit Accuracy: 0.6458333333333334\n",
      "Detection Result:  0\n",
      " *** Image : jpeg_Image_496283.jpg ***\n",
      "Image id :  Image_496283.jpg\n"
     ]
    },
    {
     "name": "stderr",
     "output_type": "stream",
     "text": [
      " 70%|███████   | 141/200 [00:43<00:21,  2.80it/s]"
     ]
    },
    {
     "name": "stdout",
     "output_type": "stream",
     "text": [
      "Message: 111010110101000001010111010011010100010000100111\n",
      "Decoded: 101011101101010011010001101011011100001000101011\n",
      "Bit Accuracy: 0.6666666666666666\n",
      "Detection Result:  0\n",
      " *** Image : jpeg_Image_90570.jpg ***\n",
      "Image id :  Image_90570.jpg\n"
     ]
    },
    {
     "name": "stderr",
     "output_type": "stream",
     "text": [
      " 71%|███████   | 142/200 [00:43<00:20,  2.77it/s]"
     ]
    },
    {
     "name": "stdout",
     "output_type": "stream",
     "text": [
      "Message: 111010110101000001010111010011010100010000100111\n",
      "Decoded: 101010100111010011010011100011011100001001101111\n",
      "Bit Accuracy: 0.7291666666666666\n",
      "Detection Result:  0\n",
      " *** Image : jpeg_Image_412198.jpg ***\n",
      "Image id :  Image_412198.jpg\n"
     ]
    },
    {
     "name": "stderr",
     "output_type": "stream",
     "text": [
      " 72%|███████▏  | 143/200 [00:43<00:19,  2.95it/s]"
     ]
    },
    {
     "name": "stdout",
     "output_type": "stream",
     "text": [
      "Message: 111010110101000001010111010011010100010000100111\n",
      "Decoded: 101111101111000010010011001111010100000010101111\n",
      "Bit Accuracy: 0.6875\n",
      "Detection Result:  0\n",
      " *** Image : jpeg_Image_259446.jpg ***\n",
      "Image id :  Image_259446.jpg\n"
     ]
    },
    {
     "name": "stderr",
     "output_type": "stream",
     "text": [
      " 72%|███████▏  | 144/200 [00:44<00:19,  2.89it/s]"
     ]
    },
    {
     "name": "stdout",
     "output_type": "stream",
     "text": [
      "Message: 111010110101000001010111010011010100010000100111\n",
      "Decoded: 001110111111010001000011101011010100001010101111\n",
      "Bit Accuracy: 0.6875\n",
      "Detection Result:  0\n",
      " *** Image : jpeg_Image_283524.jpg ***\n",
      "Image id :  Image_283524.jpg\n"
     ]
    },
    {
     "name": "stderr",
     "output_type": "stream",
     "text": [
      " 73%|███████▎  | 146/200 [00:44<00:15,  3.43it/s]"
     ]
    },
    {
     "name": "stdout",
     "output_type": "stream",
     "text": [
      "Message: 111010110101000001010111010011010100010000100111\n",
      "Decoded: 101010110101000001010011101011011100000000101111\n",
      "Bit Accuracy: 0.8333333333333334\n",
      "Detection Result:  0\n",
      " *** Image : jpeg_Image_95133.jpg ***\n",
      "Image id :  Image_95133.jpg\n",
      "Message: 111010110101000001010111010011010100010000100111\n",
      "Decoded: 111010110110000001010011000011011100001000101111\n",
      "Bit Accuracy: 0.8333333333333334\n",
      "Detection Result:  0\n",
      " *** Image : jpeg_Image_142088.jpg ***\n",
      "Image id :  Image_142088.jpg\n"
     ]
    },
    {
     "name": "stderr",
     "output_type": "stream",
     "text": [
      " 74%|███████▎  | 147/200 [00:44<00:13,  3.88it/s]"
     ]
    },
    {
     "name": "stdout",
     "output_type": "stream",
     "text": [
      "Message: 111010110101000001010111010011010100010000100111\n",
      "Decoded: 101111101111010011000011101011010100001000101011\n",
      "Bit Accuracy: 0.6458333333333334\n",
      "Detection Result:  0\n",
      " *** Image : jpeg_Image_462559.jpg ***\n",
      "Image id :  Image_462559.jpg\n"
     ]
    },
    {
     "name": "stderr",
     "output_type": "stream",
     "text": [
      " 74%|███████▍  | 148/200 [00:45<00:13,  3.99it/s]"
     ]
    },
    {
     "name": "stdout",
     "output_type": "stream",
     "text": [
      "Message: 111010110101000001010111010011010100010000100111\n",
      "Decoded: 111110110101000001010111010011011110000000101111\n",
      "Bit Accuracy: 0.8958333333333334\n",
      "Detection Result:  0\n",
      " *** Image : jpeg_Image_98760.jpg ***\n",
      "Image id :  Image_98760.jpg\n"
     ]
    },
    {
     "name": "stderr",
     "output_type": "stream",
     "text": [
      " 74%|███████▍  | 149/200 [00:45<00:12,  4.00it/s]"
     ]
    },
    {
     "name": "stdout",
     "output_type": "stream",
     "text": [
      "Message: 111010110101000001010111010011010100010000100111\n",
      "Decoded: 101011111111000011010011000011010100001000101111\n",
      "Bit Accuracy: 0.7916666666666666\n",
      "Detection Result:  0\n",
      " *** Image : jpeg_Image_551125.jpg ***\n",
      "Image id :  Image_551125.jpg\n"
     ]
    },
    {
     "name": "stderr",
     "output_type": "stream",
     "text": [
      " 75%|███████▌  | 150/200 [00:45<00:11,  4.25it/s]"
     ]
    },
    {
     "name": "stdout",
     "output_type": "stream",
     "text": [
      "Message: 111010110101000001010111010011010100010000100111\n",
      "Decoded: 110000001101000001010011000001011010001001001111\n",
      "Bit Accuracy: 0.6666666666666666\n",
      "Detection Result:  0\n",
      " *** Image : jpeg_Image_540988.jpg ***\n",
      "Image id :  Image_540988.jpg\n"
     ]
    },
    {
     "name": "stderr",
     "output_type": "stream",
     "text": [
      " 76%|███████▌  | 151/200 [00:45<00:13,  3.55it/s]"
     ]
    },
    {
     "name": "stdout",
     "output_type": "stream",
     "text": [
      "Message: 111010110101000001010111010011010100010000100111\n",
      "Decoded: 101110110111010111000001101011011100001010101111\n",
      "Bit Accuracy: 0.6458333333333334\n",
      "Detection Result:  0\n",
      " *** Image : jpeg_Image_393493.jpg ***\n",
      "Image id :  Image_393493.jpg\n"
     ]
    },
    {
     "name": "stderr",
     "output_type": "stream",
     "text": [
      " 76%|███████▋  | 153/200 [00:46<00:10,  4.39it/s]"
     ]
    },
    {
     "name": "stdout",
     "output_type": "stream",
     "text": [
      "Message: 111010110101000001010111010011010100010000100111\n",
      "Decoded: 001111110110010110000001101011010100001010101011\n",
      "Bit Accuracy: 0.5625\n",
      "Detection Result:  0\n",
      " *** Image : jpeg_Image_483751.jpg ***\n",
      "Image id :  Image_483751.jpg\n",
      "Message: 111010110101000001010111010011010100010000100111\n",
      "Decoded: 101010101101010011000111101011001100001010101111\n",
      "Bit Accuracy: 0.6875\n",
      "Detection Result:  0\n",
      " *** Image : jpeg_Image_219025.jpg ***\n",
      "Image id :  Image_219025.jpg\n"
     ]
    },
    {
     "name": "stderr",
     "output_type": "stream",
     "text": [
      " 77%|███████▋  | 154/200 [00:46<00:09,  4.76it/s]"
     ]
    },
    {
     "name": "stdout",
     "output_type": "stream",
     "text": [
      "Message: 111010110101000001010111010011010100010000100111\n",
      "Decoded: 101110110101000101000011100001011110000001101111\n",
      "Bit Accuracy: 0.7291666666666666\n",
      "Detection Result:  0\n",
      " *** Image : jpeg_Image_574001.jpg ***\n",
      "Image id :  Image_574001.jpg\n"
     ]
    },
    {
     "name": "stderr",
     "output_type": "stream",
     "text": [
      " 78%|███████▊  | 156/200 [00:46<00:09,  4.67it/s]"
     ]
    },
    {
     "name": "stdout",
     "output_type": "stream",
     "text": [
      "Message: 111010110101000001010111010011010100010000100111\n",
      "Decoded: 110000010001100101010101000000011010001001001111\n",
      "Bit Accuracy: 0.625\n",
      "Detection Result:  0\n",
      " *** Image : jpeg_Image_280260.jpg ***\n",
      "Image id :  Image_280260.jpg\n",
      "Message: 111010110101000001010111010011010100010000100111\n",
      "Decoded: 101110111101000011010011101011010100001010101111\n",
      "Bit Accuracy: 0.75\n",
      "Detection Result:  0\n",
      " *** Image : jpeg_Image_71631.jpg ***\n",
      "Image id :  Image_71631.jpg\n"
     ]
    },
    {
     "name": "stderr",
     "output_type": "stream",
     "text": [
      " 78%|███████▊  | 157/200 [00:47<00:09,  4.56it/s]"
     ]
    },
    {
     "name": "stdout",
     "output_type": "stream",
     "text": [
      "Message: 111010110101000001010111010011010100010000100111\n",
      "Decoded: 101010111101000011000011000011011100001000100011\n",
      "Bit Accuracy: 0.7916666666666666\n",
      "Detection Result:  0\n",
      " *** Image : jpeg_Image_77806.jpg ***\n",
      "Image id :  Image_77806.jpg\n"
     ]
    },
    {
     "name": "stderr",
     "output_type": "stream",
     "text": [
      " 80%|███████▉  | 159/200 [00:47<00:09,  4.33it/s]"
     ]
    },
    {
     "name": "stdout",
     "output_type": "stream",
     "text": [
      "Message: 111010110101000001010111010011010100010000100111\n",
      "Decoded: 101010100111000011000011000011011110001010101111\n",
      "Bit Accuracy: 0.7291666666666666\n",
      "Detection Result:  0\n",
      " *** Image : jpeg_Image_215481.jpg ***\n",
      "Image id :  Image_215481.jpg\n",
      "Message: 111010110101000001010111010011010100010000100111\n",
      "Decoded: 101110111101000011010011100011010100000000101111\n",
      "Bit Accuracy: 0.8125\n",
      "Detection Result:  0\n",
      " *** Image : jpeg_Image_309093.jpg ***\n",
      "Image id :  Image_309093.jpg\n"
     ]
    },
    {
     "name": "stderr",
     "output_type": "stream",
     "text": [
      " 80%|████████  | 160/200 [00:47<00:09,  4.21it/s]"
     ]
    },
    {
     "name": "stdout",
     "output_type": "stream",
     "text": [
      "Message: 111010110101000001010111010011010100010000100111\n",
      "Decoded: 111110110111010011001011101111000000011110101111\n",
      "Bit Accuracy: 0.6458333333333334\n",
      "Detection Result:  0\n",
      " *** Image : jpeg_Image_467311.jpg ***\n",
      "Image id :  Image_467311.jpg\n"
     ]
    },
    {
     "name": "stderr",
     "output_type": "stream",
     "text": [
      " 80%|████████  | 161/200 [00:48<00:10,  3.81it/s]"
     ]
    },
    {
     "name": "stdout",
     "output_type": "stream",
     "text": [
      "Message: 111010110101000001010111010011010100010000100111\n",
      "Decoded: 111110100101000001010011000011011100000000100111\n",
      "Bit Accuracy: 0.875\n",
      "Detection Result:  0\n",
      " *** Image : jpeg_Image_394326.jpg ***\n",
      "Image id :  Image_394326.jpg\n"
     ]
    },
    {
     "name": "stderr",
     "output_type": "stream",
     "text": [
      " 81%|████████  | 162/200 [00:48<00:11,  3.30it/s]"
     ]
    },
    {
     "name": "stdout",
     "output_type": "stream",
     "text": [
      "Message: 111010110101000001010111010011010100010000100111\n",
      "Decoded: 111010100111000011010011100011011000000000101111\n",
      "Bit Accuracy: 0.7916666666666666\n",
      "Detection Result:  0\n",
      " *** Image : jpeg_Image_269829.jpg ***\n",
      "Image id :  Image_269829.jpg\n"
     ]
    },
    {
     "name": "stderr",
     "output_type": "stream",
     "text": [
      " 82%|████████▏ | 163/200 [00:48<00:10,  3.63it/s]"
     ]
    },
    {
     "name": "stdout",
     "output_type": "stream",
     "text": [
      "Message: 111010110101000001010111010011010100010000100111\n",
      "Decoded: 101010100111010011000001000011011100001000100111\n",
      "Bit Accuracy: 0.75\n",
      "Detection Result:  0\n",
      " *** Image : jpeg_Image_181104.jpg ***\n",
      "Image id :  Image_181104.jpg\n"
     ]
    },
    {
     "name": "stderr",
     "output_type": "stream",
     "text": [
      " 82%|████████▏ | 164/200 [00:49<00:09,  3.62it/s]"
     ]
    },
    {
     "name": "stdout",
     "output_type": "stream",
     "text": [
      "Message: 111010110101000001010111010011010100010000100111\n",
      "Decoded: 111010111101000001010111000011011100000000101111\n",
      "Bit Accuracy: 0.8958333333333334\n",
      "Detection Result:  0\n",
      " *** Image : jpeg_Image_36633.jpg ***\n",
      "Image id :  Image_36633.jpg\n"
     ]
    },
    {
     "name": "stderr",
     "output_type": "stream",
     "text": [
      " 82%|████████▎ | 165/200 [00:49<00:09,  3.52it/s]"
     ]
    },
    {
     "name": "stdout",
     "output_type": "stream",
     "text": [
      "Message: 111010110101000001010111010011010100010000100111\n",
      "Decoded: 110000010001100101010101000000011010001001001111\n",
      "Bit Accuracy: 0.625\n",
      "Detection Result:  0\n",
      " *** Image : jpeg_Image_262845.jpg ***\n",
      "Image id :  Image_262845.jpg\n"
     ]
    },
    {
     "name": "stderr",
     "output_type": "stream",
     "text": [
      " 83%|████████▎ | 166/200 [00:49<00:10,  3.35it/s]"
     ]
    },
    {
     "name": "stdout",
     "output_type": "stream",
     "text": [
      "Message: 111010110101000001010111010011010100010000100111\n",
      "Decoded: 100100110101000001010111000001011100011000101111\n",
      "Bit Accuracy: 0.8125\n",
      "Detection Result:  0\n",
      " *** Image : jpeg_Image_524068.jpg ***\n",
      "Image id :  Image_524068.jpg\n"
     ]
    },
    {
     "name": "stderr",
     "output_type": "stream",
     "text": [
      " 84%|████████▎ | 167/200 [00:49<00:09,  3.62it/s]"
     ]
    },
    {
     "name": "stdout",
     "output_type": "stream",
     "text": [
      "Message: 111010110101000001010111010011010100010000100111\n",
      "Decoded: 111010110001000001011011100011011010001001100111\n",
      "Bit Accuracy: 0.7708333333333334\n",
      "Detection Result:  0\n",
      " *** Image : jpeg_Image_581674.jpg ***\n",
      "Image id :  Image_581674.jpg\n"
     ]
    },
    {
     "name": "stderr",
     "output_type": "stream",
     "text": [
      " 84%|████████▍ | 168/200 [00:50<00:09,  3.49it/s]"
     ]
    },
    {
     "name": "stdout",
     "output_type": "stream",
     "text": [
      "Message: 111010110101000001010111010011010100010000100111\n",
      "Decoded: 111110111111000011010111000011011100001000101111\n",
      "Bit Accuracy: 0.8125\n",
      "Detection Result:  0\n",
      " *** Image : jpeg_Image_520208.jpg ***\n",
      "Image id :  Image_520208.jpg\n"
     ]
    },
    {
     "name": "stderr",
     "output_type": "stream",
     "text": [
      " 84%|████████▍ | 169/200 [00:50<00:08,  3.79it/s]"
     ]
    },
    {
     "name": "stdout",
     "output_type": "stream",
     "text": [
      "Message: 111010110101000001010111010011010100010000100111\n",
      "Decoded: 101000100101000011010101100010011100001001101111\n",
      "Bit Accuracy: 0.7291666666666666\n",
      "Detection Result:  0\n",
      " *** Image : jpeg_Image_157032.jpg ***\n",
      "Image id :  Image_157032.jpg\n"
     ]
    },
    {
     "name": "stderr",
     "output_type": "stream",
     "text": [
      " 85%|████████▌ | 170/200 [00:50<00:08,  3.74it/s]"
     ]
    },
    {
     "name": "stdout",
     "output_type": "stream",
     "text": [
      "Message: 111010110101000001010111010011010100010000100111\n",
      "Decoded: 110110110101000000001101101000011100001010101111\n",
      "Bit Accuracy: 0.6666666666666666\n",
      "Detection Result:  0\n",
      " *** Image : jpeg_Image_341550.jpg ***\n",
      "Image id :  Image_341550.jpg\n"
     ]
    },
    {
     "name": "stderr",
     "output_type": "stream",
     "text": [
      " 86%|████████▌ | 171/200 [00:50<00:07,  3.82it/s]"
     ]
    },
    {
     "name": "stdout",
     "output_type": "stream",
     "text": [
      "Message: 111010110101000001010111010011010100010000100111\n",
      "Decoded: 101000111101010001000001100011010100001000101111\n",
      "Bit Accuracy: 0.75\n",
      "Detection Result:  0\n",
      " *** Image : jpeg_Image_277854.jpg ***\n",
      "Image id :  Image_277854.jpg\n"
     ]
    },
    {
     "name": "stderr",
     "output_type": "stream",
     "text": [
      " 86%|████████▌ | 172/200 [00:51<00:07,  3.75it/s]"
     ]
    },
    {
     "name": "stdout",
     "output_type": "stream",
     "text": [
      "Message: 111010110101000001010111010011010100010000100111\n",
      "Decoded: 111110000101000011011101100001011000000001000111\n",
      "Bit Accuracy: 0.7083333333333334\n",
      "Detection Result:  0\n",
      " *** Image : jpeg_Image_96997.jpg ***\n",
      "Image id :  Image_96997.jpg\n"
     ]
    },
    {
     "name": "stderr",
     "output_type": "stream",
     "text": [
      " 86%|████████▋ | 173/200 [00:51<00:07,  3.60it/s]"
     ]
    },
    {
     "name": "stdout",
     "output_type": "stream",
     "text": [
      "Message: 111010110101000001010111010011010100010000100111\n",
      "Decoded: 101110101100010010010001001001010100001010101111\n",
      "Bit Accuracy: 0.6458333333333334\n",
      "Detection Result:  0\n",
      " *** Image : jpeg_Image_4428.jpg ***\n",
      "Image id :  Image_4428.jpg\n"
     ]
    },
    {
     "name": "stderr",
     "output_type": "stream",
     "text": [
      " 88%|████████▊ | 175/200 [00:51<00:06,  3.98it/s]"
     ]
    },
    {
     "name": "stdout",
     "output_type": "stream",
     "text": [
      "Message: 111010110101000001010111010011010100010000100111\n",
      "Decoded: 101011110111010001000011000011011100001000101111\n",
      "Bit Accuracy: 0.7708333333333334\n",
      "Detection Result:  0\n",
      " *** Image : jpeg_Image_292835.jpg ***\n",
      "Image id :  Image_292835.jpg\n",
      "Message: 111010110101000001010111010011010100010000100111\n",
      "Decoded: 111110111101000010010011100001011010001010101111\n",
      "Bit Accuracy: 0.6875\n",
      "Detection Result:  0\n",
      " *** Image : jpeg_Image_483008.jpg ***\n",
      "Image id :  Image_483008.jpg\n"
     ]
    },
    {
     "name": "stderr",
     "output_type": "stream",
     "text": [
      " 88%|████████▊ | 177/200 [00:52<00:05,  4.11it/s]"
     ]
    },
    {
     "name": "stdout",
     "output_type": "stream",
     "text": [
      "Message: 111010110101000001010111010011010100010000100111\n",
      "Decoded: 101110100101000011000011000111010100001010100111\n",
      "Bit Accuracy: 0.7708333333333334\n",
      "Detection Result:  0\n",
      " *** Image : jpeg_Image_311914.jpg ***\n",
      "Image id :  Image_311914.jpg\n",
      "Message: 111010110101000001010111010011010100010000100111\n",
      "Decoded: 110000110001000001010101000011011110001001001111\n",
      "Bit Accuracy: 0.75\n",
      "Detection Result:  0\n",
      " *** Image : jpeg_Image_504616.jpg ***\n",
      "Image id :  Image_504616.jpg\n"
     ]
    },
    {
     "name": "stderr",
     "output_type": "stream",
     "text": [
      " 89%|████████▉ | 178/200 [00:52<00:05,  4.19it/s]"
     ]
    },
    {
     "name": "stdout",
     "output_type": "stream",
     "text": [
      "Message: 111010110101000001010111010011010100010000100111\n",
      "Decoded: 111010100101000011010011000001011100001001101111\n",
      "Bit Accuracy: 0.7916666666666666\n",
      "Detection Result:  0\n",
      " *** Image : jpeg_Image_377694.jpg ***\n",
      "Image id :  Image_377694.jpg\n"
     ]
    },
    {
     "name": "stderr",
     "output_type": "stream",
     "text": [
      " 90%|████████▉ | 179/200 [00:52<00:05,  4.18it/s]"
     ]
    },
    {
     "name": "stdout",
     "output_type": "stream",
     "text": [
      "Message: 111010110101000001010111010011010100010000100111\n",
      "Decoded: 101110111001010011001011101011010100001010101111\n",
      "Bit Accuracy: 0.6666666666666666\n",
      "Detection Result:  0\n",
      " *** Image : jpeg_Image_474882.jpg ***\n",
      "Image id :  Image_474882.jpg\n"
     ]
    },
    {
     "name": "stderr",
     "output_type": "stream",
     "text": [
      " 90%|█████████ | 180/200 [00:53<00:04,  4.09it/s]"
     ]
    },
    {
     "name": "stdout",
     "output_type": "stream",
     "text": [
      "Message: 111010110101000001010111010011010100010000100111\n",
      "Decoded: 001101111001000011000011100001011100001000101111\n",
      "Bit Accuracy: 0.6458333333333334\n",
      "Detection Result:  0\n",
      " *** Image : jpeg_Image_170850.jpg ***\n",
      "Image id :  Image_170850.jpg\n"
     ]
    },
    {
     "name": "stderr",
     "output_type": "stream",
     "text": [
      " 90%|█████████ | 181/200 [00:53<00:04,  3.98it/s]"
     ]
    },
    {
     "name": "stdout",
     "output_type": "stream",
     "text": [
      "Message: 111010110101000001010111010011010100010000100111\n",
      "Decoded: 101101111110010111001001101011011100001010101111\n",
      "Bit Accuracy: 0.5416666666666666\n",
      "Detection Result:  0\n",
      " *** Image : jpeg_Image_469605.jpg ***\n",
      "Image id :  Image_469605.jpg\n"
     ]
    },
    {
     "name": "stderr",
     "output_type": "stream",
     "text": [
      " 91%|█████████ | 182/200 [00:53<00:04,  3.76it/s]"
     ]
    },
    {
     "name": "stdout",
     "output_type": "stream",
     "text": [
      "Message: 111010110101000001010111010011010100010000100111\n",
      "Decoded: 001110111111010011000011101011011100001010101111\n",
      "Bit Accuracy: 0.6458333333333334\n",
      "Detection Result:  0\n",
      " *** Image : jpeg_Image_348850.jpg ***\n",
      "Image id :  Image_348850.jpg\n"
     ]
    },
    {
     "name": "stderr",
     "output_type": "stream",
     "text": [
      " 92%|█████████▏| 184/200 [00:54<00:03,  4.19it/s]"
     ]
    },
    {
     "name": "stdout",
     "output_type": "stream",
     "text": [
      "Message: 111010110101000001010111010011010100010000100111\n",
      "Decoded: 001110101111011011000001101011010100001010100111\n",
      "Bit Accuracy: 0.625\n",
      "Detection Result:  0\n",
      " *** Image : jpeg_Image_66514.jpg ***\n",
      "Image id :  Image_66514.jpg\n",
      "Message: 111010110101000001010111010011010100010000100111\n",
      "Decoded: 110000100001000101010001000010011110001001101111\n",
      "Bit Accuracy: 0.6875\n",
      "Detection Result:  0\n",
      " *** Image : jpeg_Image_18885.jpg ***\n",
      "Image id :  Image_18885.jpg\n"
     ]
    },
    {
     "name": "stderr",
     "output_type": "stream",
     "text": [
      " 92%|█████████▎| 185/200 [00:54<00:03,  3.80it/s]"
     ]
    },
    {
     "name": "stdout",
     "output_type": "stream",
     "text": [
      "Message: 111010110101000001010111010011010100010000100111\n",
      "Decoded: 101010101101010011010011100111010100001000101111\n",
      "Bit Accuracy: 0.75\n",
      "Detection Result:  0\n",
      " *** Image : jpeg_Image_101418.jpg ***\n",
      "Image id :  Image_101418.jpg\n"
     ]
    },
    {
     "name": "stderr",
     "output_type": "stream",
     "text": [
      " 93%|█████████▎| 186/200 [00:54<00:03,  3.62it/s]"
     ]
    },
    {
     "name": "stdout",
     "output_type": "stream",
     "text": [
      "Message: 111010110101000001010111010011010100010000100111\n",
      "Decoded: 001010111101010111001011001011010100001000101111\n",
      "Bit Accuracy: 0.7083333333333334\n",
      "Detection Result:  0\n",
      " *** Image : jpeg_Image_546451.jpg ***\n",
      "Image id :  Image_546451.jpg\n"
     ]
    },
    {
     "name": "stderr",
     "output_type": "stream",
     "text": [
      " 94%|█████████▎| 187/200 [00:55<00:03,  3.64it/s]"
     ]
    },
    {
     "name": "stdout",
     "output_type": "stream",
     "text": [
      "Message: 111010110101000001010111010011010100010000100111\n",
      "Decoded: 110000010001100101010101000010011010001001001111\n",
      "Bit Accuracy: 0.6458333333333334\n",
      "Detection Result:  0\n",
      " *** Image : jpeg_Image_167603.jpg ***\n",
      "Image id :  Image_167603.jpg\n"
     ]
    },
    {
     "name": "stderr",
     "output_type": "stream",
     "text": [
      " 94%|█████████▍| 189/200 [00:55<00:02,  3.88it/s]"
     ]
    },
    {
     "name": "stdout",
     "output_type": "stream",
     "text": [
      "Message: 111010110101000001010111010011010100010000100111\n",
      "Decoded: 001010101111010011000011101011010100001000101111\n",
      "Bit Accuracy: 0.6875\n",
      "Detection Result:  0\n",
      " *** Image : jpeg_Image_313932.jpg ***\n",
      "Image id :  Image_313932.jpg\n",
      "Message: 111010110101000001010111010011010100010000100111\n",
      "Decoded: 101010110101000011010011101011011100001000101111\n",
      "Bit Accuracy: 0.7916666666666666\n",
      "Detection Result:  0\n",
      " *** Image : jpeg_Image_222016.jpg ***\n",
      "Image id :  Image_222016.jpg\n"
     ]
    },
    {
     "name": "stderr",
     "output_type": "stream",
     "text": [
      " 95%|█████████▌| 190/200 [00:55<00:02,  3.54it/s]"
     ]
    },
    {
     "name": "stdout",
     "output_type": "stream",
     "text": [
      "Message: 111010110101000001010111010011010100010000100111\n",
      "Decoded: 101111111101000010000011101011010100001010101111\n",
      "Bit Accuracy: 0.6875\n",
      "Detection Result:  0\n",
      " *** Image : jpeg_Image_576757.jpg ***\n",
      "Image id :  Image_576757.jpg\n"
     ]
    },
    {
     "name": "stderr",
     "output_type": "stream",
     "text": [
      " 96%|█████████▌| 191/200 [00:56<00:02,  3.31it/s]"
     ]
    },
    {
     "name": "stdout",
     "output_type": "stream",
     "text": [
      "Message: 111010110101000001010111010011010100010000100111\n",
      "Decoded: 111001110101000011000101000011011110001001101111\n",
      "Bit Accuracy: 0.75\n",
      "Detection Result:  0\n",
      " *** Image : jpeg_Image_165499.jpg ***\n",
      "Image id :  Image_165499.jpg\n"
     ]
    },
    {
     "name": "stderr",
     "output_type": "stream",
     "text": [
      " 96%|█████████▌| 192/200 [00:56<00:02,  3.08it/s]"
     ]
    },
    {
     "name": "stdout",
     "output_type": "stream",
     "text": [
      "Message: 111010110101000001010111010011010100010000100111\n",
      "Decoded: 111000010011000001010001100000011110001001101111\n",
      "Bit Accuracy: 0.6666666666666666\n",
      "Detection Result:  0\n",
      " *** Image : jpeg_Image_540162.jpg ***\n",
      "Image id :  Image_540162.jpg\n"
     ]
    },
    {
     "name": "stderr",
     "output_type": "stream",
     "text": [
      " 96%|█████████▋| 193/200 [00:56<00:02,  3.18it/s]"
     ]
    },
    {
     "name": "stdout",
     "output_type": "stream",
     "text": [
      "Message: 111010110101000001010111010011010100010000100111\n",
      "Decoded: 111110111111000011000011001011011100000010101111\n",
      "Bit Accuracy: 0.75\n",
      "Detection Result:  0\n",
      " *** Image : jpeg_Image_167613.jpg ***\n",
      "Image id :  Image_167613.jpg\n"
     ]
    },
    {
     "name": "stderr",
     "output_type": "stream",
     "text": [
      " 98%|█████████▊| 195/200 [00:57<00:01,  3.90it/s]"
     ]
    },
    {
     "name": "stdout",
     "output_type": "stream",
     "text": [
      "Message: 111010110101000001010111010011010100010000100111\n",
      "Decoded: 011000100101011001010111011011110000010000100111\n",
      "Bit Accuracy: 0.8333333333333334\n",
      "Detection Result:  0\n",
      " *** Image : jpeg_Image_371029.jpg ***\n",
      "Image id :  Image_371029.jpg\n",
      "Message: 111010110101000001010111010011010100010000100111\n",
      "Decoded: 111010101101000111000001100001011010001000101111\n",
      "Bit Accuracy: 0.6666666666666666\n",
      "Detection Result:  0\n",
      " *** Image : jpeg_Image_57870.jpg ***\n",
      "Image id :  Image_57870.jpg\n"
     ]
    },
    {
     "name": "stderr",
     "output_type": "stream",
     "text": [
      " 98%|█████████▊| 197/200 [00:57<00:00,  4.50it/s]"
     ]
    },
    {
     "name": "stdout",
     "output_type": "stream",
     "text": [
      "Message: 111010110101000001010111010011010100010000100111\n",
      "Decoded: 111010110101000001010011000011010110001000101111\n",
      "Bit Accuracy: 0.875\n",
      "Detection Result:  0\n",
      " *** Image : jpeg_Image_405207.jpg ***\n",
      "Image id :  Image_405207.jpg\n",
      "Message: 111010110101000001010111010011010100010000100111\n",
      "Decoded: 101010111111000011010011000011011100001000101111\n",
      "Bit Accuracy: 0.7916666666666666\n",
      "Detection Result:  0\n",
      " *** Image : jpeg_Image_160163.jpg ***\n",
      "Image id :  Image_160163.jpg\n"
     ]
    },
    {
     "name": "stderr",
     "output_type": "stream",
     "text": [
      " 99%|█████████▉| 198/200 [00:58<00:00,  4.33it/s]"
     ]
    },
    {
     "name": "stdout",
     "output_type": "stream",
     "text": [
      "Message: 111010110101000001010111010011010100010000100111\n",
      "Decoded: 110010011101001101010001000010011010001001101111\n",
      "Bit Accuracy: 0.6666666666666666\n",
      "Detection Result:  0\n",
      " *** Image : jpeg_Image_497616.jpg ***\n",
      "Image id :  Image_497616.jpg\n"
     ]
    },
    {
     "name": "stderr",
     "output_type": "stream",
     "text": [
      "100%|█████████▉| 199/200 [00:58<00:00,  3.77it/s]"
     ]
    },
    {
     "name": "stdout",
     "output_type": "stream",
     "text": [
      "Message: 111010110101000001010111010011010100010000100111\n",
      "Decoded: 110010110101000011010101000001011000011000101111\n",
      "Bit Accuracy: 0.8125\n",
      "Detection Result:  0\n",
      " *** Image : jpeg_Image_365363.jpg ***\n",
      "Image id :  Image_365363.jpg\n"
     ]
    },
    {
     "name": "stderr",
     "output_type": "stream",
     "text": [
      "100%|██████████| 200/200 [00:58<00:00,  3.41it/s]\n"
     ]
    },
    {
     "name": "stdout",
     "output_type": "stream",
     "text": [
      "Message: 111010110101000001010111010011010100010000100111\n",
      "Decoded: 110000010001100101010101000000011010001001001111\n",
      "Bit Accuracy: 0.625\n",
      "Detection Result:  0\n",
      " ----- Attack : rotation -----\n"
     ]
    },
    {
     "name": "stderr",
     "output_type": "stream",
     "text": [
      "  0%|          | 0/200 [00:00<?, ?it/s]"
     ]
    },
    {
     "name": "stdout",
     "output_type": "stream",
     "text": [
      " *** Image : rotation_Image_413746.jpg ***\n",
      "Image id :  Image_413746.jpg\n"
     ]
    },
    {
     "name": "stderr",
     "output_type": "stream",
     "text": [
      "  0%|          | 1/200 [00:00<01:03,  3.14it/s]"
     ]
    },
    {
     "name": "stdout",
     "output_type": "stream",
     "text": [
      "Message: 111010110101000001010111010011010100010000100111\n",
      "Decoded: 110000010011000101000000001011011010001000101011\n",
      "Bit Accuracy: 0.6041666666666666\n",
      "Detection Result:  0\n",
      " *** Image : rotation_Image_96997.jpg ***\n",
      "Image id :  Image_96997.jpg\n"
     ]
    },
    {
     "name": "stderr",
     "output_type": "stream",
     "text": [
      "  2%|▏         | 3/200 [00:00<00:52,  3.79it/s]"
     ]
    },
    {
     "name": "stdout",
     "output_type": "stream",
     "text": [
      "Message: 111010110101000001010111010011010100010000100111\n",
      "Decoded: 100110101110010010010001101001011100001000101111\n",
      "Bit Accuracy: 0.5833333333333334\n",
      "Detection Result:  0\n",
      " *** Image : rotation_Image_142088.jpg ***\n",
      "Image id :  Image_142088.jpg\n",
      "Message: 111010110101000001010111010011010100010000100111\n",
      "Decoded: 101000101111010011000001101011011110001101001111\n",
      "Bit Accuracy: 0.5625\n",
      "Detection Result:  0\n",
      " *** Image : rotation_Image_574001.jpg ***\n",
      "Image id :  Image_574001.jpg\n"
     ]
    },
    {
     "name": "stderr",
     "output_type": "stream",
     "text": [
      "  2%|▏         | 4/200 [00:01<00:58,  3.38it/s]"
     ]
    },
    {
     "name": "stdout",
     "output_type": "stream",
     "text": [
      "Message: 111010110101000001010111010011010100010000100111\n",
      "Decoded: 110000010001100101010101001000011010001001001111\n",
      "Bit Accuracy: 0.6041666666666666\n",
      "Detection Result:  0\n",
      " *** Image : rotation_Image_292835.jpg ***\n",
      "Image id :  Image_292835.jpg\n"
     ]
    },
    {
     "name": "stderr",
     "output_type": "stream",
     "text": [
      "  2%|▎         | 5/200 [00:01<00:53,  3.66it/s]"
     ]
    },
    {
     "name": "stdout",
     "output_type": "stream",
     "text": [
      "Message: 111010110101000001010111010011010100010000100111\n",
      "Decoded: 110000010011000101010101001000011100001000001111\n",
      "Bit Accuracy: 0.6666666666666666\n",
      "Detection Result:  0\n",
      " *** Image : rotation_Image_485894.jpg ***\n",
      "Image id :  Image_485894.jpg\n"
     ]
    },
    {
     "name": "stderr",
     "output_type": "stream",
     "text": [
      "  3%|▎         | 6/200 [00:01<00:49,  3.93it/s]"
     ]
    },
    {
     "name": "stdout",
     "output_type": "stream",
     "text": [
      "Message: 111010110101000001010111010011010100010000100111\n",
      "Decoded: 110000010001100101010101001000011010001001001111\n",
      "Bit Accuracy: 0.6041666666666666\n",
      "Detection Result:  0\n",
      " *** Image : rotation_Image_530683.jpg ***\n",
      "Image id :  Image_530683.jpg\n"
     ]
    },
    {
     "name": "stderr",
     "output_type": "stream",
     "text": [
      "  4%|▎         | 7/200 [00:02<00:58,  3.29it/s]"
     ]
    },
    {
     "name": "stdout",
     "output_type": "stream",
     "text": [
      "Message: 111010110101000001010111010011010100010000100111\n",
      "Decoded: 001110101111010101000011001011011100001000001111\n",
      "Bit Accuracy: 0.6458333333333334\n",
      "Detection Result:  0\n",
      " *** Image : rotation_Image_209967.jpg ***\n",
      "Image id :  Image_209967.jpg\n"
     ]
    },
    {
     "name": "stderr",
     "output_type": "stream",
     "text": [
      "  4%|▍         | 8/200 [00:02<00:54,  3.52it/s]"
     ]
    },
    {
     "name": "stdout",
     "output_type": "stream",
     "text": [
      "Message: 111010110101000001010111010011010100010000100111\n",
      "Decoded: 110000010001100101010101001000011110001001001111\n",
      "Bit Accuracy: 0.625\n",
      "Detection Result:  0\n",
      " *** Image : rotation_Image_69675.jpg ***\n",
      "Image id :  Image_69675.jpg\n"
     ]
    },
    {
     "name": "stderr",
     "output_type": "stream",
     "text": [
      "  5%|▌         | 10/200 [00:02<00:46,  4.10it/s]"
     ]
    },
    {
     "name": "stdout",
     "output_type": "stream",
     "text": [
      "Message: 111010110101000001010111010011010100010000100111\n",
      "Decoded: 110000000111000111010001001000011110001001001111\n",
      "Bit Accuracy: 0.5833333333333334\n",
      "Detection Result:  0\n",
      " *** Image : rotation_Image_317237.jpg ***\n",
      "Image id :  Image_317237.jpg\n",
      "Message: 111010110101000001010111010011010100010000100111\n",
      "Decoded: 111000001111010011010001001101011100001001001111\n",
      "Bit Accuracy: 0.6041666666666666\n",
      "Detection Result:  0\n",
      " *** Image : rotation_Image_170850.jpg ***\n",
      "Image id :  Image_170850.jpg\n"
     ]
    },
    {
     "name": "stderr",
     "output_type": "stream",
     "text": [
      "  6%|▌         | 11/200 [00:03<00:49,  3.85it/s]"
     ]
    },
    {
     "name": "stdout",
     "output_type": "stream",
     "text": [
      "Message: 111010110101000001010111010011010100010000100111\n",
      "Decoded: 101100111111010111001001001011011100001000101111\n",
      "Bit Accuracy: 0.625\n",
      "Detection Result:  0\n",
      " *** Image : rotation_Image_71631.jpg ***\n",
      "Image id :  Image_71631.jpg\n"
     ]
    },
    {
     "name": "stderr",
     "output_type": "stream",
     "text": [
      "  6%|▌         | 12/200 [00:03<00:46,  4.02it/s]"
     ]
    },
    {
     "name": "stdout",
     "output_type": "stream",
     "text": [
      "Message: 111010110101000001010111010011010100010000100111\n",
      "Decoded: 100010001111000111000001001100011110001000101111\n",
      "Bit Accuracy: 0.5625\n",
      "Detection Result:  0\n",
      " *** Image : rotation_Image_405207.jpg ***\n",
      "Image id :  Image_405207.jpg\n"
     ]
    },
    {
     "name": "stderr",
     "output_type": "stream",
     "text": [
      "  6%|▋         | 13/200 [00:03<00:45,  4.12it/s]"
     ]
    },
    {
     "name": "stdout",
     "output_type": "stream",
     "text": [
      "Message: 111010110101000001010111010011010100010000100111\n",
      "Decoded: 100000000011010111010000001000011100001000101111\n",
      "Bit Accuracy: 0.5625\n",
      "Detection Result:  0\n",
      " *** Image : rotation_Image_309322.jpg ***\n",
      "Image id :  Image_309322.jpg\n"
     ]
    },
    {
     "name": "stderr",
     "output_type": "stream",
     "text": [
      "  7%|▋         | 14/200 [00:03<00:43,  4.25it/s]"
     ]
    },
    {
     "name": "stdout",
     "output_type": "stream",
     "text": [
      "Message: 111010110101000001010111010011010100010000100111\n",
      "Decoded: 111000010101000101010000001100011110001001001111\n",
      "Bit Accuracy: 0.625\n",
      "Detection Result:  0\n",
      " *** Image : rotation_Image_462559.jpg ***\n",
      "Image id :  Image_462559.jpg\n"
     ]
    },
    {
     "name": "stderr",
     "output_type": "stream",
     "text": [
      "  8%|▊         | 15/200 [00:03<00:45,  4.08it/s]"
     ]
    },
    {
     "name": "stdout",
     "output_type": "stream",
     "text": [
      "Message: 111010110101000001010111010011010100010000100111\n",
      "Decoded: 110000010101100101010101001000011110101001001111\n",
      "Bit Accuracy: 0.625\n",
      "Detection Result:  0\n",
      " *** Image : rotation_Image_239728.jpg ***\n",
      "Image id :  Image_239728.jpg\n"
     ]
    },
    {
     "name": "stderr",
     "output_type": "stream",
     "text": [
      "  8%|▊         | 16/200 [00:04<00:48,  3.79it/s]"
     ]
    },
    {
     "name": "stdout",
     "output_type": "stream",
     "text": [
      "Message: 111010110101000001010111010011010100010000100111\n",
      "Decoded: 100100111111010111000000101011011100001000101111\n",
      "Bit Accuracy: 0.5833333333333334\n",
      "Detection Result:  0\n",
      " *** Image : rotation_Image_457732.jpg ***\n",
      "Image id :  Image_457732.jpg\n"
     ]
    },
    {
     "name": "stderr",
     "output_type": "stream",
     "text": [
      "  8%|▊         | 17/200 [00:04<00:45,  4.00it/s]"
     ]
    },
    {
     "name": "stdout",
     "output_type": "stream",
     "text": [
      "Message: 111010110101000001010111010011010100010000100111\n",
      "Decoded: 100000010011010111000000101011011100001000101111\n",
      "Bit Accuracy: 0.5833333333333334\n",
      "Detection Result:  0\n",
      " *** Image : rotation_Image_136461.jpg ***\n",
      "Image id :  Image_136461.jpg\n"
     ]
    },
    {
     "name": "stderr",
     "output_type": "stream",
     "text": [
      "  9%|▉         | 18/200 [00:04<00:50,  3.63it/s]"
     ]
    },
    {
     "name": "stdout",
     "output_type": "stream",
     "text": [
      "Message: 111010110101000001010111010011010100010000100111\n",
      "Decoded: 100100010110100010010101001101011110001011101111\n",
      "Bit Accuracy: 0.5416666666666666\n",
      "Detection Result:  0\n",
      " *** Image : rotation_Image_341550.jpg ***\n",
      "Image id :  Image_341550.jpg\n"
     ]
    },
    {
     "name": "stderr",
     "output_type": "stream",
     "text": [
      " 10%|▉         | 19/200 [00:05<00:50,  3.61it/s]"
     ]
    },
    {
     "name": "stdout",
     "output_type": "stream",
     "text": [
      "Message: 111010110101000001010111010011010100010000100111\n",
      "Decoded: 111010001101010111010001001000011100001001001111\n",
      "Bit Accuracy: 0.625\n",
      "Detection Result:  0\n",
      " *** Image : rotation_Image_62426.jpg ***\n",
      "Image id :  Image_62426.jpg\n"
     ]
    },
    {
     "name": "stderr",
     "output_type": "stream",
     "text": [
      " 10%|█         | 20/200 [00:05<00:48,  3.69it/s]"
     ]
    },
    {
     "name": "stdout",
     "output_type": "stream",
     "text": [
      "Message: 111010110101000001010111010011010100010000100111\n",
      "Decoded: 110000010111010111000001001111011110001001101111\n",
      "Bit Accuracy: 0.6041666666666666\n",
      "Detection Result:  0\n",
      " *** Image : rotation_Image_269829.jpg ***\n",
      "Image id :  Image_269829.jpg\n"
     ]
    },
    {
     "name": "stderr",
     "output_type": "stream",
     "text": [
      " 10%|█         | 21/200 [00:05<00:53,  3.33it/s]"
     ]
    },
    {
     "name": "stdout",
     "output_type": "stream",
     "text": [
      "Message: 111010110101000001010111010011010100010000100111\n",
      "Decoded: 110010001111010011010001001101011100001000001111\n",
      "Bit Accuracy: 0.625\n",
      "Detection Result:  0\n",
      " *** Image : rotation_Image_170558.jpg ***\n",
      "Image id :  Image_170558.jpg\n"
     ]
    },
    {
     "name": "stderr",
     "output_type": "stream",
     "text": [
      " 11%|█         | 22/200 [00:06<00:57,  3.09it/s]"
     ]
    },
    {
     "name": "stdout",
     "output_type": "stream",
     "text": [
      "Message: 111010110101000001010111010011010100010000100111\n",
      "Decoded: 100100101001000111010001001001011110001001101111\n",
      "Bit Accuracy: 0.5833333333333334\n",
      "Detection Result:  0\n",
      " *** Image : rotation_Image_353139.jpg ***\n",
      "Image id :  Image_353139.jpg\n"
     ]
    },
    {
     "name": "stderr",
     "output_type": "stream",
     "text": [
      " 12%|█▏        | 23/200 [00:06<01:03,  2.79it/s]"
     ]
    },
    {
     "name": "stdout",
     "output_type": "stream",
     "text": [
      "Message: 111010110101000001010111010011010100010000100111\n",
      "Decoded: 100000110011100101010101001100011110001001001111\n",
      "Bit Accuracy: 0.5833333333333334\n",
      "Detection Result:  0\n",
      " *** Image : rotation_Image_470072.jpg ***\n",
      "Image id :  Image_470072.jpg\n"
     ]
    },
    {
     "name": "stderr",
     "output_type": "stream",
     "text": [
      " 12%|█▎        | 25/200 [00:06<00:50,  3.46it/s]"
     ]
    },
    {
     "name": "stdout",
     "output_type": "stream",
     "text": [
      "Message: 111010110101000001010111010011010100010000100111\n",
      "Decoded: 110000110001000101010001001001011110001000001111\n",
      "Bit Accuracy: 0.6875\n",
      "Detection Result:  0\n",
      " *** Image : rotation_Image_239811.jpg ***\n",
      "Image id :  Image_239811.jpg\n",
      "Message: 111010110101000001010111010011010100010000100111\n",
      "Decoded: 100000000111000111010001001101011110001000001111\n",
      "Bit Accuracy: 0.5833333333333334\n",
      "Detection Result:  0\n",
      " *** Image : rotation_Image_547471.jpg ***\n",
      "Image id :  Image_547471.jpg\n"
     ]
    },
    {
     "name": "stderr",
     "output_type": "stream",
     "text": [
      " 13%|█▎        | 26/200 [00:07<00:46,  3.75it/s]"
     ]
    },
    {
     "name": "stdout",
     "output_type": "stream",
     "text": [
      "Message: 111010110101000001010111010011010100010000100111\n",
      "Decoded: 100000100011010111010001101001011010001001001111\n",
      "Bit Accuracy: 0.5208333333333334\n",
      "Detection Result:  0\n",
      " *** Image : rotation_Image_318189.jpg ***\n",
      "Image id :  Image_318189.jpg\n"
     ]
    },
    {
     "name": "stderr",
     "output_type": "stream",
     "text": [
      " 14%|█▎        | 27/200 [00:07<00:45,  3.84it/s]"
     ]
    },
    {
     "name": "stdout",
     "output_type": "stream",
     "text": [
      "Message: 111010110101000001010111010011010100010000100111\n",
      "Decoded: 100110100110000101000000001101011110001000001111\n",
      "Bit Accuracy: 0.5625\n",
      "Detection Result:  0\n",
      " *** Image : rotation_Image_95989.jpg ***\n",
      "Image id :  Image_95989.jpg\n"
     ]
    },
    {
     "name": "stderr",
     "output_type": "stream",
     "text": [
      " 14%|█▍        | 28/200 [00:07<00:48,  3.56it/s]"
     ]
    },
    {
     "name": "stdout",
     "output_type": "stream",
     "text": [
      "Message: 111010110101000001010111010011010100010000100111\n",
      "Decoded: 000000111111010011000001101111011100001000101111\n",
      "Bit Accuracy: 0.6041666666666666\n",
      "Detection Result:  0\n",
      " *** Image : rotation_Image_570608.jpg ***\n",
      "Image id :  Image_570608.jpg\n"
     ]
    },
    {
     "name": "stderr",
     "output_type": "stream",
     "text": [
      " 14%|█▍        | 29/200 [00:08<00:45,  3.79it/s]"
     ]
    },
    {
     "name": "stdout",
     "output_type": "stream",
     "text": [
      "Message: 111010110101000001010111010011010100010000100111\n",
      "Decoded: 100000011011000111010001001001011110001001001111\n",
      "Bit Accuracy: 0.5625\n",
      "Detection Result:  0\n",
      " *** Image : rotation_Image_477797.jpg ***\n",
      "Image id :  Image_477797.jpg\n"
     ]
    },
    {
     "name": "stderr",
     "output_type": "stream",
     "text": [
      " 15%|█▌        | 30/200 [00:08<00:49,  3.41it/s]"
     ]
    },
    {
     "name": "stdout",
     "output_type": "stream",
     "text": [
      "Message: 111010110101000001010111010011010100010000100111\n",
      "Decoded: 111000010111000011010001001101011010001001001111\n",
      "Bit Accuracy: 0.625\n",
      "Detection Result:  0\n",
      " *** Image : rotation_Image_64460.jpg ***\n",
      "Image id :  Image_64460.jpg\n"
     ]
    },
    {
     "name": "stderr",
     "output_type": "stream",
     "text": [
      " 16%|█▌        | 31/200 [00:08<00:50,  3.37it/s]"
     ]
    },
    {
     "name": "stdout",
     "output_type": "stream",
     "text": [
      "Message: 111010110101000001010111010011010100010000100111\n",
      "Decoded: 100000100111010111010001001101011100001000101111\n",
      "Bit Accuracy: 0.625\n",
      "Detection Result:  0\n",
      " *** Image : rotation_Image_222016.jpg ***\n",
      "Image id :  Image_222016.jpg\n"
     ]
    },
    {
     "name": "stderr",
     "output_type": "stream",
     "text": [
      " 16%|█▌        | 32/200 [00:09<00:54,  3.08it/s]"
     ]
    },
    {
     "name": "stdout",
     "output_type": "stream",
     "text": [
      "Message: 111010110101000001010111010011010100010000100111\n",
      "Decoded: 011100001111000110000001101101011110001000101111\n",
      "Bit Accuracy: 0.5208333333333334\n",
      "Detection Result:  0\n",
      " *** Image : rotation_Image_179620.jpg ***\n",
      "Image id :  Image_179620.jpg\n"
     ]
    },
    {
     "name": "stderr",
     "output_type": "stream",
     "text": [
      " 16%|█▋        | 33/200 [00:09<00:54,  3.07it/s]"
     ]
    },
    {
     "name": "stdout",
     "output_type": "stream",
     "text": [
      "Message: 111010110101000001010111010011010100010000100111\n",
      "Decoded: 110000010001000101010101001001011010001001001111\n",
      "Bit Accuracy: 0.6458333333333334\n",
      "Detection Result:  0\n",
      " *** Image : rotation_Image_215481.jpg ***\n",
      "Image id :  Image_215481.jpg\n"
     ]
    },
    {
     "name": "stderr",
     "output_type": "stream",
     "text": [
      " 17%|█▋        | 34/200 [00:09<00:52,  3.18it/s]"
     ]
    },
    {
     "name": "stdout",
     "output_type": "stream",
     "text": [
      "Message: 111010110101000001010111010011010100010000100111\n",
      "Decoded: 110110001101000111010011101001011110001000001111\n",
      "Bit Accuracy: 0.625\n",
      "Detection Result:  0\n",
      " *** Image : rotation_Image_491269.jpg ***\n",
      "Image id :  Image_491269.jpg\n"
     ]
    },
    {
     "name": "stderr",
     "output_type": "stream",
     "text": [
      " 18%|█▊        | 35/200 [00:10<00:54,  3.01it/s]"
     ]
    },
    {
     "name": "stdout",
     "output_type": "stream",
     "text": [
      "Message: 111010110101000001010111010011010100010000100111\n",
      "Decoded: 100000001111100111010001001001011110001001001111\n",
      "Bit Accuracy: 0.5416666666666666\n",
      "Detection Result:  0\n",
      " *** Image : rotation_Image_270912.jpg ***\n",
      "Image id :  Image_270912.jpg\n"
     ]
    },
    {
     "name": "stderr",
     "output_type": "stream",
     "text": [
      " 18%|█▊        | 36/200 [00:10<00:56,  2.89it/s]"
     ]
    },
    {
     "name": "stdout",
     "output_type": "stream",
     "text": [
      "Message: 111010110101000001010111010011010100010000100111\n",
      "Decoded: 100110100101010011001001001111011100001000101111\n",
      "Bit Accuracy: 0.6458333333333334\n",
      "Detection Result:  0\n",
      " *** Image : rotation_Image_165499.jpg ***\n",
      "Image id :  Image_165499.jpg\n"
     ]
    },
    {
     "name": "stderr",
     "output_type": "stream",
     "text": [
      " 18%|█▊        | 37/200 [00:10<01:01,  2.64it/s]"
     ]
    },
    {
     "name": "stdout",
     "output_type": "stream",
     "text": [
      "Message: 111010110101000001010111010011010100010000100111\n",
      "Decoded: 101010000101100101010001001000011110001001001111\n",
      "Bit Accuracy: 0.625\n",
      "Detection Result:  0\n",
      " *** Image : rotation_Image_160559.jpg ***\n",
      "Image id :  Image_160559.jpg\n"
     ]
    },
    {
     "name": "stderr",
     "output_type": "stream",
     "text": [
      " 19%|█▉        | 38/200 [00:11<00:56,  2.87it/s]"
     ]
    },
    {
     "name": "stdout",
     "output_type": "stream",
     "text": [
      "Message: 111010110101000001010111010011010100010000100111\n",
      "Decoded: 110010000011000111000001001101011110001001001111\n",
      "Bit Accuracy: 0.5625\n",
      "Detection Result:  0\n",
      " *** Image : rotation_Image_377694.jpg ***\n",
      "Image id :  Image_377694.jpg\n"
     ]
    },
    {
     "name": "stderr",
     "output_type": "stream",
     "text": [
      " 20%|█▉        | 39/200 [00:11<00:49,  3.25it/s]"
     ]
    },
    {
     "name": "stdout",
     "output_type": "stream",
     "text": [
      "Message: 111010110101000001010111010011010100010000100111\n",
      "Decoded: 111100111111010010000011101001011110001001001110\n",
      "Bit Accuracy: 0.5625\n",
      "Detection Result:  0\n",
      " *** Image : rotation_Image_309093.jpg ***\n",
      "Image id :  Image_309093.jpg\n"
     ]
    },
    {
     "name": "stderr",
     "output_type": "stream",
     "text": [
      " 20%|██        | 40/200 [00:11<00:54,  2.92it/s]"
     ]
    },
    {
     "name": "stdout",
     "output_type": "stream",
     "text": [
      "Message: 111010110101000001010111010011010100010000100111\n",
      "Decoded: 110100000111010011010000001101011100001100101111\n",
      "Bit Accuracy: 0.5833333333333334\n",
      "Detection Result:  0\n",
      " *** Image : rotation_Image_145179.jpg ***\n",
      "Image id :  Image_145179.jpg\n"
     ]
    },
    {
     "name": "stderr",
     "output_type": "stream",
     "text": [
      " 21%|██        | 42/200 [00:12<00:45,  3.46it/s]"
     ]
    },
    {
     "name": "stdout",
     "output_type": "stream",
     "text": [
      "Message: 111010110101000001010111010011010100010000100111\n",
      "Decoded: 101000001101000101010001001100011110001000001111\n",
      "Bit Accuracy: 0.6041666666666666\n",
      "Detection Result:  0\n",
      " *** Image : rotation_Image_412198.jpg ***\n",
      "Image id :  Image_412198.jpg\n",
      "Message: 111010110101000001010111010011010100010000100111\n",
      "Decoded: 100100101111000011000001001001011100001010101111\n",
      "Bit Accuracy: 0.6041666666666666\n",
      "Detection Result:  0\n",
      " *** Image : rotation_Image_486320.jpg ***\n",
      "Image id :  Image_486320.jpg\n"
     ]
    },
    {
     "name": "stderr",
     "output_type": "stream",
     "text": [
      " 22%|██▏       | 43/200 [00:12<00:42,  3.67it/s]"
     ]
    },
    {
     "name": "stdout",
     "output_type": "stream",
     "text": [
      "Message: 111010110101000001010111010011010100010000100111\n",
      "Decoded: 110000010111100101010100001001011010001001001111\n",
      "Bit Accuracy: 0.6041666666666666\n",
      "Detection Result:  0\n",
      " *** Image : rotation_Image_424102.jpg ***\n",
      "Image id :  Image_424102.jpg\n"
     ]
    },
    {
     "name": "stderr",
     "output_type": "stream",
     "text": [
      " 22%|██▏       | 44/200 [00:12<00:41,  3.76it/s]"
     ]
    },
    {
     "name": "stdout",
     "output_type": "stream",
     "text": [
      "Message: 111010110101000001010111010011010100010000100111\n",
      "Decoded: 111000010111000111000101001000011110001001001011\n",
      "Bit Accuracy: 0.6041666666666666\n",
      "Detection Result:  0\n",
      " *** Image : rotation_Image_318574.jpg ***\n",
      "Image id :  Image_318574.jpg\n"
     ]
    },
    {
     "name": "stderr",
     "output_type": "stream",
     "text": [
      " 22%|██▎       | 45/200 [00:13<00:44,  3.50it/s]"
     ]
    },
    {
     "name": "stdout",
     "output_type": "stream",
     "text": [
      "Message: 111010110101000001010111010011010100010000100111\n",
      "Decoded: 100010001010010101010001001101011110001011101011\n",
      "Bit Accuracy: 0.5\n",
      "Detection Result:  0\n",
      " *** Image : rotation_Image_299411.jpg ***\n",
      "Image id :  Image_299411.jpg\n"
     ]
    },
    {
     "name": "stderr",
     "output_type": "stream",
     "text": [
      " 23%|██▎       | 46/200 [00:13<00:40,  3.80it/s]"
     ]
    },
    {
     "name": "stdout",
     "output_type": "stream",
     "text": [
      "Message: 111010110101000001010111010011010100010000100111\n",
      "Decoded: 110000001001010101010001001000011110001000001111\n",
      "Bit Accuracy: 0.5833333333333334\n",
      "Detection Result:  0\n",
      " *** Image : rotation_Image_313932.jpg ***\n",
      "Image id :  Image_313932.jpg\n"
     ]
    },
    {
     "name": "stderr",
     "output_type": "stream",
     "text": [
      " 24%|██▎       | 47/200 [00:13<00:39,  3.88it/s]"
     ]
    },
    {
     "name": "stdout",
     "output_type": "stream",
     "text": [
      "Message: 111010110101000001010111010011010100010000100111\n",
      "Decoded: 100000100001110111010001001000011110001001001111\n",
      "Bit Accuracy: 0.5416666666666666\n",
      "Detection Result:  0\n",
      " *** Image : rotation_Image_217306.jpg ***\n",
      "Image id :  Image_217306.jpg\n"
     ]
    },
    {
     "name": "stderr",
     "output_type": "stream",
     "text": [
      " 24%|██▍       | 49/200 [00:14<00:38,  3.87it/s]"
     ]
    },
    {
     "name": "stdout",
     "output_type": "stream",
     "text": [
      "Message: 111010110101000001010111010011010100010000100111\n",
      "Decoded: 110000010001100101010001001000011010001001001111\n",
      "Bit Accuracy: 0.5833333333333334\n",
      "Detection Result:  0\n",
      " *** Image : rotation_Image_280260.jpg ***\n",
      "Image id :  Image_280260.jpg\n",
      "Message: 111010110101000001010111010011010100010000100111\n",
      "Decoded: 101000001110010111000001101001011000001000101111\n",
      "Bit Accuracy: 0.5416666666666666\n",
      "Detection Result:  0\n",
      " *** Image : rotation_Image_576757.jpg ***\n",
      "Image id :  Image_576757.jpg\n"
     ]
    },
    {
     "name": "stderr",
     "output_type": "stream",
     "text": [
      " 25%|██▌       | 50/200 [00:14<00:41,  3.57it/s]"
     ]
    },
    {
     "name": "stdout",
     "output_type": "stream",
     "text": [
      "Message: 111010110101000001010111010011010100010000100111\n",
      "Decoded: 101000001101000111010001001000011110001001001111\n",
      "Bit Accuracy: 0.5833333333333334\n",
      "Detection Result:  0\n",
      " *** Image : rotation_Image_426038.jpg ***\n",
      "Image id :  Image_426038.jpg\n"
     ]
    },
    {
     "name": "stderr",
     "output_type": "stream",
     "text": [
      " 26%|██▌       | 51/200 [00:14<00:44,  3.35it/s]"
     ]
    },
    {
     "name": "stdout",
     "output_type": "stream",
     "text": [
      "Message: 111010110101000001010111010011010100010000100111\n",
      "Decoded: 101000010001010111010001001001011110001001001110\n",
      "Bit Accuracy: 0.5833333333333334\n",
      "Detection Result:  0\n",
      " *** Image : rotation_Image_289019.jpg ***\n",
      "Image id :  Image_289019.jpg\n"
     ]
    },
    {
     "name": "stderr",
     "output_type": "stream",
     "text": [
      " 26%|██▌       | 52/200 [00:15<00:54,  2.73it/s]"
     ]
    },
    {
     "name": "stdout",
     "output_type": "stream",
     "text": [
      "Message: 111010110101000001010111010011010100010000100111\n",
      "Decoded: 111000100101000111010011001001011000001000001111\n",
      "Bit Accuracy: 0.7083333333333334\n",
      "Detection Result:  0\n",
      " *** Image : rotation_Image_523617.jpg ***\n",
      "Image id :  Image_523617.jpg\n"
     ]
    },
    {
     "name": "stderr",
     "output_type": "stream",
     "text": [
      " 26%|██▋       | 53/200 [00:15<00:49,  2.95it/s]"
     ]
    },
    {
     "name": "stdout",
     "output_type": "stream",
     "text": [
      "Message: 111010110101000001010111010011010100010000100111\n",
      "Decoded: 110000010001100101010101001000011010001001001111\n",
      "Bit Accuracy: 0.6041666666666666\n",
      "Detection Result:  0\n",
      " *** Image : rotation_Image_95133.jpg ***\n",
      "Image id :  Image_95133.jpg\n"
     ]
    },
    {
     "name": "stderr",
     "output_type": "stream",
     "text": [
      " 27%|██▋       | 54/200 [00:15<00:46,  3.15it/s]"
     ]
    },
    {
     "name": "stdout",
     "output_type": "stream",
     "text": [
      "Message: 111010110101000001010111010011010100010000100111\n",
      "Decoded: 101010001101000101010001001000011110001001001111\n",
      "Bit Accuracy: 0.625\n",
      "Detection Result:  0\n",
      " *** Image : rotation_Image_122108.jpg ***\n",
      "Image id :  Image_122108.jpg\n"
     ]
    },
    {
     "name": "stderr",
     "output_type": "stream",
     "text": [
      " 28%|██▊       | 55/200 [00:16<00:44,  3.29it/s]"
     ]
    },
    {
     "name": "stdout",
     "output_type": "stream",
     "text": [
      "Message: 111010110101000001010111010011010100010000100111\n",
      "Decoded: 111000010101010111010001001001011100001001001111\n",
      "Bit Accuracy: 0.6666666666666666\n",
      "Detection Result:  0\n",
      " *** Image : rotation_Image_262845.jpg ***\n",
      "Image id :  Image_262845.jpg\n"
     ]
    },
    {
     "name": "stderr",
     "output_type": "stream",
     "text": [
      " 28%|██▊       | 56/200 [00:16<00:46,  3.07it/s]"
     ]
    },
    {
     "name": "stdout",
     "output_type": "stream",
     "text": [
      "Message: 111010110101000001010111010011010100010000100111\n",
      "Decoded: 100000001111000101010001001001011100001001001111\n",
      "Bit Accuracy: 0.6041666666666666\n",
      "Detection Result:  0\n",
      " *** Image : rotation_Image_388911.jpg ***\n",
      "Image id :  Image_388911.jpg\n"
     ]
    },
    {
     "name": "stderr",
     "output_type": "stream",
     "text": [
      " 28%|██▊       | 57/200 [00:16<00:44,  3.21it/s]"
     ]
    },
    {
     "name": "stdout",
     "output_type": "stream",
     "text": [
      "Message: 111010110101000001010111010011010100010000100111\n",
      "Decoded: 110000010101100101010101001000011010001001001111\n",
      "Bit Accuracy: 0.625\n",
      "Detection Result:  0\n",
      " *** Image : rotation_Image_2024.jpg ***\n",
      "Image id :  Image_2024.jpg\n"
     ]
    },
    {
     "name": "stderr",
     "output_type": "stream",
     "text": [
      " 29%|██▉       | 58/200 [00:17<00:44,  3.22it/s]"
     ]
    },
    {
     "name": "stdout",
     "output_type": "stream",
     "text": [
      "Message: 111010110101000001010111010011010100010000100111\n",
      "Decoded: 110000010001000101010101001000011010001001001111\n",
      "Bit Accuracy: 0.625\n",
      "Detection Result:  0\n",
      " *** Image : rotation_Image_287541.jpg ***\n",
      "Image id :  Image_287541.jpg\n"
     ]
    },
    {
     "name": "stderr",
     "output_type": "stream",
     "text": [
      " 30%|███       | 60/200 [00:17<00:35,  3.90it/s]"
     ]
    },
    {
     "name": "stdout",
     "output_type": "stream",
     "text": [
      "Message: 111010110101000001010111010011010100010000100111\n",
      "Decoded: 111000000111010101010001001101011010001001001111\n",
      "Bit Accuracy: 0.5833333333333334\n",
      "Detection Result:  0\n",
      " *** Image : rotation_Image_520950.jpg ***\n",
      "Image id :  Image_520950.jpg\n",
      "Message: 111010110101000001010111010011010100010000100111\n",
      "Decoded: 100000000101000101010101001001011100001001001111\n",
      "Bit Accuracy: 0.6666666666666666\n",
      "Detection Result:  0\n",
      " *** Image : rotation_Image_109424.jpg ***\n",
      "Image id :  Image_109424.jpg\n"
     ]
    },
    {
     "name": "stderr",
     "output_type": "stream",
     "text": [
      " 30%|███       | 61/200 [00:17<00:37,  3.75it/s]"
     ]
    },
    {
     "name": "stdout",
     "output_type": "stream",
     "text": [
      "Message: 111010110101000001010111010011010100010000100111\n",
      "Decoded: 000000111111011111000010001001011100001100101111\n",
      "Bit Accuracy: 0.5625\n",
      "Detection Result:  0\n",
      " *** Image : rotation_Image_153674.jpg ***\n",
      "Image id :  Image_153674.jpg\n"
     ]
    },
    {
     "name": "stderr",
     "output_type": "stream",
     "text": [
      " 31%|███       | 62/200 [00:18<00:41,  3.31it/s]"
     ]
    },
    {
     "name": "stdout",
     "output_type": "stream",
     "text": [
      "Message: 111010110101000001010111010011010100010000100111\n",
      "Decoded: 110000010001000101010101001000011010001001001111\n",
      "Bit Accuracy: 0.625\n",
      "Detection Result:  0\n",
      " *** Image : rotation_Image_387083.jpg ***\n",
      "Image id :  Image_387083.jpg\n"
     ]
    },
    {
     "name": "stderr",
     "output_type": "stream",
     "text": [
      " 32%|███▏      | 63/200 [00:18<00:40,  3.39it/s]"
     ]
    },
    {
     "name": "stdout",
     "output_type": "stream",
     "text": [
      "Message: 111010110101000001010111010011010100010000100111\n",
      "Decoded: 110000010011100101010001001001011110001001001111\n",
      "Bit Accuracy: 0.6041666666666666\n",
      "Detection Result:  0\n",
      " *** Image : rotation_Image_70000.jpg ***\n",
      "Image id :  Image_70000.jpg\n"
     ]
    },
    {
     "name": "stderr",
     "output_type": "stream",
     "text": [
      " 32%|███▎      | 65/200 [00:18<00:36,  3.68it/s]"
     ]
    },
    {
     "name": "stdout",
     "output_type": "stream",
     "text": [
      "Message: 111010110101000001010111010011010100010000100111\n",
      "Decoded: 100011000111010111010001001001011110001001001111\n",
      "Bit Accuracy: 0.5625\n",
      "Detection Result:  0\n",
      " *** Image : rotation_Image_469605.jpg ***\n",
      "Image id :  Image_469605.jpg\n",
      "Message: 111010110101000001010111010011010100010000100111\n",
      "Decoded: 100110001111000111010001001001011110001010101111\n",
      "Bit Accuracy: 0.5833333333333334\n",
      "Detection Result:  0\n",
      " *** Image : rotation_Image_535786.jpg ***\n",
      "Image id :  Image_535786.jpg\n"
     ]
    },
    {
     "name": "stderr",
     "output_type": "stream",
     "text": [
      " 33%|███▎      | 66/200 [00:19<00:35,  3.80it/s]"
     ]
    },
    {
     "name": "stdout",
     "output_type": "stream",
     "text": [
      "Message: 111010110101000001010111010011010100010000100111\n",
      "Decoded: 100000010101100101010101001000011110001001001111\n",
      "Bit Accuracy: 0.625\n",
      "Detection Result:  0\n",
      " *** Image : rotation_Image_388754.jpg ***\n",
      "Image id :  Image_388754.jpg\n"
     ]
    },
    {
     "name": "stderr",
     "output_type": "stream",
     "text": [
      " 34%|███▎      | 67/200 [00:19<00:37,  3.58it/s]"
     ]
    },
    {
     "name": "stdout",
     "output_type": "stream",
     "text": [
      "Message: 111010110101000001010111010011010100010000100111\n",
      "Decoded: 110000010101010101010001001000011110001001001111\n",
      "Bit Accuracy: 0.625\n",
      "Detection Result:  0\n",
      " *** Image : rotation_Image_446014.jpg ***\n",
      "Image id :  Image_446014.jpg\n"
     ]
    },
    {
     "name": "stderr",
     "output_type": "stream",
     "text": [
      " 34%|███▍      | 68/200 [00:19<00:35,  3.72it/s]"
     ]
    },
    {
     "name": "stdout",
     "output_type": "stream",
     "text": [
      "Message: 111010110101000001010111010011010100010000100111\n",
      "Decoded: 111000010111000111010000011011011010001001001111\n",
      "Bit Accuracy: 0.6458333333333334\n",
      "Detection Result:  0\n",
      " *** Image : rotation_Image_405613.jpg ***\n",
      "Image id :  Image_405613.jpg\n"
     ]
    },
    {
     "name": "stderr",
     "output_type": "stream",
     "text": [
      " 34%|███▍      | 69/200 [00:20<00:35,  3.73it/s]"
     ]
    },
    {
     "name": "stdout",
     "output_type": "stream",
     "text": [
      "Message: 111010110101000001010111010011010100010000100111\n",
      "Decoded: 101000000101000111010001001100011110001001001111\n",
      "Bit Accuracy: 0.5833333333333334\n",
      "Detection Result:  0\n",
      " *** Image : rotation_Image_277854.jpg ***\n",
      "Image id :  Image_277854.jpg\n"
     ]
    },
    {
     "name": "stderr",
     "output_type": "stream",
     "text": [
      " 35%|███▌      | 70/200 [00:20<00:44,  2.95it/s]"
     ]
    },
    {
     "name": "stdout",
     "output_type": "stream",
     "text": [
      "Message: 111010110101000001010111010011010100010000100111\n",
      "Decoded: 110010010101000111010101101010011010000001001111\n",
      "Bit Accuracy: 0.6666666666666666\n",
      "Detection Result:  0\n",
      " *** Image : rotation_Image_167613.jpg ***\n",
      "Image id :  Image_167613.jpg\n"
     ]
    },
    {
     "name": "stderr",
     "output_type": "stream",
     "text": [
      " 36%|███▌      | 71/200 [00:20<00:44,  2.89it/s]"
     ]
    },
    {
     "name": "stdout",
     "output_type": "stream",
     "text": [
      "Message: 111010110101000001010111010011010100010000100111\n",
      "Decoded: 110100001000100100010111001001011010001001001111\n",
      "Bit Accuracy: 0.5416666666666666\n",
      "Detection Result:  0\n",
      " *** Image : rotation_Image_186233.jpg ***\n",
      "Image id :  Image_186233.jpg\n"
     ]
    },
    {
     "name": "stderr",
     "output_type": "stream",
     "text": [
      " 36%|███▋      | 73/200 [00:21<00:35,  3.62it/s]"
     ]
    },
    {
     "name": "stdout",
     "output_type": "stream",
     "text": [
      "Message: 111010110101000001010111010011010100010000100111\n",
      "Decoded: 111100001111000101010001101001011110001010101111\n",
      "Bit Accuracy: 0.6041666666666666\n",
      "Detection Result:  0\n",
      " *** Image : rotation_Image_236772.jpg ***\n",
      "Image id :  Image_236772.jpg\n",
      "Message: 111010110101000001010111010011010100010000100111\n",
      "Decoded: 110000010001000101010101001000011010001001001111\n",
      "Bit Accuracy: 0.625\n",
      "Detection Result:  0\n",
      " *** Image : rotation_Image_77806.jpg ***\n",
      "Image id :  Image_77806.jpg\n"
     ]
    },
    {
     "name": "stderr",
     "output_type": "stream",
     "text": [
      " 37%|███▋      | 74/200 [00:21<00:34,  3.64it/s]"
     ]
    },
    {
     "name": "stdout",
     "output_type": "stream",
     "text": [
      "Message: 111010110101000001010111010011010100010000100111\n",
      "Decoded: 110000000111110111000011001011011110001000101111\n",
      "Bit Accuracy: 0.625\n",
      "Detection Result:  0\n",
      " *** Image : rotation_Image_528906.jpg ***\n",
      "Image id :  Image_528906.jpg\n"
     ]
    },
    {
     "name": "stderr",
     "output_type": "stream",
     "text": [
      " 38%|███▊      | 75/200 [00:21<00:36,  3.38it/s]"
     ]
    },
    {
     "name": "stdout",
     "output_type": "stream",
     "text": [
      "Message: 111010110101000001010111010011010100010000100111\n",
      "Decoded: 011101010101100011010001001101011100001001001111\n",
      "Bit Accuracy: 0.6041666666666666\n",
      "Detection Result:  0\n",
      " *** Image : rotation_Image_150867.jpg ***\n",
      "Image id :  Image_150867.jpg\n"
     ]
    },
    {
     "name": "stderr",
     "output_type": "stream",
     "text": [
      " 38%|███▊      | 76/200 [00:22<00:35,  3.46it/s]"
     ]
    },
    {
     "name": "stdout",
     "output_type": "stream",
     "text": [
      "Message: 111010110101000001010111010011010100010000100111\n",
      "Decoded: 101000001111000011010011101011011110001000001111\n",
      "Bit Accuracy: 0.6458333333333334\n",
      "Detection Result:  0\n",
      " *** Image : rotation_Image_357684.jpg ***\n",
      "Image id :  Image_357684.jpg\n"
     ]
    },
    {
     "name": "stderr",
     "output_type": "stream",
     "text": [
      " 39%|███▉      | 78/200 [00:22<00:33,  3.68it/s]"
     ]
    },
    {
     "name": "stdout",
     "output_type": "stream",
     "text": [
      "Message: 111010110101000001010111010011010100010000100111\n",
      "Decoded: 001100110111010111010001001001001110001000101111\n",
      "Bit Accuracy: 0.6041666666666666\n",
      "Detection Result:  0\n",
      " *** Image : rotation_Image_483008.jpg ***\n",
      "Image id :  Image_483008.jpg\n",
      "Message: 111010110101000001010111010011010100010000100111\n",
      "Decoded: 100000011111010111000001001001011110001001001111\n",
      "Bit Accuracy: 0.5416666666666666\n",
      "Detection Result:  0\n",
      " *** Image : rotation_Image_371029.jpg ***\n",
      "Image id :  Image_371029.jpg\n"
     ]
    },
    {
     "name": "stderr",
     "output_type": "stream",
     "text": [
      " 40%|███▉      | 79/200 [00:22<00:29,  4.13it/s]"
     ]
    },
    {
     "name": "stdout",
     "output_type": "stream",
     "text": [
      "Message: 111010110101000001010111010011010100010000100111\n",
      "Decoded: 110100111011000111000001001001011010001001001111\n",
      "Bit Accuracy: 0.5416666666666666\n",
      "Detection Result:  0\n",
      " *** Image : rotation_Image_344806.jpg ***\n",
      "Image id :  Image_344806.jpg\n"
     ]
    },
    {
     "name": "stderr",
     "output_type": "stream",
     "text": [
      " 40%|████      | 80/200 [00:23<00:31,  3.84it/s]"
     ]
    },
    {
     "name": "stdout",
     "output_type": "stream",
     "text": [
      "Message: 111010110101000001010111010011010100010000100111\n",
      "Decoded: 110000010001100101010101001000011010001001001111\n",
      "Bit Accuracy: 0.6041666666666666\n",
      "Detection Result:  0\n",
      " *** Image : rotation_Image_90570.jpg ***\n",
      "Image id :  Image_90570.jpg\n"
     ]
    },
    {
     "name": "stderr",
     "output_type": "stream",
     "text": [
      " 40%|████      | 81/200 [00:23<00:32,  3.70it/s]"
     ]
    },
    {
     "name": "stdout",
     "output_type": "stream",
     "text": [
      "Message: 111010110101000001010111010011010100010000100111\n",
      "Decoded: 100000000101010110010001101000011110001001001111\n",
      "Bit Accuracy: 0.5208333333333334\n",
      "Detection Result:  0\n",
      " *** Image : rotation_Image_483751.jpg ***\n",
      "Image id :  Image_483751.jpg\n"
     ]
    },
    {
     "name": "stderr",
     "output_type": "stream",
     "text": [
      " 41%|████      | 82/200 [00:23<00:30,  3.90it/s]"
     ]
    },
    {
     "name": "stdout",
     "output_type": "stream",
     "text": [
      "Message: 111010110101000001010111010011010100010000100111\n",
      "Decoded: 101000101011010111000001001101011100001000101111\n",
      "Bit Accuracy: 0.5833333333333334\n",
      "Detection Result:  0\n",
      " *** Image : rotation_Image_399956.jpg ***\n",
      "Image id :  Image_399956.jpg\n"
     ]
    },
    {
     "name": "stderr",
     "output_type": "stream",
     "text": [
      " 42%|████▏     | 83/200 [00:24<00:30,  3.78it/s]"
     ]
    },
    {
     "name": "stdout",
     "output_type": "stream",
     "text": [
      "Message: 111010110101000001010111010011010100010000100111\n",
      "Decoded: 110011001110010110000000101011011010001001101011\n",
      "Bit Accuracy: 0.4583333333333333\n",
      "Detection Result:  0\n",
      " *** Image : rotation_Image_496939.jpg ***\n",
      "Image id :  Image_496939.jpg\n"
     ]
    },
    {
     "name": "stderr",
     "output_type": "stream",
     "text": [
      " 42%|████▏     | 84/200 [00:24<00:34,  3.36it/s]"
     ]
    },
    {
     "name": "stdout",
     "output_type": "stream",
     "text": [
      "Message: 111010110101000001010111010011010100010000100111\n",
      "Decoded: 001010100111011111000001001101011100001000101111\n",
      "Bit Accuracy: 0.6041666666666666\n",
      "Detection Result:  0\n",
      " *** Image : rotation_Image_343322.jpg ***\n",
      "Image id :  Image_343322.jpg\n"
     ]
    },
    {
     "name": "stderr",
     "output_type": "stream",
     "text": [
      " 42%|████▎     | 85/200 [00:24<00:32,  3.55it/s]"
     ]
    },
    {
     "name": "stdout",
     "output_type": "stream",
     "text": [
      "Message: 111010110101000001010111010011010100010000100111\n",
      "Decoded: 001010001101010111010001001011011100001000101111\n",
      "Bit Accuracy: 0.6666666666666666\n",
      "Detection Result:  0\n",
      " *** Image : rotation_Image_223726.jpg ***\n",
      "Image id :  Image_223726.jpg\n"
     ]
    },
    {
     "name": "stderr",
     "output_type": "stream",
     "text": [
      " 43%|████▎     | 86/200 [00:24<00:33,  3.41it/s]"
     ]
    },
    {
     "name": "stdout",
     "output_type": "stream",
     "text": [
      "Message: 111010110101000001010111010011010100010000100111\n",
      "Decoded: 100000110101000111010001001000011110001001001111\n",
      "Bit Accuracy: 0.625\n",
      "Detection Result:  0\n",
      " *** Image : rotation_Image_316676.jpg ***\n",
      "Image id :  Image_316676.jpg\n"
     ]
    },
    {
     "name": "stderr",
     "output_type": "stream",
     "text": [
      " 44%|████▎     | 87/200 [00:25<00:32,  3.44it/s]"
     ]
    },
    {
     "name": "stdout",
     "output_type": "stream",
     "text": [
      "Message: 111010110101000001010111010011010100010000100111\n",
      "Decoded: 111000001111010100010001001011011010001001001111\n",
      "Bit Accuracy: 0.5833333333333334\n",
      "Detection Result:  0\n",
      " *** Image : rotation_Image_279108.jpg ***\n",
      "Image id :  Image_279108.jpg\n"
     ]
    },
    {
     "name": "stderr",
     "output_type": "stream",
     "text": [
      " 44%|████▍     | 88/200 [00:25<00:35,  3.15it/s]"
     ]
    },
    {
     "name": "stdout",
     "output_type": "stream",
     "text": [
      "Message: 111010110101000001010111010011010100010000100111\n",
      "Decoded: 110000001011010101000101001101011100001000101111\n",
      "Bit Accuracy: 0.6041666666666666\n",
      "Detection Result:  0\n",
      " *** Image : rotation_Image_36633.jpg ***\n",
      "Image id :  Image_36633.jpg\n"
     ]
    },
    {
     "name": "stderr",
     "output_type": "stream",
     "text": [
      " 44%|████▍     | 89/200 [00:25<00:31,  3.53it/s]"
     ]
    },
    {
     "name": "stdout",
     "output_type": "stream",
     "text": [
      "Message: 111010110101000001010111010011010100010000100111\n",
      "Decoded: 110000010001100101010101001000011010001001001111\n",
      "Bit Accuracy: 0.6041666666666666\n",
      "Detection Result:  0\n",
      " *** Image : rotation_Image_280980.jpg ***\n",
      "Image id :  Image_280980.jpg\n"
     ]
    },
    {
     "name": "stderr",
     "output_type": "stream",
     "text": [
      " 45%|████▌     | 90/200 [00:26<00:31,  3.46it/s]"
     ]
    },
    {
     "name": "stdout",
     "output_type": "stream",
     "text": [
      "Message: 111010110101000001010111010011010100010000100111\n",
      "Decoded: 111000100101010111010001001001001100001000001111\n",
      "Bit Accuracy: 0.6666666666666666\n",
      "Detection Result:  0\n",
      " *** Image : rotation_Image_147016.jpg ***\n",
      "Image id :  Image_147016.jpg\n"
     ]
    },
    {
     "name": "stderr",
     "output_type": "stream",
     "text": [
      " 46%|████▌     | 91/200 [00:26<00:35,  3.05it/s]"
     ]
    },
    {
     "name": "stdout",
     "output_type": "stream",
     "text": [
      "Message: 111010110101000001010111010011010100010000100111\n",
      "Decoded: 100000110001100101010101001000011110001001001111\n",
      "Bit Accuracy: 0.625\n",
      "Detection Result:  0\n",
      " *** Image : rotation_Image_287927.jpg ***\n",
      "Image id :  Image_287927.jpg\n"
     ]
    },
    {
     "name": "stderr",
     "output_type": "stream",
     "text": [
      " 46%|████▌     | 92/200 [00:27<00:40,  2.69it/s]"
     ]
    },
    {
     "name": "stdout",
     "output_type": "stream",
     "text": [
      "Message: 111010110101000001010111010011010100010000100111\n",
      "Decoded: 111100010101000011010001001001011010001001001111\n",
      "Bit Accuracy: 0.6458333333333334\n",
      "Detection Result:  0\n",
      " *** Image : rotation_Image_301778.jpg ***\n",
      "Image id :  Image_301778.jpg\n"
     ]
    },
    {
     "name": "stderr",
     "output_type": "stream",
     "text": [
      " 46%|████▋     | 93/200 [00:27<00:41,  2.56it/s]"
     ]
    },
    {
     "name": "stdout",
     "output_type": "stream",
     "text": [
      "Message: 111010110101000001010111010011010100010000100111\n",
      "Decoded: 110000010001000111010101001001011010001000001111\n",
      "Bit Accuracy: 0.6458333333333334\n",
      "Detection Result:  0\n",
      " *** Image : rotation_Image_496283.jpg ***\n",
      "Image id :  Image_496283.jpg\n"
     ]
    },
    {
     "name": "stderr",
     "output_type": "stream",
     "text": [
      " 47%|████▋     | 94/200 [00:27<00:42,  2.51it/s]"
     ]
    },
    {
     "name": "stdout",
     "output_type": "stream",
     "text": [
      "Message: 111010110101000001010111010011010100010000100111\n",
      "Decoded: 111000101110011011000001101011011100001000001111\n",
      "Bit Accuracy: 0.6041666666666666\n",
      "Detection Result:  0\n",
      " *** Image : rotation_Image_160163.jpg ***\n",
      "Image id :  Image_160163.jpg\n"
     ]
    },
    {
     "name": "stderr",
     "output_type": "stream",
     "text": [
      " 48%|████▊     | 95/200 [00:28<00:38,  2.72it/s]"
     ]
    },
    {
     "name": "stdout",
     "output_type": "stream",
     "text": [
      "Message: 111010110101000001010111010011010100010000100111\n",
      "Decoded: 111000000101000101010001001000011110001001001111\n",
      "Bit Accuracy: 0.6458333333333334\n",
      "Detection Result:  0\n",
      " *** Image : rotation_Image_409513.jpg ***\n",
      "Image id :  Image_409513.jpg\n"
     ]
    },
    {
     "name": "stderr",
     "output_type": "stream",
     "text": [
      " 48%|████▊     | 96/200 [00:28<00:35,  2.92it/s]"
     ]
    },
    {
     "name": "stdout",
     "output_type": "stream",
     "text": [
      "Message: 111010110101000001010111010011010100010000100111\n",
      "Decoded: 001100001101010111000001001000011110001001101111\n",
      "Bit Accuracy: 0.5208333333333334\n",
      "Detection Result:  0\n",
      " *** Image : rotation_Image_536587.jpg ***\n",
      "Image id :  Image_536587.jpg\n"
     ]
    },
    {
     "name": "stderr",
     "output_type": "stream",
     "text": [
      " 48%|████▊     | 97/200 [00:28<00:31,  3.30it/s]"
     ]
    },
    {
     "name": "stdout",
     "output_type": "stream",
     "text": [
      "Message: 111010110101000001010111010011010100010000100111\n",
      "Decoded: 110000010011100101000101001110011110001001001111\n",
      "Bit Accuracy: 0.5833333333333334\n",
      "Detection Result:  0\n",
      " *** Image : rotation_Image_210932.jpg ***\n",
      "Image id :  Image_210932.jpg\n"
     ]
    },
    {
     "name": "stderr",
     "output_type": "stream",
     "text": [
      " 49%|████▉     | 98/200 [00:29<00:31,  3.19it/s]"
     ]
    },
    {
     "name": "stdout",
     "output_type": "stream",
     "text": [
      "Message: 111010110101000001010111010011010100010000100111\n",
      "Decoded: 001000000101000111010001001001011100001000001111\n",
      "Bit Accuracy: 0.6458333333333334\n",
      "Detection Result:  0\n",
      " *** Image : rotation_Image_438422.jpg ***\n",
      "Image id :  Image_438422.jpg\n"
     ]
    },
    {
     "name": "stderr",
     "output_type": "stream",
     "text": [
      " 50%|████▉     | 99/200 [00:29<00:32,  3.13it/s]"
     ]
    },
    {
     "name": "stdout",
     "output_type": "stream",
     "text": [
      "Message: 111010110101000001010111010011010100010000100111\n",
      "Decoded: 100000001111010101000001001101011100001001001111\n",
      "Bit Accuracy: 0.5416666666666666\n",
      "Detection Result:  0\n",
      " *** Image : rotation_Image_524068.jpg ***\n",
      "Image id :  Image_524068.jpg\n"
     ]
    },
    {
     "name": "stderr",
     "output_type": "stream",
     "text": [
      " 50%|█████     | 100/200 [00:29<00:32,  3.06it/s]"
     ]
    },
    {
     "name": "stdout",
     "output_type": "stream",
     "text": [
      "Message: 111010110101000001010111010011010100010000100111\n",
      "Decoded: 110000000101000101010101001000011000001001001111\n",
      "Bit Accuracy: 0.6458333333333334\n",
      "Detection Result:  0\n",
      " *** Image : rotation_Image_259446.jpg ***\n",
      "Image id :  Image_259446.jpg\n"
     ]
    },
    {
     "name": "stderr",
     "output_type": "stream",
     "text": [
      " 50%|█████     | 101/200 [00:30<00:31,  3.16it/s]"
     ]
    },
    {
     "name": "stdout",
     "output_type": "stream",
     "text": [
      "Message: 111010110101000001010111010011010100010000100111\n",
      "Decoded: 101000001111010110010001101001011100001001101111\n",
      "Bit Accuracy: 0.5625\n",
      "Detection Result:  0\n",
      " *** Image : rotation_Image_520208.jpg ***\n",
      "Image id :  Image_520208.jpg\n"
     ]
    },
    {
     "name": "stderr",
     "output_type": "stream",
     "text": [
      " 51%|█████     | 102/200 [00:30<00:28,  3.46it/s]"
     ]
    },
    {
     "name": "stdout",
     "output_type": "stream",
     "text": [
      "Message: 111010110101000001010111010011010100010000100111\n",
      "Decoded: 101000001111000011010001001000011100001001101111\n",
      "Bit Accuracy: 0.625\n",
      "Detection Result:  0\n",
      " *** Image : rotation_Image_420721.jpg ***\n",
      "Image id :  Image_420721.jpg\n"
     ]
    },
    {
     "name": "stderr",
     "output_type": "stream",
     "text": [
      " 52%|█████▏    | 103/200 [00:30<00:30,  3.14it/s]"
     ]
    },
    {
     "name": "stdout",
     "output_type": "stream",
     "text": [
      "Message: 111010110101000001010111010011010100010000100111\n",
      "Decoded: 110000010001100101010101001000011010001000001111\n",
      "Bit Accuracy: 0.625\n",
      "Detection Result:  0\n",
      " *** Image : rotation_Image_560628.jpg ***\n",
      "Image id :  Image_560628.jpg\n"
     ]
    },
    {
     "name": "stderr",
     "output_type": "stream",
     "text": [
      " 52%|█████▏    | 104/200 [00:30<00:32,  2.98it/s]"
     ]
    },
    {
     "name": "stdout",
     "output_type": "stream",
     "text": [
      "Message: 111010110101000001010111010011010100010000100111\n",
      "Decoded: 101110101111010011011001001011011000001000101111\n",
      "Bit Accuracy: 0.6458333333333334\n",
      "Detection Result:  0\n",
      " *** Image : rotation_Image_505126.jpg ***\n",
      "Image id :  Image_505126.jpg\n"
     ]
    },
    {
     "name": "stderr",
     "output_type": "stream",
     "text": [
      " 52%|█████▎    | 105/200 [00:31<00:28,  3.29it/s]"
     ]
    },
    {
     "name": "stdout",
     "output_type": "stream",
     "text": [
      "Message: 111010110101000001010111010011010100010000100111\n",
      "Decoded: 101100100011010011000001001001011100001000101111\n",
      "Bit Accuracy: 0.625\n",
      "Detection Result:  0\n",
      " *** Image : rotation_Image_265709.jpg ***\n",
      "Image id :  Image_265709.jpg\n"
     ]
    },
    {
     "name": "stderr",
     "output_type": "stream",
     "text": [
      " 53%|█████▎    | 106/200 [00:31<00:30,  3.12it/s]"
     ]
    },
    {
     "name": "stdout",
     "output_type": "stream",
     "text": [
      "Message: 111010110101000001010111010011010100010000100111\n",
      "Decoded: 110000000011010011010001001100011100001001101111\n",
      "Bit Accuracy: 0.5833333333333334\n",
      "Detection Result:  0\n",
      " *** Image : rotation_Image_393493.jpg ***\n",
      "Image id :  Image_393493.jpg\n"
     ]
    },
    {
     "name": "stderr",
     "output_type": "stream",
     "text": [
      " 54%|█████▎    | 107/200 [00:31<00:30,  3.04it/s]"
     ]
    },
    {
     "name": "stdout",
     "output_type": "stream",
     "text": [
      "Message: 111010110101000001010111010011010100010000100111\n",
      "Decoded: 001100111110010111000001101001011100001011101111\n",
      "Bit Accuracy: 0.5208333333333334\n",
      "Detection Result:  0\n",
      " *** Image : rotation_Image_49183.jpg ***\n",
      "Image id :  Image_49183.jpg\n"
     ]
    },
    {
     "name": "stderr",
     "output_type": "stream",
     "text": [
      " 54%|█████▍    | 108/200 [00:32<00:32,  2.86it/s]"
     ]
    },
    {
     "name": "stdout",
     "output_type": "stream",
     "text": [
      "Message: 111010110101000001010111010011010100010000100111\n",
      "Decoded: 100000000011100101010101001000011110001001001111\n",
      "Bit Accuracy: 0.5625\n",
      "Detection Result:  0\n",
      " *** Image : rotation_Image_448698.jpg ***\n",
      "Image id :  Image_448698.jpg\n"
     ]
    },
    {
     "name": "stderr",
     "output_type": "stream",
     "text": [
      " 55%|█████▍    | 109/200 [00:32<00:31,  2.89it/s]"
     ]
    },
    {
     "name": "stdout",
     "output_type": "stream",
     "text": [
      "Message: 111010110101000001010111010011010100010000100111\n",
      "Decoded: 101000110111010111000111101011011100001001101111\n",
      "Bit Accuracy: 0.6875\n",
      "Detection Result:  0\n",
      " *** Image : rotation_Image_167603.jpg ***\n",
      "Image id :  Image_167603.jpg\n"
     ]
    },
    {
     "name": "stderr",
     "output_type": "stream",
     "text": [
      " 55%|█████▌    | 110/200 [00:33<00:32,  2.79it/s]"
     ]
    },
    {
     "name": "stdout",
     "output_type": "stream",
     "text": [
      "Message: 111010110101000001010111010011010100010000100111\n",
      "Decoded: 100000100111010011000001001001011100001000101111\n",
      "Bit Accuracy: 0.6458333333333334\n",
      "Detection Result:  0\n",
      " *** Image : rotation_Image_326511.jpg ***\n",
      "Image id :  Image_326511.jpg\n"
     ]
    },
    {
     "name": "stderr",
     "output_type": "stream",
     "text": [
      " 56%|█████▌    | 111/200 [00:33<00:31,  2.86it/s]"
     ]
    },
    {
     "name": "stdout",
     "output_type": "stream",
     "text": [
      "Message: 111010110101000001010111010011010100010000100111\n",
      "Decoded: 101000111111010011000001001011011100001001101111\n",
      "Bit Accuracy: 0.6666666666666666\n",
      "Detection Result:  0\n",
      " *** Image : rotation_Image_556801.jpg ***\n",
      "Image id :  Image_556801.jpg\n"
     ]
    },
    {
     "name": "stderr",
     "output_type": "stream",
     "text": [
      " 56%|█████▌    | 112/200 [00:33<00:30,  2.93it/s]"
     ]
    },
    {
     "name": "stdout",
     "output_type": "stream",
     "text": [
      "Message: 111010110101000001010111010011010100010000100111\n",
      "Decoded: 110000010101100101010101001000011010001001001111\n",
      "Bit Accuracy: 0.625\n",
      "Detection Result:  0\n",
      " *** Image : rotation_Image_246804.jpg ***\n",
      "Image id :  Image_246804.jpg\n"
     ]
    },
    {
     "name": "stderr",
     "output_type": "stream",
     "text": [
      " 56%|█████▋    | 113/200 [00:34<00:29,  2.97it/s]"
     ]
    },
    {
     "name": "stdout",
     "output_type": "stream",
     "text": [
      "Message: 111010110101000001010111010011010100010000100111\n",
      "Decoded: 110000001101000101010101001000011110001001001111\n",
      "Bit Accuracy: 0.625\n",
      "Detection Result:  0\n",
      " *** Image : rotation_Image_378710.jpg ***\n",
      "Image id :  Image_378710.jpg\n"
     ]
    },
    {
     "name": "stderr",
     "output_type": "stream",
     "text": [
      " 57%|█████▋    | 114/200 [00:34<00:28,  2.97it/s]"
     ]
    },
    {
     "name": "stdout",
     "output_type": "stream",
     "text": [
      "Message: 111010110101000001010111010011010100010000100111\n",
      "Decoded: 110000010001000101010101001000011010001001001111\n",
      "Bit Accuracy: 0.625\n",
      "Detection Result:  0\n",
      " *** Image : rotation_Image_18885.jpg ***\n",
      "Image id :  Image_18885.jpg\n"
     ]
    },
    {
     "name": "stderr",
     "output_type": "stream",
     "text": [
      " 57%|█████▊    | 115/200 [00:34<00:29,  2.86it/s]"
     ]
    },
    {
     "name": "stdout",
     "output_type": "stream",
     "text": [
      "Message: 111010110101000001010111010011010100010000100111\n",
      "Decoded: 001110101100010101010011001001011100001001101111\n",
      "Bit Accuracy: 0.6458333333333334\n",
      "Detection Result:  0\n",
      " *** Image : rotation_Image_66514.jpg ***\n",
      "Image id :  Image_66514.jpg\n"
     ]
    },
    {
     "name": "stderr",
     "output_type": "stream",
     "text": [
      " 58%|█████▊    | 116/200 [00:34<00:26,  3.18it/s]"
     ]
    },
    {
     "name": "stdout",
     "output_type": "stream",
     "text": [
      "Message: 111010110101000001010111010011010100010000100111\n",
      "Decoded: 101000011101000101000001001100011110001001001111\n",
      "Bit Accuracy: 0.5833333333333334\n",
      "Detection Result:  0\n",
      " *** Image : rotation_Image_19380.jpg ***\n",
      "Image id :  Image_19380.jpg\n"
     ]
    },
    {
     "name": "stderr",
     "output_type": "stream",
     "text": [
      " 58%|█████▊    | 117/200 [00:35<00:25,  3.22it/s]"
     ]
    },
    {
     "name": "stdout",
     "output_type": "stream",
     "text": [
      "Message: 111010110101000001010111010011010100010000100111\n",
      "Decoded: 101000000011000111010101001010011110001000101111\n",
      "Bit Accuracy: 0.6458333333333334\n",
      "Detection Result:  0\n",
      " *** Image : rotation_Image_374114.jpg ***\n",
      "Image id :  Image_374114.jpg\n"
     ]
    },
    {
     "name": "stderr",
     "output_type": "stream",
     "text": [
      " 59%|█████▉    | 118/200 [00:35<00:27,  3.00it/s]"
     ]
    },
    {
     "name": "stdout",
     "output_type": "stream",
     "text": [
      "Message: 111010110101000001010111010011010100010000100111\n",
      "Decoded: 100000111001100111010101101001011110001000101111\n",
      "Bit Accuracy: 0.625\n",
      "Detection Result:  0\n",
      " *** Image : rotation_Image_96557.jpg ***\n",
      "Image id :  Image_96557.jpg\n"
     ]
    },
    {
     "name": "stderr",
     "output_type": "stream",
     "text": [
      " 60%|█████▉    | 119/200 [00:36<00:27,  2.90it/s]"
     ]
    },
    {
     "name": "stdout",
     "output_type": "stream",
     "text": [
      "Message: 111010110101000001010111010011010100010000100111\n",
      "Decoded: 101100110111000010000011001011011110001000101111\n",
      "Bit Accuracy: 0.6875\n",
      "Detection Result:  0\n",
      " *** Image : rotation_Image_559527.jpg ***\n",
      "Image id :  Image_559527.jpg\n"
     ]
    },
    {
     "name": "stderr",
     "output_type": "stream",
     "text": [
      " 60%|██████    | 120/200 [00:36<00:26,  3.04it/s]"
     ]
    },
    {
     "name": "stdout",
     "output_type": "stream",
     "text": [
      "Message: 111010110101000001010111010011010100010000100111\n",
      "Decoded: 100000001111000111010001001000011100001001101111\n",
      "Bit Accuracy: 0.5833333333333334\n",
      "Detection Result:  0\n",
      " *** Image : rotation_Image_444546.jpg ***\n",
      "Image id :  Image_444546.jpg\n"
     ]
    },
    {
     "name": "stderr",
     "output_type": "stream",
     "text": [
      " 60%|██████    | 121/200 [00:36<00:26,  3.02it/s]"
     ]
    },
    {
     "name": "stdout",
     "output_type": "stream",
     "text": [
      "Message: 111010110101000001010111010011010100010000100111\n",
      "Decoded: 100000000010000101010101001011011110001000001111\n",
      "Bit Accuracy: 0.625\n",
      "Detection Result:  0\n",
      " *** Image : rotation_Image_398494.jpg ***\n",
      "Image id :  Image_398494.jpg\n"
     ]
    },
    {
     "name": "stderr",
     "output_type": "stream",
     "text": [
      " 61%|██████    | 122/200 [00:36<00:23,  3.26it/s]"
     ]
    },
    {
     "name": "stdout",
     "output_type": "stream",
     "text": [
      "Message: 111010110101000001010111010011010100010000100111\n",
      "Decoded: 000000000011010111011101001111011010001001101111\n",
      "Bit Accuracy: 0.5208333333333334\n",
      "Detection Result:  0\n",
      " *** Image : rotation_Image_181104.jpg ***\n",
      "Image id :  Image_181104.jpg\n"
     ]
    },
    {
     "name": "stderr",
     "output_type": "stream",
     "text": [
      " 62%|██████▏   | 123/200 [00:37<00:23,  3.33it/s]"
     ]
    },
    {
     "name": "stdout",
     "output_type": "stream",
     "text": [
      "Message: 111010110101000001010111010011010100010000100111\n",
      "Decoded: 110000011001000101010001001000011110001000001111\n",
      "Bit Accuracy: 0.625\n",
      "Detection Result:  0\n",
      " *** Image : rotation_Image_354444.jpg ***\n",
      "Image id :  Image_354444.jpg\n"
     ]
    },
    {
     "name": "stderr",
     "output_type": "stream",
     "text": [
      " 62%|██████▏   | 124/200 [00:37<00:23,  3.25it/s]"
     ]
    },
    {
     "name": "stdout",
     "output_type": "stream",
     "text": [
      "Message: 111010110101000001010111010011010100010000100111\n",
      "Decoded: 111000000101000011000111001001011110001001001111\n",
      "Bit Accuracy: 0.6875\n",
      "Detection Result:  0\n",
      " *** Image : rotation_Image_497616.jpg ***\n",
      "Image id :  Image_497616.jpg\n"
     ]
    },
    {
     "name": "stderr",
     "output_type": "stream",
     "text": [
      " 62%|██████▎   | 125/200 [00:37<00:23,  3.24it/s]"
     ]
    },
    {
     "name": "stdout",
     "output_type": "stream",
     "text": [
      "Message: 111010110101000001010111010011010100010000100111\n",
      "Decoded: 011000010101100101010001001000011010001001001111\n",
      "Bit Accuracy: 0.6041666666666666\n",
      "Detection Result:  0\n",
      " *** Image : rotation_Image_225750.jpg ***\n",
      "Image id :  Image_225750.jpg\n"
     ]
    },
    {
     "name": "stderr",
     "output_type": "stream",
     "text": [
      " 63%|██████▎   | 126/200 [00:38<00:21,  3.52it/s]"
     ]
    },
    {
     "name": "stdout",
     "output_type": "stream",
     "text": [
      "Message: 111010110101000001010111010011010100010000100111\n",
      "Decoded: 111110010001010111010101101001011010001001001111\n",
      "Bit Accuracy: 0.6041666666666666\n",
      "Detection Result:  0\n",
      " *** Image : rotation_Image_303291.jpg ***\n",
      "Image id :  Image_303291.jpg\n"
     ]
    },
    {
     "name": "stderr",
     "output_type": "stream",
     "text": [
      " 64%|██████▎   | 127/200 [00:38<00:22,  3.23it/s]"
     ]
    },
    {
     "name": "stdout",
     "output_type": "stream",
     "text": [
      "Message: 111010110101000001010111010011010100010000100111\n",
      "Decoded: 111000110111010111010001001001011110001001001111\n",
      "Bit Accuracy: 0.6458333333333334\n",
      "Detection Result:  0\n",
      " *** Image : rotation_Image_467311.jpg ***\n",
      "Image id :  Image_467311.jpg\n"
     ]
    },
    {
     "name": "stderr",
     "output_type": "stream",
     "text": [
      " 64%|██████▍   | 128/200 [00:38<00:24,  2.91it/s]"
     ]
    },
    {
     "name": "stdout",
     "output_type": "stream",
     "text": [
      "Message: 111010110101000001010111010011010100010000100111\n",
      "Decoded: 110010001111000111010001001101011110001001001111\n",
      "Bit Accuracy: 0.5833333333333334\n",
      "Detection Result:  0\n",
      " *** Image : rotation_Image_445528.jpg ***\n",
      "Image id :  Image_445528.jpg\n"
     ]
    },
    {
     "name": "stderr",
     "output_type": "stream",
     "text": [
      " 64%|██████▍   | 129/200 [00:39<00:26,  2.73it/s]"
     ]
    },
    {
     "name": "stdout",
     "output_type": "stream",
     "text": [
      "Message: 111010110101000001010111010011010100010000100111\n",
      "Decoded: 111100011111010000010001001000011100001010101111\n",
      "Bit Accuracy: 0.625\n",
      "Detection Result:  0\n",
      " *** Image : rotation_Image_42493.jpg ***\n",
      "Image id :  Image_42493.jpg\n"
     ]
    },
    {
     "name": "stderr",
     "output_type": "stream",
     "text": [
      " 65%|██████▌   | 130/200 [00:39<00:25,  2.79it/s]"
     ]
    },
    {
     "name": "stdout",
     "output_type": "stream",
     "text": [
      "Message: 111010110101000001010111010011010100010000100111\n",
      "Decoded: 101000011111010011000001001000011100001001101111\n",
      "Bit Accuracy: 0.6041666666666666\n",
      "Detection Result:  0\n",
      " *** Image : rotation_Image_384029.jpg ***\n",
      "Image id :  Image_384029.jpg\n"
     ]
    },
    {
     "name": "stderr",
     "output_type": "stream",
     "text": [
      " 66%|██████▌   | 131/200 [00:39<00:22,  3.04it/s]"
     ]
    },
    {
     "name": "stdout",
     "output_type": "stream",
     "text": [
      "Message: 111010110101000001010111010011010100010000100111\n",
      "Decoded: 110000000110010001010001001000011110001001001011\n",
      "Bit Accuracy: 0.5625\n",
      "Detection Result:  0\n",
      " *** Image : rotation_Image_168194.jpg ***\n",
      "Image id :  Image_168194.jpg\n"
     ]
    },
    {
     "name": "stderr",
     "output_type": "stream",
     "text": [
      " 66%|██████▌   | 132/200 [00:40<00:23,  2.87it/s]"
     ]
    },
    {
     "name": "stdout",
     "output_type": "stream",
     "text": [
      "Message: 111010110101000001010111010011010100010000100111\n",
      "Decoded: 011000000101000101010001001000011110001001001111\n",
      "Bit Accuracy: 0.625\n",
      "Detection Result:  0\n",
      " *** Image : rotation_Image_492386.jpg ***\n",
      "Image id :  Image_492386.jpg\n"
     ]
    },
    {
     "name": "stderr",
     "output_type": "stream",
     "text": [
      " 66%|██████▋   | 133/200 [00:40<00:24,  2.79it/s]"
     ]
    },
    {
     "name": "stdout",
     "output_type": "stream",
     "text": [
      "Message: 111010110101000001010111010011010100010000100111\n",
      "Decoded: 100000000011010101010001001000011110001001001111\n",
      "Bit Accuracy: 0.5416666666666666\n",
      "Detection Result:  0\n",
      " *** Image : rotation_Image_472925.jpg ***\n",
      "Image id :  Image_472925.jpg\n"
     ]
    },
    {
     "name": "stderr",
     "output_type": "stream",
     "text": [
      " 67%|██████▋   | 134/200 [00:40<00:22,  2.90it/s]"
     ]
    },
    {
     "name": "stdout",
     "output_type": "stream",
     "text": [
      "Message: 111010110101000001010111010011010100010000100111\n",
      "Decoded: 110000000111010111010000001001011100001001101111\n",
      "Bit Accuracy: 0.6041666666666666\n",
      "Detection Result:  0\n",
      " *** Image : rotation_Image_278347.jpg ***\n",
      "Image id :  Image_278347.jpg\n"
     ]
    },
    {
     "name": "stderr",
     "output_type": "stream",
     "text": [
      " 68%|██████▊   | 135/200 [00:41<00:21,  2.96it/s]"
     ]
    },
    {
     "name": "stdout",
     "output_type": "stream",
     "text": [
      "Message: 111010110101000001010111010011010100010000100111\n",
      "Decoded: 101000001110000111010001001111011110001000101111\n",
      "Bit Accuracy: 0.6041666666666666\n",
      "Detection Result:  0\n",
      " *** Image : rotation_Image_98760.jpg ***\n",
      "Image id :  Image_98760.jpg\n"
     ]
    },
    {
     "name": "stderr",
     "output_type": "stream",
     "text": [
      " 68%|██████▊   | 136/200 [00:41<00:21,  3.03it/s]"
     ]
    },
    {
     "name": "stdout",
     "output_type": "stream",
     "text": [
      "Message: 111010110101000001010111010011010100010000100111\n",
      "Decoded: 100000000011000011010001001011011110001000001111\n",
      "Bit Accuracy: 0.625\n",
      "Detection Result:  0\n",
      " *** Image : rotation_Image_356702.jpg ***\n",
      "Image id :  Image_356702.jpg\n"
     ]
    },
    {
     "name": "stderr",
     "output_type": "stream",
     "text": [
      " 68%|██████▊   | 137/200 [00:42<00:22,  2.85it/s]"
     ]
    },
    {
     "name": "stdout",
     "output_type": "stream",
     "text": [
      "Message: 111010110101000001010111010011010100010000100111\n",
      "Decoded: 001000000001000111010001001000011110001000001111\n",
      "Bit Accuracy: 0.5833333333333334\n",
      "Detection Result:  0\n",
      " *** Image : rotation_Image_199628.jpg ***\n",
      "Image id :  Image_199628.jpg\n"
     ]
    },
    {
     "name": "stderr",
     "output_type": "stream",
     "text": [
      " 69%|██████▉   | 138/200 [00:42<00:23,  2.60it/s]"
     ]
    },
    {
     "name": "stdout",
     "output_type": "stream",
     "text": [
      "Message: 111010110101000001010111010011010100010000100111\n",
      "Decoded: 100000000001000101010101001000011110001001001111\n",
      "Bit Accuracy: 0.6041666666666666\n",
      "Detection Result:  0\n",
      " *** Image : rotation_Image_70868.jpg ***\n",
      "Image id :  Image_70868.jpg\n"
     ]
    },
    {
     "name": "stderr",
     "output_type": "stream",
     "text": [
      " 70%|██████▉   | 139/200 [00:42<00:21,  2.80it/s]"
     ]
    },
    {
     "name": "stdout",
     "output_type": "stream",
     "text": [
      "Message: 111010110101000001010111010011010100010000100111\n",
      "Decoded: 100000100011000101000001001101011110001001001111\n",
      "Bit Accuracy: 0.5625\n",
      "Detection Result:  0\n",
      " *** Image : rotation_Image_37015.jpg ***\n",
      "Image id :  Image_37015.jpg\n"
     ]
    },
    {
     "name": "stderr",
     "output_type": "stream",
     "text": [
      " 70%|███████   | 140/200 [00:43<00:20,  2.97it/s]"
     ]
    },
    {
     "name": "stdout",
     "output_type": "stream",
     "text": [
      "Message: 111010110101000001010111010011010100010000100111\n",
      "Decoded: 100010000111010101010001001101011110001001001111\n",
      "Bit Accuracy: 0.5833333333333334\n",
      "Detection Result:  0\n",
      " *** Image : rotation_Image_62604.jpg ***\n",
      "Image id :  Image_62604.jpg\n"
     ]
    },
    {
     "name": "stderr",
     "output_type": "stream",
     "text": [
      " 70%|███████   | 141/200 [00:43<00:19,  2.95it/s]"
     ]
    },
    {
     "name": "stdout",
     "output_type": "stream",
     "text": [
      "Message: 111010110101000001010111010011010100010000100111\n",
      "Decoded: 100000000011010111000001001000011100001001001111\n",
      "Bit Accuracy: 0.5208333333333334\n",
      "Detection Result:  0\n",
      " *** Image : rotation_Image_189993.jpg ***\n",
      "Image id :  Image_189993.jpg\n"
     ]
    },
    {
     "name": "stderr",
     "output_type": "stream",
     "text": [
      " 71%|███████   | 142/200 [00:43<00:20,  2.84it/s]"
     ]
    },
    {
     "name": "stdout",
     "output_type": "stream",
     "text": [
      "Message: 111010110101000001010111010011010100010000100111\n",
      "Decoded: 101010000111010101000001001101011110001110101111\n",
      "Bit Accuracy: 0.5833333333333334\n",
      "Detection Result:  0\n",
      " *** Image : rotation_Image_161919.jpg ***\n",
      "Image id :  Image_161919.jpg\n"
     ]
    },
    {
     "name": "stderr",
     "output_type": "stream",
     "text": [
      " 72%|███████▏  | 143/200 [00:44<00:20,  2.80it/s]"
     ]
    },
    {
     "name": "stdout",
     "output_type": "stream",
     "text": [
      "Message: 111010110101000001010111010011010100010000100111\n",
      "Decoded: 110000111011000101010101001001011110001000001111\n",
      "Bit Accuracy: 0.6666666666666666\n",
      "Detection Result:  0\n",
      " *** Image : rotation_Image_392136.jpg ***\n",
      "Image id :  Image_392136.jpg\n"
     ]
    },
    {
     "name": "stderr",
     "output_type": "stream",
     "text": [
      " 72%|███████▏  | 144/200 [00:44<00:18,  3.07it/s]"
     ]
    },
    {
     "name": "stdout",
     "output_type": "stream",
     "text": [
      "Message: 111010110101000001010111010011010100010000100111\n",
      "Decoded: 011100001111000111010000101001011100001001101111\n",
      "Bit Accuracy: 0.5625\n",
      "Detection Result:  0\n",
      " *** Image : rotation_Image_551125.jpg ***\n",
      "Image id :  Image_551125.jpg\n"
     ]
    },
    {
     "name": "stderr",
     "output_type": "stream",
     "text": [
      " 72%|███████▎  | 145/200 [00:44<00:18,  3.01it/s]"
     ]
    },
    {
     "name": "stdout",
     "output_type": "stream",
     "text": [
      "Message: 111010110101000001010111010011010100010000100111\n",
      "Decoded: 110000010011000101010101001000011010001001001111\n",
      "Bit Accuracy: 0.6041666666666666\n",
      "Detection Result:  0\n",
      " *** Image : rotation_Image_345781.jpg ***\n",
      "Image id :  Image_345781.jpg\n"
     ]
    },
    {
     "name": "stderr",
     "output_type": "stream",
     "text": [
      " 73%|███████▎  | 146/200 [00:45<00:17,  3.09it/s]"
     ]
    },
    {
     "name": "stdout",
     "output_type": "stream",
     "text": [
      "Message: 111010110101000001010111010011010100010000100111\n",
      "Decoded: 100110100111010010000001101000011100001011101111\n",
      "Bit Accuracy: 0.5416666666666666\n",
      "Detection Result:  0\n",
      " *** Image : rotation_Image_365363.jpg ***\n",
      "Image id :  Image_365363.jpg\n"
     ]
    },
    {
     "name": "stderr",
     "output_type": "stream",
     "text": [
      " 74%|███████▍  | 148/200 [00:45<00:14,  3.62it/s]"
     ]
    },
    {
     "name": "stdout",
     "output_type": "stream",
     "text": [
      "Message: 111010110101000001010111010011010100010000100111\n",
      "Decoded: 110000010101000101010101001000011010001001001111\n",
      "Bit Accuracy: 0.6458333333333334\n",
      "Detection Result:  0\n",
      " *** Image : rotation_Image_394326.jpg ***\n",
      "Image id :  Image_394326.jpg\n",
      "Message: 111010110101000001010111010011010100010000100111\n",
      "Decoded: 110000010011000111010101001011011010001000101111\n",
      "Bit Accuracy: 0.6666666666666666\n",
      "Detection Result:  0\n",
      " *** Image : rotation_Image_172899.jpg ***\n",
      "Image id :  Image_172899.jpg\n"
     ]
    },
    {
     "name": "stderr",
     "output_type": "stream",
     "text": [
      " 74%|███████▍  | 149/200 [00:45<00:15,  3.34it/s]"
     ]
    },
    {
     "name": "stdout",
     "output_type": "stream",
     "text": [
      "Message: 111010110101000001010111010011010100010000100111\n",
      "Decoded: 110000010001100101010101001000011010001001001111\n",
      "Bit Accuracy: 0.6041666666666666\n",
      "Detection Result:  0\n",
      " *** Image : rotation_Image_218956.jpg ***\n",
      "Image id :  Image_218956.jpg\n"
     ]
    },
    {
     "name": "stderr",
     "output_type": "stream",
     "text": [
      " 75%|███████▌  | 150/200 [00:46<00:13,  3.60it/s]"
     ]
    },
    {
     "name": "stdout",
     "output_type": "stream",
     "text": [
      "Message: 111010110101000001010111010011010100010000100111\n",
      "Decoded: 110000000011000111010001001001011000001001001111\n",
      "Bit Accuracy: 0.5833333333333334\n",
      "Detection Result:  0\n",
      " *** Image : rotation_Image_57870.jpg ***\n",
      "Image id :  Image_57870.jpg\n"
     ]
    },
    {
     "name": "stderr",
     "output_type": "stream",
     "text": [
      " 76%|███████▌  | 151/200 [00:46<00:14,  3.33it/s]"
     ]
    },
    {
     "name": "stdout",
     "output_type": "stream",
     "text": [
      "Message: 111010110101000001010111010011010100010000100111\n",
      "Decoded: 100000110001100111010000001001011110001001101111\n",
      "Bit Accuracy: 0.6041666666666666\n",
      "Detection Result:  0\n",
      " *** Image : rotation_Image_44404.jpg ***\n",
      "Image id :  Image_44404.jpg\n"
     ]
    },
    {
     "name": "stderr",
     "output_type": "stream",
     "text": [
      " 76%|███████▌  | 152/200 [00:46<00:14,  3.32it/s]"
     ]
    },
    {
     "name": "stdout",
     "output_type": "stream",
     "text": [
      "Message: 111010110101000001010111010011010100010000100111\n",
      "Decoded: 100000000111000101010101001100011110001001001111\n",
      "Bit Accuracy: 0.5833333333333334\n",
      "Detection Result:  0\n",
      " *** Image : rotation_Image_155845.jpg ***\n",
      "Image id :  Image_155845.jpg\n"
     ]
    },
    {
     "name": "stderr",
     "output_type": "stream",
     "text": [
      " 76%|███████▋  | 153/200 [00:47<00:13,  3.36it/s]"
     ]
    },
    {
     "name": "stdout",
     "output_type": "stream",
     "text": [
      "Message: 111010110101000001010111010011010100010000100111\n",
      "Decoded: 110000110101000001010101001001011000001001001111\n",
      "Bit Accuracy: 0.7291666666666666\n",
      "Detection Result:  0\n",
      " *** Image : rotation_Image_147303.jpg ***\n",
      "Image id :  Image_147303.jpg\n"
     ]
    },
    {
     "name": "stderr",
     "output_type": "stream",
     "text": [
      " 77%|███████▋  | 154/200 [00:47<00:14,  3.28it/s]"
     ]
    },
    {
     "name": "stdout",
     "output_type": "stream",
     "text": [
      "Message: 111010110101000001010111010011010100010000100111\n",
      "Decoded: 000110100101000110010101001001011100001000101111\n",
      "Bit Accuracy: 0.6666666666666666\n",
      "Detection Result:  0\n",
      " *** Image : rotation_Image_84427.jpg ***\n",
      "Image id :  Image_84427.jpg\n"
     ]
    },
    {
     "name": "stderr",
     "output_type": "stream",
     "text": [
      " 78%|███████▊  | 155/200 [00:47<00:13,  3.37it/s]"
     ]
    },
    {
     "name": "stdout",
     "output_type": "stream",
     "text": [
      "Message: 111010110101000001010111010011010100010000100111\n",
      "Decoded: 110000000111010101010001001100011110001001001111\n",
      "Bit Accuracy: 0.5625\n",
      "Detection Result:  0\n",
      " *** Image : rotation_Image_525589.jpg ***\n",
      "Image id :  Image_525589.jpg\n"
     ]
    },
    {
     "name": "stderr",
     "output_type": "stream",
     "text": [
      " 78%|███████▊  | 156/200 [00:48<00:14,  3.12it/s]"
     ]
    },
    {
     "name": "stdout",
     "output_type": "stream",
     "text": [
      "Message: 111010110101000001010111010011010100010000100111\n",
      "Decoded: 100110111011010011000001001011011110001000101111\n",
      "Bit Accuracy: 0.625\n",
      "Detection Result:  0\n",
      " *** Image : rotation_Image_246446.jpg ***\n",
      "Image id :  Image_246446.jpg\n"
     ]
    },
    {
     "name": "stderr",
     "output_type": "stream",
     "text": [
      " 78%|███████▊  | 157/200 [00:48<00:13,  3.09it/s]"
     ]
    },
    {
     "name": "stdout",
     "output_type": "stream",
     "text": [
      "Message: 111010110101000001010111010011010100010000100111\n",
      "Decoded: 111000100111010111000001001101011100001001101111\n",
      "Bit Accuracy: 0.625\n",
      "Detection Result:  0\n",
      " *** Image : rotation_Image_101418.jpg ***\n",
      "Image id :  Image_101418.jpg\n"
     ]
    },
    {
     "name": "stderr",
     "output_type": "stream",
     "text": [
      " 79%|███████▉  | 158/200 [00:48<00:13,  3.17it/s]"
     ]
    },
    {
     "name": "stdout",
     "output_type": "stream",
     "text": [
      "Message: 111010110101000001010111010011010100010000100111\n",
      "Decoded: 001100011111010111000001001001011100001000101111\n",
      "Bit Accuracy: 0.5833333333333334\n",
      "Detection Result:  0\n",
      " *** Image : rotation_Image_85685.jpg ***\n",
      "Image id :  Image_85685.jpg\n"
     ]
    },
    {
     "name": "stderr",
     "output_type": "stream",
     "text": [
      " 80%|███████▉  | 159/200 [00:49<00:14,  2.88it/s]"
     ]
    },
    {
     "name": "stdout",
     "output_type": "stream",
     "text": [
      "Message: 111010110101000001010111010011010100010000100111\n",
      "Decoded: 101010101111010111000001001101011110001000001111\n",
      "Bit Accuracy: 0.5833333333333334\n",
      "Detection Result:  0\n",
      " *** Image : rotation_Image_441488.jpg ***\n",
      "Image id :  Image_441488.jpg\n"
     ]
    },
    {
     "name": "stderr",
     "output_type": "stream",
     "text": [
      " 80%|████████  | 160/200 [00:49<00:14,  2.73it/s]"
     ]
    },
    {
     "name": "stdout",
     "output_type": "stream",
     "text": [
      "Message: 111010110101000001010111010011010100010000100111\n",
      "Decoded: 100000001101000111010001101001011100001001001111\n",
      "Bit Accuracy: 0.5833333333333334\n",
      "Detection Result:  0\n",
      " *** Image : rotation_Image_546451.jpg ***\n",
      "Image id :  Image_546451.jpg\n"
     ]
    },
    {
     "name": "stderr",
     "output_type": "stream",
     "text": [
      " 80%|████████  | 161/200 [00:50<00:16,  2.34it/s]"
     ]
    },
    {
     "name": "stdout",
     "output_type": "stream",
     "text": [
      "Message: 111010110101000001010111010011010100010000100111\n",
      "Decoded: 110000010001100101010101001000011010001001001111\n",
      "Bit Accuracy: 0.6041666666666666\n",
      "Detection Result:  0\n",
      " *** Image : rotation_Image_540162.jpg ***\n",
      "Image id :  Image_540162.jpg\n"
     ]
    },
    {
     "name": "stderr",
     "output_type": "stream",
     "text": [
      " 81%|████████  | 162/200 [00:50<00:13,  2.79it/s]"
     ]
    },
    {
     "name": "stdout",
     "output_type": "stream",
     "text": [
      "Message: 111010110101000001010111010011010100010000100111\n",
      "Decoded: 100100000011000111010001001001011100001001001111\n",
      "Bit Accuracy: 0.5625\n",
      "Detection Result:  0\n",
      " *** Image : rotation_Image_283524.jpg ***\n",
      "Image id :  Image_283524.jpg\n"
     ]
    },
    {
     "name": "stderr",
     "output_type": "stream",
     "text": [
      " 82%|████████▏ | 163/200 [00:50<00:12,  3.06it/s]"
     ]
    },
    {
     "name": "stdout",
     "output_type": "stream",
     "text": [
      "Message: 111010110101000001010111010011010100010000100111\n",
      "Decoded: 100000000011010111010001001000011110001000001111\n",
      "Bit Accuracy: 0.5416666666666666\n",
      "Detection Result:  0\n",
      " *** Image : rotation_Image_55627.jpg ***\n",
      "Image id :  Image_55627.jpg\n"
     ]
    },
    {
     "name": "stderr",
     "output_type": "stream",
     "text": [
      " 82%|████████▏ | 164/200 [00:50<00:10,  3.28it/s]"
     ]
    },
    {
     "name": "stdout",
     "output_type": "stream",
     "text": [
      "Message: 111010110101000001010111010011010100010000100111\n",
      "Decoded: 110010010001000101010001001000011100001001001111\n",
      "Bit Accuracy: 0.6666666666666666\n",
      "Detection Result:  0\n",
      " *** Image : rotation_Image_219025.jpg ***\n",
      "Image id :  Image_219025.jpg\n"
     ]
    },
    {
     "name": "stderr",
     "output_type": "stream",
     "text": [
      " 82%|████████▎ | 165/200 [00:51<00:12,  2.89it/s]"
     ]
    },
    {
     "name": "stdout",
     "output_type": "stream",
     "text": [
      "Message: 111010110101000001010111010011010100010000100111\n",
      "Decoded: 111100010111010111000011001001011110001001001111\n",
      "Bit Accuracy: 0.6041666666666666\n",
      "Detection Result:  0\n",
      " *** Image : rotation_Image_576801.jpg ***\n",
      "Image id :  Image_576801.jpg\n"
     ]
    },
    {
     "name": "stderr",
     "output_type": "stream",
     "text": [
      " 83%|████████▎ | 166/200 [00:51<00:11,  3.02it/s]"
     ]
    },
    {
     "name": "stdout",
     "output_type": "stream",
     "text": [
      "Message: 111010110101000001010111010011010100010000100111\n",
      "Decoded: 111000000111010001000001001000011110001001101111\n",
      "Bit Accuracy: 0.625\n",
      "Detection Result:  0\n",
      " *** Image : rotation_Image_79481.jpg ***\n",
      "Image id :  Image_79481.jpg\n"
     ]
    },
    {
     "name": "stderr",
     "output_type": "stream",
     "text": [
      " 84%|████████▎ | 167/200 [00:51<00:10,  3.02it/s]"
     ]
    },
    {
     "name": "stdout",
     "output_type": "stream",
     "text": [
      "Message: 111010110101000001010111010011010100010000100111\n",
      "Decoded: 100010000110000111010000001011011100001000101111\n",
      "Bit Accuracy: 0.6458333333333334\n",
      "Detection Result:  0\n",
      " *** Image : rotation_Image_153946.jpg ***\n",
      "Image id :  Image_153946.jpg\n"
     ]
    },
    {
     "name": "stderr",
     "output_type": "stream",
     "text": [
      " 84%|████████▍ | 168/200 [00:52<00:10,  2.99it/s]"
     ]
    },
    {
     "name": "stdout",
     "output_type": "stream",
     "text": [
      "Message: 111010110101000001010111010011010100010000100111\n",
      "Decoded: 100100001111011111010001101011011110001010101111\n",
      "Bit Accuracy: 0.5208333333333334\n",
      "Detection Result:  0\n",
      " *** Image : rotation_Image_214704.jpg ***\n",
      "Image id :  Image_214704.jpg\n"
     ]
    },
    {
     "name": "stderr",
     "output_type": "stream",
     "text": [
      " 84%|████████▍ | 169/200 [00:52<00:09,  3.39it/s]"
     ]
    },
    {
     "name": "stdout",
     "output_type": "stream",
     "text": [
      "Message: 111010110101000001010111010011010100010000100111\n",
      "Decoded: 100000001101010101010001001100011010001001001111\n",
      "Bit Accuracy: 0.5208333333333334\n",
      "Detection Result:  0\n",
      " *** Image : rotation_Image_8649.jpg ***\n",
      "Image id :  Image_8649.jpg\n"
     ]
    },
    {
     "name": "stderr",
     "output_type": "stream",
     "text": [
      " 85%|████████▌ | 170/200 [00:52<00:09,  3.24it/s]"
     ]
    },
    {
     "name": "stdout",
     "output_type": "stream",
     "text": [
      "Message: 111010110101000001010111010011010100010000100111\n",
      "Decoded: 010001011011000111010001001001011100001000001111\n",
      "Bit Accuracy: 0.5833333333333334\n",
      "Detection Result:  0\n",
      " *** Image : rotation_Image_147170.jpg ***\n",
      "Image id :  Image_147170.jpg\n"
     ]
    },
    {
     "name": "stderr",
     "output_type": "stream",
     "text": [
      " 86%|████████▌ | 172/200 [00:53<00:07,  3.84it/s]"
     ]
    },
    {
     "name": "stdout",
     "output_type": "stream",
     "text": [
      "Message: 111010110101000001010111010011010100010000100111\n",
      "Decoded: 110000010001100101010101001000011010001001001111\n",
      "Bit Accuracy: 0.6041666666666666\n",
      "Detection Result:  0\n",
      " *** Image : rotation_Image_157032.jpg ***\n",
      "Image id :  Image_157032.jpg\n",
      "Message: 111010110101000001010111010011010100010000100111\n",
      "Decoded: 111010011101000111000001001001011110001001001111\n",
      "Bit Accuracy: 0.6458333333333334\n",
      "Detection Result:  0\n",
      " *** Image : rotation_Image_108627.jpg ***\n",
      "Image id :  Image_108627.jpg\n"
     ]
    },
    {
     "name": "stderr",
     "output_type": "stream",
     "text": [
      " 87%|████████▋ | 174/200 [00:53<00:06,  4.12it/s]"
     ]
    },
    {
     "name": "stdout",
     "output_type": "stream",
     "text": [
      "Message: 111010110101000001010111010011010100010000100111\n",
      "Decoded: 111000000101000011010001001000011110001001101111\n",
      "Bit Accuracy: 0.6666666666666666\n",
      "Detection Result:  0\n",
      " *** Image : rotation_Image_334080.jpg ***\n",
      "Image id :  Image_334080.jpg\n",
      "Message: 111010110101000001010111010011010100010000100111\n",
      "Decoded: 111000010101010111010001001001011110001000101111\n",
      "Bit Accuracy: 0.6875\n",
      "Detection Result:  0\n",
      " *** Image : rotation_Image_504616.jpg ***\n",
      "Image id :  Image_504616.jpg\n"
     ]
    },
    {
     "name": "stderr",
     "output_type": "stream",
     "text": [
      " 88%|████████▊ | 175/200 [00:53<00:06,  3.88it/s]"
     ]
    },
    {
     "name": "stdout",
     "output_type": "stream",
     "text": [
      "Message: 111010110101000001010111010011010100010000100111\n",
      "Decoded: 000010100001000101010001101001011100001000001111\n",
      "Bit Accuracy: 0.6458333333333334\n",
      "Detection Result:  0\n",
      " *** Image : rotation_Image_4428.jpg ***\n",
      "Image id :  Image_4428.jpg\n"
     ]
    },
    {
     "name": "stderr",
     "output_type": "stream",
     "text": [
      " 88%|████████▊ | 176/200 [00:54<00:06,  3.57it/s]"
     ]
    },
    {
     "name": "stdout",
     "output_type": "stream",
     "text": [
      "Message: 111010110101000001010111010011010100010000100111\n",
      "Decoded: 110000010011010111000001001101011110001000101111\n",
      "Bit Accuracy: 0.5833333333333334\n",
      "Detection Result:  0\n",
      " *** Image : rotation_Image_513541.jpg ***\n",
      "Image id :  Image_513541.jpg\n"
     ]
    },
    {
     "name": "stderr",
     "output_type": "stream",
     "text": [
      " 88%|████████▊ | 177/200 [00:54<00:06,  3.75it/s]"
     ]
    },
    {
     "name": "stdout",
     "output_type": "stream",
     "text": [
      "Message: 111010110101000001010111010011010100010000100111\n",
      "Decoded: 111000010101000011010101001001011110001001001110\n",
      "Bit Accuracy: 0.6875\n",
      "Detection Result:  0\n",
      " *** Image : rotation_Image_543877.jpg ***\n",
      "Image id :  Image_543877.jpg\n"
     ]
    },
    {
     "name": "stderr",
     "output_type": "stream",
     "text": [
      " 89%|████████▉ | 178/200 [00:54<00:05,  3.68it/s]"
     ]
    },
    {
     "name": "stdout",
     "output_type": "stream",
     "text": [
      "Message: 111010110101000001010111010011010100010000100111\n",
      "Decoded: 110000000111000101010000001000011110001000001111\n",
      "Bit Accuracy: 0.6041666666666666\n",
      "Detection Result:  0\n",
      " *** Image : rotation_Image_570246.jpg ***\n",
      "Image id :  Image_570246.jpg\n"
     ]
    },
    {
     "name": "stderr",
     "output_type": "stream",
     "text": [
      " 90%|████████▉ | 179/200 [00:55<00:06,  3.49it/s]"
     ]
    },
    {
     "name": "stdout",
     "output_type": "stream",
     "text": [
      "Message: 111010110101000001010111010011010100010000100111\n",
      "Decoded: 111000111011000111000001001111011000001000101111\n",
      "Bit Accuracy: 0.6458333333333334\n",
      "Detection Result:  0\n",
      " *** Image : rotation_Image_581674.jpg ***\n",
      "Image id :  Image_581674.jpg\n"
     ]
    },
    {
     "name": "stderr",
     "output_type": "stream",
     "text": [
      " 90%|█████████ | 180/200 [00:55<00:05,  3.76it/s]"
     ]
    },
    {
     "name": "stdout",
     "output_type": "stream",
     "text": [
      "Message: 111010110101000001010111010011010100010000100111\n",
      "Decoded: 100000000011100111010100001011011100001000001111\n",
      "Bit Accuracy: 0.6041666666666666\n",
      "Detection Result:  0\n",
      " *** Image : rotation_Image_409382.jpg ***\n",
      "Image id :  Image_409382.jpg\n"
     ]
    },
    {
     "name": "stderr",
     "output_type": "stream",
     "text": [
      " 90%|█████████ | 181/200 [00:55<00:05,  3.68it/s]"
     ]
    },
    {
     "name": "stdout",
     "output_type": "stream",
     "text": [
      "Message: 111010110101000001010111010011010100010000100111\n",
      "Decoded: 111100011101000111010001001011011100101001001111\n",
      "Bit Accuracy: 0.6458333333333334\n",
      "Detection Result:  0\n",
      " *** Image : rotation_Image_257350.jpg ***\n",
      "Image id :  Image_257350.jpg\n"
     ]
    },
    {
     "name": "stderr",
     "output_type": "stream",
     "text": [
      " 91%|█████████ | 182/200 [00:55<00:04,  3.95it/s]"
     ]
    },
    {
     "name": "stdout",
     "output_type": "stream",
     "text": [
      "Message: 111010110101000001010111010011010100010000100111\n",
      "Decoded: 110010010011000011010101001001011110001010001111\n",
      "Bit Accuracy: 0.6666666666666666\n",
      "Detection Result:  0\n",
      " *** Image : rotation_Image_241364.jpg ***\n",
      "Image id :  Image_241364.jpg\n"
     ]
    },
    {
     "name": "stderr",
     "output_type": "stream",
     "text": [
      " 92%|█████████▏| 184/200 [00:56<00:03,  4.04it/s]"
     ]
    },
    {
     "name": "stdout",
     "output_type": "stream",
     "text": [
      "Message: 111010110101000001010111010011010100010000100111\n",
      "Decoded: 110000010011000101010100001000011110001001001111\n",
      "Bit Accuracy: 0.6041666666666666\n",
      "Detection Result:  0\n",
      " *** Image : rotation_Image_213546.jpg ***\n",
      "Image id :  Image_213546.jpg\n",
      "Message: 111010110101000001010111010011010100010000100111\n",
      "Decoded: 100000010011100101010101001000011010001001001111\n",
      "Bit Accuracy: 0.5625\n",
      "Detection Result:  0\n",
      " *** Image : rotation_Image_540988.jpg ***\n",
      "Image id :  Image_540988.jpg\n"
     ]
    },
    {
     "name": "stderr",
     "output_type": "stream",
     "text": [
      " 92%|█████████▎| 185/200 [00:56<00:04,  3.52it/s]"
     ]
    },
    {
     "name": "stdout",
     "output_type": "stream",
     "text": [
      "Message: 111010110101000001010111010011010100010000100111\n",
      "Decoded: 100110001101010111000001001000011110001010101111\n",
      "Bit Accuracy: 0.5416666666666666\n",
      "Detection Result:  0\n",
      " *** Image : rotation_Image_302389.jpg ***\n",
      "Image id :  Image_302389.jpg\n"
     ]
    },
    {
     "name": "stderr",
     "output_type": "stream",
     "text": [
      " 94%|█████████▎| 187/200 [00:57<00:03,  4.17it/s]"
     ]
    },
    {
     "name": "stdout",
     "output_type": "stream",
     "text": [
      "Message: 111010110101000001010111010011010100010000100111\n",
      "Decoded: 100000000011010101010101001000011110001000001111\n",
      "Bit Accuracy: 0.5833333333333334\n",
      "Detection Result:  0\n",
      " *** Image : rotation_Image_351430.jpg ***\n",
      "Image id :  Image_351430.jpg\n",
      "Message: 111010110101000001010111010011010100010000100111\n",
      "Decoded: 100000011011010101010001001001011110001001001111\n",
      "Bit Accuracy: 0.5625\n",
      "Detection Result:  0\n",
      " *** Image : rotation_Image_311914.jpg ***\n",
      "Image id :  Image_311914.jpg\n"
     ]
    },
    {
     "name": "stderr",
     "output_type": "stream",
     "text": [
      " 94%|█████████▍| 189/200 [00:57<00:02,  4.61it/s]"
     ]
    },
    {
     "name": "stdout",
     "output_type": "stream",
     "text": [
      "Message: 111010110101000001010111010011010100010000100111\n",
      "Decoded: 100000000001000101000001001100011110001001001111\n",
      "Bit Accuracy: 0.5416666666666666\n",
      "Detection Result:  0\n",
      " *** Image : rotation_Image_77375.jpg ***\n",
      "Image id :  Image_77375.jpg\n",
      "Message: 111010110101000001010111010011010100010000100111\n",
      "Decoded: 110010000111000101010101001001011110001001001111\n",
      "Bit Accuracy: 0.6666666666666666\n",
      "Detection Result:  0\n",
      " *** Image : rotation_Image_62279.jpg ***\n",
      "Image id :  Image_62279.jpg\n"
     ]
    },
    {
     "name": "stderr",
     "output_type": "stream",
     "text": [
      " 96%|█████████▌| 191/200 [00:57<00:01,  4.81it/s]"
     ]
    },
    {
     "name": "stdout",
     "output_type": "stream",
     "text": [
      "Message: 111010110101000001010111010011010100010000100111\n",
      "Decoded: 101000001101010101010001001000011110001001001111\n",
      "Bit Accuracy: 0.5833333333333334\n",
      "Detection Result:  0\n",
      " *** Image : rotation_Image_454325.jpg ***\n",
      "Image id :  Image_454325.jpg\n",
      "Message: 111010110101000001010111010011010100010000100111\n",
      "Decoded: 110000010001000101010100001000011110001001001111\n",
      "Bit Accuracy: 0.625\n",
      "Detection Result:  0\n",
      " *** Image : rotation_Image_93785.jpg ***\n",
      "Image id :  Image_93785.jpg\n"
     ]
    },
    {
     "name": "stderr",
     "output_type": "stream",
     "text": [
      " 96%|█████████▌| 192/200 [00:58<00:01,  4.12it/s]"
     ]
    },
    {
     "name": "stdout",
     "output_type": "stream",
     "text": [
      "Message: 111010110101000001010111010011010100010000100111\n",
      "Decoded: 110000010001000101010101001000011010001001001111\n",
      "Bit Accuracy: 0.625\n",
      "Detection Result:  0\n",
      " *** Image : rotation_Image_122688.jpg ***\n",
      "Image id :  Image_122688.jpg\n"
     ]
    },
    {
     "name": "stderr",
     "output_type": "stream",
     "text": [
      " 97%|█████████▋| 194/200 [00:58<00:01,  4.52it/s]"
     ]
    },
    {
     "name": "stdout",
     "output_type": "stream",
     "text": [
      "Message: 111010110101000001010111010011010100010000100111\n",
      "Decoded: 110100010101000101010101001001011100001001101111\n",
      "Bit Accuracy: 0.7083333333333334\n",
      "Detection Result:  0\n",
      " *** Image : rotation_Image_352884.jpg ***\n",
      "Image id :  Image_352884.jpg\n",
      "Message: 111010110101000001010111010011010100010000100111\n",
      "Decoded: 100000010101000111010001001001011000001000001111\n",
      "Bit Accuracy: 0.6458333333333334\n",
      "Detection Result:  0\n",
      " *** Image : rotation_Image_474882.jpg ***\n",
      "Image id :  Image_474882.jpg\n"
     ]
    },
    {
     "name": "stderr",
     "output_type": "stream",
     "text": [
      " 98%|█████████▊| 196/200 [00:58<00:00,  5.09it/s]"
     ]
    },
    {
     "name": "stdout",
     "output_type": "stream",
     "text": [
      "Message: 111010110101000001010111010011010100010000100111\n",
      "Decoded: 100010110001000101010101001001011110001001001111\n",
      "Bit Accuracy: 0.6875\n",
      "Detection Result:  0\n",
      " *** Image : rotation_Image_560459.jpg ***\n",
      "Image id :  Image_560459.jpg\n",
      "Message: 111010110101000001010111010011010100010000100111\n",
      "Decoded: 100000100111010011000000001101011100001000101111\n",
      "Bit Accuracy: 0.6041666666666666\n",
      "Detection Result:  0\n",
      " *** Image : rotation_Image_412535.jpg ***\n",
      "Image id :  Image_412535.jpg\n"
     ]
    },
    {
     "name": "stderr",
     "output_type": "stream",
     "text": [
      " 99%|█████████▉| 198/200 [00:59<00:00,  4.50it/s]"
     ]
    },
    {
     "name": "stdout",
     "output_type": "stream",
     "text": [
      "Message: 111010110101000001010111010011010100010000100111\n",
      "Decoded: 110000010001100101010101001000011110001001001111\n",
      "Bit Accuracy: 0.625\n",
      "Detection Result:  0\n",
      " *** Image : rotation_Image_267688.jpg ***\n",
      "Image id :  Image_267688.jpg\n",
      "Message: 111010110101000001010111010011010100010000100111\n",
      "Decoded: 010010101111000011000011101011011010001010101111\n",
      "Bit Accuracy: 0.625\n",
      "Detection Result:  0\n",
      " *** Image : rotation_Image_212091.jpg ***\n",
      "Image id :  Image_212091.jpg\n"
     ]
    },
    {
     "name": "stderr",
     "output_type": "stream",
     "text": [
      "100%|█████████▉| 199/200 [00:59<00:00,  4.93it/s]"
     ]
    },
    {
     "name": "stdout",
     "output_type": "stream",
     "text": [
      "Message: 111010110101000001010111010011010100010000100111\n",
      "Decoded: 111100000101000111010001001001011100001001001111\n",
      "Bit Accuracy: 0.6458333333333334\n",
      "Detection Result:  0\n",
      " *** Image : rotation_Image_348850.jpg ***\n",
      "Image id :  Image_348850.jpg\n"
     ]
    },
    {
     "name": "stderr",
     "output_type": "stream",
     "text": [
      "100%|██████████| 200/200 [00:59<00:00,  3.34it/s]"
     ]
    },
    {
     "name": "stdout",
     "output_type": "stream",
     "text": [
      "Message: 111010110101000001010111010011010100010000100111\n",
      "Decoded: 100110111111011011000000001011011100001110101111\n",
      "Bit Accuracy: 0.5833333333333334\n",
      "Detection Result:  0\n"
     ]
    },
    {
     "name": "stderr",
     "output_type": "stream",
     "text": [
      "\n"
     ]
    }
   ],
   "source": [
    "for attack in attacks:\n",
    "    # if attack != \"gaussian_noise\" : \n",
    "        # continue \n",
    "    \n",
    "    print(f\" ----- Attack : {attack} -----\")\n",
    "    \n",
    "    attacked_path = os.path.join(attacks_op_parent, attack)\n",
    "    attacked_ids = os.listdir(attacked_path)\n",
    "    \n",
    "    for img in tqdm(attacked_ids):\n",
    "        print(f\" *** Image : {img} ***\")\n",
    "        l = img.split('_')\n",
    "        if attack == \"gaussian_noise\":\n",
    "            id = f\"{l[2]}_{l[3]}\"\n",
    "            print(\"Image id : \", id)\n",
    "        \n",
    "        else :\n",
    "            id = f\"{l[1]}_{l[2]}\"\n",
    "            print(\"Image id : \", id)\n",
    "        \n",
    "        image_path = os.path.join(attacked_path, img)\n",
    "        img = Image.open(image_path).convert('RGB')\n",
    "        img = img.resize((512, 512), Image.BICUBIC)\n",
    "        img_pt = default_transform(img).unsqueeze(0).to(device)\n",
    "        \n",
    "        # create message\n",
    "        # random_msg = False\n",
    "        # if random_msg:\n",
    "        #     msg_ori = torch.randint(0, 2, (1, params.num_bits), device=device).bool().to(device) # b k\n",
    "        # else:\n",
    "        #     msg_ori = torch.Tensor(str2msg(\"111010110101000001010111010011010100010000100111\")).unsqueeze(0).to(device)\n",
    "        \n",
    "        # msg = 2 * msg_ori.type(torch.float) - 1  # b k\n",
    "        # img_w = encoder_with_jnd(img_pt, msg)\n",
    "        # clip_img = torch.clamp(UNNORMALIZE_IMAGENET(img_w), 0, 1)\n",
    "        # clip_img = torch.round(255 * clip_img) / 255\n",
    "        # clip_img = transforms.ToPILImage()(clip_img.squeeze(0).cpu())\n",
    "        \n",
    "        # diff = np.abs(np.asarray(img).astype(int) - np.asarray(clip_img).astype(int)) / 255 * 10\n",
    "        # msg_ori = torch.Tensor(str2msg(\"111010110101000001010111010011010100010000100111\")).unsqueeze(0).to(device)  # Example message\n",
    "        # accs = (~torch.logical_xor(decoded_msg, msg_ori))  # b k -> b k\n",
    "        # bit_accuracy = accs.sum().item() / params.num_bits\n",
    "        \n",
    "        ft = decoder(img_pt)\n",
    "        decoded_msg = ft > 0  # b k -> b k\n",
    "        msg_ori = torch.Tensor(str2msg(\"111010110101000001010111010011010100010000100111\")).unsqueeze(0).to(device)  # Example message\n",
    "        accs = (~torch.logical_xor(decoded_msg, msg_ori))  # b k -> b k\n",
    "        bit_accuracy = accs.sum().item() / params.num_bits\n",
    "        \n",
    "        print(f\"Message: {msg2str(msg_ori.squeeze(0).cpu().numpy())}\")\n",
    "        print(f\"Decoded: {msg2str(decoded_msg.squeeze(0).cpu().numpy())}\")\n",
    "        print(f\"Bit Accuracy: {bit_accuracy}\")\n",
    "        detection_result = 1 if bit_accuracy > 0.90 else 0\n",
    "        \n",
    "        detection_result = 1 if bit_accuracy > 0.90 else 0\n",
    "        attack_detection[id][f\"{attack}_det_prob\"] = bit_accuracy\n",
    "        attack_detection[id][f\"{attack}_det_result\"] = detection_result\n",
    "        print(\"Detection Result: \", detection_result)"
   ]
  },
  {
   "cell_type": "code",
   "execution_count": 30,
   "metadata": {},
   "outputs": [
    {
     "name": "stdout",
     "output_type": "stream",
     "text": [
      "Preparing results json \n"
     ]
    }
   ],
   "source": [
    "print(\"Preparing results json \")\n",
    "import json \n",
    "with open('stable_signature_all_att_result.json','w') as file : \n",
    "    json.dump(attack_detection,file,indent=4)\n"
   ]
  },
  {
   "cell_type": "code",
   "execution_count": null,
   "metadata": {},
   "outputs": [],
   "source": []
  },
  {
   "cell_type": "code",
   "execution_count": null,
   "metadata": {},
   "outputs": [],
   "source": []
  }
 ],
 "metadata": {
  "kernelspec": {
   "display_name": "zodiac",
   "language": "python",
   "name": "python3"
  },
  "language_info": {
   "codemirror_mode": {
    "name": "ipython",
    "version": 3
   },
   "file_extension": ".py",
   "mimetype": "text/x-python",
   "name": "python",
   "nbconvert_exporter": "python",
   "pygments_lexer": "ipython3",
   "version": "3.10.13"
  }
 },
 "nbformat": 4,
 "nbformat_minor": 2
}
