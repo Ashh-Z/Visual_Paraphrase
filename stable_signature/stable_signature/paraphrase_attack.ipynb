{
 "cells": [
  {
   "cell_type": "code",
   "execution_count": 1,
   "metadata": {},
   "outputs": [
    {
     "name": "stdout",
     "output_type": "stream",
     "text": [
      "/raid/home/ashhar21137/watermarking3/stable_signature/hidden\n"
     ]
    }
   ],
   "source": [
    "%cd hidden"
   ]
  },
  {
   "cell_type": "code",
   "execution_count": 2,
   "metadata": {},
   "outputs": [],
   "source": [
    "import os \n",
    "os.environ[\"CUDA_VISIBLE_DEVICES\"]='2'"
   ]
  },
  {
   "cell_type": "code",
   "execution_count": 3,
   "metadata": {},
   "outputs": [],
   "source": [
    "import torch\n",
    "from torchvision import transforms\n",
    "import matplotlib.pyplot as plt\n",
    "import numpy as np\n",
    "from PIL import Image\n",
    "from skimage.metrics import peak_signal_noise_ratio\n",
    "\n",
    "device = torch.device('cuda' if torch.cuda.is_available() else 'cpu')\n",
    "\n",
    "# you should run this notebook in the root directory of the hidden project for the following imports to work\n",
    "# %cd ..\n",
    "from models import HiddenEncoder, HiddenDecoder, EncoderWithJND, EncoderDecoder\n",
    "from attenuations import JND\n",
    "from PIL import Image \n",
    "import numpy as np \n",
    "from tqdm import tqdm \n",
    "from skimage.util import random_noise\n",
    "from torchvision import transforms\n",
    "from collections import defaultdict\n",
    "import re\n",
    "import cv2\n",
    "from PIL import Image, ImageEnhance\n",
    "from diffusers import AutoPipelineForText2Image\n",
    "from diffusers import AutoPipelineForImage2Image\n",
    "import json"
   ]
  },
  {
   "cell_type": "code",
   "execution_count": 4,
   "metadata": {},
   "outputs": [],
   "source": [
    "def msg2str(msg):\n",
    "    return \"\".join([('1' if el else '0') for el in msg])\n",
    "\n",
    "def str2msg(str):\n",
    "    return [True if el=='1' else False for el in str]"
   ]
  },
  {
   "cell_type": "code",
   "execution_count": 5,
   "metadata": {},
   "outputs": [],
   "source": [
    "class Params():\n",
    "    def __init__(self, encoder_depth:int, encoder_channels:int, decoder_depth:int, decoder_channels:int, num_bits:int,\n",
    "                attenuation:str, scale_channels:bool, scaling_i:float, scaling_w:float):\n",
    "        # encoder and decoder parameters\n",
    "        self.encoder_depth = encoder_depth\n",
    "        self.encoder_channels = encoder_channels\n",
    "        self.decoder_depth = decoder_depth\n",
    "        self.decoder_channels = decoder_channels\n",
    "        self.num_bits = num_bits\n",
    "        # attenuation parameters\n",
    "        self.attenuation = attenuation\n",
    "        self.scale_channels = scale_channels\n",
    "        self.scaling_i = scaling_i\n",
    "        self.scaling_w = scaling_w\n",
    "\n",
    "NORMALIZE_IMAGENET = transforms.Normalize(mean=[0.485, 0.456, 0.406], std=[0.229, 0.224, 0.225])\n",
    "UNNORMALIZE_IMAGENET = transforms.Normalize(mean=[-0.485/0.229, -0.456/0.224, -0.406/0.225], std=[1/0.229, 1/0.224, 1/0.225])\n",
    "default_transform = transforms.Compose([transforms.ToTensor(), NORMALIZE_IMAGENET])\n",
    "\n",
    "params = Params(\n",
    "    encoder_depth=4, encoder_channels=64, decoder_depth=8, decoder_channels=64, num_bits=48,\n",
    "    attenuation=\"jnd\", scale_channels=False, scaling_i=1, scaling_w=1.5\n",
    ")\n",
    "\n",
    "decoder = HiddenDecoder(\n",
    "    num_blocks=params.decoder_depth,\n",
    "    num_bits=params.num_bits,\n",
    "    channels=params.decoder_channels\n",
    ")\n",
    "encoder = HiddenEncoder(\n",
    "    num_blocks=params.encoder_depth,\n",
    "    num_bits=params.num_bits,\n",
    "    channels=params.encoder_channels\n",
    ")\n",
    "attenuation = JND(preprocess=UNNORMALIZE_IMAGENET) if params.attenuation == \"jnd\" else None\n",
    "encoder_with_jnd = EncoderWithJND(\n",
    "    encoder, attenuation, params.scale_channels, params.scaling_i, params.scaling_w\n",
    ")"
   ]
  },
  {
   "cell_type": "code",
   "execution_count": 6,
   "metadata": {},
   "outputs": [],
   "source": [
    "ckpt_path = \"ckpts/hidden_replicate.pth\"\n",
    "\n",
    "state_dict = torch.load(ckpt_path, map_location='cpu')['encoder_decoder']\n",
    "encoder_decoder_state_dict = {k.replace('module.', ''): v for k, v in state_dict.items()}\n",
    "encoder_state_dict = {k.replace('encoder.', ''): v for k, v in encoder_decoder_state_dict.items() if 'encoder' in k}\n",
    "decoder_state_dict = {k.replace('decoder.', ''): v for k, v in encoder_decoder_state_dict.items() if 'decoder' in k}\n",
    "\n",
    "encoder.load_state_dict(encoder_state_dict)\n",
    "decoder.load_state_dict(decoder_state_dict)\n",
    "\n",
    "encoder_with_jnd = encoder_with_jnd.to(device).eval()\n",
    "decoder = decoder.to(device).eval()"
   ]
  },
  {
   "cell_type": "code",
   "execution_count": 7,
   "metadata": {},
   "outputs": [
    {
     "data": {
      "application/vnd.jupyter.widget-view+json": {
       "model_id": "753cf23e5bff4e3481069d3884fa6e38",
       "version_major": 2,
       "version_minor": 0
      },
      "text/plain": [
       "Loading pipeline components...:   0%|          | 0/7 [00:00<?, ?it/s]"
      ]
     },
     "metadata": {},
     "output_type": "display_data"
    }
   ],
   "source": [
    "paraphrase_model_id = 'stabilityai/stable-diffusion-xl-base-1.0'\n",
    "# model_id = 'stabilityai/stable-diffusion-2-1-base'\n",
    "\n",
    "pipeline_text2image = AutoPipelineForText2Image.from_pretrained(paraphrase_model_id, torch_dtype=torch.float16, variant=\"fp16\", use_safetensors=True, add_watermarker=False).to(device)\n",
    "pipeline = AutoPipelineForImage2Image.from_pipe(pipeline_text2image).to(device)\n"
   ]
  },
  {
   "cell_type": "code",
   "execution_count": 8,
   "metadata": {},
   "outputs": [],
   "source": [
    "img_dir = \"/raid/home/ashhar21137/watermarking3/stable_sig_watermarked\""
   ]
  },
  {
   "cell_type": "code",
   "execution_count": 9,
   "metadata": {},
   "outputs": [],
   "source": [
    "with open('/raid/home/ashhar21137/watermarking3/stable_signature/captions_train2014_new_format.json','r') as file : \n",
    "    new = json.load(file)"
   ]
  },
  {
   "cell_type": "code",
   "execution_count": 10,
   "metadata": {},
   "outputs": [],
   "source": [
    "img_ids = []\n",
    "img_pths = []\n",
    "imgs = os.listdir(img_dir)\n",
    "for i in imgs : \n",
    "    if '.png' or '.jpg' in i :\n",
    "        id = re.split('[_.]',i)[1]\n",
    "        img_ids.append(id) \n",
    "        img_pths.append(os.path.join(img_dir,i))\n",
    "\n"
   ]
  },
  {
   "cell_type": "code",
   "execution_count": 11,
   "metadata": {},
   "outputs": [
    {
     "name": "stdout",
     "output_type": "stream",
     "text": [
      "Imgs ids :  ['79481', '96557', '280260', '62279', '170558', '215481', '520208', '95989', '504616', '309322', '239728', '341550', '405613', '441488', '420721', '18885', '399956', '93785', '570246', '262845', '49183', '142088', '394326', '524068', '352884', '199628', '160559', '57870', '398494', '241364', '84427', '393493', '483008', '469605', '348850', '387083', '77375', '122108', '540162', '19380', '44404', '345781', '405207', '153946', '457732', '153674', '472925', '388754', '170850', '384029', '62604', '570608', '317237', '299411', '109424', '581674', '239811', '318189', '278347', '90570', '374114', '505126', '8649', '145179', '66514', '462559', '4428', '210932', '257350', '122688', '377694', '438422', '161919', '354444', '287541', '556801', '186233', '95133', '496939', '71631', '371029', '259446', '55627', '334080', '150867', '470072', '181104', '559527', '209967', '444546', '409513', '165499', '351430', '36633', '147303', '474882', '318574', '222016', '236772', '486320', '551125', '70868', '378710', '536587', '167613', '392136', '287927', '217306', '560459', '496283', '212091', '483751', '223726', '560628', '108627', '246804', '365363', '64460', '225750', '446014', '157032', '96997', '302389', '574001', '525589', '280980', '316676', '412535', '445528', '576757', '313932', '477797', '98760', '513541', '136461', '85685', '356702', '424102', '467311', '540988', '301778', '388911', '409382', '292835', '311914', '492386', '69675', '189993', '265709', '269829', '326511', '353139', '309093', '277854', '546451', '344806', '413746', '279108', '576801', '246446', '520950', '155845', '448698', '2024', '357684', '101418', '219025', '547471', '70000', '289019', '270912', '485894', '535786', '147016', '343322', '412198', '77806', '168194', '303291', '491269', '530683', '172899', '267688', '523617', '426038', '214704', '497616', '179620', '42493', '62426', '543877', '160163', '167603', '218956', '147170', '283524', '37015', '213546', '528906', '454325']\n"
     ]
    }
   ],
   "source": [
    "print(\"Imgs ids : \", img_ids)\n"
   ]
  },
  {
   "cell_type": "code",
   "execution_count": 12,
   "metadata": {},
   "outputs": [
    {
     "name": "stdout",
     "output_type": "stream",
     "text": [
      "Images :  ['Image_79481.jpg', 'Image_96557.jpg', 'Image_280260.jpg', 'Image_62279.jpg', 'Image_170558.jpg', 'Image_215481.jpg', 'Image_520208.jpg', 'Image_95989.jpg', 'Image_504616.jpg', 'Image_309322.jpg', 'Image_239728.jpg', 'Image_341550.jpg', 'Image_405613.jpg', 'Image_441488.jpg', 'Image_420721.jpg', 'Image_18885.jpg', 'Image_399956.jpg', 'Image_93785.jpg', 'Image_570246.jpg', 'Image_262845.jpg', 'Image_49183.jpg', 'Image_142088.jpg', 'Image_394326.jpg', 'Image_524068.jpg', 'Image_352884.jpg', 'Image_199628.jpg', 'Image_160559.jpg', 'Image_57870.jpg', 'Image_398494.jpg', 'Image_241364.jpg', 'Image_84427.jpg', 'Image_393493.jpg', 'Image_483008.jpg', 'Image_469605.jpg', 'Image_348850.jpg', 'Image_387083.jpg', 'Image_77375.jpg', 'Image_122108.jpg', 'Image_540162.jpg', 'Image_19380.jpg', 'Image_44404.jpg', 'Image_345781.jpg', 'Image_405207.jpg', 'Image_153946.jpg', 'Image_457732.jpg', 'Image_153674.jpg', 'Image_472925.jpg', 'Image_388754.jpg', 'Image_170850.jpg', 'Image_384029.jpg', 'Image_62604.jpg', 'Image_570608.jpg', 'Image_317237.jpg', 'Image_299411.jpg', 'Image_109424.jpg', 'Image_581674.jpg', 'Image_239811.jpg', 'Image_318189.jpg', 'Image_278347.jpg', 'Image_90570.jpg', 'Image_374114.jpg', 'Image_505126.jpg', 'Image_8649.jpg', 'Image_145179.jpg', 'Image_66514.jpg', 'Image_462559.jpg', 'Image_4428.jpg', 'Image_210932.jpg', 'Image_257350.jpg', 'Image_122688.jpg', 'Image_377694.jpg', 'Image_438422.jpg', 'Image_161919.jpg', 'Image_354444.jpg', 'Image_287541.jpg', 'Image_556801.jpg', 'Image_186233.jpg', 'Image_95133.jpg', 'Image_496939.jpg', 'Image_71631.jpg', 'Image_371029.jpg', 'Image_259446.jpg', 'Image_55627.jpg', 'Image_334080.jpg', 'Image_150867.jpg', 'Image_470072.jpg', 'Image_181104.jpg', 'Image_559527.jpg', 'Image_209967.jpg', 'Image_444546.jpg', 'Image_409513.jpg', 'Image_165499.jpg', 'Image_351430.jpg', 'Image_36633.jpg', 'Image_147303.jpg', 'Image_474882.jpg', 'Image_318574.jpg', 'Image_222016.jpg', 'Image_236772.jpg', 'Image_486320.jpg', 'Image_551125.jpg', 'Image_70868.jpg', 'Image_378710.jpg', 'Image_536587.jpg', 'Image_167613.jpg', 'Image_392136.jpg', 'Image_287927.jpg', 'Image_217306.jpg', 'Image_560459.jpg', 'Image_496283.jpg', 'Image_212091.jpg', 'Image_483751.jpg', 'Image_223726.jpg', 'Image_560628.jpg', 'Image_108627.jpg', 'Image_246804.jpg', 'Image_365363.jpg', 'Image_64460.jpg', 'Image_225750.jpg', 'Image_446014.jpg', 'Image_157032.jpg', 'Image_96997.jpg', 'Image_302389.jpg', 'Image_574001.jpg', 'Image_525589.jpg', 'Image_280980.jpg', 'Image_316676.jpg', 'Image_412535.jpg', 'Image_445528.jpg', 'Image_576757.jpg', 'Image_313932.jpg', 'Image_477797.jpg', 'Image_98760.jpg', 'Image_513541.jpg', 'Image_136461.jpg', 'Image_85685.jpg', 'Image_356702.jpg', 'Image_424102.jpg', 'Image_467311.jpg', 'Image_540988.jpg', 'Image_301778.jpg', 'Image_388911.jpg', 'Image_409382.jpg', 'Image_292835.jpg', 'Image_311914.jpg', 'Image_492386.jpg', 'Image_69675.jpg', 'Image_189993.jpg', 'Image_265709.jpg', 'Image_269829.jpg', 'Image_326511.jpg', 'Image_353139.jpg', 'Image_309093.jpg', 'Image_277854.jpg', 'Image_546451.jpg', 'Image_344806.jpg', 'Image_413746.jpg', 'Image_279108.jpg', 'Image_576801.jpg', 'Image_246446.jpg', 'Image_520950.jpg', 'Image_155845.jpg', 'Image_448698.jpg', 'Image_2024.jpg', 'Image_357684.jpg', 'Image_101418.jpg', 'Image_219025.jpg', 'Image_547471.jpg', 'Image_70000.jpg', 'Image_289019.jpg', 'Image_270912.jpg', 'Image_485894.jpg', 'Image_535786.jpg', 'Image_147016.jpg', 'Image_343322.jpg', 'Image_412198.jpg', 'Image_77806.jpg', 'Image_168194.jpg', 'Image_303291.jpg', 'Image_491269.jpg', 'Image_530683.jpg', 'Image_172899.jpg', 'Image_267688.jpg', 'Image_523617.jpg', 'Image_426038.jpg', 'Image_214704.jpg', 'Image_497616.jpg', 'Image_179620.jpg', 'Image_42493.jpg', 'Image_62426.jpg', 'Image_543877.jpg', 'Image_160163.jpg', 'Image_167603.jpg', 'Image_218956.jpg', 'Image_147170.jpg', 'Image_283524.jpg', 'Image_37015.jpg', 'Image_213546.jpg', 'Image_528906.jpg', 'Image_454325.jpg']\n"
     ]
    }
   ],
   "source": [
    "print(\"Images : \",imgs)\n"
   ]
  },
  {
   "cell_type": "code",
   "execution_count": 19,
   "metadata": {},
   "outputs": [
    {
     "name": "stdout",
     "output_type": "stream",
     "text": [
      "0\n"
     ]
    }
   ],
   "source": [
    "count = 0 \n",
    "for i in range(len(img_ids)) : \n",
    "    id = re.split('[_.]',imgs[i])[1]\n",
    "    if(img_ids[i] != id ) : \n",
    "        print(img_ids)\n",
    "        count += 1\n",
    "\n",
    "print(count)"
   ]
  },
  {
   "cell_type": "code",
   "execution_count": 20,
   "metadata": {},
   "outputs": [
    {
     "name": "stdout",
     "output_type": "stream",
     "text": [
      "Wmis :  ['Image_79481.jpg', 'Image_96557.jpg', 'Image_280260.jpg', 'Image_62279.jpg', 'Image_170558.jpg', 'Image_215481.jpg', 'Image_520208.jpg', 'Image_95989.jpg', 'Image_504616.jpg', 'Image_309322.jpg', 'Image_239728.jpg', 'Image_341550.jpg', 'Image_405613.jpg', 'Image_441488.jpg', 'Image_420721.jpg', 'Image_18885.jpg', 'Image_399956.jpg', 'Image_93785.jpg', 'Image_570246.jpg', 'Image_262845.jpg', 'Image_49183.jpg', 'Image_142088.jpg', 'Image_394326.jpg', 'Image_524068.jpg', 'Image_352884.jpg', 'Image_199628.jpg', 'Image_160559.jpg', 'Image_57870.jpg', 'Image_398494.jpg', 'Image_241364.jpg', 'Image_84427.jpg', 'Image_393493.jpg', 'Image_483008.jpg', 'Image_469605.jpg', 'Image_348850.jpg', 'Image_387083.jpg', 'Image_77375.jpg', 'Image_122108.jpg', 'Image_540162.jpg', 'Image_19380.jpg', 'Image_44404.jpg', 'Image_345781.jpg', 'Image_405207.jpg', 'Image_153946.jpg', 'Image_457732.jpg', 'Image_153674.jpg', 'Image_472925.jpg', 'Image_388754.jpg', 'Image_170850.jpg', 'Image_384029.jpg', 'Image_62604.jpg', 'Image_570608.jpg', 'Image_317237.jpg', 'Image_299411.jpg', 'Image_109424.jpg', 'Image_581674.jpg', 'Image_239811.jpg', 'Image_318189.jpg', 'Image_278347.jpg', 'Image_90570.jpg', 'Image_374114.jpg', 'Image_505126.jpg', 'Image_8649.jpg', 'Image_145179.jpg', 'Image_66514.jpg', 'Image_462559.jpg', 'Image_4428.jpg', 'Image_210932.jpg', 'Image_257350.jpg', 'Image_122688.jpg', 'Image_377694.jpg', 'Image_438422.jpg', 'Image_161919.jpg', 'Image_354444.jpg', 'Image_287541.jpg', 'Image_556801.jpg', 'Image_186233.jpg', 'Image_95133.jpg', 'Image_496939.jpg', 'Image_71631.jpg', 'Image_371029.jpg', 'Image_259446.jpg', 'Image_55627.jpg', 'Image_334080.jpg', 'Image_150867.jpg', 'Image_470072.jpg', 'Image_181104.jpg', 'Image_559527.jpg', 'Image_209967.jpg', 'Image_444546.jpg', 'Image_409513.jpg', 'Image_165499.jpg', 'Image_351430.jpg', 'Image_36633.jpg', 'Image_147303.jpg', 'Image_474882.jpg', 'Image_318574.jpg', 'Image_222016.jpg', 'Image_236772.jpg', 'Image_486320.jpg', 'Image_551125.jpg', 'Image_70868.jpg', 'Image_378710.jpg', 'Image_536587.jpg', 'Image_167613.jpg', 'Image_392136.jpg', 'Image_287927.jpg', 'Image_217306.jpg', 'Image_560459.jpg', 'Image_496283.jpg', 'Image_212091.jpg', 'Image_483751.jpg', 'Image_223726.jpg', 'Image_560628.jpg', 'Image_108627.jpg', 'Image_246804.jpg', 'Image_365363.jpg', 'Image_64460.jpg', 'Image_225750.jpg', 'Image_446014.jpg', 'Image_157032.jpg', 'Image_96997.jpg', 'Image_302389.jpg', 'Image_574001.jpg', 'Image_525589.jpg', 'Image_280980.jpg', 'Image_316676.jpg', 'Image_412535.jpg', 'Image_445528.jpg', 'Image_576757.jpg', 'Image_313932.jpg', 'Image_477797.jpg', 'Image_98760.jpg', 'Image_513541.jpg', 'Image_136461.jpg', 'Image_85685.jpg', 'Image_356702.jpg', 'Image_424102.jpg', 'Image_467311.jpg', 'Image_540988.jpg', 'Image_301778.jpg', 'Image_388911.jpg', 'Image_409382.jpg', 'Image_292835.jpg', 'Image_311914.jpg', 'Image_492386.jpg', 'Image_69675.jpg', 'Image_189993.jpg', 'Image_265709.jpg', 'Image_269829.jpg', 'Image_326511.jpg', 'Image_353139.jpg', 'Image_309093.jpg', 'Image_277854.jpg', 'Image_546451.jpg', 'Image_344806.jpg', 'Image_413746.jpg', 'Image_279108.jpg', 'Image_576801.jpg', 'Image_246446.jpg', 'Image_520950.jpg', 'Image_155845.jpg', 'Image_448698.jpg', 'Image_2024.jpg', 'Image_357684.jpg', 'Image_101418.jpg', 'Image_219025.jpg', 'Image_547471.jpg', 'Image_70000.jpg', 'Image_289019.jpg', 'Image_270912.jpg', 'Image_485894.jpg', 'Image_535786.jpg', 'Image_147016.jpg', 'Image_343322.jpg', 'Image_412198.jpg', 'Image_77806.jpg', 'Image_168194.jpg', 'Image_303291.jpg', 'Image_491269.jpg', 'Image_530683.jpg', 'Image_172899.jpg', 'Image_267688.jpg', 'Image_523617.jpg', 'Image_426038.jpg', 'Image_214704.jpg', 'Image_497616.jpg', 'Image_179620.jpg', 'Image_42493.jpg', 'Image_62426.jpg', 'Image_543877.jpg', 'Image_160163.jpg', 'Image_167603.jpg', 'Image_218956.jpg', 'Image_147170.jpg', 'Image_283524.jpg', 'Image_37015.jpg', 'Image_213546.jpg', 'Image_528906.jpg', 'Image_454325.jpg']\n"
     ]
    }
   ],
   "source": [
    "wmis = os.listdir(img_dir) \n",
    "print(\"Wmis : \",wmis)\n"
   ]
  },
  {
   "cell_type": "code",
   "execution_count": 21,
   "metadata": {},
   "outputs": [],
   "source": [
    "save_dir = \"/raid/home/ashhar21137/watermarking3/stable_signature/ss_paraphrase_0.15\""
   ]
  },
  {
   "cell_type": "code",
   "execution_count": 22,
   "metadata": {},
   "outputs": [],
   "source": [
    "# paraphrase_detection = defaultdict(lambda: defaultdict(dict))\n"
   ]
  },
  {
   "cell_type": "code",
   "execution_count": 23,
   "metadata": {},
   "outputs": [],
   "source": [
    "# print(len(wmis))\n",
    "# print(len(img_ids))\n",
    "# print(len(imgs))"
   ]
  },
  {
   "cell_type": "code",
   "execution_count": 28,
   "metadata": {},
   "outputs": [],
   "source": [
    "paraphrase_detection = defaultdict(lambda: defaultdict(dict))"
   ]
  },
  {
   "cell_type": "code",
   "execution_count": 29,
   "metadata": {},
   "outputs": [],
   "source": [
    "def load_image(image_path):\n",
    "    \"\"\"\n",
    "    Load an image from the specified file path using PIL.\n",
    "\n",
    "    Args:\n",
    "    image_path (str): Path to the image file.\n",
    "\n",
    "    Returns:\n",
    "    PIL.Image.Image: Loaded image object.\n",
    "    \"\"\"\n",
    "    return Image.open(image_path)"
   ]
  },
  {
   "cell_type": "code",
   "execution_count": 30,
   "metadata": {},
   "outputs": [
    {
     "name": "stderr",
     "output_type": "stream",
     "text": [
      "  0%|          | 0/200 [00:00<?, ?it/s]"
     ]
    },
    {
     "name": "stdout",
     "output_type": "stream",
     "text": [
      "---------- Count = 1 : Visual Paraphrasing for the watermarked version of 79481-------------\n",
      "\n",
      "Image name :  Image_79481.jpg\n",
      "Image id : 79481\n"
     ]
    },
    {
     "data": {
      "application/vnd.jupyter.widget-view+json": {
       "model_id": "292e928e57dc4da98178542bdf85f1ff",
       "version_major": 2,
       "version_minor": 0
      },
      "text/plain": [
       "  0%|          | 0/5 [00:00<?, ?it/s]"
      ]
     },
     "metadata": {},
     "output_type": "display_data"
    },
    {
     "name": "stdout",
     "output_type": "stream",
     "text": [
      "Saving generated images at /raid/home/ashhar21137/watermarking3/stable_signature/ss_paraphrase_0.15/79481\n",
      "Generated Image saved to /raid/home/ashhar21137/watermarking3/stable_signature/ss_paraphrase_0.15/79481/79481_gen_0.png\n",
      "Generated Image saved to /raid/home/ashhar21137/watermarking3/stable_signature/ss_paraphrase_0.15/79481/79481_gen_1.png\n",
      "Generated Image saved to /raid/home/ashhar21137/watermarking3/stable_signature/ss_paraphrase_0.15/79481/79481_gen_2.png\n",
      "Generated Image saved to /raid/home/ashhar21137/watermarking3/stable_signature/ss_paraphrase_0.15/79481/79481_gen_3.png\n",
      "Generated Image saved to /raid/home/ashhar21137/watermarking3/stable_signature/ss_paraphrase_0.15/79481/79481_gen_4.png\n",
      "\n",
      "Number of images generated :  5\n",
      "\n",
      "********** Watermark detection for generated images ***************\n",
      "caption : A blue motor cycle parked in front of a house next to trash cans.\n",
      "Watermark Presence Prob.: 0.4791666666666667\n",
      "caption : A blue motorcycle under an umbrella and being held up with a metal stand.\n"
     ]
    },
    {
     "name": "stderr",
     "output_type": "stream",
     "text": [
      "  0%|          | 1/200 [00:02<07:08,  2.15s/it]"
     ]
    },
    {
     "name": "stdout",
     "output_type": "stream",
     "text": [
      "Watermark Presence Prob.: 0.5416666666666666\n",
      "caption : A shiny blue motorcycle is parked under an umbrella attached to a railing.\n",
      "Watermark Presence Prob.: 0.5625\n",
      "caption : A motorcycle on the sidewalk next to a porch. \n",
      "Watermark Presence Prob.: 0.5\n",
      "caption : A Japanese motorcycle parked in front of a house.\n",
      "Watermark Presence Prob.: 0.5208333333333334\n",
      "---------- Count = 2 : Visual Paraphrasing for the watermarked version of 96557-------------\n",
      "\n",
      "Image name :  Image_96557.jpg\n",
      "Image id : 96557\n"
     ]
    },
    {
     "data": {
      "application/vnd.jupyter.widget-view+json": {
       "model_id": "0271b9d9565045709c3130d1fbdcbfb1",
       "version_major": 2,
       "version_minor": 0
      },
      "text/plain": [
       "  0%|          | 0/5 [00:00<?, ?it/s]"
      ]
     },
     "metadata": {},
     "output_type": "display_data"
    },
    {
     "name": "stdout",
     "output_type": "stream",
     "text": [
      "Saving generated images at /raid/home/ashhar21137/watermarking3/stable_signature/ss_paraphrase_0.15/96557\n",
      "Generated Image saved to /raid/home/ashhar21137/watermarking3/stable_signature/ss_paraphrase_0.15/96557/96557_gen_0.png\n",
      "Generated Image saved to /raid/home/ashhar21137/watermarking3/stable_signature/ss_paraphrase_0.15/96557/96557_gen_1.png\n",
      "Generated Image saved to /raid/home/ashhar21137/watermarking3/stable_signature/ss_paraphrase_0.15/96557/96557_gen_2.png\n",
      "Generated Image saved to /raid/home/ashhar21137/watermarking3/stable_signature/ss_paraphrase_0.15/96557/96557_gen_3.png\n",
      "Generated Image saved to /raid/home/ashhar21137/watermarking3/stable_signature/ss_paraphrase_0.15/96557/96557_gen_4.png\n",
      "\n",
      "Number of images generated :  5\n",
      "\n",
      "********** Watermark detection for generated images ***************\n",
      "caption : A parked red motorcycle sitting next to a car.\n",
      "Watermark Presence Prob.: 0.5833333333333334\n",
      "caption : A maroon motorcycle parked on a sidewalk by a road.\n",
      "Watermark Presence Prob.: 0.5\n",
      "caption : Cruising motorcycle parked in crowded parking lot on bright sunny day.\n"
     ]
    },
    {
     "name": "stderr",
     "output_type": "stream",
     "text": [
      "  1%|          | 2/200 [00:04<06:51,  2.08s/it]"
     ]
    },
    {
     "name": "stdout",
     "output_type": "stream",
     "text": [
      "Watermark Presence Prob.: 0.5\n",
      "caption : A motorcycle parked in a city parking lot next to a car.\n",
      "Watermark Presence Prob.: 0.4375\n",
      "caption : A maroon motorcycle parked alongside a car in the sun\n",
      "Watermark Presence Prob.: 0.5\n",
      "---------- Count = 3 : Visual Paraphrasing for the watermarked version of 280260-------------\n",
      "\n",
      "Image name :  Image_280260.jpg\n",
      "Image id : 280260\n"
     ]
    },
    {
     "data": {
      "application/vnd.jupyter.widget-view+json": {
       "model_id": "182d7f932aa74acd9f8e4fdb093d28f3",
       "version_major": 2,
       "version_minor": 0
      },
      "text/plain": [
       "  0%|          | 0/5 [00:00<?, ?it/s]"
      ]
     },
     "metadata": {},
     "output_type": "display_data"
    },
    {
     "name": "stdout",
     "output_type": "stream",
     "text": [
      "Saving generated images at /raid/home/ashhar21137/watermarking3/stable_signature/ss_paraphrase_0.15/280260\n",
      "Generated Image saved to /raid/home/ashhar21137/watermarking3/stable_signature/ss_paraphrase_0.15/280260/280260_gen_0.png\n",
      "Generated Image saved to /raid/home/ashhar21137/watermarking3/stable_signature/ss_paraphrase_0.15/280260/280260_gen_1.png\n",
      "Generated Image saved to /raid/home/ashhar21137/watermarking3/stable_signature/ss_paraphrase_0.15/280260/280260_gen_2.png\n",
      "Generated Image saved to /raid/home/ashhar21137/watermarking3/stable_signature/ss_paraphrase_0.15/280260/280260_gen_3.png\n",
      "Generated Image saved to /raid/home/ashhar21137/watermarking3/stable_signature/ss_paraphrase_0.15/280260/280260_gen_4.png\n",
      "\n",
      "Number of images generated :  5\n",
      "\n",
      "********** Watermark detection for generated images ***************\n",
      "caption : Adult sheep with young white lamb in farm setting.\n",
      "Watermark Presence Prob.: 0.4375\n",
      "caption : A large lamb stands next to a baby lamb.\n",
      "Watermark Presence Prob.: 0.4791666666666667\n",
      "caption : An adult sheep standing next to a baby sheep on a farm.\n"
     ]
    },
    {
     "name": "stderr",
     "output_type": "stream",
     "text": [
      "  2%|▏         | 3/200 [00:06<07:00,  2.13s/it]"
     ]
    },
    {
     "name": "stdout",
     "output_type": "stream",
     "text": [
      "Watermark Presence Prob.: 0.5208333333333334\n",
      "caption : A sheep and lamb in a grassy field next to fence.\n",
      "Watermark Presence Prob.: 0.5208333333333334\n",
      "caption : A lamb standing next to its mother in a field.\n",
      "Watermark Presence Prob.: 0.625\n",
      "---------- Count = 4 : Visual Paraphrasing for the watermarked version of 62279-------------\n",
      "\n",
      "Image name :  Image_62279.jpg\n",
      "Image id : 62279\n"
     ]
    },
    {
     "data": {
      "application/vnd.jupyter.widget-view+json": {
       "model_id": "412cb914049b42509c8ca0c500e26e61",
       "version_major": 2,
       "version_minor": 0
      },
      "text/plain": [
       "  0%|          | 0/5 [00:00<?, ?it/s]"
      ]
     },
     "metadata": {},
     "output_type": "display_data"
    },
    {
     "name": "stdout",
     "output_type": "stream",
     "text": [
      "Saving generated images at /raid/home/ashhar21137/watermarking3/stable_signature/ss_paraphrase_0.15/62279\n",
      "Generated Image saved to /raid/home/ashhar21137/watermarking3/stable_signature/ss_paraphrase_0.15/62279/62279_gen_0.png\n",
      "Generated Image saved to /raid/home/ashhar21137/watermarking3/stable_signature/ss_paraphrase_0.15/62279/62279_gen_1.png\n",
      "Generated Image saved to /raid/home/ashhar21137/watermarking3/stable_signature/ss_paraphrase_0.15/62279/62279_gen_2.png\n",
      "Generated Image saved to /raid/home/ashhar21137/watermarking3/stable_signature/ss_paraphrase_0.15/62279/62279_gen_3.png\n",
      "Generated Image saved to /raid/home/ashhar21137/watermarking3/stable_signature/ss_paraphrase_0.15/62279/62279_gen_4.png\n",
      "\n",
      "Number of images generated :  5\n",
      "\n",
      "********** Watermark detection for generated images ***************\n",
      "caption : A table has plates on it with watermelon and broccoli on it.\n"
     ]
    },
    {
     "name": "stderr",
     "output_type": "stream",
     "text": [
      "  2%|▏         | 4/200 [00:08<06:55,  2.12s/it]"
     ]
    },
    {
     "name": "stdout",
     "output_type": "stream",
     "text": [
      "Watermark Presence Prob.: 0.5833333333333334\n",
      "caption : plates filled with assorted fruits and veggies and some meat\n",
      "Watermark Presence Prob.: 0.6041666666666666\n",
      "caption : A variety of foods in plates and bowls.\n",
      "Watermark Presence Prob.: 0.5833333333333334\n",
      "caption : A table with plates and dishes with a verity of food and an baby's bottle.\n",
      "Watermark Presence Prob.: 0.6041666666666666\n",
      "caption : A table set with vegetable salads and sliced fresh fruit.\n",
      "Watermark Presence Prob.: 0.6041666666666666\n",
      "---------- Count = 5 : Visual Paraphrasing for the watermarked version of 170558-------------\n",
      "\n",
      "Image name :  Image_170558.jpg\n",
      "Image id : 170558\n"
     ]
    },
    {
     "data": {
      "application/vnd.jupyter.widget-view+json": {
       "model_id": "e4cddbdb7a3a4ea8a40c80cfd5a84ab5",
       "version_major": 2,
       "version_minor": 0
      },
      "text/plain": [
       "  0%|          | 0/5 [00:00<?, ?it/s]"
      ]
     },
     "metadata": {},
     "output_type": "display_data"
    },
    {
     "name": "stdout",
     "output_type": "stream",
     "text": [
      "Saving generated images at /raid/home/ashhar21137/watermarking3/stable_signature/ss_paraphrase_0.15/170558\n",
      "Generated Image saved to /raid/home/ashhar21137/watermarking3/stable_signature/ss_paraphrase_0.15/170558/170558_gen_0.png\n",
      "Generated Image saved to /raid/home/ashhar21137/watermarking3/stable_signature/ss_paraphrase_0.15/170558/170558_gen_1.png\n",
      "Generated Image saved to /raid/home/ashhar21137/watermarking3/stable_signature/ss_paraphrase_0.15/170558/170558_gen_2.png\n",
      "Generated Image saved to /raid/home/ashhar21137/watermarking3/stable_signature/ss_paraphrase_0.15/170558/170558_gen_3.png\n",
      "Generated Image saved to /raid/home/ashhar21137/watermarking3/stable_signature/ss_paraphrase_0.15/170558/170558_gen_4.png\n",
      "\n",
      "Number of images generated :  5\n",
      "\n",
      "********** Watermark detection for generated images ***************\n",
      "caption : Adults using laptop computers while sitting at outdoor venue.\n",
      "Watermark Presence Prob.: 0.5625\n",
      "caption : A row of men using laptops on side of a building.\n"
     ]
    },
    {
     "name": "stderr",
     "output_type": "stream",
     "text": [
      "  2%|▎         | 5/200 [00:10<06:44,  2.07s/it]"
     ]
    },
    {
     "name": "stdout",
     "output_type": "stream",
     "text": [
      "Watermark Presence Prob.: 0.4791666666666667\n",
      "caption : A man is on his laptop while people looking on. \n",
      "Watermark Presence Prob.: 0.4583333333333333\n",
      "caption : a number of people siting on a bench with a laptop\n",
      "Watermark Presence Prob.: 0.4791666666666667\n",
      "caption : Young men sit next to each other working on laptops. \n",
      "Watermark Presence Prob.: 0.4791666666666667\n",
      "---------- Count = 6 : Visual Paraphrasing for the watermarked version of 215481-------------\n",
      "\n",
      "Image name :  Image_215481.jpg\n",
      "Image id : 215481\n"
     ]
    },
    {
     "data": {
      "application/vnd.jupyter.widget-view+json": {
       "model_id": "fb12cfbac38848ce804a26f5901c9f59",
       "version_major": 2,
       "version_minor": 0
      },
      "text/plain": [
       "  0%|          | 0/5 [00:00<?, ?it/s]"
      ]
     },
     "metadata": {},
     "output_type": "display_data"
    },
    {
     "name": "stdout",
     "output_type": "stream",
     "text": [
      "Saving generated images at /raid/home/ashhar21137/watermarking3/stable_signature/ss_paraphrase_0.15/215481\n",
      "Generated Image saved to /raid/home/ashhar21137/watermarking3/stable_signature/ss_paraphrase_0.15/215481/215481_gen_0.png\n",
      "Generated Image saved to /raid/home/ashhar21137/watermarking3/stable_signature/ss_paraphrase_0.15/215481/215481_gen_1.png\n",
      "Generated Image saved to /raid/home/ashhar21137/watermarking3/stable_signature/ss_paraphrase_0.15/215481/215481_gen_2.png\n",
      "Generated Image saved to /raid/home/ashhar21137/watermarking3/stable_signature/ss_paraphrase_0.15/215481/215481_gen_3.png\n",
      "Generated Image saved to /raid/home/ashhar21137/watermarking3/stable_signature/ss_paraphrase_0.15/215481/215481_gen_4.png\n",
      "\n",
      "Number of images generated :  5\n",
      "\n",
      "********** Watermark detection for generated images ***************\n",
      "caption : Transit buses lined up on a city street. \n",
      "Watermark Presence Prob.: 0.5416666666666666\n",
      "caption : A group of passenger buses driving down a street.\n"
     ]
    },
    {
     "name": "stderr",
     "output_type": "stream",
     "text": [
      "  3%|▎         | 6/200 [00:12<06:41,  2.07s/it]"
     ]
    },
    {
     "name": "stdout",
     "output_type": "stream",
     "text": [
      "Watermark Presence Prob.: 0.5625\n",
      "caption : A road with pavement.Orange traffic cones are kept at the side of road.\n",
      "Watermark Presence Prob.: 0.5416666666666666\n",
      "caption : Buses moving along on a road during a sunny day.\n",
      "Watermark Presence Prob.: 0.5208333333333334\n",
      "caption : A line of city buses driving down a street.\n",
      "Watermark Presence Prob.: 0.5\n",
      "---------- Count = 7 : Visual Paraphrasing for the watermarked version of 520208-------------\n",
      "\n",
      "Image name :  Image_520208.jpg\n",
      "Image id : 520208\n"
     ]
    },
    {
     "data": {
      "application/vnd.jupyter.widget-view+json": {
       "model_id": "3ab8add3deb34772a7273173596222f9",
       "version_major": 2,
       "version_minor": 0
      },
      "text/plain": [
       "  0%|          | 0/5 [00:00<?, ?it/s]"
      ]
     },
     "metadata": {},
     "output_type": "display_data"
    },
    {
     "name": "stdout",
     "output_type": "stream",
     "text": [
      "Saving generated images at /raid/home/ashhar21137/watermarking3/stable_signature/ss_paraphrase_0.15/520208\n",
      "Generated Image saved to /raid/home/ashhar21137/watermarking3/stable_signature/ss_paraphrase_0.15/520208/520208_gen_0.png\n",
      "Generated Image saved to /raid/home/ashhar21137/watermarking3/stable_signature/ss_paraphrase_0.15/520208/520208_gen_1.png\n",
      "Generated Image saved to /raid/home/ashhar21137/watermarking3/stable_signature/ss_paraphrase_0.15/520208/520208_gen_2.png\n",
      "Generated Image saved to /raid/home/ashhar21137/watermarking3/stable_signature/ss_paraphrase_0.15/520208/520208_gen_3.png\n",
      "Generated Image saved to /raid/home/ashhar21137/watermarking3/stable_signature/ss_paraphrase_0.15/520208/520208_gen_4.png\n",
      "\n",
      "Number of images generated :  5\n",
      "\n",
      "********** Watermark detection for generated images ***************\n",
      "caption : a spoon sitting on some food in a bowl \n",
      "Watermark Presence Prob.: 0.625\n",
      "caption : A bowl of food and a spoon held up that has eaten food.\n",
      "Watermark Presence Prob.: 0.625\n",
      "caption : A white bowl filled with mixed vegetables and a spoon.\n",
      "Watermark Presence Prob.: 0.6041666666666666\n",
      "caption : There is a spoons resting in a bowl of food.\n",
      "Watermark Presence Prob.: 0.625\n",
      "caption : a close up of a spoon in a bowl of food\n"
     ]
    },
    {
     "name": "stderr",
     "output_type": "stream",
     "text": [
      "  4%|▎         | 7/200 [00:14<06:56,  2.16s/it]"
     ]
    },
    {
     "name": "stdout",
     "output_type": "stream",
     "text": [
      "Watermark Presence Prob.: 0.625\n",
      "---------- Count = 8 : Visual Paraphrasing for the watermarked version of 95989-------------\n",
      "\n",
      "Image name :  Image_95989.jpg\n",
      "Image id : 95989\n"
     ]
    },
    {
     "data": {
      "application/vnd.jupyter.widget-view+json": {
       "model_id": "3807a531e48546d3b4f0e8557cadff41",
       "version_major": 2,
       "version_minor": 0
      },
      "text/plain": [
       "  0%|          | 0/5 [00:00<?, ?it/s]"
      ]
     },
     "metadata": {},
     "output_type": "display_data"
    },
    {
     "name": "stdout",
     "output_type": "stream",
     "text": [
      "Saving generated images at /raid/home/ashhar21137/watermarking3/stable_signature/ss_paraphrase_0.15/95989\n",
      "Generated Image saved to /raid/home/ashhar21137/watermarking3/stable_signature/ss_paraphrase_0.15/95989/95989_gen_0.png\n",
      "Generated Image saved to /raid/home/ashhar21137/watermarking3/stable_signature/ss_paraphrase_0.15/95989/95989_gen_1.png\n",
      "Generated Image saved to /raid/home/ashhar21137/watermarking3/stable_signature/ss_paraphrase_0.15/95989/95989_gen_2.png\n",
      "Generated Image saved to /raid/home/ashhar21137/watermarking3/stable_signature/ss_paraphrase_0.15/95989/95989_gen_3.png\n",
      "Generated Image saved to /raid/home/ashhar21137/watermarking3/stable_signature/ss_paraphrase_0.15/95989/95989_gen_4.png\n",
      "\n",
      "Number of images generated :  5\n",
      "\n",
      "********** Watermark detection for generated images ***************\n",
      "caption : A herd of sheep with a dog laying in the grass.\n"
     ]
    },
    {
     "name": "stderr",
     "output_type": "stream",
     "text": [
      "  4%|▍         | 8/200 [00:16<06:45,  2.11s/it]"
     ]
    },
    {
     "name": "stdout",
     "output_type": "stream",
     "text": [
      "Watermark Presence Prob.: 0.3541666666666667\n",
      "caption : Some sheep and a dog are by a store that says Woolen Mill.\n",
      "Watermark Presence Prob.: 0.3958333333333333\n",
      "caption : A group of lambs are running in the opposite direction of a dog who lays barking.\n",
      "Watermark Presence Prob.: 0.5\n",
      "caption : A fenced in field with four sheep running together and a black and white dog laying in the grass behind them.\n",
      "Watermark Presence Prob.: 0.3958333333333333\n",
      "caption : A group of animals are running together as people watch\n",
      "Watermark Presence Prob.: 0.4583333333333333\n",
      "---------- Count = 9 : Visual Paraphrasing for the watermarked version of 504616-------------\n",
      "\n",
      "Image name :  Image_504616.jpg\n",
      "Image id : 504616\n"
     ]
    },
    {
     "data": {
      "application/vnd.jupyter.widget-view+json": {
       "model_id": "f394ea8048484ca7b7bda627490abbab",
       "version_major": 2,
       "version_minor": 0
      },
      "text/plain": [
       "  0%|          | 0/5 [00:00<?, ?it/s]"
      ]
     },
     "metadata": {},
     "output_type": "display_data"
    },
    {
     "name": "stdout",
     "output_type": "stream",
     "text": [
      "Saving generated images at /raid/home/ashhar21137/watermarking3/stable_signature/ss_paraphrase_0.15/504616\n",
      "Generated Image saved to /raid/home/ashhar21137/watermarking3/stable_signature/ss_paraphrase_0.15/504616/504616_gen_0.png\n",
      "Generated Image saved to /raid/home/ashhar21137/watermarking3/stable_signature/ss_paraphrase_0.15/504616/504616_gen_1.png\n",
      "Generated Image saved to /raid/home/ashhar21137/watermarking3/stable_signature/ss_paraphrase_0.15/504616/504616_gen_2.png\n",
      "Generated Image saved to /raid/home/ashhar21137/watermarking3/stable_signature/ss_paraphrase_0.15/504616/504616_gen_3.png\n",
      "Generated Image saved to /raid/home/ashhar21137/watermarking3/stable_signature/ss_paraphrase_0.15/504616/504616_gen_4.png\n",
      "\n",
      "Number of images generated :  5\n",
      "\n",
      "********** Watermark detection for generated images ***************\n",
      "caption : a person in white is standing in a kitchen\n",
      "Watermark Presence Prob.: 0.5208333333333334\n",
      "caption : A chef slides a pizza into a brick oven.\n",
      "Watermark Presence Prob.: 0.5625\n",
      "caption : a man wearing an apron and standing next to an oven\n",
      "Watermark Presence Prob.: 0.6041666666666666\n",
      "caption : A man with a ball cap and an apron using a brick oven. \n",
      "Watermark Presence Prob.: 0.5625\n",
      "caption : The baker is getting ready for his bread to be ready.\n"
     ]
    },
    {
     "name": "stderr",
     "output_type": "stream",
     "text": [
      "  4%|▍         | 9/200 [00:19<06:52,  2.16s/it]"
     ]
    },
    {
     "name": "stdout",
     "output_type": "stream",
     "text": [
      "Watermark Presence Prob.: 0.5416666666666666\n",
      "---------- Count = 10 : Visual Paraphrasing for the watermarked version of 309322-------------\n",
      "\n",
      "Image name :  Image_309322.jpg\n",
      "Image id : 309322\n"
     ]
    },
    {
     "data": {
      "application/vnd.jupyter.widget-view+json": {
       "model_id": "9dfa5cf2296440c7848100294ae10163",
       "version_major": 2,
       "version_minor": 0
      },
      "text/plain": [
       "  0%|          | 0/5 [00:00<?, ?it/s]"
      ]
     },
     "metadata": {},
     "output_type": "display_data"
    },
    {
     "name": "stdout",
     "output_type": "stream",
     "text": [
      "Saving generated images at /raid/home/ashhar21137/watermarking3/stable_signature/ss_paraphrase_0.15/309322\n",
      "Generated Image saved to /raid/home/ashhar21137/watermarking3/stable_signature/ss_paraphrase_0.15/309322/309322_gen_0.png\n",
      "Generated Image saved to /raid/home/ashhar21137/watermarking3/stable_signature/ss_paraphrase_0.15/309322/309322_gen_1.png\n",
      "Generated Image saved to /raid/home/ashhar21137/watermarking3/stable_signature/ss_paraphrase_0.15/309322/309322_gen_2.png\n",
      "Generated Image saved to /raid/home/ashhar21137/watermarking3/stable_signature/ss_paraphrase_0.15/309322/309322_gen_3.png\n",
      "Generated Image saved to /raid/home/ashhar21137/watermarking3/stable_signature/ss_paraphrase_0.15/309322/309322_gen_4.png\n",
      "\n",
      "Number of images generated :  5\n",
      "\n",
      "********** Watermark detection for generated images ***************\n",
      "caption : The Phillips 66 clocks is in front of some posters.\n",
      "Watermark Presence Prob.: 0.5625\n",
      "caption : Vintage photos of a car and motorcycle are displayed with a gas station clock.\n",
      "Watermark Presence Prob.: 0.5208333333333334\n",
      "caption : Phillips 66 logo with photo of old car and motorcycle behind.\n"
     ]
    },
    {
     "name": "stderr",
     "output_type": "stream",
     "text": [
      "  5%|▌         | 10/200 [00:21<06:33,  2.07s/it]"
     ]
    },
    {
     "name": "stdout",
     "output_type": "stream",
     "text": [
      "Watermark Presence Prob.: 0.4791666666666667\n",
      "caption : A clock hangs on the wall underneath some pictures\n",
      "Watermark Presence Prob.: 0.5416666666666666\n",
      "caption : A clock resembling an old gas station sign.\n",
      "Watermark Presence Prob.: 0.5833333333333334\n",
      "---------- Count = 11 : Visual Paraphrasing for the watermarked version of 239728-------------\n",
      "\n",
      "Image name :  Image_239728.jpg\n",
      "Image id : 239728\n"
     ]
    },
    {
     "data": {
      "application/vnd.jupyter.widget-view+json": {
       "model_id": "62b24d5088d74b1bb271ed3abd8d057c",
       "version_major": 2,
       "version_minor": 0
      },
      "text/plain": [
       "  0%|          | 0/5 [00:00<?, ?it/s]"
      ]
     },
     "metadata": {},
     "output_type": "display_data"
    },
    {
     "name": "stdout",
     "output_type": "stream",
     "text": [
      "Saving generated images at /raid/home/ashhar21137/watermarking3/stable_signature/ss_paraphrase_0.15/239728\n",
      "Generated Image saved to /raid/home/ashhar21137/watermarking3/stable_signature/ss_paraphrase_0.15/239728/239728_gen_0.png\n",
      "Generated Image saved to /raid/home/ashhar21137/watermarking3/stable_signature/ss_paraphrase_0.15/239728/239728_gen_1.png\n",
      "Generated Image saved to /raid/home/ashhar21137/watermarking3/stable_signature/ss_paraphrase_0.15/239728/239728_gen_2.png\n",
      "Generated Image saved to /raid/home/ashhar21137/watermarking3/stable_signature/ss_paraphrase_0.15/239728/239728_gen_3.png\n",
      "Generated Image saved to /raid/home/ashhar21137/watermarking3/stable_signature/ss_paraphrase_0.15/239728/239728_gen_4.png\n",
      "\n",
      "Number of images generated :  5\n",
      "\n",
      "********** Watermark detection for generated images ***************\n",
      "caption : Two sheep grazing on green grass in a field.\n",
      "Watermark Presence Prob.: 0.5\n",
      "caption : Several sheep grazing in a grass pasture near mountains.\n"
     ]
    },
    {
     "name": "stderr",
     "output_type": "stream",
     "text": [
      "  6%|▌         | 11/200 [00:23<06:27,  2.05s/it]"
     ]
    },
    {
     "name": "stdout",
     "output_type": "stream",
     "text": [
      "Watermark Presence Prob.: 0.5416666666666666\n",
      "caption : A couple sheep eating grass in the green fields.\n",
      "Watermark Presence Prob.: 0.5625\n",
      "caption : The sheep are standing and grazing in a pasture.\n",
      "Watermark Presence Prob.: 0.5208333333333334\n",
      "caption : Two sheep in a pasture, one has been sheared.\n",
      "Watermark Presence Prob.: 0.5208333333333334\n",
      "---------- Count = 12 : Visual Paraphrasing for the watermarked version of 341550-------------\n",
      "\n",
      "Image name :  Image_341550.jpg\n",
      "Image id : 341550\n"
     ]
    },
    {
     "data": {
      "application/vnd.jupyter.widget-view+json": {
       "model_id": "384dfadf712c4ebdaeef409b3a1cedbe",
       "version_major": 2,
       "version_minor": 0
      },
      "text/plain": [
       "  0%|          | 0/5 [00:00<?, ?it/s]"
      ]
     },
     "metadata": {},
     "output_type": "display_data"
    },
    {
     "name": "stdout",
     "output_type": "stream",
     "text": [
      "Saving generated images at /raid/home/ashhar21137/watermarking3/stable_signature/ss_paraphrase_0.15/341550\n",
      "Generated Image saved to /raid/home/ashhar21137/watermarking3/stable_signature/ss_paraphrase_0.15/341550/341550_gen_0.png\n",
      "Generated Image saved to /raid/home/ashhar21137/watermarking3/stable_signature/ss_paraphrase_0.15/341550/341550_gen_1.png\n",
      "Generated Image saved to /raid/home/ashhar21137/watermarking3/stable_signature/ss_paraphrase_0.15/341550/341550_gen_2.png\n",
      "Generated Image saved to /raid/home/ashhar21137/watermarking3/stable_signature/ss_paraphrase_0.15/341550/341550_gen_3.png\n",
      "Generated Image saved to /raid/home/ashhar21137/watermarking3/stable_signature/ss_paraphrase_0.15/341550/341550_gen_4.png\n",
      "\n",
      "Number of images generated :  5\n",
      "\n",
      "********** Watermark detection for generated images ***************\n",
      "caption : Two tall towers abut the main part of a gothic cathedral.\n",
      "Watermark Presence Prob.: 0.5416666666666666\n",
      "caption : A large cathedral is shown against the blue sky.\n",
      "Watermark Presence Prob.: 0.5416666666666666\n",
      "caption : Large cathedral during daylight on a cloudy day.\n",
      "Watermark Presence Prob.: 0.5208333333333334\n",
      "caption : A big cathedral with ornate stone work against a blue sky\n"
     ]
    },
    {
     "name": "stderr",
     "output_type": "stream",
     "text": [
      "  6%|▌         | 12/200 [00:25<06:33,  2.09s/it]"
     ]
    },
    {
     "name": "stdout",
     "output_type": "stream",
     "text": [
      "Watermark Presence Prob.: 0.5416666666666666\n",
      "caption : A church with two towers has a clock on top.\n",
      "Watermark Presence Prob.: 0.5625\n",
      "---------- Count = 13 : Visual Paraphrasing for the watermarked version of 405613-------------\n",
      "\n",
      "Image name :  Image_405613.jpg\n",
      "Image id : 405613\n"
     ]
    },
    {
     "data": {
      "application/vnd.jupyter.widget-view+json": {
       "model_id": "38d5d890562f49e48f93338f9418c262",
       "version_major": 2,
       "version_minor": 0
      },
      "text/plain": [
       "  0%|          | 0/5 [00:00<?, ?it/s]"
      ]
     },
     "metadata": {},
     "output_type": "display_data"
    },
    {
     "name": "stdout",
     "output_type": "stream",
     "text": [
      "Saving generated images at /raid/home/ashhar21137/watermarking3/stable_signature/ss_paraphrase_0.15/405613\n",
      "Generated Image saved to /raid/home/ashhar21137/watermarking3/stable_signature/ss_paraphrase_0.15/405613/405613_gen_0.png\n",
      "Generated Image saved to /raid/home/ashhar21137/watermarking3/stable_signature/ss_paraphrase_0.15/405613/405613_gen_1.png\n",
      "Generated Image saved to /raid/home/ashhar21137/watermarking3/stable_signature/ss_paraphrase_0.15/405613/405613_gen_2.png\n",
      "Generated Image saved to /raid/home/ashhar21137/watermarking3/stable_signature/ss_paraphrase_0.15/405613/405613_gen_3.png\n",
      "Generated Image saved to /raid/home/ashhar21137/watermarking3/stable_signature/ss_paraphrase_0.15/405613/405613_gen_4.png\n",
      "\n",
      "Number of images generated :  5\n",
      "\n",
      "********** Watermark detection for generated images ***************\n",
      "caption : A group of men at a table preparing food together\n",
      "Watermark Presence Prob.: 0.625\n",
      "caption : some men standing around a counter while making a pizza \n",
      "Watermark Presence Prob.: 0.5625\n",
      "caption : people preparing what they want to eat on a table\n",
      "Watermark Presence Prob.: 0.6041666666666666\n",
      "caption : A group of people standing at a table with wine making pizzas. \n"
     ]
    },
    {
     "name": "stderr",
     "output_type": "stream",
     "text": [
      "  6%|▋         | 13/200 [00:27<06:59,  2.24s/it]"
     ]
    },
    {
     "name": "stdout",
     "output_type": "stream",
     "text": [
      "Watermark Presence Prob.: 0.5625\n",
      "caption : THERE ARE PEOPLE THAT ARE GETTING FOOD OFF OF THE TABLE \n",
      "Watermark Presence Prob.: 0.6458333333333334\n",
      "---------- Count = 14 : Visual Paraphrasing for the watermarked version of 441488-------------\n",
      "\n",
      "Image name :  Image_441488.jpg\n",
      "Image id : 441488\n"
     ]
    },
    {
     "data": {
      "application/vnd.jupyter.widget-view+json": {
       "model_id": "1b3859cf9b9f4624ad084dbb1cce3f95",
       "version_major": 2,
       "version_minor": 0
      },
      "text/plain": [
       "  0%|          | 0/5 [00:00<?, ?it/s]"
      ]
     },
     "metadata": {},
     "output_type": "display_data"
    },
    {
     "name": "stdout",
     "output_type": "stream",
     "text": [
      "Saving generated images at /raid/home/ashhar21137/watermarking3/stable_signature/ss_paraphrase_0.15/441488\n",
      "Generated Image saved to /raid/home/ashhar21137/watermarking3/stable_signature/ss_paraphrase_0.15/441488/441488_gen_0.png\n",
      "Generated Image saved to /raid/home/ashhar21137/watermarking3/stable_signature/ss_paraphrase_0.15/441488/441488_gen_1.png\n",
      "Generated Image saved to /raid/home/ashhar21137/watermarking3/stable_signature/ss_paraphrase_0.15/441488/441488_gen_2.png\n",
      "Generated Image saved to /raid/home/ashhar21137/watermarking3/stable_signature/ss_paraphrase_0.15/441488/441488_gen_3.png\n",
      "Generated Image saved to /raid/home/ashhar21137/watermarking3/stable_signature/ss_paraphrase_0.15/441488/441488_gen_4.png\n",
      "\n",
      "Number of images generated :  5\n",
      "\n",
      "********** Watermark detection for generated images ***************\n",
      "caption : MAN KNEELING BETWEEN TWO BICYCLES LOOKING AT HIS PHONE\n",
      "Watermark Presence Prob.: 0.4375\n",
      "caption : A man squatting near two bikes and taking a picture of something. \n",
      "Watermark Presence Prob.: 0.4375\n",
      "caption : Man taking picture while crouching on ground by two parked bicycles. \n",
      "Watermark Presence Prob.: 0.5208333333333334\n",
      "caption : a man hunkered down between two bicycles \n"
     ]
    },
    {
     "name": "stderr",
     "output_type": "stream",
     "text": [
      "  7%|▋         | 14/200 [00:29<06:49,  2.20s/it]"
     ]
    },
    {
     "name": "stdout",
     "output_type": "stream",
     "text": [
      "Watermark Presence Prob.: 0.5416666666666666\n",
      "caption : Man with bicycles squatting while taking a picture with a phone camera.\n",
      "Watermark Presence Prob.: 0.5625\n",
      "---------- Count = 15 : Visual Paraphrasing for the watermarked version of 420721-------------\n",
      "\n",
      "Image name :  Image_420721.jpg\n",
      "Image id : 420721\n"
     ]
    },
    {
     "data": {
      "application/vnd.jupyter.widget-view+json": {
       "model_id": "1e3ad8b176104624bbcbd481df6178aa",
       "version_major": 2,
       "version_minor": 0
      },
      "text/plain": [
       "  0%|          | 0/5 [00:00<?, ?it/s]"
      ]
     },
     "metadata": {},
     "output_type": "display_data"
    },
    {
     "name": "stdout",
     "output_type": "stream",
     "text": [
      "Saving generated images at /raid/home/ashhar21137/watermarking3/stable_signature/ss_paraphrase_0.15/420721\n",
      "Generated Image saved to /raid/home/ashhar21137/watermarking3/stable_signature/ss_paraphrase_0.15/420721/420721_gen_0.png\n",
      "Generated Image saved to /raid/home/ashhar21137/watermarking3/stable_signature/ss_paraphrase_0.15/420721/420721_gen_1.png\n",
      "Generated Image saved to /raid/home/ashhar21137/watermarking3/stable_signature/ss_paraphrase_0.15/420721/420721_gen_2.png\n",
      "Generated Image saved to /raid/home/ashhar21137/watermarking3/stable_signature/ss_paraphrase_0.15/420721/420721_gen_3.png\n",
      "Generated Image saved to /raid/home/ashhar21137/watermarking3/stable_signature/ss_paraphrase_0.15/420721/420721_gen_4.png\n",
      "\n",
      "Number of images generated :  5\n",
      "\n",
      "********** Watermark detection for generated images ***************\n",
      "caption : A large furry cat pulling up the bathroom carpet\n",
      "Watermark Presence Prob.: 0.5208333333333334\n",
      "caption : A playful cat pulls up the corner of a bathroom rug.\n",
      "Watermark Presence Prob.: 0.5833333333333334\n",
      "caption : a bath room with a toilet and a cat on the rug\n"
     ]
    },
    {
     "name": "stderr",
     "output_type": "stream",
     "text": [
      "  8%|▊         | 15/200 [00:32<06:59,  2.27s/it]"
     ]
    },
    {
     "name": "stdout",
     "output_type": "stream",
     "text": [
      "Watermark Presence Prob.: 0.5833333333333334\n",
      "caption : A cat laying next to a white toilet in a bathroom.\n",
      "Watermark Presence Prob.: 0.5208333333333334\n",
      "caption : A cat playing with the rug around a toilet.\n",
      "Watermark Presence Prob.: 0.625\n",
      "---------- Count = 16 : Visual Paraphrasing for the watermarked version of 18885-------------\n",
      "\n",
      "Image name :  Image_18885.jpg\n",
      "Image id : 18885\n"
     ]
    },
    {
     "data": {
      "application/vnd.jupyter.widget-view+json": {
       "model_id": "999e7766192644ef8beb2dfab198511d",
       "version_major": 2,
       "version_minor": 0
      },
      "text/plain": [
       "  0%|          | 0/5 [00:00<?, ?it/s]"
      ]
     },
     "metadata": {},
     "output_type": "display_data"
    },
    {
     "name": "stdout",
     "output_type": "stream",
     "text": [
      "Saving generated images at /raid/home/ashhar21137/watermarking3/stable_signature/ss_paraphrase_0.15/18885\n",
      "Generated Image saved to /raid/home/ashhar21137/watermarking3/stable_signature/ss_paraphrase_0.15/18885/18885_gen_0.png\n",
      "Generated Image saved to /raid/home/ashhar21137/watermarking3/stable_signature/ss_paraphrase_0.15/18885/18885_gen_1.png\n",
      "Generated Image saved to /raid/home/ashhar21137/watermarking3/stable_signature/ss_paraphrase_0.15/18885/18885_gen_2.png\n",
      "Generated Image saved to /raid/home/ashhar21137/watermarking3/stable_signature/ss_paraphrase_0.15/18885/18885_gen_3.png\n",
      "Generated Image saved to /raid/home/ashhar21137/watermarking3/stable_signature/ss_paraphrase_0.15/18885/18885_gen_4.png\n",
      "\n",
      "Number of images generated :  5\n",
      "\n",
      "********** Watermark detection for generated images ***************\n",
      "caption : People are standing outside near a very unique looking object. \n",
      "Watermark Presence Prob.: 0.5208333333333334\n",
      "caption : A masked person staring in front of a crowd.\n",
      "Watermark Presence Prob.: 0.4791666666666667\n",
      "caption : A group of people looking at some decorations that look like a mask.\n",
      "Watermark Presence Prob.: 0.5208333333333334\n",
      "caption : A large crowd are gathered around a colorfully costumed man.\n"
     ]
    },
    {
     "name": "stderr",
     "output_type": "stream",
     "text": [
      "  8%|▊         | 16/200 [00:34<06:40,  2.17s/it]"
     ]
    },
    {
     "name": "stdout",
     "output_type": "stream",
     "text": [
      "Watermark Presence Prob.: 0.5\n",
      "caption : A large masked character is carried by a group of people in a parade.\n",
      "Watermark Presence Prob.: 0.4166666666666667\n",
      "---------- Count = 17 : Visual Paraphrasing for the watermarked version of 399956-------------\n",
      "\n",
      "Image name :  Image_399956.jpg\n",
      "Image id : 399956\n"
     ]
    },
    {
     "data": {
      "application/vnd.jupyter.widget-view+json": {
       "model_id": "05d441686b4d465ebcad622686d27cbd",
       "version_major": 2,
       "version_minor": 0
      },
      "text/plain": [
       "  0%|          | 0/5 [00:00<?, ?it/s]"
      ]
     },
     "metadata": {},
     "output_type": "display_data"
    },
    {
     "name": "stdout",
     "output_type": "stream",
     "text": [
      "Saving generated images at /raid/home/ashhar21137/watermarking3/stable_signature/ss_paraphrase_0.15/399956\n",
      "Generated Image saved to /raid/home/ashhar21137/watermarking3/stable_signature/ss_paraphrase_0.15/399956/399956_gen_0.png\n",
      "Generated Image saved to /raid/home/ashhar21137/watermarking3/stable_signature/ss_paraphrase_0.15/399956/399956_gen_1.png\n",
      "Generated Image saved to /raid/home/ashhar21137/watermarking3/stable_signature/ss_paraphrase_0.15/399956/399956_gen_2.png\n",
      "Generated Image saved to /raid/home/ashhar21137/watermarking3/stable_signature/ss_paraphrase_0.15/399956/399956_gen_3.png\n",
      "Generated Image saved to /raid/home/ashhar21137/watermarking3/stable_signature/ss_paraphrase_0.15/399956/399956_gen_4.png\n",
      "\n",
      "Number of images generated :  5\n",
      "\n",
      "********** Watermark detection for generated images ***************\n",
      "caption : An adorable little gir sitting on a park bench.\n",
      "Watermark Presence Prob.: 0.5208333333333334\n",
      "caption : A little girl is sitting on a bench for a photo\n",
      "Watermark Presence Prob.: 0.5208333333333334\n",
      "caption : A young girl sits on a bench for a picture\n",
      "Watermark Presence Prob.: 0.5\n",
      "caption : A girl sitting on a stone bench surrounded by plants.\n"
     ]
    },
    {
     "name": "stderr",
     "output_type": "stream",
     "text": [
      "  8%|▊         | 17/200 [00:36<06:40,  2.19s/it]"
     ]
    },
    {
     "name": "stdout",
     "output_type": "stream",
     "text": [
      "Watermark Presence Prob.: 0.5208333333333334\n",
      "caption : Girl sitting sideways on bench with red shirt and green blue shorts and slippers.\n",
      "Watermark Presence Prob.: 0.4583333333333333\n",
      "---------- Count = 18 : Visual Paraphrasing for the watermarked version of 93785-------------\n",
      "\n",
      "Image name :  Image_93785.jpg\n",
      "Image id : 93785\n"
     ]
    },
    {
     "data": {
      "application/vnd.jupyter.widget-view+json": {
       "model_id": "d0383850e63d429fbc984dd4a1fb3a75",
       "version_major": 2,
       "version_minor": 0
      },
      "text/plain": [
       "  0%|          | 0/5 [00:00<?, ?it/s]"
      ]
     },
     "metadata": {},
     "output_type": "display_data"
    },
    {
     "name": "stdout",
     "output_type": "stream",
     "text": [
      "Saving generated images at /raid/home/ashhar21137/watermarking3/stable_signature/ss_paraphrase_0.15/93785\n",
      "Generated Image saved to /raid/home/ashhar21137/watermarking3/stable_signature/ss_paraphrase_0.15/93785/93785_gen_0.png\n",
      "Generated Image saved to /raid/home/ashhar21137/watermarking3/stable_signature/ss_paraphrase_0.15/93785/93785_gen_1.png\n",
      "Generated Image saved to /raid/home/ashhar21137/watermarking3/stable_signature/ss_paraphrase_0.15/93785/93785_gen_2.png\n",
      "Generated Image saved to /raid/home/ashhar21137/watermarking3/stable_signature/ss_paraphrase_0.15/93785/93785_gen_3.png\n",
      "Generated Image saved to /raid/home/ashhar21137/watermarking3/stable_signature/ss_paraphrase_0.15/93785/93785_gen_4.png\n",
      "\n",
      "Number of images generated :  5\n",
      "\n",
      "********** Watermark detection for generated images ***************\n",
      "caption : Commode scene in white with red sterilized notice.\n",
      "Watermark Presence Prob.: 0.625\n",
      "caption : A white toilet with matching walls and a sterilized sign.\n",
      "Watermark Presence Prob.: 0.5625\n",
      "caption : a bathroom with a toilet and a sign on the lid\n"
     ]
    },
    {
     "name": "stderr",
     "output_type": "stream",
     "text": [
      "  9%|▉         | 18/200 [00:38<06:23,  2.11s/it]"
     ]
    },
    {
     "name": "stdout",
     "output_type": "stream",
     "text": [
      "Watermark Presence Prob.: 0.5625\n",
      "caption : A toilet seat with the word sterilized on it.\n",
      "Watermark Presence Prob.: 0.5625\n",
      "caption : A toilet with the word \"sterilized\" printed across it. \n",
      "Watermark Presence Prob.: 0.5416666666666666\n",
      "---------- Count = 19 : Visual Paraphrasing for the watermarked version of 570246-------------\n",
      "\n",
      "Image name :  Image_570246.jpg\n",
      "Image id : 570246\n"
     ]
    },
    {
     "data": {
      "application/vnd.jupyter.widget-view+json": {
       "model_id": "1ec0b1ea793f4dc4bcc297f7c27b7e7b",
       "version_major": 2,
       "version_minor": 0
      },
      "text/plain": [
       "  0%|          | 0/5 [00:00<?, ?it/s]"
      ]
     },
     "metadata": {},
     "output_type": "display_data"
    },
    {
     "name": "stdout",
     "output_type": "stream",
     "text": [
      "Saving generated images at /raid/home/ashhar21137/watermarking3/stable_signature/ss_paraphrase_0.15/570246\n",
      "Generated Image saved to /raid/home/ashhar21137/watermarking3/stable_signature/ss_paraphrase_0.15/570246/570246_gen_0.png\n",
      "Generated Image saved to /raid/home/ashhar21137/watermarking3/stable_signature/ss_paraphrase_0.15/570246/570246_gen_1.png\n",
      "Generated Image saved to /raid/home/ashhar21137/watermarking3/stable_signature/ss_paraphrase_0.15/570246/570246_gen_2.png\n",
      "Generated Image saved to /raid/home/ashhar21137/watermarking3/stable_signature/ss_paraphrase_0.15/570246/570246_gen_3.png\n",
      "Generated Image saved to /raid/home/ashhar21137/watermarking3/stable_signature/ss_paraphrase_0.15/570246/570246_gen_4.png\n",
      "\n",
      "Number of images generated :  5\n",
      "\n",
      "********** Watermark detection for generated images ***************\n",
      "caption : A giraffe puts its nose into a pool of water.\n",
      "Watermark Presence Prob.: 0.5416666666666666\n",
      "caption : a close up of a giraffe bending down drinking water\n",
      "Watermark Presence Prob.: 0.5416666666666666\n",
      "caption : A giraffe sticking its face into a watering hole.\n",
      "Watermark Presence Prob.: 0.5208333333333334\n",
      "caption : tHERE IS A GIRAFFE THAT IS DRINKING WATER\n",
      "Watermark Presence Prob.: 0.625\n",
      "caption : A very cute giraffe bending down to drink some water.\n"
     ]
    },
    {
     "name": "stderr",
     "output_type": "stream",
     "text": [
      " 10%|▉         | 19/200 [00:40<06:19,  2.10s/it]"
     ]
    },
    {
     "name": "stdout",
     "output_type": "stream",
     "text": [
      "Watermark Presence Prob.: 0.5833333333333334\n",
      "---------- Count = 20 : Visual Paraphrasing for the watermarked version of 262845-------------\n",
      "\n",
      "Image name :  Image_262845.jpg\n",
      "Image id : 262845\n"
     ]
    },
    {
     "data": {
      "application/vnd.jupyter.widget-view+json": {
       "model_id": "ecfcd7cc3d8840f89620b0cb258dc105",
       "version_major": 2,
       "version_minor": 0
      },
      "text/plain": [
       "  0%|          | 0/5 [00:00<?, ?it/s]"
      ]
     },
     "metadata": {},
     "output_type": "display_data"
    },
    {
     "name": "stdout",
     "output_type": "stream",
     "text": [
      "Saving generated images at /raid/home/ashhar21137/watermarking3/stable_signature/ss_paraphrase_0.15/262845\n",
      "Generated Image saved to /raid/home/ashhar21137/watermarking3/stable_signature/ss_paraphrase_0.15/262845/262845_gen_0.png\n",
      "Generated Image saved to /raid/home/ashhar21137/watermarking3/stable_signature/ss_paraphrase_0.15/262845/262845_gen_1.png\n",
      "Generated Image saved to /raid/home/ashhar21137/watermarking3/stable_signature/ss_paraphrase_0.15/262845/262845_gen_2.png\n",
      "Generated Image saved to /raid/home/ashhar21137/watermarking3/stable_signature/ss_paraphrase_0.15/262845/262845_gen_3.png\n",
      "Generated Image saved to /raid/home/ashhar21137/watermarking3/stable_signature/ss_paraphrase_0.15/262845/262845_gen_4.png\n",
      "\n",
      "Number of images generated :  5\n",
      "\n",
      "********** Watermark detection for generated images ***************\n",
      "caption : A picture of a broken down bathroom with two sinks.\n",
      "Watermark Presence Prob.: 0.6041666666666666\n",
      "caption : A dirty bathroom with two sinks and a curtain.\n",
      "Watermark Presence Prob.: 0.5416666666666666\n",
      "caption : A dirty double sink bathroom with a curtain. \n",
      "Watermark Presence Prob.: 0.5\n",
      "caption : Two bathroom sinks are shown in a beat up bathroom.\n",
      "Watermark Presence Prob.: 0.5\n",
      "caption : Two sinks are shown in an abandoned place.\n"
     ]
    },
    {
     "name": "stderr",
     "output_type": "stream",
     "text": [
      " 10%|█         | 20/200 [00:42<06:28,  2.16s/it]"
     ]
    },
    {
     "name": "stdout",
     "output_type": "stream",
     "text": [
      "Watermark Presence Prob.: 0.5\n",
      "---------- Count = 21 : Visual Paraphrasing for the watermarked version of 49183-------------\n",
      "\n",
      "Image name :  Image_49183.jpg\n",
      "Image id : 49183\n"
     ]
    },
    {
     "data": {
      "application/vnd.jupyter.widget-view+json": {
       "model_id": "43528d792a3d43288c62f66fe9abd2ba",
       "version_major": 2,
       "version_minor": 0
      },
      "text/plain": [
       "  0%|          | 0/5 [00:00<?, ?it/s]"
      ]
     },
     "metadata": {},
     "output_type": "display_data"
    },
    {
     "name": "stdout",
     "output_type": "stream",
     "text": [
      "Saving generated images at /raid/home/ashhar21137/watermarking3/stable_signature/ss_paraphrase_0.15/49183\n",
      "Generated Image saved to /raid/home/ashhar21137/watermarking3/stable_signature/ss_paraphrase_0.15/49183/49183_gen_0.png\n",
      "Generated Image saved to /raid/home/ashhar21137/watermarking3/stable_signature/ss_paraphrase_0.15/49183/49183_gen_1.png\n",
      "Generated Image saved to /raid/home/ashhar21137/watermarking3/stable_signature/ss_paraphrase_0.15/49183/49183_gen_2.png\n",
      "Generated Image saved to /raid/home/ashhar21137/watermarking3/stable_signature/ss_paraphrase_0.15/49183/49183_gen_3.png\n",
      "Generated Image saved to /raid/home/ashhar21137/watermarking3/stable_signature/ss_paraphrase_0.15/49183/49183_gen_4.png\n",
      "\n",
      "Number of images generated :  5\n",
      "\n",
      "********** Watermark detection for generated images ***************\n",
      "caption : A white toilet commode sits on a tile floor.\n",
      "Watermark Presence Prob.: 0.6041666666666666\n",
      "caption : A toilet bowl with a bucket and trash can by it.\n",
      "Watermark Presence Prob.: 0.6041666666666666\n",
      "caption : A dirty toilet in a dirty bathroom with laminate flooring. \n",
      "Watermark Presence Prob.: 0.6041666666666666\n",
      "caption : a toilet sits on a tiled floor next to a trash can \n",
      "Watermark Presence Prob.: 0.6041666666666666\n",
      "caption : The toilet and surrounding area is extremely dirty. \n"
     ]
    },
    {
     "name": "stderr",
     "output_type": "stream",
     "text": [
      " 10%|█         | 21/200 [00:45<06:42,  2.25s/it]"
     ]
    },
    {
     "name": "stdout",
     "output_type": "stream",
     "text": [
      "Watermark Presence Prob.: 0.5833333333333334\n",
      "---------- Count = 22 : Visual Paraphrasing for the watermarked version of 142088-------------\n",
      "\n",
      "Image name :  Image_142088.jpg\n",
      "Image id : 142088\n"
     ]
    },
    {
     "data": {
      "application/vnd.jupyter.widget-view+json": {
       "model_id": "36f1e20a7a7048c882c9f4945f5c25f5",
       "version_major": 2,
       "version_minor": 0
      },
      "text/plain": [
       "  0%|          | 0/5 [00:00<?, ?it/s]"
      ]
     },
     "metadata": {},
     "output_type": "display_data"
    },
    {
     "name": "stdout",
     "output_type": "stream",
     "text": [
      "Saving generated images at /raid/home/ashhar21137/watermarking3/stable_signature/ss_paraphrase_0.15/142088\n",
      "Generated Image saved to /raid/home/ashhar21137/watermarking3/stable_signature/ss_paraphrase_0.15/142088/142088_gen_0.png\n",
      "Generated Image saved to /raid/home/ashhar21137/watermarking3/stable_signature/ss_paraphrase_0.15/142088/142088_gen_1.png\n",
      "Generated Image saved to /raid/home/ashhar21137/watermarking3/stable_signature/ss_paraphrase_0.15/142088/142088_gen_2.png\n",
      "Generated Image saved to /raid/home/ashhar21137/watermarking3/stable_signature/ss_paraphrase_0.15/142088/142088_gen_3.png\n",
      "Generated Image saved to /raid/home/ashhar21137/watermarking3/stable_signature/ss_paraphrase_0.15/142088/142088_gen_4.png\n",
      "\n",
      "Number of images generated :  5\n",
      "\n",
      "********** Watermark detection for generated images ***************\n",
      "caption : Black motorcycle sitting underneath an overhang outdoors. \n",
      "Watermark Presence Prob.: 0.3958333333333333\n",
      "caption : a motorcycle sitting under an awning next to a bunch of stuff \n",
      "Watermark Presence Prob.: 0.4583333333333333\n",
      "caption : A bunch of stuff that is being stored in a small open building. \n",
      "Watermark Presence Prob.: 0.4583333333333333\n",
      "caption : A motorcycle parked under a wooden structure with other items.\n"
     ]
    },
    {
     "name": "stderr",
     "output_type": "stream",
     "text": [
      " 11%|█         | 22/200 [00:47<06:32,  2.21s/it]"
     ]
    },
    {
     "name": "stdout",
     "output_type": "stream",
     "text": [
      "Watermark Presence Prob.: 0.4583333333333333\n",
      "caption : Motorcycle parked under covered area in fenced yard.\n",
      "Watermark Presence Prob.: 0.3958333333333333\n",
      "---------- Count = 23 : Visual Paraphrasing for the watermarked version of 394326-------------\n",
      "\n",
      "Image name :  Image_394326.jpg\n",
      "Image id : 394326\n"
     ]
    },
    {
     "data": {
      "application/vnd.jupyter.widget-view+json": {
       "model_id": "6884674b1a3c444e90733e87f01d20fe",
       "version_major": 2,
       "version_minor": 0
      },
      "text/plain": [
       "  0%|          | 0/5 [00:00<?, ?it/s]"
      ]
     },
     "metadata": {},
     "output_type": "display_data"
    },
    {
     "name": "stdout",
     "output_type": "stream",
     "text": [
      "Saving generated images at /raid/home/ashhar21137/watermarking3/stable_signature/ss_paraphrase_0.15/394326\n",
      "Generated Image saved to /raid/home/ashhar21137/watermarking3/stable_signature/ss_paraphrase_0.15/394326/394326_gen_0.png\n",
      "Generated Image saved to /raid/home/ashhar21137/watermarking3/stable_signature/ss_paraphrase_0.15/394326/394326_gen_1.png\n",
      "Generated Image saved to /raid/home/ashhar21137/watermarking3/stable_signature/ss_paraphrase_0.15/394326/394326_gen_2.png\n",
      "Generated Image saved to /raid/home/ashhar21137/watermarking3/stable_signature/ss_paraphrase_0.15/394326/394326_gen_3.png\n",
      "Generated Image saved to /raid/home/ashhar21137/watermarking3/stable_signature/ss_paraphrase_0.15/394326/394326_gen_4.png\n",
      "\n",
      "Number of images generated :  5\n",
      "\n",
      "********** Watermark detection for generated images ***************\n",
      "caption : A black and white photo of restroom toilet with a filthy floor.\n"
     ]
    },
    {
     "name": "stderr",
     "output_type": "stream",
     "text": [
      " 12%|█▏        | 23/200 [00:49<06:31,  2.21s/it]"
     ]
    },
    {
     "name": "stdout",
     "output_type": "stream",
     "text": [
      "Watermark Presence Prob.: 0.5208333333333334\n",
      "caption : Black and white photograph of bathroom toilet and sink.\n",
      "Watermark Presence Prob.: 0.4791666666666667\n",
      "caption : A dirty looking bathroom with a sink and a toilet.\n",
      "Watermark Presence Prob.: 0.5208333333333334\n",
      "caption : A black and white photo of a dirty bathroom with focus on the toilet.\n",
      "Watermark Presence Prob.: 0.4791666666666667\n",
      "caption : A toilet and sink sit in a dark room.\n",
      "Watermark Presence Prob.: 0.5\n",
      "---------- Count = 24 : Visual Paraphrasing for the watermarked version of 524068-------------\n",
      "\n",
      "Image name :  Image_524068.jpg\n",
      "Image id : 524068\n"
     ]
    },
    {
     "data": {
      "application/vnd.jupyter.widget-view+json": {
       "model_id": "0f4665fd4eeb4acdab0ac3121cb4f4d2",
       "version_major": 2,
       "version_minor": 0
      },
      "text/plain": [
       "  0%|          | 0/5 [00:00<?, ?it/s]"
      ]
     },
     "metadata": {},
     "output_type": "display_data"
    },
    {
     "name": "stdout",
     "output_type": "stream",
     "text": [
      "Saving generated images at /raid/home/ashhar21137/watermarking3/stable_signature/ss_paraphrase_0.15/524068\n",
      "Generated Image saved to /raid/home/ashhar21137/watermarking3/stable_signature/ss_paraphrase_0.15/524068/524068_gen_0.png\n",
      "Generated Image saved to /raid/home/ashhar21137/watermarking3/stable_signature/ss_paraphrase_0.15/524068/524068_gen_1.png\n",
      "Generated Image saved to /raid/home/ashhar21137/watermarking3/stable_signature/ss_paraphrase_0.15/524068/524068_gen_2.png\n",
      "Generated Image saved to /raid/home/ashhar21137/watermarking3/stable_signature/ss_paraphrase_0.15/524068/524068_gen_3.png\n",
      "Generated Image saved to /raid/home/ashhar21137/watermarking3/stable_signature/ss_paraphrase_0.15/524068/524068_gen_4.png\n",
      "\n",
      "Number of images generated :  5\n",
      "\n",
      "********** Watermark detection for generated images ***************\n",
      "caption : A man with a video camera films a motorcycle procession\n",
      "Watermark Presence Prob.: 0.5208333333333334\n",
      "caption : A man is filming some motor scooters coming down the road. \n",
      "Watermark Presence Prob.: 0.5\n",
      "caption : A row of motorcycles passing by person with video camera.\n",
      "Watermark Presence Prob.: 0.5208333333333334\n",
      "caption : An evening picture of motorcycles and cars parked on the street with a purpose outside.\n"
     ]
    },
    {
     "name": "stderr",
     "output_type": "stream",
     "text": [
      " 12%|█▏        | 24/200 [00:51<06:25,  2.19s/it]"
     ]
    },
    {
     "name": "stdout",
     "output_type": "stream",
     "text": [
      "Watermark Presence Prob.: 0.5416666666666666\n",
      "caption : a person recording a motorcycle in a lot \n",
      "Watermark Presence Prob.: 0.4583333333333333\n",
      "---------- Count = 25 : Visual Paraphrasing for the watermarked version of 352884-------------\n",
      "\n",
      "Image name :  Image_352884.jpg\n",
      "Image id : 352884\n"
     ]
    },
    {
     "data": {
      "application/vnd.jupyter.widget-view+json": {
       "model_id": "7b9fe204cdd642e18d604e66f9d4ec03",
       "version_major": 2,
       "version_minor": 0
      },
      "text/plain": [
       "  0%|          | 0/5 [00:00<?, ?it/s]"
      ]
     },
     "metadata": {},
     "output_type": "display_data"
    },
    {
     "name": "stdout",
     "output_type": "stream",
     "text": [
      "Saving generated images at /raid/home/ashhar21137/watermarking3/stable_signature/ss_paraphrase_0.15/352884\n",
      "Generated Image saved to /raid/home/ashhar21137/watermarking3/stable_signature/ss_paraphrase_0.15/352884/352884_gen_0.png\n",
      "Generated Image saved to /raid/home/ashhar21137/watermarking3/stable_signature/ss_paraphrase_0.15/352884/352884_gen_1.png\n",
      "Generated Image saved to /raid/home/ashhar21137/watermarking3/stable_signature/ss_paraphrase_0.15/352884/352884_gen_2.png\n",
      "Generated Image saved to /raid/home/ashhar21137/watermarking3/stable_signature/ss_paraphrase_0.15/352884/352884_gen_3.png\n",
      "Generated Image saved to /raid/home/ashhar21137/watermarking3/stable_signature/ss_paraphrase_0.15/352884/352884_gen_4.png\n",
      "\n",
      "Number of images generated :  5\n",
      "\n",
      "********** Watermark detection for generated images ***************\n",
      "caption : Bathroom with destroyed walls, a sink and a mirrored cabinet. \n",
      "Watermark Presence Prob.: 0.5416666666666666\n",
      "caption : A run down bathroom with paint peeling off the walls. \n",
      "Watermark Presence Prob.: 0.6041666666666666\n",
      "caption : The bathroom is in need of remodeling and repair. \n",
      "Watermark Presence Prob.: 0.5625\n",
      "caption : A crumbling bathroom has a sink and a medicine cabinet.\n"
     ]
    },
    {
     "name": "stderr",
     "output_type": "stream",
     "text": [
      " 12%|█▎        | 25/200 [00:54<06:29,  2.22s/it]"
     ]
    },
    {
     "name": "stdout",
     "output_type": "stream",
     "text": [
      "Watermark Presence Prob.: 0.5416666666666666\n",
      "caption : The paint of an abandoned bathroom peels off the walls.\n",
      "Watermark Presence Prob.: 0.5625\n",
      "---------- Count = 26 : Visual Paraphrasing for the watermarked version of 199628-------------\n",
      "\n",
      "Image name :  Image_199628.jpg\n",
      "Image id : 199628\n"
     ]
    },
    {
     "data": {
      "application/vnd.jupyter.widget-view+json": {
       "model_id": "a3a8ec868d99418c93f58c4907ed1972",
       "version_major": 2,
       "version_minor": 0
      },
      "text/plain": [
       "  0%|          | 0/5 [00:00<?, ?it/s]"
      ]
     },
     "metadata": {},
     "output_type": "display_data"
    },
    {
     "name": "stdout",
     "output_type": "stream",
     "text": [
      "Saving generated images at /raid/home/ashhar21137/watermarking3/stable_signature/ss_paraphrase_0.15/199628\n",
      "Generated Image saved to /raid/home/ashhar21137/watermarking3/stable_signature/ss_paraphrase_0.15/199628/199628_gen_0.png\n",
      "Generated Image saved to /raid/home/ashhar21137/watermarking3/stable_signature/ss_paraphrase_0.15/199628/199628_gen_1.png\n",
      "Generated Image saved to /raid/home/ashhar21137/watermarking3/stable_signature/ss_paraphrase_0.15/199628/199628_gen_2.png\n",
      "Generated Image saved to /raid/home/ashhar21137/watermarking3/stable_signature/ss_paraphrase_0.15/199628/199628_gen_3.png\n",
      "Generated Image saved to /raid/home/ashhar21137/watermarking3/stable_signature/ss_paraphrase_0.15/199628/199628_gen_4.png\n",
      "\n",
      "Number of images generated :  5\n",
      "\n",
      "********** Watermark detection for generated images ***************\n",
      "caption : A public restroom has two sinks shaped like fancy vases. \n"
     ]
    },
    {
     "name": "stderr",
     "output_type": "stream",
     "text": [
      " 13%|█▎        | 26/200 [00:56<06:16,  2.16s/it]"
     ]
    },
    {
     "name": "stdout",
     "output_type": "stream",
     "text": [
      "Watermark Presence Prob.: 0.625\n",
      "caption : Two tall ceramic sinks in a men's restroom. \n",
      "Watermark Presence Prob.: 0.6458333333333334\n",
      "caption : Two old fashion looking pots are standing in a bathroom. \n",
      "Watermark Presence Prob.: 0.625\n",
      "caption : Two sinks are shown that are blue and white floral.\n",
      "Watermark Presence Prob.: 0.5625\n",
      "caption : Two sinks ,mirrors and urinals in a bathroom.\n",
      "Watermark Presence Prob.: 0.5416666666666666\n",
      "---------- Count = 27 : Visual Paraphrasing for the watermarked version of 160559-------------\n",
      "\n",
      "Image name :  Image_160559.jpg\n",
      "Image id : 160559\n"
     ]
    },
    {
     "data": {
      "application/vnd.jupyter.widget-view+json": {
       "model_id": "91ce6f00e9e04a2cb71e09eed30ed770",
       "version_major": 2,
       "version_minor": 0
      },
      "text/plain": [
       "  0%|          | 0/5 [00:00<?, ?it/s]"
      ]
     },
     "metadata": {},
     "output_type": "display_data"
    },
    {
     "name": "stdout",
     "output_type": "stream",
     "text": [
      "Saving generated images at /raid/home/ashhar21137/watermarking3/stable_signature/ss_paraphrase_0.15/160559\n",
      "Generated Image saved to /raid/home/ashhar21137/watermarking3/stable_signature/ss_paraphrase_0.15/160559/160559_gen_0.png\n",
      "Generated Image saved to /raid/home/ashhar21137/watermarking3/stable_signature/ss_paraphrase_0.15/160559/160559_gen_1.png\n",
      "Generated Image saved to /raid/home/ashhar21137/watermarking3/stable_signature/ss_paraphrase_0.15/160559/160559_gen_2.png\n",
      "Generated Image saved to /raid/home/ashhar21137/watermarking3/stable_signature/ss_paraphrase_0.15/160559/160559_gen_3.png\n",
      "Generated Image saved to /raid/home/ashhar21137/watermarking3/stable_signature/ss_paraphrase_0.15/160559/160559_gen_4.png\n",
      "\n",
      "Number of images generated :  5\n",
      "\n",
      "********** Watermark detection for generated images ***************\n",
      "caption : We are looking at a school bus driving down the street.\n",
      "Watermark Presence Prob.: 0.6041666666666666\n",
      "caption : a school bus driving on a highway near trees \n",
      "Watermark Presence Prob.: 0.5208333333333334\n",
      "caption : A school bus is driving down a road.\n",
      "Watermark Presence Prob.: 0.5208333333333334\n",
      "caption : A school bus is moving down a freeway.\n"
     ]
    },
    {
     "name": "stderr",
     "output_type": "stream",
     "text": [
      " 14%|█▎        | 27/200 [00:58<06:32,  2.27s/it]"
     ]
    },
    {
     "name": "stdout",
     "output_type": "stream",
     "text": [
      "Watermark Presence Prob.: 0.5833333333333334\n",
      "caption : A yellow school bus driving down a road.\n",
      "Watermark Presence Prob.: 0.5625\n",
      "---------- Count = 28 : Visual Paraphrasing for the watermarked version of 57870-------------\n",
      "\n",
      "Image name :  Image_57870.jpg\n",
      "Image id : 57870\n"
     ]
    },
    {
     "data": {
      "application/vnd.jupyter.widget-view+json": {
       "model_id": "fbb08c2863924115b64ef09c3d1038cd",
       "version_major": 2,
       "version_minor": 0
      },
      "text/plain": [
       "  0%|          | 0/5 [00:00<?, ?it/s]"
      ]
     },
     "metadata": {},
     "output_type": "display_data"
    },
    {
     "name": "stdout",
     "output_type": "stream",
     "text": [
      "Saving generated images at /raid/home/ashhar21137/watermarking3/stable_signature/ss_paraphrase_0.15/57870\n",
      "Generated Image saved to /raid/home/ashhar21137/watermarking3/stable_signature/ss_paraphrase_0.15/57870/57870_gen_0.png\n",
      "Generated Image saved to /raid/home/ashhar21137/watermarking3/stable_signature/ss_paraphrase_0.15/57870/57870_gen_1.png\n",
      "Generated Image saved to /raid/home/ashhar21137/watermarking3/stable_signature/ss_paraphrase_0.15/57870/57870_gen_2.png\n",
      "Generated Image saved to /raid/home/ashhar21137/watermarking3/stable_signature/ss_paraphrase_0.15/57870/57870_gen_3.png\n",
      "Generated Image saved to /raid/home/ashhar21137/watermarking3/stable_signature/ss_paraphrase_0.15/57870/57870_gen_4.png\n",
      "\n",
      "Number of images generated :  5\n",
      "\n",
      "********** Watermark detection for generated images ***************\n",
      "caption : A restaurant has modern wooden tables and chairs.\n"
     ]
    },
    {
     "name": "stderr",
     "output_type": "stream",
     "text": [
      " 14%|█▍        | 28/200 [01:00<06:30,  2.27s/it]"
     ]
    },
    {
     "name": "stdout",
     "output_type": "stream",
     "text": [
      "Watermark Presence Prob.: 0.6041666666666666\n",
      "caption : A long restaurant table with rattan rounded back chairs.\n",
      "Watermark Presence Prob.: 0.5\n",
      "caption : a long table with a plant on top of it surrounded with wooden chairs \n",
      "Watermark Presence Prob.: 0.5416666666666666\n",
      "caption : A long table with a flower arrangement in the middle for meetings\n",
      "Watermark Presence Prob.: 0.5208333333333334\n",
      "caption : A table is adorned with wooden chairs with blue accents.\n",
      "Watermark Presence Prob.: 0.5833333333333334\n",
      "---------- Count = 29 : Visual Paraphrasing for the watermarked version of 398494-------------\n",
      "\n",
      "Image name :  Image_398494.jpg\n",
      "Image id : 398494\n"
     ]
    },
    {
     "data": {
      "application/vnd.jupyter.widget-view+json": {
       "model_id": "652c7967ff7145fa93f1f137a3c88403",
       "version_major": 2,
       "version_minor": 0
      },
      "text/plain": [
       "  0%|          | 0/5 [00:00<?, ?it/s]"
      ]
     },
     "metadata": {},
     "output_type": "display_data"
    },
    {
     "name": "stdout",
     "output_type": "stream",
     "text": [
      "Saving generated images at /raid/home/ashhar21137/watermarking3/stable_signature/ss_paraphrase_0.15/398494\n",
      "Generated Image saved to /raid/home/ashhar21137/watermarking3/stable_signature/ss_paraphrase_0.15/398494/398494_gen_0.png\n",
      "Generated Image saved to /raid/home/ashhar21137/watermarking3/stable_signature/ss_paraphrase_0.15/398494/398494_gen_1.png\n",
      "Generated Image saved to /raid/home/ashhar21137/watermarking3/stable_signature/ss_paraphrase_0.15/398494/398494_gen_2.png\n",
      "Generated Image saved to /raid/home/ashhar21137/watermarking3/stable_signature/ss_paraphrase_0.15/398494/398494_gen_3.png\n",
      "Generated Image saved to /raid/home/ashhar21137/watermarking3/stable_signature/ss_paraphrase_0.15/398494/398494_gen_4.png\n",
      "\n",
      "Number of images generated :  5\n",
      "\n",
      "********** Watermark detection for generated images ***************\n",
      "caption : A bicycle parked in a kitchen with a stove and cabinets.\n",
      "Watermark Presence Prob.: 0.4375\n",
      "caption : A black bicycle leaning against the kitchen cabinets.\n",
      "Watermark Presence Prob.: 0.4375\n",
      "caption : small white kitchen with a bike and backpack parked in it\n"
     ]
    },
    {
     "name": "stderr",
     "output_type": "stream",
     "text": [
      " 14%|█▍        | 29/200 [01:02<06:09,  2.16s/it]"
     ]
    },
    {
     "name": "stdout",
     "output_type": "stream",
     "text": [
      "Watermark Presence Prob.: 0.4375\n",
      "caption : A bicycle leaning on the stove and cabinets located inside the kitchen.\n",
      "Watermark Presence Prob.: 0.5\n",
      "caption : A bicycle parked in a kitchen by the stove.\n",
      "Watermark Presence Prob.: 0.4583333333333333\n",
      "---------- Count = 30 : Visual Paraphrasing for the watermarked version of 241364-------------\n",
      "\n",
      "Image name :  Image_241364.jpg\n",
      "Image id : 241364\n"
     ]
    },
    {
     "data": {
      "application/vnd.jupyter.widget-view+json": {
       "model_id": "f9bef7988d794837921df7fcd50bae91",
       "version_major": 2,
       "version_minor": 0
      },
      "text/plain": [
       "  0%|          | 0/5 [00:00<?, ?it/s]"
      ]
     },
     "metadata": {},
     "output_type": "display_data"
    },
    {
     "name": "stdout",
     "output_type": "stream",
     "text": [
      "Saving generated images at /raid/home/ashhar21137/watermarking3/stable_signature/ss_paraphrase_0.15/241364\n",
      "Generated Image saved to /raid/home/ashhar21137/watermarking3/stable_signature/ss_paraphrase_0.15/241364/241364_gen_0.png\n",
      "Generated Image saved to /raid/home/ashhar21137/watermarking3/stable_signature/ss_paraphrase_0.15/241364/241364_gen_1.png\n",
      "Generated Image saved to /raid/home/ashhar21137/watermarking3/stable_signature/ss_paraphrase_0.15/241364/241364_gen_2.png\n",
      "Generated Image saved to /raid/home/ashhar21137/watermarking3/stable_signature/ss_paraphrase_0.15/241364/241364_gen_3.png\n",
      "Generated Image saved to /raid/home/ashhar21137/watermarking3/stable_signature/ss_paraphrase_0.15/241364/241364_gen_4.png\n",
      "\n",
      "Number of images generated :  5\n",
      "\n",
      "********** Watermark detection for generated images ***************\n",
      "caption : A mirror that is sitting behind a sink.\n"
     ]
    },
    {
     "name": "stderr",
     "output_type": "stream",
     "text": [
      " 15%|█▌        | 30/200 [01:04<06:00,  2.12s/it]"
     ]
    },
    {
     "name": "stdout",
     "output_type": "stream",
     "text": [
      "Watermark Presence Prob.: 0.5833333333333334\n",
      "caption : A bathroom with a sink and a toilet in it.\n",
      "Watermark Presence Prob.: 0.5416666666666666\n",
      "caption : A white bathroom with chrome fixtures and blue tile.\n",
      "Watermark Presence Prob.: 0.5833333333333334\n",
      "caption : A hotel bathroom with a large sink sticking out of the counter.\n",
      "Watermark Presence Prob.: 0.5625\n",
      "caption : A decently sized bathroom with a nice sink\n",
      "Watermark Presence Prob.: 0.6041666666666666\n",
      "---------- Count = 31 : Visual Paraphrasing for the watermarked version of 84427-------------\n",
      "\n",
      "Image name :  Image_84427.jpg\n",
      "Image id : 84427\n"
     ]
    },
    {
     "data": {
      "application/vnd.jupyter.widget-view+json": {
       "model_id": "edb4683ead9a4961be3c909f3b215923",
       "version_major": 2,
       "version_minor": 0
      },
      "text/plain": [
       "  0%|          | 0/5 [00:00<?, ?it/s]"
      ]
     },
     "metadata": {},
     "output_type": "display_data"
    },
    {
     "name": "stdout",
     "output_type": "stream",
     "text": [
      "Saving generated images at /raid/home/ashhar21137/watermarking3/stable_signature/ss_paraphrase_0.15/84427\n",
      "Generated Image saved to /raid/home/ashhar21137/watermarking3/stable_signature/ss_paraphrase_0.15/84427/84427_gen_0.png\n",
      "Generated Image saved to /raid/home/ashhar21137/watermarking3/stable_signature/ss_paraphrase_0.15/84427/84427_gen_1.png\n",
      "Generated Image saved to /raid/home/ashhar21137/watermarking3/stable_signature/ss_paraphrase_0.15/84427/84427_gen_2.png\n"
     ]
    },
    {
     "name": "stderr",
     "output_type": "stream",
     "text": [
      " 16%|█▌        | 31/200 [01:06<05:48,  2.06s/it]"
     ]
    },
    {
     "name": "stdout",
     "output_type": "stream",
     "text": [
      "Generated Image saved to /raid/home/ashhar21137/watermarking3/stable_signature/ss_paraphrase_0.15/84427/84427_gen_3.png\n",
      "Generated Image saved to /raid/home/ashhar21137/watermarking3/stable_signature/ss_paraphrase_0.15/84427/84427_gen_4.png\n",
      "\n",
      "Number of images generated :  5\n",
      "\n",
      "********** Watermark detection for generated images ***************\n",
      "caption : A small cluttered kitchen with a window and sink.\n",
      "Watermark Presence Prob.: 0.5\n",
      "caption : A kitchen with a sink a dish rack on the wall and utensils hanging from a window. \n",
      "Watermark Presence Prob.: 0.4791666666666667\n",
      "caption : A strange dark kitchen has an interesting curtain.\n",
      "Watermark Presence Prob.: 0.4375\n",
      "caption : A crowded kitchen with dishes hanging from the walls\n",
      "Watermark Presence Prob.: 0.5416666666666666\n",
      "caption : A kitchen with many utensils hanging from the window.\n",
      "Watermark Presence Prob.: 0.4791666666666667\n",
      "---------- Count = 32 : Visual Paraphrasing for the watermarked version of 393493-------------\n",
      "\n",
      "Image name :  Image_393493.jpg\n",
      "Image id : 393493\n"
     ]
    },
    {
     "data": {
      "application/vnd.jupyter.widget-view+json": {
       "model_id": "44e6c6fa21f645b8a5afacb724c9089d",
       "version_major": 2,
       "version_minor": 0
      },
      "text/plain": [
       "  0%|          | 0/5 [00:00<?, ?it/s]"
      ]
     },
     "metadata": {},
     "output_type": "display_data"
    },
    {
     "name": "stdout",
     "output_type": "stream",
     "text": [
      "Saving generated images at /raid/home/ashhar21137/watermarking3/stable_signature/ss_paraphrase_0.15/393493\n",
      "Generated Image saved to /raid/home/ashhar21137/watermarking3/stable_signature/ss_paraphrase_0.15/393493/393493_gen_0.png\n",
      "Generated Image saved to /raid/home/ashhar21137/watermarking3/stable_signature/ss_paraphrase_0.15/393493/393493_gen_1.png\n",
      "Generated Image saved to /raid/home/ashhar21137/watermarking3/stable_signature/ss_paraphrase_0.15/393493/393493_gen_2.png\n"
     ]
    },
    {
     "name": "stderr",
     "output_type": "stream",
     "text": [
      " 16%|█▌        | 32/200 [01:08<05:32,  1.98s/it]"
     ]
    },
    {
     "name": "stdout",
     "output_type": "stream",
     "text": [
      "Generated Image saved to /raid/home/ashhar21137/watermarking3/stable_signature/ss_paraphrase_0.15/393493/393493_gen_3.png\n",
      "Generated Image saved to /raid/home/ashhar21137/watermarking3/stable_signature/ss_paraphrase_0.15/393493/393493_gen_4.png\n",
      "\n",
      "Number of images generated :  5\n",
      "\n",
      "********** Watermark detection for generated images ***************\n",
      "caption : Little girl looking down at leaves with her bicycle with training wheels parked next to her.\n",
      "Watermark Presence Prob.: 0.5625\n",
      "caption : A little girl in a red jumpsuit and sweater is near a red bike and red table.\n",
      "Watermark Presence Prob.: 0.5208333333333334\n",
      "caption : A young child in a park next to a red bench and red bicycle that as training wheels.\n",
      "Watermark Presence Prob.: 0.5208333333333334\n",
      "caption : A little girl standing next to a red bike near leaves.\n",
      "Watermark Presence Prob.: 0.5416666666666666\n",
      "caption : Small child next to a picnic table and tricycle. \n",
      "Watermark Presence Prob.: 0.4166666666666667\n",
      "---------- Count = 33 : Visual Paraphrasing for the watermarked version of 483008-------------\n",
      "\n",
      "Image name :  Image_483008.jpg\n",
      "Image id : 483008\n"
     ]
    },
    {
     "data": {
      "application/vnd.jupyter.widget-view+json": {
       "model_id": "0f3951dbc8d84359ba59238c892a0f53",
       "version_major": 2,
       "version_minor": 0
      },
      "text/plain": [
       "  0%|          | 0/5 [00:00<?, ?it/s]"
      ]
     },
     "metadata": {},
     "output_type": "display_data"
    },
    {
     "name": "stdout",
     "output_type": "stream",
     "text": [
      "Saving generated images at /raid/home/ashhar21137/watermarking3/stable_signature/ss_paraphrase_0.15/483008\n",
      "Generated Image saved to /raid/home/ashhar21137/watermarking3/stable_signature/ss_paraphrase_0.15/483008/483008_gen_0.png\n",
      "Generated Image saved to /raid/home/ashhar21137/watermarking3/stable_signature/ss_paraphrase_0.15/483008/483008_gen_1.png\n",
      "Generated Image saved to /raid/home/ashhar21137/watermarking3/stable_signature/ss_paraphrase_0.15/483008/483008_gen_2.png\n",
      "Generated Image saved to /raid/home/ashhar21137/watermarking3/stable_signature/ss_paraphrase_0.15/483008/483008_gen_3.png\n",
      "Generated Image saved to /raid/home/ashhar21137/watermarking3/stable_signature/ss_paraphrase_0.15/483008/483008_gen_4.png\n",
      "\n",
      "Number of images generated :  5\n",
      "\n",
      "********** Watermark detection for generated images ***************\n",
      "caption : A girl in dress sitting on a park bench.\n",
      "Watermark Presence Prob.: 0.4375\n",
      "caption : The little girl is sitting on the bench outside the little restaurant.\n",
      "Watermark Presence Prob.: 0.5625\n",
      "caption : A young girl with a bag sitting on a bench.\n",
      "Watermark Presence Prob.: 0.5\n",
      "caption : Little girl wearing blue clothing carrying purple bag sitting outside cafe.\n"
     ]
    },
    {
     "name": "stderr",
     "output_type": "stream",
     "text": [
      " 16%|█▋        | 33/200 [01:11<05:58,  2.14s/it]"
     ]
    },
    {
     "name": "stdout",
     "output_type": "stream",
     "text": [
      "Watermark Presence Prob.: 0.5\n",
      "caption : A young girl sitting on a yellow bench.\n",
      "Watermark Presence Prob.: 0.5\n",
      "---------- Count = 34 : Visual Paraphrasing for the watermarked version of 469605-------------\n",
      "\n",
      "Image name :  Image_469605.jpg\n",
      "Image id : 469605\n"
     ]
    },
    {
     "data": {
      "application/vnd.jupyter.widget-view+json": {
       "model_id": "1d4dec2c1d5b41b0ba67a6bdaffa19c3",
       "version_major": 2,
       "version_minor": 0
      },
      "text/plain": [
       "  0%|          | 0/5 [00:00<?, ?it/s]"
      ]
     },
     "metadata": {},
     "output_type": "display_data"
    },
    {
     "name": "stdout",
     "output_type": "stream",
     "text": [
      "Saving generated images at /raid/home/ashhar21137/watermarking3/stable_signature/ss_paraphrase_0.15/469605\n",
      "Generated Image saved to /raid/home/ashhar21137/watermarking3/stable_signature/ss_paraphrase_0.15/469605/469605_gen_0.png\n",
      "Generated Image saved to /raid/home/ashhar21137/watermarking3/stable_signature/ss_paraphrase_0.15/469605/469605_gen_1.png\n",
      "Generated Image saved to /raid/home/ashhar21137/watermarking3/stable_signature/ss_paraphrase_0.15/469605/469605_gen_2.png\n",
      "Generated Image saved to /raid/home/ashhar21137/watermarking3/stable_signature/ss_paraphrase_0.15/469605/469605_gen_3.png\n",
      "Generated Image saved to /raid/home/ashhar21137/watermarking3/stable_signature/ss_paraphrase_0.15/469605/469605_gen_4.png\n",
      "\n",
      "Number of images generated :  5\n",
      "\n",
      "********** Watermark detection for generated images ***************\n",
      "caption : there is a man standing on a field talking on the phone\n",
      "Watermark Presence Prob.: 0.4583333333333333\n",
      "caption : A man is standing in the grass talking on a phone.\n",
      "Watermark Presence Prob.: 0.4166666666666667\n",
      "caption : The man talks on a cell phone far from three others sitting on a blanket.\n",
      "Watermark Presence Prob.: 0.4166666666666667\n",
      "caption : A man in light colored clothing stands near white tents while people sit on grass on a blankent.\n",
      "Watermark Presence Prob.: 0.3958333333333333\n",
      "caption : A man on a cellphone near a group of people on the lawn,\n"
     ]
    },
    {
     "name": "stderr",
     "output_type": "stream",
     "text": [
      " 17%|█▋        | 34/200 [01:13<06:05,  2.20s/it]"
     ]
    },
    {
     "name": "stdout",
     "output_type": "stream",
     "text": [
      "Watermark Presence Prob.: 0.4583333333333333\n",
      "---------- Count = 35 : Visual Paraphrasing for the watermarked version of 348850-------------\n",
      "\n",
      "Image name :  Image_348850.jpg\n",
      "Image id : 348850\n"
     ]
    },
    {
     "data": {
      "application/vnd.jupyter.widget-view+json": {
       "model_id": "e31563b250ed4918b90328ea0804059d",
       "version_major": 2,
       "version_minor": 0
      },
      "text/plain": [
       "  0%|          | 0/5 [00:00<?, ?it/s]"
      ]
     },
     "metadata": {},
     "output_type": "display_data"
    },
    {
     "name": "stdout",
     "output_type": "stream",
     "text": [
      "Saving generated images at /raid/home/ashhar21137/watermarking3/stable_signature/ss_paraphrase_0.15/348850\n",
      "Generated Image saved to /raid/home/ashhar21137/watermarking3/stable_signature/ss_paraphrase_0.15/348850/348850_gen_0.png\n",
      "Generated Image saved to /raid/home/ashhar21137/watermarking3/stable_signature/ss_paraphrase_0.15/348850/348850_gen_1.png\n",
      "Generated Image saved to /raid/home/ashhar21137/watermarking3/stable_signature/ss_paraphrase_0.15/348850/348850_gen_2.png\n"
     ]
    },
    {
     "name": "stderr",
     "output_type": "stream",
     "text": [
      " 18%|█▊        | 35/200 [01:15<05:43,  2.08s/it]"
     ]
    },
    {
     "name": "stdout",
     "output_type": "stream",
     "text": [
      "Generated Image saved to /raid/home/ashhar21137/watermarking3/stable_signature/ss_paraphrase_0.15/348850/348850_gen_3.png\n",
      "Generated Image saved to /raid/home/ashhar21137/watermarking3/stable_signature/ss_paraphrase_0.15/348850/348850_gen_4.png\n",
      "\n",
      "Number of images generated :  5\n",
      "\n",
      "********** Watermark detection for generated images ***************\n",
      "caption : a couple of giraffes that are standing out in the grass\n",
      "Watermark Presence Prob.: 0.5\n",
      "caption : A big giraffe and a baby giraffe walking in a green pasture.\n",
      "Watermark Presence Prob.: 0.5625\n",
      "caption : Two giraffes standing in a green grassy field.\n",
      "Watermark Presence Prob.: 0.5\n",
      "caption : A couple of giraffe standing on a grass covered hillside.\n",
      "Watermark Presence Prob.: 0.5\n",
      "caption : Two giraffes in a grassy area near rocks. \n",
      "Watermark Presence Prob.: 0.5208333333333334\n",
      "---------- Count = 36 : Visual Paraphrasing for the watermarked version of 387083-------------\n",
      "\n",
      "Image name :  Image_387083.jpg\n",
      "Image id : 387083\n"
     ]
    },
    {
     "data": {
      "application/vnd.jupyter.widget-view+json": {
       "model_id": "411c2548ee2948f5a081e78877850c92",
       "version_major": 2,
       "version_minor": 0
      },
      "text/plain": [
       "  0%|          | 0/5 [00:00<?, ?it/s]"
      ]
     },
     "metadata": {},
     "output_type": "display_data"
    },
    {
     "name": "stdout",
     "output_type": "stream",
     "text": [
      "Saving generated images at /raid/home/ashhar21137/watermarking3/stable_signature/ss_paraphrase_0.15/387083\n",
      "Generated Image saved to /raid/home/ashhar21137/watermarking3/stable_signature/ss_paraphrase_0.15/387083/387083_gen_0.png\n",
      "Generated Image saved to /raid/home/ashhar21137/watermarking3/stable_signature/ss_paraphrase_0.15/387083/387083_gen_1.png\n",
      "Generated Image saved to /raid/home/ashhar21137/watermarking3/stable_signature/ss_paraphrase_0.15/387083/387083_gen_2.png\n",
      "Generated Image saved to /raid/home/ashhar21137/watermarking3/stable_signature/ss_paraphrase_0.15/387083/387083_gen_3.png\n",
      "Generated Image saved to /raid/home/ashhar21137/watermarking3/stable_signature/ss_paraphrase_0.15/387083/387083_gen_4.png\n",
      "\n",
      "Number of images generated :  5\n",
      "\n",
      "********** Watermark detection for generated images ***************\n",
      "caption : a giraffe stands as a bird rests on its neck\n",
      "Watermark Presence Prob.: 0.5625\n",
      "caption : There is a bird on the neck of a giraffe\n",
      "Watermark Presence Prob.: 0.6458333333333334\n",
      "caption : A little bird sits on the neck of a giraffe.\n",
      "Watermark Presence Prob.: 0.5833333333333334\n",
      "caption : A black and white bird on the neck of a giraffe.\n"
     ]
    },
    {
     "name": "stderr",
     "output_type": "stream",
     "text": [
      " 18%|█▊        | 36/200 [01:17<05:55,  2.17s/it]"
     ]
    },
    {
     "name": "stdout",
     "output_type": "stream",
     "text": [
      "Watermark Presence Prob.: 0.6458333333333334\n",
      "caption : A bird sitting on the neck of a giraffe.\n",
      "Watermark Presence Prob.: 0.5833333333333334\n",
      "---------- Count = 37 : Visual Paraphrasing for the watermarked version of 77375-------------\n",
      "\n",
      "Image name :  Image_77375.jpg\n",
      "Image id : 77375\n"
     ]
    },
    {
     "data": {
      "application/vnd.jupyter.widget-view+json": {
       "model_id": "3850df40c5114118850abb592b3fa3a2",
       "version_major": 2,
       "version_minor": 0
      },
      "text/plain": [
       "  0%|          | 0/5 [00:00<?, ?it/s]"
      ]
     },
     "metadata": {},
     "output_type": "display_data"
    },
    {
     "name": "stdout",
     "output_type": "stream",
     "text": [
      "Saving generated images at /raid/home/ashhar21137/watermarking3/stable_signature/ss_paraphrase_0.15/77375\n",
      "Generated Image saved to /raid/home/ashhar21137/watermarking3/stable_signature/ss_paraphrase_0.15/77375/77375_gen_0.png\n",
      "Generated Image saved to /raid/home/ashhar21137/watermarking3/stable_signature/ss_paraphrase_0.15/77375/77375_gen_1.png\n",
      "Generated Image saved to /raid/home/ashhar21137/watermarking3/stable_signature/ss_paraphrase_0.15/77375/77375_gen_2.png\n",
      "Generated Image saved to /raid/home/ashhar21137/watermarking3/stable_signature/ss_paraphrase_0.15/77375/77375_gen_3.png\n",
      "Generated Image saved to /raid/home/ashhar21137/watermarking3/stable_signature/ss_paraphrase_0.15/77375/77375_gen_4.png\n",
      "\n",
      "Number of images generated :  5\n",
      "\n",
      "********** Watermark detection for generated images ***************\n",
      "caption : The skateboard is in the middle of the rows of seats.\n",
      "Watermark Presence Prob.: 0.5\n",
      "caption : A purple skateboard sitting at the back of a bus isle.\n"
     ]
    },
    {
     "name": "stderr",
     "output_type": "stream",
     "text": [
      " 18%|█▊        | 37/200 [01:19<05:44,  2.11s/it]"
     ]
    },
    {
     "name": "stdout",
     "output_type": "stream",
     "text": [
      "Watermark Presence Prob.: 0.5416666666666666\n",
      "caption : A skateboard on the walkway in an old bus.\n",
      "Watermark Presence Prob.: 0.4791666666666667\n",
      "caption : a skate boars sits in the middle of a couple of cars \n",
      "Watermark Presence Prob.: 0.5208333333333334\n",
      "caption : A purple skateboard is sitting in the middle of a dirty bus.\n",
      "Watermark Presence Prob.: 0.5208333333333334\n",
      "---------- Count = 38 : Visual Paraphrasing for the watermarked version of 122108-------------\n",
      "\n",
      "Image name :  Image_122108.jpg\n",
      "Image id : 122108\n"
     ]
    },
    {
     "data": {
      "application/vnd.jupyter.widget-view+json": {
       "model_id": "bd343e8e6c954b0f98ba16d26a0e52f7",
       "version_major": 2,
       "version_minor": 0
      },
      "text/plain": [
       "  0%|          | 0/5 [00:00<?, ?it/s]"
      ]
     },
     "metadata": {},
     "output_type": "display_data"
    },
    {
     "name": "stdout",
     "output_type": "stream",
     "text": [
      "Saving generated images at /raid/home/ashhar21137/watermarking3/stable_signature/ss_paraphrase_0.15/122108\n",
      "Generated Image saved to /raid/home/ashhar21137/watermarking3/stable_signature/ss_paraphrase_0.15/122108/122108_gen_0.png\n",
      "Generated Image saved to /raid/home/ashhar21137/watermarking3/stable_signature/ss_paraphrase_0.15/122108/122108_gen_1.png\n",
      "Generated Image saved to /raid/home/ashhar21137/watermarking3/stable_signature/ss_paraphrase_0.15/122108/122108_gen_2.png\n",
      "Generated Image saved to /raid/home/ashhar21137/watermarking3/stable_signature/ss_paraphrase_0.15/122108/122108_gen_3.png\n",
      "Generated Image saved to /raid/home/ashhar21137/watermarking3/stable_signature/ss_paraphrase_0.15/122108/122108_gen_4.png\n",
      "\n",
      "Number of images generated :  5\n",
      "\n",
      "********** Watermark detection for generated images ***************\n",
      "caption : Two giraffes are in a zoo that is near a big city.\n"
     ]
    },
    {
     "name": "stderr",
     "output_type": "stream",
     "text": [
      " 19%|█▉        | 38/200 [01:21<05:47,  2.15s/it]"
     ]
    },
    {
     "name": "stdout",
     "output_type": "stream",
     "text": [
      "Watermark Presence Prob.: 0.5625\n",
      "caption : Two giraffe's facing away from each other in a zoo pin.\n",
      "Watermark Presence Prob.: 0.5833333333333334\n",
      "caption : These two giraffe are standing near a large boulder.\n",
      "Watermark Presence Prob.: 0.5\n",
      "caption : Two giraffes in front of a rocky mountain inside a wooden fence.\n",
      "Watermark Presence Prob.: 0.5416666666666666\n",
      "caption : A pair of giraffes exploring the inside of a habitat.\n",
      "Watermark Presence Prob.: 0.5208333333333334\n",
      "---------- Count = 39 : Visual Paraphrasing for the watermarked version of 540162-------------\n",
      "\n",
      "Image name :  Image_540162.jpg\n",
      "Image id : 540162\n"
     ]
    },
    {
     "data": {
      "application/vnd.jupyter.widget-view+json": {
       "model_id": "aa74be108a494d759d3db0e1668c543b",
       "version_major": 2,
       "version_minor": 0
      },
      "text/plain": [
       "  0%|          | 0/5 [00:00<?, ?it/s]"
      ]
     },
     "metadata": {},
     "output_type": "display_data"
    },
    {
     "name": "stdout",
     "output_type": "stream",
     "text": [
      "Saving generated images at /raid/home/ashhar21137/watermarking3/stable_signature/ss_paraphrase_0.15/540162\n",
      "Generated Image saved to /raid/home/ashhar21137/watermarking3/stable_signature/ss_paraphrase_0.15/540162/540162_gen_0.png\n",
      "Generated Image saved to /raid/home/ashhar21137/watermarking3/stable_signature/ss_paraphrase_0.15/540162/540162_gen_1.png\n",
      "Generated Image saved to /raid/home/ashhar21137/watermarking3/stable_signature/ss_paraphrase_0.15/540162/540162_gen_2.png\n",
      "Generated Image saved to /raid/home/ashhar21137/watermarking3/stable_signature/ss_paraphrase_0.15/540162/540162_gen_3.png\n",
      "Generated Image saved to /raid/home/ashhar21137/watermarking3/stable_signature/ss_paraphrase_0.15/540162/540162_gen_4.png\n",
      "\n",
      "Number of images generated :  5\n",
      "\n",
      "********** Watermark detection for generated images ***************\n",
      "caption : Toilet with upraised lid sitting next to bookshelves.\n"
     ]
    },
    {
     "name": "stderr",
     "output_type": "stream",
     "text": [
      " 20%|█▉        | 39/200 [01:23<05:37,  2.10s/it]"
     ]
    },
    {
     "name": "stdout",
     "output_type": "stream",
     "text": [
      "Watermark Presence Prob.: 0.5\n",
      "caption : A shelf with books and toilet paper outside of a small bathroom.\n",
      "Watermark Presence Prob.: 0.5625\n",
      "caption : A toilet and sink in a small bathroom.\n",
      "Watermark Presence Prob.: 0.5208333333333334\n",
      "caption : A toilet with an adjacent bookshelf of books. \n",
      "Watermark Presence Prob.: 0.4583333333333333\n",
      "caption : A bookshelf on the outside of a bathroom with a toilet.\n",
      "Watermark Presence Prob.: 0.4791666666666667\n",
      "---------- Count = 40 : Visual Paraphrasing for the watermarked version of 19380-------------\n",
      "\n",
      "Image name :  Image_19380.jpg\n",
      "Image id : 19380\n"
     ]
    },
    {
     "data": {
      "application/vnd.jupyter.widget-view+json": {
       "model_id": "d364807eeec3409db923670c59a9ccf7",
       "version_major": 2,
       "version_minor": 0
      },
      "text/plain": [
       "  0%|          | 0/5 [00:00<?, ?it/s]"
      ]
     },
     "metadata": {},
     "output_type": "display_data"
    },
    {
     "name": "stdout",
     "output_type": "stream",
     "text": [
      "Saving generated images at /raid/home/ashhar21137/watermarking3/stable_signature/ss_paraphrase_0.15/19380\n",
      "Generated Image saved to /raid/home/ashhar21137/watermarking3/stable_signature/ss_paraphrase_0.15/19380/19380_gen_0.png\n",
      "Generated Image saved to /raid/home/ashhar21137/watermarking3/stable_signature/ss_paraphrase_0.15/19380/19380_gen_1.png\n",
      "Generated Image saved to /raid/home/ashhar21137/watermarking3/stable_signature/ss_paraphrase_0.15/19380/19380_gen_2.png\n",
      "Generated Image saved to /raid/home/ashhar21137/watermarking3/stable_signature/ss_paraphrase_0.15/19380/19380_gen_3.png\n",
      "Generated Image saved to /raid/home/ashhar21137/watermarking3/stable_signature/ss_paraphrase_0.15/19380/19380_gen_4.png\n",
      "\n",
      "Number of images generated :  5\n",
      "\n",
      "********** Watermark detection for generated images ***************\n",
      "caption : A bathroom with a yellow sink next to a white bath tub.\n",
      "Watermark Presence Prob.: 0.5208333333333334\n",
      "caption : A bathroom with yellow walls and tile tub\n"
     ]
    },
    {
     "name": "stderr",
     "output_type": "stream",
     "text": [
      " 20%|██        | 40/200 [01:25<05:41,  2.14s/it]"
     ]
    },
    {
     "name": "stdout",
     "output_type": "stream",
     "text": [
      "Watermark Presence Prob.: 0.5625\n",
      "caption : A bathroom double vanity and tub with a chandelier above and intricate tile work.\n",
      "Watermark Presence Prob.: 0.6041666666666666\n",
      "caption : A golden bath area with a chandelier and blue and white bathtub.\n",
      "Watermark Presence Prob.: 0.5625\n",
      "caption : Double sink vanity next to a bathtub with a chandelier in the ceiling.\n",
      "Watermark Presence Prob.: 0.5833333333333334\n",
      "---------- Count = 41 : Visual Paraphrasing for the watermarked version of 44404-------------\n",
      "\n",
      "Image name :  Image_44404.jpg\n",
      "Image id : 44404\n"
     ]
    },
    {
     "data": {
      "application/vnd.jupyter.widget-view+json": {
       "model_id": "1824615be454414190bdaa7e510c9be1",
       "version_major": 2,
       "version_minor": 0
      },
      "text/plain": [
       "  0%|          | 0/5 [00:00<?, ?it/s]"
      ]
     },
     "metadata": {},
     "output_type": "display_data"
    },
    {
     "name": "stdout",
     "output_type": "stream",
     "text": [
      "Saving generated images at /raid/home/ashhar21137/watermarking3/stable_signature/ss_paraphrase_0.15/44404\n",
      "Generated Image saved to /raid/home/ashhar21137/watermarking3/stable_signature/ss_paraphrase_0.15/44404/44404_gen_0.png\n",
      "Generated Image saved to /raid/home/ashhar21137/watermarking3/stable_signature/ss_paraphrase_0.15/44404/44404_gen_1.png\n",
      "Generated Image saved to /raid/home/ashhar21137/watermarking3/stable_signature/ss_paraphrase_0.15/44404/44404_gen_2.png\n",
      "Generated Image saved to /raid/home/ashhar21137/watermarking3/stable_signature/ss_paraphrase_0.15/44404/44404_gen_3.png\n",
      "Generated Image saved to /raid/home/ashhar21137/watermarking3/stable_signature/ss_paraphrase_0.15/44404/44404_gen_4.png\n",
      "\n",
      "Number of images generated :  5\n",
      "\n",
      "********** Watermark detection for generated images ***************\n",
      "caption : A kitchen has wood cabinets, a dishwasher, sink, and refrigerator. \n"
     ]
    },
    {
     "name": "stderr",
     "output_type": "stream",
     "text": [
      " 20%|██        | 41/200 [01:28<05:39,  2.14s/it]"
     ]
    },
    {
     "name": "stdout",
     "output_type": "stream",
     "text": [
      "Watermark Presence Prob.: 0.625\n",
      "caption : The window above the kitchen sink is opened.\n",
      "Watermark Presence Prob.: 0.6041666666666666\n",
      "caption : A kitchen with wood shelves and appliances. \n",
      "Watermark Presence Prob.: 0.625\n",
      "caption : a kitchen that has a stove and a icebox\n",
      "Watermark Presence Prob.: 0.6041666666666666\n",
      "caption : A fridge, microwave and sink in the kitchen\n",
      "Watermark Presence Prob.: 0.6041666666666666\n",
      "---------- Count = 42 : Visual Paraphrasing for the watermarked version of 345781-------------\n",
      "\n",
      "Image name :  Image_345781.jpg\n",
      "Image id : 345781\n"
     ]
    },
    {
     "data": {
      "application/vnd.jupyter.widget-view+json": {
       "model_id": "853fac1d247f410d9ade7715b871777f",
       "version_major": 2,
       "version_minor": 0
      },
      "text/plain": [
       "  0%|          | 0/5 [00:00<?, ?it/s]"
      ]
     },
     "metadata": {},
     "output_type": "display_data"
    },
    {
     "name": "stdout",
     "output_type": "stream",
     "text": [
      "Saving generated images at /raid/home/ashhar21137/watermarking3/stable_signature/ss_paraphrase_0.15/345781\n",
      "Generated Image saved to /raid/home/ashhar21137/watermarking3/stable_signature/ss_paraphrase_0.15/345781/345781_gen_0.png\n",
      "Generated Image saved to /raid/home/ashhar21137/watermarking3/stable_signature/ss_paraphrase_0.15/345781/345781_gen_1.png\n",
      "Generated Image saved to /raid/home/ashhar21137/watermarking3/stable_signature/ss_paraphrase_0.15/345781/345781_gen_2.png\n",
      "Generated Image saved to /raid/home/ashhar21137/watermarking3/stable_signature/ss_paraphrase_0.15/345781/345781_gen_3.png\n",
      "Generated Image saved to /raid/home/ashhar21137/watermarking3/stable_signature/ss_paraphrase_0.15/345781/345781_gen_4.png\n",
      "\n",
      "Number of images generated :  5\n",
      "\n",
      "********** Watermark detection for generated images ***************\n",
      "caption :  A little girl playing with a giraffe with a stick.\n",
      "Watermark Presence Prob.: 0.5625\n",
      "caption : a giraffe is fed sticks by a smal human child\n",
      "Watermark Presence Prob.: 0.6041666666666666\n",
      "caption : A woman feeds a giraffe a piece of straw.\n",
      "Watermark Presence Prob.: 0.5208333333333334\n",
      "caption : A woman holds a stick up to a giraffe's mouth.\n"
     ]
    },
    {
     "name": "stderr",
     "output_type": "stream",
     "text": [
      " 21%|██        | 42/200 [01:30<05:53,  2.24s/it]"
     ]
    },
    {
     "name": "stdout",
     "output_type": "stream",
     "text": [
      "Watermark Presence Prob.: 0.5416666666666666\n",
      "caption : A couple of people who are standing near giraffes.\n",
      "Watermark Presence Prob.: 0.5208333333333334\n",
      "---------- Count = 43 : Visual Paraphrasing for the watermarked version of 405207-------------\n",
      "\n",
      "Image name :  Image_405207.jpg\n",
      "Image id : 405207\n"
     ]
    },
    {
     "data": {
      "application/vnd.jupyter.widget-view+json": {
       "model_id": "f210b9dfdada4c9cbf8f380a6ff390ab",
       "version_major": 2,
       "version_minor": 0
      },
      "text/plain": [
       "  0%|          | 0/5 [00:00<?, ?it/s]"
      ]
     },
     "metadata": {},
     "output_type": "display_data"
    },
    {
     "name": "stdout",
     "output_type": "stream",
     "text": [
      "Saving generated images at /raid/home/ashhar21137/watermarking3/stable_signature/ss_paraphrase_0.15/405207\n",
      "Generated Image saved to /raid/home/ashhar21137/watermarking3/stable_signature/ss_paraphrase_0.15/405207/405207_gen_0.png\n",
      "Generated Image saved to /raid/home/ashhar21137/watermarking3/stable_signature/ss_paraphrase_0.15/405207/405207_gen_1.png\n",
      "Generated Image saved to /raid/home/ashhar21137/watermarking3/stable_signature/ss_paraphrase_0.15/405207/405207_gen_2.png\n",
      "Generated Image saved to /raid/home/ashhar21137/watermarking3/stable_signature/ss_paraphrase_0.15/405207/405207_gen_3.png\n",
      "Generated Image saved to /raid/home/ashhar21137/watermarking3/stable_signature/ss_paraphrase_0.15/405207/405207_gen_4.png\n",
      "\n",
      "Number of images generated :  5\n",
      "\n",
      "********** Watermark detection for generated images ***************\n",
      "caption : A large bottle of wine sitting on a kitchen counter.\n",
      "Watermark Presence Prob.: 0.4583333333333333\n",
      "caption : A closeup of soup bowls, a bottle of wine and other food.\n",
      "Watermark Presence Prob.: 0.625\n",
      "caption : A wine bottle that is three fourths full is sitting on a table.\n"
     ]
    },
    {
     "name": "stderr",
     "output_type": "stream",
     "text": [
      " 22%|██▏       | 43/200 [01:32<05:50,  2.23s/it]"
     ]
    },
    {
     "name": "stdout",
     "output_type": "stream",
     "text": [
      "Watermark Presence Prob.: 0.6041666666666666\n",
      "caption : A corked bottle of wine near stacks of dishes and food.\n",
      "Watermark Presence Prob.: 0.4791666666666667\n",
      "caption : a soup kitchen full of soup bowls and food \n",
      "Watermark Presence Prob.: 0.5625\n",
      "---------- Count = 44 : Visual Paraphrasing for the watermarked version of 153946-------------\n",
      "\n",
      "Image name :  Image_153946.jpg\n",
      "Image id : 153946\n"
     ]
    },
    {
     "data": {
      "application/vnd.jupyter.widget-view+json": {
       "model_id": "3430c3d00e35427a876145ed4071d62a",
       "version_major": 2,
       "version_minor": 0
      },
      "text/plain": [
       "  0%|          | 0/5 [00:00<?, ?it/s]"
      ]
     },
     "metadata": {},
     "output_type": "display_data"
    },
    {
     "name": "stdout",
     "output_type": "stream",
     "text": [
      "Saving generated images at /raid/home/ashhar21137/watermarking3/stable_signature/ss_paraphrase_0.15/153946\n",
      "Generated Image saved to /raid/home/ashhar21137/watermarking3/stable_signature/ss_paraphrase_0.15/153946/153946_gen_0.png\n",
      "Generated Image saved to /raid/home/ashhar21137/watermarking3/stable_signature/ss_paraphrase_0.15/153946/153946_gen_1.png\n",
      "Generated Image saved to /raid/home/ashhar21137/watermarking3/stable_signature/ss_paraphrase_0.15/153946/153946_gen_2.png\n",
      "Generated Image saved to /raid/home/ashhar21137/watermarking3/stable_signature/ss_paraphrase_0.15/153946/153946_gen_3.png\n",
      "Generated Image saved to /raid/home/ashhar21137/watermarking3/stable_signature/ss_paraphrase_0.15/153946/153946_gen_4.png\n",
      "\n",
      "Number of images generated :  5\n",
      "\n",
      "********** Watermark detection for generated images ***************\n",
      "caption : A large bird perched on the back of a wooden bench.\n"
     ]
    },
    {
     "name": "stderr",
     "output_type": "stream",
     "text": [
      " 22%|██▏       | 44/200 [01:34<05:47,  2.23s/it]"
     ]
    },
    {
     "name": "stdout",
     "output_type": "stream",
     "text": [
      "Watermark Presence Prob.: 0.5625\n",
      "caption : A large black crow setting on the back of a park bench.\n",
      "Watermark Presence Prob.: 0.5625\n",
      "caption : two big black birds in a park hanging around a park bench.\n",
      "Watermark Presence Prob.: 0.5625\n",
      "caption : One bird perched on a bench near another bird in a park.\n",
      "Watermark Presence Prob.: 0.5\n",
      "caption : a bird on the back of a bench and a bird in the grass\n",
      "Watermark Presence Prob.: 0.5625\n",
      "---------- Count = 45 : Visual Paraphrasing for the watermarked version of 457732-------------\n",
      "\n",
      "Image name :  Image_457732.jpg\n",
      "Image id : 457732\n"
     ]
    },
    {
     "data": {
      "application/vnd.jupyter.widget-view+json": {
       "model_id": "7edddaf3d7234afaba425f1ead79c2ea",
       "version_major": 2,
       "version_minor": 0
      },
      "text/plain": [
       "  0%|          | 0/5 [00:00<?, ?it/s]"
      ]
     },
     "metadata": {},
     "output_type": "display_data"
    },
    {
     "name": "stdout",
     "output_type": "stream",
     "text": [
      "Saving generated images at /raid/home/ashhar21137/watermarking3/stable_signature/ss_paraphrase_0.15/457732\n",
      "Generated Image saved to /raid/home/ashhar21137/watermarking3/stable_signature/ss_paraphrase_0.15/457732/457732_gen_0.png\n",
      "Generated Image saved to /raid/home/ashhar21137/watermarking3/stable_signature/ss_paraphrase_0.15/457732/457732_gen_1.png\n",
      "Generated Image saved to /raid/home/ashhar21137/watermarking3/stable_signature/ss_paraphrase_0.15/457732/457732_gen_2.png\n",
      "Generated Image saved to /raid/home/ashhar21137/watermarking3/stable_signature/ss_paraphrase_0.15/457732/457732_gen_3.png\n",
      "Generated Image saved to /raid/home/ashhar21137/watermarking3/stable_signature/ss_paraphrase_0.15/457732/457732_gen_4.png\n",
      "\n",
      "Number of images generated :  5\n",
      "\n",
      "********** Watermark detection for generated images ***************\n",
      "caption : a kitchen with a table and some chairs \n",
      "Watermark Presence Prob.: 0.5208333333333334\n",
      "caption : A dark kitchen with several tables and chairs.\n",
      "Watermark Presence Prob.: 0.5208333333333334\n",
      "caption : The room has table, chairs, counters and shelves.\n",
      "Watermark Presence Prob.: 0.4791666666666667\n",
      "caption : a room filled with wooden table and chairs\n"
     ]
    },
    {
     "name": "stderr",
     "output_type": "stream",
     "text": [
      " 22%|██▎       | 45/200 [01:37<05:48,  2.25s/it]"
     ]
    },
    {
     "name": "stdout",
     "output_type": "stream",
     "text": [
      "Watermark Presence Prob.: 0.4583333333333333\n",
      "caption : a big kitchen filled with some tables and shelves \n",
      "Watermark Presence Prob.: 0.4375\n",
      "---------- Count = 46 : Visual Paraphrasing for the watermarked version of 153674-------------\n",
      "\n",
      "Image name :  Image_153674.jpg\n",
      "Image id : 153674\n"
     ]
    },
    {
     "data": {
      "application/vnd.jupyter.widget-view+json": {
       "model_id": "3a057859ddef4adc85edf9ec7a6422c8",
       "version_major": 2,
       "version_minor": 0
      },
      "text/plain": [
       "  0%|          | 0/5 [00:00<?, ?it/s]"
      ]
     },
     "metadata": {},
     "output_type": "display_data"
    },
    {
     "name": "stdout",
     "output_type": "stream",
     "text": [
      "Saving generated images at /raid/home/ashhar21137/watermarking3/stable_signature/ss_paraphrase_0.15/153674\n",
      "Generated Image saved to /raid/home/ashhar21137/watermarking3/stable_signature/ss_paraphrase_0.15/153674/153674_gen_0.png\n",
      "Generated Image saved to /raid/home/ashhar21137/watermarking3/stable_signature/ss_paraphrase_0.15/153674/153674_gen_1.png\n",
      "Generated Image saved to /raid/home/ashhar21137/watermarking3/stable_signature/ss_paraphrase_0.15/153674/153674_gen_2.png\n",
      "Generated Image saved to /raid/home/ashhar21137/watermarking3/stable_signature/ss_paraphrase_0.15/153674/153674_gen_3.png\n",
      "Generated Image saved to /raid/home/ashhar21137/watermarking3/stable_signature/ss_paraphrase_0.15/153674/153674_gen_4.png\n",
      "\n",
      "Number of images generated :  5\n",
      "\n",
      "********** Watermark detection for generated images ***************\n",
      "caption : A bathroom sink with the faucet on the side\n",
      "Watermark Presence Prob.: 0.5\n",
      "caption : A small porcelain sink is reflected in a bathroom mirror.\n",
      "Watermark Presence Prob.: 0.5\n",
      "caption : A small rectangular sink with a single chrome faucet.\n",
      "Watermark Presence Prob.: 0.5\n",
      "caption : Two sinks that are set right next to each other.\n"
     ]
    },
    {
     "name": "stderr",
     "output_type": "stream",
     "text": [
      " 23%|██▎       | 46/200 [01:39<05:51,  2.28s/it]"
     ]
    },
    {
     "name": "stdout",
     "output_type": "stream",
     "text": [
      "Watermark Presence Prob.: 0.5208333333333334\n",
      "caption : a small sink with a small bottle of soap \n",
      "Watermark Presence Prob.: 0.5208333333333334\n",
      "---------- Count = 47 : Visual Paraphrasing for the watermarked version of 472925-------------\n",
      "\n",
      "Image name :  Image_472925.jpg\n",
      "Image id : 472925\n"
     ]
    },
    {
     "data": {
      "application/vnd.jupyter.widget-view+json": {
       "model_id": "e9bc4fcedf534152adc0f46fb9ae2a67",
       "version_major": 2,
       "version_minor": 0
      },
      "text/plain": [
       "  0%|          | 0/5 [00:00<?, ?it/s]"
      ]
     },
     "metadata": {},
     "output_type": "display_data"
    },
    {
     "name": "stdout",
     "output_type": "stream",
     "text": [
      "Saving generated images at /raid/home/ashhar21137/watermarking3/stable_signature/ss_paraphrase_0.15/472925\n",
      "Generated Image saved to /raid/home/ashhar21137/watermarking3/stable_signature/ss_paraphrase_0.15/472925/472925_gen_0.png\n",
      "Generated Image saved to /raid/home/ashhar21137/watermarking3/stable_signature/ss_paraphrase_0.15/472925/472925_gen_1.png\n",
      "Generated Image saved to /raid/home/ashhar21137/watermarking3/stable_signature/ss_paraphrase_0.15/472925/472925_gen_2.png\n",
      "Generated Image saved to /raid/home/ashhar21137/watermarking3/stable_signature/ss_paraphrase_0.15/472925/472925_gen_3.png\n",
      "Generated Image saved to /raid/home/ashhar21137/watermarking3/stable_signature/ss_paraphrase_0.15/472925/472925_gen_4.png\n",
      "\n",
      "Number of images generated :  5\n",
      "\n",
      "********** Watermark detection for generated images ***************\n",
      "caption : A stove top with pots and pans in a kitchen.\n",
      "Watermark Presence Prob.: 0.5833333333333334\n",
      "caption : There is a pot and a skillet on the stove.\n"
     ]
    },
    {
     "name": "stderr",
     "output_type": "stream",
     "text": [
      " 24%|██▎       | 47/200 [01:41<05:30,  2.16s/it]"
     ]
    },
    {
     "name": "stdout",
     "output_type": "stream",
     "text": [
      "Watermark Presence Prob.: 0.5625\n",
      "caption : A stove that has several pots and pans on it.\n",
      "Watermark Presence Prob.: 0.5833333333333334\n",
      "caption : Food cooking in a pot on the stove with dirty dishes on the counter. \n",
      "Watermark Presence Prob.: 0.5625\n",
      "caption : A full view of a kitchen with pans and plates all over. \n",
      "Watermark Presence Prob.: 0.5625\n",
      "---------- Count = 48 : Visual Paraphrasing for the watermarked version of 388754-------------\n",
      "\n",
      "Image name :  Image_388754.jpg\n",
      "Image id : 388754\n"
     ]
    },
    {
     "data": {
      "application/vnd.jupyter.widget-view+json": {
       "model_id": "361b576359ce420ab2ef1b86ec0be512",
       "version_major": 2,
       "version_minor": 0
      },
      "text/plain": [
       "  0%|          | 0/5 [00:00<?, ?it/s]"
      ]
     },
     "metadata": {},
     "output_type": "display_data"
    },
    {
     "name": "stdout",
     "output_type": "stream",
     "text": [
      "Saving generated images at /raid/home/ashhar21137/watermarking3/stable_signature/ss_paraphrase_0.15/388754\n",
      "Generated Image saved to /raid/home/ashhar21137/watermarking3/stable_signature/ss_paraphrase_0.15/388754/388754_gen_0.png\n",
      "Generated Image saved to /raid/home/ashhar21137/watermarking3/stable_signature/ss_paraphrase_0.15/388754/388754_gen_1.png\n",
      "Generated Image saved to /raid/home/ashhar21137/watermarking3/stable_signature/ss_paraphrase_0.15/388754/388754_gen_2.png\n",
      "Generated Image saved to /raid/home/ashhar21137/watermarking3/stable_signature/ss_paraphrase_0.15/388754/388754_gen_3.png\n",
      "Generated Image saved to /raid/home/ashhar21137/watermarking3/stable_signature/ss_paraphrase_0.15/388754/388754_gen_4.png\n",
      "\n",
      "Number of images generated :  5\n",
      "\n",
      "********** Watermark detection for generated images ***************\n",
      "caption : Two sheep with ear tags standing in a grass field.\n",
      "Watermark Presence Prob.: 0.5625\n",
      "caption : Two sheep on top of a hill grazing.\n"
     ]
    },
    {
     "name": "stderr",
     "output_type": "stream",
     "text": [
      " 24%|██▍       | 48/200 [01:43<05:22,  2.12s/it]"
     ]
    },
    {
     "name": "stdout",
     "output_type": "stream",
     "text": [
      "Watermark Presence Prob.: 0.5208333333333334\n",
      "caption : two sheep standing in a field of tall grass\n",
      "Watermark Presence Prob.: 0.5625\n",
      "caption : Two sheep standing on top of a grass covered hill.\n",
      "Watermark Presence Prob.: 0.5833333333333334\n",
      "caption : Two medium sized sheepskin standing on grass land.\n",
      "Watermark Presence Prob.: 0.6458333333333334\n",
      "---------- Count = 49 : Visual Paraphrasing for the watermarked version of 170850-------------\n",
      "\n",
      "Image name :  Image_170850.jpg\n",
      "Image id : 170850\n"
     ]
    },
    {
     "data": {
      "application/vnd.jupyter.widget-view+json": {
       "model_id": "a2c13569605e42c4b9e5658988009d1d",
       "version_major": 2,
       "version_minor": 0
      },
      "text/plain": [
       "  0%|          | 0/5 [00:00<?, ?it/s]"
      ]
     },
     "metadata": {},
     "output_type": "display_data"
    },
    {
     "name": "stdout",
     "output_type": "stream",
     "text": [
      "Saving generated images at /raid/home/ashhar21137/watermarking3/stable_signature/ss_paraphrase_0.15/170850\n",
      "Generated Image saved to /raid/home/ashhar21137/watermarking3/stable_signature/ss_paraphrase_0.15/170850/170850_gen_0.png\n",
      "Generated Image saved to /raid/home/ashhar21137/watermarking3/stable_signature/ss_paraphrase_0.15/170850/170850_gen_1.png\n",
      "Generated Image saved to /raid/home/ashhar21137/watermarking3/stable_signature/ss_paraphrase_0.15/170850/170850_gen_2.png\n",
      "Generated Image saved to /raid/home/ashhar21137/watermarking3/stable_signature/ss_paraphrase_0.15/170850/170850_gen_3.png\n",
      "Generated Image saved to /raid/home/ashhar21137/watermarking3/stable_signature/ss_paraphrase_0.15/170850/170850_gen_4.png\n",
      "\n",
      "Number of images generated :  5\n",
      "\n",
      "********** Watermark detection for generated images ***************\n",
      "caption : A giraffe that is squatting in an open, green field.\n",
      "Watermark Presence Prob.: 0.5416666666666666\n",
      "caption : A giraffe is eating grass in an open field. \n"
     ]
    },
    {
     "name": "stderr",
     "output_type": "stream",
     "text": [
      " 24%|██▍       | 49/200 [01:45<05:08,  2.05s/it]"
     ]
    },
    {
     "name": "stdout",
     "output_type": "stream",
     "text": [
      "Watermark Presence Prob.: 0.5833333333333334\n",
      "caption : A giraffe grazing on a field with green vegetation\n",
      "Watermark Presence Prob.: 0.5625\n",
      "caption : A giraffe standing in the middle of a open grass field.\n",
      "Watermark Presence Prob.: 0.5833333333333334\n",
      "caption : A giraffe standing in the middle of a lush green field.\n",
      "Watermark Presence Prob.: 0.5625\n",
      "---------- Count = 50 : Visual Paraphrasing for the watermarked version of 384029-------------\n",
      "\n",
      "Image name :  Image_384029.jpg\n",
      "Image id : 384029\n"
     ]
    },
    {
     "data": {
      "application/vnd.jupyter.widget-view+json": {
       "model_id": "5dcaa7ec950a44e6a57e0eb86358b0a2",
       "version_major": 2,
       "version_minor": 0
      },
      "text/plain": [
       "  0%|          | 0/5 [00:00<?, ?it/s]"
      ]
     },
     "metadata": {},
     "output_type": "display_data"
    },
    {
     "name": "stdout",
     "output_type": "stream",
     "text": [
      "Saving generated images at /raid/home/ashhar21137/watermarking3/stable_signature/ss_paraphrase_0.15/384029\n",
      "Generated Image saved to /raid/home/ashhar21137/watermarking3/stable_signature/ss_paraphrase_0.15/384029/384029_gen_0.png\n",
      "Generated Image saved to /raid/home/ashhar21137/watermarking3/stable_signature/ss_paraphrase_0.15/384029/384029_gen_1.png\n",
      "Generated Image saved to /raid/home/ashhar21137/watermarking3/stable_signature/ss_paraphrase_0.15/384029/384029_gen_2.png\n"
     ]
    },
    {
     "name": "stderr",
     "output_type": "stream",
     "text": [
      " 25%|██▌       | 50/200 [01:47<05:03,  2.02s/it]"
     ]
    },
    {
     "name": "stdout",
     "output_type": "stream",
     "text": [
      "Generated Image saved to /raid/home/ashhar21137/watermarking3/stable_signature/ss_paraphrase_0.15/384029/384029_gen_3.png\n",
      "Generated Image saved to /raid/home/ashhar21137/watermarking3/stable_signature/ss_paraphrase_0.15/384029/384029_gen_4.png\n",
      "\n",
      "Number of images generated :  5\n",
      "\n",
      "********** Watermark detection for generated images ***************\n",
      "caption : A man preparing desserts in a kitchen covered in frosting.\n",
      "Watermark Presence Prob.: 0.6041666666666666\n",
      "caption : A chef is preparing and decorating many small pastries.\n",
      "Watermark Presence Prob.: 0.5833333333333334\n",
      "caption : A baker prepares various types of baked goods.\n",
      "Watermark Presence Prob.: 0.5625\n",
      "caption : a close up of a person grabbing a pastry in a container\n",
      "Watermark Presence Prob.: 0.5833333333333334\n",
      "caption : Close up of a hand touching various pastries.\n",
      "Watermark Presence Prob.: 0.625\n",
      "---------- Count = 51 : Visual Paraphrasing for the watermarked version of 62604-------------\n",
      "\n",
      "Image name :  Image_62604.jpg\n",
      "Image id : 62604\n"
     ]
    },
    {
     "data": {
      "application/vnd.jupyter.widget-view+json": {
       "model_id": "46eab4e7a4034226a4eed904c4ab97df",
       "version_major": 2,
       "version_minor": 0
      },
      "text/plain": [
       "  0%|          | 0/5 [00:00<?, ?it/s]"
      ]
     },
     "metadata": {},
     "output_type": "display_data"
    },
    {
     "name": "stdout",
     "output_type": "stream",
     "text": [
      "Saving generated images at /raid/home/ashhar21137/watermarking3/stable_signature/ss_paraphrase_0.15/62604\n",
      "Generated Image saved to /raid/home/ashhar21137/watermarking3/stable_signature/ss_paraphrase_0.15/62604/62604_gen_0.png\n",
      "Generated Image saved to /raid/home/ashhar21137/watermarking3/stable_signature/ss_paraphrase_0.15/62604/62604_gen_1.png\n",
      "Generated Image saved to /raid/home/ashhar21137/watermarking3/stable_signature/ss_paraphrase_0.15/62604/62604_gen_2.png\n",
      "Generated Image saved to /raid/home/ashhar21137/watermarking3/stable_signature/ss_paraphrase_0.15/62604/62604_gen_3.png\n",
      "Generated Image saved to /raid/home/ashhar21137/watermarking3/stable_signature/ss_paraphrase_0.15/62604/62604_gen_4.png\n",
      "\n",
      "Number of images generated :  5\n",
      "\n",
      "********** Watermark detection for generated images ***************\n",
      "caption : A walkway between rows of pews in a large church.\n",
      "Watermark Presence Prob.: 0.5208333333333334\n",
      "caption : An interior view of a cathedral with stained glass windows.\n",
      "Watermark Presence Prob.: 0.5\n",
      "caption : A large cathedral filled with lots of pews.\n",
      "Watermark Presence Prob.: 0.5416666666666666\n",
      "caption : A cathedral with wooden pews and lighting throughout.\n"
     ]
    },
    {
     "name": "stderr",
     "output_type": "stream",
     "text": [
      " 26%|██▌       | 51/200 [01:49<05:00,  2.02s/it]"
     ]
    },
    {
     "name": "stdout",
     "output_type": "stream",
     "text": [
      "Watermark Presence Prob.: 0.5625\n",
      "caption : A big church cathedral with stained glass windows\n",
      "Watermark Presence Prob.: 0.5208333333333334\n",
      "---------- Count = 52 : Visual Paraphrasing for the watermarked version of 570608-------------\n",
      "\n",
      "Image name :  Image_570608.jpg\n",
      "Image id : 570608\n"
     ]
    },
    {
     "data": {
      "application/vnd.jupyter.widget-view+json": {
       "model_id": "afc6d29ce6474d39b133121690d2b9a3",
       "version_major": 2,
       "version_minor": 0
      },
      "text/plain": [
       "  0%|          | 0/5 [00:00<?, ?it/s]"
      ]
     },
     "metadata": {},
     "output_type": "display_data"
    },
    {
     "name": "stdout",
     "output_type": "stream",
     "text": [
      "Saving generated images at /raid/home/ashhar21137/watermarking3/stable_signature/ss_paraphrase_0.15/570608\n",
      "Generated Image saved to /raid/home/ashhar21137/watermarking3/stable_signature/ss_paraphrase_0.15/570608/570608_gen_0.png\n",
      "Generated Image saved to /raid/home/ashhar21137/watermarking3/stable_signature/ss_paraphrase_0.15/570608/570608_gen_1.png\n",
      "Generated Image saved to /raid/home/ashhar21137/watermarking3/stable_signature/ss_paraphrase_0.15/570608/570608_gen_2.png\n",
      "Generated Image saved to /raid/home/ashhar21137/watermarking3/stable_signature/ss_paraphrase_0.15/570608/570608_gen_3.png\n",
      "Generated Image saved to /raid/home/ashhar21137/watermarking3/stable_signature/ss_paraphrase_0.15/570608/570608_gen_4.png\n",
      "\n",
      "Number of images generated :  5\n",
      "\n",
      "********** Watermark detection for generated images ***************\n",
      "caption : a kitchen that has a microwave and some cabinets in it\n",
      "Watermark Presence Prob.: 0.5208333333333334\n",
      "caption : a modern looking kitchen with steel countertops and utensils\n",
      "Watermark Presence Prob.: 0.5416666666666666\n",
      "caption : The kitchen is full of stainless steel appliances.\n",
      "Watermark Presence Prob.: 0.5625\n",
      "caption : a kitchen wit ha coffee make in the corner \n"
     ]
    },
    {
     "name": "stderr",
     "output_type": "stream",
     "text": [
      " 26%|██▌       | 52/200 [01:51<05:17,  2.14s/it]"
     ]
    },
    {
     "name": "stdout",
     "output_type": "stream",
     "text": [
      "Watermark Presence Prob.: 0.5833333333333334\n",
      "caption : A stainless steel kitchen countertop with appliances and utensils.\n",
      "Watermark Presence Prob.: 0.5416666666666666\n",
      "---------- Count = 53 : Visual Paraphrasing for the watermarked version of 317237-------------\n",
      "\n",
      "Image name :  Image_317237.jpg\n",
      "Image id : 317237\n"
     ]
    },
    {
     "data": {
      "application/vnd.jupyter.widget-view+json": {
       "model_id": "a93c8214a5b84cf89a32bfd900800189",
       "version_major": 2,
       "version_minor": 0
      },
      "text/plain": [
       "  0%|          | 0/5 [00:00<?, ?it/s]"
      ]
     },
     "metadata": {},
     "output_type": "display_data"
    },
    {
     "name": "stdout",
     "output_type": "stream",
     "text": [
      "Saving generated images at /raid/home/ashhar21137/watermarking3/stable_signature/ss_paraphrase_0.15/317237\n",
      "Generated Image saved to /raid/home/ashhar21137/watermarking3/stable_signature/ss_paraphrase_0.15/317237/317237_gen_0.png\n",
      "Generated Image saved to /raid/home/ashhar21137/watermarking3/stable_signature/ss_paraphrase_0.15/317237/317237_gen_1.png\n",
      "Generated Image saved to /raid/home/ashhar21137/watermarking3/stable_signature/ss_paraphrase_0.15/317237/317237_gen_2.png\n",
      "Generated Image saved to /raid/home/ashhar21137/watermarking3/stable_signature/ss_paraphrase_0.15/317237/317237_gen_3.png\n",
      "Generated Image saved to /raid/home/ashhar21137/watermarking3/stable_signature/ss_paraphrase_0.15/317237/317237_gen_4.png\n",
      "\n",
      "Number of images generated :  5\n",
      "\n",
      "********** Watermark detection for generated images ***************\n",
      "caption : A small child eating noodles from a bowl in a kitchen \n"
     ]
    },
    {
     "name": "stderr",
     "output_type": "stream",
     "text": [
      " 26%|██▋       | 53/200 [01:54<05:18,  2.16s/it]"
     ]
    },
    {
     "name": "stdout",
     "output_type": "stream",
     "text": [
      "Watermark Presence Prob.: 0.6041666666666666\n",
      "caption : An Asian baby feeding himself noodles from a bowl.\n",
      "Watermark Presence Prob.: 0.5416666666666666\n",
      "caption : a kid using a spoon eating from a plate\n",
      "Watermark Presence Prob.: 0.5625\n",
      "caption : A little boy that has a spoon with food on it.\n",
      "Watermark Presence Prob.: 0.5416666666666666\n",
      "caption : An asian child is eating noodles with a fork with help using his own hands in the kitchen.\n",
      "Watermark Presence Prob.: 0.5416666666666666\n",
      "---------- Count = 54 : Visual Paraphrasing for the watermarked version of 299411-------------\n",
      "\n",
      "Image name :  Image_299411.jpg\n",
      "Image id : 299411\n"
     ]
    },
    {
     "data": {
      "application/vnd.jupyter.widget-view+json": {
       "model_id": "39866b394a5b4e49a0453babb1bcac94",
       "version_major": 2,
       "version_minor": 0
      },
      "text/plain": [
       "  0%|          | 0/5 [00:00<?, ?it/s]"
      ]
     },
     "metadata": {},
     "output_type": "display_data"
    },
    {
     "name": "stdout",
     "output_type": "stream",
     "text": [
      "Saving generated images at /raid/home/ashhar21137/watermarking3/stable_signature/ss_paraphrase_0.15/299411\n",
      "Generated Image saved to /raid/home/ashhar21137/watermarking3/stable_signature/ss_paraphrase_0.15/299411/299411_gen_0.png\n",
      "Generated Image saved to /raid/home/ashhar21137/watermarking3/stable_signature/ss_paraphrase_0.15/299411/299411_gen_1.png\n",
      "Generated Image saved to /raid/home/ashhar21137/watermarking3/stable_signature/ss_paraphrase_0.15/299411/299411_gen_2.png\n",
      "Generated Image saved to /raid/home/ashhar21137/watermarking3/stable_signature/ss_paraphrase_0.15/299411/299411_gen_3.png\n",
      "Generated Image saved to /raid/home/ashhar21137/watermarking3/stable_signature/ss_paraphrase_0.15/299411/299411_gen_4.png\n",
      "\n",
      "Number of images generated :  5\n",
      "\n",
      "********** Watermark detection for generated images ***************\n",
      "caption : a bathroom that has a sink and a toilet in it\n",
      "Watermark Presence Prob.: 0.5625\n",
      "caption : The bathroom has red carpet and yellowish appliances.\n",
      "Watermark Presence Prob.: 0.5625\n",
      "caption : A bathroom sketch including a red carpet and pink towels and rug.\n"
     ]
    },
    {
     "name": "stderr",
     "output_type": "stream",
     "text": [
      " 27%|██▋       | 54/200 [01:56<05:21,  2.20s/it]"
     ]
    },
    {
     "name": "stdout",
     "output_type": "stream",
     "text": [
      "Watermark Presence Prob.: 0.5625\n",
      "caption : a painting or drawing of a bathroom with red flooring\n",
      "Watermark Presence Prob.: 0.6041666666666666\n",
      "caption : An old bathroom with yellow colored toilet, sink and bath tub.\n",
      "Watermark Presence Prob.: 0.5833333333333334\n",
      "---------- Count = 55 : Visual Paraphrasing for the watermarked version of 109424-------------\n",
      "\n",
      "Image name :  Image_109424.jpg\n",
      "Image id : 109424\n"
     ]
    },
    {
     "data": {
      "application/vnd.jupyter.widget-view+json": {
       "model_id": "4b48c4783bd94a85b1621f949001e0a4",
       "version_major": 2,
       "version_minor": 0
      },
      "text/plain": [
       "  0%|          | 0/5 [00:00<?, ?it/s]"
      ]
     },
     "metadata": {},
     "output_type": "display_data"
    },
    {
     "name": "stdout",
     "output_type": "stream",
     "text": [
      "Saving generated images at /raid/home/ashhar21137/watermarking3/stable_signature/ss_paraphrase_0.15/109424\n",
      "Generated Image saved to /raid/home/ashhar21137/watermarking3/stable_signature/ss_paraphrase_0.15/109424/109424_gen_0.png\n",
      "Generated Image saved to /raid/home/ashhar21137/watermarking3/stable_signature/ss_paraphrase_0.15/109424/109424_gen_1.png\n",
      "Generated Image saved to /raid/home/ashhar21137/watermarking3/stable_signature/ss_paraphrase_0.15/109424/109424_gen_2.png\n",
      "Generated Image saved to /raid/home/ashhar21137/watermarking3/stable_signature/ss_paraphrase_0.15/109424/109424_gen_3.png\n",
      "Generated Image saved to /raid/home/ashhar21137/watermarking3/stable_signature/ss_paraphrase_0.15/109424/109424_gen_4.png\n",
      "\n",
      "Number of images generated :  5\n",
      "\n",
      "********** Watermark detection for generated images ***************\n",
      "caption : Two giraffe running on top of a grass covered field.\n",
      "Watermark Presence Prob.: 0.5\n",
      "caption : Two giraffes walking up a grassy and rocky hill. \n",
      "Watermark Presence Prob.: 0.4791666666666667\n",
      "caption : Two giraffes standing on grass near a rock pile.\n",
      "Watermark Presence Prob.: 0.4166666666666667\n",
      "caption : Two giraffes are seen standing next to one another\n"
     ]
    },
    {
     "name": "stderr",
     "output_type": "stream",
     "text": [
      " 28%|██▊       | 55/200 [01:58<05:22,  2.22s/it]"
     ]
    },
    {
     "name": "stdout",
     "output_type": "stream",
     "text": [
      "Watermark Presence Prob.: 0.4166666666666667\n",
      "caption : Two giffaras walking in a hilly field that has a rock pile.\n",
      "Watermark Presence Prob.: 0.375\n",
      "---------- Count = 56 : Visual Paraphrasing for the watermarked version of 581674-------------\n",
      "\n",
      "Image name :  Image_581674.jpg\n",
      "Image id : 581674\n"
     ]
    },
    {
     "data": {
      "application/vnd.jupyter.widget-view+json": {
       "model_id": "910ad4c8868a4e92b526ab2f6bb04fd6",
       "version_major": 2,
       "version_minor": 0
      },
      "text/plain": [
       "  0%|          | 0/5 [00:00<?, ?it/s]"
      ]
     },
     "metadata": {},
     "output_type": "display_data"
    },
    {
     "name": "stdout",
     "output_type": "stream",
     "text": [
      "Saving generated images at /raid/home/ashhar21137/watermarking3/stable_signature/ss_paraphrase_0.15/581674\n",
      "Generated Image saved to /raid/home/ashhar21137/watermarking3/stable_signature/ss_paraphrase_0.15/581674/581674_gen_0.png\n",
      "Generated Image saved to /raid/home/ashhar21137/watermarking3/stable_signature/ss_paraphrase_0.15/581674/581674_gen_1.png\n",
      "Generated Image saved to /raid/home/ashhar21137/watermarking3/stable_signature/ss_paraphrase_0.15/581674/581674_gen_2.png\n",
      "Generated Image saved to /raid/home/ashhar21137/watermarking3/stable_signature/ss_paraphrase_0.15/581674/581674_gen_3.png\n",
      "Generated Image saved to /raid/home/ashhar21137/watermarking3/stable_signature/ss_paraphrase_0.15/581674/581674_gen_4.png\n",
      "\n",
      "Number of images generated :  5\n",
      "\n",
      "********** Watermark detection for generated images ***************\n",
      "caption : Several kitchen workers making dishes in commercial kitchen.\n",
      "Watermark Presence Prob.: 0.4583333333333333\n",
      "caption : A couple of men in a small kitchen.\n",
      "Watermark Presence Prob.: 0.4375\n",
      "caption : a bunch of people cooking inside of a kitchen\n",
      "Watermark Presence Prob.: 0.4583333333333333\n",
      "caption : The chefs are preparing for the upcoming dinner service.\n"
     ]
    },
    {
     "name": "stderr",
     "output_type": "stream",
     "text": [
      " 28%|██▊       | 56/200 [02:00<05:24,  2.25s/it]"
     ]
    },
    {
     "name": "stdout",
     "output_type": "stream",
     "text": [
      "Watermark Presence Prob.: 0.4375\n",
      "caption : A team of chefs working in a commercial kitchen.\n",
      "Watermark Presence Prob.: 0.5416666666666666\n",
      "---------- Count = 57 : Visual Paraphrasing for the watermarked version of 239811-------------\n",
      "\n",
      "Image name :  Image_239811.jpg\n",
      "Image id : 239811\n"
     ]
    },
    {
     "data": {
      "application/vnd.jupyter.widget-view+json": {
       "model_id": "4ac092a9802945be93402b0b98ba2c82",
       "version_major": 2,
       "version_minor": 0
      },
      "text/plain": [
       "  0%|          | 0/5 [00:00<?, ?it/s]"
      ]
     },
     "metadata": {},
     "output_type": "display_data"
    },
    {
     "name": "stdout",
     "output_type": "stream",
     "text": [
      "Saving generated images at /raid/home/ashhar21137/watermarking3/stable_signature/ss_paraphrase_0.15/239811\n",
      "Generated Image saved to /raid/home/ashhar21137/watermarking3/stable_signature/ss_paraphrase_0.15/239811/239811_gen_0.png\n",
      "Generated Image saved to /raid/home/ashhar21137/watermarking3/stable_signature/ss_paraphrase_0.15/239811/239811_gen_1.png\n",
      "Generated Image saved to /raid/home/ashhar21137/watermarking3/stable_signature/ss_paraphrase_0.15/239811/239811_gen_2.png\n",
      "Generated Image saved to /raid/home/ashhar21137/watermarking3/stable_signature/ss_paraphrase_0.15/239811/239811_gen_3.png\n",
      "Generated Image saved to /raid/home/ashhar21137/watermarking3/stable_signature/ss_paraphrase_0.15/239811/239811_gen_4.png\n",
      "\n",
      "Number of images generated :  5\n",
      "\n",
      "********** Watermark detection for generated images ***************\n",
      "caption : A solid white bicycle is parked next to statues on a sidewalk.\n",
      "Watermark Presence Prob.: 0.5208333333333334\n",
      "caption : A white bicycle leans against a post on the sidewalk.\n",
      "Watermark Presence Prob.: 0.4791666666666667\n",
      "caption : A white bike parked next to a  couple of statues.\n",
      "Watermark Presence Prob.: 0.5\n",
      "caption : Bike monument in a city atmosphere with people walking and relaxing nearby.\n"
     ]
    },
    {
     "name": "stderr",
     "output_type": "stream",
     "text": [
      " 28%|██▊       | 57/200 [02:03<05:30,  2.31s/it]"
     ]
    },
    {
     "name": "stdout",
     "output_type": "stream",
     "text": [
      "Watermark Presence Prob.: 0.4583333333333333\n",
      "caption : A white bicycle anchored between the parking posts.\n",
      "Watermark Presence Prob.: 0.4791666666666667\n",
      "---------- Count = 58 : Visual Paraphrasing for the watermarked version of 318189-------------\n",
      "\n",
      "Image name :  Image_318189.jpg\n",
      "Image id : 318189\n"
     ]
    },
    {
     "data": {
      "application/vnd.jupyter.widget-view+json": {
       "model_id": "2a8ed3271a624e0e9e24df0c68900b6e",
       "version_major": 2,
       "version_minor": 0
      },
      "text/plain": [
       "  0%|          | 0/5 [00:00<?, ?it/s]"
      ]
     },
     "metadata": {},
     "output_type": "display_data"
    },
    {
     "name": "stdout",
     "output_type": "stream",
     "text": [
      "Saving generated images at /raid/home/ashhar21137/watermarking3/stable_signature/ss_paraphrase_0.15/318189\n",
      "Generated Image saved to /raid/home/ashhar21137/watermarking3/stable_signature/ss_paraphrase_0.15/318189/318189_gen_0.png\n",
      "Generated Image saved to /raid/home/ashhar21137/watermarking3/stable_signature/ss_paraphrase_0.15/318189/318189_gen_1.png\n",
      "Generated Image saved to /raid/home/ashhar21137/watermarking3/stable_signature/ss_paraphrase_0.15/318189/318189_gen_2.png\n",
      "Generated Image saved to /raid/home/ashhar21137/watermarking3/stable_signature/ss_paraphrase_0.15/318189/318189_gen_3.png\n",
      "Generated Image saved to /raid/home/ashhar21137/watermarking3/stable_signature/ss_paraphrase_0.15/318189/318189_gen_4.png\n",
      "\n",
      "Number of images generated :  5\n",
      "\n",
      "********** Watermark detection for generated images ***************\n",
      "caption : An old red and yellow car with a yellow surfboard on top.\n",
      "Watermark Presence Prob.: 0.5\n",
      "caption : an older car on a street with a surf board\n"
     ]
    },
    {
     "name": "stderr",
     "output_type": "stream",
     "text": [
      " 29%|██▉       | 58/200 [02:05<05:12,  2.20s/it]"
     ]
    },
    {
     "name": "stdout",
     "output_type": "stream",
     "text": [
      "Watermark Presence Prob.: 0.5625\n",
      "caption : A classic woody station wagon with a yellow surfboard strapped on top.\n",
      "Watermark Presence Prob.: 0.5208333333333334\n",
      "caption : a colorful station wagon sitting on the side of the road with a surfboard on top \n",
      "Watermark Presence Prob.: 0.5416666666666666\n",
      "caption : A bright station wagon with a surfboard on the roof\n",
      "Watermark Presence Prob.: 0.5208333333333334\n",
      "---------- Count = 59 : Visual Paraphrasing for the watermarked version of 278347-------------\n",
      "\n",
      "Image name :  Image_278347.jpg\n",
      "Image id : 278347\n"
     ]
    },
    {
     "data": {
      "application/vnd.jupyter.widget-view+json": {
       "model_id": "a85ba10e5f6e4ece9a6d820a628a2372",
       "version_major": 2,
       "version_minor": 0
      },
      "text/plain": [
       "  0%|          | 0/5 [00:00<?, ?it/s]"
      ]
     },
     "metadata": {},
     "output_type": "display_data"
    },
    {
     "name": "stdout",
     "output_type": "stream",
     "text": [
      "Saving generated images at /raid/home/ashhar21137/watermarking3/stable_signature/ss_paraphrase_0.15/278347\n",
      "Generated Image saved to /raid/home/ashhar21137/watermarking3/stable_signature/ss_paraphrase_0.15/278347/278347_gen_0.png\n",
      "Generated Image saved to /raid/home/ashhar21137/watermarking3/stable_signature/ss_paraphrase_0.15/278347/278347_gen_1.png\n",
      "Generated Image saved to /raid/home/ashhar21137/watermarking3/stable_signature/ss_paraphrase_0.15/278347/278347_gen_2.png\n",
      "Generated Image saved to /raid/home/ashhar21137/watermarking3/stable_signature/ss_paraphrase_0.15/278347/278347_gen_3.png\n",
      "Generated Image saved to /raid/home/ashhar21137/watermarking3/stable_signature/ss_paraphrase_0.15/278347/278347_gen_4.png\n",
      "\n",
      "Number of images generated :  5\n",
      "\n",
      "********** Watermark detection for generated images ***************\n",
      "caption : A group of people looking at an old motorcycle.\n",
      "Watermark Presence Prob.: 0.4583333333333333\n",
      "caption : A parked motor bike on the side of the street.\n",
      "Watermark Presence Prob.: 0.4583333333333333\n",
      "caption : An antique bmw motorcycle with a leather satchel on display at an event.\n",
      "Watermark Presence Prob.: 0.4375\n",
      "caption : Vintage beige BMW motorcycle on display at a function.\n",
      "Watermark Presence Prob.: 0.4583333333333333\n",
      "caption : A motorcycle on display at a formal outdoor gathering.\n"
     ]
    },
    {
     "name": "stderr",
     "output_type": "stream",
     "text": [
      " 30%|██▉       | 59/200 [02:07<05:14,  2.23s/it]"
     ]
    },
    {
     "name": "stdout",
     "output_type": "stream",
     "text": [
      "Watermark Presence Prob.: 0.5\n",
      "---------- Count = 60 : Visual Paraphrasing for the watermarked version of 90570-------------\n",
      "\n",
      "Image name :  Image_90570.jpg\n",
      "Image id : 90570\n"
     ]
    },
    {
     "data": {
      "application/vnd.jupyter.widget-view+json": {
       "model_id": "2c6e2cf5bb474ad0a44c12ba333a9852",
       "version_major": 2,
       "version_minor": 0
      },
      "text/plain": [
       "  0%|          | 0/5 [00:00<?, ?it/s]"
      ]
     },
     "metadata": {},
     "output_type": "display_data"
    },
    {
     "name": "stdout",
     "output_type": "stream",
     "text": [
      "Saving generated images at /raid/home/ashhar21137/watermarking3/stable_signature/ss_paraphrase_0.15/90570\n",
      "Generated Image saved to /raid/home/ashhar21137/watermarking3/stable_signature/ss_paraphrase_0.15/90570/90570_gen_0.png\n",
      "Generated Image saved to /raid/home/ashhar21137/watermarking3/stable_signature/ss_paraphrase_0.15/90570/90570_gen_1.png\n",
      "Generated Image saved to /raid/home/ashhar21137/watermarking3/stable_signature/ss_paraphrase_0.15/90570/90570_gen_2.png\n",
      "Generated Image saved to /raid/home/ashhar21137/watermarking3/stable_signature/ss_paraphrase_0.15/90570/90570_gen_3.png\n",
      "Generated Image saved to /raid/home/ashhar21137/watermarking3/stable_signature/ss_paraphrase_0.15/90570/90570_gen_4.png\n",
      "\n",
      "Number of images generated :  5\n",
      "\n",
      "********** Watermark detection for generated images ***************\n",
      "caption : Two people in a food truck, one looking at an order.\n",
      "Watermark Presence Prob.: 0.5833333333333334\n",
      "caption : A man in a beanie and glasses leans over a counter.\n"
     ]
    },
    {
     "name": "stderr",
     "output_type": "stream",
     "text": [
      " 30%|███       | 60/200 [02:09<05:14,  2.25s/it]"
     ]
    },
    {
     "name": "stdout",
     "output_type": "stream",
     "text": [
      "Watermark Presence Prob.: 0.5833333333333334\n",
      "caption : A man in a food cart looking down at a piece of paper.\n",
      "Watermark Presence Prob.: 0.5833333333333334\n",
      "caption : a man with a beard and a blue shirt is making some food\n",
      "Watermark Presence Prob.: 0.5625\n",
      "caption : A person working behind the counter of a food truck.\n",
      "Watermark Presence Prob.: 0.5833333333333334\n",
      "---------- Count = 61 : Visual Paraphrasing for the watermarked version of 374114-------------\n",
      "\n",
      "Image name :  Image_374114.jpg\n",
      "Image id : 374114\n"
     ]
    },
    {
     "data": {
      "application/vnd.jupyter.widget-view+json": {
       "model_id": "ccf101525c0f48048f06e40868eed750",
       "version_major": 2,
       "version_minor": 0
      },
      "text/plain": [
       "  0%|          | 0/5 [00:00<?, ?it/s]"
      ]
     },
     "metadata": {},
     "output_type": "display_data"
    },
    {
     "name": "stdout",
     "output_type": "stream",
     "text": [
      "Saving generated images at /raid/home/ashhar21137/watermarking3/stable_signature/ss_paraphrase_0.15/374114\n",
      "Generated Image saved to /raid/home/ashhar21137/watermarking3/stable_signature/ss_paraphrase_0.15/374114/374114_gen_0.png\n",
      "Generated Image saved to /raid/home/ashhar21137/watermarking3/stable_signature/ss_paraphrase_0.15/374114/374114_gen_1.png\n",
      "Generated Image saved to /raid/home/ashhar21137/watermarking3/stable_signature/ss_paraphrase_0.15/374114/374114_gen_2.png\n",
      "Generated Image saved to /raid/home/ashhar21137/watermarking3/stable_signature/ss_paraphrase_0.15/374114/374114_gen_3.png\n",
      "Generated Image saved to /raid/home/ashhar21137/watermarking3/stable_signature/ss_paraphrase_0.15/374114/374114_gen_4.png\n",
      "\n",
      "Number of images generated :  5\n",
      "\n",
      "********** Watermark detection for generated images ***************\n",
      "caption : a train with its door open stopped at a train station\n",
      "Watermark Presence Prob.: 0.6458333333333334\n",
      "caption : An employee stands in the open doorway of a passenger train. \n",
      "Watermark Presence Prob.: 0.6041666666666666\n",
      "caption : A man standing at the entrance of a passenger train car \n",
      "Watermark Presence Prob.: 0.6041666666666666\n",
      "caption : A man standing in a parked train doorway.\n"
     ]
    },
    {
     "name": "stderr",
     "output_type": "stream",
     "text": [
      " 30%|███       | 61/200 [02:12<05:23,  2.33s/it]"
     ]
    },
    {
     "name": "stdout",
     "output_type": "stream",
     "text": [
      "Watermark Presence Prob.: 0.6041666666666666\n",
      "caption : A man standing in the doorway of a commuter train\n",
      "Watermark Presence Prob.: 0.625\n",
      "---------- Count = 62 : Visual Paraphrasing for the watermarked version of 505126-------------\n",
      "\n",
      "Image name :  Image_505126.jpg\n",
      "Image id : 505126\n"
     ]
    },
    {
     "data": {
      "application/vnd.jupyter.widget-view+json": {
       "model_id": "d6ef44151c804b18a1f1ec1248f03f31",
       "version_major": 2,
       "version_minor": 0
      },
      "text/plain": [
       "  0%|          | 0/5 [00:00<?, ?it/s]"
      ]
     },
     "metadata": {},
     "output_type": "display_data"
    },
    {
     "name": "stdout",
     "output_type": "stream",
     "text": [
      "Saving generated images at /raid/home/ashhar21137/watermarking3/stable_signature/ss_paraphrase_0.15/505126\n",
      "Generated Image saved to /raid/home/ashhar21137/watermarking3/stable_signature/ss_paraphrase_0.15/505126/505126_gen_0.png\n",
      "Generated Image saved to /raid/home/ashhar21137/watermarking3/stable_signature/ss_paraphrase_0.15/505126/505126_gen_1.png\n",
      "Generated Image saved to /raid/home/ashhar21137/watermarking3/stable_signature/ss_paraphrase_0.15/505126/505126_gen_2.png\n",
      "Generated Image saved to /raid/home/ashhar21137/watermarking3/stable_signature/ss_paraphrase_0.15/505126/505126_gen_3.png\n",
      "Generated Image saved to /raid/home/ashhar21137/watermarking3/stable_signature/ss_paraphrase_0.15/505126/505126_gen_4.png\n",
      "\n",
      "Number of images generated :  5\n",
      "\n",
      "********** Watermark detection for generated images ***************\n",
      "caption : A yellow and black fire hydrant next to dirt field.\n",
      "Watermark Presence Prob.: 0.6041666666666666\n",
      "caption : a fire hydrant sits on a side walk\n"
     ]
    },
    {
     "name": "stderr",
     "output_type": "stream",
     "text": [
      " 31%|███       | 62/200 [02:14<05:06,  2.22s/it]"
     ]
    },
    {
     "name": "stdout",
     "output_type": "stream",
     "text": [
      "Watermark Presence Prob.: 0.6041666666666666\n",
      "caption : an old fire hydrant painted black and silver on a sidewalk\n",
      "Watermark Presence Prob.: 0.5625\n",
      "caption : A fire hydrant on the side of a street.\n",
      "Watermark Presence Prob.: 0.6041666666666666\n",
      "caption : A yellow water hydrant on the side of the road.\n",
      "Watermark Presence Prob.: 0.625\n",
      "---------- Count = 63 : Visual Paraphrasing for the watermarked version of 8649-------------\n",
      "\n",
      "Image name :  Image_8649.jpg\n",
      "Image id : 8649\n"
     ]
    },
    {
     "data": {
      "application/vnd.jupyter.widget-view+json": {
       "model_id": "63fb008f025d4a8da71171901bcb5997",
       "version_major": 2,
       "version_minor": 0
      },
      "text/plain": [
       "  0%|          | 0/5 [00:00<?, ?it/s]"
      ]
     },
     "metadata": {},
     "output_type": "display_data"
    },
    {
     "name": "stdout",
     "output_type": "stream",
     "text": [
      "Saving generated images at /raid/home/ashhar21137/watermarking3/stable_signature/ss_paraphrase_0.15/8649\n",
      "Generated Image saved to /raid/home/ashhar21137/watermarking3/stable_signature/ss_paraphrase_0.15/8649/8649_gen_0.png\n",
      "Generated Image saved to /raid/home/ashhar21137/watermarking3/stable_signature/ss_paraphrase_0.15/8649/8649_gen_1.png\n",
      "Generated Image saved to /raid/home/ashhar21137/watermarking3/stable_signature/ss_paraphrase_0.15/8649/8649_gen_2.png\n",
      "Generated Image saved to /raid/home/ashhar21137/watermarking3/stable_signature/ss_paraphrase_0.15/8649/8649_gen_3.png\n",
      "Generated Image saved to /raid/home/ashhar21137/watermarking3/stable_signature/ss_paraphrase_0.15/8649/8649_gen_4.png\n",
      "\n",
      "Number of images generated :  5\n",
      "\n",
      "********** Watermark detection for generated images ***************\n",
      "caption : Small child climbing on a bench on an outdoor promenade.\n"
     ]
    },
    {
     "name": "stderr",
     "output_type": "stream",
     "text": [
      " 32%|███▏      | 63/200 [02:16<04:54,  2.15s/it]"
     ]
    },
    {
     "name": "stdout",
     "output_type": "stream",
     "text": [
      "Watermark Presence Prob.: 0.6041666666666666\n",
      "caption : A young boy climbing over a wooden bench.\n",
      "Watermark Presence Prob.: 0.5416666666666666\n",
      "caption : A baby climbs on top of a wooden park bench at a mall.\n",
      "Watermark Presence Prob.: 0.5833333333333334\n",
      "caption : A child playing on a wooden bench close to a tree.\n",
      "Watermark Presence Prob.: 0.6041666666666666\n",
      "caption : A child climbing onto a bench in front of a potted plant.\n",
      "Watermark Presence Prob.: 0.5208333333333334\n",
      "---------- Count = 64 : Visual Paraphrasing for the watermarked version of 145179-------------\n",
      "\n",
      "Image name :  Image_145179.jpg\n",
      "Image id : 145179\n"
     ]
    },
    {
     "data": {
      "application/vnd.jupyter.widget-view+json": {
       "model_id": "c5a8d83ca7414662aaf4530b8af66d4a",
       "version_major": 2,
       "version_minor": 0
      },
      "text/plain": [
       "  0%|          | 0/5 [00:00<?, ?it/s]"
      ]
     },
     "metadata": {},
     "output_type": "display_data"
    },
    {
     "name": "stdout",
     "output_type": "stream",
     "text": [
      "Saving generated images at /raid/home/ashhar21137/watermarking3/stable_signature/ss_paraphrase_0.15/145179\n",
      "Generated Image saved to /raid/home/ashhar21137/watermarking3/stable_signature/ss_paraphrase_0.15/145179/145179_gen_0.png\n",
      "Generated Image saved to /raid/home/ashhar21137/watermarking3/stable_signature/ss_paraphrase_0.15/145179/145179_gen_1.png\n",
      "Generated Image saved to /raid/home/ashhar21137/watermarking3/stable_signature/ss_paraphrase_0.15/145179/145179_gen_2.png\n",
      "Generated Image saved to /raid/home/ashhar21137/watermarking3/stable_signature/ss_paraphrase_0.15/145179/145179_gen_3.png\n",
      "Generated Image saved to /raid/home/ashhar21137/watermarking3/stable_signature/ss_paraphrase_0.15/145179/145179_gen_4.png\n",
      "\n",
      "Number of images generated :  5\n",
      "\n",
      "********** Watermark detection for generated images ***************\n",
      "caption : A baby giraffe looking at whoever is taking it's picture.\n",
      "Watermark Presence Prob.: 0.6041666666666666\n",
      "caption : A giraffe in a sandy fenced off area with his head pointed towards the camera.\n",
      "Watermark Presence Prob.: 0.5208333333333334\n",
      "caption : A baby giraffe looking straight at the camera.\n",
      "Watermark Presence Prob.: 0.4791666666666667\n",
      "caption : a baby giraffe stands in a area with some birds \n",
      "Watermark Presence Prob.: 0.5833333333333334\n",
      "caption : The giraffe is standing next to the doorway.\n"
     ]
    },
    {
     "name": "stderr",
     "output_type": "stream",
     "text": [
      " 32%|███▏      | 64/200 [02:18<04:52,  2.15s/it]"
     ]
    },
    {
     "name": "stdout",
     "output_type": "stream",
     "text": [
      "Watermark Presence Prob.: 0.5208333333333334\n",
      "---------- Count = 65 : Visual Paraphrasing for the watermarked version of 66514-------------\n",
      "\n",
      "Image name :  Image_66514.jpg\n",
      "Image id : 66514\n"
     ]
    },
    {
     "data": {
      "application/vnd.jupyter.widget-view+json": {
       "model_id": "2068ef7389fc444eacc32e2f8d809c20",
       "version_major": 2,
       "version_minor": 0
      },
      "text/plain": [
       "  0%|          | 0/5 [00:00<?, ?it/s]"
      ]
     },
     "metadata": {},
     "output_type": "display_data"
    },
    {
     "name": "stdout",
     "output_type": "stream",
     "text": [
      "Saving generated images at /raid/home/ashhar21137/watermarking3/stable_signature/ss_paraphrase_0.15/66514\n",
      "Generated Image saved to /raid/home/ashhar21137/watermarking3/stable_signature/ss_paraphrase_0.15/66514/66514_gen_0.png\n",
      "Generated Image saved to /raid/home/ashhar21137/watermarking3/stable_signature/ss_paraphrase_0.15/66514/66514_gen_1.png\n",
      "Generated Image saved to /raid/home/ashhar21137/watermarking3/stable_signature/ss_paraphrase_0.15/66514/66514_gen_2.png\n",
      "Generated Image saved to /raid/home/ashhar21137/watermarking3/stable_signature/ss_paraphrase_0.15/66514/66514_gen_3.png\n",
      "Generated Image saved to /raid/home/ashhar21137/watermarking3/stable_signature/ss_paraphrase_0.15/66514/66514_gen_4.png\n",
      "\n",
      "Number of images generated :  5\n",
      "\n",
      "********** Watermark detection for generated images ***************\n",
      "caption : A young boy sitting on a toilet in front of his sister with her pants down.\n",
      "Watermark Presence Prob.: 0.5833333333333334\n",
      "caption : Two young kids sit on toilets in a bathroom.\n",
      "Watermark Presence Prob.: 0.6041666666666666\n",
      "caption : Two children sitting on their toilets in the bathroom. \n",
      "Watermark Presence Prob.: 0.5416666666666666\n",
      "caption : A little boy and girl that is in a bathroom.\n"
     ]
    },
    {
     "name": "stderr",
     "output_type": "stream",
     "text": [
      " 32%|███▎      | 65/200 [02:20<04:52,  2.17s/it]"
     ]
    },
    {
     "name": "stdout",
     "output_type": "stream",
     "text": [
      "Watermark Presence Prob.: 0.5833333333333334\n",
      "caption : A boy and a girl each sit on a toilet. \n",
      "Watermark Presence Prob.: 0.5833333333333334\n",
      "---------- Count = 66 : Visual Paraphrasing for the watermarked version of 462559-------------\n",
      "\n",
      "Image name :  Image_462559.jpg\n",
      "Image id : 462559\n"
     ]
    },
    {
     "data": {
      "application/vnd.jupyter.widget-view+json": {
       "model_id": "de392a7ec3924c7cb507a5ae09d9af12",
       "version_major": 2,
       "version_minor": 0
      },
      "text/plain": [
       "  0%|          | 0/5 [00:00<?, ?it/s]"
      ]
     },
     "metadata": {},
     "output_type": "display_data"
    },
    {
     "name": "stdout",
     "output_type": "stream",
     "text": [
      "Saving generated images at /raid/home/ashhar21137/watermarking3/stable_signature/ss_paraphrase_0.15/462559\n",
      "Generated Image saved to /raid/home/ashhar21137/watermarking3/stable_signature/ss_paraphrase_0.15/462559/462559_gen_0.png\n",
      "Generated Image saved to /raid/home/ashhar21137/watermarking3/stable_signature/ss_paraphrase_0.15/462559/462559_gen_1.png\n",
      "Generated Image saved to /raid/home/ashhar21137/watermarking3/stable_signature/ss_paraphrase_0.15/462559/462559_gen_2.png\n",
      "Generated Image saved to /raid/home/ashhar21137/watermarking3/stable_signature/ss_paraphrase_0.15/462559/462559_gen_3.png\n",
      "Generated Image saved to /raid/home/ashhar21137/watermarking3/stable_signature/ss_paraphrase_0.15/462559/462559_gen_4.png\n",
      "\n",
      "Number of images generated :  5\n",
      "\n",
      "********** Watermark detection for generated images ***************\n",
      "caption : The sign tells motorists how to proceed on the street.\n",
      "Watermark Presence Prob.: 0.5416666666666666\n",
      "caption : A stop light is topped with a do not enter warning.\n"
     ]
    },
    {
     "name": "stderr",
     "output_type": "stream",
     "text": [
      " 33%|███▎      | 66/200 [02:22<04:50,  2.17s/it]"
     ]
    },
    {
     "name": "stdout",
     "output_type": "stream",
     "text": [
      "Watermark Presence Prob.: 0.4791666666666667\n",
      "caption : A traffic light sitting below a do not enter sign.\n",
      "Watermark Presence Prob.: 0.5625\n",
      "caption : A stop light with a one way, do not enter sign above it.\n",
      "Watermark Presence Prob.: 0.4791666666666667\n",
      "caption : A large sign over a black stop light.\n",
      "Watermark Presence Prob.: 0.5\n",
      "---------- Count = 67 : Visual Paraphrasing for the watermarked version of 4428-------------\n",
      "\n",
      "Image name :  Image_4428.jpg\n",
      "Image id : 4428\n"
     ]
    },
    {
     "data": {
      "application/vnd.jupyter.widget-view+json": {
       "model_id": "7460e1966e5f454cae80290af05fd8a2",
       "version_major": 2,
       "version_minor": 0
      },
      "text/plain": [
       "  0%|          | 0/5 [00:00<?, ?it/s]"
      ]
     },
     "metadata": {},
     "output_type": "display_data"
    },
    {
     "name": "stdout",
     "output_type": "stream",
     "text": [
      "Saving generated images at /raid/home/ashhar21137/watermarking3/stable_signature/ss_paraphrase_0.15/4428\n",
      "Generated Image saved to /raid/home/ashhar21137/watermarking3/stable_signature/ss_paraphrase_0.15/4428/4428_gen_0.png\n",
      "Generated Image saved to /raid/home/ashhar21137/watermarking3/stable_signature/ss_paraphrase_0.15/4428/4428_gen_1.png\n",
      "Generated Image saved to /raid/home/ashhar21137/watermarking3/stable_signature/ss_paraphrase_0.15/4428/4428_gen_2.png\n",
      "Generated Image saved to /raid/home/ashhar21137/watermarking3/stable_signature/ss_paraphrase_0.15/4428/4428_gen_3.png\n",
      "Generated Image saved to /raid/home/ashhar21137/watermarking3/stable_signature/ss_paraphrase_0.15/4428/4428_gen_4.png\n",
      "\n",
      "Number of images generated :  5\n",
      "\n",
      "********** Watermark detection for generated images ***************\n",
      "caption : A chef preparing food inside of a kitchen near  a window.\n",
      "Watermark Presence Prob.: 0.5833333333333334\n",
      "caption : A cook is making food under a lamp.\n"
     ]
    },
    {
     "name": "stderr",
     "output_type": "stream",
     "text": [
      " 34%|███▎      | 67/200 [02:25<04:48,  2.17s/it]"
     ]
    },
    {
     "name": "stdout",
     "output_type": "stream",
     "text": [
      "Watermark Presence Prob.: 0.6041666666666666\n",
      "caption : A chief in a kitchen plating food out of a pan.\n",
      "Watermark Presence Prob.: 0.5833333333333334\n",
      "caption : Sous chef adding sauce to a plate at the pass of a restaurant kitchen. \n",
      "Watermark Presence Prob.: 0.5625\n",
      "caption : a person in a kitchen preparing food under a lamp\n",
      "Watermark Presence Prob.: 0.5625\n",
      "---------- Count = 68 : Visual Paraphrasing for the watermarked version of 210932-------------\n",
      "\n",
      "Image name :  Image_210932.jpg\n",
      "Image id : 210932\n"
     ]
    },
    {
     "data": {
      "application/vnd.jupyter.widget-view+json": {
       "model_id": "041acf37e9f640c5951e9e5338419a43",
       "version_major": 2,
       "version_minor": 0
      },
      "text/plain": [
       "  0%|          | 0/5 [00:00<?, ?it/s]"
      ]
     },
     "metadata": {},
     "output_type": "display_data"
    },
    {
     "name": "stdout",
     "output_type": "stream",
     "text": [
      "Saving generated images at /raid/home/ashhar21137/watermarking3/stable_signature/ss_paraphrase_0.15/210932\n",
      "Generated Image saved to /raid/home/ashhar21137/watermarking3/stable_signature/ss_paraphrase_0.15/210932/210932_gen_0.png\n",
      "Generated Image saved to /raid/home/ashhar21137/watermarking3/stable_signature/ss_paraphrase_0.15/210932/210932_gen_1.png\n",
      "Generated Image saved to /raid/home/ashhar21137/watermarking3/stable_signature/ss_paraphrase_0.15/210932/210932_gen_2.png\n",
      "Generated Image saved to /raid/home/ashhar21137/watermarking3/stable_signature/ss_paraphrase_0.15/210932/210932_gen_3.png\n",
      "Generated Image saved to /raid/home/ashhar21137/watermarking3/stable_signature/ss_paraphrase_0.15/210932/210932_gen_4.png\n",
      "\n",
      "Number of images generated :  5\n",
      "\n",
      "********** Watermark detection for generated images ***************\n",
      "caption : City street view of a large grey bricked building. \n",
      "Watermark Presence Prob.: 0.5833333333333334\n",
      "caption : A man in an orange jacket walking past a tall building.\n",
      "Watermark Presence Prob.: 0.5833333333333334\n",
      "caption : A street corner with a large building on it. \n",
      "Watermark Presence Prob.: 0.5833333333333334\n",
      "caption : A picture of a several individuals walking on a sidewalk in between buildings.\n"
     ]
    },
    {
     "name": "stderr",
     "output_type": "stream",
     "text": [
      " 34%|███▍      | 68/200 [02:27<04:47,  2.18s/it]"
     ]
    },
    {
     "name": "stdout",
     "output_type": "stream",
     "text": [
      "Watermark Presence Prob.: 0.6458333333333334\n",
      "caption : People are walking down the sidewalk next to a building.\n",
      "Watermark Presence Prob.: 0.6458333333333334\n",
      "---------- Count = 69 : Visual Paraphrasing for the watermarked version of 257350-------------\n",
      "\n",
      "Image name :  Image_257350.jpg\n",
      "Image id : 257350\n"
     ]
    },
    {
     "data": {
      "application/vnd.jupyter.widget-view+json": {
       "model_id": "aa18cc4e96f54b6893f2daa13a23170a",
       "version_major": 2,
       "version_minor": 0
      },
      "text/plain": [
       "  0%|          | 0/5 [00:00<?, ?it/s]"
      ]
     },
     "metadata": {},
     "output_type": "display_data"
    },
    {
     "name": "stdout",
     "output_type": "stream",
     "text": [
      "Saving generated images at /raid/home/ashhar21137/watermarking3/stable_signature/ss_paraphrase_0.15/257350\n",
      "Generated Image saved to /raid/home/ashhar21137/watermarking3/stable_signature/ss_paraphrase_0.15/257350/257350_gen_0.png\n",
      "Generated Image saved to /raid/home/ashhar21137/watermarking3/stable_signature/ss_paraphrase_0.15/257350/257350_gen_1.png\n",
      "Generated Image saved to /raid/home/ashhar21137/watermarking3/stable_signature/ss_paraphrase_0.15/257350/257350_gen_2.png\n",
      "Generated Image saved to /raid/home/ashhar21137/watermarking3/stable_signature/ss_paraphrase_0.15/257350/257350_gen_3.png\n",
      "Generated Image saved to /raid/home/ashhar21137/watermarking3/stable_signature/ss_paraphrase_0.15/257350/257350_gen_4.png\n",
      "\n",
      "Number of images generated :  5\n",
      "\n",
      "********** Watermark detection for generated images ***************\n",
      "caption : a group of people riding bikes stopped in front of a building\n",
      "Watermark Presence Prob.: 0.4583333333333333\n",
      "caption : A group of people on bicy les in front of a church.\n",
      "Watermark Presence Prob.: 0.5\n",
      "caption : Bike riders on the corner outside of a church.\n",
      "Watermark Presence Prob.: 0.4583333333333333\n",
      "caption : Several children on bicycles outside a white church.\n"
     ]
    },
    {
     "name": "stderr",
     "output_type": "stream",
     "text": [
      " 34%|███▍      | 69/200 [02:29<04:45,  2.18s/it]"
     ]
    },
    {
     "name": "stdout",
     "output_type": "stream",
     "text": [
      "Watermark Presence Prob.: 0.3958333333333333\n",
      "caption : Several people on bikes in front of a building.\n",
      "Watermark Presence Prob.: 0.4583333333333333\n",
      "---------- Count = 70 : Visual Paraphrasing for the watermarked version of 122688-------------\n",
      "\n",
      "Image name :  Image_122688.jpg\n",
      "Image id : 122688\n"
     ]
    },
    {
     "data": {
      "application/vnd.jupyter.widget-view+json": {
       "model_id": "0530d501a033455a9c09c1bf93d2de16",
       "version_major": 2,
       "version_minor": 0
      },
      "text/plain": [
       "  0%|          | 0/5 [00:00<?, ?it/s]"
      ]
     },
     "metadata": {},
     "output_type": "display_data"
    },
    {
     "name": "stdout",
     "output_type": "stream",
     "text": [
      "Saving generated images at /raid/home/ashhar21137/watermarking3/stable_signature/ss_paraphrase_0.15/122688\n",
      "Generated Image saved to /raid/home/ashhar21137/watermarking3/stable_signature/ss_paraphrase_0.15/122688/122688_gen_0.png\n",
      "Generated Image saved to /raid/home/ashhar21137/watermarking3/stable_signature/ss_paraphrase_0.15/122688/122688_gen_1.png\n",
      "Generated Image saved to /raid/home/ashhar21137/watermarking3/stable_signature/ss_paraphrase_0.15/122688/122688_gen_2.png\n",
      "Generated Image saved to /raid/home/ashhar21137/watermarking3/stable_signature/ss_paraphrase_0.15/122688/122688_gen_3.png\n",
      "Generated Image saved to /raid/home/ashhar21137/watermarking3/stable_signature/ss_paraphrase_0.15/122688/122688_gen_4.png\n",
      "\n",
      "Number of images generated :  5\n",
      "\n",
      "********** Watermark detection for generated images ***************\n",
      "caption : The huge clock on the wall is near a wooden table.\n",
      "Watermark Presence Prob.: 0.5833333333333334\n",
      "caption : The clock has a large face with numbers.\n"
     ]
    },
    {
     "name": "stderr",
     "output_type": "stream",
     "text": [
      " 35%|███▌      | 70/200 [02:31<04:37,  2.13s/it]"
     ]
    },
    {
     "name": "stdout",
     "output_type": "stream",
     "text": [
      "Watermark Presence Prob.: 0.5833333333333334\n",
      "caption : a clock with big numbers at the end of a table\n",
      "Watermark Presence Prob.: 0.5833333333333334\n",
      "caption : A table and chairs with a large clock on the wall.\n",
      "Watermark Presence Prob.: 0.5833333333333334\n",
      "caption : a large clock on the wall above a radiator \n",
      "Watermark Presence Prob.: 0.5625\n",
      "---------- Count = 71 : Visual Paraphrasing for the watermarked version of 377694-------------\n",
      "\n",
      "Image name :  Image_377694.jpg\n",
      "Image id : 377694\n"
     ]
    },
    {
     "data": {
      "application/vnd.jupyter.widget-view+json": {
       "model_id": "1de4b95cde174f0caeabb774c150e4b9",
       "version_major": 2,
       "version_minor": 0
      },
      "text/plain": [
       "  0%|          | 0/5 [00:00<?, ?it/s]"
      ]
     },
     "metadata": {},
     "output_type": "display_data"
    },
    {
     "name": "stdout",
     "output_type": "stream",
     "text": [
      "Saving generated images at /raid/home/ashhar21137/watermarking3/stable_signature/ss_paraphrase_0.15/377694\n",
      "Generated Image saved to /raid/home/ashhar21137/watermarking3/stable_signature/ss_paraphrase_0.15/377694/377694_gen_0.png\n",
      "Generated Image saved to /raid/home/ashhar21137/watermarking3/stable_signature/ss_paraphrase_0.15/377694/377694_gen_1.png\n",
      "Generated Image saved to /raid/home/ashhar21137/watermarking3/stable_signature/ss_paraphrase_0.15/377694/377694_gen_2.png\n",
      "Generated Image saved to /raid/home/ashhar21137/watermarking3/stable_signature/ss_paraphrase_0.15/377694/377694_gen_3.png\n",
      "Generated Image saved to /raid/home/ashhar21137/watermarking3/stable_signature/ss_paraphrase_0.15/377694/377694_gen_4.png\n",
      "\n",
      "Number of images generated :  5\n",
      "\n",
      "********** Watermark detection for generated images ***************\n",
      "caption : Three people sit on a park bench surrounded by trees.\n",
      "Watermark Presence Prob.: 0.6041666666666666\n",
      "caption : PEOPLE SITTING ON A SHADED BENCH IN THE PARK TALKING\n",
      "Watermark Presence Prob.: 0.5208333333333334\n",
      "caption : People are sitting on a bench in a park.\n"
     ]
    },
    {
     "name": "stderr",
     "output_type": "stream",
     "text": [
      " 36%|███▌      | 71/200 [02:33<04:30,  2.10s/it]"
     ]
    },
    {
     "name": "stdout",
     "output_type": "stream",
     "text": [
      "Watermark Presence Prob.: 0.5416666666666666\n",
      "caption : A park bench between several trees with three people on it.\n",
      "Watermark Presence Prob.: 0.4583333333333333\n",
      "caption : Many people sitting at a park bench near trees\n",
      "Watermark Presence Prob.: 0.5416666666666666\n",
      "---------- Count = 72 : Visual Paraphrasing for the watermarked version of 438422-------------\n",
      "\n",
      "Image name :  Image_438422.jpg\n",
      "Image id : 438422\n"
     ]
    },
    {
     "data": {
      "application/vnd.jupyter.widget-view+json": {
       "model_id": "865f0a1523b3447d93fd94dcf94485b3",
       "version_major": 2,
       "version_minor": 0
      },
      "text/plain": [
       "  0%|          | 0/5 [00:00<?, ?it/s]"
      ]
     },
     "metadata": {},
     "output_type": "display_data"
    },
    {
     "name": "stdout",
     "output_type": "stream",
     "text": [
      "Saving generated images at /raid/home/ashhar21137/watermarking3/stable_signature/ss_paraphrase_0.15/438422\n",
      "Generated Image saved to /raid/home/ashhar21137/watermarking3/stable_signature/ss_paraphrase_0.15/438422/438422_gen_0.png\n",
      "Generated Image saved to /raid/home/ashhar21137/watermarking3/stable_signature/ss_paraphrase_0.15/438422/438422_gen_1.png\n",
      "Generated Image saved to /raid/home/ashhar21137/watermarking3/stable_signature/ss_paraphrase_0.15/438422/438422_gen_2.png\n",
      "Generated Image saved to /raid/home/ashhar21137/watermarking3/stable_signature/ss_paraphrase_0.15/438422/438422_gen_3.png\n",
      "Generated Image saved to /raid/home/ashhar21137/watermarking3/stable_signature/ss_paraphrase_0.15/438422/438422_gen_4.png\n",
      "\n",
      "Number of images generated :  5\n",
      "\n",
      "********** Watermark detection for generated images ***************\n",
      "caption : A woman giving a taste test to a man. \n",
      "Watermark Presence Prob.: 0.5625\n",
      "caption : A woman feeds a sample of her dish to a man in front of onlookers.\n"
     ]
    },
    {
     "name": "stderr",
     "output_type": "stream",
     "text": [
      " 36%|███▌      | 72/200 [02:35<04:33,  2.14s/it]"
     ]
    },
    {
     "name": "stdout",
     "output_type": "stream",
     "text": [
      "Watermark Presence Prob.: 0.5625\n",
      "caption : Man is fed a spoonful of food by a woman in front of other people. \n",
      "Watermark Presence Prob.: 0.5625\n",
      "caption : Several people observing a woman feeding a man food inside a restaurant kitchen\n",
      "Watermark Presence Prob.: 0.5625\n",
      "caption : A woman is giving a taste of her food to a man\n",
      "Watermark Presence Prob.: 0.5625\n",
      "---------- Count = 73 : Visual Paraphrasing for the watermarked version of 161919-------------\n",
      "\n",
      "Image name :  Image_161919.jpg\n",
      "Image id : 161919\n"
     ]
    },
    {
     "data": {
      "application/vnd.jupyter.widget-view+json": {
       "model_id": "6521f0523b0d4f20b2bd4fdadfb93e59",
       "version_major": 2,
       "version_minor": 0
      },
      "text/plain": [
       "  0%|          | 0/5 [00:00<?, ?it/s]"
      ]
     },
     "metadata": {},
     "output_type": "display_data"
    },
    {
     "name": "stdout",
     "output_type": "stream",
     "text": [
      "Saving generated images at /raid/home/ashhar21137/watermarking3/stable_signature/ss_paraphrase_0.15/161919\n",
      "Generated Image saved to /raid/home/ashhar21137/watermarking3/stable_signature/ss_paraphrase_0.15/161919/161919_gen_0.png\n",
      "Generated Image saved to /raid/home/ashhar21137/watermarking3/stable_signature/ss_paraphrase_0.15/161919/161919_gen_1.png\n",
      "Generated Image saved to /raid/home/ashhar21137/watermarking3/stable_signature/ss_paraphrase_0.15/161919/161919_gen_2.png\n",
      "Generated Image saved to /raid/home/ashhar21137/watermarking3/stable_signature/ss_paraphrase_0.15/161919/161919_gen_3.png\n",
      "Generated Image saved to /raid/home/ashhar21137/watermarking3/stable_signature/ss_paraphrase_0.15/161919/161919_gen_4.png\n",
      "\n",
      "Number of images generated :  5\n",
      "\n",
      "********** Watermark detection for generated images ***************\n",
      "caption : A person is cutting a roast with a fork and knife.\n",
      "Watermark Presence Prob.: 0.5416666666666666\n",
      "caption : There is a man cutting meat on a cutting board\n"
     ]
    },
    {
     "name": "stderr",
     "output_type": "stream",
     "text": [
      " 36%|███▋      | 73/200 [02:38<04:42,  2.22s/it]"
     ]
    },
    {
     "name": "stdout",
     "output_type": "stream",
     "text": [
      "Watermark Presence Prob.: 0.5208333333333334\n",
      "caption : A man is slicing meat with a knife. \n",
      "Watermark Presence Prob.: 0.6041666666666666\n",
      "caption : Man cutting a hot piece of meat on a cutting board. \n",
      "Watermark Presence Prob.: 0.5208333333333334\n",
      "caption : A man cutting meat on a small cutting board.\n",
      "Watermark Presence Prob.: 0.6041666666666666\n",
      "---------- Count = 74 : Visual Paraphrasing for the watermarked version of 354444-------------\n",
      "\n",
      "Image name :  Image_354444.jpg\n",
      "Image id : 354444\n"
     ]
    },
    {
     "data": {
      "application/vnd.jupyter.widget-view+json": {
       "model_id": "1de862a696ec43618d54adaed04d6081",
       "version_major": 2,
       "version_minor": 0
      },
      "text/plain": [
       "  0%|          | 0/5 [00:00<?, ?it/s]"
      ]
     },
     "metadata": {},
     "output_type": "display_data"
    },
    {
     "name": "stdout",
     "output_type": "stream",
     "text": [
      "Saving generated images at /raid/home/ashhar21137/watermarking3/stable_signature/ss_paraphrase_0.15/354444\n",
      "Generated Image saved to /raid/home/ashhar21137/watermarking3/stable_signature/ss_paraphrase_0.15/354444/354444_gen_0.png\n",
      "Generated Image saved to /raid/home/ashhar21137/watermarking3/stable_signature/ss_paraphrase_0.15/354444/354444_gen_1.png\n",
      "Generated Image saved to /raid/home/ashhar21137/watermarking3/stable_signature/ss_paraphrase_0.15/354444/354444_gen_2.png\n",
      "Generated Image saved to /raid/home/ashhar21137/watermarking3/stable_signature/ss_paraphrase_0.15/354444/354444_gen_3.png\n",
      "Generated Image saved to /raid/home/ashhar21137/watermarking3/stable_signature/ss_paraphrase_0.15/354444/354444_gen_4.png\n",
      "\n",
      "Number of images generated :  5\n",
      "\n",
      "********** Watermark detection for generated images ***************\n",
      "caption : a lady sitting in a van with several seagulls landing on the top\n"
     ]
    },
    {
     "name": "stderr",
     "output_type": "stream",
     "text": [
      " 37%|███▋      | 74/200 [02:40<04:33,  2.17s/it]"
     ]
    },
    {
     "name": "stdout",
     "output_type": "stream",
     "text": [
      "Watermark Presence Prob.: 0.5625\n",
      "caption : A woman in a truck watching the birds sit on her open door and the top of the truck. \n",
      "Watermark Presence Prob.: 0.5416666666666666\n",
      "caption : Birds are sitting on an automobile where a woman is sitting.\n",
      "Watermark Presence Prob.: 0.5625\n",
      "caption : A group of seagull attacking the roof of some peoples truck.\n",
      "Watermark Presence Prob.: 0.5833333333333334\n",
      "caption : A group of birds on a truck with a person inside.\n",
      "Watermark Presence Prob.: 0.5416666666666666\n",
      "---------- Count = 75 : Visual Paraphrasing for the watermarked version of 287541-------------\n",
      "\n",
      "Image name :  Image_287541.jpg\n",
      "Image id : 287541\n"
     ]
    },
    {
     "data": {
      "application/vnd.jupyter.widget-view+json": {
       "model_id": "07a95f96d3be424097c74b5629084eaa",
       "version_major": 2,
       "version_minor": 0
      },
      "text/plain": [
       "  0%|          | 0/5 [00:00<?, ?it/s]"
      ]
     },
     "metadata": {},
     "output_type": "display_data"
    },
    {
     "name": "stdout",
     "output_type": "stream",
     "text": [
      "Saving generated images at /raid/home/ashhar21137/watermarking3/stable_signature/ss_paraphrase_0.15/287541\n",
      "Generated Image saved to /raid/home/ashhar21137/watermarking3/stable_signature/ss_paraphrase_0.15/287541/287541_gen_0.png\n",
      "Generated Image saved to /raid/home/ashhar21137/watermarking3/stable_signature/ss_paraphrase_0.15/287541/287541_gen_1.png\n",
      "Generated Image saved to /raid/home/ashhar21137/watermarking3/stable_signature/ss_paraphrase_0.15/287541/287541_gen_2.png\n",
      "Generated Image saved to /raid/home/ashhar21137/watermarking3/stable_signature/ss_paraphrase_0.15/287541/287541_gen_3.png\n",
      "Generated Image saved to /raid/home/ashhar21137/watermarking3/stable_signature/ss_paraphrase_0.15/287541/287541_gen_4.png\n",
      "\n",
      "Number of images generated :  5\n",
      "\n",
      "********** Watermark detection for generated images ***************\n",
      "caption : Two bathroom sinks mounted against a mirror, with soap in between the two sinks.\n"
     ]
    },
    {
     "name": "stderr",
     "output_type": "stream",
     "text": [
      " 38%|███▊      | 75/200 [02:42<04:21,  2.09s/it]"
     ]
    },
    {
     "name": "stdout",
     "output_type": "stream",
     "text": [
      "Watermark Presence Prob.: 0.5208333333333334\n",
      "caption : Two pedestal sinks at a mirror in a public restroom.\n",
      "Watermark Presence Prob.: 0.4583333333333333\n",
      "caption : A close up view of a couple of sinks and soap bottle.\n",
      "Watermark Presence Prob.: 0.4583333333333333\n",
      "caption : A couple of bottles of soap are sitting on sink\n",
      "Watermark Presence Prob.: 0.5\n",
      "caption : A bathroom that has two sinks in it.\n",
      "Watermark Presence Prob.: 0.4375\n",
      "---------- Count = 76 : Visual Paraphrasing for the watermarked version of 556801-------------\n",
      "\n",
      "Image name :  Image_556801.jpg\n",
      "Image id : 556801\n"
     ]
    },
    {
     "data": {
      "application/vnd.jupyter.widget-view+json": {
       "model_id": "2e8219e29f3140ea97a0ce7518eca526",
       "version_major": 2,
       "version_minor": 0
      },
      "text/plain": [
       "  0%|          | 0/5 [00:00<?, ?it/s]"
      ]
     },
     "metadata": {},
     "output_type": "display_data"
    },
    {
     "name": "stdout",
     "output_type": "stream",
     "text": [
      "Saving generated images at /raid/home/ashhar21137/watermarking3/stable_signature/ss_paraphrase_0.15/556801\n",
      "Generated Image saved to /raid/home/ashhar21137/watermarking3/stable_signature/ss_paraphrase_0.15/556801/556801_gen_0.png\n",
      "Generated Image saved to /raid/home/ashhar21137/watermarking3/stable_signature/ss_paraphrase_0.15/556801/556801_gen_1.png\n",
      "Generated Image saved to /raid/home/ashhar21137/watermarking3/stable_signature/ss_paraphrase_0.15/556801/556801_gen_2.png\n",
      "Generated Image saved to /raid/home/ashhar21137/watermarking3/stable_signature/ss_paraphrase_0.15/556801/556801_gen_3.png\n",
      "Generated Image saved to /raid/home/ashhar21137/watermarking3/stable_signature/ss_paraphrase_0.15/556801/556801_gen_4.png\n",
      "\n",
      "Number of images generated :  5\n",
      "\n",
      "********** Watermark detection for generated images ***************\n",
      "caption : The street signal hangs from a high electrical wire.\n"
     ]
    },
    {
     "name": "stderr",
     "output_type": "stream",
     "text": [
      " 38%|███▊      | 76/200 [02:44<04:24,  2.14s/it]"
     ]
    },
    {
     "name": "stdout",
     "output_type": "stream",
     "text": [
      "Watermark Presence Prob.: 0.625\n",
      "caption : Yellow stop lights hanging from a power line.\n",
      "Watermark Presence Prob.: 0.6041666666666666\n",
      "caption : A pair of stop lights hang from a wire.\n",
      "Watermark Presence Prob.: 0.6041666666666666\n",
      "caption : A couple of traffic lights handing on a wire next to trees.\n",
      "Watermark Presence Prob.: 0.625\n",
      "caption : three traffic lights on a wire hanged on use\n",
      "Watermark Presence Prob.: 0.6041666666666666\n",
      "---------- Count = 77 : Visual Paraphrasing for the watermarked version of 186233-------------\n",
      "\n",
      "Image name :  Image_186233.jpg\n",
      "Image id : 186233\n"
     ]
    },
    {
     "data": {
      "application/vnd.jupyter.widget-view+json": {
       "model_id": "992d5a619444422581ccabf249372651",
       "version_major": 2,
       "version_minor": 0
      },
      "text/plain": [
       "  0%|          | 0/5 [00:00<?, ?it/s]"
      ]
     },
     "metadata": {},
     "output_type": "display_data"
    },
    {
     "name": "stdout",
     "output_type": "stream",
     "text": [
      "Saving generated images at /raid/home/ashhar21137/watermarking3/stable_signature/ss_paraphrase_0.15/186233\n",
      "Generated Image saved to /raid/home/ashhar21137/watermarking3/stable_signature/ss_paraphrase_0.15/186233/186233_gen_0.png\n",
      "Generated Image saved to /raid/home/ashhar21137/watermarking3/stable_signature/ss_paraphrase_0.15/186233/186233_gen_1.png\n",
      "Generated Image saved to /raid/home/ashhar21137/watermarking3/stable_signature/ss_paraphrase_0.15/186233/186233_gen_2.png\n",
      "Generated Image saved to /raid/home/ashhar21137/watermarking3/stable_signature/ss_paraphrase_0.15/186233/186233_gen_3.png\n",
      "Generated Image saved to /raid/home/ashhar21137/watermarking3/stable_signature/ss_paraphrase_0.15/186233/186233_gen_4.png\n",
      "\n",
      "Number of images generated :  5\n",
      "\n",
      "********** Watermark detection for generated images ***************\n",
      "caption : A large building is now sitting empty and abandoned\n",
      "Watermark Presence Prob.: 0.6041666666666666\n",
      "caption : An abandoned building sits among bare trees and a rusty fire hydrant.\n",
      "Watermark Presence Prob.: 0.5208333333333334\n",
      "caption : A gloomy sky is in the background of a yellow fire hydrant.\n",
      "Watermark Presence Prob.: 0.5\n",
      "caption : An old building in a field, there is a yellow hydrant in the foreground.\n"
     ]
    },
    {
     "name": "stderr",
     "output_type": "stream",
     "text": [
      " 38%|███▊      | 77/200 [02:46<04:20,  2.12s/it]"
     ]
    },
    {
     "name": "stdout",
     "output_type": "stream",
     "text": [
      "Watermark Presence Prob.: 0.5833333333333334\n",
      "caption : Rundown building sitting in an open field with a mountain behind it. \n",
      "Watermark Presence Prob.: 0.5416666666666666\n",
      "---------- Count = 78 : Visual Paraphrasing for the watermarked version of 95133-------------\n",
      "\n",
      "Image name :  Image_95133.jpg\n",
      "Image id : 95133\n"
     ]
    },
    {
     "data": {
      "application/vnd.jupyter.widget-view+json": {
       "model_id": "2496554f9aaf48e182358d0e1d8be5f3",
       "version_major": 2,
       "version_minor": 0
      },
      "text/plain": [
       "  0%|          | 0/5 [00:00<?, ?it/s]"
      ]
     },
     "metadata": {},
     "output_type": "display_data"
    },
    {
     "name": "stdout",
     "output_type": "stream",
     "text": [
      "Saving generated images at /raid/home/ashhar21137/watermarking3/stable_signature/ss_paraphrase_0.15/95133\n",
      "Generated Image saved to /raid/home/ashhar21137/watermarking3/stable_signature/ss_paraphrase_0.15/95133/95133_gen_0.png\n",
      "Generated Image saved to /raid/home/ashhar21137/watermarking3/stable_signature/ss_paraphrase_0.15/95133/95133_gen_1.png\n",
      "Generated Image saved to /raid/home/ashhar21137/watermarking3/stable_signature/ss_paraphrase_0.15/95133/95133_gen_2.png\n",
      "Generated Image saved to /raid/home/ashhar21137/watermarking3/stable_signature/ss_paraphrase_0.15/95133/95133_gen_3.png\n",
      "Generated Image saved to /raid/home/ashhar21137/watermarking3/stable_signature/ss_paraphrase_0.15/95133/95133_gen_4.png\n",
      "\n",
      "Number of images generated :  5\n",
      "\n",
      "********** Watermark detection for generated images ***************\n",
      "caption : a bathroom scene with a wooden door and a sink in view\n",
      "Watermark Presence Prob.: 0.625\n",
      "caption : A bathroom featuring an antique style sink and tiled walls\n"
     ]
    },
    {
     "name": "stderr",
     "output_type": "stream",
     "text": [
      " 39%|███▉      | 78/200 [02:48<04:19,  2.12s/it]"
     ]
    },
    {
     "name": "stdout",
     "output_type": "stream",
     "text": [
      "Watermark Presence Prob.: 0.625\n",
      "caption : A picture that is on the wall near a sink.\n",
      "Watermark Presence Prob.: 0.6666666666666666\n",
      "caption : a sink a picture a mirror and white tiles\n",
      "Watermark Presence Prob.: 0.6458333333333334\n",
      "caption : A white sink with brass fixtures in a small bathroom.\n",
      "Watermark Presence Prob.: 0.625\n",
      "---------- Count = 79 : Visual Paraphrasing for the watermarked version of 496939-------------\n",
      "\n",
      "Image name :  Image_496939.jpg\n",
      "Image id : 496939\n"
     ]
    },
    {
     "data": {
      "application/vnd.jupyter.widget-view+json": {
       "model_id": "abb89edc78d24a66bb4cce318cb85268",
       "version_major": 2,
       "version_minor": 0
      },
      "text/plain": [
       "  0%|          | 0/5 [00:00<?, ?it/s]"
      ]
     },
     "metadata": {},
     "output_type": "display_data"
    },
    {
     "name": "stdout",
     "output_type": "stream",
     "text": [
      "Saving generated images at /raid/home/ashhar21137/watermarking3/stable_signature/ss_paraphrase_0.15/496939\n",
      "Generated Image saved to /raid/home/ashhar21137/watermarking3/stable_signature/ss_paraphrase_0.15/496939/496939_gen_0.png\n",
      "Generated Image saved to /raid/home/ashhar21137/watermarking3/stable_signature/ss_paraphrase_0.15/496939/496939_gen_1.png\n",
      "Generated Image saved to /raid/home/ashhar21137/watermarking3/stable_signature/ss_paraphrase_0.15/496939/496939_gen_2.png\n",
      "Generated Image saved to /raid/home/ashhar21137/watermarking3/stable_signature/ss_paraphrase_0.15/496939/496939_gen_3.png\n",
      "Generated Image saved to /raid/home/ashhar21137/watermarking3/stable_signature/ss_paraphrase_0.15/496939/496939_gen_4.png\n",
      "\n",
      "Number of images generated :  5\n",
      "\n",
      "********** Watermark detection for generated images ***************\n",
      "caption : two motorcycles parked next to each other in an alley\n",
      "Watermark Presence Prob.: 0.3958333333333333\n",
      "caption : Two motorcycles parked right next to each other.\n",
      "Watermark Presence Prob.: 0.4791666666666667\n",
      "caption : Two motorcycles parked adjacent to each other during the day.\n"
     ]
    },
    {
     "name": "stderr",
     "output_type": "stream",
     "text": [
      " 40%|███▉      | 79/200 [02:50<04:18,  2.14s/it]"
     ]
    },
    {
     "name": "stdout",
     "output_type": "stream",
     "text": [
      "Watermark Presence Prob.: 0.4583333333333333\n",
      "caption : Two Suzuki motorcycles parked next to a brick wall in an alley.\n",
      "Watermark Presence Prob.: 0.4583333333333333\n",
      "caption : Two motorcyles parked one behing the other in an alley.\n",
      "Watermark Presence Prob.: 0.4166666666666667\n",
      "---------- Count = 80 : Visual Paraphrasing for the watermarked version of 71631-------------\n",
      "\n",
      "Image name :  Image_71631.jpg\n",
      "Image id : 71631\n"
     ]
    },
    {
     "data": {
      "application/vnd.jupyter.widget-view+json": {
       "model_id": "02c12c58212e4dc28ca024aae4fbd193",
       "version_major": 2,
       "version_minor": 0
      },
      "text/plain": [
       "  0%|          | 0/5 [00:00<?, ?it/s]"
      ]
     },
     "metadata": {},
     "output_type": "display_data"
    },
    {
     "name": "stdout",
     "output_type": "stream",
     "text": [
      "Saving generated images at /raid/home/ashhar21137/watermarking3/stable_signature/ss_paraphrase_0.15/71631\n",
      "Generated Image saved to /raid/home/ashhar21137/watermarking3/stable_signature/ss_paraphrase_0.15/71631/71631_gen_0.png\n",
      "Generated Image saved to /raid/home/ashhar21137/watermarking3/stable_signature/ss_paraphrase_0.15/71631/71631_gen_1.png\n",
      "Generated Image saved to /raid/home/ashhar21137/watermarking3/stable_signature/ss_paraphrase_0.15/71631/71631_gen_2.png\n",
      "Generated Image saved to /raid/home/ashhar21137/watermarking3/stable_signature/ss_paraphrase_0.15/71631/71631_gen_3.png\n",
      "Generated Image saved to /raid/home/ashhar21137/watermarking3/stable_signature/ss_paraphrase_0.15/71631/71631_gen_4.png\n",
      "\n",
      "Number of images generated :  5\n",
      "\n",
      "********** Watermark detection for generated images ***************\n",
      "caption : Dining room table set for a casual meal, with flowers.\n"
     ]
    },
    {
     "name": "stderr",
     "output_type": "stream",
     "text": [
      " 40%|████      | 80/200 [02:52<04:15,  2.13s/it]"
     ]
    },
    {
     "name": "stdout",
     "output_type": "stream",
     "text": [
      "Watermark Presence Prob.: 0.5\n",
      "caption : A red table topped with four white place mats.\n",
      "Watermark Presence Prob.: 0.5208333333333334\n",
      "caption : there is a dining room table with a red cloth and a vase with roses\n",
      "Watermark Presence Prob.: 0.5\n",
      "caption : a table with a red tablecloth and white placemats\n",
      "Watermark Presence Prob.: 0.5625\n",
      "caption : A small dinning table with all red napkins and a red table cloth . \n",
      "Watermark Presence Prob.: 0.4791666666666667\n",
      "---------- Count = 81 : Visual Paraphrasing for the watermarked version of 371029-------------\n",
      "\n",
      "Image name :  Image_371029.jpg\n",
      "Image id : 371029\n"
     ]
    },
    {
     "data": {
      "application/vnd.jupyter.widget-view+json": {
       "model_id": "dc4c4d3a0e9940dfa107131ae112e66a",
       "version_major": 2,
       "version_minor": 0
      },
      "text/plain": [
       "  0%|          | 0/5 [00:00<?, ?it/s]"
      ]
     },
     "metadata": {},
     "output_type": "display_data"
    },
    {
     "name": "stdout",
     "output_type": "stream",
     "text": [
      "Saving generated images at /raid/home/ashhar21137/watermarking3/stable_signature/ss_paraphrase_0.15/371029\n",
      "Generated Image saved to /raid/home/ashhar21137/watermarking3/stable_signature/ss_paraphrase_0.15/371029/371029_gen_0.png\n",
      "Generated Image saved to /raid/home/ashhar21137/watermarking3/stable_signature/ss_paraphrase_0.15/371029/371029_gen_1.png\n",
      "Generated Image saved to /raid/home/ashhar21137/watermarking3/stable_signature/ss_paraphrase_0.15/371029/371029_gen_2.png\n",
      "Generated Image saved to /raid/home/ashhar21137/watermarking3/stable_signature/ss_paraphrase_0.15/371029/371029_gen_3.png\n",
      "Generated Image saved to /raid/home/ashhar21137/watermarking3/stable_signature/ss_paraphrase_0.15/371029/371029_gen_4.png\n",
      "\n",
      "Number of images generated :  5\n",
      "\n",
      "********** Watermark detection for generated images ***************\n",
      "caption : Three sheep standing in a snowy field on a misty day\n",
      "Watermark Presence Prob.: 0.5\n",
      "caption : Three sheep sit quietly on a snowy hillside. \n",
      "Watermark Presence Prob.: 0.5416666666666666\n",
      "caption : A group of sheep that are standing in the snow.\n",
      "Watermark Presence Prob.: 0.5\n",
      "caption : three sheep standing side by side on a snowy field\n"
     ]
    },
    {
     "name": "stderr",
     "output_type": "stream",
     "text": [
      " 40%|████      | 81/200 [02:54<04:11,  2.11s/it]"
     ]
    },
    {
     "name": "stdout",
     "output_type": "stream",
     "text": [
      "Watermark Presence Prob.: 0.5208333333333334\n",
      "caption : Three baby sheeps standing on a snowy hill. \n",
      "Watermark Presence Prob.: 0.5\n",
      "---------- Count = 82 : Visual Paraphrasing for the watermarked version of 259446-------------\n",
      "\n",
      "Image name :  Image_259446.jpg\n",
      "Image id : 259446\n"
     ]
    },
    {
     "data": {
      "application/vnd.jupyter.widget-view+json": {
       "model_id": "8425a192a38b4ae3b9297ca8692d320a",
       "version_major": 2,
       "version_minor": 0
      },
      "text/plain": [
       "  0%|          | 0/5 [00:00<?, ?it/s]"
      ]
     },
     "metadata": {},
     "output_type": "display_data"
    },
    {
     "name": "stdout",
     "output_type": "stream",
     "text": [
      "Saving generated images at /raid/home/ashhar21137/watermarking3/stable_signature/ss_paraphrase_0.15/259446\n",
      "Generated Image saved to /raid/home/ashhar21137/watermarking3/stable_signature/ss_paraphrase_0.15/259446/259446_gen_0.png\n",
      "Generated Image saved to /raid/home/ashhar21137/watermarking3/stable_signature/ss_paraphrase_0.15/259446/259446_gen_1.png\n",
      "Generated Image saved to /raid/home/ashhar21137/watermarking3/stable_signature/ss_paraphrase_0.15/259446/259446_gen_2.png\n",
      "Generated Image saved to /raid/home/ashhar21137/watermarking3/stable_signature/ss_paraphrase_0.15/259446/259446_gen_3.png\n"
     ]
    },
    {
     "name": "stderr",
     "output_type": "stream",
     "text": [
      " 41%|████      | 82/200 [02:56<03:53,  1.98s/it]"
     ]
    },
    {
     "name": "stdout",
     "output_type": "stream",
     "text": [
      "Generated Image saved to /raid/home/ashhar21137/watermarking3/stable_signature/ss_paraphrase_0.15/259446/259446_gen_4.png\n",
      "\n",
      "Number of images generated :  5\n",
      "\n",
      "********** Watermark detection for generated images ***************\n",
      "caption : Two giraffes and two ostriches in an enclosure. \n",
      "Watermark Presence Prob.: 0.5416666666666666\n",
      "caption : A zoo enclosure containing giraffes and ostriches in the same exhibit.\n",
      "Watermark Presence Prob.: 0.5208333333333334\n",
      "caption : Giraffes and ostriches are sharing a grassy area.\n",
      "Watermark Presence Prob.: 0.5\n",
      "caption : An adult giraffe near a tree and a bird in the grass.\n",
      "Watermark Presence Prob.: 0.5416666666666666\n",
      "caption : Some giraffes and ostriches in a grass field with trees.\n",
      "Watermark Presence Prob.: 0.5\n",
      "---------- Count = 83 : Visual Paraphrasing for the watermarked version of 55627-------------\n",
      "\n",
      "Image name :  Image_55627.jpg\n",
      "Image id : 55627\n"
     ]
    },
    {
     "data": {
      "application/vnd.jupyter.widget-view+json": {
       "model_id": "2a0cd15443e3477f80eaf0a65e2baef2",
       "version_major": 2,
       "version_minor": 0
      },
      "text/plain": [
       "  0%|          | 0/5 [00:00<?, ?it/s]"
      ]
     },
     "metadata": {},
     "output_type": "display_data"
    },
    {
     "name": "stdout",
     "output_type": "stream",
     "text": [
      "Saving generated images at /raid/home/ashhar21137/watermarking3/stable_signature/ss_paraphrase_0.15/55627\n",
      "Generated Image saved to /raid/home/ashhar21137/watermarking3/stable_signature/ss_paraphrase_0.15/55627/55627_gen_0.png\n",
      "Generated Image saved to /raid/home/ashhar21137/watermarking3/stable_signature/ss_paraphrase_0.15/55627/55627_gen_1.png\n",
      "Generated Image saved to /raid/home/ashhar21137/watermarking3/stable_signature/ss_paraphrase_0.15/55627/55627_gen_2.png\n",
      "Generated Image saved to /raid/home/ashhar21137/watermarking3/stable_signature/ss_paraphrase_0.15/55627/55627_gen_3.png\n",
      "Generated Image saved to /raid/home/ashhar21137/watermarking3/stable_signature/ss_paraphrase_0.15/55627/55627_gen_4.png\n",
      "\n",
      "Number of images generated :  5\n",
      "\n",
      "********** Watermark detection for generated images ***************\n",
      "caption : A bathroom is freshly cleaned and ready for hotel patrons.\n",
      "Watermark Presence Prob.: 0.5833333333333334\n",
      "caption : Closed toilet, sink, and mirror in a modern bathroom.\n",
      "Watermark Presence Prob.: 0.5625\n",
      "caption : A bathroom with a mirror above the sink, a towel rack and toilet.\n",
      "Watermark Presence Prob.: 0.5833333333333334\n",
      "caption : There is a sink and toilet in the bathroom.\n",
      "Watermark Presence Prob.: 0.5416666666666666\n",
      "caption : Heated towel racks and a built in hairdryer in a hotel bathroom\n"
     ]
    },
    {
     "name": "stderr",
     "output_type": "stream",
     "text": [
      " 42%|████▏     | 83/200 [02:59<04:13,  2.17s/it]"
     ]
    },
    {
     "name": "stdout",
     "output_type": "stream",
     "text": [
      "Watermark Presence Prob.: 0.5833333333333334\n",
      "---------- Count = 84 : Visual Paraphrasing for the watermarked version of 334080-------------\n",
      "\n",
      "Image name :  Image_334080.jpg\n",
      "Image id : 334080\n"
     ]
    },
    {
     "data": {
      "application/vnd.jupyter.widget-view+json": {
       "model_id": "4235acad0b474bb8ace518793e027163",
       "version_major": 2,
       "version_minor": 0
      },
      "text/plain": [
       "  0%|          | 0/5 [00:00<?, ?it/s]"
      ]
     },
     "metadata": {},
     "output_type": "display_data"
    },
    {
     "name": "stdout",
     "output_type": "stream",
     "text": [
      "Saving generated images at /raid/home/ashhar21137/watermarking3/stable_signature/ss_paraphrase_0.15/334080\n",
      "Generated Image saved to /raid/home/ashhar21137/watermarking3/stable_signature/ss_paraphrase_0.15/334080/334080_gen_0.png\n",
      "Generated Image saved to /raid/home/ashhar21137/watermarking3/stable_signature/ss_paraphrase_0.15/334080/334080_gen_1.png\n",
      "Generated Image saved to /raid/home/ashhar21137/watermarking3/stable_signature/ss_paraphrase_0.15/334080/334080_gen_2.png\n"
     ]
    },
    {
     "name": "stderr",
     "output_type": "stream",
     "text": [
      " 42%|████▏     | 84/200 [03:01<04:05,  2.12s/it]"
     ]
    },
    {
     "name": "stdout",
     "output_type": "stream",
     "text": [
      "Generated Image saved to /raid/home/ashhar21137/watermarking3/stable_signature/ss_paraphrase_0.15/334080/334080_gen_3.png\n",
      "Generated Image saved to /raid/home/ashhar21137/watermarking3/stable_signature/ss_paraphrase_0.15/334080/334080_gen_4.png\n",
      "\n",
      "Number of images generated :  5\n",
      "\n",
      "********** Watermark detection for generated images ***************\n",
      "caption : Two giraffes standing the open away form one giraffe hiding in the trees.\n",
      "Watermark Presence Prob.: 0.6458333333333334\n",
      "caption : Two giraffes standing in the grass near trees.\n",
      "Watermark Presence Prob.: 0.625\n",
      "caption : Some very cute giraffes in a wooded area.\n",
      "Watermark Presence Prob.: 0.6666666666666666\n",
      "caption : Three giraffes stand in a grove of small trees.\n",
      "Watermark Presence Prob.: 0.625\n",
      "caption : a couple of giraffes are standing in a field\n",
      "Watermark Presence Prob.: 0.6666666666666666\n",
      "---------- Count = 85 : Visual Paraphrasing for the watermarked version of 150867-------------\n",
      "\n",
      "Image name :  Image_150867.jpg\n",
      "Image id : 150867\n"
     ]
    },
    {
     "data": {
      "application/vnd.jupyter.widget-view+json": {
       "model_id": "608485501d5249788d0f331de8c40951",
       "version_major": 2,
       "version_minor": 0
      },
      "text/plain": [
       "  0%|          | 0/5 [00:00<?, ?it/s]"
      ]
     },
     "metadata": {},
     "output_type": "display_data"
    },
    {
     "name": "stdout",
     "output_type": "stream",
     "text": [
      "Saving generated images at /raid/home/ashhar21137/watermarking3/stable_signature/ss_paraphrase_0.15/150867\n",
      "Generated Image saved to /raid/home/ashhar21137/watermarking3/stable_signature/ss_paraphrase_0.15/150867/150867_gen_0.png\n",
      "Generated Image saved to /raid/home/ashhar21137/watermarking3/stable_signature/ss_paraphrase_0.15/150867/150867_gen_1.png\n",
      "Generated Image saved to /raid/home/ashhar21137/watermarking3/stable_signature/ss_paraphrase_0.15/150867/150867_gen_2.png\n",
      "Generated Image saved to /raid/home/ashhar21137/watermarking3/stable_signature/ss_paraphrase_0.15/150867/150867_gen_3.png\n",
      "Generated Image saved to /raid/home/ashhar21137/watermarking3/stable_signature/ss_paraphrase_0.15/150867/150867_gen_4.png\n",
      "\n",
      "Number of images generated :  5\n",
      "\n",
      "********** Watermark detection for generated images ***************\n",
      "caption : This bench is creating a shadow that looks like a cross.\n",
      "Watermark Presence Prob.: 0.5416666666666666\n",
      "caption : Empty wooden benches set along a boardwalk in a shopping area.\n",
      "Watermark Presence Prob.: 0.4791666666666667\n",
      "caption : Empty wooden benches on a wooden platform.in a public space\n",
      "Watermark Presence Prob.: 0.5833333333333334\n",
      "caption : The mall sitting area with many benches for rest.\n",
      "Watermark Presence Prob.: 0.5\n",
      "caption : Seating area with many benches outside a building.\n"
     ]
    },
    {
     "name": "stderr",
     "output_type": "stream",
     "text": [
      " 42%|████▎     | 85/200 [03:03<04:05,  2.13s/it]"
     ]
    },
    {
     "name": "stdout",
     "output_type": "stream",
     "text": [
      "Watermark Presence Prob.: 0.5625\n",
      "---------- Count = 86 : Visual Paraphrasing for the watermarked version of 470072-------------\n",
      "\n",
      "Image name :  Image_470072.jpg\n",
      "Image id : 470072\n"
     ]
    },
    {
     "data": {
      "application/vnd.jupyter.widget-view+json": {
       "model_id": "6b74fe410fdf42b89a73f9af9c8a570b",
       "version_major": 2,
       "version_minor": 0
      },
      "text/plain": [
       "  0%|          | 0/5 [00:00<?, ?it/s]"
      ]
     },
     "metadata": {},
     "output_type": "display_data"
    },
    {
     "name": "stdout",
     "output_type": "stream",
     "text": [
      "Saving generated images at /raid/home/ashhar21137/watermarking3/stable_signature/ss_paraphrase_0.15/470072\n",
      "Generated Image saved to /raid/home/ashhar21137/watermarking3/stable_signature/ss_paraphrase_0.15/470072/470072_gen_0.png\n",
      "Generated Image saved to /raid/home/ashhar21137/watermarking3/stable_signature/ss_paraphrase_0.15/470072/470072_gen_1.png\n",
      "Generated Image saved to /raid/home/ashhar21137/watermarking3/stable_signature/ss_paraphrase_0.15/470072/470072_gen_2.png\n",
      "Generated Image saved to /raid/home/ashhar21137/watermarking3/stable_signature/ss_paraphrase_0.15/470072/470072_gen_3.png\n",
      "Generated Image saved to /raid/home/ashhar21137/watermarking3/stable_signature/ss_paraphrase_0.15/470072/470072_gen_4.png\n",
      "\n",
      "Number of images generated :  5\n",
      "\n",
      "********** Watermark detection for generated images ***************\n",
      "caption : a grill that has a bunch of burgers on it\n"
     ]
    },
    {
     "name": "stderr",
     "output_type": "stream",
     "text": [
      " 43%|████▎     | 86/200 [03:05<04:11,  2.21s/it]"
     ]
    },
    {
     "name": "stdout",
     "output_type": "stream",
     "text": [
      "Watermark Presence Prob.: 0.4375\n",
      "caption : Two men standing next to an oven with sandwiches\n",
      "Watermark Presence Prob.: 0.5416666666666666\n",
      "caption : A restaurant's grill top is full of meats and sandwiches.\n",
      "Watermark Presence Prob.: 0.4583333333333333\n",
      "caption : Food on a grill with people working \n",
      "Watermark Presence Prob.: 0.5416666666666666\n",
      "caption : A view of a bunch of burgers being made on a grill.\n",
      "Watermark Presence Prob.: 0.5208333333333334\n",
      "---------- Count = 87 : Visual Paraphrasing for the watermarked version of 181104-------------\n",
      "\n",
      "Image name :  Image_181104.jpg\n",
      "Image id : 181104\n"
     ]
    },
    {
     "data": {
      "application/vnd.jupyter.widget-view+json": {
       "model_id": "005b424db4004bbcb6414728125e31aa",
       "version_major": 2,
       "version_minor": 0
      },
      "text/plain": [
       "  0%|          | 0/5 [00:00<?, ?it/s]"
      ]
     },
     "metadata": {},
     "output_type": "display_data"
    },
    {
     "name": "stdout",
     "output_type": "stream",
     "text": [
      "Saving generated images at /raid/home/ashhar21137/watermarking3/stable_signature/ss_paraphrase_0.15/181104\n",
      "Generated Image saved to /raid/home/ashhar21137/watermarking3/stable_signature/ss_paraphrase_0.15/181104/181104_gen_0.png\n",
      "Generated Image saved to /raid/home/ashhar21137/watermarking3/stable_signature/ss_paraphrase_0.15/181104/181104_gen_1.png\n",
      "Generated Image saved to /raid/home/ashhar21137/watermarking3/stable_signature/ss_paraphrase_0.15/181104/181104_gen_2.png\n",
      "Generated Image saved to /raid/home/ashhar21137/watermarking3/stable_signature/ss_paraphrase_0.15/181104/181104_gen_3.png\n",
      "Generated Image saved to /raid/home/ashhar21137/watermarking3/stable_signature/ss_paraphrase_0.15/181104/181104_gen_4.png\n",
      "\n",
      "Number of images generated :  5\n",
      "\n",
      "********** Watermark detection for generated images ***************\n",
      "caption : A white bathtub sitting in a bathroom next to a sink.\n"
     ]
    },
    {
     "name": "stderr",
     "output_type": "stream",
     "text": [
      " 44%|████▎     | 87/200 [03:08<04:15,  2.26s/it]"
     ]
    },
    {
     "name": "stdout",
     "output_type": "stream",
     "text": [
      "Watermark Presence Prob.: 0.4791666666666667\n",
      "caption : The small bathroom has a grey and white motif.\n",
      "Watermark Presence Prob.: 0.5416666666666666\n",
      "caption : A bathroom with a black door and a white tub\n",
      "Watermark Presence Prob.: 0.5416666666666666\n",
      "caption : a bathroom has one black wall and a black floor\n",
      "Watermark Presence Prob.: 0.5\n",
      "caption : A tiled bathroom with mirrors in the bathtub\n",
      "Watermark Presence Prob.: 0.5208333333333334\n",
      "---------- Count = 88 : Visual Paraphrasing for the watermarked version of 559527-------------\n",
      "\n",
      "Image name :  Image_559527.jpg\n",
      "Image id : 559527\n"
     ]
    },
    {
     "data": {
      "application/vnd.jupyter.widget-view+json": {
       "model_id": "bf3de4ea3fb943668eb7f92840b8e9e9",
       "version_major": 2,
       "version_minor": 0
      },
      "text/plain": [
       "  0%|          | 0/5 [00:00<?, ?it/s]"
      ]
     },
     "metadata": {},
     "output_type": "display_data"
    },
    {
     "name": "stdout",
     "output_type": "stream",
     "text": [
      "Saving generated images at /raid/home/ashhar21137/watermarking3/stable_signature/ss_paraphrase_0.15/559527\n",
      "Generated Image saved to /raid/home/ashhar21137/watermarking3/stable_signature/ss_paraphrase_0.15/559527/559527_gen_0.png\n",
      "Generated Image saved to /raid/home/ashhar21137/watermarking3/stable_signature/ss_paraphrase_0.15/559527/559527_gen_1.png\n",
      "Generated Image saved to /raid/home/ashhar21137/watermarking3/stable_signature/ss_paraphrase_0.15/559527/559527_gen_2.png\n",
      "Generated Image saved to /raid/home/ashhar21137/watermarking3/stable_signature/ss_paraphrase_0.15/559527/559527_gen_3.png\n",
      "Generated Image saved to /raid/home/ashhar21137/watermarking3/stable_signature/ss_paraphrase_0.15/559527/559527_gen_4.png\n",
      "\n",
      "Number of images generated :  5\n",
      "\n",
      "********** Watermark detection for generated images ***************\n",
      "caption : A plate with churros and hot chocolate on a wooden table. \n",
      "Watermark Presence Prob.: 0.5833333333333334\n",
      "caption : deep fried bread on a plate with a cup of melted chocolate\n",
      "Watermark Presence Prob.: 0.5416666666666666\n",
      "caption : A food entree is shown next to sauce.\n"
     ]
    },
    {
     "name": "stderr",
     "output_type": "stream",
     "text": [
      " 44%|████▍     | 88/200 [03:10<04:19,  2.32s/it]"
     ]
    },
    {
     "name": "stdout",
     "output_type": "stream",
     "text": [
      "Watermark Presence Prob.: 0.625\n",
      "caption : A delicious plate of churro with chocolate sauce.\n",
      "Watermark Presence Prob.: 0.5625\n",
      "caption : Churros and a cup of chocolate are on a green oval plate.\n",
      "Watermark Presence Prob.: 0.5833333333333334\n",
      "---------- Count = 89 : Visual Paraphrasing for the watermarked version of 209967-------------\n",
      "\n",
      "Image name :  Image_209967.jpg\n",
      "Image id : 209967\n"
     ]
    },
    {
     "data": {
      "application/vnd.jupyter.widget-view+json": {
       "model_id": "9b9d67ea5cd345109a080b0f7822c2c8",
       "version_major": 2,
       "version_minor": 0
      },
      "text/plain": [
       "  0%|          | 0/5 [00:00<?, ?it/s]"
      ]
     },
     "metadata": {},
     "output_type": "display_data"
    },
    {
     "name": "stdout",
     "output_type": "stream",
     "text": [
      "Saving generated images at /raid/home/ashhar21137/watermarking3/stable_signature/ss_paraphrase_0.15/209967\n",
      "Generated Image saved to /raid/home/ashhar21137/watermarking3/stable_signature/ss_paraphrase_0.15/209967/209967_gen_0.png\n",
      "Generated Image saved to /raid/home/ashhar21137/watermarking3/stable_signature/ss_paraphrase_0.15/209967/209967_gen_1.png\n",
      "Generated Image saved to /raid/home/ashhar21137/watermarking3/stable_signature/ss_paraphrase_0.15/209967/209967_gen_2.png\n",
      "Generated Image saved to /raid/home/ashhar21137/watermarking3/stable_signature/ss_paraphrase_0.15/209967/209967_gen_3.png\n",
      "Generated Image saved to /raid/home/ashhar21137/watermarking3/stable_signature/ss_paraphrase_0.15/209967/209967_gen_4.png\n",
      "\n",
      "Number of images generated :  5\n",
      "\n",
      "********** Watermark detection for generated images ***************\n",
      "caption : A sink and vanity with overhead lights a decorative piece on the wall and a commode.\n",
      "Watermark Presence Prob.: 0.625\n",
      "caption : The light is on over the sink in the bathroom.\n",
      "Watermark Presence Prob.: 0.6458333333333334\n",
      "caption : A marble tiled counter in a small bathroom\n",
      "Watermark Presence Prob.: 0.5833333333333334\n",
      "caption : A bathroom with a Monogrammed symbol above a toilet.\n"
     ]
    },
    {
     "name": "stderr",
     "output_type": "stream",
     "text": [
      " 44%|████▍     | 89/200 [03:13<04:24,  2.38s/it]"
     ]
    },
    {
     "name": "stdout",
     "output_type": "stream",
     "text": [
      "Watermark Presence Prob.: 0.625\n",
      "caption : this bathroom has a sculpture hanging on the wall\n",
      "Watermark Presence Prob.: 0.625\n",
      "---------- Count = 90 : Visual Paraphrasing for the watermarked version of 444546-------------\n",
      "\n",
      "Image name :  Image_444546.jpg\n",
      "Image id : 444546\n"
     ]
    },
    {
     "data": {
      "application/vnd.jupyter.widget-view+json": {
       "model_id": "28bffb9491014d959161bbca968423cf",
       "version_major": 2,
       "version_minor": 0
      },
      "text/plain": [
       "  0%|          | 0/5 [00:00<?, ?it/s]"
      ]
     },
     "metadata": {},
     "output_type": "display_data"
    },
    {
     "name": "stdout",
     "output_type": "stream",
     "text": [
      "Saving generated images at /raid/home/ashhar21137/watermarking3/stable_signature/ss_paraphrase_0.15/444546\n",
      "Generated Image saved to /raid/home/ashhar21137/watermarking3/stable_signature/ss_paraphrase_0.15/444546/444546_gen_0.png\n",
      "Generated Image saved to /raid/home/ashhar21137/watermarking3/stable_signature/ss_paraphrase_0.15/444546/444546_gen_1.png\n",
      "Generated Image saved to /raid/home/ashhar21137/watermarking3/stable_signature/ss_paraphrase_0.15/444546/444546_gen_2.png\n",
      "Generated Image saved to /raid/home/ashhar21137/watermarking3/stable_signature/ss_paraphrase_0.15/444546/444546_gen_3.png\n",
      "Generated Image saved to /raid/home/ashhar21137/watermarking3/stable_signature/ss_paraphrase_0.15/444546/444546_gen_4.png\n",
      "\n",
      "Number of images generated :  5\n",
      "\n",
      "********** Watermark detection for generated images ***************\n",
      "caption : a spoon and a fork that is on a table\n",
      "Watermark Presence Prob.: 0.4583333333333333\n",
      "caption : The spoon and fork are on the napkin near a glass. \n",
      "Watermark Presence Prob.: 0.5416666666666666\n",
      "caption : A napkin with a cup, spoon, and knife arranged on it.\n",
      "Watermark Presence Prob.: 0.4583333333333333\n",
      "caption : a spoon and fork crossed over each other next to a clear glass \n"
     ]
    },
    {
     "name": "stderr",
     "output_type": "stream",
     "text": [
      " 45%|████▌     | 90/200 [03:15<04:29,  2.45s/it]"
     ]
    },
    {
     "name": "stdout",
     "output_type": "stream",
     "text": [
      "Watermark Presence Prob.: 0.4791666666666667\n",
      "caption : An empty table with a fork, spoon, and glass.\n",
      "Watermark Presence Prob.: 0.4375\n",
      "---------- Count = 91 : Visual Paraphrasing for the watermarked version of 409513-------------\n",
      "\n",
      "Image name :  Image_409513.jpg\n",
      "Image id : 409513\n"
     ]
    },
    {
     "data": {
      "application/vnd.jupyter.widget-view+json": {
       "model_id": "e1f8b778363e48c0b49a2e93b1fb1384",
       "version_major": 2,
       "version_minor": 0
      },
      "text/plain": [
       "  0%|          | 0/5 [00:00<?, ?it/s]"
      ]
     },
     "metadata": {},
     "output_type": "display_data"
    },
    {
     "name": "stdout",
     "output_type": "stream",
     "text": [
      "Saving generated images at /raid/home/ashhar21137/watermarking3/stable_signature/ss_paraphrase_0.15/409513\n",
      "Generated Image saved to /raid/home/ashhar21137/watermarking3/stable_signature/ss_paraphrase_0.15/409513/409513_gen_0.png\n",
      "Generated Image saved to /raid/home/ashhar21137/watermarking3/stable_signature/ss_paraphrase_0.15/409513/409513_gen_1.png\n",
      "Generated Image saved to /raid/home/ashhar21137/watermarking3/stable_signature/ss_paraphrase_0.15/409513/409513_gen_2.png\n",
      "Generated Image saved to /raid/home/ashhar21137/watermarking3/stable_signature/ss_paraphrase_0.15/409513/409513_gen_3.png\n",
      "Generated Image saved to /raid/home/ashhar21137/watermarking3/stable_signature/ss_paraphrase_0.15/409513/409513_gen_4.png\n",
      "\n",
      "Number of images generated :  5\n",
      "\n",
      "********** Watermark detection for generated images ***************\n",
      "caption : A sheep rolling around the green grass in an open field.\n",
      "Watermark Presence Prob.: 0.5208333333333334\n",
      "caption : A picture of an animal laying in the grass.\n",
      "Watermark Presence Prob.: 0.5208333333333334\n",
      "caption : An horned animal laying down in the grass.\n"
     ]
    },
    {
     "name": "stderr",
     "output_type": "stream",
     "text": [
      " 46%|████▌     | 91/200 [03:18<04:23,  2.42s/it]"
     ]
    },
    {
     "name": "stdout",
     "output_type": "stream",
     "text": [
      "Watermark Presence Prob.: 0.5416666666666666\n",
      "caption : Some type of animal with a white coat laying in the green grass\n",
      "Watermark Presence Prob.: 0.5208333333333334\n",
      "caption : A white sheep is lying on the grass.\n",
      "Watermark Presence Prob.: 0.5625\n",
      "---------- Count = 92 : Visual Paraphrasing for the watermarked version of 165499-------------\n",
      "\n",
      "Image name :  Image_165499.jpg\n",
      "Image id : 165499\n"
     ]
    },
    {
     "data": {
      "application/vnd.jupyter.widget-view+json": {
       "model_id": "f9df6b381c944fe498d1d94aa9fb914f",
       "version_major": 2,
       "version_minor": 0
      },
      "text/plain": [
       "  0%|          | 0/5 [00:00<?, ?it/s]"
      ]
     },
     "metadata": {},
     "output_type": "display_data"
    },
    {
     "name": "stdout",
     "output_type": "stream",
     "text": [
      "Saving generated images at /raid/home/ashhar21137/watermarking3/stable_signature/ss_paraphrase_0.15/165499\n",
      "Generated Image saved to /raid/home/ashhar21137/watermarking3/stable_signature/ss_paraphrase_0.15/165499/165499_gen_0.png\n",
      "Generated Image saved to /raid/home/ashhar21137/watermarking3/stable_signature/ss_paraphrase_0.15/165499/165499_gen_1.png\n",
      "Generated Image saved to /raid/home/ashhar21137/watermarking3/stable_signature/ss_paraphrase_0.15/165499/165499_gen_2.png\n",
      "Generated Image saved to /raid/home/ashhar21137/watermarking3/stable_signature/ss_paraphrase_0.15/165499/165499_gen_3.png\n",
      "Generated Image saved to /raid/home/ashhar21137/watermarking3/stable_signature/ss_paraphrase_0.15/165499/165499_gen_4.png\n",
      "\n",
      "Number of images generated :  5\n",
      "\n",
      "********** Watermark detection for generated images ***************\n",
      "caption : A bathroom shower with glass doors and tile walls. \n",
      "Watermark Presence Prob.: 0.5625\n",
      "caption : a bathroom with a white sink shower and toilet\n"
     ]
    },
    {
     "name": "stderr",
     "output_type": "stream",
     "text": [
      " 46%|████▌     | 92/200 [03:20<04:21,  2.42s/it]"
     ]
    },
    {
     "name": "stdout",
     "output_type": "stream",
     "text": [
      "Watermark Presence Prob.: 0.5833333333333334\n",
      "caption : Bathroom that has a toilet, shower, and sink.\n",
      "Watermark Presence Prob.: 0.5625\n",
      "caption : A modern bathroom has a corner shower that's clear.\n",
      "Watermark Presence Prob.: 0.5833333333333334\n",
      "caption : A bathroom with a see-through shower door. \n",
      "Watermark Presence Prob.: 0.5416666666666666\n",
      "---------- Count = 93 : Visual Paraphrasing for the watermarked version of 351430-------------\n",
      "\n",
      "Image name :  Image_351430.jpg\n",
      "Image id : 351430\n"
     ]
    },
    {
     "data": {
      "application/vnd.jupyter.widget-view+json": {
       "model_id": "92ac6e08e40c4b949b0aac4e8aeb5220",
       "version_major": 2,
       "version_minor": 0
      },
      "text/plain": [
       "  0%|          | 0/5 [00:00<?, ?it/s]"
      ]
     },
     "metadata": {},
     "output_type": "display_data"
    },
    {
     "name": "stdout",
     "output_type": "stream",
     "text": [
      "Saving generated images at /raid/home/ashhar21137/watermarking3/stable_signature/ss_paraphrase_0.15/351430\n",
      "Generated Image saved to /raid/home/ashhar21137/watermarking3/stable_signature/ss_paraphrase_0.15/351430/351430_gen_0.png\n",
      "Generated Image saved to /raid/home/ashhar21137/watermarking3/stable_signature/ss_paraphrase_0.15/351430/351430_gen_1.png\n",
      "Generated Image saved to /raid/home/ashhar21137/watermarking3/stable_signature/ss_paraphrase_0.15/351430/351430_gen_2.png\n",
      "Generated Image saved to /raid/home/ashhar21137/watermarking3/stable_signature/ss_paraphrase_0.15/351430/351430_gen_3.png\n"
     ]
    },
    {
     "name": "stderr",
     "output_type": "stream",
     "text": [
      " 46%|████▋     | 93/200 [03:22<04:06,  2.31s/it]"
     ]
    },
    {
     "name": "stdout",
     "output_type": "stream",
     "text": [
      "Generated Image saved to /raid/home/ashhar21137/watermarking3/stable_signature/ss_paraphrase_0.15/351430/351430_gen_4.png\n",
      "\n",
      "Number of images generated :  5\n",
      "\n",
      "********** Watermark detection for generated images ***************\n",
      "caption : A woman sitting on a park bench with a contemplative look.\n",
      "Watermark Presence Prob.: 0.5833333333333334\n",
      "caption : A woman is sitting on a bench in a park.\n",
      "Watermark Presence Prob.: 0.6041666666666666\n",
      "caption : The woman is sitting on a bench on a sunny day.\n",
      "Watermark Presence Prob.: 0.5416666666666666\n",
      "caption : A teenaged girl in a purple shirt sits on a bench in the sun.\n",
      "Watermark Presence Prob.: 0.6041666666666666\n",
      "caption : the girl is sitting on the bench looking up \n",
      "Watermark Presence Prob.: 0.5416666666666666\n",
      "---------- Count = 94 : Visual Paraphrasing for the watermarked version of 36633-------------\n",
      "\n",
      "Image name :  Image_36633.jpg\n",
      "Image id : 36633\n"
     ]
    },
    {
     "data": {
      "application/vnd.jupyter.widget-view+json": {
       "model_id": "921c62b42ea6419595896f07f1715a40",
       "version_major": 2,
       "version_minor": 0
      },
      "text/plain": [
       "  0%|          | 0/5 [00:00<?, ?it/s]"
      ]
     },
     "metadata": {},
     "output_type": "display_data"
    },
    {
     "name": "stdout",
     "output_type": "stream",
     "text": [
      "Saving generated images at /raid/home/ashhar21137/watermarking3/stable_signature/ss_paraphrase_0.15/36633\n",
      "Generated Image saved to /raid/home/ashhar21137/watermarking3/stable_signature/ss_paraphrase_0.15/36633/36633_gen_0.png\n",
      "Generated Image saved to /raid/home/ashhar21137/watermarking3/stable_signature/ss_paraphrase_0.15/36633/36633_gen_1.png\n",
      "Generated Image saved to /raid/home/ashhar21137/watermarking3/stable_signature/ss_paraphrase_0.15/36633/36633_gen_2.png\n",
      "Generated Image saved to /raid/home/ashhar21137/watermarking3/stable_signature/ss_paraphrase_0.15/36633/36633_gen_3.png\n",
      "Generated Image saved to /raid/home/ashhar21137/watermarking3/stable_signature/ss_paraphrase_0.15/36633/36633_gen_4.png\n",
      "\n",
      "Number of images generated :  5\n",
      "\n",
      "********** Watermark detection for generated images ***************\n",
      "caption : A toilet with a trash can and a roll of toilet paper on top \n",
      "Watermark Presence Prob.: 0.5833333333333334\n",
      "caption : A toilet sits in a simple yet messy bathroom.\n",
      "Watermark Presence Prob.: 0.5625\n",
      "caption : A toilet in a small bathroom with garbage on the ground.\n",
      "Watermark Presence Prob.: 0.6041666666666666\n",
      "caption : A bathroom stall with pantyhose on the floor. \n"
     ]
    },
    {
     "name": "stderr",
     "output_type": "stream",
     "text": [
      " 47%|████▋     | 94/200 [03:24<04:04,  2.31s/it]"
     ]
    },
    {
     "name": "stdout",
     "output_type": "stream",
     "text": [
      "Watermark Presence Prob.: 0.625\n",
      "caption : A toilet that is next to a trashcan and some toilet paper.\n",
      "Watermark Presence Prob.: 0.6041666666666666\n",
      "---------- Count = 95 : Visual Paraphrasing for the watermarked version of 147303-------------\n",
      "\n",
      "Image name :  Image_147303.jpg\n",
      "Image id : 147303\n"
     ]
    },
    {
     "data": {
      "application/vnd.jupyter.widget-view+json": {
       "model_id": "120df6472820490296b4791ca6974901",
       "version_major": 2,
       "version_minor": 0
      },
      "text/plain": [
       "  0%|          | 0/5 [00:00<?, ?it/s]"
      ]
     },
     "metadata": {},
     "output_type": "display_data"
    },
    {
     "name": "stdout",
     "output_type": "stream",
     "text": [
      "Saving generated images at /raid/home/ashhar21137/watermarking3/stable_signature/ss_paraphrase_0.15/147303\n",
      "Generated Image saved to /raid/home/ashhar21137/watermarking3/stable_signature/ss_paraphrase_0.15/147303/147303_gen_0.png\n",
      "Generated Image saved to /raid/home/ashhar21137/watermarking3/stable_signature/ss_paraphrase_0.15/147303/147303_gen_1.png\n",
      "Generated Image saved to /raid/home/ashhar21137/watermarking3/stable_signature/ss_paraphrase_0.15/147303/147303_gen_2.png\n",
      "Generated Image saved to /raid/home/ashhar21137/watermarking3/stable_signature/ss_paraphrase_0.15/147303/147303_gen_3.png\n",
      "Generated Image saved to /raid/home/ashhar21137/watermarking3/stable_signature/ss_paraphrase_0.15/147303/147303_gen_4.png\n",
      "\n",
      "Number of images generated :  5\n",
      "\n",
      "********** Watermark detection for generated images ***************\n",
      "caption : A row of transit buses sitting in a parking lot.\n",
      "Watermark Presence Prob.: 0.4791666666666667\n",
      "caption : The city buses are parked together in the parking lot.\n",
      "Watermark Presence Prob.: 0.5625\n",
      "caption : Several buses parked next to each other outside a bus terminal. \n",
      "Watermark Presence Prob.: 0.5\n",
      "caption : a row of city buses parked in a lot \n"
     ]
    },
    {
     "name": "stderr",
     "output_type": "stream",
     "text": [
      " 48%|████▊     | 95/200 [03:27<03:58,  2.27s/it]"
     ]
    },
    {
     "name": "stdout",
     "output_type": "stream",
     "text": [
      "Watermark Presence Prob.: 0.5208333333333334\n",
      "caption : A view of a parking lot with several buses. \n",
      "Watermark Presence Prob.: 0.5416666666666666\n",
      "---------- Count = 96 : Visual Paraphrasing for the watermarked version of 474882-------------\n",
      "\n",
      "Image name :  Image_474882.jpg\n",
      "Image id : 474882\n"
     ]
    },
    {
     "data": {
      "application/vnd.jupyter.widget-view+json": {
       "model_id": "bcdd85d8bceb4c8098ecc6c90d9f99c9",
       "version_major": 2,
       "version_minor": 0
      },
      "text/plain": [
       "  0%|          | 0/5 [00:00<?, ?it/s]"
      ]
     },
     "metadata": {},
     "output_type": "display_data"
    },
    {
     "name": "stdout",
     "output_type": "stream",
     "text": [
      "Saving generated images at /raid/home/ashhar21137/watermarking3/stable_signature/ss_paraphrase_0.15/474882\n",
      "Generated Image saved to /raid/home/ashhar21137/watermarking3/stable_signature/ss_paraphrase_0.15/474882/474882_gen_0.png\n",
      "Generated Image saved to /raid/home/ashhar21137/watermarking3/stable_signature/ss_paraphrase_0.15/474882/474882_gen_1.png\n",
      "Generated Image saved to /raid/home/ashhar21137/watermarking3/stable_signature/ss_paraphrase_0.15/474882/474882_gen_2.png\n",
      "Generated Image saved to /raid/home/ashhar21137/watermarking3/stable_signature/ss_paraphrase_0.15/474882/474882_gen_3.png\n",
      "Generated Image saved to /raid/home/ashhar21137/watermarking3/stable_signature/ss_paraphrase_0.15/474882/474882_gen_4.png\n",
      "\n",
      "Number of images generated :  5\n",
      "\n",
      "********** Watermark detection for generated images ***************\n",
      "caption : a small airplane sits empty on a runway in the mountains\n",
      "Watermark Presence Prob.: 0.5833333333333334\n",
      "caption : An orange monoplane is tied down on the tarmac.\n",
      "Watermark Presence Prob.: 0.5833333333333334\n",
      "caption : A small yellow and white plate sitting on top of a tarmac.\n",
      "Watermark Presence Prob.: 0.5625\n",
      "caption : An orange and white plan parked with mountains in the distance.\n"
     ]
    },
    {
     "name": "stderr",
     "output_type": "stream",
     "text": [
      " 48%|████▊     | 96/200 [03:29<04:05,  2.36s/it]"
     ]
    },
    {
     "name": "stdout",
     "output_type": "stream",
     "text": [
      "Watermark Presence Prob.: 0.5833333333333334\n",
      "caption : A small orange airplane with mountains in the distance.\n",
      "Watermark Presence Prob.: 0.5833333333333334\n",
      "---------- Count = 97 : Visual Paraphrasing for the watermarked version of 318574-------------\n",
      "\n",
      "Image name :  Image_318574.jpg\n",
      "Image id : 318574\n"
     ]
    },
    {
     "data": {
      "application/vnd.jupyter.widget-view+json": {
       "model_id": "b57f537277ed4d4cbde5a1eac9cd0ef2",
       "version_major": 2,
       "version_minor": 0
      },
      "text/plain": [
       "  0%|          | 0/5 [00:00<?, ?it/s]"
      ]
     },
     "metadata": {},
     "output_type": "display_data"
    },
    {
     "name": "stdout",
     "output_type": "stream",
     "text": [
      "Saving generated images at /raid/home/ashhar21137/watermarking3/stable_signature/ss_paraphrase_0.15/318574\n",
      "Generated Image saved to /raid/home/ashhar21137/watermarking3/stable_signature/ss_paraphrase_0.15/318574/318574_gen_0.png\n",
      "Generated Image saved to /raid/home/ashhar21137/watermarking3/stable_signature/ss_paraphrase_0.15/318574/318574_gen_1.png\n",
      "Generated Image saved to /raid/home/ashhar21137/watermarking3/stable_signature/ss_paraphrase_0.15/318574/318574_gen_2.png\n",
      "Generated Image saved to /raid/home/ashhar21137/watermarking3/stable_signature/ss_paraphrase_0.15/318574/318574_gen_3.png\n",
      "Generated Image saved to /raid/home/ashhar21137/watermarking3/stable_signature/ss_paraphrase_0.15/318574/318574_gen_4.png\n",
      "\n",
      "Number of images generated :  5\n",
      "\n",
      "********** Watermark detection for generated images ***************\n",
      "caption : Bicycle wheels are lined up on bicycles in a row.  \n"
     ]
    },
    {
     "name": "stderr",
     "output_type": "stream",
     "text": [
      " 48%|████▊     | 97/200 [03:31<03:51,  2.25s/it]"
     ]
    },
    {
     "name": "stdout",
     "output_type": "stream",
     "text": [
      "Watermark Presence Prob.: 0.5625\n",
      "caption : A crosswalk photo focusing on the wheels of bikes\n",
      "Watermark Presence Prob.: 0.5\n",
      "caption : A group of bicyclists going together on the street. \n",
      "Watermark Presence Prob.: 0.5416666666666666\n",
      "caption : People are riding bikes on a street. \n",
      "Watermark Presence Prob.: 0.4791666666666667\n",
      "caption : some people riding some bikes down the road \n",
      "Watermark Presence Prob.: 0.5208333333333334\n",
      "---------- Count = 98 : Visual Paraphrasing for the watermarked version of 222016-------------\n",
      "\n",
      "Image name :  Image_222016.jpg\n",
      "Image id : 222016\n"
     ]
    },
    {
     "data": {
      "application/vnd.jupyter.widget-view+json": {
       "model_id": "fea255a70c3145ae864a08ba214a5f6e",
       "version_major": 2,
       "version_minor": 0
      },
      "text/plain": [
       "  0%|          | 0/5 [00:00<?, ?it/s]"
      ]
     },
     "metadata": {},
     "output_type": "display_data"
    },
    {
     "name": "stdout",
     "output_type": "stream",
     "text": [
      "Saving generated images at /raid/home/ashhar21137/watermarking3/stable_signature/ss_paraphrase_0.15/222016\n",
      "Generated Image saved to /raid/home/ashhar21137/watermarking3/stable_signature/ss_paraphrase_0.15/222016/222016_gen_0.png\n",
      "Generated Image saved to /raid/home/ashhar21137/watermarking3/stable_signature/ss_paraphrase_0.15/222016/222016_gen_1.png\n",
      "Generated Image saved to /raid/home/ashhar21137/watermarking3/stable_signature/ss_paraphrase_0.15/222016/222016_gen_2.png\n"
     ]
    },
    {
     "name": "stderr",
     "output_type": "stream",
     "text": [
      " 49%|████▉     | 98/200 [03:33<03:34,  2.10s/it]"
     ]
    },
    {
     "name": "stdout",
     "output_type": "stream",
     "text": [
      "Generated Image saved to /raid/home/ashhar21137/watermarking3/stable_signature/ss_paraphrase_0.15/222016/222016_gen_3.png\n",
      "Generated Image saved to /raid/home/ashhar21137/watermarking3/stable_signature/ss_paraphrase_0.15/222016/222016_gen_4.png\n",
      "\n",
      "Number of images generated :  5\n",
      "\n",
      "********** Watermark detection for generated images ***************\n",
      "caption : a big red telephone booth that a man is standing in\n",
      "Watermark Presence Prob.: 0.4166666666666667\n",
      "caption : a person standing inside of a phone booth \n",
      "Watermark Presence Prob.: 0.5208333333333334\n",
      "caption : this is an image of a man in a phone booth.\n",
      "Watermark Presence Prob.: 0.5208333333333334\n",
      "caption : A man is standing in a red phone booth.\n",
      "Watermark Presence Prob.: 0.5\n",
      "caption : A man using a phone in a phone booth.\n",
      "Watermark Presence Prob.: 0.5625\n",
      "---------- Count = 99 : Visual Paraphrasing for the watermarked version of 236772-------------\n",
      "\n",
      "Image name :  Image_236772.jpg\n",
      "Image id : 236772\n"
     ]
    },
    {
     "data": {
      "application/vnd.jupyter.widget-view+json": {
       "model_id": "e559d8f0ee834c4b8b9f1d7cc4a52c49",
       "version_major": 2,
       "version_minor": 0
      },
      "text/plain": [
       "  0%|          | 0/5 [00:00<?, ?it/s]"
      ]
     },
     "metadata": {},
     "output_type": "display_data"
    },
    {
     "name": "stdout",
     "output_type": "stream",
     "text": [
      "Saving generated images at /raid/home/ashhar21137/watermarking3/stable_signature/ss_paraphrase_0.15/236772\n",
      "Generated Image saved to /raid/home/ashhar21137/watermarking3/stable_signature/ss_paraphrase_0.15/236772/236772_gen_0.png\n",
      "Generated Image saved to /raid/home/ashhar21137/watermarking3/stable_signature/ss_paraphrase_0.15/236772/236772_gen_1.png\n",
      "Generated Image saved to /raid/home/ashhar21137/watermarking3/stable_signature/ss_paraphrase_0.15/236772/236772_gen_2.png\n",
      "Generated Image saved to /raid/home/ashhar21137/watermarking3/stable_signature/ss_paraphrase_0.15/236772/236772_gen_3.png\n",
      "Generated Image saved to /raid/home/ashhar21137/watermarking3/stable_signature/ss_paraphrase_0.15/236772/236772_gen_4.png\n",
      "\n",
      "Number of images generated :  5\n",
      "\n",
      "********** Watermark detection for generated images ***************\n",
      "caption : In the bathroom a toilet is full of ice cubes.\n",
      "Watermark Presence Prob.: 0.5833333333333334\n",
      "caption : The toilet in the bathroom is filled with a bunch of ice.\n",
      "Watermark Presence Prob.: 0.5833333333333334\n",
      "caption : Ice cubes in the bottom of a toilet bowl.\n",
      "Watermark Presence Prob.: 0.5833333333333334\n",
      "caption : a big toilet that has some ice in it\n",
      "Watermark Presence Prob.: 0.5833333333333334\n",
      "caption : A view of a bunch of ice sitting in a toilet.\n"
     ]
    },
    {
     "name": "stderr",
     "output_type": "stream",
     "text": [
      " 50%|████▉     | 99/200 [03:35<03:28,  2.07s/it]"
     ]
    },
    {
     "name": "stdout",
     "output_type": "stream",
     "text": [
      "Watermark Presence Prob.: 0.6041666666666666\n",
      "---------- Count = 100 : Visual Paraphrasing for the watermarked version of 486320-------------\n",
      "\n",
      "Image name :  Image_486320.jpg\n",
      "Image id : 486320\n"
     ]
    },
    {
     "data": {
      "application/vnd.jupyter.widget-view+json": {
       "model_id": "3a98938d23264df7bac6f7558bf36f85",
       "version_major": 2,
       "version_minor": 0
      },
      "text/plain": [
       "  0%|          | 0/5 [00:00<?, ?it/s]"
      ]
     },
     "metadata": {},
     "output_type": "display_data"
    },
    {
     "name": "stdout",
     "output_type": "stream",
     "text": [
      "Saving generated images at /raid/home/ashhar21137/watermarking3/stable_signature/ss_paraphrase_0.15/486320\n",
      "Generated Image saved to /raid/home/ashhar21137/watermarking3/stable_signature/ss_paraphrase_0.15/486320/486320_gen_0.png\n",
      "Generated Image saved to /raid/home/ashhar21137/watermarking3/stable_signature/ss_paraphrase_0.15/486320/486320_gen_1.png\n",
      "Generated Image saved to /raid/home/ashhar21137/watermarking3/stable_signature/ss_paraphrase_0.15/486320/486320_gen_2.png\n",
      "Generated Image saved to /raid/home/ashhar21137/watermarking3/stable_signature/ss_paraphrase_0.15/486320/486320_gen_3.png\n",
      "Generated Image saved to /raid/home/ashhar21137/watermarking3/stable_signature/ss_paraphrase_0.15/486320/486320_gen_4.png\n",
      "\n",
      "Number of images generated :  5\n",
      "\n",
      "********** Watermark detection for generated images ***************\n",
      "caption : a bathroom that has a few different sinks in it\n",
      "Watermark Presence Prob.: 0.6041666666666666\n",
      "caption : a bath room with two sinks and a large mirror \n"
     ]
    },
    {
     "name": "stderr",
     "output_type": "stream",
     "text": [
      " 50%|█████     | 100/200 [03:37<03:23,  2.03s/it]"
     ]
    },
    {
     "name": "stdout",
     "output_type": "stream",
     "text": [
      "Watermark Presence Prob.: 0.5833333333333334\n",
      "caption : Lights shine on two matching, white, pedestal sinks.\n",
      "Watermark Presence Prob.: 0.5416666666666666\n",
      "caption : two bathroom sinks in front of a large mirror, with two lamps\n",
      "Watermark Presence Prob.: 0.5833333333333334\n",
      "caption : two sinks lights towels bottles and a mirror\n",
      "Watermark Presence Prob.: 0.6041666666666666\n",
      "---------- Count = 101 : Visual Paraphrasing for the watermarked version of 551125-------------\n",
      "\n",
      "Image name :  Image_551125.jpg\n",
      "Image id : 551125\n"
     ]
    },
    {
     "data": {
      "application/vnd.jupyter.widget-view+json": {
       "model_id": "15c7cf2bb95c4a3b9e215286ad1b8a46",
       "version_major": 2,
       "version_minor": 0
      },
      "text/plain": [
       "  0%|          | 0/5 [00:00<?, ?it/s]"
      ]
     },
     "metadata": {},
     "output_type": "display_data"
    },
    {
     "name": "stdout",
     "output_type": "stream",
     "text": [
      "Saving generated images at /raid/home/ashhar21137/watermarking3/stable_signature/ss_paraphrase_0.15/551125\n",
      "Generated Image saved to /raid/home/ashhar21137/watermarking3/stable_signature/ss_paraphrase_0.15/551125/551125_gen_0.png\n",
      "Generated Image saved to /raid/home/ashhar21137/watermarking3/stable_signature/ss_paraphrase_0.15/551125/551125_gen_1.png\n",
      "Generated Image saved to /raid/home/ashhar21137/watermarking3/stable_signature/ss_paraphrase_0.15/551125/551125_gen_2.png\n",
      "Generated Image saved to /raid/home/ashhar21137/watermarking3/stable_signature/ss_paraphrase_0.15/551125/551125_gen_3.png\n",
      "Generated Image saved to /raid/home/ashhar21137/watermarking3/stable_signature/ss_paraphrase_0.15/551125/551125_gen_4.png\n",
      "\n",
      "Number of images generated :  5\n",
      "\n",
      "********** Watermark detection for generated images ***************\n",
      "caption : A group of three urinals mounted to a wall.\n",
      "Watermark Presence Prob.: 0.5833333333333334\n",
      "caption : Three urinals are attached to a bathroom wall.\n"
     ]
    },
    {
     "name": "stderr",
     "output_type": "stream",
     "text": [
      " 50%|█████     | 101/200 [03:39<03:35,  2.18s/it]"
     ]
    },
    {
     "name": "stdout",
     "output_type": "stream",
     "text": [
      "Watermark Presence Prob.: 0.625\n",
      "caption : Three waterless urinals are more disgusting than one.\n",
      "Watermark Presence Prob.: 0.5833333333333334\n",
      "caption : Three urinals line a tiled wall in a restroom.\n",
      "Watermark Presence Prob.: 0.6666666666666666\n",
      "caption : Three modern looking urinals up against a wall.\n",
      "Watermark Presence Prob.: 0.6041666666666666\n",
      "---------- Count = 102 : Visual Paraphrasing for the watermarked version of 70868-------------\n",
      "\n",
      "Image name :  Image_70868.jpg\n",
      "Image id : 70868\n"
     ]
    },
    {
     "data": {
      "application/vnd.jupyter.widget-view+json": {
       "model_id": "9dec5fcda911439cbedf88e095fa53f0",
       "version_major": 2,
       "version_minor": 0
      },
      "text/plain": [
       "  0%|          | 0/5 [00:00<?, ?it/s]"
      ]
     },
     "metadata": {},
     "output_type": "display_data"
    },
    {
     "name": "stdout",
     "output_type": "stream",
     "text": [
      "Saving generated images at /raid/home/ashhar21137/watermarking3/stable_signature/ss_paraphrase_0.15/70868\n",
      "Generated Image saved to /raid/home/ashhar21137/watermarking3/stable_signature/ss_paraphrase_0.15/70868/70868_gen_0.png\n",
      "Generated Image saved to /raid/home/ashhar21137/watermarking3/stable_signature/ss_paraphrase_0.15/70868/70868_gen_1.png\n",
      "Generated Image saved to /raid/home/ashhar21137/watermarking3/stable_signature/ss_paraphrase_0.15/70868/70868_gen_2.png\n",
      "Generated Image saved to /raid/home/ashhar21137/watermarking3/stable_signature/ss_paraphrase_0.15/70868/70868_gen_3.png\n",
      "Generated Image saved to /raid/home/ashhar21137/watermarking3/stable_signature/ss_paraphrase_0.15/70868/70868_gen_4.png\n",
      "\n",
      "Number of images generated :  5\n",
      "\n",
      "********** Watermark detection for generated images ***************\n",
      "caption : A large jetliner taking off from a runway.\n",
      "Watermark Presence Prob.: 0.5416666666666666\n",
      "caption : White airliner taking off from a runway with a huge cliff beside it. \n",
      "Watermark Presence Prob.: 0.4791666666666667\n",
      "caption : A plan rests in a small airport situated near a mountain.\n",
      "Watermark Presence Prob.: 0.6041666666666666\n",
      "caption : A plain on a runway in front of a mountain.\n"
     ]
    },
    {
     "name": "stderr",
     "output_type": "stream",
     "text": [
      " 51%|█████     | 102/200 [03:42<03:39,  2.24s/it]"
     ]
    },
    {
     "name": "stdout",
     "output_type": "stream",
     "text": [
      "Watermark Presence Prob.: 0.5\n",
      "caption : A large airplane is taking off from a runway.\n",
      "Watermark Presence Prob.: 0.5416666666666666\n",
      "---------- Count = 103 : Visual Paraphrasing for the watermarked version of 378710-------------\n",
      "\n",
      "Image name :  Image_378710.jpg\n",
      "Image id : 378710\n"
     ]
    },
    {
     "data": {
      "application/vnd.jupyter.widget-view+json": {
       "model_id": "991716f04b4543a3ab41e10dfa2336d3",
       "version_major": 2,
       "version_minor": 0
      },
      "text/plain": [
       "  0%|          | 0/5 [00:00<?, ?it/s]"
      ]
     },
     "metadata": {},
     "output_type": "display_data"
    },
    {
     "name": "stdout",
     "output_type": "stream",
     "text": [
      "Saving generated images at /raid/home/ashhar21137/watermarking3/stable_signature/ss_paraphrase_0.15/378710\n",
      "Generated Image saved to /raid/home/ashhar21137/watermarking3/stable_signature/ss_paraphrase_0.15/378710/378710_gen_0.png\n",
      "Generated Image saved to /raid/home/ashhar21137/watermarking3/stable_signature/ss_paraphrase_0.15/378710/378710_gen_1.png\n",
      "Generated Image saved to /raid/home/ashhar21137/watermarking3/stable_signature/ss_paraphrase_0.15/378710/378710_gen_2.png\n",
      "Generated Image saved to /raid/home/ashhar21137/watermarking3/stable_signature/ss_paraphrase_0.15/378710/378710_gen_3.png\n",
      "Generated Image saved to /raid/home/ashhar21137/watermarking3/stable_signature/ss_paraphrase_0.15/378710/378710_gen_4.png\n",
      "\n",
      "Number of images generated :  5\n",
      "\n",
      "********** Watermark detection for generated images ***************\n",
      "caption : A wall with four mounted urinals on it.\n",
      "Watermark Presence Prob.: 0.625\n",
      "caption : A couple of strange shaped urinals on a wall.\n",
      "Watermark Presence Prob.: 0.6458333333333334\n",
      "caption : Four white urinals are lined up along a wall.\n",
      "Watermark Presence Prob.: 0.5625\n",
      "caption : Three tall urinals and one short one in a restroom. \n",
      "Watermark Presence Prob.: 0.5625\n",
      "caption : there are four pee toilets on the wall in a bathroom\n"
     ]
    },
    {
     "name": "stderr",
     "output_type": "stream",
     "text": [
      " 52%|█████▏    | 103/200 [03:44<03:44,  2.31s/it]"
     ]
    },
    {
     "name": "stdout",
     "output_type": "stream",
     "text": [
      "Watermark Presence Prob.: 0.5833333333333334\n",
      "---------- Count = 104 : Visual Paraphrasing for the watermarked version of 536587-------------\n",
      "\n",
      "Image name :  Image_536587.jpg\n",
      "Image id : 536587\n"
     ]
    },
    {
     "data": {
      "application/vnd.jupyter.widget-view+json": {
       "model_id": "f0918e1377b84320b85bab8051938afd",
       "version_major": 2,
       "version_minor": 0
      },
      "text/plain": [
       "  0%|          | 0/5 [00:00<?, ?it/s]"
      ]
     },
     "metadata": {},
     "output_type": "display_data"
    },
    {
     "name": "stdout",
     "output_type": "stream",
     "text": [
      "Saving generated images at /raid/home/ashhar21137/watermarking3/stable_signature/ss_paraphrase_0.15/536587\n",
      "Generated Image saved to /raid/home/ashhar21137/watermarking3/stable_signature/ss_paraphrase_0.15/536587/536587_gen_0.png\n",
      "Generated Image saved to /raid/home/ashhar21137/watermarking3/stable_signature/ss_paraphrase_0.15/536587/536587_gen_1.png\n",
      "Generated Image saved to /raid/home/ashhar21137/watermarking3/stable_signature/ss_paraphrase_0.15/536587/536587_gen_2.png\n",
      "Generated Image saved to /raid/home/ashhar21137/watermarking3/stable_signature/ss_paraphrase_0.15/536587/536587_gen_3.png\n",
      "Generated Image saved to /raid/home/ashhar21137/watermarking3/stable_signature/ss_paraphrase_0.15/536587/536587_gen_4.png\n",
      "\n",
      "Number of images generated :  5\n",
      "\n",
      "********** Watermark detection for generated images ***************\n",
      "caption : Adjustable magnifying mirror attached to a bathroom wall\n"
     ]
    },
    {
     "name": "stderr",
     "output_type": "stream",
     "text": [
      " 52%|█████▏    | 104/200 [03:46<03:36,  2.25s/it]"
     ]
    },
    {
     "name": "stdout",
     "output_type": "stream",
     "text": [
      "Watermark Presence Prob.: 0.5625\n",
      "caption : A bathroom view of the vanity mirror and the close up mirror.\n",
      "Watermark Presence Prob.: 0.5208333333333334\n",
      "caption : There are circular mirrors mounted to the tiled walls of the bathroom\n",
      "Watermark Presence Prob.: 0.5625\n",
      "caption : A large mirror reflects a smaller bathroom mirror.\n",
      "Watermark Presence Prob.: 0.5416666666666666\n",
      "caption : two mirrors that are attached to a wall\n",
      "Watermark Presence Prob.: 0.6041666666666666\n",
      "---------- Count = 105 : Visual Paraphrasing for the watermarked version of 167613-------------\n",
      "\n",
      "Image name :  Image_167613.jpg\n",
      "Image id : 167613\n"
     ]
    },
    {
     "data": {
      "application/vnd.jupyter.widget-view+json": {
       "model_id": "b3f41802a87440b3a301dfdf119cd0a6",
       "version_major": 2,
       "version_minor": 0
      },
      "text/plain": [
       "  0%|          | 0/5 [00:00<?, ?it/s]"
      ]
     },
     "metadata": {},
     "output_type": "display_data"
    },
    {
     "name": "stdout",
     "output_type": "stream",
     "text": [
      "Saving generated images at /raid/home/ashhar21137/watermarking3/stable_signature/ss_paraphrase_0.15/167613\n",
      "Generated Image saved to /raid/home/ashhar21137/watermarking3/stable_signature/ss_paraphrase_0.15/167613/167613_gen_0.png\n",
      "Generated Image saved to /raid/home/ashhar21137/watermarking3/stable_signature/ss_paraphrase_0.15/167613/167613_gen_1.png\n",
      "Generated Image saved to /raid/home/ashhar21137/watermarking3/stable_signature/ss_paraphrase_0.15/167613/167613_gen_2.png\n",
      "Generated Image saved to /raid/home/ashhar21137/watermarking3/stable_signature/ss_paraphrase_0.15/167613/167613_gen_3.png\n",
      "Generated Image saved to /raid/home/ashhar21137/watermarking3/stable_signature/ss_paraphrase_0.15/167613/167613_gen_4.png\n",
      "\n",
      "Number of images generated :  5\n",
      "\n",
      "********** Watermark detection for generated images ***************\n",
      "caption : A bathroom with a white toilet and sink and checkered tile.\n",
      "Watermark Presence Prob.: 0.5833333333333334\n",
      "caption : A bathroom with a toilet and a sink.\n",
      "Watermark Presence Prob.: 0.625\n",
      "caption : A bathroom that is done in checkered walls and flooring.\n",
      "Watermark Presence Prob.: 0.625\n",
      "caption : Public restroom with black and white checker pattern walls.\n",
      "Watermark Presence Prob.: 0.6041666666666666\n",
      "caption : A toilet and sink in a bathroom with checked walls.\n"
     ]
    },
    {
     "name": "stderr",
     "output_type": "stream",
     "text": [
      " 52%|█████▎    | 105/200 [03:48<03:27,  2.19s/it]"
     ]
    },
    {
     "name": "stdout",
     "output_type": "stream",
     "text": [
      "Watermark Presence Prob.: 0.5833333333333334\n",
      "---------- Count = 106 : Visual Paraphrasing for the watermarked version of 392136-------------\n",
      "\n",
      "Image name :  Image_392136.jpg\n",
      "Image id : 392136\n"
     ]
    },
    {
     "data": {
      "application/vnd.jupyter.widget-view+json": {
       "model_id": "cc69ec013854453781dca3e9a02c571b",
       "version_major": 2,
       "version_minor": 0
      },
      "text/plain": [
       "  0%|          | 0/5 [00:00<?, ?it/s]"
      ]
     },
     "metadata": {},
     "output_type": "display_data"
    },
    {
     "name": "stdout",
     "output_type": "stream",
     "text": [
      "Saving generated images at /raid/home/ashhar21137/watermarking3/stable_signature/ss_paraphrase_0.15/392136\n",
      "Generated Image saved to /raid/home/ashhar21137/watermarking3/stable_signature/ss_paraphrase_0.15/392136/392136_gen_0.png\n",
      "Generated Image saved to /raid/home/ashhar21137/watermarking3/stable_signature/ss_paraphrase_0.15/392136/392136_gen_1.png\n",
      "Generated Image saved to /raid/home/ashhar21137/watermarking3/stable_signature/ss_paraphrase_0.15/392136/392136_gen_2.png\n",
      "Generated Image saved to /raid/home/ashhar21137/watermarking3/stable_signature/ss_paraphrase_0.15/392136/392136_gen_3.png\n",
      "Generated Image saved to /raid/home/ashhar21137/watermarking3/stable_signature/ss_paraphrase_0.15/392136/392136_gen_4.png\n",
      "\n",
      "Number of images generated :  5\n",
      "\n",
      "********** Watermark detection for generated images ***************\n",
      "caption : A large bus and some people on the street.\n",
      "Watermark Presence Prob.: 0.5\n",
      "caption : Several people are standing on the sidewalk as a bus goes by.\n",
      "Watermark Presence Prob.: 0.5416666666666666\n",
      "caption : Bus rushing by a group of people walking in a city.\n",
      "Watermark Presence Prob.: 0.4583333333333333\n",
      "caption : A double-decker bus moving down the street as people stand waiting.\n",
      "Watermark Presence Prob.: 0.5\n",
      "caption : A group of people standing next to a yellow and blue double decker bus.\n"
     ]
    },
    {
     "name": "stderr",
     "output_type": "stream",
     "text": [
      " 53%|█████▎    | 106/200 [03:50<03:19,  2.12s/it]"
     ]
    },
    {
     "name": "stdout",
     "output_type": "stream",
     "text": [
      "Watermark Presence Prob.: 0.4375\n",
      "---------- Count = 107 : Visual Paraphrasing for the watermarked version of 287927-------------\n",
      "\n",
      "Image name :  Image_287927.jpg\n",
      "Image id : 287927\n"
     ]
    },
    {
     "data": {
      "application/vnd.jupyter.widget-view+json": {
       "model_id": "017998a87436419fb56a7d23859598ec",
       "version_major": 2,
       "version_minor": 0
      },
      "text/plain": [
       "  0%|          | 0/5 [00:00<?, ?it/s]"
      ]
     },
     "metadata": {},
     "output_type": "display_data"
    },
    {
     "name": "stdout",
     "output_type": "stream",
     "text": [
      "Saving generated images at /raid/home/ashhar21137/watermarking3/stable_signature/ss_paraphrase_0.15/287927\n",
      "Generated Image saved to /raid/home/ashhar21137/watermarking3/stable_signature/ss_paraphrase_0.15/287927/287927_gen_0.png\n",
      "Generated Image saved to /raid/home/ashhar21137/watermarking3/stable_signature/ss_paraphrase_0.15/287927/287927_gen_1.png\n",
      "Generated Image saved to /raid/home/ashhar21137/watermarking3/stable_signature/ss_paraphrase_0.15/287927/287927_gen_2.png\n",
      "Generated Image saved to /raid/home/ashhar21137/watermarking3/stable_signature/ss_paraphrase_0.15/287927/287927_gen_3.png\n",
      "Generated Image saved to /raid/home/ashhar21137/watermarking3/stable_signature/ss_paraphrase_0.15/287927/287927_gen_4.png\n",
      "\n",
      "Number of images generated :  5\n",
      "\n",
      "********** Watermark detection for generated images ***************\n",
      "caption : This bathroom needs a lot of work including a new toilet seat and door\n"
     ]
    },
    {
     "name": "stderr",
     "output_type": "stream",
     "text": [
      " 54%|█████▎    | 107/200 [03:52<03:13,  2.08s/it]"
     ]
    },
    {
     "name": "stdout",
     "output_type": "stream",
     "text": [
      "Watermark Presence Prob.: 0.5625\n",
      "caption : A toilet sitting in an outside storage area.\n",
      "Watermark Presence Prob.: 0.5208333333333334\n",
      "caption : A white toilet blown and wood door on floor by brick wall.\n",
      "Watermark Presence Prob.: 0.5416666666666666\n",
      "caption : there is a white toilet that is broken on the street\n",
      "Watermark Presence Prob.: 0.5625\n",
      "caption : A piece of wood that is sitting in front of a toilet.\n",
      "Watermark Presence Prob.: 0.5625\n",
      "---------- Count = 108 : Visual Paraphrasing for the watermarked version of 217306-------------\n",
      "\n",
      "Image name :  Image_217306.jpg\n",
      "Image id : 217306\n"
     ]
    },
    {
     "data": {
      "application/vnd.jupyter.widget-view+json": {
       "model_id": "7a218db6f3104e538f24c4edeaad38a3",
       "version_major": 2,
       "version_minor": 0
      },
      "text/plain": [
       "  0%|          | 0/5 [00:00<?, ?it/s]"
      ]
     },
     "metadata": {},
     "output_type": "display_data"
    },
    {
     "name": "stdout",
     "output_type": "stream",
     "text": [
      "Saving generated images at /raid/home/ashhar21137/watermarking3/stable_signature/ss_paraphrase_0.15/217306\n",
      "Generated Image saved to /raid/home/ashhar21137/watermarking3/stable_signature/ss_paraphrase_0.15/217306/217306_gen_0.png\n",
      "Generated Image saved to /raid/home/ashhar21137/watermarking3/stable_signature/ss_paraphrase_0.15/217306/217306_gen_1.png\n",
      "Generated Image saved to /raid/home/ashhar21137/watermarking3/stable_signature/ss_paraphrase_0.15/217306/217306_gen_2.png\n",
      "Generated Image saved to /raid/home/ashhar21137/watermarking3/stable_signature/ss_paraphrase_0.15/217306/217306_gen_3.png\n",
      "Generated Image saved to /raid/home/ashhar21137/watermarking3/stable_signature/ss_paraphrase_0.15/217306/217306_gen_4.png\n",
      "\n",
      "Number of images generated :  5\n",
      "\n",
      "********** Watermark detection for generated images ***************\n",
      "caption : A restroom with a stainless steel toilet next to a metal sink.\n"
     ]
    },
    {
     "name": "stderr",
     "output_type": "stream",
     "text": [
      " 54%|█████▍    | 108/200 [03:54<03:13,  2.11s/it]"
     ]
    },
    {
     "name": "stdout",
     "output_type": "stream",
     "text": [
      "Watermark Presence Prob.: 0.5416666666666666\n",
      "caption : a toilet with a hand rail next to it \n",
      "Watermark Presence Prob.: 0.5625\n",
      "caption : The wall of the airplane bathroom has writing on it.\n",
      "Watermark Presence Prob.: 0.5\n",
      "caption : A bathroom with a stainless steel toilet and sink.\n",
      "Watermark Presence Prob.: 0.5\n",
      "caption : A steel toilet and sink in a demonstration bathroom.\n",
      "Watermark Presence Prob.: 0.5625\n",
      "---------- Count = 109 : Visual Paraphrasing for the watermarked version of 560459-------------\n",
      "\n",
      "Image name :  Image_560459.jpg\n",
      "Image id : 560459\n"
     ]
    },
    {
     "data": {
      "application/vnd.jupyter.widget-view+json": {
       "model_id": "f7a378e10be04736a88c59fcb8a11ad3",
       "version_major": 2,
       "version_minor": 0
      },
      "text/plain": [
       "  0%|          | 0/5 [00:00<?, ?it/s]"
      ]
     },
     "metadata": {},
     "output_type": "display_data"
    },
    {
     "name": "stdout",
     "output_type": "stream",
     "text": [
      "Saving generated images at /raid/home/ashhar21137/watermarking3/stable_signature/ss_paraphrase_0.15/560459\n",
      "Generated Image saved to /raid/home/ashhar21137/watermarking3/stable_signature/ss_paraphrase_0.15/560459/560459_gen_0.png\n",
      "Generated Image saved to /raid/home/ashhar21137/watermarking3/stable_signature/ss_paraphrase_0.15/560459/560459_gen_1.png\n",
      "Generated Image saved to /raid/home/ashhar21137/watermarking3/stable_signature/ss_paraphrase_0.15/560459/560459_gen_2.png\n",
      "Generated Image saved to /raid/home/ashhar21137/watermarking3/stable_signature/ss_paraphrase_0.15/560459/560459_gen_3.png\n",
      "Generated Image saved to /raid/home/ashhar21137/watermarking3/stable_signature/ss_paraphrase_0.15/560459/560459_gen_4.png\n",
      "\n",
      "Number of images generated :  5\n",
      "\n",
      "********** Watermark detection for generated images ***************\n",
      "caption : A \"\"LAN\" Brand airplane at an airport near the sea.\n",
      "Watermark Presence Prob.: 0.5208333333333334\n",
      "caption : A jetliner taking off from an airport runway.\n",
      "Watermark Presence Prob.: 0.5416666666666666\n",
      "caption : There is a plane taxiing on the ruwnay\n"
     ]
    },
    {
     "name": "stderr",
     "output_type": "stream",
     "text": [
      " 55%|█████▍    | 109/200 [03:56<03:09,  2.08s/it]"
     ]
    },
    {
     "name": "stdout",
     "output_type": "stream",
     "text": [
      "Watermark Presence Prob.: 0.4583333333333333\n",
      "caption : A large passenger jet on an airport runway near the coast.\n",
      "Watermark Presence Prob.: 0.5\n",
      "caption : A passenger jet that is on a runway.\n",
      "Watermark Presence Prob.: 0.5416666666666666\n",
      "---------- Count = 110 : Visual Paraphrasing for the watermarked version of 496283-------------\n",
      "\n",
      "Image name :  Image_496283.jpg\n",
      "Image id : 496283\n"
     ]
    },
    {
     "data": {
      "application/vnd.jupyter.widget-view+json": {
       "model_id": "81ded37436f54eb9a7304de4b4af0d26",
       "version_major": 2,
       "version_minor": 0
      },
      "text/plain": [
       "  0%|          | 0/5 [00:00<?, ?it/s]"
      ]
     },
     "metadata": {},
     "output_type": "display_data"
    },
    {
     "name": "stdout",
     "output_type": "stream",
     "text": [
      "Saving generated images at /raid/home/ashhar21137/watermarking3/stable_signature/ss_paraphrase_0.15/496283\n",
      "Generated Image saved to /raid/home/ashhar21137/watermarking3/stable_signature/ss_paraphrase_0.15/496283/496283_gen_0.png\n",
      "Generated Image saved to /raid/home/ashhar21137/watermarking3/stable_signature/ss_paraphrase_0.15/496283/496283_gen_1.png\n",
      "Generated Image saved to /raid/home/ashhar21137/watermarking3/stable_signature/ss_paraphrase_0.15/496283/496283_gen_2.png\n",
      "Generated Image saved to /raid/home/ashhar21137/watermarking3/stable_signature/ss_paraphrase_0.15/496283/496283_gen_3.png\n",
      "Generated Image saved to /raid/home/ashhar21137/watermarking3/stable_signature/ss_paraphrase_0.15/496283/496283_gen_4.png\n",
      "\n",
      "Number of images generated :  5\n",
      "\n",
      "********** Watermark detection for generated images ***************\n",
      "caption : A faded red fire hydrant in a lush green grass covered field.\n",
      "Watermark Presence Prob.: 0.6041666666666666\n",
      "caption : a fire hydrant in a field of green grass\n"
     ]
    },
    {
     "name": "stderr",
     "output_type": "stream",
     "text": [
      " 55%|█████▌    | 110/200 [03:59<03:06,  2.07s/it]"
     ]
    },
    {
     "name": "stdout",
     "output_type": "stream",
     "text": [
      "Watermark Presence Prob.: 0.5833333333333334\n",
      "caption : Faded red fire hydrant sitting in a grassy field alone. \n",
      "Watermark Presence Prob.: 0.6041666666666666\n",
      "caption : An old fire hydrant sits on the grass in a park.\n",
      "Watermark Presence Prob.: 0.5833333333333334\n",
      "caption : A rusted faded fire hydrant in  a grassy field\n",
      "Watermark Presence Prob.: 0.5416666666666666\n",
      "---------- Count = 111 : Visual Paraphrasing for the watermarked version of 212091-------------\n",
      "\n",
      "Image name :  Image_212091.jpg\n",
      "Image id : 212091\n"
     ]
    },
    {
     "data": {
      "application/vnd.jupyter.widget-view+json": {
       "model_id": "68d04a15ebaf4db699722cf93f101d0b",
       "version_major": 2,
       "version_minor": 0
      },
      "text/plain": [
       "  0%|          | 0/5 [00:00<?, ?it/s]"
      ]
     },
     "metadata": {},
     "output_type": "display_data"
    },
    {
     "name": "stdout",
     "output_type": "stream",
     "text": [
      "Saving generated images at /raid/home/ashhar21137/watermarking3/stable_signature/ss_paraphrase_0.15/212091\n",
      "Generated Image saved to /raid/home/ashhar21137/watermarking3/stable_signature/ss_paraphrase_0.15/212091/212091_gen_0.png\n",
      "Generated Image saved to /raid/home/ashhar21137/watermarking3/stable_signature/ss_paraphrase_0.15/212091/212091_gen_1.png\n",
      "Generated Image saved to /raid/home/ashhar21137/watermarking3/stable_signature/ss_paraphrase_0.15/212091/212091_gen_2.png\n",
      "Generated Image saved to /raid/home/ashhar21137/watermarking3/stable_signature/ss_paraphrase_0.15/212091/212091_gen_3.png\n",
      "Generated Image saved to /raid/home/ashhar21137/watermarking3/stable_signature/ss_paraphrase_0.15/212091/212091_gen_4.png\n",
      "\n",
      "Number of images generated :  5\n",
      "\n",
      "********** Watermark detection for generated images ***************\n",
      "caption : A group of people on street with a traffic light in the background.\n",
      "Watermark Presence Prob.: 0.5416666666666666\n",
      "caption : People are out walking in the street in the rain.\n",
      "Watermark Presence Prob.: 0.5625\n",
      "caption : A woman and man crossing paths at a traffic light crossing.\n"
     ]
    },
    {
     "name": "stderr",
     "output_type": "stream",
     "text": [
      " 56%|█████▌    | 111/200 [04:00<03:01,  2.04s/it]"
     ]
    },
    {
     "name": "stdout",
     "output_type": "stream",
     "text": [
      "Watermark Presence Prob.: 0.4583333333333333\n",
      "caption : Many people are walking through the streets. \n",
      "Watermark Presence Prob.: 0.5208333333333334\n",
      "caption : People walking across a busy crosswalk in city.\n",
      "Watermark Presence Prob.: 0.5416666666666666\n",
      "---------- Count = 112 : Visual Paraphrasing for the watermarked version of 483751-------------\n",
      "\n",
      "Image name :  Image_483751.jpg\n",
      "Image id : 483751\n"
     ]
    },
    {
     "data": {
      "application/vnd.jupyter.widget-view+json": {
       "model_id": "fb924ac07f484c63b4f2b2bde2632c0f",
       "version_major": 2,
       "version_minor": 0
      },
      "text/plain": [
       "  0%|          | 0/5 [00:00<?, ?it/s]"
      ]
     },
     "metadata": {},
     "output_type": "display_data"
    },
    {
     "name": "stdout",
     "output_type": "stream",
     "text": [
      "Saving generated images at /raid/home/ashhar21137/watermarking3/stable_signature/ss_paraphrase_0.15/483751\n",
      "Generated Image saved to /raid/home/ashhar21137/watermarking3/stable_signature/ss_paraphrase_0.15/483751/483751_gen_0.png\n",
      "Generated Image saved to /raid/home/ashhar21137/watermarking3/stable_signature/ss_paraphrase_0.15/483751/483751_gen_1.png\n",
      "Generated Image saved to /raid/home/ashhar21137/watermarking3/stable_signature/ss_paraphrase_0.15/483751/483751_gen_2.png\n"
     ]
    },
    {
     "name": "stderr",
     "output_type": "stream",
     "text": [
      " 56%|█████▌    | 112/200 [04:02<02:52,  1.96s/it]"
     ]
    },
    {
     "name": "stdout",
     "output_type": "stream",
     "text": [
      "Generated Image saved to /raid/home/ashhar21137/watermarking3/stable_signature/ss_paraphrase_0.15/483751/483751_gen_3.png\n",
      "Generated Image saved to /raid/home/ashhar21137/watermarking3/stable_signature/ss_paraphrase_0.15/483751/483751_gen_4.png\n",
      "\n",
      "Number of images generated :  5\n",
      "\n",
      "********** Watermark detection for generated images ***************\n",
      "caption : A man walking down a street near a yellow fire hydrant.\n",
      "Watermark Presence Prob.: 0.5208333333333334\n",
      "caption : An old and large truck parked by a fire hydrant.\n",
      "Watermark Presence Prob.: 0.5833333333333334\n",
      "caption : A dirty large car on a city street.\n",
      "Watermark Presence Prob.: 0.625\n",
      "caption : An old truck in a rustic part of town.\n",
      "Watermark Presence Prob.: 0.5\n",
      "caption : The older style car is parked in front of the fire hydrant on the side of the road. \n",
      "Watermark Presence Prob.: 0.5208333333333334\n",
      "---------- Count = 113 : Visual Paraphrasing for the watermarked version of 223726-------------\n",
      "\n",
      "Image name :  Image_223726.jpg\n",
      "Image id : 223726\n"
     ]
    },
    {
     "data": {
      "application/vnd.jupyter.widget-view+json": {
       "model_id": "7430de73576d45a5b073ec18e83b6d65",
       "version_major": 2,
       "version_minor": 0
      },
      "text/plain": [
       "  0%|          | 0/5 [00:00<?, ?it/s]"
      ]
     },
     "metadata": {},
     "output_type": "display_data"
    },
    {
     "name": "stdout",
     "output_type": "stream",
     "text": [
      "Saving generated images at /raid/home/ashhar21137/watermarking3/stable_signature/ss_paraphrase_0.15/223726\n",
      "Generated Image saved to /raid/home/ashhar21137/watermarking3/stable_signature/ss_paraphrase_0.15/223726/223726_gen_0.png\n",
      "Generated Image saved to /raid/home/ashhar21137/watermarking3/stable_signature/ss_paraphrase_0.15/223726/223726_gen_1.png\n",
      "Generated Image saved to /raid/home/ashhar21137/watermarking3/stable_signature/ss_paraphrase_0.15/223726/223726_gen_2.png\n",
      "Generated Image saved to /raid/home/ashhar21137/watermarking3/stable_signature/ss_paraphrase_0.15/223726/223726_gen_3.png\n",
      "Generated Image saved to /raid/home/ashhar21137/watermarking3/stable_signature/ss_paraphrase_0.15/223726/223726_gen_4.png\n",
      "\n",
      "Number of images generated :  5\n",
      "\n",
      "********** Watermark detection for generated images ***************\n",
      "caption : Our past five presidents are represented in this photograph.\n",
      "Watermark Presence Prob.: 0.5\n",
      "caption : the current president and former presidents standing in a row\n",
      "Watermark Presence Prob.: 0.5208333333333334\n",
      "caption : A group of presidents standing next to each other.\n",
      "Watermark Presence Prob.: 0.5208333333333334\n",
      "caption : Gathering of all living presidents, past and present. \n"
     ]
    },
    {
     "name": "stderr",
     "output_type": "stream",
     "text": [
      " 56%|█████▋    | 113/200 [04:05<02:58,  2.05s/it]"
     ]
    },
    {
     "name": "stdout",
     "output_type": "stream",
     "text": [
      "Watermark Presence Prob.: 0.5208333333333334\n",
      "caption : a number of people standing near one another wearing suits and ties\n",
      "Watermark Presence Prob.: 0.5833333333333334\n",
      "---------- Count = 114 : Visual Paraphrasing for the watermarked version of 560628-------------\n",
      "\n",
      "Image name :  Image_560628.jpg\n",
      "Image id : 560628\n"
     ]
    },
    {
     "data": {
      "application/vnd.jupyter.widget-view+json": {
       "model_id": "966e3d2cffa142a1b176a84f62a7a1d5",
       "version_major": 2,
       "version_minor": 0
      },
      "text/plain": [
       "  0%|          | 0/5 [00:00<?, ?it/s]"
      ]
     },
     "metadata": {},
     "output_type": "display_data"
    },
    {
     "name": "stdout",
     "output_type": "stream",
     "text": [
      "Saving generated images at /raid/home/ashhar21137/watermarking3/stable_signature/ss_paraphrase_0.15/560628\n",
      "Generated Image saved to /raid/home/ashhar21137/watermarking3/stable_signature/ss_paraphrase_0.15/560628/560628_gen_0.png\n",
      "Generated Image saved to /raid/home/ashhar21137/watermarking3/stable_signature/ss_paraphrase_0.15/560628/560628_gen_1.png\n",
      "Generated Image saved to /raid/home/ashhar21137/watermarking3/stable_signature/ss_paraphrase_0.15/560628/560628_gen_2.png\n",
      "Generated Image saved to /raid/home/ashhar21137/watermarking3/stable_signature/ss_paraphrase_0.15/560628/560628_gen_3.png\n",
      "Generated Image saved to /raid/home/ashhar21137/watermarking3/stable_signature/ss_paraphrase_0.15/560628/560628_gen_4.png\n",
      "\n",
      "Number of images generated :  5\n",
      "\n",
      "********** Watermark detection for generated images ***************\n",
      "caption : A giraffe standing in a forest covered in grass and trees.\n"
     ]
    },
    {
     "name": "stderr",
     "output_type": "stream",
     "text": [
      " 57%|█████▋    | 114/200 [04:07<02:56,  2.05s/it]"
     ]
    },
    {
     "name": "stdout",
     "output_type": "stream",
     "text": [
      "Watermark Presence Prob.: 0.5625\n",
      "caption : A giraffe standing tall among some tress and brush.\n",
      "Watermark Presence Prob.: 0.5416666666666666\n",
      "caption : A single giraffe standing in a field in the wild.\n",
      "Watermark Presence Prob.: 0.5416666666666666\n",
      "caption : a giraffe standing in a green field next to trees and shrubbery.\n",
      "Watermark Presence Prob.: 0.5833333333333334\n",
      "caption : A giraffe standing in grassy area between trees.\n",
      "Watermark Presence Prob.: 0.5416666666666666\n",
      "---------- Count = 115 : Visual Paraphrasing for the watermarked version of 108627-------------\n",
      "\n",
      "Image name :  Image_108627.jpg\n",
      "Image id : 108627\n"
     ]
    },
    {
     "data": {
      "application/vnd.jupyter.widget-view+json": {
       "model_id": "db58ad00fd5642bda1ae03475df04f7c",
       "version_major": 2,
       "version_minor": 0
      },
      "text/plain": [
       "  0%|          | 0/5 [00:00<?, ?it/s]"
      ]
     },
     "metadata": {},
     "output_type": "display_data"
    },
    {
     "name": "stdout",
     "output_type": "stream",
     "text": [
      "Saving generated images at /raid/home/ashhar21137/watermarking3/stable_signature/ss_paraphrase_0.15/108627\n",
      "Generated Image saved to /raid/home/ashhar21137/watermarking3/stable_signature/ss_paraphrase_0.15/108627/108627_gen_0.png\n",
      "Generated Image saved to /raid/home/ashhar21137/watermarking3/stable_signature/ss_paraphrase_0.15/108627/108627_gen_1.png\n",
      "Generated Image saved to /raid/home/ashhar21137/watermarking3/stable_signature/ss_paraphrase_0.15/108627/108627_gen_2.png\n",
      "Generated Image saved to /raid/home/ashhar21137/watermarking3/stable_signature/ss_paraphrase_0.15/108627/108627_gen_3.png\n",
      "Generated Image saved to /raid/home/ashhar21137/watermarking3/stable_signature/ss_paraphrase_0.15/108627/108627_gen_4.png\n",
      "\n",
      "Number of images generated :  5\n",
      "\n",
      "********** Watermark detection for generated images ***************\n",
      "caption : a giraffe by its self standing in a dry field \n",
      "Watermark Presence Prob.: 0.5833333333333334\n",
      "caption : A photograph of a giraffe in the wild. \n",
      "Watermark Presence Prob.: 0.5416666666666666\n",
      "caption : A giraffe standing in tall grasses near trees.\n",
      "Watermark Presence Prob.: 0.5833333333333334\n",
      "caption : A giraffe is standing on tall, dry grass.\n",
      "Watermark Presence Prob.: 0.5833333333333334\n",
      "caption : A giraffe standing in a dry grass field.\n"
     ]
    },
    {
     "name": "stderr",
     "output_type": "stream",
     "text": [
      " 57%|█████▊    | 115/200 [04:09<03:03,  2.16s/it]"
     ]
    },
    {
     "name": "stdout",
     "output_type": "stream",
     "text": [
      "Watermark Presence Prob.: 0.5625\n",
      "---------- Count = 116 : Visual Paraphrasing for the watermarked version of 246804-------------\n",
      "\n",
      "Image name :  Image_246804.jpg\n",
      "Image id : 246804\n"
     ]
    },
    {
     "data": {
      "application/vnd.jupyter.widget-view+json": {
       "model_id": "35af50c694d44c3a97aa4b4817a6c874",
       "version_major": 2,
       "version_minor": 0
      },
      "text/plain": [
       "  0%|          | 0/5 [00:00<?, ?it/s]"
      ]
     },
     "metadata": {},
     "output_type": "display_data"
    },
    {
     "name": "stdout",
     "output_type": "stream",
     "text": [
      "Saving generated images at /raid/home/ashhar21137/watermarking3/stable_signature/ss_paraphrase_0.15/246804\n",
      "Generated Image saved to /raid/home/ashhar21137/watermarking3/stable_signature/ss_paraphrase_0.15/246804/246804_gen_0.png\n",
      "Generated Image saved to /raid/home/ashhar21137/watermarking3/stable_signature/ss_paraphrase_0.15/246804/246804_gen_1.png\n",
      "Generated Image saved to /raid/home/ashhar21137/watermarking3/stable_signature/ss_paraphrase_0.15/246804/246804_gen_2.png\n",
      "Generated Image saved to /raid/home/ashhar21137/watermarking3/stable_signature/ss_paraphrase_0.15/246804/246804_gen_3.png\n",
      "Generated Image saved to /raid/home/ashhar21137/watermarking3/stable_signature/ss_paraphrase_0.15/246804/246804_gen_4.png\n",
      "\n",
      "Number of images generated :  5\n",
      "\n",
      "********** Watermark detection for generated images ***************\n",
      "caption : A bathroom that includes a toilet and an open area shower.\n",
      "Watermark Presence Prob.: 0.5625\n",
      "caption : A bathroom with a toilet and a shower area.\n",
      "Watermark Presence Prob.: 0.5416666666666666\n",
      "caption : a bathroom with a toilet, side rails, and a shower.\n",
      "Watermark Presence Prob.: 0.5416666666666666\n",
      "caption : A handicap bathroom with toilet and walk-in shower.\n",
      "Watermark Presence Prob.: 0.5833333333333334\n",
      "caption : a room with the toilet and a bathtab which is very clean\n"
     ]
    },
    {
     "name": "stderr",
     "output_type": "stream",
     "text": [
      " 58%|█████▊    | 116/200 [04:11<03:06,  2.22s/it]"
     ]
    },
    {
     "name": "stdout",
     "output_type": "stream",
     "text": [
      "Watermark Presence Prob.: 0.5625\n",
      "---------- Count = 117 : Visual Paraphrasing for the watermarked version of 365363-------------\n",
      "\n",
      "Image name :  Image_365363.jpg\n",
      "Image id : 365363\n"
     ]
    },
    {
     "data": {
      "application/vnd.jupyter.widget-view+json": {
       "model_id": "f6c5ebd89b2649ebb21fa62149ad6362",
       "version_major": 2,
       "version_minor": 0
      },
      "text/plain": [
       "  0%|          | 0/5 [00:00<?, ?it/s]"
      ]
     },
     "metadata": {},
     "output_type": "display_data"
    },
    {
     "name": "stdout",
     "output_type": "stream",
     "text": [
      "Saving generated images at /raid/home/ashhar21137/watermarking3/stable_signature/ss_paraphrase_0.15/365363\n",
      "Generated Image saved to /raid/home/ashhar21137/watermarking3/stable_signature/ss_paraphrase_0.15/365363/365363_gen_0.png\n",
      "Generated Image saved to /raid/home/ashhar21137/watermarking3/stable_signature/ss_paraphrase_0.15/365363/365363_gen_1.png\n",
      "Generated Image saved to /raid/home/ashhar21137/watermarking3/stable_signature/ss_paraphrase_0.15/365363/365363_gen_2.png\n",
      "Generated Image saved to /raid/home/ashhar21137/watermarking3/stable_signature/ss_paraphrase_0.15/365363/365363_gen_3.png\n",
      "Generated Image saved to /raid/home/ashhar21137/watermarking3/stable_signature/ss_paraphrase_0.15/365363/365363_gen_4.png\n",
      "\n",
      "Number of images generated :  5\n",
      "\n",
      "********** Watermark detection for generated images ***************\n",
      "caption : Two people flying a kite above pine trees.\n",
      "Watermark Presence Prob.: 0.5833333333333334\n",
      "caption : A couple of people standing in a show covered field flying kites.\n"
     ]
    },
    {
     "name": "stderr",
     "output_type": "stream",
     "text": [
      " 58%|█████▊    | 117/200 [04:13<02:58,  2.15s/it]"
     ]
    },
    {
     "name": "stdout",
     "output_type": "stream",
     "text": [
      "Watermark Presence Prob.: 0.5833333333333334\n",
      "caption : Two people flying a kite in a field with a forest in the background.\n",
      "Watermark Presence Prob.: 0.6041666666666666\n",
      "caption : A man and a boy fly kites in the snow in front of pine trees.\n",
      "Watermark Presence Prob.: 0.5833333333333334\n",
      "caption : a couple of people that have kites in the sky\n",
      "Watermark Presence Prob.: 0.6041666666666666\n",
      "---------- Count = 118 : Visual Paraphrasing for the watermarked version of 64460-------------\n",
      "\n",
      "Image name :  Image_64460.jpg\n",
      "Image id : 64460\n"
     ]
    },
    {
     "data": {
      "application/vnd.jupyter.widget-view+json": {
       "model_id": "33792d6ea87c4e009b9940c4b0c537df",
       "version_major": 2,
       "version_minor": 0
      },
      "text/plain": [
       "  0%|          | 0/5 [00:00<?, ?it/s]"
      ]
     },
     "metadata": {},
     "output_type": "display_data"
    },
    {
     "name": "stdout",
     "output_type": "stream",
     "text": [
      "Saving generated images at /raid/home/ashhar21137/watermarking3/stable_signature/ss_paraphrase_0.15/64460\n",
      "Generated Image saved to /raid/home/ashhar21137/watermarking3/stable_signature/ss_paraphrase_0.15/64460/64460_gen_0.png\n",
      "Generated Image saved to /raid/home/ashhar21137/watermarking3/stable_signature/ss_paraphrase_0.15/64460/64460_gen_1.png\n",
      "Generated Image saved to /raid/home/ashhar21137/watermarking3/stable_signature/ss_paraphrase_0.15/64460/64460_gen_2.png\n",
      "Generated Image saved to /raid/home/ashhar21137/watermarking3/stable_signature/ss_paraphrase_0.15/64460/64460_gen_3.png\n",
      "Generated Image saved to /raid/home/ashhar21137/watermarking3/stable_signature/ss_paraphrase_0.15/64460/64460_gen_4.png\n",
      "\n",
      "Number of images generated :  5\n",
      "\n",
      "********** Watermark detection for generated images ***************\n",
      "caption : A kitchen in a restaurant with food on the counter.\n"
     ]
    },
    {
     "name": "stderr",
     "output_type": "stream",
     "text": [
      " 59%|█████▉    | 118/200 [04:15<02:54,  2.13s/it]"
     ]
    },
    {
     "name": "stdout",
     "output_type": "stream",
     "text": [
      "Watermark Presence Prob.: 0.5833333333333334\n",
      "caption : A restaurant kitchen with prepared food on the counter.\n",
      "Watermark Presence Prob.: 0.5416666666666666\n",
      "caption : two people in a kitchen area preparing food\n",
      "Watermark Presence Prob.: 0.5833333333333334\n",
      "caption : Two chefs preparing meals in the restaurant kitchen.\n",
      "Watermark Presence Prob.: 0.5625\n",
      "caption : a kitchen with chefs and plated dishes of food.\n",
      "Watermark Presence Prob.: 0.5\n",
      "---------- Count = 119 : Visual Paraphrasing for the watermarked version of 225750-------------\n",
      "\n",
      "Image name :  Image_225750.jpg\n",
      "Image id : 225750\n"
     ]
    },
    {
     "data": {
      "application/vnd.jupyter.widget-view+json": {
       "model_id": "fe4342b1f8e644f2902596d538daf0a7",
       "version_major": 2,
       "version_minor": 0
      },
      "text/plain": [
       "  0%|          | 0/5 [00:00<?, ?it/s]"
      ]
     },
     "metadata": {},
     "output_type": "display_data"
    },
    {
     "name": "stdout",
     "output_type": "stream",
     "text": [
      "Saving generated images at /raid/home/ashhar21137/watermarking3/stable_signature/ss_paraphrase_0.15/225750\n",
      "Generated Image saved to /raid/home/ashhar21137/watermarking3/stable_signature/ss_paraphrase_0.15/225750/225750_gen_0.png\n",
      "Generated Image saved to /raid/home/ashhar21137/watermarking3/stable_signature/ss_paraphrase_0.15/225750/225750_gen_1.png\n",
      "Generated Image saved to /raid/home/ashhar21137/watermarking3/stable_signature/ss_paraphrase_0.15/225750/225750_gen_2.png\n",
      "Generated Image saved to /raid/home/ashhar21137/watermarking3/stable_signature/ss_paraphrase_0.15/225750/225750_gen_3.png\n",
      "Generated Image saved to /raid/home/ashhar21137/watermarking3/stable_signature/ss_paraphrase_0.15/225750/225750_gen_4.png\n",
      "\n",
      "Number of images generated :  5\n",
      "\n",
      "********** Watermark detection for generated images ***************\n",
      "caption : a bench on a path near a field \n",
      "Watermark Presence Prob.: 0.6041666666666666\n",
      "caption : A bench sitting on the side of a dirt road.\n",
      "Watermark Presence Prob.: 0.5208333333333334\n",
      "caption : A stone bench is beside a road leading to the forest.\n",
      "Watermark Presence Prob.: 0.625\n",
      "caption : a dirt road a wooden bench some grass and trees\n",
      "Watermark Presence Prob.: 0.5208333333333334\n",
      "caption : A path passes a bench before entering into the woods.\n"
     ]
    },
    {
     "name": "stderr",
     "output_type": "stream",
     "text": [
      " 60%|█████▉    | 119/200 [04:17<02:48,  2.08s/it]"
     ]
    },
    {
     "name": "stdout",
     "output_type": "stream",
     "text": [
      "Watermark Presence Prob.: 0.5625\n",
      "---------- Count = 120 : Visual Paraphrasing for the watermarked version of 446014-------------\n",
      "\n",
      "Image name :  Image_446014.jpg\n",
      "Image id : 446014\n"
     ]
    },
    {
     "data": {
      "application/vnd.jupyter.widget-view+json": {
       "model_id": "439f868c39ee40918f0047f3f7f16636",
       "version_major": 2,
       "version_minor": 0
      },
      "text/plain": [
       "  0%|          | 0/5 [00:00<?, ?it/s]"
      ]
     },
     "metadata": {},
     "output_type": "display_data"
    },
    {
     "name": "stdout",
     "output_type": "stream",
     "text": [
      "Saving generated images at /raid/home/ashhar21137/watermarking3/stable_signature/ss_paraphrase_0.15/446014\n",
      "Generated Image saved to /raid/home/ashhar21137/watermarking3/stable_signature/ss_paraphrase_0.15/446014/446014_gen_0.png\n",
      "Generated Image saved to /raid/home/ashhar21137/watermarking3/stable_signature/ss_paraphrase_0.15/446014/446014_gen_1.png\n",
      "Generated Image saved to /raid/home/ashhar21137/watermarking3/stable_signature/ss_paraphrase_0.15/446014/446014_gen_2.png\n",
      "Generated Image saved to /raid/home/ashhar21137/watermarking3/stable_signature/ss_paraphrase_0.15/446014/446014_gen_3.png\n",
      "Generated Image saved to /raid/home/ashhar21137/watermarking3/stable_signature/ss_paraphrase_0.15/446014/446014_gen_4.png\n",
      "\n",
      "Number of images generated :  5\n",
      "\n",
      "********** Watermark detection for generated images ***************\n",
      "caption : A girl washing her hands while looking into a mirror crying.\n",
      "Watermark Presence Prob.: 0.5625\n",
      "caption : Black and white photograph of a child crying in mirror.\n",
      "Watermark Presence Prob.: 0.5625\n",
      "caption : Little kid crying in the mirror while washing hands\n",
      "Watermark Presence Prob.: 0.5625\n",
      "caption : A little child crying while standing at a bathroom sink.\n",
      "Watermark Presence Prob.: 0.5208333333333334\n",
      "caption : A toddler cries while washing her hands in the bathroom\n"
     ]
    },
    {
     "name": "stderr",
     "output_type": "stream",
     "text": [
      " 60%|██████    | 120/200 [04:20<02:53,  2.17s/it]"
     ]
    },
    {
     "name": "stdout",
     "output_type": "stream",
     "text": [
      "Watermark Presence Prob.: 0.5208333333333334\n",
      "---------- Count = 121 : Visual Paraphrasing for the watermarked version of 157032-------------\n",
      "\n",
      "Image name :  Image_157032.jpg\n",
      "Image id : 157032\n"
     ]
    },
    {
     "data": {
      "application/vnd.jupyter.widget-view+json": {
       "model_id": "d234f6e47b7d4583b100a3190338a351",
       "version_major": 2,
       "version_minor": 0
      },
      "text/plain": [
       "  0%|          | 0/5 [00:00<?, ?it/s]"
      ]
     },
     "metadata": {},
     "output_type": "display_data"
    },
    {
     "name": "stdout",
     "output_type": "stream",
     "text": [
      "Saving generated images at /raid/home/ashhar21137/watermarking3/stable_signature/ss_paraphrase_0.15/157032\n",
      "Generated Image saved to /raid/home/ashhar21137/watermarking3/stable_signature/ss_paraphrase_0.15/157032/157032_gen_0.png\n",
      "Generated Image saved to /raid/home/ashhar21137/watermarking3/stable_signature/ss_paraphrase_0.15/157032/157032_gen_1.png\n",
      "Generated Image saved to /raid/home/ashhar21137/watermarking3/stable_signature/ss_paraphrase_0.15/157032/157032_gen_2.png\n",
      "Generated Image saved to /raid/home/ashhar21137/watermarking3/stable_signature/ss_paraphrase_0.15/157032/157032_gen_3.png\n",
      "Generated Image saved to /raid/home/ashhar21137/watermarking3/stable_signature/ss_paraphrase_0.15/157032/157032_gen_4.png\n",
      "\n",
      "Number of images generated :  5\n",
      "\n",
      "********** Watermark detection for generated images ***************\n",
      "caption : a brown winter hat on top of a bench near frozen grass\n",
      "Watermark Presence Prob.: 0.5625\n",
      "caption : A winter hat left sitting on a bench.\n",
      "Watermark Presence Prob.: 0.5625\n",
      "caption : A hat sitting on the top of a bench near some grass and a sidewalk.\n"
     ]
    },
    {
     "name": "stderr",
     "output_type": "stream",
     "text": [
      " 60%|██████    | 121/200 [04:22<02:50,  2.16s/it]"
     ]
    },
    {
     "name": "stdout",
     "output_type": "stream",
     "text": [
      "Watermark Presence Prob.: 0.5416666666666666\n",
      "caption : There is a bomber hat propped on the back of the bench.\n",
      "Watermark Presence Prob.: 0.6458333333333334\n",
      "caption : A frost covered hat sits on top of a bench.\n",
      "Watermark Presence Prob.: 0.6041666666666666\n",
      "---------- Count = 122 : Visual Paraphrasing for the watermarked version of 96997-------------\n",
      "\n",
      "Image name :  Image_96997.jpg\n",
      "Image id : 96997\n"
     ]
    },
    {
     "data": {
      "application/vnd.jupyter.widget-view+json": {
       "model_id": "1c69139b0b0a431ab0903cab5278838e",
       "version_major": 2,
       "version_minor": 0
      },
      "text/plain": [
       "  0%|          | 0/5 [00:00<?, ?it/s]"
      ]
     },
     "metadata": {},
     "output_type": "display_data"
    },
    {
     "name": "stdout",
     "output_type": "stream",
     "text": [
      "Saving generated images at /raid/home/ashhar21137/watermarking3/stable_signature/ss_paraphrase_0.15/96997\n",
      "Generated Image saved to /raid/home/ashhar21137/watermarking3/stable_signature/ss_paraphrase_0.15/96997/96997_gen_0.png\n",
      "Generated Image saved to /raid/home/ashhar21137/watermarking3/stable_signature/ss_paraphrase_0.15/96997/96997_gen_1.png\n",
      "Generated Image saved to /raid/home/ashhar21137/watermarking3/stable_signature/ss_paraphrase_0.15/96997/96997_gen_2.png\n",
      "Generated Image saved to /raid/home/ashhar21137/watermarking3/stable_signature/ss_paraphrase_0.15/96997/96997_gen_3.png\n",
      "Generated Image saved to /raid/home/ashhar21137/watermarking3/stable_signature/ss_paraphrase_0.15/96997/96997_gen_4.png\n",
      "\n",
      "Number of images generated :  5\n",
      "\n",
      "********** Watermark detection for generated images ***************\n",
      "caption : A green plain with sheep roaming over it\n",
      "Watermark Presence Prob.: 0.4791666666666667\n",
      "caption : A group of animals grazing on a green hillside.\n",
      "Watermark Presence Prob.: 0.4791666666666667\n",
      "caption : Sheep grazing in the field on a sunny day \n",
      "Watermark Presence Prob.: 0.5\n",
      "caption : Sheep are grazing on grass at the top of a hill. \n"
     ]
    },
    {
     "name": "stderr",
     "output_type": "stream",
     "text": [
      " 61%|██████    | 122/200 [04:24<02:45,  2.12s/it]"
     ]
    },
    {
     "name": "stdout",
     "output_type": "stream",
     "text": [
      "Watermark Presence Prob.: 0.4583333333333333\n",
      "caption : A flock of sheep graze on a green rocky hillside.\n",
      "Watermark Presence Prob.: 0.5416666666666666\n",
      "---------- Count = 123 : Visual Paraphrasing for the watermarked version of 302389-------------\n",
      "\n",
      "Image name :  Image_302389.jpg\n",
      "Image id : 302389\n"
     ]
    },
    {
     "data": {
      "application/vnd.jupyter.widget-view+json": {
       "model_id": "d6b09eb44e374fdbbe441d54171f7abf",
       "version_major": 2,
       "version_minor": 0
      },
      "text/plain": [
       "  0%|          | 0/5 [00:00<?, ?it/s]"
      ]
     },
     "metadata": {},
     "output_type": "display_data"
    },
    {
     "name": "stdout",
     "output_type": "stream",
     "text": [
      "Saving generated images at /raid/home/ashhar21137/watermarking3/stable_signature/ss_paraphrase_0.15/302389\n",
      "Generated Image saved to /raid/home/ashhar21137/watermarking3/stable_signature/ss_paraphrase_0.15/302389/302389_gen_0.png\n",
      "Generated Image saved to /raid/home/ashhar21137/watermarking3/stable_signature/ss_paraphrase_0.15/302389/302389_gen_1.png\n",
      "Generated Image saved to /raid/home/ashhar21137/watermarking3/stable_signature/ss_paraphrase_0.15/302389/302389_gen_2.png\n",
      "Generated Image saved to /raid/home/ashhar21137/watermarking3/stable_signature/ss_paraphrase_0.15/302389/302389_gen_3.png\n",
      "Generated Image saved to /raid/home/ashhar21137/watermarking3/stable_signature/ss_paraphrase_0.15/302389/302389_gen_4.png\n",
      "\n",
      "Number of images generated :  5\n",
      "\n",
      "********** Watermark detection for generated images ***************\n",
      "caption : The airplane is about ready to land at the airport. \n",
      "Watermark Presence Prob.: 0.5416666666666666\n",
      "caption : A plane is close to landing at an airport. \n",
      "Watermark Presence Prob.: 0.5208333333333334\n",
      "caption : A jumbo jet airplane flying in for a landing.\n",
      "Watermark Presence Prob.: 0.6041666666666666\n",
      "caption : A jetliner coming in for a landing at an airport.\n"
     ]
    },
    {
     "name": "stderr",
     "output_type": "stream",
     "text": [
      " 62%|██████▏   | 123/200 [04:26<02:37,  2.05s/it]"
     ]
    },
    {
     "name": "stdout",
     "output_type": "stream",
     "text": [
      "Watermark Presence Prob.: 0.5416666666666666\n",
      "caption : Plane landing on tarmac with buildings and sky\n",
      "Watermark Presence Prob.: 0.6041666666666666\n",
      "---------- Count = 124 : Visual Paraphrasing for the watermarked version of 574001-------------\n",
      "\n",
      "Image name :  Image_574001.jpg\n",
      "Image id : 574001\n"
     ]
    },
    {
     "data": {
      "application/vnd.jupyter.widget-view+json": {
       "model_id": "39dbd5399b964b93a5572f927d2d19b8",
       "version_major": 2,
       "version_minor": 0
      },
      "text/plain": [
       "  0%|          | 0/5 [00:00<?, ?it/s]"
      ]
     },
     "metadata": {},
     "output_type": "display_data"
    },
    {
     "name": "stdout",
     "output_type": "stream",
     "text": [
      "Saving generated images at /raid/home/ashhar21137/watermarking3/stable_signature/ss_paraphrase_0.15/574001\n",
      "Generated Image saved to /raid/home/ashhar21137/watermarking3/stable_signature/ss_paraphrase_0.15/574001/574001_gen_0.png\n",
      "Generated Image saved to /raid/home/ashhar21137/watermarking3/stable_signature/ss_paraphrase_0.15/574001/574001_gen_1.png\n",
      "Generated Image saved to /raid/home/ashhar21137/watermarking3/stable_signature/ss_paraphrase_0.15/574001/574001_gen_2.png\n",
      "Generated Image saved to /raid/home/ashhar21137/watermarking3/stable_signature/ss_paraphrase_0.15/574001/574001_gen_3.png\n",
      "Generated Image saved to /raid/home/ashhar21137/watermarking3/stable_signature/ss_paraphrase_0.15/574001/574001_gen_4.png\n",
      "\n",
      "Number of images generated :  5\n",
      "\n",
      "********** Watermark detection for generated images ***************\n",
      "caption : A tub sitting in a bathroom next to a  toilet.\n"
     ]
    },
    {
     "name": "stderr",
     "output_type": "stream",
     "text": [
      " 62%|██████▏   | 124/200 [04:28<02:37,  2.07s/it]"
     ]
    },
    {
     "name": "stdout",
     "output_type": "stream",
     "text": [
      "Watermark Presence Prob.: 0.6041666666666666\n",
      "caption : a bath room with a small bath tub\n",
      "Watermark Presence Prob.: 0.6041666666666666\n",
      "caption : A full view of a place with a glass frame. \n",
      "Watermark Presence Prob.: 0.625\n",
      "caption : An empty bathtub with lift in a bathroom.\n",
      "Watermark Presence Prob.: 0.625\n",
      "caption : A shower that has a large tub space.\n",
      "Watermark Presence Prob.: 0.6041666666666666\n",
      "---------- Count = 125 : Visual Paraphrasing for the watermarked version of 525589-------------\n",
      "\n",
      "Image name :  Image_525589.jpg\n",
      "Image id : 525589\n"
     ]
    },
    {
     "data": {
      "application/vnd.jupyter.widget-view+json": {
       "model_id": "b5f214983e774faf97068ebb9230ec55",
       "version_major": 2,
       "version_minor": 0
      },
      "text/plain": [
       "  0%|          | 0/5 [00:00<?, ?it/s]"
      ]
     },
     "metadata": {},
     "output_type": "display_data"
    },
    {
     "name": "stdout",
     "output_type": "stream",
     "text": [
      "Saving generated images at /raid/home/ashhar21137/watermarking3/stable_signature/ss_paraphrase_0.15/525589\n",
      "Generated Image saved to /raid/home/ashhar21137/watermarking3/stable_signature/ss_paraphrase_0.15/525589/525589_gen_0.png\n",
      "Generated Image saved to /raid/home/ashhar21137/watermarking3/stable_signature/ss_paraphrase_0.15/525589/525589_gen_1.png\n",
      "Generated Image saved to /raid/home/ashhar21137/watermarking3/stable_signature/ss_paraphrase_0.15/525589/525589_gen_2.png\n"
     ]
    },
    {
     "name": "stderr",
     "output_type": "stream",
     "text": [
      " 62%|██████▎   | 125/200 [04:30<02:29,  1.99s/it]"
     ]
    },
    {
     "name": "stdout",
     "output_type": "stream",
     "text": [
      "Generated Image saved to /raid/home/ashhar21137/watermarking3/stable_signature/ss_paraphrase_0.15/525589/525589_gen_3.png\n",
      "Generated Image saved to /raid/home/ashhar21137/watermarking3/stable_signature/ss_paraphrase_0.15/525589/525589_gen_4.png\n",
      "\n",
      "Number of images generated :  5\n",
      "\n",
      "********** Watermark detection for generated images ***************\n",
      "caption : A sheered sheep is walking away from a pile of its wool.\n",
      "Watermark Presence Prob.: 0.5\n",
      "caption : A black sheep having just had its haired shaved off.\n",
      "Watermark Presence Prob.: 0.4791666666666667\n",
      "caption : A back sheep that is standing in the grass.\n",
      "Watermark Presence Prob.: 0.4583333333333333\n",
      "caption : a large black sheep who has been shaved \n",
      "Watermark Presence Prob.: 0.4791666666666667\n",
      "caption : a newly shaved sheep walks away from it shaven fur \n",
      "Watermark Presence Prob.: 0.4375\n",
      "---------- Count = 126 : Visual Paraphrasing for the watermarked version of 280980-------------\n",
      "\n",
      "Image name :  Image_280980.jpg\n",
      "Image id : 280980\n"
     ]
    },
    {
     "data": {
      "application/vnd.jupyter.widget-view+json": {
       "model_id": "5918b2df731e45ac9efcfbc2a87c8437",
       "version_major": 2,
       "version_minor": 0
      },
      "text/plain": [
       "  0%|          | 0/5 [00:00<?, ?it/s]"
      ]
     },
     "metadata": {},
     "output_type": "display_data"
    },
    {
     "name": "stdout",
     "output_type": "stream",
     "text": [
      "Saving generated images at /raid/home/ashhar21137/watermarking3/stable_signature/ss_paraphrase_0.15/280980\n",
      "Generated Image saved to /raid/home/ashhar21137/watermarking3/stable_signature/ss_paraphrase_0.15/280980/280980_gen_0.png\n",
      "Generated Image saved to /raid/home/ashhar21137/watermarking3/stable_signature/ss_paraphrase_0.15/280980/280980_gen_1.png\n",
      "Generated Image saved to /raid/home/ashhar21137/watermarking3/stable_signature/ss_paraphrase_0.15/280980/280980_gen_2.png\n",
      "Generated Image saved to /raid/home/ashhar21137/watermarking3/stable_signature/ss_paraphrase_0.15/280980/280980_gen_3.png\n",
      "Generated Image saved to /raid/home/ashhar21137/watermarking3/stable_signature/ss_paraphrase_0.15/280980/280980_gen_4.png\n",
      "\n",
      "Number of images generated :  5\n",
      "\n",
      "********** Watermark detection for generated images ***************\n",
      "caption : A man in a costume and wig is using a urinal.\n"
     ]
    },
    {
     "name": "stderr",
     "output_type": "stream",
     "text": [
      " 63%|██████▎   | 126/200 [04:32<02:26,  1.98s/it]"
     ]
    },
    {
     "name": "stdout",
     "output_type": "stream",
     "text": [
      "Watermark Presence Prob.: 0.5208333333333334\n",
      "caption : a person in a bathroom with a toilet and frames on the wall\n",
      "Watermark Presence Prob.: 0.5625\n",
      "caption : A man with a white wig and beard and a Christmas hat in a bathroom.\n",
      "Watermark Presence Prob.: 0.5208333333333334\n",
      "caption : A person in a Santa hat holds a cup away from the sink in a bathroom.\n",
      "Watermark Presence Prob.: 0.5833333333333334\n",
      "caption : A man dressed up like santa taking a leak.\n",
      "Watermark Presence Prob.: 0.5208333333333334\n",
      "---------- Count = 127 : Visual Paraphrasing for the watermarked version of 316676-------------\n",
      "\n",
      "Image name :  Image_316676.jpg\n",
      "Image id : 316676\n"
     ]
    },
    {
     "data": {
      "application/vnd.jupyter.widget-view+json": {
       "model_id": "08f6218c8dc54269a39b2683a44bc355",
       "version_major": 2,
       "version_minor": 0
      },
      "text/plain": [
       "  0%|          | 0/5 [00:00<?, ?it/s]"
      ]
     },
     "metadata": {},
     "output_type": "display_data"
    },
    {
     "name": "stdout",
     "output_type": "stream",
     "text": [
      "Saving generated images at /raid/home/ashhar21137/watermarking3/stable_signature/ss_paraphrase_0.15/316676\n",
      "Generated Image saved to /raid/home/ashhar21137/watermarking3/stable_signature/ss_paraphrase_0.15/316676/316676_gen_0.png\n",
      "Generated Image saved to /raid/home/ashhar21137/watermarking3/stable_signature/ss_paraphrase_0.15/316676/316676_gen_1.png\n",
      "Generated Image saved to /raid/home/ashhar21137/watermarking3/stable_signature/ss_paraphrase_0.15/316676/316676_gen_2.png\n",
      "Generated Image saved to /raid/home/ashhar21137/watermarking3/stable_signature/ss_paraphrase_0.15/316676/316676_gen_3.png\n",
      "Generated Image saved to /raid/home/ashhar21137/watermarking3/stable_signature/ss_paraphrase_0.15/316676/316676_gen_4.png\n",
      "\n",
      "Number of images generated :  5\n",
      "\n",
      "********** Watermark detection for generated images ***************\n",
      "caption : a street light with a layer of snow on a metal pole next to a street.\n",
      "Watermark Presence Prob.: 0.5416666666666666\n",
      "caption : an image of a traffic light that is covered with snow\n",
      "Watermark Presence Prob.: 0.5\n",
      "caption : A traffic signal at an intersection covered in snow.\n"
     ]
    },
    {
     "name": "stderr",
     "output_type": "stream",
     "text": [
      " 64%|██████▎   | 127/200 [04:34<02:28,  2.03s/it]"
     ]
    },
    {
     "name": "stdout",
     "output_type": "stream",
     "text": [
      "Watermark Presence Prob.: 0.4791666666666667\n",
      "caption : The street light is covered in a thin layer of snow\n",
      "Watermark Presence Prob.: 0.5833333333333334\n",
      "caption : A traffic light covered in snow next to a building.\n",
      "Watermark Presence Prob.: 0.4791666666666667\n",
      "---------- Count = 128 : Visual Paraphrasing for the watermarked version of 412535-------------\n",
      "\n",
      "Image name :  Image_412535.jpg\n",
      "Image id : 412535\n"
     ]
    },
    {
     "data": {
      "application/vnd.jupyter.widget-view+json": {
       "model_id": "37ed1defbd49460690985914bc131e5a",
       "version_major": 2,
       "version_minor": 0
      },
      "text/plain": [
       "  0%|          | 0/5 [00:00<?, ?it/s]"
      ]
     },
     "metadata": {},
     "output_type": "display_data"
    },
    {
     "name": "stdout",
     "output_type": "stream",
     "text": [
      "Saving generated images at /raid/home/ashhar21137/watermarking3/stable_signature/ss_paraphrase_0.15/412535\n",
      "Generated Image saved to /raid/home/ashhar21137/watermarking3/stable_signature/ss_paraphrase_0.15/412535/412535_gen_0.png\n",
      "Generated Image saved to /raid/home/ashhar21137/watermarking3/stable_signature/ss_paraphrase_0.15/412535/412535_gen_1.png\n",
      "Generated Image saved to /raid/home/ashhar21137/watermarking3/stable_signature/ss_paraphrase_0.15/412535/412535_gen_2.png\n",
      "Generated Image saved to /raid/home/ashhar21137/watermarking3/stable_signature/ss_paraphrase_0.15/412535/412535_gen_3.png\n",
      "Generated Image saved to /raid/home/ashhar21137/watermarking3/stable_signature/ss_paraphrase_0.15/412535/412535_gen_4.png\n",
      "\n",
      "Number of images generated :  5\n",
      "\n",
      "********** Watermark detection for generated images ***************\n",
      "caption : A bathroom with a toilet lid up, and white curtains on the widow.\n",
      "Watermark Presence Prob.: 0.5833333333333334\n",
      "caption : view of a bathroom with white toilet and white sink\n",
      "Watermark Presence Prob.: 0.6041666666666666\n",
      "caption : A restroom with a white toilet and sink.\n",
      "Watermark Presence Prob.: 0.625\n",
      "caption : A safety handle is located on a wall in a washroom.\n",
      "Watermark Presence Prob.: 0.5833333333333334\n",
      "caption : a black table and a white toilet in a bathroom\n"
     ]
    },
    {
     "name": "stderr",
     "output_type": "stream",
     "text": [
      " 64%|██████▍   | 128/200 [04:37<02:39,  2.22s/it]"
     ]
    },
    {
     "name": "stdout",
     "output_type": "stream",
     "text": [
      "Watermark Presence Prob.: 0.6458333333333334\n",
      "---------- Count = 129 : Visual Paraphrasing for the watermarked version of 445528-------------\n",
      "\n",
      "Image name :  Image_445528.jpg\n",
      "Image id : 445528\n"
     ]
    },
    {
     "data": {
      "application/vnd.jupyter.widget-view+json": {
       "model_id": "0916162cfd5141be8540ee149bcebeda",
       "version_major": 2,
       "version_minor": 0
      },
      "text/plain": [
       "  0%|          | 0/5 [00:00<?, ?it/s]"
      ]
     },
     "metadata": {},
     "output_type": "display_data"
    },
    {
     "name": "stdout",
     "output_type": "stream",
     "text": [
      "Saving generated images at /raid/home/ashhar21137/watermarking3/stable_signature/ss_paraphrase_0.15/445528\n",
      "Generated Image saved to /raid/home/ashhar21137/watermarking3/stable_signature/ss_paraphrase_0.15/445528/445528_gen_0.png\n",
      "Generated Image saved to /raid/home/ashhar21137/watermarking3/stable_signature/ss_paraphrase_0.15/445528/445528_gen_1.png\n",
      "Generated Image saved to /raid/home/ashhar21137/watermarking3/stable_signature/ss_paraphrase_0.15/445528/445528_gen_2.png\n",
      "Generated Image saved to /raid/home/ashhar21137/watermarking3/stable_signature/ss_paraphrase_0.15/445528/445528_gen_3.png\n"
     ]
    },
    {
     "name": "stderr",
     "output_type": "stream",
     "text": [
      " 64%|██████▍   | 129/200 [04:38<02:30,  2.11s/it]"
     ]
    },
    {
     "name": "stdout",
     "output_type": "stream",
     "text": [
      "Generated Image saved to /raid/home/ashhar21137/watermarking3/stable_signature/ss_paraphrase_0.15/445528/445528_gen_4.png\n",
      "\n",
      "Number of images generated :  5\n",
      "\n",
      "********** Watermark detection for generated images ***************\n",
      "caption : A pair of giraffes walk through the grass and trees.\n",
      "Watermark Presence Prob.: 0.5208333333333334\n",
      "caption : Group of giraffes eating in between a row of trees. \n",
      "Watermark Presence Prob.: 0.5625\n",
      "caption : A giraffe stands tall with trees in the background.\n",
      "Watermark Presence Prob.: 0.5\n",
      "caption : Two giraffes eating leaves off the trees in the woods\n",
      "Watermark Presence Prob.: 0.5833333333333334\n",
      "caption : An elephant and a giraffe are walking through the woods.\n",
      "Watermark Presence Prob.: 0.5416666666666666\n",
      "---------- Count = 130 : Visual Paraphrasing for the watermarked version of 576757-------------\n",
      "\n",
      "Image name :  Image_576757.jpg\n",
      "Image id : 576757\n"
     ]
    },
    {
     "data": {
      "application/vnd.jupyter.widget-view+json": {
       "model_id": "81ed723448374cce894a1b122372a49e",
       "version_major": 2,
       "version_minor": 0
      },
      "text/plain": [
       "  0%|          | 0/5 [00:00<?, ?it/s]"
      ]
     },
     "metadata": {},
     "output_type": "display_data"
    },
    {
     "name": "stdout",
     "output_type": "stream",
     "text": [
      "Saving generated images at /raid/home/ashhar21137/watermarking3/stable_signature/ss_paraphrase_0.15/576757\n",
      "Generated Image saved to /raid/home/ashhar21137/watermarking3/stable_signature/ss_paraphrase_0.15/576757/576757_gen_0.png\n",
      "Generated Image saved to /raid/home/ashhar21137/watermarking3/stable_signature/ss_paraphrase_0.15/576757/576757_gen_1.png\n",
      "Generated Image saved to /raid/home/ashhar21137/watermarking3/stable_signature/ss_paraphrase_0.15/576757/576757_gen_2.png\n",
      "Generated Image saved to /raid/home/ashhar21137/watermarking3/stable_signature/ss_paraphrase_0.15/576757/576757_gen_3.png\n",
      "Generated Image saved to /raid/home/ashhar21137/watermarking3/stable_signature/ss_paraphrase_0.15/576757/576757_gen_4.png\n",
      "\n",
      "Number of images generated :  5\n",
      "\n",
      "********** Watermark detection for generated images ***************\n",
      "caption : An unfinished bathroom has a toilet and tools\n",
      "Watermark Presence Prob.: 0.625\n",
      "caption : A white toilet sitting in a demolished bathroom.\n",
      "Watermark Presence Prob.: 0.5625\n",
      "caption : Construction tools sit in a bathroom that has has the walls and floor torn up.\n",
      "Watermark Presence Prob.: 0.5416666666666666\n",
      "caption : A bathroom toilet in the middle of being remodeled.\n",
      "Watermark Presence Prob.: 0.6041666666666666\n",
      "caption : A bathroom that's being remodeled and has a toilet.\n"
     ]
    },
    {
     "name": "stderr",
     "output_type": "stream",
     "text": [
      " 65%|██████▌   | 130/200 [04:40<02:26,  2.10s/it]"
     ]
    },
    {
     "name": "stdout",
     "output_type": "stream",
     "text": [
      "Watermark Presence Prob.: 0.625\n",
      "---------- Count = 131 : Visual Paraphrasing for the watermarked version of 313932-------------\n",
      "\n",
      "Image name :  Image_313932.jpg\n",
      "Image id : 313932\n"
     ]
    },
    {
     "data": {
      "application/vnd.jupyter.widget-view+json": {
       "model_id": "f6e016e2c62b4905bd6b296258f58a13",
       "version_major": 2,
       "version_minor": 0
      },
      "text/plain": [
       "  0%|          | 0/5 [00:00<?, ?it/s]"
      ]
     },
     "metadata": {},
     "output_type": "display_data"
    },
    {
     "name": "stdout",
     "output_type": "stream",
     "text": [
      "Saving generated images at /raid/home/ashhar21137/watermarking3/stable_signature/ss_paraphrase_0.15/313932\n",
      "Generated Image saved to /raid/home/ashhar21137/watermarking3/stable_signature/ss_paraphrase_0.15/313932/313932_gen_0.png\n",
      "Generated Image saved to /raid/home/ashhar21137/watermarking3/stable_signature/ss_paraphrase_0.15/313932/313932_gen_1.png\n",
      "Generated Image saved to /raid/home/ashhar21137/watermarking3/stable_signature/ss_paraphrase_0.15/313932/313932_gen_2.png\n",
      "Generated Image saved to /raid/home/ashhar21137/watermarking3/stable_signature/ss_paraphrase_0.15/313932/313932_gen_3.png\n"
     ]
    },
    {
     "name": "stderr",
     "output_type": "stream",
     "text": [
      " 66%|██████▌   | 131/200 [04:43<02:27,  2.14s/it]"
     ]
    },
    {
     "name": "stdout",
     "output_type": "stream",
     "text": [
      "Generated Image saved to /raid/home/ashhar21137/watermarking3/stable_signature/ss_paraphrase_0.15/313932/313932_gen_4.png\n",
      "\n",
      "Number of images generated :  5\n",
      "\n",
      "********** Watermark detection for generated images ***************\n",
      "caption : A stuffed animal standing on a wood platform on top of a table.\n",
      "Watermark Presence Prob.: 0.5833333333333334\n",
      "caption : A stuffed large cat sits on the desk in a dark room. \n",
      "Watermark Presence Prob.: 0.5\n",
      "caption : A cat standing on a rock on a table.\n",
      "Watermark Presence Prob.: 0.5208333333333334\n",
      "caption : A dead stuffed cat sitting on top of a piece of wood.\n",
      "Watermark Presence Prob.: 0.4791666666666667\n",
      "caption : A stuffed animal displayed on a table in a place.\n",
      "Watermark Presence Prob.: 0.5416666666666666\n",
      "---------- Count = 132 : Visual Paraphrasing for the watermarked version of 477797-------------\n",
      "\n",
      "Image name :  Image_477797.jpg\n",
      "Image id : 477797\n"
     ]
    },
    {
     "data": {
      "application/vnd.jupyter.widget-view+json": {
       "model_id": "37f98afbde944d769b803943a973a95f",
       "version_major": 2,
       "version_minor": 0
      },
      "text/plain": [
       "  0%|          | 0/5 [00:00<?, ?it/s]"
      ]
     },
     "metadata": {},
     "output_type": "display_data"
    },
    {
     "name": "stdout",
     "output_type": "stream",
     "text": [
      "Saving generated images at /raid/home/ashhar21137/watermarking3/stable_signature/ss_paraphrase_0.15/477797\n",
      "Generated Image saved to /raid/home/ashhar21137/watermarking3/stable_signature/ss_paraphrase_0.15/477797/477797_gen_0.png\n",
      "Generated Image saved to /raid/home/ashhar21137/watermarking3/stable_signature/ss_paraphrase_0.15/477797/477797_gen_1.png\n",
      "Generated Image saved to /raid/home/ashhar21137/watermarking3/stable_signature/ss_paraphrase_0.15/477797/477797_gen_2.png\n",
      "Generated Image saved to /raid/home/ashhar21137/watermarking3/stable_signature/ss_paraphrase_0.15/477797/477797_gen_3.png\n",
      "Generated Image saved to /raid/home/ashhar21137/watermarking3/stable_signature/ss_paraphrase_0.15/477797/477797_gen_4.png\n",
      "\n",
      "Number of images generated :  5\n",
      "\n",
      "********** Watermark detection for generated images ***************\n",
      "caption : A white platter topped with cakes  next to a platter topped with donuts.\n",
      "Watermark Presence Prob.: 0.6041666666666666\n",
      "caption : A plate of cake and brownies sits in front of a plate of doughnuts.  \n",
      "Watermark Presence Prob.: 0.5\n",
      "caption : Two large trays displaying a multitude of assorted pastry items.\n",
      "Watermark Presence Prob.: 0.5833333333333334\n",
      "caption : Sweet treats are served together on a platter. \n"
     ]
    },
    {
     "name": "stderr",
     "output_type": "stream",
     "text": [
      " 66%|██████▌   | 132/200 [04:45<02:26,  2.15s/it]"
     ]
    },
    {
     "name": "stdout",
     "output_type": "stream",
     "text": [
      "Watermark Presence Prob.: 0.5833333333333334\n",
      "caption : These trays are filled with three kinds of desserts.\n",
      "Watermark Presence Prob.: 0.5416666666666666\n",
      "---------- Count = 133 : Visual Paraphrasing for the watermarked version of 98760-------------\n",
      "\n",
      "Image name :  Image_98760.jpg\n",
      "Image id : 98760\n"
     ]
    },
    {
     "data": {
      "application/vnd.jupyter.widget-view+json": {
       "model_id": "41921fa243734109bb657c76936f0170",
       "version_major": 2,
       "version_minor": 0
      },
      "text/plain": [
       "  0%|          | 0/5 [00:00<?, ?it/s]"
      ]
     },
     "metadata": {},
     "output_type": "display_data"
    },
    {
     "name": "stdout",
     "output_type": "stream",
     "text": [
      "Saving generated images at /raid/home/ashhar21137/watermarking3/stable_signature/ss_paraphrase_0.15/98760\n",
      "Generated Image saved to /raid/home/ashhar21137/watermarking3/stable_signature/ss_paraphrase_0.15/98760/98760_gen_0.png\n",
      "Generated Image saved to /raid/home/ashhar21137/watermarking3/stable_signature/ss_paraphrase_0.15/98760/98760_gen_1.png\n",
      "Generated Image saved to /raid/home/ashhar21137/watermarking3/stable_signature/ss_paraphrase_0.15/98760/98760_gen_2.png\n",
      "Generated Image saved to /raid/home/ashhar21137/watermarking3/stable_signature/ss_paraphrase_0.15/98760/98760_gen_3.png\n",
      "Generated Image saved to /raid/home/ashhar21137/watermarking3/stable_signature/ss_paraphrase_0.15/98760/98760_gen_4.png\n",
      "\n",
      "Number of images generated :  5\n",
      "\n",
      "********** Watermark detection for generated images ***************\n",
      "caption : A dog sticks its out out the window of a car. \n",
      "Watermark Presence Prob.: 0.6875\n",
      "caption : a brown dog puts his head out of the window of a moving car\n",
      "Watermark Presence Prob.: 0.6041666666666666\n",
      "caption : A small brown dog sticking it's head out of a car window.\n",
      "Watermark Presence Prob.: 0.5625\n",
      "caption : A fluffy dog sticking his head out the window of a moving car. \n",
      "Watermark Presence Prob.: 0.6041666666666666\n",
      "caption : This is a cute dog sticking his head out of the window of a red car.\n"
     ]
    },
    {
     "name": "stderr",
     "output_type": "stream",
     "text": [
      " 66%|██████▋   | 133/200 [04:47<02:29,  2.24s/it]"
     ]
    },
    {
     "name": "stdout",
     "output_type": "stream",
     "text": [
      "Watermark Presence Prob.: 0.6041666666666666\n",
      "---------- Count = 134 : Visual Paraphrasing for the watermarked version of 513541-------------\n",
      "\n",
      "Image name :  Image_513541.jpg\n",
      "Image id : 513541\n"
     ]
    },
    {
     "data": {
      "application/vnd.jupyter.widget-view+json": {
       "model_id": "6f9fdfe44c93483fb6a8221c2f9a9557",
       "version_major": 2,
       "version_minor": 0
      },
      "text/plain": [
       "  0%|          | 0/5 [00:00<?, ?it/s]"
      ]
     },
     "metadata": {},
     "output_type": "display_data"
    },
    {
     "name": "stdout",
     "output_type": "stream",
     "text": [
      "Saving generated images at /raid/home/ashhar21137/watermarking3/stable_signature/ss_paraphrase_0.15/513541\n",
      "Generated Image saved to /raid/home/ashhar21137/watermarking3/stable_signature/ss_paraphrase_0.15/513541/513541_gen_0.png\n",
      "Generated Image saved to /raid/home/ashhar21137/watermarking3/stable_signature/ss_paraphrase_0.15/513541/513541_gen_1.png\n",
      "Generated Image saved to /raid/home/ashhar21137/watermarking3/stable_signature/ss_paraphrase_0.15/513541/513541_gen_2.png\n",
      "Generated Image saved to /raid/home/ashhar21137/watermarking3/stable_signature/ss_paraphrase_0.15/513541/513541_gen_3.png\n",
      "Generated Image saved to /raid/home/ashhar21137/watermarking3/stable_signature/ss_paraphrase_0.15/513541/513541_gen_4.png\n",
      "\n",
      "Number of images generated :  5\n",
      "\n",
      "********** Watermark detection for generated images ***************\n",
      "caption : A blue fighter airplane is parked at a show.\n"
     ]
    },
    {
     "name": "stderr",
     "output_type": "stream",
     "text": [
      " 67%|██████▋   | 134/200 [04:49<02:25,  2.21s/it]"
     ]
    },
    {
     "name": "stdout",
     "output_type": "stream",
     "text": [
      "Watermark Presence Prob.: 0.5833333333333334\n",
      "caption : An old style airplane is parked while people walk in the background.\n",
      "Watermark Presence Prob.: 0.5625\n",
      "caption : A small plane is parked and on display. \n",
      "Watermark Presence Prob.: 0.5208333333333334\n",
      "caption : A blue propeller plane is on display at an airshow.\n",
      "Watermark Presence Prob.: 0.625\n",
      "caption : A propeller plan that is sitting on concrete.\n",
      "Watermark Presence Prob.: 0.5833333333333334\n",
      "---------- Count = 135 : Visual Paraphrasing for the watermarked version of 136461-------------\n",
      "\n",
      "Image name :  Image_136461.jpg\n",
      "Image id : 136461\n"
     ]
    },
    {
     "data": {
      "application/vnd.jupyter.widget-view+json": {
       "model_id": "50d84f6a25e24132a80b930e73ca2ec2",
       "version_major": 2,
       "version_minor": 0
      },
      "text/plain": [
       "  0%|          | 0/5 [00:00<?, ?it/s]"
      ]
     },
     "metadata": {},
     "output_type": "display_data"
    },
    {
     "name": "stdout",
     "output_type": "stream",
     "text": [
      "Saving generated images at /raid/home/ashhar21137/watermarking3/stable_signature/ss_paraphrase_0.15/136461\n",
      "Generated Image saved to /raid/home/ashhar21137/watermarking3/stable_signature/ss_paraphrase_0.15/136461/136461_gen_0.png\n",
      "Generated Image saved to /raid/home/ashhar21137/watermarking3/stable_signature/ss_paraphrase_0.15/136461/136461_gen_1.png\n",
      "Generated Image saved to /raid/home/ashhar21137/watermarking3/stable_signature/ss_paraphrase_0.15/136461/136461_gen_2.png\n",
      "Generated Image saved to /raid/home/ashhar21137/watermarking3/stable_signature/ss_paraphrase_0.15/136461/136461_gen_3.png\n",
      "Generated Image saved to /raid/home/ashhar21137/watermarking3/stable_signature/ss_paraphrase_0.15/136461/136461_gen_4.png\n",
      "\n",
      "Number of images generated :  5\n",
      "\n",
      "********** Watermark detection for generated images ***************\n",
      "caption : A bus passing through a four way intersection with traffic light.\n",
      "Watermark Presence Prob.: 0.4375\n",
      "caption : a blue and white bus some cars a yellow bus and trees\n"
     ]
    },
    {
     "name": "stderr",
     "output_type": "stream",
     "text": [
      " 68%|██████▊   | 135/200 [04:51<02:18,  2.14s/it]"
     ]
    },
    {
     "name": "stdout",
     "output_type": "stream",
     "text": [
      "Watermark Presence Prob.: 0.4583333333333333\n",
      "caption : a school bus is stopped at an intersection light while a bus crosses in the opposite direction\n",
      "Watermark Presence Prob.: 0.4375\n",
      "caption : A large bus is crossing through an intersection.\n",
      "Watermark Presence Prob.: 0.4375\n",
      "caption : One bus stopped at an intersection, while another goes past it.\n",
      "Watermark Presence Prob.: 0.4791666666666667\n",
      "---------- Count = 136 : Visual Paraphrasing for the watermarked version of 85685-------------\n",
      "\n",
      "Image name :  Image_85685.jpg\n",
      "Image id : 85685\n"
     ]
    },
    {
     "data": {
      "application/vnd.jupyter.widget-view+json": {
       "model_id": "762cca464ac2424583e627faf53be80b",
       "version_major": 2,
       "version_minor": 0
      },
      "text/plain": [
       "  0%|          | 0/5 [00:00<?, ?it/s]"
      ]
     },
     "metadata": {},
     "output_type": "display_data"
    },
    {
     "name": "stdout",
     "output_type": "stream",
     "text": [
      "Saving generated images at /raid/home/ashhar21137/watermarking3/stable_signature/ss_paraphrase_0.15/85685\n",
      "Generated Image saved to /raid/home/ashhar21137/watermarking3/stable_signature/ss_paraphrase_0.15/85685/85685_gen_0.png\n",
      "Generated Image saved to /raid/home/ashhar21137/watermarking3/stable_signature/ss_paraphrase_0.15/85685/85685_gen_1.png\n",
      "Generated Image saved to /raid/home/ashhar21137/watermarking3/stable_signature/ss_paraphrase_0.15/85685/85685_gen_2.png\n"
     ]
    },
    {
     "name": "stderr",
     "output_type": "stream",
     "text": [
      " 68%|██████▊   | 136/200 [04:53<02:10,  2.04s/it]"
     ]
    },
    {
     "name": "stdout",
     "output_type": "stream",
     "text": [
      "Generated Image saved to /raid/home/ashhar21137/watermarking3/stable_signature/ss_paraphrase_0.15/85685/85685_gen_3.png\n",
      "Generated Image saved to /raid/home/ashhar21137/watermarking3/stable_signature/ss_paraphrase_0.15/85685/85685_gen_4.png\n",
      "\n",
      "Number of images generated :  5\n",
      "\n",
      "********** Watermark detection for generated images ***************\n",
      "caption : An old army truck sitting by a yellow fire hydrant.\n",
      "Watermark Presence Prob.: 0.5\n",
      "caption : An old pick up truck parked next to a fire hydrant.\n",
      "Watermark Presence Prob.: 0.4791666666666667\n",
      "caption : an old truck sitting next to a yellow fire hydrant \n",
      "Watermark Presence Prob.: 0.5\n",
      "caption : A photograph of an outside with numerous things in the scene.\n",
      "\n",
      "Watermark Presence Prob.: 0.5\n",
      "caption : A yellow fire hydrant next to an army truck.\n",
      "Watermark Presence Prob.: 0.5416666666666666\n",
      "---------- Count = 137 : Visual Paraphrasing for the watermarked version of 356702-------------\n",
      "\n",
      "Image name :  Image_356702.jpg\n",
      "Image id : 356702\n"
     ]
    },
    {
     "data": {
      "application/vnd.jupyter.widget-view+json": {
       "model_id": "54ff9d6c503a479f820d9c3b1aec69fa",
       "version_major": 2,
       "version_minor": 0
      },
      "text/plain": [
       "  0%|          | 0/5 [00:00<?, ?it/s]"
      ]
     },
     "metadata": {},
     "output_type": "display_data"
    },
    {
     "name": "stdout",
     "output_type": "stream",
     "text": [
      "Saving generated images at /raid/home/ashhar21137/watermarking3/stable_signature/ss_paraphrase_0.15/356702\n",
      "Generated Image saved to /raid/home/ashhar21137/watermarking3/stable_signature/ss_paraphrase_0.15/356702/356702_gen_0.png\n",
      "Generated Image saved to /raid/home/ashhar21137/watermarking3/stable_signature/ss_paraphrase_0.15/356702/356702_gen_1.png\n",
      "Generated Image saved to /raid/home/ashhar21137/watermarking3/stable_signature/ss_paraphrase_0.15/356702/356702_gen_2.png\n",
      "Generated Image saved to /raid/home/ashhar21137/watermarking3/stable_signature/ss_paraphrase_0.15/356702/356702_gen_3.png\n",
      "Generated Image saved to /raid/home/ashhar21137/watermarking3/stable_signature/ss_paraphrase_0.15/356702/356702_gen_4.png\n",
      "\n",
      "Number of images generated :  5\n",
      "\n",
      "********** Watermark detection for generated images ***************\n",
      "caption : A couple of young men sitting in front of a child's laptop.\n",
      "Watermark Presence Prob.: 0.625\n",
      "caption : A pair of men looking at a tablet perched on a table.\n",
      "Watermark Presence Prob.: 0.6666666666666666\n",
      "caption : Two men laugh as they look at a computer.\n",
      "Watermark Presence Prob.: 0.6458333333333334\n",
      "caption : Two men are smiling looking at a laptop computer.\n",
      "Watermark Presence Prob.: 0.6458333333333334\n",
      "caption : Two men happily working on a plastic computer\n"
     ]
    },
    {
     "name": "stderr",
     "output_type": "stream",
     "text": [
      " 68%|██████▊   | 137/200 [04:55<02:07,  2.02s/it]"
     ]
    },
    {
     "name": "stdout",
     "output_type": "stream",
     "text": [
      "Watermark Presence Prob.: 0.6458333333333334\n",
      "---------- Count = 138 : Visual Paraphrasing for the watermarked version of 424102-------------\n",
      "\n",
      "Image name :  Image_424102.jpg\n",
      "Image id : 424102\n"
     ]
    },
    {
     "data": {
      "application/vnd.jupyter.widget-view+json": {
       "model_id": "6ad2a27416e24804a8c74ca28022682c",
       "version_major": 2,
       "version_minor": 0
      },
      "text/plain": [
       "  0%|          | 0/5 [00:00<?, ?it/s]"
      ]
     },
     "metadata": {},
     "output_type": "display_data"
    },
    {
     "name": "stdout",
     "output_type": "stream",
     "text": [
      "Saving generated images at /raid/home/ashhar21137/watermarking3/stable_signature/ss_paraphrase_0.15/424102\n",
      "Generated Image saved to /raid/home/ashhar21137/watermarking3/stable_signature/ss_paraphrase_0.15/424102/424102_gen_0.png\n",
      "Generated Image saved to /raid/home/ashhar21137/watermarking3/stable_signature/ss_paraphrase_0.15/424102/424102_gen_1.png\n",
      "Generated Image saved to /raid/home/ashhar21137/watermarking3/stable_signature/ss_paraphrase_0.15/424102/424102_gen_2.png\n",
      "Generated Image saved to /raid/home/ashhar21137/watermarking3/stable_signature/ss_paraphrase_0.15/424102/424102_gen_3.png\n",
      "Generated Image saved to /raid/home/ashhar21137/watermarking3/stable_signature/ss_paraphrase_0.15/424102/424102_gen_4.png\n",
      "\n",
      "Number of images generated :  5\n",
      "\n",
      "********** Watermark detection for generated images ***************\n",
      "caption : A man throws a model airplane into the air.\n",
      "Watermark Presence Prob.: 0.5833333333333334\n",
      "caption : A man is flying a model plane in a field.\n",
      "Watermark Presence Prob.: 0.6041666666666666\n",
      "caption : A man with an airplane over his head while pointing.\n",
      "Watermark Presence Prob.: 0.625\n",
      "caption : A person stands outside throwing a model airplane.\n"
     ]
    },
    {
     "name": "stderr",
     "output_type": "stream",
     "text": [
      " 69%|██████▉   | 138/200 [04:57<02:07,  2.06s/it]"
     ]
    },
    {
     "name": "stdout",
     "output_type": "stream",
     "text": [
      "Watermark Presence Prob.: 0.4791666666666667\n",
      "caption : A man is throwing a toy plane through the air.\n",
      "Watermark Presence Prob.: 0.5833333333333334\n",
      "---------- Count = 139 : Visual Paraphrasing for the watermarked version of 467311-------------\n",
      "\n",
      "Image name :  Image_467311.jpg\n",
      "Image id : 467311\n"
     ]
    },
    {
     "data": {
      "application/vnd.jupyter.widget-view+json": {
       "model_id": "96d11c34e4e547f486acc6d3ab11e2b0",
       "version_major": 2,
       "version_minor": 0
      },
      "text/plain": [
       "  0%|          | 0/5 [00:00<?, ?it/s]"
      ]
     },
     "metadata": {},
     "output_type": "display_data"
    },
    {
     "name": "stdout",
     "output_type": "stream",
     "text": [
      "Saving generated images at /raid/home/ashhar21137/watermarking3/stable_signature/ss_paraphrase_0.15/467311\n",
      "Generated Image saved to /raid/home/ashhar21137/watermarking3/stable_signature/ss_paraphrase_0.15/467311/467311_gen_0.png\n",
      "Generated Image saved to /raid/home/ashhar21137/watermarking3/stable_signature/ss_paraphrase_0.15/467311/467311_gen_1.png\n",
      "Generated Image saved to /raid/home/ashhar21137/watermarking3/stable_signature/ss_paraphrase_0.15/467311/467311_gen_2.png\n",
      "Generated Image saved to /raid/home/ashhar21137/watermarking3/stable_signature/ss_paraphrase_0.15/467311/467311_gen_3.png\n",
      "Generated Image saved to /raid/home/ashhar21137/watermarking3/stable_signature/ss_paraphrase_0.15/467311/467311_gen_4.png\n",
      "\n",
      "Number of images generated :  5\n",
      "\n",
      "********** Watermark detection for generated images ***************\n",
      "caption : A bus and a few other vehicles that appear to be traveling down the road.\n"
     ]
    },
    {
     "name": "stderr",
     "output_type": "stream",
     "text": [
      " 70%|██████▉   | 139/200 [05:00<02:10,  2.13s/it]"
     ]
    },
    {
     "name": "stdout",
     "output_type": "stream",
     "text": [
      "Watermark Presence Prob.: 0.5\n",
      "caption : A yellow automobile behind a bus in a city. \n",
      "Watermark Presence Prob.: 0.5416666666666666\n",
      "caption : The yellow truck is riding behind the grey city bus. \n",
      "Watermark Presence Prob.: 0.5208333333333334\n",
      "caption : A bus with an advertisement and a yellow hummer behind it\n",
      "Watermark Presence Prob.: 0.5208333333333334\n",
      "caption : A truck that is sitting behind a bus.\n",
      "Watermark Presence Prob.: 0.5625\n",
      "---------- Count = 140 : Visual Paraphrasing for the watermarked version of 540988-------------\n",
      "\n",
      "Image name :  Image_540988.jpg\n",
      "Image id : 540988\n"
     ]
    },
    {
     "data": {
      "application/vnd.jupyter.widget-view+json": {
       "model_id": "af5fcdc8a616433a841a5e3605ca8444",
       "version_major": 2,
       "version_minor": 0
      },
      "text/plain": [
       "  0%|          | 0/5 [00:00<?, ?it/s]"
      ]
     },
     "metadata": {},
     "output_type": "display_data"
    },
    {
     "name": "stdout",
     "output_type": "stream",
     "text": [
      "Saving generated images at /raid/home/ashhar21137/watermarking3/stable_signature/ss_paraphrase_0.15/540988\n",
      "Generated Image saved to /raid/home/ashhar21137/watermarking3/stable_signature/ss_paraphrase_0.15/540988/540988_gen_0.png\n",
      "Generated Image saved to /raid/home/ashhar21137/watermarking3/stable_signature/ss_paraphrase_0.15/540988/540988_gen_1.png\n",
      "Generated Image saved to /raid/home/ashhar21137/watermarking3/stable_signature/ss_paraphrase_0.15/540988/540988_gen_2.png\n",
      "Generated Image saved to /raid/home/ashhar21137/watermarking3/stable_signature/ss_paraphrase_0.15/540988/540988_gen_3.png\n",
      "Generated Image saved to /raid/home/ashhar21137/watermarking3/stable_signature/ss_paraphrase_0.15/540988/540988_gen_4.png\n",
      "\n",
      "Number of images generated :  5\n",
      "\n",
      "********** Watermark detection for generated images ***************\n",
      "caption : A bench dedicated to the memory of Lloyd 'n\" Milly.\n",
      "Watermark Presence Prob.: 0.5208333333333334\n",
      "caption : A bench is inscribed with the memory of a person.\n",
      "Watermark Presence Prob.: 0.5833333333333334\n",
      "caption : A wooden bench is dedicated to the memory of Lloyd 'n' Milly.\n",
      "Watermark Presence Prob.: 0.5625\n",
      "caption : This is a memorial bench with a can sitting on it.\n"
     ]
    },
    {
     "name": "stderr",
     "output_type": "stream",
     "text": [
      " 70%|███████   | 140/200 [05:02<02:06,  2.11s/it]"
     ]
    },
    {
     "name": "stdout",
     "output_type": "stream",
     "text": [
      "Watermark Presence Prob.: 0.5416666666666666\n",
      "caption : A memorial bench with a can of liquid sitting on top.\n",
      "Watermark Presence Prob.: 0.6041666666666666\n",
      "---------- Count = 141 : Visual Paraphrasing for the watermarked version of 301778-------------\n",
      "\n",
      "Image name :  Image_301778.jpg\n",
      "Image id : 301778\n"
     ]
    },
    {
     "data": {
      "application/vnd.jupyter.widget-view+json": {
       "model_id": "580e8e3441e947b887431ea498a64e36",
       "version_major": 2,
       "version_minor": 0
      },
      "text/plain": [
       "  0%|          | 0/5 [00:00<?, ?it/s]"
      ]
     },
     "metadata": {},
     "output_type": "display_data"
    },
    {
     "name": "stdout",
     "output_type": "stream",
     "text": [
      "Saving generated images at /raid/home/ashhar21137/watermarking3/stable_signature/ss_paraphrase_0.15/301778\n",
      "Generated Image saved to /raid/home/ashhar21137/watermarking3/stable_signature/ss_paraphrase_0.15/301778/301778_gen_0.png\n",
      "Generated Image saved to /raid/home/ashhar21137/watermarking3/stable_signature/ss_paraphrase_0.15/301778/301778_gen_1.png\n",
      "Generated Image saved to /raid/home/ashhar21137/watermarking3/stable_signature/ss_paraphrase_0.15/301778/301778_gen_2.png\n",
      "Generated Image saved to /raid/home/ashhar21137/watermarking3/stable_signature/ss_paraphrase_0.15/301778/301778_gen_3.png\n",
      "Generated Image saved to /raid/home/ashhar21137/watermarking3/stable_signature/ss_paraphrase_0.15/301778/301778_gen_4.png\n",
      "\n",
      "Number of images generated :  5\n",
      "\n",
      "********** Watermark detection for generated images ***************\n",
      "caption : Dirty bathroom floor with a toilet and a toilet brush next to it.\n",
      "Watermark Presence Prob.: 0.5625\n",
      "caption : A gas station toilet has not been cleaned in months\n"
     ]
    },
    {
     "name": "stderr",
     "output_type": "stream",
     "text": [
      " 70%|███████   | 141/200 [05:04<02:07,  2.16s/it]"
     ]
    },
    {
     "name": "stdout",
     "output_type": "stream",
     "text": [
      "Watermark Presence Prob.: 0.6041666666666666\n",
      "caption : A white toilet with black water around it.\n",
      "Watermark Presence Prob.: 0.5625\n",
      "caption : A toilet and a toilet cleaning brush on a dirty floor.\n",
      "Watermark Presence Prob.: 0.5833333333333334\n",
      "caption : A toilet that is in a dirty bathroom.\n",
      "Watermark Presence Prob.: 0.6041666666666666\n",
      "---------- Count = 142 : Visual Paraphrasing for the watermarked version of 388911-------------\n",
      "\n",
      "Image name :  Image_388911.jpg\n",
      "Image id : 388911\n"
     ]
    },
    {
     "data": {
      "application/vnd.jupyter.widget-view+json": {
       "model_id": "6dc8426efcf34740ac6713bd5b4fabe9",
       "version_major": 2,
       "version_minor": 0
      },
      "text/plain": [
       "  0%|          | 0/5 [00:00<?, ?it/s]"
      ]
     },
     "metadata": {},
     "output_type": "display_data"
    },
    {
     "name": "stdout",
     "output_type": "stream",
     "text": [
      "Saving generated images at /raid/home/ashhar21137/watermarking3/stable_signature/ss_paraphrase_0.15/388911\n",
      "Generated Image saved to /raid/home/ashhar21137/watermarking3/stable_signature/ss_paraphrase_0.15/388911/388911_gen_0.png\n",
      "Generated Image saved to /raid/home/ashhar21137/watermarking3/stable_signature/ss_paraphrase_0.15/388911/388911_gen_1.png\n",
      "Generated Image saved to /raid/home/ashhar21137/watermarking3/stable_signature/ss_paraphrase_0.15/388911/388911_gen_2.png\n",
      "Generated Image saved to /raid/home/ashhar21137/watermarking3/stable_signature/ss_paraphrase_0.15/388911/388911_gen_3.png\n",
      "Generated Image saved to /raid/home/ashhar21137/watermarking3/stable_signature/ss_paraphrase_0.15/388911/388911_gen_4.png\n",
      "\n",
      "Number of images generated :  5\n",
      "\n",
      "********** Watermark detection for generated images ***************\n",
      "caption : A room with a toilet and construction supplies.\n",
      "Watermark Presence Prob.: 0.6041666666666666\n",
      "caption : The toilet is being installed during the construction of a bathroom.\n",
      "Watermark Presence Prob.: 0.6041666666666666\n",
      "caption : A room with a toilet and a sink on the floor\n",
      "Watermark Presence Prob.: 0.6041666666666666\n",
      "caption : a bathroom with a toilet and square hole in the wall a d a pipe on the ground\n"
     ]
    },
    {
     "name": "stderr",
     "output_type": "stream",
     "text": [
      " 71%|███████   | 142/200 [05:06<02:08,  2.22s/it]"
     ]
    },
    {
     "name": "stdout",
     "output_type": "stream",
     "text": [
      "Watermark Presence Prob.: 0.6041666666666666\n",
      "caption : A bathroom with white toilet and sink installations.\n",
      "Watermark Presence Prob.: 0.6041666666666666\n",
      "---------- Count = 143 : Visual Paraphrasing for the watermarked version of 409382-------------\n",
      "\n",
      "Image name :  Image_409382.jpg\n",
      "Image id : 409382\n"
     ]
    },
    {
     "data": {
      "application/vnd.jupyter.widget-view+json": {
       "model_id": "7ad784eba0c246e7b4e2af65a563948f",
       "version_major": 2,
       "version_minor": 0
      },
      "text/plain": [
       "  0%|          | 0/5 [00:00<?, ?it/s]"
      ]
     },
     "metadata": {},
     "output_type": "display_data"
    },
    {
     "name": "stdout",
     "output_type": "stream",
     "text": [
      "Saving generated images at /raid/home/ashhar21137/watermarking3/stable_signature/ss_paraphrase_0.15/409382\n",
      "Generated Image saved to /raid/home/ashhar21137/watermarking3/stable_signature/ss_paraphrase_0.15/409382/409382_gen_0.png\n",
      "Generated Image saved to /raid/home/ashhar21137/watermarking3/stable_signature/ss_paraphrase_0.15/409382/409382_gen_1.png\n",
      "Generated Image saved to /raid/home/ashhar21137/watermarking3/stable_signature/ss_paraphrase_0.15/409382/409382_gen_2.png\n",
      "Generated Image saved to /raid/home/ashhar21137/watermarking3/stable_signature/ss_paraphrase_0.15/409382/409382_gen_3.png\n",
      "Generated Image saved to /raid/home/ashhar21137/watermarking3/stable_signature/ss_paraphrase_0.15/409382/409382_gen_4.png\n",
      "\n",
      "Number of images generated :  5\n",
      "\n",
      "********** Watermark detection for generated images ***************\n",
      "caption : People on a skateboard ramp with one doing a trick and one with skateboard on his head.\n",
      "Watermark Presence Prob.: 0.5833333333333334\n",
      "caption : two boys sitting down one has his skate board on his head\n",
      "Watermark Presence Prob.: 0.5833333333333334\n",
      "caption : A couple of young men sitting in a skate park.\n",
      "Watermark Presence Prob.: 0.625\n",
      "caption : Group of children entertaining. Selves in a skatepark\n",
      "Watermark Presence Prob.: 0.5208333333333334\n",
      "caption : A man performs skateboard tricks while two onlookers watch, one with a skateboard on his head\n"
     ]
    },
    {
     "name": "stderr",
     "output_type": "stream",
     "text": [
      " 72%|███████▏  | 143/200 [05:08<02:04,  2.19s/it]"
     ]
    },
    {
     "name": "stdout",
     "output_type": "stream",
     "text": [
      "Watermark Presence Prob.: 0.5833333333333334\n",
      "---------- Count = 144 : Visual Paraphrasing for the watermarked version of 292835-------------\n",
      "\n",
      "Image name :  Image_292835.jpg\n",
      "Image id : 292835\n"
     ]
    },
    {
     "data": {
      "application/vnd.jupyter.widget-view+json": {
       "model_id": "d5da343542c44c0eb6f38887e940a54f",
       "version_major": 2,
       "version_minor": 0
      },
      "text/plain": [
       "  0%|          | 0/5 [00:00<?, ?it/s]"
      ]
     },
     "metadata": {},
     "output_type": "display_data"
    },
    {
     "name": "stdout",
     "output_type": "stream",
     "text": [
      "Saving generated images at /raid/home/ashhar21137/watermarking3/stable_signature/ss_paraphrase_0.15/292835\n",
      "Generated Image saved to /raid/home/ashhar21137/watermarking3/stable_signature/ss_paraphrase_0.15/292835/292835_gen_0.png\n",
      "Generated Image saved to /raid/home/ashhar21137/watermarking3/stable_signature/ss_paraphrase_0.15/292835/292835_gen_1.png\n",
      "Generated Image saved to /raid/home/ashhar21137/watermarking3/stable_signature/ss_paraphrase_0.15/292835/292835_gen_2.png\n",
      "Generated Image saved to /raid/home/ashhar21137/watermarking3/stable_signature/ss_paraphrase_0.15/292835/292835_gen_3.png\n",
      "Generated Image saved to /raid/home/ashhar21137/watermarking3/stable_signature/ss_paraphrase_0.15/292835/292835_gen_4.png\n",
      "\n",
      "Number of images generated :  5\n",
      "\n",
      "********** Watermark detection for generated images ***************\n",
      "caption : A view of a very dirty bathroom that needs to be cleaned.\n",
      "Watermark Presence Prob.: 0.5\n",
      "caption : A bowl is on the floor in front of a broken toilet.\n",
      "Watermark Presence Prob.: 0.5416666666666666\n",
      "caption : A white toilet in a bathroom under a window.\n",
      "Watermark Presence Prob.: 0.5\n",
      "caption : a bathroom that has a toilet and some nasty stuff all over\n",
      "Watermark Presence Prob.: 0.5\n",
      "caption : A bowl sitting in a bathroom across from a toilet.\n"
     ]
    },
    {
     "name": "stderr",
     "output_type": "stream",
     "text": [
      " 72%|███████▏  | 144/200 [05:11<02:04,  2.22s/it]"
     ]
    },
    {
     "name": "stdout",
     "output_type": "stream",
     "text": [
      "Watermark Presence Prob.: 0.5833333333333334\n",
      "---------- Count = 145 : Visual Paraphrasing for the watermarked version of 311914-------------\n",
      "\n",
      "Image name :  Image_311914.jpg\n",
      "Image id : 311914\n"
     ]
    },
    {
     "data": {
      "application/vnd.jupyter.widget-view+json": {
       "model_id": "1230f6dd826b486eb98e30ed7630a1f5",
       "version_major": 2,
       "version_minor": 0
      },
      "text/plain": [
       "  0%|          | 0/5 [00:00<?, ?it/s]"
      ]
     },
     "metadata": {},
     "output_type": "display_data"
    },
    {
     "name": "stdout",
     "output_type": "stream",
     "text": [
      "Saving generated images at /raid/home/ashhar21137/watermarking3/stable_signature/ss_paraphrase_0.15/311914\n",
      "Generated Image saved to /raid/home/ashhar21137/watermarking3/stable_signature/ss_paraphrase_0.15/311914/311914_gen_0.png\n",
      "Generated Image saved to /raid/home/ashhar21137/watermarking3/stable_signature/ss_paraphrase_0.15/311914/311914_gen_1.png\n",
      "Generated Image saved to /raid/home/ashhar21137/watermarking3/stable_signature/ss_paraphrase_0.15/311914/311914_gen_2.png\n",
      "Generated Image saved to /raid/home/ashhar21137/watermarking3/stable_signature/ss_paraphrase_0.15/311914/311914_gen_3.png\n"
     ]
    },
    {
     "name": "stderr",
     "output_type": "stream",
     "text": [
      " 72%|███████▎  | 145/200 [05:13<01:57,  2.13s/it]"
     ]
    },
    {
     "name": "stdout",
     "output_type": "stream",
     "text": [
      "Generated Image saved to /raid/home/ashhar21137/watermarking3/stable_signature/ss_paraphrase_0.15/311914/311914_gen_4.png\n",
      "\n",
      "Number of images generated :  5\n",
      "\n",
      "********** Watermark detection for generated images ***************\n",
      "caption : A school bus parked with it's stop sign closed.\n",
      "Watermark Presence Prob.: 0.5833333333333334\n",
      "caption : A stop sign is on the side of a school bus. \n",
      "Watermark Presence Prob.: 0.5833333333333334\n",
      "caption : a bus sits stopped with a sign on the side of it \n",
      "Watermark Presence Prob.: 0.5625\n",
      "caption : Side of a school bus showing a stop sign.\n",
      "Watermark Presence Prob.: 0.5625\n",
      "caption : A view of a stop sign, on the side of a bus.\n",
      "Watermark Presence Prob.: 0.5833333333333334\n",
      "---------- Count = 146 : Visual Paraphrasing for the watermarked version of 492386-------------\n",
      "\n",
      "Image name :  Image_492386.jpg\n",
      "Image id : 492386\n"
     ]
    },
    {
     "data": {
      "application/vnd.jupyter.widget-view+json": {
       "model_id": "ad846b837f4c4d0886783dd0e53e1272",
       "version_major": 2,
       "version_minor": 0
      },
      "text/plain": [
       "  0%|          | 0/5 [00:00<?, ?it/s]"
      ]
     },
     "metadata": {},
     "output_type": "display_data"
    },
    {
     "name": "stdout",
     "output_type": "stream",
     "text": [
      "Saving generated images at /raid/home/ashhar21137/watermarking3/stable_signature/ss_paraphrase_0.15/492386\n",
      "Generated Image saved to /raid/home/ashhar21137/watermarking3/stable_signature/ss_paraphrase_0.15/492386/492386_gen_0.png\n",
      "Generated Image saved to /raid/home/ashhar21137/watermarking3/stable_signature/ss_paraphrase_0.15/492386/492386_gen_1.png\n",
      "Generated Image saved to /raid/home/ashhar21137/watermarking3/stable_signature/ss_paraphrase_0.15/492386/492386_gen_2.png\n",
      "Generated Image saved to /raid/home/ashhar21137/watermarking3/stable_signature/ss_paraphrase_0.15/492386/492386_gen_3.png\n",
      "Generated Image saved to /raid/home/ashhar21137/watermarking3/stable_signature/ss_paraphrase_0.15/492386/492386_gen_4.png\n",
      "\n",
      "Number of images generated :  5\n",
      "\n",
      "********** Watermark detection for generated images ***************\n",
      "caption : A red double decker bus driving down a street.\n",
      "Watermark Presence Prob.: 0.5833333333333334\n",
      "caption : A red double decker bus full of people\n",
      "Watermark Presence Prob.: 0.5833333333333334\n",
      "caption : Red double decker bus making its way down the road\n",
      "Watermark Presence Prob.: 0.5625\n",
      "caption : a double decker red bus going down the road\n"
     ]
    },
    {
     "name": "stderr",
     "output_type": "stream",
     "text": [
      " 73%|███████▎  | 146/200 [05:15<01:55,  2.14s/it]"
     ]
    },
    {
     "name": "stdout",
     "output_type": "stream",
     "text": [
      "Watermark Presence Prob.: 0.5\n",
      "caption : A double decker bus is running down a busy street.\n",
      "Watermark Presence Prob.: 0.5625\n",
      "---------- Count = 147 : Visual Paraphrasing for the watermarked version of 69675-------------\n",
      "\n",
      "Image name :  Image_69675.jpg\n",
      "Image id : 69675\n"
     ]
    },
    {
     "data": {
      "application/vnd.jupyter.widget-view+json": {
       "model_id": "4f4a0edc890d4572a77ed988e8ee85df",
       "version_major": 2,
       "version_minor": 0
      },
      "text/plain": [
       "  0%|          | 0/5 [00:00<?, ?it/s]"
      ]
     },
     "metadata": {},
     "output_type": "display_data"
    },
    {
     "name": "stdout",
     "output_type": "stream",
     "text": [
      "Saving generated images at /raid/home/ashhar21137/watermarking3/stable_signature/ss_paraphrase_0.15/69675\n",
      "Generated Image saved to /raid/home/ashhar21137/watermarking3/stable_signature/ss_paraphrase_0.15/69675/69675_gen_0.png\n",
      "Generated Image saved to /raid/home/ashhar21137/watermarking3/stable_signature/ss_paraphrase_0.15/69675/69675_gen_1.png\n",
      "Generated Image saved to /raid/home/ashhar21137/watermarking3/stable_signature/ss_paraphrase_0.15/69675/69675_gen_2.png\n",
      "Generated Image saved to /raid/home/ashhar21137/watermarking3/stable_signature/ss_paraphrase_0.15/69675/69675_gen_3.png\n",
      "Generated Image saved to /raid/home/ashhar21137/watermarking3/stable_signature/ss_paraphrase_0.15/69675/69675_gen_4.png\n",
      "\n",
      "Number of images generated :  5\n",
      "\n",
      "********** Watermark detection for generated images ***************\n",
      "caption : A child and woman are cooking in the kitchen.\n",
      "Watermark Presence Prob.: 0.5416666666666666\n",
      "caption : A woman glances at a young girl's cooking on the stovetop\n",
      "Watermark Presence Prob.: 0.5416666666666666\n",
      "caption : A young girl and a woman preparing food in a kitchen.\n",
      "Watermark Presence Prob.: 0.5833333333333334\n",
      "caption : a young person and an older person in a kitchen\n",
      "Watermark Presence Prob.: 0.5833333333333334\n",
      "caption : Two women cooking on stove in a kitchen together.\n"
     ]
    },
    {
     "name": "stderr",
     "output_type": "stream",
     "text": [
      " 74%|███████▎  | 147/200 [05:17<02:00,  2.27s/it]"
     ]
    },
    {
     "name": "stdout",
     "output_type": "stream",
     "text": [
      "Watermark Presence Prob.: 0.5625\n",
      "---------- Count = 148 : Visual Paraphrasing for the watermarked version of 189993-------------\n",
      "\n",
      "Image name :  Image_189993.jpg\n",
      "Image id : 189993\n"
     ]
    },
    {
     "data": {
      "application/vnd.jupyter.widget-view+json": {
       "model_id": "60cddef2528e4c3b8b2f51939b974432",
       "version_major": 2,
       "version_minor": 0
      },
      "text/plain": [
       "  0%|          | 0/5 [00:00<?, ?it/s]"
      ]
     },
     "metadata": {},
     "output_type": "display_data"
    },
    {
     "name": "stdout",
     "output_type": "stream",
     "text": [
      "Saving generated images at /raid/home/ashhar21137/watermarking3/stable_signature/ss_paraphrase_0.15/189993\n",
      "Generated Image saved to /raid/home/ashhar21137/watermarking3/stable_signature/ss_paraphrase_0.15/189993/189993_gen_0.png\n",
      "Generated Image saved to /raid/home/ashhar21137/watermarking3/stable_signature/ss_paraphrase_0.15/189993/189993_gen_1.png\n",
      "Generated Image saved to /raid/home/ashhar21137/watermarking3/stable_signature/ss_paraphrase_0.15/189993/189993_gen_2.png\n",
      "Generated Image saved to /raid/home/ashhar21137/watermarking3/stable_signature/ss_paraphrase_0.15/189993/189993_gen_3.png\n",
      "Generated Image saved to /raid/home/ashhar21137/watermarking3/stable_signature/ss_paraphrase_0.15/189993/189993_gen_4.png\n",
      "\n",
      "Number of images generated :  5\n",
      "\n",
      "********** Watermark detection for generated images ***************\n",
      "caption : A black bear on display in a library.\n",
      "Watermark Presence Prob.: 0.5\n",
      "caption : A mounted bear in a display case in a library.\n",
      "Watermark Presence Prob.: 0.5\n",
      "caption : A taxidermy bear on display in a library.\n",
      "Watermark Presence Prob.: 0.5\n",
      "caption : A view of a fake bear in a glass box.\n"
     ]
    },
    {
     "name": "stderr",
     "output_type": "stream",
     "text": [
      " 74%|███████▍  | 148/200 [05:20<01:56,  2.23s/it]"
     ]
    },
    {
     "name": "stdout",
     "output_type": "stream",
     "text": [
      "Watermark Presence Prob.: 0.4791666666666667\n",
      "caption : A stuffed bear is in a display case in a library. \n",
      "Watermark Presence Prob.: 0.5208333333333334\n",
      "---------- Count = 149 : Visual Paraphrasing for the watermarked version of 265709-------------\n",
      "\n",
      "Image name :  Image_265709.jpg\n",
      "Image id : 265709\n"
     ]
    },
    {
     "data": {
      "application/vnd.jupyter.widget-view+json": {
       "model_id": "bc968670ed544fbc94d82b97eda9351c",
       "version_major": 2,
       "version_minor": 0
      },
      "text/plain": [
       "  0%|          | 0/5 [00:00<?, ?it/s]"
      ]
     },
     "metadata": {},
     "output_type": "display_data"
    },
    {
     "name": "stdout",
     "output_type": "stream",
     "text": [
      "Saving generated images at /raid/home/ashhar21137/watermarking3/stable_signature/ss_paraphrase_0.15/265709\n",
      "Generated Image saved to /raid/home/ashhar21137/watermarking3/stable_signature/ss_paraphrase_0.15/265709/265709_gen_0.png\n",
      "Generated Image saved to /raid/home/ashhar21137/watermarking3/stable_signature/ss_paraphrase_0.15/265709/265709_gen_1.png\n",
      "Generated Image saved to /raid/home/ashhar21137/watermarking3/stable_signature/ss_paraphrase_0.15/265709/265709_gen_2.png\n",
      "Generated Image saved to /raid/home/ashhar21137/watermarking3/stable_signature/ss_paraphrase_0.15/265709/265709_gen_3.png\n",
      "Generated Image saved to /raid/home/ashhar21137/watermarking3/stable_signature/ss_paraphrase_0.15/265709/265709_gen_4.png\n",
      "\n",
      "Number of images generated :  5\n",
      "\n",
      "********** Watermark detection for generated images ***************\n",
      "caption : A man sitting on top of a green bench.\n",
      "Watermark Presence Prob.: 0.6041666666666666\n",
      "caption : A man sitting down in his chair outside.\n",
      "Watermark Presence Prob.: 0.625\n",
      "caption : A man in a coat with gloves is sitting on a bench on a cold day.\n"
     ]
    },
    {
     "name": "stderr",
     "output_type": "stream",
     "text": [
      " 74%|███████▍  | 149/200 [05:22<01:56,  2.29s/it]"
     ]
    },
    {
     "name": "stdout",
     "output_type": "stream",
     "text": [
      "Watermark Presence Prob.: 0.5833333333333334\n",
      "caption : a elderly man sitting on a bench  wearing sun shades\n",
      "Watermark Presence Prob.: 0.5833333333333334\n",
      "caption : A man in a jacket sits on a park bench\n",
      "Watermark Presence Prob.: 0.5416666666666666\n",
      "---------- Count = 150 : Visual Paraphrasing for the watermarked version of 269829-------------\n",
      "\n",
      "Image name :  Image_269829.jpg\n",
      "Image id : 269829\n"
     ]
    },
    {
     "data": {
      "application/vnd.jupyter.widget-view+json": {
       "model_id": "798a3459a9024377a9c77ab064505ad0",
       "version_major": 2,
       "version_minor": 0
      },
      "text/plain": [
       "  0%|          | 0/5 [00:00<?, ?it/s]"
      ]
     },
     "metadata": {},
     "output_type": "display_data"
    },
    {
     "name": "stdout",
     "output_type": "stream",
     "text": [
      "Saving generated images at /raid/home/ashhar21137/watermarking3/stable_signature/ss_paraphrase_0.15/269829\n",
      "Generated Image saved to /raid/home/ashhar21137/watermarking3/stable_signature/ss_paraphrase_0.15/269829/269829_gen_0.png\n",
      "Generated Image saved to /raid/home/ashhar21137/watermarking3/stable_signature/ss_paraphrase_0.15/269829/269829_gen_1.png\n",
      "Generated Image saved to /raid/home/ashhar21137/watermarking3/stable_signature/ss_paraphrase_0.15/269829/269829_gen_2.png\n",
      "Generated Image saved to /raid/home/ashhar21137/watermarking3/stable_signature/ss_paraphrase_0.15/269829/269829_gen_3.png\n",
      "Generated Image saved to /raid/home/ashhar21137/watermarking3/stable_signature/ss_paraphrase_0.15/269829/269829_gen_4.png\n",
      "\n",
      "Number of images generated :  5\n",
      "\n",
      "********** Watermark detection for generated images ***************\n",
      "caption : A row of bikers on road next to trees.\n",
      "Watermark Presence Prob.: 0.5416666666666666\n",
      "caption : Large group of motorcycles riding down the highway.\n",
      "Watermark Presence Prob.: 0.5208333333333334\n",
      "caption : A scene of motorcycle race going on the road.\n",
      "Watermark Presence Prob.: 0.5416666666666666\n",
      "caption : Many people on motor bikes going down a city road.\n",
      "Watermark Presence Prob.: 0.5\n",
      "caption : A group of motorcyclists are riding on the highway.\n"
     ]
    },
    {
     "name": "stderr",
     "output_type": "stream",
     "text": [
      " 75%|███████▌  | 150/200 [05:24<01:54,  2.29s/it]"
     ]
    },
    {
     "name": "stdout",
     "output_type": "stream",
     "text": [
      "Watermark Presence Prob.: 0.625\n",
      "---------- Count = 151 : Visual Paraphrasing for the watermarked version of 326511-------------\n",
      "\n",
      "Image name :  Image_326511.jpg\n",
      "Image id : 326511\n"
     ]
    },
    {
     "data": {
      "application/vnd.jupyter.widget-view+json": {
       "model_id": "fdd5d498ee8040aba205cd9d83e98e40",
       "version_major": 2,
       "version_minor": 0
      },
      "text/plain": [
       "  0%|          | 0/5 [00:00<?, ?it/s]"
      ]
     },
     "metadata": {},
     "output_type": "display_data"
    },
    {
     "name": "stdout",
     "output_type": "stream",
     "text": [
      "Saving generated images at /raid/home/ashhar21137/watermarking3/stable_signature/ss_paraphrase_0.15/326511\n",
      "Generated Image saved to /raid/home/ashhar21137/watermarking3/stable_signature/ss_paraphrase_0.15/326511/326511_gen_0.png\n",
      "Generated Image saved to /raid/home/ashhar21137/watermarking3/stable_signature/ss_paraphrase_0.15/326511/326511_gen_1.png\n",
      "Generated Image saved to /raid/home/ashhar21137/watermarking3/stable_signature/ss_paraphrase_0.15/326511/326511_gen_2.png\n",
      "Generated Image saved to /raid/home/ashhar21137/watermarking3/stable_signature/ss_paraphrase_0.15/326511/326511_gen_3.png\n",
      "Generated Image saved to /raid/home/ashhar21137/watermarking3/stable_signature/ss_paraphrase_0.15/326511/326511_gen_4.png\n",
      "\n",
      "Number of images generated :  5\n",
      "\n",
      "********** Watermark detection for generated images ***************\n",
      "caption : Two giraffes standing next to each other crossing necks and rubbing heads. \n",
      "Watermark Presence Prob.: 0.5\n",
      "caption : Two giraffes with their necks intertwined in a field. \n",
      "Watermark Presence Prob.: 0.4375\n",
      "caption : two giraffes that appear to have their necks wrapped around each other\n"
     ]
    },
    {
     "name": "stderr",
     "output_type": "stream",
     "text": [
      " 76%|███████▌  | 151/200 [05:26<01:50,  2.25s/it]"
     ]
    },
    {
     "name": "stdout",
     "output_type": "stream",
     "text": [
      "Watermark Presence Prob.: 0.5416666666666666\n",
      "caption : Two giraffes rubbing necks in a grassy area with a low stone wall.\n",
      "Watermark Presence Prob.: 0.5\n",
      "caption : Two giraffes standing next to one another and interlocking their necks.\n",
      "Watermark Presence Prob.: 0.5\n",
      "---------- Count = 152 : Visual Paraphrasing for the watermarked version of 353139-------------\n",
      "\n",
      "Image name :  Image_353139.jpg\n",
      "Image id : 353139\n"
     ]
    },
    {
     "data": {
      "application/vnd.jupyter.widget-view+json": {
       "model_id": "c36549ffa86145b7ad6c93f0c3d34634",
       "version_major": 2,
       "version_minor": 0
      },
      "text/plain": [
       "  0%|          | 0/5 [00:00<?, ?it/s]"
      ]
     },
     "metadata": {},
     "output_type": "display_data"
    },
    {
     "name": "stdout",
     "output_type": "stream",
     "text": [
      "Saving generated images at /raid/home/ashhar21137/watermarking3/stable_signature/ss_paraphrase_0.15/353139\n",
      "Generated Image saved to /raid/home/ashhar21137/watermarking3/stable_signature/ss_paraphrase_0.15/353139/353139_gen_0.png\n",
      "Generated Image saved to /raid/home/ashhar21137/watermarking3/stable_signature/ss_paraphrase_0.15/353139/353139_gen_1.png\n",
      "Generated Image saved to /raid/home/ashhar21137/watermarking3/stable_signature/ss_paraphrase_0.15/353139/353139_gen_2.png\n",
      "Generated Image saved to /raid/home/ashhar21137/watermarking3/stable_signature/ss_paraphrase_0.15/353139/353139_gen_3.png\n",
      "Generated Image saved to /raid/home/ashhar21137/watermarking3/stable_signature/ss_paraphrase_0.15/353139/353139_gen_4.png\n",
      "\n",
      "Number of images generated :  5\n",
      "\n",
      "********** Watermark detection for generated images ***************\n",
      "caption : A motorcycle in front of a closed freight door.\n"
     ]
    },
    {
     "name": "stderr",
     "output_type": "stream",
     "text": [
      " 76%|███████▌  | 152/200 [05:28<01:44,  2.17s/it]"
     ]
    },
    {
     "name": "stdout",
     "output_type": "stream",
     "text": [
      "Watermark Presence Prob.: 0.5416666666666666\n",
      "caption : A motorcycle is parked in front of a warehouse door.\n",
      "Watermark Presence Prob.: 0.5416666666666666\n",
      "caption : A motorcycle parked next to a closed garage \n",
      "Watermark Presence Prob.: 0.4791666666666667\n",
      "caption : A motorcycle is parked in front of a closed loading/unloading area\n",
      "Watermark Presence Prob.: 0.5833333333333334\n",
      "caption : A motorcycle parked in front of a closed garage door.\n",
      "Watermark Presence Prob.: 0.4166666666666667\n",
      "---------- Count = 153 : Visual Paraphrasing for the watermarked version of 309093-------------\n",
      "\n",
      "Image name :  Image_309093.jpg\n",
      "Image id : 309093\n"
     ]
    },
    {
     "data": {
      "application/vnd.jupyter.widget-view+json": {
       "model_id": "9c011ff38d0a448bac6dc6390e5458c0",
       "version_major": 2,
       "version_minor": 0
      },
      "text/plain": [
       "  0%|          | 0/5 [00:00<?, ?it/s]"
      ]
     },
     "metadata": {},
     "output_type": "display_data"
    },
    {
     "name": "stdout",
     "output_type": "stream",
     "text": [
      "Saving generated images at /raid/home/ashhar21137/watermarking3/stable_signature/ss_paraphrase_0.15/309093\n",
      "Generated Image saved to /raid/home/ashhar21137/watermarking3/stable_signature/ss_paraphrase_0.15/309093/309093_gen_0.png\n",
      "Generated Image saved to /raid/home/ashhar21137/watermarking3/stable_signature/ss_paraphrase_0.15/309093/309093_gen_1.png\n",
      "Generated Image saved to /raid/home/ashhar21137/watermarking3/stable_signature/ss_paraphrase_0.15/309093/309093_gen_2.png\n",
      "Generated Image saved to /raid/home/ashhar21137/watermarking3/stable_signature/ss_paraphrase_0.15/309093/309093_gen_3.png\n",
      "Generated Image saved to /raid/home/ashhar21137/watermarking3/stable_signature/ss_paraphrase_0.15/309093/309093_gen_4.png\n",
      "\n",
      "Number of images generated :  5\n",
      "\n",
      "********** Watermark detection for generated images ***************\n",
      "caption : A little girl is sitting on a bench kicking feet while holding her head.\n",
      "Watermark Presence Prob.: 0.4791666666666667\n",
      "caption : little girl sitting on a bench next to a couple\n",
      "\n",
      "Watermark Presence Prob.: 0.5625\n",
      "caption : A small girl seated on a wooden bench in front of a fence.\n"
     ]
    },
    {
     "name": "stderr",
     "output_type": "stream",
     "text": [
      " 76%|███████▋  | 153/200 [05:30<01:36,  2.06s/it]"
     ]
    },
    {
     "name": "stdout",
     "output_type": "stream",
     "text": [
      "Watermark Presence Prob.: 0.5208333333333334\n",
      "caption : The young girl is sitting on the park bench and covering her eyes.\n",
      "Watermark Presence Prob.: 0.5625\n",
      "caption : A young girl sitting on a public bench holding her hands to her eyes.\n",
      "Watermark Presence Prob.: 0.4791666666666667\n",
      "---------- Count = 154 : Visual Paraphrasing for the watermarked version of 277854-------------\n",
      "\n",
      "Image name :  Image_277854.jpg\n",
      "Image id : 277854\n"
     ]
    },
    {
     "data": {
      "application/vnd.jupyter.widget-view+json": {
       "model_id": "3d9acddf191d408690346c11a2387cfd",
       "version_major": 2,
       "version_minor": 0
      },
      "text/plain": [
       "  0%|          | 0/5 [00:00<?, ?it/s]"
      ]
     },
     "metadata": {},
     "output_type": "display_data"
    },
    {
     "name": "stdout",
     "output_type": "stream",
     "text": [
      "Saving generated images at /raid/home/ashhar21137/watermarking3/stable_signature/ss_paraphrase_0.15/277854\n",
      "Generated Image saved to /raid/home/ashhar21137/watermarking3/stable_signature/ss_paraphrase_0.15/277854/277854_gen_0.png\n",
      "Generated Image saved to /raid/home/ashhar21137/watermarking3/stable_signature/ss_paraphrase_0.15/277854/277854_gen_1.png\n",
      "Generated Image saved to /raid/home/ashhar21137/watermarking3/stable_signature/ss_paraphrase_0.15/277854/277854_gen_2.png\n",
      "Generated Image saved to /raid/home/ashhar21137/watermarking3/stable_signature/ss_paraphrase_0.15/277854/277854_gen_3.png\n",
      "Generated Image saved to /raid/home/ashhar21137/watermarking3/stable_signature/ss_paraphrase_0.15/277854/277854_gen_4.png\n",
      "\n",
      "Number of images generated :  5\n",
      "\n",
      "********** Watermark detection for generated images ***************\n",
      "caption : Black and white art print of mountain goats next to snow-capped mountain. \n",
      "Watermark Presence Prob.: 0.625\n",
      "caption : a black and white drawing of cattle grazing and a large mountain range\n"
     ]
    },
    {
     "name": "stderr",
     "output_type": "stream",
     "text": [
      " 77%|███████▋  | 154/200 [05:32<01:34,  2.05s/it]"
     ]
    },
    {
     "name": "stdout",
     "output_type": "stream",
     "text": [
      "Watermark Presence Prob.: 0.625\n",
      "caption : a black and white artist with animals walking near a mountain\n",
      "Watermark Presence Prob.: 0.6041666666666666\n",
      "caption : Altered black and white photograph of sheep on a mountain\n",
      "Watermark Presence Prob.: 0.5625\n",
      "caption : some mountain goats on the dark side of a mountain\n",
      "Watermark Presence Prob.: 0.6041666666666666\n",
      "---------- Count = 155 : Visual Paraphrasing for the watermarked version of 546451-------------\n",
      "\n",
      "Image name :  Image_546451.jpg\n",
      "Image id : 546451\n"
     ]
    },
    {
     "data": {
      "application/vnd.jupyter.widget-view+json": {
       "model_id": "81216c0da3204568a6dac76153e3b24b",
       "version_major": 2,
       "version_minor": 0
      },
      "text/plain": [
       "  0%|          | 0/5 [00:00<?, ?it/s]"
      ]
     },
     "metadata": {},
     "output_type": "display_data"
    },
    {
     "name": "stdout",
     "output_type": "stream",
     "text": [
      "Saving generated images at /raid/home/ashhar21137/watermarking3/stable_signature/ss_paraphrase_0.15/546451\n",
      "Generated Image saved to /raid/home/ashhar21137/watermarking3/stable_signature/ss_paraphrase_0.15/546451/546451_gen_0.png\n",
      "Generated Image saved to /raid/home/ashhar21137/watermarking3/stable_signature/ss_paraphrase_0.15/546451/546451_gen_1.png\n",
      "Generated Image saved to /raid/home/ashhar21137/watermarking3/stable_signature/ss_paraphrase_0.15/546451/546451_gen_2.png\n",
      "Generated Image saved to /raid/home/ashhar21137/watermarking3/stable_signature/ss_paraphrase_0.15/546451/546451_gen_3.png\n",
      "Generated Image saved to /raid/home/ashhar21137/watermarking3/stable_signature/ss_paraphrase_0.15/546451/546451_gen_4.png\n",
      "\n",
      "Number of images generated :  5\n",
      "\n",
      "********** Watermark detection for generated images ***************\n",
      "caption : A small restroom that is painted the color blue.\n",
      "Watermark Presence Prob.: 0.6041666666666666\n",
      "caption : The toilet bowl is next to two rolls of toilet paper mounted on a wall.\n",
      "Watermark Presence Prob.: 0.6041666666666666\n",
      "caption : A small bathroom is seen from above and at a slanted angle.\n",
      "Watermark Presence Prob.: 0.625\n",
      "caption : A toilet in a bathroom with its seat down.\n",
      "Watermark Presence Prob.: 0.6041666666666666\n",
      "caption : A toilet area painted in a light green color.\n"
     ]
    },
    {
     "name": "stderr",
     "output_type": "stream",
     "text": [
      " 78%|███████▊  | 155/200 [05:34<01:33,  2.08s/it]"
     ]
    },
    {
     "name": "stdout",
     "output_type": "stream",
     "text": [
      "Watermark Presence Prob.: 0.6041666666666666\n",
      "---------- Count = 156 : Visual Paraphrasing for the watermarked version of 344806-------------\n",
      "\n",
      "Image name :  Image_344806.jpg\n",
      "Image id : 344806\n"
     ]
    },
    {
     "data": {
      "application/vnd.jupyter.widget-view+json": {
       "model_id": "28b10e3db2654dae88d3d3fdf8137050",
       "version_major": 2,
       "version_minor": 0
      },
      "text/plain": [
       "  0%|          | 0/5 [00:00<?, ?it/s]"
      ]
     },
     "metadata": {},
     "output_type": "display_data"
    },
    {
     "name": "stdout",
     "output_type": "stream",
     "text": [
      "Saving generated images at /raid/home/ashhar21137/watermarking3/stable_signature/ss_paraphrase_0.15/344806\n",
      "Generated Image saved to /raid/home/ashhar21137/watermarking3/stable_signature/ss_paraphrase_0.15/344806/344806_gen_0.png\n",
      "Generated Image saved to /raid/home/ashhar21137/watermarking3/stable_signature/ss_paraphrase_0.15/344806/344806_gen_1.png\n",
      "Generated Image saved to /raid/home/ashhar21137/watermarking3/stable_signature/ss_paraphrase_0.15/344806/344806_gen_2.png\n",
      "Generated Image saved to /raid/home/ashhar21137/watermarking3/stable_signature/ss_paraphrase_0.15/344806/344806_gen_3.png\n",
      "Generated Image saved to /raid/home/ashhar21137/watermarking3/stable_signature/ss_paraphrase_0.15/344806/344806_gen_4.png\n",
      "\n",
      "Number of images generated :  5\n",
      "\n",
      "********** Watermark detection for generated images ***************\n",
      "caption : A man laying on his stomach with a towel on his head.\n",
      "Watermark Presence Prob.: 0.6041666666666666\n",
      "caption : someone that is laying face down on a bed\n",
      "Watermark Presence Prob.: 0.6041666666666666\n",
      "caption : A man on his stomach in a white bed.\n",
      "Watermark Presence Prob.: 0.6041666666666666\n",
      "caption : This is a photo of someones bare back.\n",
      "Watermark Presence Prob.: 0.6041666666666666\n",
      "caption : A man is lying face down on the bed\n"
     ]
    },
    {
     "name": "stderr",
     "output_type": "stream",
     "text": [
      " 78%|███████▊  | 156/200 [05:37<01:38,  2.23s/it]"
     ]
    },
    {
     "name": "stdout",
     "output_type": "stream",
     "text": [
      "Watermark Presence Prob.: 0.6041666666666666\n",
      "---------- Count = 157 : Visual Paraphrasing for the watermarked version of 413746-------------\n",
      "\n",
      "Image name :  Image_413746.jpg\n",
      "Image id : 413746\n"
     ]
    },
    {
     "data": {
      "application/vnd.jupyter.widget-view+json": {
       "model_id": "30d0ee1945134940990f714f9e20f01f",
       "version_major": 2,
       "version_minor": 0
      },
      "text/plain": [
       "  0%|          | 0/5 [00:00<?, ?it/s]"
      ]
     },
     "metadata": {},
     "output_type": "display_data"
    },
    {
     "name": "stdout",
     "output_type": "stream",
     "text": [
      "Saving generated images at /raid/home/ashhar21137/watermarking3/stable_signature/ss_paraphrase_0.15/413746\n",
      "Generated Image saved to /raid/home/ashhar21137/watermarking3/stable_signature/ss_paraphrase_0.15/413746/413746_gen_0.png\n",
      "Generated Image saved to /raid/home/ashhar21137/watermarking3/stable_signature/ss_paraphrase_0.15/413746/413746_gen_1.png\n",
      "Generated Image saved to /raid/home/ashhar21137/watermarking3/stable_signature/ss_paraphrase_0.15/413746/413746_gen_2.png\n",
      "Generated Image saved to /raid/home/ashhar21137/watermarking3/stable_signature/ss_paraphrase_0.15/413746/413746_gen_3.png\n",
      "Generated Image saved to /raid/home/ashhar21137/watermarking3/stable_signature/ss_paraphrase_0.15/413746/413746_gen_4.png\n",
      "\n",
      "Number of images generated :  5\n",
      "\n",
      "********** Watermark detection for generated images ***************\n",
      "caption : Man wearing helmet and backpack rides a motorcycle.\n",
      "Watermark Presence Prob.: 0.5416666666666666\n",
      "caption : A motorcyclist with a backpack drives at high speeds.\n",
      "Watermark Presence Prob.: 0.4583333333333333\n",
      "caption : A person rides a motorcycle down a road.\n",
      "Watermark Presence Prob.: 0.5\n",
      "caption : A person on a motorcycle speeds down a street.\n"
     ]
    },
    {
     "name": "stderr",
     "output_type": "stream",
     "text": [
      " 78%|███████▊  | 157/200 [05:40<01:41,  2.36s/it]"
     ]
    },
    {
     "name": "stdout",
     "output_type": "stream",
     "text": [
      "Watermark Presence Prob.: 0.5208333333333334\n",
      "caption : A cyclist riding on a sports motorcycle on the road.\n",
      "Watermark Presence Prob.: 0.5\n",
      "---------- Count = 158 : Visual Paraphrasing for the watermarked version of 279108-------------\n",
      "\n",
      "Image name :  Image_279108.jpg\n",
      "Image id : 279108\n"
     ]
    },
    {
     "data": {
      "application/vnd.jupyter.widget-view+json": {
       "model_id": "62f1344b0a39464e8aafef3dde15bd48",
       "version_major": 2,
       "version_minor": 0
      },
      "text/plain": [
       "  0%|          | 0/5 [00:00<?, ?it/s]"
      ]
     },
     "metadata": {},
     "output_type": "display_data"
    },
    {
     "name": "stdout",
     "output_type": "stream",
     "text": [
      "Saving generated images at /raid/home/ashhar21137/watermarking3/stable_signature/ss_paraphrase_0.15/279108\n",
      "Generated Image saved to /raid/home/ashhar21137/watermarking3/stable_signature/ss_paraphrase_0.15/279108/279108_gen_0.png\n",
      "Generated Image saved to /raid/home/ashhar21137/watermarking3/stable_signature/ss_paraphrase_0.15/279108/279108_gen_1.png\n",
      "Generated Image saved to /raid/home/ashhar21137/watermarking3/stable_signature/ss_paraphrase_0.15/279108/279108_gen_2.png\n",
      "Generated Image saved to /raid/home/ashhar21137/watermarking3/stable_signature/ss_paraphrase_0.15/279108/279108_gen_3.png\n",
      "Generated Image saved to /raid/home/ashhar21137/watermarking3/stable_signature/ss_paraphrase_0.15/279108/279108_gen_4.png\n",
      "\n",
      "Number of images generated :  5\n",
      "\n",
      "********** Watermark detection for generated images ***************\n",
      "caption : A woman feeding a man food from a spoon.\n",
      "Watermark Presence Prob.: 0.5208333333333334\n",
      "caption : A woman offering a man a taste of something in front of other people.\n"
     ]
    },
    {
     "name": "stderr",
     "output_type": "stream",
     "text": [
      " 79%|███████▉  | 158/200 [05:42<01:34,  2.24s/it]"
     ]
    },
    {
     "name": "stdout",
     "output_type": "stream",
     "text": [
      "Watermark Presence Prob.: 0.5208333333333334\n",
      "caption : A woman feeds a man a bite of food.\n",
      "Watermark Presence Prob.: 0.5416666666666666\n",
      "caption : a woman is feeding something to a man\n",
      "Watermark Presence Prob.: 0.5208333333333334\n",
      "caption : A woman spoon feeding an old man \n",
      "Watermark Presence Prob.: 0.5625\n",
      "---------- Count = 159 : Visual Paraphrasing for the watermarked version of 576801-------------\n",
      "\n",
      "Image name :  Image_576801.jpg\n",
      "Image id : 576801\n"
     ]
    },
    {
     "data": {
      "application/vnd.jupyter.widget-view+json": {
       "model_id": "d813413a86b94ae49712933f7d63846a",
       "version_major": 2,
       "version_minor": 0
      },
      "text/plain": [
       "  0%|          | 0/5 [00:00<?, ?it/s]"
      ]
     },
     "metadata": {},
     "output_type": "display_data"
    },
    {
     "name": "stdout",
     "output_type": "stream",
     "text": [
      "Saving generated images at /raid/home/ashhar21137/watermarking3/stable_signature/ss_paraphrase_0.15/576801\n",
      "Generated Image saved to /raid/home/ashhar21137/watermarking3/stable_signature/ss_paraphrase_0.15/576801/576801_gen_0.png\n",
      "Generated Image saved to /raid/home/ashhar21137/watermarking3/stable_signature/ss_paraphrase_0.15/576801/576801_gen_1.png\n",
      "Generated Image saved to /raid/home/ashhar21137/watermarking3/stable_signature/ss_paraphrase_0.15/576801/576801_gen_2.png\n",
      "Generated Image saved to /raid/home/ashhar21137/watermarking3/stable_signature/ss_paraphrase_0.15/576801/576801_gen_3.png\n",
      "Generated Image saved to /raid/home/ashhar21137/watermarking3/stable_signature/ss_paraphrase_0.15/576801/576801_gen_4.png\n",
      "\n",
      "Number of images generated :  5\n",
      "\n",
      "********** Watermark detection for generated images ***************\n",
      "caption : A giraffe standing on top of a field under a blue sky.\n"
     ]
    },
    {
     "name": "stderr",
     "output_type": "stream",
     "text": [
      " 80%|███████▉  | 159/200 [05:44<01:30,  2.20s/it]"
     ]
    },
    {
     "name": "stdout",
     "output_type": "stream",
     "text": [
      "Watermark Presence Prob.: 0.5625\n",
      "caption : A giraffe bending over to feed from the grass.\n",
      "Watermark Presence Prob.: 0.5625\n",
      "caption : A giraffe bending its neck in a grassy area. \n",
      "Watermark Presence Prob.: 0.5833333333333334\n",
      "caption : A giraffe struggling to eat low grass. \n",
      "Watermark Presence Prob.: 0.625\n",
      "caption : A giraffe standing in a field, eating grass.\n",
      "Watermark Presence Prob.: 0.5625\n",
      "---------- Count = 160 : Visual Paraphrasing for the watermarked version of 246446-------------\n",
      "\n",
      "Image name :  Image_246446.jpg\n",
      "Image id : 246446\n"
     ]
    },
    {
     "data": {
      "application/vnd.jupyter.widget-view+json": {
       "model_id": "d1cd4d2f69a54536ae09f67ef9f91896",
       "version_major": 2,
       "version_minor": 0
      },
      "text/plain": [
       "  0%|          | 0/5 [00:00<?, ?it/s]"
      ]
     },
     "metadata": {},
     "output_type": "display_data"
    },
    {
     "name": "stdout",
     "output_type": "stream",
     "text": [
      "Saving generated images at /raid/home/ashhar21137/watermarking3/stable_signature/ss_paraphrase_0.15/246446\n",
      "Generated Image saved to /raid/home/ashhar21137/watermarking3/stable_signature/ss_paraphrase_0.15/246446/246446_gen_0.png\n",
      "Generated Image saved to /raid/home/ashhar21137/watermarking3/stable_signature/ss_paraphrase_0.15/246446/246446_gen_1.png\n",
      "Generated Image saved to /raid/home/ashhar21137/watermarking3/stable_signature/ss_paraphrase_0.15/246446/246446_gen_2.png\n",
      "Generated Image saved to /raid/home/ashhar21137/watermarking3/stable_signature/ss_paraphrase_0.15/246446/246446_gen_3.png\n",
      "Generated Image saved to /raid/home/ashhar21137/watermarking3/stable_signature/ss_paraphrase_0.15/246446/246446_gen_4.png\n",
      "\n",
      "Number of images generated :  5\n",
      "\n",
      "********** Watermark detection for generated images ***************\n",
      "caption : A red double decker bus with an open air top.\n",
      "Watermark Presence Prob.: 0.4166666666666667\n",
      "caption : A red and brown double decker bus driving down a street.\n",
      "Watermark Presence Prob.: 0.3958333333333333\n",
      "caption : A double decker bus drives down city street.\n",
      "Watermark Presence Prob.: 0.5625\n",
      "caption : Edinburg vintage bus on a street in Scotland.\n"
     ]
    },
    {
     "name": "stderr",
     "output_type": "stream",
     "text": [
      " 80%|████████  | 160/200 [05:46<01:23,  2.08s/it]"
     ]
    },
    {
     "name": "stdout",
     "output_type": "stream",
     "text": [
      "Watermark Presence Prob.: 0.4583333333333333\n",
      "caption : A red double-decker bus with a open top level.\n",
      "Watermark Presence Prob.: 0.3958333333333333\n",
      "---------- Count = 161 : Visual Paraphrasing for the watermarked version of 520950-------------\n",
      "\n",
      "Image name :  Image_520950.jpg\n",
      "Image id : 520950\n"
     ]
    },
    {
     "data": {
      "application/vnd.jupyter.widget-view+json": {
       "model_id": "0618ed33b63c4b3fa36f79751a3d1ce8",
       "version_major": 2,
       "version_minor": 0
      },
      "text/plain": [
       "  0%|          | 0/5 [00:00<?, ?it/s]"
      ]
     },
     "metadata": {},
     "output_type": "display_data"
    },
    {
     "name": "stdout",
     "output_type": "stream",
     "text": [
      "Saving generated images at /raid/home/ashhar21137/watermarking3/stable_signature/ss_paraphrase_0.15/520950\n",
      "Generated Image saved to /raid/home/ashhar21137/watermarking3/stable_signature/ss_paraphrase_0.15/520950/520950_gen_0.png\n",
      "Generated Image saved to /raid/home/ashhar21137/watermarking3/stable_signature/ss_paraphrase_0.15/520950/520950_gen_1.png\n",
      "Generated Image saved to /raid/home/ashhar21137/watermarking3/stable_signature/ss_paraphrase_0.15/520950/520950_gen_2.png\n",
      "Generated Image saved to /raid/home/ashhar21137/watermarking3/stable_signature/ss_paraphrase_0.15/520950/520950_gen_3.png\n",
      "Generated Image saved to /raid/home/ashhar21137/watermarking3/stable_signature/ss_paraphrase_0.15/520950/520950_gen_4.png\n",
      "\n",
      "Number of images generated :  5\n",
      "\n",
      "********** Watermark detection for generated images ***************\n",
      "caption : the kitchen is full of spices on the rack\n",
      "Watermark Presence Prob.: 0.5208333333333334\n",
      "caption : A kitchen with counter, oven and other accessories.\n",
      "Watermark Presence Prob.: 0.5416666666666666\n",
      "caption : A small kitchen that utilizes all of its space. \n"
     ]
    },
    {
     "name": "stderr",
     "output_type": "stream",
     "text": [
      " 80%|████████  | 161/200 [05:48<01:22,  2.13s/it]"
     ]
    },
    {
     "name": "stdout",
     "output_type": "stream",
     "text": [
      "Watermark Presence Prob.: 0.625\n",
      "caption : This small kitchen has pots, pans and spices on display\n",
      "Watermark Presence Prob.: 0.6041666666666666\n",
      "caption : A VERY SMALL KITCHEN WITH A STOVE AND A SHELF OF POTS \n",
      "Watermark Presence Prob.: 0.5208333333333334\n",
      "---------- Count = 162 : Visual Paraphrasing for the watermarked version of 155845-------------\n",
      "\n",
      "Image name :  Image_155845.jpg\n",
      "Image id : 155845\n"
     ]
    },
    {
     "data": {
      "application/vnd.jupyter.widget-view+json": {
       "model_id": "05e260cf42c24db6bc878b591437b50d",
       "version_major": 2,
       "version_minor": 0
      },
      "text/plain": [
       "  0%|          | 0/5 [00:00<?, ?it/s]"
      ]
     },
     "metadata": {},
     "output_type": "display_data"
    },
    {
     "name": "stdout",
     "output_type": "stream",
     "text": [
      "Saving generated images at /raid/home/ashhar21137/watermarking3/stable_signature/ss_paraphrase_0.15/155845\n",
      "Generated Image saved to /raid/home/ashhar21137/watermarking3/stable_signature/ss_paraphrase_0.15/155845/155845_gen_0.png\n",
      "Generated Image saved to /raid/home/ashhar21137/watermarking3/stable_signature/ss_paraphrase_0.15/155845/155845_gen_1.png\n",
      "Generated Image saved to /raid/home/ashhar21137/watermarking3/stable_signature/ss_paraphrase_0.15/155845/155845_gen_2.png\n",
      "Generated Image saved to /raid/home/ashhar21137/watermarking3/stable_signature/ss_paraphrase_0.15/155845/155845_gen_3.png\n",
      "Generated Image saved to /raid/home/ashhar21137/watermarking3/stable_signature/ss_paraphrase_0.15/155845/155845_gen_4.png\n",
      "\n",
      "Number of images generated :  5\n",
      "\n",
      "********** Watermark detection for generated images ***************\n",
      "caption : a street sign on a dirt road with a sky background\n",
      "Watermark Presence Prob.: 0.5625\n",
      "caption : A truck is driving on the sand of a beach.\n"
     ]
    },
    {
     "name": "stderr",
     "output_type": "stream",
     "text": [
      " 81%|████████  | 162/200 [05:50<01:24,  2.22s/it]"
     ]
    },
    {
     "name": "stdout",
     "output_type": "stream",
     "text": [
      "Watermark Presence Prob.: 0.5625\n",
      "caption : A truck driving down a beach with a sign in the foreground. \n",
      "Watermark Presence Prob.: 0.6666666666666666\n",
      "caption : Vehicle driving in large open space near signage on cloudy day.\n",
      "Watermark Presence Prob.: 0.5625\n",
      "caption : A large desolate are with a street sign and a truck on top if it.\n",
      "Watermark Presence Prob.: 0.625\n",
      "---------- Count = 163 : Visual Paraphrasing for the watermarked version of 448698-------------\n",
      "\n",
      "Image name :  Image_448698.jpg\n",
      "Image id : 448698\n"
     ]
    },
    {
     "data": {
      "application/vnd.jupyter.widget-view+json": {
       "model_id": "b287dfdaa4e642be808c8dae87c9fdd3",
       "version_major": 2,
       "version_minor": 0
      },
      "text/plain": [
       "  0%|          | 0/5 [00:00<?, ?it/s]"
      ]
     },
     "metadata": {},
     "output_type": "display_data"
    },
    {
     "name": "stdout",
     "output_type": "stream",
     "text": [
      "Saving generated images at /raid/home/ashhar21137/watermarking3/stable_signature/ss_paraphrase_0.15/448698\n",
      "Generated Image saved to /raid/home/ashhar21137/watermarking3/stable_signature/ss_paraphrase_0.15/448698/448698_gen_0.png\n",
      "Generated Image saved to /raid/home/ashhar21137/watermarking3/stable_signature/ss_paraphrase_0.15/448698/448698_gen_1.png\n",
      "Generated Image saved to /raid/home/ashhar21137/watermarking3/stable_signature/ss_paraphrase_0.15/448698/448698_gen_2.png\n",
      "Generated Image saved to /raid/home/ashhar21137/watermarking3/stable_signature/ss_paraphrase_0.15/448698/448698_gen_3.png\n",
      "Generated Image saved to /raid/home/ashhar21137/watermarking3/stable_signature/ss_paraphrase_0.15/448698/448698_gen_4.png\n",
      "\n",
      "Number of images generated :  5\n",
      "\n",
      "********** Watermark detection for generated images ***************\n",
      "caption : There are few airplanes parked on the field.  \n"
     ]
    },
    {
     "name": "stderr",
     "output_type": "stream",
     "text": [
      " 82%|████████▏ | 163/200 [05:52<01:18,  2.11s/it]"
     ]
    },
    {
     "name": "stdout",
     "output_type": "stream",
     "text": [
      "Watermark Presence Prob.: 0.5833333333333334\n",
      "caption : An airplane sitting on a green lawn next to a small airport.\n",
      "Watermark Presence Prob.: 0.5416666666666666\n",
      "caption : An airplane sitting in a field near some other small buildings\n",
      "Watermark Presence Prob.: 0.5833333333333334\n",
      "caption : a small plane parked in a green grass field\n",
      "Watermark Presence Prob.: 0.5625\n",
      "caption : A small airplane sits idle on green grass.\n",
      "Watermark Presence Prob.: 0.5208333333333334\n",
      "---------- Count = 164 : Visual Paraphrasing for the watermarked version of 2024-------------\n",
      "\n",
      "Image name :  Image_2024.jpg\n",
      "Image id : 2024\n"
     ]
    },
    {
     "data": {
      "application/vnd.jupyter.widget-view+json": {
       "model_id": "63b3e86870c54b9aa206c18a2fa6d5c1",
       "version_major": 2,
       "version_minor": 0
      },
      "text/plain": [
       "  0%|          | 0/5 [00:00<?, ?it/s]"
      ]
     },
     "metadata": {},
     "output_type": "display_data"
    },
    {
     "name": "stdout",
     "output_type": "stream",
     "text": [
      "Saving generated images at /raid/home/ashhar21137/watermarking3/stable_signature/ss_paraphrase_0.15/2024\n",
      "Generated Image saved to /raid/home/ashhar21137/watermarking3/stable_signature/ss_paraphrase_0.15/2024/2024_gen_0.png\n",
      "Generated Image saved to /raid/home/ashhar21137/watermarking3/stable_signature/ss_paraphrase_0.15/2024/2024_gen_1.png\n",
      "Generated Image saved to /raid/home/ashhar21137/watermarking3/stable_signature/ss_paraphrase_0.15/2024/2024_gen_2.png\n",
      "Generated Image saved to /raid/home/ashhar21137/watermarking3/stable_signature/ss_paraphrase_0.15/2024/2024_gen_3.png\n",
      "Generated Image saved to /raid/home/ashhar21137/watermarking3/stable_signature/ss_paraphrase_0.15/2024/2024_gen_4.png\n",
      "\n",
      "Number of images generated :  5\n",
      "\n",
      "********** Watermark detection for generated images ***************\n",
      "caption : A bathroom looks new with nothing in it.\n",
      "Watermark Presence Prob.: 0.6041666666666666\n",
      "caption : A mirror in the bathroom displays toilet paper and another mirror.\n",
      "Watermark Presence Prob.: 0.625\n",
      "caption : A bathroom sink beneath a very large mirror reflecting a roll of toilet paper.\n",
      "Watermark Presence Prob.: 0.625\n",
      "caption : This is a bathroom with a sink and a mirror.\n"
     ]
    },
    {
     "name": "stderr",
     "output_type": "stream",
     "text": [
      " 82%|████████▏ | 164/200 [05:54<01:15,  2.10s/it]"
     ]
    },
    {
     "name": "stdout",
     "output_type": "stream",
     "text": [
      "Watermark Presence Prob.: 0.5833333333333334\n",
      "caption : A bathroom sink with a large mirror over it. \n",
      "Watermark Presence Prob.: 0.6041666666666666\n",
      "---------- Count = 165 : Visual Paraphrasing for the watermarked version of 357684-------------\n",
      "\n",
      "Image name :  Image_357684.jpg\n",
      "Image id : 357684\n"
     ]
    },
    {
     "data": {
      "application/vnd.jupyter.widget-view+json": {
       "model_id": "58b2b6a5123b424bbc205212eb2a7f8c",
       "version_major": 2,
       "version_minor": 0
      },
      "text/plain": [
       "  0%|          | 0/5 [00:00<?, ?it/s]"
      ]
     },
     "metadata": {},
     "output_type": "display_data"
    },
    {
     "name": "stdout",
     "output_type": "stream",
     "text": [
      "Saving generated images at /raid/home/ashhar21137/watermarking3/stable_signature/ss_paraphrase_0.15/357684\n",
      "Generated Image saved to /raid/home/ashhar21137/watermarking3/stable_signature/ss_paraphrase_0.15/357684/357684_gen_0.png\n",
      "Generated Image saved to /raid/home/ashhar21137/watermarking3/stable_signature/ss_paraphrase_0.15/357684/357684_gen_1.png\n",
      "Generated Image saved to /raid/home/ashhar21137/watermarking3/stable_signature/ss_paraphrase_0.15/357684/357684_gen_2.png\n",
      "Generated Image saved to /raid/home/ashhar21137/watermarking3/stable_signature/ss_paraphrase_0.15/357684/357684_gen_3.png\n",
      "Generated Image saved to /raid/home/ashhar21137/watermarking3/stable_signature/ss_paraphrase_0.15/357684/357684_gen_4.png\n",
      "\n",
      "Number of images generated :  5\n",
      "\n",
      "********** Watermark detection for generated images ***************\n",
      "caption : Several groups of people are standing outside of a building.\n"
     ]
    },
    {
     "name": "stderr",
     "output_type": "stream",
     "text": [
      " 82%|████████▎ | 165/200 [05:56<01:15,  2.15s/it]"
     ]
    },
    {
     "name": "stdout",
     "output_type": "stream",
     "text": [
      "Watermark Presence Prob.: 0.4166666666666667\n",
      "caption : A view of a clock tower with people around it.\n",
      "Watermark Presence Prob.: 0.4375\n",
      "caption : A small clock tower in a town plaza.\n",
      "Watermark Presence Prob.: 0.4375\n",
      "caption : there are many people that are gathered in this square\n",
      "Watermark Presence Prob.: 0.4375\n",
      "caption : Many people are strolling through the open plaza. \n",
      "Watermark Presence Prob.: 0.4791666666666667\n",
      "---------- Count = 166 : Visual Paraphrasing for the watermarked version of 101418-------------\n",
      "\n",
      "Image name :  Image_101418.jpg\n",
      "Image id : 101418\n"
     ]
    },
    {
     "data": {
      "application/vnd.jupyter.widget-view+json": {
       "model_id": "b41281894ce049c1aa6a29ee188d9a70",
       "version_major": 2,
       "version_minor": 0
      },
      "text/plain": [
       "  0%|          | 0/5 [00:00<?, ?it/s]"
      ]
     },
     "metadata": {},
     "output_type": "display_data"
    },
    {
     "name": "stdout",
     "output_type": "stream",
     "text": [
      "Saving generated images at /raid/home/ashhar21137/watermarking3/stable_signature/ss_paraphrase_0.15/101418\n",
      "Generated Image saved to /raid/home/ashhar21137/watermarking3/stable_signature/ss_paraphrase_0.15/101418/101418_gen_0.png\n",
      "Generated Image saved to /raid/home/ashhar21137/watermarking3/stable_signature/ss_paraphrase_0.15/101418/101418_gen_1.png\n",
      "Generated Image saved to /raid/home/ashhar21137/watermarking3/stable_signature/ss_paraphrase_0.15/101418/101418_gen_2.png\n",
      "Generated Image saved to /raid/home/ashhar21137/watermarking3/stable_signature/ss_paraphrase_0.15/101418/101418_gen_3.png\n",
      "Generated Image saved to /raid/home/ashhar21137/watermarking3/stable_signature/ss_paraphrase_0.15/101418/101418_gen_4.png\n",
      "\n",
      "Number of images generated :  5\n",
      "\n",
      "********** Watermark detection for generated images ***************\n",
      "caption : A giraffe is peeking its head out over the bushes.\n",
      "Watermark Presence Prob.: 0.5208333333333334\n",
      "caption : a giraffe near many trees and bushes \n",
      "Watermark Presence Prob.: 0.5\n",
      "caption : The giraffe's head and neck is visible above the bushes. \n"
     ]
    },
    {
     "name": "stderr",
     "output_type": "stream",
     "text": [
      " 83%|████████▎ | 166/200 [05:58<01:11,  2.10s/it]"
     ]
    },
    {
     "name": "stdout",
     "output_type": "stream",
     "text": [
      "Watermark Presence Prob.: 0.5208333333333334\n",
      "caption : The single giraffe is standing in the tall bushes.\n",
      "Watermark Presence Prob.: 0.5416666666666666\n",
      "caption : A tall giraffe standing in the middle of a forest.\n",
      "Watermark Presence Prob.: 0.5208333333333334\n",
      "---------- Count = 167 : Visual Paraphrasing for the watermarked version of 219025-------------\n",
      "\n",
      "Image name :  Image_219025.jpg\n",
      "Image id : 219025\n"
     ]
    },
    {
     "data": {
      "application/vnd.jupyter.widget-view+json": {
       "model_id": "11d107b0668f42c8b3e5cbf77cb08ca4",
       "version_major": 2,
       "version_minor": 0
      },
      "text/plain": [
       "  0%|          | 0/5 [00:00<?, ?it/s]"
      ]
     },
     "metadata": {},
     "output_type": "display_data"
    },
    {
     "name": "stdout",
     "output_type": "stream",
     "text": [
      "Saving generated images at /raid/home/ashhar21137/watermarking3/stable_signature/ss_paraphrase_0.15/219025\n",
      "Generated Image saved to /raid/home/ashhar21137/watermarking3/stable_signature/ss_paraphrase_0.15/219025/219025_gen_0.png\n",
      "Generated Image saved to /raid/home/ashhar21137/watermarking3/stable_signature/ss_paraphrase_0.15/219025/219025_gen_1.png\n",
      "Generated Image saved to /raid/home/ashhar21137/watermarking3/stable_signature/ss_paraphrase_0.15/219025/219025_gen_2.png\n",
      "Generated Image saved to /raid/home/ashhar21137/watermarking3/stable_signature/ss_paraphrase_0.15/219025/219025_gen_3.png\n",
      "Generated Image saved to /raid/home/ashhar21137/watermarking3/stable_signature/ss_paraphrase_0.15/219025/219025_gen_4.png\n",
      "\n",
      "Number of images generated :  5\n",
      "\n",
      "********** Watermark detection for generated images ***************\n",
      "caption : A group of passengers standing next to a parked bus.\n",
      "Watermark Presence Prob.: 0.4791666666666667\n",
      "caption : People are standing outside of a bus in a parking lot.\n",
      "Watermark Presence Prob.: 0.4791666666666667\n",
      "caption : Several people congregating outside of two tourist buses.\n",
      "Watermark Presence Prob.: 0.4583333333333333\n",
      "caption : A group of people are standing in front of two tour buses.\n",
      "Watermark Presence Prob.: 0.5\n",
      "caption : PEOPLE ARE STANDING IN FRONT OF A BUS \n"
     ]
    },
    {
     "name": "stderr",
     "output_type": "stream",
     "text": [
      " 84%|████████▎ | 167/200 [06:01<01:12,  2.19s/it]"
     ]
    },
    {
     "name": "stdout",
     "output_type": "stream",
     "text": [
      "Watermark Presence Prob.: 0.5833333333333334\n",
      "---------- Count = 168 : Visual Paraphrasing for the watermarked version of 547471-------------\n",
      "\n",
      "Image name :  Image_547471.jpg\n",
      "Image id : 547471\n"
     ]
    },
    {
     "data": {
      "application/vnd.jupyter.widget-view+json": {
       "model_id": "80227a0a44424ead971c79ef4074a8e6",
       "version_major": 2,
       "version_minor": 0
      },
      "text/plain": [
       "  0%|          | 0/5 [00:00<?, ?it/s]"
      ]
     },
     "metadata": {},
     "output_type": "display_data"
    },
    {
     "name": "stdout",
     "output_type": "stream",
     "text": [
      "Saving generated images at /raid/home/ashhar21137/watermarking3/stable_signature/ss_paraphrase_0.15/547471\n",
      "Generated Image saved to /raid/home/ashhar21137/watermarking3/stable_signature/ss_paraphrase_0.15/547471/547471_gen_0.png\n",
      "Generated Image saved to /raid/home/ashhar21137/watermarking3/stable_signature/ss_paraphrase_0.15/547471/547471_gen_1.png\n",
      "Generated Image saved to /raid/home/ashhar21137/watermarking3/stable_signature/ss_paraphrase_0.15/547471/547471_gen_2.png\n",
      "Generated Image saved to /raid/home/ashhar21137/watermarking3/stable_signature/ss_paraphrase_0.15/547471/547471_gen_3.png\n",
      "Generated Image saved to /raid/home/ashhar21137/watermarking3/stable_signature/ss_paraphrase_0.15/547471/547471_gen_4.png\n",
      "\n",
      "Number of images generated :  5\n",
      "\n",
      "********** Watermark detection for generated images ***************\n",
      "caption : A black and white image of a man in a suit wearing glasses walking through a door.\n",
      "Watermark Presence Prob.: 0.5208333333333334\n",
      "caption : A nicely dressed man in a door way.\n",
      "Watermark Presence Prob.: 0.4791666666666667\n",
      "caption : A man in glasses walks through an open door. \n",
      "Watermark Presence Prob.: 0.6041666666666666\n",
      "caption :  A man smiling and walking through a doorway.\n",
      "Watermark Presence Prob.: 0.625\n",
      "caption : A black and white photo of a man in suit and tie.\n"
     ]
    },
    {
     "name": "stderr",
     "output_type": "stream",
     "text": [
      " 84%|████████▍ | 168/200 [06:03<01:14,  2.33s/it]"
     ]
    },
    {
     "name": "stdout",
     "output_type": "stream",
     "text": [
      "Watermark Presence Prob.: 0.4791666666666667\n",
      "---------- Count = 169 : Visual Paraphrasing for the watermarked version of 70000-------------\n",
      "\n",
      "Image name :  Image_70000.jpg\n",
      "Image id : 70000\n"
     ]
    },
    {
     "data": {
      "application/vnd.jupyter.widget-view+json": {
       "model_id": "20ee8c7f4575444fa57f8f527a1211f8",
       "version_major": 2,
       "version_minor": 0
      },
      "text/plain": [
       "  0%|          | 0/5 [00:00<?, ?it/s]"
      ]
     },
     "metadata": {},
     "output_type": "display_data"
    },
    {
     "name": "stdout",
     "output_type": "stream",
     "text": [
      "Saving generated images at /raid/home/ashhar21137/watermarking3/stable_signature/ss_paraphrase_0.15/70000\n",
      "Generated Image saved to /raid/home/ashhar21137/watermarking3/stable_signature/ss_paraphrase_0.15/70000/70000_gen_0.png\n",
      "Generated Image saved to /raid/home/ashhar21137/watermarking3/stable_signature/ss_paraphrase_0.15/70000/70000_gen_1.png\n",
      "Generated Image saved to /raid/home/ashhar21137/watermarking3/stable_signature/ss_paraphrase_0.15/70000/70000_gen_2.png\n",
      "Generated Image saved to /raid/home/ashhar21137/watermarking3/stable_signature/ss_paraphrase_0.15/70000/70000_gen_3.png\n",
      "Generated Image saved to /raid/home/ashhar21137/watermarking3/stable_signature/ss_paraphrase_0.15/70000/70000_gen_4.png\n",
      "\n",
      "Number of images generated :  5\n",
      "\n",
      "********** Watermark detection for generated images ***************\n",
      "caption : Bright loft space with large rustic dining table and bikes on the wall.\n",
      "Watermark Presence Prob.: 0.5208333333333334\n",
      "caption : A room with windows, bikes, chairs, and a table. \n",
      "Watermark Presence Prob.: 0.5208333333333334\n",
      "caption : A room with a table and chairs and bikes hanging up.\n"
     ]
    },
    {
     "name": "stderr",
     "output_type": "stream",
     "text": [
      " 84%|████████▍ | 169/200 [06:05<01:09,  2.24s/it]"
     ]
    },
    {
     "name": "stdout",
     "output_type": "stream",
     "text": [
      "Watermark Presence Prob.: 0.4375\n",
      "caption : There is a long table in the middle of this room.\n",
      "Watermark Presence Prob.: 0.5833333333333334\n",
      "caption : A dark room with a long wooden table and a bike hanging on the wall.\n",
      "Watermark Presence Prob.: 0.4166666666666667\n",
      "---------- Count = 170 : Visual Paraphrasing for the watermarked version of 289019-------------\n",
      "\n",
      "Image name :  Image_289019.jpg\n",
      "Image id : 289019\n"
     ]
    },
    {
     "data": {
      "application/vnd.jupyter.widget-view+json": {
       "model_id": "09a0995efe8b4167a2a7e1f8f101aa29",
       "version_major": 2,
       "version_minor": 0
      },
      "text/plain": [
       "  0%|          | 0/5 [00:00<?, ?it/s]"
      ]
     },
     "metadata": {},
     "output_type": "display_data"
    },
    {
     "name": "stdout",
     "output_type": "stream",
     "text": [
      "Saving generated images at /raid/home/ashhar21137/watermarking3/stable_signature/ss_paraphrase_0.15/289019\n",
      "Generated Image saved to /raid/home/ashhar21137/watermarking3/stable_signature/ss_paraphrase_0.15/289019/289019_gen_0.png\n",
      "Generated Image saved to /raid/home/ashhar21137/watermarking3/stable_signature/ss_paraphrase_0.15/289019/289019_gen_1.png\n",
      "Generated Image saved to /raid/home/ashhar21137/watermarking3/stable_signature/ss_paraphrase_0.15/289019/289019_gen_2.png\n",
      "Generated Image saved to /raid/home/ashhar21137/watermarking3/stable_signature/ss_paraphrase_0.15/289019/289019_gen_3.png\n",
      "Generated Image saved to /raid/home/ashhar21137/watermarking3/stable_signature/ss_paraphrase_0.15/289019/289019_gen_4.png\n",
      "\n",
      "Number of images generated :  5\n",
      "\n",
      "********** Watermark detection for generated images ***************\n",
      "caption : Horse-drawn carriage moves along street carrying two passengers\n",
      "Watermark Presence Prob.: 0.6041666666666666\n",
      "caption : A couple sitting on the back of a horse drawn carriage.\n"
     ]
    },
    {
     "name": "stderr",
     "output_type": "stream",
     "text": [
      " 85%|████████▌ | 170/200 [06:07<01:04,  2.14s/it]"
     ]
    },
    {
     "name": "stdout",
     "output_type": "stream",
     "text": [
      "Watermark Presence Prob.: 0.4791666666666667\n",
      "caption : A horse and carriage ride in an old town \n",
      "Watermark Presence Prob.: 0.5625\n",
      "caption : People are riding in a horse drawn carriage with yellow wheels.\n",
      "Watermark Presence Prob.: 0.5\n",
      "caption : A man is giving horse drawn carriage rides to a couple.\n",
      "Watermark Presence Prob.: 0.5833333333333334\n",
      "---------- Count = 171 : Visual Paraphrasing for the watermarked version of 270912-------------\n",
      "\n",
      "Image name :  Image_270912.jpg\n",
      "Image id : 270912\n"
     ]
    },
    {
     "data": {
      "application/vnd.jupyter.widget-view+json": {
       "model_id": "ca3c7314c7a849cd88ff96c7ec926dbb",
       "version_major": 2,
       "version_minor": 0
      },
      "text/plain": [
       "  0%|          | 0/5 [00:00<?, ?it/s]"
      ]
     },
     "metadata": {},
     "output_type": "display_data"
    },
    {
     "name": "stdout",
     "output_type": "stream",
     "text": [
      "Saving generated images at /raid/home/ashhar21137/watermarking3/stable_signature/ss_paraphrase_0.15/270912\n",
      "Generated Image saved to /raid/home/ashhar21137/watermarking3/stable_signature/ss_paraphrase_0.15/270912/270912_gen_0.png\n",
      "Generated Image saved to /raid/home/ashhar21137/watermarking3/stable_signature/ss_paraphrase_0.15/270912/270912_gen_1.png\n",
      "Generated Image saved to /raid/home/ashhar21137/watermarking3/stable_signature/ss_paraphrase_0.15/270912/270912_gen_2.png\n",
      "Generated Image saved to /raid/home/ashhar21137/watermarking3/stable_signature/ss_paraphrase_0.15/270912/270912_gen_3.png\n",
      "Generated Image saved to /raid/home/ashhar21137/watermarking3/stable_signature/ss_paraphrase_0.15/270912/270912_gen_4.png\n",
      "\n",
      "Number of images generated :  5\n",
      "\n",
      "********** Watermark detection for generated images ***************\n",
      "caption : A policeman in a helmet standing next to his motorcycle.\n"
     ]
    },
    {
     "name": "stderr",
     "output_type": "stream",
     "text": [
      " 86%|████████▌ | 171/200 [06:10<01:02,  2.15s/it]"
     ]
    },
    {
     "name": "stdout",
     "output_type": "stream",
     "text": [
      "Watermark Presence Prob.: 0.4791666666666667\n",
      "caption : The police man is posing for a picture near his motorcycle.\n",
      "Watermark Presence Prob.: 0.5625\n",
      "caption : A man that is standing next to a motorcycle.\n",
      "Watermark Presence Prob.: 0.4166666666666667\n",
      "caption : A cop standing next to a couple or parked motorcycles.\n",
      "Watermark Presence Prob.: 0.4583333333333333\n",
      "caption : A motorcycle police officer next to his vehicle. \n",
      "Watermark Presence Prob.: 0.4583333333333333\n",
      "---------- Count = 172 : Visual Paraphrasing for the watermarked version of 485894-------------\n",
      "\n",
      "Image name :  Image_485894.jpg\n",
      "Image id : 485894\n"
     ]
    },
    {
     "data": {
      "application/vnd.jupyter.widget-view+json": {
       "model_id": "bedf51086caf44b799d5fbd94d87ece6",
       "version_major": 2,
       "version_minor": 0
      },
      "text/plain": [
       "  0%|          | 0/5 [00:00<?, ?it/s]"
      ]
     },
     "metadata": {},
     "output_type": "display_data"
    },
    {
     "name": "stdout",
     "output_type": "stream",
     "text": [
      "Saving generated images at /raid/home/ashhar21137/watermarking3/stable_signature/ss_paraphrase_0.15/485894\n",
      "Generated Image saved to /raid/home/ashhar21137/watermarking3/stable_signature/ss_paraphrase_0.15/485894/485894_gen_0.png\n",
      "Generated Image saved to /raid/home/ashhar21137/watermarking3/stable_signature/ss_paraphrase_0.15/485894/485894_gen_1.png\n",
      "Generated Image saved to /raid/home/ashhar21137/watermarking3/stable_signature/ss_paraphrase_0.15/485894/485894_gen_2.png\n",
      "Generated Image saved to /raid/home/ashhar21137/watermarking3/stable_signature/ss_paraphrase_0.15/485894/485894_gen_3.png\n",
      "Generated Image saved to /raid/home/ashhar21137/watermarking3/stable_signature/ss_paraphrase_0.15/485894/485894_gen_4.png\n",
      "\n",
      "Number of images generated :  5\n",
      "\n",
      "********** Watermark detection for generated images ***************\n",
      "caption : A bathroom with a white bath tub sitting in a corner of a green room.\n",
      "Watermark Presence Prob.: 0.6041666666666666\n",
      "caption : A mint green bathroom with car pictures on the wall\n"
     ]
    },
    {
     "name": "stderr",
     "output_type": "stream",
     "text": [
      " 86%|████████▌ | 172/200 [06:11<00:57,  2.06s/it]"
     ]
    },
    {
     "name": "stdout",
     "output_type": "stream",
     "text": [
      "Watermark Presence Prob.: 0.6666666666666666\n",
      "caption : a bathroom with mint green walls and pictures \n",
      "Watermark Presence Prob.: 0.6458333333333334\n",
      "caption : Two pictures are hanging on the wall of the bathroom.\n",
      "Watermark Presence Prob.: 0.6458333333333334\n",
      "caption : A bathroom has pictures hanging on the wall above the bathtub.\n",
      "Watermark Presence Prob.: 0.6041666666666666\n",
      "---------- Count = 173 : Visual Paraphrasing for the watermarked version of 535786-------------\n",
      "\n",
      "Image name :  Image_535786.jpg\n",
      "Image id : 535786\n"
     ]
    },
    {
     "data": {
      "application/vnd.jupyter.widget-view+json": {
       "model_id": "19d65969d51e48da966666174c0e60f2",
       "version_major": 2,
       "version_minor": 0
      },
      "text/plain": [
       "  0%|          | 0/5 [00:00<?, ?it/s]"
      ]
     },
     "metadata": {},
     "output_type": "display_data"
    },
    {
     "name": "stdout",
     "output_type": "stream",
     "text": [
      "Saving generated images at /raid/home/ashhar21137/watermarking3/stable_signature/ss_paraphrase_0.15/535786\n",
      "Generated Image saved to /raid/home/ashhar21137/watermarking3/stable_signature/ss_paraphrase_0.15/535786/535786_gen_0.png\n",
      "Generated Image saved to /raid/home/ashhar21137/watermarking3/stable_signature/ss_paraphrase_0.15/535786/535786_gen_1.png\n",
      "Generated Image saved to /raid/home/ashhar21137/watermarking3/stable_signature/ss_paraphrase_0.15/535786/535786_gen_2.png\n",
      "Generated Image saved to /raid/home/ashhar21137/watermarking3/stable_signature/ss_paraphrase_0.15/535786/535786_gen_3.png\n",
      "Generated Image saved to /raid/home/ashhar21137/watermarking3/stable_signature/ss_paraphrase_0.15/535786/535786_gen_4.png\n",
      "\n",
      "Number of images generated :  5\n",
      "\n",
      "********** Watermark detection for generated images ***************\n",
      "caption : A toilet with a bow on it inside a bathroom.\n"
     ]
    },
    {
     "name": "stderr",
     "output_type": "stream",
     "text": [
      " 86%|████████▋ | 173/200 [06:13<00:54,  2.02s/it]"
     ]
    },
    {
     "name": "stdout",
     "output_type": "stream",
     "text": [
      "Watermark Presence Prob.: 0.6041666666666666\n",
      "caption : a bathroom scene with a white toilet covered with a red bow\n",
      "Watermark Presence Prob.: 0.6041666666666666\n",
      "caption : There is a picture of a bathroom with a toliet wrapped in a red ribbon.\n",
      "Watermark Presence Prob.: 0.5833333333333334\n",
      "caption : A white bathroom with a carefully gift-wrapped toilet bowl.\n",
      "Watermark Presence Prob.: 0.625\n",
      "caption : A brand new toilet with a bow across the seat.\n",
      "Watermark Presence Prob.: 0.6041666666666666\n",
      "---------- Count = 174 : Visual Paraphrasing for the watermarked version of 147016-------------\n",
      "\n",
      "Image name :  Image_147016.jpg\n",
      "Image id : 147016\n"
     ]
    },
    {
     "data": {
      "application/vnd.jupyter.widget-view+json": {
       "model_id": "b8ddbba45e0044c9bf53d371599808ea",
       "version_major": 2,
       "version_minor": 0
      },
      "text/plain": [
       "  0%|          | 0/5 [00:00<?, ?it/s]"
      ]
     },
     "metadata": {},
     "output_type": "display_data"
    },
    {
     "name": "stdout",
     "output_type": "stream",
     "text": [
      "Saving generated images at /raid/home/ashhar21137/watermarking3/stable_signature/ss_paraphrase_0.15/147016\n",
      "Generated Image saved to /raid/home/ashhar21137/watermarking3/stable_signature/ss_paraphrase_0.15/147016/147016_gen_0.png\n",
      "Generated Image saved to /raid/home/ashhar21137/watermarking3/stable_signature/ss_paraphrase_0.15/147016/147016_gen_1.png\n",
      "Generated Image saved to /raid/home/ashhar21137/watermarking3/stable_signature/ss_paraphrase_0.15/147016/147016_gen_2.png\n",
      "Generated Image saved to /raid/home/ashhar21137/watermarking3/stable_signature/ss_paraphrase_0.15/147016/147016_gen_3.png\n",
      "Generated Image saved to /raid/home/ashhar21137/watermarking3/stable_signature/ss_paraphrase_0.15/147016/147016_gen_4.png\n",
      "\n",
      "Number of images generated :  5\n",
      "\n",
      "********** Watermark detection for generated images ***************\n",
      "caption : A toilet connected to a wire, next to a speaker.\n"
     ]
    },
    {
     "name": "stderr",
     "output_type": "stream",
     "text": [
      " 87%|████████▋ | 174/200 [06:15<00:52,  2.02s/it]"
     ]
    },
    {
     "name": "stdout",
     "output_type": "stream",
     "text": [
      "Watermark Presence Prob.: 0.5833333333333334\n",
      "caption : A white toilet sitting in the corner of a room next to a black object.\n",
      "Watermark Presence Prob.: 0.5833333333333334\n",
      "caption : A toilet with speaker wire running through it.\n",
      "Watermark Presence Prob.: 0.6041666666666666\n",
      "caption : A toilet and a speaker sitting on the floor.\n",
      "Watermark Presence Prob.: 0.625\n",
      "caption : An toilet on a wooden floor next to a black speaker\n",
      "Watermark Presence Prob.: 0.6041666666666666\n",
      "---------- Count = 175 : Visual Paraphrasing for the watermarked version of 343322-------------\n",
      "\n",
      "Image name :  Image_343322.jpg\n",
      "Image id : 343322\n"
     ]
    },
    {
     "data": {
      "application/vnd.jupyter.widget-view+json": {
       "model_id": "81992095d6c84323be4783b722d3112f",
       "version_major": 2,
       "version_minor": 0
      },
      "text/plain": [
       "  0%|          | 0/5 [00:00<?, ?it/s]"
      ]
     },
     "metadata": {},
     "output_type": "display_data"
    },
    {
     "name": "stdout",
     "output_type": "stream",
     "text": [
      "Saving generated images at /raid/home/ashhar21137/watermarking3/stable_signature/ss_paraphrase_0.15/343322\n",
      "Generated Image saved to /raid/home/ashhar21137/watermarking3/stable_signature/ss_paraphrase_0.15/343322/343322_gen_0.png\n",
      "Generated Image saved to /raid/home/ashhar21137/watermarking3/stable_signature/ss_paraphrase_0.15/343322/343322_gen_1.png\n",
      "Generated Image saved to /raid/home/ashhar21137/watermarking3/stable_signature/ss_paraphrase_0.15/343322/343322_gen_2.png\n",
      "Generated Image saved to /raid/home/ashhar21137/watermarking3/stable_signature/ss_paraphrase_0.15/343322/343322_gen_3.png\n",
      "Generated Image saved to /raid/home/ashhar21137/watermarking3/stable_signature/ss_paraphrase_0.15/343322/343322_gen_4.png\n",
      "\n",
      "Number of images generated :  5\n",
      "\n",
      "********** Watermark detection for generated images ***************\n",
      "caption : Blue and white antique car at intersection of city roadway.\n",
      "Watermark Presence Prob.: 0.5416666666666666\n",
      "caption : A blue vintage car is driving down the street.\n",
      "Watermark Presence Prob.: 0.4583333333333333\n",
      "caption : The antique cars are traveling down main street.\n",
      "Watermark Presence Prob.: 0.5\n",
      "caption : A car driving down a street next to a tall building.\n"
     ]
    },
    {
     "name": "stderr",
     "output_type": "stream",
     "text": [
      " 88%|████████▊ | 175/200 [06:18<00:52,  2.10s/it]"
     ]
    },
    {
     "name": "stdout",
     "output_type": "stream",
     "text": [
      "Watermark Presence Prob.: 0.5416666666666666\n",
      "caption : A blue classic Chevy Nomad driving down a busy city street.\n",
      "Watermark Presence Prob.: 0.5208333333333334\n",
      "---------- Count = 176 : Visual Paraphrasing for the watermarked version of 412198-------------\n",
      "\n",
      "Image name :  Image_412198.jpg\n",
      "Image id : 412198\n"
     ]
    },
    {
     "data": {
      "application/vnd.jupyter.widget-view+json": {
       "model_id": "52136c8ecd17447b8850f4cdbe4cf18f",
       "version_major": 2,
       "version_minor": 0
      },
      "text/plain": [
       "  0%|          | 0/5 [00:00<?, ?it/s]"
      ]
     },
     "metadata": {},
     "output_type": "display_data"
    },
    {
     "name": "stdout",
     "output_type": "stream",
     "text": [
      "Saving generated images at /raid/home/ashhar21137/watermarking3/stable_signature/ss_paraphrase_0.15/412198\n",
      "Generated Image saved to /raid/home/ashhar21137/watermarking3/stable_signature/ss_paraphrase_0.15/412198/412198_gen_0.png\n",
      "Generated Image saved to /raid/home/ashhar21137/watermarking3/stable_signature/ss_paraphrase_0.15/412198/412198_gen_1.png\n",
      "Generated Image saved to /raid/home/ashhar21137/watermarking3/stable_signature/ss_paraphrase_0.15/412198/412198_gen_2.png\n",
      "Generated Image saved to /raid/home/ashhar21137/watermarking3/stable_signature/ss_paraphrase_0.15/412198/412198_gen_3.png\n",
      "Generated Image saved to /raid/home/ashhar21137/watermarking3/stable_signature/ss_paraphrase_0.15/412198/412198_gen_4.png\n",
      "\n",
      "Number of images generated :  5\n",
      "\n",
      "********** Watermark detection for generated images ***************\n",
      "caption : A group of large giraffes walking along together\n",
      "Watermark Presence Prob.: 0.4375\n",
      "caption : Three grown giraffes walking together near tall trees\n",
      "Watermark Presence Prob.: 0.3958333333333333\n",
      "caption : Three giraffes, including a youngster, cluster together near a tree.\n",
      "Watermark Presence Prob.: 0.5\n",
      "caption : A few giraffe looking alertly at something in a zoo.\n",
      "Watermark Presence Prob.: 0.4583333333333333\n",
      "caption : Three giraffes that are walking together in an enclosure.\n"
     ]
    },
    {
     "name": "stderr",
     "output_type": "stream",
     "text": [
      " 88%|████████▊ | 176/200 [06:20<00:51,  2.14s/it]"
     ]
    },
    {
     "name": "stdout",
     "output_type": "stream",
     "text": [
      "Watermark Presence Prob.: 0.4791666666666667\n",
      "---------- Count = 177 : Visual Paraphrasing for the watermarked version of 77806-------------\n",
      "\n",
      "Image name :  Image_77806.jpg\n",
      "Image id : 77806\n"
     ]
    },
    {
     "data": {
      "application/vnd.jupyter.widget-view+json": {
       "model_id": "c316804aaa8a4aecbc15ea853de2f9fc",
       "version_major": 2,
       "version_minor": 0
      },
      "text/plain": [
       "  0%|          | 0/5 [00:00<?, ?it/s]"
      ]
     },
     "metadata": {},
     "output_type": "display_data"
    },
    {
     "name": "stdout",
     "output_type": "stream",
     "text": [
      "Saving generated images at /raid/home/ashhar21137/watermarking3/stable_signature/ss_paraphrase_0.15/77806\n",
      "Generated Image saved to /raid/home/ashhar21137/watermarking3/stable_signature/ss_paraphrase_0.15/77806/77806_gen_0.png\n",
      "Generated Image saved to /raid/home/ashhar21137/watermarking3/stable_signature/ss_paraphrase_0.15/77806/77806_gen_1.png\n",
      "Generated Image saved to /raid/home/ashhar21137/watermarking3/stable_signature/ss_paraphrase_0.15/77806/77806_gen_2.png\n",
      "Generated Image saved to /raid/home/ashhar21137/watermarking3/stable_signature/ss_paraphrase_0.15/77806/77806_gen_3.png\n",
      "Generated Image saved to /raid/home/ashhar21137/watermarking3/stable_signature/ss_paraphrase_0.15/77806/77806_gen_4.png\n",
      "\n",
      "Number of images generated :  5\n",
      "\n",
      "********** Watermark detection for generated images ***************\n",
      "caption : Small dog in wire basket transported on motor scooter in city.\n"
     ]
    },
    {
     "name": "stderr",
     "output_type": "stream",
     "text": [
      " 88%|████████▊ | 177/200 [06:22<00:50,  2.19s/it]"
     ]
    },
    {
     "name": "stdout",
     "output_type": "stream",
     "text": [
      "Watermark Presence Prob.: 0.5833333333333334\n",
      "caption : A dog is inside of a covered cage on back of a motorcycle.\n",
      "Watermark Presence Prob.: 0.5208333333333334\n",
      "caption : a dog in a cage on a motocycle\n",
      "Watermark Presence Prob.: 0.5\n",
      "caption : A dog sits in a cage on the back of a motorcycle.\n",
      "Watermark Presence Prob.: 0.5625\n",
      "caption : A dog is in a cage on the back of a motorcycle\n",
      "Watermark Presence Prob.: 0.6458333333333334\n",
      "---------- Count = 178 : Visual Paraphrasing for the watermarked version of 168194-------------\n",
      "\n",
      "Image name :  Image_168194.jpg\n",
      "Image id : 168194\n"
     ]
    },
    {
     "data": {
      "application/vnd.jupyter.widget-view+json": {
       "model_id": "beb9fe6e07154cceabafd20385e23e93",
       "version_major": 2,
       "version_minor": 0
      },
      "text/plain": [
       "  0%|          | 0/5 [00:00<?, ?it/s]"
      ]
     },
     "metadata": {},
     "output_type": "display_data"
    },
    {
     "name": "stdout",
     "output_type": "stream",
     "text": [
      "Saving generated images at /raid/home/ashhar21137/watermarking3/stable_signature/ss_paraphrase_0.15/168194\n",
      "Generated Image saved to /raid/home/ashhar21137/watermarking3/stable_signature/ss_paraphrase_0.15/168194/168194_gen_0.png\n",
      "Generated Image saved to /raid/home/ashhar21137/watermarking3/stable_signature/ss_paraphrase_0.15/168194/168194_gen_1.png\n",
      "Generated Image saved to /raid/home/ashhar21137/watermarking3/stable_signature/ss_paraphrase_0.15/168194/168194_gen_2.png\n",
      "Generated Image saved to /raid/home/ashhar21137/watermarking3/stable_signature/ss_paraphrase_0.15/168194/168194_gen_3.png\n",
      "Generated Image saved to /raid/home/ashhar21137/watermarking3/stable_signature/ss_paraphrase_0.15/168194/168194_gen_4.png\n",
      "\n",
      "Number of images generated :  5\n",
      "\n",
      "********** Watermark detection for generated images ***************\n",
      "caption : Steam coming out of a post during the day.\n",
      "Watermark Presence Prob.: 0.4583333333333333\n",
      "caption : Smoke comes from a dirty pipe in this cityscape\n",
      "Watermark Presence Prob.: 0.6041666666666666\n",
      "caption : An orange traffic cone with steam pouring out of it.\n",
      "Watermark Presence Prob.: 0.5208333333333334\n",
      "caption : Smoke coming out of a stack with a  green traffic light and a picture of Mr Peanut on a building.\n"
     ]
    },
    {
     "name": "stderr",
     "output_type": "stream",
     "text": [
      " 89%|████████▉ | 178/200 [06:24<00:48,  2.23s/it]"
     ]
    },
    {
     "name": "stdout",
     "output_type": "stream",
     "text": [
      "Watermark Presence Prob.: 0.5625\n",
      "caption : A close-up of a cone with smoke coming out.\n",
      "Watermark Presence Prob.: 0.4791666666666667\n",
      "---------- Count = 179 : Visual Paraphrasing for the watermarked version of 303291-------------\n",
      "\n",
      "Image name :  Image_303291.jpg\n",
      "Image id : 303291\n"
     ]
    },
    {
     "data": {
      "application/vnd.jupyter.widget-view+json": {
       "model_id": "4988ce91f122420fb3cf00078672e4f7",
       "version_major": 2,
       "version_minor": 0
      },
      "text/plain": [
       "  0%|          | 0/5 [00:00<?, ?it/s]"
      ]
     },
     "metadata": {},
     "output_type": "display_data"
    },
    {
     "name": "stdout",
     "output_type": "stream",
     "text": [
      "Saving generated images at /raid/home/ashhar21137/watermarking3/stable_signature/ss_paraphrase_0.15/303291\n",
      "Generated Image saved to /raid/home/ashhar21137/watermarking3/stable_signature/ss_paraphrase_0.15/303291/303291_gen_0.png\n",
      "Generated Image saved to /raid/home/ashhar21137/watermarking3/stable_signature/ss_paraphrase_0.15/303291/303291_gen_1.png\n",
      "Generated Image saved to /raid/home/ashhar21137/watermarking3/stable_signature/ss_paraphrase_0.15/303291/303291_gen_2.png\n",
      "Generated Image saved to /raid/home/ashhar21137/watermarking3/stable_signature/ss_paraphrase_0.15/303291/303291_gen_3.png\n",
      "Generated Image saved to /raid/home/ashhar21137/watermarking3/stable_signature/ss_paraphrase_0.15/303291/303291_gen_4.png\n",
      "\n",
      "Number of images generated :  5\n",
      "\n",
      "********** Watermark detection for generated images ***************\n",
      "caption : A woolen cap atop a fire hydrant on the sidewalk\n",
      "Watermark Presence Prob.: 0.5416666666666666\n",
      "caption : A close up of a red and white fire hydrant with a black cap on top of it. \n"
     ]
    },
    {
     "name": "stderr",
     "output_type": "stream",
     "text": [
      " 90%|████████▉ | 179/200 [06:26<00:44,  2.13s/it]"
     ]
    },
    {
     "name": "stdout",
     "output_type": "stream",
     "text": [
      "Watermark Presence Prob.: 0.5\n",
      "caption : Fire hydrant on a stone tiled sidewalk \"wearing\" a stocking hat.\n",
      "Watermark Presence Prob.: 0.5833333333333334\n",
      "caption : A red and white fire hydrant with a black hat on it\n",
      "Watermark Presence Prob.: 0.5625\n",
      "caption : A fire hydrant has a hat on top of it.\n",
      "Watermark Presence Prob.: 0.5625\n",
      "---------- Count = 180 : Visual Paraphrasing for the watermarked version of 491269-------------\n",
      "\n",
      "Image name :  Image_491269.jpg\n",
      "Image id : 491269\n"
     ]
    },
    {
     "data": {
      "application/vnd.jupyter.widget-view+json": {
       "model_id": "95d65da7e97b43e58dbb7571451e5a88",
       "version_major": 2,
       "version_minor": 0
      },
      "text/plain": [
       "  0%|          | 0/5 [00:00<?, ?it/s]"
      ]
     },
     "metadata": {},
     "output_type": "display_data"
    },
    {
     "name": "stdout",
     "output_type": "stream",
     "text": [
      "Saving generated images at /raid/home/ashhar21137/watermarking3/stable_signature/ss_paraphrase_0.15/491269\n",
      "Generated Image saved to /raid/home/ashhar21137/watermarking3/stable_signature/ss_paraphrase_0.15/491269/491269_gen_0.png\n",
      "Generated Image saved to /raid/home/ashhar21137/watermarking3/stable_signature/ss_paraphrase_0.15/491269/491269_gen_1.png\n",
      "Generated Image saved to /raid/home/ashhar21137/watermarking3/stable_signature/ss_paraphrase_0.15/491269/491269_gen_2.png\n",
      "Generated Image saved to /raid/home/ashhar21137/watermarking3/stable_signature/ss_paraphrase_0.15/491269/491269_gen_3.png\n",
      "Generated Image saved to /raid/home/ashhar21137/watermarking3/stable_signature/ss_paraphrase_0.15/491269/491269_gen_4.png\n",
      "\n",
      "Number of images generated :  5\n",
      "\n",
      "********** Watermark detection for generated images ***************\n",
      "caption : A very cluttered but very clean kept kitchen.\n"
     ]
    },
    {
     "name": "stderr",
     "output_type": "stream",
     "text": [
      " 90%|█████████ | 180/200 [06:29<00:43,  2.16s/it]"
     ]
    },
    {
     "name": "stdout",
     "output_type": "stream",
     "text": [
      "Watermark Presence Prob.: 0.5208333333333334\n",
      "caption : A small and cramped empty kitchen with overhead lighting \n",
      "Watermark Presence Prob.: 0.5833333333333334\n",
      "caption : Looking into a small home kitchen with stove in a bar.\n",
      "Watermark Presence Prob.: 0.5416666666666666\n",
      "caption : a small kitchen with two microwaves a fridge and stove\n",
      "Watermark Presence Prob.: 0.5833333333333334\n",
      "caption : A full kitchen that is accented with the color red.\n",
      "Watermark Presence Prob.: 0.5416666666666666\n",
      "---------- Count = 181 : Visual Paraphrasing for the watermarked version of 530683-------------\n",
      "\n",
      "Image name :  Image_530683.jpg\n",
      "Image id : 530683\n"
     ]
    },
    {
     "data": {
      "application/vnd.jupyter.widget-view+json": {
       "model_id": "19ab44cf5afa4185b98f31134dc949bd",
       "version_major": 2,
       "version_minor": 0
      },
      "text/plain": [
       "  0%|          | 0/5 [00:00<?, ?it/s]"
      ]
     },
     "metadata": {},
     "output_type": "display_data"
    },
    {
     "name": "stdout",
     "output_type": "stream",
     "text": [
      "Saving generated images at /raid/home/ashhar21137/watermarking3/stable_signature/ss_paraphrase_0.15/530683\n",
      "Generated Image saved to /raid/home/ashhar21137/watermarking3/stable_signature/ss_paraphrase_0.15/530683/530683_gen_0.png\n",
      "Generated Image saved to /raid/home/ashhar21137/watermarking3/stable_signature/ss_paraphrase_0.15/530683/530683_gen_1.png\n",
      "Generated Image saved to /raid/home/ashhar21137/watermarking3/stable_signature/ss_paraphrase_0.15/530683/530683_gen_2.png\n",
      "Generated Image saved to /raid/home/ashhar21137/watermarking3/stable_signature/ss_paraphrase_0.15/530683/530683_gen_3.png\n",
      "Generated Image saved to /raid/home/ashhar21137/watermarking3/stable_signature/ss_paraphrase_0.15/530683/530683_gen_4.png\n",
      "\n",
      "Number of images generated :  5\n",
      "\n",
      "********** Watermark detection for generated images ***************\n",
      "caption : A woman in a dress riding a bicycle.\n",
      "Watermark Presence Prob.: 0.375\n",
      "caption : A woman in a black and white dress on a bicycle.\n",
      "Watermark Presence Prob.: 0.5\n",
      "caption : A woman stand near a group of people, and everyone is on bikes.\n",
      "Watermark Presence Prob.: 0.4583333333333333\n",
      "caption : A woman in sunglasses is sitting on a bike with a dog.\n",
      "Watermark Presence Prob.: 0.5208333333333334\n",
      "caption : A woman and a dog on a bike on the street.\n"
     ]
    },
    {
     "name": "stderr",
     "output_type": "stream",
     "text": [
      " 90%|█████████ | 181/200 [06:31<00:40,  2.11s/it]"
     ]
    },
    {
     "name": "stdout",
     "output_type": "stream",
     "text": [
      "Watermark Presence Prob.: 0.5208333333333334\n",
      "---------- Count = 182 : Visual Paraphrasing for the watermarked version of 172899-------------\n",
      "\n",
      "Image name :  Image_172899.jpg\n",
      "Image id : 172899\n"
     ]
    },
    {
     "data": {
      "application/vnd.jupyter.widget-view+json": {
       "model_id": "73bc1c01c59f45639d9635e9100a3563",
       "version_major": 2,
       "version_minor": 0
      },
      "text/plain": [
       "  0%|          | 0/5 [00:00<?, ?it/s]"
      ]
     },
     "metadata": {},
     "output_type": "display_data"
    },
    {
     "name": "stdout",
     "output_type": "stream",
     "text": [
      "Saving generated images at /raid/home/ashhar21137/watermarking3/stable_signature/ss_paraphrase_0.15/172899\n",
      "Generated Image saved to /raid/home/ashhar21137/watermarking3/stable_signature/ss_paraphrase_0.15/172899/172899_gen_0.png\n",
      "Generated Image saved to /raid/home/ashhar21137/watermarking3/stable_signature/ss_paraphrase_0.15/172899/172899_gen_1.png\n",
      "Generated Image saved to /raid/home/ashhar21137/watermarking3/stable_signature/ss_paraphrase_0.15/172899/172899_gen_2.png\n",
      "Generated Image saved to /raid/home/ashhar21137/watermarking3/stable_signature/ss_paraphrase_0.15/172899/172899_gen_3.png\n",
      "Generated Image saved to /raid/home/ashhar21137/watermarking3/stable_signature/ss_paraphrase_0.15/172899/172899_gen_4.png\n",
      "\n",
      "Number of images generated :  5\n",
      "\n",
      "********** Watermark detection for generated images ***************\n",
      "caption : A bathroom scene complete with a tab, sink and toilet.\n"
     ]
    },
    {
     "name": "stderr",
     "output_type": "stream",
     "text": [
      " 91%|█████████ | 182/200 [06:33<00:38,  2.14s/it]"
     ]
    },
    {
     "name": "stdout",
     "output_type": "stream",
     "text": [
      "Watermark Presence Prob.: 0.5833333333333334\n",
      "caption : A plain bathroom features a white toilet and sink and a beige bathtub.\n",
      "Watermark Presence Prob.: 0.625\n",
      "caption : A bathroom with both white and beige fixtures.  \n",
      "Watermark Presence Prob.: 0.6041666666666666\n",
      "caption : Three piece bathroom with white sink and toilet and beige tub/shower.\n",
      "Watermark Presence Prob.: 0.6041666666666666\n",
      "caption : A bathroom white sink, toilet and shower, looks clean.\n",
      "Watermark Presence Prob.: 0.5833333333333334\n",
      "---------- Count = 183 : Visual Paraphrasing for the watermarked version of 267688-------------\n",
      "\n",
      "Image name :  Image_267688.jpg\n",
      "Image id : 267688\n"
     ]
    },
    {
     "data": {
      "application/vnd.jupyter.widget-view+json": {
       "model_id": "4771b6d7a6814943afa205e4b69db9cb",
       "version_major": 2,
       "version_minor": 0
      },
      "text/plain": [
       "  0%|          | 0/5 [00:00<?, ?it/s]"
      ]
     },
     "metadata": {},
     "output_type": "display_data"
    },
    {
     "name": "stdout",
     "output_type": "stream",
     "text": [
      "Saving generated images at /raid/home/ashhar21137/watermarking3/stable_signature/ss_paraphrase_0.15/267688\n",
      "Generated Image saved to /raid/home/ashhar21137/watermarking3/stable_signature/ss_paraphrase_0.15/267688/267688_gen_0.png\n",
      "Generated Image saved to /raid/home/ashhar21137/watermarking3/stable_signature/ss_paraphrase_0.15/267688/267688_gen_1.png\n",
      "Generated Image saved to /raid/home/ashhar21137/watermarking3/stable_signature/ss_paraphrase_0.15/267688/267688_gen_2.png\n",
      "Generated Image saved to /raid/home/ashhar21137/watermarking3/stable_signature/ss_paraphrase_0.15/267688/267688_gen_3.png\n",
      "Generated Image saved to /raid/home/ashhar21137/watermarking3/stable_signature/ss_paraphrase_0.15/267688/267688_gen_4.png\n",
      "\n",
      "Number of images generated :  5\n",
      "\n",
      "********** Watermark detection for generated images ***************\n",
      "caption : A motorcyclist takes a turn in front of a crowd.\n"
     ]
    },
    {
     "name": "stderr",
     "output_type": "stream",
     "text": [
      " 92%|█████████▏| 183/200 [06:35<00:37,  2.20s/it]"
     ]
    },
    {
     "name": "stdout",
     "output_type": "stream",
     "text": [
      "Watermark Presence Prob.: 0.4791666666666667\n",
      "caption : A black and white photo of a man riding a motorcycle with spectators watching.\n",
      "Watermark Presence Prob.: 0.5416666666666666\n",
      "caption : A man on a motorcycle leaning into a curve during a race.\n",
      "Watermark Presence Prob.: 0.5833333333333334\n",
      "caption : A man turning a corner on his motorcycle. \n",
      "Watermark Presence Prob.: 0.4791666666666667\n",
      "caption : A man on a motorcycle with # 20 on the handle bars rounding a curve while others look on.\n",
      "Watermark Presence Prob.: 0.5416666666666666\n",
      "---------- Count = 184 : Visual Paraphrasing for the watermarked version of 523617-------------\n",
      "\n",
      "Image name :  Image_523617.jpg\n",
      "Image id : 523617\n"
     ]
    },
    {
     "data": {
      "application/vnd.jupyter.widget-view+json": {
       "model_id": "3ab58d2b2c19444f92521e9d36bbdbd8",
       "version_major": 2,
       "version_minor": 0
      },
      "text/plain": [
       "  0%|          | 0/5 [00:00<?, ?it/s]"
      ]
     },
     "metadata": {},
     "output_type": "display_data"
    },
    {
     "name": "stdout",
     "output_type": "stream",
     "text": [
      "Saving generated images at /raid/home/ashhar21137/watermarking3/stable_signature/ss_paraphrase_0.15/523617\n",
      "Generated Image saved to /raid/home/ashhar21137/watermarking3/stable_signature/ss_paraphrase_0.15/523617/523617_gen_0.png\n",
      "Generated Image saved to /raid/home/ashhar21137/watermarking3/stable_signature/ss_paraphrase_0.15/523617/523617_gen_1.png\n",
      "Generated Image saved to /raid/home/ashhar21137/watermarking3/stable_signature/ss_paraphrase_0.15/523617/523617_gen_2.png\n",
      "Generated Image saved to /raid/home/ashhar21137/watermarking3/stable_signature/ss_paraphrase_0.15/523617/523617_gen_3.png\n",
      "Generated Image saved to /raid/home/ashhar21137/watermarking3/stable_signature/ss_paraphrase_0.15/523617/523617_gen_4.png\n",
      "\n",
      "Number of images generated :  5\n",
      "\n",
      "********** Watermark detection for generated images ***************\n",
      "caption : A plane flying with a smaller plane above it.\n"
     ]
    },
    {
     "name": "stderr",
     "output_type": "stream",
     "text": [
      " 92%|█████████▏| 184/200 [06:37<00:34,  2.17s/it]"
     ]
    },
    {
     "name": "stdout",
     "output_type": "stream",
     "text": [
      "Watermark Presence Prob.: 0.6041666666666666\n",
      "caption : One plane is flying higher than another plane.\n",
      "Watermark Presence Prob.: 0.6041666666666666\n",
      "caption : A pair of planes flying in the air under a blue sky.\n",
      "Watermark Presence Prob.: 0.6041666666666666\n",
      "caption : Pair of small planes flying next to each other on sunny day.\n",
      "Watermark Presence Prob.: 0.6041666666666666\n",
      "caption : A small airplane flies directly above a larger one.\n",
      "Watermark Presence Prob.: 0.6041666666666666\n",
      "---------- Count = 185 : Visual Paraphrasing for the watermarked version of 426038-------------\n",
      "\n",
      "Image name :  Image_426038.jpg\n",
      "Image id : 426038\n"
     ]
    },
    {
     "data": {
      "application/vnd.jupyter.widget-view+json": {
       "model_id": "46e7f107c73e489e8c9d988f1eeac67d",
       "version_major": 2,
       "version_minor": 0
      },
      "text/plain": [
       "  0%|          | 0/5 [00:00<?, ?it/s]"
      ]
     },
     "metadata": {},
     "output_type": "display_data"
    },
    {
     "name": "stdout",
     "output_type": "stream",
     "text": [
      "Saving generated images at /raid/home/ashhar21137/watermarking3/stable_signature/ss_paraphrase_0.15/426038\n",
      "Generated Image saved to /raid/home/ashhar21137/watermarking3/stable_signature/ss_paraphrase_0.15/426038/426038_gen_0.png\n",
      "Generated Image saved to /raid/home/ashhar21137/watermarking3/stable_signature/ss_paraphrase_0.15/426038/426038_gen_1.png\n",
      "Generated Image saved to /raid/home/ashhar21137/watermarking3/stable_signature/ss_paraphrase_0.15/426038/426038_gen_2.png\n",
      "Generated Image saved to /raid/home/ashhar21137/watermarking3/stable_signature/ss_paraphrase_0.15/426038/426038_gen_3.png\n"
     ]
    },
    {
     "name": "stderr",
     "output_type": "stream",
     "text": [
      " 92%|█████████▎| 185/200 [06:39<00:32,  2.14s/it]"
     ]
    },
    {
     "name": "stdout",
     "output_type": "stream",
     "text": [
      "Generated Image saved to /raid/home/ashhar21137/watermarking3/stable_signature/ss_paraphrase_0.15/426038/426038_gen_4.png\n",
      "\n",
      "Number of images generated :  5\n",
      "\n",
      "********** Watermark detection for generated images ***************\n",
      "caption : A boat with lots of seats and large windows.\n",
      "Watermark Presence Prob.: 0.5208333333333334\n",
      "caption : View of the Golden Gate Bridge from a restaurant. \n",
      "Watermark Presence Prob.: 0.5208333333333334\n",
      "caption : Inside view of tables next to the windows in the boat\n",
      "Watermark Presence Prob.: 0.5833333333333334\n",
      "caption : The eating car of the train has empty booths.\n",
      "Watermark Presence Prob.: 0.5833333333333334\n",
      "caption : A view looking outside a train window by a table with a flower vase.\n",
      "Watermark Presence Prob.: 0.5\n",
      "---------- Count = 186 : Visual Paraphrasing for the watermarked version of 214704-------------\n",
      "\n",
      "Image name :  Image_214704.jpg\n",
      "Image id : 214704\n"
     ]
    },
    {
     "data": {
      "application/vnd.jupyter.widget-view+json": {
       "model_id": "a335fd020a384367a3fcd9a93f25a219",
       "version_major": 2,
       "version_minor": 0
      },
      "text/plain": [
       "  0%|          | 0/5 [00:00<?, ?it/s]"
      ]
     },
     "metadata": {},
     "output_type": "display_data"
    },
    {
     "name": "stdout",
     "output_type": "stream",
     "text": [
      "Saving generated images at /raid/home/ashhar21137/watermarking3/stable_signature/ss_paraphrase_0.15/214704\n",
      "Generated Image saved to /raid/home/ashhar21137/watermarking3/stable_signature/ss_paraphrase_0.15/214704/214704_gen_0.png\n",
      "Generated Image saved to /raid/home/ashhar21137/watermarking3/stable_signature/ss_paraphrase_0.15/214704/214704_gen_1.png\n",
      "Generated Image saved to /raid/home/ashhar21137/watermarking3/stable_signature/ss_paraphrase_0.15/214704/214704_gen_2.png\n",
      "Generated Image saved to /raid/home/ashhar21137/watermarking3/stable_signature/ss_paraphrase_0.15/214704/214704_gen_3.png\n",
      "Generated Image saved to /raid/home/ashhar21137/watermarking3/stable_signature/ss_paraphrase_0.15/214704/214704_gen_4.png\n",
      "\n",
      "Number of images generated :  5\n",
      "\n",
      "********** Watermark detection for generated images ***************\n",
      "caption : A young man that is sitting at a kitchen table is looking of to the side.\n"
     ]
    },
    {
     "name": "stderr",
     "output_type": "stream",
     "text": [
      " 93%|█████████▎| 186/200 [06:41<00:29,  2.14s/it]"
     ]
    },
    {
     "name": "stdout",
     "output_type": "stream",
     "text": [
      "Watermark Presence Prob.: 0.625\n",
      "caption : Bearded man in colorized image looks off to the side.\n",
      "Watermark Presence Prob.: 0.6041666666666666\n",
      "caption : A man with a beard with his head turned sitting down.\n",
      "Watermark Presence Prob.: 0.6458333333333334\n",
      "caption : A man at a table observing something away from him.\n",
      "Watermark Presence Prob.: 0.6041666666666666\n",
      "caption : a person sitting down with a tv behind him\n",
      "Watermark Presence Prob.: 0.6666666666666666\n",
      "---------- Count = 187 : Visual Paraphrasing for the watermarked version of 497616-------------\n",
      "\n",
      "Image name :  Image_497616.jpg\n",
      "Image id : 497616\n"
     ]
    },
    {
     "data": {
      "application/vnd.jupyter.widget-view+json": {
       "model_id": "78158c3691e04201ae27cf541f5f7368",
       "version_major": 2,
       "version_minor": 0
      },
      "text/plain": [
       "  0%|          | 0/5 [00:00<?, ?it/s]"
      ]
     },
     "metadata": {},
     "output_type": "display_data"
    },
    {
     "name": "stdout",
     "output_type": "stream",
     "text": [
      "Saving generated images at /raid/home/ashhar21137/watermarking3/stable_signature/ss_paraphrase_0.15/497616\n",
      "Generated Image saved to /raid/home/ashhar21137/watermarking3/stable_signature/ss_paraphrase_0.15/497616/497616_gen_0.png\n",
      "Generated Image saved to /raid/home/ashhar21137/watermarking3/stable_signature/ss_paraphrase_0.15/497616/497616_gen_1.png\n",
      "Generated Image saved to /raid/home/ashhar21137/watermarking3/stable_signature/ss_paraphrase_0.15/497616/497616_gen_2.png\n",
      "Generated Image saved to /raid/home/ashhar21137/watermarking3/stable_signature/ss_paraphrase_0.15/497616/497616_gen_3.png\n",
      "Generated Image saved to /raid/home/ashhar21137/watermarking3/stable_signature/ss_paraphrase_0.15/497616/497616_gen_4.png\n",
      "\n",
      "Number of images generated :  5\n",
      "\n",
      "********** Watermark detection for generated images ***************\n",
      "caption : A black and white photo of a cat sitting on a chair.\n",
      "Watermark Presence Prob.: 0.4791666666666667\n",
      "caption : a black and white photo of a cat using an old photo camera \n",
      "Watermark Presence Prob.: 0.4791666666666667\n",
      "caption : A cat comically taking an old fashioned picture of another cat.\n",
      "Watermark Presence Prob.: 0.5833333333333334\n",
      "caption : A cat sitting in a chair near another cat that is holding on to something with his paw\n"
     ]
    },
    {
     "name": "stderr",
     "output_type": "stream",
     "text": [
      " 94%|█████████▎| 187/200 [06:44<00:28,  2.18s/it]"
     ]
    },
    {
     "name": "stdout",
     "output_type": "stream",
     "text": [
      "Watermark Presence Prob.: 0.4583333333333333\n",
      "caption : a vintage photo of a cat taking a picture of another cat\n",
      "Watermark Presence Prob.: 0.5416666666666666\n",
      "---------- Count = 188 : Visual Paraphrasing for the watermarked version of 179620-------------\n",
      "\n",
      "Image name :  Image_179620.jpg\n",
      "Image id : 179620\n"
     ]
    },
    {
     "data": {
      "application/vnd.jupyter.widget-view+json": {
       "model_id": "65757aa928b24cff9dedeaf38c4d934b",
       "version_major": 2,
       "version_minor": 0
      },
      "text/plain": [
       "  0%|          | 0/5 [00:00<?, ?it/s]"
      ]
     },
     "metadata": {},
     "output_type": "display_data"
    },
    {
     "name": "stdout",
     "output_type": "stream",
     "text": [
      "Saving generated images at /raid/home/ashhar21137/watermarking3/stable_signature/ss_paraphrase_0.15/179620\n",
      "Generated Image saved to /raid/home/ashhar21137/watermarking3/stable_signature/ss_paraphrase_0.15/179620/179620_gen_0.png\n",
      "Generated Image saved to /raid/home/ashhar21137/watermarking3/stable_signature/ss_paraphrase_0.15/179620/179620_gen_1.png\n",
      "Generated Image saved to /raid/home/ashhar21137/watermarking3/stable_signature/ss_paraphrase_0.15/179620/179620_gen_2.png\n",
      "Generated Image saved to /raid/home/ashhar21137/watermarking3/stable_signature/ss_paraphrase_0.15/179620/179620_gen_3.png\n",
      "Generated Image saved to /raid/home/ashhar21137/watermarking3/stable_signature/ss_paraphrase_0.15/179620/179620_gen_4.png\n",
      "\n",
      "Number of images generated :  5\n",
      "\n",
      "********** Watermark detection for generated images ***************\n",
      "caption : A toilet bowl with rolls of toilet paper stacked next to it\n",
      "\n",
      "Watermark Presence Prob.: 0.5833333333333334\n",
      "caption : A bathroom toilet sitting next to a few roles of toilet paper.\n",
      "Watermark Presence Prob.: 0.6041666666666666\n",
      "caption : There is a toilet with a picture above it, there are four rolls of tissue.\n",
      "Watermark Presence Prob.: 0.625\n",
      "caption : A bathroom with a toilet and white walls. \n"
     ]
    },
    {
     "name": "stderr",
     "output_type": "stream",
     "text": [
      " 94%|█████████▍| 188/200 [06:46<00:26,  2.24s/it]"
     ]
    },
    {
     "name": "stdout",
     "output_type": "stream",
     "text": [
      "Watermark Presence Prob.: 0.625\n",
      "caption : A white walled bathroom with six rolls of toilet paper next to a white toilet. \n",
      "Watermark Presence Prob.: 0.6041666666666666\n",
      "---------- Count = 189 : Visual Paraphrasing for the watermarked version of 42493-------------\n",
      "\n",
      "Image name :  Image_42493.jpg\n",
      "Image id : 42493\n"
     ]
    },
    {
     "data": {
      "application/vnd.jupyter.widget-view+json": {
       "model_id": "9d6bc5877beb45deaa190f493a32ab13",
       "version_major": 2,
       "version_minor": 0
      },
      "text/plain": [
       "  0%|          | 0/5 [00:00<?, ?it/s]"
      ]
     },
     "metadata": {},
     "output_type": "display_data"
    },
    {
     "name": "stdout",
     "output_type": "stream",
     "text": [
      "Saving generated images at /raid/home/ashhar21137/watermarking3/stable_signature/ss_paraphrase_0.15/42493\n",
      "Generated Image saved to /raid/home/ashhar21137/watermarking3/stable_signature/ss_paraphrase_0.15/42493/42493_gen_0.png\n",
      "Generated Image saved to /raid/home/ashhar21137/watermarking3/stable_signature/ss_paraphrase_0.15/42493/42493_gen_1.png\n",
      "Generated Image saved to /raid/home/ashhar21137/watermarking3/stable_signature/ss_paraphrase_0.15/42493/42493_gen_2.png\n",
      "Generated Image saved to /raid/home/ashhar21137/watermarking3/stable_signature/ss_paraphrase_0.15/42493/42493_gen_3.png\n",
      "Generated Image saved to /raid/home/ashhar21137/watermarking3/stable_signature/ss_paraphrase_0.15/42493/42493_gen_4.png\n",
      "\n",
      "Number of images generated :  5\n",
      "\n",
      "********** Watermark detection for generated images ***************\n",
      "caption : Two mountain bikers take a break on a path.\n",
      "Watermark Presence Prob.: 0.5625\n",
      "caption : To young people on mountain bikes with trees behind them.\n",
      "Watermark Presence Prob.: 0.5833333333333334\n",
      "caption : Two mountain bikers taking a break on a trail\n",
      "Watermark Presence Prob.: 0.5833333333333334\n",
      "caption : Two young men on motorcross bikes stopped on a trail coming out of the woods.\n"
     ]
    },
    {
     "name": "stderr",
     "output_type": "stream",
     "text": [
      " 94%|█████████▍| 189/200 [06:48<00:24,  2.18s/it]"
     ]
    },
    {
     "name": "stdout",
     "output_type": "stream",
     "text": [
      "Watermark Presence Prob.: 0.5625\n",
      "caption : two men standing on a rocky ground near a bush\n",
      "Watermark Presence Prob.: 0.5416666666666666\n",
      "---------- Count = 190 : Visual Paraphrasing for the watermarked version of 62426-------------\n",
      "\n",
      "Image name :  Image_62426.jpg\n",
      "Image id : 62426\n"
     ]
    },
    {
     "data": {
      "application/vnd.jupyter.widget-view+json": {
       "model_id": "310aa8408d9e46aebb7545935e83bd20",
       "version_major": 2,
       "version_minor": 0
      },
      "text/plain": [
       "  0%|          | 0/5 [00:00<?, ?it/s]"
      ]
     },
     "metadata": {},
     "output_type": "display_data"
    },
    {
     "name": "stdout",
     "output_type": "stream",
     "text": [
      "Saving generated images at /raid/home/ashhar21137/watermarking3/stable_signature/ss_paraphrase_0.15/62426\n",
      "Generated Image saved to /raid/home/ashhar21137/watermarking3/stable_signature/ss_paraphrase_0.15/62426/62426_gen_0.png\n",
      "Generated Image saved to /raid/home/ashhar21137/watermarking3/stable_signature/ss_paraphrase_0.15/62426/62426_gen_1.png\n",
      "Generated Image saved to /raid/home/ashhar21137/watermarking3/stable_signature/ss_paraphrase_0.15/62426/62426_gen_2.png\n",
      "Generated Image saved to /raid/home/ashhar21137/watermarking3/stable_signature/ss_paraphrase_0.15/62426/62426_gen_3.png\n",
      "Generated Image saved to /raid/home/ashhar21137/watermarking3/stable_signature/ss_paraphrase_0.15/62426/62426_gen_4.png\n",
      "\n",
      "Number of images generated :  5\n",
      "\n",
      "********** Watermark detection for generated images ***************\n",
      "caption : A sink and bath in a small room.\n",
      "Watermark Presence Prob.: 0.5625\n",
      "caption : An ornate bathroom is adorned with yellow and multicolor tiles.\n",
      "Watermark Presence Prob.: 0.5833333333333334\n",
      "caption : The bathroom is decorated in an elaborate style.\n",
      "Watermark Presence Prob.: 0.5416666666666666\n",
      "caption : An old Mediterranean yellow mosaic tiled bathroom with ornate hanging light.\n"
     ]
    },
    {
     "name": "stderr",
     "output_type": "stream",
     "text": [
      " 95%|█████████▌| 190/200 [06:51<00:22,  2.27s/it]"
     ]
    },
    {
     "name": "stdout",
     "output_type": "stream",
     "text": [
      "Watermark Presence Prob.: 0.5625\n",
      "caption : A bathroom decorated with a lot of fancy tile.\n",
      "Watermark Presence Prob.: 0.5416666666666666\n",
      "---------- Count = 191 : Visual Paraphrasing for the watermarked version of 543877-------------\n",
      "\n",
      "Image name :  Image_543877.jpg\n",
      "Image id : 543877\n"
     ]
    },
    {
     "data": {
      "application/vnd.jupyter.widget-view+json": {
       "model_id": "1bc762a93b0d48bd936855233ba229c4",
       "version_major": 2,
       "version_minor": 0
      },
      "text/plain": [
       "  0%|          | 0/5 [00:00<?, ?it/s]"
      ]
     },
     "metadata": {},
     "output_type": "display_data"
    },
    {
     "name": "stdout",
     "output_type": "stream",
     "text": [
      "Saving generated images at /raid/home/ashhar21137/watermarking3/stable_signature/ss_paraphrase_0.15/543877\n",
      "Generated Image saved to /raid/home/ashhar21137/watermarking3/stable_signature/ss_paraphrase_0.15/543877/543877_gen_0.png\n",
      "Generated Image saved to /raid/home/ashhar21137/watermarking3/stable_signature/ss_paraphrase_0.15/543877/543877_gen_1.png\n",
      "Generated Image saved to /raid/home/ashhar21137/watermarking3/stable_signature/ss_paraphrase_0.15/543877/543877_gen_2.png\n",
      "Generated Image saved to /raid/home/ashhar21137/watermarking3/stable_signature/ss_paraphrase_0.15/543877/543877_gen_3.png\n",
      "Generated Image saved to /raid/home/ashhar21137/watermarking3/stable_signature/ss_paraphrase_0.15/543877/543877_gen_4.png\n",
      "\n",
      "Number of images generated :  5\n",
      "\n",
      "********** Watermark detection for generated images ***************\n",
      "caption : A bathroom features white, bowl sinks and a bathtub.\n",
      "Watermark Presence Prob.: 0.5625\n",
      "caption : There are two sinks and a large tub in this bathroom.  \n",
      "Watermark Presence Prob.: 0.5208333333333334\n",
      "caption : a modern looking white bathroom with 2 sinks, bathtub and shower\n",
      "Watermark Presence Prob.: 0.5625\n",
      "caption : A bathroom with a large tub and his and her sinks.\n"
     ]
    },
    {
     "name": "stderr",
     "output_type": "stream",
     "text": [
      " 96%|█████████▌| 191/200 [06:53<00:21,  2.37s/it]"
     ]
    },
    {
     "name": "stdout",
     "output_type": "stream",
     "text": [
      "Watermark Presence Prob.: 0.5208333333333334\n",
      "caption : This bathroom has a large jacuzzi tub and two sinks\n",
      "Watermark Presence Prob.: 0.5833333333333334\n",
      "---------- Count = 192 : Visual Paraphrasing for the watermarked version of 160163-------------\n",
      "\n",
      "Image name :  Image_160163.jpg\n",
      "Image id : 160163\n"
     ]
    },
    {
     "data": {
      "application/vnd.jupyter.widget-view+json": {
       "model_id": "3790e2f6deb14e98b391a226e25c3ee7",
       "version_major": 2,
       "version_minor": 0
      },
      "text/plain": [
       "  0%|          | 0/5 [00:00<?, ?it/s]"
      ]
     },
     "metadata": {},
     "output_type": "display_data"
    },
    {
     "name": "stdout",
     "output_type": "stream",
     "text": [
      "Saving generated images at /raid/home/ashhar21137/watermarking3/stable_signature/ss_paraphrase_0.15/160163\n",
      "Generated Image saved to /raid/home/ashhar21137/watermarking3/stable_signature/ss_paraphrase_0.15/160163/160163_gen_0.png\n",
      "Generated Image saved to /raid/home/ashhar21137/watermarking3/stable_signature/ss_paraphrase_0.15/160163/160163_gen_1.png\n",
      "Generated Image saved to /raid/home/ashhar21137/watermarking3/stable_signature/ss_paraphrase_0.15/160163/160163_gen_2.png\n",
      "Generated Image saved to /raid/home/ashhar21137/watermarking3/stable_signature/ss_paraphrase_0.15/160163/160163_gen_3.png\n",
      "Generated Image saved to /raid/home/ashhar21137/watermarking3/stable_signature/ss_paraphrase_0.15/160163/160163_gen_4.png\n",
      "\n",
      "Number of images generated :  5\n",
      "\n",
      "********** Watermark detection for generated images ***************\n",
      "caption : Snow on benches in a park during the day.\n",
      "Watermark Presence Prob.: 0.5625\n",
      "caption : A bench and ground sit covered in snow\n",
      "Watermark Presence Prob.: 0.625\n",
      "caption : two lines of benches covered in a lot of snow \n",
      "Watermark Presence Prob.: 0.5416666666666666\n",
      "caption : Several benches covered in heavy snow out in the open.\n"
     ]
    },
    {
     "name": "stderr",
     "output_type": "stream",
     "text": [
      " 96%|█████████▌| 192/200 [06:56<00:19,  2.41s/it]"
     ]
    },
    {
     "name": "stdout",
     "output_type": "stream",
     "text": [
      "Watermark Presence Prob.: 0.6041666666666666\n",
      "caption : Snow covering bunches in a park during winter.\n",
      "Watermark Presence Prob.: 0.6041666666666666\n",
      "---------- Count = 193 : Visual Paraphrasing for the watermarked version of 167603-------------\n",
      "\n",
      "Image name :  Image_167603.jpg\n",
      "Image id : 167603\n"
     ]
    },
    {
     "data": {
      "application/vnd.jupyter.widget-view+json": {
       "model_id": "46bac65eebfa4d6d8ac0d454cbac8981",
       "version_major": 2,
       "version_minor": 0
      },
      "text/plain": [
       "  0%|          | 0/5 [00:00<?, ?it/s]"
      ]
     },
     "metadata": {},
     "output_type": "display_data"
    },
    {
     "name": "stdout",
     "output_type": "stream",
     "text": [
      "Saving generated images at /raid/home/ashhar21137/watermarking3/stable_signature/ss_paraphrase_0.15/167603\n",
      "Generated Image saved to /raid/home/ashhar21137/watermarking3/stable_signature/ss_paraphrase_0.15/167603/167603_gen_0.png\n",
      "Generated Image saved to /raid/home/ashhar21137/watermarking3/stable_signature/ss_paraphrase_0.15/167603/167603_gen_1.png\n",
      "Generated Image saved to /raid/home/ashhar21137/watermarking3/stable_signature/ss_paraphrase_0.15/167603/167603_gen_2.png\n",
      "Generated Image saved to /raid/home/ashhar21137/watermarking3/stable_signature/ss_paraphrase_0.15/167603/167603_gen_3.png\n",
      "Generated Image saved to /raid/home/ashhar21137/watermarking3/stable_signature/ss_paraphrase_0.15/167603/167603_gen_4.png\n",
      "\n",
      "Number of images generated :  5\n",
      "\n",
      "********** Watermark detection for generated images ***************\n",
      "caption : A bus that is sitting in the street.\n"
     ]
    },
    {
     "name": "stderr",
     "output_type": "stream",
     "text": [
      " 96%|█████████▋| 193/200 [06:58<00:16,  2.33s/it]"
     ]
    },
    {
     "name": "stdout",
     "output_type": "stream",
     "text": [
      "Watermark Presence Prob.: 0.5833333333333334\n",
      "caption : Bus in motion on a road in a busy street.\n",
      "Watermark Presence Prob.: 0.5416666666666666\n",
      "caption : A bus heads down a city street in the rain.\n",
      "Watermark Presence Prob.: 0.5833333333333334\n",
      "caption : a blue and yellow bus diving down a somewhat busy road \n",
      "Watermark Presence Prob.: 0.5625\n",
      "caption : Bus driving passengers downtown on a rainy day\n",
      "Watermark Presence Prob.: 0.5208333333333334\n",
      "---------- Count = 194 : Visual Paraphrasing for the watermarked version of 218956-------------\n",
      "\n",
      "Image name :  Image_218956.jpg\n",
      "Image id : 218956\n"
     ]
    },
    {
     "data": {
      "application/vnd.jupyter.widget-view+json": {
       "model_id": "57837e8970f548c48dc00963e787f838",
       "version_major": 2,
       "version_minor": 0
      },
      "text/plain": [
       "  0%|          | 0/5 [00:00<?, ?it/s]"
      ]
     },
     "metadata": {},
     "output_type": "display_data"
    },
    {
     "name": "stdout",
     "output_type": "stream",
     "text": [
      "Saving generated images at /raid/home/ashhar21137/watermarking3/stable_signature/ss_paraphrase_0.15/218956\n",
      "Generated Image saved to /raid/home/ashhar21137/watermarking3/stable_signature/ss_paraphrase_0.15/218956/218956_gen_0.png\n",
      "Generated Image saved to /raid/home/ashhar21137/watermarking3/stable_signature/ss_paraphrase_0.15/218956/218956_gen_1.png\n",
      "Generated Image saved to /raid/home/ashhar21137/watermarking3/stable_signature/ss_paraphrase_0.15/218956/218956_gen_2.png\n",
      "Generated Image saved to /raid/home/ashhar21137/watermarking3/stable_signature/ss_paraphrase_0.15/218956/218956_gen_3.png\n",
      "Generated Image saved to /raid/home/ashhar21137/watermarking3/stable_signature/ss_paraphrase_0.15/218956/218956_gen_4.png\n",
      "Generated Image saved to /raid/home/ashhar21137/watermarking3/stable_signature/ss_paraphrase_0.15/218956/218956_gen_5.png\n",
      "\n",
      "Number of images generated :  6\n",
      "\n",
      "********** Watermark detection for generated images ***************\n",
      "caption : A man standing in front of a white toilet in a restroom.\n",
      "Watermark Presence Prob.: 0.5625\n",
      "caption : Guy in hoodie peeing in a bathroom toilet\n",
      "Watermark Presence Prob.: 0.5208333333333334\n",
      "caption : A man is standing in front of a toilet.\n",
      "Watermark Presence Prob.: 0.4583333333333333\n",
      "caption : A MAN PEEING IN THE TOILET WITH SOME NOTE WRITTEN IN FRONT OF HIM.\n",
      "Watermark Presence Prob.: 0.4791666666666667\n",
      "caption : A man wearing a purple hoodie urinating in a dirty restroom. \n",
      "Watermark Presence Prob.: 0.5416666666666666\n",
      "caption : A man is urinating in an unfinished restroom.\n"
     ]
    },
    {
     "name": "stderr",
     "output_type": "stream",
     "text": [
      " 97%|█████████▋| 194/200 [07:01<00:15,  2.56s/it]"
     ]
    },
    {
     "name": "stdout",
     "output_type": "stream",
     "text": [
      "Watermark Presence Prob.: 0.4791666666666667\n",
      "---------- Count = 195 : Visual Paraphrasing for the watermarked version of 147170-------------\n",
      "\n",
      "Image name :  Image_147170.jpg\n",
      "Image id : 147170\n"
     ]
    },
    {
     "data": {
      "application/vnd.jupyter.widget-view+json": {
       "model_id": "21fe4f1c075c4504965552d9570c9bbc",
       "version_major": 2,
       "version_minor": 0
      },
      "text/plain": [
       "  0%|          | 0/5 [00:00<?, ?it/s]"
      ]
     },
     "metadata": {},
     "output_type": "display_data"
    },
    {
     "name": "stdout",
     "output_type": "stream",
     "text": [
      "Saving generated images at /raid/home/ashhar21137/watermarking3/stable_signature/ss_paraphrase_0.15/147170\n",
      "Generated Image saved to /raid/home/ashhar21137/watermarking3/stable_signature/ss_paraphrase_0.15/147170/147170_gen_0.png\n",
      "Generated Image saved to /raid/home/ashhar21137/watermarking3/stable_signature/ss_paraphrase_0.15/147170/147170_gen_1.png\n",
      "Generated Image saved to /raid/home/ashhar21137/watermarking3/stable_signature/ss_paraphrase_0.15/147170/147170_gen_2.png\n",
      "Generated Image saved to /raid/home/ashhar21137/watermarking3/stable_signature/ss_paraphrase_0.15/147170/147170_gen_3.png\n",
      "Generated Image saved to /raid/home/ashhar21137/watermarking3/stable_signature/ss_paraphrase_0.15/147170/147170_gen_4.png\n",
      "\n",
      "Number of images generated :  5\n",
      "\n",
      "********** Watermark detection for generated images ***************\n",
      "caption : A jet flying through the air on a clear day.\n",
      "Watermark Presence Prob.: 0.6041666666666666\n",
      "caption : a air plane flies through the open blue sky \n",
      "Watermark Presence Prob.: 0.6041666666666666\n",
      "caption : A camouflage painted military fighter plane flying in the sky.\n",
      "Watermark Presence Prob.: 0.6041666666666666\n",
      "caption : Military plane hovering in the sky and clouds\n"
     ]
    },
    {
     "name": "stderr",
     "output_type": "stream",
     "text": [
      " 98%|█████████▊| 195/200 [07:04<00:12,  2.56s/it]"
     ]
    },
    {
     "name": "stdout",
     "output_type": "stream",
     "text": [
      "Watermark Presence Prob.: 0.6041666666666666\n",
      "caption : A jet flying on its side in the bright blue sky. \n",
      "Watermark Presence Prob.: 0.625\n",
      "---------- Count = 196 : Visual Paraphrasing for the watermarked version of 283524-------------\n",
      "\n",
      "Image name :  Image_283524.jpg\n",
      "Image id : 283524\n"
     ]
    },
    {
     "data": {
      "application/vnd.jupyter.widget-view+json": {
       "model_id": "17f02ed623eb43149463513399d4d976",
       "version_major": 2,
       "version_minor": 0
      },
      "text/plain": [
       "  0%|          | 0/5 [00:00<?, ?it/s]"
      ]
     },
     "metadata": {},
     "output_type": "display_data"
    },
    {
     "name": "stdout",
     "output_type": "stream",
     "text": [
      "Saving generated images at /raid/home/ashhar21137/watermarking3/stable_signature/ss_paraphrase_0.15/283524\n",
      "Generated Image saved to /raid/home/ashhar21137/watermarking3/stable_signature/ss_paraphrase_0.15/283524/283524_gen_0.png\n",
      "Generated Image saved to /raid/home/ashhar21137/watermarking3/stable_signature/ss_paraphrase_0.15/283524/283524_gen_1.png\n",
      "Generated Image saved to /raid/home/ashhar21137/watermarking3/stable_signature/ss_paraphrase_0.15/283524/283524_gen_2.png\n",
      "Generated Image saved to /raid/home/ashhar21137/watermarking3/stable_signature/ss_paraphrase_0.15/283524/283524_gen_3.png\n",
      "Generated Image saved to /raid/home/ashhar21137/watermarking3/stable_signature/ss_paraphrase_0.15/283524/283524_gen_4.png\n",
      "\n",
      "Number of images generated :  5\n",
      "\n",
      "********** Watermark detection for generated images ***************\n",
      "caption : a man cutting up vegetables on top of a food cart.\n"
     ]
    },
    {
     "name": "stderr",
     "output_type": "stream",
     "text": [
      " 98%|█████████▊| 196/200 [07:05<00:09,  2.37s/it]"
     ]
    },
    {
     "name": "stdout",
     "output_type": "stream",
     "text": [
      "Watermark Presence Prob.: 0.5416666666666666\n",
      "caption : A man cutting up scallions at an outdoor table \n",
      "Watermark Presence Prob.: 0.5\n",
      "caption : A man chopping vegetables on a white board.\n",
      "Watermark Presence Prob.: 0.5833333333333334\n",
      "caption : A man stands as he cuts up some vegetables.\n",
      "Watermark Presence Prob.: 0.5416666666666666\n",
      "caption : A man stands with a knife and onions in front of a garage.\n",
      "Watermark Presence Prob.: 0.6041666666666666\n",
      "---------- Count = 197 : Visual Paraphrasing for the watermarked version of 37015-------------\n",
      "\n",
      "Image name :  Image_37015.jpg\n",
      "Image id : 37015\n"
     ]
    },
    {
     "data": {
      "application/vnd.jupyter.widget-view+json": {
       "model_id": "998f3d0c997049fbaf9a33d1d9acce36",
       "version_major": 2,
       "version_minor": 0
      },
      "text/plain": [
       "  0%|          | 0/5 [00:00<?, ?it/s]"
      ]
     },
     "metadata": {},
     "output_type": "display_data"
    },
    {
     "name": "stdout",
     "output_type": "stream",
     "text": [
      "Saving generated images at /raid/home/ashhar21137/watermarking3/stable_signature/ss_paraphrase_0.15/37015\n",
      "Generated Image saved to /raid/home/ashhar21137/watermarking3/stable_signature/ss_paraphrase_0.15/37015/37015_gen_0.png\n",
      "Generated Image saved to /raid/home/ashhar21137/watermarking3/stable_signature/ss_paraphrase_0.15/37015/37015_gen_1.png\n",
      "Generated Image saved to /raid/home/ashhar21137/watermarking3/stable_signature/ss_paraphrase_0.15/37015/37015_gen_2.png\n",
      "Generated Image saved to /raid/home/ashhar21137/watermarking3/stable_signature/ss_paraphrase_0.15/37015/37015_gen_3.png\n",
      "Generated Image saved to /raid/home/ashhar21137/watermarking3/stable_signature/ss_paraphrase_0.15/37015/37015_gen_4.png\n",
      "\n",
      "Number of images generated :  5\n",
      "\n",
      "********** Watermark detection for generated images ***************\n",
      "caption : Chefs are preparing food at a restaurant as patrons exit.\n",
      "Watermark Presence Prob.: 0.5\n",
      "caption : A chef is cooking at the counter in front of a restaurant.\n",
      "Watermark Presence Prob.: 0.5208333333333334\n",
      "caption : The view shows two young people and  a woman leaving an elaborate entry way that includes a curved wall and window, revealing chefs at work,\n",
      "Watermark Presence Prob.: 0.4583333333333333\n",
      "caption : a restaurant that features a window to see the chefs cooking. \n"
     ]
    },
    {
     "name": "stderr",
     "output_type": "stream",
     "text": [
      " 98%|█████████▊| 197/200 [07:08<00:07,  2.43s/it]"
     ]
    },
    {
     "name": "stdout",
     "output_type": "stream",
     "text": [
      "Watermark Presence Prob.: 0.4166666666666667\n",
      "caption : Several people walking outside of an Asian restaurant.\n",
      "Watermark Presence Prob.: 0.5208333333333334\n",
      "---------- Count = 198 : Visual Paraphrasing for the watermarked version of 213546-------------\n",
      "\n",
      "Image name :  Image_213546.jpg\n",
      "Image id : 213546\n"
     ]
    },
    {
     "data": {
      "application/vnd.jupyter.widget-view+json": {
       "model_id": "9a4d5f037d794ddb9d79a529810a8299",
       "version_major": 2,
       "version_minor": 0
      },
      "text/plain": [
       "  0%|          | 0/5 [00:00<?, ?it/s]"
      ]
     },
     "metadata": {},
     "output_type": "display_data"
    },
    {
     "name": "stdout",
     "output_type": "stream",
     "text": [
      "Saving generated images at /raid/home/ashhar21137/watermarking3/stable_signature/ss_paraphrase_0.15/213546\n",
      "Generated Image saved to /raid/home/ashhar21137/watermarking3/stable_signature/ss_paraphrase_0.15/213546/213546_gen_0.png\n",
      "Generated Image saved to /raid/home/ashhar21137/watermarking3/stable_signature/ss_paraphrase_0.15/213546/213546_gen_1.png\n",
      "Generated Image saved to /raid/home/ashhar21137/watermarking3/stable_signature/ss_paraphrase_0.15/213546/213546_gen_2.png\n",
      "Generated Image saved to /raid/home/ashhar21137/watermarking3/stable_signature/ss_paraphrase_0.15/213546/213546_gen_3.png\n",
      "Generated Image saved to /raid/home/ashhar21137/watermarking3/stable_signature/ss_paraphrase_0.15/213546/213546_gen_4.png\n",
      "\n",
      "Number of images generated :  5\n",
      "\n",
      "********** Watermark detection for generated images ***************\n",
      "caption : A mirrored bathroom features duel, white porcelain sinks and silver faucets. \n",
      "Watermark Presence Prob.: 0.4583333333333333\n",
      "caption : A white bathroom sink surrounded by mirrors and lights.\n",
      "Watermark Presence Prob.: 0.5\n",
      "caption : A gray bathroom is lit up to show to sinks.\n",
      "Watermark Presence Prob.: 0.4791666666666667\n",
      "caption : A bathroom with a sink, mirror and garbage can. \n"
     ]
    },
    {
     "name": "stderr",
     "output_type": "stream",
     "text": [
      " 99%|█████████▉| 198/200 [07:10<00:04,  2.37s/it]"
     ]
    },
    {
     "name": "stdout",
     "output_type": "stream",
     "text": [
      "Watermark Presence Prob.: 0.4583333333333333\n",
      "caption : The reflection of the bathroom sink in a mirror\n",
      "Watermark Presence Prob.: 0.5\n",
      "---------- Count = 199 : Visual Paraphrasing for the watermarked version of 528906-------------\n",
      "\n",
      "Image name :  Image_528906.jpg\n",
      "Image id : 528906\n"
     ]
    },
    {
     "data": {
      "application/vnd.jupyter.widget-view+json": {
       "model_id": "b9c486c821e843768ef7cf1bd83763b9",
       "version_major": 2,
       "version_minor": 0
      },
      "text/plain": [
       "  0%|          | 0/5 [00:00<?, ?it/s]"
      ]
     },
     "metadata": {},
     "output_type": "display_data"
    },
    {
     "name": "stdout",
     "output_type": "stream",
     "text": [
      "Saving generated images at /raid/home/ashhar21137/watermarking3/stable_signature/ss_paraphrase_0.15/528906\n",
      "Generated Image saved to /raid/home/ashhar21137/watermarking3/stable_signature/ss_paraphrase_0.15/528906/528906_gen_0.png\n",
      "Generated Image saved to /raid/home/ashhar21137/watermarking3/stable_signature/ss_paraphrase_0.15/528906/528906_gen_1.png\n",
      "Generated Image saved to /raid/home/ashhar21137/watermarking3/stable_signature/ss_paraphrase_0.15/528906/528906_gen_2.png\n",
      "Generated Image saved to /raid/home/ashhar21137/watermarking3/stable_signature/ss_paraphrase_0.15/528906/528906_gen_3.png\n",
      "Generated Image saved to /raid/home/ashhar21137/watermarking3/stable_signature/ss_paraphrase_0.15/528906/528906_gen_4.png\n",
      "\n",
      "Number of images generated :  5\n",
      "\n",
      "********** Watermark detection for generated images ***************\n",
      "caption : A group of police officers standing next to motorcycles and a woman.\n",
      "Watermark Presence Prob.: 0.5\n",
      "caption : A view of a bunch of bike cops standing around for picture.\n"
     ]
    },
    {
     "name": "stderr",
     "output_type": "stream",
     "text": [
      "100%|█████████▉| 199/200 [07:12<00:02,  2.30s/it]"
     ]
    },
    {
     "name": "stdout",
     "output_type": "stream",
     "text": [
      "Watermark Presence Prob.: 0.4791666666666667\n",
      "caption : police officers in uniforms standing on a strait line\n",
      "Watermark Presence Prob.: 0.4791666666666667\n",
      "caption : Several police officer lined up in front of motorcycles.\n",
      "Watermark Presence Prob.: 0.4791666666666667\n",
      "caption : a line of police men  that are posing for a picture\n",
      "Watermark Presence Prob.: 0.4583333333333333\n",
      "---------- Count = 200 : Visual Paraphrasing for the watermarked version of 454325-------------\n",
      "\n",
      "Image name :  Image_454325.jpg\n",
      "Image id : 454325\n"
     ]
    },
    {
     "data": {
      "application/vnd.jupyter.widget-view+json": {
       "model_id": "a59ec147b09c4ec7b1215f3a0ac30a0e",
       "version_major": 2,
       "version_minor": 0
      },
      "text/plain": [
       "  0%|          | 0/5 [00:00<?, ?it/s]"
      ]
     },
     "metadata": {},
     "output_type": "display_data"
    },
    {
     "name": "stdout",
     "output_type": "stream",
     "text": [
      "Saving generated images at /raid/home/ashhar21137/watermarking3/stable_signature/ss_paraphrase_0.15/454325\n",
      "Generated Image saved to /raid/home/ashhar21137/watermarking3/stable_signature/ss_paraphrase_0.15/454325/454325_gen_0.png\n",
      "Generated Image saved to /raid/home/ashhar21137/watermarking3/stable_signature/ss_paraphrase_0.15/454325/454325_gen_1.png\n",
      "Generated Image saved to /raid/home/ashhar21137/watermarking3/stable_signature/ss_paraphrase_0.15/454325/454325_gen_2.png\n",
      "Generated Image saved to /raid/home/ashhar21137/watermarking3/stable_signature/ss_paraphrase_0.15/454325/454325_gen_3.png\n",
      "Generated Image saved to /raid/home/ashhar21137/watermarking3/stable_signature/ss_paraphrase_0.15/454325/454325_gen_4.png\n",
      "\n",
      "Number of images generated :  5\n",
      "\n",
      "********** Watermark detection for generated images ***************\n",
      "caption : A modern restroom is equipped with fashionable sinks and urinals surrounded by architectural subway tile.\n",
      "Watermark Presence Prob.: 0.6041666666666666\n",
      "caption : a bathroom with urinals sinks and towel dispensers\n",
      "Watermark Presence Prob.: 0.6041666666666666\n",
      "caption : Sinks and urinals with unconventional placement in a public restroom.\n",
      "Watermark Presence Prob.: 0.6041666666666666\n",
      "caption : A couple of urinals mounted to a wall in a restroom.\n",
      "Watermark Presence Prob.: 0.625\n",
      "caption : A bathroom with two urinals directly below the sinks.\n"
     ]
    },
    {
     "name": "stderr",
     "output_type": "stream",
     "text": [
      "100%|██████████| 200/200 [07:15<00:00,  2.18s/it]"
     ]
    },
    {
     "name": "stdout",
     "output_type": "stream",
     "text": [
      "Watermark Presence Prob.: 0.625\n"
     ]
    },
    {
     "name": "stderr",
     "output_type": "stream",
     "text": [
      "\n"
     ]
    }
   ],
   "source": [
    "count = 1\n",
    "for i in tqdm(range(len(wmis))) :\n",
    "\n",
    "    # if count > 5 : break \n",
    "\n",
    "    print(f\"---------- Count = {count} : Visual Paraphrasing for the watermarked version of {img_ids[i]}-------------\")\n",
    "    print()\n",
    "\n",
    "    # print(f\"records_512_st_0.35/{img_ids[0]}.txt\")\n",
    "    print(\"Image name : \",wmis[i])\n",
    "    \n",
    "    id = re.split('[_.]',wmis[i])[1]\n",
    "\n",
    "    print(\"Image id :\",id)\n",
    "    # print(\"Image id : \",img_ids[i])\n",
    "\n",
    "    paraphrase_detection[id][\"name\"] = wmis[i]\n",
    "\n",
    "    captions = new['annotations'][id]\n",
    "\n",
    "\n",
    "    post_img = os.path.join(img_dir,wmis[i]) # watermarked image path \n",
    "    image = Image.open(post_img)\n",
    "    # init_image = load_image(image)\n",
    "    init_image = image\n",
    "\n",
    "    gen_image = pipeline(captions, image=init_image, strength=0.1, guidance_scale=7.5).images\n",
    "    \n",
    "    # image\n",
    "    # make_image_grid([init_image, image], rows=2, cols=2)\n",
    "\n",
    "    directory =  f'{save_dir}/{id}'\n",
    "    print(f\"Saving generated images at {directory}\")\n",
    "    if not os.path.exists(directory):\n",
    "        os.makedirs(directory)\n",
    "\n",
    "    for k in range(len(gen_image)) :\n",
    "        gen_save_dir = os.path.join(directory,f'{id}_gen_{k}.png')\n",
    "        gen_image[k].save(gen_save_dir)\n",
    "        print(f\"Generated Image saved to {gen_save_dir}\")\n",
    "\n",
    "    # is_watermarked\n",
    "    num_images = len(gen_image) # 5 images generated from 5 captions for each input image\n",
    "    print()\n",
    "    print(\"Number of images generated : \",num_images)\n",
    "    # print(\"********** Watermark detection for generated images without Captions ***************\")     \n",
    "\n",
    "    # avg_no_prompt = 0 \n",
    "    # num_detected = 0 \n",
    "    # for j in range(num_images):\n",
    "    #     post_img = os.path.join(directory,f'{id}_gen_{j}.png')\n",
    "    #     tester_prompt = '' # assume at the detection time, the original prompt is unknown\n",
    "    #     text_embeddings = pipe.get_text_embedding(tester_prompt)\n",
    "    #     det_prob = 1 - watermark_prob(post_img, pipe, wm_pipe, text_embeddings)\n",
    "        \n",
    "    #     avg_no_prompt = avg_no_prompt + det_prob\n",
    "    #     num_detected = num_detected = (det_prob>0.9)\n",
    "        \n",
    "    #     # logging.info(f'Watermark Presence Prob.: {det_prob}')\n",
    "    #     print(f'Watermark Presence Prob.: {det_prob}')\n",
    "\n",
    "    # paraphrase_detection[id][\"without_captions_avg_det_prob\"] = avg_no_prompt/num_images\n",
    "    # paraphrase_detection[id][\"without_captions_det_rate\"] = num_detected/num_images\n",
    "\n",
    "\n",
    "    avg_with_prompt = 0 \n",
    "    num_detected = 0\n",
    "\n",
    "\n",
    "    print()\n",
    "    print(\"********** Watermark detection for generated images ***************\")  \n",
    "\n",
    "    for j in range(num_images):\n",
    "        post_img = os.path.join(directory, f'{id}_gen_{j}.png')\n",
    "        # tester_prompt = '' # assume at the detection time, the original prompt is unknown\n",
    "        print(f\"caption : {captions[j]}\")\n",
    "\n",
    "        # Load the image\n",
    "        img = Image.open(post_img).convert('RGB')\n",
    "        img = img.resize((512, 512), Image.BICUBIC)\n",
    "        img_pt = default_transform(img).unsqueeze(0).to(device)\n",
    "        \n",
    "        # Decode the watermark\n",
    "        ft = decoder(img_pt)\n",
    "        decoded_msg = ft > 0  # b k -> b k\n",
    "        \n",
    "        # Assume you have the original message or compute its bit accuracy\n",
    "        msg_ori = torch.Tensor(str2msg(\"111010110101000001010111010011010100010000100111\")).unsqueeze(0).to(device)  # Example message\n",
    "        accs = (~torch.logical_xor(decoded_msg, msg_ori))  # b k -> b k\n",
    "        bit_accuracy = accs.sum().item() / params.num_bits\n",
    "\n",
    "        # print(f\"Message: {msg2str(msg_ori.squeeze(0).cpu().numpy())}\")\n",
    "        # print(f\"Decoded: {msg2str(decoded_msg.squeeze(0).cpu().numpy())}\")\n",
    "        # print(f\"Bit Accuracy: {bit_accuracy}\")\n",
    "        \n",
    "        detection_result = 1 if bit_accuracy > 0.90 else 0\n",
    "        avg_with_prompt = avg_with_prompt + bit_accuracy\n",
    "        num_detected = num_detected + detection_result\n",
    "\n",
    "        print(f'Watermark Presence Prob.: {bit_accuracy}')    \n",
    "        paraphrase_detection[id][\"avg_det_prob\"] = avg_with_prompt/num_images\n",
    "        paraphrase_detection[id][\"avg_det_rate\"] = num_detected/num_images\n",
    "\n",
    "    # break\n",
    "    count = count + 1  \n"
   ]
  },
  {
   "cell_type": "code",
   "execution_count": 31,
   "metadata": {},
   "outputs": [
    {
     "data": {
      "text/plain": [
       "defaultdict(<function __main__.<lambda>()>,\n",
       "            {'79481': defaultdict(dict,\n",
       "                         {'name': 'Image_79481.jpg',\n",
       "                          'avg_det_prob': 0.5208333333333333,\n",
       "                          'avg_det_rate': 0.0}),\n",
       "             '96557': defaultdict(dict,\n",
       "                         {'name': 'Image_96557.jpg',\n",
       "                          'avg_det_prob': 0.5041666666666667,\n",
       "                          'avg_det_rate': 0.0}),\n",
       "             '280260': defaultdict(dict,\n",
       "                         {'name': 'Image_280260.jpg',\n",
       "                          'avg_det_prob': 0.5166666666666667,\n",
       "                          'avg_det_rate': 0.0}),\n",
       "             '62279': defaultdict(dict,\n",
       "                         {'name': 'Image_62279.jpg',\n",
       "                          'avg_det_prob': 0.5958333333333333,\n",
       "                          'avg_det_rate': 0.0}),\n",
       "             '170558': defaultdict(dict,\n",
       "                         {'name': 'Image_170558.jpg',\n",
       "                          'avg_det_prob': 0.4916666666666667,\n",
       "                          'avg_det_rate': 0.0}),\n",
       "             '215481': defaultdict(dict,\n",
       "                         {'name': 'Image_215481.jpg',\n",
       "                          'avg_det_prob': 0.5333333333333333,\n",
       "                          'avg_det_rate': 0.0}),\n",
       "             '520208': defaultdict(dict,\n",
       "                         {'name': 'Image_520208.jpg',\n",
       "                          'avg_det_prob': 0.6208333333333333,\n",
       "                          'avg_det_rate': 0.0}),\n",
       "             '95989': defaultdict(dict,\n",
       "                         {'name': 'Image_95989.jpg',\n",
       "                          'avg_det_prob': 0.4208333333333333,\n",
       "                          'avg_det_rate': 0.0}),\n",
       "             '504616': defaultdict(dict,\n",
       "                         {'name': 'Image_504616.jpg',\n",
       "                          'avg_det_prob': 0.5583333333333333,\n",
       "                          'avg_det_rate': 0.0}),\n",
       "             '309322': defaultdict(dict,\n",
       "                         {'name': 'Image_309322.jpg',\n",
       "                          'avg_det_prob': 0.5375000000000001,\n",
       "                          'avg_det_rate': 0.0}),\n",
       "             '239728': defaultdict(dict,\n",
       "                         {'name': 'Image_239728.jpg',\n",
       "                          'avg_det_prob': 0.5291666666666667,\n",
       "                          'avg_det_rate': 0.0}),\n",
       "             '341550': defaultdict(dict,\n",
       "                         {'name': 'Image_341550.jpg',\n",
       "                          'avg_det_prob': 0.5416666666666666,\n",
       "                          'avg_det_rate': 0.0}),\n",
       "             '405613': defaultdict(dict,\n",
       "                         {'name': 'Image_405613.jpg',\n",
       "                          'avg_det_prob': 0.6,\n",
       "                          'avg_det_rate': 0.0}),\n",
       "             '441488': defaultdict(dict,\n",
       "                         {'name': 'Image_441488.jpg',\n",
       "                          'avg_det_prob': 0.5,\n",
       "                          'avg_det_rate': 0.0}),\n",
       "             '420721': defaultdict(dict,\n",
       "                         {'name': 'Image_420721.jpg',\n",
       "                          'avg_det_prob': 0.5666666666666667,\n",
       "                          'avg_det_rate': 0.0}),\n",
       "             '18885': defaultdict(dict,\n",
       "                         {'name': 'Image_18885.jpg',\n",
       "                          'avg_det_prob': 0.4875,\n",
       "                          'avg_det_rate': 0.0}),\n",
       "             '399956': defaultdict(dict,\n",
       "                         {'name': 'Image_399956.jpg',\n",
       "                          'avg_det_prob': 0.5041666666666667,\n",
       "                          'avg_det_rate': 0.0}),\n",
       "             '93785': defaultdict(dict,\n",
       "                         {'name': 'Image_93785.jpg',\n",
       "                          'avg_det_prob': 0.5708333333333333,\n",
       "                          'avg_det_rate': 0.0}),\n",
       "             '570246': defaultdict(dict,\n",
       "                         {'name': 'Image_570246.jpg',\n",
       "                          'avg_det_prob': 0.5625,\n",
       "                          'avg_det_rate': 0.0}),\n",
       "             '262845': defaultdict(dict,\n",
       "                         {'name': 'Image_262845.jpg',\n",
       "                          'avg_det_prob': 0.5291666666666666,\n",
       "                          'avg_det_rate': 0.0}),\n",
       "             '49183': defaultdict(dict,\n",
       "                         {'name': 'Image_49183.jpg',\n",
       "                          'avg_det_prob': 0.6,\n",
       "                          'avg_det_rate': 0.0}),\n",
       "             '142088': defaultdict(dict,\n",
       "                         {'name': 'Image_142088.jpg',\n",
       "                          'avg_det_prob': 0.4333333333333333,\n",
       "                          'avg_det_rate': 0.0}),\n",
       "             '394326': defaultdict(dict,\n",
       "                         {'name': 'Image_394326.jpg',\n",
       "                          'avg_det_prob': 0.5,\n",
       "                          'avg_det_rate': 0.0}),\n",
       "             '524068': defaultdict(dict,\n",
       "                         {'name': 'Image_524068.jpg',\n",
       "                          'avg_det_prob': 0.5083333333333334,\n",
       "                          'avg_det_rate': 0.0}),\n",
       "             '352884': defaultdict(dict,\n",
       "                         {'name': 'Image_352884.jpg',\n",
       "                          'avg_det_prob': 0.5625,\n",
       "                          'avg_det_rate': 0.0}),\n",
       "             '199628': defaultdict(dict,\n",
       "                         {'name': 'Image_199628.jpg',\n",
       "                          'avg_det_prob': 0.6,\n",
       "                          'avg_det_rate': 0.0}),\n",
       "             '160559': defaultdict(dict,\n",
       "                         {'name': 'Image_160559.jpg',\n",
       "                          'avg_det_prob': 0.5583333333333333,\n",
       "                          'avg_det_rate': 0.0}),\n",
       "             '57870': defaultdict(dict,\n",
       "                         {'name': 'Image_57870.jpg',\n",
       "                          'avg_det_prob': 0.55,\n",
       "                          'avg_det_rate': 0.0}),\n",
       "             '398494': defaultdict(dict,\n",
       "                         {'name': 'Image_398494.jpg',\n",
       "                          'avg_det_prob': 0.4541666666666667,\n",
       "                          'avg_det_rate': 0.0}),\n",
       "             '241364': defaultdict(dict,\n",
       "                         {'name': 'Image_241364.jpg',\n",
       "                          'avg_det_prob': 0.575,\n",
       "                          'avg_det_rate': 0.0}),\n",
       "             '84427': defaultdict(dict,\n",
       "                         {'name': 'Image_84427.jpg',\n",
       "                          'avg_det_prob': 0.4875,\n",
       "                          'avg_det_rate': 0.0}),\n",
       "             '393493': defaultdict(dict,\n",
       "                         {'name': 'Image_393493.jpg',\n",
       "                          'avg_det_prob': 0.5125,\n",
       "                          'avg_det_rate': 0.0}),\n",
       "             '483008': defaultdict(dict,\n",
       "                         {'name': 'Image_483008.jpg',\n",
       "                          'avg_det_prob': 0.5,\n",
       "                          'avg_det_rate': 0.0}),\n",
       "             '469605': defaultdict(dict,\n",
       "                         {'name': 'Image_469605.jpg',\n",
       "                          'avg_det_prob': 0.4291666666666667,\n",
       "                          'avg_det_rate': 0.0}),\n",
       "             '348850': defaultdict(dict,\n",
       "                         {'name': 'Image_348850.jpg',\n",
       "                          'avg_det_prob': 0.5166666666666667,\n",
       "                          'avg_det_rate': 0.0}),\n",
       "             '387083': defaultdict(dict,\n",
       "                         {'name': 'Image_387083.jpg',\n",
       "                          'avg_det_prob': 0.6041666666666667,\n",
       "                          'avg_det_rate': 0.0}),\n",
       "             '77375': defaultdict(dict,\n",
       "                         {'name': 'Image_77375.jpg',\n",
       "                          'avg_det_prob': 0.5125,\n",
       "                          'avg_det_rate': 0.0}),\n",
       "             '122108': defaultdict(dict,\n",
       "                         {'name': 'Image_122108.jpg',\n",
       "                          'avg_det_prob': 0.5416666666666667,\n",
       "                          'avg_det_rate': 0.0}),\n",
       "             '540162': defaultdict(dict,\n",
       "                         {'name': 'Image_540162.jpg',\n",
       "                          'avg_det_prob': 0.5041666666666667,\n",
       "                          'avg_det_rate': 0.0}),\n",
       "             '19380': defaultdict(dict,\n",
       "                         {'name': 'Image_19380.jpg',\n",
       "                          'avg_det_prob': 0.5666666666666667,\n",
       "                          'avg_det_rate': 0.0}),\n",
       "             '44404': defaultdict(dict,\n",
       "                         {'name': 'Image_44404.jpg',\n",
       "                          'avg_det_prob': 0.6124999999999999,\n",
       "                          'avg_det_rate': 0.0}),\n",
       "             '345781': defaultdict(dict,\n",
       "                         {'name': 'Image_345781.jpg',\n",
       "                          'avg_det_prob': 0.55,\n",
       "                          'avg_det_rate': 0.0}),\n",
       "             '405207': defaultdict(dict,\n",
       "                         {'name': 'Image_405207.jpg',\n",
       "                          'avg_det_prob': 0.5458333333333333,\n",
       "                          'avg_det_rate': 0.0}),\n",
       "             '153946': defaultdict(dict,\n",
       "                         {'name': 'Image_153946.jpg',\n",
       "                          'avg_det_prob': 0.55,\n",
       "                          'avg_det_rate': 0.0}),\n",
       "             '457732': defaultdict(dict,\n",
       "                         {'name': 'Image_457732.jpg',\n",
       "                          'avg_det_prob': 0.4833333333333334,\n",
       "                          'avg_det_rate': 0.0}),\n",
       "             '153674': defaultdict(dict,\n",
       "                         {'name': 'Image_153674.jpg',\n",
       "                          'avg_det_prob': 0.5083333333333334,\n",
       "                          'avg_det_rate': 0.0}),\n",
       "             '472925': defaultdict(dict,\n",
       "                         {'name': 'Image_472925.jpg',\n",
       "                          'avg_det_prob': 0.5708333333333334,\n",
       "                          'avg_det_rate': 0.0}),\n",
       "             '388754': defaultdict(dict,\n",
       "                         {'name': 'Image_388754.jpg',\n",
       "                          'avg_det_prob': 0.5750000000000001,\n",
       "                          'avg_det_rate': 0.0}),\n",
       "             '170850': defaultdict(dict,\n",
       "                         {'name': 'Image_170850.jpg',\n",
       "                          'avg_det_prob': 0.5666666666666667,\n",
       "                          'avg_det_rate': 0.0}),\n",
       "             '384029': defaultdict(dict,\n",
       "                         {'name': 'Image_384029.jpg',\n",
       "                          'avg_det_prob': 0.5916666666666667,\n",
       "                          'avg_det_rate': 0.0}),\n",
       "             '62604': defaultdict(dict,\n",
       "                         {'name': 'Image_62604.jpg',\n",
       "                          'avg_det_prob': 0.5291666666666667,\n",
       "                          'avg_det_rate': 0.0}),\n",
       "             '570608': defaultdict(dict,\n",
       "                         {'name': 'Image_570608.jpg',\n",
       "                          'avg_det_prob': 0.55,\n",
       "                          'avg_det_rate': 0.0}),\n",
       "             '317237': defaultdict(dict,\n",
       "                         {'name': 'Image_317237.jpg',\n",
       "                          'avg_det_prob': 0.5583333333333333,\n",
       "                          'avg_det_rate': 0.0}),\n",
       "             '299411': defaultdict(dict,\n",
       "                         {'name': 'Image_299411.jpg',\n",
       "                          'avg_det_prob': 0.575,\n",
       "                          'avg_det_rate': 0.0}),\n",
       "             '109424': defaultdict(dict,\n",
       "                         {'name': 'Image_109424.jpg',\n",
       "                          'avg_det_prob': 0.4375,\n",
       "                          'avg_det_rate': 0.0}),\n",
       "             '581674': defaultdict(dict,\n",
       "                         {'name': 'Image_581674.jpg',\n",
       "                          'avg_det_prob': 0.4666666666666666,\n",
       "                          'avg_det_rate': 0.0}),\n",
       "             '239811': defaultdict(dict,\n",
       "                         {'name': 'Image_239811.jpg',\n",
       "                          'avg_det_prob': 0.4875,\n",
       "                          'avg_det_rate': 0.0}),\n",
       "             '318189': defaultdict(dict,\n",
       "                         {'name': 'Image_318189.jpg',\n",
       "                          'avg_det_prob': 0.5291666666666667,\n",
       "                          'avg_det_rate': 0.0}),\n",
       "             '278347': defaultdict(dict,\n",
       "                         {'name': 'Image_278347.jpg',\n",
       "                          'avg_det_prob': 0.4625,\n",
       "                          'avg_det_rate': 0.0}),\n",
       "             '90570': defaultdict(dict,\n",
       "                         {'name': 'Image_90570.jpg',\n",
       "                          'avg_det_prob': 0.5791666666666667,\n",
       "                          'avg_det_rate': 0.0}),\n",
       "             '374114': defaultdict(dict,\n",
       "                         {'name': 'Image_374114.jpg',\n",
       "                          'avg_det_prob': 0.6166666666666666,\n",
       "                          'avg_det_rate': 0.0}),\n",
       "             '505126': defaultdict(dict,\n",
       "                         {'name': 'Image_505126.jpg',\n",
       "                          'avg_det_prob': 0.6,\n",
       "                          'avg_det_rate': 0.0}),\n",
       "             '8649': defaultdict(dict,\n",
       "                         {'name': 'Image_8649.jpg',\n",
       "                          'avg_det_prob': 0.5708333333333333,\n",
       "                          'avg_det_rate': 0.0}),\n",
       "             '145179': defaultdict(dict,\n",
       "                         {'name': 'Image_145179.jpg',\n",
       "                          'avg_det_prob': 0.5416666666666667,\n",
       "                          'avg_det_rate': 0.0}),\n",
       "             '66514': defaultdict(dict,\n",
       "                         {'name': 'Image_66514.jpg',\n",
       "                          'avg_det_prob': 0.5791666666666667,\n",
       "                          'avg_det_rate': 0.0}),\n",
       "             '462559': defaultdict(dict,\n",
       "                         {'name': 'Image_462559.jpg',\n",
       "                          'avg_det_prob': 0.5125,\n",
       "                          'avg_det_rate': 0.0}),\n",
       "             '4428': defaultdict(dict,\n",
       "                         {'name': 'Image_4428.jpg',\n",
       "                          'avg_det_prob': 0.5791666666666667,\n",
       "                          'avg_det_rate': 0.0}),\n",
       "             '210932': defaultdict(dict,\n",
       "                         {'name': 'Image_210932.jpg',\n",
       "                          'avg_det_prob': 0.6083333333333334,\n",
       "                          'avg_det_rate': 0.0}),\n",
       "             '257350': defaultdict(dict,\n",
       "                         {'name': 'Image_257350.jpg',\n",
       "                          'avg_det_prob': 0.4541666666666666,\n",
       "                          'avg_det_rate': 0.0}),\n",
       "             '122688': defaultdict(dict,\n",
       "                         {'name': 'Image_122688.jpg',\n",
       "                          'avg_det_prob': 0.5791666666666667,\n",
       "                          'avg_det_rate': 0.0}),\n",
       "             '377694': defaultdict(dict,\n",
       "                         {'name': 'Image_377694.jpg',\n",
       "                          'avg_det_prob': 0.5333333333333333,\n",
       "                          'avg_det_rate': 0.0}),\n",
       "             '438422': defaultdict(dict,\n",
       "                         {'name': 'Image_438422.jpg',\n",
       "                          'avg_det_prob': 0.5625,\n",
       "                          'avg_det_rate': 0.0}),\n",
       "             '161919': defaultdict(dict,\n",
       "                         {'name': 'Image_161919.jpg',\n",
       "                          'avg_det_prob': 0.5583333333333333,\n",
       "                          'avg_det_rate': 0.0}),\n",
       "             '354444': defaultdict(dict,\n",
       "                         {'name': 'Image_354444.jpg',\n",
       "                          'avg_det_prob': 0.5583333333333333,\n",
       "                          'avg_det_rate': 0.0}),\n",
       "             '287541': defaultdict(dict,\n",
       "                         {'name': 'Image_287541.jpg',\n",
       "                          'avg_det_prob': 0.475,\n",
       "                          'avg_det_rate': 0.0}),\n",
       "             '556801': defaultdict(dict,\n",
       "                         {'name': 'Image_556801.jpg',\n",
       "                          'avg_det_prob': 0.6124999999999999,\n",
       "                          'avg_det_rate': 0.0}),\n",
       "             '186233': defaultdict(dict,\n",
       "                         {'name': 'Image_186233.jpg',\n",
       "                          'avg_det_prob': 0.55,\n",
       "                          'avg_det_rate': 0.0}),\n",
       "             '95133': defaultdict(dict,\n",
       "                         {'name': 'Image_95133.jpg',\n",
       "                          'avg_det_prob': 0.6375,\n",
       "                          'avg_det_rate': 0.0}),\n",
       "             '496939': defaultdict(dict,\n",
       "                         {'name': 'Image_496939.jpg',\n",
       "                          'avg_det_prob': 0.4416666666666666,\n",
       "                          'avg_det_rate': 0.0}),\n",
       "             '71631': defaultdict(dict,\n",
       "                         {'name': 'Image_71631.jpg',\n",
       "                          'avg_det_prob': 0.5125,\n",
       "                          'avg_det_rate': 0.0}),\n",
       "             '371029': defaultdict(dict,\n",
       "                         {'name': 'Image_371029.jpg',\n",
       "                          'avg_det_prob': 0.5125,\n",
       "                          'avg_det_rate': 0.0}),\n",
       "             '259446': defaultdict(dict,\n",
       "                         {'name': 'Image_259446.jpg',\n",
       "                          'avg_det_prob': 0.5208333333333333,\n",
       "                          'avg_det_rate': 0.0}),\n",
       "             '55627': defaultdict(dict,\n",
       "                         {'name': 'Image_55627.jpg',\n",
       "                          'avg_det_prob': 0.5708333333333334,\n",
       "                          'avg_det_rate': 0.0}),\n",
       "             '334080': defaultdict(dict,\n",
       "                         {'name': 'Image_334080.jpg',\n",
       "                          'avg_det_prob': 0.6458333333333333,\n",
       "                          'avg_det_rate': 0.0}),\n",
       "             '150867': defaultdict(dict,\n",
       "                         {'name': 'Image_150867.jpg',\n",
       "                          'avg_det_prob': 0.5333333333333333,\n",
       "                          'avg_det_rate': 0.0}),\n",
       "             '470072': defaultdict(dict,\n",
       "                         {'name': 'Image_470072.jpg',\n",
       "                          'avg_det_prob': 0.5,\n",
       "                          'avg_det_rate': 0.0}),\n",
       "             '181104': defaultdict(dict,\n",
       "                         {'name': 'Image_181104.jpg',\n",
       "                          'avg_det_prob': 0.5166666666666667,\n",
       "                          'avg_det_rate': 0.0}),\n",
       "             '559527': defaultdict(dict,\n",
       "                         {'name': 'Image_559527.jpg',\n",
       "                          'avg_det_prob': 0.5791666666666667,\n",
       "                          'avg_det_rate': 0.0}),\n",
       "             '209967': defaultdict(dict,\n",
       "                         {'name': 'Image_209967.jpg',\n",
       "                          'avg_det_prob': 0.6208333333333333,\n",
       "                          'avg_det_rate': 0.0}),\n",
       "             '444546': defaultdict(dict,\n",
       "                         {'name': 'Image_444546.jpg',\n",
       "                          'avg_det_prob': 0.475,\n",
       "                          'avg_det_rate': 0.0}),\n",
       "             '409513': defaultdict(dict,\n",
       "                         {'name': 'Image_409513.jpg',\n",
       "                          'avg_det_prob': 0.5333333333333334,\n",
       "                          'avg_det_rate': 0.0}),\n",
       "             '165499': defaultdict(dict,\n",
       "                         {'name': 'Image_165499.jpg',\n",
       "                          'avg_det_prob': 0.5666666666666667,\n",
       "                          'avg_det_rate': 0.0}),\n",
       "             '351430': defaultdict(dict,\n",
       "                         {'name': 'Image_351430.jpg',\n",
       "                          'avg_det_prob': 0.575,\n",
       "                          'avg_det_rate': 0.0}),\n",
       "             '36633': defaultdict(dict,\n",
       "                         {'name': 'Image_36633.jpg',\n",
       "                          'avg_det_prob': 0.5958333333333333,\n",
       "                          'avg_det_rate': 0.0}),\n",
       "             '147303': defaultdict(dict,\n",
       "                         {'name': 'Image_147303.jpg',\n",
       "                          'avg_det_prob': 0.5208333333333333,\n",
       "                          'avg_det_rate': 0.0}),\n",
       "             '474882': defaultdict(dict,\n",
       "                         {'name': 'Image_474882.jpg',\n",
       "                          'avg_det_prob': 0.5791666666666667,\n",
       "                          'avg_det_rate': 0.0}),\n",
       "             '318574': defaultdict(dict,\n",
       "                         {'name': 'Image_318574.jpg',\n",
       "                          'avg_det_prob': 0.5208333333333333,\n",
       "                          'avg_det_rate': 0.0}),\n",
       "             '222016': defaultdict(dict,\n",
       "                         {'name': 'Image_222016.jpg',\n",
       "                          'avg_det_prob': 0.5041666666666667,\n",
       "                          'avg_det_rate': 0.0}),\n",
       "             '236772': defaultdict(dict,\n",
       "                         {'name': 'Image_236772.jpg',\n",
       "                          'avg_det_prob': 0.5875,\n",
       "                          'avg_det_rate': 0.0}),\n",
       "             '486320': defaultdict(dict,\n",
       "                         {'name': 'Image_486320.jpg',\n",
       "                          'avg_det_prob': 0.5833333333333333,\n",
       "                          'avg_det_rate': 0.0}),\n",
       "             '551125': defaultdict(dict,\n",
       "                         {'name': 'Image_551125.jpg',\n",
       "                          'avg_det_prob': 0.6125,\n",
       "                          'avg_det_rate': 0.0}),\n",
       "             '70868': defaultdict(dict,\n",
       "                         {'name': 'Image_70868.jpg',\n",
       "                          'avg_det_prob': 0.5333333333333333,\n",
       "                          'avg_det_rate': 0.0}),\n",
       "             '378710': defaultdict(dict,\n",
       "                         {'name': 'Image_378710.jpg',\n",
       "                          'avg_det_prob': 0.5958333333333334,\n",
       "                          'avg_det_rate': 0.0}),\n",
       "             '536587': defaultdict(dict,\n",
       "                         {'name': 'Image_536587.jpg',\n",
       "                          'avg_det_prob': 0.5583333333333333,\n",
       "                          'avg_det_rate': 0.0}),\n",
       "             '167613': defaultdict(dict,\n",
       "                         {'name': 'Image_167613.jpg',\n",
       "                          'avg_det_prob': 0.6041666666666667,\n",
       "                          'avg_det_rate': 0.0}),\n",
       "             '392136': defaultdict(dict,\n",
       "                         {'name': 'Image_392136.jpg',\n",
       "                          'avg_det_prob': 0.4875,\n",
       "                          'avg_det_rate': 0.0}),\n",
       "             '287927': defaultdict(dict,\n",
       "                         {'name': 'Image_287927.jpg',\n",
       "                          'avg_det_prob': 0.55,\n",
       "                          'avg_det_rate': 0.0}),\n",
       "             '217306': defaultdict(dict,\n",
       "                         {'name': 'Image_217306.jpg',\n",
       "                          'avg_det_prob': 0.5333333333333333,\n",
       "                          'avg_det_rate': 0.0}),\n",
       "             '560459': defaultdict(dict,\n",
       "                         {'name': 'Image_560459.jpg',\n",
       "                          'avg_det_prob': 0.5125,\n",
       "                          'avg_det_rate': 0.0}),\n",
       "             '496283': defaultdict(dict,\n",
       "                         {'name': 'Image_496283.jpg',\n",
       "                          'avg_det_prob': 0.5833333333333333,\n",
       "                          'avg_det_rate': 0.0}),\n",
       "             '212091': defaultdict(dict,\n",
       "                         {'name': 'Image_212091.jpg',\n",
       "                          'avg_det_prob': 0.5249999999999999,\n",
       "                          'avg_det_rate': 0.0}),\n",
       "             '483751': defaultdict(dict,\n",
       "                         {'name': 'Image_483751.jpg',\n",
       "                          'avg_det_prob': 0.55,\n",
       "                          'avg_det_rate': 0.0}),\n",
       "             '223726': defaultdict(dict,\n",
       "                         {'name': 'Image_223726.jpg',\n",
       "                          'avg_det_prob': 0.5291666666666668,\n",
       "                          'avg_det_rate': 0.0}),\n",
       "             '560628': defaultdict(dict,\n",
       "                         {'name': 'Image_560628.jpg',\n",
       "                          'avg_det_prob': 0.5541666666666666,\n",
       "                          'avg_det_rate': 0.0}),\n",
       "             '108627': defaultdict(dict,\n",
       "                         {'name': 'Image_108627.jpg',\n",
       "                          'avg_det_prob': 0.5708333333333334,\n",
       "                          'avg_det_rate': 0.0}),\n",
       "             '246804': defaultdict(dict,\n",
       "                         {'name': 'Image_246804.jpg',\n",
       "                          'avg_det_prob': 0.5583333333333333,\n",
       "                          'avg_det_rate': 0.0}),\n",
       "             '365363': defaultdict(dict,\n",
       "                         {'name': 'Image_365363.jpg',\n",
       "                          'avg_det_prob': 0.5916666666666667,\n",
       "                          'avg_det_rate': 0.0}),\n",
       "             '64460': defaultdict(dict,\n",
       "                         {'name': 'Image_64460.jpg',\n",
       "                          'avg_det_prob': 0.5541666666666667,\n",
       "                          'avg_det_rate': 0.0}),\n",
       "             '225750': defaultdict(dict,\n",
       "                         {'name': 'Image_225750.jpg',\n",
       "                          'avg_det_prob': 0.5666666666666667,\n",
       "                          'avg_det_rate': 0.0}),\n",
       "             '446014': defaultdict(dict,\n",
       "                         {'name': 'Image_446014.jpg',\n",
       "                          'avg_det_prob': 0.5458333333333334,\n",
       "                          'avg_det_rate': 0.0}),\n",
       "             '157032': defaultdict(dict,\n",
       "                         {'name': 'Image_157032.jpg',\n",
       "                          'avg_det_prob': 0.5833333333333333,\n",
       "                          'avg_det_rate': 0.0}),\n",
       "             '96997': defaultdict(dict,\n",
       "                         {'name': 'Image_96997.jpg',\n",
       "                          'avg_det_prob': 0.4916666666666667,\n",
       "                          'avg_det_rate': 0.0}),\n",
       "             '302389': defaultdict(dict,\n",
       "                         {'name': 'Image_302389.jpg',\n",
       "                          'avg_det_prob': 0.5624999999999999,\n",
       "                          'avg_det_rate': 0.0}),\n",
       "             '574001': defaultdict(dict,\n",
       "                         {'name': 'Image_574001.jpg',\n",
       "                          'avg_det_prob': 0.6124999999999999,\n",
       "                          'avg_det_rate': 0.0}),\n",
       "             '525589': defaultdict(dict,\n",
       "                         {'name': 'Image_525589.jpg',\n",
       "                          'avg_det_prob': 0.4708333333333334,\n",
       "                          'avg_det_rate': 0.0}),\n",
       "             '280980': defaultdict(dict,\n",
       "                         {'name': 'Image_280980.jpg',\n",
       "                          'avg_det_prob': 0.5416666666666667,\n",
       "                          'avg_det_rate': 0.0}),\n",
       "             '316676': defaultdict(dict,\n",
       "                         {'name': 'Image_316676.jpg',\n",
       "                          'avg_det_prob': 0.5166666666666666,\n",
       "                          'avg_det_rate': 0.0}),\n",
       "             '412535': defaultdict(dict,\n",
       "                         {'name': 'Image_412535.jpg',\n",
       "                          'avg_det_prob': 0.6083333333333334,\n",
       "                          'avg_det_rate': 0.0}),\n",
       "             '445528': defaultdict(dict,\n",
       "                         {'name': 'Image_445528.jpg',\n",
       "                          'avg_det_prob': 0.5416666666666667,\n",
       "                          'avg_det_rate': 0.0}),\n",
       "             '576757': defaultdict(dict,\n",
       "                         {'name': 'Image_576757.jpg',\n",
       "                          'avg_det_prob': 0.5916666666666666,\n",
       "                          'avg_det_rate': 0.0}),\n",
       "             '313932': defaultdict(dict,\n",
       "                         {'name': 'Image_313932.jpg',\n",
       "                          'avg_det_prob': 0.525,\n",
       "                          'avg_det_rate': 0.0}),\n",
       "             '477797': defaultdict(dict,\n",
       "                         {'name': 'Image_477797.jpg',\n",
       "                          'avg_det_prob': 0.5625,\n",
       "                          'avg_det_rate': 0.0}),\n",
       "             '98760': defaultdict(dict,\n",
       "                         {'name': 'Image_98760.jpg',\n",
       "                          'avg_det_prob': 0.6124999999999999,\n",
       "                          'avg_det_rate': 0.0}),\n",
       "             '513541': defaultdict(dict,\n",
       "                         {'name': 'Image_513541.jpg',\n",
       "                          'avg_det_prob': 0.5750000000000001,\n",
       "                          'avg_det_rate': 0.0}),\n",
       "             '136461': defaultdict(dict,\n",
       "                         {'name': 'Image_136461.jpg',\n",
       "                          'avg_det_prob': 0.45,\n",
       "                          'avg_det_rate': 0.0}),\n",
       "             '85685': defaultdict(dict,\n",
       "                         {'name': 'Image_85685.jpg',\n",
       "                          'avg_det_prob': 0.5041666666666667,\n",
       "                          'avg_det_rate': 0.0}),\n",
       "             '356702': defaultdict(dict,\n",
       "                         {'name': 'Image_356702.jpg',\n",
       "                          'avg_det_prob': 0.6458333333333334,\n",
       "                          'avg_det_rate': 0.0}),\n",
       "             '424102': defaultdict(dict,\n",
       "                         {'name': 'Image_424102.jpg',\n",
       "                          'avg_det_prob': 0.575,\n",
       "                          'avg_det_rate': 0.0}),\n",
       "             '467311': defaultdict(dict,\n",
       "                         {'name': 'Image_467311.jpg',\n",
       "                          'avg_det_prob': 0.5291666666666667,\n",
       "                          'avg_det_rate': 0.0}),\n",
       "             '540988': defaultdict(dict,\n",
       "                         {'name': 'Image_540988.jpg',\n",
       "                          'avg_det_prob': 0.5625,\n",
       "                          'avg_det_rate': 0.0}),\n",
       "             '301778': defaultdict(dict,\n",
       "                         {'name': 'Image_301778.jpg',\n",
       "                          'avg_det_prob': 0.5833333333333333,\n",
       "                          'avg_det_rate': 0.0}),\n",
       "             '388911': defaultdict(dict,\n",
       "                         {'name': 'Image_388911.jpg',\n",
       "                          'avg_det_prob': 0.6041666666666666,\n",
       "                          'avg_det_rate': 0.0}),\n",
       "             '409382': defaultdict(dict,\n",
       "                         {'name': 'Image_409382.jpg',\n",
       "                          'avg_det_prob': 0.5791666666666667,\n",
       "                          'avg_det_rate': 0.0}),\n",
       "             '292835': defaultdict(dict,\n",
       "                         {'name': 'Image_292835.jpg',\n",
       "                          'avg_det_prob': 0.525,\n",
       "                          'avg_det_rate': 0.0}),\n",
       "             '311914': defaultdict(dict,\n",
       "                         {'name': 'Image_311914.jpg',\n",
       "                          'avg_det_prob': 0.5750000000000001,\n",
       "                          'avg_det_rate': 0.0}),\n",
       "             '492386': defaultdict(dict,\n",
       "                         {'name': 'Image_492386.jpg',\n",
       "                          'avg_det_prob': 0.5583333333333333,\n",
       "                          'avg_det_rate': 0.0}),\n",
       "             '69675': defaultdict(dict,\n",
       "                         {'name': 'Image_69675.jpg',\n",
       "                          'avg_det_prob': 0.5625,\n",
       "                          'avg_det_rate': 0.0}),\n",
       "             '189993': defaultdict(dict,\n",
       "                         {'name': 'Image_189993.jpg',\n",
       "                          'avg_det_prob': 0.5,\n",
       "                          'avg_det_rate': 0.0}),\n",
       "             '265709': defaultdict(dict,\n",
       "                         {'name': 'Image_265709.jpg',\n",
       "                          'avg_det_prob': 0.5875,\n",
       "                          'avg_det_rate': 0.0}),\n",
       "             '269829': defaultdict(dict,\n",
       "                         {'name': 'Image_269829.jpg',\n",
       "                          'avg_det_prob': 0.5458333333333333,\n",
       "                          'avg_det_rate': 0.0}),\n",
       "             '326511': defaultdict(dict,\n",
       "                         {'name': 'Image_326511.jpg',\n",
       "                          'avg_det_prob': 0.4958333333333333,\n",
       "                          'avg_det_rate': 0.0}),\n",
       "             '353139': defaultdict(dict,\n",
       "                         {'name': 'Image_353139.jpg',\n",
       "                          'avg_det_prob': 0.5125,\n",
       "                          'avg_det_rate': 0.0}),\n",
       "             '309093': defaultdict(dict,\n",
       "                         {'name': 'Image_309093.jpg',\n",
       "                          'avg_det_prob': 0.5208333333333333,\n",
       "                          'avg_det_rate': 0.0}),\n",
       "             '277854': defaultdict(dict,\n",
       "                         {'name': 'Image_277854.jpg',\n",
       "                          'avg_det_prob': 0.6041666666666666,\n",
       "                          'avg_det_rate': 0.0}),\n",
       "             '546451': defaultdict(dict,\n",
       "                         {'name': 'Image_546451.jpg',\n",
       "                          'avg_det_prob': 0.6083333333333333,\n",
       "                          'avg_det_rate': 0.0}),\n",
       "             '344806': defaultdict(dict,\n",
       "                         {'name': 'Image_344806.jpg',\n",
       "                          'avg_det_prob': 0.6041666666666666,\n",
       "                          'avg_det_rate': 0.0}),\n",
       "             '413746': defaultdict(dict,\n",
       "                         {'name': 'Image_413746.jpg',\n",
       "                          'avg_det_prob': 0.5041666666666667,\n",
       "                          'avg_det_rate': 0.0}),\n",
       "             '279108': defaultdict(dict,\n",
       "                         {'name': 'Image_279108.jpg',\n",
       "                          'avg_det_prob': 0.5333333333333334,\n",
       "                          'avg_det_rate': 0.0}),\n",
       "             '576801': defaultdict(dict,\n",
       "                         {'name': 'Image_576801.jpg',\n",
       "                          'avg_det_prob': 0.5791666666666667,\n",
       "                          'avg_det_rate': 0.0}),\n",
       "             '246446': defaultdict(dict,\n",
       "                         {'name': 'Image_246446.jpg',\n",
       "                          'avg_det_prob': 0.4458333333333333,\n",
       "                          'avg_det_rate': 0.0}),\n",
       "             '520950': defaultdict(dict,\n",
       "                         {'name': 'Image_520950.jpg',\n",
       "                          'avg_det_prob': 0.5625,\n",
       "                          'avg_det_rate': 0.0}),\n",
       "             '155845': defaultdict(dict,\n",
       "                         {'name': 'Image_155845.jpg',\n",
       "                          'avg_det_prob': 0.5958333333333333,\n",
       "                          'avg_det_rate': 0.0}),\n",
       "             '448698': defaultdict(dict,\n",
       "                         {'name': 'Image_448698.jpg',\n",
       "                          'avg_det_prob': 0.5583333333333333,\n",
       "                          'avg_det_rate': 0.0}),\n",
       "             '2024': defaultdict(dict,\n",
       "                         {'name': 'Image_2024.jpg',\n",
       "                          'avg_det_prob': 0.6083333333333333,\n",
       "                          'avg_det_rate': 0.0}),\n",
       "             '357684': defaultdict(dict,\n",
       "                         {'name': 'Image_357684.jpg',\n",
       "                          'avg_det_prob': 0.4416666666666667,\n",
       "                          'avg_det_rate': 0.0}),\n",
       "             '101418': defaultdict(dict,\n",
       "                         {'name': 'Image_101418.jpg',\n",
       "                          'avg_det_prob': 0.5208333333333334,\n",
       "                          'avg_det_rate': 0.0}),\n",
       "             '219025': defaultdict(dict,\n",
       "                         {'name': 'Image_219025.jpg',\n",
       "                          'avg_det_prob': 0.5,\n",
       "                          'avg_det_rate': 0.0}),\n",
       "             '547471': defaultdict(dict,\n",
       "                         {'name': 'Image_547471.jpg',\n",
       "                          'avg_det_prob': 0.5416666666666666,\n",
       "                          'avg_det_rate': 0.0}),\n",
       "             '70000': defaultdict(dict,\n",
       "                         {'name': 'Image_70000.jpg',\n",
       "                          'avg_det_prob': 0.4958333333333333,\n",
       "                          'avg_det_rate': 0.0}),\n",
       "             '289019': defaultdict(dict,\n",
       "                         {'name': 'Image_289019.jpg',\n",
       "                          'avg_det_prob': 0.5458333333333333,\n",
       "                          'avg_det_rate': 0.0}),\n",
       "             '270912': defaultdict(dict,\n",
       "                         {'name': 'Image_270912.jpg',\n",
       "                          'avg_det_prob': 0.475,\n",
       "                          'avg_det_rate': 0.0}),\n",
       "             '485894': defaultdict(dict,\n",
       "                         {'name': 'Image_485894.jpg',\n",
       "                          'avg_det_prob': 0.6333333333333333,\n",
       "                          'avg_det_rate': 0.0}),\n",
       "             '535786': defaultdict(dict,\n",
       "                         {'name': 'Image_535786.jpg',\n",
       "                          'avg_det_prob': 0.6041666666666666,\n",
       "                          'avg_det_rate': 0.0}),\n",
       "             '147016': defaultdict(dict,\n",
       "                         {'name': 'Image_147016.jpg',\n",
       "                          'avg_det_prob': 0.6,\n",
       "                          'avg_det_rate': 0.0}),\n",
       "             '343322': defaultdict(dict,\n",
       "                         {'name': 'Image_343322.jpg',\n",
       "                          'avg_det_prob': 0.5125,\n",
       "                          'avg_det_rate': 0.0}),\n",
       "             '412198': defaultdict(dict,\n",
       "                         {'name': 'Image_412198.jpg',\n",
       "                          'avg_det_prob': 0.4541666666666666,\n",
       "                          'avg_det_rate': 0.0}),\n",
       "             '77806': defaultdict(dict,\n",
       "                         {'name': 'Image_77806.jpg',\n",
       "                          'avg_det_prob': 0.5625000000000001,\n",
       "                          'avg_det_rate': 0.0}),\n",
       "             '168194': defaultdict(dict,\n",
       "                         {'name': 'Image_168194.jpg',\n",
       "                          'avg_det_prob': 0.525,\n",
       "                          'avg_det_rate': 0.0}),\n",
       "             '303291': defaultdict(dict,\n",
       "                         {'name': 'Image_303291.jpg',\n",
       "                          'avg_det_prob': 0.55,\n",
       "                          'avg_det_rate': 0.0}),\n",
       "             '491269': defaultdict(dict,\n",
       "                         {'name': 'Image_491269.jpg',\n",
       "                          'avg_det_prob': 0.5541666666666667,\n",
       "                          'avg_det_rate': 0.0}),\n",
       "             '530683': defaultdict(dict,\n",
       "                         {'name': 'Image_530683.jpg',\n",
       "                          'avg_det_prob': 0.475,\n",
       "                          'avg_det_rate': 0.0}),\n",
       "             '172899': defaultdict(dict,\n",
       "                         {'name': 'Image_172899.jpg',\n",
       "                          'avg_det_prob': 0.6,\n",
       "                          'avg_det_rate': 0.0}),\n",
       "             '267688': defaultdict(dict,\n",
       "                         {'name': 'Image_267688.jpg',\n",
       "                          'avg_det_prob': 0.5249999999999999,\n",
       "                          'avg_det_rate': 0.0}),\n",
       "             '523617': defaultdict(dict,\n",
       "                         {'name': 'Image_523617.jpg',\n",
       "                          'avg_det_prob': 0.6041666666666666,\n",
       "                          'avg_det_rate': 0.0}),\n",
       "             '426038': defaultdict(dict,\n",
       "                         {'name': 'Image_426038.jpg',\n",
       "                          'avg_det_prob': 0.5416666666666667,\n",
       "                          'avg_det_rate': 0.0}),\n",
       "             '214704': defaultdict(dict,\n",
       "                         {'name': 'Image_214704.jpg',\n",
       "                          'avg_det_prob': 0.6291666666666667,\n",
       "                          'avg_det_rate': 0.0}),\n",
       "             '497616': defaultdict(dict,\n",
       "                         {'name': 'Image_497616.jpg',\n",
       "                          'avg_det_prob': 0.5083333333333333,\n",
       "                          'avg_det_rate': 0.0}),\n",
       "             '179620': defaultdict(dict,\n",
       "                         {'name': 'Image_179620.jpg',\n",
       "                          'avg_det_prob': 0.6083333333333333,\n",
       "                          'avg_det_rate': 0.0}),\n",
       "             '42493': defaultdict(dict,\n",
       "                         {'name': 'Image_42493.jpg',\n",
       "                          'avg_det_prob': 0.5666666666666667,\n",
       "                          'avg_det_rate': 0.0}),\n",
       "             '62426': defaultdict(dict,\n",
       "                         {'name': 'Image_62426.jpg',\n",
       "                          'avg_det_prob': 0.5583333333333333,\n",
       "                          'avg_det_rate': 0.0}),\n",
       "             '543877': defaultdict(dict,\n",
       "                         {'name': 'Image_543877.jpg',\n",
       "                          'avg_det_prob': 0.55,\n",
       "                          'avg_det_rate': 0.0}),\n",
       "             '160163': defaultdict(dict,\n",
       "                         {'name': 'Image_160163.jpg',\n",
       "                          'avg_det_prob': 0.5874999999999999,\n",
       "                          'avg_det_rate': 0.0}),\n",
       "             '167603': defaultdict(dict,\n",
       "                         {'name': 'Image_167603.jpg',\n",
       "                          'avg_det_prob': 0.5583333333333333,\n",
       "                          'avg_det_rate': 0.0}),\n",
       "             '218956': defaultdict(dict,\n",
       "                         {'name': 'Image_218956.jpg',\n",
       "                          'avg_det_prob': 0.5069444444444444,\n",
       "                          'avg_det_rate': 0.0}),\n",
       "             '147170': defaultdict(dict,\n",
       "                         {'name': 'Image_147170.jpg',\n",
       "                          'avg_det_prob': 0.6083333333333333,\n",
       "                          'avg_det_rate': 0.0}),\n",
       "             '283524': defaultdict(dict,\n",
       "                         {'name': 'Image_283524.jpg',\n",
       "                          'avg_det_prob': 0.5541666666666666,\n",
       "                          'avg_det_rate': 0.0}),\n",
       "             '37015': defaultdict(dict,\n",
       "                         {'name': 'Image_37015.jpg',\n",
       "                          'avg_det_prob': 0.4833333333333334,\n",
       "                          'avg_det_rate': 0.0}),\n",
       "             '213546': defaultdict(dict,\n",
       "                         {'name': 'Image_213546.jpg',\n",
       "                          'avg_det_prob': 0.47916666666666663,\n",
       "                          'avg_det_rate': 0.0}),\n",
       "             '528906': defaultdict(dict,\n",
       "                         {'name': 'Image_528906.jpg',\n",
       "                          'avg_det_prob': 0.4791666666666667,\n",
       "                          'avg_det_rate': 0.0}),\n",
       "             '454325': defaultdict(dict,\n",
       "                         {'name': 'Image_454325.jpg',\n",
       "                          'avg_det_prob': 0.6125,\n",
       "                          'avg_det_rate': 0.0})})"
      ]
     },
     "execution_count": 31,
     "metadata": {},
     "output_type": "execute_result"
    }
   ],
   "source": [
    "paraphrase_detection"
   ]
  },
  {
   "cell_type": "code",
   "execution_count": 32,
   "metadata": {},
   "outputs": [
    {
     "data": {
      "text/plain": [
       "200"
      ]
     },
     "execution_count": 32,
     "metadata": {},
     "output_type": "execute_result"
    }
   ],
   "source": [
    "len(paraphrase_detection)"
   ]
  },
  {
   "cell_type": "code",
   "execution_count": 33,
   "metadata": {},
   "outputs": [],
   "source": [
    "with open(\"/raid/home/ashhar21137/watermarking3/stable_signature/stable_sig_0.15_paraphrased.json\",\"w\") as file : \n",
    "    json.dump(paraphrase_detection,file,indent=4)\n"
   ]
  },
  {
   "cell_type": "code",
   "execution_count": null,
   "metadata": {},
   "outputs": [],
   "source": []
  }
 ],
 "metadata": {
  "kernelspec": {
   "display_name": "zodiac",
   "language": "python",
   "name": "python3"
  },
  "language_info": {
   "codemirror_mode": {
    "name": "ipython",
    "version": 3
   },
   "file_extension": ".py",
   "mimetype": "text/x-python",
   "name": "python",
   "nbconvert_exporter": "python",
   "pygments_lexer": "ipython3",
   "version": "3.10.13"
  }
 },
 "nbformat": 4,
 "nbformat_minor": 2
}
